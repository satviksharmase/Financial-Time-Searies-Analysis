{
  "nbformat": 4,
  "nbformat_minor": 0,
  "metadata": {
    "colab": {
      "provenance": []
    },
    "kernelspec": {
      "name": "python3",
      "display_name": "Python 3"
    },
    "language_info": {
      "name": "python"
    }
  },
  "cells": [
    {
      "cell_type": "code",
      "execution_count": 48,
      "metadata": {
        "id": "ZVEUR9Z46zJ7"
      },
      "outputs": [],
      "source": [
        "import pandas as pd\n",
        "import numpy as np\n",
        "import matplotlib.pyplot as plt\n",
        "\n",
        "import tensorflow as tf\n",
        "from tensorflow.keras.layers import Dense, Input, GlobalMaxPool1D, GRU,LSTM, Bidirectional\n",
        "from tensorflow.keras.models import Model\n",
        "from tensorflow.keras.callbacks import ModelCheckpoint\n",
        "\n",
        "import math\n",
        "\n",
        "from sklearn.metrics import r2_score\n",
        "from sklearn.metrics import mean_absolute_error\n",
        "from sklearn.metrics import mean_squared_error\n",
        "\n",
        "np.random.seed(123)\n",
        "tf.random.set_seed(123)"
      ]
    },
    {
      "cell_type": "code",
      "source": [
        "df=pd.read_csv('./HDFC.csv',index_col='Date',parse_dates=True)"
      ],
      "metadata": {
        "id": "hGNJlPX-7FQ_"
      },
      "execution_count": 49,
      "outputs": []
    },
    {
      "cell_type": "code",
      "source": [
        "df"
      ],
      "metadata": {
        "colab": {
          "base_uri": "https://localhost:8080/",
          "height": 710
        },
        "id": "_fw_w6SY7PDd",
        "outputId": "5e246775-8c5d-428e-c705-324720bf41d0"
      },
      "execution_count": 50,
      "outputs": [
        {
          "output_type": "execute_result",
          "data": {
            "text/plain": [
              "           Symbol Series  Prev Close     Open     High      Low     Last  \\\n",
              "Date                                                                       \n",
              "2000-01-03   HDFC     EQ      271.75   293.50   293.50   293.50   293.50   \n",
              "2000-01-04   HDFC     EQ      293.50   317.00   317.00   297.00   304.00   \n",
              "2000-01-05   HDFC     EQ      304.05   290.00   303.90   285.00   295.00   \n",
              "2000-01-06   HDFC     EQ      292.80   301.00   314.00   295.00   296.00   \n",
              "2000-01-07   HDFC     EQ      296.45   290.00   296.35   281.00   287.10   \n",
              "...           ...    ...         ...      ...      ...      ...      ...   \n",
              "2021-04-26   HDFC     EQ     2497.35  2500.00  2534.10  2483.20  2502.00   \n",
              "2021-04-27   HDFC     EQ     2509.80  2494.15  2526.80  2486.25  2514.00   \n",
              "2021-04-28   HDFC     EQ     2518.40  2516.10  2609.00  2508.30  2575.00   \n",
              "2021-04-29   HDFC     EQ     2577.00  2590.90  2628.00  2533.00  2539.70   \n",
              "2021-04-30   HDFC     EQ     2538.85  2503.10  2525.00  2411.10  2433.25   \n",
              "\n",
              "              Close     VWAP   Volume      Turnover    Trades  \\\n",
              "Date                                                            \n",
              "2000-01-03   293.50   293.50    22744  6.675364e+11       NaN   \n",
              "2000-01-04   304.05   303.62   255251  7.749972e+12       NaN   \n",
              "2000-01-05   292.80   294.53   269087  7.925368e+12       NaN   \n",
              "2000-01-06   296.45   300.14   305916  9.181669e+12       NaN   \n",
              "2000-01-07   286.55   288.80   197039  5.690480e+12       NaN   \n",
              "...             ...      ...      ...           ...       ...   \n",
              "2021-04-26  2509.80  2508.07  3916088  9.821805e+14  121028.0   \n",
              "2021-04-27  2518.40  2509.18  2040799  5.120730e+14  102250.0   \n",
              "2021-04-28  2577.00  2574.21  3407461  8.771527e+14  117425.0   \n",
              "2021-04-29  2538.85  2569.65  3005468  7.722995e+14  132826.0   \n",
              "2021-04-30  2420.10  2445.94  6024595  1.473581e+15  224454.0   \n",
              "\n",
              "            Deliverable Volume  %Deliverble  \n",
              "Date                                         \n",
              "2000-01-03                 NaN          NaN  \n",
              "2000-01-04                 NaN          NaN  \n",
              "2000-01-05                 NaN          NaN  \n",
              "2000-01-06                 NaN          NaN  \n",
              "2000-01-07                 NaN          NaN  \n",
              "...                        ...          ...  \n",
              "2021-04-26           2440395.0       0.6232  \n",
              "2021-04-27           1040749.0       0.5100  \n",
              "2021-04-28           1815110.0       0.5327  \n",
              "2021-04-29           1472924.0       0.4901  \n",
              "2021-04-30           3839105.0       0.6372  \n",
              "\n",
              "[5306 rows x 14 columns]"
            ],
            "text/html": [
              "\n",
              "  <div id=\"df-c4d84805-eeac-4921-935c-9a60e5aa501e\">\n",
              "    <div class=\"colab-df-container\">\n",
              "      <div>\n",
              "<style scoped>\n",
              "    .dataframe tbody tr th:only-of-type {\n",
              "        vertical-align: middle;\n",
              "    }\n",
              "\n",
              "    .dataframe tbody tr th {\n",
              "        vertical-align: top;\n",
              "    }\n",
              "\n",
              "    .dataframe thead th {\n",
              "        text-align: right;\n",
              "    }\n",
              "</style>\n",
              "<table border=\"1\" class=\"dataframe\">\n",
              "  <thead>\n",
              "    <tr style=\"text-align: right;\">\n",
              "      <th></th>\n",
              "      <th>Symbol</th>\n",
              "      <th>Series</th>\n",
              "      <th>Prev Close</th>\n",
              "      <th>Open</th>\n",
              "      <th>High</th>\n",
              "      <th>Low</th>\n",
              "      <th>Last</th>\n",
              "      <th>Close</th>\n",
              "      <th>VWAP</th>\n",
              "      <th>Volume</th>\n",
              "      <th>Turnover</th>\n",
              "      <th>Trades</th>\n",
              "      <th>Deliverable Volume</th>\n",
              "      <th>%Deliverble</th>\n",
              "    </tr>\n",
              "    <tr>\n",
              "      <th>Date</th>\n",
              "      <th></th>\n",
              "      <th></th>\n",
              "      <th></th>\n",
              "      <th></th>\n",
              "      <th></th>\n",
              "      <th></th>\n",
              "      <th></th>\n",
              "      <th></th>\n",
              "      <th></th>\n",
              "      <th></th>\n",
              "      <th></th>\n",
              "      <th></th>\n",
              "      <th></th>\n",
              "      <th></th>\n",
              "    </tr>\n",
              "  </thead>\n",
              "  <tbody>\n",
              "    <tr>\n",
              "      <th>2000-01-03</th>\n",
              "      <td>HDFC</td>\n",
              "      <td>EQ</td>\n",
              "      <td>271.75</td>\n",
              "      <td>293.50</td>\n",
              "      <td>293.50</td>\n",
              "      <td>293.50</td>\n",
              "      <td>293.50</td>\n",
              "      <td>293.50</td>\n",
              "      <td>293.50</td>\n",
              "      <td>22744</td>\n",
              "      <td>6.675364e+11</td>\n",
              "      <td>NaN</td>\n",
              "      <td>NaN</td>\n",
              "      <td>NaN</td>\n",
              "    </tr>\n",
              "    <tr>\n",
              "      <th>2000-01-04</th>\n",
              "      <td>HDFC</td>\n",
              "      <td>EQ</td>\n",
              "      <td>293.50</td>\n",
              "      <td>317.00</td>\n",
              "      <td>317.00</td>\n",
              "      <td>297.00</td>\n",
              "      <td>304.00</td>\n",
              "      <td>304.05</td>\n",
              "      <td>303.62</td>\n",
              "      <td>255251</td>\n",
              "      <td>7.749972e+12</td>\n",
              "      <td>NaN</td>\n",
              "      <td>NaN</td>\n",
              "      <td>NaN</td>\n",
              "    </tr>\n",
              "    <tr>\n",
              "      <th>2000-01-05</th>\n",
              "      <td>HDFC</td>\n",
              "      <td>EQ</td>\n",
              "      <td>304.05</td>\n",
              "      <td>290.00</td>\n",
              "      <td>303.90</td>\n",
              "      <td>285.00</td>\n",
              "      <td>295.00</td>\n",
              "      <td>292.80</td>\n",
              "      <td>294.53</td>\n",
              "      <td>269087</td>\n",
              "      <td>7.925368e+12</td>\n",
              "      <td>NaN</td>\n",
              "      <td>NaN</td>\n",
              "      <td>NaN</td>\n",
              "    </tr>\n",
              "    <tr>\n",
              "      <th>2000-01-06</th>\n",
              "      <td>HDFC</td>\n",
              "      <td>EQ</td>\n",
              "      <td>292.80</td>\n",
              "      <td>301.00</td>\n",
              "      <td>314.00</td>\n",
              "      <td>295.00</td>\n",
              "      <td>296.00</td>\n",
              "      <td>296.45</td>\n",
              "      <td>300.14</td>\n",
              "      <td>305916</td>\n",
              "      <td>9.181669e+12</td>\n",
              "      <td>NaN</td>\n",
              "      <td>NaN</td>\n",
              "      <td>NaN</td>\n",
              "    </tr>\n",
              "    <tr>\n",
              "      <th>2000-01-07</th>\n",
              "      <td>HDFC</td>\n",
              "      <td>EQ</td>\n",
              "      <td>296.45</td>\n",
              "      <td>290.00</td>\n",
              "      <td>296.35</td>\n",
              "      <td>281.00</td>\n",
              "      <td>287.10</td>\n",
              "      <td>286.55</td>\n",
              "      <td>288.80</td>\n",
              "      <td>197039</td>\n",
              "      <td>5.690480e+12</td>\n",
              "      <td>NaN</td>\n",
              "      <td>NaN</td>\n",
              "      <td>NaN</td>\n",
              "    </tr>\n",
              "    <tr>\n",
              "      <th>...</th>\n",
              "      <td>...</td>\n",
              "      <td>...</td>\n",
              "      <td>...</td>\n",
              "      <td>...</td>\n",
              "      <td>...</td>\n",
              "      <td>...</td>\n",
              "      <td>...</td>\n",
              "      <td>...</td>\n",
              "      <td>...</td>\n",
              "      <td>...</td>\n",
              "      <td>...</td>\n",
              "      <td>...</td>\n",
              "      <td>...</td>\n",
              "      <td>...</td>\n",
              "    </tr>\n",
              "    <tr>\n",
              "      <th>2021-04-26</th>\n",
              "      <td>HDFC</td>\n",
              "      <td>EQ</td>\n",
              "      <td>2497.35</td>\n",
              "      <td>2500.00</td>\n",
              "      <td>2534.10</td>\n",
              "      <td>2483.20</td>\n",
              "      <td>2502.00</td>\n",
              "      <td>2509.80</td>\n",
              "      <td>2508.07</td>\n",
              "      <td>3916088</td>\n",
              "      <td>9.821805e+14</td>\n",
              "      <td>121028.0</td>\n",
              "      <td>2440395.0</td>\n",
              "      <td>0.6232</td>\n",
              "    </tr>\n",
              "    <tr>\n",
              "      <th>2021-04-27</th>\n",
              "      <td>HDFC</td>\n",
              "      <td>EQ</td>\n",
              "      <td>2509.80</td>\n",
              "      <td>2494.15</td>\n",
              "      <td>2526.80</td>\n",
              "      <td>2486.25</td>\n",
              "      <td>2514.00</td>\n",
              "      <td>2518.40</td>\n",
              "      <td>2509.18</td>\n",
              "      <td>2040799</td>\n",
              "      <td>5.120730e+14</td>\n",
              "      <td>102250.0</td>\n",
              "      <td>1040749.0</td>\n",
              "      <td>0.5100</td>\n",
              "    </tr>\n",
              "    <tr>\n",
              "      <th>2021-04-28</th>\n",
              "      <td>HDFC</td>\n",
              "      <td>EQ</td>\n",
              "      <td>2518.40</td>\n",
              "      <td>2516.10</td>\n",
              "      <td>2609.00</td>\n",
              "      <td>2508.30</td>\n",
              "      <td>2575.00</td>\n",
              "      <td>2577.00</td>\n",
              "      <td>2574.21</td>\n",
              "      <td>3407461</td>\n",
              "      <td>8.771527e+14</td>\n",
              "      <td>117425.0</td>\n",
              "      <td>1815110.0</td>\n",
              "      <td>0.5327</td>\n",
              "    </tr>\n",
              "    <tr>\n",
              "      <th>2021-04-29</th>\n",
              "      <td>HDFC</td>\n",
              "      <td>EQ</td>\n",
              "      <td>2577.00</td>\n",
              "      <td>2590.90</td>\n",
              "      <td>2628.00</td>\n",
              "      <td>2533.00</td>\n",
              "      <td>2539.70</td>\n",
              "      <td>2538.85</td>\n",
              "      <td>2569.65</td>\n",
              "      <td>3005468</td>\n",
              "      <td>7.722995e+14</td>\n",
              "      <td>132826.0</td>\n",
              "      <td>1472924.0</td>\n",
              "      <td>0.4901</td>\n",
              "    </tr>\n",
              "    <tr>\n",
              "      <th>2021-04-30</th>\n",
              "      <td>HDFC</td>\n",
              "      <td>EQ</td>\n",
              "      <td>2538.85</td>\n",
              "      <td>2503.10</td>\n",
              "      <td>2525.00</td>\n",
              "      <td>2411.10</td>\n",
              "      <td>2433.25</td>\n",
              "      <td>2420.10</td>\n",
              "      <td>2445.94</td>\n",
              "      <td>6024595</td>\n",
              "      <td>1.473581e+15</td>\n",
              "      <td>224454.0</td>\n",
              "      <td>3839105.0</td>\n",
              "      <td>0.6372</td>\n",
              "    </tr>\n",
              "  </tbody>\n",
              "</table>\n",
              "<p>5306 rows × 14 columns</p>\n",
              "</div>\n",
              "      <button class=\"colab-df-convert\" onclick=\"convertToInteractive('df-c4d84805-eeac-4921-935c-9a60e5aa501e')\"\n",
              "              title=\"Convert this dataframe to an interactive table.\"\n",
              "              style=\"display:none;\">\n",
              "        \n",
              "  <svg xmlns=\"http://www.w3.org/2000/svg\" height=\"24px\"viewBox=\"0 0 24 24\"\n",
              "       width=\"24px\">\n",
              "    <path d=\"M0 0h24v24H0V0z\" fill=\"none\"/>\n",
              "    <path d=\"M18.56 5.44l.94 2.06.94-2.06 2.06-.94-2.06-.94-.94-2.06-.94 2.06-2.06.94zm-11 1L8.5 8.5l.94-2.06 2.06-.94-2.06-.94L8.5 2.5l-.94 2.06-2.06.94zm10 10l.94 2.06.94-2.06 2.06-.94-2.06-.94-.94-2.06-.94 2.06-2.06.94z\"/><path d=\"M17.41 7.96l-1.37-1.37c-.4-.4-.92-.59-1.43-.59-.52 0-1.04.2-1.43.59L10.3 9.45l-7.72 7.72c-.78.78-.78 2.05 0 2.83L4 21.41c.39.39.9.59 1.41.59.51 0 1.02-.2 1.41-.59l7.78-7.78 2.81-2.81c.8-.78.8-2.07 0-2.86zM5.41 20L4 18.59l7.72-7.72 1.47 1.35L5.41 20z\"/>\n",
              "  </svg>\n",
              "      </button>\n",
              "      \n",
              "  <style>\n",
              "    .colab-df-container {\n",
              "      display:flex;\n",
              "      flex-wrap:wrap;\n",
              "      gap: 12px;\n",
              "    }\n",
              "\n",
              "    .colab-df-convert {\n",
              "      background-color: #E8F0FE;\n",
              "      border: none;\n",
              "      border-radius: 50%;\n",
              "      cursor: pointer;\n",
              "      display: none;\n",
              "      fill: #1967D2;\n",
              "      height: 32px;\n",
              "      padding: 0 0 0 0;\n",
              "      width: 32px;\n",
              "    }\n",
              "\n",
              "    .colab-df-convert:hover {\n",
              "      background-color: #E2EBFA;\n",
              "      box-shadow: 0px 1px 2px rgba(60, 64, 67, 0.3), 0px 1px 3px 1px rgba(60, 64, 67, 0.15);\n",
              "      fill: #174EA6;\n",
              "    }\n",
              "\n",
              "    [theme=dark] .colab-df-convert {\n",
              "      background-color: #3B4455;\n",
              "      fill: #D2E3FC;\n",
              "    }\n",
              "\n",
              "    [theme=dark] .colab-df-convert:hover {\n",
              "      background-color: #434B5C;\n",
              "      box-shadow: 0px 1px 3px 1px rgba(0, 0, 0, 0.15);\n",
              "      filter: drop-shadow(0px 1px 2px rgba(0, 0, 0, 0.3));\n",
              "      fill: #FFFFFF;\n",
              "    }\n",
              "  </style>\n",
              "\n",
              "      <script>\n",
              "        const buttonEl =\n",
              "          document.querySelector('#df-c4d84805-eeac-4921-935c-9a60e5aa501e button.colab-df-convert');\n",
              "        buttonEl.style.display =\n",
              "          google.colab.kernel.accessAllowed ? 'block' : 'none';\n",
              "\n",
              "        async function convertToInteractive(key) {\n",
              "          const element = document.querySelector('#df-c4d84805-eeac-4921-935c-9a60e5aa501e');\n",
              "          const dataTable =\n",
              "            await google.colab.kernel.invokeFunction('convertToInteractive',\n",
              "                                                     [key], {});\n",
              "          if (!dataTable) return;\n",
              "\n",
              "          const docLinkHtml = 'Like what you see? Visit the ' +\n",
              "            '<a target=\"_blank\" href=https://colab.research.google.com/notebooks/data_table.ipynb>data table notebook</a>'\n",
              "            + ' to learn more about interactive tables.';\n",
              "          element.innerHTML = '';\n",
              "          dataTable['output_type'] = 'display_data';\n",
              "          await google.colab.output.renderOutput(dataTable, element);\n",
              "          const docLink = document.createElement('div');\n",
              "          docLink.innerHTML = docLinkHtml;\n",
              "          element.appendChild(docLink);\n",
              "        }\n",
              "      </script>\n",
              "    </div>\n",
              "  </div>\n",
              "  "
            ]
          },
          "metadata": {},
          "execution_count": 50
        }
      ]
    },
    {
      "cell_type": "code",
      "source": [
        "df['Date']=df.index"
      ],
      "metadata": {
        "id": "zwmfESni7gKn"
      },
      "execution_count": 51,
      "outputs": []
    },
    {
      "cell_type": "code",
      "source": [
        "start_date='2020-01-01'\n",
        "end_date='2020-12-31'\n",
        "mask=(df['Date']>=start_date)&(df['Date']<=end_date)"
      ],
      "metadata": {
        "id": "R6njdWuX7i6e"
      },
      "execution_count": 52,
      "outputs": []
    },
    {
      "cell_type": "code",
      "source": [
        "df=df.loc[mask]"
      ],
      "metadata": {
        "id": "1gvhNCc_7lCh"
      },
      "execution_count": 53,
      "outputs": []
    },
    {
      "cell_type": "code",
      "source": [
        "df=df.loc[mask]"
      ],
      "metadata": {
        "id": "H7T84rNE7lFn"
      },
      "execution_count": 54,
      "outputs": []
    },
    {
      "cell_type": "code",
      "source": [
        "df=df.drop(columns=['Series','Symbol','Open','High','Low','Last','Close','VWAP','Volume','Turnover','Trades','Deliverable Volume','%Deliverble','Date'])"
      ],
      "metadata": {
        "id": "KosKVO_j7lIn"
      },
      "execution_count": 55,
      "outputs": []
    },
    {
      "cell_type": "code",
      "source": [
        "Ntest=math.trunc(0.3*len(df))\n",
        "train=df.iloc[:-Ntest]\n",
        "test=df.iloc[-Ntest:]"
      ],
      "metadata": {
        "id": "7YW96kEv7lLh"
      },
      "execution_count": 56,
      "outputs": []
    },
    {
      "cell_type": "code",
      "source": [
        "train_idx=df.index<=train.index[-1]\n",
        "test_idx=df.index>train.index[-1]"
      ],
      "metadata": {
        "id": "NhwqMQ7r7lOX"
      },
      "execution_count": 57,
      "outputs": []
    },
    {
      "cell_type": "code",
      "source": [
        "df['Diff Prev Close']=df['Prev Close'].diff()"
      ],
      "metadata": {
        "id": "QtuPaMDJ7lQ_"
      },
      "execution_count": 58,
      "outputs": []
    },
    {
      "cell_type": "code",
      "source": [
        "series=df['Diff Prev Close'].dropna().to_numpy()\n",
        "\n",
        "T=50\n",
        "X=[]\n",
        "Y=[]\n",
        "for t in range(len(series)-T):\n",
        "  x=series[t:t+T]\n",
        "  X.append(x)\n",
        "  y=series[t+T]\n",
        "  Y.append(y)\n",
        "\n",
        "X=np.array(X).reshape(-1,T)\n",
        "Y=np.array(Y)\n",
        "N=len(X)\n",
        "print(\"X.shape\",X.shape,\"Y.shape\",Y.shape)"
      ],
      "metadata": {
        "colab": {
          "base_uri": "https://localhost:8080/"
        },
        "id": "WJeTN9cL7tkq",
        "outputId": "e2ad7e13-d318-4067-f8f6-ac7407cbed98"
      },
      "execution_count": 59,
      "outputs": [
        {
          "output_type": "stream",
          "name": "stdout",
          "text": [
            "X.shape (201, 50) Y.shape (201,)\n"
          ]
        }
      ]
    },
    {
      "cell_type": "code",
      "source": [
        "Xtrain,Ytrain=X[:-Ntest],Y[:-Ntest]\n",
        "Xtest,Ytest=X[-Ntest:],Y[-Ntest:]"
      ],
      "metadata": {
        "id": "dE1vSivZ7tn-"
      },
      "execution_count": 60,
      "outputs": []
    },
    {
      "cell_type": "markdown",
      "source": [
        "Bi-LSTM"
      ],
      "metadata": {
        "id": "Y6SYTxcf8HrV"
      }
    },
    {
      "cell_type": "code",
      "source": [
        "i=Input(shape=(T,1))\n",
        "x=Bidirectional(LSTM(200,return_sequences=True))(i)\n",
        "x=Bidirectional(LSTM(200,return_sequences=True))(x)\n",
        "x=GlobalMaxPool1D()(x)\n",
        "x=Dense(100)(x)\n",
        "x=Dense(50)(x)\n",
        "x=Dense(1)(x)\n",
        "model_bi_lstm=Model(i,x)\n",
        "model_bi_lstm.summary()"
      ],
      "metadata": {
        "colab": {
          "base_uri": "https://localhost:8080/"
        },
        "id": "uk3JcnRf7trE",
        "outputId": "3f198e0a-62e7-4ead-ca86-d6a9a5d7503c"
      },
      "execution_count": 61,
      "outputs": [
        {
          "output_type": "stream",
          "name": "stdout",
          "text": [
            "Model: \"model_4\"\n",
            "_________________________________________________________________\n",
            " Layer (type)                Output Shape              Param #   \n",
            "=================================================================\n",
            " input_5 (InputLayer)        [(None, 50, 1)]           0         \n",
            "                                                                 \n",
            " bidirectional_8 (Bidirectio  (None, 50, 400)          323200    \n",
            " nal)                                                            \n",
            "                                                                 \n",
            " bidirectional_9 (Bidirectio  (None, 50, 400)          961600    \n",
            " nal)                                                            \n",
            "                                                                 \n",
            " global_max_pooling1d_4 (Glo  (None, 400)              0         \n",
            " balMaxPooling1D)                                                \n",
            "                                                                 \n",
            " dense_12 (Dense)            (None, 100)               40100     \n",
            "                                                                 \n",
            " dense_13 (Dense)            (None, 50)                5050      \n",
            "                                                                 \n",
            " dense_14 (Dense)            (None, 1)                 51        \n",
            "                                                                 \n",
            "=================================================================\n",
            "Total params: 1,330,001\n",
            "Trainable params: 1,330,001\n",
            "Non-trainable params: 0\n",
            "_________________________________________________________________\n"
          ]
        }
      ]
    },
    {
      "cell_type": "code",
      "source": [
        "check_point_bi_lstm=ModelCheckpoint('best_model.h5',monitor='val_loss',save_best_only=True)"
      ],
      "metadata": {
        "id": "9NtxtRQm7tuD"
      },
      "execution_count": 62,
      "outputs": []
    },
    {
      "cell_type": "code",
      "source": [
        "model_bi_lstm.compile(loss='mse',\n",
        "              optimizer='adamax',\n",
        "              metrics=['mae','mse'])"
      ],
      "metadata": {
        "id": "Tb0KBami7txT"
      },
      "execution_count": 63,
      "outputs": []
    },
    {
      "cell_type": "code",
      "source": [
        "r=model_bi_lstm.fit(\n",
        "    Xtrain,\n",
        "    Ytrain,\n",
        "    epochs=100,\n",
        "    validation_data=(Xtest,Ytest),\n",
        "    callbacks=[check_point_bi_lstm]\n",
        ")"
      ],
      "metadata": {
        "colab": {
          "base_uri": "https://localhost:8080/"
        },
        "id": "Dl_RedqY7t0c",
        "outputId": "eaeb9a98-3ac0-4fe2-e21c-9c6059044574"
      },
      "execution_count": 64,
      "outputs": [
        {
          "output_type": "stream",
          "name": "stdout",
          "text": [
            "Epoch 1/100\n",
            "4/4 [==============================] - 12s 1s/step - loss: 4455.4854 - mae: 46.1690 - mse: 4455.4854 - val_loss: 1973.9777 - val_mae: 32.9207 - val_mse: 1973.9777\n",
            "Epoch 2/100\n",
            "4/4 [==============================] - 3s 775ms/step - loss: 4402.2788 - mae: 45.7610 - mse: 4402.2788 - val_loss: 1893.1577 - val_mae: 32.2673 - val_mse: 1893.1577\n",
            "Epoch 3/100\n",
            "4/4 [==============================] - 3s 770ms/step - loss: 4386.1914 - mae: 45.7671 - mse: 4386.1914 - val_loss: 1874.7538 - val_mae: 32.1075 - val_mse: 1874.7538\n",
            "Epoch 4/100\n",
            "4/4 [==============================] - 3s 776ms/step - loss: 4380.8896 - mae: 45.7012 - mse: 4380.8896 - val_loss: 1870.6798 - val_mae: 32.0740 - val_mse: 1870.6798\n",
            "Epoch 5/100\n",
            "4/4 [==============================] - 3s 752ms/step - loss: 4372.4106 - mae: 45.6572 - mse: 4372.4106 - val_loss: 1884.1562 - val_mae: 32.1943 - val_mse: 1884.1562\n",
            "Epoch 6/100\n",
            "4/4 [==============================] - 3s 737ms/step - loss: 4366.8521 - mae: 45.6072 - mse: 4366.8521 - val_loss: 1896.0920 - val_mae: 32.2984 - val_mse: 1896.0920\n",
            "Epoch 7/100\n",
            "4/4 [==============================] - 3s 737ms/step - loss: 4361.0088 - mae: 45.5692 - mse: 4361.0088 - val_loss: 1913.1851 - val_mae: 32.4341 - val_mse: 1913.1851\n",
            "Epoch 8/100\n",
            "4/4 [==============================] - 3s 738ms/step - loss: 4354.0273 - mae: 45.5345 - mse: 4354.0273 - val_loss: 1906.5935 - val_mae: 32.3814 - val_mse: 1906.5935\n",
            "Epoch 9/100\n",
            "4/4 [==============================] - 3s 744ms/step - loss: 4342.4282 - mae: 45.4680 - mse: 4342.4282 - val_loss: 1925.0829 - val_mae: 32.5396 - val_mse: 1925.0829\n",
            "Epoch 10/100\n",
            "4/4 [==============================] - 3s 727ms/step - loss: 4339.5786 - mae: 45.4261 - mse: 4339.5786 - val_loss: 1951.9404 - val_mae: 32.7681 - val_mse: 1951.9404\n",
            "Epoch 11/100\n",
            "4/4 [==============================] - 3s 744ms/step - loss: 4320.8418 - mae: 45.3968 - mse: 4320.8418 - val_loss: 1929.7937 - val_mae: 32.5836 - val_mse: 1929.7937\n",
            "Epoch 12/100\n",
            "4/4 [==============================] - 3s 731ms/step - loss: 4294.9673 - mae: 45.2474 - mse: 4294.9673 - val_loss: 1937.5537 - val_mae: 32.6747 - val_mse: 1937.5537\n",
            "Epoch 13/100\n",
            "4/4 [==============================] - 3s 746ms/step - loss: 4277.7808 - mae: 45.1209 - mse: 4277.7808 - val_loss: 1952.4769 - val_mae: 32.8023 - val_mse: 1952.4767\n",
            "Epoch 14/100\n",
            "4/4 [==============================] - 3s 733ms/step - loss: 4238.6450 - mae: 44.8822 - mse: 4238.6450 - val_loss: 1955.7998 - val_mae: 32.8366 - val_mse: 1955.7998\n",
            "Epoch 15/100\n",
            "4/4 [==============================] - 3s 733ms/step - loss: 4206.7925 - mae: 44.7463 - mse: 4206.7925 - val_loss: 2002.4187 - val_mae: 33.2266 - val_mse: 2002.4187\n",
            "Epoch 16/100\n",
            "4/4 [==============================] - 3s 731ms/step - loss: 4165.3047 - mae: 44.4858 - mse: 4165.3047 - val_loss: 2052.5190 - val_mae: 33.6118 - val_mse: 2052.5190\n",
            "Epoch 17/100\n",
            "4/4 [==============================] - 3s 735ms/step - loss: 4116.8813 - mae: 44.0861 - mse: 4116.8813 - val_loss: 2065.6934 - val_mae: 33.7307 - val_mse: 2065.6934\n",
            "Epoch 18/100\n",
            "4/4 [==============================] - 3s 740ms/step - loss: 4064.1299 - mae: 43.9593 - mse: 4064.1299 - val_loss: 2089.2678 - val_mae: 33.9294 - val_mse: 2089.2678\n",
            "Epoch 19/100\n",
            "4/4 [==============================] - 3s 749ms/step - loss: 4053.1423 - mae: 43.5699 - mse: 4053.1423 - val_loss: 2289.6768 - val_mae: 35.6005 - val_mse: 2289.6768\n",
            "Epoch 20/100\n",
            "4/4 [==============================] - 3s 752ms/step - loss: 3921.7244 - mae: 43.0013 - mse: 3921.7246 - val_loss: 2122.1443 - val_mae: 34.1585 - val_mse: 2122.1443\n",
            "Epoch 21/100\n",
            "4/4 [==============================] - 3s 729ms/step - loss: 3859.9329 - mae: 42.8402 - mse: 3859.9329 - val_loss: 2279.0806 - val_mae: 35.7090 - val_mse: 2279.0806\n",
            "Epoch 22/100\n",
            "4/4 [==============================] - 3s 756ms/step - loss: 3790.2068 - mae: 42.2036 - mse: 3790.2068 - val_loss: 2781.0278 - val_mae: 40.2608 - val_mse: 2781.0278\n",
            "Epoch 23/100\n",
            "4/4 [==============================] - 3s 732ms/step - loss: 3678.0571 - mae: 41.9820 - mse: 3678.0571 - val_loss: 2821.8740 - val_mae: 40.6855 - val_mse: 2821.8740\n",
            "Epoch 24/100\n",
            "4/4 [==============================] - 3s 744ms/step - loss: 3583.6387 - mae: 41.4952 - mse: 3583.6387 - val_loss: 2924.3723 - val_mae: 41.8334 - val_mse: 2924.3723\n",
            "Epoch 25/100\n",
            "4/4 [==============================] - 3s 737ms/step - loss: 3493.2417 - mae: 40.6037 - mse: 3493.2417 - val_loss: 2889.1599 - val_mae: 41.9587 - val_mse: 2889.1599\n",
            "Epoch 26/100\n",
            "4/4 [==============================] - 3s 736ms/step - loss: 3355.0872 - mae: 39.7212 - mse: 3355.0872 - val_loss: 3161.3943 - val_mae: 44.4058 - val_mse: 3161.3943\n",
            "Epoch 27/100\n",
            "4/4 [==============================] - 3s 740ms/step - loss: 3307.6143 - mae: 40.5459 - mse: 3307.6143 - val_loss: 3789.1045 - val_mae: 49.3949 - val_mse: 3789.1045\n",
            "Epoch 28/100\n",
            "4/4 [==============================] - 3s 736ms/step - loss: 3216.3254 - mae: 39.4635 - mse: 3216.3254 - val_loss: 4115.3213 - val_mae: 52.0143 - val_mse: 4115.3213\n",
            "Epoch 29/100\n",
            "4/4 [==============================] - 3s 733ms/step - loss: 3179.4709 - mae: 40.2007 - mse: 3179.4709 - val_loss: 3748.1609 - val_mae: 50.0018 - val_mse: 3748.1609\n",
            "Epoch 30/100\n",
            "4/4 [==============================] - 3s 726ms/step - loss: 2913.9380 - mae: 38.0632 - mse: 2913.9380 - val_loss: 5154.5205 - val_mae: 59.2012 - val_mse: 5154.5205\n",
            "Epoch 31/100\n",
            "4/4 [==============================] - 3s 720ms/step - loss: 2826.2839 - mae: 37.1843 - mse: 2826.2839 - val_loss: 5143.5596 - val_mae: 59.2313 - val_mse: 5143.5596\n",
            "Epoch 32/100\n",
            "4/4 [==============================] - 3s 727ms/step - loss: 2725.2559 - mae: 36.8030 - mse: 2725.2559 - val_loss: 5185.7661 - val_mae: 59.6182 - val_mse: 5185.7661\n",
            "Epoch 33/100\n",
            "4/4 [==============================] - 3s 720ms/step - loss: 2678.0369 - mae: 35.7645 - mse: 2678.0369 - val_loss: 5896.9180 - val_mae: 64.0607 - val_mse: 5896.9185\n",
            "Epoch 34/100\n",
            "4/4 [==============================] - 3s 735ms/step - loss: 2441.4016 - mae: 34.4435 - mse: 2441.4016 - val_loss: 6232.7148 - val_mae: 66.4799 - val_mse: 6232.7148\n",
            "Epoch 35/100\n",
            "4/4 [==============================] - 3s 743ms/step - loss: 2228.6458 - mae: 33.7073 - mse: 2228.6458 - val_loss: 6980.6904 - val_mae: 71.3554 - val_mse: 6980.6904\n",
            "Epoch 36/100\n",
            "4/4 [==============================] - 3s 744ms/step - loss: 2089.4673 - mae: 32.4004 - mse: 2089.4673 - val_loss: 7587.4692 - val_mae: 75.0081 - val_mse: 7587.4692\n",
            "Epoch 37/100\n",
            "4/4 [==============================] - 3s 740ms/step - loss: 2008.1294 - mae: 32.0991 - mse: 2008.1294 - val_loss: 8111.8081 - val_mae: 77.4097 - val_mse: 8111.8081\n",
            "Epoch 38/100\n",
            "4/4 [==============================] - 3s 735ms/step - loss: 1958.4231 - mae: 32.3741 - mse: 1958.4231 - val_loss: 9428.9404 - val_mae: 84.2460 - val_mse: 9428.9404\n",
            "Epoch 39/100\n",
            "4/4 [==============================] - 3s 751ms/step - loss: 1788.3673 - mae: 30.3179 - mse: 1788.3673 - val_loss: 10423.5977 - val_mae: 89.7875 - val_mse: 10423.5977\n",
            "Epoch 40/100\n",
            "4/4 [==============================] - 3s 733ms/step - loss: 1777.5822 - mae: 30.7470 - mse: 1777.5822 - val_loss: 10523.2783 - val_mae: 90.8513 - val_mse: 10523.2783\n",
            "Epoch 41/100\n",
            "4/4 [==============================] - 3s 743ms/step - loss: 1560.5471 - mae: 29.4082 - mse: 1560.5471 - val_loss: 12753.5869 - val_mae: 99.6149 - val_mse: 12753.5869\n",
            "Epoch 42/100\n",
            "4/4 [==============================] - 3s 738ms/step - loss: 1453.9822 - mae: 28.3270 - mse: 1453.9822 - val_loss: 12313.9160 - val_mae: 98.0815 - val_mse: 12313.9160\n",
            "Epoch 43/100\n",
            "4/4 [==============================] - 3s 723ms/step - loss: 1299.0079 - mae: 26.8387 - mse: 1299.0079 - val_loss: 14024.1582 - val_mae: 105.2301 - val_mse: 14024.1582\n",
            "Epoch 44/100\n",
            "4/4 [==============================] - 3s 737ms/step - loss: 1204.4508 - mae: 26.2404 - mse: 1204.4508 - val_loss: 14732.1221 - val_mae: 108.1544 - val_mse: 14732.1221\n",
            "Epoch 45/100\n",
            "4/4 [==============================] - 3s 738ms/step - loss: 1127.6799 - mae: 25.0000 - mse: 1127.6799 - val_loss: 17380.1504 - val_mae: 117.6380 - val_mse: 17380.1504\n",
            "Epoch 46/100\n",
            "4/4 [==============================] - 3s 723ms/step - loss: 1042.0562 - mae: 24.3599 - mse: 1042.0562 - val_loss: 16023.0088 - val_mae: 113.4666 - val_mse: 16023.0088\n",
            "Epoch 47/100\n",
            "4/4 [==============================] - 3s 725ms/step - loss: 964.5733 - mae: 22.8465 - mse: 964.5733 - val_loss: 16986.7637 - val_mae: 117.1136 - val_mse: 16986.7637\n",
            "Epoch 48/100\n",
            "4/4 [==============================] - 3s 731ms/step - loss: 869.9466 - mae: 22.1893 - mse: 869.9466 - val_loss: 19072.7656 - val_mae: 124.3289 - val_mse: 19072.7656\n",
            "Epoch 49/100\n",
            "4/4 [==============================] - 3s 725ms/step - loss: 792.7701 - mae: 21.4620 - mse: 792.7701 - val_loss: 20704.0488 - val_mae: 129.3140 - val_mse: 20704.0488\n",
            "Epoch 50/100\n",
            "4/4 [==============================] - 3s 722ms/step - loss: 732.7896 - mae: 20.7474 - mse: 732.7896 - val_loss: 20613.9258 - val_mae: 129.5987 - val_mse: 20613.9258\n",
            "Epoch 51/100\n",
            "4/4 [==============================] - 3s 742ms/step - loss: 664.9761 - mae: 19.1527 - mse: 664.9761 - val_loss: 20586.2754 - val_mae: 129.0556 - val_mse: 20586.2754\n",
            "Epoch 52/100\n",
            "4/4 [==============================] - 3s 715ms/step - loss: 637.1146 - mae: 18.4568 - mse: 637.1146 - val_loss: 23664.7969 - val_mae: 138.0281 - val_mse: 23664.7969\n",
            "Epoch 53/100\n",
            "4/4 [==============================] - 3s 709ms/step - loss: 567.7933 - mae: 17.5266 - mse: 567.7933 - val_loss: 21679.7871 - val_mae: 132.5500 - val_mse: 21679.7871\n",
            "Epoch 54/100\n",
            "4/4 [==============================] - 3s 724ms/step - loss: 523.5682 - mae: 16.3628 - mse: 523.5682 - val_loss: 25887.5957 - val_mae: 144.7568 - val_mse: 25887.5957\n",
            "Epoch 55/100\n",
            "4/4 [==============================] - 3s 725ms/step - loss: 615.5370 - mae: 19.1685 - mse: 615.5370 - val_loss: 25374.6465 - val_mae: 143.9454 - val_mse: 25374.6465\n",
            "Epoch 56/100\n",
            "4/4 [==============================] - 3s 732ms/step - loss: 467.2656 - mae: 15.9390 - mse: 467.2656 - val_loss: 24455.2773 - val_mae: 141.9726 - val_mse: 24455.2773\n",
            "Epoch 57/100\n",
            "4/4 [==============================] - 3s 733ms/step - loss: 427.5238 - mae: 15.1031 - mse: 427.5238 - val_loss: 27790.3965 - val_mae: 150.5205 - val_mse: 27790.3965\n",
            "Epoch 58/100\n",
            "4/4 [==============================] - 3s 732ms/step - loss: 424.8774 - mae: 15.8357 - mse: 424.8774 - val_loss: 22844.9375 - val_mae: 135.8212 - val_mse: 22844.9375\n",
            "Epoch 59/100\n",
            "4/4 [==============================] - 3s 740ms/step - loss: 471.7058 - mae: 16.6835 - mse: 471.7058 - val_loss: 27627.3164 - val_mae: 148.7764 - val_mse: 27627.3164\n",
            "Epoch 60/100\n",
            "4/4 [==============================] - 3s 720ms/step - loss: 358.9052 - mae: 14.3142 - mse: 358.9052 - val_loss: 27720.4609 - val_mae: 149.4018 - val_mse: 27720.4609\n",
            "Epoch 61/100\n",
            "4/4 [==============================] - 3s 728ms/step - loss: 320.5787 - mae: 12.9499 - mse: 320.5787 - val_loss: 25359.7129 - val_mae: 144.1994 - val_mse: 25359.7129\n",
            "Epoch 62/100\n",
            "4/4 [==============================] - 3s 714ms/step - loss: 355.9117 - mae: 14.8551 - mse: 355.9117 - val_loss: 28619.6367 - val_mae: 152.6268 - val_mse: 28619.6367\n",
            "Epoch 63/100\n",
            "4/4 [==============================] - 3s 726ms/step - loss: 311.6894 - mae: 13.4452 - mse: 311.6894 - val_loss: 28310.6797 - val_mae: 151.3161 - val_mse: 28310.6797\n",
            "Epoch 64/100\n",
            "4/4 [==============================] - 3s 715ms/step - loss: 274.6280 - mae: 11.9195 - mse: 274.6280 - val_loss: 27952.5938 - val_mae: 150.4309 - val_mse: 27952.5938\n",
            "Epoch 65/100\n",
            "4/4 [==============================] - 3s 739ms/step - loss: 239.6494 - mae: 11.1796 - mse: 239.6494 - val_loss: 27927.5645 - val_mae: 150.5217 - val_mse: 27927.5645\n",
            "Epoch 66/100\n",
            "4/4 [==============================] - 3s 732ms/step - loss: 200.1070 - mae: 10.6221 - mse: 200.1070 - val_loss: 29034.7539 - val_mae: 153.1226 - val_mse: 29034.7539\n",
            "Epoch 67/100\n",
            "4/4 [==============================] - 3s 728ms/step - loss: 172.6661 - mae: 9.2622 - mse: 172.6661 - val_loss: 29275.1133 - val_mae: 153.6307 - val_mse: 29275.1133\n",
            "Epoch 68/100\n",
            "4/4 [==============================] - 3s 718ms/step - loss: 199.9384 - mae: 10.2539 - mse: 199.9384 - val_loss: 27401.3926 - val_mae: 148.7016 - val_mse: 27401.3926\n",
            "Epoch 69/100\n",
            "4/4 [==============================] - 3s 722ms/step - loss: 192.3691 - mae: 10.3040 - mse: 192.3691 - val_loss: 28903.8457 - val_mae: 152.7697 - val_mse: 28903.8457\n",
            "Epoch 70/100\n",
            "4/4 [==============================] - 3s 727ms/step - loss: 145.3029 - mae: 8.8752 - mse: 145.3029 - val_loss: 29747.4863 - val_mae: 154.8126 - val_mse: 29747.4863\n",
            "Epoch 71/100\n",
            "4/4 [==============================] - 3s 725ms/step - loss: 155.5822 - mae: 9.1791 - mse: 155.5822 - val_loss: 29627.3574 - val_mae: 154.6768 - val_mse: 29627.3574\n",
            "Epoch 72/100\n",
            "4/4 [==============================] - 3s 727ms/step - loss: 161.1095 - mae: 9.2598 - mse: 161.1095 - val_loss: 28363.2969 - val_mae: 151.7361 - val_mse: 28363.2969\n",
            "Epoch 73/100\n",
            "4/4 [==============================] - 3s 727ms/step - loss: 138.9946 - mae: 8.8196 - mse: 138.9946 - val_loss: 29690.2676 - val_mae: 154.6582 - val_mse: 29690.2676\n",
            "Epoch 74/100\n",
            "4/4 [==============================] - 3s 735ms/step - loss: 111.6078 - mae: 7.8578 - mse: 111.6078 - val_loss: 28493.3594 - val_mae: 151.2486 - val_mse: 28493.3594\n",
            "Epoch 75/100\n",
            "4/4 [==============================] - 3s 730ms/step - loss: 151.4526 - mae: 9.4596 - mse: 151.4526 - val_loss: 27963.3125 - val_mae: 149.9725 - val_mse: 27963.3125\n",
            "Epoch 76/100\n",
            "4/4 [==============================] - 3s 717ms/step - loss: 145.2833 - mae: 9.5858 - mse: 145.2833 - val_loss: 31912.6504 - val_mae: 160.1082 - val_mse: 31912.6504\n",
            "Epoch 77/100\n",
            "4/4 [==============================] - 3s 725ms/step - loss: 270.5564 - mae: 12.5425 - mse: 270.5564 - val_loss: 29764.1504 - val_mae: 154.4887 - val_mse: 29764.1504\n",
            "Epoch 78/100\n",
            "4/4 [==============================] - 3s 731ms/step - loss: 306.6808 - mae: 14.7834 - mse: 306.6808 - val_loss: 29038.1602 - val_mae: 151.8392 - val_mse: 29038.1602\n",
            "Epoch 79/100\n",
            "4/4 [==============================] - 3s 728ms/step - loss: 269.4070 - mae: 13.0610 - mse: 269.4070 - val_loss: 30616.3359 - val_mae: 156.3104 - val_mse: 30616.3398\n",
            "Epoch 80/100\n",
            "4/4 [==============================] - 3s 728ms/step - loss: 306.3579 - mae: 12.3072 - mse: 306.3579 - val_loss: 26528.5293 - val_mae: 144.5232 - val_mse: 26528.5293\n",
            "Epoch 81/100\n",
            "4/4 [==============================] - 3s 719ms/step - loss: 544.6583 - mae: 17.8707 - mse: 544.6583 - val_loss: 30793.2402 - val_mae: 155.1978 - val_mse: 30793.2402\n",
            "Epoch 82/100\n",
            "4/4 [==============================] - 3s 739ms/step - loss: 360.2579 - mae: 13.7507 - mse: 360.2579 - val_loss: 30999.4531 - val_mae: 155.8909 - val_mse: 30999.4531\n",
            "Epoch 83/100\n",
            "4/4 [==============================] - 3s 720ms/step - loss: 214.8855 - mae: 10.8952 - mse: 214.8855 - val_loss: 31690.5371 - val_mae: 157.6937 - val_mse: 31690.5371\n",
            "Epoch 84/100\n",
            "4/4 [==============================] - 3s 722ms/step - loss: 198.3738 - mae: 11.0529 - mse: 198.3738 - val_loss: 32049.6602 - val_mae: 158.0395 - val_mse: 32049.6602\n",
            "Epoch 85/100\n",
            "4/4 [==============================] - 3s 718ms/step - loss: 206.2548 - mae: 10.4545 - mse: 206.2548 - val_loss: 29358.1602 - val_mae: 151.3307 - val_mse: 29358.1602\n",
            "Epoch 86/100\n",
            "4/4 [==============================] - 3s 736ms/step - loss: 171.6716 - mae: 10.4246 - mse: 171.6716 - val_loss: 33402.3086 - val_mae: 161.5499 - val_mse: 33402.3086\n",
            "Epoch 87/100\n",
            "4/4 [==============================] - 3s 740ms/step - loss: 165.1809 - mae: 10.1376 - mse: 165.1809 - val_loss: 29161.5332 - val_mae: 151.2819 - val_mse: 29161.5332\n",
            "Epoch 88/100\n",
            "4/4 [==============================] - 3s 739ms/step - loss: 172.0351 - mae: 10.6310 - mse: 172.0351 - val_loss: 33559.7461 - val_mae: 162.1961 - val_mse: 33559.7461\n",
            "Epoch 89/100\n",
            "4/4 [==============================] - 3s 749ms/step - loss: 103.9518 - mae: 7.4670 - mse: 103.9518 - val_loss: 29207.8828 - val_mae: 151.0559 - val_mse: 29207.8828\n",
            "Epoch 90/100\n",
            "4/4 [==============================] - 3s 744ms/step - loss: 119.7956 - mae: 8.8676 - mse: 119.7956 - val_loss: 32858.3516 - val_mae: 159.9492 - val_mse: 32858.3516\n",
            "Epoch 91/100\n",
            "4/4 [==============================] - 3s 733ms/step - loss: 94.7630 - mae: 7.9681 - mse: 94.7630 - val_loss: 29387.8867 - val_mae: 151.7315 - val_mse: 29387.8867\n",
            "Epoch 92/100\n",
            "4/4 [==============================] - 3s 734ms/step - loss: 83.4003 - mae: 7.2014 - mse: 83.4003 - val_loss: 33231.9453 - val_mae: 161.5143 - val_mse: 33231.9453\n",
            "Epoch 93/100\n",
            "4/4 [==============================] - 3s 734ms/step - loss: 88.7148 - mae: 7.4086 - mse: 88.7148 - val_loss: 30037.9668 - val_mae: 153.4620 - val_mse: 30037.9668\n",
            "Epoch 94/100\n",
            "4/4 [==============================] - 3s 739ms/step - loss: 78.0561 - mae: 6.8292 - mse: 78.0561 - val_loss: 32333.3203 - val_mae: 159.1133 - val_mse: 32333.3203\n",
            "Epoch 95/100\n",
            "4/4 [==============================] - 3s 737ms/step - loss: 50.1459 - mae: 5.4589 - mse: 50.1459 - val_loss: 31937.2793 - val_mae: 158.1834 - val_mse: 31937.2793\n",
            "Epoch 96/100\n",
            "4/4 [==============================] - 3s 735ms/step - loss: 35.4483 - mae: 4.3225 - mse: 35.4483 - val_loss: 31663.0176 - val_mae: 157.3271 - val_mse: 31663.0176\n",
            "Epoch 97/100\n",
            "4/4 [==============================] - 3s 718ms/step - loss: 35.3035 - mae: 4.3716 - mse: 35.3035 - val_loss: 32241.0039 - val_mae: 158.9133 - val_mse: 32241.0039\n",
            "Epoch 98/100\n",
            "4/4 [==============================] - 3s 754ms/step - loss: 24.4492 - mae: 3.5742 - mse: 24.4492 - val_loss: 32577.6875 - val_mae: 159.8335 - val_mse: 32577.6875\n",
            "Epoch 99/100\n",
            "4/4 [==============================] - 3s 746ms/step - loss: 22.1506 - mae: 3.4420 - mse: 22.1506 - val_loss: 33005.0469 - val_mae: 160.8463 - val_mse: 33005.0469\n",
            "Epoch 100/100\n",
            "4/4 [==============================] - 3s 731ms/step - loss: 20.7154 - mae: 3.2604 - mse: 20.7154 - val_loss: 31932.9609 - val_mae: 158.1809 - val_mse: 31932.9609\n"
          ]
        }
      ]
    },
    {
      "cell_type": "markdown",
      "source": [
        "Bi-directional GRU"
      ],
      "metadata": {
        "id": "8AVWuHEeDrUU"
      }
    },
    {
      "cell_type": "code",
      "source": [
        "i=Input(shape=(T,1))\n",
        "x=Bidirectional(GRU(200,return_sequences=True))(i)\n",
        "x=Bidirectional(GRU(200,return_sequences=True))(x)\n",
        "x=GlobalMaxPool1D()(x)\n",
        "x=Dense(100)(x)\n",
        "x=Dense(50)(x)\n",
        "x=Dense(1)(x)\n",
        "model_bi_gru=Model(i,x)\n",
        "model_bi_gru.summary()"
      ],
      "metadata": {
        "colab": {
          "base_uri": "https://localhost:8080/"
        },
        "id": "cUHtZz0A7t3k",
        "outputId": "e4581c3d-9f53-40c8-c67a-1e263931df62"
      },
      "execution_count": 65,
      "outputs": [
        {
          "output_type": "stream",
          "name": "stdout",
          "text": [
            "Model: \"model_5\"\n",
            "_________________________________________________________________\n",
            " Layer (type)                Output Shape              Param #   \n",
            "=================================================================\n",
            " input_6 (InputLayer)        [(None, 50, 1)]           0         \n",
            "                                                                 \n",
            " bidirectional_10 (Bidirecti  (None, 50, 400)          243600    \n",
            " onal)                                                           \n",
            "                                                                 \n",
            " bidirectional_11 (Bidirecti  (None, 50, 400)          722400    \n",
            " onal)                                                           \n",
            "                                                                 \n",
            " global_max_pooling1d_5 (Glo  (None, 400)              0         \n",
            " balMaxPooling1D)                                                \n",
            "                                                                 \n",
            " dense_15 (Dense)            (None, 100)               40100     \n",
            "                                                                 \n",
            " dense_16 (Dense)            (None, 50)                5050      \n",
            "                                                                 \n",
            " dense_17 (Dense)            (None, 1)                 51        \n",
            "                                                                 \n",
            "=================================================================\n",
            "Total params: 1,011,201\n",
            "Trainable params: 1,011,201\n",
            "Non-trainable params: 0\n",
            "_________________________________________________________________\n"
          ]
        }
      ]
    },
    {
      "cell_type": "code",
      "source": [
        "check_point_bi_gru=ModelCheckpoint('best_model.h5',monitor='val_loss',save_best_only=True)"
      ],
      "metadata": {
        "id": "31j89DK6DqGT"
      },
      "execution_count": 66,
      "outputs": []
    },
    {
      "cell_type": "code",
      "source": [
        "model_bi_gru.compile(loss='mse',\n",
        "              optimizer='adamax',\n",
        "              metrics=['mae','mse'])"
      ],
      "metadata": {
        "id": "e0_x1t5JDqJK"
      },
      "execution_count": 67,
      "outputs": []
    },
    {
      "cell_type": "code",
      "source": [
        "r=model_bi_gru.fit(\n",
        "    Xtrain,\n",
        "    Ytrain,\n",
        "    epochs=100,\n",
        "    validation_data=(Xtest,Ytest),\n",
        "    callbacks=[check_point_bi_gru]\n",
        ")"
      ],
      "metadata": {
        "colab": {
          "base_uri": "https://localhost:8080/"
        },
        "id": "fu63FFgDDqMS",
        "outputId": "a5a800b0-0273-4dad-f439-90bad0d622db"
      },
      "execution_count": 68,
      "outputs": [
        {
          "output_type": "stream",
          "name": "stdout",
          "text": [
            "Epoch 1/100\n",
            "4/4 [==============================] - 12s 1s/step - loss: 4489.1260 - mae: 46.5347 - mse: 4489.1260 - val_loss: 2027.6312 - val_mae: 33.3741 - val_mse: 2027.6312\n",
            "Epoch 2/100\n",
            "4/4 [==============================] - 2s 647ms/step - loss: 4409.5806 - mae: 45.7827 - mse: 4409.5806 - val_loss: 1881.5216 - val_mae: 32.1649 - val_mse: 1881.5216\n",
            "Epoch 3/100\n",
            "4/4 [==============================] - 2s 651ms/step - loss: 4385.7817 - mae: 45.8391 - mse: 4385.7817 - val_loss: 1853.9139 - val_mae: 31.9662 - val_mse: 1853.9139\n",
            "Epoch 4/100\n",
            "4/4 [==============================] - 2s 629ms/step - loss: 4377.0957 - mae: 45.7538 - mse: 4377.0957 - val_loss: 1855.6621 - val_mae: 31.9859 - val_mse: 1855.6621\n",
            "Epoch 5/100\n",
            "4/4 [==============================] - 2s 633ms/step - loss: 4363.6235 - mae: 45.6772 - mse: 4363.6235 - val_loss: 1887.2327 - val_mae: 32.2188 - val_mse: 1887.2327\n",
            "Epoch 6/100\n",
            "4/4 [==============================] - 2s 618ms/step - loss: 4353.5742 - mae: 45.5468 - mse: 4353.5742 - val_loss: 1915.0498 - val_mae: 32.4450 - val_mse: 1915.0498\n",
            "Epoch 7/100\n",
            "4/4 [==============================] - 2s 623ms/step - loss: 4347.8428 - mae: 45.5027 - mse: 4347.8428 - val_loss: 1944.7821 - val_mae: 32.6763 - val_mse: 1944.7821\n",
            "Epoch 8/100\n",
            "4/4 [==============================] - 2s 616ms/step - loss: 4340.3975 - mae: 45.4757 - mse: 4340.3975 - val_loss: 1932.5752 - val_mae: 32.5719 - val_mse: 1932.5752\n",
            "Epoch 9/100\n",
            "4/4 [==============================] - 2s 621ms/step - loss: 4326.2212 - mae: 45.4011 - mse: 4326.2212 - val_loss: 1944.3429 - val_mae: 32.6645 - val_mse: 1944.3429\n",
            "Epoch 10/100\n",
            "4/4 [==============================] - 2s 616ms/step - loss: 4323.7466 - mae: 45.3866 - mse: 4323.7466 - val_loss: 1969.3154 - val_mae: 32.9081 - val_mse: 1969.3154\n",
            "Epoch 11/100\n",
            "4/4 [==============================] - 2s 621ms/step - loss: 4306.1450 - mae: 45.3667 - mse: 4306.1450 - val_loss: 1936.1179 - val_mae: 32.5984 - val_mse: 1936.1179\n",
            "Epoch 12/100\n",
            "4/4 [==============================] - 2s 617ms/step - loss: 4278.3354 - mae: 45.2155 - mse: 4278.3354 - val_loss: 1937.8552 - val_mae: 32.6236 - val_mse: 1937.8552\n",
            "Epoch 13/100\n",
            "4/4 [==============================] - 2s 631ms/step - loss: 4267.0742 - mae: 45.1518 - mse: 4267.0742 - val_loss: 1972.5469 - val_mae: 32.9565 - val_mse: 1972.5469\n",
            "Epoch 14/100\n",
            "4/4 [==============================] - 2s 621ms/step - loss: 4228.8076 - mae: 44.9531 - mse: 4228.8076 - val_loss: 1976.8010 - val_mae: 32.9996 - val_mse: 1976.8010\n",
            "Epoch 15/100\n",
            "4/4 [==============================] - 2s 621ms/step - loss: 4206.8604 - mae: 44.8646 - mse: 4206.8604 - val_loss: 1986.9087 - val_mae: 33.0902 - val_mse: 1986.9087\n",
            "Epoch 16/100\n",
            "4/4 [==============================] - 2s 615ms/step - loss: 4172.1665 - mae: 44.7025 - mse: 4172.1665 - val_loss: 2038.7042 - val_mae: 33.5630 - val_mse: 2038.7042\n",
            "Epoch 17/100\n",
            "4/4 [==============================] - 2s 633ms/step - loss: 4132.7573 - mae: 44.4472 - mse: 4132.7573 - val_loss: 2064.3152 - val_mae: 33.7634 - val_mse: 2064.3152\n",
            "Epoch 18/100\n",
            "4/4 [==============================] - 2s 627ms/step - loss: 4097.9907 - mae: 44.4383 - mse: 4097.9907 - val_loss: 2050.5959 - val_mae: 33.6295 - val_mse: 2050.5959\n",
            "Epoch 19/100\n",
            "4/4 [==============================] - 2s 618ms/step - loss: 4073.0134 - mae: 44.1624 - mse: 4073.0134 - val_loss: 2272.6150 - val_mae: 35.4705 - val_mse: 2272.6150\n",
            "Epoch 20/100\n",
            "4/4 [==============================] - 2s 632ms/step - loss: 3969.7222 - mae: 43.6155 - mse: 3969.7222 - val_loss: 2226.1187 - val_mae: 35.1387 - val_mse: 2226.1187\n",
            "Epoch 21/100\n",
            "4/4 [==============================] - 2s 623ms/step - loss: 3906.5000 - mae: 43.2926 - mse: 3906.5000 - val_loss: 2214.6746 - val_mae: 35.0577 - val_mse: 2214.6746\n",
            "Epoch 22/100\n",
            "4/4 [==============================] - 2s 621ms/step - loss: 3835.1494 - mae: 42.8830 - mse: 3835.1494 - val_loss: 2438.5901 - val_mae: 37.0924 - val_mse: 2438.5901\n",
            "Epoch 23/100\n",
            "4/4 [==============================] - 2s 609ms/step - loss: 3737.7693 - mae: 42.5263 - mse: 3737.7693 - val_loss: 2449.6545 - val_mae: 37.2716 - val_mse: 2449.6545\n",
            "Epoch 24/100\n",
            "4/4 [==============================] - 2s 621ms/step - loss: 3655.2385 - mae: 42.1489 - mse: 3655.2385 - val_loss: 2579.4734 - val_mae: 38.5560 - val_mse: 2579.4734\n",
            "Epoch 25/100\n",
            "4/4 [==============================] - 2s 633ms/step - loss: 3547.4290 - mae: 41.5737 - mse: 3547.4290 - val_loss: 2743.7354 - val_mae: 40.2242 - val_mse: 2743.7354\n",
            "Epoch 26/100\n",
            "4/4 [==============================] - 2s 614ms/step - loss: 3482.5137 - mae: 41.4786 - mse: 3482.5137 - val_loss: 3162.7976 - val_mae: 44.2592 - val_mse: 3162.7976\n",
            "Epoch 27/100\n",
            "4/4 [==============================] - 2s 616ms/step - loss: 3399.9905 - mae: 40.9157 - mse: 3399.9905 - val_loss: 2862.5608 - val_mae: 41.3722 - val_mse: 2862.5608\n",
            "Epoch 28/100\n",
            "4/4 [==============================] - 2s 625ms/step - loss: 3284.3884 - mae: 39.6973 - mse: 3284.3884 - val_loss: 3537.6150 - val_mae: 47.6003 - val_mse: 3537.6150\n",
            "Epoch 29/100\n",
            "4/4 [==============================] - 2s 631ms/step - loss: 3141.3533 - mae: 38.9491 - mse: 3141.3533 - val_loss: 3320.8333 - val_mae: 45.7097 - val_mse: 3320.8333\n",
            "Epoch 30/100\n",
            "4/4 [==============================] - 2s 629ms/step - loss: 3042.7100 - mae: 38.5571 - mse: 3042.7100 - val_loss: 3510.9084 - val_mae: 47.3261 - val_mse: 3510.9084\n",
            "Epoch 31/100\n",
            "4/4 [==============================] - 2s 622ms/step - loss: 2896.9641 - mae: 37.4543 - mse: 2896.9641 - val_loss: 4164.8770 - val_mae: 52.4260 - val_mse: 4164.8770\n",
            "Epoch 32/100\n",
            "4/4 [==============================] - 2s 611ms/step - loss: 2777.4626 - mae: 36.6023 - mse: 2777.4626 - val_loss: 3483.9182 - val_mae: 47.1525 - val_mse: 3483.9182\n",
            "Epoch 33/100\n",
            "4/4 [==============================] - 2s 618ms/step - loss: 2685.3215 - mae: 36.1733 - mse: 2685.3215 - val_loss: 4456.8584 - val_mae: 54.3904 - val_mse: 4456.8584\n",
            "Epoch 34/100\n",
            "4/4 [==============================] - 2s 628ms/step - loss: 2463.2656 - mae: 34.1108 - mse: 2463.2656 - val_loss: 4321.6934 - val_mae: 53.3667 - val_mse: 4321.6934\n",
            "Epoch 35/100\n",
            "4/4 [==============================] - 2s 618ms/step - loss: 2339.9636 - mae: 34.3213 - mse: 2339.9636 - val_loss: 4737.3140 - val_mae: 56.1312 - val_mse: 4737.3140\n",
            "Epoch 36/100\n",
            "4/4 [==============================] - 2s 622ms/step - loss: 2156.9465 - mae: 32.3399 - mse: 2156.9465 - val_loss: 5059.3081 - val_mae: 58.0846 - val_mse: 5059.3081\n",
            "Epoch 37/100\n",
            "4/4 [==============================] - 2s 621ms/step - loss: 2008.5363 - mae: 31.5788 - mse: 2008.5363 - val_loss: 4972.5581 - val_mae: 58.0440 - val_mse: 4972.5581\n",
            "Epoch 38/100\n",
            "4/4 [==============================] - 2s 624ms/step - loss: 1908.0631 - mae: 31.0069 - mse: 1908.0631 - val_loss: 5508.8911 - val_mae: 61.3830 - val_mse: 5508.8911\n",
            "Epoch 39/100\n",
            "4/4 [==============================] - 2s 616ms/step - loss: 1722.1316 - mae: 29.7821 - mse: 1722.1316 - val_loss: 5453.0752 - val_mae: 61.1532 - val_mse: 5453.0752\n",
            "Epoch 40/100\n",
            "4/4 [==============================] - 2s 612ms/step - loss: 1563.1224 - mae: 28.5114 - mse: 1563.1224 - val_loss: 6192.2739 - val_mae: 65.1097 - val_mse: 6192.2739\n",
            "Epoch 41/100\n",
            "4/4 [==============================] - 2s 622ms/step - loss: 1440.8413 - mae: 27.5889 - mse: 1440.8413 - val_loss: 5998.8667 - val_mae: 64.4787 - val_mse: 5998.8667\n",
            "Epoch 42/100\n",
            "4/4 [==============================] - 2s 620ms/step - loss: 1393.2130 - mae: 27.1257 - mse: 1393.2130 - val_loss: 7289.4727 - val_mae: 71.7576 - val_mse: 7289.4727\n",
            "Epoch 43/100\n",
            "4/4 [==============================] - 2s 622ms/step - loss: 1180.1052 - mae: 24.7285 - mse: 1180.1052 - val_loss: 6051.0093 - val_mae: 65.3873 - val_mse: 6051.0093\n",
            "Epoch 44/100\n",
            "4/4 [==============================] - 2s 617ms/step - loss: 1155.4613 - mae: 24.3335 - mse: 1155.4613 - val_loss: 7772.0308 - val_mae: 74.2657 - val_mse: 7772.0308\n",
            "Epoch 45/100\n",
            "4/4 [==============================] - 2s 624ms/step - loss: 988.6653 - mae: 23.0271 - mse: 988.6653 - val_loss: 7039.5625 - val_mae: 70.6877 - val_mse: 7039.5625\n",
            "Epoch 46/100\n",
            "4/4 [==============================] - 2s 622ms/step - loss: 918.2385 - mae: 22.6333 - mse: 918.2385 - val_loss: 7996.3267 - val_mae: 75.6549 - val_mse: 7996.3267\n",
            "Epoch 47/100\n",
            "4/4 [==============================] - 2s 627ms/step - loss: 829.1666 - mae: 21.3985 - mse: 829.1666 - val_loss: 7558.2651 - val_mae: 73.8366 - val_mse: 7558.2651\n",
            "Epoch 48/100\n",
            "4/4 [==============================] - 2s 617ms/step - loss: 749.6678 - mae: 20.5130 - mse: 749.6678 - val_loss: 8551.2393 - val_mae: 78.6544 - val_mse: 8551.2393\n",
            "Epoch 49/100\n",
            "4/4 [==============================] - 2s 618ms/step - loss: 655.3857 - mae: 19.1648 - mse: 655.3857 - val_loss: 7956.3184 - val_mae: 75.8966 - val_mse: 7956.3184\n",
            "Epoch 50/100\n",
            "4/4 [==============================] - 2s 626ms/step - loss: 628.5338 - mae: 18.5836 - mse: 628.5338 - val_loss: 9982.6797 - val_mae: 85.0580 - val_mse: 9982.6797\n",
            "Epoch 51/100\n",
            "4/4 [==============================] - 2s 619ms/step - loss: 577.7621 - mae: 18.6914 - mse: 577.7621 - val_loss: 7713.2969 - val_mae: 74.4748 - val_mse: 7713.2969\n",
            "Epoch 52/100\n",
            "4/4 [==============================] - 2s 622ms/step - loss: 610.4307 - mae: 19.0905 - mse: 610.4307 - val_loss: 8657.7637 - val_mae: 78.9457 - val_mse: 8657.7637\n",
            "Epoch 53/100\n",
            "4/4 [==============================] - 2s 616ms/step - loss: 447.4230 - mae: 16.2581 - mse: 447.4230 - val_loss: 9471.1250 - val_mae: 82.7638 - val_mse: 9471.1250\n",
            "Epoch 54/100\n",
            "4/4 [==============================] - 2s 621ms/step - loss: 394.2473 - mae: 15.5407 - mse: 394.2473 - val_loss: 9227.3574 - val_mae: 82.1044 - val_mse: 9227.3574\n",
            "Epoch 55/100\n",
            "4/4 [==============================] - 2s 620ms/step - loss: 374.1873 - mae: 14.8780 - mse: 374.1873 - val_loss: 8930.1816 - val_mae: 80.9960 - val_mse: 8930.1816\n",
            "Epoch 56/100\n",
            "4/4 [==============================] - 2s 631ms/step - loss: 342.2498 - mae: 14.0889 - mse: 342.2498 - val_loss: 11857.6357 - val_mae: 93.4589 - val_mse: 11857.6357\n",
            "Epoch 57/100\n",
            "4/4 [==============================] - 2s 624ms/step - loss: 493.6841 - mae: 17.9667 - mse: 493.6841 - val_loss: 8702.8516 - val_mae: 79.9684 - val_mse: 8702.8516\n",
            "Epoch 58/100\n",
            "4/4 [==============================] - 2s 616ms/step - loss: 428.3264 - mae: 15.6082 - mse: 428.3264 - val_loss: 10109.2471 - val_mae: 86.0728 - val_mse: 10109.2471\n",
            "Epoch 59/100\n",
            "4/4 [==============================] - 2s 622ms/step - loss: 324.9931 - mae: 14.3696 - mse: 324.9931 - val_loss: 10846.9854 - val_mae: 89.2201 - val_mse: 10846.9854\n",
            "Epoch 60/100\n",
            "4/4 [==============================] - 2s 628ms/step - loss: 314.7011 - mae: 14.1934 - mse: 314.7011 - val_loss: 8525.8984 - val_mae: 79.2482 - val_mse: 8525.8984\n",
            "Epoch 61/100\n",
            "4/4 [==============================] - 2s 627ms/step - loss: 376.4916 - mae: 15.2844 - mse: 376.4916 - val_loss: 11065.7363 - val_mae: 90.1908 - val_mse: 11065.7363\n",
            "Epoch 62/100\n",
            "4/4 [==============================] - 2s 623ms/step - loss: 267.6060 - mae: 13.0034 - mse: 267.6060 - val_loss: 9625.1338 - val_mae: 84.2073 - val_mse: 9625.1338\n",
            "Epoch 63/100\n",
            "4/4 [==============================] - 2s 634ms/step - loss: 175.1419 - mae: 10.1744 - mse: 175.1419 - val_loss: 10538.8945 - val_mae: 88.1721 - val_mse: 10538.8945\n",
            "Epoch 64/100\n",
            "4/4 [==============================] - 2s 635ms/step - loss: 183.9489 - mae: 10.6417 - mse: 183.9489 - val_loss: 10848.4863 - val_mae: 89.5296 - val_mse: 10848.4863\n",
            "Epoch 65/100\n",
            "4/4 [==============================] - 2s 625ms/step - loss: 146.8043 - mae: 9.2622 - mse: 146.8043 - val_loss: 10396.9102 - val_mae: 87.6913 - val_mse: 10396.9102\n",
            "Epoch 66/100\n",
            "4/4 [==============================] - 2s 620ms/step - loss: 121.7566 - mae: 8.4640 - mse: 121.7566 - val_loss: 10262.9531 - val_mae: 87.1771 - val_mse: 10262.9531\n",
            "Epoch 67/100\n",
            "4/4 [==============================] - 2s 632ms/step - loss: 113.7802 - mae: 7.8448 - mse: 113.7802 - val_loss: 11108.7158 - val_mae: 90.5445 - val_mse: 11108.7158\n",
            "Epoch 68/100\n",
            "4/4 [==============================] - 2s 621ms/step - loss: 132.8497 - mae: 9.1663 - mse: 132.8497 - val_loss: 10309.5752 - val_mae: 87.1252 - val_mse: 10309.5752\n",
            "Epoch 69/100\n",
            "4/4 [==============================] - 2s 633ms/step - loss: 98.1394 - mae: 7.6665 - mse: 98.1394 - val_loss: 10143.3887 - val_mae: 86.4405 - val_mse: 10143.3887\n",
            "Epoch 70/100\n",
            "4/4 [==============================] - 2s 620ms/step - loss: 91.4200 - mae: 7.4954 - mse: 91.4200 - val_loss: 10897.9092 - val_mae: 89.6935 - val_mse: 10897.9092\n",
            "Epoch 71/100\n",
            "4/4 [==============================] - 2s 616ms/step - loss: 91.9839 - mae: 7.2500 - mse: 91.9839 - val_loss: 10572.5547 - val_mae: 88.5263 - val_mse: 10572.5547\n",
            "Epoch 72/100\n",
            "4/4 [==============================] - 2s 626ms/step - loss: 74.4826 - mae: 6.7620 - mse: 74.4826 - val_loss: 10315.5254 - val_mae: 87.4077 - val_mse: 10315.5254\n",
            "Epoch 73/100\n",
            "4/4 [==============================] - 2s 631ms/step - loss: 78.9446 - mae: 6.6780 - mse: 78.9446 - val_loss: 10522.8320 - val_mae: 88.2563 - val_mse: 10522.8320\n",
            "Epoch 74/100\n",
            "4/4 [==============================] - 2s 616ms/step - loss: 60.2987 - mae: 6.0807 - mse: 60.2987 - val_loss: 11145.8809 - val_mae: 90.7869 - val_mse: 11145.8809\n",
            "Epoch 75/100\n",
            "4/4 [==============================] - 2s 618ms/step - loss: 69.6561 - mae: 6.8891 - mse: 69.6561 - val_loss: 10180.2480 - val_mae: 86.8085 - val_mse: 10180.2480\n",
            "Epoch 76/100\n",
            "4/4 [==============================] - 2s 617ms/step - loss: 49.6764 - mae: 5.4409 - mse: 49.6764 - val_loss: 11217.9600 - val_mae: 91.1652 - val_mse: 11217.9600\n",
            "Epoch 77/100\n",
            "4/4 [==============================] - 2s 627ms/step - loss: 46.4628 - mae: 5.3618 - mse: 46.4628 - val_loss: 10820.8506 - val_mae: 89.6126 - val_mse: 10820.8506\n",
            "Epoch 78/100\n",
            "4/4 [==============================] - 2s 635ms/step - loss: 43.8796 - mae: 5.1622 - mse: 43.8796 - val_loss: 10658.1826 - val_mae: 88.9774 - val_mse: 10658.1826\n",
            "Epoch 79/100\n",
            "4/4 [==============================] - 2s 613ms/step - loss: 36.6890 - mae: 4.6853 - mse: 36.6890 - val_loss: 11251.2520 - val_mae: 91.4253 - val_mse: 11251.2520\n",
            "Epoch 80/100\n",
            "4/4 [==============================] - 2s 618ms/step - loss: 31.0719 - mae: 4.2708 - mse: 31.0719 - val_loss: 10667.5381 - val_mae: 89.0657 - val_mse: 10667.5381\n",
            "Epoch 81/100\n",
            "4/4 [==============================] - 2s 618ms/step - loss: 32.8331 - mae: 4.4049 - mse: 32.8331 - val_loss: 10810.0332 - val_mae: 89.6724 - val_mse: 10810.0332\n",
            "Epoch 82/100\n",
            "4/4 [==============================] - 2s 622ms/step - loss: 42.3616 - mae: 4.9992 - mse: 42.3616 - val_loss: 11379.9033 - val_mae: 91.9395 - val_mse: 11379.9033\n",
            "Epoch 83/100\n",
            "4/4 [==============================] - 2s 619ms/step - loss: 44.1248 - mae: 5.4485 - mse: 44.1248 - val_loss: 11567.3242 - val_mae: 92.6605 - val_mse: 11567.3252\n",
            "Epoch 84/100\n",
            "4/4 [==============================] - 2s 623ms/step - loss: 42.3254 - mae: 5.1267 - mse: 42.3254 - val_loss: 10595.9189 - val_mae: 88.7064 - val_mse: 10595.9189\n",
            "Epoch 85/100\n",
            "4/4 [==============================] - 2s 609ms/step - loss: 30.3517 - mae: 4.3739 - mse: 30.3517 - val_loss: 10672.2227 - val_mae: 89.0399 - val_mse: 10672.2227\n",
            "Epoch 86/100\n",
            "4/4 [==============================] - 2s 604ms/step - loss: 29.7970 - mae: 4.1097 - mse: 29.7970 - val_loss: 11409.0117 - val_mae: 92.0876 - val_mse: 11409.0117\n",
            "Epoch 87/100\n",
            "4/4 [==============================] - 2s 616ms/step - loss: 35.5753 - mae: 4.7814 - mse: 35.5753 - val_loss: 11196.3770 - val_mae: 91.2746 - val_mse: 11196.3770\n",
            "Epoch 88/100\n",
            "4/4 [==============================] - 2s 622ms/step - loss: 31.8811 - mae: 4.7605 - mse: 31.8811 - val_loss: 10212.5469 - val_mae: 87.1431 - val_mse: 10212.5469\n",
            "Epoch 89/100\n",
            "4/4 [==============================] - 2s 611ms/step - loss: 39.3129 - mae: 5.0311 - mse: 39.3129 - val_loss: 10704.1074 - val_mae: 89.3026 - val_mse: 10704.1074\n",
            "Epoch 90/100\n",
            "4/4 [==============================] - 2s 613ms/step - loss: 20.9969 - mae: 3.4303 - mse: 20.9969 - val_loss: 11171.9824 - val_mae: 91.3048 - val_mse: 11171.9824\n",
            "Epoch 91/100\n",
            "4/4 [==============================] - 2s 618ms/step - loss: 19.5182 - mae: 3.3266 - mse: 19.5182 - val_loss: 11248.9180 - val_mae: 91.6094 - val_mse: 11248.9180\n",
            "Epoch 92/100\n",
            "4/4 [==============================] - 2s 619ms/step - loss: 22.3821 - mae: 3.8162 - mse: 22.3821 - val_loss: 10507.2178 - val_mae: 88.4018 - val_mse: 10507.2178\n",
            "Epoch 93/100\n",
            "4/4 [==============================] - 2s 620ms/step - loss: 23.3898 - mae: 3.9373 - mse: 23.3898 - val_loss: 10277.1797 - val_mae: 87.3109 - val_mse: 10277.1797\n",
            "Epoch 94/100\n",
            "4/4 [==============================] - 2s 616ms/step - loss: 23.7842 - mae: 4.1428 - mse: 23.7842 - val_loss: 10897.9062 - val_mae: 89.9346 - val_mse: 10897.9062\n",
            "Epoch 95/100\n",
            "4/4 [==============================] - 2s 611ms/step - loss: 15.9004 - mae: 3.1804 - mse: 15.9004 - val_loss: 11366.7012 - val_mae: 91.9624 - val_mse: 11366.7012\n",
            "Epoch 96/100\n",
            "4/4 [==============================] - 2s 619ms/step - loss: 22.3229 - mae: 3.7643 - mse: 22.3229 - val_loss: 11147.0703 - val_mae: 91.1589 - val_mse: 11147.0703\n",
            "Epoch 97/100\n",
            "4/4 [==============================] - 2s 625ms/step - loss: 13.4525 - mae: 2.8500 - mse: 13.4525 - val_loss: 10851.7305 - val_mae: 89.9633 - val_mse: 10851.7305\n",
            "Epoch 98/100\n",
            "4/4 [==============================] - 2s 622ms/step - loss: 15.4208 - mae: 3.1157 - mse: 15.4208 - val_loss: 10745.6055 - val_mae: 89.4346 - val_mse: 10745.6055\n",
            "Epoch 99/100\n",
            "4/4 [==============================] - 2s 618ms/step - loss: 13.0580 - mae: 2.9121 - mse: 13.0580 - val_loss: 11059.1436 - val_mae: 90.7432 - val_mse: 11059.1436\n",
            "Epoch 100/100\n",
            "4/4 [==============================] - 2s 622ms/step - loss: 7.5619 - mae: 2.0913 - mse: 7.5619 - val_loss: 11196.4434 - val_mae: 91.4001 - val_mse: 11196.4424\n"
          ]
        }
      ]
    },
    {
      "cell_type": "markdown",
      "source": [
        "Predictions"
      ],
      "metadata": {
        "id": "uo4koH4XEkiv"
      }
    },
    {
      "cell_type": "code",
      "source": [
        "train_idx[:T+1]=False"
      ],
      "metadata": {
        "id": "-vEh0mmyDqPC"
      },
      "execution_count": 69,
      "outputs": []
    },
    {
      "cell_type": "code",
      "source": [
        "Ptrain_bi_lstm=model_bi_lstm.predict(Xtrain).flatten()\n",
        "Ptest_bi_lstm=model_bi_lstm.predict(Xtest).flatten()"
      ],
      "metadata": {
        "id": "OftAJjIQDqR5"
      },
      "execution_count": 70,
      "outputs": []
    },
    {
      "cell_type": "code",
      "source": [
        "Ptrain_bi_gru=model_bi_gru.predict(Xtrain).flatten()\n",
        "Ptest_bi_gru=model_bi_gru.predict(Xtest).flatten()"
      ],
      "metadata": {
        "id": "LPvgcdw4DqU9"
      },
      "execution_count": 71,
      "outputs": []
    },
    {
      "cell_type": "code",
      "source": [
        "df.loc[train_idx,'Diff Bi-LSTM train prediction']=Ptrain_bi_lstm\n",
        "df.loc[test_idx,'Diff bi-LSTM test prediction']=Ptest_bi_lstm"
      ],
      "metadata": {
        "id": "D1MjWqICDqX4"
      },
      "execution_count": 72,
      "outputs": []
    },
    {
      "cell_type": "code",
      "source": [
        "df.loc[train_idx,'Diff Bi-GRU train prediction']=Ptrain_bi_gru\n",
        "df.loc[test_idx,'Diff BiGRU test prediction']=Ptest_bi_gru"
      ],
      "metadata": {
        "id": "JGyHZQpeDqbP"
      },
      "execution_count": 73,
      "outputs": []
    },
    {
      "cell_type": "code",
      "source": [
        "df['Shift Prev Close']=df['Prev Close'].shift(1)\n",
        "prev=df['Shift Prev Close']"
      ],
      "metadata": {
        "id": "o41wY4YSDqdr"
      },
      "execution_count": 74,
      "outputs": []
    },
    {
      "cell_type": "code",
      "source": [
        "last_train=train.iloc[-1]['Prev Close']"
      ],
      "metadata": {
        "id": "ieSjZEI4Dqgo"
      },
      "execution_count": 75,
      "outputs": []
    },
    {
      "cell_type": "code",
      "source": [
        "df.loc[train_idx,'train_Bi_LSTM']=prev[train_idx]+Ptrain_bi_lstm\n",
        "df.loc[test_idx,'Prediction_Bi_LSTM']=prev[test_idx]+Ptest_bi_lstm"
      ],
      "metadata": {
        "id": "iXAmOWl-Dqjf"
      },
      "execution_count": 76,
      "outputs": []
    },
    {
      "cell_type": "code",
      "source": [
        "df.loc[train_idx,'train_Bi_GRU']=prev[train_idx]+Ptrain_bi_gru\n",
        "df.loc[test_idx,'Prediction_Bi_GRU']=prev[test_idx]+Ptest_bi_gru"
      ],
      "metadata": {
        "id": "zPuzleJlDqma"
      },
      "execution_count": 77,
      "outputs": []
    },
    {
      "cell_type": "code",
      "source": [
        "df[[ 'Prev Close','Prediction_Bi_LSTM','Prediction_Bi_GRU']].plot(figsize=(15,10));"
      ],
      "metadata": {
        "colab": {
          "base_uri": "https://localhost:8080/",
          "height": 422
        },
        "id": "lnfbHo3KDqpO",
        "outputId": "8c3635d8-e3ed-4c3b-a4e1-3ec23afc7d70"
      },
      "execution_count": 78,
      "outputs": [
        {
          "output_type": "display_data",
          "data": {
            "text/plain": [
              "<Figure size 1080x720 with 1 Axes>"
            ],
            "image/png": "[encoded data removed]"
          },
          "metadata": {
            "needs_background": "light"
          }
        }
      ]
    },
    {
      "cell_type": "code",
      "source": [
        "df[[ 'Prediction_Bi_LSTM','Prediction_Bi_GRU']].plot(figsize=(15,10));"
      ],
      "metadata": {
        "colab": {
          "base_uri": "https://localhost:8080/",
          "height": 428
        },
        "id": "riQ3YykBDqsG",
        "outputId": "118b65de-7949-4097-9a67-bf364003ef3e"
      },
      "execution_count": 79,
      "outputs": [
        {
          "output_type": "display_data",
          "data": {
            "text/plain": [
              "<Figure size 1080x720 with 1 Axes>"
            ],
            "image/png": "[encoded data removed]"
          },
          "metadata": {
            "needs_background": "light"
          }
        }
      ]
    },
    {
      "cell_type": "markdown",
      "source": [
        "Evaluation"
      ],
      "metadata": {
        "id": "0o_3yUJvF-FW"
      }
    },
    {
      "cell_type": "code",
      "source": [
        "pred_bi_lstm=df['Prediction_Bi_LSTM']\n",
        "pred_bi_lstm.dropna(inplace=True)"
      ],
      "metadata": {
        "id": "vonBmF2b7t6q"
      },
      "execution_count": 80,
      "outputs": []
    },
    {
      "cell_type": "code",
      "source": [
        "rmse=math.sqrt(mean_squared_error(test['Prev Close'],pred_bi_lstm))\n",
        "print(rmse)"
      ],
      "metadata": {
        "colab": {
          "base_uri": "https://localhost:8080/"
        },
        "id": "sPUaq6UiGCRI",
        "outputId": "996f5af7-0988-4111-909c-b67a0e464e79"
      },
      "execution_count": 81,
      "outputs": [
        {
          "output_type": "stream",
          "name": "stdout",
          "text": [
            "178.69795721335865\n"
          ]
        }
      ]
    },
    {
      "cell_type": "code",
      "source": [
        "error=mean_absolute_error(test['Prev Close'],pred_bi_lstm)\n",
        "print(error)"
      ],
      "metadata": {
        "colab": {
          "base_uri": "https://localhost:8080/"
        },
        "id": "kQMcHGVCGCUL",
        "outputId": "c8e7bbb8-0801-43b9-d3e6-1c44c77768bd"
      },
      "execution_count": 82,
      "outputs": [
        {
          "output_type": "stream",
          "name": "stdout",
          "text": [
            "158.18091179402668\n"
          ]
        }
      ]
    },
    {
      "cell_type": "code",
      "source": [
        "r2_score(test['Prev Close'],pred_bi_lstm)"
      ],
      "metadata": {
        "colab": {
          "base_uri": "https://localhost:8080/"
        },
        "id": "lyLslWMAGCXT",
        "outputId": "ddfee0d4-555c-4dc8-d6f7-d5b16461e363"
      },
      "execution_count": 83,
      "outputs": [
        {
          "output_type": "execute_result",
          "data": {
            "text/plain": [
              "0.499715358624539"
            ]
          },
          "metadata": {},
          "execution_count": 83
        }
      ]
    },
    {
      "cell_type": "code",
      "source": [
        "pred_bi_gru=df['Prediction_Bi_GRU']\n",
        "pred_bi_gru.dropna(inplace=True)"
      ],
      "metadata": {
        "id": "wa7wnr9TGC2J"
      },
      "execution_count": 84,
      "outputs": []
    },
    {
      "cell_type": "code",
      "source": [
        "rmse=math.sqrt(mean_squared_error(test['Prev Close'],pred_bi_gru))\n",
        "print(rmse)"
      ],
      "metadata": {
        "colab": {
          "base_uri": "https://localhost:8080/"
        },
        "id": "EkKg0wGaGC-e",
        "outputId": "7e96506a-ecad-45e1-a169-8f4ce201f273"
      },
      "execution_count": 85,
      "outputs": [
        {
          "output_type": "stream",
          "name": "stdout",
          "text": [
            "105.81324501622962\n"
          ]
        }
      ]
    },
    {
      "cell_type": "code",
      "source": [
        "error=mean_absolute_error(test['Prev Close'],pred_bi_gru)\n",
        "print(error)"
      ],
      "metadata": {
        "colab": {
          "base_uri": "https://localhost:8080/"
        },
        "id": "BQL76rMvGDGT",
        "outputId": "1956a0dd-07c5-48cf-8d2e-40b7c882eb2e"
      },
      "execution_count": 86,
      "outputs": [
        {
          "output_type": "stream",
          "name": "stdout",
          "text": [
            "91.40012896728516\n"
          ]
        }
      ]
    },
    {
      "cell_type": "code",
      "source": [
        "r2_score(test['Prev Close'],pred_bi_gru)"
      ],
      "metadata": {
        "colab": {
          "base_uri": "https://localhost:8080/"
        },
        "id": "GMZqO2_yGDO_",
        "outputId": "9ad3d196-93ee-45ef-d122-4a37ae3f52cb"
      },
      "execution_count": 87,
      "outputs": [
        {
          "output_type": "execute_result",
          "data": {
            "text/plain": [
              "0.8245885005112757"
            ]
          },
          "metadata": {},
          "execution_count": 87
        }
      ]
    },
    {
      "cell_type": "code",
      "source": [],
      "metadata": {
        "id": "PIN91mEuGizf"
      },
      "execution_count": 87,
      "outputs": []
    }
  ]
}