{
  "nbformat": 4,
  "nbformat_minor": 0,
  "metadata": {
    "colab": {
      "provenance": []
    },
    "kernelspec": {
      "name": "python3",
      "display_name": "Python 3"
    },
    "language_info": {
      "name": "python"
    }
  },
  "cells": [
    {
      "cell_type": "code",
      "execution_count": 301,
      "metadata": {
        "id": "rRzK__2FbGio"
      },
      "outputs": [],
      "source": [
        "import numpy as np\n",
        "import matplotlib.pyplot as plt\n",
        "import pandas as pd\n",
        "\n",
        "import tensorflow as tf\n",
        "from tensorflow.keras.layers import Dense, Input\n",
        "from tensorflow.keras.models import Model\n",
        "from tensorflow.keras.layers import LSTM\n",
        "from tensorflow.keras.layers import GRU\n",
        "from tensorflow.keras.layers import GlobalMaxPooling1D\n",
        "from tensorflow.keras.layers import Conv1D, MaxPooling1D\n",
        "from tensorflow.keras.callbacks import ModelCheckpoint\n",
        "\n",
        "import math\n",
        "\n",
        "from sklearn.metrics import r2_score\n",
        "from sklearn.metrics import mean_absolute_error\n",
        "from sklearn.metrics import mean_squared_error\n",
        "\n",
        "np.random.seed(123)\n",
        "tf.random.set_seed(123)"
      ]
    },
    {
      "cell_type": "code",
      "source": [
        "df=pd.read_csv('./HDFC.csv',index_col='Date',parse_dates=True)"
      ],
      "metadata": {
        "id": "AE6wbl9LcLFx"
      },
      "execution_count": 302,
      "outputs": []
    },
    {
      "cell_type": "markdown",
      "source": [
        "Data Pre processing\n"
      ],
      "metadata": {
        "id": "L8XudG86eRhq"
      }
    },
    {
      "cell_type": "code",
      "source": [
        "df"
      ],
      "metadata": {
        "colab": {
          "base_uri": "https://localhost:8080/",
          "height": 710
        },
        "id": "FUFxX_tUcmfi",
        "outputId": "63d7d6e3-73ae-44e4-d448-728cedc420d3"
      },
      "execution_count": 303,
      "outputs": [
        {
          "output_type": "execute_result",
          "data": {
            "text/plain": [
              "           Symbol Series  Prev Close     Open     High      Low     Last  \\\n",
              "Date                                                                       \n",
              "2000-01-03   HDFC     EQ      271.75   293.50   293.50   293.50   293.50   \n",
              "2000-01-04   HDFC     EQ      293.50   317.00   317.00   297.00   304.00   \n",
              "2000-01-05   HDFC     EQ      304.05   290.00   303.90   285.00   295.00   \n",
              "2000-01-06   HDFC     EQ      292.80   301.00   314.00   295.00   296.00   \n",
              "2000-01-07   HDFC     EQ      296.45   290.00   296.35   281.00   287.10   \n",
              "...           ...    ...         ...      ...      ...      ...      ...   \n",
              "2021-04-26   HDFC     EQ     2497.35  2500.00  2534.10  2483.20  2502.00   \n",
              "2021-04-27   HDFC     EQ     2509.80  2494.15  2526.80  2486.25  2514.00   \n",
              "2021-04-28   HDFC     EQ     2518.40  2516.10  2609.00  2508.30  2575.00   \n",
              "2021-04-29   HDFC     EQ     2577.00  2590.90  2628.00  2533.00  2539.70   \n",
              "2021-04-30   HDFC     EQ     2538.85  2503.10  2525.00  2411.10  2433.25   \n",
              "\n",
              "              Close     VWAP   Volume      Turnover    Trades  \\\n",
              "Date                                                            \n",
              "2000-01-03   293.50   293.50    22744  6.675364e+11       NaN   \n",
              "2000-01-04   304.05   303.62   255251  7.749972e+12       NaN   \n",
              "2000-01-05   292.80   294.53   269087  7.925368e+12       NaN   \n",
              "2000-01-06   296.45   300.14   305916  9.181669e+12       NaN   \n",
              "2000-01-07   286.55   288.80   197039  5.690480e+12       NaN   \n",
              "...             ...      ...      ...           ...       ...   \n",
              "2021-04-26  2509.80  2508.07  3916088  9.821805e+14  121028.0   \n",
              "2021-04-27  2518.40  2509.18  2040799  5.120730e+14  102250.0   \n",
              "2021-04-28  2577.00  2574.21  3407461  8.771527e+14  117425.0   \n",
              "2021-04-29  2538.85  2569.65  3005468  7.722995e+14  132826.0   \n",
              "2021-04-30  2420.10  2445.94  6024595  1.473581e+15  224454.0   \n",
              "\n",
              "            Deliverable Volume  %Deliverble  \n",
              "Date                                         \n",
              "2000-01-03                 NaN          NaN  \n",
              "2000-01-04                 NaN          NaN  \n",
              "2000-01-05                 NaN          NaN  \n",
              "2000-01-06                 NaN          NaN  \n",
              "2000-01-07                 NaN          NaN  \n",
              "...                        ...          ...  \n",
              "2021-04-26           2440395.0       0.6232  \n",
              "2021-04-27           1040749.0       0.5100  \n",
              "2021-04-28           1815110.0       0.5327  \n",
              "2021-04-29           1472924.0       0.4901  \n",
              "2021-04-30           3839105.0       0.6372  \n",
              "\n",
              "[5306 rows x 14 columns]"
            ],
            "text/html": [
              "\n",
              "  <div id=\"df-2302d8c2-8d02-403f-8d91-8969200b65b2\">\n",
              "    <div class=\"colab-df-container\">\n",
              "      <div>\n",
              "<style scoped>\n",
              "    .dataframe tbody tr th:only-of-type {\n",
              "        vertical-align: middle;\n",
              "    }\n",
              "\n",
              "    .dataframe tbody tr th {\n",
              "        vertical-align: top;\n",
              "    }\n",
              "\n",
              "    .dataframe thead th {\n",
              "        text-align: right;\n",
              "    }\n",
              "</style>\n",
              "<table border=\"1\" class=\"dataframe\">\n",
              "  <thead>\n",
              "    <tr style=\"text-align: right;\">\n",
              "      <th></th>\n",
              "      <th>Symbol</th>\n",
              "      <th>Series</th>\n",
              "      <th>Prev Close</th>\n",
              "      <th>Open</th>\n",
              "      <th>High</th>\n",
              "      <th>Low</th>\n",
              "      <th>Last</th>\n",
              "      <th>Close</th>\n",
              "      <th>VWAP</th>\n",
              "      <th>Volume</th>\n",
              "      <th>Turnover</th>\n",
              "      <th>Trades</th>\n",
              "      <th>Deliverable Volume</th>\n",
              "      <th>%Deliverble</th>\n",
              "    </tr>\n",
              "    <tr>\n",
              "      <th>Date</th>\n",
              "      <th></th>\n",
              "      <th></th>\n",
              "      <th></th>\n",
              "      <th></th>\n",
              "      <th></th>\n",
              "      <th></th>\n",
              "      <th></th>\n",
              "      <th></th>\n",
              "      <th></th>\n",
              "      <th></th>\n",
              "      <th></th>\n",
              "      <th></th>\n",
              "      <th></th>\n",
              "      <th></th>\n",
              "    </tr>\n",
              "  </thead>\n",
              "  <tbody>\n",
              "    <tr>\n",
              "      <th>2000-01-03</th>\n",
              "      <td>HDFC</td>\n",
              "      <td>EQ</td>\n",
              "      <td>271.75</td>\n",
              "      <td>293.50</td>\n",
              "      <td>293.50</td>\n",
              "      <td>293.50</td>\n",
              "      <td>293.50</td>\n",
              "      <td>293.50</td>\n",
              "      <td>293.50</td>\n",
              "      <td>22744</td>\n",
              "      <td>6.675364e+11</td>\n",
              "      <td>NaN</td>\n",
              "      <td>NaN</td>\n",
              "      <td>NaN</td>\n",
              "    </tr>\n",
              "    <tr>\n",
              "      <th>2000-01-04</th>\n",
              "      <td>HDFC</td>\n",
              "      <td>EQ</td>\n",
              "      <td>293.50</td>\n",
              "      <td>317.00</td>\n",
              "      <td>317.00</td>\n",
              "      <td>297.00</td>\n",
              "      <td>304.00</td>\n",
              "      <td>304.05</td>\n",
              "      <td>303.62</td>\n",
              "      <td>255251</td>\n",
              "      <td>7.749972e+12</td>\n",
              "      <td>NaN</td>\n",
              "      <td>NaN</td>\n",
              "      <td>NaN</td>\n",
              "    </tr>\n",
              "    <tr>\n",
              "      <th>2000-01-05</th>\n",
              "      <td>HDFC</td>\n",
              "      <td>EQ</td>\n",
              "      <td>304.05</td>\n",
              "      <td>290.00</td>\n",
              "      <td>303.90</td>\n",
              "      <td>285.00</td>\n",
              "      <td>295.00</td>\n",
              "      <td>292.80</td>\n",
              "      <td>294.53</td>\n",
              "      <td>269087</td>\n",
              "      <td>7.925368e+12</td>\n",
              "      <td>NaN</td>\n",
              "      <td>NaN</td>\n",
              "      <td>NaN</td>\n",
              "    </tr>\n",
              "    <tr>\n",
              "      <th>2000-01-06</th>\n",
              "      <td>HDFC</td>\n",
              "      <td>EQ</td>\n",
              "      <td>292.80</td>\n",
              "      <td>301.00</td>\n",
              "      <td>314.00</td>\n",
              "      <td>295.00</td>\n",
              "      <td>296.00</td>\n",
              "      <td>296.45</td>\n",
              "      <td>300.14</td>\n",
              "      <td>305916</td>\n",
              "      <td>9.181669e+12</td>\n",
              "      <td>NaN</td>\n",
              "      <td>NaN</td>\n",
              "      <td>NaN</td>\n",
              "    </tr>\n",
              "    <tr>\n",
              "      <th>2000-01-07</th>\n",
              "      <td>HDFC</td>\n",
              "      <td>EQ</td>\n",
              "      <td>296.45</td>\n",
              "      <td>290.00</td>\n",
              "      <td>296.35</td>\n",
              "      <td>281.00</td>\n",
              "      <td>287.10</td>\n",
              "      <td>286.55</td>\n",
              "      <td>288.80</td>\n",
              "      <td>197039</td>\n",
              "      <td>5.690480e+12</td>\n",
              "      <td>NaN</td>\n",
              "      <td>NaN</td>\n",
              "      <td>NaN</td>\n",
              "    </tr>\n",
              "    <tr>\n",
              "      <th>...</th>\n",
              "      <td>...</td>\n",
              "      <td>...</td>\n",
              "      <td>...</td>\n",
              "      <td>...</td>\n",
              "      <td>...</td>\n",
              "      <td>...</td>\n",
              "      <td>...</td>\n",
              "      <td>...</td>\n",
              "      <td>...</td>\n",
              "      <td>...</td>\n",
              "      <td>...</td>\n",
              "      <td>...</td>\n",
              "      <td>...</td>\n",
              "      <td>...</td>\n",
              "    </tr>\n",
              "    <tr>\n",
              "      <th>2021-04-26</th>\n",
              "      <td>HDFC</td>\n",
              "      <td>EQ</td>\n",
              "      <td>2497.35</td>\n",
              "      <td>2500.00</td>\n",
              "      <td>2534.10</td>\n",
              "      <td>2483.20</td>\n",
              "      <td>2502.00</td>\n",
              "      <td>2509.80</td>\n",
              "      <td>2508.07</td>\n",
              "      <td>3916088</td>\n",
              "      <td>9.821805e+14</td>\n",
              "      <td>121028.0</td>\n",
              "      <td>2440395.0</td>\n",
              "      <td>0.6232</td>\n",
              "    </tr>\n",
              "    <tr>\n",
              "      <th>2021-04-27</th>\n",
              "      <td>HDFC</td>\n",
              "      <td>EQ</td>\n",
              "      <td>2509.80</td>\n",
              "      <td>2494.15</td>\n",
              "      <td>2526.80</td>\n",
              "      <td>2486.25</td>\n",
              "      <td>2514.00</td>\n",
              "      <td>2518.40</td>\n",
              "      <td>2509.18</td>\n",
              "      <td>2040799</td>\n",
              "      <td>5.120730e+14</td>\n",
              "      <td>102250.0</td>\n",
              "      <td>1040749.0</td>\n",
              "      <td>0.5100</td>\n",
              "    </tr>\n",
              "    <tr>\n",
              "      <th>2021-04-28</th>\n",
              "      <td>HDFC</td>\n",
              "      <td>EQ</td>\n",
              "      <td>2518.40</td>\n",
              "      <td>2516.10</td>\n",
              "      <td>2609.00</td>\n",
              "      <td>2508.30</td>\n",
              "      <td>2575.00</td>\n",
              "      <td>2577.00</td>\n",
              "      <td>2574.21</td>\n",
              "      <td>3407461</td>\n",
              "      <td>8.771527e+14</td>\n",
              "      <td>117425.0</td>\n",
              "      <td>1815110.0</td>\n",
              "      <td>0.5327</td>\n",
              "    </tr>\n",
              "    <tr>\n",
              "      <th>2021-04-29</th>\n",
              "      <td>HDFC</td>\n",
              "      <td>EQ</td>\n",
              "      <td>2577.00</td>\n",
              "      <td>2590.90</td>\n",
              "      <td>2628.00</td>\n",
              "      <td>2533.00</td>\n",
              "      <td>2539.70</td>\n",
              "      <td>2538.85</td>\n",
              "      <td>2569.65</td>\n",
              "      <td>3005468</td>\n",
              "      <td>7.722995e+14</td>\n",
              "      <td>132826.0</td>\n",
              "      <td>1472924.0</td>\n",
              "      <td>0.4901</td>\n",
              "    </tr>\n",
              "    <tr>\n",
              "      <th>2021-04-30</th>\n",
              "      <td>HDFC</td>\n",
              "      <td>EQ</td>\n",
              "      <td>2538.85</td>\n",
              "      <td>2503.10</td>\n",
              "      <td>2525.00</td>\n",
              "      <td>2411.10</td>\n",
              "      <td>2433.25</td>\n",
              "      <td>2420.10</td>\n",
              "      <td>2445.94</td>\n",
              "      <td>6024595</td>\n",
              "      <td>1.473581e+15</td>\n",
              "      <td>224454.0</td>\n",
              "      <td>3839105.0</td>\n",
              "      <td>0.6372</td>\n",
              "    </tr>\n",
              "  </tbody>\n",
              "</table>\n",
              "<p>5306 rows × 14 columns</p>\n",
              "</div>\n",
              "      <button class=\"colab-df-convert\" onclick=\"convertToInteractive('df-2302d8c2-8d02-403f-8d91-8969200b65b2')\"\n",
              "              title=\"Convert this dataframe to an interactive table.\"\n",
              "              style=\"display:none;\">\n",
              "        \n",
              "  <svg xmlns=\"http://www.w3.org/2000/svg\" height=\"24px\"viewBox=\"0 0 24 24\"\n",
              "       width=\"24px\">\n",
              "    <path d=\"M0 0h24v24H0V0z\" fill=\"none\"/>\n",
              "    <path d=\"M18.56 5.44l.94 2.06.94-2.06 2.06-.94-2.06-.94-.94-2.06-.94 2.06-2.06.94zm-11 1L8.5 8.5l.94-2.06 2.06-.94-2.06-.94L8.5 2.5l-.94 2.06-2.06.94zm10 10l.94 2.06.94-2.06 2.06-.94-2.06-.94-.94-2.06-.94 2.06-2.06.94z\"/><path d=\"M17.41 7.96l-1.37-1.37c-.4-.4-.92-.59-1.43-.59-.52 0-1.04.2-1.43.59L10.3 9.45l-7.72 7.72c-.78.78-.78 2.05 0 2.83L4 21.41c.39.39.9.59 1.41.59.51 0 1.02-.2 1.41-.59l7.78-7.78 2.81-2.81c.8-.78.8-2.07 0-2.86zM5.41 20L4 18.59l7.72-7.72 1.47 1.35L5.41 20z\"/>\n",
              "  </svg>\n",
              "      </button>\n",
              "      \n",
              "  <style>\n",
              "    .colab-df-container {\n",
              "      display:flex;\n",
              "      flex-wrap:wrap;\n",
              "      gap: 12px;\n",
              "    }\n",
              "\n",
              "    .colab-df-convert {\n",
              "      background-color: #E8F0FE;\n",
              "      border: none;\n",
              "      border-radius: 50%;\n",
              "      cursor: pointer;\n",
              "      display: none;\n",
              "      fill: #1967D2;\n",
              "      height: 32px;\n",
              "      padding: 0 0 0 0;\n",
              "      width: 32px;\n",
              "    }\n",
              "\n",
              "    .colab-df-convert:hover {\n",
              "      background-color: #E2EBFA;\n",
              "      box-shadow: 0px 1px 2px rgba(60, 64, 67, 0.3), 0px 1px 3px 1px rgba(60, 64, 67, 0.15);\n",
              "      fill: #174EA6;\n",
              "    }\n",
              "\n",
              "    [theme=dark] .colab-df-convert {\n",
              "      background-color: #3B4455;\n",
              "      fill: #D2E3FC;\n",
              "    }\n",
              "\n",
              "    [theme=dark] .colab-df-convert:hover {\n",
              "      background-color: #434B5C;\n",
              "      box-shadow: 0px 1px 3px 1px rgba(0, 0, 0, 0.15);\n",
              "      filter: drop-shadow(0px 1px 2px rgba(0, 0, 0, 0.3));\n",
              "      fill: #FFFFFF;\n",
              "    }\n",
              "  </style>\n",
              "\n",
              "      <script>\n",
              "        const buttonEl =\n",
              "          document.querySelector('#df-2302d8c2-8d02-403f-8d91-8969200b65b2 button.colab-df-convert');\n",
              "        buttonEl.style.display =\n",
              "          google.colab.kernel.accessAllowed ? 'block' : 'none';\n",
              "\n",
              "        async function convertToInteractive(key) {\n",
              "          const element = document.querySelector('#df-2302d8c2-8d02-403f-8d91-8969200b65b2');\n",
              "          const dataTable =\n",
              "            await google.colab.kernel.invokeFunction('convertToInteractive',\n",
              "                                                     [key], {});\n",
              "          if (!dataTable) return;\n",
              "\n",
              "          const docLinkHtml = 'Like what you see? Visit the ' +\n",
              "            '<a target=\"_blank\" href=https://colab.research.google.com/notebooks/data_table.ipynb>data table notebook</a>'\n",
              "            + ' to learn more about interactive tables.';\n",
              "          element.innerHTML = '';\n",
              "          dataTable['output_type'] = 'display_data';\n",
              "          await google.colab.output.renderOutput(dataTable, element);\n",
              "          const docLink = document.createElement('div');\n",
              "          docLink.innerHTML = docLinkHtml;\n",
              "          element.appendChild(docLink);\n",
              "        }\n",
              "      </script>\n",
              "    </div>\n",
              "  </div>\n",
              "  "
            ]
          },
          "metadata": {},
          "execution_count": 303
        }
      ]
    },
    {
      "cell_type": "code",
      "source": [
        "df['Date']=df.index"
      ],
      "metadata": {
        "id": "E7X-jyItcm8U"
      },
      "execution_count": 304,
      "outputs": []
    },
    {
      "cell_type": "code",
      "source": [
        "start_date='2020-01-01'\n",
        "end_date='2020-12-31'\n",
        "mask=(df['Date']>=start_date)&(df['Date']<=end_date)"
      ],
      "metadata": {
        "id": "A9eSrJ1Dcot3"
      },
      "execution_count": 305,
      "outputs": []
    },
    {
      "cell_type": "code",
      "source": [
        "df=df.loc[mask]"
      ],
      "metadata": {
        "id": "_Pfuk7zicqIx"
      },
      "execution_count": 306,
      "outputs": []
    },
    {
      "cell_type": "code",
      "source": [
        "df=df.loc[mask]"
      ],
      "metadata": {
        "id": "MsTtlYUncrcn"
      },
      "execution_count": 307,
      "outputs": []
    },
    {
      "cell_type": "code",
      "source": [
        "df=df.drop(columns=['Series','Symbol','Open','High','Low','Last','Close','VWAP','Volume','Turnover','Trades','Deliverable Volume','%Deliverble','Date'])"
      ],
      "metadata": {
        "id": "aV7QwBEDcvq2"
      },
      "execution_count": 308,
      "outputs": []
    },
    {
      "cell_type": "code",
      "source": [
        "Ntest=math.trunc(0.3*len(df))\n",
        "train=df.iloc[:-Ntest]\n",
        "test=df.iloc[-Ntest:]"
      ],
      "metadata": {
        "id": "cUuhMhL0c1qi"
      },
      "execution_count": 309,
      "outputs": []
    },
    {
      "cell_type": "code",
      "source": [
        "train_idx=df.index<=train.index[-1]\n",
        "test_idx=df.index>train.index[-1]"
      ],
      "metadata": {
        "id": "YFtIIrsqc3ch"
      },
      "execution_count": 310,
      "outputs": []
    },
    {
      "cell_type": "code",
      "source": [
        "df['Diff Prev Close']=df['Prev Close'].diff()"
      ],
      "metadata": {
        "id": "zh1z6dQDc6KA"
      },
      "execution_count": 311,
      "outputs": []
    },
    {
      "cell_type": "code",
      "source": [
        "series=df['Diff Prev Close'].dropna().to_numpy()\n",
        "\n",
        "T=50\n",
        "X=[]\n",
        "Y=[]\n",
        "for t in range(len(series)-T):\n",
        "  x=series[t:t+T]\n",
        "  X.append(x)\n",
        "  y=series[t+T]\n",
        "  Y.append(y)\n",
        "\n",
        "X=np.array(X).reshape(-1,T)\n",
        "Y=np.array(Y)\n",
        "N=len(X)\n",
        "print(\"X.shape\",X.shape,\"Y.shape\",Y.shape)"
      ],
      "metadata": {
        "colab": {
          "base_uri": "https://localhost:8080/"
        },
        "id": "GH9c1VIMdLvZ",
        "outputId": "954808ce-2955-46fc-fe62-390be86573a3"
      },
      "execution_count": 312,
      "outputs": [
        {
          "output_type": "stream",
          "name": "stdout",
          "text": [
            "X.shape (201, 50) Y.shape (201,)\n"
          ]
        }
      ]
    },
    {
      "cell_type": "code",
      "source": [
        "Xtrain,Ytrain=X[:-Ntest],Y[:-Ntest]\n",
        "Xtest,Ytest=X[-Ntest:],Y[-Ntest:]"
      ],
      "metadata": {
        "id": "AyyCdgD1dQeH"
      },
      "execution_count": 313,
      "outputs": []
    },
    {
      "cell_type": "markdown",
      "source": [
        "ANN"
      ],
      "metadata": {
        "id": "P4csTdPeeavE"
      }
    },
    {
      "cell_type": "code",
      "source": [
        "i=Input(shape=(T,))\n",
        "x=Dense(400,activation='relu')(i)\n",
        "x=Dense(100,activation='relu')(x)\n",
        "x=Dense(50,activation='relu')(x)\n",
        "x=Dense(1,activation='relu')(x)\n",
        "model_ann=Model(i,x)\n",
        "model_ann.summary()"
      ],
      "metadata": {
        "colab": {
          "base_uri": "https://localhost:8080/"
        },
        "id": "cEHrg-sQdSpS",
        "outputId": "6aeb7a3a-f247-4196-a54f-66b34c43c62c"
      },
      "execution_count": 314,
      "outputs": [
        {
          "output_type": "stream",
          "name": "stdout",
          "text": [
            "Model: \"model_20\"\n",
            "_________________________________________________________________\n",
            " Layer (type)                Output Shape              Param #   \n",
            "=================================================================\n",
            " input_21 (InputLayer)       [(None, 50)]              0         \n",
            "                                                                 \n",
            " dense_55 (Dense)            (None, 400)               20400     \n",
            "                                                                 \n",
            " dense_56 (Dense)            (None, 100)               40100     \n",
            "                                                                 \n",
            " dense_57 (Dense)            (None, 50)                5050      \n",
            "                                                                 \n",
            " dense_58 (Dense)            (None, 1)                 51        \n",
            "                                                                 \n",
            "=================================================================\n",
            "Total params: 65,601\n",
            "Trainable params: 65,601\n",
            "Non-trainable params: 0\n",
            "_________________________________________________________________\n"
          ]
        }
      ]
    },
    {
      "cell_type": "code",
      "source": [
        "model_ann.compile(\n",
        "    loss='mse',\n",
        "    optimizer='adamax',\n",
        "    metrics='mae'\n",
        ")"
      ],
      "metadata": {
        "id": "GSjK1FukdUVe"
      },
      "execution_count": 315,
      "outputs": []
    },
    {
      "cell_type": "code",
      "source": [
        "r=model_ann.fit(\n",
        "    Xtrain,\n",
        "    Ytrain,\n",
        "    epochs=100,\n",
        "    validation_data=(Xtest,Ytest)\n",
        ")"
      ],
      "metadata": {
        "colab": {
          "base_uri": "https://localhost:8080/"
        },
        "id": "bp97xaLkdXKe",
        "outputId": "d02c2c97-7ad6-4198-a6db-8f63a9284bca"
      },
      "execution_count": 316,
      "outputs": [
        {
          "output_type": "stream",
          "name": "stdout",
          "text": [
            "Epoch 1/100\n",
            "4/4 [==============================] - 0s 46ms/step - loss: 4578.1890 - mae: 46.3484 - val_loss: 1844.2164 - val_mae: 31.8461\n",
            "Epoch 2/100\n",
            "4/4 [==============================] - 0s 10ms/step - loss: 4389.7676 - mae: 45.7411 - val_loss: 1845.3523 - val_mae: 31.8613\n",
            "Epoch 3/100\n",
            "4/4 [==============================] - 0s 10ms/step - loss: 4371.3091 - mae: 45.5660 - val_loss: 1845.3523 - val_mae: 31.8613\n",
            "Epoch 4/100\n",
            "4/4 [==============================] - 0s 11ms/step - loss: 4367.2856 - mae: 45.5136 - val_loss: 1845.3523 - val_mae: 31.8613\n",
            "Epoch 5/100\n",
            "4/4 [==============================] - 0s 9ms/step - loss: 4357.5674 - mae: 45.2523 - val_loss: 1845.3523 - val_mae: 31.8613\n",
            "Epoch 6/100\n",
            "4/4 [==============================] - 0s 8ms/step - loss: 4358.1255 - mae: 45.3040 - val_loss: 1845.3523 - val_mae: 31.8613\n",
            "Epoch 7/100\n",
            "4/4 [==============================] - 0s 15ms/step - loss: 4358.4365 - mae: 45.3201 - val_loss: 1845.3523 - val_mae: 31.8613\n",
            "Epoch 8/100\n",
            "4/4 [==============================] - 0s 9ms/step - loss: 4358.4858 - mae: 45.3223 - val_loss: 1845.3523 - val_mae: 31.8613\n",
            "Epoch 9/100\n",
            "4/4 [==============================] - 0s 10ms/step - loss: 4358.0293 - mae: 45.2982 - val_loss: 1845.3523 - val_mae: 31.8613\n",
            "Epoch 10/100\n",
            "4/4 [==============================] - 0s 9ms/step - loss: 4357.8203 - mae: 45.2832 - val_loss: 1845.3523 - val_mae: 31.8613\n",
            "Epoch 11/100\n",
            "4/4 [==============================] - 0s 9ms/step - loss: 4357.5317 - mae: 45.2378 - val_loss: 1845.3523 - val_mae: 31.8613\n",
            "Epoch 12/100\n",
            "4/4 [==============================] - 0s 10ms/step - loss: 4357.5493 - mae: 45.2472 - val_loss: 1845.3523 - val_mae: 31.8613\n",
            "Epoch 13/100\n",
            "4/4 [==============================] - 0s 8ms/step - loss: 4357.5938 - mae: 45.2575 - val_loss: 1845.3523 - val_mae: 31.8613\n",
            "Epoch 14/100\n",
            "4/4 [==============================] - 0s 14ms/step - loss: 4357.6001 - mae: 45.2587 - val_loss: 1845.3523 - val_mae: 31.8613\n",
            "Epoch 15/100\n",
            "4/4 [==============================] - 0s 10ms/step - loss: 4357.5654 - mae: 45.2518 - val_loss: 1845.3523 - val_mae: 31.8613\n",
            "Epoch 16/100\n",
            "4/4 [==============================] - 0s 12ms/step - loss: 4357.5479 - mae: 45.2468 - val_loss: 1845.3523 - val_mae: 31.8613\n",
            "Epoch 17/100\n",
            "4/4 [==============================] - 0s 9ms/step - loss: 4357.5327 - mae: 45.2379 - val_loss: 1845.3523 - val_mae: 31.8613\n",
            "Epoch 18/100\n",
            "4/4 [==============================] - 0s 10ms/step - loss: 4357.5317 - mae: 45.2364 - val_loss: 1845.3523 - val_mae: 31.8613\n",
            "Epoch 19/100\n",
            "4/4 [==============================] - 0s 10ms/step - loss: 4357.5332 - mae: 45.2390 - val_loss: 1845.3523 - val_mae: 31.8613\n",
            "Epoch 20/100\n",
            "4/4 [==============================] - 0s 10ms/step - loss: 4357.5376 - mae: 45.2425 - val_loss: 1845.3523 - val_mae: 31.8613\n",
            "Epoch 21/100\n",
            "4/4 [==============================] - 0s 9ms/step - loss: 4357.5366 - mae: 45.2417 - val_loss: 1845.3523 - val_mae: 31.8613\n",
            "Epoch 22/100\n",
            "4/4 [==============================] - 0s 10ms/step - loss: 4357.5352 - mae: 45.2405 - val_loss: 1845.3523 - val_mae: 31.8613\n",
            "Epoch 23/100\n",
            "4/4 [==============================] - 0s 10ms/step - loss: 4357.5317 - mae: 45.2369 - val_loss: 1845.3523 - val_mae: 31.8613\n",
            "Epoch 24/100\n",
            "4/4 [==============================] - 0s 17ms/step - loss: 4357.5312 - mae: 45.2355 - val_loss: 1845.3523 - val_mae: 31.8613\n",
            "Epoch 25/100\n",
            "4/4 [==============================] - 0s 9ms/step - loss: 4357.5317 - mae: 45.2367 - val_loss: 1845.3523 - val_mae: 31.8613\n",
            "Epoch 26/100\n",
            "4/4 [==============================] - 0s 16ms/step - loss: 4357.5322 - mae: 45.2375 - val_loss: 1845.3523 - val_mae: 31.8613\n",
            "Epoch 27/100\n",
            "4/4 [==============================] - 0s 14ms/step - loss: 4357.5322 - mae: 45.2375 - val_loss: 1845.3523 - val_mae: 31.8613\n",
            "Epoch 28/100\n",
            "4/4 [==============================] - 0s 12ms/step - loss: 4357.5317 - mae: 45.2367 - val_loss: 1845.3523 - val_mae: 31.8613\n",
            "Epoch 29/100\n",
            "4/4 [==============================] - 0s 9ms/step - loss: 4357.5317 - mae: 45.2359 - val_loss: 1845.3523 - val_mae: 31.8613\n",
            "Epoch 30/100\n",
            "4/4 [==============================] - 0s 10ms/step - loss: 4357.5317 - mae: 45.2356 - val_loss: 1845.3523 - val_mae: 31.8613\n",
            "Epoch 31/100\n",
            "4/4 [==============================] - 0s 9ms/step - loss: 4357.5312 - mae: 45.2354 - val_loss: 1845.3523 - val_mae: 31.8613\n",
            "Epoch 32/100\n",
            "4/4 [==============================] - 0s 10ms/step - loss: 4357.5317 - mae: 45.2359 - val_loss: 1845.3523 - val_mae: 31.8613\n",
            "Epoch 33/100\n",
            "4/4 [==============================] - 0s 10ms/step - loss: 4357.5317 - mae: 45.2359 - val_loss: 1845.3523 - val_mae: 31.8613\n",
            "Epoch 34/100\n",
            "4/4 [==============================] - 0s 12ms/step - loss: 4357.5317 - mae: 45.2358 - val_loss: 1845.3523 - val_mae: 31.8613\n",
            "Epoch 35/100\n",
            "4/4 [==============================] - 0s 9ms/step - loss: 4357.5317 - mae: 45.2356 - val_loss: 1845.3523 - val_mae: 31.8613\n",
            "Epoch 36/100\n",
            "4/4 [==============================] - 0s 9ms/step - loss: 4357.5317 - mae: 45.2355 - val_loss: 1845.3523 - val_mae: 31.8613\n",
            "Epoch 37/100\n",
            "4/4 [==============================] - 0s 10ms/step - loss: 4357.5312 - mae: 45.2354 - val_loss: 1845.3523 - val_mae: 31.8613\n",
            "Epoch 38/100\n",
            "4/4 [==============================] - 0s 17ms/step - loss: 4357.5312 - mae: 45.2355 - val_loss: 1845.3523 - val_mae: 31.8613\n",
            "Epoch 39/100\n",
            "4/4 [==============================] - 0s 17ms/step - loss: 4357.5317 - mae: 45.2355 - val_loss: 1845.3523 - val_mae: 31.8613\n",
            "Epoch 40/100\n",
            "4/4 [==============================] - 0s 11ms/step - loss: 4357.5312 - mae: 45.2355 - val_loss: 1845.3523 - val_mae: 31.8613\n",
            "Epoch 41/100\n",
            "4/4 [==============================] - 0s 9ms/step - loss: 4357.5312 - mae: 45.2354 - val_loss: 1845.3523 - val_mae: 31.8613\n",
            "Epoch 42/100\n",
            "4/4 [==============================] - 0s 9ms/step - loss: 4357.5317 - mae: 45.2353 - val_loss: 1845.3523 - val_mae: 31.8613\n",
            "Epoch 43/100\n",
            "4/4 [==============================] - 0s 9ms/step - loss: 4357.5317 - mae: 45.2354 - val_loss: 1845.3523 - val_mae: 31.8613\n",
            "Epoch 44/100\n",
            "4/4 [==============================] - 0s 9ms/step - loss: 4357.5317 - mae: 45.2354 - val_loss: 1845.3523 - val_mae: 31.8613\n",
            "Epoch 45/100\n",
            "4/4 [==============================] - 0s 10ms/step - loss: 4357.5317 - mae: 45.2354 - val_loss: 1845.3523 - val_mae: 31.8613\n",
            "Epoch 46/100\n",
            "4/4 [==============================] - 0s 10ms/step - loss: 4357.5317 - mae: 45.2353 - val_loss: 1845.3523 - val_mae: 31.8613\n",
            "Epoch 47/100\n",
            "4/4 [==============================] - 0s 9ms/step - loss: 4357.5317 - mae: 45.2353 - val_loss: 1845.3523 - val_mae: 31.8613\n",
            "Epoch 48/100\n",
            "4/4 [==============================] - 0s 10ms/step - loss: 4357.5317 - mae: 45.2353 - val_loss: 1845.3523 - val_mae: 31.8613\n",
            "Epoch 49/100\n",
            "4/4 [==============================] - 0s 10ms/step - loss: 4357.5317 - mae: 45.2353 - val_loss: 1845.3523 - val_mae: 31.8613\n",
            "Epoch 50/100\n",
            "4/4 [==============================] - 0s 9ms/step - loss: 4357.5312 - mae: 45.2353 - val_loss: 1845.3523 - val_mae: 31.8613\n",
            "Epoch 51/100\n",
            "4/4 [==============================] - 0s 9ms/step - loss: 4357.5317 - mae: 45.2353 - val_loss: 1845.3523 - val_mae: 31.8613\n",
            "Epoch 52/100\n",
            "4/4 [==============================] - 0s 8ms/step - loss: 4357.5312 - mae: 45.2353 - val_loss: 1845.3523 - val_mae: 31.8613\n",
            "Epoch 53/100\n",
            "4/4 [==============================] - 0s 9ms/step - loss: 4357.5312 - mae: 45.2353 - val_loss: 1845.3523 - val_mae: 31.8613\n",
            "Epoch 54/100\n",
            "4/4 [==============================] - 0s 10ms/step - loss: 4357.5317 - mae: 45.2353 - val_loss: 1845.3523 - val_mae: 31.8613\n",
            "Epoch 55/100\n",
            "4/4 [==============================] - 0s 9ms/step - loss: 4357.5312 - mae: 45.2353 - val_loss: 1845.3523 - val_mae: 31.8613\n",
            "Epoch 56/100\n",
            "4/4 [==============================] - 0s 9ms/step - loss: 4357.5317 - mae: 45.2353 - val_loss: 1845.3523 - val_mae: 31.8613\n",
            "Epoch 57/100\n",
            "4/4 [==============================] - 0s 9ms/step - loss: 4357.5317 - mae: 45.2353 - val_loss: 1845.3523 - val_mae: 31.8613\n",
            "Epoch 58/100\n",
            "4/4 [==============================] - 0s 9ms/step - loss: 4357.5317 - mae: 45.2353 - val_loss: 1845.3523 - val_mae: 31.8613\n",
            "Epoch 59/100\n",
            "4/4 [==============================] - 0s 16ms/step - loss: 4357.5317 - mae: 45.2353 - val_loss: 1845.3523 - val_mae: 31.8613\n",
            "Epoch 60/100\n",
            "4/4 [==============================] - 0s 9ms/step - loss: 4357.5317 - mae: 45.2353 - val_loss: 1845.3523 - val_mae: 31.8613\n",
            "Epoch 61/100\n",
            "4/4 [==============================] - 0s 10ms/step - loss: 4357.5317 - mae: 45.2353 - val_loss: 1845.3523 - val_mae: 31.8613\n",
            "Epoch 62/100\n",
            "4/4 [==============================] - 0s 9ms/step - loss: 4357.5317 - mae: 45.2353 - val_loss: 1845.3523 - val_mae: 31.8613\n",
            "Epoch 63/100\n",
            "4/4 [==============================] - 0s 11ms/step - loss: 4357.5317 - mae: 45.2353 - val_loss: 1845.3523 - val_mae: 31.8613\n",
            "Epoch 64/100\n",
            "4/4 [==============================] - 0s 10ms/step - loss: 4357.5317 - mae: 45.2353 - val_loss: 1845.3523 - val_mae: 31.8613\n",
            "Epoch 65/100\n",
            "4/4 [==============================] - 0s 11ms/step - loss: 4357.5317 - mae: 45.2353 - val_loss: 1845.3523 - val_mae: 31.8613\n",
            "Epoch 66/100\n",
            "4/4 [==============================] - 0s 10ms/step - loss: 4357.5317 - mae: 45.2353 - val_loss: 1845.3523 - val_mae: 31.8613\n",
            "Epoch 67/100\n",
            "4/4 [==============================] - 0s 8ms/step - loss: 4357.5317 - mae: 45.2353 - val_loss: 1845.3523 - val_mae: 31.8613\n",
            "Epoch 68/100\n",
            "4/4 [==============================] - 0s 8ms/step - loss: 4357.5317 - mae: 45.2353 - val_loss: 1845.3523 - val_mae: 31.8613\n",
            "Epoch 69/100\n",
            "4/4 [==============================] - 0s 9ms/step - loss: 4357.5317 - mae: 45.2353 - val_loss: 1845.3523 - val_mae: 31.8613\n",
            "Epoch 70/100\n",
            "4/4 [==============================] - 0s 10ms/step - loss: 4357.5317 - mae: 45.2353 - val_loss: 1845.3523 - val_mae: 31.8613\n",
            "Epoch 71/100\n",
            "4/4 [==============================] - 0s 9ms/step - loss: 4357.5312 - mae: 45.2353 - val_loss: 1845.3523 - val_mae: 31.8613\n",
            "Epoch 72/100\n",
            "4/4 [==============================] - 0s 13ms/step - loss: 4357.5312 - mae: 45.2353 - val_loss: 1845.3523 - val_mae: 31.8613\n",
            "Epoch 73/100\n",
            "4/4 [==============================] - 0s 10ms/step - loss: 4357.5312 - mae: 45.2353 - val_loss: 1845.3523 - val_mae: 31.8613\n",
            "Epoch 74/100\n",
            "4/4 [==============================] - 0s 10ms/step - loss: 4357.5317 - mae: 45.2353 - val_loss: 1845.3523 - val_mae: 31.8613\n",
            "Epoch 75/100\n",
            "4/4 [==============================] - 0s 12ms/step - loss: 4357.5312 - mae: 45.2353 - val_loss: 1845.3523 - val_mae: 31.8613\n",
            "Epoch 76/100\n",
            "4/4 [==============================] - 0s 10ms/step - loss: 4357.5317 - mae: 45.2353 - val_loss: 1845.3523 - val_mae: 31.8613\n",
            "Epoch 77/100\n",
            "4/4 [==============================] - 0s 10ms/step - loss: 4357.5317 - mae: 45.2353 - val_loss: 1845.3523 - val_mae: 31.8613\n",
            "Epoch 78/100\n",
            "4/4 [==============================] - 0s 11ms/step - loss: 4357.5317 - mae: 45.2353 - val_loss: 1845.3523 - val_mae: 31.8613\n",
            "Epoch 79/100\n",
            "4/4 [==============================] - 0s 11ms/step - loss: 4357.5312 - mae: 45.2353 - val_loss: 1845.3523 - val_mae: 31.8613\n",
            "Epoch 80/100\n",
            "4/4 [==============================] - 0s 10ms/step - loss: 4357.5312 - mae: 45.2353 - val_loss: 1845.3523 - val_mae: 31.8613\n",
            "Epoch 81/100\n",
            "4/4 [==============================] - 0s 10ms/step - loss: 4357.5317 - mae: 45.2353 - val_loss: 1845.3523 - val_mae: 31.8613\n",
            "Epoch 82/100\n",
            "4/4 [==============================] - 0s 11ms/step - loss: 4357.5317 - mae: 45.2353 - val_loss: 1845.3523 - val_mae: 31.8613\n",
            "Epoch 83/100\n",
            "4/4 [==============================] - 0s 9ms/step - loss: 4357.5317 - mae: 45.2353 - val_loss: 1845.3523 - val_mae: 31.8613\n",
            "Epoch 84/100\n",
            "4/4 [==============================] - 0s 10ms/step - loss: 4357.5312 - mae: 45.2353 - val_loss: 1845.3523 - val_mae: 31.8613\n",
            "Epoch 85/100\n",
            "4/4 [==============================] - 0s 10ms/step - loss: 4357.5317 - mae: 45.2353 - val_loss: 1845.3523 - val_mae: 31.8613\n",
            "Epoch 86/100\n",
            "4/4 [==============================] - 0s 10ms/step - loss: 4357.5317 - mae: 45.2353 - val_loss: 1845.3523 - val_mae: 31.8613\n",
            "Epoch 87/100\n",
            "4/4 [==============================] - 0s 10ms/step - loss: 4357.5317 - mae: 45.2353 - val_loss: 1845.3523 - val_mae: 31.8613\n",
            "Epoch 88/100\n",
            "4/4 [==============================] - 0s 9ms/step - loss: 4357.5317 - mae: 45.2353 - val_loss: 1845.3523 - val_mae: 31.8613\n",
            "Epoch 89/100\n",
            "4/4 [==============================] - 0s 12ms/step - loss: 4357.5317 - mae: 45.2353 - val_loss: 1845.3523 - val_mae: 31.8613\n",
            "Epoch 90/100\n",
            "4/4 [==============================] - 0s 11ms/step - loss: 4357.5317 - mae: 45.2353 - val_loss: 1845.3523 - val_mae: 31.8613\n",
            "Epoch 91/100\n",
            "4/4 [==============================] - 0s 11ms/step - loss: 4357.5312 - mae: 45.2353 - val_loss: 1845.3523 - val_mae: 31.8613\n",
            "Epoch 92/100\n",
            "4/4 [==============================] - 0s 11ms/step - loss: 4357.5312 - mae: 45.2353 - val_loss: 1845.3523 - val_mae: 31.8613\n",
            "Epoch 93/100\n",
            "4/4 [==============================] - 0s 10ms/step - loss: 4357.5317 - mae: 45.2353 - val_loss: 1845.3523 - val_mae: 31.8613\n",
            "Epoch 94/100\n",
            "4/4 [==============================] - 0s 10ms/step - loss: 4357.5312 - mae: 45.2353 - val_loss: 1845.3523 - val_mae: 31.8613\n",
            "Epoch 95/100\n",
            "4/4 [==============================] - 0s 16ms/step - loss: 4357.5317 - mae: 45.2353 - val_loss: 1845.3523 - val_mae: 31.8613\n",
            "Epoch 96/100\n",
            "4/4 [==============================] - 0s 12ms/step - loss: 4357.5317 - mae: 45.2353 - val_loss: 1845.3523 - val_mae: 31.8613\n",
            "Epoch 97/100\n",
            "4/4 [==============================] - 0s 11ms/step - loss: 4357.5317 - mae: 45.2353 - val_loss: 1845.3523 - val_mae: 31.8613\n",
            "Epoch 98/100\n",
            "4/4 [==============================] - 0s 9ms/step - loss: 4357.5317 - mae: 45.2353 - val_loss: 1845.3523 - val_mae: 31.8613\n",
            "Epoch 99/100\n",
            "4/4 [==============================] - 0s 10ms/step - loss: 4357.5312 - mae: 45.2353 - val_loss: 1845.3523 - val_mae: 31.8613\n",
            "Epoch 100/100\n",
            "4/4 [==============================] - 0s 11ms/step - loss: 4357.5317 - mae: 45.2353 - val_loss: 1845.3523 - val_mae: 31.8613\n"
          ]
        }
      ]
    },
    {
      "cell_type": "markdown",
      "source": [
        "CNN"
      ],
      "metadata": {
        "id": "Uekkb3dMfVs7"
      }
    },
    {
      "cell_type": "code",
      "source": [
        "i=Input(shape=(T,1))\n",
        "x=Conv1D(25,3,activation='relu')(i)\n",
        "x=MaxPooling1D(2)(x)\n",
        "x=Conv1D(50,3,activation='relu')(x)\n",
        "x=GlobalMaxPooling1D()(x)\n",
        "x=Dense(1)(x)\n",
        "model_cnn=Model(i,x)\n",
        "model_cnn.summary()"
      ],
      "metadata": {
        "colab": {
          "base_uri": "https://localhost:8080/"
        },
        "id": "Lboz32TXfjLR",
        "outputId": "2556de21-bcad-49f9-bfa0-d0163cfb67eb"
      },
      "execution_count": 317,
      "outputs": [
        {
          "output_type": "stream",
          "name": "stdout",
          "text": [
            "Model: \"model_21\"\n",
            "_________________________________________________________________\n",
            " Layer (type)                Output Shape              Param #   \n",
            "=================================================================\n",
            " input_22 (InputLayer)       [(None, 50, 1)]           0         \n",
            "                                                                 \n",
            " conv1d_10 (Conv1D)          (None, 48, 25)            100       \n",
            "                                                                 \n",
            " max_pooling1d_5 (MaxPooling  (None, 24, 25)           0         \n",
            " 1D)                                                             \n",
            "                                                                 \n",
            " conv1d_11 (Conv1D)          (None, 22, 50)            3800      \n",
            "                                                                 \n",
            " global_max_pooling1d_15 (Gl  (None, 50)               0         \n",
            " obalMaxPooling1D)                                               \n",
            "                                                                 \n",
            " dense_59 (Dense)            (None, 1)                 51        \n",
            "                                                                 \n",
            "=================================================================\n",
            "Total params: 3,951\n",
            "Trainable params: 3,951\n",
            "Non-trainable params: 0\n",
            "_________________________________________________________________\n"
          ]
        }
      ]
    },
    {
      "cell_type": "code",
      "source": [
        "model_cnn.compile(loss='mse',\n",
        "              optimizer='adamax',\n",
        "              metrics=['mae','mse'])"
      ],
      "metadata": {
        "id": "5OpT5ORafjVT"
      },
      "execution_count": 318,
      "outputs": []
    },
    {
      "cell_type": "code",
      "source": [
        "r=model_cnn.fit(\n",
        "    Xtrain,\n",
        "    Ytrain,\n",
        "    epochs=100,\n",
        "    validation_data=(Xtest,Ytest)\n",
        ")"
      ],
      "metadata": {
        "colab": {
          "base_uri": "https://localhost:8080/"
        },
        "id": "mZ9Q3O2vfjf2",
        "outputId": "7a1dce1b-8c22-417e-adc3-c751177723ff"
      },
      "execution_count": 319,
      "outputs": [
        {
          "output_type": "stream",
          "name": "stdout",
          "text": [
            "Epoch 1/100\n",
            "4/4 [==============================] - 1s 66ms/step - loss: 6682.9326 - mae: 59.2014 - mse: 6682.9326 - val_loss: 1894.6177 - val_mae: 31.9745 - val_mse: 1894.6177\n",
            "Epoch 2/100\n",
            "4/4 [==============================] - 0s 12ms/step - loss: 4830.4946 - mae: 49.1504 - mse: 4830.4946 - val_loss: 1776.6715 - val_mae: 31.5894 - val_mse: 1776.6715\n",
            "Epoch 3/100\n",
            "4/4 [==============================] - 0s 11ms/step - loss: 4730.4902 - mae: 49.3206 - mse: 4730.4902 - val_loss: 1791.5017 - val_mae: 32.0353 - val_mse: 1791.5017\n",
            "Epoch 4/100\n",
            "4/4 [==============================] - 0s 10ms/step - loss: 4788.0479 - mae: 49.5341 - mse: 4788.0479 - val_loss: 1783.7871 - val_mae: 31.8886 - val_mse: 1783.7871\n",
            "Epoch 5/100\n",
            "4/4 [==============================] - 0s 10ms/step - loss: 4657.4297 - mae: 48.6321 - mse: 4657.4297 - val_loss: 1771.6359 - val_mae: 31.4698 - val_mse: 1771.6359\n",
            "Epoch 6/100\n",
            "4/4 [==============================] - 0s 11ms/step - loss: 4481.2876 - mae: 47.4094 - mse: 4481.2876 - val_loss: 1786.2179 - val_mae: 31.3551 - val_mse: 1786.2179\n",
            "Epoch 7/100\n",
            "4/4 [==============================] - 0s 10ms/step - loss: 4396.1489 - mae: 46.9035 - mse: 4396.1489 - val_loss: 1821.3060 - val_mae: 31.6090 - val_mse: 1821.3060\n",
            "Epoch 8/100\n",
            "4/4 [==============================] - 0s 11ms/step - loss: 4358.9424 - mae: 46.6644 - mse: 4358.9424 - val_loss: 1849.2550 - val_mae: 31.7765 - val_mse: 1849.2550\n",
            "Epoch 9/100\n",
            "4/4 [==============================] - 0s 11ms/step - loss: 4356.1572 - mae: 46.5438 - mse: 4356.1572 - val_loss: 1870.8767 - val_mae: 31.9382 - val_mse: 1870.8767\n",
            "Epoch 10/100\n",
            "4/4 [==============================] - 0s 12ms/step - loss: 4351.0317 - mae: 46.4755 - mse: 4351.0317 - val_loss: 1884.2744 - val_mae: 32.0386 - val_mse: 1884.2744\n",
            "Epoch 11/100\n",
            "4/4 [==============================] - 0s 17ms/step - loss: 4321.7490 - mae: 46.3120 - mse: 4321.7490 - val_loss: 1868.2996 - val_mae: 31.9386 - val_mse: 1868.2996\n",
            "Epoch 12/100\n",
            "4/4 [==============================] - 0s 16ms/step - loss: 4278.9902 - mae: 46.0594 - mse: 4278.9902 - val_loss: 1859.8254 - val_mae: 31.8877 - val_mse: 1859.8254\n",
            "Epoch 13/100\n",
            "4/4 [==============================] - 0s 13ms/step - loss: 4256.6152 - mae: 45.8666 - mse: 4256.6152 - val_loss: 1862.4629 - val_mae: 31.9179 - val_mse: 1862.4629\n",
            "Epoch 14/100\n",
            "4/4 [==============================] - 0s 12ms/step - loss: 4238.3105 - mae: 45.7898 - mse: 4238.3105 - val_loss: 1864.9399 - val_mae: 31.9455 - val_mse: 1864.9399\n",
            "Epoch 15/100\n",
            "4/4 [==============================] - 0s 11ms/step - loss: 4228.3931 - mae: 45.6917 - mse: 4228.3931 - val_loss: 1869.5377 - val_mae: 31.9861 - val_mse: 1869.5377\n",
            "Epoch 16/100\n",
            "4/4 [==============================] - 0s 10ms/step - loss: 4224.6045 - mae: 45.6904 - mse: 4224.6045 - val_loss: 1888.4166 - val_mae: 32.1188 - val_mse: 1888.4169\n",
            "Epoch 17/100\n",
            "4/4 [==============================] - 0s 12ms/step - loss: 4205.0537 - mae: 45.5220 - mse: 4205.0537 - val_loss: 1896.9071 - val_mae: 32.1791 - val_mse: 1896.9071\n",
            "Epoch 18/100\n",
            "4/4 [==============================] - 0s 13ms/step - loss: 4196.5444 - mae: 45.4612 - mse: 4196.5444 - val_loss: 1900.1960 - val_mae: 32.2083 - val_mse: 1900.1960\n",
            "Epoch 19/100\n",
            "4/4 [==============================] - 0s 17ms/step - loss: 4186.7339 - mae: 45.3614 - mse: 4186.7339 - val_loss: 1923.1146 - val_mae: 32.3745 - val_mse: 1923.1146\n",
            "Epoch 20/100\n",
            "4/4 [==============================] - 0s 11ms/step - loss: 4163.8667 - mae: 45.2354 - mse: 4163.8667 - val_loss: 1933.2250 - val_mae: 32.4513 - val_mse: 1933.2252\n",
            "Epoch 21/100\n",
            "4/4 [==============================] - 0s 14ms/step - loss: 4152.9810 - mae: 45.1789 - mse: 4152.9810 - val_loss: 1937.5813 - val_mae: 32.4897 - val_mse: 1937.5813\n",
            "Epoch 22/100\n",
            "4/4 [==============================] - 0s 11ms/step - loss: 4141.3643 - mae: 45.1060 - mse: 4141.3643 - val_loss: 1944.7319 - val_mae: 32.5448 - val_mse: 1944.7317\n",
            "Epoch 23/100\n",
            "4/4 [==============================] - 0s 12ms/step - loss: 4135.4492 - mae: 45.0815 - mse: 4135.4492 - val_loss: 1941.2079 - val_mae: 32.5306 - val_mse: 1941.2079\n",
            "Epoch 24/100\n",
            "4/4 [==============================] - 0s 15ms/step - loss: 4125.8091 - mae: 45.0225 - mse: 4125.8091 - val_loss: 1941.2869 - val_mae: 32.5429 - val_mse: 1941.2869\n",
            "Epoch 25/100\n",
            "4/4 [==============================] - 0s 11ms/step - loss: 4114.7012 - mae: 44.9310 - mse: 4114.7012 - val_loss: 1943.2223 - val_mae: 32.5670 - val_mse: 1943.2223\n",
            "Epoch 26/100\n",
            "4/4 [==============================] - 0s 11ms/step - loss: 4103.3779 - mae: 44.8872 - mse: 4103.3779 - val_loss: 1958.2119 - val_mae: 32.6834 - val_mse: 1958.2119\n",
            "Epoch 27/100\n",
            "4/4 [==============================] - 0s 12ms/step - loss: 4092.6777 - mae: 44.8352 - mse: 4092.6777 - val_loss: 1966.7906 - val_mae: 32.7545 - val_mse: 1966.7906\n",
            "Epoch 28/100\n",
            "4/4 [==============================] - 0s 10ms/step - loss: 4089.5090 - mae: 44.8203 - mse: 4089.5090 - val_loss: 1989.0266 - val_mae: 32.9147 - val_mse: 1989.0266\n",
            "Epoch 29/100\n",
            "4/4 [==============================] - 0s 14ms/step - loss: 4077.8896 - mae: 44.7785 - mse: 4077.8896 - val_loss: 1990.5804 - val_mae: 32.9347 - val_mse: 1990.5804\n",
            "Epoch 30/100\n",
            "4/4 [==============================] - 0s 11ms/step - loss: 4077.8894 - mae: 44.7533 - mse: 4077.8894 - val_loss: 1981.7388 - val_mae: 32.8871 - val_mse: 1981.7388\n",
            "Epoch 31/100\n",
            "4/4 [==============================] - 0s 11ms/step - loss: 4057.4885 - mae: 44.6758 - mse: 4057.4885 - val_loss: 1994.1108 - val_mae: 32.9755 - val_mse: 1994.1108\n",
            "Epoch 32/100\n",
            "4/4 [==============================] - 0s 11ms/step - loss: 4050.0476 - mae: 44.6513 - mse: 4050.0476 - val_loss: 2001.3842 - val_mae: 33.0293 - val_mse: 2001.3842\n",
            "Epoch 33/100\n",
            "4/4 [==============================] - 0s 12ms/step - loss: 4046.8528 - mae: 44.6414 - mse: 4046.8528 - val_loss: 2010.5350 - val_mae: 33.0928 - val_mse: 2010.5350\n",
            "Epoch 34/100\n",
            "4/4 [==============================] - 0s 12ms/step - loss: 4035.9790 - mae: 44.5867 - mse: 4035.9790 - val_loss: 2010.2792 - val_mae: 33.0972 - val_mse: 2010.2792\n",
            "Epoch 35/100\n",
            "4/4 [==============================] - 0s 12ms/step - loss: 4026.5142 - mae: 44.5082 - mse: 4026.5142 - val_loss: 2005.7567 - val_mae: 33.0740 - val_mse: 2005.7567\n",
            "Epoch 36/100\n",
            "4/4 [==============================] - 0s 11ms/step - loss: 4017.5654 - mae: 44.4765 - mse: 4017.5654 - val_loss: 2008.1902 - val_mae: 33.0940 - val_mse: 2008.1902\n",
            "Epoch 37/100\n",
            "4/4 [==============================] - 0s 12ms/step - loss: 4011.4158 - mae: 44.4491 - mse: 4011.4158 - val_loss: 2013.2404 - val_mae: 33.1337 - val_mse: 2013.2404\n",
            "Epoch 38/100\n",
            "4/4 [==============================] - 0s 12ms/step - loss: 4007.0427 - mae: 44.4551 - mse: 4007.0427 - val_loss: 2024.5643 - val_mae: 33.2186 - val_mse: 2024.5643\n",
            "Epoch 39/100\n",
            "4/4 [==============================] - 0s 12ms/step - loss: 3998.1404 - mae: 44.4091 - mse: 3998.1404 - val_loss: 2019.3948 - val_mae: 33.1864 - val_mse: 2019.3948\n",
            "Epoch 40/100\n",
            "4/4 [==============================] - 0s 11ms/step - loss: 3988.1323 - mae: 44.3537 - mse: 3988.1323 - val_loss: 2021.8293 - val_mae: 33.2093 - val_mse: 2021.8293\n",
            "Epoch 41/100\n",
            "4/4 [==============================] - 0s 11ms/step - loss: 3988.3220 - mae: 44.3524 - mse: 3988.3220 - val_loss: 2034.7660 - val_mae: 33.3053 - val_mse: 2034.7660\n",
            "Epoch 42/100\n",
            "4/4 [==============================] - 0s 12ms/step - loss: 3975.5588 - mae: 44.2761 - mse: 3975.5588 - val_loss: 2036.8998 - val_mae: 33.3247 - val_mse: 2036.8995\n",
            "Epoch 43/100\n",
            "4/4 [==============================] - 0s 11ms/step - loss: 3967.6003 - mae: 44.2533 - mse: 3967.6003 - val_loss: 2034.5673 - val_mae: 33.3139 - val_mse: 2034.5673\n",
            "Epoch 44/100\n",
            "4/4 [==============================] - 0s 13ms/step - loss: 3964.8364 - mae: 44.2336 - mse: 3964.8364 - val_loss: 2038.4850 - val_mae: 33.3476 - val_mse: 2038.4850\n",
            "Epoch 45/100\n",
            "4/4 [==============================] - 0s 12ms/step - loss: 3958.8286 - mae: 44.2069 - mse: 3958.8286 - val_loss: 2051.9285 - val_mae: 33.4522 - val_mse: 2051.9285\n",
            "Epoch 46/100\n",
            "4/4 [==============================] - 0s 17ms/step - loss: 3948.3889 - mae: 44.1574 - mse: 3948.3889 - val_loss: 2055.6050 - val_mae: 33.4887 - val_mse: 2055.6050\n",
            "Epoch 47/100\n",
            "4/4 [==============================] - 0s 12ms/step - loss: 3939.7183 - mae: 44.1106 - mse: 3939.7183 - val_loss: 2044.0975 - val_mae: 33.4014 - val_mse: 2044.0975\n",
            "Epoch 48/100\n",
            "4/4 [==============================] - 0s 12ms/step - loss: 3940.6318 - mae: 44.1171 - mse: 3940.6318 - val_loss: 2055.4524 - val_mae: 33.4994 - val_mse: 2055.4524\n",
            "Epoch 49/100\n",
            "4/4 [==============================] - 0s 11ms/step - loss: 3929.2917 - mae: 44.0457 - mse: 3929.2917 - val_loss: 2047.9817 - val_mae: 33.4443 - val_mse: 2047.9817\n",
            "Epoch 50/100\n",
            "4/4 [==============================] - 0s 11ms/step - loss: 3920.9639 - mae: 43.9844 - mse: 3920.9639 - val_loss: 2047.6075 - val_mae: 33.4481 - val_mse: 2047.6075\n",
            "Epoch 51/100\n",
            "4/4 [==============================] - 0s 12ms/step - loss: 3912.9656 - mae: 43.9457 - mse: 3912.9656 - val_loss: 2062.5320 - val_mae: 33.5781 - val_mse: 2062.5320\n",
            "Epoch 52/100\n",
            "4/4 [==============================] - 0s 13ms/step - loss: 3910.9697 - mae: 43.9239 - mse: 3910.9697 - val_loss: 2081.1565 - val_mae: 33.7327 - val_mse: 2081.1565\n",
            "Epoch 53/100\n",
            "4/4 [==============================] - 0s 13ms/step - loss: 3904.1284 - mae: 43.9459 - mse: 3904.1284 - val_loss: 2090.7366 - val_mae: 33.8160 - val_mse: 2090.7366\n",
            "Epoch 54/100\n",
            "4/4 [==============================] - 0s 11ms/step - loss: 3904.1125 - mae: 43.8906 - mse: 3904.1125 - val_loss: 2073.8813 - val_mae: 33.6907 - val_mse: 2073.8813\n",
            "Epoch 55/100\n",
            "4/4 [==============================] - 0s 11ms/step - loss: 3888.4329 - mae: 43.8120 - mse: 3888.4329 - val_loss: 2078.5471 - val_mae: 33.7357 - val_mse: 2078.5471\n",
            "Epoch 56/100\n",
            "4/4 [==============================] - 0s 14ms/step - loss: 3897.1401 - mae: 43.8385 - mse: 3897.1401 - val_loss: 2072.4055 - val_mae: 33.6946 - val_mse: 2072.4055\n",
            "Epoch 57/100\n",
            "4/4 [==============================] - 0s 17ms/step - loss: 3879.9365 - mae: 43.7644 - mse: 3879.9365 - val_loss: 2084.5391 - val_mae: 33.7952 - val_mse: 2084.5391\n",
            "Epoch 58/100\n",
            "4/4 [==============================] - 0s 12ms/step - loss: 3875.2302 - mae: 43.7608 - mse: 3875.2302 - val_loss: 2109.1873 - val_mae: 34.0045 - val_mse: 2109.1873\n",
            "Epoch 59/100\n",
            "4/4 [==============================] - 0s 11ms/step - loss: 3870.3169 - mae: 43.7502 - mse: 3870.3169 - val_loss: 2124.6013 - val_mae: 34.1386 - val_mse: 2124.6013\n",
            "Epoch 60/100\n",
            "4/4 [==============================] - 0s 17ms/step - loss: 3859.4182 - mae: 43.6788 - mse: 3859.4182 - val_loss: 2119.6008 - val_mae: 34.1012 - val_mse: 2119.6008\n",
            "Epoch 61/100\n",
            "4/4 [==============================] - 0s 19ms/step - loss: 3854.9514 - mae: 43.6628 - mse: 3854.9514 - val_loss: 2121.9099 - val_mae: 34.1270 - val_mse: 2121.9099\n",
            "Epoch 62/100\n",
            "4/4 [==============================] - 0s 19ms/step - loss: 3850.8242 - mae: 43.6092 - mse: 3850.8242 - val_loss: 2112.8799 - val_mae: 34.0588 - val_mse: 2112.8799\n",
            "Epoch 63/100\n",
            "4/4 [==============================] - 0s 11ms/step - loss: 3868.1565 - mae: 43.6987 - mse: 3868.1565 - val_loss: 2084.9978 - val_mae: 33.8393 - val_mse: 2084.9978\n",
            "Epoch 64/100\n",
            "4/4 [==============================] - 0s 10ms/step - loss: 3845.4365 - mae: 43.5596 - mse: 3845.4365 - val_loss: 2109.3513 - val_mae: 34.0385 - val_mse: 2109.3513\n",
            "Epoch 65/100\n",
            "4/4 [==============================] - 0s 10ms/step - loss: 3834.7217 - mae: 43.5096 - mse: 3834.7217 - val_loss: 2127.6077 - val_mae: 34.1909 - val_mse: 2127.6077\n",
            "Epoch 66/100\n",
            "4/4 [==============================] - 0s 13ms/step - loss: 3824.6311 - mae: 43.4482 - mse: 3824.6311 - val_loss: 2124.2874 - val_mae: 34.1677 - val_mse: 2124.2871\n",
            "Epoch 67/100\n",
            "4/4 [==============================] - 0s 11ms/step - loss: 3819.8093 - mae: 43.4201 - mse: 3819.8093 - val_loss: 2124.3047 - val_mae: 34.1718 - val_mse: 2124.3047\n",
            "Epoch 68/100\n",
            "4/4 [==============================] - 0s 12ms/step - loss: 3815.7141 - mae: 43.3910 - mse: 3815.7141 - val_loss: 2124.9409 - val_mae: 34.1796 - val_mse: 2124.9409\n",
            "Epoch 69/100\n",
            "4/4 [==============================] - 0s 13ms/step - loss: 3816.8667 - mae: 43.4114 - mse: 3816.8667 - val_loss: 2148.9678 - val_mae: 34.3837 - val_mse: 2148.9678\n",
            "Epoch 70/100\n",
            "4/4 [==============================] - 0s 11ms/step - loss: 3818.8352 - mae: 43.4331 - mse: 3818.8352 - val_loss: 2167.5818 - val_mae: 34.5431 - val_mse: 2167.5818\n",
            "Epoch 71/100\n",
            "4/4 [==============================] - 0s 12ms/step - loss: 3819.1677 - mae: 43.3991 - mse: 3819.1677 - val_loss: 2134.7732 - val_mae: 34.2672 - val_mse: 2134.7732\n",
            "Epoch 72/100\n",
            "4/4 [==============================] - 0s 12ms/step - loss: 3795.0273 - mae: 43.2583 - mse: 3795.0273 - val_loss: 2148.6318 - val_mae: 34.3840 - val_mse: 2148.6318\n",
            "Epoch 73/100\n",
            "4/4 [==============================] - 0s 11ms/step - loss: 3785.7544 - mae: 43.2089 - mse: 3785.7544 - val_loss: 2152.3850 - val_mae: 34.4188 - val_mse: 2152.3850\n",
            "Epoch 74/100\n",
            "4/4 [==============================] - 0s 11ms/step - loss: 3789.8154 - mae: 43.2193 - mse: 3789.8154 - val_loss: 2163.2266 - val_mae: 34.5133 - val_mse: 2163.2266\n",
            "Epoch 75/100\n",
            "4/4 [==============================] - 0s 11ms/step - loss: 3780.2512 - mae: 43.1793 - mse: 3780.2512 - val_loss: 2153.8411 - val_mae: 34.4373 - val_mse: 2153.8411\n",
            "Epoch 76/100\n",
            "4/4 [==============================] - 0s 12ms/step - loss: 3772.8145 - mae: 43.1602 - mse: 3772.8145 - val_loss: 2148.7683 - val_mae: 34.3964 - val_mse: 2148.7683\n",
            "Epoch 77/100\n",
            "4/4 [==============================] - 0s 14ms/step - loss: 3770.1477 - mae: 43.1333 - mse: 3770.1477 - val_loss: 2157.7891 - val_mae: 34.4755 - val_mse: 2157.7891\n",
            "Epoch 78/100\n",
            "4/4 [==============================] - 0s 16ms/step - loss: 3763.2017 - mae: 43.1297 - mse: 3763.2019 - val_loss: 2161.2429 - val_mae: 34.5099 - val_mse: 2161.2429\n",
            "Epoch 79/100\n",
            "4/4 [==============================] - 0s 11ms/step - loss: 3756.8740 - mae: 43.0837 - mse: 3756.8740 - val_loss: 2180.0374 - val_mae: 34.6814 - val_mse: 2180.0376\n",
            "Epoch 80/100\n",
            "4/4 [==============================] - 0s 17ms/step - loss: 3755.2080 - mae: 43.0782 - mse: 3755.2080 - val_loss: 2187.8232 - val_mae: 34.7532 - val_mse: 2187.8232\n",
            "Epoch 81/100\n",
            "4/4 [==============================] - 0s 11ms/step - loss: 3750.9038 - mae: 43.0416 - mse: 3750.9038 - val_loss: 2201.7197 - val_mae: 34.8768 - val_mse: 2201.7197\n",
            "Epoch 82/100\n",
            "4/4 [==============================] - 0s 10ms/step - loss: 3743.0906 - mae: 43.0159 - mse: 3743.0906 - val_loss: 2200.3779 - val_mae: 34.8685 - val_mse: 2200.3779\n",
            "Epoch 83/100\n",
            "4/4 [==============================] - 0s 10ms/step - loss: 3736.8040 - mae: 42.9913 - mse: 3736.8040 - val_loss: 2192.3301 - val_mae: 34.8022 - val_mse: 2192.3301\n",
            "Epoch 84/100\n",
            "4/4 [==============================] - 0s 11ms/step - loss: 3742.3193 - mae: 43.0914 - mse: 3742.3193 - val_loss: 2165.7922 - val_mae: 34.5668 - val_mse: 2165.7922\n",
            "Epoch 85/100\n",
            "4/4 [==============================] - 0s 12ms/step - loss: 3733.2922 - mae: 42.9937 - mse: 3733.2922 - val_loss: 2183.0833 - val_mae: 34.7271 - val_mse: 2183.0833\n",
            "Epoch 86/100\n",
            "4/4 [==============================] - 0s 12ms/step - loss: 3724.6301 - mae: 42.9604 - mse: 3724.6301 - val_loss: 2189.1306 - val_mae: 34.7813 - val_mse: 2189.1306\n",
            "Epoch 87/100\n",
            "4/4 [==============================] - 0s 12ms/step - loss: 3722.0337 - mae: 42.9318 - mse: 3722.0337 - val_loss: 2191.5427 - val_mae: 34.8046 - val_mse: 2191.5427\n",
            "Epoch 88/100\n",
            "4/4 [==============================] - 0s 12ms/step - loss: 3714.4338 - mae: 42.8658 - mse: 3714.4338 - val_loss: 2218.1257 - val_mae: 35.0353 - val_mse: 2218.1257\n",
            "Epoch 89/100\n",
            "4/4 [==============================] - 0s 13ms/step - loss: 3709.8701 - mae: 42.8503 - mse: 3709.8701 - val_loss: 2221.2336 - val_mae: 35.0636 - val_mse: 2221.2336\n",
            "Epoch 90/100\n",
            "4/4 [==============================] - 0s 11ms/step - loss: 3713.3188 - mae: 42.8007 - mse: 3713.3188 - val_loss: 2243.1946 - val_mae: 35.2482 - val_mse: 2243.1946\n",
            "Epoch 91/100\n",
            "4/4 [==============================] - 0s 13ms/step - loss: 3702.4304 - mae: 42.8173 - mse: 3702.4304 - val_loss: 2234.2280 - val_mae: 35.1754 - val_mse: 2234.2280\n",
            "Epoch 92/100\n",
            "4/4 [==============================] - 0s 15ms/step - loss: 3696.1714 - mae: 42.7749 - mse: 3696.1714 - val_loss: 2228.2021 - val_mae: 35.1257 - val_mse: 2228.2021\n",
            "Epoch 93/100\n",
            "4/4 [==============================] - 0s 12ms/step - loss: 3693.8518 - mae: 42.8003 - mse: 3693.8518 - val_loss: 2217.2429 - val_mae: 35.0332 - val_mse: 2217.2429\n",
            "Epoch 94/100\n",
            "4/4 [==============================] - 0s 12ms/step - loss: 3690.5264 - mae: 42.7479 - mse: 3690.5264 - val_loss: 2195.4851 - val_mae: 34.8494 - val_mse: 2195.4851\n",
            "Epoch 95/100\n",
            "4/4 [==============================] - 0s 12ms/step - loss: 3681.9104 - mae: 42.7982 - mse: 3681.9104 - val_loss: 2213.9434 - val_mae: 35.0103 - val_mse: 2213.9436\n",
            "Epoch 96/100\n",
            "4/4 [==============================] - 0s 12ms/step - loss: 3682.7671 - mae: 42.7923 - mse: 3682.7671 - val_loss: 2243.9641 - val_mae: 35.2618 - val_mse: 2243.9641\n",
            "Epoch 97/100\n",
            "4/4 [==============================] - 0s 13ms/step - loss: 3671.6106 - mae: 42.6968 - mse: 3671.6106 - val_loss: 2245.1292 - val_mae: 35.2716 - val_mse: 2245.1292\n",
            "Epoch 98/100\n",
            "4/4 [==============================] - 0s 13ms/step - loss: 3668.9102 - mae: 42.6453 - mse: 3668.9102 - val_loss: 2256.0400 - val_mae: 35.3678 - val_mse: 2256.0400\n",
            "Epoch 99/100\n",
            "4/4 [==============================] - 0s 17ms/step - loss: 3659.4390 - mae: 42.6432 - mse: 3659.4390 - val_loss: 2245.0061 - val_mae: 35.2731 - val_mse: 2245.0061\n",
            "Epoch 100/100\n",
            "4/4 [==============================] - 0s 12ms/step - loss: 3656.6597 - mae: 42.6407 - mse: 3656.6597 - val_loss: 2225.1680 - val_mae: 35.1109 - val_mse: 2225.1680\n"
          ]
        }
      ]
    },
    {
      "cell_type": "markdown",
      "source": [
        "LSTM"
      ],
      "metadata": {
        "id": "M-I1WeJ7gOl3"
      }
    },
    {
      "cell_type": "code",
      "source": [
        "i=Input(shape=(T,1))\n",
        "x=LSTM(200,return_sequences=True)(i)\n",
        "x=LSTM(200,return_sequences=True)(x)\n",
        "x=GlobalMaxPooling1D()(x)\n",
        "x=Dense(100)(x)\n",
        "x=Dense(50)(x)\n",
        "x=Dense(1)(x)\n",
        "model_lstm=Model(i,x)\n",
        "model_lstm.summary()"
      ],
      "metadata": {
        "colab": {
          "base_uri": "https://localhost:8080/"
        },
        "id": "zsJnKRlwhvmv",
        "outputId": "6a16ba49-88e0-443d-d93f-69c1fb4b3e11"
      },
      "execution_count": 320,
      "outputs": [
        {
          "output_type": "stream",
          "name": "stdout",
          "text": [
            "Model: \"model_22\"\n",
            "_________________________________________________________________\n",
            " Layer (type)                Output Shape              Param #   \n",
            "=================================================================\n",
            " input_23 (InputLayer)       [(None, 50, 1)]           0         \n",
            "                                                                 \n",
            " lstm_10 (LSTM)              (None, 50, 200)           161600    \n",
            "                                                                 \n",
            " lstm_11 (LSTM)              (None, 50, 200)           320800    \n",
            "                                                                 \n",
            " global_max_pooling1d_16 (Gl  (None, 200)              0         \n",
            " obalMaxPooling1D)                                               \n",
            "                                                                 \n",
            " dense_60 (Dense)            (None, 100)               20100     \n",
            "                                                                 \n",
            " dense_61 (Dense)            (None, 50)                5050      \n",
            "                                                                 \n",
            " dense_62 (Dense)            (None, 1)                 51        \n",
            "                                                                 \n",
            "=================================================================\n",
            "Total params: 507,601\n",
            "Trainable params: 507,601\n",
            "Non-trainable params: 0\n",
            "_________________________________________________________________\n"
          ]
        }
      ]
    },
    {
      "cell_type": "code",
      "source": [
        "check_point_lstm=ModelCheckpoint('best_model.h5',monitor='val_loss',save_best_only=True)"
      ],
      "metadata": {
        "id": "uN9QDfEohvs-"
      },
      "execution_count": 321,
      "outputs": []
    },
    {
      "cell_type": "code",
      "source": [
        "model_lstm.compile(loss='mse',\n",
        "              optimizer='adamax',\n",
        "              metrics=['mae','mse'])"
      ],
      "metadata": {
        "id": "MwYBTZ7Uhv4I"
      },
      "execution_count": 322,
      "outputs": []
    },
    {
      "cell_type": "code",
      "source": [
        "r=model_lstm.fit(\n",
        "    Xtrain,\n",
        "    Ytrain,\n",
        "    epochs=100,\n",
        "    validation_data=(Xtest,Ytest),\n",
        "    callbacks=[check_point_lstm]\n",
        ")"
      ],
      "metadata": {
        "colab": {
          "base_uri": "https://localhost:8080/"
        },
        "id": "hucIsLiBiOQ3",
        "outputId": "3b6fe016-3274-4763-9647-ef175f7d8fa1"
      },
      "execution_count": 323,
      "outputs": [
        {
          "output_type": "stream",
          "name": "stdout",
          "text": [
            "Epoch 1/100\n",
            "4/4 [==============================] - 4s 418ms/step - loss: 4418.7876 - mae: 45.9309 - mse: 4418.7876 - val_loss: 1895.7131 - val_mae: 32.2888 - val_mse: 1895.7131\n",
            "Epoch 2/100\n",
            "4/4 [==============================] - 1s 203ms/step - loss: 4392.9336 - mae: 45.7259 - mse: 4392.9336 - val_loss: 1874.7496 - val_mae: 32.1073 - val_mse: 1874.7496\n",
            "Epoch 3/100\n",
            "4/4 [==============================] - 1s 208ms/step - loss: 4388.2622 - mae: 45.7388 - mse: 4388.2622 - val_loss: 1871.1857 - val_mae: 32.0751 - val_mse: 1871.1857\n",
            "Epoch 4/100\n",
            "4/4 [==============================] - 1s 212ms/step - loss: 4386.3506 - mae: 45.7189 - mse: 4386.3506 - val_loss: 1869.5356 - val_mae: 32.0620 - val_mse: 1869.5356\n",
            "Epoch 5/100\n",
            "4/4 [==============================] - 1s 189ms/step - loss: 4383.4365 - mae: 45.7079 - mse: 4383.4365 - val_loss: 1873.6079 - val_mae: 32.0999 - val_mse: 1873.6079\n",
            "Epoch 6/100\n",
            "4/4 [==============================] - 1s 195ms/step - loss: 4381.6636 - mae: 45.6923 - mse: 4381.6636 - val_loss: 1876.3470 - val_mae: 32.1245 - val_mse: 1876.3470\n",
            "Epoch 7/100\n",
            "4/4 [==============================] - 1s 197ms/step - loss: 4379.8496 - mae: 45.6872 - mse: 4379.8496 - val_loss: 1882.7623 - val_mae: 32.1805 - val_mse: 1882.7623\n",
            "Epoch 8/100\n",
            "4/4 [==============================] - 1s 202ms/step - loss: 4378.1021 - mae: 45.6865 - mse: 4378.1021 - val_loss: 1878.7683 - val_mae: 32.1476 - val_mse: 1878.7683\n",
            "Epoch 9/100\n",
            "4/4 [==============================] - 1s 185ms/step - loss: 4374.2109 - mae: 45.6703 - mse: 4374.2109 - val_loss: 1883.4003 - val_mae: 32.1887 - val_mse: 1883.4000\n",
            "Epoch 10/100\n",
            "4/4 [==============================] - 1s 190ms/step - loss: 4374.9155 - mae: 45.6639 - mse: 4374.9155 - val_loss: 1892.0017 - val_mae: 32.2629 - val_mse: 1892.0017\n",
            "Epoch 11/100\n",
            "4/4 [==============================] - 1s 202ms/step - loss: 4369.0645 - mae: 45.6758 - mse: 4369.0645 - val_loss: 1881.8746 - val_mae: 32.1770 - val_mse: 1881.8746\n",
            "Epoch 12/100\n",
            "4/4 [==============================] - 1s 192ms/step - loss: 4361.3232 - mae: 45.6319 - mse: 4361.3232 - val_loss: 1880.1327 - val_mae: 32.1637 - val_mse: 1880.1327\n",
            "Epoch 13/100\n",
            "4/4 [==============================] - 1s 199ms/step - loss: 4360.7598 - mae: 45.6440 - mse: 4360.7598 - val_loss: 1886.4004 - val_mae: 32.2152 - val_mse: 1886.4004\n",
            "Epoch 14/100\n",
            "4/4 [==============================] - 1s 198ms/step - loss: 4350.1733 - mae: 45.5952 - mse: 4350.1733 - val_loss: 1887.5808 - val_mae: 32.2262 - val_mse: 1887.5808\n",
            "Epoch 15/100\n",
            "4/4 [==============================] - 1s 195ms/step - loss: 4347.2188 - mae: 45.6004 - mse: 4347.2188 - val_loss: 1888.1846 - val_mae: 32.2314 - val_mse: 1888.1846\n",
            "Epoch 16/100\n",
            "4/4 [==============================] - 1s 203ms/step - loss: 4343.1001 - mae: 45.5814 - mse: 4343.1001 - val_loss: 1901.8057 - val_mae: 32.3434 - val_mse: 1901.8057\n",
            "Epoch 17/100\n",
            "4/4 [==============================] - 1s 194ms/step - loss: 4334.7012 - mae: 45.5528 - mse: 4334.7012 - val_loss: 1899.0444 - val_mae: 32.3267 - val_mse: 1899.0444\n",
            "Epoch 18/100\n",
            "4/4 [==============================] - 1s 204ms/step - loss: 4327.0488 - mae: 45.5733 - mse: 4327.0488 - val_loss: 1888.5094 - val_mae: 32.2495 - val_mse: 1888.5094\n",
            "Epoch 19/100\n",
            "4/4 [==============================] - 1s 189ms/step - loss: 4324.4272 - mae: 45.5645 - mse: 4324.4272 - val_loss: 1933.5592 - val_mae: 32.6460 - val_mse: 1933.5592\n",
            "Epoch 20/100\n",
            "4/4 [==============================] - 1s 194ms/step - loss: 4301.5190 - mae: 45.4448 - mse: 4301.5190 - val_loss: 1930.3512 - val_mae: 32.6265 - val_mse: 1930.3512\n",
            "Epoch 21/100\n",
            "4/4 [==============================] - 1s 200ms/step - loss: 4288.3604 - mae: 45.4010 - mse: 4288.3604 - val_loss: 1923.8746 - val_mae: 32.5873 - val_mse: 1923.8746\n",
            "Epoch 22/100\n",
            "4/4 [==============================] - 1s 201ms/step - loss: 4275.8872 - mae: 45.3769 - mse: 4275.8872 - val_loss: 1930.5586 - val_mae: 32.6817 - val_mse: 1930.5586\n",
            "Epoch 23/100\n",
            "4/4 [==============================] - 1s 192ms/step - loss: 4260.9751 - mae: 45.3888 - mse: 4260.9751 - val_loss: 1927.1012 - val_mae: 32.6947 - val_mse: 1927.1012\n",
            "Epoch 24/100\n",
            "4/4 [==============================] - 1s 212ms/step - loss: 4241.2241 - mae: 45.3142 - mse: 4241.2241 - val_loss: 1954.8656 - val_mae: 32.9484 - val_mse: 1954.8656\n",
            "Epoch 25/100\n",
            "4/4 [==============================] - 1s 190ms/step - loss: 4226.8691 - mae: 45.2756 - mse: 4226.8691 - val_loss: 1960.8367 - val_mae: 33.0748 - val_mse: 1960.8367\n",
            "Epoch 26/100\n",
            "4/4 [==============================] - 1s 198ms/step - loss: 4209.0352 - mae: 45.2388 - mse: 4209.0352 - val_loss: 2002.5981 - val_mae: 33.4734 - val_mse: 2002.5981\n",
            "Epoch 27/100\n",
            "4/4 [==============================] - 1s 197ms/step - loss: 4201.1807 - mae: 45.4137 - mse: 4201.1807 - val_loss: 1998.4492 - val_mae: 33.5272 - val_mse: 1998.4492\n",
            "Epoch 28/100\n",
            "4/4 [==============================] - 1s 209ms/step - loss: 4185.8853 - mae: 45.2126 - mse: 4185.8853 - val_loss: 2066.1658 - val_mae: 34.1234 - val_mse: 2066.1658\n",
            "Epoch 29/100\n",
            "4/4 [==============================] - 1s 209ms/step - loss: 4175.3247 - mae: 45.2594 - mse: 4175.3247 - val_loss: 1992.2137 - val_mae: 33.6592 - val_mse: 1992.2137\n",
            "Epoch 30/100\n",
            "4/4 [==============================] - 1s 205ms/step - loss: 4143.2075 - mae: 45.0561 - mse: 4143.2075 - val_loss: 1993.8171 - val_mae: 33.7138 - val_mse: 1993.8171\n",
            "Epoch 31/100\n",
            "4/4 [==============================] - 1s 198ms/step - loss: 4122.2661 - mae: 44.9411 - mse: 4122.2661 - val_loss: 2055.7866 - val_mae: 34.2871 - val_mse: 2055.7866\n",
            "Epoch 32/100\n",
            "4/4 [==============================] - 1s 197ms/step - loss: 4096.4331 - mae: 44.8179 - mse: 4096.4331 - val_loss: 2044.8267 - val_mae: 34.2118 - val_mse: 2044.8267\n",
            "Epoch 33/100\n",
            "4/4 [==============================] - 1s 195ms/step - loss: 4072.0283 - mae: 44.7351 - mse: 4072.0283 - val_loss: 2051.5779 - val_mae: 34.2863 - val_mse: 2051.5779\n",
            "Epoch 34/100\n",
            "4/4 [==============================] - 1s 195ms/step - loss: 4058.7646 - mae: 44.5846 - mse: 4058.7646 - val_loss: 2050.7817 - val_mae: 34.2429 - val_mse: 2050.7817\n",
            "Epoch 35/100\n",
            "4/4 [==============================] - 1s 192ms/step - loss: 4016.7722 - mae: 44.3720 - mse: 4016.7722 - val_loss: 2076.5417 - val_mae: 34.7116 - val_mse: 2076.5417\n",
            "Epoch 36/100\n",
            "4/4 [==============================] - 1s 194ms/step - loss: 3982.1201 - mae: 43.9295 - mse: 3982.1201 - val_loss: 2035.5457 - val_mae: 34.3839 - val_mse: 2035.5457\n",
            "Epoch 37/100\n",
            "4/4 [==============================] - 1s 200ms/step - loss: 3947.2339 - mae: 43.7313 - mse: 3947.2339 - val_loss: 2092.5652 - val_mae: 34.9071 - val_mse: 2092.5652\n",
            "Epoch 38/100\n",
            "4/4 [==============================] - 1s 207ms/step - loss: 3906.1794 - mae: 43.4367 - mse: 3906.1794 - val_loss: 2070.9629 - val_mae: 34.7853 - val_mse: 2070.9629\n",
            "Epoch 39/100\n",
            "4/4 [==============================] - 1s 208ms/step - loss: 3860.4814 - mae: 43.2914 - mse: 3860.4814 - val_loss: 2069.7009 - val_mae: 34.9642 - val_mse: 2069.7009\n",
            "Epoch 40/100\n",
            "4/4 [==============================] - 1s 208ms/step - loss: 3873.9705 - mae: 43.2702 - mse: 3873.9705 - val_loss: 2099.3000 - val_mae: 35.5533 - val_mse: 2099.3000\n",
            "Epoch 41/100\n",
            "4/4 [==============================] - 1s 208ms/step - loss: 3860.6707 - mae: 43.5409 - mse: 3860.6707 - val_loss: 2019.3854 - val_mae: 34.6173 - val_mse: 2019.3854\n",
            "Epoch 42/100\n",
            "4/4 [==============================] - 1s 202ms/step - loss: 3791.6235 - mae: 43.2137 - mse: 3791.6235 - val_loss: 2117.9028 - val_mae: 35.8081 - val_mse: 2117.9028\n",
            "Epoch 43/100\n",
            "4/4 [==============================] - 1s 198ms/step - loss: 3735.0967 - mae: 42.8224 - mse: 3735.0967 - val_loss: 2252.6138 - val_mae: 37.0788 - val_mse: 2252.6138\n",
            "Epoch 44/100\n",
            "4/4 [==============================] - 1s 194ms/step - loss: 3713.3103 - mae: 42.3359 - mse: 3713.3103 - val_loss: 2170.5063 - val_mae: 36.1459 - val_mse: 2170.5063\n",
            "Epoch 45/100\n",
            "4/4 [==============================] - 1s 197ms/step - loss: 3653.4702 - mae: 41.9295 - mse: 3653.4702 - val_loss: 2227.9758 - val_mae: 36.8483 - val_mse: 2227.9758\n",
            "Epoch 46/100\n",
            "4/4 [==============================] - 1s 197ms/step - loss: 3590.8997 - mae: 41.5001 - mse: 3590.8997 - val_loss: 2220.1797 - val_mae: 36.7034 - val_mse: 2220.1797\n",
            "Epoch 47/100\n",
            "4/4 [==============================] - 1s 195ms/step - loss: 3516.9614 - mae: 41.1618 - mse: 3516.9614 - val_loss: 2180.0149 - val_mae: 36.3459 - val_mse: 2180.0149\n",
            "Epoch 48/100\n",
            "4/4 [==============================] - 1s 204ms/step - loss: 3470.2852 - mae: 41.0420 - mse: 3470.2852 - val_loss: 2326.9111 - val_mae: 37.7276 - val_mse: 2326.9111\n",
            "Epoch 49/100\n",
            "4/4 [==============================] - 1s 212ms/step - loss: 3445.0193 - mae: 40.7400 - mse: 3445.0193 - val_loss: 2271.3655 - val_mae: 37.3245 - val_mse: 2271.3655\n",
            "Epoch 50/100\n",
            "4/4 [==============================] - 1s 200ms/step - loss: 3395.1221 - mae: 40.4435 - mse: 3395.1221 - val_loss: 2269.0085 - val_mae: 37.6249 - val_mse: 2269.0085\n",
            "Epoch 51/100\n",
            "4/4 [==============================] - 1s 191ms/step - loss: 3377.8521 - mae: 40.5295 - mse: 3377.8521 - val_loss: 2441.7764 - val_mae: 39.0730 - val_mse: 2441.7764\n",
            "Epoch 52/100\n",
            "4/4 [==============================] - 1s 200ms/step - loss: 3287.9036 - mae: 39.5322 - mse: 3287.9036 - val_loss: 2460.1948 - val_mae: 39.1489 - val_mse: 2460.1948\n",
            "Epoch 53/100\n",
            "4/4 [==============================] - 1s 208ms/step - loss: 3293.2214 - mae: 39.5557 - mse: 3293.2214 - val_loss: 2580.7715 - val_mae: 40.4657 - val_mse: 2580.7715\n",
            "Epoch 54/100\n",
            "4/4 [==============================] - 1s 195ms/step - loss: 3331.1636 - mae: 40.0010 - mse: 3331.1636 - val_loss: 2203.5540 - val_mae: 37.5712 - val_mse: 2203.5540\n",
            "Epoch 55/100\n",
            "4/4 [==============================] - 1s 189ms/step - loss: 3196.6128 - mae: 39.2901 - mse: 3196.6128 - val_loss: 2664.9822 - val_mae: 41.3962 - val_mse: 2664.9822\n",
            "Epoch 56/100\n",
            "4/4 [==============================] - 1s 203ms/step - loss: 3183.4890 - mae: 38.9290 - mse: 3183.4890 - val_loss: 2534.1716 - val_mae: 40.6328 - val_mse: 2534.1716\n",
            "Epoch 57/100\n",
            "4/4 [==============================] - 1s 197ms/step - loss: 3229.2856 - mae: 38.8007 - mse: 3229.2856 - val_loss: 2367.9834 - val_mae: 39.0628 - val_mse: 2367.9834\n",
            "Epoch 58/100\n",
            "4/4 [==============================] - 1s 202ms/step - loss: 3079.9016 - mae: 38.1672 - mse: 3079.9016 - val_loss: 2694.5913 - val_mae: 41.8816 - val_mse: 2694.5913\n",
            "Epoch 59/100\n",
            "4/4 [==============================] - 1s 204ms/step - loss: 3226.5913 - mae: 39.1858 - mse: 3226.5913 - val_loss: 2293.0903 - val_mae: 38.8363 - val_mse: 2293.0903\n",
            "Epoch 60/100\n",
            "4/4 [==============================] - 1s 216ms/step - loss: 3339.9685 - mae: 41.7630 - mse: 3339.9685 - val_loss: 2181.0964 - val_mae: 37.6266 - val_mse: 2181.0964\n",
            "Epoch 61/100\n",
            "4/4 [==============================] - 1s 212ms/step - loss: 3103.7312 - mae: 39.3489 - mse: 3103.7312 - val_loss: 2994.8616 - val_mae: 44.1677 - val_mse: 2994.8616\n",
            "Epoch 62/100\n",
            "4/4 [==============================] - 1s 219ms/step - loss: 3192.7524 - mae: 39.8117 - mse: 3192.7524 - val_loss: 2233.8005 - val_mae: 38.0481 - val_mse: 2233.8005\n",
            "Epoch 63/100\n",
            "4/4 [==============================] - 1s 204ms/step - loss: 3274.6057 - mae: 40.5772 - mse: 3274.6057 - val_loss: 1974.7050 - val_mae: 35.9576 - val_mse: 1974.7050\n",
            "Epoch 64/100\n",
            "4/4 [==============================] - 1s 208ms/step - loss: 3207.6731 - mae: 39.6001 - mse: 3207.6731 - val_loss: 2629.0278 - val_mae: 41.4622 - val_mse: 2629.0278\n",
            "Epoch 65/100\n",
            "4/4 [==============================] - 1s 196ms/step - loss: 3412.7539 - mae: 41.1490 - mse: 3412.7539 - val_loss: 2670.9666 - val_mae: 41.8979 - val_mse: 2670.9666\n",
            "Epoch 66/100\n",
            "4/4 [==============================] - 1s 209ms/step - loss: 3378.6340 - mae: 40.9899 - mse: 3378.6340 - val_loss: 2338.4338 - val_mae: 39.0262 - val_mse: 2338.4338\n",
            "Epoch 67/100\n",
            "4/4 [==============================] - 1s 212ms/step - loss: 3387.6951 - mae: 42.0119 - mse: 3387.6951 - val_loss: 2252.2805 - val_mae: 38.1945 - val_mse: 2252.2805\n",
            "Epoch 68/100\n",
            "4/4 [==============================] - 1s 206ms/step - loss: 3121.8098 - mae: 39.5543 - mse: 3121.8098 - val_loss: 2464.5276 - val_mae: 40.2587 - val_mse: 2464.5276\n",
            "Epoch 69/100\n",
            "4/4 [==============================] - 1s 203ms/step - loss: 3096.2551 - mae: 38.4628 - mse: 3096.2551 - val_loss: 2464.7942 - val_mae: 40.4731 - val_mse: 2464.7942\n",
            "Epoch 70/100\n",
            "4/4 [==============================] - 1s 201ms/step - loss: 2924.3137 - mae: 37.1936 - mse: 2924.3137 - val_loss: 2236.0237 - val_mae: 38.3551 - val_mse: 2236.0237\n",
            "Epoch 71/100\n",
            "4/4 [==============================] - 1s 198ms/step - loss: 3024.5447 - mae: 37.8941 - mse: 3024.5447 - val_loss: 2176.3975 - val_mae: 37.9281 - val_mse: 2176.3975\n",
            "Epoch 72/100\n",
            "4/4 [==============================] - 1s 200ms/step - loss: 2956.7737 - mae: 37.1144 - mse: 2956.7737 - val_loss: 2408.0471 - val_mae: 39.9099 - val_mse: 2408.0471\n",
            "Epoch 73/100\n",
            "4/4 [==============================] - 1s 199ms/step - loss: 2825.4272 - mae: 36.3881 - mse: 2825.4272 - val_loss: 2516.2405 - val_mae: 40.8203 - val_mse: 2516.2405\n",
            "Epoch 74/100\n",
            "4/4 [==============================] - 1s 211ms/step - loss: 2776.6841 - mae: 35.9378 - mse: 2776.6841 - val_loss: 2616.2849 - val_mae: 41.5799 - val_mse: 2616.2849\n",
            "Epoch 75/100\n",
            "4/4 [==============================] - 1s 205ms/step - loss: 2700.9548 - mae: 35.7236 - mse: 2700.9548 - val_loss: 2608.5408 - val_mae: 41.5026 - val_mse: 2608.5408\n",
            "Epoch 76/100\n",
            "4/4 [==============================] - 1s 201ms/step - loss: 2682.3206 - mae: 35.4590 - mse: 2682.3206 - val_loss: 2724.9988 - val_mae: 42.3384 - val_mse: 2724.9988\n",
            "Epoch 77/100\n",
            "4/4 [==============================] - 1s 201ms/step - loss: 2621.7505 - mae: 34.7916 - mse: 2621.7505 - val_loss: 2900.7092 - val_mae: 43.6111 - val_mse: 2900.7092\n",
            "Epoch 78/100\n",
            "4/4 [==============================] - 1s 196ms/step - loss: 2570.5164 - mae: 34.5226 - mse: 2570.5164 - val_loss: 2873.0479 - val_mae: 43.3893 - val_mse: 2873.0479\n",
            "Epoch 79/100\n",
            "4/4 [==============================] - 1s 205ms/step - loss: 2507.7131 - mae: 33.9722 - mse: 2507.7131 - val_loss: 2845.5505 - val_mae: 43.1628 - val_mse: 2845.5505\n",
            "Epoch 80/100\n",
            "4/4 [==============================] - 1s 194ms/step - loss: 2478.3284 - mae: 33.4379 - mse: 2478.3284 - val_loss: 2991.0234 - val_mae: 44.2910 - val_mse: 2991.0234\n",
            "Epoch 81/100\n",
            "4/4 [==============================] - 1s 197ms/step - loss: 2446.2644 - mae: 33.2670 - mse: 2446.2644 - val_loss: 2933.4272 - val_mae: 43.8362 - val_mse: 2933.4272\n",
            "Epoch 82/100\n",
            "4/4 [==============================] - 1s 198ms/step - loss: 2365.3423 - mae: 32.8818 - mse: 2365.3423 - val_loss: 2945.5474 - val_mae: 44.0154 - val_mse: 2945.5474\n",
            "Epoch 83/100\n",
            "4/4 [==============================] - 1s 197ms/step - loss: 2308.5432 - mae: 32.1008 - mse: 2308.5432 - val_loss: 3032.8379 - val_mae: 44.7998 - val_mse: 3032.8379\n",
            "Epoch 84/100\n",
            "4/4 [==============================] - 1s 199ms/step - loss: 2346.6826 - mae: 32.2801 - mse: 2346.6826 - val_loss: 3050.0891 - val_mae: 44.7779 - val_mse: 3050.0891\n",
            "Epoch 85/100\n",
            "4/4 [==============================] - 1s 196ms/step - loss: 2230.3618 - mae: 30.9972 - mse: 2230.3618 - val_loss: 3174.1018 - val_mae: 45.3888 - val_mse: 3174.1018\n",
            "Epoch 86/100\n",
            "4/4 [==============================] - 1s 190ms/step - loss: 2209.9683 - mae: 31.1646 - mse: 2209.9683 - val_loss: 2950.6157 - val_mae: 43.7059 - val_mse: 2950.6157\n",
            "Epoch 87/100\n",
            "4/4 [==============================] - 1s 204ms/step - loss: 2265.0525 - mae: 32.5529 - mse: 2265.0525 - val_loss: 2947.4321 - val_mae: 43.8843 - val_mse: 2947.4321\n",
            "Epoch 88/100\n",
            "4/4 [==============================] - 1s 209ms/step - loss: 2149.8774 - mae: 31.4367 - mse: 2149.8774 - val_loss: 3362.9092 - val_mae: 46.7688 - val_mse: 3362.9092\n",
            "Epoch 89/100\n",
            "4/4 [==============================] - 1s 204ms/step - loss: 2182.5095 - mae: 30.6673 - mse: 2182.5095 - val_loss: 2995.8909 - val_mae: 43.7731 - val_mse: 2995.8909\n",
            "Epoch 90/100\n",
            "4/4 [==============================] - 1s 193ms/step - loss: 2041.0437 - mae: 30.2448 - mse: 2041.0437 - val_loss: 3197.6050 - val_mae: 45.3485 - val_mse: 3197.6050\n",
            "Epoch 91/100\n",
            "4/4 [==============================] - 1s 196ms/step - loss: 1986.4432 - mae: 30.0563 - mse: 1986.4432 - val_loss: 3107.7209 - val_mae: 44.5902 - val_mse: 3107.7209\n",
            "Epoch 92/100\n",
            "4/4 [==============================] - 1s 189ms/step - loss: 1907.9343 - mae: 29.6115 - mse: 1907.9343 - val_loss: 3111.0640 - val_mae: 44.3963 - val_mse: 3111.0640\n",
            "Epoch 93/100\n",
            "4/4 [==============================] - 1s 186ms/step - loss: 1846.9917 - mae: 28.8236 - mse: 1846.9917 - val_loss: 3135.4939 - val_mae: 44.4300 - val_mse: 3135.4939\n",
            "Epoch 94/100\n",
            "4/4 [==============================] - 1s 195ms/step - loss: 1758.2949 - mae: 27.8495 - mse: 1758.2949 - val_loss: 3177.1343 - val_mae: 44.3596 - val_mse: 3177.1343\n",
            "Epoch 95/100\n",
            "4/4 [==============================] - 1s 197ms/step - loss: 1704.0479 - mae: 27.7643 - mse: 1704.0479 - val_loss: 3276.7649 - val_mae: 44.8280 - val_mse: 3276.7649\n",
            "Epoch 96/100\n",
            "4/4 [==============================] - 1s 197ms/step - loss: 1639.3016 - mae: 27.7902 - mse: 1639.3016 - val_loss: 3340.9287 - val_mae: 45.3411 - val_mse: 3340.9287\n",
            "Epoch 97/100\n",
            "4/4 [==============================] - 1s 208ms/step - loss: 1556.1608 - mae: 26.5248 - mse: 1556.1608 - val_loss: 3603.2866 - val_mae: 47.1119 - val_mse: 3603.2866\n",
            "Epoch 98/100\n",
            "4/4 [==============================] - 1s 200ms/step - loss: 1517.4409 - mae: 26.5136 - mse: 1517.4409 - val_loss: 3340.2805 - val_mae: 45.3020 - val_mse: 3340.2805\n",
            "Epoch 99/100\n",
            "4/4 [==============================] - 1s 197ms/step - loss: 1518.8914 - mae: 26.4265 - mse: 1518.8914 - val_loss: 3574.0176 - val_mae: 47.2245 - val_mse: 3574.0176\n",
            "Epoch 100/100\n",
            "4/4 [==============================] - 1s 191ms/step - loss: 1515.8153 - mae: 26.2007 - mse: 1515.8153 - val_loss: 3838.2341 - val_mae: 48.9709 - val_mse: 3838.2341\n"
          ]
        }
      ]
    },
    {
      "cell_type": "markdown",
      "source": [
        "GRU"
      ],
      "metadata": {
        "id": "kHh0g_qPm_bm"
      }
    },
    {
      "cell_type": "code",
      "source": [
        "i=Input(shape=(T,1))\n",
        "x=GRU(200,return_sequences=True)(i)\n",
        "x=GRU(200,return_sequences=True)(x)\n",
        "x=GlobalMaxPooling1D()(x)\n",
        "x=Dense(100)(x)\n",
        "x=Dense(50)(x)\n",
        "x=Dense(1)(x)\n",
        "model_gru=Model(i,x)\n",
        "model_gru.summary"
      ],
      "metadata": {
        "colab": {
          "base_uri": "https://localhost:8080/"
        },
        "id": "H4llpd_HnCsP",
        "outputId": "9f02b906-6d99-4e04-82e6-e590989e0f5a"
      },
      "execution_count": 324,
      "outputs": [
        {
          "output_type": "execute_result",
          "data": {
            "text/plain": [
              "<bound method Model.summary of <keras.engine.functional.Functional object at 0x7fe988c79c90>>"
            ]
          },
          "metadata": {},
          "execution_count": 324
        }
      ]
    },
    {
      "cell_type": "code",
      "source": [
        "check_point_gru=ModelCheckpoint('best_model.h5',monitor='val_loss',save_best_only=True)"
      ],
      "metadata": {
        "id": "J4ilpuAHnCxN"
      },
      "execution_count": 325,
      "outputs": []
    },
    {
      "cell_type": "code",
      "source": [
        "model_gru.compile(loss='mse',\n",
        "              optimizer='adamax',\n",
        "              metrics=['mae','mse'])"
      ],
      "metadata": {
        "id": "KE1MOiZknC6g"
      },
      "execution_count": 326,
      "outputs": []
    },
    {
      "cell_type": "code",
      "source": [
        "r=model_gru.fit(\n",
        "    Xtrain,\n",
        "    Ytrain,\n",
        "    epochs=100,\n",
        "    validation_data=(Xtest,Ytest),\n",
        "    callbacks=[check_point_gru]\n",
        ")"
      ],
      "metadata": {
        "colab": {
          "base_uri": "https://localhost:8080/"
        },
        "id": "nfam1HSPnWSf",
        "outputId": "868ad57c-edfa-4444-a48f-3baf9d1d18d0"
      },
      "execution_count": 327,
      "outputs": [
        {
          "output_type": "stream",
          "name": "stdout",
          "text": [
            "Epoch 1/100\n",
            "4/4 [==============================] - 5s 419ms/step - loss: 4451.4585 - mae: 46.1424 - mse: 4451.4585 - val_loss: 1974.4233 - val_mae: 32.8959 - val_mse: 1974.4233\n",
            "Epoch 2/100\n",
            "4/4 [==============================] - 1s 193ms/step - loss: 4400.6196 - mae: 45.7984 - mse: 4400.6196 - val_loss: 1892.2432 - val_mae: 32.2430 - val_mse: 1892.2432\n",
            "Epoch 3/100\n",
            "4/4 [==============================] - 1s 181ms/step - loss: 4384.0308 - mae: 45.8233 - mse: 4384.0308 - val_loss: 1868.6418 - val_mae: 32.0650 - val_mse: 1868.6418\n",
            "Epoch 4/100\n",
            "4/4 [==============================] - 1s 193ms/step - loss: 4379.2520 - mae: 45.7714 - mse: 4379.2520 - val_loss: 1860.5770 - val_mae: 32.0071 - val_mse: 1860.5770\n",
            "Epoch 5/100\n",
            "4/4 [==============================] - 1s 174ms/step - loss: 4370.9087 - mae: 45.7368 - mse: 4370.9087 - val_loss: 1873.9738 - val_mae: 32.1169 - val_mse: 1873.9738\n",
            "Epoch 6/100\n",
            "4/4 [==============================] - 1s 171ms/step - loss: 4366.6919 - mae: 45.6867 - mse: 4366.6919 - val_loss: 1884.1758 - val_mae: 32.1986 - val_mse: 1884.1758\n",
            "Epoch 7/100\n",
            "4/4 [==============================] - 1s 178ms/step - loss: 4363.1206 - mae: 45.6659 - mse: 4363.1206 - val_loss: 1900.5742 - val_mae: 32.3170 - val_mse: 1900.5742\n",
            "Epoch 8/100\n",
            "4/4 [==============================] - 1s 178ms/step - loss: 4360.6504 - mae: 45.6681 - mse: 4360.6504 - val_loss: 1888.0692 - val_mae: 32.2273 - val_mse: 1888.0692\n",
            "Epoch 9/100\n",
            "4/4 [==============================] - 1s 172ms/step - loss: 4351.1392 - mae: 45.6413 - mse: 4351.1392 - val_loss: 1894.7621 - val_mae: 32.2756 - val_mse: 1894.7621\n",
            "Epoch 10/100\n",
            "4/4 [==============================] - 1s 174ms/step - loss: 4353.4819 - mae: 45.6358 - mse: 4353.4819 - val_loss: 1910.7227 - val_mae: 32.3891 - val_mse: 1910.7227\n",
            "Epoch 11/100\n",
            "4/4 [==============================] - 1s 178ms/step - loss: 4343.8105 - mae: 45.6747 - mse: 4343.8105 - val_loss: 1884.9166 - val_mae: 32.2021 - val_mse: 1884.9166\n",
            "Epoch 12/100\n",
            "4/4 [==============================] - 1s 173ms/step - loss: 4328.3584 - mae: 45.6198 - mse: 4328.3584 - val_loss: 1879.8606 - val_mae: 32.1682 - val_mse: 1879.8606\n",
            "Epoch 13/100\n",
            "4/4 [==============================] - 1s 187ms/step - loss: 4328.4058 - mae: 45.6496 - mse: 4328.4058 - val_loss: 1890.6050 - val_mae: 32.2712 - val_mse: 1890.6050\n",
            "Epoch 14/100\n",
            "4/4 [==============================] - 1s 178ms/step - loss: 4310.5059 - mae: 45.5724 - mse: 4310.5059 - val_loss: 1886.3281 - val_mae: 32.2404 - val_mse: 1886.3281\n",
            "Epoch 15/100\n",
            "4/4 [==============================] - 1s 166ms/step - loss: 4306.7876 - mae: 45.5928 - mse: 4306.7876 - val_loss: 1882.2161 - val_mae: 32.2148 - val_mse: 1882.2161\n",
            "Epoch 16/100\n",
            "4/4 [==============================] - 1s 174ms/step - loss: 4300.9429 - mae: 45.6005 - mse: 4300.9429 - val_loss: 1901.9508 - val_mae: 32.4093 - val_mse: 1901.9508\n",
            "Epoch 17/100\n",
            "4/4 [==============================] - 1s 171ms/step - loss: 4289.1201 - mae: 45.5743 - mse: 4289.1201 - val_loss: 1904.2084 - val_mae: 32.4322 - val_mse: 1904.2084\n",
            "Epoch 18/100\n",
            "4/4 [==============================] - 1s 173ms/step - loss: 4282.0020 - mae: 45.6350 - mse: 4282.0020 - val_loss: 1888.5988 - val_mae: 32.3379 - val_mse: 1888.5988\n",
            "Epoch 19/100\n",
            "4/4 [==============================] - 1s 173ms/step - loss: 4278.9678 - mae: 45.6130 - mse: 4278.9678 - val_loss: 1955.0519 - val_mae: 32.8995 - val_mse: 1955.0519\n",
            "Epoch 20/100\n",
            "4/4 [==============================] - 1s 185ms/step - loss: 4251.5874 - mae: 45.4933 - mse: 4251.5874 - val_loss: 1937.9858 - val_mae: 32.7967 - val_mse: 1937.9858\n",
            "Epoch 21/100\n",
            "4/4 [==============================] - 1s 172ms/step - loss: 4238.7432 - mae: 45.4739 - mse: 4238.7432 - val_loss: 1924.8511 - val_mae: 32.7449 - val_mse: 1924.8511\n",
            "Epoch 22/100\n",
            "4/4 [==============================] - 1s 176ms/step - loss: 4226.5415 - mae: 45.4726 - mse: 4226.5415 - val_loss: 1949.1869 - val_mae: 32.9727 - val_mse: 1949.1869\n",
            "Epoch 23/100\n",
            "4/4 [==============================] - 1s 169ms/step - loss: 4212.1948 - mae: 45.4897 - mse: 4212.1948 - val_loss: 1935.5704 - val_mae: 32.9550 - val_mse: 1935.5704\n",
            "Epoch 24/100\n",
            "4/4 [==============================] - 1s 178ms/step - loss: 4199.7588 - mae: 45.4653 - mse: 4199.7588 - val_loss: 1941.2194 - val_mae: 33.0629 - val_mse: 1941.2194\n",
            "Epoch 25/100\n",
            "4/4 [==============================] - 1s 174ms/step - loss: 4184.2295 - mae: 45.4331 - mse: 4184.2295 - val_loss: 1959.9479 - val_mae: 33.2816 - val_mse: 1959.9479\n",
            "Epoch 26/100\n",
            "4/4 [==============================] - 1s 176ms/step - loss: 4168.5762 - mae: 45.4687 - mse: 4168.5762 - val_loss: 2047.1055 - val_mae: 33.8703 - val_mse: 2047.1055\n",
            "Epoch 27/100\n",
            "4/4 [==============================] - 1s 180ms/step - loss: 4161.2979 - mae: 45.6055 - mse: 4161.2979 - val_loss: 2025.0135 - val_mae: 33.7950 - val_mse: 2025.0135\n",
            "Epoch 28/100\n",
            "4/4 [==============================] - 1s 181ms/step - loss: 4143.7378 - mae: 45.4004 - mse: 4143.7378 - val_loss: 2105.4937 - val_mae: 34.3800 - val_mse: 2105.4937\n",
            "Epoch 29/100\n",
            "4/4 [==============================] - 1s 173ms/step - loss: 4135.3398 - mae: 45.4719 - mse: 4135.3398 - val_loss: 2033.3732 - val_mae: 33.9788 - val_mse: 2033.3732\n",
            "Epoch 30/100\n",
            "4/4 [==============================] - 1s 173ms/step - loss: 4113.3013 - mae: 45.3246 - mse: 4113.3013 - val_loss: 2015.3650 - val_mae: 33.9177 - val_mse: 2015.3650\n",
            "Epoch 31/100\n",
            "4/4 [==============================] - 1s 176ms/step - loss: 4090.4958 - mae: 45.2875 - mse: 4090.4958 - val_loss: 2131.7737 - val_mae: 34.7966 - val_mse: 2131.7737\n",
            "Epoch 32/100\n",
            "4/4 [==============================] - 1s 184ms/step - loss: 4073.2961 - mae: 45.2451 - mse: 4073.2961 - val_loss: 2145.1025 - val_mae: 34.9185 - val_mse: 2145.1025\n",
            "Epoch 33/100\n",
            "4/4 [==============================] - 1s 180ms/step - loss: 4060.0344 - mae: 45.1776 - mse: 4060.0344 - val_loss: 2140.9397 - val_mae: 34.9257 - val_mse: 2140.9397\n",
            "Epoch 34/100\n",
            "4/4 [==============================] - 1s 174ms/step - loss: 4037.9756 - mae: 45.0604 - mse: 4037.9756 - val_loss: 2139.9482 - val_mae: 34.9831 - val_mse: 2139.9482\n",
            "Epoch 35/100\n",
            "4/4 [==============================] - 1s 179ms/step - loss: 4025.9688 - mae: 44.9714 - mse: 4025.9688 - val_loss: 2117.1616 - val_mae: 34.8851 - val_mse: 2117.1616\n",
            "Epoch 36/100\n",
            "4/4 [==============================] - 1s 170ms/step - loss: 3996.8992 - mae: 44.7976 - mse: 3996.8992 - val_loss: 2212.7700 - val_mae: 35.6481 - val_mse: 2212.7700\n",
            "Epoch 37/100\n",
            "4/4 [==============================] - 1s 180ms/step - loss: 3991.8918 - mae: 44.8014 - mse: 3991.8918 - val_loss: 2259.2588 - val_mae: 36.0243 - val_mse: 2259.2588\n",
            "Epoch 38/100\n",
            "4/4 [==============================] - 1s 173ms/step - loss: 3966.7522 - mae: 44.6764 - mse: 3966.7522 - val_loss: 2222.7437 - val_mae: 35.8063 - val_mse: 2222.7437\n",
            "Epoch 39/100\n",
            "4/4 [==============================] - 1s 175ms/step - loss: 3946.6938 - mae: 44.5597 - mse: 3946.6938 - val_loss: 2145.7625 - val_mae: 35.3098 - val_mse: 2145.7625\n",
            "Epoch 40/100\n",
            "4/4 [==============================] - 1s 182ms/step - loss: 3912.0178 - mae: 44.2175 - mse: 3912.0178 - val_loss: 2255.0300 - val_mae: 36.1127 - val_mse: 2255.0300\n",
            "Epoch 41/100\n",
            "4/4 [==============================] - 1s 176ms/step - loss: 3915.5376 - mae: 44.1497 - mse: 3915.5376 - val_loss: 2351.7046 - val_mae: 36.8483 - val_mse: 2351.7046\n",
            "Epoch 42/100\n",
            "4/4 [==============================] - 1s 183ms/step - loss: 3880.9131 - mae: 43.9894 - mse: 3880.9131 - val_loss: 2212.3318 - val_mae: 35.8805 - val_mse: 2212.3318\n",
            "Epoch 43/100\n",
            "4/4 [==============================] - 1s 175ms/step - loss: 3847.3499 - mae: 43.8674 - mse: 3847.3499 - val_loss: 2213.5332 - val_mae: 35.9637 - val_mse: 2213.5332\n",
            "Epoch 44/100\n",
            "4/4 [==============================] - 1s 183ms/step - loss: 3829.6753 - mae: 43.6180 - mse: 3829.6753 - val_loss: 2287.3948 - val_mae: 36.5862 - val_mse: 2287.3948\n",
            "Epoch 45/100\n",
            "4/4 [==============================] - 1s 181ms/step - loss: 3804.2644 - mae: 43.3780 - mse: 3804.2644 - val_loss: 2356.7905 - val_mae: 37.1611 - val_mse: 2356.7905\n",
            "Epoch 46/100\n",
            "4/4 [==============================] - 1s 180ms/step - loss: 3754.7556 - mae: 43.1622 - mse: 3754.7556 - val_loss: 2225.7517 - val_mae: 36.1889 - val_mse: 2225.7517\n",
            "Epoch 47/100\n",
            "4/4 [==============================] - 1s 172ms/step - loss: 3752.5146 - mae: 43.2795 - mse: 3752.5146 - val_loss: 2171.1038 - val_mae: 35.7912 - val_mse: 2171.1038\n",
            "Epoch 48/100\n",
            "4/4 [==============================] - 1s 182ms/step - loss: 3728.0691 - mae: 43.0014 - mse: 3728.0691 - val_loss: 2368.6746 - val_mae: 37.4504 - val_mse: 2368.6746\n",
            "Epoch 49/100\n",
            "4/4 [==============================] - 1s 182ms/step - loss: 3691.0095 - mae: 42.7143 - mse: 3691.0095 - val_loss: 2223.6980 - val_mae: 36.4651 - val_mse: 2223.6980\n",
            "Epoch 50/100\n",
            "4/4 [==============================] - 1s 174ms/step - loss: 3655.9514 - mae: 42.5050 - mse: 3655.9514 - val_loss: 2100.7349 - val_mae: 35.5267 - val_mse: 2100.7349\n",
            "Epoch 51/100\n",
            "4/4 [==============================] - 1s 174ms/step - loss: 3624.3264 - mae: 42.2096 - mse: 3624.3264 - val_loss: 2286.8179 - val_mae: 37.0394 - val_mse: 2286.8179\n",
            "Epoch 52/100\n",
            "4/4 [==============================] - 1s 178ms/step - loss: 3588.5518 - mae: 41.8762 - mse: 3588.5518 - val_loss: 2201.7144 - val_mae: 36.5015 - val_mse: 2201.7144\n",
            "Epoch 53/100\n",
            "4/4 [==============================] - 1s 169ms/step - loss: 3558.1721 - mae: 41.5469 - mse: 3558.1721 - val_loss: 2052.2180 - val_mae: 35.3605 - val_mse: 2052.2180\n",
            "Epoch 54/100\n",
            "4/4 [==============================] - 1s 174ms/step - loss: 3557.7791 - mae: 41.3354 - mse: 3557.7791 - val_loss: 1975.0396 - val_mae: 34.7307 - val_mse: 1975.0396\n",
            "Epoch 55/100\n",
            "4/4 [==============================] - 1s 185ms/step - loss: 3488.2119 - mae: 40.8660 - mse: 3488.2119 - val_loss: 2313.1360 - val_mae: 37.5954 - val_mse: 2313.1360\n",
            "Epoch 56/100\n",
            "4/4 [==============================] - 1s 171ms/step - loss: 3491.7019 - mae: 41.1961 - mse: 3491.7019 - val_loss: 2222.3142 - val_mae: 37.0040 - val_mse: 2222.3142\n",
            "Epoch 57/100\n",
            "4/4 [==============================] - 1s 182ms/step - loss: 3435.4072 - mae: 40.7952 - mse: 3435.4072 - val_loss: 2099.0698 - val_mae: 35.9119 - val_mse: 2099.0698\n",
            "Epoch 58/100\n",
            "4/4 [==============================] - 1s 179ms/step - loss: 3397.7402 - mae: 40.4351 - mse: 3397.7402 - val_loss: 2077.5593 - val_mae: 35.6934 - val_mse: 2077.5593\n",
            "Epoch 59/100\n",
            "4/4 [==============================] - 1s 177ms/step - loss: 3379.2693 - mae: 40.1454 - mse: 3379.2693 - val_loss: 2005.7831 - val_mae: 34.9559 - val_mse: 2005.7831\n",
            "Epoch 60/100\n",
            "4/4 [==============================] - 1s 171ms/step - loss: 3348.6460 - mae: 39.8977 - mse: 3348.6460 - val_loss: 1974.0970 - val_mae: 34.8110 - val_mse: 1974.0970\n",
            "Epoch 61/100\n",
            "4/4 [==============================] - 1s 171ms/step - loss: 3312.5764 - mae: 39.8554 - mse: 3312.5764 - val_loss: 2075.4612 - val_mae: 35.7584 - val_mse: 2075.4612\n",
            "Epoch 62/100\n",
            "4/4 [==============================] - 1s 165ms/step - loss: 3291.5601 - mae: 39.4816 - mse: 3291.5601 - val_loss: 2013.1238 - val_mae: 35.1146 - val_mse: 2013.1238\n",
            "Epoch 63/100\n",
            "4/4 [==============================] - 1s 173ms/step - loss: 3308.6033 - mae: 40.0483 - mse: 3308.6033 - val_loss: 1970.2285 - val_mae: 34.7188 - val_mse: 1970.2285\n",
            "Epoch 64/100\n",
            "4/4 [==============================] - 1s 163ms/step - loss: 3248.6785 - mae: 39.2771 - mse: 3248.6785 - val_loss: 2240.8503 - val_mae: 37.3667 - val_mse: 2240.8503\n",
            "Epoch 65/100\n",
            "4/4 [==============================] - 1s 176ms/step - loss: 3210.7722 - mae: 38.9160 - mse: 3210.7722 - val_loss: 2032.4402 - val_mae: 35.3964 - val_mse: 2032.4402\n",
            "Epoch 66/100\n",
            "4/4 [==============================] - 1s 180ms/step - loss: 3195.9456 - mae: 38.9942 - mse: 3195.9456 - val_loss: 2004.9183 - val_mae: 35.0136 - val_mse: 2004.9183\n",
            "Epoch 67/100\n",
            "4/4 [==============================] - 1s 174ms/step - loss: 3160.3052 - mae: 38.9652 - mse: 3160.3052 - val_loss: 2058.8857 - val_mae: 35.6460 - val_mse: 2058.8857\n",
            "Epoch 68/100\n",
            "4/4 [==============================] - 1s 167ms/step - loss: 3097.4924 - mae: 37.9273 - mse: 3097.4924 - val_loss: 2166.3076 - val_mae: 36.5340 - val_mse: 2166.3076\n",
            "Epoch 69/100\n",
            "4/4 [==============================] - 1s 174ms/step - loss: 3130.4834 - mae: 38.5264 - mse: 3130.4834 - val_loss: 2011.6029 - val_mae: 35.0289 - val_mse: 2011.6029\n",
            "Epoch 70/100\n",
            "4/4 [==============================] - 1s 177ms/step - loss: 3057.7703 - mae: 38.0891 - mse: 3057.7703 - val_loss: 2041.3429 - val_mae: 35.1042 - val_mse: 2041.3429\n",
            "Epoch 71/100\n",
            "4/4 [==============================] - 1s 173ms/step - loss: 3020.7407 - mae: 37.8254 - mse: 3020.7407 - val_loss: 2069.7493 - val_mae: 35.5128 - val_mse: 2069.7493\n",
            "Epoch 72/100\n",
            "4/4 [==============================] - 1s 177ms/step - loss: 3051.4163 - mae: 38.0272 - mse: 3051.4163 - val_loss: 2121.8813 - val_mae: 36.0662 - val_mse: 2121.8813\n",
            "Epoch 73/100\n",
            "4/4 [==============================] - 1s 169ms/step - loss: 2954.1165 - mae: 36.8894 - mse: 2954.1165 - val_loss: 2132.7136 - val_mae: 35.8214 - val_mse: 2132.7136\n",
            "Epoch 74/100\n",
            "4/4 [==============================] - 1s 176ms/step - loss: 2985.0652 - mae: 37.0541 - mse: 2985.0652 - val_loss: 2108.1235 - val_mae: 35.6669 - val_mse: 2108.1235\n",
            "Epoch 75/100\n",
            "4/4 [==============================] - 1s 174ms/step - loss: 2887.0813 - mae: 36.5686 - mse: 2887.0813 - val_loss: 2131.7014 - val_mae: 35.8190 - val_mse: 2131.7014\n",
            "Epoch 76/100\n",
            "4/4 [==============================] - 1s 177ms/step - loss: 2859.2073 - mae: 36.8023 - mse: 2859.2073 - val_loss: 2183.0237 - val_mae: 36.0657 - val_mse: 2183.0237\n",
            "Epoch 77/100\n",
            "4/4 [==============================] - 1s 173ms/step - loss: 2807.6890 - mae: 35.8902 - mse: 2807.6890 - val_loss: 2210.7852 - val_mae: 36.4940 - val_mse: 2210.7852\n",
            "Epoch 78/100\n",
            "4/4 [==============================] - 1s 170ms/step - loss: 2761.4592 - mae: 35.8455 - mse: 2761.4592 - val_loss: 2242.0325 - val_mae: 36.6964 - val_mse: 2242.0325\n",
            "Epoch 79/100\n",
            "4/4 [==============================] - 1s 170ms/step - loss: 2703.7520 - mae: 35.4928 - mse: 2703.7520 - val_loss: 2214.4763 - val_mae: 36.2075 - val_mse: 2214.4763\n",
            "Epoch 80/100\n",
            "4/4 [==============================] - 1s 170ms/step - loss: 2701.0405 - mae: 35.5683 - mse: 2701.0405 - val_loss: 2240.6284 - val_mae: 36.5036 - val_mse: 2240.6284\n",
            "Epoch 81/100\n",
            "4/4 [==============================] - 1s 170ms/step - loss: 2651.5898 - mae: 35.0775 - mse: 2651.5898 - val_loss: 2280.6824 - val_mae: 36.6471 - val_mse: 2280.6824\n",
            "Epoch 82/100\n",
            "4/4 [==============================] - 1s 172ms/step - loss: 2627.9094 - mae: 35.3128 - mse: 2627.9094 - val_loss: 2303.2656 - val_mae: 36.8857 - val_mse: 2303.2656\n",
            "Epoch 83/100\n",
            "4/4 [==============================] - 1s 178ms/step - loss: 2537.9189 - mae: 34.4484 - mse: 2537.9189 - val_loss: 2363.6025 - val_mae: 37.4941 - val_mse: 2363.6025\n",
            "Epoch 84/100\n",
            "4/4 [==============================] - 1s 172ms/step - loss: 2605.0493 - mae: 35.5848 - mse: 2605.0491 - val_loss: 2508.7932 - val_mae: 38.9773 - val_mse: 2508.7932\n",
            "Epoch 85/100\n",
            "4/4 [==============================] - 1s 173ms/step - loss: 2496.6223 - mae: 33.6427 - mse: 2496.6223 - val_loss: 2366.0869 - val_mae: 37.1080 - val_mse: 2366.0869\n",
            "Epoch 86/100\n",
            "4/4 [==============================] - 1s 173ms/step - loss: 2434.5881 - mae: 33.8825 - mse: 2434.5881 - val_loss: 2486.2280 - val_mae: 38.7292 - val_mse: 2486.2280\n",
            "Epoch 87/100\n",
            "4/4 [==============================] - 1s 174ms/step - loss: 2491.7302 - mae: 35.3880 - mse: 2491.7302 - val_loss: 2571.8159 - val_mae: 39.6566 - val_mse: 2571.8159\n",
            "Epoch 88/100\n",
            "4/4 [==============================] - 1s 173ms/step - loss: 2468.6013 - mae: 34.6804 - mse: 2468.6013 - val_loss: 2493.8523 - val_mae: 38.0913 - val_mse: 2493.8523\n",
            "Epoch 89/100\n",
            "4/4 [==============================] - 1s 174ms/step - loss: 2356.0632 - mae: 33.5319 - mse: 2356.0632 - val_loss: 3083.4158 - val_mae: 45.6949 - val_mse: 3083.4158\n",
            "Epoch 90/100\n",
            "4/4 [==============================] - 1s 182ms/step - loss: 2370.6443 - mae: 34.4939 - mse: 2370.6443 - val_loss: 2594.3899 - val_mae: 39.4842 - val_mse: 2594.3899\n",
            "Epoch 91/100\n",
            "4/4 [==============================] - 1s 179ms/step - loss: 2244.3237 - mae: 33.0087 - mse: 2244.3237 - val_loss: 2541.3992 - val_mae: 38.3969 - val_mse: 2541.3992\n",
            "Epoch 92/100\n",
            "4/4 [==============================] - 1s 174ms/step - loss: 2136.3267 - mae: 31.7687 - mse: 2136.3267 - val_loss: 3025.4917 - val_mae: 44.7439 - val_mse: 3025.4917\n",
            "Epoch 93/100\n",
            "4/4 [==============================] - 1s 175ms/step - loss: 2125.9539 - mae: 32.1124 - mse: 2125.9539 - val_loss: 3055.8848 - val_mae: 44.4940 - val_mse: 3055.8848\n",
            "Epoch 94/100\n",
            "4/4 [==============================] - 1s 175ms/step - loss: 2050.2388 - mae: 31.6138 - mse: 2050.2388 - val_loss: 3012.5259 - val_mae: 43.7293 - val_mse: 3012.5259\n",
            "Epoch 95/100\n",
            "4/4 [==============================] - 1s 179ms/step - loss: 2008.0278 - mae: 31.2968 - mse: 2008.0278 - val_loss: 2985.0229 - val_mae: 43.7861 - val_mse: 2985.0229\n",
            "Epoch 96/100\n",
            "4/4 [==============================] - 1s 176ms/step - loss: 1980.2916 - mae: 31.3373 - mse: 1980.2916 - val_loss: 2975.6982 - val_mae: 43.9539 - val_mse: 2975.6982\n",
            "Epoch 97/100\n",
            "4/4 [==============================] - 1s 171ms/step - loss: 1895.1071 - mae: 30.5501 - mse: 1895.1071 - val_loss: 3143.2200 - val_mae: 45.4678 - val_mse: 3143.2200\n",
            "Epoch 98/100\n",
            "4/4 [==============================] - 1s 179ms/step - loss: 1867.5278 - mae: 30.3376 - mse: 1867.5278 - val_loss: 3490.4795 - val_mae: 49.4143 - val_mse: 3490.4795\n",
            "Epoch 99/100\n",
            "4/4 [==============================] - 1s 175ms/step - loss: 1925.2479 - mae: 31.3542 - mse: 1925.2479 - val_loss: 3443.2371 - val_mae: 48.4751 - val_mse: 3443.2371\n",
            "Epoch 100/100\n",
            "4/4 [==============================] - 1s 176ms/step - loss: 1747.9122 - mae: 30.0269 - mse: 1747.9122 - val_loss: 3178.0088 - val_mae: 45.0038 - val_mse: 3178.0088\n"
          ]
        }
      ]
    },
    {
      "cell_type": "markdown",
      "source": [
        "Predictions"
      ],
      "metadata": {
        "id": "hjVQsanxpHma"
      }
    },
    {
      "cell_type": "code",
      "source": [
        "train_idx[:T+1]=False"
      ],
      "metadata": {
        "id": "f1Llph9XdeVY"
      },
      "execution_count": 328,
      "outputs": []
    },
    {
      "cell_type": "code",
      "source": [
        "Ptrain_ann=model_ann.predict(Xtrain).flatten()\n",
        "Ptest_ann=model_ann.predict(Xtest).flatten()\n"
      ],
      "metadata": {
        "id": "96WR1e3Sdgle"
      },
      "execution_count": 329,
      "outputs": []
    },
    {
      "cell_type": "code",
      "source": [
        "Ptrain_cnn=model_cnn.predict(Xtrain).flatten()\n",
        "Ptest_cnn=model_cnn.predict(Xtest).flatten()"
      ],
      "metadata": {
        "id": "Pc5bF6Z_gUGI"
      },
      "execution_count": 330,
      "outputs": []
    },
    {
      "cell_type": "code",
      "source": [
        "Ptrain_lstm=model_lstm.predict(Xtrain).flatten()\n",
        "Ptest_lstm=model_lstm.predict(Xtest).flatten()"
      ],
      "metadata": {
        "id": "LWhMPuCvjAIS"
      },
      "execution_count": 331,
      "outputs": []
    },
    {
      "cell_type": "code",
      "source": [
        "Ptrain_gru=model_gru.predict(Xtrain).flatten()\n",
        "Ptest_gru=model_gru.predict(Xtest).flatten()"
      ],
      "metadata": {
        "id": "znvUQWrKnmIj"
      },
      "execution_count": 332,
      "outputs": []
    },
    {
      "cell_type": "code",
      "source": [
        "df.loc[train_idx,'Diff ANN train prediction']=Ptrain_ann\n",
        "df.loc[test_idx,'Diff ANN test prediction']=Ptest_ann"
      ],
      "metadata": {
        "id": "L7p_peucdjgP"
      },
      "execution_count": 333,
      "outputs": []
    },
    {
      "cell_type": "code",
      "source": [
        "df.loc[train_idx,'Diff CNN train prediction']=Ptrain_cnn\n",
        "df.loc[test_idx,'Diff CNN test prediction']=Ptest_cnn"
      ],
      "metadata": {
        "id": "YcnY5nc6gaG6"
      },
      "execution_count": 334,
      "outputs": []
    },
    {
      "cell_type": "code",
      "source": [
        "df.loc[train_idx,'Diff LSTM train prediction']=Ptrain_lstm\n",
        "df.loc[test_idx,'Diff LSTM test prediction']=Ptest_lstm"
      ],
      "metadata": {
        "id": "8p_92fO6jTpW"
      },
      "execution_count": 335,
      "outputs": []
    },
    {
      "cell_type": "code",
      "source": [
        "df.loc[train_idx,'Diff GRU train prediction']=Ptrain_gru\n",
        "df.loc[test_idx,'Diff GRU test prediction']=Ptest_gru"
      ],
      "metadata": {
        "id": "nmUC4sKpnsIl"
      },
      "execution_count": 336,
      "outputs": []
    },
    {
      "cell_type": "code",
      "source": [
        "df['Shift Prev Close']=df['Prev Close'].shift(1)\n",
        "prev=df['Shift Prev Close']"
      ],
      "metadata": {
        "id": "Ea7RmDuJdpgz"
      },
      "execution_count": 337,
      "outputs": []
    },
    {
      "cell_type": "code",
      "source": [
        "last_train=train.iloc[-1]['Prev Close']"
      ],
      "metadata": {
        "id": "hrhOEI3fduRI"
      },
      "execution_count": 338,
      "outputs": []
    },
    {
      "cell_type": "code",
      "source": [
        "df.loc[train_idx,'train_ANN']=prev[train_idx]+Ptrain_ann\n",
        "df.loc[test_idx,'Prediction_ANN']=prev[test_idx]+Ptest_ann"
      ],
      "metadata": {
        "id": "h0UpXNAXd0Uy"
      },
      "execution_count": 339,
      "outputs": []
    },
    {
      "cell_type": "code",
      "source": [
        "df.loc[train_idx,'train_CNN']=prev[train_idx]+Ptrain_cnn\n",
        "df.loc[test_idx,'Prediction_CNN']=prev[test_idx]+Ptest_cnn"
      ],
      "metadata": {
        "id": "EUYdfUqdg5Tu"
      },
      "execution_count": 340,
      "outputs": []
    },
    {
      "cell_type": "code",
      "source": [
        "df.loc[train_idx,'train_LSTM']=prev[train_idx]+Ptrain_lstm\n",
        "df.loc[test_idx,'Prediction_LSTM']=prev[test_idx]+Ptest_lstm"
      ],
      "metadata": {
        "id": "Na8TIloyjc_Z"
      },
      "execution_count": 341,
      "outputs": []
    },
    {
      "cell_type": "code",
      "source": [
        "df.loc[train_idx,'train_GRU']=prev[train_idx]+Ptrain_gru\n",
        "df.loc[test_idx,'Prediction_GRU']=prev[test_idx]+Ptest_gru"
      ],
      "metadata": {
        "id": "qSL8wEeqnzrM"
      },
      "execution_count": 342,
      "outputs": []
    },
    {
      "cell_type": "code",
      "source": [
        "df[[ 'Prev Close','Prediction_CNN','Prediction_ANN','Prediction_LSTM','Prediction_GRU']].plot(figsize=(15,10));"
      ],
      "metadata": {
        "colab": {
          "base_uri": "https://localhost:8080/",
          "height": 422
        },
        "id": "hItPmrHOd45G",
        "outputId": "6fb1edb1-b3aa-4284-89e4-d32f1508584b"
      },
      "execution_count": 343,
      "outputs": [
        {
          "output_type": "display_data",
          "data": {
            "text/plain": [
              "<Figure size 1080x720 with 1 Axes>"
            ],
            "image/png": "[encoded data removed]"
          },
          "metadata": {
            "needs_background": "light"
          }
        }
      ]
    },
    {
      "cell_type": "code",
      "source": [
        "df[[ 'Prediction_CNN','Prediction_ANN','Prediction_LSTM','Prediction_GRU']].plot(figsize=(15,10),\n",
        "    ylabel=(\"Previous Close\"));"
      ],
      "metadata": {
        "colab": {
          "base_uri": "https://localhost:8080/",
          "height": 421
        },
        "id": "8nDh9SzUd7Em",
        "outputId": "2fbdaab4-3165-46ab-ecfb-71aca2e8c098"
      },
      "execution_count": 344,
      "outputs": [
        {
          "output_type": "display_data",
          "data": {
            "text/plain": [
              "<Figure size 1080x720 with 1 Axes>"
            ],
            "image/png": "[encoded data removed]"
          },
          "metadata": {
            "needs_background": "light"
          }
        }
      ]
    },
    {
      "cell_type": "markdown",
      "source": [
        "Evaluation"
      ],
      "metadata": {
        "id": "rSXUYSDdpMP7"
      }
    },
    {
      "cell_type": "code",
      "source": [
        "pred_ann=df['Prediction_ANN']\n",
        "pred_ann.dropna(inplace=True)"
      ],
      "metadata": {
        "id": "NdOUWgEhoKjf"
      },
      "execution_count": 345,
      "outputs": []
    },
    {
      "cell_type": "code",
      "source": [
        "rmse=math.sqrt(mean_squared_error(test['Prev Close'],pred_ann))\n",
        "print(rmse)"
      ],
      "metadata": {
        "colab": {
          "base_uri": "https://localhost:8080/"
        },
        "id": "nsTCBQ6mpdH0",
        "outputId": "c6cfe916-d5a3-4ca0-f3f0-6a242006ba8c"
      },
      "execution_count": 346,
      "outputs": [
        {
          "output_type": "stream",
          "name": "stdout",
          "text": [
            "42.95756355598706\n"
          ]
        }
      ]
    },
    {
      "cell_type": "code",
      "source": [
        "error=mean_absolute_error(test['Prev Close'],pred_ann)\n",
        "print(error)"
      ],
      "metadata": {
        "colab": {
          "base_uri": "https://localhost:8080/"
        },
        "id": "iIAQHD7DpgVL",
        "outputId": "f5ece2ac-e2b1-40dc-f4f0-b84a6d96ecc2"
      },
      "execution_count": 347,
      "outputs": [
        {
          "output_type": "stream",
          "name": "stdout",
          "text": [
            "31.86133333333333\n"
          ]
        }
      ]
    },
    {
      "cell_type": "code",
      "source": [
        "r2_score(test['Prev Close'],pred_ann)"
      ],
      "metadata": {
        "colab": {
          "base_uri": "https://localhost:8080/"
        },
        "id": "-0ZfJE4zplqz",
        "outputId": "71fd428f-e26c-4cf5-b2ce-00dd24ff980d"
      },
      "execution_count": 348,
      "outputs": [
        {
          "output_type": "execute_result",
          "data": {
            "text/plain": [
              "0.9710893885352849"
            ]
          },
          "metadata": {},
          "execution_count": 348
        }
      ]
    },
    {
      "cell_type": "code",
      "source": [
        "pred_cnn=df['Prediction_CNN']\n",
        "pred_cnn.dropna(inplace=True)"
      ],
      "metadata": {
        "id": "NQ3y6NwzppdW"
      },
      "execution_count": 349,
      "outputs": []
    },
    {
      "cell_type": "code",
      "source": [
        "rmse=math.sqrt(mean_squared_error(test['Prev Close'],pred_cnn))\n",
        "print(rmse)"
      ],
      "metadata": {
        "colab": {
          "base_uri": "https://localhost:8080/"
        },
        "id": "2t7Fu7N-p9ql",
        "outputId": "00dd1b5b-84c2-4f76-cc3a-af3f7b18f9ba"
      },
      "execution_count": 350,
      "outputs": [
        {
          "output_type": "stream",
          "name": "stdout",
          "text": [
            "47.17168557186132\n"
          ]
        }
      ]
    },
    {
      "cell_type": "code",
      "source": [
        "error=mean_absolute_error(test['Prev Close'],pred_cnn)\n",
        "print(error)"
      ],
      "metadata": {
        "colab": {
          "base_uri": "https://localhost:8080/"
        },
        "id": "fCxfXZ3Cp92i",
        "outputId": "8f4468eb-21ba-4899-e5ef-ae47eefb45ed"
      },
      "execution_count": 351,
      "outputs": [
        {
          "output_type": "stream",
          "name": "stdout",
          "text": [
            "35.11093982531628\n"
          ]
        }
      ]
    },
    {
      "cell_type": "code",
      "source": [
        "r2_score(test['Prev Close'],pred_cnn)"
      ],
      "metadata": {
        "colab": {
          "base_uri": "https://localhost:8080/"
        },
        "id": "B1yNq5Vyp-Fv",
        "outputId": "c920beee-f3fb-4878-e9c2-74bd4f76d69c"
      },
      "execution_count": 352,
      "outputs": [
        {
          "output_type": "execute_result",
          "data": {
            "text/plain": [
              "0.9651389242412098"
            ]
          },
          "metadata": {},
          "execution_count": 352
        }
      ]
    },
    {
      "cell_type": "code",
      "source": [
        "pred_lstm=df['Prediction_LSTM']\n",
        "pred_lstm.dropna(inplace=True)"
      ],
      "metadata": {
        "id": "2JHbSsrypzko"
      },
      "execution_count": 353,
      "outputs": []
    },
    {
      "cell_type": "code",
      "source": [
        "rmse=math.sqrt(mean_squared_error(test['Prev Close'],pred_lstm))\n",
        "print(rmse)"
      ],
      "metadata": {
        "colab": {
          "base_uri": "https://localhost:8080/"
        },
        "id": "UXSSQRxQp-35",
        "outputId": "6a557ef4-1d83-47c9-9e50-0fd2395413e7"
      },
      "execution_count": 354,
      "outputs": [
        {
          "output_type": "stream",
          "name": "stdout",
          "text": [
            "61.95348256327292\n"
          ]
        }
      ]
    },
    {
      "cell_type": "code",
      "source": [
        "error=mean_absolute_error(test['Prev Close'],pred_lstm)\n",
        "print(error)"
      ],
      "metadata": {
        "colab": {
          "base_uri": "https://localhost:8080/"
        },
        "id": "h9VZ6Odxp-9o",
        "outputId": "d49f83a9-c805-4601-f971-5093924cb786"
      },
      "execution_count": 355,
      "outputs": [
        {
          "output_type": "stream",
          "name": "stdout",
          "text": [
            "48.97090985727311\n"
          ]
        }
      ]
    },
    {
      "cell_type": "code",
      "source": [
        "r2_score(test['Prev Close'],pred_lstm)"
      ],
      "metadata": {
        "colab": {
          "base_uri": "https://localhost:8080/"
        },
        "id": "X7FH8enup_D3",
        "outputId": "2ae63a5b-f7fe-4f2d-b824-1bddefc7d5ac"
      },
      "execution_count": 356,
      "outputs": [
        {
          "output_type": "execute_result",
          "data": {
            "text/plain": [
              "0.9398674746612133"
            ]
          },
          "metadata": {},
          "execution_count": 356
        }
      ]
    },
    {
      "cell_type": "code",
      "source": [
        "pred_gru=df['Prediction_GRU']\n",
        "pred_gru.dropna(inplace=True)"
      ],
      "metadata": {
        "id": "i3IdPEAWp4iD"
      },
      "execution_count": 357,
      "outputs": []
    },
    {
      "cell_type": "code",
      "source": [
        "rmse=math.sqrt(mean_squared_error(test['Prev Close'],pred_gru))\n",
        "print(rmse)"
      ],
      "metadata": {
        "colab": {
          "base_uri": "https://localhost:8080/"
        },
        "id": "XuZAIPTEp_iy",
        "outputId": "6176d92d-1a8b-44b9-ade6-46f314168bf0"
      },
      "execution_count": 358,
      "outputs": [
        {
          "output_type": "stream",
          "name": "stdout",
          "text": [
            "56.373829870135744\n"
          ]
        }
      ]
    },
    {
      "cell_type": "code",
      "source": [
        "error=mean_absolute_error(test['Prev Close'],pred_gru)\n",
        "print(error)"
      ],
      "metadata": {
        "colab": {
          "base_uri": "https://localhost:8080/"
        },
        "id": "eo7EZVIop_np",
        "outputId": "a992c507-5f2a-40a0-bba9-36b7040e0cdc"
      },
      "execution_count": 359,
      "outputs": [
        {
          "output_type": "stream",
          "name": "stdout",
          "text": [
            "45.00376244560878\n"
          ]
        }
      ]
    },
    {
      "cell_type": "code",
      "source": [
        "r2_score(test['Prev Close'],pred_gru)"
      ],
      "metadata": {
        "colab": {
          "base_uri": "https://localhost:8080/"
        },
        "id": "AQIh6l51p_so",
        "outputId": "f69d32e4-9afd-4597-9315-21d9d0471afa"
      },
      "execution_count": 360,
      "outputs": [
        {
          "output_type": "execute_result",
          "data": {
            "text/plain": [
              "0.9502110376160067"
            ]
          },
          "metadata": {},
          "execution_count": 360
        }
      ]
    },
    {
      "cell_type": "code",
      "source": [],
      "metadata": {
        "id": "gjfmkSgjqcjO"
      },
      "execution_count": 360,
      "outputs": []
    }
  ]
}