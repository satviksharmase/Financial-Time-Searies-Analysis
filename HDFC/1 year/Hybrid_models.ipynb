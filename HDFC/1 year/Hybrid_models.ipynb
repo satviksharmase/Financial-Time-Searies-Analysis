{
  "nbformat": 4,
  "nbformat_minor": 0,
  "metadata": {
    "colab": {
      "provenance": []
    },
    "kernelspec": {
      "name": "python3",
      "display_name": "Python 3"
    },
    "language_info": {
      "name": "python"
    }
  },
  "cells": [
    {
      "cell_type": "code",
      "execution_count": 132,
      "metadata": {
        "id": "dpI-f41n9Ofc"
      },
      "outputs": [],
      "source": [
        "import pandas as pd\n",
        "import numpy as np\n",
        "import matplotlib.pyplot as plt\n",
        "\n",
        "import tensorflow as tf\n",
        "from tensorflow.keras.layers import Dense, Input, GlobalMaxPool1D, LSTM, GRU\n",
        "from tensorflow.keras.layers import Conv1D, MaxPooling1D\n",
        "from tensorflow.keras.models import Model\n",
        "from tensorflow.keras.callbacks import ModelCheckpoint\n",
        "\n",
        "import math\n",
        "\n",
        "from sklearn.metrics import r2_score\n",
        "from sklearn.metrics import mean_absolute_error\n",
        "from sklearn.metrics import mean_squared_error\n",
        "\n",
        "np.random.seed(123)\n",
        "tf.random.set_seed(123)"
      ]
    },
    {
      "cell_type": "code",
      "source": [
        "df=pd.read_csv('./HDFC.csv',index_col='Date',parse_dates=True)"
      ],
      "metadata": {
        "id": "tRrBpF6O9Rch"
      },
      "execution_count": 133,
      "outputs": []
    },
    {
      "cell_type": "code",
      "source": [
        "df"
      ],
      "metadata": {
        "colab": {
          "base_uri": "https://localhost:8080/",
          "height": 710
        },
        "id": "ZHKVPajo9cUs",
        "outputId": "b2e78a50-0e5b-4128-e91a-5c2810d04df7"
      },
      "execution_count": 134,
      "outputs": [
        {
          "output_type": "execute_result",
          "data": {
            "text/plain": [
              "           Symbol Series  Prev Close     Open     High      Low     Last  \\\n",
              "Date                                                                       \n",
              "2000-01-03   HDFC     EQ      271.75   293.50   293.50   293.50   293.50   \n",
              "2000-01-04   HDFC     EQ      293.50   317.00   317.00   297.00   304.00   \n",
              "2000-01-05   HDFC     EQ      304.05   290.00   303.90   285.00   295.00   \n",
              "2000-01-06   HDFC     EQ      292.80   301.00   314.00   295.00   296.00   \n",
              "2000-01-07   HDFC     EQ      296.45   290.00   296.35   281.00   287.10   \n",
              "...           ...    ...         ...      ...      ...      ...      ...   \n",
              "2021-04-26   HDFC     EQ     2497.35  2500.00  2534.10  2483.20  2502.00   \n",
              "2021-04-27   HDFC     EQ     2509.80  2494.15  2526.80  2486.25  2514.00   \n",
              "2021-04-28   HDFC     EQ     2518.40  2516.10  2609.00  2508.30  2575.00   \n",
              "2021-04-29   HDFC     EQ     2577.00  2590.90  2628.00  2533.00  2539.70   \n",
              "2021-04-30   HDFC     EQ     2538.85  2503.10  2525.00  2411.10  2433.25   \n",
              "\n",
              "              Close     VWAP   Volume      Turnover    Trades  \\\n",
              "Date                                                            \n",
              "2000-01-03   293.50   293.50    22744  6.675364e+11       NaN   \n",
              "2000-01-04   304.05   303.62   255251  7.749972e+12       NaN   \n",
              "2000-01-05   292.80   294.53   269087  7.925368e+12       NaN   \n",
              "2000-01-06   296.45   300.14   305916  9.181669e+12       NaN   \n",
              "2000-01-07   286.55   288.80   197039  5.690480e+12       NaN   \n",
              "...             ...      ...      ...           ...       ...   \n",
              "2021-04-26  2509.80  2508.07  3916088  9.821805e+14  121028.0   \n",
              "2021-04-27  2518.40  2509.18  2040799  5.120730e+14  102250.0   \n",
              "2021-04-28  2577.00  2574.21  3407461  8.771527e+14  117425.0   \n",
              "2021-04-29  2538.85  2569.65  3005468  7.722995e+14  132826.0   \n",
              "2021-04-30  2420.10  2445.94  6024595  1.473581e+15  224454.0   \n",
              "\n",
              "            Deliverable Volume  %Deliverble  \n",
              "Date                                         \n",
              "2000-01-03                 NaN          NaN  \n",
              "2000-01-04                 NaN          NaN  \n",
              "2000-01-05                 NaN          NaN  \n",
              "2000-01-06                 NaN          NaN  \n",
              "2000-01-07                 NaN          NaN  \n",
              "...                        ...          ...  \n",
              "2021-04-26           2440395.0       0.6232  \n",
              "2021-04-27           1040749.0       0.5100  \n",
              "2021-04-28           1815110.0       0.5327  \n",
              "2021-04-29           1472924.0       0.4901  \n",
              "2021-04-30           3839105.0       0.6372  \n",
              "\n",
              "[5306 rows x 14 columns]"
            ],
            "text/html": [
              "\n",
              "  <div id=\"df-362ed74a-9055-4f6c-86cd-0610bb83bb2b\">\n",
              "    <div class=\"colab-df-container\">\n",
              "      <div>\n",
              "<style scoped>\n",
              "    .dataframe tbody tr th:only-of-type {\n",
              "        vertical-align: middle;\n",
              "    }\n",
              "\n",
              "    .dataframe tbody tr th {\n",
              "        vertical-align: top;\n",
              "    }\n",
              "\n",
              "    .dataframe thead th {\n",
              "        text-align: right;\n",
              "    }\n",
              "</style>\n",
              "<table border=\"1\" class=\"dataframe\">\n",
              "  <thead>\n",
              "    <tr style=\"text-align: right;\">\n",
              "      <th></th>\n",
              "      <th>Symbol</th>\n",
              "      <th>Series</th>\n",
              "      <th>Prev Close</th>\n",
              "      <th>Open</th>\n",
              "      <th>High</th>\n",
              "      <th>Low</th>\n",
              "      <th>Last</th>\n",
              "      <th>Close</th>\n",
              "      <th>VWAP</th>\n",
              "      <th>Volume</th>\n",
              "      <th>Turnover</th>\n",
              "      <th>Trades</th>\n",
              "      <th>Deliverable Volume</th>\n",
              "      <th>%Deliverble</th>\n",
              "    </tr>\n",
              "    <tr>\n",
              "      <th>Date</th>\n",
              "      <th></th>\n",
              "      <th></th>\n",
              "      <th></th>\n",
              "      <th></th>\n",
              "      <th></th>\n",
              "      <th></th>\n",
              "      <th></th>\n",
              "      <th></th>\n",
              "      <th></th>\n",
              "      <th></th>\n",
              "      <th></th>\n",
              "      <th></th>\n",
              "      <th></th>\n",
              "      <th></th>\n",
              "    </tr>\n",
              "  </thead>\n",
              "  <tbody>\n",
              "    <tr>\n",
              "      <th>2000-01-03</th>\n",
              "      <td>HDFC</td>\n",
              "      <td>EQ</td>\n",
              "      <td>271.75</td>\n",
              "      <td>293.50</td>\n",
              "      <td>293.50</td>\n",
              "      <td>293.50</td>\n",
              "      <td>293.50</td>\n",
              "      <td>293.50</td>\n",
              "      <td>293.50</td>\n",
              "      <td>22744</td>\n",
              "      <td>6.675364e+11</td>\n",
              "      <td>NaN</td>\n",
              "      <td>NaN</td>\n",
              "      <td>NaN</td>\n",
              "    </tr>\n",
              "    <tr>\n",
              "      <th>2000-01-04</th>\n",
              "      <td>HDFC</td>\n",
              "      <td>EQ</td>\n",
              "      <td>293.50</td>\n",
              "      <td>317.00</td>\n",
              "      <td>317.00</td>\n",
              "      <td>297.00</td>\n",
              "      <td>304.00</td>\n",
              "      <td>304.05</td>\n",
              "      <td>303.62</td>\n",
              "      <td>255251</td>\n",
              "      <td>7.749972e+12</td>\n",
              "      <td>NaN</td>\n",
              "      <td>NaN</td>\n",
              "      <td>NaN</td>\n",
              "    </tr>\n",
              "    <tr>\n",
              "      <th>2000-01-05</th>\n",
              "      <td>HDFC</td>\n",
              "      <td>EQ</td>\n",
              "      <td>304.05</td>\n",
              "      <td>290.00</td>\n",
              "      <td>303.90</td>\n",
              "      <td>285.00</td>\n",
              "      <td>295.00</td>\n",
              "      <td>292.80</td>\n",
              "      <td>294.53</td>\n",
              "      <td>269087</td>\n",
              "      <td>7.925368e+12</td>\n",
              "      <td>NaN</td>\n",
              "      <td>NaN</td>\n",
              "      <td>NaN</td>\n",
              "    </tr>\n",
              "    <tr>\n",
              "      <th>2000-01-06</th>\n",
              "      <td>HDFC</td>\n",
              "      <td>EQ</td>\n",
              "      <td>292.80</td>\n",
              "      <td>301.00</td>\n",
              "      <td>314.00</td>\n",
              "      <td>295.00</td>\n",
              "      <td>296.00</td>\n",
              "      <td>296.45</td>\n",
              "      <td>300.14</td>\n",
              "      <td>305916</td>\n",
              "      <td>9.181669e+12</td>\n",
              "      <td>NaN</td>\n",
              "      <td>NaN</td>\n",
              "      <td>NaN</td>\n",
              "    </tr>\n",
              "    <tr>\n",
              "      <th>2000-01-07</th>\n",
              "      <td>HDFC</td>\n",
              "      <td>EQ</td>\n",
              "      <td>296.45</td>\n",
              "      <td>290.00</td>\n",
              "      <td>296.35</td>\n",
              "      <td>281.00</td>\n",
              "      <td>287.10</td>\n",
              "      <td>286.55</td>\n",
              "      <td>288.80</td>\n",
              "      <td>197039</td>\n",
              "      <td>5.690480e+12</td>\n",
              "      <td>NaN</td>\n",
              "      <td>NaN</td>\n",
              "      <td>NaN</td>\n",
              "    </tr>\n",
              "    <tr>\n",
              "      <th>...</th>\n",
              "      <td>...</td>\n",
              "      <td>...</td>\n",
              "      <td>...</td>\n",
              "      <td>...</td>\n",
              "      <td>...</td>\n",
              "      <td>...</td>\n",
              "      <td>...</td>\n",
              "      <td>...</td>\n",
              "      <td>...</td>\n",
              "      <td>...</td>\n",
              "      <td>...</td>\n",
              "      <td>...</td>\n",
              "      <td>...</td>\n",
              "      <td>...</td>\n",
              "    </tr>\n",
              "    <tr>\n",
              "      <th>2021-04-26</th>\n",
              "      <td>HDFC</td>\n",
              "      <td>EQ</td>\n",
              "      <td>2497.35</td>\n",
              "      <td>2500.00</td>\n",
              "      <td>2534.10</td>\n",
              "      <td>2483.20</td>\n",
              "      <td>2502.00</td>\n",
              "      <td>2509.80</td>\n",
              "      <td>2508.07</td>\n",
              "      <td>3916088</td>\n",
              "      <td>9.821805e+14</td>\n",
              "      <td>121028.0</td>\n",
              "      <td>2440395.0</td>\n",
              "      <td>0.6232</td>\n",
              "    </tr>\n",
              "    <tr>\n",
              "      <th>2021-04-27</th>\n",
              "      <td>HDFC</td>\n",
              "      <td>EQ</td>\n",
              "      <td>2509.80</td>\n",
              "      <td>2494.15</td>\n",
              "      <td>2526.80</td>\n",
              "      <td>2486.25</td>\n",
              "      <td>2514.00</td>\n",
              "      <td>2518.40</td>\n",
              "      <td>2509.18</td>\n",
              "      <td>2040799</td>\n",
              "      <td>5.120730e+14</td>\n",
              "      <td>102250.0</td>\n",
              "      <td>1040749.0</td>\n",
              "      <td>0.5100</td>\n",
              "    </tr>\n",
              "    <tr>\n",
              "      <th>2021-04-28</th>\n",
              "      <td>HDFC</td>\n",
              "      <td>EQ</td>\n",
              "      <td>2518.40</td>\n",
              "      <td>2516.10</td>\n",
              "      <td>2609.00</td>\n",
              "      <td>2508.30</td>\n",
              "      <td>2575.00</td>\n",
              "      <td>2577.00</td>\n",
              "      <td>2574.21</td>\n",
              "      <td>3407461</td>\n",
              "      <td>8.771527e+14</td>\n",
              "      <td>117425.0</td>\n",
              "      <td>1815110.0</td>\n",
              "      <td>0.5327</td>\n",
              "    </tr>\n",
              "    <tr>\n",
              "      <th>2021-04-29</th>\n",
              "      <td>HDFC</td>\n",
              "      <td>EQ</td>\n",
              "      <td>2577.00</td>\n",
              "      <td>2590.90</td>\n",
              "      <td>2628.00</td>\n",
              "      <td>2533.00</td>\n",
              "      <td>2539.70</td>\n",
              "      <td>2538.85</td>\n",
              "      <td>2569.65</td>\n",
              "      <td>3005468</td>\n",
              "      <td>7.722995e+14</td>\n",
              "      <td>132826.0</td>\n",
              "      <td>1472924.0</td>\n",
              "      <td>0.4901</td>\n",
              "    </tr>\n",
              "    <tr>\n",
              "      <th>2021-04-30</th>\n",
              "      <td>HDFC</td>\n",
              "      <td>EQ</td>\n",
              "      <td>2538.85</td>\n",
              "      <td>2503.10</td>\n",
              "      <td>2525.00</td>\n",
              "      <td>2411.10</td>\n",
              "      <td>2433.25</td>\n",
              "      <td>2420.10</td>\n",
              "      <td>2445.94</td>\n",
              "      <td>6024595</td>\n",
              "      <td>1.473581e+15</td>\n",
              "      <td>224454.0</td>\n",
              "      <td>3839105.0</td>\n",
              "      <td>0.6372</td>\n",
              "    </tr>\n",
              "  </tbody>\n",
              "</table>\n",
              "<p>5306 rows × 14 columns</p>\n",
              "</div>\n",
              "      <button class=\"colab-df-convert\" onclick=\"convertToInteractive('df-362ed74a-9055-4f6c-86cd-0610bb83bb2b')\"\n",
              "              title=\"Convert this dataframe to an interactive table.\"\n",
              "              style=\"display:none;\">\n",
              "        \n",
              "  <svg xmlns=\"http://www.w3.org/2000/svg\" height=\"24px\"viewBox=\"0 0 24 24\"\n",
              "       width=\"24px\">\n",
              "    <path d=\"M0 0h24v24H0V0z\" fill=\"none\"/>\n",
              "    <path d=\"M18.56 5.44l.94 2.06.94-2.06 2.06-.94-2.06-.94-.94-2.06-.94 2.06-2.06.94zm-11 1L8.5 8.5l.94-2.06 2.06-.94-2.06-.94L8.5 2.5l-.94 2.06-2.06.94zm10 10l.94 2.06.94-2.06 2.06-.94-2.06-.94-.94-2.06-.94 2.06-2.06.94z\"/><path d=\"M17.41 7.96l-1.37-1.37c-.4-.4-.92-.59-1.43-.59-.52 0-1.04.2-1.43.59L10.3 9.45l-7.72 7.72c-.78.78-.78 2.05 0 2.83L4 21.41c.39.39.9.59 1.41.59.51 0 1.02-.2 1.41-.59l7.78-7.78 2.81-2.81c.8-.78.8-2.07 0-2.86zM5.41 20L4 18.59l7.72-7.72 1.47 1.35L5.41 20z\"/>\n",
              "  </svg>\n",
              "      </button>\n",
              "      \n",
              "  <style>\n",
              "    .colab-df-container {\n",
              "      display:flex;\n",
              "      flex-wrap:wrap;\n",
              "      gap: 12px;\n",
              "    }\n",
              "\n",
              "    .colab-df-convert {\n",
              "      background-color: #E8F0FE;\n",
              "      border: none;\n",
              "      border-radius: 50%;\n",
              "      cursor: pointer;\n",
              "      display: none;\n",
              "      fill: #1967D2;\n",
              "      height: 32px;\n",
              "      padding: 0 0 0 0;\n",
              "      width: 32px;\n",
              "    }\n",
              "\n",
              "    .colab-df-convert:hover {\n",
              "      background-color: #E2EBFA;\n",
              "      box-shadow: 0px 1px 2px rgba(60, 64, 67, 0.3), 0px 1px 3px 1px rgba(60, 64, 67, 0.15);\n",
              "      fill: #174EA6;\n",
              "    }\n",
              "\n",
              "    [theme=dark] .colab-df-convert {\n",
              "      background-color: #3B4455;\n",
              "      fill: #D2E3FC;\n",
              "    }\n",
              "\n",
              "    [theme=dark] .colab-df-convert:hover {\n",
              "      background-color: #434B5C;\n",
              "      box-shadow: 0px 1px 3px 1px rgba(0, 0, 0, 0.15);\n",
              "      filter: drop-shadow(0px 1px 2px rgba(0, 0, 0, 0.3));\n",
              "      fill: #FFFFFF;\n",
              "    }\n",
              "  </style>\n",
              "\n",
              "      <script>\n",
              "        const buttonEl =\n",
              "          document.querySelector('#df-362ed74a-9055-4f6c-86cd-0610bb83bb2b button.colab-df-convert');\n",
              "        buttonEl.style.display =\n",
              "          google.colab.kernel.accessAllowed ? 'block' : 'none';\n",
              "\n",
              "        async function convertToInteractive(key) {\n",
              "          const element = document.querySelector('#df-362ed74a-9055-4f6c-86cd-0610bb83bb2b');\n",
              "          const dataTable =\n",
              "            await google.colab.kernel.invokeFunction('convertToInteractive',\n",
              "                                                     [key], {});\n",
              "          if (!dataTable) return;\n",
              "\n",
              "          const docLinkHtml = 'Like what you see? Visit the ' +\n",
              "            '<a target=\"_blank\" href=https://colab.research.google.com/notebooks/data_table.ipynb>data table notebook</a>'\n",
              "            + ' to learn more about interactive tables.';\n",
              "          element.innerHTML = '';\n",
              "          dataTable['output_type'] = 'display_data';\n",
              "          await google.colab.output.renderOutput(dataTable, element);\n",
              "          const docLink = document.createElement('div');\n",
              "          docLink.innerHTML = docLinkHtml;\n",
              "          element.appendChild(docLink);\n",
              "        }\n",
              "      </script>\n",
              "    </div>\n",
              "  </div>\n",
              "  "
            ]
          },
          "metadata": {},
          "execution_count": 134
        }
      ]
    },
    {
      "cell_type": "code",
      "source": [
        "df['Date']=df.index"
      ],
      "metadata": {
        "id": "9unXMmHP9dBl"
      },
      "execution_count": 135,
      "outputs": []
    },
    {
      "cell_type": "code",
      "source": [
        "start_date='2020-01-01'\n",
        "end_date='2020-12-31'\n",
        "mask=(df['Date']>=start_date)&(df['Date']<=end_date)"
      ],
      "metadata": {
        "id": "pmoAuKVz9dEq"
      },
      "execution_count": 136,
      "outputs": []
    },
    {
      "cell_type": "code",
      "source": [
        "df=df.loc[mask]"
      ],
      "metadata": {
        "id": "BuOLMt6t9dHp"
      },
      "execution_count": 137,
      "outputs": []
    },
    {
      "cell_type": "code",
      "source": [
        "df=df.drop(columns=['Series','Symbol','Open','High','Low','Last','Close','VWAP','Volume','Turnover','Trades','Deliverable Volume','%Deliverble','Date'])"
      ],
      "metadata": {
        "id": "5w_ZXVOL9dKu"
      },
      "execution_count": 138,
      "outputs": []
    },
    {
      "cell_type": "code",
      "source": [
        "Ntest=math.trunc(0.3*len(df))\n",
        "train=df.iloc[:-Ntest]\n",
        "test=df.iloc[-Ntest:]"
      ],
      "metadata": {
        "id": "Pd6Tf8ub9dNk"
      },
      "execution_count": 139,
      "outputs": []
    },
    {
      "cell_type": "code",
      "source": [
        "train_idx=df.index<=train.index[-1]\n",
        "test_idx=df.index>train.index[-1]"
      ],
      "metadata": {
        "id": "fFr5cqWk9dQ4"
      },
      "execution_count": 140,
      "outputs": []
    },
    {
      "cell_type": "code",
      "source": [
        "df['Diff Prev Close']=df['Prev Close'].diff()"
      ],
      "metadata": {
        "id": "bTleMRdL9dTP"
      },
      "execution_count": 141,
      "outputs": []
    },
    {
      "cell_type": "code",
      "source": [
        "series=df['Diff Prev Close'].dropna().to_numpy()\n",
        "\n",
        "T=50\n",
        "X=[]\n",
        "Y=[]\n",
        "for t in range(len(series)-T):\n",
        "  x=series[t:t+T]\n",
        "  X.append(x)\n",
        "  y=series[t+T]\n",
        "  Y.append(y)\n",
        "\n",
        "X=np.array(X).reshape(-1,T)\n",
        "Y=np.array(Y)\n",
        "N=len(X)\n",
        "print(\"X.shape\",X.shape,\"Y.shape\",Y.shape)"
      ],
      "metadata": {
        "colab": {
          "base_uri": "https://localhost:8080/"
        },
        "id": "-faJTkyl9dWV",
        "outputId": "60304ffc-b9be-424d-e9d4-1b95b707e54b"
      },
      "execution_count": 142,
      "outputs": [
        {
          "output_type": "stream",
          "name": "stdout",
          "text": [
            "X.shape (201, 50) Y.shape (201,)\n"
          ]
        }
      ]
    },
    {
      "cell_type": "code",
      "source": [
        "Xtrain,Ytrain=X[:-Ntest],Y[:-Ntest]\n",
        "Xtest,Ytest=X[-Ntest:],Y[-Ntest:]"
      ],
      "metadata": {
        "id": "blHqq_g-9dY_"
      },
      "execution_count": 143,
      "outputs": []
    },
    {
      "cell_type": "markdown",
      "source": [
        "LSTM+CNN"
      ],
      "metadata": {
        "id": "ir_desj398LI"
      }
    },
    {
      "cell_type": "code",
      "source": [
        "i=Input(shape=(T,1))\n",
        "x=LSTM(200,return_sequences=True)(i)\n",
        "x=LSTM(200,return_sequences=True)(x)\n",
        "x=Dense(100)(x)\n",
        "x=Dense(50)(x)\n",
        "x=Conv1D(25,3,activation='relu')(i)\n",
        "x=MaxPooling1D(2)(x)\n",
        "x=Conv1D(50,3,activation='relu')(x)\n",
        "x=GlobalMaxPool1D()(x)\n",
        "x=Dense(1)(x)\n",
        "model_lstm_cnn=Model(i,x)\n",
        "model_lstm_cnn.summary()"
      ],
      "metadata": {
        "colab": {
          "base_uri": "https://localhost:8080/"
        },
        "id": "vvKQKCrr96yo",
        "outputId": "966be9f6-bc48-4ca8-9859-efae0c59c5e0"
      },
      "execution_count": 144,
      "outputs": [
        {
          "output_type": "stream",
          "name": "stdout",
          "text": [
            "Model: \"model_7\"\n",
            "_________________________________________________________________\n",
            " Layer (type)                Output Shape              Param #   \n",
            "=================================================================\n",
            " input_8 (InputLayer)        [(None, 50, 1)]           0         \n",
            "                                                                 \n",
            " conv1d_6 (Conv1D)           (None, 48, 25)            100       \n",
            "                                                                 \n",
            " max_pooling1d_3 (MaxPooling  (None, 24, 25)           0         \n",
            " 1D)                                                             \n",
            "                                                                 \n",
            " conv1d_7 (Conv1D)           (None, 22, 50)            3800      \n",
            "                                                                 \n",
            " global_max_pooling1d_7 (Glo  (None, 50)               0         \n",
            " balMaxPooling1D)                                                \n",
            "                                                                 \n",
            " dense_31 (Dense)            (None, 1)                 51        \n",
            "                                                                 \n",
            "=================================================================\n",
            "Total params: 3,951\n",
            "Trainable params: 3,951\n",
            "Non-trainable params: 0\n",
            "_________________________________________________________________\n"
          ]
        }
      ]
    },
    {
      "cell_type": "code",
      "source": [
        "check_point_lstm_cnn=ModelCheckpoint('best_model.h5',monitor='val_loss',save_best_only=True)"
      ],
      "metadata": {
        "id": "nH-bqzYc967w"
      },
      "execution_count": 145,
      "outputs": []
    },
    {
      "cell_type": "code",
      "source": [
        "model_lstm_cnn.compile(loss='mse',\n",
        "              optimizer='adamax',\n",
        "              metrics=['mae','mse'])"
      ],
      "metadata": {
        "id": "pSNLhWam97B2"
      },
      "execution_count": 146,
      "outputs": []
    },
    {
      "cell_type": "code",
      "source": [
        "r=model_lstm_cnn.fit(\n",
        "    Xtrain,\n",
        "    Ytrain,\n",
        "    epochs=100,\n",
        "    validation_data=(Xtest,Ytest),\n",
        "    callbacks=[check_point_lstm_cnn]\n",
        ")"
      ],
      "metadata": {
        "colab": {
          "base_uri": "https://localhost:8080/"
        },
        "id": "YMfLEKjw97Hd",
        "outputId": "1583e6b1-5712-4de7-dc50-8ff4f2fdc1f4"
      },
      "execution_count": 147,
      "outputs": [
        {
          "output_type": "stream",
          "name": "stdout",
          "text": [
            "Epoch 1/100\n",
            "4/4 [==============================] - 1s 83ms/step - loss: 4542.6250 - mae: 46.7859 - mse: 4542.6250 - val_loss: 1817.5914 - val_mae: 31.6855 - val_mse: 1817.5914\n",
            "Epoch 2/100\n",
            "4/4 [==============================] - 0s 20ms/step - loss: 4393.0171 - mae: 45.7751 - mse: 4393.0171 - val_loss: 1797.2957 - val_mae: 31.8916 - val_mse: 1797.2957\n",
            "Epoch 3/100\n",
            "4/4 [==============================] - 0s 25ms/step - loss: 4403.1611 - mae: 46.1732 - mse: 4403.1611 - val_loss: 1792.9292 - val_mae: 31.8772 - val_mse: 1792.9292\n",
            "Epoch 4/100\n",
            "4/4 [==============================] - 0s 24ms/step - loss: 4343.3896 - mae: 45.7392 - mse: 4343.3896 - val_loss: 1789.8921 - val_mae: 31.7419 - val_mse: 1789.8921\n",
            "Epoch 5/100\n",
            "4/4 [==============================] - 0s 15ms/step - loss: 4293.6279 - mae: 45.5242 - mse: 4293.6279 - val_loss: 1801.7335 - val_mae: 31.6065 - val_mse: 1801.7335\n",
            "Epoch 6/100\n",
            "4/4 [==============================] - 0s 14ms/step - loss: 4269.2163 - mae: 45.4036 - mse: 4269.2163 - val_loss: 1816.2367 - val_mae: 31.5412 - val_mse: 1816.2367\n",
            "Epoch 7/100\n",
            "4/4 [==============================] - 0s 14ms/step - loss: 4270.6021 - mae: 45.4493 - mse: 4270.6021 - val_loss: 1820.5607 - val_mae: 31.5365 - val_mse: 1820.5607\n",
            "Epoch 8/100\n",
            "4/4 [==============================] - 0s 18ms/step - loss: 4251.0962 - mae: 45.3155 - mse: 4251.0962 - val_loss: 1810.4062 - val_mae: 31.5096 - val_mse: 1810.4062\n",
            "Epoch 9/100\n",
            "4/4 [==============================] - 0s 16ms/step - loss: 4219.6401 - mae: 45.2392 - mse: 4219.6401 - val_loss: 1805.8511 - val_mae: 31.4959 - val_mse: 1805.8511\n",
            "Epoch 10/100\n",
            "4/4 [==============================] - 0s 15ms/step - loss: 4214.3716 - mae: 45.2176 - mse: 4214.3716 - val_loss: 1807.1144 - val_mae: 31.4926 - val_mse: 1807.1144\n",
            "Epoch 11/100\n",
            "4/4 [==============================] - 0s 20ms/step - loss: 4205.8418 - mae: 45.1938 - mse: 4205.8418 - val_loss: 1797.9009 - val_mae: 31.4820 - val_mse: 1797.9009\n",
            "Epoch 12/100\n",
            "4/4 [==============================] - 0s 14ms/step - loss: 4183.7275 - mae: 45.0955 - mse: 4183.7275 - val_loss: 1799.4885 - val_mae: 31.4705 - val_mse: 1799.4885\n",
            "Epoch 13/100\n",
            "4/4 [==============================] - 0s 21ms/step - loss: 4182.1929 - mae: 45.1343 - mse: 4182.1929 - val_loss: 1810.4554 - val_mae: 31.4865 - val_mse: 1810.4554\n",
            "Epoch 14/100\n",
            "4/4 [==============================] - 0s 14ms/step - loss: 4157.7061 - mae: 44.9993 - mse: 4157.7061 - val_loss: 1818.1127 - val_mae: 31.5181 - val_mse: 1818.1127\n",
            "Epoch 15/100\n",
            "4/4 [==============================] - 0s 15ms/step - loss: 4149.1274 - mae: 44.9653 - mse: 4149.1274 - val_loss: 1820.0752 - val_mae: 31.5299 - val_mse: 1820.0752\n",
            "Epoch 16/100\n",
            "4/4 [==============================] - 0s 16ms/step - loss: 4154.1807 - mae: 45.0487 - mse: 4154.1807 - val_loss: 1829.3246 - val_mae: 31.5914 - val_mse: 1829.3246\n",
            "Epoch 17/100\n",
            "4/4 [==============================] - 0s 14ms/step - loss: 4133.7065 - mae: 44.9314 - mse: 4133.7065 - val_loss: 1824.5525 - val_mae: 31.5606 - val_mse: 1824.5525\n",
            "Epoch 18/100\n",
            "4/4 [==============================] - 0s 16ms/step - loss: 4135.5459 - mae: 44.9614 - mse: 4135.5459 - val_loss: 1814.4487 - val_mae: 31.5124 - val_mse: 1814.4487\n",
            "Epoch 19/100\n",
            "4/4 [==============================] - 0s 15ms/step - loss: 4124.3047 - mae: 44.9030 - mse: 4124.3047 - val_loss: 1825.3975 - val_mae: 31.5730 - val_mse: 1825.3975\n",
            "Epoch 20/100\n",
            "4/4 [==============================] - 0s 22ms/step - loss: 4100.6968 - mae: 44.7888 - mse: 4100.6968 - val_loss: 1828.4042 - val_mae: 31.5968 - val_mse: 1828.4042\n",
            "Epoch 21/100\n",
            "4/4 [==============================] - 0s 16ms/step - loss: 4092.2881 - mae: 44.7566 - mse: 4092.2881 - val_loss: 1827.0387 - val_mae: 31.5909 - val_mse: 1827.0387\n",
            "Epoch 22/100\n",
            "4/4 [==============================] - 0s 19ms/step - loss: 4087.0828 - mae: 44.7356 - mse: 4087.0828 - val_loss: 1832.0129 - val_mae: 31.6280 - val_mse: 1832.0129\n",
            "Epoch 23/100\n",
            "4/4 [==============================] - 0s 19ms/step - loss: 4078.6399 - mae: 44.7079 - mse: 4078.6399 - val_loss: 1828.9257 - val_mae: 31.6102 - val_mse: 1828.9257\n",
            "Epoch 24/100\n",
            "4/4 [==============================] - 0s 19ms/step - loss: 4072.6655 - mae: 44.7138 - mse: 4072.6655 - val_loss: 1828.4661 - val_mae: 31.6105 - val_mse: 1828.4661\n",
            "Epoch 25/100\n",
            "4/4 [==============================] - 0s 17ms/step - loss: 4062.3521 - mae: 44.6551 - mse: 4062.3521 - val_loss: 1829.6088 - val_mae: 31.6215 - val_mse: 1829.6088\n",
            "Epoch 26/100\n",
            "4/4 [==============================] - 0s 19ms/step - loss: 4052.4419 - mae: 44.6238 - mse: 4052.4419 - val_loss: 1840.0793 - val_mae: 31.6937 - val_mse: 1840.0793\n",
            "Epoch 27/100\n",
            "4/4 [==============================] - 0s 15ms/step - loss: 4045.1255 - mae: 44.6000 - mse: 4045.1255 - val_loss: 1842.8954 - val_mae: 31.7150 - val_mse: 1842.8954\n",
            "Epoch 28/100\n",
            "4/4 [==============================] - 0s 15ms/step - loss: 4040.3953 - mae: 44.5474 - mse: 4040.3953 - val_loss: 1856.8702 - val_mae: 31.8069 - val_mse: 1856.8702\n",
            "Epoch 29/100\n",
            "4/4 [==============================] - 0s 20ms/step - loss: 4031.5701 - mae: 44.5184 - mse: 4031.5701 - val_loss: 1855.0533 - val_mae: 31.7957 - val_mse: 1855.0533\n",
            "Epoch 30/100\n",
            "4/4 [==============================] - 0s 17ms/step - loss: 4037.7898 - mae: 44.5138 - mse: 4037.7898 - val_loss: 1844.0088 - val_mae: 31.7282 - val_mse: 1844.0088\n",
            "Epoch 31/100\n",
            "4/4 [==============================] - 0s 16ms/step - loss: 4010.7083 - mae: 44.4668 - mse: 4010.7083 - val_loss: 1853.7185 - val_mae: 31.7896 - val_mse: 1853.7185\n",
            "Epoch 32/100\n",
            "4/4 [==============================] - 0s 15ms/step - loss: 4003.6753 - mae: 44.4527 - mse: 4003.6753 - val_loss: 1862.4965 - val_mae: 31.8542 - val_mse: 1862.4965\n",
            "Epoch 33/100\n",
            "4/4 [==============================] - 0s 17ms/step - loss: 4002.3147 - mae: 44.4244 - mse: 4002.3147 - val_loss: 1869.0704 - val_mae: 31.8984 - val_mse: 1869.0704\n",
            "Epoch 34/100\n",
            "4/4 [==============================] - 0s 14ms/step - loss: 3990.0164 - mae: 44.3856 - mse: 3990.0164 - val_loss: 1866.0144 - val_mae: 31.8781 - val_mse: 1866.0144\n",
            "Epoch 35/100\n",
            "4/4 [==============================] - 0s 16ms/step - loss: 3981.5679 - mae: 44.3377 - mse: 3981.5679 - val_loss: 1860.9823 - val_mae: 31.8454 - val_mse: 1860.9823\n",
            "Epoch 36/100\n",
            "4/4 [==============================] - 0s 17ms/step - loss: 3973.6006 - mae: 44.3127 - mse: 3973.6006 - val_loss: 1862.9331 - val_mae: 31.8597 - val_mse: 1862.9331\n",
            "Epoch 37/100\n",
            "4/4 [==============================] - 0s 19ms/step - loss: 3968.2463 - mae: 44.3036 - mse: 3968.2463 - val_loss: 1866.4460 - val_mae: 31.8836 - val_mse: 1866.4460\n",
            "Epoch 38/100\n",
            "4/4 [==============================] - 0s 15ms/step - loss: 3970.4841 - mae: 44.3280 - mse: 3970.4841 - val_loss: 1878.4039 - val_mae: 31.9637 - val_mse: 1878.4039\n",
            "Epoch 39/100\n",
            "4/4 [==============================] - 0s 15ms/step - loss: 3959.8240 - mae: 44.3020 - mse: 3959.8240 - val_loss: 1870.3846 - val_mae: 31.9099 - val_mse: 1870.3846\n",
            "Epoch 40/100\n",
            "4/4 [==============================] - 0s 14ms/step - loss: 3949.7078 - mae: 44.2525 - mse: 3949.7078 - val_loss: 1870.3550 - val_mae: 31.9143 - val_mse: 1870.3550\n",
            "Epoch 41/100\n",
            "4/4 [==============================] - 0s 15ms/step - loss: 3953.1904 - mae: 44.2483 - mse: 3953.1904 - val_loss: 1879.9684 - val_mae: 31.9803 - val_mse: 1879.9684\n",
            "Epoch 42/100\n",
            "4/4 [==============================] - 0s 18ms/step - loss: 3938.3948 - mae: 44.1854 - mse: 3938.3948 - val_loss: 1878.0162 - val_mae: 31.9680 - val_mse: 1878.0162\n",
            "Epoch 43/100\n",
            "4/4 [==============================] - 0s 15ms/step - loss: 3934.0334 - mae: 44.1945 - mse: 3934.0334 - val_loss: 1874.0394 - val_mae: 31.9439 - val_mse: 1874.0394\n",
            "Epoch 44/100\n",
            "4/4 [==============================] - 0s 15ms/step - loss: 3932.2520 - mae: 44.2040 - mse: 3932.2520 - val_loss: 1877.2948 - val_mae: 31.9684 - val_mse: 1877.2948\n",
            "Epoch 45/100\n",
            "4/4 [==============================] - 0s 17ms/step - loss: 3928.3931 - mae: 44.1788 - mse: 3928.3931 - val_loss: 1888.2267 - val_mae: 32.0466 - val_mse: 1888.2267\n",
            "Epoch 46/100\n",
            "4/4 [==============================] - 0s 15ms/step - loss: 3918.1626 - mae: 44.1196 - mse: 3918.1626 - val_loss: 1889.7217 - val_mae: 32.0592 - val_mse: 1889.7217\n",
            "Epoch 47/100\n",
            "4/4 [==============================] - 0s 16ms/step - loss: 3910.2393 - mae: 44.1244 - mse: 3910.2393 - val_loss: 1876.3883 - val_mae: 31.9658 - val_mse: 1876.3883\n",
            "Epoch 48/100\n",
            "4/4 [==============================] - 0s 16ms/step - loss: 3914.7312 - mae: 44.1691 - mse: 3914.7312 - val_loss: 1885.3073 - val_mae: 32.0266 - val_mse: 1885.3073\n",
            "Epoch 49/100\n",
            "4/4 [==============================] - 0s 15ms/step - loss: 3900.5129 - mae: 44.0959 - mse: 3900.5129 - val_loss: 1879.0242 - val_mae: 31.9860 - val_mse: 1879.0242\n",
            "Epoch 50/100\n",
            "4/4 [==============================] - 0s 15ms/step - loss: 3894.2161 - mae: 44.0898 - mse: 3894.2161 - val_loss: 1878.1554 - val_mae: 31.9809 - val_mse: 1878.1554\n",
            "Epoch 51/100\n",
            "4/4 [==============================] - 0s 19ms/step - loss: 3886.2517 - mae: 44.0217 - mse: 3886.2517 - val_loss: 1891.4287 - val_mae: 32.0842 - val_mse: 1891.4287\n",
            "Epoch 52/100\n",
            "4/4 [==============================] - 0s 19ms/step - loss: 3885.6521 - mae: 43.9601 - mse: 3885.6521 - val_loss: 1907.0804 - val_mae: 32.2203 - val_mse: 1907.0804\n",
            "Epoch 53/100\n",
            "4/4 [==============================] - 0s 18ms/step - loss: 3878.4072 - mae: 43.9767 - mse: 3878.4072 - val_loss: 1911.1436 - val_mae: 32.2549 - val_mse: 1911.1436\n",
            "Epoch 54/100\n",
            "4/4 [==============================] - 0s 18ms/step - loss: 3881.8950 - mae: 43.9655 - mse: 3881.8950 - val_loss: 1890.5950 - val_mae: 32.0837 - val_mse: 1890.5950\n",
            "Epoch 55/100\n",
            "4/4 [==============================] - 0s 15ms/step - loss: 3862.9490 - mae: 43.9358 - mse: 3862.9490 - val_loss: 1890.4829 - val_mae: 32.0794 - val_mse: 1890.4829\n",
            "Epoch 56/100\n",
            "4/4 [==============================] - 0s 14ms/step - loss: 3874.7065 - mae: 44.0292 - mse: 3874.7065 - val_loss: 1885.5396 - val_mae: 32.0376 - val_mse: 1885.5396\n",
            "Epoch 57/100\n",
            "4/4 [==============================] - 0s 14ms/step - loss: 3855.8894 - mae: 43.9330 - mse: 3855.8894 - val_loss: 1897.7229 - val_mae: 32.1439 - val_mse: 1897.7229\n",
            "Epoch 58/100\n",
            "4/4 [==============================] - 0s 15ms/step - loss: 3853.5161 - mae: 43.8705 - mse: 3853.5161 - val_loss: 1918.7383 - val_mae: 32.3246 - val_mse: 1918.7385\n",
            "Epoch 59/100\n",
            "4/4 [==============================] - 0s 15ms/step - loss: 3848.6558 - mae: 43.8401 - mse: 3848.6558 - val_loss: 1927.2960 - val_mae: 32.3951 - val_mse: 1927.2960\n",
            "Epoch 60/100\n",
            "4/4 [==============================] - 0s 19ms/step - loss: 3839.1809 - mae: 43.7768 - mse: 3839.1809 - val_loss: 1922.3511 - val_mae: 32.3549 - val_mse: 1922.3511\n",
            "Epoch 61/100\n",
            "4/4 [==============================] - 0s 14ms/step - loss: 3835.3904 - mae: 43.7777 - mse: 3835.3904 - val_loss: 1921.3184 - val_mae: 32.3502 - val_mse: 1921.3184\n",
            "Epoch 62/100\n",
            "4/4 [==============================] - 0s 21ms/step - loss: 3829.8757 - mae: 43.7293 - mse: 3829.8757 - val_loss: 1910.4248 - val_mae: 32.2590 - val_mse: 1910.4248\n",
            "Epoch 63/100\n",
            "4/4 [==============================] - 0s 20ms/step - loss: 3854.1497 - mae: 44.0252 - mse: 3854.1497 - val_loss: 1887.8292 - val_mae: 32.0676 - val_mse: 1887.8292\n",
            "Epoch 64/100\n",
            "4/4 [==============================] - 0s 21ms/step - loss: 3829.4211 - mae: 43.8849 - mse: 3829.4211 - val_loss: 1907.8641 - val_mae: 32.2384 - val_mse: 1907.8641\n",
            "Epoch 65/100\n",
            "4/4 [==============================] - 0s 20ms/step - loss: 3819.2524 - mae: 43.7395 - mse: 3819.2524 - val_loss: 1924.5767 - val_mae: 32.3759 - val_mse: 1924.5769\n",
            "Epoch 66/100\n",
            "4/4 [==============================] - 0s 22ms/step - loss: 3807.7527 - mae: 43.6564 - mse: 3807.7527 - val_loss: 1923.9681 - val_mae: 32.3720 - val_mse: 1923.9681\n",
            "Epoch 67/100\n",
            "4/4 [==============================] - 0s 19ms/step - loss: 3803.2822 - mae: 43.6493 - mse: 3803.2822 - val_loss: 1923.2173 - val_mae: 32.3650 - val_mse: 1923.2173\n",
            "Epoch 68/100\n",
            "4/4 [==============================] - 0s 20ms/step - loss: 3802.0457 - mae: 43.6473 - mse: 3802.0457 - val_loss: 1919.9702 - val_mae: 32.3371 - val_mse: 1919.9702\n",
            "Epoch 69/100\n",
            "4/4 [==============================] - 0s 14ms/step - loss: 3802.4307 - mae: 43.6595 - mse: 3802.4307 - val_loss: 1935.7509 - val_mae: 32.4606 - val_mse: 1935.7509\n",
            "Epoch 70/100\n",
            "4/4 [==============================] - 0s 18ms/step - loss: 3804.1233 - mae: 43.6538 - mse: 3804.1233 - val_loss: 1947.2113 - val_mae: 32.5522 - val_mse: 1947.2113\n",
            "Epoch 71/100\n",
            "4/4 [==============================] - 0s 20ms/step - loss: 3801.3049 - mae: 43.6289 - mse: 3801.3049 - val_loss: 1922.3685 - val_mae: 32.3580 - val_mse: 1922.3685\n",
            "Epoch 72/100\n",
            "4/4 [==============================] - 0s 15ms/step - loss: 3781.9929 - mae: 43.5680 - mse: 3781.9929 - val_loss: 1929.7461 - val_mae: 32.4130 - val_mse: 1929.7461\n",
            "Epoch 73/100\n",
            "4/4 [==============================] - 0s 14ms/step - loss: 3772.7192 - mae: 43.5183 - mse: 3772.7192 - val_loss: 1930.3519 - val_mae: 32.4189 - val_mse: 1930.3519\n",
            "Epoch 74/100\n",
            "4/4 [==============================] - 0s 16ms/step - loss: 3777.1106 - mae: 43.5104 - mse: 3777.1106 - val_loss: 1936.3213 - val_mae: 32.4639 - val_mse: 1936.3213\n",
            "Epoch 75/100\n",
            "4/4 [==============================] - 0s 14ms/step - loss: 3768.1472 - mae: 43.5095 - mse: 3768.1472 - val_loss: 1925.8192 - val_mae: 32.3798 - val_mse: 1925.8192\n",
            "Epoch 76/100\n",
            "4/4 [==============================] - 0s 14ms/step - loss: 3761.4341 - mae: 43.5370 - mse: 3761.4341 - val_loss: 1920.4519 - val_mae: 32.3331 - val_mse: 1920.4519\n",
            "Epoch 77/100\n",
            "4/4 [==============================] - 0s 15ms/step - loss: 3759.0959 - mae: 43.4875 - mse: 3759.0959 - val_loss: 1929.9777 - val_mae: 32.4097 - val_mse: 1929.9777\n",
            "Epoch 78/100\n",
            "4/4 [==============================] - 0s 15ms/step - loss: 3750.2229 - mae: 43.4608 - mse: 3750.2229 - val_loss: 1934.2305 - val_mae: 32.4427 - val_mse: 1934.2305\n",
            "Epoch 79/100\n",
            "4/4 [==============================] - 0s 15ms/step - loss: 3743.7390 - mae: 43.4001 - mse: 3743.7390 - val_loss: 1947.2096 - val_mae: 32.5485 - val_mse: 1947.2096\n",
            "Epoch 80/100\n",
            "4/4 [==============================] - 0s 14ms/step - loss: 3744.5312 - mae: 43.3849 - mse: 3744.5312 - val_loss: 1951.4287 - val_mae: 32.5834 - val_mse: 1951.4287\n",
            "Epoch 81/100\n",
            "4/4 [==============================] - 0s 14ms/step - loss: 3737.4617 - mae: 43.3311 - mse: 3737.4617 - val_loss: 1954.5660 - val_mae: 32.6140 - val_mse: 1954.5660\n",
            "Epoch 82/100\n",
            "4/4 [==============================] - 0s 21ms/step - loss: 3730.6055 - mae: 43.3269 - mse: 3730.6055 - val_loss: 1949.7035 - val_mae: 32.5712 - val_mse: 1949.7035\n",
            "Epoch 83/100\n",
            "4/4 [==============================] - 0s 14ms/step - loss: 3723.3599 - mae: 43.3306 - mse: 3723.3599 - val_loss: 1938.5292 - val_mae: 32.4783 - val_mse: 1938.5292\n",
            "Epoch 84/100\n",
            "4/4 [==============================] - 0s 20ms/step - loss: 3732.9678 - mae: 43.4614 - mse: 3732.9678 - val_loss: 1920.3632 - val_mae: 32.3341 - val_mse: 1920.3632\n",
            "Epoch 85/100\n",
            "4/4 [==============================] - 0s 20ms/step - loss: 3723.7227 - mae: 43.3390 - mse: 3723.7227 - val_loss: 1937.7617 - val_mae: 32.4766 - val_mse: 1937.7617\n",
            "Epoch 86/100\n",
            "4/4 [==============================] - 0s 19ms/step - loss: 3710.5420 - mae: 43.2653 - mse: 3710.5420 - val_loss: 1946.5348 - val_mae: 32.5499 - val_mse: 1946.5348\n",
            "Epoch 87/100\n",
            "4/4 [==============================] - 0s 14ms/step - loss: 3709.2751 - mae: 43.2242 - mse: 3709.2751 - val_loss: 1947.5098 - val_mae: 32.5586 - val_mse: 1947.5098\n",
            "Epoch 88/100\n",
            "4/4 [==============================] - 0s 15ms/step - loss: 3701.3428 - mae: 43.1557 - mse: 3701.3428 - val_loss: 1964.6277 - val_mae: 32.7177 - val_mse: 1964.6277\n",
            "Epoch 89/100\n",
            "4/4 [==============================] - 0s 14ms/step - loss: 3698.8418 - mae: 43.1496 - mse: 3698.8418 - val_loss: 1959.7554 - val_mae: 32.6745 - val_mse: 1959.7554\n",
            "Epoch 90/100\n",
            "4/4 [==============================] - 0s 15ms/step - loss: 3699.0740 - mae: 43.1003 - mse: 3699.0740 - val_loss: 1971.1539 - val_mae: 32.7794 - val_mse: 1971.1539\n",
            "Epoch 91/100\n",
            "4/4 [==============================] - 0s 19ms/step - loss: 3688.0332 - mae: 43.0904 - mse: 3688.0332 - val_loss: 1963.7264 - val_mae: 32.7089 - val_mse: 1963.7264\n",
            "Epoch 92/100\n",
            "4/4 [==============================] - 0s 14ms/step - loss: 3682.0125 - mae: 43.0734 - mse: 3682.0125 - val_loss: 1960.8243 - val_mae: 32.6778 - val_mse: 1960.8243\n",
            "Epoch 93/100\n",
            "4/4 [==============================] - 0s 14ms/step - loss: 3679.9980 - mae: 43.1131 - mse: 3679.9980 - val_loss: 1958.6825 - val_mae: 32.6594 - val_mse: 1958.6825\n",
            "Epoch 94/100\n",
            "4/4 [==============================] - 0s 14ms/step - loss: 3676.7454 - mae: 43.0384 - mse: 3676.7454 - val_loss: 1942.4387 - val_mae: 32.5084 - val_mse: 1942.4387\n",
            "Epoch 95/100\n",
            "4/4 [==============================] - 0s 14ms/step - loss: 3668.0542 - mae: 43.0967 - mse: 3668.0542 - val_loss: 1955.3346 - val_mae: 32.6297 - val_mse: 1955.3346\n",
            "Epoch 96/100\n",
            "4/4 [==============================] - 0s 19ms/step - loss: 3668.6072 - mae: 43.0714 - mse: 3668.6072 - val_loss: 1976.8708 - val_mae: 32.8318 - val_mse: 1976.8708\n",
            "Epoch 97/100\n",
            "4/4 [==============================] - 0s 17ms/step - loss: 3657.6980 - mae: 42.9760 - mse: 3657.6980 - val_loss: 1976.7518 - val_mae: 32.8292 - val_mse: 1976.7518\n",
            "Epoch 98/100\n",
            "4/4 [==============================] - 0s 14ms/step - loss: 3652.9277 - mae: 42.9249 - mse: 3652.9277 - val_loss: 1981.6342 - val_mae: 32.8718 - val_mse: 1981.6342\n",
            "Epoch 99/100\n",
            "4/4 [==============================] - 0s 16ms/step - loss: 3644.5938 - mae: 42.9508 - mse: 3644.5938 - val_loss: 1966.7509 - val_mae: 32.7321 - val_mse: 1966.7506\n",
            "Epoch 100/100\n",
            "4/4 [==============================] - 0s 18ms/step - loss: 3644.7124 - mae: 42.9340 - mse: 3644.7124 - val_loss: 1951.4308 - val_mae: 32.5847 - val_mse: 1951.4308\n"
          ]
        }
      ]
    },
    {
      "cell_type": "markdown",
      "source": [
        "LSTM+GRU"
      ],
      "metadata": {
        "id": "5TW_EAhE-iWs"
      }
    },
    {
      "cell_type": "code",
      "source": [
        "i=Input(shape=(T,1))\n",
        "x=LSTM(200,return_sequences=True)(i)\n",
        "x=LSTM(200,return_sequences=True)(x)\n",
        "x=Dense(100)(x)\n",
        "x=Dense(50)(x)\n",
        "x=GRU(200,return_sequences=True)(x)\n",
        "x=GRU(200,return_sequences=True)(x)\n",
        "x=GlobalMaxPool1D()(x)\n",
        "x=Dense(100)(x)\n",
        "x=Dense(50)(x)\n",
        "x=Dense(1)(x)\n",
        "model_lstm_gru=Model(i,x)\n",
        "model_lstm_gru.summary()"
      ],
      "metadata": {
        "colab": {
          "base_uri": "https://localhost:8080/"
        },
        "id": "5MFW_hNA-UIb",
        "outputId": "2d72dfcb-1692-4640-9673-f615508ab1a4"
      },
      "execution_count": 148,
      "outputs": [
        {
          "output_type": "stream",
          "name": "stdout",
          "text": [
            "Model: \"model_8\"\n",
            "_________________________________________________________________\n",
            " Layer (type)                Output Shape              Param #   \n",
            "=================================================================\n",
            " input_9 (InputLayer)        [(None, 50, 1)]           0         \n",
            "                                                                 \n",
            " lstm_16 (LSTM)              (None, 50, 200)           161600    \n",
            "                                                                 \n",
            " lstm_17 (LSTM)              (None, 50, 200)           320800    \n",
            "                                                                 \n",
            " dense_32 (Dense)            (None, 50, 100)           20100     \n",
            "                                                                 \n",
            " dense_33 (Dense)            (None, 50, 50)            5050      \n",
            "                                                                 \n",
            " gru_8 (GRU)                 (None, 50, 200)           151200    \n",
            "                                                                 \n",
            " gru_9 (GRU)                 (None, 50, 200)           241200    \n",
            "                                                                 \n",
            " global_max_pooling1d_8 (Glo  (None, 200)              0         \n",
            " balMaxPooling1D)                                                \n",
            "                                                                 \n",
            " dense_34 (Dense)            (None, 100)               20100     \n",
            "                                                                 \n",
            " dense_35 (Dense)            (None, 50)                5050      \n",
            "                                                                 \n",
            " dense_36 (Dense)            (None, 1)                 51        \n",
            "                                                                 \n",
            "=================================================================\n",
            "Total params: 925,151\n",
            "Trainable params: 925,151\n",
            "Non-trainable params: 0\n",
            "_________________________________________________________________\n"
          ]
        }
      ]
    },
    {
      "cell_type": "code",
      "source": [
        "check_point_lstm_gru=ModelCheckpoint('best_model.h5',monitor='val_loss',save_best_only=True)"
      ],
      "metadata": {
        "id": "bPn2IlMx-pP6"
      },
      "execution_count": 149,
      "outputs": []
    },
    {
      "cell_type": "code",
      "source": [
        "model_lstm_gru.compile(loss='mse',\n",
        "              optimizer='adamax',\n",
        "              metrics=['mae','mse'])"
      ],
      "metadata": {
        "id": "s2W9B-lL-5VS"
      },
      "execution_count": 150,
      "outputs": []
    },
    {
      "cell_type": "code",
      "source": [
        "r=model_lstm_gru.fit(\n",
        "    Xtrain,\n",
        "    Ytrain,\n",
        "    epochs=100,\n",
        "    validation_data=(Xtest,Ytest),\n",
        "    callbacks=[check_point_lstm_gru]\n",
        ")"
      ],
      "metadata": {
        "colab": {
          "base_uri": "https://localhost:8080/"
        },
        "id": "tSfqgZ2w-8KI",
        "outputId": "0bbaef8e-a6dc-44b5-8857-29da84263399"
      },
      "execution_count": 151,
      "outputs": [
        {
          "output_type": "stream",
          "name": "stdout",
          "text": [
            "Epoch 1/100\n",
            "4/4 [==============================] - 12s 1s/step - loss: 4416.6968 - mae: 45.9159 - mse: 4416.6968 - val_loss: 1892.4604 - val_mae: 32.2528 - val_mse: 1892.4604\n",
            "Epoch 2/100\n",
            "4/4 [==============================] - 2s 631ms/step - loss: 4397.1499 - mae: 45.7299 - mse: 4397.1499 - val_loss: 1861.5754 - val_mae: 31.9862 - val_mse: 1861.5754\n",
            "Epoch 3/100\n",
            "4/4 [==============================] - 2s 600ms/step - loss: 4392.4004 - mae: 45.7558 - mse: 4392.4004 - val_loss: 1861.8391 - val_mae: 31.9892 - val_mse: 1861.8391\n",
            "Epoch 4/100\n",
            "4/4 [==============================] - 2s 602ms/step - loss: 4390.5479 - mae: 45.7339 - mse: 4390.5479 - val_loss: 1864.8502 - val_mae: 32.0163 - val_mse: 1864.8502\n",
            "Epoch 5/100\n",
            "4/4 [==============================] - 2s 596ms/step - loss: 4388.3994 - mae: 45.7298 - mse: 4388.3994 - val_loss: 1876.7061 - val_mae: 32.1198 - val_mse: 1876.7061\n",
            "Epoch 6/100\n",
            "4/4 [==============================] - 2s 597ms/step - loss: 4386.1021 - mae: 45.6959 - mse: 4386.1021 - val_loss: 1890.5769 - val_mae: 32.2389 - val_mse: 1890.5769\n",
            "Epoch 7/100\n",
            "4/4 [==============================] - 2s 610ms/step - loss: 4384.2173 - mae: 45.6899 - mse: 4384.2173 - val_loss: 1913.7091 - val_mae: 32.4218 - val_mse: 1913.7091\n",
            "Epoch 8/100\n",
            "4/4 [==============================] - 2s 599ms/step - loss: 4381.1187 - mae: 45.6859 - mse: 4381.1187 - val_loss: 1911.8036 - val_mae: 32.4037 - val_mse: 1911.8036\n",
            "Epoch 9/100\n",
            "4/4 [==============================] - 2s 596ms/step - loss: 4376.5576 - mae: 45.6682 - mse: 4376.5576 - val_loss: 1933.3821 - val_mae: 32.5522 - val_mse: 1933.3821\n",
            "Epoch 10/100\n",
            "4/4 [==============================] - 2s 601ms/step - loss: 4375.6191 - mae: 45.6510 - mse: 4375.6191 - val_loss: 1944.7332 - val_mae: 32.6502 - val_mse: 1944.7332\n",
            "Epoch 11/100\n",
            "4/4 [==============================] - 2s 598ms/step - loss: 4365.5205 - mae: 45.6532 - mse: 4365.5205 - val_loss: 1932.1459 - val_mae: 32.5672 - val_mse: 1932.1459\n",
            "Epoch 12/100\n",
            "4/4 [==============================] - 2s 599ms/step - loss: 4350.3193 - mae: 45.5774 - mse: 4350.3193 - val_loss: 1968.6884 - val_mae: 32.8045 - val_mse: 1968.6884\n",
            "Epoch 13/100\n",
            "4/4 [==============================] - 2s 603ms/step - loss: 4357.6353 - mae: 45.6656 - mse: 4357.6353 - val_loss: 2044.9507 - val_mae: 33.2967 - val_mse: 2044.9507\n",
            "Epoch 14/100\n",
            "4/4 [==============================] - 2s 598ms/step - loss: 4332.2954 - mae: 45.5190 - mse: 4332.2954 - val_loss: 2010.8042 - val_mae: 33.0736 - val_mse: 2010.8042\n",
            "Epoch 15/100\n",
            "4/4 [==============================] - 2s 602ms/step - loss: 4326.5269 - mae: 45.5368 - mse: 4326.5269 - val_loss: 1935.2081 - val_mae: 32.6065 - val_mse: 1935.2081\n",
            "Epoch 16/100\n",
            "4/4 [==============================] - 2s 596ms/step - loss: 4320.2241 - mae: 45.5519 - mse: 4320.2241 - val_loss: 1934.6902 - val_mae: 32.5530 - val_mse: 1934.6902\n",
            "Epoch 17/100\n",
            "4/4 [==============================] - 2s 600ms/step - loss: 4309.6050 - mae: 45.5719 - mse: 4309.6050 - val_loss: 1935.0056 - val_mae: 32.5449 - val_mse: 1935.0056\n",
            "Epoch 18/100\n",
            "4/4 [==============================] - 2s 599ms/step - loss: 4296.2690 - mae: 45.5720 - mse: 4296.2690 - val_loss: 1912.3490 - val_mae: 32.2793 - val_mse: 1912.3490\n",
            "Epoch 19/100\n",
            "4/4 [==============================] - 2s 606ms/step - loss: 4284.7686 - mae: 45.5325 - mse: 4284.7686 - val_loss: 1949.0657 - val_mae: 32.5655 - val_mse: 1949.0657\n",
            "Epoch 20/100\n",
            "4/4 [==============================] - 2s 599ms/step - loss: 4261.4653 - mae: 45.4059 - mse: 4261.4653 - val_loss: 1957.7644 - val_mae: 32.6202 - val_mse: 1957.7644\n",
            "Epoch 21/100\n",
            "4/4 [==============================] - 2s 610ms/step - loss: 4248.5815 - mae: 45.4057 - mse: 4248.5815 - val_loss: 1973.9535 - val_mae: 32.7286 - val_mse: 1973.9535\n",
            "Epoch 22/100\n",
            "4/4 [==============================] - 2s 601ms/step - loss: 4224.7856 - mae: 45.4076 - mse: 4224.7856 - val_loss: 2022.4375 - val_mae: 33.1765 - val_mse: 2022.4375\n",
            "Epoch 23/100\n",
            "4/4 [==============================] - 2s 598ms/step - loss: 4201.7998 - mae: 45.4220 - mse: 4201.7998 - val_loss: 2043.9771 - val_mae: 33.3633 - val_mse: 2043.9771\n",
            "Epoch 24/100\n",
            "4/4 [==============================] - 2s 610ms/step - loss: 4175.6187 - mae: 45.2628 - mse: 4175.6187 - val_loss: 2096.2510 - val_mae: 33.8837 - val_mse: 2096.2510\n",
            "Epoch 25/100\n",
            "4/4 [==============================] - 2s 594ms/step - loss: 4164.1152 - mae: 45.3204 - mse: 4164.1152 - val_loss: 2116.8416 - val_mae: 34.0489 - val_mse: 2116.8416\n",
            "Epoch 26/100\n",
            "4/4 [==============================] - 2s 606ms/step - loss: 4135.9565 - mae: 45.2045 - mse: 4135.9565 - val_loss: 2241.5532 - val_mae: 35.2519 - val_mse: 2241.5532\n",
            "Epoch 27/100\n",
            "4/4 [==============================] - 2s 600ms/step - loss: 4115.9995 - mae: 45.1800 - mse: 4115.9995 - val_loss: 2305.6626 - val_mae: 35.8578 - val_mse: 2305.6626\n",
            "Epoch 28/100\n",
            "4/4 [==============================] - 2s 599ms/step - loss: 4090.8306 - mae: 45.0169 - mse: 4090.8306 - val_loss: 2304.8740 - val_mae: 36.0211 - val_mse: 2304.8740\n",
            "Epoch 29/100\n",
            "4/4 [==============================] - 2s 597ms/step - loss: 4066.6792 - mae: 44.9930 - mse: 4066.6792 - val_loss: 2380.7810 - val_mae: 36.5425 - val_mse: 2380.7810\n",
            "Epoch 30/100\n",
            "4/4 [==============================] - 2s 600ms/step - loss: 4017.8240 - mae: 44.4997 - mse: 4017.8240 - val_loss: 2436.8530 - val_mae: 37.1729 - val_mse: 2436.8530\n",
            "Epoch 31/100\n",
            "4/4 [==============================] - 2s 597ms/step - loss: 4028.0090 - mae: 44.4944 - mse: 4028.0090 - val_loss: 2448.2407 - val_mae: 37.0607 - val_mse: 2448.2407\n",
            "Epoch 32/100\n",
            "4/4 [==============================] - 2s 589ms/step - loss: 3997.6741 - mae: 44.1283 - mse: 3997.6741 - val_loss: 2310.6868 - val_mae: 35.6007 - val_mse: 2310.6868\n",
            "Epoch 33/100\n",
            "4/4 [==============================] - 2s 606ms/step - loss: 3957.9771 - mae: 44.2598 - mse: 3957.9771 - val_loss: 2535.4807 - val_mae: 37.7810 - val_mse: 2535.4807\n",
            "Epoch 34/100\n",
            "4/4 [==============================] - 2s 599ms/step - loss: 3897.6824 - mae: 44.0502 - mse: 3897.6824 - val_loss: 2721.4009 - val_mae: 39.8004 - val_mse: 2721.4009\n",
            "Epoch 35/100\n",
            "4/4 [==============================] - 2s 593ms/step - loss: 3879.3557 - mae: 43.8636 - mse: 3879.3557 - val_loss: 2762.1160 - val_mae: 40.1539 - val_mse: 2762.1160\n",
            "Epoch 36/100\n",
            "4/4 [==============================] - 2s 596ms/step - loss: 3844.9866 - mae: 43.4509 - mse: 3844.9866 - val_loss: 2874.4817 - val_mae: 40.5611 - val_mse: 2874.4817\n",
            "Epoch 37/100\n",
            "4/4 [==============================] - 2s 605ms/step - loss: 3853.1082 - mae: 43.7491 - mse: 3853.1082 - val_loss: 2951.7561 - val_mae: 41.5919 - val_mse: 2951.7561\n",
            "Epoch 38/100\n",
            "4/4 [==============================] - 2s 610ms/step - loss: 3837.7261 - mae: 43.4949 - mse: 3837.7261 - val_loss: 3004.4219 - val_mae: 41.9741 - val_mse: 3004.4219\n",
            "Epoch 39/100\n",
            "4/4 [==============================] - 2s 596ms/step - loss: 3787.3601 - mae: 43.2985 - mse: 3787.3601 - val_loss: 2913.0386 - val_mae: 41.1973 - val_mse: 2913.0386\n",
            "Epoch 40/100\n",
            "4/4 [==============================] - 2s 594ms/step - loss: 3750.6350 - mae: 43.3270 - mse: 3750.6350 - val_loss: 3064.4055 - val_mae: 42.3908 - val_mse: 3064.4055\n",
            "Epoch 41/100\n",
            "4/4 [==============================] - 2s 596ms/step - loss: 3800.5557 - mae: 43.5925 - mse: 3800.5557 - val_loss: 3155.9871 - val_mae: 43.0376 - val_mse: 3155.9871\n",
            "Epoch 42/100\n",
            "4/4 [==============================] - 2s 604ms/step - loss: 3749.8884 - mae: 43.4766 - mse: 3749.8884 - val_loss: 3357.7371 - val_mae: 44.8216 - val_mse: 3357.7371\n",
            "Epoch 43/100\n",
            "4/4 [==============================] - 2s 600ms/step - loss: 3804.2542 - mae: 43.9073 - mse: 3804.2542 - val_loss: 3318.2708 - val_mae: 44.6966 - val_mse: 3318.2708\n",
            "Epoch 44/100\n",
            "4/4 [==============================] - 2s 593ms/step - loss: 3838.3633 - mae: 44.1084 - mse: 3838.3633 - val_loss: 2623.1626 - val_mae: 39.4040 - val_mse: 2623.1626\n",
            "Epoch 45/100\n",
            "4/4 [==============================] - 2s 590ms/step - loss: 3765.1077 - mae: 43.5436 - mse: 3765.1077 - val_loss: 2437.6653 - val_mae: 37.3893 - val_mse: 2437.6653\n",
            "Epoch 46/100\n",
            "4/4 [==============================] - 2s 600ms/step - loss: 3736.9182 - mae: 42.9476 - mse: 3736.9182 - val_loss: 2824.7231 - val_mae: 40.6120 - val_mse: 2824.7231\n",
            "Epoch 47/100\n",
            "4/4 [==============================] - 2s 611ms/step - loss: 3713.3652 - mae: 43.1340 - mse: 3713.3652 - val_loss: 2958.2554 - val_mae: 41.2216 - val_mse: 2958.2554\n",
            "Epoch 48/100\n",
            "4/4 [==============================] - 2s 605ms/step - loss: 3612.8394 - mae: 42.7575 - mse: 3612.8394 - val_loss: 2904.7834 - val_mae: 40.7748 - val_mse: 2904.7834\n",
            "Epoch 49/100\n",
            "4/4 [==============================] - 2s 599ms/step - loss: 3644.2007 - mae: 42.7908 - mse: 3644.2007 - val_loss: 2871.7500 - val_mae: 40.7228 - val_mse: 2871.7500\n",
            "Epoch 50/100\n",
            "4/4 [==============================] - 2s 604ms/step - loss: 3522.8086 - mae: 42.6109 - mse: 3522.8086 - val_loss: 3116.5605 - val_mae: 42.6461 - val_mse: 3116.5605\n",
            "Epoch 51/100\n",
            "4/4 [==============================] - 2s 611ms/step - loss: 3559.4180 - mae: 42.9054 - mse: 3559.4180 - val_loss: 2875.2412 - val_mae: 41.0624 - val_mse: 2875.2412\n",
            "Epoch 52/100\n",
            "4/4 [==============================] - 2s 606ms/step - loss: 3527.6709 - mae: 42.4526 - mse: 3527.6709 - val_loss: 2805.6904 - val_mae: 40.8088 - val_mse: 2805.6904\n",
            "Epoch 53/100\n",
            "4/4 [==============================] - 2s 601ms/step - loss: 3548.6855 - mae: 42.3618 - mse: 3548.6855 - val_loss: 3095.4380 - val_mae: 42.6138 - val_mse: 3095.4380\n",
            "Epoch 54/100\n",
            "4/4 [==============================] - 2s 611ms/step - loss: 3491.9087 - mae: 42.1454 - mse: 3491.9087 - val_loss: 2951.5190 - val_mae: 41.8102 - val_mse: 2951.5190\n",
            "Epoch 55/100\n",
            "4/4 [==============================] - 2s 605ms/step - loss: 3466.3135 - mae: 41.9162 - mse: 3466.3135 - val_loss: 2871.8491 - val_mae: 41.0707 - val_mse: 2871.8491\n",
            "Epoch 56/100\n",
            "4/4 [==============================] - 2s 607ms/step - loss: 3420.0771 - mae: 41.7529 - mse: 3420.0771 - val_loss: 3203.8394 - val_mae: 44.1691 - val_mse: 3203.8394\n",
            "Epoch 57/100\n",
            "4/4 [==============================] - 2s 610ms/step - loss: 3410.3848 - mae: 42.0479 - mse: 3410.3848 - val_loss: 3245.7866 - val_mae: 44.4536 - val_mse: 3245.7866\n",
            "Epoch 58/100\n",
            "4/4 [==============================] - 3s 645ms/step - loss: 3442.0769 - mae: 41.4767 - mse: 3442.0767 - val_loss: 3309.1882 - val_mae: 44.5223 - val_mse: 3309.1882\n",
            "Epoch 59/100\n",
            "4/4 [==============================] - 2s 598ms/step - loss: 3364.7034 - mae: 41.6740 - mse: 3364.7034 - val_loss: 3629.3289 - val_mae: 47.2835 - val_mse: 3629.3289\n",
            "Epoch 60/100\n",
            "4/4 [==============================] - 2s 605ms/step - loss: 3358.2063 - mae: 40.8654 - mse: 3358.2063 - val_loss: 3224.1467 - val_mae: 43.8730 - val_mse: 3224.1467\n",
            "Epoch 61/100\n",
            "4/4 [==============================] - 2s 587ms/step - loss: 3315.2275 - mae: 41.0737 - mse: 3315.2275 - val_loss: 3484.8726 - val_mae: 45.9947 - val_mse: 3484.8726\n",
            "Epoch 62/100\n",
            "4/4 [==============================] - 2s 595ms/step - loss: 3296.0593 - mae: 41.1178 - mse: 3296.0593 - val_loss: 3362.5991 - val_mae: 44.7550 - val_mse: 3362.5991\n",
            "Epoch 63/100\n",
            "4/4 [==============================] - 2s 590ms/step - loss: 3517.4451 - mae: 42.3587 - mse: 3517.4451 - val_loss: 3222.7629 - val_mae: 43.2157 - val_mse: 3222.7629\n",
            "Epoch 64/100\n",
            "4/4 [==============================] - 2s 597ms/step - loss: 3507.6013 - mae: 43.0140 - mse: 3507.6013 - val_loss: 4432.3423 - val_mae: 52.5396 - val_mse: 4432.3423\n",
            "Epoch 65/100\n",
            "4/4 [==============================] - 2s 611ms/step - loss: 3686.9517 - mae: 43.9081 - mse: 3686.9517 - val_loss: 3957.0933 - val_mae: 48.6838 - val_mse: 3957.0933\n",
            "Epoch 66/100\n",
            "4/4 [==============================] - 2s 602ms/step - loss: 3610.7722 - mae: 42.8473 - mse: 3610.7722 - val_loss: 2951.4509 - val_mae: 41.5103 - val_mse: 2951.4509\n",
            "Epoch 67/100\n",
            "4/4 [==============================] - 2s 598ms/step - loss: 3483.4270 - mae: 42.2369 - mse: 3483.4270 - val_loss: 2789.2000 - val_mae: 39.4434 - val_mse: 2789.2000\n",
            "Epoch 68/100\n",
            "4/4 [==============================] - 2s 596ms/step - loss: 3298.0208 - mae: 41.0651 - mse: 3298.0208 - val_loss: 3079.7935 - val_mae: 41.9238 - val_mse: 3079.7935\n",
            "Epoch 69/100\n",
            "4/4 [==============================] - 2s 595ms/step - loss: 3327.9448 - mae: 41.6209 - mse: 3327.9448 - val_loss: 3480.6118 - val_mae: 45.5135 - val_mse: 3480.6118\n",
            "Epoch 70/100\n",
            "4/4 [==============================] - 2s 605ms/step - loss: 3290.8845 - mae: 41.5373 - mse: 3290.8845 - val_loss: 3109.2310 - val_mae: 41.5602 - val_mse: 3109.2310\n",
            "Epoch 71/100\n",
            "4/4 [==============================] - 2s 591ms/step - loss: 3493.0249 - mae: 41.5073 - mse: 3493.0249 - val_loss: 3077.9668 - val_mae: 41.2070 - val_mse: 3077.9668\n",
            "Epoch 72/100\n",
            "4/4 [==============================] - 2s 603ms/step - loss: 3331.2417 - mae: 41.3450 - mse: 3331.2417 - val_loss: 4276.6704 - val_mae: 50.6225 - val_mse: 4276.6704\n",
            "Epoch 73/100\n",
            "4/4 [==============================] - 2s 609ms/step - loss: 3373.5332 - mae: 42.5167 - mse: 3373.5332 - val_loss: 3637.3501 - val_mae: 46.5604 - val_mse: 3637.3501\n",
            "Epoch 74/100\n",
            "4/4 [==============================] - 2s 602ms/step - loss: 3287.2566 - mae: 42.0515 - mse: 3287.2566 - val_loss: 3497.0112 - val_mae: 44.6181 - val_mse: 3497.0112\n",
            "Epoch 75/100\n",
            "4/4 [==============================] - 2s 614ms/step - loss: 3264.9604 - mae: 40.5985 - mse: 3264.9604 - val_loss: 3610.2783 - val_mae: 44.5833 - val_mse: 3610.2783\n",
            "Epoch 76/100\n",
            "4/4 [==============================] - 2s 603ms/step - loss: 3265.8555 - mae: 41.9302 - mse: 3265.8555 - val_loss: 3757.3679 - val_mae: 45.8475 - val_mse: 3757.3679\n",
            "Epoch 77/100\n",
            "4/4 [==============================] - 2s 606ms/step - loss: 3202.4331 - mae: 41.4858 - mse: 3202.4331 - val_loss: 3337.4126 - val_mae: 43.6445 - val_mse: 3337.4126\n",
            "Epoch 78/100\n",
            "4/4 [==============================] - 2s 600ms/step - loss: 3210.6536 - mae: 41.2333 - mse: 3210.6536 - val_loss: 3249.0200 - val_mae: 43.0768 - val_mse: 3249.0200\n",
            "Epoch 79/100\n",
            "4/4 [==============================] - 2s 617ms/step - loss: 3239.6531 - mae: 41.9322 - mse: 3239.6531 - val_loss: 3557.2788 - val_mae: 45.7981 - val_mse: 3557.2788\n",
            "Epoch 80/100\n",
            "4/4 [==============================] - 2s 601ms/step - loss: 3121.9148 - mae: 40.6387 - mse: 3121.9148 - val_loss: 3554.5984 - val_mae: 45.3793 - val_mse: 3554.5984\n",
            "Epoch 81/100\n",
            "4/4 [==============================] - 2s 616ms/step - loss: 3020.7087 - mae: 40.0811 - mse: 3020.7087 - val_loss: 3860.0071 - val_mae: 46.9184 - val_mse: 3860.0071\n",
            "Epoch 82/100\n",
            "4/4 [==============================] - 2s 602ms/step - loss: 2991.9578 - mae: 39.6036 - mse: 2991.9578 - val_loss: 3821.2163 - val_mae: 46.1320 - val_mse: 3821.2163\n",
            "Epoch 83/100\n",
            "4/4 [==============================] - 2s 607ms/step - loss: 2985.6206 - mae: 39.3654 - mse: 2985.6206 - val_loss: 4035.7649 - val_mae: 48.0201 - val_mse: 4035.7649\n",
            "Epoch 84/100\n",
            "4/4 [==============================] - 2s 611ms/step - loss: 2906.9431 - mae: 39.4965 - mse: 2906.9431 - val_loss: 3999.4451 - val_mae: 47.7715 - val_mse: 3999.4451\n",
            "Epoch 85/100\n",
            "4/4 [==============================] - 2s 607ms/step - loss: 2853.7180 - mae: 38.4699 - mse: 2853.7180 - val_loss: 4022.9524 - val_mae: 47.8395 - val_mse: 4022.9524\n",
            "Epoch 86/100\n",
            "4/4 [==============================] - 2s 607ms/step - loss: 2873.1177 - mae: 38.9345 - mse: 2873.1177 - val_loss: 4380.7134 - val_mae: 49.8150 - val_mse: 4380.7134\n",
            "Epoch 87/100\n",
            "4/4 [==============================] - 2s 605ms/step - loss: 3009.9858 - mae: 39.3069 - mse: 3009.9858 - val_loss: 4070.0483 - val_mae: 48.0361 - val_mse: 4070.0483\n",
            "Epoch 88/100\n",
            "4/4 [==============================] - 2s 594ms/step - loss: 2827.2786 - mae: 38.2765 - mse: 2827.2786 - val_loss: 4116.4844 - val_mae: 48.3228 - val_mse: 4116.4844\n",
            "Epoch 89/100\n",
            "4/4 [==============================] - 2s 597ms/step - loss: 2908.8696 - mae: 39.4818 - mse: 2908.8696 - val_loss: 4277.5215 - val_mae: 49.1742 - val_mse: 4277.5215\n",
            "Epoch 90/100\n",
            "4/4 [==============================] - 2s 614ms/step - loss: 2816.7207 - mae: 38.4145 - mse: 2816.7207 - val_loss: 4274.3237 - val_mae: 49.5350 - val_mse: 4274.3237\n",
            "Epoch 91/100\n",
            "4/4 [==============================] - 2s 615ms/step - loss: 2810.1401 - mae: 38.8554 - mse: 2810.1401 - val_loss: 4487.8789 - val_mae: 50.7661 - val_mse: 4487.8789\n",
            "Epoch 92/100\n",
            "4/4 [==============================] - 2s 615ms/step - loss: 2767.5808 - mae: 37.8346 - mse: 2767.5808 - val_loss: 4409.3604 - val_mae: 49.7685 - val_mse: 4409.3604\n",
            "Epoch 93/100\n",
            "4/4 [==============================] - 2s 615ms/step - loss: 2756.0183 - mae: 37.6397 - mse: 2756.0183 - val_loss: 4470.2734 - val_mae: 50.4560 - val_mse: 4470.2734\n",
            "Epoch 94/100\n",
            "4/4 [==============================] - 2s 608ms/step - loss: 2830.5625 - mae: 37.8198 - mse: 2830.5625 - val_loss: 4700.2666 - val_mae: 51.6389 - val_mse: 4700.2666\n",
            "Epoch 95/100\n",
            "4/4 [==============================] - 2s 611ms/step - loss: 2730.5793 - mae: 38.1452 - mse: 2730.5793 - val_loss: 4894.9731 - val_mae: 52.6720 - val_mse: 4894.9731\n",
            "Epoch 96/100\n",
            "4/4 [==============================] - 2s 597ms/step - loss: 2693.4255 - mae: 37.7941 - mse: 2693.4255 - val_loss: 4461.4727 - val_mae: 50.2004 - val_mse: 4461.4727\n",
            "Epoch 97/100\n",
            "4/4 [==============================] - 2s 614ms/step - loss: 2720.3706 - mae: 37.4322 - mse: 2720.3706 - val_loss: 4877.9390 - val_mae: 52.3224 - val_mse: 4877.9390\n",
            "Epoch 98/100\n",
            "4/4 [==============================] - 2s 614ms/step - loss: 2851.7778 - mae: 38.7269 - mse: 2851.7778 - val_loss: 5298.4897 - val_mae: 54.9197 - val_mse: 5298.4897\n",
            "Epoch 99/100\n",
            "4/4 [==============================] - 2s 610ms/step - loss: 2685.1584 - mae: 37.3083 - mse: 2685.1584 - val_loss: 4004.0337 - val_mae: 46.5516 - val_mse: 4004.0334\n",
            "Epoch 100/100\n",
            "4/4 [==============================] - 2s 611ms/step - loss: 2728.0054 - mae: 37.6509 - mse: 2728.0054 - val_loss: 5340.9077 - val_mae: 54.1215 - val_mse: 5340.9077\n"
          ]
        }
      ]
    },
    {
      "cell_type": "markdown",
      "source": [
        "Predictions\n",
        "\n"
      ],
      "metadata": {
        "id": "ykyI87uZAFYU"
      }
    },
    {
      "cell_type": "code",
      "source": [
        "train_idx[:T+1]=False"
      ],
      "metadata": {
        "id": "k0XDQv2l-_2x"
      },
      "execution_count": 152,
      "outputs": []
    },
    {
      "cell_type": "code",
      "source": [
        "Ptrain_lstm_cnn=model_lstm_cnn.predict(Xtrain).flatten()\n",
        "Ptest_lstm_cnn=model_lstm_cnn.predict(Xtest).flatten()"
      ],
      "metadata": {
        "id": "wJ3J-Cvv_oLA"
      },
      "execution_count": 153,
      "outputs": []
    },
    {
      "cell_type": "code",
      "source": [
        "Ptrain_lstm_gru=model_lstm_gru.predict(Xtrain).flatten()\n",
        "Ptest_lstm_gru=model_lstm_gru.predict(Xtest).flatten()"
      ],
      "metadata": {
        "id": "r9GuOYr-_oRf"
      },
      "execution_count": 154,
      "outputs": []
    },
    {
      "cell_type": "code",
      "source": [
        "df.loc[train_idx,'Diff LSTM+CNN train prediction']=Ptrain_lstm_cnn\n",
        "df.loc[test_idx,'Diff LSTM+CNN test prediction']=Ptest_lstm_cnn"
      ],
      "metadata": {
        "id": "-ZvHYeDl_oYI"
      },
      "execution_count": null,
      "outputs": []
    },
    {
      "cell_type": "code",
      "source": [
        "df.loc[train_idx,'Diff LSTM+GRU train prediction']=Ptrain_lstm_gru\n",
        "df.loc[test_idx,'Diff LSTM+GRU test prediction']=Ptest_lstm_gru"
      ],
      "metadata": {
        "id": "h0xk_CKv_7mw"
      },
      "execution_count": 155,
      "outputs": []
    },
    {
      "cell_type": "code",
      "source": [
        "df['Shift Prev Close']=df['Prev Close'].shift(1)\n",
        "prev=df['Shift Prev Close']"
      ],
      "metadata": {
        "id": "-9ekKxJr_7pu"
      },
      "execution_count": 156,
      "outputs": []
    },
    {
      "cell_type": "code",
      "source": [
        "last_train=train.iloc[-1]['Prev Close']"
      ],
      "metadata": {
        "id": "Qd-4VnON_7tL"
      },
      "execution_count": 157,
      "outputs": []
    },
    {
      "cell_type": "code",
      "source": [
        "df.loc[train_idx,'train_LSTM_CNN']=prev[train_idx]+Ptrain_lstm_cnn\n",
        "df.loc[test_idx,'Prediction_LSTM_CNN']=prev[test_idx]+Ptest_lstm_cnn"
      ],
      "metadata": {
        "id": "wIUM_MvYALoR"
      },
      "execution_count": 158,
      "outputs": []
    },
    {
      "cell_type": "code",
      "source": [
        "df.loc[train_idx,'train_LSTM_GRU']=prev[train_idx]+Ptrain_lstm_gru\n",
        "df.loc[test_idx,'Prediction_LSTM_GRU']=prev[test_idx]+Ptest_lstm_gru"
      ],
      "metadata": {
        "id": "4dA6pDYTANWK"
      },
      "execution_count": 159,
      "outputs": []
    },
    {
      "cell_type": "code",
      "source": [
        "df[['Prev Close' ,'Prediction_LSTM_CNN','Prediction_LSTM_GRU']].plot(figsize=(15,10));"
      ],
      "metadata": {
        "colab": {
          "base_uri": "https://localhost:8080/",
          "height": 422
        },
        "id": "f8KVkcj8AaPm",
        "outputId": "a07ea68c-c993-4f73-e485-2bf8e48d8e9f"
      },
      "execution_count": 160,
      "outputs": [
        {
          "output_type": "display_data",
          "data": {
            "text/plain": [
              "<Figure size 1080x720 with 1 Axes>"
            ],
            "image/png": "[encoded data removed]"
          },
          "metadata": {
            "needs_background": "light"
          }
        }
      ]
    },
    {
      "cell_type": "code",
      "source": [
        "df[['Prediction_LSTM_CNN','Prediction_LSTM_GRU']].plot(figsize=(15,10));"
      ],
      "metadata": {
        "colab": {
          "base_uri": "https://localhost:8080/",
          "height": 428
        },
        "id": "ZYDW87n5Anf9",
        "outputId": "2f15763b-5b50-4f4c-e7f9-b3780e90a3ac"
      },
      "execution_count": 161,
      "outputs": [
        {
          "output_type": "display_data",
          "data": {
            "text/plain": [
              "<Figure size 1080x720 with 1 Axes>"
            ],
            "image/png": "[encoded data removed]"
          },
          "metadata": {
            "needs_background": "light"
          }
        }
      ]
    },
    {
      "cell_type": "code",
      "source": [
        "pred_lstm_cnn=df['Prediction_LSTM_CNN']\n",
        "pred_lstm_cnn.dropna(inplace=True)"
      ],
      "metadata": {
        "id": "gj8xug0lAxWl"
      },
      "execution_count": 162,
      "outputs": []
    },
    {
      "cell_type": "code",
      "source": [
        "rmse=math.sqrt(mean_squared_error(test['Prev Close'],pred_lstm_cnn))\n",
        "print(rmse)"
      ],
      "metadata": {
        "colab": {
          "base_uri": "https://localhost:8080/"
        },
        "id": "rakkuhBuA-qw",
        "outputId": "31d4a17f-de43-4fc3-cd63-5eec9e048ad6"
      },
      "execution_count": 163,
      "outputs": [
        {
          "output_type": "stream",
          "name": "stdout",
          "text": [
            "44.17500089644138\n"
          ]
        }
      ]
    },
    {
      "cell_type": "code",
      "source": [
        "error=mean_absolute_error(test['Prev Close'],pred_lstm_cnn)\n",
        "print(error)"
      ],
      "metadata": {
        "colab": {
          "base_uri": "https://localhost:8080/"
        },
        "id": "9wztKO3rBHqx",
        "outputId": "cf139a11-2552-47a0-80ee-ba3f8d5b8267"
      },
      "execution_count": 164,
      "outputs": [
        {
          "output_type": "stream",
          "name": "stdout",
          "text": [
            "32.584693697055194\n"
          ]
        }
      ]
    },
    {
      "cell_type": "code",
      "source": [
        "r2_score(test['Prev Close'],pred_lstm_cnn)"
      ],
      "metadata": {
        "colab": {
          "base_uri": "https://localhost:8080/"
        },
        "id": "OXbq8UpSBH9g",
        "outputId": "f58e38d6-074e-4ad7-c625-266ff2793e27"
      },
      "execution_count": 165,
      "outputs": [
        {
          "output_type": "execute_result",
          "data": {
            "text/plain": [
              "0.969427487689726"
            ]
          },
          "metadata": {},
          "execution_count": 165
        }
      ]
    },
    {
      "cell_type": "code",
      "source": [
        "pred_lstm_gru=df['Prediction_LSTM_GRU']\n",
        "pred_lstm_gru.dropna(inplace=True)"
      ],
      "metadata": {
        "id": "kaOiSQKJBRUU"
      },
      "execution_count": 166,
      "outputs": []
    },
    {
      "cell_type": "code",
      "source": [
        "rmse=math.sqrt(mean_squared_error(test['Prev Close'],pred_lstm_cnn))\n",
        "print(rmse)"
      ],
      "metadata": {
        "colab": {
          "base_uri": "https://localhost:8080/"
        },
        "id": "7UBA8PW2BRex",
        "outputId": "5024cf74-9cba-4611-b3a1-982d59147ae4"
      },
      "execution_count": 167,
      "outputs": [
        {
          "output_type": "stream",
          "name": "stdout",
          "text": [
            "44.17500089644138\n"
          ]
        }
      ]
    },
    {
      "cell_type": "code",
      "source": [
        "error=mean_absolute_error(test['Prev Close'],pred_lstm_gru)\n",
        "print(error)"
      ],
      "metadata": {
        "colab": {
          "base_uri": "https://localhost:8080/"
        },
        "id": "9zf0Qkl4BRo1",
        "outputId": "7d4ebf2f-0a1c-4853-a666-f0851f48f7b1"
      },
      "execution_count": 168,
      "outputs": [
        {
          "output_type": "stream",
          "name": "stdout",
          "text": [
            "54.12153563372294\n"
          ]
        }
      ]
    },
    {
      "cell_type": "code",
      "source": [
        "r2_score(test['Prev Close'],pred_lstm_gru)"
      ],
      "metadata": {
        "colab": {
          "base_uri": "https://localhost:8080/"
        },
        "id": "2TgbreYrBRzp",
        "outputId": "25f4d30e-d699-4442-be23-83858856dab0"
      },
      "execution_count": 169,
      "outputs": [
        {
          "output_type": "execute_result",
          "data": {
            "text/plain": [
              "0.9163255071834419"
            ]
          },
          "metadata": {},
          "execution_count": 169
        }
      ]
    },
    {
      "cell_type": "code",
      "source": [],
      "metadata": {
        "id": "E7qIDFyEBlEl"
      },
      "execution_count": 169,
      "outputs": []
    }
  ]
}