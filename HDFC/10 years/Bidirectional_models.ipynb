{
  "nbformat": 4,
  "nbformat_minor": 0,
  "metadata": {
    "colab": {
      "provenance": [],
      "collapsed_sections": []
    },
    "kernelspec": {
      "name": "python3",
      "display_name": "Python 3"
    },
    "language_info": {
      "name": "python"
    }
  },
  "cells": [
    {
      "cell_type": "code",
      "execution_count": 88,
      "metadata": {
        "id": "ZVEUR9Z46zJ7"
      },
      "outputs": [],
      "source": [
        "import pandas as pd\n",
        "import numpy as np\n",
        "import matplotlib.pyplot as plt\n",
        "\n",
        "import tensorflow as tf\n",
        "from tensorflow.keras.layers import Dense, Input, GlobalMaxPool1D, GRU,LSTM, Bidirectional\n",
        "from tensorflow.keras.models import Model\n",
        "from tensorflow.keras.callbacks import ModelCheckpoint\n",
        "\n",
        "import math\n",
        "\n",
        "from sklearn.metrics import r2_score\n",
        "from sklearn.metrics import mean_absolute_error\n",
        "from sklearn.metrics import mean_squared_error\n",
        "\n",
        "np.random.seed(123)\n",
        "tf.random.set_seed(123)"
      ]
    },
    {
      "cell_type": "code",
      "source": [
        "df=pd.read_csv('./HDFC.csv',index_col='Date',parse_dates=True)"
      ],
      "metadata": {
        "id": "hGNJlPX-7FQ_"
      },
      "execution_count": 89,
      "outputs": []
    },
    {
      "cell_type": "code",
      "source": [
        "df"
      ],
      "metadata": {
        "colab": {
          "base_uri": "https://localhost:8080/",
          "height": 710
        },
        "id": "_fw_w6SY7PDd",
        "outputId": "f4c8cf7a-08be-41d4-eaaa-abfc60208c49"
      },
      "execution_count": 90,
      "outputs": [
        {
          "output_type": "execute_result",
          "data": {
            "text/plain": [
              "           Symbol Series  Prev Close     Open     High      Low     Last  \\\n",
              "Date                                                                       \n",
              "2000-01-03   HDFC     EQ      271.75   293.50   293.50   293.50   293.50   \n",
              "2000-01-04   HDFC     EQ      293.50   317.00   317.00   297.00   304.00   \n",
              "2000-01-05   HDFC     EQ      304.05   290.00   303.90   285.00   295.00   \n",
              "2000-01-06   HDFC     EQ      292.80   301.00   314.00   295.00   296.00   \n",
              "2000-01-07   HDFC     EQ      296.45   290.00   296.35   281.00   287.10   \n",
              "...           ...    ...         ...      ...      ...      ...      ...   \n",
              "2021-04-26   HDFC     EQ     2497.35  2500.00  2534.10  2483.20  2502.00   \n",
              "2021-04-27   HDFC     EQ     2509.80  2494.15  2526.80  2486.25  2514.00   \n",
              "2021-04-28   HDFC     EQ     2518.40  2516.10  2609.00  2508.30  2575.00   \n",
              "2021-04-29   HDFC     EQ     2577.00  2590.90  2628.00  2533.00  2539.70   \n",
              "2021-04-30   HDFC     EQ     2538.85  2503.10  2525.00  2411.10  2433.25   \n",
              "\n",
              "              Close     VWAP   Volume      Turnover    Trades  \\\n",
              "Date                                                            \n",
              "2000-01-03   293.50   293.50    22744  6.675364e+11       NaN   \n",
              "2000-01-04   304.05   303.62   255251  7.749972e+12       NaN   \n",
              "2000-01-05   292.80   294.53   269087  7.925368e+12       NaN   \n",
              "2000-01-06   296.45   300.14   305916  9.181669e+12       NaN   \n",
              "2000-01-07   286.55   288.80   197039  5.690480e+12       NaN   \n",
              "...             ...      ...      ...           ...       ...   \n",
              "2021-04-26  2509.80  2508.07  3916088  9.821805e+14  121028.0   \n",
              "2021-04-27  2518.40  2509.18  2040799  5.120730e+14  102250.0   \n",
              "2021-04-28  2577.00  2574.21  3407461  8.771527e+14  117425.0   \n",
              "2021-04-29  2538.85  2569.65  3005468  7.722995e+14  132826.0   \n",
              "2021-04-30  2420.10  2445.94  6024595  1.473581e+15  224454.0   \n",
              "\n",
              "            Deliverable Volume  %Deliverble  \n",
              "Date                                         \n",
              "2000-01-03                 NaN          NaN  \n",
              "2000-01-04                 NaN          NaN  \n",
              "2000-01-05                 NaN          NaN  \n",
              "2000-01-06                 NaN          NaN  \n",
              "2000-01-07                 NaN          NaN  \n",
              "...                        ...          ...  \n",
              "2021-04-26           2440395.0       0.6232  \n",
              "2021-04-27           1040749.0       0.5100  \n",
              "2021-04-28           1815110.0       0.5327  \n",
              "2021-04-29           1472924.0       0.4901  \n",
              "2021-04-30           3839105.0       0.6372  \n",
              "\n",
              "[5306 rows x 14 columns]"
            ],
            "text/html": [
              "\n",
              "  <div id=\"df-1811c879-224c-4d1b-b82f-e2028010d02a\">\n",
              "    <div class=\"colab-df-container\">\n",
              "      <div>\n",
              "<style scoped>\n",
              "    .dataframe tbody tr th:only-of-type {\n",
              "        vertical-align: middle;\n",
              "    }\n",
              "\n",
              "    .dataframe tbody tr th {\n",
              "        vertical-align: top;\n",
              "    }\n",
              "\n",
              "    .dataframe thead th {\n",
              "        text-align: right;\n",
              "    }\n",
              "</style>\n",
              "<table border=\"1\" class=\"dataframe\">\n",
              "  <thead>\n",
              "    <tr style=\"text-align: right;\">\n",
              "      <th></th>\n",
              "      <th>Symbol</th>\n",
              "      <th>Series</th>\n",
              "      <th>Prev Close</th>\n",
              "      <th>Open</th>\n",
              "      <th>High</th>\n",
              "      <th>Low</th>\n",
              "      <th>Last</th>\n",
              "      <th>Close</th>\n",
              "      <th>VWAP</th>\n",
              "      <th>Volume</th>\n",
              "      <th>Turnover</th>\n",
              "      <th>Trades</th>\n",
              "      <th>Deliverable Volume</th>\n",
              "      <th>%Deliverble</th>\n",
              "    </tr>\n",
              "    <tr>\n",
              "      <th>Date</th>\n",
              "      <th></th>\n",
              "      <th></th>\n",
              "      <th></th>\n",
              "      <th></th>\n",
              "      <th></th>\n",
              "      <th></th>\n",
              "      <th></th>\n",
              "      <th></th>\n",
              "      <th></th>\n",
              "      <th></th>\n",
              "      <th></th>\n",
              "      <th></th>\n",
              "      <th></th>\n",
              "      <th></th>\n",
              "    </tr>\n",
              "  </thead>\n",
              "  <tbody>\n",
              "    <tr>\n",
              "      <th>2000-01-03</th>\n",
              "      <td>HDFC</td>\n",
              "      <td>EQ</td>\n",
              "      <td>271.75</td>\n",
              "      <td>293.50</td>\n",
              "      <td>293.50</td>\n",
              "      <td>293.50</td>\n",
              "      <td>293.50</td>\n",
              "      <td>293.50</td>\n",
              "      <td>293.50</td>\n",
              "      <td>22744</td>\n",
              "      <td>6.675364e+11</td>\n",
              "      <td>NaN</td>\n",
              "      <td>NaN</td>\n",
              "      <td>NaN</td>\n",
              "    </tr>\n",
              "    <tr>\n",
              "      <th>2000-01-04</th>\n",
              "      <td>HDFC</td>\n",
              "      <td>EQ</td>\n",
              "      <td>293.50</td>\n",
              "      <td>317.00</td>\n",
              "      <td>317.00</td>\n",
              "      <td>297.00</td>\n",
              "      <td>304.00</td>\n",
              "      <td>304.05</td>\n",
              "      <td>303.62</td>\n",
              "      <td>255251</td>\n",
              "      <td>7.749972e+12</td>\n",
              "      <td>NaN</td>\n",
              "      <td>NaN</td>\n",
              "      <td>NaN</td>\n",
              "    </tr>\n",
              "    <tr>\n",
              "      <th>2000-01-05</th>\n",
              "      <td>HDFC</td>\n",
              "      <td>EQ</td>\n",
              "      <td>304.05</td>\n",
              "      <td>290.00</td>\n",
              "      <td>303.90</td>\n",
              "      <td>285.00</td>\n",
              "      <td>295.00</td>\n",
              "      <td>292.80</td>\n",
              "      <td>294.53</td>\n",
              "      <td>269087</td>\n",
              "      <td>7.925368e+12</td>\n",
              "      <td>NaN</td>\n",
              "      <td>NaN</td>\n",
              "      <td>NaN</td>\n",
              "    </tr>\n",
              "    <tr>\n",
              "      <th>2000-01-06</th>\n",
              "      <td>HDFC</td>\n",
              "      <td>EQ</td>\n",
              "      <td>292.80</td>\n",
              "      <td>301.00</td>\n",
              "      <td>314.00</td>\n",
              "      <td>295.00</td>\n",
              "      <td>296.00</td>\n",
              "      <td>296.45</td>\n",
              "      <td>300.14</td>\n",
              "      <td>305916</td>\n",
              "      <td>9.181669e+12</td>\n",
              "      <td>NaN</td>\n",
              "      <td>NaN</td>\n",
              "      <td>NaN</td>\n",
              "    </tr>\n",
              "    <tr>\n",
              "      <th>2000-01-07</th>\n",
              "      <td>HDFC</td>\n",
              "      <td>EQ</td>\n",
              "      <td>296.45</td>\n",
              "      <td>290.00</td>\n",
              "      <td>296.35</td>\n",
              "      <td>281.00</td>\n",
              "      <td>287.10</td>\n",
              "      <td>286.55</td>\n",
              "      <td>288.80</td>\n",
              "      <td>197039</td>\n",
              "      <td>5.690480e+12</td>\n",
              "      <td>NaN</td>\n",
              "      <td>NaN</td>\n",
              "      <td>NaN</td>\n",
              "    </tr>\n",
              "    <tr>\n",
              "      <th>...</th>\n",
              "      <td>...</td>\n",
              "      <td>...</td>\n",
              "      <td>...</td>\n",
              "      <td>...</td>\n",
              "      <td>...</td>\n",
              "      <td>...</td>\n",
              "      <td>...</td>\n",
              "      <td>...</td>\n",
              "      <td>...</td>\n",
              "      <td>...</td>\n",
              "      <td>...</td>\n",
              "      <td>...</td>\n",
              "      <td>...</td>\n",
              "      <td>...</td>\n",
              "    </tr>\n",
              "    <tr>\n",
              "      <th>2021-04-26</th>\n",
              "      <td>HDFC</td>\n",
              "      <td>EQ</td>\n",
              "      <td>2497.35</td>\n",
              "      <td>2500.00</td>\n",
              "      <td>2534.10</td>\n",
              "      <td>2483.20</td>\n",
              "      <td>2502.00</td>\n",
              "      <td>2509.80</td>\n",
              "      <td>2508.07</td>\n",
              "      <td>3916088</td>\n",
              "      <td>9.821805e+14</td>\n",
              "      <td>121028.0</td>\n",
              "      <td>2440395.0</td>\n",
              "      <td>0.6232</td>\n",
              "    </tr>\n",
              "    <tr>\n",
              "      <th>2021-04-27</th>\n",
              "      <td>HDFC</td>\n",
              "      <td>EQ</td>\n",
              "      <td>2509.80</td>\n",
              "      <td>2494.15</td>\n",
              "      <td>2526.80</td>\n",
              "      <td>2486.25</td>\n",
              "      <td>2514.00</td>\n",
              "      <td>2518.40</td>\n",
              "      <td>2509.18</td>\n",
              "      <td>2040799</td>\n",
              "      <td>5.120730e+14</td>\n",
              "      <td>102250.0</td>\n",
              "      <td>1040749.0</td>\n",
              "      <td>0.5100</td>\n",
              "    </tr>\n",
              "    <tr>\n",
              "      <th>2021-04-28</th>\n",
              "      <td>HDFC</td>\n",
              "      <td>EQ</td>\n",
              "      <td>2518.40</td>\n",
              "      <td>2516.10</td>\n",
              "      <td>2609.00</td>\n",
              "      <td>2508.30</td>\n",
              "      <td>2575.00</td>\n",
              "      <td>2577.00</td>\n",
              "      <td>2574.21</td>\n",
              "      <td>3407461</td>\n",
              "      <td>8.771527e+14</td>\n",
              "      <td>117425.0</td>\n",
              "      <td>1815110.0</td>\n",
              "      <td>0.5327</td>\n",
              "    </tr>\n",
              "    <tr>\n",
              "      <th>2021-04-29</th>\n",
              "      <td>HDFC</td>\n",
              "      <td>EQ</td>\n",
              "      <td>2577.00</td>\n",
              "      <td>2590.90</td>\n",
              "      <td>2628.00</td>\n",
              "      <td>2533.00</td>\n",
              "      <td>2539.70</td>\n",
              "      <td>2538.85</td>\n",
              "      <td>2569.65</td>\n",
              "      <td>3005468</td>\n",
              "      <td>7.722995e+14</td>\n",
              "      <td>132826.0</td>\n",
              "      <td>1472924.0</td>\n",
              "      <td>0.4901</td>\n",
              "    </tr>\n",
              "    <tr>\n",
              "      <th>2021-04-30</th>\n",
              "      <td>HDFC</td>\n",
              "      <td>EQ</td>\n",
              "      <td>2538.85</td>\n",
              "      <td>2503.10</td>\n",
              "      <td>2525.00</td>\n",
              "      <td>2411.10</td>\n",
              "      <td>2433.25</td>\n",
              "      <td>2420.10</td>\n",
              "      <td>2445.94</td>\n",
              "      <td>6024595</td>\n",
              "      <td>1.473581e+15</td>\n",
              "      <td>224454.0</td>\n",
              "      <td>3839105.0</td>\n",
              "      <td>0.6372</td>\n",
              "    </tr>\n",
              "  </tbody>\n",
              "</table>\n",
              "<p>5306 rows × 14 columns</p>\n",
              "</div>\n",
              "      <button class=\"colab-df-convert\" onclick=\"convertToInteractive('df-1811c879-224c-4d1b-b82f-e2028010d02a')\"\n",
              "              title=\"Convert this dataframe to an interactive table.\"\n",
              "              style=\"display:none;\">\n",
              "        \n",
              "  <svg xmlns=\"http://www.w3.org/2000/svg\" height=\"24px\"viewBox=\"0 0 24 24\"\n",
              "       width=\"24px\">\n",
              "    <path d=\"M0 0h24v24H0V0z\" fill=\"none\"/>\n",
              "    <path d=\"M18.56 5.44l.94 2.06.94-2.06 2.06-.94-2.06-.94-.94-2.06-.94 2.06-2.06.94zm-11 1L8.5 8.5l.94-2.06 2.06-.94-2.06-.94L8.5 2.5l-.94 2.06-2.06.94zm10 10l.94 2.06.94-2.06 2.06-.94-2.06-.94-.94-2.06-.94 2.06-2.06.94z\"/><path d=\"M17.41 7.96l-1.37-1.37c-.4-.4-.92-.59-1.43-.59-.52 0-1.04.2-1.43.59L10.3 9.45l-7.72 7.72c-.78.78-.78 2.05 0 2.83L4 21.41c.39.39.9.59 1.41.59.51 0 1.02-.2 1.41-.59l7.78-7.78 2.81-2.81c.8-.78.8-2.07 0-2.86zM5.41 20L4 18.59l7.72-7.72 1.47 1.35L5.41 20z\"/>\n",
              "  </svg>\n",
              "      </button>\n",
              "      \n",
              "  <style>\n",
              "    .colab-df-container {\n",
              "      display:flex;\n",
              "      flex-wrap:wrap;\n",
              "      gap: 12px;\n",
              "    }\n",
              "\n",
              "    .colab-df-convert {\n",
              "      background-color: #E8F0FE;\n",
              "      border: none;\n",
              "      border-radius: 50%;\n",
              "      cursor: pointer;\n",
              "      display: none;\n",
              "      fill: #1967D2;\n",
              "      height: 32px;\n",
              "      padding: 0 0 0 0;\n",
              "      width: 32px;\n",
              "    }\n",
              "\n",
              "    .colab-df-convert:hover {\n",
              "      background-color: #E2EBFA;\n",
              "      box-shadow: 0px 1px 2px rgba(60, 64, 67, 0.3), 0px 1px 3px 1px rgba(60, 64, 67, 0.15);\n",
              "      fill: #174EA6;\n",
              "    }\n",
              "\n",
              "    [theme=dark] .colab-df-convert {\n",
              "      background-color: #3B4455;\n",
              "      fill: #D2E3FC;\n",
              "    }\n",
              "\n",
              "    [theme=dark] .colab-df-convert:hover {\n",
              "      background-color: #434B5C;\n",
              "      box-shadow: 0px 1px 3px 1px rgba(0, 0, 0, 0.15);\n",
              "      filter: drop-shadow(0px 1px 2px rgba(0, 0, 0, 0.3));\n",
              "      fill: #FFFFFF;\n",
              "    }\n",
              "  </style>\n",
              "\n",
              "      <script>\n",
              "        const buttonEl =\n",
              "          document.querySelector('#df-1811c879-224c-4d1b-b82f-e2028010d02a button.colab-df-convert');\n",
              "        buttonEl.style.display =\n",
              "          google.colab.kernel.accessAllowed ? 'block' : 'none';\n",
              "\n",
              "        async function convertToInteractive(key) {\n",
              "          const element = document.querySelector('#df-1811c879-224c-4d1b-b82f-e2028010d02a');\n",
              "          const dataTable =\n",
              "            await google.colab.kernel.invokeFunction('convertToInteractive',\n",
              "                                                     [key], {});\n",
              "          if (!dataTable) return;\n",
              "\n",
              "          const docLinkHtml = 'Like what you see? Visit the ' +\n",
              "            '<a target=\"_blank\" href=https://colab.research.google.com/notebooks/data_table.ipynb>data table notebook</a>'\n",
              "            + ' to learn more about interactive tables.';\n",
              "          element.innerHTML = '';\n",
              "          dataTable['output_type'] = 'display_data';\n",
              "          await google.colab.output.renderOutput(dataTable, element);\n",
              "          const docLink = document.createElement('div');\n",
              "          docLink.innerHTML = docLinkHtml;\n",
              "          element.appendChild(docLink);\n",
              "        }\n",
              "      </script>\n",
              "    </div>\n",
              "  </div>\n",
              "  "
            ]
          },
          "metadata": {},
          "execution_count": 90
        }
      ]
    },
    {
      "cell_type": "code",
      "source": [
        "df['Date']=df.index"
      ],
      "metadata": {
        "id": "zwmfESni7gKn"
      },
      "execution_count": 91,
      "outputs": []
    },
    {
      "cell_type": "code",
      "source": [
        "start_date='2011-01-01'\n",
        "end_date='2020-12-31'\n",
        "mask=(df['Date']>=start_date)&(df['Date']<=end_date)"
      ],
      "metadata": {
        "id": "R6njdWuX7i6e"
      },
      "execution_count": 92,
      "outputs": []
    },
    {
      "cell_type": "code",
      "source": [
        "df=df.loc[mask]"
      ],
      "metadata": {
        "id": "1gvhNCc_7lCh"
      },
      "execution_count": 93,
      "outputs": []
    },
    {
      "cell_type": "code",
      "source": [
        "df=df.loc[mask]"
      ],
      "metadata": {
        "id": "H7T84rNE7lFn"
      },
      "execution_count": 94,
      "outputs": []
    },
    {
      "cell_type": "code",
      "source": [
        "df=df.drop(columns=['Series','Symbol','Open','High','Low','Last','Close','VWAP','Volume','Turnover','Trades','Deliverable Volume','%Deliverble','Date'])"
      ],
      "metadata": {
        "id": "KosKVO_j7lIn"
      },
      "execution_count": 95,
      "outputs": []
    },
    {
      "cell_type": "code",
      "source": [
        "Ntest=math.trunc(0.3*len(df))\n",
        "train=df.iloc[:-Ntest]\n",
        "test=df.iloc[-Ntest:]"
      ],
      "metadata": {
        "id": "7YW96kEv7lLh"
      },
      "execution_count": 96,
      "outputs": []
    },
    {
      "cell_type": "code",
      "source": [
        "train_idx=df.index<=train.index[-1]\n",
        "test_idx=df.index>train.index[-1]"
      ],
      "metadata": {
        "id": "NhwqMQ7r7lOX"
      },
      "execution_count": 97,
      "outputs": []
    },
    {
      "cell_type": "code",
      "source": [
        "df['Diff Prev Close']=df['Prev Close'].diff()"
      ],
      "metadata": {
        "id": "QtuPaMDJ7lQ_"
      },
      "execution_count": 98,
      "outputs": []
    },
    {
      "cell_type": "code",
      "source": [
        "series=df['Diff Prev Close'].dropna().to_numpy()\n",
        "\n",
        "T=50\n",
        "X=[]\n",
        "Y=[]\n",
        "for t in range(len(series)-T):\n",
        "  x=series[t:t+T]\n",
        "  X.append(x)\n",
        "  y=series[t+T]\n",
        "  Y.append(y)\n",
        "\n",
        "X=np.array(X).reshape(-1,T)\n",
        "Y=np.array(Y)\n",
        "N=len(X)\n",
        "print(\"X.shape\",X.shape,\"Y.shape\",Y.shape)"
      ],
      "metadata": {
        "colab": {
          "base_uri": "https://localhost:8080/"
        },
        "id": "WJeTN9cL7tkq",
        "outputId": "579d8209-f715-4d21-996a-b1bae5106f97"
      },
      "execution_count": 99,
      "outputs": [
        {
          "output_type": "stream",
          "name": "stdout",
          "text": [
            "X.shape (2427, 50) Y.shape (2427,)\n"
          ]
        }
      ]
    },
    {
      "cell_type": "code",
      "source": [
        "Xtrain,Ytrain=X[:-Ntest],Y[:-Ntest]\n",
        "Xtest,Ytest=X[-Ntest:],Y[-Ntest:]"
      ],
      "metadata": {
        "id": "dE1vSivZ7tn-"
      },
      "execution_count": 100,
      "outputs": []
    },
    {
      "cell_type": "markdown",
      "source": [
        "Bi-LSTM"
      ],
      "metadata": {
        "id": "Y6SYTxcf8HrV"
      }
    },
    {
      "cell_type": "code",
      "source": [
        "i=Input(shape=(T,1))\n",
        "x=Bidirectional(LSTM(200,return_sequences=True))(i)\n",
        "x=Bidirectional(LSTM(200,return_sequences=True))(x)\n",
        "x=GlobalMaxPool1D()(x)\n",
        "x=Dense(100)(x)\n",
        "x=Dense(50)(x)\n",
        "x=Dense(1)(x)\n",
        "model_bi_lstm=Model(i,x)\n",
        "model_bi_lstm.summary()"
      ],
      "metadata": {
        "colab": {
          "base_uri": "https://localhost:8080/"
        },
        "id": "uk3JcnRf7trE",
        "outputId": "1edaab61-1ef3-461e-bdcd-22c7f2b95772"
      },
      "execution_count": 101,
      "outputs": [
        {
          "output_type": "stream",
          "name": "stdout",
          "text": [
            "Model: \"model_6\"\n",
            "_________________________________________________________________\n",
            " Layer (type)                Output Shape              Param #   \n",
            "=================================================================\n",
            " input_7 (InputLayer)        [(None, 50, 1)]           0         \n",
            "                                                                 \n",
            " bidirectional_12 (Bidirecti  (None, 50, 400)          323200    \n",
            " onal)                                                           \n",
            "                                                                 \n",
            " bidirectional_13 (Bidirecti  (None, 50, 400)          961600    \n",
            " onal)                                                           \n",
            "                                                                 \n",
            " global_max_pooling1d_6 (Glo  (None, 400)              0         \n",
            " balMaxPooling1D)                                                \n",
            "                                                                 \n",
            " dense_18 (Dense)            (None, 100)               40100     \n",
            "                                                                 \n",
            " dense_19 (Dense)            (None, 50)                5050      \n",
            "                                                                 \n",
            " dense_20 (Dense)            (None, 1)                 51        \n",
            "                                                                 \n",
            "=================================================================\n",
            "Total params: 1,330,001\n",
            "Trainable params: 1,330,001\n",
            "Non-trainable params: 0\n",
            "_________________________________________________________________\n"
          ]
        }
      ]
    },
    {
      "cell_type": "code",
      "source": [
        "check_point_bi_lstm=ModelCheckpoint('best_model.h5',monitor='val_loss',save_best_only=True)"
      ],
      "metadata": {
        "id": "9NtxtRQm7tuD"
      },
      "execution_count": 102,
      "outputs": []
    },
    {
      "cell_type": "code",
      "source": [
        "model_bi_lstm.compile(loss='mse',\n",
        "              optimizer='adamax',\n",
        "              metrics=['mae','mse'])"
      ],
      "metadata": {
        "id": "Tb0KBami7txT"
      },
      "execution_count": 103,
      "outputs": []
    },
    {
      "cell_type": "code",
      "source": [
        "r=model_bi_lstm.fit(\n",
        "    Xtrain,\n",
        "    Ytrain,\n",
        "    epochs=100,\n",
        "    validation_data=(Xtest,Ytest),\n",
        "    callbacks=[check_point_bi_lstm]\n",
        ")"
      ],
      "metadata": {
        "colab": {
          "base_uri": "https://localhost:8080/"
        },
        "id": "Dl_RedqY7t0c",
        "outputId": "06048ffe-dbff-4069-8798-fabc9693d7ea"
      },
      "execution_count": 104,
      "outputs": [
        {
          "output_type": "stream",
          "name": "stdout",
          "text": [
            "Epoch 1/100\n",
            "53/53 [==============================] - 45s 719ms/step - loss: 296.7817 - mae: 12.8312 - mse: 296.7817 - val_loss: 1638.2882 - val_mae: 27.8633 - val_mse: 1638.2882\n",
            "Epoch 2/100\n",
            "53/53 [==============================] - 36s 683ms/step - loss: 291.4723 - mae: 12.6910 - mse: 291.4723 - val_loss: 1635.1516 - val_mae: 27.8092 - val_mse: 1635.1516\n",
            "Epoch 3/100\n",
            "53/53 [==============================] - 35s 668ms/step - loss: 290.7917 - mae: 12.6808 - mse: 290.7917 - val_loss: 1635.3795 - val_mae: 27.8109 - val_mse: 1635.3795\n",
            "Epoch 4/100\n",
            "53/53 [==============================] - 35s 662ms/step - loss: 290.5276 - mae: 12.6702 - mse: 290.5276 - val_loss: 1637.7020 - val_mae: 27.8458 - val_mse: 1637.7020\n",
            "Epoch 5/100\n",
            "53/53 [==============================] - 35s 669ms/step - loss: 290.0981 - mae: 12.6420 - mse: 290.0981 - val_loss: 1633.5129 - val_mae: 27.7732 - val_mse: 1633.5129\n",
            "Epoch 6/100\n",
            "53/53 [==============================] - 35s 668ms/step - loss: 290.0748 - mae: 12.6521 - mse: 290.0748 - val_loss: 1633.9105 - val_mae: 27.7892 - val_mse: 1633.9105\n",
            "Epoch 7/100\n",
            "53/53 [==============================] - 35s 662ms/step - loss: 290.8481 - mae: 12.6586 - mse: 290.8481 - val_loss: 1633.8851 - val_mae: 27.7791 - val_mse: 1633.8851\n",
            "Epoch 8/100\n",
            "53/53 [==============================] - 35s 665ms/step - loss: 289.0570 - mae: 12.6352 - mse: 289.0570 - val_loss: 1632.5361 - val_mae: 27.7655 - val_mse: 1632.5361\n",
            "Epoch 9/100\n",
            "53/53 [==============================] - 35s 662ms/step - loss: 289.4254 - mae: 12.6942 - mse: 289.4254 - val_loss: 1632.4497 - val_mae: 27.7734 - val_mse: 1632.4497\n",
            "Epoch 10/100\n",
            "53/53 [==============================] - 34s 649ms/step - loss: 287.8490 - mae: 12.6303 - mse: 287.8490 - val_loss: 1631.7739 - val_mae: 27.7589 - val_mse: 1631.7739\n",
            "Epoch 11/100\n",
            "53/53 [==============================] - 34s 651ms/step - loss: 289.3994 - mae: 12.6453 - mse: 289.3994 - val_loss: 1630.4941 - val_mae: 27.7422 - val_mse: 1630.4941\n",
            "Epoch 12/100\n",
            "53/53 [==============================] - 35s 654ms/step - loss: 286.1660 - mae: 12.5706 - mse: 286.1660 - val_loss: 1630.2130 - val_mae: 27.7378 - val_mse: 1630.2130\n",
            "Epoch 13/100\n",
            "53/53 [==============================] - 35s 657ms/step - loss: 288.7126 - mae: 12.6493 - mse: 288.7126 - val_loss: 1631.0173 - val_mae: 27.7546 - val_mse: 1631.0173\n",
            "Epoch 14/100\n",
            "53/53 [==============================] - 35s 658ms/step - loss: 285.2034 - mae: 12.5656 - mse: 285.2034 - val_loss: 1630.5951 - val_mae: 27.7440 - val_mse: 1630.5951\n",
            "Epoch 15/100\n",
            "53/53 [==============================] - 35s 658ms/step - loss: 281.5806 - mae: 12.4875 - mse: 281.5806 - val_loss: 1634.5715 - val_mae: 27.7928 - val_mse: 1634.5715\n",
            "Epoch 16/100\n",
            "53/53 [==============================] - 35s 664ms/step - loss: 278.6311 - mae: 12.4566 - mse: 278.6311 - val_loss: 1642.7826 - val_mae: 27.9052 - val_mse: 1642.7826\n",
            "Epoch 17/100\n",
            "53/53 [==============================] - 35s 662ms/step - loss: 275.5747 - mae: 12.2844 - mse: 275.5747 - val_loss: 1638.6051 - val_mae: 27.7882 - val_mse: 1638.6051\n",
            "Epoch 18/100\n",
            "53/53 [==============================] - 36s 681ms/step - loss: 268.7204 - mae: 12.2371 - mse: 268.7204 - val_loss: 1643.5494 - val_mae: 27.8340 - val_mse: 1643.5494\n",
            "Epoch 19/100\n",
            "53/53 [==============================] - 36s 675ms/step - loss: 259.3913 - mae: 12.0431 - mse: 259.3913 - val_loss: 1657.8229 - val_mae: 28.0618 - val_mse: 1657.8229\n",
            "Epoch 20/100\n",
            "53/53 [==============================] - 35s 671ms/step - loss: 254.5248 - mae: 11.9344 - mse: 254.5248 - val_loss: 1682.6985 - val_mae: 28.4639 - val_mse: 1682.6985\n",
            "Epoch 21/100\n",
            "53/53 [==============================] - 36s 678ms/step - loss: 242.1424 - mae: 11.6960 - mse: 242.1424 - val_loss: 1706.8037 - val_mae: 28.6112 - val_mse: 1706.8037\n",
            "Epoch 22/100\n",
            "53/53 [==============================] - 35s 670ms/step - loss: 232.6907 - mae: 11.4685 - mse: 232.6907 - val_loss: 1749.8562 - val_mae: 29.3751 - val_mse: 1749.8562\n",
            "Epoch 23/100\n",
            "53/53 [==============================] - 36s 673ms/step - loss: 228.8692 - mae: 11.5098 - mse: 228.8692 - val_loss: 1762.3282 - val_mae: 29.2225 - val_mse: 1762.3282\n",
            "Epoch 24/100\n",
            "53/53 [==============================] - 36s 675ms/step - loss: 222.9827 - mae: 11.2994 - mse: 222.9827 - val_loss: 1751.0623 - val_mae: 29.3465 - val_mse: 1751.0623\n",
            "Epoch 25/100\n",
            "53/53 [==============================] - 35s 661ms/step - loss: 206.7276 - mae: 10.9444 - mse: 206.7276 - val_loss: 1844.2902 - val_mae: 30.5310 - val_mse: 1844.2902\n",
            "Epoch 26/100\n",
            "53/53 [==============================] - 36s 675ms/step - loss: 209.7536 - mae: 11.0219 - mse: 209.7536 - val_loss: 1857.1945 - val_mae: 30.6981 - val_mse: 1857.1945\n",
            "Epoch 27/100\n",
            "53/53 [==============================] - 36s 684ms/step - loss: 187.7420 - mae: 10.3864 - mse: 187.7420 - val_loss: 1890.6383 - val_mae: 30.9874 - val_mse: 1890.6383\n",
            "Epoch 28/100\n",
            "53/53 [==============================] - 36s 688ms/step - loss: 190.3761 - mae: 10.5564 - mse: 190.3761 - val_loss: 2006.4408 - val_mae: 32.6727 - val_mse: 2006.4408\n",
            "Epoch 29/100\n",
            "53/53 [==============================] - 36s 689ms/step - loss: 176.1846 - mae: 10.2110 - mse: 176.1846 - val_loss: 1983.0193 - val_mae: 32.1174 - val_mse: 1983.0193\n",
            "Epoch 30/100\n",
            "53/53 [==============================] - 37s 696ms/step - loss: 167.9800 - mae: 9.9025 - mse: 167.9800 - val_loss: 2066.6912 - val_mae: 33.2367 - val_mse: 2066.6912\n",
            "Epoch 31/100\n",
            "53/53 [==============================] - 36s 682ms/step - loss: 160.5786 - mae: 9.6212 - mse: 160.5786 - val_loss: 2082.0911 - val_mae: 33.1953 - val_mse: 2082.0911\n",
            "Epoch 32/100\n",
            "53/53 [==============================] - 35s 663ms/step - loss: 152.7119 - mae: 9.4986 - mse: 152.7119 - val_loss: 2113.4875 - val_mae: 33.6031 - val_mse: 2113.4875\n",
            "Epoch 33/100\n",
            "53/53 [==============================] - 37s 695ms/step - loss: 140.2556 - mae: 9.0934 - mse: 140.2556 - val_loss: 2254.5073 - val_mae: 35.2090 - val_mse: 2254.5073\n",
            "Epoch 34/100\n",
            "53/53 [==============================] - 37s 694ms/step - loss: 135.4089 - mae: 8.9506 - mse: 135.4089 - val_loss: 2165.2881 - val_mae: 34.1666 - val_mse: 2165.2881\n",
            "Epoch 35/100\n",
            "53/53 [==============================] - 37s 702ms/step - loss: 122.8176 - mae: 8.5641 - mse: 122.8176 - val_loss: 2406.1194 - val_mae: 36.8161 - val_mse: 2406.1194\n",
            "Epoch 36/100\n",
            "53/53 [==============================] - 37s 692ms/step - loss: 115.8844 - mae: 8.2484 - mse: 115.8844 - val_loss: 2261.3701 - val_mae: 35.5369 - val_mse: 2261.3701\n",
            "Epoch 37/100\n",
            "53/53 [==============================] - 36s 684ms/step - loss: 114.5679 - mae: 8.2499 - mse: 114.5679 - val_loss: 2461.4036 - val_mae: 37.1724 - val_mse: 2461.4036\n",
            "Epoch 38/100\n",
            "53/53 [==============================] - 36s 681ms/step - loss: 103.6428 - mae: 7.8947 - mse: 103.6428 - val_loss: 2376.3352 - val_mae: 36.3503 - val_mse: 2376.3352\n",
            "Epoch 39/100\n",
            "53/53 [==============================] - 36s 682ms/step - loss: 101.5188 - mae: 7.7596 - mse: 101.5188 - val_loss: 2550.8201 - val_mae: 37.9842 - val_mse: 2550.8201\n",
            "Epoch 40/100\n",
            "53/53 [==============================] - 37s 693ms/step - loss: 102.2011 - mae: 7.6884 - mse: 102.2011 - val_loss: 2682.7805 - val_mae: 39.4558 - val_mse: 2682.7805\n",
            "Epoch 41/100\n",
            "53/53 [==============================] - 36s 688ms/step - loss: 87.2097 - mae: 7.2733 - mse: 87.2097 - val_loss: 2647.9707 - val_mae: 39.0563 - val_mse: 2647.9707\n",
            "Epoch 42/100\n",
            "53/53 [==============================] - 36s 672ms/step - loss: 86.7936 - mae: 7.1764 - mse: 86.7936 - val_loss: 2538.6919 - val_mae: 38.1452 - val_mse: 2538.6919\n",
            "Epoch 43/100\n",
            "53/53 [==============================] - 36s 686ms/step - loss: 82.8518 - mae: 7.0215 - mse: 82.8518 - val_loss: 2476.9258 - val_mae: 37.3646 - val_mse: 2476.9258\n",
            "Epoch 44/100\n",
            "53/53 [==============================] - 37s 698ms/step - loss: 79.9181 - mae: 6.9373 - mse: 79.9181 - val_loss: 2769.8848 - val_mae: 40.4661 - val_mse: 2769.8848\n",
            "Epoch 45/100\n",
            "53/53 [==============================] - 36s 673ms/step - loss: 70.7463 - mae: 6.4715 - mse: 70.7463 - val_loss: 2735.8223 - val_mae: 40.1496 - val_mse: 2735.8223\n",
            "Epoch 46/100\n",
            "53/53 [==============================] - 37s 696ms/step - loss: 78.3407 - mae: 6.8105 - mse: 78.3407 - val_loss: 2768.7717 - val_mae: 40.1853 - val_mse: 2768.7717\n",
            "Epoch 47/100\n",
            "53/53 [==============================] - 36s 680ms/step - loss: 63.2171 - mae: 6.0971 - mse: 63.2171 - val_loss: 2819.2151 - val_mae: 40.6129 - val_mse: 2819.2151\n",
            "Epoch 48/100\n",
            "53/53 [==============================] - 40s 753ms/step - loss: 55.5767 - mae: 5.7197 - mse: 55.5767 - val_loss: 2858.0745 - val_mae: 40.9959 - val_mse: 2858.0745\n",
            "Epoch 49/100\n",
            "53/53 [==============================] - 37s 706ms/step - loss: 51.1727 - mae: 5.4317 - mse: 51.1727 - val_loss: 2855.1794 - val_mae: 40.8964 - val_mse: 2855.1794\n",
            "Epoch 50/100\n",
            "53/53 [==============================] - 38s 717ms/step - loss: 51.5320 - mae: 5.4914 - mse: 51.5320 - val_loss: 2817.4094 - val_mae: 40.7114 - val_mse: 2817.4094\n",
            "Epoch 51/100\n",
            "53/53 [==============================] - 38s 712ms/step - loss: 52.7154 - mae: 5.5812 - mse: 52.7154 - val_loss: 3026.9456 - val_mae: 42.4793 - val_mse: 3026.9456\n",
            "Epoch 52/100\n",
            "53/53 [==============================] - 38s 727ms/step - loss: 43.1409 - mae: 5.0663 - mse: 43.1409 - val_loss: 2817.9053 - val_mae: 40.4142 - val_mse: 2817.9053\n",
            "Epoch 53/100\n",
            "53/53 [==============================] - 38s 710ms/step - loss: 40.1980 - mae: 4.8342 - mse: 40.1980 - val_loss: 3122.7314 - val_mae: 43.2330 - val_mse: 3122.7314\n",
            "Epoch 54/100\n",
            "53/53 [==============================] - 39s 735ms/step - loss: 44.6523 - mae: 5.1176 - mse: 44.6523 - val_loss: 2953.9368 - val_mae: 41.8249 - val_mse: 2953.9368\n",
            "Epoch 55/100\n",
            "53/53 [==============================] - 38s 715ms/step - loss: 35.4824 - mae: 4.5303 - mse: 35.4824 - val_loss: 2851.3398 - val_mae: 40.8377 - val_mse: 2851.3398\n",
            "Epoch 56/100\n",
            "53/53 [==============================] - 38s 724ms/step - loss: 38.2112 - mae: 4.7544 - mse: 38.2112 - val_loss: 3008.4075 - val_mae: 42.1845 - val_mse: 3008.4075\n",
            "Epoch 57/100\n",
            "53/53 [==============================] - 37s 699ms/step - loss: 35.4090 - mae: 4.4887 - mse: 35.4090 - val_loss: 3100.3423 - val_mae: 43.0715 - val_mse: 3100.3423\n",
            "Epoch 58/100\n",
            "53/53 [==============================] - 37s 698ms/step - loss: 29.9207 - mae: 4.2026 - mse: 29.9207 - val_loss: 2932.7183 - val_mae: 41.5470 - val_mse: 2932.7183\n",
            "Epoch 59/100\n",
            "53/53 [==============================] - 37s 702ms/step - loss: 32.0764 - mae: 4.2564 - mse: 32.0764 - val_loss: 2957.2915 - val_mae: 41.6602 - val_mse: 2957.2915\n",
            "Epoch 60/100\n",
            "53/53 [==============================] - 36s 688ms/step - loss: 37.2763 - mae: 4.6048 - mse: 37.2763 - val_loss: 2938.2991 - val_mae: 41.5493 - val_mse: 2938.2991\n",
            "Epoch 61/100\n",
            "53/53 [==============================] - 36s 684ms/step - loss: 29.0122 - mae: 4.1063 - mse: 29.0122 - val_loss: 3041.7427 - val_mae: 42.3962 - val_mse: 3041.7427\n",
            "Epoch 62/100\n",
            "53/53 [==============================] - 36s 688ms/step - loss: 27.1568 - mae: 3.9746 - mse: 27.1568 - val_loss: 3166.0669 - val_mae: 43.5481 - val_mse: 3166.0669\n",
            "Epoch 63/100\n",
            "53/53 [==============================] - 38s 710ms/step - loss: 27.5600 - mae: 4.0671 - mse: 27.5600 - val_loss: 3107.2795 - val_mae: 43.0569 - val_mse: 3107.2795\n",
            "Epoch 64/100\n",
            "53/53 [==============================] - 38s 709ms/step - loss: 29.9182 - mae: 4.0914 - mse: 29.9182 - val_loss: 3054.9851 - val_mae: 42.6639 - val_mse: 3054.9851\n",
            "Epoch 65/100\n",
            "53/53 [==============================] - 39s 730ms/step - loss: 21.1232 - mae: 3.5740 - mse: 21.1232 - val_loss: 3044.3743 - val_mae: 42.4637 - val_mse: 3044.3743\n",
            "Epoch 66/100\n",
            "53/53 [==============================] - 39s 741ms/step - loss: 19.9585 - mae: 3.4788 - mse: 19.9585 - val_loss: 3046.5198 - val_mae: 42.6395 - val_mse: 3046.5198\n",
            "Epoch 67/100\n",
            "53/53 [==============================] - 38s 720ms/step - loss: 18.9889 - mae: 3.3033 - mse: 18.9889 - val_loss: 3053.3840 - val_mae: 42.7258 - val_mse: 3053.3840\n",
            "Epoch 68/100\n",
            "53/53 [==============================] - 39s 733ms/step - loss: 21.8024 - mae: 3.6790 - mse: 21.8024 - val_loss: 2874.7312 - val_mae: 41.0374 - val_mse: 2874.7312\n",
            "Epoch 69/100\n",
            "53/53 [==============================] - 38s 725ms/step - loss: 25.9342 - mae: 3.8827 - mse: 25.9342 - val_loss: 2923.7910 - val_mae: 41.7645 - val_mse: 2923.7910\n",
            "Epoch 70/100\n",
            "53/53 [==============================] - 39s 734ms/step - loss: 27.2335 - mae: 3.8304 - mse: 27.2335 - val_loss: 3054.9849 - val_mae: 42.6759 - val_mse: 3054.9849\n",
            "Epoch 71/100\n",
            "53/53 [==============================] - 39s 739ms/step - loss: 31.8791 - mae: 4.3603 - mse: 31.8791 - val_loss: 2825.8513 - val_mae: 40.7197 - val_mse: 2825.8513\n",
            "Epoch 72/100\n",
            "53/53 [==============================] - 36s 680ms/step - loss: 20.3308 - mae: 3.4702 - mse: 20.3308 - val_loss: 3015.0581 - val_mae: 42.4741 - val_mse: 3015.0581\n",
            "Epoch 73/100\n",
            "53/53 [==============================] - 39s 729ms/step - loss: 17.8413 - mae: 3.1496 - mse: 17.8413 - val_loss: 2858.6941 - val_mae: 40.9473 - val_mse: 2858.6941\n",
            "Epoch 74/100\n",
            "53/53 [==============================] - 37s 691ms/step - loss: 15.4202 - mae: 3.0603 - mse: 15.4202 - val_loss: 3049.4341 - val_mae: 42.6520 - val_mse: 3049.4341\n",
            "Epoch 75/100\n",
            "53/53 [==============================] - 38s 728ms/step - loss: 14.2583 - mae: 2.9480 - mse: 14.2583 - val_loss: 2943.9429 - val_mae: 41.6522 - val_mse: 2943.9429\n",
            "Epoch 76/100\n",
            "53/53 [==============================] - 41s 773ms/step - loss: 16.6834 - mae: 3.2032 - mse: 16.6834 - val_loss: 3018.1431 - val_mae: 42.3545 - val_mse: 3018.1431\n",
            "Epoch 77/100\n",
            "53/53 [==============================] - 37s 702ms/step - loss: 17.2187 - mae: 3.2439 - mse: 17.2187 - val_loss: 2978.1626 - val_mae: 42.0321 - val_mse: 2978.1626\n",
            "Epoch 78/100\n",
            "53/53 [==============================] - 37s 696ms/step - loss: 15.5536 - mae: 3.1138 - mse: 15.5536 - val_loss: 2959.0247 - val_mae: 41.9656 - val_mse: 2959.0247\n",
            "Epoch 79/100\n",
            "53/53 [==============================] - 37s 691ms/step - loss: 15.1796 - mae: 3.0666 - mse: 15.1796 - val_loss: 2862.5435 - val_mae: 41.0594 - val_mse: 2862.5435\n",
            "Epoch 80/100\n",
            "53/53 [==============================] - 37s 694ms/step - loss: 15.0009 - mae: 3.0343 - mse: 15.0009 - val_loss: 2856.3958 - val_mae: 40.9918 - val_mse: 2856.3958\n",
            "Epoch 81/100\n",
            "53/53 [==============================] - 37s 700ms/step - loss: 14.7844 - mae: 3.0165 - mse: 14.7844 - val_loss: 2855.5605 - val_mae: 41.0285 - val_mse: 2855.5605\n",
            "Epoch 82/100\n",
            "53/53 [==============================] - 37s 691ms/step - loss: 13.5660 - mae: 2.8816 - mse: 13.5660 - val_loss: 2918.3108 - val_mae: 41.4855 - val_mse: 2918.3108\n",
            "Epoch 83/100\n",
            "53/53 [==============================] - 35s 670ms/step - loss: 17.5077 - mae: 3.3028 - mse: 17.5077 - val_loss: 2868.4170 - val_mae: 41.3042 - val_mse: 2868.4170\n",
            "Epoch 84/100\n",
            "53/53 [==============================] - 36s 679ms/step - loss: 21.8025 - mae: 3.6554 - mse: 21.8025 - val_loss: 2867.4028 - val_mae: 41.0749 - val_mse: 2867.4028\n",
            "Epoch 85/100\n",
            "53/53 [==============================] - 36s 673ms/step - loss: 16.5279 - mae: 3.2057 - mse: 16.5279 - val_loss: 2809.9934 - val_mae: 40.5550 - val_mse: 2809.9934\n",
            "Epoch 86/100\n",
            "53/53 [==============================] - 35s 668ms/step - loss: 13.2126 - mae: 2.8495 - mse: 13.2126 - val_loss: 2767.1311 - val_mae: 40.3072 - val_mse: 2767.1311\n",
            "Epoch 87/100\n",
            "53/53 [==============================] - 35s 666ms/step - loss: 16.2539 - mae: 3.1553 - mse: 16.2539 - val_loss: 2840.0330 - val_mae: 40.8107 - val_mse: 2840.0330\n",
            "Epoch 88/100\n",
            "53/53 [==============================] - 36s 672ms/step - loss: 13.9793 - mae: 2.9740 - mse: 13.9793 - val_loss: 2850.0842 - val_mae: 40.9059 - val_mse: 2850.0842\n",
            "Epoch 89/100\n",
            "53/53 [==============================] - 35s 665ms/step - loss: 13.2242 - mae: 2.8704 - mse: 13.2242 - val_loss: 2795.1052 - val_mae: 40.4798 - val_mse: 2795.1052\n",
            "Epoch 90/100\n",
            "53/53 [==============================] - 36s 678ms/step - loss: 15.4789 - mae: 3.0723 - mse: 15.4789 - val_loss: 2703.4004 - val_mae: 39.5761 - val_mse: 2703.4004\n",
            "Epoch 91/100\n",
            "53/53 [==============================] - 36s 684ms/step - loss: 15.5260 - mae: 3.0569 - mse: 15.5260 - val_loss: 2902.8044 - val_mae: 41.3215 - val_mse: 2902.8044\n",
            "Epoch 92/100\n",
            "53/53 [==============================] - 36s 677ms/step - loss: 12.3043 - mae: 2.7173 - mse: 12.3043 - val_loss: 2755.5874 - val_mae: 40.1154 - val_mse: 2755.5874\n",
            "Epoch 93/100\n",
            "53/53 [==============================] - 36s 679ms/step - loss: 10.9310 - mae: 2.5573 - mse: 10.9310 - val_loss: 2766.9058 - val_mae: 40.1925 - val_mse: 2766.9058\n",
            "Epoch 94/100\n",
            "53/53 [==============================] - 36s 678ms/step - loss: 12.2692 - mae: 2.7905 - mse: 12.2692 - val_loss: 2804.8674 - val_mae: 40.4612 - val_mse: 2804.8674\n",
            "Epoch 95/100\n",
            "53/53 [==============================] - 36s 680ms/step - loss: 14.3737 - mae: 2.9709 - mse: 14.3737 - val_loss: 2795.7957 - val_mae: 40.4704 - val_mse: 2795.7957\n",
            "Epoch 96/100\n",
            "53/53 [==============================] - 36s 674ms/step - loss: 16.7359 - mae: 3.2300 - mse: 16.7359 - val_loss: 2805.6804 - val_mae: 40.4670 - val_mse: 2805.6804\n",
            "Epoch 97/100\n",
            "53/53 [==============================] - 36s 676ms/step - loss: 19.0905 - mae: 3.2220 - mse: 19.0905 - val_loss: 2751.1926 - val_mae: 40.1250 - val_mse: 2751.1926\n",
            "Epoch 98/100\n",
            "53/53 [==============================] - 36s 690ms/step - loss: 13.8949 - mae: 2.7653 - mse: 13.8949 - val_loss: 2856.0095 - val_mae: 41.0255 - val_mse: 2856.0095\n",
            "Epoch 99/100\n",
            "53/53 [==============================] - 37s 691ms/step - loss: 9.7683 - mae: 2.3746 - mse: 9.7683 - val_loss: 2740.4043 - val_mae: 39.9816 - val_mse: 2740.4043\n",
            "Epoch 100/100\n",
            "53/53 [==============================] - 36s 682ms/step - loss: 7.9508 - mae: 2.1829 - mse: 7.9508 - val_loss: 2760.4526 - val_mae: 40.1528 - val_mse: 2760.4526\n"
          ]
        }
      ]
    },
    {
      "cell_type": "markdown",
      "source": [
        "Bi-directional GRU"
      ],
      "metadata": {
        "id": "8AVWuHEeDrUU"
      }
    },
    {
      "cell_type": "code",
      "source": [
        "i=Input(shape=(T,1))\n",
        "x=Bidirectional(GRU(200,return_sequences=True))(i)\n",
        "x=Bidirectional(GRU(200,return_sequences=True))(x)\n",
        "x=GlobalMaxPool1D()(x)\n",
        "x=Dense(100)(x)\n",
        "x=Dense(50)(x)\n",
        "x=Dense(1)(x)\n",
        "model_bi_gru=Model(i,x)\n",
        "model_bi_gru.summary()"
      ],
      "metadata": {
        "colab": {
          "base_uri": "https://localhost:8080/"
        },
        "id": "cUHtZz0A7t3k",
        "outputId": "492fae8c-1fcf-4c2f-a838-fbc5ab70ac19"
      },
      "execution_count": 105,
      "outputs": [
        {
          "output_type": "stream",
          "name": "stdout",
          "text": [
            "Model: \"model_7\"\n",
            "_________________________________________________________________\n",
            " Layer (type)                Output Shape              Param #   \n",
            "=================================================================\n",
            " input_8 (InputLayer)        [(None, 50, 1)]           0         \n",
            "                                                                 \n",
            " bidirectional_14 (Bidirecti  (None, 50, 400)          243600    \n",
            " onal)                                                           \n",
            "                                                                 \n",
            " bidirectional_15 (Bidirecti  (None, 50, 400)          722400    \n",
            " onal)                                                           \n",
            "                                                                 \n",
            " global_max_pooling1d_7 (Glo  (None, 400)              0         \n",
            " balMaxPooling1D)                                                \n",
            "                                                                 \n",
            " dense_21 (Dense)            (None, 100)               40100     \n",
            "                                                                 \n",
            " dense_22 (Dense)            (None, 50)                5050      \n",
            "                                                                 \n",
            " dense_23 (Dense)            (None, 1)                 51        \n",
            "                                                                 \n",
            "=================================================================\n",
            "Total params: 1,011,201\n",
            "Trainable params: 1,011,201\n",
            "Non-trainable params: 0\n",
            "_________________________________________________________________\n"
          ]
        }
      ]
    },
    {
      "cell_type": "code",
      "source": [
        "check_point_bi_gru=ModelCheckpoint('best_model.h5',monitor='val_loss',save_best_only=True)"
      ],
      "metadata": {
        "id": "31j89DK6DqGT"
      },
      "execution_count": 106,
      "outputs": []
    },
    {
      "cell_type": "code",
      "source": [
        "model_bi_gru.compile(loss='mse',\n",
        "              optimizer='adamax',\n",
        "              metrics=['mae','mse'])"
      ],
      "metadata": {
        "id": "e0_x1t5JDqJK"
      },
      "execution_count": 107,
      "outputs": []
    },
    {
      "cell_type": "code",
      "source": [
        "r=model_bi_gru.fit(\n",
        "    Xtrain,\n",
        "    Ytrain,\n",
        "    epochs=100,\n",
        "    validation_data=(Xtest,Ytest),\n",
        "    callbacks=[check_point_bi_gru]\n",
        ")"
      ],
      "metadata": {
        "colab": {
          "base_uri": "https://localhost:8080/"
        },
        "id": "fu63FFgDDqMS",
        "outputId": "ab815891-ed54-479e-b808-7859cd04eb60"
      },
      "execution_count": 108,
      "outputs": [
        {
          "output_type": "stream",
          "name": "stdout",
          "text": [
            "Epoch 1/100\n",
            "53/53 [==============================] - 38s 591ms/step - loss: 298.3365 - mae: 12.8965 - mse: 298.3365 - val_loss: 1642.0034 - val_mae: 27.9152 - val_mse: 1642.0034\n",
            "Epoch 2/100\n",
            "53/53 [==============================] - 30s 569ms/step - loss: 291.1785 - mae: 12.6971 - mse: 291.1785 - val_loss: 1635.6633 - val_mae: 27.8130 - val_mse: 1635.6633\n",
            "Epoch 3/100\n",
            "53/53 [==============================] - 30s 566ms/step - loss: 290.6810 - mae: 12.6885 - mse: 290.6810 - val_loss: 1635.6125 - val_mae: 27.8110 - val_mse: 1635.6125\n",
            "Epoch 4/100\n",
            "53/53 [==============================] - 30s 566ms/step - loss: 290.3729 - mae: 12.6658 - mse: 290.3729 - val_loss: 1638.0743 - val_mae: 27.8504 - val_mse: 1638.0743\n",
            "Epoch 5/100\n",
            "53/53 [==============================] - 30s 564ms/step - loss: 289.8809 - mae: 12.6434 - mse: 289.8809 - val_loss: 1633.1416 - val_mae: 27.7481 - val_mse: 1633.1416\n",
            "Epoch 6/100\n",
            "53/53 [==============================] - 30s 565ms/step - loss: 289.8475 - mae: 12.6606 - mse: 289.8475 - val_loss: 1633.0153 - val_mae: 27.7724 - val_mse: 1633.0153\n",
            "Epoch 7/100\n",
            "53/53 [==============================] - 30s 567ms/step - loss: 291.1384 - mae: 12.6636 - mse: 291.1384 - val_loss: 1632.6312 - val_mae: 27.7522 - val_mse: 1632.6312\n",
            "Epoch 8/100\n",
            "53/53 [==============================] - 30s 562ms/step - loss: 288.5110 - mae: 12.6263 - mse: 288.5110 - val_loss: 1630.5774 - val_mae: 27.7263 - val_mse: 1630.5774\n",
            "Epoch 9/100\n",
            "53/53 [==============================] - 30s 565ms/step - loss: 288.4805 - mae: 12.6882 - mse: 288.4805 - val_loss: 1629.6371 - val_mae: 27.7201 - val_mse: 1629.6371\n",
            "Epoch 10/100\n",
            "53/53 [==============================] - 29s 557ms/step - loss: 287.6015 - mae: 12.6405 - mse: 287.6015 - val_loss: 1630.7410 - val_mae: 27.7386 - val_mse: 1630.7410\n",
            "Epoch 11/100\n",
            "53/53 [==============================] - 30s 561ms/step - loss: 289.7672 - mae: 12.6817 - mse: 289.7672 - val_loss: 1628.8119 - val_mae: 27.7224 - val_mse: 1628.8119\n",
            "Epoch 12/100\n",
            "53/53 [==============================] - 30s 561ms/step - loss: 286.6675 - mae: 12.5969 - mse: 286.6675 - val_loss: 1628.5042 - val_mae: 27.7201 - val_mse: 1628.5042\n",
            "Epoch 13/100\n",
            "53/53 [==============================] - 30s 558ms/step - loss: 290.1939 - mae: 12.7050 - mse: 290.1939 - val_loss: 1627.5364 - val_mae: 27.7168 - val_mse: 1627.5364\n",
            "Epoch 14/100\n",
            "53/53 [==============================] - 29s 544ms/step - loss: 285.9333 - mae: 12.5953 - mse: 285.9333 - val_loss: 1627.4436 - val_mae: 27.7193 - val_mse: 1627.4436\n",
            "Epoch 15/100\n",
            "53/53 [==============================] - 29s 554ms/step - loss: 282.6938 - mae: 12.5171 - mse: 282.6938 - val_loss: 1625.6339 - val_mae: 27.6819 - val_mse: 1625.6339\n",
            "Epoch 16/100\n",
            "53/53 [==============================] - 30s 562ms/step - loss: 281.7810 - mae: 12.5642 - mse: 281.7810 - val_loss: 1628.2076 - val_mae: 27.7438 - val_mse: 1628.2076\n",
            "Epoch 17/100\n",
            "53/53 [==============================] - 30s 561ms/step - loss: 280.6422 - mae: 12.4279 - mse: 280.6422 - val_loss: 1622.8158 - val_mae: 27.6154 - val_mse: 1622.8158\n",
            "Epoch 18/100\n",
            "53/53 [==============================] - 30s 558ms/step - loss: 273.9250 - mae: 12.3651 - mse: 273.9250 - val_loss: 1624.6708 - val_mae: 27.5822 - val_mse: 1624.6708\n",
            "Epoch 19/100\n",
            "53/53 [==============================] - 30s 559ms/step - loss: 269.1512 - mae: 12.3486 - mse: 269.1512 - val_loss: 1630.0107 - val_mae: 27.6555 - val_mse: 1630.0107\n",
            "Epoch 20/100\n",
            "53/53 [==============================] - 29s 552ms/step - loss: 265.9700 - mae: 12.1928 - mse: 265.9700 - val_loss: 1636.4725 - val_mae: 27.7812 - val_mse: 1636.4725\n",
            "Epoch 21/100\n",
            "53/53 [==============================] - 29s 552ms/step - loss: 258.5689 - mae: 12.0804 - mse: 258.5689 - val_loss: 1654.7692 - val_mae: 27.8552 - val_mse: 1654.7692\n",
            "Epoch 22/100\n",
            "53/53 [==============================] - 29s 553ms/step - loss: 251.6361 - mae: 11.9041 - mse: 251.6361 - val_loss: 1652.6812 - val_mae: 28.1195 - val_mse: 1652.6812\n",
            "Epoch 23/100\n",
            "53/53 [==============================] - 30s 562ms/step - loss: 253.2686 - mae: 12.1169 - mse: 253.2686 - val_loss: 1668.0746 - val_mae: 28.1207 - val_mse: 1668.0746\n",
            "Epoch 24/100\n",
            "53/53 [==============================] - 30s 567ms/step - loss: 244.7106 - mae: 11.8663 - mse: 244.7106 - val_loss: 1665.9453 - val_mae: 28.1980 - val_mse: 1665.9453\n",
            "Epoch 25/100\n",
            "53/53 [==============================] - 30s 561ms/step - loss: 232.6042 - mae: 11.5699 - mse: 232.6042 - val_loss: 1705.9471 - val_mae: 28.5827 - val_mse: 1705.9471\n",
            "Epoch 26/100\n",
            "53/53 [==============================] - 29s 550ms/step - loss: 226.8533 - mae: 11.4906 - mse: 226.8533 - val_loss: 1707.3800 - val_mae: 28.8631 - val_mse: 1707.3800\n",
            "Epoch 27/100\n",
            "53/53 [==============================] - 30s 564ms/step - loss: 211.1117 - mae: 11.0893 - mse: 211.1117 - val_loss: 1749.5227 - val_mae: 29.1410 - val_mse: 1749.5227\n",
            "Epoch 28/100\n",
            "53/53 [==============================] - 29s 553ms/step - loss: 206.7329 - mae: 10.9922 - mse: 206.7329 - val_loss: 1797.9623 - val_mae: 30.1416 - val_mse: 1797.9623\n",
            "Epoch 29/100\n",
            "53/53 [==============================] - 29s 546ms/step - loss: 191.6557 - mae: 10.6346 - mse: 191.6557 - val_loss: 1804.6521 - val_mae: 30.0751 - val_mse: 1804.6521\n",
            "Epoch 30/100\n",
            "53/53 [==============================] - 29s 545ms/step - loss: 184.8509 - mae: 10.3927 - mse: 184.8509 - val_loss: 1866.0491 - val_mae: 30.8789 - val_mse: 1866.0491\n",
            "Epoch 31/100\n",
            "53/53 [==============================] - 30s 562ms/step - loss: 174.9657 - mae: 10.0940 - mse: 174.9657 - val_loss: 1902.2014 - val_mae: 30.9844 - val_mse: 1902.2014\n",
            "Epoch 32/100\n",
            "53/53 [==============================] - 30s 564ms/step - loss: 167.2213 - mae: 9.9887 - mse: 167.2213 - val_loss: 1974.7750 - val_mae: 32.2588 - val_mse: 1974.7750\n",
            "Epoch 33/100\n",
            "53/53 [==============================] - 30s 565ms/step - loss: 157.0033 - mae: 9.6488 - mse: 157.0033 - val_loss: 2008.9290 - val_mae: 32.2561 - val_mse: 2008.9290\n",
            "Epoch 34/100\n",
            "53/53 [==============================] - 30s 560ms/step - loss: 146.8778 - mae: 9.3089 - mse: 146.8778 - val_loss: 2012.1753 - val_mae: 32.2365 - val_mse: 2012.1753\n",
            "Epoch 35/100\n",
            "53/53 [==============================] - 29s 550ms/step - loss: 137.7157 - mae: 9.0395 - mse: 137.7157 - val_loss: 2074.5698 - val_mae: 33.0668 - val_mse: 2074.5698\n",
            "Epoch 36/100\n",
            "53/53 [==============================] - 29s 549ms/step - loss: 124.5558 - mae: 8.6626 - mse: 124.5558 - val_loss: 2117.3357 - val_mae: 33.6623 - val_mse: 2117.3357\n",
            "Epoch 37/100\n",
            "53/53 [==============================] - 29s 543ms/step - loss: 122.2456 - mae: 8.6117 - mse: 122.2456 - val_loss: 2199.4241 - val_mae: 34.6065 - val_mse: 2199.4241\n",
            "Epoch 38/100\n",
            "53/53 [==============================] - 29s 544ms/step - loss: 112.6653 - mae: 8.3570 - mse: 112.6653 - val_loss: 2176.1873 - val_mae: 33.8352 - val_mse: 2176.1873\n",
            "Epoch 39/100\n",
            "53/53 [==============================] - 29s 544ms/step - loss: 106.0070 - mae: 7.9534 - mse: 106.0070 - val_loss: 2241.1028 - val_mae: 34.7794 - val_mse: 2241.1028\n",
            "Epoch 40/100\n",
            "53/53 [==============================] - 29s 546ms/step - loss: 100.5478 - mae: 7.8255 - mse: 100.5478 - val_loss: 2307.0171 - val_mae: 35.8169 - val_mse: 2307.0171\n",
            "Epoch 41/100\n",
            "53/53 [==============================] - 29s 550ms/step - loss: 90.2499 - mae: 7.4353 - mse: 90.2499 - val_loss: 2372.5100 - val_mae: 36.3550 - val_mse: 2372.5100\n",
            "Epoch 42/100\n",
            "53/53 [==============================] - 29s 552ms/step - loss: 95.3323 - mae: 7.6707 - mse: 95.3323 - val_loss: 2269.9033 - val_mae: 35.2450 - val_mse: 2269.9033\n",
            "Epoch 43/100\n",
            "53/53 [==============================] - 29s 549ms/step - loss: 78.1849 - mae: 6.9478 - mse: 78.1849 - val_loss: 2366.6233 - val_mae: 36.2301 - val_mse: 2366.6233\n",
            "Epoch 44/100\n",
            "53/53 [==============================] - 30s 565ms/step - loss: 74.1884 - mae: 6.7204 - mse: 74.1884 - val_loss: 2390.4905 - val_mae: 36.6855 - val_mse: 2390.4905\n",
            "Epoch 45/100\n",
            "53/53 [==============================] - 30s 566ms/step - loss: 70.5827 - mae: 6.6445 - mse: 70.5827 - val_loss: 2452.9502 - val_mae: 36.7999 - val_mse: 2452.9502\n",
            "Epoch 46/100\n",
            "53/53 [==============================] - 30s 563ms/step - loss: 64.5914 - mae: 6.3138 - mse: 64.5914 - val_loss: 2554.8511 - val_mae: 38.0611 - val_mse: 2554.8511\n",
            "Epoch 47/100\n",
            "53/53 [==============================] - 30s 563ms/step - loss: 54.8958 - mae: 5.7568 - mse: 54.8958 - val_loss: 2529.5527 - val_mae: 37.6550 - val_mse: 2529.5527\n",
            "Epoch 48/100\n",
            "53/53 [==============================] - 30s 564ms/step - loss: 53.7682 - mae: 5.7348 - mse: 53.7682 - val_loss: 2485.9158 - val_mae: 37.1809 - val_mse: 2485.9158\n",
            "Epoch 49/100\n",
            "53/53 [==============================] - 30s 565ms/step - loss: 51.0034 - mae: 5.5650 - mse: 51.0034 - val_loss: 2468.4998 - val_mae: 36.9607 - val_mse: 2468.4998\n",
            "Epoch 50/100\n",
            "53/53 [==============================] - 30s 558ms/step - loss: 48.8744 - mae: 5.5184 - mse: 48.8744 - val_loss: 2528.0637 - val_mae: 37.7961 - val_mse: 2528.0637\n",
            "Epoch 51/100\n",
            "53/53 [==============================] - 30s 561ms/step - loss: 43.8339 - mae: 5.1937 - mse: 43.8339 - val_loss: 2589.6248 - val_mae: 38.4796 - val_mse: 2589.6248\n",
            "Epoch 52/100\n",
            "53/53 [==============================] - 30s 564ms/step - loss: 39.6251 - mae: 4.9621 - mse: 39.6251 - val_loss: 2525.2112 - val_mae: 37.8220 - val_mse: 2525.2112\n",
            "Epoch 53/100\n",
            "53/53 [==============================] - 30s 567ms/step - loss: 36.0311 - mae: 4.7636 - mse: 36.0311 - val_loss: 2578.3694 - val_mae: 38.1511 - val_mse: 2578.3694\n",
            "Epoch 54/100\n",
            "53/53 [==============================] - 30s 566ms/step - loss: 36.5037 - mae: 4.7366 - mse: 36.5037 - val_loss: 2551.1475 - val_mae: 38.0543 - val_mse: 2551.1475\n",
            "Epoch 55/100\n",
            "53/53 [==============================] - 30s 567ms/step - loss: 32.8537 - mae: 4.5394 - mse: 32.8537 - val_loss: 2642.7437 - val_mae: 38.6425 - val_mse: 2642.7437\n",
            "Epoch 56/100\n",
            "53/53 [==============================] - 30s 566ms/step - loss: 42.3259 - mae: 5.2027 - mse: 42.3259 - val_loss: 2470.5701 - val_mae: 37.2669 - val_mse: 2470.5701\n",
            "Epoch 57/100\n",
            "53/53 [==============================] - 30s 565ms/step - loss: 33.5950 - mae: 4.5594 - mse: 33.5950 - val_loss: 2593.5488 - val_mae: 38.5566 - val_mse: 2593.5488\n",
            "Epoch 58/100\n",
            "53/53 [==============================] - 30s 562ms/step - loss: 34.9853 - mae: 4.6845 - mse: 34.9853 - val_loss: 2541.3757 - val_mae: 37.8552 - val_mse: 2541.3757\n",
            "Epoch 59/100\n",
            "53/53 [==============================] - 29s 557ms/step - loss: 30.6739 - mae: 4.3827 - mse: 30.6739 - val_loss: 2577.4299 - val_mae: 38.5421 - val_mse: 2577.4299\n",
            "Epoch 60/100\n",
            "53/53 [==============================] - 30s 561ms/step - loss: 27.7654 - mae: 4.1708 - mse: 27.7654 - val_loss: 2528.5803 - val_mae: 37.5866 - val_mse: 2528.5803\n",
            "Epoch 61/100\n",
            "53/53 [==============================] - 30s 563ms/step - loss: 29.5221 - mae: 4.3114 - mse: 29.5221 - val_loss: 2569.6497 - val_mae: 38.2199 - val_mse: 2569.6497\n",
            "Epoch 62/100\n",
            "53/53 [==============================] - 30s 564ms/step - loss: 27.5548 - mae: 4.1715 - mse: 27.5548 - val_loss: 2564.3103 - val_mae: 38.3692 - val_mse: 2564.3103\n",
            "Epoch 63/100\n",
            "53/53 [==============================] - 30s 566ms/step - loss: 25.5335 - mae: 3.9927 - mse: 25.5335 - val_loss: 2624.2395 - val_mae: 38.7590 - val_mse: 2624.2395\n",
            "Epoch 64/100\n",
            "53/53 [==============================] - 30s 561ms/step - loss: 23.6499 - mae: 3.8199 - mse: 23.6499 - val_loss: 2539.6389 - val_mae: 37.9130 - val_mse: 2539.6389\n",
            "Epoch 65/100\n",
            "53/53 [==============================] - 30s 561ms/step - loss: 17.5796 - mae: 3.3135 - mse: 17.5796 - val_loss: 2578.7791 - val_mae: 38.5132 - val_mse: 2578.7791\n",
            "Epoch 66/100\n",
            "53/53 [==============================] - 30s 567ms/step - loss: 15.8287 - mae: 3.1478 - mse: 15.8287 - val_loss: 2617.6919 - val_mae: 38.5695 - val_mse: 2617.6919\n",
            "Epoch 67/100\n",
            "53/53 [==============================] - 30s 562ms/step - loss: 16.2122 - mae: 3.2010 - mse: 16.2122 - val_loss: 2595.4663 - val_mae: 38.6920 - val_mse: 2595.4663\n",
            "Epoch 68/100\n",
            "53/53 [==============================] - 30s 559ms/step - loss: 20.3683 - mae: 3.5929 - mse: 20.3683 - val_loss: 2621.0818 - val_mae: 38.7694 - val_mse: 2621.0818\n",
            "Epoch 69/100\n",
            "53/53 [==============================] - 30s 559ms/step - loss: 26.8546 - mae: 4.0893 - mse: 26.8546 - val_loss: 2504.9670 - val_mae: 37.6547 - val_mse: 2504.9670\n",
            "Epoch 70/100\n",
            "53/53 [==============================] - 30s 568ms/step - loss: 20.3875 - mae: 3.5325 - mse: 20.3875 - val_loss: 2539.1199 - val_mae: 38.0106 - val_mse: 2539.1199\n",
            "Epoch 71/100\n",
            "53/53 [==============================] - 30s 567ms/step - loss: 16.5934 - mae: 3.2203 - mse: 16.5934 - val_loss: 2505.4980 - val_mae: 37.5947 - val_mse: 2505.4980\n",
            "Epoch 72/100\n",
            "53/53 [==============================] - 30s 569ms/step - loss: 20.4862 - mae: 3.5854 - mse: 20.4862 - val_loss: 2445.2407 - val_mae: 37.1777 - val_mse: 2445.2407\n",
            "Epoch 73/100\n",
            "53/53 [==============================] - 30s 565ms/step - loss: 16.5177 - mae: 3.2250 - mse: 16.5177 - val_loss: 2528.9873 - val_mae: 37.8279 - val_mse: 2528.9873\n",
            "Epoch 74/100\n",
            "53/53 [==============================] - 30s 568ms/step - loss: 20.2584 - mae: 3.5904 - mse: 20.2584 - val_loss: 2482.3655 - val_mae: 37.4374 - val_mse: 2482.3655\n",
            "Epoch 75/100\n",
            "53/53 [==============================] - 30s 567ms/step - loss: 17.4254 - mae: 3.2944 - mse: 17.4254 - val_loss: 2530.7307 - val_mae: 37.9955 - val_mse: 2530.7307\n",
            "Epoch 76/100\n",
            "53/53 [==============================] - 30s 567ms/step - loss: 18.1528 - mae: 3.4027 - mse: 18.1528 - val_loss: 2446.5972 - val_mae: 37.0384 - val_mse: 2446.5972\n",
            "Epoch 77/100\n",
            "53/53 [==============================] - 30s 561ms/step - loss: 24.5899 - mae: 3.9514 - mse: 24.5899 - val_loss: 2546.2947 - val_mae: 38.1246 - val_mse: 2546.2947\n",
            "Epoch 78/100\n",
            "53/53 [==============================] - 30s 558ms/step - loss: 15.4341 - mae: 3.0597 - mse: 15.4341 - val_loss: 2511.6809 - val_mae: 37.6883 - val_mse: 2511.6809\n",
            "Epoch 79/100\n",
            "53/53 [==============================] - 30s 558ms/step - loss: 10.6095 - mae: 2.5737 - mse: 10.6095 - val_loss: 2475.4241 - val_mae: 37.3254 - val_mse: 2475.4241\n",
            "Epoch 80/100\n",
            "53/53 [==============================] - 30s 560ms/step - loss: 10.0042 - mae: 2.4870 - mse: 10.0042 - val_loss: 2483.5581 - val_mae: 37.3501 - val_mse: 2483.5581\n",
            "Epoch 81/100\n",
            "53/53 [==============================] - 30s 564ms/step - loss: 10.2008 - mae: 2.5349 - mse: 10.2008 - val_loss: 2540.7173 - val_mae: 38.1517 - val_mse: 2540.7173\n",
            "Epoch 82/100\n",
            "53/53 [==============================] - 30s 567ms/step - loss: 11.3896 - mae: 2.6705 - mse: 11.3896 - val_loss: 2460.5483 - val_mae: 37.3067 - val_mse: 2460.5483\n",
            "Epoch 83/100\n",
            "53/53 [==============================] - 30s 568ms/step - loss: 13.4031 - mae: 2.8519 - mse: 13.4031 - val_loss: 2489.4753 - val_mae: 37.4498 - val_mse: 2489.4753\n",
            "Epoch 84/100\n",
            "53/53 [==============================] - 30s 567ms/step - loss: 11.9636 - mae: 2.7168 - mse: 11.9636 - val_loss: 2498.4731 - val_mae: 37.6779 - val_mse: 2498.4731\n",
            "Epoch 85/100\n",
            "53/53 [==============================] - 30s 571ms/step - loss: 15.0339 - mae: 3.1001 - mse: 15.0339 - val_loss: 2439.1409 - val_mae: 37.1800 - val_mse: 2439.1409\n",
            "Epoch 86/100\n",
            "53/53 [==============================] - 30s 568ms/step - loss: 13.1461 - mae: 2.8248 - mse: 13.1461 - val_loss: 2461.0146 - val_mae: 37.2827 - val_mse: 2461.0146\n",
            "Epoch 87/100\n",
            "53/53 [==============================] - 30s 569ms/step - loss: 18.4969 - mae: 3.4028 - mse: 18.4969 - val_loss: 2428.7751 - val_mae: 37.2583 - val_mse: 2428.7751\n",
            "Epoch 88/100\n",
            "53/53 [==============================] - 30s 571ms/step - loss: 14.5540 - mae: 2.9983 - mse: 14.5540 - val_loss: 2465.6733 - val_mae: 37.3946 - val_mse: 2465.6733\n",
            "Epoch 89/100\n",
            "53/53 [==============================] - 30s 569ms/step - loss: 13.2156 - mae: 2.8702 - mse: 13.2156 - val_loss: 2456.8181 - val_mae: 37.1846 - val_mse: 2456.8181\n",
            "Epoch 90/100\n",
            "53/53 [==============================] - 30s 561ms/step - loss: 16.2812 - mae: 3.1968 - mse: 16.2812 - val_loss: 2411.7556 - val_mae: 36.8361 - val_mse: 2411.7556\n",
            "Epoch 91/100\n",
            "53/53 [==============================] - 30s 568ms/step - loss: 11.8895 - mae: 2.7165 - mse: 11.8895 - val_loss: 2434.7595 - val_mae: 36.9821 - val_mse: 2434.7595\n",
            "Epoch 92/100\n",
            "53/53 [==============================] - 30s 570ms/step - loss: 8.7712 - mae: 2.3205 - mse: 8.7712 - val_loss: 2422.5437 - val_mae: 36.9096 - val_mse: 2422.5437\n",
            "Epoch 93/100\n",
            "53/53 [==============================] - 30s 566ms/step - loss: 9.2006 - mae: 2.4018 - mse: 9.2006 - val_loss: 2425.7527 - val_mae: 36.8371 - val_mse: 2425.7527\n",
            "Epoch 94/100\n",
            "53/53 [==============================] - 30s 562ms/step - loss: 11.6472 - mae: 2.7392 - mse: 11.6472 - val_loss: 2476.8911 - val_mae: 37.5248 - val_mse: 2476.8911\n",
            "Epoch 95/100\n",
            "53/53 [==============================] - 30s 562ms/step - loss: 18.3222 - mae: 3.3406 - mse: 18.3222 - val_loss: 2395.6904 - val_mae: 36.7168 - val_mse: 2395.6904\n",
            "Epoch 96/100\n",
            "53/53 [==============================] - 30s 566ms/step - loss: 15.1792 - mae: 3.0792 - mse: 15.1792 - val_loss: 2422.6243 - val_mae: 36.7062 - val_mse: 2422.6243\n",
            "Epoch 97/100\n",
            "53/53 [==============================] - 30s 562ms/step - loss: 15.9574 - mae: 3.1500 - mse: 15.9574 - val_loss: 2344.3289 - val_mae: 36.1559 - val_mse: 2344.3289\n",
            "Epoch 98/100\n",
            "53/53 [==============================] - 30s 564ms/step - loss: 9.3597 - mae: 2.4002 - mse: 9.3597 - val_loss: 2447.3855 - val_mae: 37.2008 - val_mse: 2447.3855\n",
            "Epoch 99/100\n",
            "53/53 [==============================] - 30s 563ms/step - loss: 9.4283 - mae: 2.4213 - mse: 9.4283 - val_loss: 2416.8826 - val_mae: 36.8008 - val_mse: 2416.8826\n",
            "Epoch 100/100\n",
            "53/53 [==============================] - 30s 561ms/step - loss: 9.2746 - mae: 2.4246 - mse: 9.2746 - val_loss: 2401.6353 - val_mae: 36.6457 - val_mse: 2401.6353\n"
          ]
        }
      ]
    },
    {
      "cell_type": "markdown",
      "source": [
        "Predictions"
      ],
      "metadata": {
        "id": "uo4koH4XEkiv"
      }
    },
    {
      "cell_type": "code",
      "source": [
        "train_idx[:T+1]=False"
      ],
      "metadata": {
        "id": "-vEh0mmyDqPC"
      },
      "execution_count": 109,
      "outputs": []
    },
    {
      "cell_type": "code",
      "source": [
        "Ptrain_bi_lstm=model_bi_lstm.predict(Xtrain).flatten()\n",
        "Ptest_bi_lstm=model_bi_lstm.predict(Xtest).flatten()"
      ],
      "metadata": {
        "id": "OftAJjIQDqR5"
      },
      "execution_count": 110,
      "outputs": []
    },
    {
      "cell_type": "code",
      "source": [
        "Ptrain_bi_gru=model_bi_gru.predict(Xtrain).flatten()\n",
        "Ptest_bi_gru=model_bi_gru.predict(Xtest).flatten()"
      ],
      "metadata": {
        "id": "LPvgcdw4DqU9"
      },
      "execution_count": 111,
      "outputs": []
    },
    {
      "cell_type": "code",
      "source": [
        "df.loc[train_idx,'Diff Bi-LSTM train prediction']=Ptrain_bi_lstm\n",
        "df.loc[test_idx,'Diff bi-LSTM test prediction']=Ptest_bi_lstm"
      ],
      "metadata": {
        "id": "D1MjWqICDqX4"
      },
      "execution_count": 112,
      "outputs": []
    },
    {
      "cell_type": "code",
      "source": [
        "df.loc[train_idx,'Diff Bi-GRU train prediction']=Ptrain_bi_gru\n",
        "df.loc[test_idx,'Diff BiGRU test prediction']=Ptest_bi_gru"
      ],
      "metadata": {
        "id": "JGyHZQpeDqbP"
      },
      "execution_count": 113,
      "outputs": []
    },
    {
      "cell_type": "code",
      "source": [
        "df['Shift Prev Close']=df['Prev Close'].shift(1)\n",
        "prev=df['Shift Prev Close']"
      ],
      "metadata": {
        "id": "o41wY4YSDqdr"
      },
      "execution_count": 114,
      "outputs": []
    },
    {
      "cell_type": "code",
      "source": [
        "last_train=train.iloc[-1]['Prev Close']"
      ],
      "metadata": {
        "id": "ieSjZEI4Dqgo"
      },
      "execution_count": 115,
      "outputs": []
    },
    {
      "cell_type": "code",
      "source": [
        "df.loc[train_idx,'train_Bi_LSTM']=prev[train_idx]+Ptrain_bi_lstm\n",
        "df.loc[test_idx,'Prediction_Bi_LSTM']=prev[test_idx]+Ptest_bi_lstm"
      ],
      "metadata": {
        "id": "iXAmOWl-Dqjf"
      },
      "execution_count": 116,
      "outputs": []
    },
    {
      "cell_type": "code",
      "source": [
        "df.loc[train_idx,'train_Bi_GRU']=prev[train_idx]+Ptrain_bi_gru\n",
        "df.loc[test_idx,'Prediction_Bi_GRU']=prev[test_idx]+Ptest_bi_gru"
      ],
      "metadata": {
        "id": "zPuzleJlDqma"
      },
      "execution_count": 117,
      "outputs": []
    },
    {
      "cell_type": "code",
      "source": [
        "df[[ 'Prev Close','Prediction_Bi_LSTM','Prediction_Bi_GRU']].plot(figsize=(15,10));"
      ],
      "metadata": {
        "colab": {
          "base_uri": "https://localhost:8080/",
          "height": 416
        },
        "id": "lnfbHo3KDqpO",
        "outputId": "8f74a7c7-6143-45b6-e65e-4ec7137e61a6"
      },
      "execution_count": 118,
      "outputs": [
        {
          "output_type": "display_data",
          "data": {
            "text/plain": [
              "<Figure size 1080x720 with 1 Axes>"
            ],
            "image/png": "[encoded data removed]"
          },
          "metadata": {
            "needs_background": "light"
          }
        }
      ]
    },
    {
      "cell_type": "code",
      "source": [
        "df[[ 'Prediction_Bi_LSTM','Prediction_Bi_GRU']].plot(figsize=(15,10));"
      ],
      "metadata": {
        "colab": {
          "base_uri": "https://localhost:8080/",
          "height": 422
        },
        "id": "riQ3YykBDqsG",
        "outputId": "73c59134-fca2-4ecc-9a2b-2c4e27214b08"
      },
      "execution_count": 119,
      "outputs": [
        {
          "output_type": "display_data",
          "data": {
            "text/plain": [
              "<Figure size 1080x720 with 1 Axes>"
            ],
            "image/png": "[encoded data removed]"
          },
          "metadata": {
            "needs_background": "light"
          }
        }
      ]
    },
    {
      "cell_type": "markdown",
      "source": [
        "Evaluation"
      ],
      "metadata": {
        "id": "0o_3yUJvF-FW"
      }
    },
    {
      "cell_type": "code",
      "source": [
        "pred_bi_lstm=df['Prediction_Bi_LSTM']\n",
        "pred_bi_lstm.dropna(inplace=True)"
      ],
      "metadata": {
        "id": "vonBmF2b7t6q"
      },
      "execution_count": 120,
      "outputs": []
    },
    {
      "cell_type": "code",
      "source": [
        "rmse=math.sqrt(mean_squared_error(test['Prev Close'],pred_bi_lstm))\n",
        "print(rmse)"
      ],
      "metadata": {
        "colab": {
          "base_uri": "https://localhost:8080/"
        },
        "id": "sPUaq6UiGCRI",
        "outputId": "cfe70312-e08b-4bab-fe5c-c67b85c6068f"
      },
      "execution_count": 121,
      "outputs": [
        {
          "output_type": "stream",
          "name": "stdout",
          "text": [
            "52.540013038349784\n"
          ]
        }
      ]
    },
    {
      "cell_type": "code",
      "source": [
        "error=mean_absolute_error(test['Prev Close'],pred_bi_lstm)\n",
        "print(error)"
      ],
      "metadata": {
        "colab": {
          "base_uri": "https://localhost:8080/"
        },
        "id": "kQMcHGVCGCUL",
        "outputId": "7e6d817c-726c-4d9c-c410-911bf873f00a"
      },
      "execution_count": 122,
      "outputs": [
        {
          "output_type": "stream",
          "name": "stdout",
          "text": [
            "40.15275961386934\n"
          ]
        }
      ]
    },
    {
      "cell_type": "code",
      "source": [
        "r2_score(test['Prev Close'],pred_bi_lstm)"
      ],
      "metadata": {
        "colab": {
          "base_uri": "https://localhost:8080/"
        },
        "id": "lyLslWMAGCXT",
        "outputId": "01770bc0-4548-466a-8c8b-e5b7fbc50504"
      },
      "execution_count": 123,
      "outputs": [
        {
          "output_type": "execute_result",
          "data": {
            "text/plain": [
              "0.9422885840833205"
            ]
          },
          "metadata": {},
          "execution_count": 123
        }
      ]
    },
    {
      "cell_type": "code",
      "source": [
        "pred_bi_gru=df['Prediction_Bi_GRU']\n",
        "pred_bi_gru.dropna(inplace=True)"
      ],
      "metadata": {
        "id": "wa7wnr9TGC2J"
      },
      "execution_count": 124,
      "outputs": []
    },
    {
      "cell_type": "code",
      "source": [
        "rmse=math.sqrt(mean_squared_error(test['Prev Close'],pred_bi_gru))\n",
        "print(rmse)"
      ],
      "metadata": {
        "colab": {
          "base_uri": "https://localhost:8080/"
        },
        "id": "EkKg0wGaGC-e",
        "outputId": "057b0ace-5418-483e-e929-8e1b3b479e52"
      },
      "execution_count": 125,
      "outputs": [
        {
          "output_type": "stream",
          "name": "stdout",
          "text": [
            "49.00648248942955\n"
          ]
        }
      ]
    },
    {
      "cell_type": "code",
      "source": [
        "error=mean_absolute_error(test['Prev Close'],pred_bi_gru)\n",
        "print(error)"
      ],
      "metadata": {
        "colab": {
          "base_uri": "https://localhost:8080/"
        },
        "id": "BQL76rMvGDGT",
        "outputId": "959da9f7-4b9c-4d30-f60f-921f513a127f"
      },
      "execution_count": 126,
      "outputs": [
        {
          "output_type": "stream",
          "name": "stdout",
          "text": [
            "36.645700673341835\n"
          ]
        }
      ]
    },
    {
      "cell_type": "code",
      "source": [
        "r2_score(test['Prev Close'],pred_bi_gru)"
      ],
      "metadata": {
        "colab": {
          "base_uri": "https://localhost:8080/"
        },
        "id": "GMZqO2_yGDO_",
        "outputId": "ae87fa53-2296-40d9-c749-903f580560b2"
      },
      "execution_count": 127,
      "outputs": [
        {
          "output_type": "execute_result",
          "data": {
            "text/plain": [
              "0.9497902059259863"
            ]
          },
          "metadata": {},
          "execution_count": 127
        }
      ]
    },
    {
      "cell_type": "code",
      "source": [],
      "metadata": {
        "id": "PIN91mEuGizf"
      },
      "execution_count": 127,
      "outputs": []
    }
  ]
}