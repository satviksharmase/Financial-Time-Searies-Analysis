{
  "nbformat": 4,
  "nbformat_minor": 0,
  "metadata": {
    "colab": {
      "provenance": []
    },
    "kernelspec": {
      "name": "python3",
      "display_name": "Python 3"
    },
    "language_info": {
      "name": "python"
    }
  },
  "cells": [
    {
      "cell_type": "code",
      "execution_count": 421,
      "metadata": {
        "id": "rRzK__2FbGio"
      },
      "outputs": [],
      "source": [
        "import numpy as np\n",
        "import matplotlib.pyplot as plt\n",
        "import pandas as pd\n",
        "\n",
        "import tensorflow as tf\n",
        "from tensorflow.keras.layers import Dense, Input\n",
        "from tensorflow.keras.models import Model\n",
        "from tensorflow.keras.layers import LSTM\n",
        "from tensorflow.keras.layers import GRU\n",
        "from tensorflow.keras.layers import GlobalMaxPooling1D\n",
        "from tensorflow.keras.layers import Conv1D, MaxPooling1D\n",
        "from tensorflow.keras.callbacks import ModelCheckpoint\n",
        "\n",
        "import math\n",
        "\n",
        "from sklearn.metrics import r2_score\n",
        "from sklearn.metrics import mean_absolute_error\n",
        "from sklearn.metrics import mean_squared_error\n",
        "\n",
        "np.random.seed(123)\n",
        "tf.random.set_seed(123)"
      ]
    },
    {
      "cell_type": "code",
      "source": [
        "df=pd.read_csv('./HDFC.csv',index_col='Date',parse_dates=True)"
      ],
      "metadata": {
        "id": "AE6wbl9LcLFx"
      },
      "execution_count": 422,
      "outputs": []
    },
    {
      "cell_type": "markdown",
      "source": [
        "Data Pre processing\n"
      ],
      "metadata": {
        "id": "L8XudG86eRhq"
      }
    },
    {
      "cell_type": "code",
      "source": [
        "df"
      ],
      "metadata": {
        "colab": {
          "base_uri": "https://localhost:8080/",
          "height": 710
        },
        "id": "FUFxX_tUcmfi",
        "outputId": "414395c1-8076-4d7a-9dff-5922edfe164b"
      },
      "execution_count": 423,
      "outputs": [
        {
          "output_type": "execute_result",
          "data": {
            "text/plain": [
              "           Symbol Series  Prev Close     Open     High      Low     Last  \\\n",
              "Date                                                                       \n",
              "2000-01-03   HDFC     EQ      271.75   293.50   293.50   293.50   293.50   \n",
              "2000-01-04   HDFC     EQ      293.50   317.00   317.00   297.00   304.00   \n",
              "2000-01-05   HDFC     EQ      304.05   290.00   303.90   285.00   295.00   \n",
              "2000-01-06   HDFC     EQ      292.80   301.00   314.00   295.00   296.00   \n",
              "2000-01-07   HDFC     EQ      296.45   290.00   296.35   281.00   287.10   \n",
              "...           ...    ...         ...      ...      ...      ...      ...   \n",
              "2021-04-26   HDFC     EQ     2497.35  2500.00  2534.10  2483.20  2502.00   \n",
              "2021-04-27   HDFC     EQ     2509.80  2494.15  2526.80  2486.25  2514.00   \n",
              "2021-04-28   HDFC     EQ     2518.40  2516.10  2609.00  2508.30  2575.00   \n",
              "2021-04-29   HDFC     EQ     2577.00  2590.90  2628.00  2533.00  2539.70   \n",
              "2021-04-30   HDFC     EQ     2538.85  2503.10  2525.00  2411.10  2433.25   \n",
              "\n",
              "              Close     VWAP   Volume      Turnover    Trades  \\\n",
              "Date                                                            \n",
              "2000-01-03   293.50   293.50    22744  6.675364e+11       NaN   \n",
              "2000-01-04   304.05   303.62   255251  7.749972e+12       NaN   \n",
              "2000-01-05   292.80   294.53   269087  7.925368e+12       NaN   \n",
              "2000-01-06   296.45   300.14   305916  9.181669e+12       NaN   \n",
              "2000-01-07   286.55   288.80   197039  5.690480e+12       NaN   \n",
              "...             ...      ...      ...           ...       ...   \n",
              "2021-04-26  2509.80  2508.07  3916088  9.821805e+14  121028.0   \n",
              "2021-04-27  2518.40  2509.18  2040799  5.120730e+14  102250.0   \n",
              "2021-04-28  2577.00  2574.21  3407461  8.771527e+14  117425.0   \n",
              "2021-04-29  2538.85  2569.65  3005468  7.722995e+14  132826.0   \n",
              "2021-04-30  2420.10  2445.94  6024595  1.473581e+15  224454.0   \n",
              "\n",
              "            Deliverable Volume  %Deliverble  \n",
              "Date                                         \n",
              "2000-01-03                 NaN          NaN  \n",
              "2000-01-04                 NaN          NaN  \n",
              "2000-01-05                 NaN          NaN  \n",
              "2000-01-06                 NaN          NaN  \n",
              "2000-01-07                 NaN          NaN  \n",
              "...                        ...          ...  \n",
              "2021-04-26           2440395.0       0.6232  \n",
              "2021-04-27           1040749.0       0.5100  \n",
              "2021-04-28           1815110.0       0.5327  \n",
              "2021-04-29           1472924.0       0.4901  \n",
              "2021-04-30           3839105.0       0.6372  \n",
              "\n",
              "[5306 rows x 14 columns]"
            ],
            "text/html": [
              "\n",
              "  <div id=\"df-91ecab0e-31c6-4e56-8dd0-c69825e61909\">\n",
              "    <div class=\"colab-df-container\">\n",
              "      <div>\n",
              "<style scoped>\n",
              "    .dataframe tbody tr th:only-of-type {\n",
              "        vertical-align: middle;\n",
              "    }\n",
              "\n",
              "    .dataframe tbody tr th {\n",
              "        vertical-align: top;\n",
              "    }\n",
              "\n",
              "    .dataframe thead th {\n",
              "        text-align: right;\n",
              "    }\n",
              "</style>\n",
              "<table border=\"1\" class=\"dataframe\">\n",
              "  <thead>\n",
              "    <tr style=\"text-align: right;\">\n",
              "      <th></th>\n",
              "      <th>Symbol</th>\n",
              "      <th>Series</th>\n",
              "      <th>Prev Close</th>\n",
              "      <th>Open</th>\n",
              "      <th>High</th>\n",
              "      <th>Low</th>\n",
              "      <th>Last</th>\n",
              "      <th>Close</th>\n",
              "      <th>VWAP</th>\n",
              "      <th>Volume</th>\n",
              "      <th>Turnover</th>\n",
              "      <th>Trades</th>\n",
              "      <th>Deliverable Volume</th>\n",
              "      <th>%Deliverble</th>\n",
              "    </tr>\n",
              "    <tr>\n",
              "      <th>Date</th>\n",
              "      <th></th>\n",
              "      <th></th>\n",
              "      <th></th>\n",
              "      <th></th>\n",
              "      <th></th>\n",
              "      <th></th>\n",
              "      <th></th>\n",
              "      <th></th>\n",
              "      <th></th>\n",
              "      <th></th>\n",
              "      <th></th>\n",
              "      <th></th>\n",
              "      <th></th>\n",
              "      <th></th>\n",
              "    </tr>\n",
              "  </thead>\n",
              "  <tbody>\n",
              "    <tr>\n",
              "      <th>2000-01-03</th>\n",
              "      <td>HDFC</td>\n",
              "      <td>EQ</td>\n",
              "      <td>271.75</td>\n",
              "      <td>293.50</td>\n",
              "      <td>293.50</td>\n",
              "      <td>293.50</td>\n",
              "      <td>293.50</td>\n",
              "      <td>293.50</td>\n",
              "      <td>293.50</td>\n",
              "      <td>22744</td>\n",
              "      <td>6.675364e+11</td>\n",
              "      <td>NaN</td>\n",
              "      <td>NaN</td>\n",
              "      <td>NaN</td>\n",
              "    </tr>\n",
              "    <tr>\n",
              "      <th>2000-01-04</th>\n",
              "      <td>HDFC</td>\n",
              "      <td>EQ</td>\n",
              "      <td>293.50</td>\n",
              "      <td>317.00</td>\n",
              "      <td>317.00</td>\n",
              "      <td>297.00</td>\n",
              "      <td>304.00</td>\n",
              "      <td>304.05</td>\n",
              "      <td>303.62</td>\n",
              "      <td>255251</td>\n",
              "      <td>7.749972e+12</td>\n",
              "      <td>NaN</td>\n",
              "      <td>NaN</td>\n",
              "      <td>NaN</td>\n",
              "    </tr>\n",
              "    <tr>\n",
              "      <th>2000-01-05</th>\n",
              "      <td>HDFC</td>\n",
              "      <td>EQ</td>\n",
              "      <td>304.05</td>\n",
              "      <td>290.00</td>\n",
              "      <td>303.90</td>\n",
              "      <td>285.00</td>\n",
              "      <td>295.00</td>\n",
              "      <td>292.80</td>\n",
              "      <td>294.53</td>\n",
              "      <td>269087</td>\n",
              "      <td>7.925368e+12</td>\n",
              "      <td>NaN</td>\n",
              "      <td>NaN</td>\n",
              "      <td>NaN</td>\n",
              "    </tr>\n",
              "    <tr>\n",
              "      <th>2000-01-06</th>\n",
              "      <td>HDFC</td>\n",
              "      <td>EQ</td>\n",
              "      <td>292.80</td>\n",
              "      <td>301.00</td>\n",
              "      <td>314.00</td>\n",
              "      <td>295.00</td>\n",
              "      <td>296.00</td>\n",
              "      <td>296.45</td>\n",
              "      <td>300.14</td>\n",
              "      <td>305916</td>\n",
              "      <td>9.181669e+12</td>\n",
              "      <td>NaN</td>\n",
              "      <td>NaN</td>\n",
              "      <td>NaN</td>\n",
              "    </tr>\n",
              "    <tr>\n",
              "      <th>2000-01-07</th>\n",
              "      <td>HDFC</td>\n",
              "      <td>EQ</td>\n",
              "      <td>296.45</td>\n",
              "      <td>290.00</td>\n",
              "      <td>296.35</td>\n",
              "      <td>281.00</td>\n",
              "      <td>287.10</td>\n",
              "      <td>286.55</td>\n",
              "      <td>288.80</td>\n",
              "      <td>197039</td>\n",
              "      <td>5.690480e+12</td>\n",
              "      <td>NaN</td>\n",
              "      <td>NaN</td>\n",
              "      <td>NaN</td>\n",
              "    </tr>\n",
              "    <tr>\n",
              "      <th>...</th>\n",
              "      <td>...</td>\n",
              "      <td>...</td>\n",
              "      <td>...</td>\n",
              "      <td>...</td>\n",
              "      <td>...</td>\n",
              "      <td>...</td>\n",
              "      <td>...</td>\n",
              "      <td>...</td>\n",
              "      <td>...</td>\n",
              "      <td>...</td>\n",
              "      <td>...</td>\n",
              "      <td>...</td>\n",
              "      <td>...</td>\n",
              "      <td>...</td>\n",
              "    </tr>\n",
              "    <tr>\n",
              "      <th>2021-04-26</th>\n",
              "      <td>HDFC</td>\n",
              "      <td>EQ</td>\n",
              "      <td>2497.35</td>\n",
              "      <td>2500.00</td>\n",
              "      <td>2534.10</td>\n",
              "      <td>2483.20</td>\n",
              "      <td>2502.00</td>\n",
              "      <td>2509.80</td>\n",
              "      <td>2508.07</td>\n",
              "      <td>3916088</td>\n",
              "      <td>9.821805e+14</td>\n",
              "      <td>121028.0</td>\n",
              "      <td>2440395.0</td>\n",
              "      <td>0.6232</td>\n",
              "    </tr>\n",
              "    <tr>\n",
              "      <th>2021-04-27</th>\n",
              "      <td>HDFC</td>\n",
              "      <td>EQ</td>\n",
              "      <td>2509.80</td>\n",
              "      <td>2494.15</td>\n",
              "      <td>2526.80</td>\n",
              "      <td>2486.25</td>\n",
              "      <td>2514.00</td>\n",
              "      <td>2518.40</td>\n",
              "      <td>2509.18</td>\n",
              "      <td>2040799</td>\n",
              "      <td>5.120730e+14</td>\n",
              "      <td>102250.0</td>\n",
              "      <td>1040749.0</td>\n",
              "      <td>0.5100</td>\n",
              "    </tr>\n",
              "    <tr>\n",
              "      <th>2021-04-28</th>\n",
              "      <td>HDFC</td>\n",
              "      <td>EQ</td>\n",
              "      <td>2518.40</td>\n",
              "      <td>2516.10</td>\n",
              "      <td>2609.00</td>\n",
              "      <td>2508.30</td>\n",
              "      <td>2575.00</td>\n",
              "      <td>2577.00</td>\n",
              "      <td>2574.21</td>\n",
              "      <td>3407461</td>\n",
              "      <td>8.771527e+14</td>\n",
              "      <td>117425.0</td>\n",
              "      <td>1815110.0</td>\n",
              "      <td>0.5327</td>\n",
              "    </tr>\n",
              "    <tr>\n",
              "      <th>2021-04-29</th>\n",
              "      <td>HDFC</td>\n",
              "      <td>EQ</td>\n",
              "      <td>2577.00</td>\n",
              "      <td>2590.90</td>\n",
              "      <td>2628.00</td>\n",
              "      <td>2533.00</td>\n",
              "      <td>2539.70</td>\n",
              "      <td>2538.85</td>\n",
              "      <td>2569.65</td>\n",
              "      <td>3005468</td>\n",
              "      <td>7.722995e+14</td>\n",
              "      <td>132826.0</td>\n",
              "      <td>1472924.0</td>\n",
              "      <td>0.4901</td>\n",
              "    </tr>\n",
              "    <tr>\n",
              "      <th>2021-04-30</th>\n",
              "      <td>HDFC</td>\n",
              "      <td>EQ</td>\n",
              "      <td>2538.85</td>\n",
              "      <td>2503.10</td>\n",
              "      <td>2525.00</td>\n",
              "      <td>2411.10</td>\n",
              "      <td>2433.25</td>\n",
              "      <td>2420.10</td>\n",
              "      <td>2445.94</td>\n",
              "      <td>6024595</td>\n",
              "      <td>1.473581e+15</td>\n",
              "      <td>224454.0</td>\n",
              "      <td>3839105.0</td>\n",
              "      <td>0.6372</td>\n",
              "    </tr>\n",
              "  </tbody>\n",
              "</table>\n",
              "<p>5306 rows × 14 columns</p>\n",
              "</div>\n",
              "      <button class=\"colab-df-convert\" onclick=\"convertToInteractive('df-91ecab0e-31c6-4e56-8dd0-c69825e61909')\"\n",
              "              title=\"Convert this dataframe to an interactive table.\"\n",
              "              style=\"display:none;\">\n",
              "        \n",
              "  <svg xmlns=\"http://www.w3.org/2000/svg\" height=\"24px\"viewBox=\"0 0 24 24\"\n",
              "       width=\"24px\">\n",
              "    <path d=\"M0 0h24v24H0V0z\" fill=\"none\"/>\n",
              "    <path d=\"M18.56 5.44l.94 2.06.94-2.06 2.06-.94-2.06-.94-.94-2.06-.94 2.06-2.06.94zm-11 1L8.5 8.5l.94-2.06 2.06-.94-2.06-.94L8.5 2.5l-.94 2.06-2.06.94zm10 10l.94 2.06.94-2.06 2.06-.94-2.06-.94-.94-2.06-.94 2.06-2.06.94z\"/><path d=\"M17.41 7.96l-1.37-1.37c-.4-.4-.92-.59-1.43-.59-.52 0-1.04.2-1.43.59L10.3 9.45l-7.72 7.72c-.78.78-.78 2.05 0 2.83L4 21.41c.39.39.9.59 1.41.59.51 0 1.02-.2 1.41-.59l7.78-7.78 2.81-2.81c.8-.78.8-2.07 0-2.86zM5.41 20L4 18.59l7.72-7.72 1.47 1.35L5.41 20z\"/>\n",
              "  </svg>\n",
              "      </button>\n",
              "      \n",
              "  <style>\n",
              "    .colab-df-container {\n",
              "      display:flex;\n",
              "      flex-wrap:wrap;\n",
              "      gap: 12px;\n",
              "    }\n",
              "\n",
              "    .colab-df-convert {\n",
              "      background-color: #E8F0FE;\n",
              "      border: none;\n",
              "      border-radius: 50%;\n",
              "      cursor: pointer;\n",
              "      display: none;\n",
              "      fill: #1967D2;\n",
              "      height: 32px;\n",
              "      padding: 0 0 0 0;\n",
              "      width: 32px;\n",
              "    }\n",
              "\n",
              "    .colab-df-convert:hover {\n",
              "      background-color: #E2EBFA;\n",
              "      box-shadow: 0px 1px 2px rgba(60, 64, 67, 0.3), 0px 1px 3px 1px rgba(60, 64, 67, 0.15);\n",
              "      fill: #174EA6;\n",
              "    }\n",
              "\n",
              "    [theme=dark] .colab-df-convert {\n",
              "      background-color: #3B4455;\n",
              "      fill: #D2E3FC;\n",
              "    }\n",
              "\n",
              "    [theme=dark] .colab-df-convert:hover {\n",
              "      background-color: #434B5C;\n",
              "      box-shadow: 0px 1px 3px 1px rgba(0, 0, 0, 0.15);\n",
              "      filter: drop-shadow(0px 1px 2px rgba(0, 0, 0, 0.3));\n",
              "      fill: #FFFFFF;\n",
              "    }\n",
              "  </style>\n",
              "\n",
              "      <script>\n",
              "        const buttonEl =\n",
              "          document.querySelector('#df-91ecab0e-31c6-4e56-8dd0-c69825e61909 button.colab-df-convert');\n",
              "        buttonEl.style.display =\n",
              "          google.colab.kernel.accessAllowed ? 'block' : 'none';\n",
              "\n",
              "        async function convertToInteractive(key) {\n",
              "          const element = document.querySelector('#df-91ecab0e-31c6-4e56-8dd0-c69825e61909');\n",
              "          const dataTable =\n",
              "            await google.colab.kernel.invokeFunction('convertToInteractive',\n",
              "                                                     [key], {});\n",
              "          if (!dataTable) return;\n",
              "\n",
              "          const docLinkHtml = 'Like what you see? Visit the ' +\n",
              "            '<a target=\"_blank\" href=https://colab.research.google.com/notebooks/data_table.ipynb>data table notebook</a>'\n",
              "            + ' to learn more about interactive tables.';\n",
              "          element.innerHTML = '';\n",
              "          dataTable['output_type'] = 'display_data';\n",
              "          await google.colab.output.renderOutput(dataTable, element);\n",
              "          const docLink = document.createElement('div');\n",
              "          docLink.innerHTML = docLinkHtml;\n",
              "          element.appendChild(docLink);\n",
              "        }\n",
              "      </script>\n",
              "    </div>\n",
              "  </div>\n",
              "  "
            ]
          },
          "metadata": {},
          "execution_count": 423
        }
      ]
    },
    {
      "cell_type": "code",
      "source": [
        "df['Date']=df.index"
      ],
      "metadata": {
        "id": "E7X-jyItcm8U"
      },
      "execution_count": 424,
      "outputs": []
    },
    {
      "cell_type": "code",
      "source": [
        "start_date='2011-01-01'\n",
        "end_date='2020-12-31'\n",
        "mask=(df['Date']>=start_date)&(df['Date']<=end_date)"
      ],
      "metadata": {
        "id": "A9eSrJ1Dcot3"
      },
      "execution_count": 425,
      "outputs": []
    },
    {
      "cell_type": "code",
      "source": [
        "df=df.loc[mask]"
      ],
      "metadata": {
        "id": "_Pfuk7zicqIx"
      },
      "execution_count": 426,
      "outputs": []
    },
    {
      "cell_type": "code",
      "source": [
        "df=df.drop(columns=['Series','Symbol','Open','High','Low','Last','Close','VWAP','Volume','Turnover','Trades','Deliverable Volume','%Deliverble','Date'])"
      ],
      "metadata": {
        "id": "aV7QwBEDcvq2"
      },
      "execution_count": 428,
      "outputs": []
    },
    {
      "cell_type": "code",
      "source": [
        "Ntest=math.trunc(0.3*len(df))\n",
        "train=df.iloc[:-Ntest]\n",
        "test=df.iloc[-Ntest:]"
      ],
      "metadata": {
        "id": "cUuhMhL0c1qi"
      },
      "execution_count": 429,
      "outputs": []
    },
    {
      "cell_type": "code",
      "source": [
        "train_idx=df.index<=train.index[-1]\n",
        "test_idx=df.index>train.index[-1]"
      ],
      "metadata": {
        "id": "YFtIIrsqc3ch"
      },
      "execution_count": 430,
      "outputs": []
    },
    {
      "cell_type": "code",
      "source": [
        "df['Diff Prev Close']=df['Prev Close'].diff()"
      ],
      "metadata": {
        "id": "zh1z6dQDc6KA"
      },
      "execution_count": 431,
      "outputs": []
    },
    {
      "cell_type": "code",
      "source": [
        "series=df['Diff Prev Close'].dropna().to_numpy()\n",
        "\n",
        "T=50\n",
        "X=[]\n",
        "Y=[]\n",
        "for t in range(len(series)-T):\n",
        "  x=series[t:t+T]\n",
        "  X.append(x)\n",
        "  y=series[t+T]\n",
        "  Y.append(y)\n",
        "\n",
        "X=np.array(X).reshape(-1,T)\n",
        "Y=np.array(Y)\n",
        "N=len(X)\n",
        "print(\"X.shape\",X.shape,\"Y.shape\",Y.shape)"
      ],
      "metadata": {
        "colab": {
          "base_uri": "https://localhost:8080/"
        },
        "id": "GH9c1VIMdLvZ",
        "outputId": "4c4ae88d-6d10-4597-d919-7bb1c091778d"
      },
      "execution_count": 432,
      "outputs": [
        {
          "output_type": "stream",
          "name": "stdout",
          "text": [
            "X.shape (2427, 50) Y.shape (2427,)\n"
          ]
        }
      ]
    },
    {
      "cell_type": "code",
      "source": [
        "Xtrain,Ytrain=X[:-Ntest],Y[:-Ntest]\n",
        "Xtest,Ytest=X[-Ntest:],Y[-Ntest:]"
      ],
      "metadata": {
        "id": "AyyCdgD1dQeH"
      },
      "execution_count": 433,
      "outputs": []
    },
    {
      "cell_type": "markdown",
      "source": [
        "ANN"
      ],
      "metadata": {
        "id": "P4csTdPeeavE"
      }
    },
    {
      "cell_type": "code",
      "source": [
        "i=Input(shape=(T,))\n",
        "x=Dense(400,activation='relu')(i)\n",
        "x=Dense(100,activation='relu')(x)\n",
        "x=Dense(50,activation='relu')(x)\n",
        "x=Dense(1,activation='relu')(x)\n",
        "model_ann=Model(i,x)\n",
        "model_ann.summary()"
      ],
      "metadata": {
        "colab": {
          "base_uri": "https://localhost:8080/"
        },
        "id": "cEHrg-sQdSpS",
        "outputId": "b1301f3f-7818-4de0-f400-9b276230e11b"
      },
      "execution_count": 434,
      "outputs": [
        {
          "output_type": "stream",
          "name": "stdout",
          "text": [
            "Model: \"model_28\"\n",
            "_________________________________________________________________\n",
            " Layer (type)                Output Shape              Param #   \n",
            "=================================================================\n",
            " input_29 (InputLayer)       [(None, 50)]              0         \n",
            "                                                                 \n",
            " dense_77 (Dense)            (None, 400)               20400     \n",
            "                                                                 \n",
            " dense_78 (Dense)            (None, 100)               40100     \n",
            "                                                                 \n",
            " dense_79 (Dense)            (None, 50)                5050      \n",
            "                                                                 \n",
            " dense_80 (Dense)            (None, 1)                 51        \n",
            "                                                                 \n",
            "=================================================================\n",
            "Total params: 65,601\n",
            "Trainable params: 65,601\n",
            "Non-trainable params: 0\n",
            "_________________________________________________________________\n"
          ]
        }
      ]
    },
    {
      "cell_type": "code",
      "source": [
        "model_ann.compile(\n",
        "    loss='mse',\n",
        "    optimizer='adamax',\n",
        "    metrics='mae'\n",
        ")"
      ],
      "metadata": {
        "id": "GSjK1FukdUVe"
      },
      "execution_count": 435,
      "outputs": []
    },
    {
      "cell_type": "code",
      "source": [
        "r=model_ann.fit(\n",
        "    Xtrain,\n",
        "    Ytrain,\n",
        "    epochs=100,\n",
        "    validation_data=(Xtest,Ytest)\n",
        ")"
      ],
      "metadata": {
        "colab": {
          "base_uri": "https://localhost:8080/"
        },
        "id": "bp97xaLkdXKe",
        "outputId": "d9cebe77-6da9-406e-e0a3-8c1f81892507"
      },
      "execution_count": 436,
      "outputs": [
        {
          "output_type": "stream",
          "name": "stdout",
          "text": [
            "Epoch 1/100\n",
            "53/53 [==============================] - 1s 5ms/step - loss: 291.3974 - mae: 12.6785 - val_loss: 1637.2264 - val_mae: 27.8528\n",
            "Epoch 2/100\n",
            "53/53 [==============================] - 0s 2ms/step - loss: 290.3817 - mae: 12.6360 - val_loss: 1637.4379 - val_mae: 27.8645\n",
            "Epoch 3/100\n",
            "53/53 [==============================] - 0s 2ms/step - loss: 290.1626 - mae: 12.6271 - val_loss: 1637.3064 - val_mae: 27.8584\n",
            "Epoch 4/100\n",
            "53/53 [==============================] - 0s 3ms/step - loss: 289.9619 - mae: 12.6143 - val_loss: 1637.5886 - val_mae: 27.8696\n",
            "Epoch 5/100\n",
            "53/53 [==============================] - 0s 2ms/step - loss: 289.7853 - mae: 12.6092 - val_loss: 1636.9218 - val_mae: 27.8697\n",
            "Epoch 6/100\n",
            "53/53 [==============================] - 0s 2ms/step - loss: 289.6311 - mae: 12.5942 - val_loss: 1637.2828 - val_mae: 27.8571\n",
            "Epoch 7/100\n",
            "53/53 [==============================] - 0s 2ms/step - loss: 289.1445 - mae: 12.5873 - val_loss: 1636.6923 - val_mae: 27.8601\n",
            "Epoch 8/100\n",
            "53/53 [==============================] - 0s 2ms/step - loss: 288.6765 - mae: 12.5598 - val_loss: 1637.0502 - val_mae: 27.8727\n",
            "Epoch 9/100\n",
            "53/53 [==============================] - 0s 3ms/step - loss: 287.9616 - mae: 12.5420 - val_loss: 1637.1713 - val_mae: 27.8694\n",
            "Epoch 10/100\n",
            "53/53 [==============================] - 0s 4ms/step - loss: 287.1048 - mae: 12.5024 - val_loss: 1639.1511 - val_mae: 27.8851\n",
            "Epoch 11/100\n",
            "53/53 [==============================] - 0s 2ms/step - loss: 286.3301 - mae: 12.4707 - val_loss: 1641.6812 - val_mae: 27.9333\n",
            "Epoch 12/100\n",
            "53/53 [==============================] - 0s 2ms/step - loss: 285.7101 - mae: 12.4712 - val_loss: 1638.3319 - val_mae: 27.8729\n",
            "Epoch 13/100\n",
            "53/53 [==============================] - 0s 2ms/step - loss: 283.1300 - mae: 12.4176 - val_loss: 1642.7466 - val_mae: 27.9168\n",
            "Epoch 14/100\n",
            "53/53 [==============================] - 0s 2ms/step - loss: 281.7242 - mae: 12.3786 - val_loss: 1643.1440 - val_mae: 27.8948\n",
            "Epoch 15/100\n",
            "53/53 [==============================] - 0s 2ms/step - loss: 279.3423 - mae: 12.3236 - val_loss: 1646.4849 - val_mae: 27.8756\n",
            "Epoch 16/100\n",
            "53/53 [==============================] - 0s 3ms/step - loss: 278.4281 - mae: 12.3150 - val_loss: 1646.6807 - val_mae: 27.8726\n",
            "Epoch 17/100\n",
            "53/53 [==============================] - 0s 3ms/step - loss: 277.1612 - mae: 12.2683 - val_loss: 1647.4292 - val_mae: 27.8390\n",
            "Epoch 18/100\n",
            "53/53 [==============================] - 0s 3ms/step - loss: 276.1408 - mae: 12.2374 - val_loss: 1649.0386 - val_mae: 27.8434\n",
            "Epoch 19/100\n",
            "53/53 [==============================] - 0s 3ms/step - loss: 275.1792 - mae: 12.2035 - val_loss: 1648.7069 - val_mae: 27.8478\n",
            "Epoch 20/100\n",
            "53/53 [==============================] - 0s 3ms/step - loss: 273.6530 - mae: 12.1506 - val_loss: 1650.9413 - val_mae: 27.7986\n",
            "Epoch 21/100\n",
            "53/53 [==============================] - 0s 2ms/step - loss: 272.5149 - mae: 12.1261 - val_loss: 1654.3202 - val_mae: 27.8552\n",
            "Epoch 22/100\n",
            "53/53 [==============================] - 0s 2ms/step - loss: 271.4682 - mae: 12.0809 - val_loss: 1654.3314 - val_mae: 27.8535\n",
            "Epoch 23/100\n",
            "53/53 [==============================] - 0s 2ms/step - loss: 270.4715 - mae: 12.0436 - val_loss: 1657.9216 - val_mae: 27.8685\n",
            "Epoch 24/100\n",
            "53/53 [==============================] - 0s 3ms/step - loss: 269.5446 - mae: 11.9851 - val_loss: 1677.1947 - val_mae: 27.9659\n",
            "Epoch 25/100\n",
            "53/53 [==============================] - 0s 2ms/step - loss: 269.0386 - mae: 11.9484 - val_loss: 1661.5518 - val_mae: 27.9251\n",
            "Epoch 26/100\n",
            "53/53 [==============================] - 0s 3ms/step - loss: 268.5843 - mae: 11.9139 - val_loss: 1680.1362 - val_mae: 28.0550\n",
            "Epoch 27/100\n",
            "53/53 [==============================] - 0s 2ms/step - loss: 267.8678 - mae: 11.8681 - val_loss: 1682.2012 - val_mae: 28.0995\n",
            "Epoch 28/100\n",
            "53/53 [==============================] - 0s 2ms/step - loss: 267.1569 - mae: 11.8492 - val_loss: 1685.0503 - val_mae: 28.1201\n",
            "Epoch 29/100\n",
            "53/53 [==============================] - 0s 2ms/step - loss: 266.8078 - mae: 11.8275 - val_loss: 1672.2784 - val_mae: 28.0546\n",
            "Epoch 30/100\n",
            "53/53 [==============================] - 0s 2ms/step - loss: 266.3427 - mae: 11.7783 - val_loss: 1699.0956 - val_mae: 28.2254\n",
            "Epoch 31/100\n",
            "53/53 [==============================] - 0s 2ms/step - loss: 266.1295 - mae: 11.7622 - val_loss: 1683.5427 - val_mae: 28.1581\n",
            "Epoch 32/100\n",
            "53/53 [==============================] - 0s 3ms/step - loss: 265.8011 - mae: 11.7307 - val_loss: 1679.2661 - val_mae: 28.1347\n",
            "Epoch 33/100\n",
            "53/53 [==============================] - 0s 2ms/step - loss: 265.5991 - mae: 11.7153 - val_loss: 1685.8257 - val_mae: 28.1936\n",
            "Epoch 34/100\n",
            "53/53 [==============================] - 0s 2ms/step - loss: 265.5509 - mae: 11.7070 - val_loss: 1679.4075 - val_mae: 28.1361\n",
            "Epoch 35/100\n",
            "53/53 [==============================] - 0s 3ms/step - loss: 265.3726 - mae: 11.7045 - val_loss: 1689.2394 - val_mae: 28.2611\n",
            "Epoch 36/100\n",
            "53/53 [==============================] - 0s 2ms/step - loss: 264.7062 - mae: 11.7104 - val_loss: 1690.7114 - val_mae: 28.2253\n",
            "Epoch 37/100\n",
            "53/53 [==============================] - 0s 2ms/step - loss: 263.8344 - mae: 11.6547 - val_loss: 1689.4216 - val_mae: 28.2584\n",
            "Epoch 38/100\n",
            "53/53 [==============================] - 0s 2ms/step - loss: 263.6360 - mae: 11.6285 - val_loss: 1687.7755 - val_mae: 28.2560\n",
            "Epoch 39/100\n",
            "53/53 [==============================] - 0s 2ms/step - loss: 263.2577 - mae: 11.6165 - val_loss: 1691.7776 - val_mae: 28.2889\n",
            "Epoch 40/100\n",
            "53/53 [==============================] - 0s 2ms/step - loss: 262.9329 - mae: 11.5870 - val_loss: 1686.6042 - val_mae: 28.2543\n",
            "Epoch 41/100\n",
            "53/53 [==============================] - 0s 2ms/step - loss: 262.8046 - mae: 11.5712 - val_loss: 1691.2478 - val_mae: 28.3019\n",
            "Epoch 42/100\n",
            "53/53 [==============================] - 0s 3ms/step - loss: 262.7221 - mae: 11.5704 - val_loss: 1698.6696 - val_mae: 28.3745\n",
            "Epoch 43/100\n",
            "53/53 [==============================] - 0s 2ms/step - loss: 262.5994 - mae: 11.5510 - val_loss: 1686.6809 - val_mae: 28.2758\n",
            "Epoch 44/100\n",
            "53/53 [==============================] - 0s 2ms/step - loss: 262.7014 - mae: 11.5595 - val_loss: 1671.5742 - val_mae: 28.2215\n",
            "Epoch 45/100\n",
            "53/53 [==============================] - 0s 2ms/step - loss: 261.8476 - mae: 11.5677 - val_loss: 1697.1583 - val_mae: 28.5414\n",
            "Epoch 46/100\n",
            "53/53 [==============================] - 0s 2ms/step - loss: 261.9454 - mae: 11.5751 - val_loss: 1674.3159 - val_mae: 28.2706\n",
            "Epoch 47/100\n",
            "53/53 [==============================] - 0s 2ms/step - loss: 261.4517 - mae: 11.5294 - val_loss: 1684.2175 - val_mae: 28.3761\n",
            "Epoch 48/100\n",
            "53/53 [==============================] - 0s 2ms/step - loss: 260.9606 - mae: 11.4692 - val_loss: 1681.1774 - val_mae: 28.3717\n",
            "Epoch 49/100\n",
            "53/53 [==============================] - 0s 2ms/step - loss: 260.8462 - mae: 11.4553 - val_loss: 1681.8665 - val_mae: 28.3550\n",
            "Epoch 50/100\n",
            "53/53 [==============================] - 0s 2ms/step - loss: 260.7589 - mae: 11.4330 - val_loss: 1681.9805 - val_mae: 28.3857\n",
            "Epoch 51/100\n",
            "53/53 [==============================] - 0s 2ms/step - loss: 260.7342 - mae: 11.4311 - val_loss: 1675.2843 - val_mae: 28.3458\n",
            "Epoch 52/100\n",
            "53/53 [==============================] - 0s 2ms/step - loss: 260.5819 - mae: 11.4204 - val_loss: 1676.2330 - val_mae: 28.3179\n",
            "Epoch 53/100\n",
            "53/53 [==============================] - 0s 2ms/step - loss: 260.4600 - mae: 11.4077 - val_loss: 1678.4631 - val_mae: 28.3473\n",
            "Epoch 54/100\n",
            "53/53 [==============================] - 0s 2ms/step - loss: 260.4284 - mae: 11.4129 - val_loss: 1665.5635 - val_mae: 28.2715\n",
            "Epoch 55/100\n",
            "53/53 [==============================] - 0s 2ms/step - loss: 260.3210 - mae: 11.4151 - val_loss: 1676.1776 - val_mae: 28.3531\n",
            "Epoch 56/100\n",
            "53/53 [==============================] - 0s 2ms/step - loss: 260.2185 - mae: 11.4049 - val_loss: 1682.1462 - val_mae: 28.4557\n",
            "Epoch 57/100\n",
            "53/53 [==============================] - 0s 3ms/step - loss: 260.1143 - mae: 11.4320 - val_loss: 1668.3718 - val_mae: 28.2947\n",
            "Epoch 58/100\n",
            "53/53 [==============================] - 0s 2ms/step - loss: 259.7101 - mae: 11.3951 - val_loss: 1668.1775 - val_mae: 28.3355\n",
            "Epoch 59/100\n",
            "53/53 [==============================] - 0s 2ms/step - loss: 259.6267 - mae: 11.3618 - val_loss: 1670.3933 - val_mae: 28.3394\n",
            "Epoch 60/100\n",
            "53/53 [==============================] - 0s 2ms/step - loss: 259.6140 - mae: 11.3583 - val_loss: 1670.9222 - val_mae: 28.2781\n",
            "Epoch 61/100\n",
            "53/53 [==============================] - 0s 2ms/step - loss: 259.6101 - mae: 11.3568 - val_loss: 1673.3577 - val_mae: 28.3499\n",
            "Epoch 62/100\n",
            "53/53 [==============================] - 0s 2ms/step - loss: 259.5833 - mae: 11.3423 - val_loss: 1669.2455 - val_mae: 28.2755\n",
            "Epoch 63/100\n",
            "53/53 [==============================] - 0s 2ms/step - loss: 259.5774 - mae: 11.3383 - val_loss: 1667.3506 - val_mae: 28.2659\n",
            "Epoch 64/100\n",
            "53/53 [==============================] - 0s 2ms/step - loss: 259.5770 - mae: 11.3390 - val_loss: 1669.7114 - val_mae: 28.3072\n",
            "Epoch 65/100\n",
            "53/53 [==============================] - 0s 2ms/step - loss: 259.5826 - mae: 11.3402 - val_loss: 1668.3550 - val_mae: 28.2702\n",
            "Epoch 66/100\n",
            "53/53 [==============================] - 0s 2ms/step - loss: 259.6125 - mae: 11.3512 - val_loss: 1673.6824 - val_mae: 28.3366\n",
            "Epoch 67/100\n",
            "53/53 [==============================] - 0s 2ms/step - loss: 259.6222 - mae: 11.3467 - val_loss: 1664.9677 - val_mae: 28.2444\n",
            "Epoch 68/100\n",
            "53/53 [==============================] - 0s 2ms/step - loss: 259.6245 - mae: 11.3572 - val_loss: 1672.4296 - val_mae: 28.3282\n",
            "Epoch 69/100\n",
            "53/53 [==============================] - 0s 2ms/step - loss: 259.7313 - mae: 11.3908 - val_loss: 1664.5150 - val_mae: 28.2287\n",
            "Epoch 70/100\n",
            "53/53 [==============================] - 0s 2ms/step - loss: 259.8923 - mae: 11.4285 - val_loss: 1675.4635 - val_mae: 28.2939\n",
            "Epoch 71/100\n",
            "53/53 [==============================] - 0s 2ms/step - loss: 259.9824 - mae: 11.4473 - val_loss: 1663.8875 - val_mae: 28.1912\n",
            "Epoch 72/100\n",
            "53/53 [==============================] - 0s 2ms/step - loss: 259.4454 - mae: 11.4286 - val_loss: 1676.1790 - val_mae: 28.2744\n",
            "Epoch 73/100\n",
            "53/53 [==============================] - 0s 2ms/step - loss: 259.0635 - mae: 11.4051 - val_loss: 1677.8004 - val_mae: 28.3584\n",
            "Epoch 74/100\n",
            "53/53 [==============================] - 0s 2ms/step - loss: 258.5359 - mae: 11.3402 - val_loss: 1686.1366 - val_mae: 28.4148\n",
            "Epoch 75/100\n",
            "53/53 [==============================] - 0s 2ms/step - loss: 258.3465 - mae: 11.2984 - val_loss: 1682.0026 - val_mae: 28.3786\n",
            "Epoch 76/100\n",
            "53/53 [==============================] - 0s 2ms/step - loss: 258.2635 - mae: 11.2788 - val_loss: 1684.1949 - val_mae: 28.3981\n",
            "Epoch 77/100\n",
            "53/53 [==============================] - 0s 2ms/step - loss: 258.2231 - mae: 11.2674 - val_loss: 1681.6641 - val_mae: 28.3749\n",
            "Epoch 78/100\n",
            "53/53 [==============================] - 0s 2ms/step - loss: 258.1947 - mae: 11.2592 - val_loss: 1679.1171 - val_mae: 28.3600\n",
            "Epoch 79/100\n",
            "53/53 [==============================] - 0s 2ms/step - loss: 258.1781 - mae: 11.2481 - val_loss: 1681.7332 - val_mae: 28.3770\n",
            "Epoch 80/100\n",
            "53/53 [==============================] - 0s 2ms/step - loss: 258.1685 - mae: 11.2458 - val_loss: 1679.9556 - val_mae: 28.3655\n",
            "Epoch 81/100\n",
            "53/53 [==============================] - 0s 3ms/step - loss: 258.1645 - mae: 11.2451 - val_loss: 1678.0818 - val_mae: 28.3514\n",
            "Epoch 82/100\n",
            "53/53 [==============================] - 0s 3ms/step - loss: 258.1695 - mae: 11.2497 - val_loss: 1681.6963 - val_mae: 28.3772\n",
            "Epoch 83/100\n",
            "53/53 [==============================] - 0s 2ms/step - loss: 258.2419 - mae: 11.2777 - val_loss: 1687.0348 - val_mae: 28.4487\n",
            "Epoch 84/100\n",
            "53/53 [==============================] - 0s 3ms/step - loss: 257.9184 - mae: 11.2898 - val_loss: 1683.7036 - val_mae: 28.4051\n",
            "Epoch 85/100\n",
            "53/53 [==============================] - 0s 2ms/step - loss: 257.8508 - mae: 11.3017 - val_loss: 1686.4261 - val_mae: 28.3526\n",
            "Epoch 86/100\n",
            "53/53 [==============================] - 0s 2ms/step - loss: 257.6423 - mae: 11.3007 - val_loss: 1692.9468 - val_mae: 28.4525\n",
            "Epoch 87/100\n",
            "53/53 [==============================] - 0s 2ms/step - loss: 257.4504 - mae: 11.2814 - val_loss: 1687.6459 - val_mae: 28.4246\n",
            "Epoch 88/100\n",
            "53/53 [==============================] - 0s 2ms/step - loss: 257.4268 - mae: 11.2770 - val_loss: 1700.2650 - val_mae: 28.5042\n",
            "Epoch 89/100\n",
            "53/53 [==============================] - 0s 2ms/step - loss: 257.3923 - mae: 11.2775 - val_loss: 1689.8405 - val_mae: 28.4098\n",
            "Epoch 90/100\n",
            "53/53 [==============================] - 0s 2ms/step - loss: 257.2077 - mae: 11.2596 - val_loss: 1684.5710 - val_mae: 28.4011\n",
            "Epoch 91/100\n",
            "53/53 [==============================] - 0s 2ms/step - loss: 257.1211 - mae: 11.2491 - val_loss: 1694.9896 - val_mae: 28.4546\n",
            "Epoch 92/100\n",
            "53/53 [==============================] - 0s 2ms/step - loss: 257.1537 - mae: 11.2675 - val_loss: 1690.1031 - val_mae: 28.3980\n",
            "Epoch 93/100\n",
            "53/53 [==============================] - 0s 2ms/step - loss: 257.1126 - mae: 11.2565 - val_loss: 1697.9287 - val_mae: 28.4795\n",
            "Epoch 94/100\n",
            "53/53 [==============================] - 0s 2ms/step - loss: 257.1651 - mae: 11.2700 - val_loss: 1693.9447 - val_mae: 28.3789\n",
            "Epoch 95/100\n",
            "53/53 [==============================] - 0s 2ms/step - loss: 257.2284 - mae: 11.3046 - val_loss: 1691.6941 - val_mae: 28.4746\n",
            "Epoch 96/100\n",
            "53/53 [==============================] - 0s 3ms/step - loss: 256.6160 - mae: 11.2626 - val_loss: 1681.4717 - val_mae: 28.3365\n",
            "Epoch 97/100\n",
            "53/53 [==============================] - 0s 2ms/step - loss: 256.3766 - mae: 11.2293 - val_loss: 1680.3634 - val_mae: 28.3058\n",
            "Epoch 98/100\n",
            "53/53 [==============================] - 0s 2ms/step - loss: 256.1664 - mae: 11.2036 - val_loss: 1683.2617 - val_mae: 28.3376\n",
            "Epoch 99/100\n",
            "53/53 [==============================] - 0s 2ms/step - loss: 256.0982 - mae: 11.1785 - val_loss: 1683.7233 - val_mae: 28.3513\n",
            "Epoch 100/100\n",
            "53/53 [==============================] - 0s 2ms/step - loss: 256.0769 - mae: 11.1648 - val_loss: 1681.3967 - val_mae: 28.3250\n"
          ]
        }
      ]
    },
    {
      "cell_type": "markdown",
      "source": [
        "CNN"
      ],
      "metadata": {
        "id": "Uekkb3dMfVs7"
      }
    },
    {
      "cell_type": "code",
      "source": [
        "i=Input(shape=(T,1))\n",
        "x=Conv1D(25,3,activation='relu')(i)\n",
        "x=MaxPooling1D(2)(x)\n",
        "x=Conv1D(50,3,activation='relu')(x)\n",
        "x=GlobalMaxPooling1D()(x)\n",
        "x=Dense(1)(x)\n",
        "model_cnn=Model(i,x)\n",
        "model_cnn.summary()"
      ],
      "metadata": {
        "colab": {
          "base_uri": "https://localhost:8080/"
        },
        "id": "Lboz32TXfjLR",
        "outputId": "3bf2d47f-ad74-4d0d-f819-f4ff52f2e0d0"
      },
      "execution_count": 437,
      "outputs": [
        {
          "output_type": "stream",
          "name": "stdout",
          "text": [
            "Model: \"model_29\"\n",
            "_________________________________________________________________\n",
            " Layer (type)                Output Shape              Param #   \n",
            "=================================================================\n",
            " input_30 (InputLayer)       [(None, 50, 1)]           0         \n",
            "                                                                 \n",
            " conv1d_14 (Conv1D)          (None, 48, 25)            100       \n",
            "                                                                 \n",
            " max_pooling1d_7 (MaxPooling  (None, 24, 25)           0         \n",
            " 1D)                                                             \n",
            "                                                                 \n",
            " conv1d_15 (Conv1D)          (None, 22, 50)            3800      \n",
            "                                                                 \n",
            " global_max_pooling1d_21 (Gl  (None, 50)               0         \n",
            " obalMaxPooling1D)                                               \n",
            "                                                                 \n",
            " dense_81 (Dense)            (None, 1)                 51        \n",
            "                                                                 \n",
            "=================================================================\n",
            "Total params: 3,951\n",
            "Trainable params: 3,951\n",
            "Non-trainable params: 0\n",
            "_________________________________________________________________\n"
          ]
        }
      ]
    },
    {
      "cell_type": "code",
      "source": [
        "model_cnn.compile(loss='mse',\n",
        "              optimizer='adamax',\n",
        "              metrics=['mae','mse'])"
      ],
      "metadata": {
        "id": "5OpT5ORafjVT"
      },
      "execution_count": 438,
      "outputs": []
    },
    {
      "cell_type": "code",
      "source": [
        "r=model_cnn.fit(\n",
        "    Xtrain,\n",
        "    Ytrain,\n",
        "    epochs=100,\n",
        "    validation_data=(Xtest,Ytest)\n",
        ")"
      ],
      "metadata": {
        "colab": {
          "base_uri": "https://localhost:8080/"
        },
        "id": "mZ9Q3O2vfjf2",
        "outputId": "2aadbab1-63a9-4977-b825-9653cbcdd542"
      },
      "execution_count": 439,
      "outputs": [
        {
          "output_type": "stream",
          "name": "stdout",
          "text": [
            "Epoch 1/100\n",
            "53/53 [==============================] - 1s 7ms/step - loss: 305.7083 - mae: 13.0534 - mse: 305.7083 - val_loss: 1699.4352 - val_mae: 28.5293 - val_mse: 1699.4352\n",
            "Epoch 2/100\n",
            "53/53 [==============================] - 0s 5ms/step - loss: 294.4205 - mae: 12.7856 - mse: 294.4205 - val_loss: 1663.0085 - val_mae: 28.1358 - val_mse: 1663.0085\n",
            "Epoch 3/100\n",
            "53/53 [==============================] - 0s 4ms/step - loss: 291.7899 - mae: 12.7154 - mse: 291.7899 - val_loss: 1663.8185 - val_mae: 28.1362 - val_mse: 1663.8185\n",
            "Epoch 4/100\n",
            "53/53 [==============================] - 0s 5ms/step - loss: 290.3795 - mae: 12.6659 - mse: 290.3795 - val_loss: 1661.8240 - val_mae: 28.1166 - val_mse: 1661.8240\n",
            "Epoch 5/100\n",
            "53/53 [==============================] - 0s 4ms/step - loss: 288.1201 - mae: 12.6193 - mse: 288.1201 - val_loss: 1690.7742 - val_mae: 28.2848 - val_mse: 1690.7742\n",
            "Epoch 6/100\n",
            "53/53 [==============================] - 0s 4ms/step - loss: 287.9232 - mae: 12.6319 - mse: 287.9232 - val_loss: 1658.9542 - val_mae: 28.0337 - val_mse: 1658.9542\n",
            "Epoch 7/100\n",
            "53/53 [==============================] - 0s 3ms/step - loss: 289.1501 - mae: 12.6266 - mse: 289.1501 - val_loss: 1666.3759 - val_mae: 28.0667 - val_mse: 1666.3759\n",
            "Epoch 8/100\n",
            "53/53 [==============================] - 0s 4ms/step - loss: 285.0269 - mae: 12.5543 - mse: 285.0269 - val_loss: 1672.0304 - val_mae: 28.1232 - val_mse: 1672.0304\n",
            "Epoch 9/100\n",
            "53/53 [==============================] - 0s 4ms/step - loss: 285.4710 - mae: 12.6108 - mse: 285.4710 - val_loss: 1669.9041 - val_mae: 28.1051 - val_mse: 1669.9041\n",
            "Epoch 10/100\n",
            "53/53 [==============================] - 0s 5ms/step - loss: 283.6111 - mae: 12.5654 - mse: 283.6111 - val_loss: 1652.4302 - val_mae: 28.0040 - val_mse: 1652.4302\n",
            "Epoch 11/100\n",
            "53/53 [==============================] - 0s 4ms/step - loss: 286.2015 - mae: 12.5918 - mse: 286.2015 - val_loss: 1683.3696 - val_mae: 28.2296 - val_mse: 1683.3696\n",
            "Epoch 12/100\n",
            "53/53 [==============================] - 0s 4ms/step - loss: 282.4798 - mae: 12.5252 - mse: 282.4798 - val_loss: 1653.4919 - val_mae: 28.0019 - val_mse: 1653.4919\n",
            "Epoch 13/100\n",
            "53/53 [==============================] - 0s 4ms/step - loss: 286.3543 - mae: 12.6078 - mse: 286.3543 - val_loss: 1658.0352 - val_mae: 28.0447 - val_mse: 1658.0352\n",
            "Epoch 14/100\n",
            "53/53 [==============================] - 0s 5ms/step - loss: 281.8684 - mae: 12.5061 - mse: 281.8684 - val_loss: 1653.9457 - val_mae: 28.0210 - val_mse: 1653.9457\n",
            "Epoch 15/100\n",
            "53/53 [==============================] - 0s 5ms/step - loss: 280.6388 - mae: 12.4803 - mse: 280.6388 - val_loss: 1659.6566 - val_mae: 28.0730 - val_mse: 1659.6566\n",
            "Epoch 16/100\n",
            "53/53 [==============================] - 0s 4ms/step - loss: 280.3792 - mae: 12.4911 - mse: 280.3792 - val_loss: 1651.1167 - val_mae: 28.0394 - val_mse: 1651.1167\n",
            "Epoch 17/100\n",
            "53/53 [==============================] - 0s 4ms/step - loss: 281.1564 - mae: 12.4630 - mse: 281.1564 - val_loss: 1654.5258 - val_mae: 28.0511 - val_mse: 1654.5258\n",
            "Epoch 18/100\n",
            "53/53 [==============================] - 0s 4ms/step - loss: 279.3523 - mae: 12.4568 - mse: 279.3523 - val_loss: 1667.0364 - val_mae: 28.1362 - val_mse: 1667.0364\n",
            "Epoch 19/100\n",
            "53/53 [==============================] - 0s 4ms/step - loss: 279.6261 - mae: 12.4889 - mse: 279.6261 - val_loss: 1738.6460 - val_mae: 28.6974 - val_mse: 1738.6460\n",
            "Epoch 20/100\n",
            "53/53 [==============================] - 0s 4ms/step - loss: 280.6330 - mae: 12.5042 - mse: 280.6330 - val_loss: 1657.5637 - val_mae: 28.0869 - val_mse: 1657.5637\n",
            "Epoch 21/100\n",
            "53/53 [==============================] - 0s 3ms/step - loss: 277.3860 - mae: 12.4362 - mse: 277.3860 - val_loss: 1669.0005 - val_mae: 28.1630 - val_mse: 1669.0005\n",
            "Epoch 22/100\n",
            "53/53 [==============================] - 0s 4ms/step - loss: 276.3494 - mae: 12.4398 - mse: 276.3494 - val_loss: 1650.6610 - val_mae: 28.1142 - val_mse: 1650.6610\n",
            "Epoch 23/100\n",
            "53/53 [==============================] - 0s 4ms/step - loss: 277.3954 - mae: 12.4458 - mse: 277.3954 - val_loss: 1649.6741 - val_mae: 28.0785 - val_mse: 1649.6741\n",
            "Epoch 24/100\n",
            "53/53 [==============================] - 0s 5ms/step - loss: 276.7180 - mae: 12.4273 - mse: 276.7180 - val_loss: 1673.2808 - val_mae: 28.2006 - val_mse: 1673.2808\n",
            "Epoch 25/100\n",
            "53/53 [==============================] - 0s 4ms/step - loss: 276.5891 - mae: 12.4000 - mse: 276.5891 - val_loss: 1685.2407 - val_mae: 28.2825 - val_mse: 1685.2407\n",
            "Epoch 26/100\n",
            "53/53 [==============================] - 0s 5ms/step - loss: 276.7682 - mae: 12.4286 - mse: 276.7682 - val_loss: 1653.2059 - val_mae: 28.1319 - val_mse: 1653.2059\n",
            "Epoch 27/100\n",
            "53/53 [==============================] - 0s 4ms/step - loss: 274.8204 - mae: 12.3968 - mse: 274.8204 - val_loss: 1651.2029 - val_mae: 28.1508 - val_mse: 1651.2029\n",
            "Epoch 28/100\n",
            "53/53 [==============================] - 0s 5ms/step - loss: 274.9229 - mae: 12.3798 - mse: 274.9229 - val_loss: 1670.1681 - val_mae: 28.2171 - val_mse: 1670.1681\n",
            "Epoch 29/100\n",
            "53/53 [==============================] - 0s 3ms/step - loss: 274.4831 - mae: 12.3839 - mse: 274.4831 - val_loss: 1670.7861 - val_mae: 28.2182 - val_mse: 1670.7861\n",
            "Epoch 30/100\n",
            "53/53 [==============================] - 0s 4ms/step - loss: 273.9352 - mae: 12.4062 - mse: 273.9352 - val_loss: 1666.1287 - val_mae: 28.2197 - val_mse: 1666.1287\n",
            "Epoch 31/100\n",
            "53/53 [==============================] - 0s 4ms/step - loss: 273.5826 - mae: 12.3749 - mse: 273.5826 - val_loss: 1659.8895 - val_mae: 28.1993 - val_mse: 1659.8895\n",
            "Epoch 32/100\n",
            "53/53 [==============================] - 0s 4ms/step - loss: 273.7699 - mae: 12.3756 - mse: 273.7699 - val_loss: 1660.3809 - val_mae: 28.2178 - val_mse: 1660.3809\n",
            "Epoch 33/100\n",
            "53/53 [==============================] - 0s 4ms/step - loss: 274.6997 - mae: 12.3643 - mse: 274.6997 - val_loss: 1686.9563 - val_mae: 28.3452 - val_mse: 1686.9563\n",
            "Epoch 34/100\n",
            "53/53 [==============================] - 0s 4ms/step - loss: 274.1300 - mae: 12.3942 - mse: 274.1300 - val_loss: 1662.3719 - val_mae: 28.2423 - val_mse: 1662.3719\n",
            "Epoch 35/100\n",
            "53/53 [==============================] - 0s 4ms/step - loss: 272.2605 - mae: 12.3471 - mse: 272.2605 - val_loss: 1686.3678 - val_mae: 28.3356 - val_mse: 1686.3678\n",
            "Epoch 36/100\n",
            "53/53 [==============================] - 0s 4ms/step - loss: 271.5378 - mae: 12.3232 - mse: 271.5378 - val_loss: 1670.6458 - val_mae: 28.2758 - val_mse: 1670.6458\n",
            "Epoch 37/100\n",
            "53/53 [==============================] - 0s 4ms/step - loss: 271.6294 - mae: 12.3410 - mse: 271.6294 - val_loss: 1694.5940 - val_mae: 28.4002 - val_mse: 1694.5940\n",
            "Epoch 38/100\n",
            "53/53 [==============================] - 0s 5ms/step - loss: 271.7775 - mae: 12.3467 - mse: 271.7775 - val_loss: 1668.4066 - val_mae: 28.3100 - val_mse: 1668.4066\n",
            "Epoch 39/100\n",
            "53/53 [==============================] - 0s 5ms/step - loss: 270.7624 - mae: 12.2960 - mse: 270.7624 - val_loss: 1707.6405 - val_mae: 28.4880 - val_mse: 1707.6405\n",
            "Epoch 40/100\n",
            "53/53 [==============================] - 0s 4ms/step - loss: 270.7574 - mae: 12.3043 - mse: 270.7574 - val_loss: 1755.6906 - val_mae: 28.8782 - val_mse: 1755.6906\n",
            "Epoch 41/100\n",
            "53/53 [==============================] - 0s 4ms/step - loss: 270.4342 - mae: 12.3098 - mse: 270.4342 - val_loss: 1711.1754 - val_mae: 28.5157 - val_mse: 1711.1754\n",
            "Epoch 42/100\n",
            "53/53 [==============================] - 0s 4ms/step - loss: 270.6203 - mae: 12.3290 - mse: 270.6203 - val_loss: 1718.9333 - val_mae: 28.5956 - val_mse: 1718.9333\n",
            "Epoch 43/100\n",
            "53/53 [==============================] - 0s 4ms/step - loss: 268.6744 - mae: 12.2845 - mse: 268.6744 - val_loss: 1665.8057 - val_mae: 28.3879 - val_mse: 1665.8057\n",
            "Epoch 44/100\n",
            "53/53 [==============================] - 0s 4ms/step - loss: 269.1813 - mae: 12.2577 - mse: 269.1813 - val_loss: 1785.2238 - val_mae: 29.0928 - val_mse: 1785.2238\n",
            "Epoch 45/100\n",
            "53/53 [==============================] - 0s 4ms/step - loss: 269.9844 - mae: 12.3078 - mse: 269.9844 - val_loss: 1701.7081 - val_mae: 28.4924 - val_mse: 1701.7081\n",
            "Epoch 46/100\n",
            "53/53 [==============================] - 0s 5ms/step - loss: 269.3527 - mae: 12.3022 - mse: 269.3527 - val_loss: 1682.3251 - val_mae: 28.4436 - val_mse: 1682.3251\n",
            "Epoch 47/100\n",
            "53/53 [==============================] - 0s 5ms/step - loss: 268.2261 - mae: 12.2528 - mse: 268.2262 - val_loss: 1679.5125 - val_mae: 28.4480 - val_mse: 1679.5125\n",
            "Epoch 48/100\n",
            "53/53 [==============================] - 0s 4ms/step - loss: 268.0899 - mae: 12.2490 - mse: 268.0899 - val_loss: 1677.7246 - val_mae: 28.4433 - val_mse: 1677.7246\n",
            "Epoch 49/100\n",
            "53/53 [==============================] - 0s 4ms/step - loss: 266.7125 - mae: 12.2301 - mse: 266.7125 - val_loss: 1709.8038 - val_mae: 28.5762 - val_mse: 1709.8038\n",
            "Epoch 50/100\n",
            "53/53 [==============================] - 0s 4ms/step - loss: 266.9567 - mae: 12.2317 - mse: 266.9567 - val_loss: 1706.2695 - val_mae: 28.5655 - val_mse: 1706.2695\n",
            "Epoch 51/100\n",
            "53/53 [==============================] - 0s 4ms/step - loss: 267.2476 - mae: 12.2453 - mse: 267.2476 - val_loss: 1739.0649 - val_mae: 28.7793 - val_mse: 1739.0649\n",
            "Epoch 52/100\n",
            "53/53 [==============================] - 0s 5ms/step - loss: 268.2454 - mae: 12.2973 - mse: 268.2454 - val_loss: 1735.6329 - val_mae: 28.7842 - val_mse: 1735.6329\n",
            "Epoch 53/100\n",
            "53/53 [==============================] - 0s 4ms/step - loss: 267.5577 - mae: 12.2591 - mse: 267.5577 - val_loss: 1755.3348 - val_mae: 28.9156 - val_mse: 1755.3348\n",
            "Epoch 54/100\n",
            "53/53 [==============================] - 0s 4ms/step - loss: 266.0323 - mae: 12.2215 - mse: 266.0323 - val_loss: 1730.5774 - val_mae: 28.7422 - val_mse: 1730.5774\n",
            "Epoch 55/100\n",
            "53/53 [==============================] - 0s 4ms/step - loss: 266.2837 - mae: 12.2189 - mse: 266.2837 - val_loss: 1716.1263 - val_mae: 28.6686 - val_mse: 1716.1263\n",
            "Epoch 56/100\n",
            "53/53 [==============================] - 0s 4ms/step - loss: 266.2226 - mae: 12.2058 - mse: 266.2226 - val_loss: 1705.3210 - val_mae: 28.6327 - val_mse: 1705.3210\n",
            "Epoch 57/100\n",
            "53/53 [==============================] - 0s 4ms/step - loss: 264.0876 - mae: 12.2156 - mse: 264.0876 - val_loss: 1765.4773 - val_mae: 29.0260 - val_mse: 1765.4773\n",
            "Epoch 58/100\n",
            "53/53 [==============================] - 0s 4ms/step - loss: 264.2841 - mae: 12.2079 - mse: 264.2841 - val_loss: 1732.4928 - val_mae: 28.7980 - val_mse: 1732.4928\n",
            "Epoch 59/100\n",
            "53/53 [==============================] - 0s 4ms/step - loss: 265.3544 - mae: 12.2404 - mse: 265.3544 - val_loss: 1792.1053 - val_mae: 29.2122 - val_mse: 1792.1053\n",
            "Epoch 60/100\n",
            "53/53 [==============================] - 0s 4ms/step - loss: 263.1284 - mae: 12.1577 - mse: 263.1284 - val_loss: 1777.9581 - val_mae: 29.1124 - val_mse: 1777.9581\n",
            "Epoch 61/100\n",
            "53/53 [==============================] - 0s 5ms/step - loss: 263.0235 - mae: 12.1925 - mse: 263.0235 - val_loss: 1720.4688 - val_mae: 28.7780 - val_mse: 1720.4688\n",
            "Epoch 62/100\n",
            "53/53 [==============================] - 0s 5ms/step - loss: 265.5853 - mae: 12.2192 - mse: 265.5853 - val_loss: 1767.4171 - val_mae: 29.0541 - val_mse: 1767.4171\n",
            "Epoch 63/100\n",
            "53/53 [==============================] - 0s 5ms/step - loss: 265.8712 - mae: 12.2310 - mse: 265.8712 - val_loss: 1748.2749 - val_mae: 28.9327 - val_mse: 1748.2749\n",
            "Epoch 64/100\n",
            "53/53 [==============================] - 0s 4ms/step - loss: 262.1069 - mae: 12.1522 - mse: 262.1069 - val_loss: 1753.1414 - val_mae: 28.9697 - val_mse: 1753.1414\n",
            "Epoch 65/100\n",
            "53/53 [==============================] - 0s 4ms/step - loss: 261.2151 - mae: 12.1213 - mse: 261.2151 - val_loss: 1715.8967 - val_mae: 28.8008 - val_mse: 1715.8967\n",
            "Epoch 66/100\n",
            "53/53 [==============================] - 0s 4ms/step - loss: 261.0091 - mae: 12.1095 - mse: 261.0091 - val_loss: 1895.5431 - val_mae: 29.9460 - val_mse: 1895.5431\n",
            "Epoch 67/100\n",
            "53/53 [==============================] - 0s 4ms/step - loss: 263.3365 - mae: 12.2134 - mse: 263.3365 - val_loss: 1780.5316 - val_mae: 29.1725 - val_mse: 1780.5316\n",
            "Epoch 68/100\n",
            "53/53 [==============================] - 0s 4ms/step - loss: 260.5128 - mae: 12.1216 - mse: 260.5128 - val_loss: 1783.5708 - val_mae: 29.2006 - val_mse: 1783.5708\n",
            "Epoch 69/100\n",
            "53/53 [==============================] - 0s 4ms/step - loss: 261.0207 - mae: 12.1512 - mse: 261.0207 - val_loss: 1815.8651 - val_mae: 29.4057 - val_mse: 1815.8651\n",
            "Epoch 70/100\n",
            "53/53 [==============================] - 0s 3ms/step - loss: 261.3106 - mae: 12.1563 - mse: 261.3106 - val_loss: 1782.4598 - val_mae: 29.2083 - val_mse: 1782.4598\n",
            "Epoch 71/100\n",
            "53/53 [==============================] - 0s 3ms/step - loss: 261.3120 - mae: 12.1709 - mse: 261.3120 - val_loss: 1720.9058 - val_mae: 29.0068 - val_mse: 1720.9058\n",
            "Epoch 72/100\n",
            "53/53 [==============================] - 0s 4ms/step - loss: 261.0276 - mae: 12.1338 - mse: 261.0276 - val_loss: 1754.9532 - val_mae: 29.0662 - val_mse: 1754.9532\n",
            "Epoch 73/100\n",
            "53/53 [==============================] - 0s 4ms/step - loss: 258.9775 - mae: 12.1130 - mse: 258.9775 - val_loss: 1755.6178 - val_mae: 29.0828 - val_mse: 1755.6178\n",
            "Epoch 74/100\n",
            "53/53 [==============================] - 0s 3ms/step - loss: 258.7985 - mae: 12.1130 - mse: 258.7985 - val_loss: 1744.7803 - val_mae: 29.0503 - val_mse: 1744.7803\n",
            "Epoch 75/100\n",
            "53/53 [==============================] - 0s 3ms/step - loss: 260.3667 - mae: 12.1266 - mse: 260.3667 - val_loss: 1821.5916 - val_mae: 29.4762 - val_mse: 1821.5916\n",
            "Epoch 76/100\n",
            "53/53 [==============================] - 0s 4ms/step - loss: 258.5143 - mae: 12.0841 - mse: 258.5143 - val_loss: 1758.5828 - val_mae: 29.1233 - val_mse: 1758.5828\n",
            "Epoch 77/100\n",
            "53/53 [==============================] - 0s 5ms/step - loss: 258.5323 - mae: 12.0984 - mse: 258.5323 - val_loss: 1840.6487 - val_mae: 29.6253 - val_mse: 1840.6487\n",
            "Epoch 78/100\n",
            "53/53 [==============================] - 0s 5ms/step - loss: 257.4012 - mae: 12.0551 - mse: 257.4012 - val_loss: 1798.2313 - val_mae: 29.3528 - val_mse: 1798.2313\n",
            "Epoch 79/100\n",
            "53/53 [==============================] - 0s 4ms/step - loss: 257.6234 - mae: 12.0547 - mse: 257.6234 - val_loss: 1807.6313 - val_mae: 29.4309 - val_mse: 1807.6313\n",
            "Epoch 80/100\n",
            "53/53 [==============================] - 0s 4ms/step - loss: 258.2553 - mae: 12.0549 - mse: 258.2553 - val_loss: 1796.5802 - val_mae: 29.3550 - val_mse: 1796.5802\n",
            "Epoch 81/100\n",
            "53/53 [==============================] - 0s 4ms/step - loss: 256.3872 - mae: 12.0411 - mse: 256.3872 - val_loss: 1788.6896 - val_mae: 29.3204 - val_mse: 1788.6896\n",
            "Epoch 82/100\n",
            "53/53 [==============================] - 0s 4ms/step - loss: 256.9485 - mae: 12.0729 - mse: 256.9485 - val_loss: 1828.1335 - val_mae: 29.5752 - val_mse: 1828.1335\n",
            "Epoch 83/100\n",
            "53/53 [==============================] - 0s 4ms/step - loss: 257.0576 - mae: 12.0782 - mse: 257.0576 - val_loss: 1896.7012 - val_mae: 29.9930 - val_mse: 1896.7012\n",
            "Epoch 84/100\n",
            "53/53 [==============================] - 0s 5ms/step - loss: 257.5519 - mae: 12.0634 - mse: 257.5519 - val_loss: 1813.9376 - val_mae: 29.4917 - val_mse: 1813.9376\n",
            "Epoch 85/100\n",
            "53/53 [==============================] - 0s 4ms/step - loss: 256.8037 - mae: 12.0830 - mse: 256.8037 - val_loss: 1794.3669 - val_mae: 29.3952 - val_mse: 1794.3669\n",
            "Epoch 86/100\n",
            "53/53 [==============================] - 0s 5ms/step - loss: 255.3394 - mae: 12.0439 - mse: 255.3394 - val_loss: 1855.3800 - val_mae: 29.7657 - val_mse: 1855.3800\n",
            "Epoch 87/100\n",
            "53/53 [==============================] - 0s 4ms/step - loss: 253.2863 - mae: 11.9920 - mse: 253.2863 - val_loss: 1817.8141 - val_mae: 29.5566 - val_mse: 1817.8141\n",
            "Epoch 88/100\n",
            "53/53 [==============================] - 0s 4ms/step - loss: 255.2515 - mae: 12.0252 - mse: 255.2515 - val_loss: 1855.6300 - val_mae: 29.7785 - val_mse: 1855.6300\n",
            "Epoch 89/100\n",
            "53/53 [==============================] - 0s 4ms/step - loss: 254.7962 - mae: 12.0104 - mse: 254.7962 - val_loss: 1823.1409 - val_mae: 29.5958 - val_mse: 1823.1409\n",
            "Epoch 90/100\n",
            "53/53 [==============================] - 0s 4ms/step - loss: 255.3022 - mae: 12.0530 - mse: 255.3022 - val_loss: 1817.2971 - val_mae: 29.5658 - val_mse: 1817.2971\n",
            "Epoch 91/100\n",
            "53/53 [==============================] - 0s 5ms/step - loss: 253.7902 - mae: 12.0141 - mse: 253.7902 - val_loss: 1787.4270 - val_mae: 29.4247 - val_mse: 1787.4270\n",
            "Epoch 92/100\n",
            "53/53 [==============================] - 0s 4ms/step - loss: 254.4636 - mae: 12.0415 - mse: 254.4636 - val_loss: 1823.5502 - val_mae: 29.6266 - val_mse: 1823.5502\n",
            "Epoch 93/100\n",
            "53/53 [==============================] - 0s 3ms/step - loss: 253.7187 - mae: 12.0179 - mse: 253.7187 - val_loss: 1832.4363 - val_mae: 29.6829 - val_mse: 1832.4363\n",
            "Epoch 94/100\n",
            "53/53 [==============================] - 0s 4ms/step - loss: 252.1269 - mae: 11.9604 - mse: 252.1269 - val_loss: 1795.9230 - val_mae: 29.5357 - val_mse: 1795.9230\n",
            "Epoch 95/100\n",
            "53/53 [==============================] - 0s 4ms/step - loss: 255.0126 - mae: 12.0524 - mse: 255.0126 - val_loss: 1806.9243 - val_mae: 29.5753 - val_mse: 1806.9243\n",
            "Epoch 96/100\n",
            "53/53 [==============================] - 0s 4ms/step - loss: 254.8346 - mae: 12.0328 - mse: 254.8346 - val_loss: 1897.0889 - val_mae: 30.0721 - val_mse: 1897.0889\n",
            "Epoch 97/100\n",
            "53/53 [==============================] - 0s 4ms/step - loss: 253.6149 - mae: 11.9910 - mse: 253.6149 - val_loss: 1804.3232 - val_mae: 29.6231 - val_mse: 1804.3232\n",
            "Epoch 98/100\n",
            "53/53 [==============================] - 0s 5ms/step - loss: 254.5602 - mae: 12.0757 - mse: 254.5602 - val_loss: 1875.2653 - val_mae: 29.9640 - val_mse: 1875.2653\n",
            "Epoch 99/100\n",
            "53/53 [==============================] - 0s 4ms/step - loss: 251.0997 - mae: 11.9353 - mse: 251.0997 - val_loss: 1817.3212 - val_mae: 29.6680 - val_mse: 1817.3212\n",
            "Epoch 100/100\n",
            "53/53 [==============================] - 0s 5ms/step - loss: 250.6078 - mae: 11.9378 - mse: 250.6078 - val_loss: 1810.7261 - val_mae: 29.7585 - val_mse: 1810.7261\n"
          ]
        }
      ]
    },
    {
      "cell_type": "markdown",
      "source": [
        "LSTM"
      ],
      "metadata": {
        "id": "M-I1WeJ7gOl3"
      }
    },
    {
      "cell_type": "code",
      "source": [
        "i=Input(shape=(T,1))\n",
        "x=LSTM(200,return_sequences=True)(i)\n",
        "x=LSTM(200,return_sequences=True)(x)\n",
        "x=GlobalMaxPooling1D()(x)\n",
        "x=Dense(100)(x)\n",
        "x=Dense(50)(x)\n",
        "x=Dense(1)(x)\n",
        "model_lstm=Model(i,x)\n",
        "model_lstm.summary()"
      ],
      "metadata": {
        "colab": {
          "base_uri": "https://localhost:8080/"
        },
        "id": "zsJnKRlwhvmv",
        "outputId": "41ee9b3c-19c4-4b62-a3a8-23418d2ea786"
      },
      "execution_count": 440,
      "outputs": [
        {
          "output_type": "stream",
          "name": "stdout",
          "text": [
            "Model: \"model_30\"\n",
            "_________________________________________________________________\n",
            " Layer (type)                Output Shape              Param #   \n",
            "=================================================================\n",
            " input_31 (InputLayer)       [(None, 50, 1)]           0         \n",
            "                                                                 \n",
            " lstm_14 (LSTM)              (None, 50, 200)           161600    \n",
            "                                                                 \n",
            " lstm_15 (LSTM)              (None, 50, 200)           320800    \n",
            "                                                                 \n",
            " global_max_pooling1d_22 (Gl  (None, 200)              0         \n",
            " obalMaxPooling1D)                                               \n",
            "                                                                 \n",
            " dense_82 (Dense)            (None, 100)               20100     \n",
            "                                                                 \n",
            " dense_83 (Dense)            (None, 50)                5050      \n",
            "                                                                 \n",
            " dense_84 (Dense)            (None, 1)                 51        \n",
            "                                                                 \n",
            "=================================================================\n",
            "Total params: 507,601\n",
            "Trainable params: 507,601\n",
            "Non-trainable params: 0\n",
            "_________________________________________________________________\n"
          ]
        }
      ]
    },
    {
      "cell_type": "code",
      "source": [
        "check_point_lstm=ModelCheckpoint('best_model.h5',monitor='val_loss',save_best_only=True)"
      ],
      "metadata": {
        "id": "uN9QDfEohvs-"
      },
      "execution_count": 441,
      "outputs": []
    },
    {
      "cell_type": "code",
      "source": [
        "model_lstm.compile(loss='mse',\n",
        "              optimizer='adamax',\n",
        "              metrics=['mae','mse'])"
      ],
      "metadata": {
        "id": "MwYBTZ7Uhv4I"
      },
      "execution_count": 442,
      "outputs": []
    },
    {
      "cell_type": "code",
      "source": [
        "r=model_lstm.fit(\n",
        "    Xtrain,\n",
        "    Ytrain,\n",
        "    epochs=100,\n",
        "    validation_data=(Xtest,Ytest),\n",
        "    callbacks=[check_point_lstm]\n",
        ")"
      ],
      "metadata": {
        "colab": {
          "base_uri": "https://localhost:8080/"
        },
        "id": "hucIsLiBiOQ3",
        "outputId": "69071428-cdd0-4613-eef9-e47a787ff6d1"
      },
      "execution_count": 443,
      "outputs": [
        {
          "output_type": "stream",
          "name": "stdout",
          "text": [
            "Epoch 1/100\n",
            "53/53 [==============================] - 12s 182ms/step - loss: 293.3954 - mae: 12.7342 - mse: 293.3954 - val_loss: 1636.6086 - val_mae: 27.8389 - val_mse: 1636.6086\n",
            "Epoch 2/100\n",
            "53/53 [==============================] - 9s 166ms/step - loss: 291.4254 - mae: 12.6828 - mse: 291.4254 - val_loss: 1636.2589 - val_mae: 27.8305 - val_mse: 1636.2589\n",
            "Epoch 3/100\n",
            "53/53 [==============================] - 9s 169ms/step - loss: 291.1841 - mae: 12.6877 - mse: 291.1841 - val_loss: 1636.2163 - val_mae: 27.8291 - val_mse: 1636.2163\n",
            "Epoch 4/100\n",
            "53/53 [==============================] - 9s 168ms/step - loss: 291.1802 - mae: 12.6912 - mse: 291.1802 - val_loss: 1637.0493 - val_mae: 27.8412 - val_mse: 1637.0493\n",
            "Epoch 5/100\n",
            "53/53 [==============================] - 9s 168ms/step - loss: 291.1026 - mae: 12.6656 - mse: 291.1026 - val_loss: 1636.1379 - val_mae: 27.8258 - val_mse: 1636.1379\n",
            "Epoch 6/100\n",
            "53/53 [==============================] - 9s 167ms/step - loss: 291.1290 - mae: 12.6837 - mse: 291.1290 - val_loss: 1636.5708 - val_mae: 27.8341 - val_mse: 1636.5708\n",
            "Epoch 7/100\n",
            "53/53 [==============================] - 9s 167ms/step - loss: 291.1471 - mae: 12.6752 - mse: 291.1471 - val_loss: 1636.1779 - val_mae: 27.8251 - val_mse: 1636.1779\n",
            "Epoch 8/100\n",
            "53/53 [==============================] - 9s 167ms/step - loss: 291.0426 - mae: 12.6895 - mse: 291.0426 - val_loss: 1636.6960 - val_mae: 27.8332 - val_mse: 1636.6960\n",
            "Epoch 9/100\n",
            "53/53 [==============================] - 9s 167ms/step - loss: 291.4400 - mae: 12.7069 - mse: 291.4400 - val_loss: 1637.2615 - val_mae: 27.8420 - val_mse: 1637.2615\n",
            "Epoch 10/100\n",
            "53/53 [==============================] - 9s 166ms/step - loss: 290.5163 - mae: 12.6675 - mse: 290.5163 - val_loss: 1636.6736 - val_mae: 27.8276 - val_mse: 1636.6736\n",
            "Epoch 11/100\n",
            "53/53 [==============================] - 9s 169ms/step - loss: 291.4605 - mae: 12.6790 - mse: 291.4605 - val_loss: 1636.2750 - val_mae: 27.8221 - val_mse: 1636.2750\n",
            "Epoch 12/100\n",
            "53/53 [==============================] - 9s 166ms/step - loss: 290.2632 - mae: 12.6649 - mse: 290.2632 - val_loss: 1636.6014 - val_mae: 27.8230 - val_mse: 1636.6014\n",
            "Epoch 13/100\n",
            "53/53 [==============================] - 9s 167ms/step - loss: 291.1422 - mae: 12.6734 - mse: 291.1422 - val_loss: 1636.8639 - val_mae: 27.8328 - val_mse: 1636.8639\n",
            "Epoch 14/100\n",
            "53/53 [==============================] - 9s 169ms/step - loss: 290.2443 - mae: 12.6596 - mse: 290.2443 - val_loss: 1637.8453 - val_mae: 27.8359 - val_mse: 1637.8453\n",
            "Epoch 15/100\n",
            "53/53 [==============================] - 9s 167ms/step - loss: 289.5018 - mae: 12.6346 - mse: 289.5018 - val_loss: 1638.1057 - val_mae: 27.8347 - val_mse: 1638.1057\n",
            "Epoch 16/100\n",
            "53/53 [==============================] - 9s 169ms/step - loss: 288.4339 - mae: 12.6309 - mse: 288.4339 - val_loss: 1639.8875 - val_mae: 27.8443 - val_mse: 1639.8875\n",
            "Epoch 17/100\n",
            "53/53 [==============================] - 9s 167ms/step - loss: 289.1667 - mae: 12.6002 - mse: 289.1667 - val_loss: 1639.9236 - val_mae: 27.8598 - val_mse: 1639.9236\n",
            "Epoch 18/100\n",
            "53/53 [==============================] - 9s 169ms/step - loss: 286.6251 - mae: 12.5717 - mse: 286.6251 - val_loss: 1641.8947 - val_mae: 27.8292 - val_mse: 1641.8947\n",
            "Epoch 19/100\n",
            "53/53 [==============================] - 9s 170ms/step - loss: 285.8776 - mae: 12.6213 - mse: 285.8776 - val_loss: 1641.3860 - val_mae: 27.8446 - val_mse: 1641.3860\n",
            "Epoch 20/100\n",
            "53/53 [==============================] - 9s 169ms/step - loss: 286.5418 - mae: 12.5743 - mse: 286.5418 - val_loss: 1643.5560 - val_mae: 27.8804 - val_mse: 1643.5560\n",
            "Epoch 21/100\n",
            "53/53 [==============================] - 9s 170ms/step - loss: 281.9087 - mae: 12.4571 - mse: 281.9087 - val_loss: 1648.0613 - val_mae: 27.8978 - val_mse: 1648.0613\n",
            "Epoch 22/100\n",
            "53/53 [==============================] - 9s 170ms/step - loss: 280.7513 - mae: 12.4755 - mse: 280.7513 - val_loss: 1656.1049 - val_mae: 28.0473 - val_mse: 1656.1049\n",
            "Epoch 23/100\n",
            "53/53 [==============================] - 9s 171ms/step - loss: 278.7540 - mae: 12.4181 - mse: 278.7540 - val_loss: 1656.9100 - val_mae: 28.0149 - val_mse: 1656.9100\n",
            "Epoch 24/100\n",
            "53/53 [==============================] - 9s 168ms/step - loss: 276.6522 - mae: 12.3618 - mse: 276.6522 - val_loss: 1656.4983 - val_mae: 28.0357 - val_mse: 1656.4983\n",
            "Epoch 25/100\n",
            "53/53 [==============================] - 9s 168ms/step - loss: 273.9332 - mae: 12.3228 - mse: 273.9332 - val_loss: 1668.0819 - val_mae: 28.1368 - val_mse: 1668.0819\n",
            "Epoch 26/100\n",
            "53/53 [==============================] - 9s 167ms/step - loss: 276.2315 - mae: 12.3953 - mse: 276.2315 - val_loss: 1660.6646 - val_mae: 28.0384 - val_mse: 1660.6646\n",
            "Epoch 27/100\n",
            "53/53 [==============================] - 9s 166ms/step - loss: 269.4288 - mae: 12.1970 - mse: 269.4288 - val_loss: 1675.9897 - val_mae: 28.2425 - val_mse: 1675.9897\n",
            "Epoch 28/100\n",
            "53/53 [==============================] - 9s 168ms/step - loss: 271.0830 - mae: 12.2597 - mse: 271.0830 - val_loss: 1676.7455 - val_mae: 28.2005 - val_mse: 1676.7455\n",
            "Epoch 29/100\n",
            "53/53 [==============================] - 9s 167ms/step - loss: 266.2976 - mae: 12.2184 - mse: 266.2976 - val_loss: 1678.8391 - val_mae: 28.2873 - val_mse: 1678.8391\n",
            "Epoch 30/100\n",
            "53/53 [==============================] - 9s 165ms/step - loss: 268.3055 - mae: 12.2565 - mse: 268.3055 - val_loss: 1670.5535 - val_mae: 28.1849 - val_mse: 1670.5535\n",
            "Epoch 31/100\n",
            "53/53 [==============================] - 9s 167ms/step - loss: 260.7125 - mae: 12.0544 - mse: 260.7125 - val_loss: 1674.0508 - val_mae: 28.2164 - val_mse: 1674.0508\n",
            "Epoch 32/100\n",
            "53/53 [==============================] - 9s 167ms/step - loss: 260.5170 - mae: 12.0593 - mse: 260.5170 - val_loss: 1673.3967 - val_mae: 28.2287 - val_mse: 1673.3967\n",
            "Epoch 33/100\n",
            "53/53 [==============================] - 9s 165ms/step - loss: 255.6412 - mae: 11.9781 - mse: 255.6412 - val_loss: 1683.8689 - val_mae: 28.3436 - val_mse: 1683.8689\n",
            "Epoch 34/100\n",
            "53/53 [==============================] - 9s 171ms/step - loss: 254.4593 - mae: 11.9834 - mse: 254.4593 - val_loss: 1691.2942 - val_mae: 28.4579 - val_mse: 1691.2942\n",
            "Epoch 35/100\n",
            "53/53 [==============================] - 9s 168ms/step - loss: 252.4305 - mae: 11.8956 - mse: 252.4305 - val_loss: 1683.9871 - val_mae: 28.4533 - val_mse: 1683.9871\n",
            "Epoch 36/100\n",
            "53/53 [==============================] - 9s 171ms/step - loss: 247.9160 - mae: 11.7853 - mse: 247.9160 - val_loss: 1690.1741 - val_mae: 28.4371 - val_mse: 1690.1741\n",
            "Epoch 37/100\n",
            "53/53 [==============================] - 9s 169ms/step - loss: 246.2823 - mae: 11.7120 - mse: 246.2823 - val_loss: 1689.1672 - val_mae: 28.4961 - val_mse: 1689.1672\n",
            "Epoch 38/100\n",
            "53/53 [==============================] - 9s 172ms/step - loss: 240.5472 - mae: 11.6153 - mse: 240.5472 - val_loss: 1695.5377 - val_mae: 28.5976 - val_mse: 1695.5377\n",
            "Epoch 39/100\n",
            "53/53 [==============================] - 9s 172ms/step - loss: 243.4527 - mae: 11.6833 - mse: 243.4527 - val_loss: 1696.3998 - val_mae: 28.5731 - val_mse: 1696.3998\n",
            "Epoch 40/100\n",
            "53/53 [==============================] - 9s 172ms/step - loss: 237.9966 - mae: 11.5834 - mse: 237.9966 - val_loss: 1704.4685 - val_mae: 28.6783 - val_mse: 1704.4685\n",
            "Epoch 41/100\n",
            "53/53 [==============================] - 9s 174ms/step - loss: 233.2932 - mae: 11.5451 - mse: 233.2932 - val_loss: 1694.2991 - val_mae: 28.5198 - val_mse: 1694.2991\n",
            "Epoch 42/100\n",
            "53/53 [==============================] - 9s 175ms/step - loss: 238.7745 - mae: 11.5957 - mse: 238.7745 - val_loss: 1724.1211 - val_mae: 29.0128 - val_mse: 1724.1211\n",
            "Epoch 43/100\n",
            "53/53 [==============================] - 9s 168ms/step - loss: 226.2690 - mae: 11.2636 - mse: 226.2690 - val_loss: 1722.8795 - val_mae: 28.9902 - val_mse: 1722.8795\n",
            "Epoch 44/100\n",
            "53/53 [==============================] - 9s 170ms/step - loss: 223.5233 - mae: 11.2835 - mse: 223.5233 - val_loss: 1723.0214 - val_mae: 28.9331 - val_mse: 1723.0214\n",
            "Epoch 45/100\n",
            "53/53 [==============================] - 9s 171ms/step - loss: 221.9740 - mae: 11.1847 - mse: 221.9740 - val_loss: 1710.2959 - val_mae: 28.8757 - val_mse: 1710.2959\n",
            "Epoch 46/100\n",
            "53/53 [==============================] - 9s 169ms/step - loss: 217.1283 - mae: 11.1177 - mse: 217.1283 - val_loss: 1733.5170 - val_mae: 29.2037 - val_mse: 1733.5170\n",
            "Epoch 47/100\n",
            "53/53 [==============================] - 9s 172ms/step - loss: 210.7478 - mae: 10.9301 - mse: 210.7478 - val_loss: 1782.4608 - val_mae: 29.7337 - val_mse: 1782.4608\n",
            "Epoch 48/100\n",
            "53/53 [==============================] - 9s 172ms/step - loss: 208.4724 - mae: 10.8756 - mse: 208.4724 - val_loss: 1736.4930 - val_mae: 29.2141 - val_mse: 1736.4930\n",
            "Epoch 49/100\n",
            "53/53 [==============================] - 9s 178ms/step - loss: 201.0393 - mae: 10.6782 - mse: 201.0393 - val_loss: 1766.0746 - val_mae: 29.3990 - val_mse: 1766.0746\n",
            "Epoch 50/100\n",
            "53/53 [==============================] - 9s 172ms/step - loss: 200.3654 - mae: 10.6717 - mse: 200.3654 - val_loss: 1754.3176 - val_mae: 29.3588 - val_mse: 1754.3176\n",
            "Epoch 51/100\n",
            "53/53 [==============================] - 9s 177ms/step - loss: 197.8086 - mae: 10.5008 - mse: 197.8086 - val_loss: 1747.3491 - val_mae: 29.3420 - val_mse: 1747.3491\n",
            "Epoch 52/100\n",
            "53/53 [==============================] - 9s 176ms/step - loss: 192.0884 - mae: 10.3911 - mse: 192.0884 - val_loss: 1809.5609 - val_mae: 29.8991 - val_mse: 1809.5609\n",
            "Epoch 53/100\n",
            "53/53 [==============================] - 9s 172ms/step - loss: 188.2950 - mae: 10.4153 - mse: 188.2950 - val_loss: 1780.2615 - val_mae: 29.6028 - val_mse: 1780.2615\n",
            "Epoch 54/100\n",
            "53/53 [==============================] - 9s 176ms/step - loss: 182.4267 - mae: 10.2287 - mse: 182.4267 - val_loss: 1788.7217 - val_mae: 29.8400 - val_mse: 1788.7217\n",
            "Epoch 55/100\n",
            "53/53 [==============================] - 9s 173ms/step - loss: 175.9009 - mae: 9.9326 - mse: 175.9009 - val_loss: 1809.7593 - val_mae: 29.8139 - val_mse: 1809.7593\n",
            "Epoch 56/100\n",
            "53/53 [==============================] - 9s 177ms/step - loss: 181.9608 - mae: 10.2143 - mse: 181.9608 - val_loss: 1781.6740 - val_mae: 29.7188 - val_mse: 1781.6740\n",
            "Epoch 57/100\n",
            "53/53 [==============================] - 10s 180ms/step - loss: 165.3200 - mae: 9.7416 - mse: 165.3200 - val_loss: 1797.9596 - val_mae: 29.8411 - val_mse: 1797.9596\n",
            "Epoch 58/100\n",
            "53/53 [==============================] - 9s 179ms/step - loss: 162.5275 - mae: 9.5306 - mse: 162.5275 - val_loss: 1812.4403 - val_mae: 29.9732 - val_mse: 1812.4403\n",
            "Epoch 59/100\n",
            "53/53 [==============================] - 9s 175ms/step - loss: 163.6014 - mae: 9.7139 - mse: 163.6014 - val_loss: 1858.8687 - val_mae: 30.4546 - val_mse: 1858.8687\n",
            "Epoch 60/100\n",
            "53/53 [==============================] - 9s 173ms/step - loss: 166.5429 - mae: 9.7793 - mse: 166.5429 - val_loss: 1808.6614 - val_mae: 29.9782 - val_mse: 1808.6614\n",
            "Epoch 61/100\n",
            "53/53 [==============================] - 9s 173ms/step - loss: 152.4157 - mae: 9.3389 - mse: 152.4157 - val_loss: 1852.7512 - val_mae: 30.4734 - val_mse: 1852.7512\n",
            "Epoch 62/100\n",
            "53/53 [==============================] - 9s 178ms/step - loss: 148.6539 - mae: 9.1509 - mse: 148.6539 - val_loss: 1851.7474 - val_mae: 30.3848 - val_mse: 1851.7474\n",
            "Epoch 63/100\n",
            "53/53 [==============================] - 9s 177ms/step - loss: 152.9301 - mae: 9.2876 - mse: 152.9301 - val_loss: 1866.1886 - val_mae: 30.6136 - val_mse: 1866.1886\n",
            "Epoch 64/100\n",
            "53/53 [==============================] - 9s 177ms/step - loss: 157.5684 - mae: 9.4962 - mse: 157.5684 - val_loss: 1956.9890 - val_mae: 31.7180 - val_mse: 1956.9890\n",
            "Epoch 65/100\n",
            "53/53 [==============================] - 9s 177ms/step - loss: 136.4722 - mae: 8.8210 - mse: 136.4722 - val_loss: 1877.1597 - val_mae: 30.7709 - val_mse: 1877.1597\n",
            "Epoch 66/100\n",
            "53/53 [==============================] - 9s 176ms/step - loss: 133.7173 - mae: 8.7284 - mse: 133.7173 - val_loss: 1888.0187 - val_mae: 30.7743 - val_mse: 1888.0187\n",
            "Epoch 67/100\n",
            "53/53 [==============================] - 9s 173ms/step - loss: 129.7138 - mae: 8.5686 - mse: 129.7138 - val_loss: 1938.9358 - val_mae: 31.4336 - val_mse: 1938.9358\n",
            "Epoch 68/100\n",
            "53/53 [==============================] - 9s 173ms/step - loss: 129.3263 - mae: 8.6082 - mse: 129.3263 - val_loss: 1909.6947 - val_mae: 31.0533 - val_mse: 1909.6947\n",
            "Epoch 69/100\n",
            "53/53 [==============================] - 9s 176ms/step - loss: 130.8696 - mae: 8.7584 - mse: 130.8696 - val_loss: 1947.6996 - val_mae: 31.5559 - val_mse: 1947.6996\n",
            "Epoch 70/100\n",
            "53/53 [==============================] - 10s 180ms/step - loss: 127.4697 - mae: 8.4880 - mse: 127.4697 - val_loss: 1904.6863 - val_mae: 31.1084 - val_mse: 1904.6863\n",
            "Epoch 71/100\n",
            "53/53 [==============================] - 9s 175ms/step - loss: 120.0588 - mae: 8.2091 - mse: 120.0588 - val_loss: 1925.2659 - val_mae: 31.2663 - val_mse: 1925.2659\n",
            "Epoch 72/100\n",
            "53/53 [==============================] - 9s 170ms/step - loss: 119.9775 - mae: 8.2198 - mse: 119.9775 - val_loss: 1901.4287 - val_mae: 31.1201 - val_mse: 1901.4287\n",
            "Epoch 73/100\n",
            "53/53 [==============================] - 9s 177ms/step - loss: 110.5763 - mae: 7.8487 - mse: 110.5763 - val_loss: 1975.6180 - val_mae: 31.9152 - val_mse: 1975.6180\n",
            "Epoch 74/100\n",
            "53/53 [==============================] - 10s 181ms/step - loss: 109.9614 - mae: 7.7617 - mse: 109.9614 - val_loss: 1958.3667 - val_mae: 31.7560 - val_mse: 1958.3667\n",
            "Epoch 75/100\n",
            "53/53 [==============================] - 9s 177ms/step - loss: 115.8533 - mae: 8.1271 - mse: 115.8533 - val_loss: 1950.0939 - val_mae: 31.4989 - val_mse: 1950.0939\n",
            "Epoch 76/100\n",
            "53/53 [==============================] - 10s 180ms/step - loss: 108.9646 - mae: 7.6841 - mse: 108.9646 - val_loss: 2043.4225 - val_mae: 32.5600 - val_mse: 2043.4225\n",
            "Epoch 77/100\n",
            "53/53 [==============================] - 9s 178ms/step - loss: 100.9270 - mae: 7.4788 - mse: 100.9270 - val_loss: 1996.6331 - val_mae: 32.0964 - val_mse: 1996.6331\n",
            "Epoch 78/100\n",
            "53/53 [==============================] - 9s 175ms/step - loss: 100.9511 - mae: 7.3052 - mse: 100.9511 - val_loss: 2026.6094 - val_mae: 32.4619 - val_mse: 2026.6094\n",
            "Epoch 79/100\n",
            "53/53 [==============================] - 9s 178ms/step - loss: 99.2712 - mae: 7.3540 - mse: 99.2712 - val_loss: 2088.1846 - val_mae: 32.9556 - val_mse: 2088.1846\n",
            "Epoch 80/100\n",
            "53/53 [==============================] - 9s 176ms/step - loss: 94.2273 - mae: 7.2466 - mse: 94.2273 - val_loss: 2052.0630 - val_mae: 32.8184 - val_mse: 2052.0630\n",
            "Epoch 81/100\n",
            "53/53 [==============================] - 9s 177ms/step - loss: 93.2144 - mae: 7.1112 - mse: 93.2144 - val_loss: 2088.8032 - val_mae: 33.1499 - val_mse: 2088.8032\n",
            "Epoch 82/100\n",
            "53/53 [==============================] - 10s 180ms/step - loss: 86.3703 - mae: 6.7840 - mse: 86.3703 - val_loss: 2051.0911 - val_mae: 32.8455 - val_mse: 2051.0911\n",
            "Epoch 83/100\n",
            "53/53 [==============================] - 9s 175ms/step - loss: 89.5420 - mae: 7.0337 - mse: 89.5420 - val_loss: 2063.9763 - val_mae: 32.8996 - val_mse: 2063.9763\n",
            "Epoch 84/100\n",
            "53/53 [==============================] - 9s 178ms/step - loss: 86.2548 - mae: 6.7976 - mse: 86.2548 - val_loss: 2097.8855 - val_mae: 33.2563 - val_mse: 2097.8855\n",
            "Epoch 85/100\n",
            "53/53 [==============================] - 9s 172ms/step - loss: 80.4653 - mae: 6.5494 - mse: 80.4653 - val_loss: 2121.9236 - val_mae: 33.5368 - val_mse: 2121.9236\n",
            "Epoch 86/100\n",
            "53/53 [==============================] - 9s 172ms/step - loss: 87.6443 - mae: 6.8693 - mse: 87.6443 - val_loss: 2132.0552 - val_mae: 33.6261 - val_mse: 2132.0552\n",
            "Epoch 87/100\n",
            "53/53 [==============================] - 9s 177ms/step - loss: 82.9873 - mae: 6.6510 - mse: 82.9873 - val_loss: 2093.8528 - val_mae: 33.2043 - val_mse: 2093.8528\n",
            "Epoch 88/100\n",
            "53/53 [==============================] - 9s 169ms/step - loss: 73.8931 - mae: 6.2781 - mse: 73.8931 - val_loss: 2090.5840 - val_mae: 33.3808 - val_mse: 2090.5840\n",
            "Epoch 89/100\n",
            "53/53 [==============================] - 9s 171ms/step - loss: 75.3729 - mae: 6.3005 - mse: 75.3729 - val_loss: 2116.8184 - val_mae: 33.6005 - val_mse: 2116.8184\n",
            "Epoch 90/100\n",
            "53/53 [==============================] - 9s 176ms/step - loss: 83.8098 - mae: 6.8473 - mse: 83.8098 - val_loss: 2017.7748 - val_mae: 32.4802 - val_mse: 2017.7748\n",
            "Epoch 91/100\n",
            "53/53 [==============================] - 9s 177ms/step - loss: 65.4740 - mae: 5.7918 - mse: 65.4740 - val_loss: 2109.2190 - val_mae: 33.3711 - val_mse: 2109.2190\n",
            "Epoch 92/100\n",
            "53/53 [==============================] - 9s 173ms/step - loss: 67.2112 - mae: 5.8706 - mse: 67.2112 - val_loss: 2146.8049 - val_mae: 33.8692 - val_mse: 2146.8049\n",
            "Epoch 93/100\n",
            "53/53 [==============================] - 10s 182ms/step - loss: 64.3451 - mae: 5.7692 - mse: 64.3451 - val_loss: 2025.3331 - val_mae: 32.3700 - val_mse: 2025.3331\n",
            "Epoch 94/100\n",
            "53/53 [==============================] - 9s 178ms/step - loss: 74.8811 - mae: 6.2708 - mse: 74.8811 - val_loss: 2219.0322 - val_mae: 34.4890 - val_mse: 2219.0322\n",
            "Epoch 95/100\n",
            "53/53 [==============================] - 9s 177ms/step - loss: 61.1426 - mae: 5.5676 - mse: 61.1426 - val_loss: 2145.5542 - val_mae: 33.7370 - val_mse: 2145.5542\n",
            "Epoch 96/100\n",
            "53/53 [==============================] - 9s 173ms/step - loss: 61.1157 - mae: 5.5236 - mse: 61.1157 - val_loss: 2127.2063 - val_mae: 33.6991 - val_mse: 2127.2063\n",
            "Epoch 97/100\n",
            "53/53 [==============================] - 9s 171ms/step - loss: 61.9033 - mae: 5.6887 - mse: 61.9033 - val_loss: 2151.7107 - val_mae: 33.7562 - val_mse: 2151.7107\n",
            "Epoch 98/100\n",
            "53/53 [==============================] - 9s 174ms/step - loss: 62.7138 - mae: 5.7480 - mse: 62.7138 - val_loss: 2273.0479 - val_mae: 35.1047 - val_mse: 2273.0479\n",
            "Epoch 99/100\n",
            "53/53 [==============================] - 9s 171ms/step - loss: 56.6583 - mae: 5.3516 - mse: 56.6583 - val_loss: 2194.7275 - val_mae: 34.2713 - val_mse: 2194.7275\n",
            "Epoch 100/100\n",
            "53/53 [==============================] - 9s 172ms/step - loss: 53.2606 - mae: 5.2177 - mse: 53.2606 - val_loss: 2328.4050 - val_mae: 35.6293 - val_mse: 2328.4050\n"
          ]
        }
      ]
    },
    {
      "cell_type": "markdown",
      "source": [
        "GRU"
      ],
      "metadata": {
        "id": "kHh0g_qPm_bm"
      }
    },
    {
      "cell_type": "code",
      "source": [
        "i=Input(shape=(T,1))\n",
        "x=GRU(200,return_sequences=True)(i)\n",
        "x=GRU(200,return_sequences=True)(x)\n",
        "x=GlobalMaxPooling1D()(x)\n",
        "x=Dense(100)(x)\n",
        "x=Dense(50)(x)\n",
        "x=Dense(1)(x)\n",
        "model_gru=Model(i,x)\n",
        "model_gru.summary"
      ],
      "metadata": {
        "colab": {
          "base_uri": "https://localhost:8080/"
        },
        "id": "H4llpd_HnCsP",
        "outputId": "1b758b31-981d-4e50-a4c3-c05693c6844b"
      },
      "execution_count": 444,
      "outputs": [
        {
          "output_type": "execute_result",
          "data": {
            "text/plain": [
              "<bound method Model.summary of <keras.engine.functional.Functional object at 0x7fe98461f250>>"
            ]
          },
          "metadata": {},
          "execution_count": 444
        }
      ]
    },
    {
      "cell_type": "code",
      "source": [
        "check_point_gru=ModelCheckpoint('best_model.h5',monitor='val_loss',save_best_only=True)"
      ],
      "metadata": {
        "id": "J4ilpuAHnCxN"
      },
      "execution_count": 445,
      "outputs": []
    },
    {
      "cell_type": "code",
      "source": [
        "model_gru.compile(loss='mse',\n",
        "              optimizer='adamax',\n",
        "              metrics=['mae','mse'])"
      ],
      "metadata": {
        "id": "KE1MOiZknC6g"
      },
      "execution_count": 446,
      "outputs": []
    },
    {
      "cell_type": "code",
      "source": [
        "r=model_gru.fit(\n",
        "    Xtrain,\n",
        "    Ytrain,\n",
        "    epochs=100,\n",
        "    validation_data=(Xtest,Ytest),\n",
        "    callbacks=[check_point_gru]\n",
        ")"
      ],
      "metadata": {
        "colab": {
          "base_uri": "https://localhost:8080/"
        },
        "id": "nfam1HSPnWSf",
        "outputId": "089577fe-03fb-4d06-e508-e31f91b80a4e"
      },
      "execution_count": 447,
      "outputs": [
        {
          "output_type": "stream",
          "name": "stdout",
          "text": [
            "Epoch 1/100\n",
            "53/53 [==============================] - 11s 159ms/step - loss: 297.6253 - mae: 12.8580 - mse: 297.6253 - val_loss: 1641.1420 - val_mae: 27.8995 - val_mse: 1641.1420\n",
            "Epoch 2/100\n",
            "53/53 [==============================] - 8s 147ms/step - loss: 291.8214 - mae: 12.7073 - mse: 291.8214 - val_loss: 1637.4358 - val_mae: 27.8369 - val_mse: 1637.4358\n",
            "Epoch 3/100\n",
            "53/53 [==============================] - 8s 146ms/step - loss: 291.2803 - mae: 12.6992 - mse: 291.2803 - val_loss: 1637.6117 - val_mae: 27.8344 - val_mse: 1637.6117\n",
            "Epoch 4/100\n",
            "53/53 [==============================] - 8s 151ms/step - loss: 291.0597 - mae: 12.6854 - mse: 291.0597 - val_loss: 1640.0217 - val_mae: 27.8672 - val_mse: 1640.0217\n",
            "Epoch 5/100\n",
            "53/53 [==============================] - 8s 148ms/step - loss: 290.6194 - mae: 12.6575 - mse: 290.6194 - val_loss: 1638.2130 - val_mae: 27.8213 - val_mse: 1638.2130\n",
            "Epoch 6/100\n",
            "53/53 [==============================] - 8s 148ms/step - loss: 291.0488 - mae: 12.6806 - mse: 291.0488 - val_loss: 1637.7701 - val_mae: 27.8319 - val_mse: 1637.7701\n",
            "Epoch 7/100\n",
            "53/53 [==============================] - 8s 146ms/step - loss: 291.6473 - mae: 12.6827 - mse: 291.6473 - val_loss: 1638.2699 - val_mae: 27.8223 - val_mse: 1638.2699\n",
            "Epoch 8/100\n",
            "53/53 [==============================] - 8s 145ms/step - loss: 290.5079 - mae: 12.6814 - mse: 290.5079 - val_loss: 1638.1595 - val_mae: 27.8254 - val_mse: 1638.1595\n",
            "Epoch 9/100\n",
            "53/53 [==============================] - 8s 145ms/step - loss: 291.3442 - mae: 12.7278 - mse: 291.3442 - val_loss: 1638.9084 - val_mae: 27.8393 - val_mse: 1638.9084\n",
            "Epoch 10/100\n",
            "53/53 [==============================] - 8s 146ms/step - loss: 290.0581 - mae: 12.6743 - mse: 290.0581 - val_loss: 1639.2347 - val_mae: 27.8353 - val_mse: 1639.2347\n",
            "Epoch 11/100\n",
            "53/53 [==============================] - 8s 147ms/step - loss: 291.7180 - mae: 12.6925 - mse: 291.7180 - val_loss: 1638.4189 - val_mae: 27.8227 - val_mse: 1638.4189\n",
            "Epoch 12/100\n",
            "53/53 [==============================] - 8s 144ms/step - loss: 290.0809 - mae: 12.6669 - mse: 290.0809 - val_loss: 1639.0795 - val_mae: 27.8303 - val_mse: 1639.0795\n",
            "Epoch 13/100\n",
            "53/53 [==============================] - 8s 147ms/step - loss: 291.8981 - mae: 12.7065 - mse: 291.8981 - val_loss: 1639.2803 - val_mae: 27.8428 - val_mse: 1639.2803\n",
            "Epoch 14/100\n",
            "53/53 [==============================] - 8s 147ms/step - loss: 290.0629 - mae: 12.6713 - mse: 290.0629 - val_loss: 1639.7493 - val_mae: 27.8435 - val_mse: 1639.7493\n",
            "Epoch 15/100\n",
            "53/53 [==============================] - 8s 147ms/step - loss: 289.2896 - mae: 12.6391 - mse: 289.2896 - val_loss: 1640.4930 - val_mae: 27.8373 - val_mse: 1640.4930\n",
            "Epoch 16/100\n",
            "53/53 [==============================] - 8s 146ms/step - loss: 289.0824 - mae: 12.6551 - mse: 289.0824 - val_loss: 1641.5125 - val_mae: 27.8505 - val_mse: 1641.5125\n",
            "Epoch 17/100\n",
            "53/53 [==============================] - 8s 148ms/step - loss: 289.9254 - mae: 12.6371 - mse: 289.9254 - val_loss: 1641.2455 - val_mae: 27.8427 - val_mse: 1641.2455\n",
            "Epoch 18/100\n",
            "53/53 [==============================] - 8s 148ms/step - loss: 288.1224 - mae: 12.6202 - mse: 288.1224 - val_loss: 1642.6783 - val_mae: 27.8373 - val_mse: 1642.6783\n",
            "Epoch 19/100\n",
            "53/53 [==============================] - 8s 146ms/step - loss: 287.9960 - mae: 12.6609 - mse: 287.9960 - val_loss: 1645.2466 - val_mae: 27.8622 - val_mse: 1645.2466\n",
            "Epoch 20/100\n",
            "53/53 [==============================] - 8s 148ms/step - loss: 288.6410 - mae: 12.6478 - mse: 288.6410 - val_loss: 1642.8447 - val_mae: 27.8500 - val_mse: 1642.8447\n",
            "Epoch 21/100\n",
            "53/53 [==============================] - 8s 148ms/step - loss: 285.3139 - mae: 12.5721 - mse: 285.3139 - val_loss: 1646.9441 - val_mae: 27.8816 - val_mse: 1646.9441\n",
            "Epoch 22/100\n",
            "53/53 [==============================] - 8s 146ms/step - loss: 283.7710 - mae: 12.5730 - mse: 283.7710 - val_loss: 1652.4866 - val_mae: 27.9612 - val_mse: 1652.4866\n",
            "Epoch 23/100\n",
            "53/53 [==============================] - 8s 146ms/step - loss: 283.3141 - mae: 12.5572 - mse: 283.3141 - val_loss: 1653.0786 - val_mae: 27.9296 - val_mse: 1653.0786\n",
            "Epoch 24/100\n",
            "53/53 [==============================] - 8s 146ms/step - loss: 280.8044 - mae: 12.5004 - mse: 280.8044 - val_loss: 1652.7451 - val_mae: 27.9536 - val_mse: 1652.7451\n",
            "Epoch 25/100\n",
            "53/53 [==============================] - 8s 149ms/step - loss: 279.7916 - mae: 12.4731 - mse: 279.7916 - val_loss: 1668.8042 - val_mae: 28.0532 - val_mse: 1668.8042\n",
            "Epoch 26/100\n",
            "53/53 [==============================] - 8s 148ms/step - loss: 280.0817 - mae: 12.5067 - mse: 280.0817 - val_loss: 1659.7900 - val_mae: 27.9682 - val_mse: 1659.7900\n",
            "Epoch 27/100\n",
            "53/53 [==============================] - 8s 149ms/step - loss: 275.3066 - mae: 12.4068 - mse: 275.3066 - val_loss: 1674.2880 - val_mae: 28.1466 - val_mse: 1674.2880\n",
            "Epoch 28/100\n",
            "53/53 [==============================] - 8s 146ms/step - loss: 275.0878 - mae: 12.3992 - mse: 275.0878 - val_loss: 1668.5978 - val_mae: 28.0556 - val_mse: 1668.5978\n",
            "Epoch 29/100\n",
            "53/53 [==============================] - 8s 148ms/step - loss: 270.2873 - mae: 12.3499 - mse: 270.2873 - val_loss: 1674.6851 - val_mae: 28.1786 - val_mse: 1674.6851\n",
            "Epoch 30/100\n",
            "53/53 [==============================] - 8s 148ms/step - loss: 272.6370 - mae: 12.3773 - mse: 272.6370 - val_loss: 1681.7140 - val_mae: 28.1372 - val_mse: 1681.7140\n",
            "Epoch 31/100\n",
            "53/53 [==============================] - 8s 147ms/step - loss: 266.8776 - mae: 12.2401 - mse: 266.8776 - val_loss: 1681.5824 - val_mae: 28.1245 - val_mse: 1681.5824\n",
            "Epoch 32/100\n",
            "53/53 [==============================] - 8s 147ms/step - loss: 265.7881 - mae: 12.2541 - mse: 265.7881 - val_loss: 1680.2986 - val_mae: 28.1341 - val_mse: 1680.2986\n",
            "Epoch 33/100\n",
            "53/53 [==============================] - 8s 147ms/step - loss: 260.7661 - mae: 12.1274 - mse: 260.7661 - val_loss: 1687.4342 - val_mae: 28.1693 - val_mse: 1687.4342\n",
            "Epoch 34/100\n",
            "53/53 [==============================] - 8s 144ms/step - loss: 257.0567 - mae: 12.0607 - mse: 257.0567 - val_loss: 1701.4520 - val_mae: 28.2716 - val_mse: 1701.4520\n",
            "Epoch 35/100\n",
            "53/53 [==============================] - 8s 145ms/step - loss: 258.3114 - mae: 12.0998 - mse: 258.3114 - val_loss: 1681.6548 - val_mae: 28.1816 - val_mse: 1681.6548\n",
            "Epoch 36/100\n",
            "53/53 [==============================] - 8s 147ms/step - loss: 254.8913 - mae: 12.0233 - mse: 254.8913 - val_loss: 1699.9736 - val_mae: 28.3597 - val_mse: 1699.9736\n",
            "Epoch 37/100\n",
            "53/53 [==============================] - 8s 147ms/step - loss: 251.5362 - mae: 11.8939 - mse: 251.5362 - val_loss: 1706.7540 - val_mae: 28.4097 - val_mse: 1706.7540\n",
            "Epoch 38/100\n",
            "53/53 [==============================] - 8s 147ms/step - loss: 245.1622 - mae: 11.7923 - mse: 245.1622 - val_loss: 1707.7826 - val_mae: 28.4291 - val_mse: 1707.7826\n",
            "Epoch 39/100\n",
            "53/53 [==============================] - 8s 146ms/step - loss: 249.5333 - mae: 11.8730 - mse: 249.5333 - val_loss: 1715.9808 - val_mae: 28.4957 - val_mse: 1715.9808\n",
            "Epoch 40/100\n",
            "53/53 [==============================] - 8s 146ms/step - loss: 243.3745 - mae: 11.7577 - mse: 243.3745 - val_loss: 1711.1233 - val_mae: 28.4421 - val_mse: 1711.1233\n",
            "Epoch 41/100\n",
            "53/53 [==============================] - 8s 149ms/step - loss: 243.1119 - mae: 11.8250 - mse: 243.1119 - val_loss: 1720.8488 - val_mae: 28.6111 - val_mse: 1720.8488\n",
            "Epoch 42/100\n",
            "53/53 [==============================] - 8s 147ms/step - loss: 241.0131 - mae: 11.7482 - mse: 241.0131 - val_loss: 1711.8812 - val_mae: 28.5045 - val_mse: 1711.8812\n",
            "Epoch 43/100\n",
            "53/53 [==============================] - 8s 149ms/step - loss: 229.5262 - mae: 11.4596 - mse: 229.5262 - val_loss: 1722.2799 - val_mae: 28.6255 - val_mse: 1722.2799\n",
            "Epoch 44/100\n",
            "53/53 [==============================] - 8s 147ms/step - loss: 231.5216 - mae: 11.5785 - mse: 231.5216 - val_loss: 1737.1160 - val_mae: 28.8013 - val_mse: 1737.1160\n",
            "Epoch 45/100\n",
            "53/53 [==============================] - 8s 150ms/step - loss: 226.6597 - mae: 11.3803 - mse: 226.6597 - val_loss: 1725.4520 - val_mae: 28.6397 - val_mse: 1725.4520\n",
            "Epoch 46/100\n",
            "53/53 [==============================] - 8s 147ms/step - loss: 231.8658 - mae: 11.6582 - mse: 231.8658 - val_loss: 1707.0641 - val_mae: 28.4942 - val_mse: 1707.0641\n",
            "Epoch 47/100\n",
            "53/53 [==============================] - 8s 146ms/step - loss: 216.5901 - mae: 11.1216 - mse: 216.5901 - val_loss: 1723.8612 - val_mae: 28.7280 - val_mse: 1723.8612\n",
            "Epoch 48/100\n",
            "53/53 [==============================] - 8s 147ms/step - loss: 212.0354 - mae: 11.0209 - mse: 212.0354 - val_loss: 1732.4178 - val_mae: 28.8024 - val_mse: 1732.4178\n",
            "Epoch 49/100\n",
            "53/53 [==============================] - 8s 147ms/step - loss: 210.3291 - mae: 11.0414 - mse: 210.3291 - val_loss: 1754.3291 - val_mae: 29.1865 - val_mse: 1754.3291\n",
            "Epoch 50/100\n",
            "53/53 [==============================] - 8s 148ms/step - loss: 207.3616 - mae: 10.9114 - mse: 207.3616 - val_loss: 1756.0001 - val_mae: 29.0333 - val_mse: 1756.0001\n",
            "Epoch 51/100\n",
            "53/53 [==============================] - 8s 148ms/step - loss: 202.9180 - mae: 10.7439 - mse: 202.9180 - val_loss: 1738.0062 - val_mae: 28.9871 - val_mse: 1738.0062\n",
            "Epoch 52/100\n",
            "53/53 [==============================] - 8s 146ms/step - loss: 201.6022 - mae: 10.7258 - mse: 201.6022 - val_loss: 1753.4012 - val_mae: 29.0955 - val_mse: 1753.4012\n",
            "Epoch 53/100\n",
            "53/53 [==============================] - 8s 147ms/step - loss: 196.2905 - mae: 10.6677 - mse: 196.2905 - val_loss: 1750.3827 - val_mae: 29.0827 - val_mse: 1750.3827\n",
            "Epoch 54/100\n",
            "53/53 [==============================] - 8s 148ms/step - loss: 193.3710 - mae: 10.6000 - mse: 193.3710 - val_loss: 1766.4817 - val_mae: 29.3104 - val_mse: 1766.4817\n",
            "Epoch 55/100\n",
            "53/53 [==============================] - 8s 150ms/step - loss: 187.3618 - mae: 10.3946 - mse: 187.3618 - val_loss: 1812.3999 - val_mae: 29.8018 - val_mse: 1812.3999\n",
            "Epoch 56/100\n",
            "53/53 [==============================] - 8s 147ms/step - loss: 192.5737 - mae: 10.6027 - mse: 192.5737 - val_loss: 1802.8513 - val_mae: 29.7371 - val_mse: 1802.8513\n",
            "Epoch 57/100\n",
            "53/53 [==============================] - 8s 149ms/step - loss: 176.0372 - mae: 10.1393 - mse: 176.0372 - val_loss: 1859.1067 - val_mae: 30.5244 - val_mse: 1859.1067\n",
            "Epoch 58/100\n",
            "53/53 [==============================] - 8s 153ms/step - loss: 180.4620 - mae: 10.2335 - mse: 180.4620 - val_loss: 1818.0551 - val_mae: 29.8771 - val_mse: 1818.0551\n",
            "Epoch 59/100\n",
            "53/53 [==============================] - 8s 151ms/step - loss: 176.1539 - mae: 10.0952 - mse: 176.1539 - val_loss: 1815.4344 - val_mae: 29.7850 - val_mse: 1815.4344\n",
            "Epoch 60/100\n",
            "53/53 [==============================] - 8s 148ms/step - loss: 176.2484 - mae: 10.1814 - mse: 176.2484 - val_loss: 1861.4310 - val_mae: 30.5022 - val_mse: 1861.4310\n",
            "Epoch 61/100\n",
            "53/53 [==============================] - 8s 148ms/step - loss: 172.3038 - mae: 10.0175 - mse: 172.3038 - val_loss: 1832.8176 - val_mae: 30.0506 - val_mse: 1832.8176\n",
            "Epoch 62/100\n",
            "53/53 [==============================] - 8s 148ms/step - loss: 161.8157 - mae: 9.7335 - mse: 161.8157 - val_loss: 1834.5289 - val_mae: 30.0620 - val_mse: 1834.5289\n",
            "Epoch 63/100\n",
            "53/53 [==============================] - 8s 147ms/step - loss: 171.3682 - mae: 9.9930 - mse: 171.3682 - val_loss: 1812.7739 - val_mae: 29.8989 - val_mse: 1812.7739\n",
            "Epoch 64/100\n",
            "53/53 [==============================] - 8s 151ms/step - loss: 161.3870 - mae: 9.7433 - mse: 161.3870 - val_loss: 1819.2166 - val_mae: 29.9862 - val_mse: 1819.2166\n",
            "Epoch 65/100\n",
            "53/53 [==============================] - 8s 148ms/step - loss: 154.5988 - mae: 9.5050 - mse: 154.5988 - val_loss: 1846.6085 - val_mae: 30.2301 - val_mse: 1846.6085\n",
            "Epoch 66/100\n",
            "53/53 [==============================] - 8s 149ms/step - loss: 154.9686 - mae: 9.5645 - mse: 154.9686 - val_loss: 1864.2488 - val_mae: 30.5333 - val_mse: 1864.2488\n",
            "Epoch 67/100\n",
            "53/53 [==============================] - 8s 148ms/step - loss: 147.7217 - mae: 9.2885 - mse: 147.7217 - val_loss: 1845.4655 - val_mae: 30.3353 - val_mse: 1845.4655\n",
            "Epoch 68/100\n",
            "53/53 [==============================] - 8s 148ms/step - loss: 148.0853 - mae: 9.3608 - mse: 148.0853 - val_loss: 1861.1478 - val_mae: 30.4073 - val_mse: 1861.1478\n",
            "Epoch 69/100\n",
            "53/53 [==============================] - 8s 147ms/step - loss: 149.0425 - mae: 9.5064 - mse: 149.0425 - val_loss: 1905.2651 - val_mae: 31.0544 - val_mse: 1905.2651\n",
            "Epoch 70/100\n",
            "53/53 [==============================] - 8s 148ms/step - loss: 139.6022 - mae: 9.0553 - mse: 139.6022 - val_loss: 1891.2577 - val_mae: 30.8772 - val_mse: 1891.2577\n",
            "Epoch 71/100\n",
            "53/53 [==============================] - 8s 149ms/step - loss: 136.5691 - mae: 8.9312 - mse: 136.5691 - val_loss: 1928.0259 - val_mae: 31.2421 - val_mse: 1928.0259\n",
            "Epoch 72/100\n",
            "53/53 [==============================] - 8s 149ms/step - loss: 133.0800 - mae: 8.9102 - mse: 133.0800 - val_loss: 1896.0548 - val_mae: 30.8982 - val_mse: 1896.0548\n",
            "Epoch 73/100\n",
            "53/53 [==============================] - 8s 151ms/step - loss: 125.3900 - mae: 8.5684 - mse: 125.3900 - val_loss: 1917.1812 - val_mae: 31.1372 - val_mse: 1917.1812\n",
            "Epoch 74/100\n",
            "53/53 [==============================] - 8s 148ms/step - loss: 130.5347 - mae: 8.8435 - mse: 130.5347 - val_loss: 1951.1312 - val_mae: 31.6887 - val_mse: 1951.1312\n",
            "Epoch 75/100\n",
            "53/53 [==============================] - 8s 148ms/step - loss: 128.2847 - mae: 8.8363 - mse: 128.2847 - val_loss: 2050.9661 - val_mae: 32.6968 - val_mse: 2050.9661\n",
            "Epoch 76/100\n",
            "53/53 [==============================] - 8s 147ms/step - loss: 114.8403 - mae: 8.2644 - mse: 114.8403 - val_loss: 1973.0441 - val_mae: 31.7427 - val_mse: 1973.0441\n",
            "Epoch 77/100\n",
            "53/53 [==============================] - 8s 148ms/step - loss: 113.2447 - mae: 8.1556 - mse: 113.2447 - val_loss: 1978.0133 - val_mae: 31.7872 - val_mse: 1978.0133\n",
            "Epoch 78/100\n",
            "53/53 [==============================] - 8s 146ms/step - loss: 115.5215 - mae: 8.1603 - mse: 115.5215 - val_loss: 1933.1179 - val_mae: 31.3380 - val_mse: 1933.1179\n",
            "Epoch 79/100\n",
            "53/53 [==============================] - 8s 148ms/step - loss: 106.8290 - mae: 7.9331 - mse: 106.8290 - val_loss: 1950.9661 - val_mae: 31.5084 - val_mse: 1950.9661\n",
            "Epoch 80/100\n",
            "53/53 [==============================] - 8s 150ms/step - loss: 108.2437 - mae: 8.0455 - mse: 108.2437 - val_loss: 1967.3560 - val_mae: 31.7226 - val_mse: 1967.3560\n",
            "Epoch 81/100\n",
            "53/53 [==============================] - 8s 154ms/step - loss: 104.1626 - mae: 7.8549 - mse: 104.1626 - val_loss: 1976.2781 - val_mae: 31.7814 - val_mse: 1976.2781\n",
            "Epoch 82/100\n",
            "53/53 [==============================] - 8s 152ms/step - loss: 101.1617 - mae: 7.7536 - mse: 101.1617 - val_loss: 2006.6273 - val_mae: 32.1006 - val_mse: 2006.6273\n",
            "Epoch 83/100\n",
            "53/53 [==============================] - 8s 148ms/step - loss: 106.0079 - mae: 7.9676 - mse: 106.0079 - val_loss: 1969.1014 - val_mae: 31.6205 - val_mse: 1969.1014\n",
            "Epoch 84/100\n",
            "53/53 [==============================] - 8s 146ms/step - loss: 91.9728 - mae: 7.3017 - mse: 91.9728 - val_loss: 1948.4817 - val_mae: 31.4233 - val_mse: 1948.4817\n",
            "Epoch 85/100\n",
            "53/53 [==============================] - 8s 147ms/step - loss: 105.8792 - mae: 7.9773 - mse: 105.8792 - val_loss: 1984.2347 - val_mae: 31.9062 - val_mse: 1984.2347\n",
            "Epoch 86/100\n",
            "53/53 [==============================] - 8s 150ms/step - loss: 100.5990 - mae: 7.7264 - mse: 100.5990 - val_loss: 1974.5916 - val_mae: 31.6841 - val_mse: 1974.5916\n",
            "Epoch 87/100\n",
            "53/53 [==============================] - 8s 152ms/step - loss: 86.2152 - mae: 7.0667 - mse: 86.2152 - val_loss: 1967.4702 - val_mae: 31.7136 - val_mse: 1967.4702\n",
            "Epoch 88/100\n",
            "53/53 [==============================] - 8s 150ms/step - loss: 85.0775 - mae: 7.0965 - mse: 85.0775 - val_loss: 2042.0615 - val_mae: 32.5180 - val_mse: 2042.0615\n",
            "Epoch 89/100\n",
            "53/53 [==============================] - 8s 148ms/step - loss: 85.2118 - mae: 7.0373 - mse: 85.2118 - val_loss: 2040.9603 - val_mae: 32.4741 - val_mse: 2040.9603\n",
            "Epoch 90/100\n",
            "53/53 [==============================] - 8s 148ms/step - loss: 80.5275 - mae: 6.9793 - mse: 80.5275 - val_loss: 1985.7056 - val_mae: 31.9238 - val_mse: 1985.7056\n",
            "Epoch 91/100\n",
            "53/53 [==============================] - 8s 148ms/step - loss: 74.1978 - mae: 6.6205 - mse: 74.1978 - val_loss: 2042.6718 - val_mae: 32.4606 - val_mse: 2042.6718\n",
            "Epoch 92/100\n",
            "53/53 [==============================] - 8s 148ms/step - loss: 79.2846 - mae: 6.7939 - mse: 79.2846 - val_loss: 2023.2909 - val_mae: 32.2468 - val_mse: 2023.2909\n",
            "Epoch 93/100\n",
            "53/53 [==============================] - 8s 147ms/step - loss: 69.9072 - mae: 6.4077 - mse: 69.9072 - val_loss: 2044.0553 - val_mae: 32.4459 - val_mse: 2044.0553\n",
            "Epoch 94/100\n",
            "53/53 [==============================] - 8s 148ms/step - loss: 67.3058 - mae: 6.3125 - mse: 67.3058 - val_loss: 2075.3262 - val_mae: 32.7949 - val_mse: 2075.3262\n",
            "Epoch 95/100\n",
            "53/53 [==============================] - 8s 147ms/step - loss: 75.6749 - mae: 6.6994 - mse: 75.6749 - val_loss: 2065.0107 - val_mae: 32.7398 - val_mse: 2065.0107\n",
            "Epoch 96/100\n",
            "53/53 [==============================] - 8s 147ms/step - loss: 82.7925 - mae: 7.0985 - mse: 82.7925 - val_loss: 1997.0270 - val_mae: 31.9168 - val_mse: 1997.0270\n",
            "Epoch 97/100\n",
            "53/53 [==============================] - 8s 149ms/step - loss: 66.7767 - mae: 6.1991 - mse: 66.7767 - val_loss: 2045.9993 - val_mae: 32.4550 - val_mse: 2045.9993\n",
            "Epoch 98/100\n",
            "53/53 [==============================] - 8s 148ms/step - loss: 72.8367 - mae: 6.5962 - mse: 72.8367 - val_loss: 2064.4490 - val_mae: 32.7294 - val_mse: 2064.4490\n",
            "Epoch 99/100\n",
            "53/53 [==============================] - 8s 147ms/step - loss: 64.0123 - mae: 6.0807 - mse: 64.0123 - val_loss: 2045.5974 - val_mae: 32.4845 - val_mse: 2045.5974\n",
            "Epoch 100/100\n",
            "53/53 [==============================] - 8s 148ms/step - loss: 61.7538 - mae: 5.9102 - mse: 61.7538 - val_loss: 2085.8188 - val_mae: 32.9234 - val_mse: 2085.8188\n"
          ]
        }
      ]
    },
    {
      "cell_type": "markdown",
      "source": [
        "Predictions"
      ],
      "metadata": {
        "id": "hjVQsanxpHma"
      }
    },
    {
      "cell_type": "code",
      "source": [
        "train_idx[:T+1]=False"
      ],
      "metadata": {
        "id": "f1Llph9XdeVY"
      },
      "execution_count": 448,
      "outputs": []
    },
    {
      "cell_type": "code",
      "source": [
        "Ptrain_ann=model_ann.predict(Xtrain).flatten()\n",
        "Ptest_ann=model_ann.predict(Xtest).flatten()\n"
      ],
      "metadata": {
        "id": "96WR1e3Sdgle"
      },
      "execution_count": 449,
      "outputs": []
    },
    {
      "cell_type": "code",
      "source": [
        "Ptrain_cnn=model_cnn.predict(Xtrain).flatten()\n",
        "Ptest_cnn=model_cnn.predict(Xtest).flatten()"
      ],
      "metadata": {
        "id": "Pc5bF6Z_gUGI"
      },
      "execution_count": 450,
      "outputs": []
    },
    {
      "cell_type": "code",
      "source": [
        "Ptrain_lstm=model_lstm.predict(Xtrain).flatten()\n",
        "Ptest_lstm=model_lstm.predict(Xtest).flatten()"
      ],
      "metadata": {
        "id": "LWhMPuCvjAIS"
      },
      "execution_count": 451,
      "outputs": []
    },
    {
      "cell_type": "code",
      "source": [
        "Ptrain_gru=model_gru.predict(Xtrain).flatten()\n",
        "Ptest_gru=model_gru.predict(Xtest).flatten()"
      ],
      "metadata": {
        "id": "znvUQWrKnmIj"
      },
      "execution_count": 452,
      "outputs": []
    },
    {
      "cell_type": "code",
      "source": [
        "df.loc[train_idx,'Diff ANN train prediction']=Ptrain_ann\n",
        "df.loc[test_idx,'Diff ANN test prediction']=Ptest_ann"
      ],
      "metadata": {
        "id": "L7p_peucdjgP"
      },
      "execution_count": 453,
      "outputs": []
    },
    {
      "cell_type": "code",
      "source": [
        "df.loc[train_idx,'Diff CNN train prediction']=Ptrain_cnn\n",
        "df.loc[test_idx,'Diff CNN test prediction']=Ptest_cnn"
      ],
      "metadata": {
        "id": "YcnY5nc6gaG6"
      },
      "execution_count": 454,
      "outputs": []
    },
    {
      "cell_type": "code",
      "source": [
        "df.loc[train_idx,'Diff LSTM train prediction']=Ptrain_lstm\n",
        "df.loc[test_idx,'Diff LSTM test prediction']=Ptest_lstm"
      ],
      "metadata": {
        "id": "8p_92fO6jTpW"
      },
      "execution_count": 455,
      "outputs": []
    },
    {
      "cell_type": "code",
      "source": [
        "df.loc[train_idx,'Diff GRU train prediction']=Ptrain_gru\n",
        "df.loc[test_idx,'Diff GRU test prediction']=Ptest_gru"
      ],
      "metadata": {
        "id": "nmUC4sKpnsIl"
      },
      "execution_count": 456,
      "outputs": []
    },
    {
      "cell_type": "code",
      "source": [
        "df['Shift Prev Close']=df['Prev Close'].shift(1)\n",
        "prev=df['Shift Prev Close']"
      ],
      "metadata": {
        "id": "Ea7RmDuJdpgz"
      },
      "execution_count": 457,
      "outputs": []
    },
    {
      "cell_type": "code",
      "source": [
        "last_train=train.iloc[-1]['Prev Close']"
      ],
      "metadata": {
        "id": "hrhOEI3fduRI"
      },
      "execution_count": 458,
      "outputs": []
    },
    {
      "cell_type": "code",
      "source": [
        "df.loc[train_idx,'train_ANN']=prev[train_idx]+Ptrain_ann\n",
        "df.loc[test_idx,'Prediction_ANN']=prev[test_idx]+Ptest_ann"
      ],
      "metadata": {
        "id": "h0UpXNAXd0Uy"
      },
      "execution_count": 459,
      "outputs": []
    },
    {
      "cell_type": "code",
      "source": [
        "df.loc[train_idx,'train_CNN']=prev[train_idx]+Ptrain_cnn\n",
        "df.loc[test_idx,'Prediction_CNN']=prev[test_idx]+Ptest_cnn"
      ],
      "metadata": {
        "id": "EUYdfUqdg5Tu"
      },
      "execution_count": 460,
      "outputs": []
    },
    {
      "cell_type": "code",
      "source": [
        "df.loc[train_idx,'train_LSTM']=prev[train_idx]+Ptrain_lstm\n",
        "df.loc[test_idx,'Prediction_LSTM']=prev[test_idx]+Ptest_lstm"
      ],
      "metadata": {
        "id": "Na8TIloyjc_Z"
      },
      "execution_count": 461,
      "outputs": []
    },
    {
      "cell_type": "code",
      "source": [
        "df.loc[train_idx,'train_GRU']=prev[train_idx]+Ptrain_gru\n",
        "df.loc[test_idx,'Prediction_GRU']=prev[test_idx]+Ptest_gru"
      ],
      "metadata": {
        "id": "qSL8wEeqnzrM"
      },
      "execution_count": 462,
      "outputs": []
    },
    {
      "cell_type": "code",
      "source": [
        "df[[ 'Prev Close','Prediction_CNN','Prediction_ANN','Prediction_LSTM','Prediction_GRU']].plot(figsize=(15,10));"
      ],
      "metadata": {
        "colab": {
          "base_uri": "https://localhost:8080/",
          "height": 416
        },
        "id": "hItPmrHOd45G",
        "outputId": "c82016a8-ee18-4e0d-9b7b-be5e59c9b567"
      },
      "execution_count": 463,
      "outputs": [
        {
          "output_type": "display_data",
          "data": {
            "text/plain": [
              "<Figure size 1080x720 with 1 Axes>"
            ],
            "image/png": "[encoded data removed]"
          },
          "metadata": {
            "needs_background": "light"
          }
        }
      ]
    },
    {
      "cell_type": "code",
      "source": [
        "df[[ 'Prediction_CNN','Prediction_ANN','Prediction_LSTM','Prediction_GRU']].plot(figsize=(15,10),\n",
        "    ylabel=(\"Previous Close\"));"
      ],
      "metadata": {
        "colab": {
          "base_uri": "https://localhost:8080/",
          "height": 416
        },
        "id": "8nDh9SzUd7Em",
        "outputId": "955cff43-7716-4499-dc32-1f49a1ebb66c"
      },
      "execution_count": 464,
      "outputs": [
        {
          "output_type": "display_data",
          "data": {
            "text/plain": [
              "<Figure size 1080x720 with 1 Axes>"
            ],
            "image/png": "[encoded data removed]"
          },
          "metadata": {
            "needs_background": "light"
          }
        }
      ]
    },
    {
      "cell_type": "markdown",
      "source": [
        "Evaluation"
      ],
      "metadata": {
        "id": "rSXUYSDdpMP7"
      }
    },
    {
      "cell_type": "code",
      "source": [
        "pred_ann=df['Prediction_ANN']\n",
        "pred_ann.dropna(inplace=True)"
      ],
      "metadata": {
        "id": "NdOUWgEhoKjf"
      },
      "execution_count": 465,
      "outputs": []
    },
    {
      "cell_type": "code",
      "source": [
        "rmse=math.sqrt(mean_squared_error(test['Prev Close'],pred_ann))\n",
        "print(rmse)"
      ],
      "metadata": {
        "colab": {
          "base_uri": "https://localhost:8080/"
        },
        "id": "nsTCBQ6mpdH0",
        "outputId": "2689574d-5cd6-41cc-e8ce-844c2bd9ff10"
      },
      "execution_count": 466,
      "outputs": [
        {
          "output_type": "stream",
          "name": "stdout",
          "text": [
            "41.00483939804816\n"
          ]
        }
      ]
    },
    {
      "cell_type": "code",
      "source": [
        "error=mean_absolute_error(test['Prev Close'],pred_ann)\n",
        "print(error)"
      ],
      "metadata": {
        "colab": {
          "base_uri": "https://localhost:8080/"
        },
        "id": "iIAQHD7DpgVL",
        "outputId": "4e5221ac-41e7-4931-939f-a96dae00623c"
      },
      "execution_count": 467,
      "outputs": [
        {
          "output_type": "stream",
          "name": "stdout",
          "text": [
            "28.32494777062981\n"
          ]
        }
      ]
    },
    {
      "cell_type": "code",
      "source": [
        "r2_score(test['Prev Close'],pred_ann)"
      ],
      "metadata": {
        "colab": {
          "base_uri": "https://localhost:8080/"
        },
        "id": "-0ZfJE4zplqz",
        "outputId": "04a5710b-a711-4ddd-b639-e89ed8e1f05f"
      },
      "execution_count": 468,
      "outputs": [
        {
          "output_type": "execute_result",
          "data": {
            "text/plain": [
              "0.9648478730781718"
            ]
          },
          "metadata": {},
          "execution_count": 468
        }
      ]
    },
    {
      "cell_type": "code",
      "source": [
        "pred_cnn=df['Prediction_CNN']\n",
        "pred_cnn.dropna(inplace=True)"
      ],
      "metadata": {
        "id": "NQ3y6NwzppdW"
      },
      "execution_count": 469,
      "outputs": []
    },
    {
      "cell_type": "code",
      "source": [
        "rmse=math.sqrt(mean_squared_error(test['Prev Close'],pred_cnn))\n",
        "print(rmse)"
      ],
      "metadata": {
        "colab": {
          "base_uri": "https://localhost:8080/"
        },
        "id": "2t7Fu7N-p9ql",
        "outputId": "292b6a24-d4da-4a78-a6e2-c09a41cd3783"
      },
      "execution_count": 470,
      "outputs": [
        {
          "output_type": "stream",
          "name": "stdout",
          "text": [
            "42.55262963910861\n"
          ]
        }
      ]
    },
    {
      "cell_type": "code",
      "source": [
        "error=mean_absolute_error(test['Prev Close'],pred_cnn)\n",
        "print(error)"
      ],
      "metadata": {
        "colab": {
          "base_uri": "https://localhost:8080/"
        },
        "id": "fCxfXZ3Cp92i",
        "outputId": "5cefbdd8-fecc-4684-8350-015dfb7e021f"
      },
      "execution_count": 471,
      "outputs": [
        {
          "output_type": "stream",
          "name": "stdout",
          "text": [
            "29.758503986214585\n"
          ]
        }
      ]
    },
    {
      "cell_type": "code",
      "source": [
        "r2_score(test['Prev Close'],pred_cnn)"
      ],
      "metadata": {
        "colab": {
          "base_uri": "https://localhost:8080/"
        },
        "id": "B1yNq5Vyp-Fv",
        "outputId": "22c9f005-bfd5-4a0e-ada7-f94040815c00"
      },
      "execution_count": 472,
      "outputs": [
        {
          "output_type": "execute_result",
          "data": {
            "text/plain": [
              "0.962144046966024"
            ]
          },
          "metadata": {},
          "execution_count": 472
        }
      ]
    },
    {
      "cell_type": "code",
      "source": [
        "pred_lstm=df['Prediction_LSTM']\n",
        "pred_lstm.dropna(inplace=True)"
      ],
      "metadata": {
        "id": "2JHbSsrypzko"
      },
      "execution_count": 473,
      "outputs": []
    },
    {
      "cell_type": "code",
      "source": [
        "rmse=math.sqrt(mean_squared_error(test['Prev Close'],pred_lstm))\n",
        "print(rmse)"
      ],
      "metadata": {
        "colab": {
          "base_uri": "https://localhost:8080/"
        },
        "id": "UXSSQRxQp-35",
        "outputId": "453aba33-42c1-4946-a026-00f84ef77647"
      },
      "execution_count": 474,
      "outputs": [
        {
          "output_type": "stream",
          "name": "stdout",
          "text": [
            "48.25354851726065\n"
          ]
        }
      ]
    },
    {
      "cell_type": "code",
      "source": [
        "error=mean_absolute_error(test['Prev Close'],pred_lstm)\n",
        "print(error)"
      ],
      "metadata": {
        "colab": {
          "base_uri": "https://localhost:8080/"
        },
        "id": "h9VZ6Odxp-9o",
        "outputId": "bb859c81-1246-4c67-d502-05659146b4d9"
      },
      "execution_count": 475,
      "outputs": [
        {
          "output_type": "stream",
          "name": "stdout",
          "text": [
            "35.62931157673633\n"
          ]
        }
      ]
    },
    {
      "cell_type": "code",
      "source": [
        "r2_score(test['Prev Close'],pred_lstm)"
      ],
      "metadata": {
        "colab": {
          "base_uri": "https://localhost:8080/"
        },
        "id": "X7FH8enup_D3",
        "outputId": "5deb91e4-facb-4a5c-9fa4-ebac27e8abfa"
      },
      "execution_count": 476,
      "outputs": [
        {
          "output_type": "execute_result",
          "data": {
            "text/plain": [
              "0.951321197052842"
            ]
          },
          "metadata": {},
          "execution_count": 476
        }
      ]
    },
    {
      "cell_type": "code",
      "source": [
        "pred_gru=df['Prediction_GRU']\n",
        "pred_gru.dropna(inplace=True)"
      ],
      "metadata": {
        "id": "i3IdPEAWp4iD"
      },
      "execution_count": 477,
      "outputs": []
    },
    {
      "cell_type": "code",
      "source": [
        "rmse=math.sqrt(mean_squared_error(test['Prev Close'],pred_gru))\n",
        "print(rmse)"
      ],
      "metadata": {
        "colab": {
          "base_uri": "https://localhost:8080/"
        },
        "id": "XuZAIPTEp_iy",
        "outputId": "55a524b5-fb97-492f-c56f-a75850f51413"
      },
      "execution_count": 478,
      "outputs": [
        {
          "output_type": "stream",
          "name": "stdout",
          "text": [
            "45.670766506097685\n"
          ]
        }
      ]
    },
    {
      "cell_type": "code",
      "source": [
        "error=mean_absolute_error(test['Prev Close'],pred_gru)\n",
        "print(error)"
      ],
      "metadata": {
        "colab": {
          "base_uri": "https://localhost:8080/"
        },
        "id": "eo7EZVIop_np",
        "outputId": "66289b8a-27b3-4686-de16-a5a90b968ca6"
      },
      "execution_count": 479,
      "outputs": [
        {
          "output_type": "stream",
          "name": "stdout",
          "text": [
            "32.923408280811394\n"
          ]
        }
      ]
    },
    {
      "cell_type": "code",
      "source": [
        "r2_score(test['Prev Close'],pred_gru)"
      ],
      "metadata": {
        "colab": {
          "base_uri": "https://localhost:8080/"
        },
        "id": "AQIh6l51p_so",
        "outputId": "9f0e6c41-214b-47cc-f563-a36359e2ab8c"
      },
      "execution_count": 480,
      "outputs": [
        {
          "output_type": "execute_result",
          "data": {
            "text/plain": [
              "0.9563928224335386"
            ]
          },
          "metadata": {},
          "execution_count": 480
        }
      ]
    },
    {
      "cell_type": "code",
      "source": [],
      "metadata": {
        "id": "gjfmkSgjqcjO"
      },
      "execution_count": 480,
      "outputs": []
    }
  ]
}