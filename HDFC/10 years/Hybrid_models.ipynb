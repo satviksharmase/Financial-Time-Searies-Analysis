{
  "nbformat": 4,
  "nbformat_minor": 0,
  "metadata": {
    "colab": {
      "provenance": [],
      "collapsed_sections": []
    },
    "kernelspec": {
      "name": "python3",
      "display_name": "Python 3"
    },
    "language_info": {
      "name": "python"
    }
  },
  "cells": [
    {
      "cell_type": "code",
      "execution_count": 208,
      "metadata": {
        "id": "dpI-f41n9Ofc"
      },
      "outputs": [],
      "source": [
        "import pandas as pd\n",
        "import numpy as np\n",
        "import matplotlib.pyplot as plt\n",
        "\n",
        "import tensorflow as tf\n",
        "from tensorflow.keras.layers import Dense, Input, GlobalMaxPool1D, LSTM, GRU\n",
        "from tensorflow.keras.layers import Conv1D, MaxPooling1D\n",
        "from tensorflow.keras.models import Model\n",
        "from tensorflow.keras.callbacks import ModelCheckpoint\n",
        "\n",
        "import math\n",
        "\n",
        "from sklearn.metrics import r2_score\n",
        "from sklearn.metrics import mean_absolute_error\n",
        "from sklearn.metrics import mean_squared_error\n",
        "\n",
        "np.random.seed(123)\n",
        "tf.random.set_seed(123)"
      ]
    },
    {
      "cell_type": "code",
      "source": [
        "df=pd.read_csv('./HDFC.csv',index_col='Date',parse_dates=True)"
      ],
      "metadata": {
        "id": "tRrBpF6O9Rch"
      },
      "execution_count": 209,
      "outputs": []
    },
    {
      "cell_type": "code",
      "source": [
        "df"
      ],
      "metadata": {
        "colab": {
          "base_uri": "https://localhost:8080/",
          "height": 710
        },
        "id": "ZHKVPajo9cUs",
        "outputId": "51eaecb0-bbb6-474f-f887-efbd9a439d33"
      },
      "execution_count": 210,
      "outputs": [
        {
          "output_type": "execute_result",
          "data": {
            "text/plain": [
              "           Symbol Series  Prev Close     Open     High      Low     Last  \\\n",
              "Date                                                                       \n",
              "2000-01-03   HDFC     EQ      271.75   293.50   293.50   293.50   293.50   \n",
              "2000-01-04   HDFC     EQ      293.50   317.00   317.00   297.00   304.00   \n",
              "2000-01-05   HDFC     EQ      304.05   290.00   303.90   285.00   295.00   \n",
              "2000-01-06   HDFC     EQ      292.80   301.00   314.00   295.00   296.00   \n",
              "2000-01-07   HDFC     EQ      296.45   290.00   296.35   281.00   287.10   \n",
              "...           ...    ...         ...      ...      ...      ...      ...   \n",
              "2021-04-26   HDFC     EQ     2497.35  2500.00  2534.10  2483.20  2502.00   \n",
              "2021-04-27   HDFC     EQ     2509.80  2494.15  2526.80  2486.25  2514.00   \n",
              "2021-04-28   HDFC     EQ     2518.40  2516.10  2609.00  2508.30  2575.00   \n",
              "2021-04-29   HDFC     EQ     2577.00  2590.90  2628.00  2533.00  2539.70   \n",
              "2021-04-30   HDFC     EQ     2538.85  2503.10  2525.00  2411.10  2433.25   \n",
              "\n",
              "              Close     VWAP   Volume      Turnover    Trades  \\\n",
              "Date                                                            \n",
              "2000-01-03   293.50   293.50    22744  6.675364e+11       NaN   \n",
              "2000-01-04   304.05   303.62   255251  7.749972e+12       NaN   \n",
              "2000-01-05   292.80   294.53   269087  7.925368e+12       NaN   \n",
              "2000-01-06   296.45   300.14   305916  9.181669e+12       NaN   \n",
              "2000-01-07   286.55   288.80   197039  5.690480e+12       NaN   \n",
              "...             ...      ...      ...           ...       ...   \n",
              "2021-04-26  2509.80  2508.07  3916088  9.821805e+14  121028.0   \n",
              "2021-04-27  2518.40  2509.18  2040799  5.120730e+14  102250.0   \n",
              "2021-04-28  2577.00  2574.21  3407461  8.771527e+14  117425.0   \n",
              "2021-04-29  2538.85  2569.65  3005468  7.722995e+14  132826.0   \n",
              "2021-04-30  2420.10  2445.94  6024595  1.473581e+15  224454.0   \n",
              "\n",
              "            Deliverable Volume  %Deliverble  \n",
              "Date                                         \n",
              "2000-01-03                 NaN          NaN  \n",
              "2000-01-04                 NaN          NaN  \n",
              "2000-01-05                 NaN          NaN  \n",
              "2000-01-06                 NaN          NaN  \n",
              "2000-01-07                 NaN          NaN  \n",
              "...                        ...          ...  \n",
              "2021-04-26           2440395.0       0.6232  \n",
              "2021-04-27           1040749.0       0.5100  \n",
              "2021-04-28           1815110.0       0.5327  \n",
              "2021-04-29           1472924.0       0.4901  \n",
              "2021-04-30           3839105.0       0.6372  \n",
              "\n",
              "[5306 rows x 14 columns]"
            ],
            "text/html": [
              "\n",
              "  <div id=\"df-2c9cd9f4-6fed-434f-b14f-833db00b12f0\">\n",
              "    <div class=\"colab-df-container\">\n",
              "      <div>\n",
              "<style scoped>\n",
              "    .dataframe tbody tr th:only-of-type {\n",
              "        vertical-align: middle;\n",
              "    }\n",
              "\n",
              "    .dataframe tbody tr th {\n",
              "        vertical-align: top;\n",
              "    }\n",
              "\n",
              "    .dataframe thead th {\n",
              "        text-align: right;\n",
              "    }\n",
              "</style>\n",
              "<table border=\"1\" class=\"dataframe\">\n",
              "  <thead>\n",
              "    <tr style=\"text-align: right;\">\n",
              "      <th></th>\n",
              "      <th>Symbol</th>\n",
              "      <th>Series</th>\n",
              "      <th>Prev Close</th>\n",
              "      <th>Open</th>\n",
              "      <th>High</th>\n",
              "      <th>Low</th>\n",
              "      <th>Last</th>\n",
              "      <th>Close</th>\n",
              "      <th>VWAP</th>\n",
              "      <th>Volume</th>\n",
              "      <th>Turnover</th>\n",
              "      <th>Trades</th>\n",
              "      <th>Deliverable Volume</th>\n",
              "      <th>%Deliverble</th>\n",
              "    </tr>\n",
              "    <tr>\n",
              "      <th>Date</th>\n",
              "      <th></th>\n",
              "      <th></th>\n",
              "      <th></th>\n",
              "      <th></th>\n",
              "      <th></th>\n",
              "      <th></th>\n",
              "      <th></th>\n",
              "      <th></th>\n",
              "      <th></th>\n",
              "      <th></th>\n",
              "      <th></th>\n",
              "      <th></th>\n",
              "      <th></th>\n",
              "      <th></th>\n",
              "    </tr>\n",
              "  </thead>\n",
              "  <tbody>\n",
              "    <tr>\n",
              "      <th>2000-01-03</th>\n",
              "      <td>HDFC</td>\n",
              "      <td>EQ</td>\n",
              "      <td>271.75</td>\n",
              "      <td>293.50</td>\n",
              "      <td>293.50</td>\n",
              "      <td>293.50</td>\n",
              "      <td>293.50</td>\n",
              "      <td>293.50</td>\n",
              "      <td>293.50</td>\n",
              "      <td>22744</td>\n",
              "      <td>6.675364e+11</td>\n",
              "      <td>NaN</td>\n",
              "      <td>NaN</td>\n",
              "      <td>NaN</td>\n",
              "    </tr>\n",
              "    <tr>\n",
              "      <th>2000-01-04</th>\n",
              "      <td>HDFC</td>\n",
              "      <td>EQ</td>\n",
              "      <td>293.50</td>\n",
              "      <td>317.00</td>\n",
              "      <td>317.00</td>\n",
              "      <td>297.00</td>\n",
              "      <td>304.00</td>\n",
              "      <td>304.05</td>\n",
              "      <td>303.62</td>\n",
              "      <td>255251</td>\n",
              "      <td>7.749972e+12</td>\n",
              "      <td>NaN</td>\n",
              "      <td>NaN</td>\n",
              "      <td>NaN</td>\n",
              "    </tr>\n",
              "    <tr>\n",
              "      <th>2000-01-05</th>\n",
              "      <td>HDFC</td>\n",
              "      <td>EQ</td>\n",
              "      <td>304.05</td>\n",
              "      <td>290.00</td>\n",
              "      <td>303.90</td>\n",
              "      <td>285.00</td>\n",
              "      <td>295.00</td>\n",
              "      <td>292.80</td>\n",
              "      <td>294.53</td>\n",
              "      <td>269087</td>\n",
              "      <td>7.925368e+12</td>\n",
              "      <td>NaN</td>\n",
              "      <td>NaN</td>\n",
              "      <td>NaN</td>\n",
              "    </tr>\n",
              "    <tr>\n",
              "      <th>2000-01-06</th>\n",
              "      <td>HDFC</td>\n",
              "      <td>EQ</td>\n",
              "      <td>292.80</td>\n",
              "      <td>301.00</td>\n",
              "      <td>314.00</td>\n",
              "      <td>295.00</td>\n",
              "      <td>296.00</td>\n",
              "      <td>296.45</td>\n",
              "      <td>300.14</td>\n",
              "      <td>305916</td>\n",
              "      <td>9.181669e+12</td>\n",
              "      <td>NaN</td>\n",
              "      <td>NaN</td>\n",
              "      <td>NaN</td>\n",
              "    </tr>\n",
              "    <tr>\n",
              "      <th>2000-01-07</th>\n",
              "      <td>HDFC</td>\n",
              "      <td>EQ</td>\n",
              "      <td>296.45</td>\n",
              "      <td>290.00</td>\n",
              "      <td>296.35</td>\n",
              "      <td>281.00</td>\n",
              "      <td>287.10</td>\n",
              "      <td>286.55</td>\n",
              "      <td>288.80</td>\n",
              "      <td>197039</td>\n",
              "      <td>5.690480e+12</td>\n",
              "      <td>NaN</td>\n",
              "      <td>NaN</td>\n",
              "      <td>NaN</td>\n",
              "    </tr>\n",
              "    <tr>\n",
              "      <th>...</th>\n",
              "      <td>...</td>\n",
              "      <td>...</td>\n",
              "      <td>...</td>\n",
              "      <td>...</td>\n",
              "      <td>...</td>\n",
              "      <td>...</td>\n",
              "      <td>...</td>\n",
              "      <td>...</td>\n",
              "      <td>...</td>\n",
              "      <td>...</td>\n",
              "      <td>...</td>\n",
              "      <td>...</td>\n",
              "      <td>...</td>\n",
              "      <td>...</td>\n",
              "    </tr>\n",
              "    <tr>\n",
              "      <th>2021-04-26</th>\n",
              "      <td>HDFC</td>\n",
              "      <td>EQ</td>\n",
              "      <td>2497.35</td>\n",
              "      <td>2500.00</td>\n",
              "      <td>2534.10</td>\n",
              "      <td>2483.20</td>\n",
              "      <td>2502.00</td>\n",
              "      <td>2509.80</td>\n",
              "      <td>2508.07</td>\n",
              "      <td>3916088</td>\n",
              "      <td>9.821805e+14</td>\n",
              "      <td>121028.0</td>\n",
              "      <td>2440395.0</td>\n",
              "      <td>0.6232</td>\n",
              "    </tr>\n",
              "    <tr>\n",
              "      <th>2021-04-27</th>\n",
              "      <td>HDFC</td>\n",
              "      <td>EQ</td>\n",
              "      <td>2509.80</td>\n",
              "      <td>2494.15</td>\n",
              "      <td>2526.80</td>\n",
              "      <td>2486.25</td>\n",
              "      <td>2514.00</td>\n",
              "      <td>2518.40</td>\n",
              "      <td>2509.18</td>\n",
              "      <td>2040799</td>\n",
              "      <td>5.120730e+14</td>\n",
              "      <td>102250.0</td>\n",
              "      <td>1040749.0</td>\n",
              "      <td>0.5100</td>\n",
              "    </tr>\n",
              "    <tr>\n",
              "      <th>2021-04-28</th>\n",
              "      <td>HDFC</td>\n",
              "      <td>EQ</td>\n",
              "      <td>2518.40</td>\n",
              "      <td>2516.10</td>\n",
              "      <td>2609.00</td>\n",
              "      <td>2508.30</td>\n",
              "      <td>2575.00</td>\n",
              "      <td>2577.00</td>\n",
              "      <td>2574.21</td>\n",
              "      <td>3407461</td>\n",
              "      <td>8.771527e+14</td>\n",
              "      <td>117425.0</td>\n",
              "      <td>1815110.0</td>\n",
              "      <td>0.5327</td>\n",
              "    </tr>\n",
              "    <tr>\n",
              "      <th>2021-04-29</th>\n",
              "      <td>HDFC</td>\n",
              "      <td>EQ</td>\n",
              "      <td>2577.00</td>\n",
              "      <td>2590.90</td>\n",
              "      <td>2628.00</td>\n",
              "      <td>2533.00</td>\n",
              "      <td>2539.70</td>\n",
              "      <td>2538.85</td>\n",
              "      <td>2569.65</td>\n",
              "      <td>3005468</td>\n",
              "      <td>7.722995e+14</td>\n",
              "      <td>132826.0</td>\n",
              "      <td>1472924.0</td>\n",
              "      <td>0.4901</td>\n",
              "    </tr>\n",
              "    <tr>\n",
              "      <th>2021-04-30</th>\n",
              "      <td>HDFC</td>\n",
              "      <td>EQ</td>\n",
              "      <td>2538.85</td>\n",
              "      <td>2503.10</td>\n",
              "      <td>2525.00</td>\n",
              "      <td>2411.10</td>\n",
              "      <td>2433.25</td>\n",
              "      <td>2420.10</td>\n",
              "      <td>2445.94</td>\n",
              "      <td>6024595</td>\n",
              "      <td>1.473581e+15</td>\n",
              "      <td>224454.0</td>\n",
              "      <td>3839105.0</td>\n",
              "      <td>0.6372</td>\n",
              "    </tr>\n",
              "  </tbody>\n",
              "</table>\n",
              "<p>5306 rows × 14 columns</p>\n",
              "</div>\n",
              "      <button class=\"colab-df-convert\" onclick=\"convertToInteractive('df-2c9cd9f4-6fed-434f-b14f-833db00b12f0')\"\n",
              "              title=\"Convert this dataframe to an interactive table.\"\n",
              "              style=\"display:none;\">\n",
              "        \n",
              "  <svg xmlns=\"http://www.w3.org/2000/svg\" height=\"24px\"viewBox=\"0 0 24 24\"\n",
              "       width=\"24px\">\n",
              "    <path d=\"M0 0h24v24H0V0z\" fill=\"none\"/>\n",
              "    <path d=\"M18.56 5.44l.94 2.06.94-2.06 2.06-.94-2.06-.94-.94-2.06-.94 2.06-2.06.94zm-11 1L8.5 8.5l.94-2.06 2.06-.94-2.06-.94L8.5 2.5l-.94 2.06-2.06.94zm10 10l.94 2.06.94-2.06 2.06-.94-2.06-.94-.94-2.06-.94 2.06-2.06.94z\"/><path d=\"M17.41 7.96l-1.37-1.37c-.4-.4-.92-.59-1.43-.59-.52 0-1.04.2-1.43.59L10.3 9.45l-7.72 7.72c-.78.78-.78 2.05 0 2.83L4 21.41c.39.39.9.59 1.41.59.51 0 1.02-.2 1.41-.59l7.78-7.78 2.81-2.81c.8-.78.8-2.07 0-2.86zM5.41 20L4 18.59l7.72-7.72 1.47 1.35L5.41 20z\"/>\n",
              "  </svg>\n",
              "      </button>\n",
              "      \n",
              "  <style>\n",
              "    .colab-df-container {\n",
              "      display:flex;\n",
              "      flex-wrap:wrap;\n",
              "      gap: 12px;\n",
              "    }\n",
              "\n",
              "    .colab-df-convert {\n",
              "      background-color: #E8F0FE;\n",
              "      border: none;\n",
              "      border-radius: 50%;\n",
              "      cursor: pointer;\n",
              "      display: none;\n",
              "      fill: #1967D2;\n",
              "      height: 32px;\n",
              "      padding: 0 0 0 0;\n",
              "      width: 32px;\n",
              "    }\n",
              "\n",
              "    .colab-df-convert:hover {\n",
              "      background-color: #E2EBFA;\n",
              "      box-shadow: 0px 1px 2px rgba(60, 64, 67, 0.3), 0px 1px 3px 1px rgba(60, 64, 67, 0.15);\n",
              "      fill: #174EA6;\n",
              "    }\n",
              "\n",
              "    [theme=dark] .colab-df-convert {\n",
              "      background-color: #3B4455;\n",
              "      fill: #D2E3FC;\n",
              "    }\n",
              "\n",
              "    [theme=dark] .colab-df-convert:hover {\n",
              "      background-color: #434B5C;\n",
              "      box-shadow: 0px 1px 3px 1px rgba(0, 0, 0, 0.15);\n",
              "      filter: drop-shadow(0px 1px 2px rgba(0, 0, 0, 0.3));\n",
              "      fill: #FFFFFF;\n",
              "    }\n",
              "  </style>\n",
              "\n",
              "      <script>\n",
              "        const buttonEl =\n",
              "          document.querySelector('#df-2c9cd9f4-6fed-434f-b14f-833db00b12f0 button.colab-df-convert');\n",
              "        buttonEl.style.display =\n",
              "          google.colab.kernel.accessAllowed ? 'block' : 'none';\n",
              "\n",
              "        async function convertToInteractive(key) {\n",
              "          const element = document.querySelector('#df-2c9cd9f4-6fed-434f-b14f-833db00b12f0');\n",
              "          const dataTable =\n",
              "            await google.colab.kernel.invokeFunction('convertToInteractive',\n",
              "                                                     [key], {});\n",
              "          if (!dataTable) return;\n",
              "\n",
              "          const docLinkHtml = 'Like what you see? Visit the ' +\n",
              "            '<a target=\"_blank\" href=https://colab.research.google.com/notebooks/data_table.ipynb>data table notebook</a>'\n",
              "            + ' to learn more about interactive tables.';\n",
              "          element.innerHTML = '';\n",
              "          dataTable['output_type'] = 'display_data';\n",
              "          await google.colab.output.renderOutput(dataTable, element);\n",
              "          const docLink = document.createElement('div');\n",
              "          docLink.innerHTML = docLinkHtml;\n",
              "          element.appendChild(docLink);\n",
              "        }\n",
              "      </script>\n",
              "    </div>\n",
              "  </div>\n",
              "  "
            ]
          },
          "metadata": {},
          "execution_count": 210
        }
      ]
    },
    {
      "cell_type": "code",
      "source": [
        "df['Date']=df.index"
      ],
      "metadata": {
        "id": "9unXMmHP9dBl"
      },
      "execution_count": 211,
      "outputs": []
    },
    {
      "cell_type": "code",
      "source": [
        "start_date='2011-01-01'\n",
        "end_date='2020-12-31'\n",
        "mask=(df['Date']>=start_date)&(df['Date']<=end_date)"
      ],
      "metadata": {
        "id": "pmoAuKVz9dEq"
      },
      "execution_count": 212,
      "outputs": []
    },
    {
      "cell_type": "code",
      "source": [
        "df=df.loc[mask]"
      ],
      "metadata": {
        "id": "BuOLMt6t9dHp"
      },
      "execution_count": 213,
      "outputs": []
    },
    {
      "cell_type": "code",
      "source": [
        "df=df.drop(columns=['Series','Symbol','Open','High','Low','Last','Close','VWAP','Volume','Turnover','Trades','Deliverable Volume','%Deliverble','Date'])"
      ],
      "metadata": {
        "id": "5w_ZXVOL9dKu"
      },
      "execution_count": 214,
      "outputs": []
    },
    {
      "cell_type": "code",
      "source": [
        "Ntest=math.trunc(0.3*len(df))\n",
        "train=df.iloc[:-Ntest]\n",
        "test=df.iloc[-Ntest:]"
      ],
      "metadata": {
        "id": "Pd6Tf8ub9dNk"
      },
      "execution_count": 215,
      "outputs": []
    },
    {
      "cell_type": "code",
      "source": [
        "train_idx=df.index<=train.index[-1]\n",
        "test_idx=df.index>train.index[-1]"
      ],
      "metadata": {
        "id": "fFr5cqWk9dQ4"
      },
      "execution_count": 216,
      "outputs": []
    },
    {
      "cell_type": "code",
      "source": [
        "df['Diff Prev Close']=df['Prev Close'].diff()"
      ],
      "metadata": {
        "id": "bTleMRdL9dTP"
      },
      "execution_count": 217,
      "outputs": []
    },
    {
      "cell_type": "code",
      "source": [
        "series=df['Diff Prev Close'].dropna().to_numpy()\n",
        "\n",
        "T=50\n",
        "X=[]\n",
        "Y=[]\n",
        "for t in range(len(series)-T):\n",
        "  x=series[t:t+T]\n",
        "  X.append(x)\n",
        "  y=series[t+T]\n",
        "  Y.append(y)\n",
        "\n",
        "X=np.array(X).reshape(-1,T)\n",
        "Y=np.array(Y)\n",
        "N=len(X)\n",
        "print(\"X.shape\",X.shape,\"Y.shape\",Y.shape)"
      ],
      "metadata": {
        "colab": {
          "base_uri": "https://localhost:8080/"
        },
        "id": "-faJTkyl9dWV",
        "outputId": "db5e8b5a-6bad-4a3a-e846-e298057836dc"
      },
      "execution_count": 218,
      "outputs": [
        {
          "output_type": "stream",
          "name": "stdout",
          "text": [
            "X.shape (2427, 50) Y.shape (2427,)\n"
          ]
        }
      ]
    },
    {
      "cell_type": "code",
      "source": [
        "Xtrain,Ytrain=X[:-Ntest],Y[:-Ntest]\n",
        "Xtest,Ytest=X[-Ntest:],Y[-Ntest:]"
      ],
      "metadata": {
        "id": "blHqq_g-9dY_"
      },
      "execution_count": 219,
      "outputs": []
    },
    {
      "cell_type": "markdown",
      "source": [
        "LSTM+CNN"
      ],
      "metadata": {
        "id": "ir_desj398LI"
      }
    },
    {
      "cell_type": "code",
      "source": [
        "i=Input(shape=(T,1))\n",
        "x=LSTM(200,return_sequences=True)(i)\n",
        "x=LSTM(200,return_sequences=True)(x)\n",
        "x=Dense(100)(x)\n",
        "x=Dense(50)(x)\n",
        "x=Conv1D(25,3,activation='relu')(i)\n",
        "x=MaxPooling1D(2)(x)\n",
        "x=Conv1D(50,3,activation='relu')(x)\n",
        "x=GlobalMaxPool1D()(x)\n",
        "x=Dense(1)(x)\n",
        "model_lstm_cnn=Model(i,x)\n",
        "model_lstm_cnn.summary()"
      ],
      "metadata": {
        "colab": {
          "base_uri": "https://localhost:8080/"
        },
        "id": "vvKQKCrr96yo",
        "outputId": "34a46fa3-60bc-4d6d-8559-d9c96c657d7f"
      },
      "execution_count": 220,
      "outputs": [
        {
          "output_type": "stream",
          "name": "stdout",
          "text": [
            "Model: \"model_11\"\n",
            "_________________________________________________________________\n",
            " Layer (type)                Output Shape              Param #   \n",
            "=================================================================\n",
            " input_12 (InputLayer)       [(None, 50, 1)]           0         \n",
            "                                                                 \n",
            " conv1d_10 (Conv1D)          (None, 48, 25)            100       \n",
            "                                                                 \n",
            " max_pooling1d_5 (MaxPooling  (None, 24, 25)           0         \n",
            " 1D)                                                             \n",
            "                                                                 \n",
            " conv1d_11 (Conv1D)          (None, 22, 50)            3800      \n",
            "                                                                 \n",
            " global_max_pooling1d_11 (Gl  (None, 50)               0         \n",
            " obalMaxPooling1D)                                               \n",
            "                                                                 \n",
            " dense_47 (Dense)            (None, 1)                 51        \n",
            "                                                                 \n",
            "=================================================================\n",
            "Total params: 3,951\n",
            "Trainable params: 3,951\n",
            "Non-trainable params: 0\n",
            "_________________________________________________________________\n"
          ]
        }
      ]
    },
    {
      "cell_type": "code",
      "source": [
        "check_point_lstm_cnn=ModelCheckpoint('best_model.h5',monitor='val_loss',save_best_only=True)"
      ],
      "metadata": {
        "id": "nH-bqzYc967w"
      },
      "execution_count": 221,
      "outputs": []
    },
    {
      "cell_type": "code",
      "source": [
        "model_lstm_cnn.compile(loss='mse',\n",
        "              optimizer='adamax',\n",
        "              metrics=['mae','mse'])"
      ],
      "metadata": {
        "id": "pSNLhWam97B2"
      },
      "execution_count": 222,
      "outputs": []
    },
    {
      "cell_type": "code",
      "source": [
        "r=model_lstm_cnn.fit(\n",
        "    Xtrain,\n",
        "    Ytrain,\n",
        "    epochs=100,\n",
        "    validation_data=(Xtest,Ytest),\n",
        "    callbacks=[check_point_lstm_cnn]\n",
        ")"
      ],
      "metadata": {
        "colab": {
          "base_uri": "https://localhost:8080/"
        },
        "id": "YMfLEKjw97Hd",
        "outputId": "0efdcce9-b5aa-4866-f6d2-c1fdfc12a600"
      },
      "execution_count": 223,
      "outputs": [
        {
          "output_type": "stream",
          "name": "stdout",
          "text": [
            "Epoch 1/100\n",
            "53/53 [==============================] - 1s 10ms/step - loss: 298.8000 - mae: 12.8770 - mse: 298.8000 - val_loss: 1655.5948 - val_mae: 28.1763 - val_mse: 1655.5948\n",
            "Epoch 2/100\n",
            "53/53 [==============================] - 0s 7ms/step - loss: 292.1458 - mae: 12.7295 - mse: 292.1458 - val_loss: 1635.4163 - val_mae: 27.8994 - val_mse: 1635.4163\n",
            "Epoch 3/100\n",
            "53/53 [==============================] - 0s 6ms/step - loss: 290.6471 - mae: 12.6982 - mse: 290.6471 - val_loss: 1637.4445 - val_mae: 27.9478 - val_mse: 1637.4445\n",
            "Epoch 4/100\n",
            "53/53 [==============================] - 0s 6ms/step - loss: 289.9155 - mae: 12.6586 - mse: 289.9155 - val_loss: 1641.1348 - val_mae: 28.0311 - val_mse: 1641.1348\n",
            "Epoch 5/100\n",
            "53/53 [==============================] - 0s 7ms/step - loss: 288.1863 - mae: 12.6294 - mse: 288.1863 - val_loss: 1658.6389 - val_mae: 28.0835 - val_mse: 1658.6389\n",
            "Epoch 6/100\n",
            "53/53 [==============================] - 0s 6ms/step - loss: 288.1638 - mae: 12.6385 - mse: 288.1638 - val_loss: 1635.2980 - val_mae: 27.8684 - val_mse: 1635.2980\n",
            "Epoch 7/100\n",
            "53/53 [==============================] - 0s 6ms/step - loss: 289.3656 - mae: 12.6369 - mse: 289.3656 - val_loss: 1643.9498 - val_mae: 27.9449 - val_mse: 1643.9498\n",
            "Epoch 8/100\n",
            "53/53 [==============================] - 0s 6ms/step - loss: 285.8420 - mae: 12.5887 - mse: 285.8420 - val_loss: 1646.9421 - val_mae: 27.9728 - val_mse: 1646.9421\n",
            "Epoch 9/100\n",
            "53/53 [==============================] - 0s 6ms/step - loss: 286.8559 - mae: 12.6477 - mse: 286.8559 - val_loss: 1646.1606 - val_mae: 27.9768 - val_mse: 1646.1606\n",
            "Epoch 10/100\n",
            "53/53 [==============================] - 0s 6ms/step - loss: 284.9148 - mae: 12.5847 - mse: 284.9148 - val_loss: 1637.3040 - val_mae: 27.9367 - val_mse: 1637.3040\n",
            "Epoch 11/100\n",
            "53/53 [==============================] - 0s 8ms/step - loss: 287.2747 - mae: 12.6129 - mse: 287.2747 - val_loss: 1659.4290 - val_mae: 28.1062 - val_mse: 1659.4290\n",
            "Epoch 12/100\n",
            "53/53 [==============================] - 0s 9ms/step - loss: 284.0741 - mae: 12.5557 - mse: 284.0741 - val_loss: 1643.0044 - val_mae: 27.9853 - val_mse: 1643.0044\n",
            "Epoch 13/100\n",
            "53/53 [==============================] - 0s 6ms/step - loss: 287.4172 - mae: 12.6147 - mse: 287.4172 - val_loss: 1640.9319 - val_mae: 27.9753 - val_mse: 1640.9319\n",
            "Epoch 14/100\n",
            "53/53 [==============================] - 1s 11ms/step - loss: 283.6642 - mae: 12.5374 - mse: 283.6642 - val_loss: 1641.5125 - val_mae: 27.9925 - val_mse: 1641.5125\n",
            "Epoch 15/100\n",
            "53/53 [==============================] - 0s 6ms/step - loss: 282.7977 - mae: 12.5138 - mse: 282.7977 - val_loss: 1644.4667 - val_mae: 28.0077 - val_mse: 1644.4667\n",
            "Epoch 16/100\n",
            "53/53 [==============================] - 0s 6ms/step - loss: 282.3608 - mae: 12.5222 - mse: 282.3608 - val_loss: 1640.3269 - val_mae: 28.0181 - val_mse: 1640.3269\n",
            "Epoch 17/100\n",
            "53/53 [==============================] - 0s 6ms/step - loss: 283.3897 - mae: 12.5008 - mse: 283.3897 - val_loss: 1642.9512 - val_mae: 28.0190 - val_mse: 1642.9512\n",
            "Epoch 18/100\n",
            "53/53 [==============================] - 0s 7ms/step - loss: 281.8316 - mae: 12.4933 - mse: 281.8316 - val_loss: 1648.3464 - val_mae: 28.0504 - val_mse: 1648.3464\n",
            "Epoch 19/100\n",
            "53/53 [==============================] - 0s 6ms/step - loss: 282.4233 - mae: 12.5069 - mse: 282.4233 - val_loss: 1702.2621 - val_mae: 28.5276 - val_mse: 1702.2621\n",
            "Epoch 20/100\n",
            "53/53 [==============================] - 0s 6ms/step - loss: 283.0607 - mae: 12.5373 - mse: 283.0607 - val_loss: 1652.8029 - val_mae: 28.1033 - val_mse: 1652.8029\n",
            "Epoch 21/100\n",
            "53/53 [==============================] - 0s 6ms/step - loss: 280.1690 - mae: 12.4666 - mse: 280.1690 - val_loss: 1658.6362 - val_mae: 28.1503 - val_mse: 1658.6362\n",
            "Epoch 22/100\n",
            "53/53 [==============================] - 0s 6ms/step - loss: 279.5349 - mae: 12.4825 - mse: 279.5349 - val_loss: 1650.7045 - val_mae: 28.2414 - val_mse: 1650.7045\n",
            "Epoch 23/100\n",
            "53/53 [==============================] - 0s 6ms/step - loss: 280.4434 - mae: 12.4781 - mse: 280.4434 - val_loss: 1646.7177 - val_mae: 28.1295 - val_mse: 1646.7177\n",
            "Epoch 24/100\n",
            "53/53 [==============================] - 0s 6ms/step - loss: 279.9819 - mae: 12.4581 - mse: 279.9819 - val_loss: 1660.9083 - val_mae: 28.1909 - val_mse: 1660.9083\n",
            "Epoch 25/100\n",
            "53/53 [==============================] - 0s 6ms/step - loss: 279.8125 - mae: 12.4363 - mse: 279.8125 - val_loss: 1665.9640 - val_mae: 28.2391 - val_mse: 1665.9640\n",
            "Epoch 26/100\n",
            "53/53 [==============================] - 0s 6ms/step - loss: 279.6050 - mae: 12.4542 - mse: 279.6050 - val_loss: 1650.3309 - val_mae: 28.1557 - val_mse: 1650.3309\n",
            "Epoch 27/100\n",
            "53/53 [==============================] - 0s 6ms/step - loss: 278.0969 - mae: 12.4354 - mse: 278.0969 - val_loss: 1652.0380 - val_mae: 28.2526 - val_mse: 1652.0380\n",
            "Epoch 28/100\n",
            "53/53 [==============================] - 0s 6ms/step - loss: 278.5174 - mae: 12.4146 - mse: 278.5174 - val_loss: 1663.3519 - val_mae: 28.2543 - val_mse: 1663.3519\n",
            "Epoch 29/100\n",
            "53/53 [==============================] - 0s 6ms/step - loss: 278.1212 - mae: 12.4257 - mse: 278.1212 - val_loss: 1664.3212 - val_mae: 28.2673 - val_mse: 1664.3212\n",
            "Epoch 30/100\n",
            "53/53 [==============================] - 0s 6ms/step - loss: 277.6595 - mae: 12.4526 - mse: 277.6595 - val_loss: 1666.2136 - val_mae: 28.2903 - val_mse: 1666.2136\n",
            "Epoch 31/100\n",
            "53/53 [==============================] - 0s 6ms/step - loss: 277.1349 - mae: 12.4100 - mse: 277.1349 - val_loss: 1654.3304 - val_mae: 28.2324 - val_mse: 1654.3304\n",
            "Epoch 32/100\n",
            "53/53 [==============================] - 0s 6ms/step - loss: 277.1532 - mae: 12.4053 - mse: 277.1532 - val_loss: 1660.4977 - val_mae: 28.2852 - val_mse: 1660.4977\n",
            "Epoch 33/100\n",
            "53/53 [==============================] - 0s 6ms/step - loss: 278.6090 - mae: 12.4294 - mse: 278.6090 - val_loss: 1663.9427 - val_mae: 28.2929 - val_mse: 1663.9427\n",
            "Epoch 34/100\n",
            "53/53 [==============================] - 0s 6ms/step - loss: 277.1669 - mae: 12.4226 - mse: 277.1669 - val_loss: 1664.3491 - val_mae: 28.3189 - val_mse: 1664.3491\n",
            "Epoch 35/100\n",
            "53/53 [==============================] - 0s 6ms/step - loss: 276.1648 - mae: 12.3943 - mse: 276.1648 - val_loss: 1685.0326 - val_mae: 28.4531 - val_mse: 1685.0326\n",
            "Epoch 36/100\n",
            "53/53 [==============================] - 0s 6ms/step - loss: 275.4482 - mae: 12.3668 - mse: 275.4482 - val_loss: 1667.7848 - val_mae: 28.3516 - val_mse: 1667.7848\n",
            "Epoch 37/100\n",
            "53/53 [==============================] - 0s 6ms/step - loss: 275.6981 - mae: 12.3923 - mse: 275.6981 - val_loss: 1694.4647 - val_mae: 28.5268 - val_mse: 1694.4647\n",
            "Epoch 38/100\n",
            "53/53 [==============================] - 0s 6ms/step - loss: 275.8407 - mae: 12.3998 - mse: 275.8407 - val_loss: 1670.9030 - val_mae: 28.3945 - val_mse: 1670.9030\n",
            "Epoch 39/100\n",
            "53/53 [==============================] - 0s 6ms/step - loss: 274.8372 - mae: 12.3506 - mse: 274.8372 - val_loss: 1702.3971 - val_mae: 28.5975 - val_mse: 1702.3971\n",
            "Epoch 40/100\n",
            "53/53 [==============================] - 0s 6ms/step - loss: 275.1763 - mae: 12.3601 - mse: 275.1763 - val_loss: 1735.5740 - val_mae: 28.8637 - val_mse: 1735.5740\n",
            "Epoch 41/100\n",
            "53/53 [==============================] - 0s 6ms/step - loss: 274.5013 - mae: 12.3690 - mse: 274.5013 - val_loss: 1710.0096 - val_mae: 28.6649 - val_mse: 1710.0096\n",
            "Epoch 42/100\n",
            "53/53 [==============================] - 0s 6ms/step - loss: 275.0494 - mae: 12.3897 - mse: 275.0494 - val_loss: 1709.7117 - val_mae: 28.6723 - val_mse: 1709.7117\n",
            "Epoch 43/100\n",
            "53/53 [==============================] - 0s 6ms/step - loss: 273.0851 - mae: 12.3370 - mse: 273.0851 - val_loss: 1669.9901 - val_mae: 28.4611 - val_mse: 1669.9901\n",
            "Epoch 44/100\n",
            "53/53 [==============================] - 0s 6ms/step - loss: 273.9109 - mae: 12.3139 - mse: 273.9109 - val_loss: 1763.9857 - val_mae: 29.1051 - val_mse: 1763.9857\n",
            "Epoch 45/100\n",
            "53/53 [==============================] - 0s 6ms/step - loss: 274.5163 - mae: 12.3789 - mse: 274.5163 - val_loss: 1695.9943 - val_mae: 28.6045 - val_mse: 1695.9943\n",
            "Epoch 46/100\n",
            "53/53 [==============================] - 0s 6ms/step - loss: 273.8254 - mae: 12.3560 - mse: 273.8254 - val_loss: 1684.3831 - val_mae: 28.5477 - val_mse: 1684.3831\n",
            "Epoch 47/100\n",
            "53/53 [==============================] - 0s 6ms/step - loss: 272.9871 - mae: 12.3136 - mse: 272.9871 - val_loss: 1683.4668 - val_mae: 28.5474 - val_mse: 1683.4668\n",
            "Epoch 48/100\n",
            "53/53 [==============================] - 0s 6ms/step - loss: 273.2314 - mae: 12.3139 - mse: 273.2314 - val_loss: 1683.1292 - val_mae: 28.5462 - val_mse: 1683.1292\n",
            "Epoch 49/100\n",
            "53/53 [==============================] - 0s 6ms/step - loss: 271.8347 - mae: 12.2960 - mse: 271.8347 - val_loss: 1712.6904 - val_mae: 28.7418 - val_mse: 1712.6904\n",
            "Epoch 50/100\n",
            "53/53 [==============================] - 0s 6ms/step - loss: 272.0750 - mae: 12.3071 - mse: 272.0750 - val_loss: 1709.7604 - val_mae: 28.7235 - val_mse: 1709.7604\n",
            "Epoch 51/100\n",
            "53/53 [==============================] - 0s 6ms/step - loss: 272.3096 - mae: 12.3142 - mse: 272.3096 - val_loss: 1732.2321 - val_mae: 28.8759 - val_mse: 1732.2321\n",
            "Epoch 52/100\n",
            "53/53 [==============================] - 0s 6ms/step - loss: 273.2179 - mae: 12.3461 - mse: 273.2179 - val_loss: 1719.2411 - val_mae: 28.8078 - val_mse: 1719.2411\n",
            "Epoch 53/100\n",
            "53/53 [==============================] - 0s 6ms/step - loss: 272.2014 - mae: 12.3157 - mse: 272.2014 - val_loss: 1746.9628 - val_mae: 29.0155 - val_mse: 1746.9628\n",
            "Epoch 54/100\n",
            "53/53 [==============================] - 0s 6ms/step - loss: 271.4431 - mae: 12.2904 - mse: 271.4431 - val_loss: 1727.3937 - val_mae: 28.8680 - val_mse: 1727.3937\n",
            "Epoch 55/100\n",
            "53/53 [==============================] - 0s 6ms/step - loss: 271.8215 - mae: 12.3020 - mse: 271.8215 - val_loss: 1718.0967 - val_mae: 28.8198 - val_mse: 1718.0967\n",
            "Epoch 56/100\n",
            "53/53 [==============================] - 0s 6ms/step - loss: 271.4419 - mae: 12.2913 - mse: 271.4419 - val_loss: 1713.2052 - val_mae: 28.8181 - val_mse: 1713.2052\n",
            "Epoch 57/100\n",
            "53/53 [==============================] - 0s 6ms/step - loss: 269.8622 - mae: 12.3021 - mse: 269.8622 - val_loss: 1768.3190 - val_mae: 29.2191 - val_mse: 1768.3190\n",
            "Epoch 58/100\n",
            "53/53 [==============================] - 0s 6ms/step - loss: 270.2235 - mae: 12.2811 - mse: 270.2235 - val_loss: 1723.5676 - val_mae: 28.8970 - val_mse: 1723.5676\n",
            "Epoch 59/100\n",
            "53/53 [==============================] - 0s 6ms/step - loss: 271.0788 - mae: 12.3214 - mse: 271.0788 - val_loss: 1758.1057 - val_mae: 29.1424 - val_mse: 1758.1057\n",
            "Epoch 60/100\n",
            "53/53 [==============================] - 0s 6ms/step - loss: 269.0152 - mae: 12.2291 - mse: 269.0152 - val_loss: 1769.0372 - val_mae: 29.2222 - val_mse: 1769.0372\n",
            "Epoch 61/100\n",
            "53/53 [==============================] - 0s 6ms/step - loss: 269.2567 - mae: 12.2807 - mse: 269.2567 - val_loss: 1724.2631 - val_mae: 28.9310 - val_mse: 1724.2631\n",
            "Epoch 62/100\n",
            "53/53 [==============================] - 0s 6ms/step - loss: 271.2064 - mae: 12.3040 - mse: 271.2064 - val_loss: 1748.0518 - val_mae: 29.0728 - val_mse: 1748.0518\n",
            "Epoch 63/100\n",
            "53/53 [==============================] - 0s 6ms/step - loss: 271.9895 - mae: 12.3109 - mse: 271.9895 - val_loss: 1744.3232 - val_mae: 29.0481 - val_mse: 1744.3232\n",
            "Epoch 64/100\n",
            "53/53 [==============================] - 0s 6ms/step - loss: 268.2654 - mae: 12.2309 - mse: 268.2654 - val_loss: 1749.0067 - val_mae: 29.0915 - val_mse: 1749.0067\n",
            "Epoch 65/100\n",
            "53/53 [==============================] - 0s 6ms/step - loss: 267.8540 - mae: 12.2280 - mse: 267.8540 - val_loss: 1718.5323 - val_mae: 28.9288 - val_mse: 1718.5323\n",
            "Epoch 66/100\n",
            "53/53 [==============================] - 0s 6ms/step - loss: 267.2489 - mae: 12.2110 - mse: 267.2489 - val_loss: 1854.9756 - val_mae: 29.9201 - val_mse: 1854.9756\n",
            "Epoch 67/100\n",
            "53/53 [==============================] - 0s 6ms/step - loss: 269.5097 - mae: 12.3081 - mse: 269.5097 - val_loss: 1771.1265 - val_mae: 29.2833 - val_mse: 1771.1265\n",
            "Epoch 68/100\n",
            "53/53 [==============================] - 0s 6ms/step - loss: 267.0495 - mae: 12.2220 - mse: 267.0495 - val_loss: 1761.4152 - val_mae: 29.2155 - val_mse: 1761.4152\n",
            "Epoch 69/100\n",
            "53/53 [==============================] - 0s 7ms/step - loss: 267.5404 - mae: 12.2272 - mse: 267.5404 - val_loss: 1800.9347 - val_mae: 29.5068 - val_mse: 1800.9347\n",
            "Epoch 70/100\n",
            "53/53 [==============================] - 0s 6ms/step - loss: 268.4127 - mae: 12.2616 - mse: 268.4127 - val_loss: 1787.1606 - val_mae: 29.4142 - val_mse: 1787.1606\n",
            "Epoch 71/100\n",
            "53/53 [==============================] - 0s 6ms/step - loss: 268.7185 - mae: 12.2792 - mse: 268.7185 - val_loss: 1716.9244 - val_mae: 29.0306 - val_mse: 1716.9244\n",
            "Epoch 72/100\n",
            "53/53 [==============================] - 0s 7ms/step - loss: 267.9855 - mae: 12.2273 - mse: 267.9855 - val_loss: 1735.0602 - val_mae: 29.0904 - val_mse: 1735.0602\n",
            "Epoch 73/100\n",
            "53/53 [==============================] - 0s 6ms/step - loss: 265.9636 - mae: 12.2399 - mse: 265.9636 - val_loss: 1744.6654 - val_mae: 29.1736 - val_mse: 1744.6654\n",
            "Epoch 74/100\n",
            "53/53 [==============================] - 0s 6ms/step - loss: 265.7211 - mae: 12.2267 - mse: 265.7211 - val_loss: 1732.1641 - val_mae: 29.1097 - val_mse: 1732.1641\n",
            "Epoch 75/100\n",
            "53/53 [==============================] - 0s 7ms/step - loss: 267.1114 - mae: 12.2287 - mse: 267.1114 - val_loss: 1789.1943 - val_mae: 29.4663 - val_mse: 1789.1943\n",
            "Epoch 76/100\n",
            "53/53 [==============================] - 0s 6ms/step - loss: 265.8967 - mae: 12.1954 - mse: 265.8967 - val_loss: 1757.6427 - val_mae: 29.2699 - val_mse: 1757.6427\n",
            "Epoch 77/100\n",
            "53/53 [==============================] - 0s 6ms/step - loss: 265.3915 - mae: 12.1880 - mse: 265.3915 - val_loss: 1824.3812 - val_mae: 29.7323 - val_mse: 1824.3812\n",
            "Epoch 78/100\n",
            "53/53 [==============================] - 0s 7ms/step - loss: 264.7975 - mae: 12.1702 - mse: 264.7975 - val_loss: 1792.0464 - val_mae: 29.5058 - val_mse: 1792.0464\n",
            "Epoch 79/100\n",
            "53/53 [==============================] - 0s 7ms/step - loss: 264.8418 - mae: 12.1734 - mse: 264.8418 - val_loss: 1789.5778 - val_mae: 29.5045 - val_mse: 1789.5778\n",
            "Epoch 80/100\n",
            "53/53 [==============================] - 0s 6ms/step - loss: 265.3803 - mae: 12.1722 - mse: 265.3803 - val_loss: 1784.1179 - val_mae: 29.4517 - val_mse: 1784.1179\n",
            "Epoch 81/100\n",
            "53/53 [==============================] - 0s 6ms/step - loss: 263.7702 - mae: 12.1628 - mse: 263.7702 - val_loss: 1779.5508 - val_mae: 29.4402 - val_mse: 1779.5508\n",
            "Epoch 82/100\n",
            "53/53 [==============================] - 0s 6ms/step - loss: 264.2745 - mae: 12.1882 - mse: 264.2745 - val_loss: 1797.8420 - val_mae: 29.5771 - val_mse: 1797.8420\n",
            "Epoch 83/100\n",
            "53/53 [==============================] - 0s 6ms/step - loss: 264.5963 - mae: 12.1967 - mse: 264.5963 - val_loss: 1854.6259 - val_mae: 29.9643 - val_mse: 1854.6259\n",
            "Epoch 84/100\n",
            "53/53 [==============================] - 0s 6ms/step - loss: 264.5084 - mae: 12.1679 - mse: 264.5084 - val_loss: 1793.8741 - val_mae: 29.5651 - val_mse: 1793.8741\n",
            "Epoch 85/100\n",
            "53/53 [==============================] - 0s 6ms/step - loss: 263.9733 - mae: 12.1902 - mse: 263.9733 - val_loss: 1785.4679 - val_mae: 29.5238 - val_mse: 1785.4679\n",
            "Epoch 86/100\n",
            "53/53 [==============================] - 0s 6ms/step - loss: 262.9792 - mae: 12.1674 - mse: 262.9792 - val_loss: 1825.1095 - val_mae: 29.7680 - val_mse: 1825.1095\n",
            "Epoch 87/100\n",
            "53/53 [==============================] - 0s 6ms/step - loss: 261.6739 - mae: 12.1437 - mse: 261.6739 - val_loss: 1784.1740 - val_mae: 29.5190 - val_mse: 1784.1740\n",
            "Epoch 88/100\n",
            "53/53 [==============================] - 0s 6ms/step - loss: 262.6102 - mae: 12.1298 - mse: 262.6102 - val_loss: 1851.2679 - val_mae: 29.9637 - val_mse: 1851.2679\n",
            "Epoch 89/100\n",
            "53/53 [==============================] - 0s 6ms/step - loss: 262.6944 - mae: 12.1425 - mse: 262.6944 - val_loss: 1810.9697 - val_mae: 29.7138 - val_mse: 1810.9697\n",
            "Epoch 90/100\n",
            "53/53 [==============================] - 0s 6ms/step - loss: 263.2220 - mae: 12.1883 - mse: 263.2220 - val_loss: 1786.1571 - val_mae: 29.5738 - val_mse: 1786.1571\n",
            "Epoch 91/100\n",
            "53/53 [==============================] - 0s 6ms/step - loss: 261.3047 - mae: 12.1223 - mse: 261.3047 - val_loss: 1762.6183 - val_mae: 29.4584 - val_mse: 1762.6183\n",
            "Epoch 92/100\n",
            "53/53 [==============================] - 0s 6ms/step - loss: 261.8834 - mae: 12.1441 - mse: 261.8834 - val_loss: 1806.7803 - val_mae: 29.7043 - val_mse: 1806.7803\n",
            "Epoch 93/100\n",
            "53/53 [==============================] - 0s 6ms/step - loss: 261.5199 - mae: 12.1320 - mse: 261.5199 - val_loss: 1811.3591 - val_mae: 29.7619 - val_mse: 1811.3591\n",
            "Epoch 94/100\n",
            "53/53 [==============================] - 0s 6ms/step - loss: 260.2589 - mae: 12.0925 - mse: 260.2589 - val_loss: 1772.8066 - val_mae: 29.5675 - val_mse: 1772.8066\n",
            "Epoch 95/100\n",
            "53/53 [==============================] - 0s 6ms/step - loss: 262.5697 - mae: 12.1618 - mse: 262.5697 - val_loss: 1777.0323 - val_mae: 29.5657 - val_mse: 1777.0323\n",
            "Epoch 96/100\n",
            "53/53 [==============================] - 0s 7ms/step - loss: 261.9412 - mae: 12.1435 - mse: 261.9412 - val_loss: 1865.9373 - val_mae: 30.1144 - val_mse: 1865.9373\n",
            "Epoch 97/100\n",
            "53/53 [==============================] - 0s 6ms/step - loss: 261.9391 - mae: 12.1438 - mse: 261.9391 - val_loss: 1772.3464 - val_mae: 29.5700 - val_mse: 1772.3464\n",
            "Epoch 98/100\n",
            "53/53 [==============================] - 0s 6ms/step - loss: 262.3077 - mae: 12.1743 - mse: 262.3077 - val_loss: 1854.7429 - val_mae: 30.0376 - val_mse: 1854.7429\n",
            "Epoch 99/100\n",
            "53/53 [==============================] - 0s 7ms/step - loss: 259.3072 - mae: 12.0752 - mse: 259.3072 - val_loss: 1785.3834 - val_mae: 29.6517 - val_mse: 1785.3834\n",
            "Epoch 100/100\n",
            "53/53 [==============================] - 0s 6ms/step - loss: 258.8472 - mae: 12.0843 - mse: 258.8472 - val_loss: 1780.2238 - val_mae: 29.6923 - val_mse: 1780.2238\n"
          ]
        }
      ]
    },
    {
      "cell_type": "markdown",
      "source": [
        "LSTM+GRU"
      ],
      "metadata": {
        "id": "5TW_EAhE-iWs"
      }
    },
    {
      "cell_type": "code",
      "source": [
        "i=Input(shape=(T,1))\n",
        "x=LSTM(200,return_sequences=True)(i)\n",
        "x=LSTM(200,return_sequences=True)(x)\n",
        "x=Dense(100)(x)\n",
        "x=Dense(50)(x)\n",
        "x=GRU(200,return_sequences=True)(x)\n",
        "x=GRU(200,return_sequences=True)(x)\n",
        "x=GlobalMaxPool1D()(x)\n",
        "x=Dense(100)(x)\n",
        "x=Dense(50)(x)\n",
        "x=Dense(1)(x)\n",
        "model_lstm_gru=Model(i,x)\n",
        "model_lstm_gru.summary()"
      ],
      "metadata": {
        "colab": {
          "base_uri": "https://localhost:8080/"
        },
        "id": "5MFW_hNA-UIb",
        "outputId": "6d62a39d-8d38-4664-e497-2679e11e3ce0"
      },
      "execution_count": 224,
      "outputs": [
        {
          "output_type": "stream",
          "name": "stdout",
          "text": [
            "Model: \"model_12\"\n",
            "_________________________________________________________________\n",
            " Layer (type)                Output Shape              Param #   \n",
            "=================================================================\n",
            " input_13 (InputLayer)       [(None, 50, 1)]           0         \n",
            "                                                                 \n",
            " lstm_24 (LSTM)              (None, 50, 200)           161600    \n",
            "                                                                 \n",
            " lstm_25 (LSTM)              (None, 50, 200)           320800    \n",
            "                                                                 \n",
            " dense_48 (Dense)            (None, 50, 100)           20100     \n",
            "                                                                 \n",
            " dense_49 (Dense)            (None, 50, 50)            5050      \n",
            "                                                                 \n",
            " gru_12 (GRU)                (None, 50, 200)           151200    \n",
            "                                                                 \n",
            " gru_13 (GRU)                (None, 50, 200)           241200    \n",
            "                                                                 \n",
            " global_max_pooling1d_12 (Gl  (None, 200)              0         \n",
            " obalMaxPooling1D)                                               \n",
            "                                                                 \n",
            " dense_50 (Dense)            (None, 100)               20100     \n",
            "                                                                 \n",
            " dense_51 (Dense)            (None, 50)                5050      \n",
            "                                                                 \n",
            " dense_52 (Dense)            (None, 1)                 51        \n",
            "                                                                 \n",
            "=================================================================\n",
            "Total params: 925,151\n",
            "Trainable params: 925,151\n",
            "Non-trainable params: 0\n",
            "_________________________________________________________________\n"
          ]
        }
      ]
    },
    {
      "cell_type": "code",
      "source": [
        "check_point_lstm_gru=ModelCheckpoint('best_model.h5',monitor='val_loss',save_best_only=True)"
      ],
      "metadata": {
        "id": "bPn2IlMx-pP6"
      },
      "execution_count": 225,
      "outputs": []
    },
    {
      "cell_type": "code",
      "source": [
        "model_lstm_gru.compile(loss='mse',\n",
        "              optimizer='adamax',\n",
        "              metrics=['mae','mse'])"
      ],
      "metadata": {
        "id": "s2W9B-lL-5VS"
      },
      "execution_count": 226,
      "outputs": []
    },
    {
      "cell_type": "code",
      "source": [
        "r=model_lstm_gru.fit(\n",
        "    Xtrain,\n",
        "    Ytrain,\n",
        "    epochs=100,\n",
        "    validation_data=(Xtest,Ytest),\n",
        "    callbacks=[check_point_lstm_gru]\n",
        ")"
      ],
      "metadata": {
        "colab": {
          "base_uri": "https://localhost:8080/"
        },
        "id": "tSfqgZ2w-8KI",
        "outputId": "54876bce-96cc-436d-bdcb-6dc249761e66"
      },
      "execution_count": 227,
      "outputs": [
        {
          "output_type": "stream",
          "name": "stdout",
          "text": [
            "Epoch 1/100\n",
            "53/53 [==============================] - 38s 588ms/step - loss: 292.2749 - mae: 12.7108 - mse: 292.2749 - val_loss: 1637.9020 - val_mae: 27.8618 - val_mse: 1637.9020\n",
            "Epoch 2/100\n",
            "53/53 [==============================] - 29s 542ms/step - loss: 291.6108 - mae: 12.6884 - mse: 291.6108 - val_loss: 1635.9666 - val_mae: 27.8298 - val_mse: 1635.9666\n",
            "Epoch 3/100\n",
            "53/53 [==============================] - 28s 537ms/step - loss: 291.3432 - mae: 12.6877 - mse: 291.3432 - val_loss: 1636.0077 - val_mae: 27.8309 - val_mse: 1636.0077\n",
            "Epoch 4/100\n",
            "53/53 [==============================] - 28s 539ms/step - loss: 291.3225 - mae: 12.6907 - mse: 291.3225 - val_loss: 1636.7626 - val_mae: 27.8443 - val_mse: 1636.7626\n",
            "Epoch 5/100\n",
            "53/53 [==============================] - 28s 539ms/step - loss: 291.3675 - mae: 12.6741 - mse: 291.3675 - val_loss: 1636.3900 - val_mae: 27.8374 - val_mse: 1636.3900\n",
            "Epoch 6/100\n",
            "53/53 [==============================] - 28s 537ms/step - loss: 291.2974 - mae: 12.6828 - mse: 291.2974 - val_loss: 1636.3092 - val_mae: 27.8359 - val_mse: 1636.3092\n",
            "Epoch 7/100\n",
            "53/53 [==============================] - 28s 538ms/step - loss: 291.3470 - mae: 12.6808 - mse: 291.3470 - val_loss: 1636.0703 - val_mae: 27.8322 - val_mse: 1636.0703\n",
            "Epoch 8/100\n",
            "53/53 [==============================] - 28s 538ms/step - loss: 291.3323 - mae: 12.6907 - mse: 291.3323 - val_loss: 1636.3833 - val_mae: 27.8366 - val_mse: 1636.3833\n",
            "Epoch 9/100\n",
            "53/53 [==============================] - 29s 540ms/step - loss: 291.4810 - mae: 12.6964 - mse: 291.4810 - val_loss: 1636.5624 - val_mae: 27.8389 - val_mse: 1636.5624\n",
            "Epoch 10/100\n",
            "53/53 [==============================] - 29s 541ms/step - loss: 291.1182 - mae: 12.6808 - mse: 291.1182 - val_loss: 1635.9592 - val_mae: 27.8302 - val_mse: 1635.9592\n",
            "Epoch 11/100\n",
            "53/53 [==============================] - 29s 541ms/step - loss: 291.6239 - mae: 12.6920 - mse: 291.6239 - val_loss: 1636.2544 - val_mae: 27.8340 - val_mse: 1636.2544\n",
            "Epoch 12/100\n",
            "53/53 [==============================] - 29s 540ms/step - loss: 291.1214 - mae: 12.6821 - mse: 291.1214 - val_loss: 1635.7959 - val_mae: 27.8266 - val_mse: 1635.7959\n",
            "Epoch 13/100\n",
            "53/53 [==============================] - 29s 543ms/step - loss: 291.5205 - mae: 12.6916 - mse: 291.5205 - val_loss: 1636.6195 - val_mae: 27.8406 - val_mse: 1636.6195\n",
            "Epoch 14/100\n",
            "53/53 [==============================] - 29s 547ms/step - loss: 291.1801 - mae: 12.6830 - mse: 291.1801 - val_loss: 1636.1570 - val_mae: 27.8331 - val_mse: 1636.1570\n",
            "Epoch 15/100\n",
            "53/53 [==============================] - 29s 549ms/step - loss: 291.0100 - mae: 12.6788 - mse: 291.0100 - val_loss: 1636.2198 - val_mae: 27.8327 - val_mse: 1636.2198\n",
            "Epoch 16/100\n",
            "53/53 [==============================] - 31s 578ms/step - loss: 290.9827 - mae: 12.6866 - mse: 290.9827 - val_loss: 1636.1494 - val_mae: 27.8310 - val_mse: 1636.1494\n",
            "Epoch 17/100\n",
            "53/53 [==============================] - 29s 543ms/step - loss: 291.1351 - mae: 12.6801 - mse: 291.1351 - val_loss: 1636.4430 - val_mae: 27.8347 - val_mse: 1636.4430\n",
            "Epoch 18/100\n",
            "53/53 [==============================] - 28s 539ms/step - loss: 291.1159 - mae: 12.6699 - mse: 291.1159 - val_loss: 1636.7745 - val_mae: 27.8392 - val_mse: 1636.7745\n",
            "Epoch 19/100\n",
            "53/53 [==============================] - 29s 541ms/step - loss: 291.2348 - mae: 12.6822 - mse: 291.2348 - val_loss: 1636.3354 - val_mae: 27.8340 - val_mse: 1636.3354\n",
            "Epoch 20/100\n",
            "53/53 [==============================] - 29s 546ms/step - loss: 290.6151 - mae: 12.6772 - mse: 290.6151 - val_loss: 1634.6720 - val_mae: 27.8102 - val_mse: 1634.6720\n",
            "Epoch 21/100\n",
            "53/53 [==============================] - 29s 544ms/step - loss: 290.3537 - mae: 12.6639 - mse: 290.3537 - val_loss: 1633.9879 - val_mae: 27.8013 - val_mse: 1633.9879\n",
            "Epoch 22/100\n",
            "53/53 [==============================] - 28s 539ms/step - loss: 289.8267 - mae: 12.6760 - mse: 289.8267 - val_loss: 1638.3760 - val_mae: 27.8725 - val_mse: 1638.3760\n",
            "Epoch 23/100\n",
            "53/53 [==============================] - 29s 541ms/step - loss: 289.6605 - mae: 12.6571 - mse: 289.6605 - val_loss: 1637.7953 - val_mae: 27.8427 - val_mse: 1637.7953\n",
            "Epoch 24/100\n",
            "53/53 [==============================] - 29s 542ms/step - loss: 290.0179 - mae: 12.6540 - mse: 290.0179 - val_loss: 1633.7683 - val_mae: 27.7965 - val_mse: 1633.7683\n",
            "Epoch 25/100\n",
            "53/53 [==============================] - 29s 543ms/step - loss: 289.3703 - mae: 12.6352 - mse: 289.3703 - val_loss: 1636.2410 - val_mae: 27.8203 - val_mse: 1636.2410\n",
            "Epoch 26/100\n",
            "53/53 [==============================] - 29s 540ms/step - loss: 289.6824 - mae: 12.6500 - mse: 289.6824 - val_loss: 1638.7059 - val_mae: 27.8621 - val_mse: 1638.7059\n",
            "Epoch 27/100\n",
            "53/53 [==============================] - 29s 541ms/step - loss: 288.7062 - mae: 12.6235 - mse: 288.7062 - val_loss: 1638.8240 - val_mae: 27.8773 - val_mse: 1638.8240\n",
            "Epoch 28/100\n",
            "53/53 [==============================] - 29s 540ms/step - loss: 288.3066 - mae: 12.5821 - mse: 288.3066 - val_loss: 1638.5822 - val_mae: 27.8533 - val_mse: 1638.5822\n",
            "Epoch 29/100\n",
            "53/53 [==============================] - 29s 540ms/step - loss: 288.1393 - mae: 12.6295 - mse: 288.1393 - val_loss: 1634.4648 - val_mae: 27.8147 - val_mse: 1634.4648\n",
            "Epoch 30/100\n",
            "53/53 [==============================] - 29s 542ms/step - loss: 288.2405 - mae: 12.6296 - mse: 288.2405 - val_loss: 1637.6622 - val_mae: 27.8521 - val_mse: 1637.6622\n",
            "Epoch 31/100\n",
            "53/53 [==============================] - 29s 545ms/step - loss: 287.4798 - mae: 12.5834 - mse: 287.4798 - val_loss: 1640.3582 - val_mae: 27.8894 - val_mse: 1640.3582\n",
            "Epoch 32/100\n",
            "53/53 [==============================] - 29s 540ms/step - loss: 286.0331 - mae: 12.5931 - mse: 286.0331 - val_loss: 1638.3246 - val_mae: 27.8580 - val_mse: 1638.3246\n",
            "Epoch 33/100\n",
            "53/53 [==============================] - 28s 537ms/step - loss: 285.6021 - mae: 12.5746 - mse: 285.6021 - val_loss: 1638.4832 - val_mae: 27.8625 - val_mse: 1638.4832\n",
            "Epoch 34/100\n",
            "53/53 [==============================] - 29s 540ms/step - loss: 286.2808 - mae: 12.5941 - mse: 286.2808 - val_loss: 1638.6587 - val_mae: 27.8866 - val_mse: 1638.6587\n",
            "Epoch 35/100\n",
            "53/53 [==============================] - 28s 538ms/step - loss: 285.7436 - mae: 12.5648 - mse: 285.7436 - val_loss: 1636.1803 - val_mae: 27.8143 - val_mse: 1636.1803\n",
            "Epoch 36/100\n",
            "53/53 [==============================] - 29s 539ms/step - loss: 283.7337 - mae: 12.4927 - mse: 283.7337 - val_loss: 1641.9583 - val_mae: 27.9196 - val_mse: 1641.9583\n",
            "Epoch 37/100\n",
            "53/53 [==============================] - 28s 538ms/step - loss: 284.2046 - mae: 12.5403 - mse: 284.2046 - val_loss: 1639.2828 - val_mae: 27.8913 - val_mse: 1639.2828\n",
            "Epoch 38/100\n",
            "53/53 [==============================] - 29s 541ms/step - loss: 284.0943 - mae: 12.5466 - mse: 284.0943 - val_loss: 1639.3763 - val_mae: 27.8670 - val_mse: 1639.3763\n",
            "Epoch 39/100\n",
            "53/53 [==============================] - 28s 538ms/step - loss: 284.5018 - mae: 12.5105 - mse: 284.5018 - val_loss: 1633.7872 - val_mae: 27.7858 - val_mse: 1633.7872\n",
            "Epoch 40/100\n",
            "53/53 [==============================] - 29s 539ms/step - loss: 282.6277 - mae: 12.4922 - mse: 282.6277 - val_loss: 1637.9463 - val_mae: 27.8139 - val_mse: 1637.9463\n",
            "Epoch 41/100\n",
            "53/53 [==============================] - 28s 537ms/step - loss: 282.8352 - mae: 12.4755 - mse: 282.8352 - val_loss: 1640.2323 - val_mae: 27.8510 - val_mse: 1640.2323\n",
            "Epoch 42/100\n",
            "53/53 [==============================] - 29s 543ms/step - loss: 281.8592 - mae: 12.5007 - mse: 281.8592 - val_loss: 1645.9576 - val_mae: 27.9394 - val_mse: 1645.9576\n",
            "Epoch 43/100\n",
            "53/53 [==============================] - 29s 540ms/step - loss: 278.4267 - mae: 12.4022 - mse: 278.4267 - val_loss: 1652.5306 - val_mae: 28.0742 - val_mse: 1652.5306\n",
            "Epoch 44/100\n",
            "53/53 [==============================] - 29s 540ms/step - loss: 279.5089 - mae: 12.4300 - mse: 279.5089 - val_loss: 1639.9645 - val_mae: 27.8171 - val_mse: 1639.9645\n",
            "Epoch 45/100\n",
            "53/53 [==============================] - 29s 543ms/step - loss: 278.4471 - mae: 12.4407 - mse: 278.4471 - val_loss: 1636.7423 - val_mae: 27.8485 - val_mse: 1636.7423\n",
            "Epoch 46/100\n",
            "53/53 [==============================] - 29s 548ms/step - loss: 278.5158 - mae: 12.4469 - mse: 278.5158 - val_loss: 1644.9547 - val_mae: 27.9336 - val_mse: 1644.9547\n",
            "Epoch 47/100\n",
            "53/53 [==============================] - 29s 553ms/step - loss: 274.1195 - mae: 12.3294 - mse: 274.1195 - val_loss: 1651.8644 - val_mae: 28.0432 - val_mse: 1651.8644\n",
            "Epoch 48/100\n",
            "53/53 [==============================] - 29s 550ms/step - loss: 273.3754 - mae: 12.2955 - mse: 273.3754 - val_loss: 1660.1632 - val_mae: 28.1091 - val_mse: 1660.1632\n",
            "Epoch 49/100\n",
            "53/53 [==============================] - 29s 555ms/step - loss: 275.2418 - mae: 12.3899 - mse: 275.2418 - val_loss: 1656.3733 - val_mae: 27.9870 - val_mse: 1656.3733\n",
            "Epoch 50/100\n",
            "53/53 [==============================] - 29s 557ms/step - loss: 274.9702 - mae: 12.3386 - mse: 274.9702 - val_loss: 1656.3612 - val_mae: 28.0598 - val_mse: 1656.3612\n",
            "Epoch 51/100\n",
            "53/53 [==============================] - 30s 559ms/step - loss: 272.0529 - mae: 12.3010 - mse: 272.0529 - val_loss: 1641.5782 - val_mae: 27.9037 - val_mse: 1641.5782\n",
            "Epoch 52/100\n",
            "53/53 [==============================] - 30s 560ms/step - loss: 268.4852 - mae: 12.2790 - mse: 268.4852 - val_loss: 1649.1361 - val_mae: 27.8664 - val_mse: 1649.1361\n",
            "Epoch 53/100\n",
            "53/53 [==============================] - 30s 560ms/step - loss: 269.1068 - mae: 12.2365 - mse: 269.1068 - val_loss: 1636.1433 - val_mae: 27.7742 - val_mse: 1636.1433\n",
            "Epoch 54/100\n",
            "53/53 [==============================] - 30s 558ms/step - loss: 265.1589 - mae: 12.1708 - mse: 265.1589 - val_loss: 1657.0751 - val_mae: 27.9563 - val_mse: 1657.0751\n",
            "Epoch 55/100\n",
            "53/53 [==============================] - 29s 556ms/step - loss: 265.6664 - mae: 12.1684 - mse: 265.6664 - val_loss: 1681.8572 - val_mae: 28.3412 - val_mse: 1681.8572\n",
            "Epoch 56/100\n",
            "53/53 [==============================] - 29s 553ms/step - loss: 266.4297 - mae: 12.1461 - mse: 266.4297 - val_loss: 1673.1809 - val_mae: 28.2413 - val_mse: 1673.1809\n",
            "Epoch 57/100\n",
            "53/53 [==============================] - 29s 555ms/step - loss: 256.5994 - mae: 12.0446 - mse: 256.5994 - val_loss: 1659.3037 - val_mae: 28.0823 - val_mse: 1659.3037\n",
            "Epoch 58/100\n",
            "53/53 [==============================] - 29s 549ms/step - loss: 258.0486 - mae: 12.0483 - mse: 258.0486 - val_loss: 1688.6095 - val_mae: 28.4643 - val_mse: 1688.6095\n",
            "Epoch 59/100\n",
            "53/53 [==============================] - 29s 552ms/step - loss: 258.7317 - mae: 11.9999 - mse: 258.7317 - val_loss: 1685.0021 - val_mae: 28.4341 - val_mse: 1685.0021\n",
            "Epoch 60/100\n",
            "53/53 [==============================] - 29s 546ms/step - loss: 256.1293 - mae: 11.9612 - mse: 256.1293 - val_loss: 1664.8126 - val_mae: 28.0938 - val_mse: 1664.8126\n",
            "Epoch 61/100\n",
            "53/53 [==============================] - 29s 548ms/step - loss: 250.2090 - mae: 11.8138 - mse: 250.2090 - val_loss: 1678.9401 - val_mae: 28.3454 - val_mse: 1678.9401\n",
            "Epoch 62/100\n",
            "53/53 [==============================] - 29s 549ms/step - loss: 244.5979 - mae: 11.7363 - mse: 244.5979 - val_loss: 1693.5034 - val_mae: 28.5311 - val_mse: 1693.5034\n",
            "Epoch 63/100\n",
            "53/53 [==============================] - 29s 555ms/step - loss: 249.0390 - mae: 11.8693 - mse: 249.0390 - val_loss: 1706.8051 - val_mae: 28.7425 - val_mse: 1706.8051\n",
            "Epoch 64/100\n",
            "53/53 [==============================] - 29s 553ms/step - loss: 249.4662 - mae: 11.7920 - mse: 249.4662 - val_loss: 1679.3990 - val_mae: 28.2392 - val_mse: 1679.3990\n",
            "Epoch 65/100\n",
            "53/53 [==============================] - 29s 552ms/step - loss: 241.0331 - mae: 11.6789 - mse: 241.0331 - val_loss: 1692.1952 - val_mae: 28.5132 - val_mse: 1692.1952\n",
            "Epoch 66/100\n",
            "53/53 [==============================] - 29s 552ms/step - loss: 239.2669 - mae: 11.7030 - mse: 239.2669 - val_loss: 1681.7399 - val_mae: 28.2771 - val_mse: 1681.7399\n",
            "Epoch 67/100\n",
            "53/53 [==============================] - 29s 556ms/step - loss: 240.2099 - mae: 11.6513 - mse: 240.2099 - val_loss: 1679.3754 - val_mae: 28.3125 - val_mse: 1679.3754\n",
            "Epoch 68/100\n",
            "53/53 [==============================] - 29s 552ms/step - loss: 230.5633 - mae: 11.4654 - mse: 230.5633 - val_loss: 1702.9966 - val_mae: 28.7241 - val_mse: 1702.9966\n",
            "Epoch 69/100\n",
            "53/53 [==============================] - 29s 556ms/step - loss: 230.8545 - mae: 11.4015 - mse: 230.8545 - val_loss: 1708.0715 - val_mae: 28.5806 - val_mse: 1708.0715\n",
            "Epoch 70/100\n",
            "53/53 [==============================] - 29s 550ms/step - loss: 228.2468 - mae: 11.4673 - mse: 228.2468 - val_loss: 1716.3768 - val_mae: 28.8065 - val_mse: 1716.3768\n",
            "Epoch 71/100\n",
            "53/53 [==============================] - 29s 550ms/step - loss: 222.4144 - mae: 11.2710 - mse: 222.4144 - val_loss: 1704.0342 - val_mae: 28.6068 - val_mse: 1704.0342\n",
            "Epoch 72/100\n",
            "53/53 [==============================] - 29s 547ms/step - loss: 219.7506 - mae: 11.1441 - mse: 219.7506 - val_loss: 1732.9039 - val_mae: 29.0273 - val_mse: 1732.9039\n",
            "Epoch 73/100\n",
            "53/53 [==============================] - 29s 544ms/step - loss: 227.3914 - mae: 11.5545 - mse: 227.3914 - val_loss: 1725.4961 - val_mae: 28.8533 - val_mse: 1725.4961\n",
            "Epoch 74/100\n",
            "53/53 [==============================] - 29s 542ms/step - loss: 217.4892 - mae: 11.1163 - mse: 217.4892 - val_loss: 1698.7158 - val_mae: 28.4196 - val_mse: 1698.7158\n",
            "Epoch 75/100\n",
            "53/53 [==============================] - 29s 541ms/step - loss: 218.5714 - mae: 11.2545 - mse: 218.5714 - val_loss: 1725.8082 - val_mae: 28.8062 - val_mse: 1725.8082\n",
            "Epoch 76/100\n",
            "53/53 [==============================] - 29s 541ms/step - loss: 213.1720 - mae: 11.0099 - mse: 213.1720 - val_loss: 1753.0748 - val_mae: 29.0376 - val_mse: 1753.0748\n",
            "Epoch 77/100\n",
            "53/53 [==============================] - 29s 545ms/step - loss: 204.9753 - mae: 10.8735 - mse: 204.9753 - val_loss: 1731.1735 - val_mae: 28.8252 - val_mse: 1731.1735\n",
            "Epoch 78/100\n",
            "53/53 [==============================] - 29s 541ms/step - loss: 203.7688 - mae: 10.7924 - mse: 203.7688 - val_loss: 1746.1982 - val_mae: 28.9686 - val_mse: 1746.1982\n",
            "Epoch 79/100\n",
            "53/53 [==============================] - 29s 542ms/step - loss: 198.0673 - mae: 10.6140 - mse: 198.0673 - val_loss: 1747.4974 - val_mae: 28.8828 - val_mse: 1747.4974\n",
            "Epoch 80/100\n",
            "53/53 [==============================] - 29s 540ms/step - loss: 195.5718 - mae: 10.6706 - mse: 195.5718 - val_loss: 1752.5288 - val_mae: 28.8788 - val_mse: 1752.5288\n",
            "Epoch 81/100\n",
            "53/53 [==============================] - 29s 544ms/step - loss: 193.1525 - mae: 10.5143 - mse: 193.1525 - val_loss: 1742.3064 - val_mae: 28.7906 - val_mse: 1742.3064\n",
            "Epoch 82/100\n",
            "53/53 [==============================] - 29s 544ms/step - loss: 188.7689 - mae: 10.3589 - mse: 188.7689 - val_loss: 1775.6105 - val_mae: 29.1443 - val_mse: 1775.6105\n",
            "Epoch 83/100\n",
            "53/53 [==============================] - 29s 541ms/step - loss: 187.6178 - mae: 10.3921 - mse: 187.6178 - val_loss: 1760.1975 - val_mae: 29.1288 - val_mse: 1760.1975\n",
            "Epoch 84/100\n",
            "53/53 [==============================] - 29s 540ms/step - loss: 190.5435 - mae: 10.5327 - mse: 190.5435 - val_loss: 1752.9532 - val_mae: 29.0352 - val_mse: 1752.9532\n",
            "Epoch 85/100\n",
            "53/53 [==============================] - 29s 545ms/step - loss: 181.2155 - mae: 10.2279 - mse: 181.2155 - val_loss: 1775.0061 - val_mae: 29.1807 - val_mse: 1775.0061\n",
            "Epoch 86/100\n",
            "53/53 [==============================] - 29s 544ms/step - loss: 180.7920 - mae: 10.1552 - mse: 180.7920 - val_loss: 1796.1833 - val_mae: 29.3235 - val_mse: 1796.1833\n",
            "Epoch 87/100\n",
            "53/53 [==============================] - 29s 545ms/step - loss: 167.0488 - mae: 9.7355 - mse: 167.0488 - val_loss: 1759.6010 - val_mae: 28.8486 - val_mse: 1759.6010\n",
            "Epoch 88/100\n",
            "53/53 [==============================] - 29s 545ms/step - loss: 171.4848 - mae: 9.9426 - mse: 171.4848 - val_loss: 1795.8577 - val_mae: 29.1795 - val_mse: 1795.8577\n",
            "Epoch 89/100\n",
            "53/53 [==============================] - 29s 542ms/step - loss: 165.2891 - mae: 9.6622 - mse: 165.2891 - val_loss: 1782.1669 - val_mae: 29.2836 - val_mse: 1782.1669\n",
            "Epoch 90/100\n",
            "53/53 [==============================] - 29s 544ms/step - loss: 171.9167 - mae: 10.0198 - mse: 171.9167 - val_loss: 1791.8860 - val_mae: 29.6583 - val_mse: 1791.8860\n",
            "Epoch 91/100\n",
            "53/53 [==============================] - 29s 542ms/step - loss: 156.1509 - mae: 9.5083 - mse: 156.1509 - val_loss: 1818.1521 - val_mae: 29.6620 - val_mse: 1818.1521\n",
            "Epoch 92/100\n",
            "53/53 [==============================] - 29s 542ms/step - loss: 151.8050 - mae: 9.2996 - mse: 151.8050 - val_loss: 1809.5032 - val_mae: 29.3227 - val_mse: 1809.5032\n",
            "Epoch 93/100\n",
            "53/53 [==============================] - 29s 541ms/step - loss: 153.0590 - mae: 9.3167 - mse: 153.0590 - val_loss: 1848.6788 - val_mae: 30.0387 - val_mse: 1848.6788\n",
            "Epoch 94/100\n",
            "53/53 [==============================] - 29s 543ms/step - loss: 145.2363 - mae: 9.0819 - mse: 145.2363 - val_loss: 1873.6171 - val_mae: 30.2449 - val_mse: 1873.6171\n",
            "Epoch 95/100\n",
            "53/53 [==============================] - 29s 543ms/step - loss: 147.9790 - mae: 9.1668 - mse: 147.9790 - val_loss: 1829.6251 - val_mae: 29.4800 - val_mse: 1829.6251\n",
            "Epoch 96/100\n",
            "53/53 [==============================] - 29s 544ms/step - loss: 144.9498 - mae: 9.0303 - mse: 144.9498 - val_loss: 1835.3326 - val_mae: 29.5877 - val_mse: 1835.3326\n",
            "Epoch 97/100\n",
            "53/53 [==============================] - 29s 542ms/step - loss: 138.0479 - mae: 8.8530 - mse: 138.0479 - val_loss: 1839.4036 - val_mae: 29.9698 - val_mse: 1839.4036\n",
            "Epoch 98/100\n",
            "53/53 [==============================] - 29s 544ms/step - loss: 132.0570 - mae: 8.6233 - mse: 132.0570 - val_loss: 1848.3323 - val_mae: 29.9348 - val_mse: 1848.3323\n",
            "Epoch 99/100\n",
            "53/53 [==============================] - 29s 543ms/step - loss: 136.0081 - mae: 8.7399 - mse: 136.0081 - val_loss: 1848.0131 - val_mae: 29.9032 - val_mse: 1848.0131\n",
            "Epoch 100/100\n",
            "53/53 [==============================] - 29s 545ms/step - loss: 126.2747 - mae: 8.4385 - mse: 126.2747 - val_loss: 1889.1682 - val_mae: 30.3567 - val_mse: 1889.1682\n"
          ]
        }
      ]
    },
    {
      "cell_type": "markdown",
      "source": [
        "Predictions\n",
        "\n"
      ],
      "metadata": {
        "id": "ykyI87uZAFYU"
      }
    },
    {
      "cell_type": "code",
      "source": [
        "train_idx[:T+1]=False"
      ],
      "metadata": {
        "id": "k0XDQv2l-_2x"
      },
      "execution_count": 228,
      "outputs": []
    },
    {
      "cell_type": "code",
      "source": [
        "Ptrain_lstm_cnn=model_lstm_cnn.predict(Xtrain).flatten()\n",
        "Ptest_lstm_cnn=model_lstm_cnn.predict(Xtest).flatten()"
      ],
      "metadata": {
        "id": "wJ3J-Cvv_oLA"
      },
      "execution_count": 229,
      "outputs": []
    },
    {
      "cell_type": "code",
      "source": [
        "Ptrain_lstm_gru=model_lstm_gru.predict(Xtrain).flatten()\n",
        "Ptest_lstm_gru=model_lstm_gru.predict(Xtest).flatten()"
      ],
      "metadata": {
        "id": "r9GuOYr-_oRf"
      },
      "execution_count": 230,
      "outputs": []
    },
    {
      "cell_type": "code",
      "source": [
        "df.loc[train_idx,'Diff LSTM+CNN train prediction']=Ptrain_lstm_cnn\n",
        "df.loc[test_idx,'Diff LSTM+CNN test prediction']=Ptest_lstm_cnn"
      ],
      "metadata": {
        "id": "-ZvHYeDl_oYI"
      },
      "execution_count": null,
      "outputs": []
    },
    {
      "cell_type": "code",
      "source": [
        "df.loc[train_idx,'Diff LSTM+GRU train prediction']=Ptrain_lstm_gru\n",
        "df.loc[test_idx,'Diff LSTM+GRU test prediction']=Ptest_lstm_gru"
      ],
      "metadata": {
        "id": "h0xk_CKv_7mw"
      },
      "execution_count": 231,
      "outputs": []
    },
    {
      "cell_type": "code",
      "source": [
        "df['Shift Prev Close']=df['Prev Close'].shift(1)\n",
        "prev=df['Shift Prev Close']"
      ],
      "metadata": {
        "id": "-9ekKxJr_7pu"
      },
      "execution_count": 232,
      "outputs": []
    },
    {
      "cell_type": "code",
      "source": [
        "last_train=train.iloc[-1]['Prev Close']"
      ],
      "metadata": {
        "id": "Qd-4VnON_7tL"
      },
      "execution_count": 233,
      "outputs": []
    },
    {
      "cell_type": "code",
      "source": [
        "df.loc[train_idx,'train_LSTM_CNN']=prev[train_idx]+Ptrain_lstm_cnn\n",
        "df.loc[test_idx,'Prediction_LSTM_CNN']=prev[test_idx]+Ptest_lstm_cnn"
      ],
      "metadata": {
        "id": "wIUM_MvYALoR"
      },
      "execution_count": 234,
      "outputs": []
    },
    {
      "cell_type": "code",
      "source": [
        "df.loc[train_idx,'train_LSTM_GRU']=prev[train_idx]+Ptrain_lstm_gru\n",
        "df.loc[test_idx,'Prediction_LSTM_GRU']=prev[test_idx]+Ptest_lstm_gru"
      ],
      "metadata": {
        "id": "4dA6pDYTANWK"
      },
      "execution_count": 235,
      "outputs": []
    },
    {
      "cell_type": "code",
      "source": [
        "df[['Prev Close' ,'Prediction_LSTM_CNN','Prediction_LSTM_GRU']].plot(figsize=(15,10));"
      ],
      "metadata": {
        "colab": {
          "base_uri": "https://localhost:8080/",
          "height": 416
        },
        "id": "f8KVkcj8AaPm",
        "outputId": "4cad6ae5-ca06-49fa-9c3a-768c38d2111f"
      },
      "execution_count": 236,
      "outputs": [
        {
          "output_type": "display_data",
          "data": {
            "text/plain": [
              "<Figure size 1080x720 with 1 Axes>"
            ],
            "image/png": "[encoded data removed]"
          },
          "metadata": {
            "needs_background": "light"
          }
        }
      ]
    },
    {
      "cell_type": "code",
      "source": [
        "df[['Prediction_LSTM_CNN','Prediction_LSTM_GRU']].plot(figsize=(15,10));"
      ],
      "metadata": {
        "colab": {
          "base_uri": "https://localhost:8080/",
          "height": 422
        },
        "id": "ZYDW87n5Anf9",
        "outputId": "7bf303d5-4969-4616-812e-0750b613cc54"
      },
      "execution_count": 237,
      "outputs": [
        {
          "output_type": "display_data",
          "data": {
            "text/plain": [
              "<Figure size 1080x720 with 1 Axes>"
            ],
            "image/png": "[encoded data removed]"
          },
          "metadata": {
            "needs_background": "light"
          }
        }
      ]
    },
    {
      "cell_type": "code",
      "source": [
        "pred_lstm_cnn=df['Prediction_LSTM_CNN']\n",
        "pred_lstm_cnn.dropna(inplace=True)"
      ],
      "metadata": {
        "id": "gj8xug0lAxWl"
      },
      "execution_count": 238,
      "outputs": []
    },
    {
      "cell_type": "code",
      "source": [
        "rmse=math.sqrt(mean_squared_error(test['Prev Close'],pred_lstm_cnn))\n",
        "print(rmse)"
      ],
      "metadata": {
        "colab": {
          "base_uri": "https://localhost:8080/"
        },
        "id": "rakkuhBuA-qw",
        "outputId": "8d194d54-8a78-4617-81e0-70566788232b"
      },
      "execution_count": 239,
      "outputs": [
        {
          "output_type": "stream",
          "name": "stdout",
          "text": [
            "42.19269844312911\n"
          ]
        }
      ]
    },
    {
      "cell_type": "code",
      "source": [
        "error=mean_absolute_error(test['Prev Close'],pred_lstm_cnn)\n",
        "print(error)"
      ],
      "metadata": {
        "colab": {
          "base_uri": "https://localhost:8080/"
        },
        "id": "9wztKO3rBHqx",
        "outputId": "bb5a8705-feab-4a29-db69-ba455df04032"
      },
      "execution_count": 240,
      "outputs": [
        {
          "output_type": "stream",
          "name": "stdout",
          "text": [
            "29.692318395967696\n"
          ]
        }
      ]
    },
    {
      "cell_type": "code",
      "source": [
        "r2_score(test['Prev Close'],pred_lstm_cnn)"
      ],
      "metadata": {
        "colab": {
          "base_uri": "https://localhost:8080/"
        },
        "id": "OXbq8UpSBH9g",
        "outputId": "84eb3a76-9136-40d7-a516-834b1cead1eb"
      },
      "execution_count": 241,
      "outputs": [
        {
          "output_type": "execute_result",
          "data": {
            "text/plain": [
              "0.9627817472817297"
            ]
          },
          "metadata": {},
          "execution_count": 241
        }
      ]
    },
    {
      "cell_type": "code",
      "source": [
        "pred_lstm_gru=df['Prediction_LSTM_GRU']\n",
        "pred_lstm_gru.dropna(inplace=True)"
      ],
      "metadata": {
        "id": "kaOiSQKJBRUU"
      },
      "execution_count": 242,
      "outputs": []
    },
    {
      "cell_type": "code",
      "source": [
        "rmse=math.sqrt(mean_squared_error(test['Prev Close'],pred_lstm_cnn))\n",
        "print(rmse)"
      ],
      "metadata": {
        "colab": {
          "base_uri": "https://localhost:8080/"
        },
        "id": "7UBA8PW2BRex",
        "outputId": "24b6b40e-a013-4cb2-f386-ba753aac2b84"
      },
      "execution_count": 243,
      "outputs": [
        {
          "output_type": "stream",
          "name": "stdout",
          "text": [
            "42.19269844312911\n"
          ]
        }
      ]
    },
    {
      "cell_type": "code",
      "source": [
        "error=mean_absolute_error(test['Prev Close'],pred_lstm_gru)\n",
        "print(error)"
      ],
      "metadata": {
        "colab": {
          "base_uri": "https://localhost:8080/"
        },
        "id": "9zf0Qkl4BRo1",
        "outputId": "f9ca770c-4336-4ed0-e313-daec7e613447"
      },
      "execution_count": 244,
      "outputs": [
        {
          "output_type": "stream",
          "name": "stdout",
          "text": [
            "30.356736006301958\n"
          ]
        }
      ]
    },
    {
      "cell_type": "code",
      "source": [
        "r2_score(test['Prev Close'],pred_lstm_gru)"
      ],
      "metadata": {
        "colab": {
          "base_uri": "https://localhost:8080/"
        },
        "id": "2TgbreYrBRzp",
        "outputId": "c62c1c1e-b720-4d0e-f8d6-f48910d4232d"
      },
      "execution_count": 245,
      "outputs": [
        {
          "output_type": "execute_result",
          "data": {
            "text/plain": [
              "0.9605040991810033"
            ]
          },
          "metadata": {},
          "execution_count": 245
        }
      ]
    },
    {
      "cell_type": "code",
      "source": [],
      "metadata": {
        "id": "E7qIDFyEBlEl"
      },
      "execution_count": 245,
      "outputs": []
    }
  ]
}