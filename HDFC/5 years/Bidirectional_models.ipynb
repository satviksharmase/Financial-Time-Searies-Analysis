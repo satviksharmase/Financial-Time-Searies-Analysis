{
  "nbformat": 4,
  "nbformat_minor": 0,
  "metadata": {
    "colab": {
      "provenance": []
    },
    "kernelspec": {
      "name": "python3",
      "display_name": "Python 3"
    },
    "language_info": {
      "name": "python"
    }
  },
  "cells": [
    {
      "cell_type": "code",
      "execution_count": 1,
      "metadata": {
        "id": "ZVEUR9Z46zJ7"
      },
      "outputs": [],
      "source": [
        "import pandas as pd\n",
        "import numpy as np\n",
        "import matplotlib.pyplot as plt\n",
        "\n",
        "import tensorflow as tf\n",
        "from tensorflow.keras.layers import Dense, Input, GlobalMaxPool1D, GRU,LSTM, Bidirectional\n",
        "from tensorflow.keras.models import Model\n",
        "from tensorflow.keras.callbacks import ModelCheckpoint\n",
        "\n",
        "import math\n",
        "\n",
        "from sklearn.metrics import r2_score\n",
        "from sklearn.metrics import mean_absolute_error\n",
        "from sklearn.metrics import mean_squared_error\n",
        "\n",
        "np.random.seed(123)\n",
        "tf.random.set_seed(123)"
      ]
    },
    {
      "cell_type": "code",
      "source": [
        "df=pd.read_csv('./HDFC.csv',index_col='Date',parse_dates=True)"
      ],
      "metadata": {
        "id": "hGNJlPX-7FQ_"
      },
      "execution_count": 3,
      "outputs": []
    },
    {
      "cell_type": "code",
      "source": [
        "df"
      ],
      "metadata": {
        "colab": {
          "base_uri": "https://localhost:8080/",
          "height": 710
        },
        "id": "_fw_w6SY7PDd",
        "outputId": "faf8fd5d-abb2-4684-e516-0f5a183c340b"
      },
      "execution_count": 4,
      "outputs": [
        {
          "output_type": "execute_result",
          "data": {
            "text/plain": [
              "           Symbol Series  Prev Close     Open     High      Low     Last  \\\n",
              "Date                                                                       \n",
              "2000-01-03   HDFC     EQ      271.75   293.50   293.50   293.50   293.50   \n",
              "2000-01-04   HDFC     EQ      293.50   317.00   317.00   297.00   304.00   \n",
              "2000-01-05   HDFC     EQ      304.05   290.00   303.90   285.00   295.00   \n",
              "2000-01-06   HDFC     EQ      292.80   301.00   314.00   295.00   296.00   \n",
              "2000-01-07   HDFC     EQ      296.45   290.00   296.35   281.00   287.10   \n",
              "...           ...    ...         ...      ...      ...      ...      ...   \n",
              "2021-04-26   HDFC     EQ     2497.35  2500.00  2534.10  2483.20  2502.00   \n",
              "2021-04-27   HDFC     EQ     2509.80  2494.15  2526.80  2486.25  2514.00   \n",
              "2021-04-28   HDFC     EQ     2518.40  2516.10  2609.00  2508.30  2575.00   \n",
              "2021-04-29   HDFC     EQ     2577.00  2590.90  2628.00  2533.00  2539.70   \n",
              "2021-04-30   HDFC     EQ     2538.85  2503.10  2525.00  2411.10  2433.25   \n",
              "\n",
              "              Close     VWAP   Volume      Turnover    Trades  \\\n",
              "Date                                                            \n",
              "2000-01-03   293.50   293.50    22744  6.675364e+11       NaN   \n",
              "2000-01-04   304.05   303.62   255251  7.749972e+12       NaN   \n",
              "2000-01-05   292.80   294.53   269087  7.925368e+12       NaN   \n",
              "2000-01-06   296.45   300.14   305916  9.181669e+12       NaN   \n",
              "2000-01-07   286.55   288.80   197039  5.690480e+12       NaN   \n",
              "...             ...      ...      ...           ...       ...   \n",
              "2021-04-26  2509.80  2508.07  3916088  9.821805e+14  121028.0   \n",
              "2021-04-27  2518.40  2509.18  2040799  5.120730e+14  102250.0   \n",
              "2021-04-28  2577.00  2574.21  3407461  8.771527e+14  117425.0   \n",
              "2021-04-29  2538.85  2569.65  3005468  7.722995e+14  132826.0   \n",
              "2021-04-30  2420.10  2445.94  6024595  1.473581e+15  224454.0   \n",
              "\n",
              "            Deliverable Volume  %Deliverble  \n",
              "Date                                         \n",
              "2000-01-03                 NaN          NaN  \n",
              "2000-01-04                 NaN          NaN  \n",
              "2000-01-05                 NaN          NaN  \n",
              "2000-01-06                 NaN          NaN  \n",
              "2000-01-07                 NaN          NaN  \n",
              "...                        ...          ...  \n",
              "2021-04-26           2440395.0       0.6232  \n",
              "2021-04-27           1040749.0       0.5100  \n",
              "2021-04-28           1815110.0       0.5327  \n",
              "2021-04-29           1472924.0       0.4901  \n",
              "2021-04-30           3839105.0       0.6372  \n",
              "\n",
              "[5306 rows x 14 columns]"
            ],
            "text/html": [
              "\n",
              "  <div id=\"df-b83c6c74-6e85-44da-9b14-3808f95b0501\">\n",
              "    <div class=\"colab-df-container\">\n",
              "      <div>\n",
              "<style scoped>\n",
              "    .dataframe tbody tr th:only-of-type {\n",
              "        vertical-align: middle;\n",
              "    }\n",
              "\n",
              "    .dataframe tbody tr th {\n",
              "        vertical-align: top;\n",
              "    }\n",
              "\n",
              "    .dataframe thead th {\n",
              "        text-align: right;\n",
              "    }\n",
              "</style>\n",
              "<table border=\"1\" class=\"dataframe\">\n",
              "  <thead>\n",
              "    <tr style=\"text-align: right;\">\n",
              "      <th></th>\n",
              "      <th>Symbol</th>\n",
              "      <th>Series</th>\n",
              "      <th>Prev Close</th>\n",
              "      <th>Open</th>\n",
              "      <th>High</th>\n",
              "      <th>Low</th>\n",
              "      <th>Last</th>\n",
              "      <th>Close</th>\n",
              "      <th>VWAP</th>\n",
              "      <th>Volume</th>\n",
              "      <th>Turnover</th>\n",
              "      <th>Trades</th>\n",
              "      <th>Deliverable Volume</th>\n",
              "      <th>%Deliverble</th>\n",
              "    </tr>\n",
              "    <tr>\n",
              "      <th>Date</th>\n",
              "      <th></th>\n",
              "      <th></th>\n",
              "      <th></th>\n",
              "      <th></th>\n",
              "      <th></th>\n",
              "      <th></th>\n",
              "      <th></th>\n",
              "      <th></th>\n",
              "      <th></th>\n",
              "      <th></th>\n",
              "      <th></th>\n",
              "      <th></th>\n",
              "      <th></th>\n",
              "      <th></th>\n",
              "    </tr>\n",
              "  </thead>\n",
              "  <tbody>\n",
              "    <tr>\n",
              "      <th>2000-01-03</th>\n",
              "      <td>HDFC</td>\n",
              "      <td>EQ</td>\n",
              "      <td>271.75</td>\n",
              "      <td>293.50</td>\n",
              "      <td>293.50</td>\n",
              "      <td>293.50</td>\n",
              "      <td>293.50</td>\n",
              "      <td>293.50</td>\n",
              "      <td>293.50</td>\n",
              "      <td>22744</td>\n",
              "      <td>6.675364e+11</td>\n",
              "      <td>NaN</td>\n",
              "      <td>NaN</td>\n",
              "      <td>NaN</td>\n",
              "    </tr>\n",
              "    <tr>\n",
              "      <th>2000-01-04</th>\n",
              "      <td>HDFC</td>\n",
              "      <td>EQ</td>\n",
              "      <td>293.50</td>\n",
              "      <td>317.00</td>\n",
              "      <td>317.00</td>\n",
              "      <td>297.00</td>\n",
              "      <td>304.00</td>\n",
              "      <td>304.05</td>\n",
              "      <td>303.62</td>\n",
              "      <td>255251</td>\n",
              "      <td>7.749972e+12</td>\n",
              "      <td>NaN</td>\n",
              "      <td>NaN</td>\n",
              "      <td>NaN</td>\n",
              "    </tr>\n",
              "    <tr>\n",
              "      <th>2000-01-05</th>\n",
              "      <td>HDFC</td>\n",
              "      <td>EQ</td>\n",
              "      <td>304.05</td>\n",
              "      <td>290.00</td>\n",
              "      <td>303.90</td>\n",
              "      <td>285.00</td>\n",
              "      <td>295.00</td>\n",
              "      <td>292.80</td>\n",
              "      <td>294.53</td>\n",
              "      <td>269087</td>\n",
              "      <td>7.925368e+12</td>\n",
              "      <td>NaN</td>\n",
              "      <td>NaN</td>\n",
              "      <td>NaN</td>\n",
              "    </tr>\n",
              "    <tr>\n",
              "      <th>2000-01-06</th>\n",
              "      <td>HDFC</td>\n",
              "      <td>EQ</td>\n",
              "      <td>292.80</td>\n",
              "      <td>301.00</td>\n",
              "      <td>314.00</td>\n",
              "      <td>295.00</td>\n",
              "      <td>296.00</td>\n",
              "      <td>296.45</td>\n",
              "      <td>300.14</td>\n",
              "      <td>305916</td>\n",
              "      <td>9.181669e+12</td>\n",
              "      <td>NaN</td>\n",
              "      <td>NaN</td>\n",
              "      <td>NaN</td>\n",
              "    </tr>\n",
              "    <tr>\n",
              "      <th>2000-01-07</th>\n",
              "      <td>HDFC</td>\n",
              "      <td>EQ</td>\n",
              "      <td>296.45</td>\n",
              "      <td>290.00</td>\n",
              "      <td>296.35</td>\n",
              "      <td>281.00</td>\n",
              "      <td>287.10</td>\n",
              "      <td>286.55</td>\n",
              "      <td>288.80</td>\n",
              "      <td>197039</td>\n",
              "      <td>5.690480e+12</td>\n",
              "      <td>NaN</td>\n",
              "      <td>NaN</td>\n",
              "      <td>NaN</td>\n",
              "    </tr>\n",
              "    <tr>\n",
              "      <th>...</th>\n",
              "      <td>...</td>\n",
              "      <td>...</td>\n",
              "      <td>...</td>\n",
              "      <td>...</td>\n",
              "      <td>...</td>\n",
              "      <td>...</td>\n",
              "      <td>...</td>\n",
              "      <td>...</td>\n",
              "      <td>...</td>\n",
              "      <td>...</td>\n",
              "      <td>...</td>\n",
              "      <td>...</td>\n",
              "      <td>...</td>\n",
              "      <td>...</td>\n",
              "    </tr>\n",
              "    <tr>\n",
              "      <th>2021-04-26</th>\n",
              "      <td>HDFC</td>\n",
              "      <td>EQ</td>\n",
              "      <td>2497.35</td>\n",
              "      <td>2500.00</td>\n",
              "      <td>2534.10</td>\n",
              "      <td>2483.20</td>\n",
              "      <td>2502.00</td>\n",
              "      <td>2509.80</td>\n",
              "      <td>2508.07</td>\n",
              "      <td>3916088</td>\n",
              "      <td>9.821805e+14</td>\n",
              "      <td>121028.0</td>\n",
              "      <td>2440395.0</td>\n",
              "      <td>0.6232</td>\n",
              "    </tr>\n",
              "    <tr>\n",
              "      <th>2021-04-27</th>\n",
              "      <td>HDFC</td>\n",
              "      <td>EQ</td>\n",
              "      <td>2509.80</td>\n",
              "      <td>2494.15</td>\n",
              "      <td>2526.80</td>\n",
              "      <td>2486.25</td>\n",
              "      <td>2514.00</td>\n",
              "      <td>2518.40</td>\n",
              "      <td>2509.18</td>\n",
              "      <td>2040799</td>\n",
              "      <td>5.120730e+14</td>\n",
              "      <td>102250.0</td>\n",
              "      <td>1040749.0</td>\n",
              "      <td>0.5100</td>\n",
              "    </tr>\n",
              "    <tr>\n",
              "      <th>2021-04-28</th>\n",
              "      <td>HDFC</td>\n",
              "      <td>EQ</td>\n",
              "      <td>2518.40</td>\n",
              "      <td>2516.10</td>\n",
              "      <td>2609.00</td>\n",
              "      <td>2508.30</td>\n",
              "      <td>2575.00</td>\n",
              "      <td>2577.00</td>\n",
              "      <td>2574.21</td>\n",
              "      <td>3407461</td>\n",
              "      <td>8.771527e+14</td>\n",
              "      <td>117425.0</td>\n",
              "      <td>1815110.0</td>\n",
              "      <td>0.5327</td>\n",
              "    </tr>\n",
              "    <tr>\n",
              "      <th>2021-04-29</th>\n",
              "      <td>HDFC</td>\n",
              "      <td>EQ</td>\n",
              "      <td>2577.00</td>\n",
              "      <td>2590.90</td>\n",
              "      <td>2628.00</td>\n",
              "      <td>2533.00</td>\n",
              "      <td>2539.70</td>\n",
              "      <td>2538.85</td>\n",
              "      <td>2569.65</td>\n",
              "      <td>3005468</td>\n",
              "      <td>7.722995e+14</td>\n",
              "      <td>132826.0</td>\n",
              "      <td>1472924.0</td>\n",
              "      <td>0.4901</td>\n",
              "    </tr>\n",
              "    <tr>\n",
              "      <th>2021-04-30</th>\n",
              "      <td>HDFC</td>\n",
              "      <td>EQ</td>\n",
              "      <td>2538.85</td>\n",
              "      <td>2503.10</td>\n",
              "      <td>2525.00</td>\n",
              "      <td>2411.10</td>\n",
              "      <td>2433.25</td>\n",
              "      <td>2420.10</td>\n",
              "      <td>2445.94</td>\n",
              "      <td>6024595</td>\n",
              "      <td>1.473581e+15</td>\n",
              "      <td>224454.0</td>\n",
              "      <td>3839105.0</td>\n",
              "      <td>0.6372</td>\n",
              "    </tr>\n",
              "  </tbody>\n",
              "</table>\n",
              "<p>5306 rows × 14 columns</p>\n",
              "</div>\n",
              "      <button class=\"colab-df-convert\" onclick=\"convertToInteractive('df-b83c6c74-6e85-44da-9b14-3808f95b0501')\"\n",
              "              title=\"Convert this dataframe to an interactive table.\"\n",
              "              style=\"display:none;\">\n",
              "        \n",
              "  <svg xmlns=\"http://www.w3.org/2000/svg\" height=\"24px\"viewBox=\"0 0 24 24\"\n",
              "       width=\"24px\">\n",
              "    <path d=\"M0 0h24v24H0V0z\" fill=\"none\"/>\n",
              "    <path d=\"M18.56 5.44l.94 2.06.94-2.06 2.06-.94-2.06-.94-.94-2.06-.94 2.06-2.06.94zm-11 1L8.5 8.5l.94-2.06 2.06-.94-2.06-.94L8.5 2.5l-.94 2.06-2.06.94zm10 10l.94 2.06.94-2.06 2.06-.94-2.06-.94-.94-2.06-.94 2.06-2.06.94z\"/><path d=\"M17.41 7.96l-1.37-1.37c-.4-.4-.92-.59-1.43-.59-.52 0-1.04.2-1.43.59L10.3 9.45l-7.72 7.72c-.78.78-.78 2.05 0 2.83L4 21.41c.39.39.9.59 1.41.59.51 0 1.02-.2 1.41-.59l7.78-7.78 2.81-2.81c.8-.78.8-2.07 0-2.86zM5.41 20L4 18.59l7.72-7.72 1.47 1.35L5.41 20z\"/>\n",
              "  </svg>\n",
              "      </button>\n",
              "      \n",
              "  <style>\n",
              "    .colab-df-container {\n",
              "      display:flex;\n",
              "      flex-wrap:wrap;\n",
              "      gap: 12px;\n",
              "    }\n",
              "\n",
              "    .colab-df-convert {\n",
              "      background-color: #E8F0FE;\n",
              "      border: none;\n",
              "      border-radius: 50%;\n",
              "      cursor: pointer;\n",
              "      display: none;\n",
              "      fill: #1967D2;\n",
              "      height: 32px;\n",
              "      padding: 0 0 0 0;\n",
              "      width: 32px;\n",
              "    }\n",
              "\n",
              "    .colab-df-convert:hover {\n",
              "      background-color: #E2EBFA;\n",
              "      box-shadow: 0px 1px 2px rgba(60, 64, 67, 0.3), 0px 1px 3px 1px rgba(60, 64, 67, 0.15);\n",
              "      fill: #174EA6;\n",
              "    }\n",
              "\n",
              "    [theme=dark] .colab-df-convert {\n",
              "      background-color: #3B4455;\n",
              "      fill: #D2E3FC;\n",
              "    }\n",
              "\n",
              "    [theme=dark] .colab-df-convert:hover {\n",
              "      background-color: #434B5C;\n",
              "      box-shadow: 0px 1px 3px 1px rgba(0, 0, 0, 0.15);\n",
              "      filter: drop-shadow(0px 1px 2px rgba(0, 0, 0, 0.3));\n",
              "      fill: #FFFFFF;\n",
              "    }\n",
              "  </style>\n",
              "\n",
              "      <script>\n",
              "        const buttonEl =\n",
              "          document.querySelector('#df-b83c6c74-6e85-44da-9b14-3808f95b0501 button.colab-df-convert');\n",
              "        buttonEl.style.display =\n",
              "          google.colab.kernel.accessAllowed ? 'block' : 'none';\n",
              "\n",
              "        async function convertToInteractive(key) {\n",
              "          const element = document.querySelector('#df-b83c6c74-6e85-44da-9b14-3808f95b0501');\n",
              "          const dataTable =\n",
              "            await google.colab.kernel.invokeFunction('convertToInteractive',\n",
              "                                                     [key], {});\n",
              "          if (!dataTable) return;\n",
              "\n",
              "          const docLinkHtml = 'Like what you see? Visit the ' +\n",
              "            '<a target=\"_blank\" href=https://colab.research.google.com/notebooks/data_table.ipynb>data table notebook</a>'\n",
              "            + ' to learn more about interactive tables.';\n",
              "          element.innerHTML = '';\n",
              "          dataTable['output_type'] = 'display_data';\n",
              "          await google.colab.output.renderOutput(dataTable, element);\n",
              "          const docLink = document.createElement('div');\n",
              "          docLink.innerHTML = docLinkHtml;\n",
              "          element.appendChild(docLink);\n",
              "        }\n",
              "      </script>\n",
              "    </div>\n",
              "  </div>\n",
              "  "
            ]
          },
          "metadata": {},
          "execution_count": 4
        }
      ]
    },
    {
      "cell_type": "code",
      "source": [
        "df['Date']=df.index"
      ],
      "metadata": {
        "id": "zwmfESni7gKn"
      },
      "execution_count": 5,
      "outputs": []
    },
    {
      "cell_type": "code",
      "source": [
        "start_date='2016-01-01'\n",
        "end_date='2020-12-31'\n",
        "mask=(df['Date']>=start_date)&(df['Date']<=end_date)"
      ],
      "metadata": {
        "id": "R6njdWuX7i6e"
      },
      "execution_count": 7,
      "outputs": []
    },
    {
      "cell_type": "code",
      "source": [
        "df=df.loc[mask]"
      ],
      "metadata": {
        "id": "1gvhNCc_7lCh"
      },
      "execution_count": 8,
      "outputs": []
    },
    {
      "cell_type": "code",
      "source": [
        "df=df.loc[mask]"
      ],
      "metadata": {
        "id": "H7T84rNE7lFn"
      },
      "execution_count": 9,
      "outputs": []
    },
    {
      "cell_type": "code",
      "source": [
        "df=df.drop(columns=['Series','Symbol','Open','High','Low','Last','Close','VWAP','Volume','Turnover','Trades','Deliverable Volume','%Deliverble','Date'])"
      ],
      "metadata": {
        "id": "KosKVO_j7lIn"
      },
      "execution_count": 10,
      "outputs": []
    },
    {
      "cell_type": "code",
      "source": [
        "Ntest=math.trunc(0.3*len(df))\n",
        "train=df.iloc[:-Ntest]\n",
        "test=df.iloc[-Ntest:]"
      ],
      "metadata": {
        "id": "7YW96kEv7lLh"
      },
      "execution_count": 11,
      "outputs": []
    },
    {
      "cell_type": "code",
      "source": [
        "train_idx=df.index<=train.index[-1]\n",
        "test_idx=df.index>train.index[-1]"
      ],
      "metadata": {
        "id": "NhwqMQ7r7lOX"
      },
      "execution_count": 12,
      "outputs": []
    },
    {
      "cell_type": "code",
      "source": [
        "df['Diff Prev Close']=df['Prev Close'].diff()"
      ],
      "metadata": {
        "id": "QtuPaMDJ7lQ_"
      },
      "execution_count": 13,
      "outputs": []
    },
    {
      "cell_type": "code",
      "source": [
        "series=df['Diff Prev Close'].dropna().to_numpy()\n",
        "\n",
        "T=50\n",
        "X=[]\n",
        "Y=[]\n",
        "for t in range(len(series)-T):\n",
        "  x=series[t:t+T]\n",
        "  X.append(x)\n",
        "  y=series[t+T]\n",
        "  Y.append(y)\n",
        "\n",
        "X=np.array(X).reshape(-1,T)\n",
        "Y=np.array(Y)\n",
        "N=len(X)\n",
        "print(\"X.shape\",X.shape,\"Y.shape\",Y.shape)"
      ],
      "metadata": {
        "colab": {
          "base_uri": "https://localhost:8080/"
        },
        "id": "WJeTN9cL7tkq",
        "outputId": "f65f8097-05a9-41a5-dc26-0238f2266db9"
      },
      "execution_count": 15,
      "outputs": [
        {
          "output_type": "stream",
          "name": "stdout",
          "text": [
            "X.shape (1187, 50) Y.shape (1187,)\n"
          ]
        }
      ]
    },
    {
      "cell_type": "code",
      "source": [
        "Xtrain,Ytrain=X[:-Ntest],Y[:-Ntest]\n",
        "Xtest,Ytest=X[-Ntest:],Y[-Ntest:]"
      ],
      "metadata": {
        "id": "dE1vSivZ7tn-"
      },
      "execution_count": 16,
      "outputs": []
    },
    {
      "cell_type": "markdown",
      "source": [
        "Bi-LSTM"
      ],
      "metadata": {
        "id": "Y6SYTxcf8HrV"
      }
    },
    {
      "cell_type": "code",
      "source": [
        "i=Input(shape=(T,1))\n",
        "x=Bidirectional(LSTM(200,return_sequences=True))(i)\n",
        "x=Bidirectional(LSTM(200,return_sequences=True))(x)\n",
        "x=GlobalMaxPool1D()(x)\n",
        "x=Dense(100)(x)\n",
        "x=Dense(50)(x)\n",
        "x=Dense(1)(x)\n",
        "model_bi_lstm=Model(i,x)\n",
        "model_bi_lstm.summary()"
      ],
      "metadata": {
        "colab": {
          "base_uri": "https://localhost:8080/"
        },
        "id": "uk3JcnRf7trE",
        "outputId": "b864896b-d85a-4620-8f11-14a844382bc4"
      },
      "execution_count": 18,
      "outputs": [
        {
          "output_type": "stream",
          "name": "stdout",
          "text": [
            "Model: \"model_1\"\n",
            "_________________________________________________________________\n",
            " Layer (type)                Output Shape              Param #   \n",
            "=================================================================\n",
            " input_2 (InputLayer)        [(None, 50, 1)]           0         \n",
            "                                                                 \n",
            " bidirectional_2 (Bidirectio  (None, 50, 400)          323200    \n",
            " nal)                                                            \n",
            "                                                                 \n",
            " bidirectional_3 (Bidirectio  (None, 50, 400)          961600    \n",
            " nal)                                                            \n",
            "                                                                 \n",
            " global_max_pooling1d_1 (Glo  (None, 400)              0         \n",
            " balMaxPooling1D)                                                \n",
            "                                                                 \n",
            " dense_3 (Dense)             (None, 100)               40100     \n",
            "                                                                 \n",
            " dense_4 (Dense)             (None, 50)                5050      \n",
            "                                                                 \n",
            " dense_5 (Dense)             (None, 1)                 51        \n",
            "                                                                 \n",
            "=================================================================\n",
            "Total params: 1,330,001\n",
            "Trainable params: 1,330,001\n",
            "Non-trainable params: 0\n",
            "_________________________________________________________________\n"
          ]
        }
      ]
    },
    {
      "cell_type": "code",
      "source": [
        "check_point_bi_lstm=ModelCheckpoint('best_model.h5',monitor='val_loss',save_best_only=True)"
      ],
      "metadata": {
        "id": "9NtxtRQm7tuD"
      },
      "execution_count": 19,
      "outputs": []
    },
    {
      "cell_type": "code",
      "source": [
        "model_bi_lstm.compile(loss='mse',\n",
        "              optimizer='adamax',\n",
        "              metrics=['mae','mse'])"
      ],
      "metadata": {
        "id": "Tb0KBami7txT"
      },
      "execution_count": 20,
      "outputs": []
    },
    {
      "cell_type": "code",
      "source": [
        "r=model_bi_lstm.fit(\n",
        "    Xtrain,\n",
        "    Ytrain,\n",
        "    epochs=100,\n",
        "    validation_data=(Xtest,Ytest),\n",
        "    callbacks=[check_point_bi_lstm]\n",
        ")"
      ],
      "metadata": {
        "colab": {
          "base_uri": "https://localhost:8080/"
        },
        "id": "Dl_RedqY7t0c",
        "outputId": "211eb0df-376a-418b-fe93-c1ae3e2e7898"
      },
      "execution_count": 22,
      "outputs": [
        {
          "output_type": "stream",
          "name": "stdout",
          "text": [
            "Epoch 1/100\n",
            "26/26 [==============================] - 27s 772ms/step - loss: 543.6636 - mae: 17.6235 - mse: 543.6636 - val_loss: 2514.4233 - val_mae: 34.4721 - val_mse: 2514.4233\n",
            "Epoch 2/100\n",
            "26/26 [==============================] - 18s 704ms/step - loss: 541.7939 - mae: 17.5881 - mse: 541.7939 - val_loss: 2513.3340 - val_mae: 34.4449 - val_mse: 2513.3340\n",
            "Epoch 3/100\n",
            "26/26 [==============================] - 19s 716ms/step - loss: 540.1603 - mae: 17.5850 - mse: 540.1603 - val_loss: 2511.5188 - val_mae: 34.4237 - val_mse: 2511.5188\n",
            "Epoch 4/100\n",
            "26/26 [==============================] - 19s 718ms/step - loss: 537.9448 - mae: 17.5421 - mse: 537.9448 - val_loss: 2509.4849 - val_mae: 34.3979 - val_mse: 2509.4849\n",
            "Epoch 5/100\n",
            "26/26 [==============================] - 17s 673ms/step - loss: 536.2596 - mae: 17.5066 - mse: 536.2596 - val_loss: 2507.6316 - val_mae: 34.3457 - val_mse: 2507.6316\n",
            "Epoch 6/100\n",
            "26/26 [==============================] - 18s 686ms/step - loss: 535.2032 - mae: 17.5735 - mse: 535.2032 - val_loss: 2523.5295 - val_mae: 34.6733 - val_mse: 2523.5295\n",
            "Epoch 7/100\n",
            "26/26 [==============================] - 18s 684ms/step - loss: 531.2742 - mae: 17.4340 - mse: 531.2742 - val_loss: 2508.6602 - val_mae: 34.3910 - val_mse: 2508.6602\n",
            "Epoch 8/100\n",
            "26/26 [==============================] - 18s 676ms/step - loss: 525.0786 - mae: 17.2635 - mse: 525.0786 - val_loss: 2512.0154 - val_mae: 34.4332 - val_mse: 2512.0154\n",
            "Epoch 9/100\n",
            "26/26 [==============================] - 17s 672ms/step - loss: 522.6160 - mae: 17.2499 - mse: 522.6160 - val_loss: 2519.0073 - val_mae: 34.4634 - val_mse: 2519.0073\n",
            "Epoch 10/100\n",
            "26/26 [==============================] - 18s 675ms/step - loss: 512.6367 - mae: 17.0785 - mse: 512.6367 - val_loss: 2528.9216 - val_mae: 34.7639 - val_mse: 2528.9216\n",
            "Epoch 11/100\n",
            "26/26 [==============================] - 18s 677ms/step - loss: 498.1467 - mae: 16.8605 - mse: 498.1467 - val_loss: 2535.0598 - val_mae: 34.9366 - val_mse: 2535.0598\n",
            "Epoch 12/100\n",
            "26/26 [==============================] - 18s 678ms/step - loss: 491.3446 - mae: 16.7091 - mse: 491.3446 - val_loss: 2568.8333 - val_mae: 35.3455 - val_mse: 2568.8333\n",
            "Epoch 13/100\n",
            "26/26 [==============================] - 18s 679ms/step - loss: 485.7782 - mae: 16.6886 - mse: 485.7782 - val_loss: 2590.2786 - val_mae: 35.4476 - val_mse: 2590.2786\n",
            "Epoch 14/100\n",
            "26/26 [==============================] - 17s 668ms/step - loss: 477.8251 - mae: 16.5940 - mse: 477.8251 - val_loss: 2604.8743 - val_mae: 35.8392 - val_mse: 2604.8743\n",
            "Epoch 15/100\n",
            "26/26 [==============================] - 18s 678ms/step - loss: 457.8627 - mae: 16.1872 - mse: 457.8627 - val_loss: 2642.1274 - val_mae: 36.1345 - val_mse: 2642.1274\n",
            "Epoch 16/100\n",
            "26/26 [==============================] - 18s 676ms/step - loss: 455.1450 - mae: 16.2527 - mse: 455.1450 - val_loss: 2673.8643 - val_mae: 36.6734 - val_mse: 2673.8643\n",
            "Epoch 17/100\n",
            "26/26 [==============================] - 17s 670ms/step - loss: 453.6872 - mae: 16.3057 - mse: 453.6872 - val_loss: 2680.3259 - val_mae: 36.6629 - val_mse: 2680.3259\n",
            "Epoch 18/100\n",
            "26/26 [==============================] - 17s 676ms/step - loss: 427.9627 - mae: 15.6534 - mse: 427.9627 - val_loss: 2744.3965 - val_mae: 37.3600 - val_mse: 2744.3965\n",
            "Epoch 19/100\n",
            "26/26 [==============================] - 18s 680ms/step - loss: 413.6513 - mae: 15.4775 - mse: 413.6513 - val_loss: 2790.5190 - val_mae: 38.0402 - val_mse: 2790.5190\n",
            "Epoch 20/100\n",
            "26/26 [==============================] - 18s 693ms/step - loss: 409.6758 - mae: 15.4592 - mse: 409.6758 - val_loss: 2834.5476 - val_mae: 38.5484 - val_mse: 2834.5476\n",
            "Epoch 21/100\n",
            "26/26 [==============================] - 18s 677ms/step - loss: 398.7836 - mae: 15.2317 - mse: 398.7836 - val_loss: 2817.6396 - val_mae: 38.4372 - val_mse: 2817.6396\n",
            "Epoch 22/100\n",
            "26/26 [==============================] - 18s 682ms/step - loss: 390.1743 - mae: 15.0983 - mse: 390.1743 - val_loss: 2935.2905 - val_mae: 39.7676 - val_mse: 2935.2905\n",
            "Epoch 23/100\n",
            "26/26 [==============================] - 18s 686ms/step - loss: 379.5962 - mae: 14.9693 - mse: 379.5962 - val_loss: 2865.0735 - val_mae: 38.8859 - val_mse: 2865.0735\n",
            "Epoch 24/100\n",
            "26/26 [==============================] - 18s 680ms/step - loss: 366.8838 - mae: 14.5911 - mse: 366.8838 - val_loss: 2961.7563 - val_mae: 40.2066 - val_mse: 2961.7563\n",
            "Epoch 25/100\n",
            "26/26 [==============================] - 18s 691ms/step - loss: 352.8882 - mae: 14.3426 - mse: 352.8882 - val_loss: 2996.7932 - val_mae: 40.5020 - val_mse: 2996.7932\n",
            "Epoch 26/100\n",
            "26/26 [==============================] - 18s 677ms/step - loss: 333.0686 - mae: 14.0297 - mse: 333.0686 - val_loss: 3078.9080 - val_mae: 41.6061 - val_mse: 3078.9080\n",
            "Epoch 27/100\n",
            "26/26 [==============================] - 18s 683ms/step - loss: 318.9690 - mae: 13.6625 - mse: 318.9690 - val_loss: 3316.6917 - val_mae: 43.8028 - val_mse: 3316.6917\n",
            "Epoch 28/100\n",
            "26/26 [==============================] - 18s 683ms/step - loss: 330.7201 - mae: 14.1392 - mse: 330.7201 - val_loss: 3208.3066 - val_mae: 42.8113 - val_mse: 3208.3066\n",
            "Epoch 29/100\n",
            "26/26 [==============================] - 17s 667ms/step - loss: 309.3192 - mae: 13.5718 - mse: 309.3192 - val_loss: 3218.4292 - val_mae: 42.7389 - val_mse: 3218.4292\n",
            "Epoch 30/100\n",
            "26/26 [==============================] - 17s 674ms/step - loss: 297.4107 - mae: 13.3727 - mse: 297.4107 - val_loss: 3182.8689 - val_mae: 42.4437 - val_mse: 3182.8689\n",
            "Epoch 31/100\n",
            "26/26 [==============================] - 18s 679ms/step - loss: 271.4132 - mae: 12.5491 - mse: 271.4132 - val_loss: 3387.6389 - val_mae: 44.3180 - val_mse: 3387.6389\n",
            "Epoch 32/100\n",
            "26/26 [==============================] - 17s 664ms/step - loss: 248.9060 - mae: 11.9819 - mse: 248.9060 - val_loss: 3538.4661 - val_mae: 45.9597 - val_mse: 3538.4661\n",
            "Epoch 33/100\n",
            "26/26 [==============================] - 17s 665ms/step - loss: 247.4174 - mae: 12.0936 - mse: 247.4174 - val_loss: 3535.2065 - val_mae: 45.8024 - val_mse: 3535.2065\n",
            "Epoch 34/100\n",
            "26/26 [==============================] - 17s 671ms/step - loss: 246.0682 - mae: 12.0506 - mse: 246.0682 - val_loss: 3481.4326 - val_mae: 45.5354 - val_mse: 3481.4326\n",
            "Epoch 35/100\n",
            "26/26 [==============================] - 17s 666ms/step - loss: 227.8333 - mae: 11.5591 - mse: 227.8333 - val_loss: 3813.7207 - val_mae: 48.0969 - val_mse: 3813.7207\n",
            "Epoch 36/100\n",
            "26/26 [==============================] - 18s 679ms/step - loss: 219.4738 - mae: 11.3037 - mse: 219.4738 - val_loss: 3752.1562 - val_mae: 47.6324 - val_mse: 3752.1562\n",
            "Epoch 37/100\n",
            "26/26 [==============================] - 18s 689ms/step - loss: 204.3583 - mae: 11.0325 - mse: 204.3583 - val_loss: 3731.3254 - val_mae: 47.5239 - val_mse: 3731.3254\n",
            "Epoch 38/100\n",
            "26/26 [==============================] - 17s 674ms/step - loss: 203.5740 - mae: 10.8663 - mse: 203.5740 - val_loss: 3800.0225 - val_mae: 48.1476 - val_mse: 3800.0225\n",
            "Epoch 39/100\n",
            "26/26 [==============================] - 17s 672ms/step - loss: 183.6677 - mae: 10.3443 - mse: 183.6677 - val_loss: 3772.4993 - val_mae: 47.8863 - val_mse: 3772.4993\n",
            "Epoch 40/100\n",
            "26/26 [==============================] - 18s 682ms/step - loss: 158.5766 - mae: 9.7570 - mse: 158.5766 - val_loss: 3867.0676 - val_mae: 48.3764 - val_mse: 3867.0676\n",
            "Epoch 41/100\n",
            "26/26 [==============================] - 17s 670ms/step - loss: 157.5080 - mae: 9.8156 - mse: 157.5080 - val_loss: 4156.9766 - val_mae: 50.7737 - val_mse: 4156.9766\n",
            "Epoch 42/100\n",
            "26/26 [==============================] - 17s 662ms/step - loss: 160.1132 - mae: 9.8774 - mse: 160.1132 - val_loss: 4041.3579 - val_mae: 49.9898 - val_mse: 4041.3579\n",
            "Epoch 43/100\n",
            "26/26 [==============================] - 17s 664ms/step - loss: 139.3857 - mae: 9.0899 - mse: 139.3857 - val_loss: 4001.5452 - val_mae: 49.4970 - val_mse: 4001.5452\n",
            "Epoch 44/100\n",
            "26/26 [==============================] - 18s 684ms/step - loss: 133.3984 - mae: 9.0860 - mse: 133.3984 - val_loss: 4032.6699 - val_mae: 49.6969 - val_mse: 4032.6699\n",
            "Epoch 45/100\n",
            "26/26 [==============================] - 18s 686ms/step - loss: 109.6056 - mae: 8.0336 - mse: 109.6056 - val_loss: 4165.4941 - val_mae: 50.6980 - val_mse: 4165.4941\n",
            "Epoch 46/100\n",
            "26/26 [==============================] - 18s 679ms/step - loss: 119.3222 - mae: 8.4566 - mse: 119.3222 - val_loss: 4004.5781 - val_mae: 49.7114 - val_mse: 4004.5781\n",
            "Epoch 47/100\n",
            "26/26 [==============================] - 18s 684ms/step - loss: 117.4848 - mae: 8.3570 - mse: 117.4848 - val_loss: 4179.7007 - val_mae: 50.8588 - val_mse: 4179.7007\n",
            "Epoch 48/100\n",
            "26/26 [==============================] - 18s 682ms/step - loss: 127.7480 - mae: 8.6925 - mse: 127.7480 - val_loss: 4417.9287 - val_mae: 52.6874 - val_mse: 4417.9287\n",
            "Epoch 49/100\n",
            "26/26 [==============================] - 17s 674ms/step - loss: 114.7844 - mae: 8.2837 - mse: 114.7844 - val_loss: 4029.4573 - val_mae: 49.8617 - val_mse: 4029.4573\n",
            "Epoch 50/100\n",
            "26/26 [==============================] - 18s 679ms/step - loss: 95.5675 - mae: 7.4139 - mse: 95.5675 - val_loss: 4072.0764 - val_mae: 50.0936 - val_mse: 4072.0764\n",
            "Epoch 51/100\n",
            "26/26 [==============================] - 18s 683ms/step - loss: 80.2803 - mae: 6.9387 - mse: 80.2803 - val_loss: 4192.1528 - val_mae: 51.0777 - val_mse: 4192.1528\n",
            "Epoch 52/100\n",
            "26/26 [==============================] - 18s 680ms/step - loss: 82.4453 - mae: 6.9578 - mse: 82.4453 - val_loss: 4503.3418 - val_mae: 53.2288 - val_mse: 4503.3418\n",
            "Epoch 53/100\n",
            "26/26 [==============================] - 18s 680ms/step - loss: 81.6722 - mae: 7.0102 - mse: 81.6722 - val_loss: 4144.0854 - val_mae: 50.7719 - val_mse: 4144.0854\n",
            "Epoch 54/100\n",
            "26/26 [==============================] - 18s 691ms/step - loss: 82.2180 - mae: 6.8746 - mse: 82.2180 - val_loss: 4340.2007 - val_mae: 52.1116 - val_mse: 4340.2007\n",
            "Epoch 55/100\n",
            "26/26 [==============================] - 17s 668ms/step - loss: 94.2221 - mae: 7.6487 - mse: 94.2221 - val_loss: 4329.7842 - val_mae: 51.9043 - val_mse: 4329.7842\n",
            "Epoch 56/100\n",
            "26/26 [==============================] - 18s 695ms/step - loss: 101.6417 - mae: 8.1317 - mse: 101.6417 - val_loss: 4147.6440 - val_mae: 50.6854 - val_mse: 4147.6440\n",
            "Epoch 57/100\n",
            "26/26 [==============================] - 17s 666ms/step - loss: 67.8106 - mae: 6.4187 - mse: 67.8106 - val_loss: 4208.8447 - val_mae: 50.8330 - val_mse: 4208.8447\n",
            "Epoch 58/100\n",
            "26/26 [==============================] - 17s 676ms/step - loss: 46.1510 - mae: 5.2785 - mse: 46.1510 - val_loss: 4440.2178 - val_mae: 52.5768 - val_mse: 4440.2178\n",
            "Epoch 59/100\n",
            "26/26 [==============================] - 17s 673ms/step - loss: 44.5814 - mae: 5.1436 - mse: 44.5814 - val_loss: 4426.9980 - val_mae: 52.6039 - val_mse: 4426.9980\n",
            "Epoch 60/100\n",
            "26/26 [==============================] - 18s 687ms/step - loss: 41.7642 - mae: 4.9881 - mse: 41.7642 - val_loss: 4424.3521 - val_mae: 52.5325 - val_mse: 4424.3521\n",
            "Epoch 61/100\n",
            "26/26 [==============================] - 18s 689ms/step - loss: 36.1988 - mae: 4.6247 - mse: 36.1988 - val_loss: 4427.5015 - val_mae: 52.4644 - val_mse: 4427.5015\n",
            "Epoch 62/100\n",
            "26/26 [==============================] - 18s 691ms/step - loss: 45.2671 - mae: 5.2469 - mse: 45.2671 - val_loss: 4366.5396 - val_mae: 51.8697 - val_mse: 4366.5396\n",
            "Epoch 63/100\n",
            "26/26 [==============================] - 18s 698ms/step - loss: 43.3812 - mae: 5.1282 - mse: 43.3812 - val_loss: 4271.6016 - val_mae: 51.5013 - val_mse: 4271.6016\n",
            "Epoch 64/100\n",
            "26/26 [==============================] - 17s 667ms/step - loss: 48.2144 - mae: 5.4656 - mse: 48.2144 - val_loss: 4415.9526 - val_mae: 52.4847 - val_mse: 4415.9526\n",
            "Epoch 65/100\n",
            "26/26 [==============================] - 18s 679ms/step - loss: 49.3618 - mae: 5.5718 - mse: 49.3618 - val_loss: 4357.5869 - val_mae: 52.0497 - val_mse: 4357.5869\n",
            "Epoch 66/100\n",
            "26/26 [==============================] - 17s 676ms/step - loss: 45.1980 - mae: 5.3377 - mse: 45.1980 - val_loss: 4390.8193 - val_mae: 52.1944 - val_mse: 4390.8193\n",
            "Epoch 67/100\n",
            "26/26 [==============================] - 18s 683ms/step - loss: 43.1515 - mae: 5.1352 - mse: 43.1515 - val_loss: 4437.6279 - val_mae: 52.8541 - val_mse: 4437.6279\n",
            "Epoch 68/100\n",
            "26/26 [==============================] - 18s 676ms/step - loss: 36.7080 - mae: 4.6295 - mse: 36.7080 - val_loss: 4327.6860 - val_mae: 51.8562 - val_mse: 4327.6860\n",
            "Epoch 69/100\n",
            "26/26 [==============================] - 17s 674ms/step - loss: 31.6476 - mae: 4.3910 - mse: 31.6476 - val_loss: 4449.5322 - val_mae: 52.7279 - val_mse: 4449.5322\n",
            "Epoch 70/100\n",
            "26/26 [==============================] - 18s 683ms/step - loss: 37.5705 - mae: 4.8580 - mse: 37.5705 - val_loss: 4291.5898 - val_mae: 51.6204 - val_mse: 4291.5898\n",
            "Epoch 71/100\n",
            "26/26 [==============================] - 18s 677ms/step - loss: 30.4576 - mae: 4.3274 - mse: 30.4576 - val_loss: 4313.8770 - val_mae: 51.7734 - val_mse: 4313.8770\n",
            "Epoch 72/100\n",
            "26/26 [==============================] - 18s 688ms/step - loss: 28.1476 - mae: 4.1460 - mse: 28.1476 - val_loss: 4213.3730 - val_mae: 51.0847 - val_mse: 4213.3730\n",
            "Epoch 73/100\n",
            "26/26 [==============================] - 18s 692ms/step - loss: 24.3257 - mae: 3.8683 - mse: 24.3257 - val_loss: 4350.4873 - val_mae: 52.0942 - val_mse: 4350.4873\n",
            "Epoch 74/100\n",
            "26/26 [==============================] - 18s 694ms/step - loss: 20.3717 - mae: 3.5700 - mse: 20.3717 - val_loss: 4306.0005 - val_mae: 51.6581 - val_mse: 4306.0005\n",
            "Epoch 75/100\n",
            "26/26 [==============================] - 18s 686ms/step - loss: 19.6506 - mae: 3.3923 - mse: 19.6506 - val_loss: 4344.4023 - val_mae: 51.9788 - val_mse: 4344.4023\n",
            "Epoch 76/100\n",
            "26/26 [==============================] - 17s 672ms/step - loss: 20.2329 - mae: 3.5470 - mse: 20.2329 - val_loss: 4316.9941 - val_mae: 51.8815 - val_mse: 4316.9941\n",
            "Epoch 77/100\n",
            "26/26 [==============================] - 17s 672ms/step - loss: 21.9196 - mae: 3.6590 - mse: 21.9196 - val_loss: 4274.0718 - val_mae: 51.5584 - val_mse: 4274.0718\n",
            "Epoch 78/100\n",
            "26/26 [==============================] - 18s 685ms/step - loss: 22.0156 - mae: 3.7039 - mse: 22.0156 - val_loss: 4325.1484 - val_mae: 51.8465 - val_mse: 4325.1484\n",
            "Epoch 79/100\n",
            "26/26 [==============================] - 18s 692ms/step - loss: 28.9369 - mae: 4.2083 - mse: 28.9369 - val_loss: 4421.6362 - val_mae: 52.5141 - val_mse: 4421.6362\n",
            "Epoch 80/100\n",
            "26/26 [==============================] - 18s 677ms/step - loss: 22.7895 - mae: 3.7585 - mse: 22.7895 - val_loss: 4347.7241 - val_mae: 51.9407 - val_mse: 4347.7241\n",
            "Epoch 81/100\n",
            "26/26 [==============================] - 18s 678ms/step - loss: 31.2782 - mae: 4.3532 - mse: 31.2782 - val_loss: 4439.8604 - val_mae: 52.5459 - val_mse: 4439.8604\n",
            "Epoch 82/100\n",
            "26/26 [==============================] - 18s 679ms/step - loss: 29.0216 - mae: 4.1841 - mse: 29.0216 - val_loss: 3984.2915 - val_mae: 49.4946 - val_mse: 3984.2915\n",
            "Epoch 83/100\n",
            "26/26 [==============================] - 18s 707ms/step - loss: 35.5962 - mae: 4.6489 - mse: 35.5962 - val_loss: 4283.2886 - val_mae: 51.5453 - val_mse: 4283.2886\n",
            "Epoch 84/100\n",
            "26/26 [==============================] - 18s 697ms/step - loss: 27.0568 - mae: 4.0939 - mse: 27.0568 - val_loss: 4412.5991 - val_mae: 52.6642 - val_mse: 4412.5991\n",
            "Epoch 85/100\n",
            "26/26 [==============================] - 18s 698ms/step - loss: 28.5196 - mae: 4.1712 - mse: 28.5196 - val_loss: 4338.2969 - val_mae: 52.0333 - val_mse: 4338.2969\n",
            "Epoch 86/100\n",
            "26/26 [==============================] - 17s 674ms/step - loss: 25.3731 - mae: 3.8756 - mse: 25.3731 - val_loss: 4208.9775 - val_mae: 51.1304 - val_mse: 4208.9775\n",
            "Epoch 87/100\n",
            "26/26 [==============================] - 18s 701ms/step - loss: 29.1423 - mae: 4.2358 - mse: 29.1423 - val_loss: 3931.7600 - val_mae: 48.8425 - val_mse: 3931.7600\n",
            "Epoch 88/100\n",
            "26/26 [==============================] - 18s 697ms/step - loss: 31.4619 - mae: 4.4855 - mse: 31.4619 - val_loss: 4208.2051 - val_mae: 50.8364 - val_mse: 4208.2051\n",
            "Epoch 89/100\n",
            "26/26 [==============================] - 18s 682ms/step - loss: 32.2731 - mae: 4.4680 - mse: 32.2731 - val_loss: 4244.1089 - val_mae: 51.2869 - val_mse: 4244.1089\n",
            "Epoch 90/100\n",
            "26/26 [==============================] - 18s 679ms/step - loss: 25.3646 - mae: 3.8930 - mse: 25.3646 - val_loss: 4118.1021 - val_mae: 50.3416 - val_mse: 4118.1021\n",
            "Epoch 91/100\n",
            "26/26 [==============================] - 18s 686ms/step - loss: 18.6389 - mae: 3.3724 - mse: 18.6389 - val_loss: 4420.9961 - val_mae: 52.5169 - val_mse: 4420.9961\n",
            "Epoch 92/100\n",
            "26/26 [==============================] - 18s 698ms/step - loss: 24.1437 - mae: 3.8357 - mse: 24.1437 - val_loss: 4162.1826 - val_mae: 50.6926 - val_mse: 4162.1826\n",
            "Epoch 93/100\n",
            "26/26 [==============================] - 18s 693ms/step - loss: 28.5331 - mae: 4.2766 - mse: 28.5331 - val_loss: 4195.4634 - val_mae: 50.8564 - val_mse: 4195.4634\n",
            "Epoch 94/100\n",
            "26/26 [==============================] - 18s 698ms/step - loss: 28.1116 - mae: 4.0855 - mse: 28.1116 - val_loss: 4141.7100 - val_mae: 50.4935 - val_mse: 4141.7100\n",
            "Epoch 95/100\n",
            "26/26 [==============================] - 18s 687ms/step - loss: 27.3292 - mae: 4.0706 - mse: 27.3292 - val_loss: 4271.4321 - val_mae: 51.5230 - val_mse: 4271.4321\n",
            "Epoch 96/100\n",
            "26/26 [==============================] - 17s 672ms/step - loss: 22.3792 - mae: 3.6982 - mse: 22.3792 - val_loss: 4470.0635 - val_mae: 53.0413 - val_mse: 4470.0635\n",
            "Epoch 97/100\n",
            "26/26 [==============================] - 18s 689ms/step - loss: 32.8724 - mae: 4.5279 - mse: 32.8724 - val_loss: 4224.7852 - val_mae: 51.1256 - val_mse: 4224.7852\n",
            "Epoch 98/100\n",
            "26/26 [==============================] - 18s 685ms/step - loss: 32.4068 - mae: 4.5510 - mse: 32.4068 - val_loss: 4110.4673 - val_mae: 50.3338 - val_mse: 4110.4673\n",
            "Epoch 99/100\n",
            "26/26 [==============================] - 18s 697ms/step - loss: 27.4673 - mae: 4.0417 - mse: 27.4673 - val_loss: 4083.7056 - val_mae: 50.1588 - val_mse: 4083.7056\n",
            "Epoch 100/100\n",
            "26/26 [==============================] - 18s 693ms/step - loss: 25.0946 - mae: 3.9454 - mse: 25.0946 - val_loss: 4170.9219 - val_mae: 50.8746 - val_mse: 4170.9219\n"
          ]
        }
      ]
    },
    {
      "cell_type": "markdown",
      "source": [
        "Bi-directional GRU"
      ],
      "metadata": {
        "id": "8AVWuHEeDrUU"
      }
    },
    {
      "cell_type": "code",
      "source": [
        "i=Input(shape=(T,1))\n",
        "x=Bidirectional(GRU(200,return_sequences=True))(i)\n",
        "x=Bidirectional(GRU(200,return_sequences=True))(x)\n",
        "x=GlobalMaxPool1D()(x)\n",
        "x=Dense(100)(x)\n",
        "x=Dense(50)(x)\n",
        "x=Dense(1)(x)\n",
        "model_bi_gru=Model(i,x)\n",
        "model_bi_gru.summary()"
      ],
      "metadata": {
        "colab": {
          "base_uri": "https://localhost:8080/"
        },
        "id": "cUHtZz0A7t3k",
        "outputId": "f6353e60-1187-456d-adb2-420ee38afea0"
      },
      "execution_count": 24,
      "outputs": [
        {
          "output_type": "stream",
          "name": "stdout",
          "text": [
            "Model: \"model_3\"\n",
            "_________________________________________________________________\n",
            " Layer (type)                Output Shape              Param #   \n",
            "=================================================================\n",
            " input_4 (InputLayer)        [(None, 50, 1)]           0         \n",
            "                                                                 \n",
            " bidirectional_6 (Bidirectio  (None, 50, 400)          243600    \n",
            " nal)                                                            \n",
            "                                                                 \n",
            " bidirectional_7 (Bidirectio  (None, 50, 400)          722400    \n",
            " nal)                                                            \n",
            "                                                                 \n",
            " global_max_pooling1d_3 (Glo  (None, 400)              0         \n",
            " balMaxPooling1D)                                                \n",
            "                                                                 \n",
            " dense_9 (Dense)             (None, 100)               40100     \n",
            "                                                                 \n",
            " dense_10 (Dense)            (None, 50)                5050      \n",
            "                                                                 \n",
            " dense_11 (Dense)            (None, 1)                 51        \n",
            "                                                                 \n",
            "=================================================================\n",
            "Total params: 1,011,201\n",
            "Trainable params: 1,011,201\n",
            "Non-trainable params: 0\n",
            "_________________________________________________________________\n"
          ]
        }
      ]
    },
    {
      "cell_type": "code",
      "source": [
        "check_point_bi_gru=ModelCheckpoint('best_model.h5',monitor='val_loss',save_best_only=True)"
      ],
      "metadata": {
        "id": "31j89DK6DqGT"
      },
      "execution_count": 25,
      "outputs": []
    },
    {
      "cell_type": "code",
      "source": [
        "model_bi_gru.compile(loss='mse',\n",
        "              optimizer='adamax',\n",
        "              metrics=['mae','mse'])"
      ],
      "metadata": {
        "id": "e0_x1t5JDqJK"
      },
      "execution_count": 27,
      "outputs": []
    },
    {
      "cell_type": "code",
      "source": [
        "r=model_bi_gru.fit(\n",
        "    Xtrain,\n",
        "    Ytrain,\n",
        "    epochs=100,\n",
        "    validation_data=(Xtest,Ytest),\n",
        "    callbacks=[check_point_bi_gru]\n",
        ")"
      ],
      "metadata": {
        "colab": {
          "base_uri": "https://localhost:8080/"
        },
        "id": "fu63FFgDDqMS",
        "outputId": "7c58a278-2d36-4088-a113-0fa9620e010a"
      },
      "execution_count": 28,
      "outputs": [
        {
          "output_type": "stream",
          "name": "stdout",
          "text": [
            "Epoch 1/100\n",
            "26/26 [==============================] - 23s 619ms/step - loss: 544.9421 - mae: 17.6467 - mse: 544.9421 - val_loss: 2516.2122 - val_mae: 34.4412 - val_mse: 2516.2122\n",
            "Epoch 2/100\n",
            "26/26 [==============================] - 16s 605ms/step - loss: 539.7227 - mae: 17.5946 - mse: 539.7227 - val_loss: 2512.2285 - val_mae: 34.4580 - val_mse: 2512.2285\n",
            "Epoch 3/100\n",
            "26/26 [==============================] - 15s 564ms/step - loss: 541.5251 - mae: 17.5264 - mse: 541.5251 - val_loss: 2512.4436 - val_mae: 34.4925 - val_mse: 2512.4436\n",
            "Epoch 4/100\n",
            "26/26 [==============================] - 16s 638ms/step - loss: 537.6707 - mae: 17.5420 - mse: 537.6707 - val_loss: 2510.3694 - val_mae: 34.4192 - val_mse: 2510.3694\n",
            "Epoch 5/100\n",
            "26/26 [==============================] - 18s 688ms/step - loss: 535.2506 - mae: 17.5092 - mse: 535.2506 - val_loss: 2508.9807 - val_mae: 34.3485 - val_mse: 2508.9807\n",
            "Epoch 6/100\n",
            "26/26 [==============================] - 17s 638ms/step - loss: 534.5018 - mae: 17.5685 - mse: 534.5018 - val_loss: 2516.1990 - val_mae: 34.5965 - val_mse: 2516.1990\n",
            "Epoch 7/100\n",
            "26/26 [==============================] - 16s 628ms/step - loss: 531.5063 - mae: 17.4891 - mse: 531.5063 - val_loss: 2509.1470 - val_mae: 34.3857 - val_mse: 2509.1470\n",
            "Epoch 8/100\n",
            "26/26 [==============================] - 16s 601ms/step - loss: 528.2708 - mae: 17.3812 - mse: 528.2708 - val_loss: 2517.1658 - val_mae: 34.3730 - val_mse: 2517.1658\n",
            "Epoch 9/100\n",
            "26/26 [==============================] - 16s 615ms/step - loss: 529.9028 - mae: 17.4295 - mse: 529.9028 - val_loss: 2537.0073 - val_mae: 34.5102 - val_mse: 2537.0073\n",
            "Epoch 10/100\n",
            "26/26 [==============================] - 15s 590ms/step - loss: 524.1452 - mae: 17.3609 - mse: 524.1452 - val_loss: 2512.3816 - val_mae: 34.4626 - val_mse: 2512.3816\n",
            "Epoch 11/100\n",
            "26/26 [==============================] - 14s 560ms/step - loss: 517.4559 - mae: 17.2373 - mse: 517.4559 - val_loss: 2513.0198 - val_mae: 34.4089 - val_mse: 2513.0198\n",
            "Epoch 12/100\n",
            "26/26 [==============================] - 15s 571ms/step - loss: 513.2717 - mae: 17.1838 - mse: 513.2717 - val_loss: 2525.3503 - val_mae: 34.5971 - val_mse: 2525.3503\n",
            "Epoch 13/100\n",
            "26/26 [==============================] - 16s 606ms/step - loss: 508.9543 - mae: 17.1374 - mse: 508.9543 - val_loss: 2545.1335 - val_mae: 34.6220 - val_mse: 2545.1335\n",
            "Epoch 14/100\n",
            "26/26 [==============================] - 15s 588ms/step - loss: 508.0267 - mae: 17.2008 - mse: 508.0267 - val_loss: 2528.8486 - val_mae: 34.6273 - val_mse: 2528.8486\n",
            "Epoch 15/100\n",
            "26/26 [==============================] - 18s 687ms/step - loss: 495.8893 - mae: 16.8781 - mse: 495.8893 - val_loss: 2540.3970 - val_mae: 34.7467 - val_mse: 2540.3970\n",
            "Epoch 16/100\n",
            "26/26 [==============================] - 16s 624ms/step - loss: 490.6219 - mae: 16.8697 - mse: 490.6219 - val_loss: 2546.5569 - val_mae: 34.9766 - val_mse: 2546.5569\n",
            "Epoch 17/100\n",
            "26/26 [==============================] - 17s 641ms/step - loss: 488.9482 - mae: 16.9119 - mse: 488.9482 - val_loss: 2569.1384 - val_mae: 35.0485 - val_mse: 2569.1384\n",
            "Epoch 18/100\n",
            "26/26 [==============================] - 17s 672ms/step - loss: 471.4899 - mae: 16.4827 - mse: 471.4899 - val_loss: 2596.5112 - val_mae: 35.2826 - val_mse: 2596.5112\n",
            "Epoch 19/100\n",
            "26/26 [==============================] - 15s 566ms/step - loss: 462.0790 - mae: 16.2767 - mse: 462.0790 - val_loss: 2600.4988 - val_mae: 35.5415 - val_mse: 2600.4988\n",
            "Epoch 20/100\n",
            "26/26 [==============================] - 18s 682ms/step - loss: 457.1013 - mae: 16.3043 - mse: 457.1013 - val_loss: 2594.2542 - val_mae: 35.4619 - val_mse: 2594.2542\n",
            "Epoch 21/100\n",
            "26/26 [==============================] - 20s 777ms/step - loss: 447.2596 - mae: 16.0939 - mse: 447.2596 - val_loss: 2631.3286 - val_mae: 35.9611 - val_mse: 2631.3286\n",
            "Epoch 22/100\n",
            "26/26 [==============================] - 14s 557ms/step - loss: 441.8045 - mae: 15.8193 - mse: 441.8045 - val_loss: 2640.1650 - val_mae: 35.9972 - val_mse: 2640.1650\n",
            "Epoch 23/100\n",
            "26/26 [==============================] - 14s 555ms/step - loss: 420.2659 - mae: 15.5738 - mse: 420.2659 - val_loss: 2707.4153 - val_mae: 36.5718 - val_mse: 2707.4153\n",
            "Epoch 24/100\n",
            "26/26 [==============================] - 14s 554ms/step - loss: 406.0103 - mae: 15.1447 - mse: 406.0103 - val_loss: 2692.2251 - val_mae: 36.6944 - val_mse: 2692.2251\n",
            "Epoch 25/100\n",
            "26/26 [==============================] - 16s 604ms/step - loss: 393.1023 - mae: 15.0931 - mse: 393.1023 - val_loss: 2741.4255 - val_mae: 37.0618 - val_mse: 2741.4255\n",
            "Epoch 26/100\n",
            "26/26 [==============================] - 17s 664ms/step - loss: 383.6811 - mae: 14.7806 - mse: 383.6811 - val_loss: 2770.7334 - val_mae: 37.5230 - val_mse: 2770.7334\n",
            "Epoch 27/100\n",
            "26/26 [==============================] - 17s 653ms/step - loss: 363.6170 - mae: 14.4608 - mse: 363.6170 - val_loss: 2821.4250 - val_mae: 38.1140 - val_mse: 2821.4250\n",
            "Epoch 28/100\n",
            "26/26 [==============================] - 18s 697ms/step - loss: 357.7867 - mae: 14.3635 - mse: 357.7867 - val_loss: 2866.3616 - val_mae: 38.5699 - val_mse: 2866.3616\n",
            "Epoch 29/100\n",
            "26/26 [==============================] - 19s 721ms/step - loss: 336.8172 - mae: 13.9719 - mse: 336.8172 - val_loss: 2980.5762 - val_mae: 39.5805 - val_mse: 2980.5762\n",
            "Epoch 30/100\n",
            "26/26 [==============================] - 17s 646ms/step - loss: 317.9668 - mae: 13.5030 - mse: 317.9668 - val_loss: 2911.7351 - val_mae: 38.8879 - val_mse: 2911.7351\n",
            "Epoch 31/100\n",
            "26/26 [==============================] - 17s 670ms/step - loss: 300.4880 - mae: 13.2432 - mse: 300.4880 - val_loss: 3100.6482 - val_mae: 40.9340 - val_mse: 3100.6482\n",
            "Epoch 32/100\n",
            "26/26 [==============================] - 17s 658ms/step - loss: 293.9576 - mae: 13.1421 - mse: 293.9576 - val_loss: 3110.4521 - val_mae: 41.0069 - val_mse: 3110.4521\n",
            "Epoch 33/100\n",
            "26/26 [==============================] - 17s 662ms/step - loss: 299.0255 - mae: 13.3572 - mse: 299.0255 - val_loss: 3132.6340 - val_mae: 41.1954 - val_mse: 3132.6340\n",
            "Epoch 34/100\n",
            "26/26 [==============================] - 15s 595ms/step - loss: 307.6192 - mae: 13.5502 - mse: 307.6192 - val_loss: 3111.9910 - val_mae: 40.9128 - val_mse: 3111.9910\n",
            "Epoch 35/100\n",
            "26/26 [==============================] - 15s 569ms/step - loss: 254.6329 - mae: 12.1267 - mse: 254.6329 - val_loss: 3140.0840 - val_mae: 41.1679 - val_mse: 3140.0840\n",
            "Epoch 36/100\n",
            "26/26 [==============================] - 15s 563ms/step - loss: 245.7893 - mae: 12.0055 - mse: 245.7893 - val_loss: 3139.0894 - val_mae: 41.1802 - val_mse: 3139.0894\n",
            "Epoch 37/100\n",
            "26/26 [==============================] - 15s 566ms/step - loss: 230.8538 - mae: 11.6441 - mse: 230.8538 - val_loss: 3188.8420 - val_mae: 41.6476 - val_mse: 3188.8420\n",
            "Epoch 38/100\n",
            "26/26 [==============================] - 15s 567ms/step - loss: 263.1755 - mae: 12.4790 - mse: 263.1755 - val_loss: 3332.2068 - val_mae: 42.7928 - val_mse: 3332.2068\n",
            "Epoch 39/100\n",
            "26/26 [==============================] - 15s 563ms/step - loss: 244.2771 - mae: 12.0681 - mse: 244.2771 - val_loss: 3229.4058 - val_mae: 42.1264 - val_mse: 3229.4058\n",
            "Epoch 40/100\n",
            "26/26 [==============================] - 15s 562ms/step - loss: 210.0618 - mae: 11.2245 - mse: 210.0618 - val_loss: 3363.5259 - val_mae: 43.0496 - val_mse: 3363.5259\n",
            "Epoch 41/100\n",
            "26/26 [==============================] - 15s 597ms/step - loss: 181.7639 - mae: 10.3767 - mse: 181.7639 - val_loss: 3474.6978 - val_mae: 44.0569 - val_mse: 3474.6978\n",
            "Epoch 42/100\n",
            "26/26 [==============================] - 15s 566ms/step - loss: 184.7376 - mae: 10.6646 - mse: 184.7376 - val_loss: 3467.5344 - val_mae: 43.7989 - val_mse: 3467.5344\n",
            "Epoch 43/100\n",
            "26/26 [==============================] - 15s 563ms/step - loss: 159.5593 - mae: 9.7995 - mse: 159.5593 - val_loss: 3532.2048 - val_mae: 44.4309 - val_mse: 3532.2048\n",
            "Epoch 44/100\n",
            "26/26 [==============================] - 14s 559ms/step - loss: 162.9895 - mae: 9.9641 - mse: 162.9895 - val_loss: 3559.3181 - val_mae: 44.5651 - val_mse: 3559.3181\n",
            "Epoch 45/100\n",
            "26/26 [==============================] - 14s 557ms/step - loss: 166.8235 - mae: 9.9735 - mse: 166.8235 - val_loss: 3534.2612 - val_mae: 44.3035 - val_mse: 3534.2612\n",
            "Epoch 46/100\n",
            "26/26 [==============================] - 14s 552ms/step - loss: 167.3137 - mae: 10.2071 - mse: 167.3137 - val_loss: 3567.5371 - val_mae: 44.9487 - val_mse: 3567.5371\n",
            "Epoch 47/100\n",
            "26/26 [==============================] - 14s 551ms/step - loss: 147.8983 - mae: 9.5777 - mse: 147.8983 - val_loss: 3591.7659 - val_mae: 44.6528 - val_mse: 3591.7659\n",
            "Epoch 48/100\n",
            "26/26 [==============================] - 14s 548ms/step - loss: 128.3491 - mae: 8.8423 - mse: 128.3491 - val_loss: 3721.6675 - val_mae: 45.9056 - val_mse: 3721.6675\n",
            "Epoch 49/100\n",
            "26/26 [==============================] - 14s 548ms/step - loss: 126.7134 - mae: 8.9487 - mse: 126.7134 - val_loss: 3596.8149 - val_mae: 44.8846 - val_mse: 3596.8149\n",
            "Epoch 50/100\n",
            "26/26 [==============================] - 14s 552ms/step - loss: 110.5909 - mae: 8.2678 - mse: 110.5909 - val_loss: 3724.6560 - val_mae: 45.8528 - val_mse: 3724.6560\n",
            "Epoch 51/100\n",
            "26/26 [==============================] - 14s 557ms/step - loss: 111.1824 - mae: 8.2485 - mse: 111.1824 - val_loss: 3865.4504 - val_mae: 46.5377 - val_mse: 3865.4504\n",
            "Epoch 52/100\n",
            "26/26 [==============================] - 14s 556ms/step - loss: 136.7591 - mae: 9.1325 - mse: 136.7591 - val_loss: 3865.8862 - val_mae: 47.3476 - val_mse: 3865.8862\n",
            "Epoch 53/100\n",
            "26/26 [==============================] - 14s 554ms/step - loss: 113.9766 - mae: 8.3367 - mse: 113.9766 - val_loss: 3740.1770 - val_mae: 45.9582 - val_mse: 3740.1770\n",
            "Epoch 54/100\n",
            "26/26 [==============================] - 14s 554ms/step - loss: 99.1948 - mae: 7.8026 - mse: 99.1948 - val_loss: 3709.5276 - val_mae: 45.5304 - val_mse: 3709.5276\n",
            "Epoch 55/100\n",
            "26/26 [==============================] - 14s 553ms/step - loss: 108.9455 - mae: 8.2365 - mse: 108.9455 - val_loss: 3799.8140 - val_mae: 46.1790 - val_mse: 3799.8140\n",
            "Epoch 56/100\n",
            "26/26 [==============================] - 14s 555ms/step - loss: 138.7205 - mae: 9.4591 - mse: 138.7205 - val_loss: 3676.0959 - val_mae: 45.6161 - val_mse: 3676.0959\n",
            "Epoch 57/100\n",
            "26/26 [==============================] - 14s 557ms/step - loss: 89.6149 - mae: 7.3498 - mse: 89.6149 - val_loss: 3698.5771 - val_mae: 45.6278 - val_mse: 3698.5771\n",
            "Epoch 58/100\n",
            "26/26 [==============================] - 14s 554ms/step - loss: 71.0944 - mae: 6.7021 - mse: 71.0944 - val_loss: 3809.3242 - val_mae: 46.4063 - val_mse: 3809.3242\n",
            "Epoch 59/100\n",
            "26/26 [==============================] - 14s 555ms/step - loss: 65.0434 - mae: 6.3303 - mse: 65.0434 - val_loss: 3821.7183 - val_mae: 46.4952 - val_mse: 3821.7183\n",
            "Epoch 60/100\n",
            "26/26 [==============================] - 14s 552ms/step - loss: 71.8835 - mae: 6.7231 - mse: 71.8835 - val_loss: 3949.2246 - val_mae: 47.4630 - val_mse: 3949.2246\n",
            "Epoch 61/100\n",
            "26/26 [==============================] - 14s 551ms/step - loss: 56.8270 - mae: 5.8658 - mse: 56.8270 - val_loss: 3882.2720 - val_mae: 47.0459 - val_mse: 3882.2720\n",
            "Epoch 62/100\n",
            "26/26 [==============================] - 14s 554ms/step - loss: 49.9675 - mae: 5.4853 - mse: 49.9675 - val_loss: 3908.0964 - val_mae: 47.1658 - val_mse: 3908.0964\n",
            "Epoch 63/100\n",
            "26/26 [==============================] - 14s 553ms/step - loss: 54.3974 - mae: 5.7720 - mse: 54.3974 - val_loss: 3906.0906 - val_mae: 47.3285 - val_mse: 3906.0906\n",
            "Epoch 64/100\n",
            "26/26 [==============================] - 14s 555ms/step - loss: 57.2941 - mae: 6.0497 - mse: 57.2941 - val_loss: 3960.2554 - val_mae: 47.4386 - val_mse: 3960.2554\n",
            "Epoch 65/100\n",
            "26/26 [==============================] - 14s 555ms/step - loss: 48.4560 - mae: 5.4609 - mse: 48.4560 - val_loss: 3979.8062 - val_mae: 47.8227 - val_mse: 3979.8062\n",
            "Epoch 66/100\n",
            "26/26 [==============================] - 14s 551ms/step - loss: 41.7551 - mae: 5.0454 - mse: 41.7551 - val_loss: 4052.8757 - val_mae: 48.1895 - val_mse: 4052.8757\n",
            "Epoch 67/100\n",
            "26/26 [==============================] - 14s 549ms/step - loss: 38.9578 - mae: 4.9352 - mse: 38.9578 - val_loss: 4037.4214 - val_mae: 48.0737 - val_mse: 4037.4214\n",
            "Epoch 68/100\n",
            "26/26 [==============================] - 14s 553ms/step - loss: 47.7343 - mae: 5.4780 - mse: 47.7343 - val_loss: 4084.1169 - val_mae: 48.4713 - val_mse: 4084.1169\n",
            "Epoch 69/100\n",
            "26/26 [==============================] - 14s 551ms/step - loss: 42.5032 - mae: 5.1303 - mse: 42.5032 - val_loss: 4026.9297 - val_mae: 48.0230 - val_mse: 4026.9297\n",
            "Epoch 70/100\n",
            "26/26 [==============================] - 14s 555ms/step - loss: 41.0061 - mae: 5.1087 - mse: 41.0061 - val_loss: 4136.2363 - val_mae: 48.6769 - val_mse: 4136.2363\n",
            "Epoch 71/100\n",
            "26/26 [==============================] - 14s 556ms/step - loss: 45.9047 - mae: 5.3855 - mse: 45.9047 - val_loss: 3988.0884 - val_mae: 47.7352 - val_mse: 3988.0884\n",
            "Epoch 72/100\n",
            "26/26 [==============================] - 14s 552ms/step - loss: 34.8603 - mae: 4.6732 - mse: 34.8603 - val_loss: 4185.4868 - val_mae: 49.0748 - val_mse: 4185.4868\n",
            "Epoch 73/100\n",
            "26/26 [==============================] - 14s 555ms/step - loss: 36.6690 - mae: 4.7302 - mse: 36.6690 - val_loss: 4003.4778 - val_mae: 47.7846 - val_mse: 4003.4778\n",
            "Epoch 74/100\n",
            "26/26 [==============================] - 14s 553ms/step - loss: 31.1815 - mae: 4.4166 - mse: 31.1815 - val_loss: 4110.7031 - val_mae: 48.6987 - val_mse: 4110.7031\n",
            "Epoch 75/100\n",
            "26/26 [==============================] - 15s 564ms/step - loss: 39.8886 - mae: 5.0789 - mse: 39.8886 - val_loss: 3987.0356 - val_mae: 47.8249 - val_mse: 3987.0356\n",
            "Epoch 76/100\n",
            "26/26 [==============================] - 14s 560ms/step - loss: 26.3479 - mae: 3.9662 - mse: 26.3479 - val_loss: 4005.3113 - val_mae: 47.8609 - val_mse: 4005.3113\n",
            "Epoch 77/100\n",
            "26/26 [==============================] - 15s 567ms/step - loss: 26.9177 - mae: 4.0666 - mse: 26.9177 - val_loss: 4064.3484 - val_mae: 48.1004 - val_mse: 4064.3484\n",
            "Epoch 78/100\n",
            "26/26 [==============================] - 14s 558ms/step - loss: 29.1163 - mae: 4.3726 - mse: 29.1163 - val_loss: 4075.7507 - val_mae: 48.2787 - val_mse: 4075.7507\n",
            "Epoch 79/100\n",
            "26/26 [==============================] - 15s 571ms/step - loss: 30.6196 - mae: 4.3968 - mse: 30.6196 - val_loss: 4068.4373 - val_mae: 48.2985 - val_mse: 4068.4373\n",
            "Epoch 80/100\n",
            "26/26 [==============================] - 14s 560ms/step - loss: 22.7681 - mae: 3.7666 - mse: 22.7681 - val_loss: 4121.8057 - val_mae: 48.5220 - val_mse: 4121.8057\n",
            "Epoch 81/100\n",
            "26/26 [==============================] - 14s 559ms/step - loss: 19.5763 - mae: 3.5082 - mse: 19.5763 - val_loss: 4018.8665 - val_mae: 47.8272 - val_mse: 4018.8665\n",
            "Epoch 82/100\n",
            "26/26 [==============================] - 14s 557ms/step - loss: 22.4882 - mae: 3.7509 - mse: 22.4882 - val_loss: 4095.8538 - val_mae: 48.4280 - val_mse: 4095.8538\n",
            "Epoch 83/100\n",
            "26/26 [==============================] - 14s 559ms/step - loss: 25.6010 - mae: 4.0356 - mse: 25.6010 - val_loss: 4015.8625 - val_mae: 47.8945 - val_mse: 4015.8625\n",
            "Epoch 84/100\n",
            "26/26 [==============================] - 14s 558ms/step - loss: 21.3297 - mae: 3.7292 - mse: 21.3297 - val_loss: 4124.8516 - val_mae: 48.7627 - val_mse: 4124.8516\n",
            "Epoch 85/100\n",
            "26/26 [==============================] - 15s 581ms/step - loss: 29.8161 - mae: 4.3941 - mse: 29.8161 - val_loss: 4117.4951 - val_mae: 48.8130 - val_mse: 4117.4951\n",
            "Epoch 86/100\n",
            "26/26 [==============================] - 15s 577ms/step - loss: 35.6133 - mae: 4.7840 - mse: 35.6133 - val_loss: 4009.8369 - val_mae: 48.0009 - val_mse: 4009.8369\n",
            "Epoch 87/100\n",
            "26/26 [==============================] - 15s 577ms/step - loss: 31.0909 - mae: 4.4226 - mse: 31.0909 - val_loss: 4020.7612 - val_mae: 47.8165 - val_mse: 4020.7612\n",
            "Epoch 88/100\n",
            "26/26 [==============================] - 15s 580ms/step - loss: 29.7147 - mae: 4.3503 - mse: 29.7147 - val_loss: 4031.3042 - val_mae: 47.7328 - val_mse: 4031.3042\n",
            "Epoch 89/100\n",
            "26/26 [==============================] - 15s 575ms/step - loss: 22.3221 - mae: 3.7618 - mse: 22.3221 - val_loss: 3908.7642 - val_mae: 47.0891 - val_mse: 3908.7642\n",
            "Epoch 90/100\n",
            "26/26 [==============================] - 15s 583ms/step - loss: 19.9417 - mae: 3.5402 - mse: 19.9417 - val_loss: 3973.8181 - val_mae: 47.2774 - val_mse: 3973.8181\n",
            "Epoch 91/100\n",
            "26/26 [==============================] - 15s 579ms/step - loss: 32.7439 - mae: 4.5645 - mse: 32.7439 - val_loss: 4065.2510 - val_mae: 48.2152 - val_mse: 4065.2510\n",
            "Epoch 92/100\n",
            "26/26 [==============================] - 15s 582ms/step - loss: 35.9666 - mae: 4.7037 - mse: 35.9666 - val_loss: 4100.4253 - val_mae: 48.4580 - val_mse: 4100.4253\n",
            "Epoch 93/100\n",
            "26/26 [==============================] - 15s 583ms/step - loss: 28.1581 - mae: 4.1461 - mse: 28.1581 - val_loss: 3864.4214 - val_mae: 46.7967 - val_mse: 3864.4214\n",
            "Epoch 94/100\n",
            "26/26 [==============================] - 15s 578ms/step - loss: 26.6209 - mae: 4.1527 - mse: 26.6209 - val_loss: 3926.7649 - val_mae: 47.2558 - val_mse: 3926.7649\n",
            "Epoch 95/100\n",
            "26/26 [==============================] - 15s 568ms/step - loss: 19.7967 - mae: 3.5333 - mse: 19.7967 - val_loss: 3953.6978 - val_mae: 47.6692 - val_mse: 3953.6978\n",
            "Epoch 96/100\n",
            "26/26 [==============================] - 15s 562ms/step - loss: 13.3378 - mae: 2.9219 - mse: 13.3378 - val_loss: 4024.1418 - val_mae: 47.9181 - val_mse: 4024.1418\n",
            "Epoch 97/100\n",
            "26/26 [==============================] - 15s 565ms/step - loss: 10.8429 - mae: 2.5894 - mse: 10.8429 - val_loss: 3990.9363 - val_mae: 47.7769 - val_mse: 3990.9363\n",
            "Epoch 98/100\n",
            "26/26 [==============================] - 15s 568ms/step - loss: 11.2562 - mae: 2.6526 - mse: 11.2562 - val_loss: 3964.2236 - val_mae: 47.4129 - val_mse: 3964.2236\n",
            "Epoch 99/100\n",
            "26/26 [==============================] - 15s 571ms/step - loss: 14.2854 - mae: 3.0152 - mse: 14.2854 - val_loss: 4017.0391 - val_mae: 47.9170 - val_mse: 4017.0391\n",
            "Epoch 100/100\n",
            "26/26 [==============================] - 15s 583ms/step - loss: 16.4143 - mae: 3.2607 - mse: 16.4143 - val_loss: 3923.3149 - val_mae: 47.0985 - val_mse: 3923.3149\n"
          ]
        }
      ]
    },
    {
      "cell_type": "markdown",
      "source": [
        "Predictions"
      ],
      "metadata": {
        "id": "uo4koH4XEkiv"
      }
    },
    {
      "cell_type": "code",
      "source": [
        "train_idx[:T+1]=False"
      ],
      "metadata": {
        "id": "-vEh0mmyDqPC"
      },
      "execution_count": 30,
      "outputs": []
    },
    {
      "cell_type": "code",
      "source": [
        "Ptrain_bi_lstm=model_bi_lstm.predict(Xtrain).flatten()\n",
        "Ptest_bi_lstm=model_bi_lstm.predict(Xtest).flatten()"
      ],
      "metadata": {
        "id": "OftAJjIQDqR5"
      },
      "execution_count": 31,
      "outputs": []
    },
    {
      "cell_type": "code",
      "source": [
        "Ptrain_bi_gru=model_bi_gru.predict(Xtrain).flatten()\n",
        "Ptest_bi_gru=model_bi_gru.predict(Xtest).flatten()"
      ],
      "metadata": {
        "id": "LPvgcdw4DqU9"
      },
      "execution_count": 32,
      "outputs": []
    },
    {
      "cell_type": "code",
      "source": [
        "df.loc[train_idx,'Diff Bi-LSTM train prediction']=Ptrain_bi_lstm\n",
        "df.loc[test_idx,'Diff bi-LSTM test prediction']=Ptest_bi_lstm"
      ],
      "metadata": {
        "id": "D1MjWqICDqX4"
      },
      "execution_count": 33,
      "outputs": []
    },
    {
      "cell_type": "code",
      "source": [
        "df.loc[train_idx,'Diff Bi-GRU train prediction']=Ptrain_bi_gru\n",
        "df.loc[test_idx,'Diff BiGRU test prediction']=Ptest_bi_gru"
      ],
      "metadata": {
        "id": "JGyHZQpeDqbP"
      },
      "execution_count": 34,
      "outputs": []
    },
    {
      "cell_type": "code",
      "source": [
        "df['Shift Prev Close']=df['Prev Close'].shift(1)\n",
        "prev=df['Shift Prev Close']"
      ],
      "metadata": {
        "id": "o41wY4YSDqdr"
      },
      "execution_count": 29,
      "outputs": []
    },
    {
      "cell_type": "code",
      "source": [
        "last_train=train.iloc[-1]['Prev Close']"
      ],
      "metadata": {
        "id": "ieSjZEI4Dqgo"
      },
      "execution_count": 35,
      "outputs": []
    },
    {
      "cell_type": "code",
      "source": [
        "df.loc[train_idx,'train_Bi_LSTM']=prev[train_idx]+Ptrain_bi_lstm\n",
        "df.loc[test_idx,'Prediction_Bi_LSTM']=prev[test_idx]+Ptest_bi_lstm"
      ],
      "metadata": {
        "id": "iXAmOWl-Dqjf"
      },
      "execution_count": 36,
      "outputs": []
    },
    {
      "cell_type": "code",
      "source": [
        "df.loc[train_idx,'train_Bi_GRU']=prev[train_idx]+Ptrain_bi_gru\n",
        "df.loc[test_idx,'Prediction_Bi_GRU']=prev[test_idx]+Ptest_bi_gru"
      ],
      "metadata": {
        "id": "zPuzleJlDqma"
      },
      "execution_count": 37,
      "outputs": []
    },
    {
      "cell_type": "code",
      "source": [
        "df[[ 'Prev Close','Prediction_Bi_LSTM','Prediction_Bi_GRU']].plot(figsize=(15,10));"
      ],
      "metadata": {
        "colab": {
          "base_uri": "https://localhost:8080/",
          "height": 416
        },
        "id": "lnfbHo3KDqpO",
        "outputId": "be5a16d6-88c4-463d-8af8-257918bb0066"
      },
      "execution_count": 38,
      "outputs": [
        {
          "output_type": "display_data",
          "data": {
            "text/plain": [
              "<Figure size 1080x720 with 1 Axes>"
            ],
            "image/png": "[encoded data removed]"
          },
          "metadata": {
            "needs_background": "light"
          }
        }
      ]
    },
    {
      "cell_type": "code",
      "source": [
        "df[[ 'Prediction_Bi_LSTM','Prediction_Bi_GRU']].plot(figsize=(15,10));"
      ],
      "metadata": {
        "colab": {
          "base_uri": "https://localhost:8080/",
          "height": 422
        },
        "id": "riQ3YykBDqsG",
        "outputId": "dda61e49-cfec-4d7f-9946-cdec09672ebc"
      },
      "execution_count": 39,
      "outputs": [
        {
          "output_type": "display_data",
          "data": {
            "text/plain": [
              "<Figure size 1080x720 with 1 Axes>"
            ],
            "image/png": "[encoded data removed]"
          },
          "metadata": {
            "needs_background": "light"
          }
        }
      ]
    },
    {
      "cell_type": "markdown",
      "source": [
        "Evaluation"
      ],
      "metadata": {
        "id": "0o_3yUJvF-FW"
      }
    },
    {
      "cell_type": "code",
      "source": [
        "pred_bi_lstm=df['Prediction_Bi_LSTM']\n",
        "pred_bi_lstm.dropna(inplace=True)"
      ],
      "metadata": {
        "id": "vonBmF2b7t6q"
      },
      "execution_count": 40,
      "outputs": []
    },
    {
      "cell_type": "code",
      "source": [
        "rmse=math.sqrt(mean_squared_error(test['Prev Close'],pred_bi_lstm))\n",
        "print(rmse)"
      ],
      "metadata": {
        "colab": {
          "base_uri": "https://localhost:8080/"
        },
        "id": "sPUaq6UiGCRI",
        "outputId": "3146454e-ee8e-48a4-998a-1dfd9481983a"
      },
      "execution_count": 41,
      "outputs": [
        {
          "output_type": "stream",
          "name": "stdout",
          "text": [
            "64.58267605146457\n"
          ]
        }
      ]
    },
    {
      "cell_type": "code",
      "source": [
        "error=mean_absolute_error(test['Prev Close'],pred_bi_lstm)\n",
        "print(error)"
      ],
      "metadata": {
        "colab": {
          "base_uri": "https://localhost:8080/"
        },
        "id": "kQMcHGVCGCUL",
        "outputId": "d3ac030c-55d6-461b-92fc-13e9cabac370"
      },
      "execution_count": 42,
      "outputs": [
        {
          "output_type": "stream",
          "name": "stdout",
          "text": [
            "50.8746349019252\n"
          ]
        }
      ]
    },
    {
      "cell_type": "code",
      "source": [
        "r2_score(test['Prev Close'],pred_bi_lstm)"
      ],
      "metadata": {
        "colab": {
          "base_uri": "https://localhost:8080/"
        },
        "id": "lyLslWMAGCXT",
        "outputId": "45e371e9-dbe9-4854-8ba2-0931c0d863b0"
      },
      "execution_count": 43,
      "outputs": [
        {
          "output_type": "execute_result",
          "data": {
            "text/plain": [
              "0.9428842936964358"
            ]
          },
          "metadata": {},
          "execution_count": 43
        }
      ]
    },
    {
      "cell_type": "code",
      "source": [
        "pred_bi_gru=df['Prediction_Bi_GRU']\n",
        "pred_bi_gru.dropna(inplace=True)"
      ],
      "metadata": {
        "id": "wa7wnr9TGC2J"
      },
      "execution_count": 44,
      "outputs": []
    },
    {
      "cell_type": "code",
      "source": [
        "rmse=math.sqrt(mean_squared_error(test['Prev Close'],pred_bi_gru))\n",
        "print(rmse)"
      ],
      "metadata": {
        "colab": {
          "base_uri": "https://localhost:8080/"
        },
        "id": "EkKg0wGaGC-e",
        "outputId": "9ab709a0-2d58-45e2-89a0-2723dc154b6d"
      },
      "execution_count": 45,
      "outputs": [
        {
          "output_type": "stream",
          "name": "stdout",
          "text": [
            "62.63636939671357\n"
          ]
        }
      ]
    },
    {
      "cell_type": "code",
      "source": [
        "error=mean_absolute_error(test['Prev Close'],pred_bi_gru)\n",
        "print(error)"
      ],
      "metadata": {
        "colab": {
          "base_uri": "https://localhost:8080/"
        },
        "id": "BQL76rMvGDGT",
        "outputId": "db9a574f-0438-4749-8925-ecd2fe18b1cc"
      },
      "execution_count": 46,
      "outputs": [
        {
          "output_type": "stream",
          "name": "stdout",
          "text": [
            "47.09846689530781\n"
          ]
        }
      ]
    },
    {
      "cell_type": "code",
      "source": [
        "r2_score(test['Prev Close'],pred_bi_gru)"
      ],
      "metadata": {
        "colab": {
          "base_uri": "https://localhost:8080/"
        },
        "id": "GMZqO2_yGDO_",
        "outputId": "3b8ec3b5-6457-4d63-f871-7a632b37711f"
      },
      "execution_count": 47,
      "outputs": [
        {
          "output_type": "execute_result",
          "data": {
            "text/plain": [
              "0.9462749742769755"
            ]
          },
          "metadata": {},
          "execution_count": 47
        }
      ]
    },
    {
      "cell_type": "code",
      "source": [],
      "metadata": {
        "id": "PIN91mEuGizf"
      },
      "execution_count": 47,
      "outputs": []
    }
  ]
}