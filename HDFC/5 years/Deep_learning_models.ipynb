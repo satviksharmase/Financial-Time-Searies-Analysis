{
  "nbformat": 4,
  "nbformat_minor": 0,
  "metadata": {
    "colab": {
      "provenance": []
    },
    "kernelspec": {
      "name": "python3",
      "display_name": "Python 3"
    },
    "language_info": {
      "name": "python"
    }
  },
  "cells": [
    {
      "cell_type": "code",
      "execution_count": 361,
      "metadata": {
        "id": "rRzK__2FbGio"
      },
      "outputs": [],
      "source": [
        "import numpy as np\n",
        "import matplotlib.pyplot as plt\n",
        "import pandas as pd\n",
        "\n",
        "import tensorflow as tf\n",
        "from tensorflow.keras.layers import Dense, Input\n",
        "from tensorflow.keras.models import Model\n",
        "from tensorflow.keras.layers import LSTM\n",
        "from tensorflow.keras.layers import GRU\n",
        "from tensorflow.keras.layers import GlobalMaxPooling1D\n",
        "from tensorflow.keras.layers import Conv1D, MaxPooling1D\n",
        "from tensorflow.keras.callbacks import ModelCheckpoint\n",
        "\n",
        "import math\n",
        "\n",
        "from sklearn.metrics import r2_score\n",
        "from sklearn.metrics import mean_absolute_error\n",
        "from sklearn.metrics import mean_squared_error\n",
        "\n",
        "np.random.seed(123)\n",
        "tf.random.set_seed(123)"
      ]
    },
    {
      "cell_type": "code",
      "source": [
        "df=pd.read_csv('./HDFC.csv',index_col='Date',parse_dates=True)"
      ],
      "metadata": {
        "id": "AE6wbl9LcLFx"
      },
      "execution_count": 362,
      "outputs": []
    },
    {
      "cell_type": "markdown",
      "source": [
        "Data Pre processing\n"
      ],
      "metadata": {
        "id": "L8XudG86eRhq"
      }
    },
    {
      "cell_type": "code",
      "source": [
        "df"
      ],
      "metadata": {
        "colab": {
          "base_uri": "https://localhost:8080/",
          "height": 710
        },
        "id": "FUFxX_tUcmfi",
        "outputId": "cdd75def-4571-4264-9af6-f01b5e2bbba2"
      },
      "execution_count": 363,
      "outputs": [
        {
          "output_type": "execute_result",
          "data": {
            "text/plain": [
              "           Symbol Series  Prev Close     Open     High      Low     Last  \\\n",
              "Date                                                                       \n",
              "2000-01-03   HDFC     EQ      271.75   293.50   293.50   293.50   293.50   \n",
              "2000-01-04   HDFC     EQ      293.50   317.00   317.00   297.00   304.00   \n",
              "2000-01-05   HDFC     EQ      304.05   290.00   303.90   285.00   295.00   \n",
              "2000-01-06   HDFC     EQ      292.80   301.00   314.00   295.00   296.00   \n",
              "2000-01-07   HDFC     EQ      296.45   290.00   296.35   281.00   287.10   \n",
              "...           ...    ...         ...      ...      ...      ...      ...   \n",
              "2021-04-26   HDFC     EQ     2497.35  2500.00  2534.10  2483.20  2502.00   \n",
              "2021-04-27   HDFC     EQ     2509.80  2494.15  2526.80  2486.25  2514.00   \n",
              "2021-04-28   HDFC     EQ     2518.40  2516.10  2609.00  2508.30  2575.00   \n",
              "2021-04-29   HDFC     EQ     2577.00  2590.90  2628.00  2533.00  2539.70   \n",
              "2021-04-30   HDFC     EQ     2538.85  2503.10  2525.00  2411.10  2433.25   \n",
              "\n",
              "              Close     VWAP   Volume      Turnover    Trades  \\\n",
              "Date                                                            \n",
              "2000-01-03   293.50   293.50    22744  6.675364e+11       NaN   \n",
              "2000-01-04   304.05   303.62   255251  7.749972e+12       NaN   \n",
              "2000-01-05   292.80   294.53   269087  7.925368e+12       NaN   \n",
              "2000-01-06   296.45   300.14   305916  9.181669e+12       NaN   \n",
              "2000-01-07   286.55   288.80   197039  5.690480e+12       NaN   \n",
              "...             ...      ...      ...           ...       ...   \n",
              "2021-04-26  2509.80  2508.07  3916088  9.821805e+14  121028.0   \n",
              "2021-04-27  2518.40  2509.18  2040799  5.120730e+14  102250.0   \n",
              "2021-04-28  2577.00  2574.21  3407461  8.771527e+14  117425.0   \n",
              "2021-04-29  2538.85  2569.65  3005468  7.722995e+14  132826.0   \n",
              "2021-04-30  2420.10  2445.94  6024595  1.473581e+15  224454.0   \n",
              "\n",
              "            Deliverable Volume  %Deliverble  \n",
              "Date                                         \n",
              "2000-01-03                 NaN          NaN  \n",
              "2000-01-04                 NaN          NaN  \n",
              "2000-01-05                 NaN          NaN  \n",
              "2000-01-06                 NaN          NaN  \n",
              "2000-01-07                 NaN          NaN  \n",
              "...                        ...          ...  \n",
              "2021-04-26           2440395.0       0.6232  \n",
              "2021-04-27           1040749.0       0.5100  \n",
              "2021-04-28           1815110.0       0.5327  \n",
              "2021-04-29           1472924.0       0.4901  \n",
              "2021-04-30           3839105.0       0.6372  \n",
              "\n",
              "[5306 rows x 14 columns]"
            ],
            "text/html": [
              "\n",
              "  <div id=\"df-6373b810-947c-472f-9239-a91bf0f6d99b\">\n",
              "    <div class=\"colab-df-container\">\n",
              "      <div>\n",
              "<style scoped>\n",
              "    .dataframe tbody tr th:only-of-type {\n",
              "        vertical-align: middle;\n",
              "    }\n",
              "\n",
              "    .dataframe tbody tr th {\n",
              "        vertical-align: top;\n",
              "    }\n",
              "\n",
              "    .dataframe thead th {\n",
              "        text-align: right;\n",
              "    }\n",
              "</style>\n",
              "<table border=\"1\" class=\"dataframe\">\n",
              "  <thead>\n",
              "    <tr style=\"text-align: right;\">\n",
              "      <th></th>\n",
              "      <th>Symbol</th>\n",
              "      <th>Series</th>\n",
              "      <th>Prev Close</th>\n",
              "      <th>Open</th>\n",
              "      <th>High</th>\n",
              "      <th>Low</th>\n",
              "      <th>Last</th>\n",
              "      <th>Close</th>\n",
              "      <th>VWAP</th>\n",
              "      <th>Volume</th>\n",
              "      <th>Turnover</th>\n",
              "      <th>Trades</th>\n",
              "      <th>Deliverable Volume</th>\n",
              "      <th>%Deliverble</th>\n",
              "    </tr>\n",
              "    <tr>\n",
              "      <th>Date</th>\n",
              "      <th></th>\n",
              "      <th></th>\n",
              "      <th></th>\n",
              "      <th></th>\n",
              "      <th></th>\n",
              "      <th></th>\n",
              "      <th></th>\n",
              "      <th></th>\n",
              "      <th></th>\n",
              "      <th></th>\n",
              "      <th></th>\n",
              "      <th></th>\n",
              "      <th></th>\n",
              "      <th></th>\n",
              "    </tr>\n",
              "  </thead>\n",
              "  <tbody>\n",
              "    <tr>\n",
              "      <th>2000-01-03</th>\n",
              "      <td>HDFC</td>\n",
              "      <td>EQ</td>\n",
              "      <td>271.75</td>\n",
              "      <td>293.50</td>\n",
              "      <td>293.50</td>\n",
              "      <td>293.50</td>\n",
              "      <td>293.50</td>\n",
              "      <td>293.50</td>\n",
              "      <td>293.50</td>\n",
              "      <td>22744</td>\n",
              "      <td>6.675364e+11</td>\n",
              "      <td>NaN</td>\n",
              "      <td>NaN</td>\n",
              "      <td>NaN</td>\n",
              "    </tr>\n",
              "    <tr>\n",
              "      <th>2000-01-04</th>\n",
              "      <td>HDFC</td>\n",
              "      <td>EQ</td>\n",
              "      <td>293.50</td>\n",
              "      <td>317.00</td>\n",
              "      <td>317.00</td>\n",
              "      <td>297.00</td>\n",
              "      <td>304.00</td>\n",
              "      <td>304.05</td>\n",
              "      <td>303.62</td>\n",
              "      <td>255251</td>\n",
              "      <td>7.749972e+12</td>\n",
              "      <td>NaN</td>\n",
              "      <td>NaN</td>\n",
              "      <td>NaN</td>\n",
              "    </tr>\n",
              "    <tr>\n",
              "      <th>2000-01-05</th>\n",
              "      <td>HDFC</td>\n",
              "      <td>EQ</td>\n",
              "      <td>304.05</td>\n",
              "      <td>290.00</td>\n",
              "      <td>303.90</td>\n",
              "      <td>285.00</td>\n",
              "      <td>295.00</td>\n",
              "      <td>292.80</td>\n",
              "      <td>294.53</td>\n",
              "      <td>269087</td>\n",
              "      <td>7.925368e+12</td>\n",
              "      <td>NaN</td>\n",
              "      <td>NaN</td>\n",
              "      <td>NaN</td>\n",
              "    </tr>\n",
              "    <tr>\n",
              "      <th>2000-01-06</th>\n",
              "      <td>HDFC</td>\n",
              "      <td>EQ</td>\n",
              "      <td>292.80</td>\n",
              "      <td>301.00</td>\n",
              "      <td>314.00</td>\n",
              "      <td>295.00</td>\n",
              "      <td>296.00</td>\n",
              "      <td>296.45</td>\n",
              "      <td>300.14</td>\n",
              "      <td>305916</td>\n",
              "      <td>9.181669e+12</td>\n",
              "      <td>NaN</td>\n",
              "      <td>NaN</td>\n",
              "      <td>NaN</td>\n",
              "    </tr>\n",
              "    <tr>\n",
              "      <th>2000-01-07</th>\n",
              "      <td>HDFC</td>\n",
              "      <td>EQ</td>\n",
              "      <td>296.45</td>\n",
              "      <td>290.00</td>\n",
              "      <td>296.35</td>\n",
              "      <td>281.00</td>\n",
              "      <td>287.10</td>\n",
              "      <td>286.55</td>\n",
              "      <td>288.80</td>\n",
              "      <td>197039</td>\n",
              "      <td>5.690480e+12</td>\n",
              "      <td>NaN</td>\n",
              "      <td>NaN</td>\n",
              "      <td>NaN</td>\n",
              "    </tr>\n",
              "    <tr>\n",
              "      <th>...</th>\n",
              "      <td>...</td>\n",
              "      <td>...</td>\n",
              "      <td>...</td>\n",
              "      <td>...</td>\n",
              "      <td>...</td>\n",
              "      <td>...</td>\n",
              "      <td>...</td>\n",
              "      <td>...</td>\n",
              "      <td>...</td>\n",
              "      <td>...</td>\n",
              "      <td>...</td>\n",
              "      <td>...</td>\n",
              "      <td>...</td>\n",
              "      <td>...</td>\n",
              "    </tr>\n",
              "    <tr>\n",
              "      <th>2021-04-26</th>\n",
              "      <td>HDFC</td>\n",
              "      <td>EQ</td>\n",
              "      <td>2497.35</td>\n",
              "      <td>2500.00</td>\n",
              "      <td>2534.10</td>\n",
              "      <td>2483.20</td>\n",
              "      <td>2502.00</td>\n",
              "      <td>2509.80</td>\n",
              "      <td>2508.07</td>\n",
              "      <td>3916088</td>\n",
              "      <td>9.821805e+14</td>\n",
              "      <td>121028.0</td>\n",
              "      <td>2440395.0</td>\n",
              "      <td>0.6232</td>\n",
              "    </tr>\n",
              "    <tr>\n",
              "      <th>2021-04-27</th>\n",
              "      <td>HDFC</td>\n",
              "      <td>EQ</td>\n",
              "      <td>2509.80</td>\n",
              "      <td>2494.15</td>\n",
              "      <td>2526.80</td>\n",
              "      <td>2486.25</td>\n",
              "      <td>2514.00</td>\n",
              "      <td>2518.40</td>\n",
              "      <td>2509.18</td>\n",
              "      <td>2040799</td>\n",
              "      <td>5.120730e+14</td>\n",
              "      <td>102250.0</td>\n",
              "      <td>1040749.0</td>\n",
              "      <td>0.5100</td>\n",
              "    </tr>\n",
              "    <tr>\n",
              "      <th>2021-04-28</th>\n",
              "      <td>HDFC</td>\n",
              "      <td>EQ</td>\n",
              "      <td>2518.40</td>\n",
              "      <td>2516.10</td>\n",
              "      <td>2609.00</td>\n",
              "      <td>2508.30</td>\n",
              "      <td>2575.00</td>\n",
              "      <td>2577.00</td>\n",
              "      <td>2574.21</td>\n",
              "      <td>3407461</td>\n",
              "      <td>8.771527e+14</td>\n",
              "      <td>117425.0</td>\n",
              "      <td>1815110.0</td>\n",
              "      <td>0.5327</td>\n",
              "    </tr>\n",
              "    <tr>\n",
              "      <th>2021-04-29</th>\n",
              "      <td>HDFC</td>\n",
              "      <td>EQ</td>\n",
              "      <td>2577.00</td>\n",
              "      <td>2590.90</td>\n",
              "      <td>2628.00</td>\n",
              "      <td>2533.00</td>\n",
              "      <td>2539.70</td>\n",
              "      <td>2538.85</td>\n",
              "      <td>2569.65</td>\n",
              "      <td>3005468</td>\n",
              "      <td>7.722995e+14</td>\n",
              "      <td>132826.0</td>\n",
              "      <td>1472924.0</td>\n",
              "      <td>0.4901</td>\n",
              "    </tr>\n",
              "    <tr>\n",
              "      <th>2021-04-30</th>\n",
              "      <td>HDFC</td>\n",
              "      <td>EQ</td>\n",
              "      <td>2538.85</td>\n",
              "      <td>2503.10</td>\n",
              "      <td>2525.00</td>\n",
              "      <td>2411.10</td>\n",
              "      <td>2433.25</td>\n",
              "      <td>2420.10</td>\n",
              "      <td>2445.94</td>\n",
              "      <td>6024595</td>\n",
              "      <td>1.473581e+15</td>\n",
              "      <td>224454.0</td>\n",
              "      <td>3839105.0</td>\n",
              "      <td>0.6372</td>\n",
              "    </tr>\n",
              "  </tbody>\n",
              "</table>\n",
              "<p>5306 rows × 14 columns</p>\n",
              "</div>\n",
              "      <button class=\"colab-df-convert\" onclick=\"convertToInteractive('df-6373b810-947c-472f-9239-a91bf0f6d99b')\"\n",
              "              title=\"Convert this dataframe to an interactive table.\"\n",
              "              style=\"display:none;\">\n",
              "        \n",
              "  <svg xmlns=\"http://www.w3.org/2000/svg\" height=\"24px\"viewBox=\"0 0 24 24\"\n",
              "       width=\"24px\">\n",
              "    <path d=\"M0 0h24v24H0V0z\" fill=\"none\"/>\n",
              "    <path d=\"M18.56 5.44l.94 2.06.94-2.06 2.06-.94-2.06-.94-.94-2.06-.94 2.06-2.06.94zm-11 1L8.5 8.5l.94-2.06 2.06-.94-2.06-.94L8.5 2.5l-.94 2.06-2.06.94zm10 10l.94 2.06.94-2.06 2.06-.94-2.06-.94-.94-2.06-.94 2.06-2.06.94z\"/><path d=\"M17.41 7.96l-1.37-1.37c-.4-.4-.92-.59-1.43-.59-.52 0-1.04.2-1.43.59L10.3 9.45l-7.72 7.72c-.78.78-.78 2.05 0 2.83L4 21.41c.39.39.9.59 1.41.59.51 0 1.02-.2 1.41-.59l7.78-7.78 2.81-2.81c.8-.78.8-2.07 0-2.86zM5.41 20L4 18.59l7.72-7.72 1.47 1.35L5.41 20z\"/>\n",
              "  </svg>\n",
              "      </button>\n",
              "      \n",
              "  <style>\n",
              "    .colab-df-container {\n",
              "      display:flex;\n",
              "      flex-wrap:wrap;\n",
              "      gap: 12px;\n",
              "    }\n",
              "\n",
              "    .colab-df-convert {\n",
              "      background-color: #E8F0FE;\n",
              "      border: none;\n",
              "      border-radius: 50%;\n",
              "      cursor: pointer;\n",
              "      display: none;\n",
              "      fill: #1967D2;\n",
              "      height: 32px;\n",
              "      padding: 0 0 0 0;\n",
              "      width: 32px;\n",
              "    }\n",
              "\n",
              "    .colab-df-convert:hover {\n",
              "      background-color: #E2EBFA;\n",
              "      box-shadow: 0px 1px 2px rgba(60, 64, 67, 0.3), 0px 1px 3px 1px rgba(60, 64, 67, 0.15);\n",
              "      fill: #174EA6;\n",
              "    }\n",
              "\n",
              "    [theme=dark] .colab-df-convert {\n",
              "      background-color: #3B4455;\n",
              "      fill: #D2E3FC;\n",
              "    }\n",
              "\n",
              "    [theme=dark] .colab-df-convert:hover {\n",
              "      background-color: #434B5C;\n",
              "      box-shadow: 0px 1px 3px 1px rgba(0, 0, 0, 0.15);\n",
              "      filter: drop-shadow(0px 1px 2px rgba(0, 0, 0, 0.3));\n",
              "      fill: #FFFFFF;\n",
              "    }\n",
              "  </style>\n",
              "\n",
              "      <script>\n",
              "        const buttonEl =\n",
              "          document.querySelector('#df-6373b810-947c-472f-9239-a91bf0f6d99b button.colab-df-convert');\n",
              "        buttonEl.style.display =\n",
              "          google.colab.kernel.accessAllowed ? 'block' : 'none';\n",
              "\n",
              "        async function convertToInteractive(key) {\n",
              "          const element = document.querySelector('#df-6373b810-947c-472f-9239-a91bf0f6d99b');\n",
              "          const dataTable =\n",
              "            await google.colab.kernel.invokeFunction('convertToInteractive',\n",
              "                                                     [key], {});\n",
              "          if (!dataTable) return;\n",
              "\n",
              "          const docLinkHtml = 'Like what you see? Visit the ' +\n",
              "            '<a target=\"_blank\" href=https://colab.research.google.com/notebooks/data_table.ipynb>data table notebook</a>'\n",
              "            + ' to learn more about interactive tables.';\n",
              "          element.innerHTML = '';\n",
              "          dataTable['output_type'] = 'display_data';\n",
              "          await google.colab.output.renderOutput(dataTable, element);\n",
              "          const docLink = document.createElement('div');\n",
              "          docLink.innerHTML = docLinkHtml;\n",
              "          element.appendChild(docLink);\n",
              "        }\n",
              "      </script>\n",
              "    </div>\n",
              "  </div>\n",
              "  "
            ]
          },
          "metadata": {},
          "execution_count": 363
        }
      ]
    },
    {
      "cell_type": "code",
      "source": [
        "df['Date']=df.index"
      ],
      "metadata": {
        "id": "E7X-jyItcm8U"
      },
      "execution_count": 364,
      "outputs": []
    },
    {
      "cell_type": "code",
      "source": [
        "start_date='2016-01-01'\n",
        "end_date='2020-12-31'\n",
        "mask=(df['Date']>=start_date)&(df['Date']<=end_date)"
      ],
      "metadata": {
        "id": "A9eSrJ1Dcot3"
      },
      "execution_count": 365,
      "outputs": []
    },
    {
      "cell_type": "code",
      "source": [
        "df=df.loc[mask]"
      ],
      "metadata": {
        "id": "_Pfuk7zicqIx"
      },
      "execution_count": 366,
      "outputs": []
    },
    {
      "cell_type": "code",
      "source": [
        "df=df.loc[mask]"
      ],
      "metadata": {
        "id": "MsTtlYUncrcn"
      },
      "execution_count": 367,
      "outputs": []
    },
    {
      "cell_type": "code",
      "source": [
        "df=df.drop(columns=['Series','Symbol','Open','High','Low','Last','Close','VWAP','Volume','Turnover','Trades','Deliverable Volume','%Deliverble','Date'])"
      ],
      "metadata": {
        "id": "aV7QwBEDcvq2"
      },
      "execution_count": 368,
      "outputs": []
    },
    {
      "cell_type": "code",
      "source": [
        "Ntest=math.trunc(0.3*len(df))\n",
        "train=df.iloc[:-Ntest]\n",
        "test=df.iloc[-Ntest:]"
      ],
      "metadata": {
        "id": "cUuhMhL0c1qi"
      },
      "execution_count": 369,
      "outputs": []
    },
    {
      "cell_type": "code",
      "source": [
        "train_idx=df.index<=train.index[-1]\n",
        "test_idx=df.index>train.index[-1]"
      ],
      "metadata": {
        "id": "YFtIIrsqc3ch"
      },
      "execution_count": 370,
      "outputs": []
    },
    {
      "cell_type": "code",
      "source": [
        "df['Diff Prev Close']=df['Prev Close'].diff()"
      ],
      "metadata": {
        "id": "zh1z6dQDc6KA"
      },
      "execution_count": 371,
      "outputs": []
    },
    {
      "cell_type": "code",
      "source": [
        "series=df['Diff Prev Close'].dropna().to_numpy()\n",
        "\n",
        "T=50\n",
        "X=[]\n",
        "Y=[]\n",
        "for t in range(len(series)-T):\n",
        "  x=series[t:t+T]\n",
        "  X.append(x)\n",
        "  y=series[t+T]\n",
        "  Y.append(y)\n",
        "\n",
        "X=np.array(X).reshape(-1,T)\n",
        "Y=np.array(Y)\n",
        "N=len(X)\n",
        "print(\"X.shape\",X.shape,\"Y.shape\",Y.shape)"
      ],
      "metadata": {
        "colab": {
          "base_uri": "https://localhost:8080/"
        },
        "id": "GH9c1VIMdLvZ",
        "outputId": "1fde0410-3dab-4b68-e4dd-9c5c5e4e0a70"
      },
      "execution_count": 372,
      "outputs": [
        {
          "output_type": "stream",
          "name": "stdout",
          "text": [
            "X.shape (1187, 50) Y.shape (1187,)\n"
          ]
        }
      ]
    },
    {
      "cell_type": "code",
      "source": [
        "Xtrain,Ytrain=X[:-Ntest],Y[:-Ntest]\n",
        "Xtest,Ytest=X[-Ntest:],Y[-Ntest:]"
      ],
      "metadata": {
        "id": "AyyCdgD1dQeH"
      },
      "execution_count": 373,
      "outputs": []
    },
    {
      "cell_type": "markdown",
      "source": [
        "ANN"
      ],
      "metadata": {
        "id": "P4csTdPeeavE"
      }
    },
    {
      "cell_type": "code",
      "source": [
        "i=Input(shape=(T,))\n",
        "x=Dense(400,activation='relu')(i)\n",
        "x=Dense(100,activation='relu')(x)\n",
        "x=Dense(50,activation='relu')(x)\n",
        "x=Dense(1,activation='relu')(x)\n",
        "model_ann=Model(i,x)\n",
        "model_ann.summary()"
      ],
      "metadata": {
        "colab": {
          "base_uri": "https://localhost:8080/"
        },
        "id": "cEHrg-sQdSpS",
        "outputId": "1bb55bb7-53bd-4dfc-821a-07e97c408857"
      },
      "execution_count": 374,
      "outputs": [
        {
          "output_type": "stream",
          "name": "stdout",
          "text": [
            "Model: \"model_24\"\n",
            "_________________________________________________________________\n",
            " Layer (type)                Output Shape              Param #   \n",
            "=================================================================\n",
            " input_25 (InputLayer)       [(None, 50)]              0         \n",
            "                                                                 \n",
            " dense_66 (Dense)            (None, 400)               20400     \n",
            "                                                                 \n",
            " dense_67 (Dense)            (None, 100)               40100     \n",
            "                                                                 \n",
            " dense_68 (Dense)            (None, 50)                5050      \n",
            "                                                                 \n",
            " dense_69 (Dense)            (None, 1)                 51        \n",
            "                                                                 \n",
            "=================================================================\n",
            "Total params: 65,601\n",
            "Trainable params: 65,601\n",
            "Non-trainable params: 0\n",
            "_________________________________________________________________\n"
          ]
        }
      ]
    },
    {
      "cell_type": "code",
      "source": [
        "model_ann.compile(\n",
        "    loss='mse',\n",
        "    optimizer='adamax',\n",
        "    metrics='mae'\n",
        ")"
      ],
      "metadata": {
        "id": "GSjK1FukdUVe"
      },
      "execution_count": 375,
      "outputs": []
    },
    {
      "cell_type": "code",
      "source": [
        "r=model_ann.fit(\n",
        "    Xtrain,\n",
        "    Ytrain,\n",
        "    epochs=100,\n",
        "    validation_data=(Xtest,Ytest)\n",
        ")"
      ],
      "metadata": {
        "colab": {
          "base_uri": "https://localhost:8080/"
        },
        "id": "bp97xaLkdXKe",
        "outputId": "9aa9db9e-3301-40f1-c849-f075e70ff34e"
      },
      "execution_count": 376,
      "outputs": [
        {
          "output_type": "stream",
          "name": "stdout",
          "text": [
            "Epoch 1/100\n",
            "26/26 [==============================] - 1s 8ms/step - loss: 544.1213 - mae: 17.6115 - val_loss: 2520.0486 - val_mae: 34.5720\n",
            "Epoch 2/100\n",
            "26/26 [==============================] - 0s 5ms/step - loss: 526.7050 - mae: 17.1754 - val_loss: 2586.2068 - val_mae: 34.9234\n",
            "Epoch 3/100\n",
            "26/26 [==============================] - 0s 3ms/step - loss: 507.4780 - mae: 16.7586 - val_loss: 2600.6433 - val_mae: 35.0420\n",
            "Epoch 4/100\n",
            "26/26 [==============================] - 0s 3ms/step - loss: 493.9756 - mae: 16.3945 - val_loss: 2671.5276 - val_mae: 35.6799\n",
            "Epoch 5/100\n",
            "26/26 [==============================] - 0s 3ms/step - loss: 479.5136 - mae: 16.0955 - val_loss: 2654.8110 - val_mae: 35.6388\n",
            "Epoch 6/100\n",
            "26/26 [==============================] - 0s 4ms/step - loss: 468.7465 - mae: 15.8128 - val_loss: 2652.1360 - val_mae: 35.6754\n",
            "Epoch 7/100\n",
            "26/26 [==============================] - 0s 6ms/step - loss: 459.7819 - mae: 15.5776 - val_loss: 2677.5190 - val_mae: 35.9083\n",
            "Epoch 8/100\n",
            "26/26 [==============================] - 0s 5ms/step - loss: 447.6672 - mae: 15.2709 - val_loss: 2716.1968 - val_mae: 36.1793\n",
            "Epoch 9/100\n",
            "26/26 [==============================] - 0s 3ms/step - loss: 437.5049 - mae: 14.9743 - val_loss: 2735.5603 - val_mae: 36.4057\n",
            "Epoch 10/100\n",
            "26/26 [==============================] - 0s 3ms/step - loss: 429.3808 - mae: 14.6999 - val_loss: 2768.9260 - val_mae: 36.6842\n",
            "Epoch 11/100\n",
            "26/26 [==============================] - 0s 5ms/step - loss: 423.6310 - mae: 14.4770 - val_loss: 2737.1458 - val_mae: 36.4376\n",
            "Epoch 12/100\n",
            "26/26 [==============================] - 0s 6ms/step - loss: 415.5127 - mae: 14.2050 - val_loss: 2781.2046 - val_mae: 36.7084\n",
            "Epoch 13/100\n",
            "26/26 [==============================] - 0s 3ms/step - loss: 408.7883 - mae: 13.9421 - val_loss: 2852.2312 - val_mae: 37.1719\n",
            "Epoch 14/100\n",
            "26/26 [==============================] - 0s 3ms/step - loss: 404.0885 - mae: 13.7526 - val_loss: 2813.7451 - val_mae: 36.8499\n",
            "Epoch 15/100\n",
            "26/26 [==============================] - 0s 3ms/step - loss: 400.0722 - mae: 13.5512 - val_loss: 2860.8140 - val_mae: 37.2821\n",
            "Epoch 16/100\n",
            "26/26 [==============================] - 0s 3ms/step - loss: 396.3643 - mae: 13.3868 - val_loss: 2832.9045 - val_mae: 37.1514\n",
            "Epoch 17/100\n",
            "26/26 [==============================] - 0s 4ms/step - loss: 392.9554 - mae: 13.1685 - val_loss: 2842.9124 - val_mae: 37.2163\n",
            "Epoch 18/100\n",
            "26/26 [==============================] - 0s 3ms/step - loss: 390.5120 - mae: 13.0195 - val_loss: 2890.2856 - val_mae: 37.5602\n",
            "Epoch 19/100\n",
            "26/26 [==============================] - 0s 3ms/step - loss: 388.6021 - mae: 12.8969 - val_loss: 2855.0459 - val_mae: 37.3177\n",
            "Epoch 20/100\n",
            "26/26 [==============================] - 0s 3ms/step - loss: 387.0630 - mae: 12.7827 - val_loss: 2874.8735 - val_mae: 37.5327\n",
            "Epoch 21/100\n",
            "26/26 [==============================] - 0s 3ms/step - loss: 385.7988 - mae: 12.6996 - val_loss: 2890.9590 - val_mae: 37.6264\n",
            "Epoch 22/100\n",
            "26/26 [==============================] - 0s 3ms/step - loss: 385.0785 - mae: 12.6553 - val_loss: 2832.8818 - val_mae: 37.1679\n",
            "Epoch 23/100\n",
            "26/26 [==============================] - 0s 3ms/step - loss: 384.2600 - mae: 12.5899 - val_loss: 2869.8477 - val_mae: 37.4271\n",
            "Epoch 24/100\n",
            "26/26 [==============================] - 0s 3ms/step - loss: 383.4350 - mae: 12.4877 - val_loss: 2865.9807 - val_mae: 37.4569\n",
            "Epoch 25/100\n",
            "26/26 [==============================] - 0s 4ms/step - loss: 382.8401 - mae: 12.4157 - val_loss: 2879.0676 - val_mae: 37.5490\n",
            "Epoch 26/100\n",
            "26/26 [==============================] - 0s 3ms/step - loss: 382.3855 - mae: 12.3680 - val_loss: 2897.7998 - val_mae: 37.6657\n",
            "Epoch 27/100\n",
            "26/26 [==============================] - 0s 4ms/step - loss: 382.0456 - mae: 12.3354 - val_loss: 2899.2078 - val_mae: 37.6994\n",
            "Epoch 28/100\n",
            "26/26 [==============================] - 0s 4ms/step - loss: 381.6422 - mae: 12.2754 - val_loss: 2860.3047 - val_mae: 37.4039\n",
            "Epoch 29/100\n",
            "26/26 [==============================] - 0s 3ms/step - loss: 381.3341 - mae: 12.2271 - val_loss: 2886.5391 - val_mae: 37.5787\n",
            "Epoch 30/100\n",
            "26/26 [==============================] - 0s 4ms/step - loss: 381.1690 - mae: 12.1800 - val_loss: 2845.7346 - val_mae: 37.2475\n",
            "Epoch 31/100\n",
            "26/26 [==============================] - 0s 3ms/step - loss: 381.1744 - mae: 12.2334 - val_loss: 2913.2563 - val_mae: 37.7775\n",
            "Epoch 32/100\n",
            "26/26 [==============================] - 0s 5ms/step - loss: 380.9561 - mae: 12.1739 - val_loss: 2847.1331 - val_mae: 37.2952\n",
            "Epoch 33/100\n",
            "26/26 [==============================] - 0s 3ms/step - loss: 380.8888 - mae: 12.1907 - val_loss: 2874.5747 - val_mae: 37.4493\n",
            "Epoch 34/100\n",
            "26/26 [==============================] - 0s 4ms/step - loss: 380.7395 - mae: 12.1338 - val_loss: 2861.6753 - val_mae: 37.3624\n",
            "Epoch 35/100\n",
            "26/26 [==============================] - 0s 3ms/step - loss: 380.6402 - mae: 12.0988 - val_loss: 2879.6182 - val_mae: 37.5197\n",
            "Epoch 36/100\n",
            "26/26 [==============================] - 0s 3ms/step - loss: 380.5578 - mae: 12.0756 - val_loss: 2882.8567 - val_mae: 37.5671\n",
            "Epoch 37/100\n",
            "26/26 [==============================] - 0s 3ms/step - loss: 380.5952 - mae: 12.0894 - val_loss: 2893.0808 - val_mae: 37.6300\n",
            "Epoch 38/100\n",
            "26/26 [==============================] - 0s 3ms/step - loss: 381.0187 - mae: 12.2317 - val_loss: 2839.4211 - val_mae: 37.2279\n",
            "Epoch 39/100\n",
            "26/26 [==============================] - 0s 3ms/step - loss: 379.5280 - mae: 12.1760 - val_loss: 2865.3713 - val_mae: 37.3862\n",
            "Epoch 40/100\n",
            "26/26 [==============================] - 0s 3ms/step - loss: 379.4719 - mae: 12.1721 - val_loss: 2907.6377 - val_mae: 37.7794\n",
            "Epoch 41/100\n",
            "26/26 [==============================] - 0s 3ms/step - loss: 379.7037 - mae: 12.2036 - val_loss: 2811.7224 - val_mae: 37.0452\n",
            "Epoch 42/100\n",
            "26/26 [==============================] - 0s 3ms/step - loss: 380.0872 - mae: 12.4186 - val_loss: 2859.1785 - val_mae: 37.4947\n",
            "Epoch 43/100\n",
            "26/26 [==============================] - 0s 3ms/step - loss: 378.9344 - mae: 12.1693 - val_loss: 2857.3105 - val_mae: 37.4259\n",
            "Epoch 44/100\n",
            "26/26 [==============================] - 0s 3ms/step - loss: 378.6117 - mae: 12.0789 - val_loss: 2863.9512 - val_mae: 37.4565\n",
            "Epoch 45/100\n",
            "26/26 [==============================] - 0s 3ms/step - loss: 378.6465 - mae: 12.0964 - val_loss: 2918.3606 - val_mae: 37.8444\n",
            "Epoch 46/100\n",
            "26/26 [==============================] - 0s 2ms/step - loss: 378.5482 - mae: 12.0872 - val_loss: 2862.3953 - val_mae: 37.4585\n",
            "Epoch 47/100\n",
            "26/26 [==============================] - 0s 3ms/step - loss: 378.4318 - mae: 12.0344 - val_loss: 2851.2737 - val_mae: 37.3880\n",
            "Epoch 48/100\n",
            "26/26 [==============================] - 0s 3ms/step - loss: 378.3334 - mae: 11.9729 - val_loss: 2873.0730 - val_mae: 37.5302\n",
            "Epoch 49/100\n",
            "26/26 [==============================] - 0s 3ms/step - loss: 378.2965 - mae: 11.9443 - val_loss: 2866.7373 - val_mae: 37.5093\n",
            "Epoch 50/100\n",
            "26/26 [==============================] - 0s 3ms/step - loss: 378.2881 - mae: 11.9324 - val_loss: 2871.1052 - val_mae: 37.5214\n",
            "Epoch 51/100\n",
            "26/26 [==============================] - 0s 2ms/step - loss: 378.2778 - mae: 11.9232 - val_loss: 2869.3979 - val_mae: 37.5104\n",
            "Epoch 52/100\n",
            "26/26 [==============================] - 0s 3ms/step - loss: 378.2811 - mae: 11.9213 - val_loss: 2863.1389 - val_mae: 37.4698\n",
            "Epoch 53/100\n",
            "26/26 [==============================] - 0s 3ms/step - loss: 378.2863 - mae: 11.9256 - val_loss: 2864.0974 - val_mae: 37.4659\n",
            "Epoch 54/100\n",
            "26/26 [==============================] - 0s 3ms/step - loss: 378.3056 - mae: 11.9407 - val_loss: 2874.5071 - val_mae: 37.5585\n",
            "Epoch 55/100\n",
            "26/26 [==============================] - 0s 3ms/step - loss: 378.3268 - mae: 11.9566 - val_loss: 2855.7122 - val_mae: 37.4224\n",
            "Epoch 56/100\n",
            "26/26 [==============================] - 0s 3ms/step - loss: 378.3542 - mae: 11.9790 - val_loss: 2859.5532 - val_mae: 37.4471\n",
            "Epoch 57/100\n",
            "26/26 [==============================] - 0s 3ms/step - loss: 378.3972 - mae: 12.0001 - val_loss: 2889.1985 - val_mae: 37.6677\n",
            "Epoch 58/100\n",
            "26/26 [==============================] - 0s 3ms/step - loss: 378.4827 - mae: 12.0153 - val_loss: 2856.1658 - val_mae: 37.3958\n",
            "Epoch 59/100\n",
            "26/26 [==============================] - 0s 3ms/step - loss: 378.7419 - mae: 12.0738 - val_loss: 2845.4688 - val_mae: 37.3328\n",
            "Epoch 60/100\n",
            "26/26 [==============================] - 0s 3ms/step - loss: 378.7691 - mae: 12.1277 - val_loss: 2864.9395 - val_mae: 37.4614\n",
            "Epoch 61/100\n",
            "26/26 [==============================] - 0s 3ms/step - loss: 378.7072 - mae: 12.0876 - val_loss: 2871.9229 - val_mae: 37.5151\n",
            "Epoch 62/100\n",
            "26/26 [==============================] - 0s 3ms/step - loss: 378.6905 - mae: 12.0678 - val_loss: 2862.4194 - val_mae: 37.4317\n",
            "Epoch 63/100\n",
            "26/26 [==============================] - 0s 3ms/step - loss: 378.7845 - mae: 12.0930 - val_loss: 2822.0024 - val_mae: 37.1486\n",
            "Epoch 64/100\n",
            "26/26 [==============================] - 0s 3ms/step - loss: 379.2797 - mae: 12.2285 - val_loss: 2897.1470 - val_mae: 37.6249\n",
            "Epoch 65/100\n",
            "26/26 [==============================] - 0s 3ms/step - loss: 379.1920 - mae: 12.2144 - val_loss: 2877.5239 - val_mae: 37.5558\n",
            "Epoch 66/100\n",
            "26/26 [==============================] - 0s 4ms/step - loss: 379.0285 - mae: 12.1523 - val_loss: 2896.2878 - val_mae: 37.6654\n",
            "Epoch 67/100\n",
            "26/26 [==============================] - 0s 3ms/step - loss: 378.9259 - mae: 12.1276 - val_loss: 2884.5381 - val_mae: 37.6187\n",
            "Epoch 68/100\n",
            "26/26 [==============================] - 0s 2ms/step - loss: 378.9740 - mae: 12.1436 - val_loss: 2851.6416 - val_mae: 37.3137\n",
            "Epoch 69/100\n",
            "26/26 [==============================] - 0s 3ms/step - loss: 378.9618 - mae: 12.1618 - val_loss: 2865.0647 - val_mae: 37.4568\n",
            "Epoch 70/100\n",
            "26/26 [==============================] - 0s 3ms/step - loss: 379.0772 - mae: 12.1809 - val_loss: 2962.7729 - val_mae: 38.1559\n",
            "Epoch 71/100\n",
            "26/26 [==============================] - 0s 3ms/step - loss: 379.1165 - mae: 12.2347 - val_loss: 2839.7764 - val_mae: 37.3049\n",
            "Epoch 72/100\n",
            "26/26 [==============================] - 0s 3ms/step - loss: 379.1114 - mae: 12.2333 - val_loss: 2915.6868 - val_mae: 37.8647\n",
            "Epoch 73/100\n",
            "26/26 [==============================] - 0s 2ms/step - loss: 379.1628 - mae: 12.2211 - val_loss: 2817.4714 - val_mae: 37.2567\n",
            "Epoch 74/100\n",
            "26/26 [==============================] - 0s 3ms/step - loss: 379.3639 - mae: 12.2680 - val_loss: 2868.1492 - val_mae: 37.5026\n",
            "Epoch 75/100\n",
            "26/26 [==============================] - 0s 3ms/step - loss: 379.1513 - mae: 12.2096 - val_loss: 2881.4519 - val_mae: 37.7161\n",
            "Epoch 76/100\n",
            "26/26 [==============================] - 0s 3ms/step - loss: 379.3054 - mae: 12.2613 - val_loss: 2812.7285 - val_mae: 37.1915\n",
            "Epoch 77/100\n",
            "26/26 [==============================] - 0s 3ms/step - loss: 379.4557 - mae: 12.2992 - val_loss: 2867.5317 - val_mae: 37.6170\n",
            "Epoch 78/100\n",
            "26/26 [==============================] - 0s 3ms/step - loss: 379.5968 - mae: 12.2931 - val_loss: 2802.3606 - val_mae: 37.1269\n",
            "Epoch 79/100\n",
            "26/26 [==============================] - 0s 3ms/step - loss: 379.5988 - mae: 12.3461 - val_loss: 2885.9319 - val_mae: 37.7659\n",
            "Epoch 80/100\n",
            "26/26 [==============================] - 0s 3ms/step - loss: 379.8106 - mae: 12.3980 - val_loss: 2810.4248 - val_mae: 37.1510\n",
            "Epoch 81/100\n",
            "26/26 [==============================] - 0s 2ms/step - loss: 379.2482 - mae: 12.2812 - val_loss: 2845.1648 - val_mae: 37.4464\n",
            "Epoch 82/100\n",
            "26/26 [==============================] - 0s 3ms/step - loss: 379.2375 - mae: 12.2408 - val_loss: 2839.4980 - val_mae: 37.3604\n",
            "Epoch 83/100\n",
            "26/26 [==============================] - 0s 4ms/step - loss: 378.9115 - mae: 12.1754 - val_loss: 2793.6499 - val_mae: 36.9863\n",
            "Epoch 84/100\n",
            "26/26 [==============================] - 0s 3ms/step - loss: 378.8621 - mae: 12.1657 - val_loss: 2857.0549 - val_mae: 37.4736\n",
            "Epoch 85/100\n",
            "26/26 [==============================] - 0s 3ms/step - loss: 378.8683 - mae: 12.1327 - val_loss: 2821.5820 - val_mae: 37.2495\n",
            "Epoch 86/100\n",
            "26/26 [==============================] - 0s 3ms/step - loss: 379.0121 - mae: 12.1663 - val_loss: 2882.2769 - val_mae: 37.6601\n",
            "Epoch 87/100\n",
            "26/26 [==============================] - 0s 3ms/step - loss: 379.2922 - mae: 12.2362 - val_loss: 2836.6914 - val_mae: 37.3895\n",
            "Epoch 88/100\n",
            "26/26 [==============================] - 0s 3ms/step - loss: 379.2971 - mae: 12.2196 - val_loss: 2856.9023 - val_mae: 37.5156\n",
            "Epoch 89/100\n",
            "26/26 [==============================] - 0s 2ms/step - loss: 379.1076 - mae: 12.2003 - val_loss: 2823.6594 - val_mae: 37.2702\n",
            "Epoch 90/100\n",
            "26/26 [==============================] - 0s 3ms/step - loss: 379.2384 - mae: 12.2388 - val_loss: 2854.5969 - val_mae: 37.5619\n",
            "Epoch 91/100\n",
            "26/26 [==============================] - 0s 2ms/step - loss: 379.3914 - mae: 12.2699 - val_loss: 2805.8132 - val_mae: 37.1239\n",
            "Epoch 92/100\n",
            "26/26 [==============================] - 0s 3ms/step - loss: 379.1644 - mae: 12.2127 - val_loss: 2843.8503 - val_mae: 37.4602\n",
            "Epoch 93/100\n",
            "26/26 [==============================] - 0s 3ms/step - loss: 379.0748 - mae: 12.1890 - val_loss: 2797.0339 - val_mae: 37.0412\n",
            "Epoch 94/100\n",
            "26/26 [==============================] - 0s 3ms/step - loss: 379.2762 - mae: 12.2114 - val_loss: 2906.5649 - val_mae: 37.8157\n",
            "Epoch 95/100\n",
            "26/26 [==============================] - 0s 3ms/step - loss: 379.1544 - mae: 12.2170 - val_loss: 2858.6052 - val_mae: 37.4703\n",
            "Epoch 96/100\n",
            "26/26 [==============================] - 0s 3ms/step - loss: 379.0334 - mae: 12.1655 - val_loss: 2798.7852 - val_mae: 36.9370\n",
            "Epoch 97/100\n",
            "26/26 [==============================] - 0s 3ms/step - loss: 379.0398 - mae: 12.2126 - val_loss: 2835.1248 - val_mae: 37.2161\n",
            "Epoch 98/100\n",
            "26/26 [==============================] - 0s 3ms/step - loss: 378.8124 - mae: 12.1585 - val_loss: 2869.8396 - val_mae: 37.4863\n",
            "Epoch 99/100\n",
            "26/26 [==============================] - 0s 3ms/step - loss: 378.7183 - mae: 12.1152 - val_loss: 2861.3599 - val_mae: 37.4045\n",
            "Epoch 100/100\n",
            "26/26 [==============================] - 0s 3ms/step - loss: 378.6417 - mae: 12.0826 - val_loss: 2866.6177 - val_mae: 37.4435\n"
          ]
        }
      ]
    },
    {
      "cell_type": "markdown",
      "source": [
        "CNN"
      ],
      "metadata": {
        "id": "Uekkb3dMfVs7"
      }
    },
    {
      "cell_type": "code",
      "source": [
        "i=Input(shape=(T,1))\n",
        "x=Conv1D(25,3,activation='relu')(i)\n",
        "x=MaxPooling1D(2)(x)\n",
        "x=Conv1D(50,3,activation='relu')(x)\n",
        "x=GlobalMaxPooling1D()(x)\n",
        "x=Dense(1)(x)\n",
        "model_cnn=Model(i,x)\n",
        "model_cnn.summary()"
      ],
      "metadata": {
        "colab": {
          "base_uri": "https://localhost:8080/"
        },
        "id": "Lboz32TXfjLR",
        "outputId": "bc7e7c36-10cf-4b29-c8e5-1f377be998fe"
      },
      "execution_count": 377,
      "outputs": [
        {
          "output_type": "stream",
          "name": "stdout",
          "text": [
            "Model: \"model_25\"\n",
            "_________________________________________________________________\n",
            " Layer (type)                Output Shape              Param #   \n",
            "=================================================================\n",
            " input_26 (InputLayer)       [(None, 50, 1)]           0         \n",
            "                                                                 \n",
            " conv1d_12 (Conv1D)          (None, 48, 25)            100       \n",
            "                                                                 \n",
            " max_pooling1d_6 (MaxPooling  (None, 24, 25)           0         \n",
            " 1D)                                                             \n",
            "                                                                 \n",
            " conv1d_13 (Conv1D)          (None, 22, 50)            3800      \n",
            "                                                                 \n",
            " global_max_pooling1d_18 (Gl  (None, 50)               0         \n",
            " obalMaxPooling1D)                                               \n",
            "                                                                 \n",
            " dense_70 (Dense)            (None, 1)                 51        \n",
            "                                                                 \n",
            "=================================================================\n",
            "Total params: 3,951\n",
            "Trainable params: 3,951\n",
            "Non-trainable params: 0\n",
            "_________________________________________________________________\n"
          ]
        }
      ]
    },
    {
      "cell_type": "code",
      "source": [
        "model_cnn.compile(loss='mse',\n",
        "              optimizer='adamax',\n",
        "              metrics=['mae','mse'])"
      ],
      "metadata": {
        "id": "5OpT5ORafjVT"
      },
      "execution_count": 378,
      "outputs": []
    },
    {
      "cell_type": "code",
      "source": [
        "r=model_cnn.fit(\n",
        "    Xtrain,\n",
        "    Ytrain,\n",
        "    epochs=100,\n",
        "    validation_data=(Xtest,Ytest)\n",
        ")"
      ],
      "metadata": {
        "colab": {
          "base_uri": "https://localhost:8080/"
        },
        "id": "mZ9Q3O2vfjf2",
        "outputId": "b74f4d5e-4e9a-4630-f76b-ad81b0bbe74e"
      },
      "execution_count": 379,
      "outputs": [
        {
          "output_type": "stream",
          "name": "stdout",
          "text": [
            "Epoch 1/100\n",
            "26/26 [==============================] - 1s 9ms/step - loss: 617.4607 - mae: 18.8549 - mse: 617.4607 - val_loss: 2626.2893 - val_mae: 35.6521 - val_mse: 2626.2893\n",
            "Epoch 2/100\n",
            "26/26 [==============================] - 0s 5ms/step - loss: 544.8173 - mae: 17.7788 - mse: 544.8173 - val_loss: 2597.5232 - val_mae: 35.3077 - val_mse: 2597.5232\n",
            "Epoch 3/100\n",
            "26/26 [==============================] - 0s 5ms/step - loss: 540.2739 - mae: 17.6762 - mse: 540.2739 - val_loss: 2607.6677 - val_mae: 35.3402 - val_mse: 2607.6677\n",
            "Epoch 4/100\n",
            "26/26 [==============================] - 0s 5ms/step - loss: 535.2455 - mae: 17.5964 - mse: 535.2455 - val_loss: 2612.2822 - val_mae: 35.3109 - val_mse: 2612.2822\n",
            "Epoch 5/100\n",
            "26/26 [==============================] - 0s 6ms/step - loss: 533.5650 - mae: 17.5330 - mse: 533.5650 - val_loss: 2605.6565 - val_mae: 35.2487 - val_mse: 2605.6565\n",
            "Epoch 6/100\n",
            "26/26 [==============================] - 0s 5ms/step - loss: 533.4017 - mae: 17.5648 - mse: 533.4017 - val_loss: 2609.6570 - val_mae: 35.2434 - val_mse: 2609.6570\n",
            "Epoch 7/100\n",
            "26/26 [==============================] - 0s 4ms/step - loss: 528.9556 - mae: 17.4388 - mse: 528.9556 - val_loss: 2639.2690 - val_mae: 35.4171 - val_mse: 2639.2690\n",
            "Epoch 8/100\n",
            "26/26 [==============================] - 0s 4ms/step - loss: 526.8173 - mae: 17.3823 - mse: 526.8173 - val_loss: 2640.3933 - val_mae: 35.4057 - val_mse: 2640.3933\n",
            "Epoch 9/100\n",
            "26/26 [==============================] - 0s 4ms/step - loss: 525.9993 - mae: 17.3885 - mse: 525.9993 - val_loss: 2664.8650 - val_mae: 35.6208 - val_mse: 2664.8650\n",
            "Epoch 10/100\n",
            "26/26 [==============================] - 0s 4ms/step - loss: 524.8405 - mae: 17.4077 - mse: 524.8405 - val_loss: 2626.7400 - val_mae: 35.2805 - val_mse: 2626.7400\n",
            "Epoch 11/100\n",
            "26/26 [==============================] - 0s 5ms/step - loss: 523.0444 - mae: 17.3018 - mse: 523.0444 - val_loss: 2655.6216 - val_mae: 35.4960 - val_mse: 2655.6216\n",
            "Epoch 12/100\n",
            "26/26 [==============================] - 0s 5ms/step - loss: 521.2357 - mae: 17.3014 - mse: 521.2357 - val_loss: 2677.5078 - val_mae: 35.6832 - val_mse: 2677.5078\n",
            "Epoch 13/100\n",
            "26/26 [==============================] - 0s 5ms/step - loss: 520.2744 - mae: 17.3049 - mse: 520.2744 - val_loss: 2659.4568 - val_mae: 35.5137 - val_mse: 2659.4568\n",
            "Epoch 14/100\n",
            "26/26 [==============================] - 0s 5ms/step - loss: 519.4879 - mae: 17.2941 - mse: 519.4879 - val_loss: 2648.1924 - val_mae: 35.3934 - val_mse: 2648.1924\n",
            "Epoch 15/100\n",
            "26/26 [==============================] - 0s 7ms/step - loss: 518.3177 - mae: 17.2678 - mse: 518.3177 - val_loss: 2657.8391 - val_mae: 35.5084 - val_mse: 2657.8391\n",
            "Epoch 16/100\n",
            "26/26 [==============================] - 0s 7ms/step - loss: 516.5738 - mae: 17.2472 - mse: 516.5738 - val_loss: 2666.3181 - val_mae: 35.5562 - val_mse: 2666.3181\n",
            "Epoch 17/100\n",
            "26/26 [==============================] - 0s 6ms/step - loss: 515.2767 - mae: 17.2116 - mse: 515.2767 - val_loss: 2663.8093 - val_mae: 35.5228 - val_mse: 2663.8093\n",
            "Epoch 18/100\n",
            "26/26 [==============================] - 0s 6ms/step - loss: 516.7261 - mae: 17.2130 - mse: 516.7261 - val_loss: 2632.2698 - val_mae: 35.2990 - val_mse: 2632.2698\n",
            "Epoch 19/100\n",
            "26/26 [==============================] - 0s 15ms/step - loss: 513.7726 - mae: 17.1697 - mse: 513.7726 - val_loss: 2699.7488 - val_mae: 35.8284 - val_mse: 2699.7488\n",
            "Epoch 20/100\n",
            "26/26 [==============================] - 0s 16ms/step - loss: 514.0684 - mae: 17.2036 - mse: 514.0684 - val_loss: 2668.3193 - val_mae: 35.6007 - val_mse: 2668.3193\n",
            "Epoch 21/100\n",
            "26/26 [==============================] - 0s 12ms/step - loss: 511.9490 - mae: 17.1611 - mse: 511.9490 - val_loss: 2641.4900 - val_mae: 35.3318 - val_mse: 2641.4900\n",
            "Epoch 22/100\n",
            "26/26 [==============================] - 0s 15ms/step - loss: 510.9693 - mae: 17.1122 - mse: 510.9693 - val_loss: 2674.1165 - val_mae: 35.6061 - val_mse: 2674.1165\n",
            "Epoch 23/100\n",
            "26/26 [==============================] - 1s 25ms/step - loss: 510.8165 - mae: 17.1325 - mse: 510.8165 - val_loss: 2671.8008 - val_mae: 35.5822 - val_mse: 2671.8008\n",
            "Epoch 24/100\n",
            "26/26 [==============================] - 0s 7ms/step - loss: 509.6815 - mae: 17.1371 - mse: 509.6815 - val_loss: 2671.2571 - val_mae: 35.5809 - val_mse: 2671.2571\n",
            "Epoch 25/100\n",
            "26/26 [==============================] - 0s 9ms/step - loss: 511.1710 - mae: 17.2012 - mse: 511.1710 - val_loss: 2648.4607 - val_mae: 35.3916 - val_mse: 2648.4607\n",
            "Epoch 26/100\n",
            "26/26 [==============================] - 0s 7ms/step - loss: 507.7529 - mae: 17.1237 - mse: 507.7529 - val_loss: 2693.4265 - val_mae: 35.7709 - val_mse: 2693.4265\n",
            "Epoch 27/100\n",
            "26/26 [==============================] - 0s 8ms/step - loss: 507.0891 - mae: 17.0698 - mse: 507.0891 - val_loss: 2661.1245 - val_mae: 35.4992 - val_mse: 2661.1245\n",
            "Epoch 28/100\n",
            "26/26 [==============================] - 0s 8ms/step - loss: 507.9438 - mae: 17.0798 - mse: 507.9438 - val_loss: 2685.8762 - val_mae: 35.6743 - val_mse: 2685.8762\n",
            "Epoch 29/100\n",
            "26/26 [==============================] - 0s 6ms/step - loss: 506.3109 - mae: 17.0477 - mse: 506.3109 - val_loss: 2687.6646 - val_mae: 35.6990 - val_mse: 2687.6646\n",
            "Epoch 30/100\n",
            "26/26 [==============================] - 0s 9ms/step - loss: 506.3430 - mae: 17.0777 - mse: 506.3430 - val_loss: 2671.0752 - val_mae: 35.5835 - val_mse: 2671.0752\n",
            "Epoch 31/100\n",
            "26/26 [==============================] - 0s 6ms/step - loss: 513.2472 - mae: 17.1203 - mse: 513.2472 - val_loss: 2763.4016 - val_mae: 36.3871 - val_mse: 2763.4016\n",
            "Epoch 32/100\n",
            "26/26 [==============================] - 0s 6ms/step - loss: 508.9848 - mae: 17.1437 - mse: 508.9848 - val_loss: 2732.8665 - val_mae: 36.1318 - val_mse: 2732.8665\n",
            "Epoch 33/100\n",
            "26/26 [==============================] - 0s 5ms/step - loss: 504.4297 - mae: 17.0717 - mse: 504.4297 - val_loss: 2676.4600 - val_mae: 35.6222 - val_mse: 2676.4600\n",
            "Epoch 34/100\n",
            "26/26 [==============================] - 0s 5ms/step - loss: 503.6534 - mae: 17.0323 - mse: 503.6534 - val_loss: 2694.8462 - val_mae: 35.7895 - val_mse: 2694.8462\n",
            "Epoch 35/100\n",
            "26/26 [==============================] - 0s 7ms/step - loss: 504.1637 - mae: 17.0472 - mse: 504.1637 - val_loss: 2767.9390 - val_mae: 36.4117 - val_mse: 2767.9390\n",
            "Epoch 36/100\n",
            "26/26 [==============================] - 0s 6ms/step - loss: 506.2544 - mae: 17.0509 - mse: 506.2544 - val_loss: 2744.5806 - val_mae: 36.1920 - val_mse: 2744.5806\n",
            "Epoch 37/100\n",
            "26/26 [==============================] - 0s 7ms/step - loss: 502.1390 - mae: 16.9947 - mse: 502.1390 - val_loss: 2673.6848 - val_mae: 35.5793 - val_mse: 2673.6848\n",
            "Epoch 38/100\n",
            "26/26 [==============================] - 0s 11ms/step - loss: 501.4928 - mae: 17.0742 - mse: 501.4928 - val_loss: 2669.9604 - val_mae: 35.5378 - val_mse: 2669.9604\n",
            "Epoch 39/100\n",
            "26/26 [==============================] - 0s 10ms/step - loss: 500.4958 - mae: 16.9998 - mse: 500.4958 - val_loss: 2708.6333 - val_mae: 35.8541 - val_mse: 2708.6333\n",
            "Epoch 40/100\n",
            "26/26 [==============================] - 0s 8ms/step - loss: 499.6635 - mae: 16.9693 - mse: 499.6635 - val_loss: 2754.2720 - val_mae: 36.2542 - val_mse: 2754.2720\n",
            "Epoch 41/100\n",
            "26/26 [==============================] - 0s 5ms/step - loss: 500.0283 - mae: 17.0201 - mse: 500.0283 - val_loss: 2677.2041 - val_mae: 35.5800 - val_mse: 2677.2041\n",
            "Epoch 42/100\n",
            "26/26 [==============================] - 0s 5ms/step - loss: 499.6094 - mae: 16.9559 - mse: 499.6094 - val_loss: 2712.0356 - val_mae: 35.8823 - val_mse: 2712.0356\n",
            "Epoch 43/100\n",
            "26/26 [==============================] - 0s 6ms/step - loss: 498.1800 - mae: 16.9969 - mse: 498.1800 - val_loss: 2651.7183 - val_mae: 35.4107 - val_mse: 2651.7183\n",
            "Epoch 44/100\n",
            "26/26 [==============================] - 0s 5ms/step - loss: 499.1097 - mae: 16.9982 - mse: 499.1097 - val_loss: 2838.6165 - val_mae: 36.9966 - val_mse: 2838.6165\n",
            "Epoch 45/100\n",
            "26/26 [==============================] - 0s 5ms/step - loss: 503.3070 - mae: 16.9971 - mse: 503.3070 - val_loss: 2695.8438 - val_mae: 35.7401 - val_mse: 2695.8438\n",
            "Epoch 46/100\n",
            "26/26 [==============================] - 0s 6ms/step - loss: 498.1958 - mae: 16.9613 - mse: 498.1958 - val_loss: 2723.7542 - val_mae: 35.9690 - val_mse: 2723.7542\n",
            "Epoch 47/100\n",
            "26/26 [==============================] - 0s 5ms/step - loss: 496.5066 - mae: 16.9308 - mse: 496.5066 - val_loss: 2686.0403 - val_mae: 35.6430 - val_mse: 2686.0403\n",
            "Epoch 48/100\n",
            "26/26 [==============================] - 0s 5ms/step - loss: 496.8644 - mae: 16.9721 - mse: 496.8644 - val_loss: 2685.2798 - val_mae: 35.6389 - val_mse: 2685.2798\n",
            "Epoch 49/100\n",
            "26/26 [==============================] - 0s 4ms/step - loss: 496.5461 - mae: 16.9285 - mse: 496.5461 - val_loss: 2755.2505 - val_mae: 36.2344 - val_mse: 2755.2505\n",
            "Epoch 50/100\n",
            "26/26 [==============================] - 0s 7ms/step - loss: 498.9937 - mae: 16.9846 - mse: 498.9937 - val_loss: 2712.7393 - val_mae: 35.8801 - val_mse: 2712.7393\n",
            "Epoch 51/100\n",
            "26/26 [==============================] - 0s 5ms/step - loss: 494.2596 - mae: 16.9196 - mse: 494.2596 - val_loss: 2705.8936 - val_mae: 35.7909 - val_mse: 2705.8936\n",
            "Epoch 52/100\n",
            "26/26 [==============================] - 0s 5ms/step - loss: 494.8182 - mae: 16.8916 - mse: 494.8182 - val_loss: 2870.7944 - val_mae: 37.1621 - val_mse: 2870.7944\n",
            "Epoch 53/100\n",
            "26/26 [==============================] - 0s 6ms/step - loss: 502.9218 - mae: 17.0056 - mse: 502.9218 - val_loss: 2681.7839 - val_mae: 35.5759 - val_mse: 2681.7839\n",
            "Epoch 54/100\n",
            "26/26 [==============================] - 0s 6ms/step - loss: 493.4791 - mae: 16.8639 - mse: 493.4791 - val_loss: 2723.4363 - val_mae: 35.9357 - val_mse: 2723.4363\n",
            "Epoch 55/100\n",
            "26/26 [==============================] - 0s 5ms/step - loss: 492.0688 - mae: 16.8839 - mse: 492.0688 - val_loss: 2793.2573 - val_mae: 36.5281 - val_mse: 2793.2573\n",
            "Epoch 56/100\n",
            "26/26 [==============================] - 0s 5ms/step - loss: 494.1639 - mae: 16.8841 - mse: 494.1639 - val_loss: 2674.6384 - val_mae: 35.5488 - val_mse: 2674.6384\n",
            "Epoch 57/100\n",
            "26/26 [==============================] - 0s 5ms/step - loss: 493.5272 - mae: 16.7985 - mse: 493.5272 - val_loss: 2843.7244 - val_mae: 36.9449 - val_mse: 2843.7244\n",
            "Epoch 58/100\n",
            "26/26 [==============================] - 0s 5ms/step - loss: 493.5562 - mae: 16.9309 - mse: 493.5562 - val_loss: 2756.8777 - val_mae: 36.2316 - val_mse: 2756.8777\n",
            "Epoch 59/100\n",
            "26/26 [==============================] - 0s 5ms/step - loss: 491.2261 - mae: 16.8953 - mse: 491.2261 - val_loss: 2812.4912 - val_mae: 36.6889 - val_mse: 2812.4912\n",
            "Epoch 60/100\n",
            "26/26 [==============================] - 0s 4ms/step - loss: 490.6741 - mae: 16.8695 - mse: 490.6741 - val_loss: 2667.6211 - val_mae: 35.5152 - val_mse: 2667.6211\n",
            "Epoch 61/100\n",
            "26/26 [==============================] - 0s 5ms/step - loss: 490.1254 - mae: 16.8454 - mse: 490.1254 - val_loss: 2809.1648 - val_mae: 36.6531 - val_mse: 2809.1648\n",
            "Epoch 62/100\n",
            "26/26 [==============================] - 0s 5ms/step - loss: 493.0392 - mae: 16.8603 - mse: 493.0392 - val_loss: 2696.0620 - val_mae: 35.6878 - val_mse: 2696.0620\n",
            "Epoch 63/100\n",
            "26/26 [==============================] - 0s 7ms/step - loss: 490.7554 - mae: 16.8564 - mse: 490.7554 - val_loss: 2747.7839 - val_mae: 36.1096 - val_mse: 2747.7839\n",
            "Epoch 64/100\n",
            "26/26 [==============================] - 0s 6ms/step - loss: 488.9480 - mae: 16.8137 - mse: 488.9480 - val_loss: 2780.1216 - val_mae: 36.3410 - val_mse: 2780.1216\n",
            "Epoch 65/100\n",
            "26/26 [==============================] - 0s 7ms/step - loss: 488.7950 - mae: 16.7902 - mse: 488.7950 - val_loss: 2668.6982 - val_mae: 35.5332 - val_mse: 2668.6982\n",
            "Epoch 66/100\n",
            "26/26 [==============================] - 0s 5ms/step - loss: 495.3743 - mae: 16.8902 - mse: 495.3743 - val_loss: 2794.0752 - val_mae: 36.4840 - val_mse: 2794.0752\n",
            "Epoch 67/100\n",
            "26/26 [==============================] - 0s 5ms/step - loss: 487.8296 - mae: 16.8422 - mse: 487.8296 - val_loss: 2739.7507 - val_mae: 36.0792 - val_mse: 2739.7507\n",
            "Epoch 68/100\n",
            "26/26 [==============================] - 0s 4ms/step - loss: 485.8237 - mae: 16.8029 - mse: 485.8237 - val_loss: 2764.5222 - val_mae: 36.2394 - val_mse: 2764.5222\n",
            "Epoch 69/100\n",
            "26/26 [==============================] - 0s 4ms/step - loss: 485.5703 - mae: 16.7755 - mse: 485.5703 - val_loss: 2785.4160 - val_mae: 36.4063 - val_mse: 2785.4160\n",
            "Epoch 70/100\n",
            "26/26 [==============================] - 0s 4ms/step - loss: 488.8724 - mae: 16.8567 - mse: 488.8724 - val_loss: 2680.6013 - val_mae: 35.6114 - val_mse: 2680.6013\n",
            "Epoch 71/100\n",
            "26/26 [==============================] - 0s 6ms/step - loss: 489.1427 - mae: 16.8042 - mse: 489.1427 - val_loss: 2774.4539 - val_mae: 36.3138 - val_mse: 2774.4539\n",
            "Epoch 72/100\n",
            "26/26 [==============================] - 0s 5ms/step - loss: 487.4200 - mae: 16.7827 - mse: 487.4200 - val_loss: 2855.4282 - val_mae: 36.9179 - val_mse: 2855.4282\n",
            "Epoch 73/100\n",
            "26/26 [==============================] - 0s 5ms/step - loss: 483.7229 - mae: 16.7563 - mse: 483.7229 - val_loss: 2727.4624 - val_mae: 35.9017 - val_mse: 2727.4624\n",
            "Epoch 74/100\n",
            "26/26 [==============================] - 0s 5ms/step - loss: 485.8242 - mae: 16.7642 - mse: 485.8242 - val_loss: 2781.9470 - val_mae: 36.3426 - val_mse: 2781.9470\n",
            "Epoch 75/100\n",
            "26/26 [==============================] - 0s 6ms/step - loss: 483.9659 - mae: 16.7909 - mse: 483.9659 - val_loss: 2718.5286 - val_mae: 35.8375 - val_mse: 2718.5286\n",
            "Epoch 76/100\n",
            "26/26 [==============================] - 0s 6ms/step - loss: 482.3957 - mae: 16.7246 - mse: 482.3957 - val_loss: 2868.0591 - val_mae: 37.0488 - val_mse: 2868.0591\n",
            "Epoch 77/100\n",
            "26/26 [==============================] - 0s 9ms/step - loss: 485.6433 - mae: 16.8203 - mse: 485.6433 - val_loss: 2744.5454 - val_mae: 36.0450 - val_mse: 2744.5454\n",
            "Epoch 78/100\n",
            "26/26 [==============================] - 0s 5ms/step - loss: 480.8379 - mae: 16.7235 - mse: 480.8379 - val_loss: 2801.1975 - val_mae: 36.4496 - val_mse: 2801.1975\n",
            "Epoch 79/100\n",
            "26/26 [==============================] - 0s 5ms/step - loss: 482.1037 - mae: 16.7159 - mse: 482.1037 - val_loss: 2798.4646 - val_mae: 36.4238 - val_mse: 2798.4646\n",
            "Epoch 80/100\n",
            "26/26 [==============================] - 0s 5ms/step - loss: 481.8759 - mae: 16.7434 - mse: 481.8759 - val_loss: 2859.4915 - val_mae: 36.9577 - val_mse: 2859.4915\n",
            "Epoch 81/100\n",
            "26/26 [==============================] - 0s 5ms/step - loss: 482.9412 - mae: 16.7467 - mse: 482.9412 - val_loss: 2776.7063 - val_mae: 36.2839 - val_mse: 2776.7063\n",
            "Epoch 82/100\n",
            "26/26 [==============================] - 0s 6ms/step - loss: 479.6541 - mae: 16.7022 - mse: 479.6541 - val_loss: 2777.2344 - val_mae: 36.2856 - val_mse: 2777.2344\n",
            "Epoch 83/100\n",
            "26/26 [==============================] - 0s 6ms/step - loss: 478.5417 - mae: 16.6772 - mse: 478.5417 - val_loss: 2801.0408 - val_mae: 36.4682 - val_mse: 2801.0408\n",
            "Epoch 84/100\n",
            "26/26 [==============================] - 0s 5ms/step - loss: 478.9167 - mae: 16.6545 - mse: 478.9167 - val_loss: 2916.5256 - val_mae: 37.3664 - val_mse: 2916.5256\n",
            "Epoch 85/100\n",
            "26/26 [==============================] - 0s 5ms/step - loss: 479.7560 - mae: 16.7062 - mse: 479.7560 - val_loss: 2814.1558 - val_mae: 36.5382 - val_mse: 2814.1558\n",
            "Epoch 86/100\n",
            "26/26 [==============================] - 0s 5ms/step - loss: 480.8799 - mae: 16.7698 - mse: 480.8799 - val_loss: 2886.2473 - val_mae: 37.1332 - val_mse: 2886.2473\n",
            "Epoch 87/100\n",
            "26/26 [==============================] - 0s 5ms/step - loss: 479.7195 - mae: 16.6789 - mse: 479.7195 - val_loss: 2820.0190 - val_mae: 36.5650 - val_mse: 2820.0190\n",
            "Epoch 88/100\n",
            "26/26 [==============================] - 0s 5ms/step - loss: 478.6042 - mae: 16.6982 - mse: 478.6042 - val_loss: 2865.6150 - val_mae: 36.9578 - val_mse: 2865.6150\n",
            "Epoch 89/100\n",
            "26/26 [==============================] - 0s 4ms/step - loss: 478.7133 - mae: 16.6970 - mse: 478.7133 - val_loss: 2853.7793 - val_mae: 36.8581 - val_mse: 2853.7793\n",
            "Epoch 90/100\n",
            "26/26 [==============================] - 0s 4ms/step - loss: 477.7023 - mae: 16.6716 - mse: 477.7023 - val_loss: 2832.3540 - val_mae: 36.5946 - val_mse: 2832.3540\n",
            "Epoch 91/100\n",
            "26/26 [==============================] - 0s 4ms/step - loss: 478.2986 - mae: 16.6901 - mse: 478.2986 - val_loss: 2866.7878 - val_mae: 36.9029 - val_mse: 2866.7878\n",
            "Epoch 92/100\n",
            "26/26 [==============================] - 0s 5ms/step - loss: 474.6484 - mae: 16.6426 - mse: 474.6484 - val_loss: 2754.8179 - val_mae: 36.0712 - val_mse: 2754.8179\n",
            "Epoch 93/100\n",
            "26/26 [==============================] - 0s 6ms/step - loss: 482.0401 - mae: 16.7710 - mse: 482.0401 - val_loss: 2800.9788 - val_mae: 36.4208 - val_mse: 2800.9788\n",
            "Epoch 94/100\n",
            "26/26 [==============================] - 0s 5ms/step - loss: 475.9950 - mae: 16.6332 - mse: 475.9950 - val_loss: 2903.1531 - val_mae: 37.2245 - val_mse: 2903.1531\n",
            "Epoch 95/100\n",
            "26/26 [==============================] - 0s 5ms/step - loss: 472.3104 - mae: 16.5875 - mse: 472.3104 - val_loss: 2768.2966 - val_mae: 36.1621 - val_mse: 2768.2966\n",
            "Epoch 96/100\n",
            "26/26 [==============================] - 0s 5ms/step - loss: 478.5423 - mae: 16.7208 - mse: 478.5423 - val_loss: 2976.1179 - val_mae: 37.7332 - val_mse: 2976.1179\n",
            "Epoch 97/100\n",
            "26/26 [==============================] - 0s 5ms/step - loss: 472.2192 - mae: 16.6263 - mse: 472.2192 - val_loss: 2831.4231 - val_mae: 36.6024 - val_mse: 2831.4231\n",
            "Epoch 98/100\n",
            "26/26 [==============================] - 0s 5ms/step - loss: 473.1741 - mae: 16.6286 - mse: 473.1741 - val_loss: 2982.1045 - val_mae: 37.8056 - val_mse: 2982.1045\n",
            "Epoch 99/100\n",
            "26/26 [==============================] - 0s 5ms/step - loss: 475.7258 - mae: 16.5853 - mse: 475.7258 - val_loss: 2836.8113 - val_mae: 36.7004 - val_mse: 2836.8113\n",
            "Epoch 100/100\n",
            "26/26 [==============================] - 0s 4ms/step - loss: 473.9186 - mae: 16.6323 - mse: 473.9186 - val_loss: 2747.6079 - val_mae: 36.0242 - val_mse: 2747.6079\n"
          ]
        }
      ]
    },
    {
      "cell_type": "markdown",
      "source": [
        "LSTM"
      ],
      "metadata": {
        "id": "M-I1WeJ7gOl3"
      }
    },
    {
      "cell_type": "code",
      "source": [
        "i=Input(shape=(T,1))\n",
        "x=LSTM(200,return_sequences=True)(i)\n",
        "x=LSTM(200,return_sequences=True)(x)\n",
        "x=GlobalMaxPooling1D()(x)\n",
        "x=Dense(100)(x)\n",
        "x=Dense(50)(x)\n",
        "x=Dense(1)(x)\n",
        "model_lstm=Model(i,x)\n",
        "model_lstm.summary()"
      ],
      "metadata": {
        "colab": {
          "base_uri": "https://localhost:8080/"
        },
        "id": "zsJnKRlwhvmv",
        "outputId": "7c53df87-7e6f-45a3-f587-cdec7ede90a2"
      },
      "execution_count": 380,
      "outputs": [
        {
          "output_type": "stream",
          "name": "stdout",
          "text": [
            "Model: \"model_26\"\n",
            "_________________________________________________________________\n",
            " Layer (type)                Output Shape              Param #   \n",
            "=================================================================\n",
            " input_27 (InputLayer)       [(None, 50, 1)]           0         \n",
            "                                                                 \n",
            " lstm_12 (LSTM)              (None, 50, 200)           161600    \n",
            "                                                                 \n",
            " lstm_13 (LSTM)              (None, 50, 200)           320800    \n",
            "                                                                 \n",
            " global_max_pooling1d_19 (Gl  (None, 200)              0         \n",
            " obalMaxPooling1D)                                               \n",
            "                                                                 \n",
            " dense_71 (Dense)            (None, 100)               20100     \n",
            "                                                                 \n",
            " dense_72 (Dense)            (None, 50)                5050      \n",
            "                                                                 \n",
            " dense_73 (Dense)            (None, 1)                 51        \n",
            "                                                                 \n",
            "=================================================================\n",
            "Total params: 507,601\n",
            "Trainable params: 507,601\n",
            "Non-trainable params: 0\n",
            "_________________________________________________________________\n"
          ]
        }
      ]
    },
    {
      "cell_type": "code",
      "source": [
        "check_point_lstm=ModelCheckpoint('best_model.h5',monitor='val_loss',save_best_only=True)"
      ],
      "metadata": {
        "id": "uN9QDfEohvs-"
      },
      "execution_count": 381,
      "outputs": []
    },
    {
      "cell_type": "code",
      "source": [
        "model_lstm.compile(loss='mse',\n",
        "              optimizer='adamax',\n",
        "              metrics=['mae','mse'])"
      ],
      "metadata": {
        "id": "MwYBTZ7Uhv4I"
      },
      "execution_count": 382,
      "outputs": []
    },
    {
      "cell_type": "code",
      "source": [
        "r=model_lstm.fit(\n",
        "    Xtrain,\n",
        "    Ytrain,\n",
        "    epochs=100,\n",
        "    validation_data=(Xtest,Ytest),\n",
        "    callbacks=[check_point_lstm]\n",
        ")"
      ],
      "metadata": {
        "colab": {
          "base_uri": "https://localhost:8080/"
        },
        "id": "hucIsLiBiOQ3",
        "outputId": "10ece34c-7705-4dbe-df9d-c84ad9e83845"
      },
      "execution_count": 383,
      "outputs": [
        {
          "output_type": "stream",
          "name": "stdout",
          "text": [
            "Epoch 1/100\n",
            "26/26 [==============================] - 9s 216ms/step - loss: 543.4900 - mae: 17.6485 - mse: 543.4900 - val_loss: 2515.5520 - val_mae: 34.4847 - val_mse: 2515.5520\n",
            "Epoch 2/100\n",
            "26/26 [==============================] - 5s 180ms/step - loss: 542.3990 - mae: 17.6196 - mse: 542.3990 - val_loss: 2515.2268 - val_mae: 34.4653 - val_mse: 2515.2268\n",
            "Epoch 3/100\n",
            "26/26 [==============================] - 5s 186ms/step - loss: 541.5025 - mae: 17.6198 - mse: 541.5025 - val_loss: 2514.8057 - val_mae: 34.4609 - val_mse: 2514.8057\n",
            "Epoch 4/100\n",
            "26/26 [==============================] - 5s 193ms/step - loss: 540.6500 - mae: 17.6150 - mse: 540.6500 - val_loss: 2514.5542 - val_mae: 34.4431 - val_mse: 2514.5542\n",
            "Epoch 5/100\n",
            "26/26 [==============================] - 5s 186ms/step - loss: 540.7469 - mae: 17.6215 - mse: 540.7469 - val_loss: 2513.2166 - val_mae: 34.4417 - val_mse: 2513.2166\n",
            "Epoch 6/100\n",
            "26/26 [==============================] - 5s 183ms/step - loss: 541.0989 - mae: 17.6385 - mse: 541.0989 - val_loss: 2514.3328 - val_mae: 34.4456 - val_mse: 2514.3328\n",
            "Epoch 7/100\n",
            "26/26 [==============================] - 5s 183ms/step - loss: 538.8647 - mae: 17.5803 - mse: 538.8647 - val_loss: 2513.6221 - val_mae: 34.4169 - val_mse: 2513.6221\n",
            "Epoch 8/100\n",
            "26/26 [==============================] - 4s 171ms/step - loss: 538.2231 - mae: 17.5719 - mse: 538.2231 - val_loss: 2514.1047 - val_mae: 34.4327 - val_mse: 2514.1047\n",
            "Epoch 9/100\n",
            "26/26 [==============================] - 5s 178ms/step - loss: 537.4067 - mae: 17.5562 - mse: 537.4067 - val_loss: 2514.9502 - val_mae: 34.4040 - val_mse: 2514.9502\n",
            "Epoch 10/100\n",
            "26/26 [==============================] - 4s 171ms/step - loss: 535.9602 - mae: 17.5769 - mse: 535.9602 - val_loss: 2515.1292 - val_mae: 34.4514 - val_mse: 2515.1292\n",
            "Epoch 11/100\n",
            "26/26 [==============================] - 4s 168ms/step - loss: 534.4250 - mae: 17.4965 - mse: 534.4250 - val_loss: 2515.8235 - val_mae: 34.4459 - val_mse: 2515.8235\n",
            "Epoch 12/100\n",
            "26/26 [==============================] - 4s 170ms/step - loss: 532.6296 - mae: 17.4943 - mse: 532.6296 - val_loss: 2519.5652 - val_mae: 34.4191 - val_mse: 2519.5652\n",
            "Epoch 13/100\n",
            "26/26 [==============================] - 4s 171ms/step - loss: 530.5031 - mae: 17.4791 - mse: 530.5031 - val_loss: 2520.4817 - val_mae: 34.4159 - val_mse: 2520.4817\n",
            "Epoch 14/100\n",
            "26/26 [==============================] - 4s 165ms/step - loss: 527.4015 - mae: 17.4558 - mse: 527.4015 - val_loss: 2523.4607 - val_mae: 34.5538 - val_mse: 2523.4607\n",
            "Epoch 15/100\n",
            "26/26 [==============================] - 4s 167ms/step - loss: 526.5495 - mae: 17.3480 - mse: 526.5495 - val_loss: 2528.4937 - val_mae: 34.5739 - val_mse: 2528.4937\n",
            "Epoch 16/100\n",
            "26/26 [==============================] - 4s 168ms/step - loss: 521.2433 - mae: 17.3254 - mse: 521.2433 - val_loss: 2521.0105 - val_mae: 34.4602 - val_mse: 2521.0105\n",
            "Epoch 17/100\n",
            "26/26 [==============================] - 4s 166ms/step - loss: 517.2313 - mae: 17.3073 - mse: 517.2313 - val_loss: 2530.2466 - val_mae: 34.5977 - val_mse: 2530.2466\n",
            "Epoch 18/100\n",
            "26/26 [==============================] - 4s 167ms/step - loss: 516.4789 - mae: 17.2083 - mse: 516.4789 - val_loss: 2532.3999 - val_mae: 34.6226 - val_mse: 2532.3999\n",
            "Epoch 19/100\n",
            "26/26 [==============================] - 4s 168ms/step - loss: 512.2498 - mae: 17.2260 - mse: 512.2498 - val_loss: 2539.8459 - val_mae: 34.6709 - val_mse: 2539.8459\n",
            "Epoch 20/100\n",
            "26/26 [==============================] - 4s 170ms/step - loss: 508.6057 - mae: 17.1783 - mse: 508.6057 - val_loss: 2545.5330 - val_mae: 34.6477 - val_mse: 2545.5330\n",
            "Epoch 21/100\n",
            "26/26 [==============================] - 4s 166ms/step - loss: 504.6219 - mae: 17.0562 - mse: 504.6219 - val_loss: 2550.0049 - val_mae: 34.7393 - val_mse: 2550.0049\n",
            "Epoch 22/100\n",
            "26/26 [==============================] - 4s 167ms/step - loss: 499.4755 - mae: 17.0175 - mse: 499.4755 - val_loss: 2553.8777 - val_mae: 34.8815 - val_mse: 2553.8777\n",
            "Epoch 23/100\n",
            "26/26 [==============================] - 4s 168ms/step - loss: 501.2449 - mae: 17.0384 - mse: 501.2449 - val_loss: 2560.1890 - val_mae: 34.6898 - val_mse: 2560.1890\n",
            "Epoch 24/100\n",
            "26/26 [==============================] - 4s 170ms/step - loss: 501.8453 - mae: 17.0822 - mse: 501.8453 - val_loss: 2557.9883 - val_mae: 34.8346 - val_mse: 2557.9883\n",
            "Epoch 25/100\n",
            "26/26 [==============================] - 4s 169ms/step - loss: 494.0363 - mae: 16.9553 - mse: 494.0363 - val_loss: 2570.3806 - val_mae: 34.9902 - val_mse: 2570.3806\n",
            "Epoch 26/100\n",
            "26/26 [==============================] - 4s 168ms/step - loss: 485.4850 - mae: 16.8039 - mse: 485.4850 - val_loss: 2567.3530 - val_mae: 34.9721 - val_mse: 2567.3530\n",
            "Epoch 27/100\n",
            "26/26 [==============================] - 4s 169ms/step - loss: 479.2137 - mae: 16.7037 - mse: 479.2137 - val_loss: 2587.6411 - val_mae: 35.2680 - val_mse: 2587.6411\n",
            "Epoch 28/100\n",
            "26/26 [==============================] - 4s 170ms/step - loss: 476.2992 - mae: 16.6434 - mse: 476.2992 - val_loss: 2587.7708 - val_mae: 35.2126 - val_mse: 2587.7708\n",
            "Epoch 29/100\n",
            "26/26 [==============================] - 4s 169ms/step - loss: 475.4094 - mae: 16.6802 - mse: 475.4094 - val_loss: 2618.5220 - val_mae: 35.1581 - val_mse: 2618.5220\n",
            "Epoch 30/100\n",
            "26/26 [==============================] - 4s 168ms/step - loss: 475.4008 - mae: 16.8472 - mse: 475.4008 - val_loss: 2600.0867 - val_mae: 35.4759 - val_mse: 2600.0867\n",
            "Epoch 31/100\n",
            "26/26 [==============================] - 4s 169ms/step - loss: 470.8686 - mae: 16.6484 - mse: 470.8686 - val_loss: 2610.3381 - val_mae: 35.6352 - val_mse: 2610.3381\n",
            "Epoch 32/100\n",
            "26/26 [==============================] - 4s 169ms/step - loss: 457.0187 - mae: 16.2613 - mse: 457.0187 - val_loss: 2603.5876 - val_mae: 35.2042 - val_mse: 2603.5876\n",
            "Epoch 33/100\n",
            "26/26 [==============================] - 4s 168ms/step - loss: 446.3389 - mae: 16.1036 - mse: 446.3389 - val_loss: 2608.2529 - val_mae: 35.2638 - val_mse: 2608.2529\n",
            "Epoch 34/100\n",
            "26/26 [==============================] - 4s 168ms/step - loss: 440.0743 - mae: 16.0361 - mse: 440.0743 - val_loss: 2619.9417 - val_mae: 35.5475 - val_mse: 2619.9417\n",
            "Epoch 35/100\n",
            "26/26 [==============================] - 4s 168ms/step - loss: 437.6968 - mae: 15.9348 - mse: 437.6968 - val_loss: 2639.4272 - val_mae: 35.4961 - val_mse: 2639.4272\n",
            "Epoch 36/100\n",
            "26/26 [==============================] - 4s 169ms/step - loss: 441.7327 - mae: 15.9784 - mse: 441.7327 - val_loss: 2654.1951 - val_mae: 35.9789 - val_mse: 2654.1951\n",
            "Epoch 37/100\n",
            "26/26 [==============================] - 4s 167ms/step - loss: 419.6741 - mae: 15.5090 - mse: 419.6741 - val_loss: 2667.3171 - val_mae: 35.7327 - val_mse: 2667.3171\n",
            "Epoch 38/100\n",
            "26/26 [==============================] - 4s 169ms/step - loss: 427.4396 - mae: 15.7872 - mse: 427.4396 - val_loss: 2680.4265 - val_mae: 36.4491 - val_mse: 2680.4265\n",
            "Epoch 39/100\n",
            "26/26 [==============================] - 4s 169ms/step - loss: 413.7899 - mae: 15.5023 - mse: 413.7899 - val_loss: 2668.1519 - val_mae: 35.7352 - val_mse: 2668.1519\n",
            "Epoch 40/100\n",
            "26/26 [==============================] - 4s 167ms/step - loss: 397.8563 - mae: 15.1757 - mse: 397.8563 - val_loss: 2686.8074 - val_mae: 36.1808 - val_mse: 2686.8074\n",
            "Epoch 41/100\n",
            "26/26 [==============================] - 4s 168ms/step - loss: 401.2846 - mae: 15.2580 - mse: 401.2846 - val_loss: 2676.4746 - val_mae: 36.2454 - val_mse: 2676.4746\n",
            "Epoch 42/100\n",
            "26/26 [==============================] - 4s 169ms/step - loss: 405.6248 - mae: 15.3037 - mse: 405.6248 - val_loss: 2700.4224 - val_mae: 36.4195 - val_mse: 2700.4224\n",
            "Epoch 43/100\n",
            "26/26 [==============================] - 4s 167ms/step - loss: 383.3944 - mae: 14.9667 - mse: 383.3944 - val_loss: 2754.4246 - val_mae: 37.3966 - val_mse: 2754.4246\n",
            "Epoch 44/100\n",
            "26/26 [==============================] - 4s 167ms/step - loss: 396.7443 - mae: 15.0280 - mse: 396.7443 - val_loss: 2702.1470 - val_mae: 36.6008 - val_mse: 2702.1470\n",
            "Epoch 45/100\n",
            "26/26 [==============================] - 4s 164ms/step - loss: 369.2881 - mae: 14.6586 - mse: 369.2881 - val_loss: 2724.4861 - val_mae: 36.6299 - val_mse: 2724.4861\n",
            "Epoch 46/100\n",
            "26/26 [==============================] - 4s 168ms/step - loss: 385.0138 - mae: 14.9792 - mse: 385.0138 - val_loss: 2723.9841 - val_mae: 36.5788 - val_mse: 2723.9841\n",
            "Epoch 47/100\n",
            "26/26 [==============================] - 4s 169ms/step - loss: 384.1900 - mae: 14.9652 - mse: 384.1900 - val_loss: 2707.2449 - val_mae: 36.1824 - val_mse: 2707.2449\n",
            "Epoch 48/100\n",
            "26/26 [==============================] - 4s 172ms/step - loss: 349.0598 - mae: 14.2020 - mse: 349.0598 - val_loss: 2716.3376 - val_mae: 36.5203 - val_mse: 2716.3376\n",
            "Epoch 49/100\n",
            "26/26 [==============================] - 4s 173ms/step - loss: 353.0520 - mae: 14.3136 - mse: 353.0520 - val_loss: 2726.5530 - val_mae: 36.5382 - val_mse: 2726.5530\n",
            "Epoch 50/100\n",
            "26/26 [==============================] - 4s 171ms/step - loss: 339.9467 - mae: 13.9653 - mse: 339.9467 - val_loss: 2743.1477 - val_mae: 36.8943 - val_mse: 2743.1477\n",
            "Epoch 51/100\n",
            "26/26 [==============================] - 4s 168ms/step - loss: 316.6678 - mae: 13.5280 - mse: 316.6678 - val_loss: 2772.0247 - val_mae: 37.3743 - val_mse: 2772.0247\n",
            "Epoch 52/100\n",
            "26/26 [==============================] - 4s 171ms/step - loss: 325.0303 - mae: 13.6277 - mse: 325.0303 - val_loss: 2790.9824 - val_mae: 37.5449 - val_mse: 2790.9824\n",
            "Epoch 53/100\n",
            "26/26 [==============================] - 4s 171ms/step - loss: 318.3895 - mae: 13.5279 - mse: 318.3895 - val_loss: 2814.2034 - val_mae: 37.7753 - val_mse: 2814.2034\n",
            "Epoch 54/100\n",
            "26/26 [==============================] - 4s 169ms/step - loss: 305.1670 - mae: 13.3228 - mse: 305.1670 - val_loss: 2826.6775 - val_mae: 37.8191 - val_mse: 2826.6775\n",
            "Epoch 55/100\n",
            "26/26 [==============================] - 4s 170ms/step - loss: 280.6482 - mae: 12.7047 - mse: 280.6482 - val_loss: 2811.0964 - val_mae: 37.9543 - val_mse: 2811.0964\n",
            "Epoch 56/100\n",
            "26/26 [==============================] - 4s 169ms/step - loss: 310.3636 - mae: 13.3906 - mse: 310.3636 - val_loss: 2838.8228 - val_mae: 38.3623 - val_mse: 2838.8228\n",
            "Epoch 57/100\n",
            "26/26 [==============================] - 4s 170ms/step - loss: 308.5739 - mae: 13.4788 - mse: 308.5739 - val_loss: 2835.4333 - val_mae: 38.0373 - val_mse: 2835.4333\n",
            "Epoch 58/100\n",
            "26/26 [==============================] - 4s 169ms/step - loss: 292.6536 - mae: 12.9549 - mse: 292.6536 - val_loss: 2848.4282 - val_mae: 37.9836 - val_mse: 2848.4282\n",
            "Epoch 59/100\n",
            "26/26 [==============================] - 4s 170ms/step - loss: 270.9336 - mae: 12.2486 - mse: 270.9336 - val_loss: 2840.1243 - val_mae: 38.2407 - val_mse: 2840.1243\n",
            "Epoch 60/100\n",
            "26/26 [==============================] - 4s 169ms/step - loss: 263.4508 - mae: 12.4066 - mse: 263.4508 - val_loss: 2879.5869 - val_mae: 38.6205 - val_mse: 2879.5869\n",
            "Epoch 61/100\n",
            "26/26 [==============================] - 4s 171ms/step - loss: 253.9312 - mae: 12.0769 - mse: 253.9312 - val_loss: 2925.4319 - val_mae: 39.0180 - val_mse: 2925.4319\n",
            "Epoch 62/100\n",
            "26/26 [==============================] - 4s 169ms/step - loss: 245.6455 - mae: 11.9571 - mse: 245.6455 - val_loss: 2909.1677 - val_mae: 38.8196 - val_mse: 2909.1677\n",
            "Epoch 63/100\n",
            "26/26 [==============================] - 4s 166ms/step - loss: 224.6551 - mae: 11.1328 - mse: 224.6551 - val_loss: 2918.6479 - val_mae: 38.8817 - val_mse: 2918.6479\n",
            "Epoch 64/100\n",
            "26/26 [==============================] - 4s 172ms/step - loss: 216.7174 - mae: 10.9732 - mse: 216.7174 - val_loss: 2977.2783 - val_mae: 39.3853 - val_mse: 2977.2783\n",
            "Epoch 65/100\n",
            "26/26 [==============================] - 5s 175ms/step - loss: 220.3198 - mae: 11.2533 - mse: 220.3198 - val_loss: 2949.1335 - val_mae: 38.9800 - val_mse: 2949.1335\n",
            "Epoch 66/100\n",
            "26/26 [==============================] - 4s 172ms/step - loss: 205.8110 - mae: 10.7490 - mse: 205.8110 - val_loss: 2995.1265 - val_mae: 39.9039 - val_mse: 2995.1265\n",
            "Epoch 67/100\n",
            "26/26 [==============================] - 4s 172ms/step - loss: 203.1503 - mae: 10.5952 - mse: 203.1503 - val_loss: 3027.6851 - val_mae: 39.8120 - val_mse: 3027.6851\n",
            "Epoch 68/100\n",
            "26/26 [==============================] - 5s 174ms/step - loss: 201.8362 - mae: 10.7207 - mse: 201.8362 - val_loss: 2974.4077 - val_mae: 39.4030 - val_mse: 2974.4077\n",
            "Epoch 69/100\n",
            "26/26 [==============================] - 5s 174ms/step - loss: 184.2703 - mae: 10.0678 - mse: 184.2703 - val_loss: 3009.4780 - val_mae: 39.6175 - val_mse: 3009.4780\n",
            "Epoch 70/100\n",
            "26/26 [==============================] - 5s 177ms/step - loss: 199.8809 - mae: 10.4203 - mse: 199.8809 - val_loss: 3026.1799 - val_mae: 39.9801 - val_mse: 3026.1799\n",
            "Epoch 71/100\n",
            "26/26 [==============================] - 4s 171ms/step - loss: 187.9649 - mae: 10.2449 - mse: 187.9649 - val_loss: 3043.2766 - val_mae: 39.8745 - val_mse: 3043.2766\n",
            "Epoch 72/100\n",
            "26/26 [==============================] - 4s 173ms/step - loss: 175.8856 - mae: 9.8247 - mse: 175.8856 - val_loss: 3081.5051 - val_mae: 40.3692 - val_mse: 3081.5051\n",
            "Epoch 73/100\n",
            "26/26 [==============================] - 4s 170ms/step - loss: 175.0900 - mae: 9.8173 - mse: 175.0900 - val_loss: 3065.6111 - val_mae: 40.5535 - val_mse: 3065.6111\n",
            "Epoch 74/100\n",
            "26/26 [==============================] - 4s 174ms/step - loss: 169.0733 - mae: 9.5490 - mse: 169.0733 - val_loss: 3099.0320 - val_mae: 40.7458 - val_mse: 3099.0320\n",
            "Epoch 75/100\n",
            "26/26 [==============================] - 4s 171ms/step - loss: 153.9889 - mae: 9.1241 - mse: 153.9889 - val_loss: 3114.6311 - val_mae: 40.9830 - val_mse: 3114.6311\n",
            "Epoch 76/100\n",
            "26/26 [==============================] - 4s 168ms/step - loss: 145.9295 - mae: 8.7972 - mse: 145.9295 - val_loss: 3106.4258 - val_mae: 40.4491 - val_mse: 3106.4258\n",
            "Epoch 77/100\n",
            "26/26 [==============================] - 4s 168ms/step - loss: 149.4897 - mae: 8.8576 - mse: 149.4897 - val_loss: 3163.7729 - val_mae: 41.2577 - val_mse: 3163.7729\n",
            "Epoch 78/100\n",
            "26/26 [==============================] - 4s 170ms/step - loss: 152.0117 - mae: 9.1122 - mse: 152.0117 - val_loss: 3141.9514 - val_mae: 40.9269 - val_mse: 3141.9514\n",
            "Epoch 79/100\n",
            "26/26 [==============================] - 4s 173ms/step - loss: 146.3744 - mae: 8.8518 - mse: 146.3744 - val_loss: 3139.3296 - val_mae: 41.1037 - val_mse: 3139.3296\n",
            "Epoch 80/100\n",
            "26/26 [==============================] - 4s 169ms/step - loss: 139.2534 - mae: 8.6182 - mse: 139.2534 - val_loss: 3145.2393 - val_mae: 41.1737 - val_mse: 3145.2393\n",
            "Epoch 81/100\n",
            "26/26 [==============================] - 4s 171ms/step - loss: 136.7956 - mae: 8.4612 - mse: 136.7956 - val_loss: 3207.4080 - val_mae: 41.7768 - val_mse: 3207.4080\n",
            "Epoch 82/100\n",
            "26/26 [==============================] - 4s 173ms/step - loss: 117.8091 - mae: 7.6645 - mse: 117.8091 - val_loss: 3164.9785 - val_mae: 41.1191 - val_mse: 3164.9785\n",
            "Epoch 83/100\n",
            "26/26 [==============================] - 5s 177ms/step - loss: 112.7917 - mae: 7.6523 - mse: 112.7917 - val_loss: 3187.0591 - val_mae: 41.6336 - val_mse: 3187.0591\n",
            "Epoch 84/100\n",
            "26/26 [==============================] - 4s 171ms/step - loss: 111.6323 - mae: 7.3574 - mse: 111.6323 - val_loss: 3220.4023 - val_mae: 42.1326 - val_mse: 3220.4023\n",
            "Epoch 85/100\n",
            "26/26 [==============================] - 4s 174ms/step - loss: 109.8672 - mae: 7.5090 - mse: 109.8672 - val_loss: 3239.8875 - val_mae: 42.1290 - val_mse: 3239.8875\n",
            "Epoch 86/100\n",
            "26/26 [==============================] - 4s 171ms/step - loss: 120.3974 - mae: 7.8109 - mse: 120.3974 - val_loss: 3181.6348 - val_mae: 41.4757 - val_mse: 3181.6348\n",
            "Epoch 87/100\n",
            "26/26 [==============================] - 4s 168ms/step - loss: 138.0250 - mae: 8.3700 - mse: 138.0250 - val_loss: 3225.9370 - val_mae: 42.1234 - val_mse: 3225.9370\n",
            "Epoch 88/100\n",
            "26/26 [==============================] - 4s 171ms/step - loss: 110.2090 - mae: 7.7878 - mse: 110.2090 - val_loss: 3209.4727 - val_mae: 41.6913 - val_mse: 3209.4727\n",
            "Epoch 89/100\n",
            "26/26 [==============================] - 4s 171ms/step - loss: 120.7317 - mae: 8.1007 - mse: 120.7317 - val_loss: 3254.4539 - val_mae: 42.1587 - val_mse: 3254.4539\n",
            "Epoch 90/100\n",
            "26/26 [==============================] - 4s 168ms/step - loss: 100.3683 - mae: 7.1160 - mse: 100.3683 - val_loss: 3304.4319 - val_mae: 42.7949 - val_mse: 3304.4319\n",
            "Epoch 91/100\n",
            "26/26 [==============================] - 4s 169ms/step - loss: 114.5989 - mae: 7.7525 - mse: 114.5989 - val_loss: 3265.1226 - val_mae: 42.1712 - val_mse: 3265.1226\n",
            "Epoch 92/100\n",
            "26/26 [==============================] - 4s 167ms/step - loss: 115.2011 - mae: 7.6470 - mse: 115.2011 - val_loss: 3227.4985 - val_mae: 41.7150 - val_mse: 3227.4985\n",
            "Epoch 93/100\n",
            "26/26 [==============================] - 4s 165ms/step - loss: 93.0669 - mae: 6.7589 - mse: 93.0669 - val_loss: 3302.9893 - val_mae: 42.1700 - val_mse: 3302.9893\n",
            "Epoch 94/100\n",
            "26/26 [==============================] - 4s 172ms/step - loss: 83.2470 - mae: 6.4079 - mse: 83.2470 - val_loss: 3277.2520 - val_mae: 42.3116 - val_mse: 3277.2520\n",
            "Epoch 95/100\n",
            "26/26 [==============================] - 4s 173ms/step - loss: 81.7582 - mae: 6.2603 - mse: 81.7582 - val_loss: 3223.0779 - val_mae: 42.1537 - val_mse: 3223.0779\n",
            "Epoch 96/100\n",
            "26/26 [==============================] - 4s 172ms/step - loss: 83.4078 - mae: 6.2129 - mse: 83.4078 - val_loss: 3282.4104 - val_mae: 42.3265 - val_mse: 3282.4104\n",
            "Epoch 97/100\n",
            "26/26 [==============================] - 4s 171ms/step - loss: 86.2617 - mae: 6.1959 - mse: 86.2617 - val_loss: 3249.0051 - val_mae: 41.7162 - val_mse: 3249.0051\n",
            "Epoch 98/100\n",
            "26/26 [==============================] - 4s 172ms/step - loss: 75.1371 - mae: 5.8735 - mse: 75.1371 - val_loss: 3288.1101 - val_mae: 42.3279 - val_mse: 3288.1101\n",
            "Epoch 99/100\n",
            "26/26 [==============================] - 4s 172ms/step - loss: 79.3403 - mae: 6.0711 - mse: 79.3403 - val_loss: 3288.9231 - val_mae: 42.3014 - val_mse: 3288.9231\n",
            "Epoch 100/100\n",
            "26/26 [==============================] - 4s 172ms/step - loss: 87.4188 - mae: 6.5730 - mse: 87.4188 - val_loss: 3288.7205 - val_mae: 42.3339 - val_mse: 3288.7205\n"
          ]
        }
      ]
    },
    {
      "cell_type": "markdown",
      "source": [
        "GRU"
      ],
      "metadata": {
        "id": "kHh0g_qPm_bm"
      }
    },
    {
      "cell_type": "code",
      "source": [
        "i=Input(shape=(T,1))\n",
        "x=GRU(200,return_sequences=True)(i)\n",
        "x=GRU(200,return_sequences=True)(x)\n",
        "x=GlobalMaxPooling1D()(x)\n",
        "x=Dense(100)(x)\n",
        "x=Dense(50)(x)\n",
        "x=Dense(1)(x)\n",
        "model_gru=Model(i,x)\n",
        "model_gru.summary"
      ],
      "metadata": {
        "colab": {
          "base_uri": "https://localhost:8080/"
        },
        "id": "H4llpd_HnCsP",
        "outputId": "6b9052d9-5e70-4062-a3c0-3bb592ac649f"
      },
      "execution_count": 384,
      "outputs": [
        {
          "output_type": "execute_result",
          "data": {
            "text/plain": [
              "<bound method Model.summary of <keras.engine.functional.Functional object at 0x7fe988352310>>"
            ]
          },
          "metadata": {},
          "execution_count": 384
        }
      ]
    },
    {
      "cell_type": "code",
      "source": [
        "check_point_gru=ModelCheckpoint('best_model.h5',monitor='val_loss',save_best_only=True)"
      ],
      "metadata": {
        "id": "J4ilpuAHnCxN"
      },
      "execution_count": 385,
      "outputs": []
    },
    {
      "cell_type": "code",
      "source": [
        "model_gru.compile(loss='mse',\n",
        "              optimizer='adamax',\n",
        "              metrics=['mae','mse'])"
      ],
      "metadata": {
        "id": "KE1MOiZknC6g"
      },
      "execution_count": 386,
      "outputs": []
    },
    {
      "cell_type": "code",
      "source": [
        "r=model_gru.fit(\n",
        "    Xtrain,\n",
        "    Ytrain,\n",
        "    epochs=100,\n",
        "    validation_data=(Xtest,Ytest),\n",
        "    callbacks=[check_point_gru]\n",
        ")"
      ],
      "metadata": {
        "colab": {
          "base_uri": "https://localhost:8080/"
        },
        "id": "nfam1HSPnWSf",
        "outputId": "583a9b7b-c5bd-4614-e8ab-dd18b5e6be87"
      },
      "execution_count": 387,
      "outputs": [
        {
          "output_type": "stream",
          "name": "stdout",
          "text": [
            "Epoch 1/100\n",
            "26/26 [==============================] - 8s 200ms/step - loss: 545.3457 - mae: 17.6494 - mse: 545.3457 - val_loss: 2517.5891 - val_mae: 34.4949 - val_mse: 2517.5891\n",
            "Epoch 2/100\n",
            "26/26 [==============================] - 4s 150ms/step - loss: 542.7100 - mae: 17.6143 - mse: 542.7100 - val_loss: 2517.4683 - val_mae: 34.4896 - val_mse: 2517.4683\n",
            "Epoch 3/100\n",
            "26/26 [==============================] - 4s 147ms/step - loss: 542.7736 - mae: 17.6274 - mse: 542.7736 - val_loss: 2516.8997 - val_mae: 34.4781 - val_mse: 2516.8997\n",
            "Epoch 4/100\n",
            "26/26 [==============================] - 4s 145ms/step - loss: 540.3611 - mae: 17.6131 - mse: 540.3611 - val_loss: 2517.3318 - val_mae: 34.4672 - val_mse: 2517.3318\n",
            "Epoch 5/100\n",
            "26/26 [==============================] - 4s 145ms/step - loss: 540.3723 - mae: 17.6155 - mse: 540.3723 - val_loss: 2516.9517 - val_mae: 34.4625 - val_mse: 2516.9517\n",
            "Epoch 6/100\n",
            "26/26 [==============================] - 4s 147ms/step - loss: 541.3318 - mae: 17.6621 - mse: 541.3318 - val_loss: 2518.4695 - val_mae: 34.4845 - val_mse: 2518.4695\n",
            "Epoch 7/100\n",
            "26/26 [==============================] - 4s 146ms/step - loss: 538.5505 - mae: 17.5846 - mse: 538.5505 - val_loss: 2519.2493 - val_mae: 34.4458 - val_mse: 2519.2493\n",
            "Epoch 8/100\n",
            "26/26 [==============================] - 4s 145ms/step - loss: 538.1518 - mae: 17.5813 - mse: 538.1518 - val_loss: 2517.0906 - val_mae: 34.4297 - val_mse: 2517.0906\n",
            "Epoch 9/100\n",
            "26/26 [==============================] - 4s 145ms/step - loss: 537.8687 - mae: 17.5858 - mse: 537.8687 - val_loss: 2519.6665 - val_mae: 34.4222 - val_mse: 2519.6665\n",
            "Epoch 10/100\n",
            "26/26 [==============================] - 4s 147ms/step - loss: 536.6436 - mae: 17.6100 - mse: 536.6436 - val_loss: 2519.2661 - val_mae: 34.4715 - val_mse: 2519.2661\n",
            "Epoch 11/100\n",
            "26/26 [==============================] - 4s 147ms/step - loss: 535.7903 - mae: 17.5180 - mse: 535.7903 - val_loss: 2517.1409 - val_mae: 34.3972 - val_mse: 2517.1409\n",
            "Epoch 12/100\n",
            "26/26 [==============================] - 4s 148ms/step - loss: 534.8300 - mae: 17.5600 - mse: 534.8300 - val_loss: 2517.1548 - val_mae: 34.3715 - val_mse: 2517.1548\n",
            "Epoch 13/100\n",
            "26/26 [==============================] - 4s 147ms/step - loss: 533.3425 - mae: 17.5500 - mse: 533.3425 - val_loss: 2519.9143 - val_mae: 34.4179 - val_mse: 2519.9143\n",
            "Epoch 14/100\n",
            "26/26 [==============================] - 4s 148ms/step - loss: 531.1159 - mae: 17.5631 - mse: 531.1159 - val_loss: 2522.5151 - val_mae: 34.5024 - val_mse: 2522.5151\n",
            "Epoch 15/100\n",
            "26/26 [==============================] - 4s 146ms/step - loss: 531.0568 - mae: 17.5225 - mse: 531.0568 - val_loss: 2521.1262 - val_mae: 34.4300 - val_mse: 2521.1262\n",
            "Epoch 16/100\n",
            "26/26 [==============================] - 4s 146ms/step - loss: 527.9016 - mae: 17.4748 - mse: 527.9016 - val_loss: 2520.9338 - val_mae: 34.4386 - val_mse: 2520.9338\n",
            "Epoch 17/100\n",
            "26/26 [==============================] - 4s 146ms/step - loss: 523.5506 - mae: 17.4186 - mse: 523.5506 - val_loss: 2523.4148 - val_mae: 34.4996 - val_mse: 2523.4148\n",
            "Epoch 18/100\n",
            "26/26 [==============================] - 4s 147ms/step - loss: 526.7018 - mae: 17.4205 - mse: 526.7018 - val_loss: 2533.1704 - val_mae: 34.7446 - val_mse: 2533.1704\n",
            "Epoch 19/100\n",
            "26/26 [==============================] - 4s 147ms/step - loss: 521.8352 - mae: 17.4418 - mse: 521.8352 - val_loss: 2527.8599 - val_mae: 34.5202 - val_mse: 2527.8599\n",
            "Epoch 20/100\n",
            "26/26 [==============================] - 4s 149ms/step - loss: 518.9116 - mae: 17.3780 - mse: 518.9116 - val_loss: 2520.9512 - val_mae: 34.4519 - val_mse: 2520.9512\n",
            "Epoch 21/100\n",
            "26/26 [==============================] - 4s 147ms/step - loss: 516.5676 - mae: 17.3344 - mse: 516.5676 - val_loss: 2525.9458 - val_mae: 34.4784 - val_mse: 2525.9458\n",
            "Epoch 22/100\n",
            "26/26 [==============================] - 4s 146ms/step - loss: 513.3399 - mae: 17.2672 - mse: 513.3399 - val_loss: 2527.9241 - val_mae: 34.6058 - val_mse: 2527.9241\n",
            "Epoch 23/100\n",
            "26/26 [==============================] - 4s 145ms/step - loss: 516.1989 - mae: 17.3760 - mse: 516.1989 - val_loss: 2532.1089 - val_mae: 34.5191 - val_mse: 2532.1089\n",
            "Epoch 24/100\n",
            "26/26 [==============================] - 4s 148ms/step - loss: 517.3356 - mae: 17.4199 - mse: 517.3356 - val_loss: 2532.4883 - val_mae: 34.4821 - val_mse: 2532.4883\n",
            "Epoch 25/100\n",
            "26/26 [==============================] - 4s 146ms/step - loss: 509.6576 - mae: 17.2914 - mse: 509.6576 - val_loss: 2535.4856 - val_mae: 34.5824 - val_mse: 2535.4856\n",
            "Epoch 26/100\n",
            "26/26 [==============================] - 4s 148ms/step - loss: 506.2328 - mae: 17.2239 - mse: 506.2328 - val_loss: 2538.3069 - val_mae: 34.6611 - val_mse: 2538.3069\n",
            "Epoch 27/100\n",
            "26/26 [==============================] - 4s 149ms/step - loss: 502.4126 - mae: 17.1290 - mse: 502.4126 - val_loss: 2550.0291 - val_mae: 34.9390 - val_mse: 2550.0291\n",
            "Epoch 28/100\n",
            "26/26 [==============================] - 4s 147ms/step - loss: 498.5808 - mae: 17.0950 - mse: 498.5808 - val_loss: 2562.0134 - val_mae: 35.1559 - val_mse: 2562.0134\n",
            "Epoch 29/100\n",
            "26/26 [==============================] - 4s 146ms/step - loss: 502.8477 - mae: 17.1338 - mse: 502.8477 - val_loss: 2549.4751 - val_mae: 34.7263 - val_mse: 2549.4751\n",
            "Epoch 30/100\n",
            "26/26 [==============================] - 4s 148ms/step - loss: 501.1679 - mae: 17.3159 - mse: 501.1679 - val_loss: 2562.0601 - val_mae: 35.0587 - val_mse: 2562.0601\n",
            "Epoch 31/100\n",
            "26/26 [==============================] - 4s 147ms/step - loss: 501.2146 - mae: 17.2146 - mse: 501.2146 - val_loss: 2585.6650 - val_mae: 35.4992 - val_mse: 2585.6650\n",
            "Epoch 32/100\n",
            "26/26 [==============================] - 4s 149ms/step - loss: 490.5833 - mae: 16.9769 - mse: 490.5833 - val_loss: 2561.1995 - val_mae: 35.0528 - val_mse: 2561.1995\n",
            "Epoch 33/100\n",
            "26/26 [==============================] - 4s 149ms/step - loss: 489.5051 - mae: 16.9670 - mse: 489.5051 - val_loss: 2569.5200 - val_mae: 35.1296 - val_mse: 2569.5200\n",
            "Epoch 34/100\n",
            "26/26 [==============================] - 4s 149ms/step - loss: 483.0815 - mae: 16.8349 - mse: 483.0815 - val_loss: 2597.4968 - val_mae: 35.5855 - val_mse: 2597.4968\n",
            "Epoch 35/100\n",
            "26/26 [==============================] - 4s 148ms/step - loss: 480.5414 - mae: 16.7410 - mse: 480.5414 - val_loss: 2566.3320 - val_mae: 34.9738 - val_mse: 2566.3320\n",
            "Epoch 36/100\n",
            "26/26 [==============================] - 4s 152ms/step - loss: 486.4220 - mae: 16.9023 - mse: 486.4220 - val_loss: 2595.2332 - val_mae: 35.5825 - val_mse: 2595.2332\n",
            "Epoch 37/100\n",
            "26/26 [==============================] - 4s 149ms/step - loss: 475.4131 - mae: 16.6105 - mse: 475.4131 - val_loss: 2577.4600 - val_mae: 35.0102 - val_mse: 2577.4600\n",
            "Epoch 38/100\n",
            "26/26 [==============================] - 4s 147ms/step - loss: 483.2816 - mae: 16.8170 - mse: 483.2816 - val_loss: 2601.3662 - val_mae: 35.5767 - val_mse: 2601.3662\n",
            "Epoch 39/100\n",
            "26/26 [==============================] - 4s 148ms/step - loss: 474.3638 - mae: 16.5927 - mse: 474.3638 - val_loss: 2592.4485 - val_mae: 35.4246 - val_mse: 2592.4485\n",
            "Epoch 40/100\n",
            "26/26 [==============================] - 4s 149ms/step - loss: 458.3150 - mae: 16.4083 - mse: 458.3150 - val_loss: 2593.1416 - val_mae: 35.4033 - val_mse: 2593.1416\n",
            "Epoch 41/100\n",
            "26/26 [==============================] - 4s 146ms/step - loss: 461.6776 - mae: 16.4565 - mse: 461.6776 - val_loss: 2620.0979 - val_mae: 35.8557 - val_mse: 2620.0979\n",
            "Epoch 42/100\n",
            "26/26 [==============================] - 4s 148ms/step - loss: 466.7538 - mae: 16.5410 - mse: 466.7538 - val_loss: 2622.2529 - val_mae: 35.7705 - val_mse: 2622.2529\n",
            "Epoch 43/100\n",
            "26/26 [==============================] - 4s 149ms/step - loss: 452.5409 - mae: 16.2711 - mse: 452.5409 - val_loss: 2667.7129 - val_mae: 36.4512 - val_mse: 2667.7129\n",
            "Epoch 44/100\n",
            "26/26 [==============================] - 4s 150ms/step - loss: 449.7663 - mae: 16.1751 - mse: 449.7663 - val_loss: 2623.0327 - val_mae: 35.7588 - val_mse: 2623.0327\n",
            "Epoch 45/100\n",
            "26/26 [==============================] - 4s 147ms/step - loss: 440.2404 - mae: 15.9383 - mse: 440.2404 - val_loss: 2671.2998 - val_mae: 36.4085 - val_mse: 2671.2998\n",
            "Epoch 46/100\n",
            "26/26 [==============================] - 4s 146ms/step - loss: 464.0576 - mae: 16.5134 - mse: 464.0576 - val_loss: 2651.8579 - val_mae: 35.9160 - val_mse: 2651.8579\n",
            "Epoch 47/100\n",
            "26/26 [==============================] - 4s 146ms/step - loss: 453.1231 - mae: 16.4630 - mse: 453.1231 - val_loss: 2627.1350 - val_mae: 35.8004 - val_mse: 2627.1350\n",
            "Epoch 48/100\n",
            "26/26 [==============================] - 4s 147ms/step - loss: 423.4463 - mae: 15.7084 - mse: 423.4463 - val_loss: 2696.3591 - val_mae: 36.7259 - val_mse: 2696.3591\n",
            "Epoch 49/100\n",
            "26/26 [==============================] - 4s 149ms/step - loss: 437.9691 - mae: 16.0332 - mse: 437.9691 - val_loss: 2643.1465 - val_mae: 35.8936 - val_mse: 2643.1465\n",
            "Epoch 50/100\n",
            "26/26 [==============================] - 4s 147ms/step - loss: 428.1889 - mae: 15.8393 - mse: 428.1889 - val_loss: 2687.5166 - val_mae: 36.5480 - val_mse: 2687.5166\n",
            "Epoch 51/100\n",
            "26/26 [==============================] - 4s 149ms/step - loss: 416.4659 - mae: 15.6017 - mse: 416.4659 - val_loss: 2697.2219 - val_mae: 36.7475 - val_mse: 2697.2219\n",
            "Epoch 52/100\n",
            "26/26 [==============================] - 4s 147ms/step - loss: 410.2799 - mae: 15.4128 - mse: 410.2799 - val_loss: 2708.5220 - val_mae: 36.9189 - val_mse: 2708.5220\n",
            "Epoch 53/100\n",
            "26/26 [==============================] - 4s 147ms/step - loss: 404.3391 - mae: 15.2627 - mse: 404.3391 - val_loss: 2722.0688 - val_mae: 36.9473 - val_mse: 2722.0688\n",
            "Epoch 54/100\n",
            "26/26 [==============================] - 4s 146ms/step - loss: 398.3756 - mae: 15.2335 - mse: 398.3756 - val_loss: 2753.3271 - val_mae: 37.3730 - val_mse: 2753.3271\n",
            "Epoch 55/100\n",
            "26/26 [==============================] - 4s 147ms/step - loss: 391.3245 - mae: 15.1174 - mse: 391.3245 - val_loss: 2770.1428 - val_mae: 37.4104 - val_mse: 2770.1428\n",
            "Epoch 56/100\n",
            "26/26 [==============================] - 4s 148ms/step - loss: 415.2693 - mae: 15.5338 - mse: 415.2693 - val_loss: 2901.6318 - val_mae: 38.8398 - val_mse: 2901.6318\n",
            "Epoch 57/100\n",
            "26/26 [==============================] - 4s 147ms/step - loss: 387.7198 - mae: 14.8221 - mse: 387.7198 - val_loss: 2775.8579 - val_mae: 37.4539 - val_mse: 2775.8579\n",
            "Epoch 58/100\n",
            "26/26 [==============================] - 4s 147ms/step - loss: 380.8829 - mae: 14.8020 - mse: 380.8829 - val_loss: 2792.5054 - val_mae: 37.8098 - val_mse: 2792.5054\n",
            "Epoch 59/100\n",
            "26/26 [==============================] - 4s 147ms/step - loss: 380.0533 - mae: 14.9166 - mse: 380.0533 - val_loss: 2840.0425 - val_mae: 38.2151 - val_mse: 2840.0425\n",
            "Epoch 60/100\n",
            "26/26 [==============================] - 4s 148ms/step - loss: 370.3339 - mae: 14.8090 - mse: 370.3339 - val_loss: 2854.5256 - val_mae: 38.3657 - val_mse: 2854.5256\n",
            "Epoch 61/100\n",
            "26/26 [==============================] - 4s 148ms/step - loss: 363.3998 - mae: 14.5528 - mse: 363.3998 - val_loss: 2869.2209 - val_mae: 38.4609 - val_mse: 2869.2209\n",
            "Epoch 62/100\n",
            "26/26 [==============================] - 4s 146ms/step - loss: 354.8321 - mae: 14.4445 - mse: 354.8321 - val_loss: 2826.7075 - val_mae: 37.8771 - val_mse: 2826.7075\n",
            "Epoch 63/100\n",
            "26/26 [==============================] - 4s 146ms/step - loss: 340.2296 - mae: 14.0095 - mse: 340.2296 - val_loss: 2924.0603 - val_mae: 38.9929 - val_mse: 2924.0603\n",
            "Epoch 64/100\n",
            "26/26 [==============================] - 4s 147ms/step - loss: 352.5482 - mae: 14.3837 - mse: 352.5482 - val_loss: 2930.7217 - val_mae: 39.0814 - val_mse: 2930.7217\n",
            "Epoch 65/100\n",
            "26/26 [==============================] - 4s 148ms/step - loss: 346.5888 - mae: 14.3023 - mse: 346.5888 - val_loss: 2925.9255 - val_mae: 39.1093 - val_mse: 2925.9255\n",
            "Epoch 66/100\n",
            "26/26 [==============================] - 4s 146ms/step - loss: 316.3414 - mae: 13.5646 - mse: 316.3414 - val_loss: 2982.0715 - val_mae: 39.5424 - val_mse: 2982.0715\n",
            "Epoch 67/100\n",
            "26/26 [==============================] - 4s 149ms/step - loss: 320.2726 - mae: 13.7892 - mse: 320.2726 - val_loss: 2928.6123 - val_mae: 38.8486 - val_mse: 2928.6123\n",
            "Epoch 68/100\n",
            "26/26 [==============================] - 4s 149ms/step - loss: 318.0470 - mae: 13.6467 - mse: 318.0470 - val_loss: 2968.1775 - val_mae: 39.3940 - val_mse: 2968.1775\n",
            "Epoch 69/100\n",
            "26/26 [==============================] - 4s 147ms/step - loss: 296.2485 - mae: 13.0995 - mse: 296.2485 - val_loss: 3009.7180 - val_mae: 39.7807 - val_mse: 3009.7180\n",
            "Epoch 70/100\n",
            "26/26 [==============================] - 4s 145ms/step - loss: 293.2239 - mae: 13.1929 - mse: 293.2239 - val_loss: 3035.1392 - val_mae: 40.0308 - val_mse: 3035.1392\n",
            "Epoch 71/100\n",
            "26/26 [==============================] - 4s 149ms/step - loss: 293.1883 - mae: 13.1544 - mse: 293.1883 - val_loss: 3138.5095 - val_mae: 41.0180 - val_mse: 3138.5095\n",
            "Epoch 72/100\n",
            "26/26 [==============================] - 4s 147ms/step - loss: 292.9083 - mae: 13.1130 - mse: 292.9083 - val_loss: 3125.9648 - val_mae: 40.8039 - val_mse: 3125.9648\n",
            "Epoch 73/100\n",
            "26/26 [==============================] - 4s 146ms/step - loss: 313.3196 - mae: 13.5122 - mse: 313.3196 - val_loss: 3280.5540 - val_mae: 42.2686 - val_mse: 3280.5540\n",
            "Epoch 74/100\n",
            "26/26 [==============================] - 4s 147ms/step - loss: 284.5081 - mae: 12.9587 - mse: 284.5081 - val_loss: 3132.6960 - val_mae: 40.8200 - val_mse: 3132.6960\n",
            "Epoch 75/100\n",
            "26/26 [==============================] - 4s 149ms/step - loss: 254.5191 - mae: 12.1387 - mse: 254.5191 - val_loss: 3247.2471 - val_mae: 41.9098 - val_mse: 3247.2471\n",
            "Epoch 76/100\n",
            "26/26 [==============================] - 4s 147ms/step - loss: 270.3132 - mae: 12.7096 - mse: 270.3132 - val_loss: 3168.3164 - val_mae: 41.1855 - val_mse: 3168.3164\n",
            "Epoch 77/100\n",
            "26/26 [==============================] - 4s 149ms/step - loss: 259.2484 - mae: 12.3353 - mse: 259.2484 - val_loss: 3381.5105 - val_mae: 43.1079 - val_mse: 3381.5105\n",
            "Epoch 78/100\n",
            "26/26 [==============================] - 4s 147ms/step - loss: 257.8394 - mae: 12.4298 - mse: 257.8394 - val_loss: 3231.0632 - val_mae: 41.7795 - val_mse: 3231.0632\n",
            "Epoch 79/100\n",
            "26/26 [==============================] - 4s 147ms/step - loss: 249.2095 - mae: 12.2389 - mse: 249.2095 - val_loss: 3253.3074 - val_mae: 42.0174 - val_mse: 3253.3074\n",
            "Epoch 80/100\n",
            "26/26 [==============================] - 4s 149ms/step - loss: 235.6087 - mae: 11.8394 - mse: 235.6087 - val_loss: 3268.8459 - val_mae: 42.0798 - val_mse: 3268.8459\n",
            "Epoch 81/100\n",
            "26/26 [==============================] - 4s 145ms/step - loss: 236.1400 - mae: 11.9160 - mse: 236.1400 - val_loss: 3331.0808 - val_mae: 42.6379 - val_mse: 3331.0808\n",
            "Epoch 82/100\n",
            "26/26 [==============================] - 4s 149ms/step - loss: 218.3022 - mae: 11.3930 - mse: 218.3022 - val_loss: 3346.3508 - val_mae: 42.9343 - val_mse: 3346.3508\n",
            "Epoch 83/100\n",
            "26/26 [==============================] - 4s 148ms/step - loss: 209.2641 - mae: 11.0981 - mse: 209.2641 - val_loss: 3421.4390 - val_mae: 43.4830 - val_mse: 3421.4390\n",
            "Epoch 84/100\n",
            "26/26 [==============================] - 4s 146ms/step - loss: 211.6167 - mae: 11.1255 - mse: 211.6167 - val_loss: 3490.8376 - val_mae: 44.1340 - val_mse: 3490.8376\n",
            "Epoch 85/100\n",
            "26/26 [==============================] - 4s 148ms/step - loss: 215.2982 - mae: 11.3587 - mse: 215.2982 - val_loss: 3469.7864 - val_mae: 43.9419 - val_mse: 3469.7864\n",
            "Epoch 86/100\n",
            "26/26 [==============================] - 4s 148ms/step - loss: 206.3591 - mae: 11.0285 - mse: 206.3591 - val_loss: 3450.5876 - val_mae: 43.5578 - val_mse: 3450.5876\n",
            "Epoch 87/100\n",
            "26/26 [==============================] - 4s 149ms/step - loss: 208.1020 - mae: 11.1017 - mse: 208.1020 - val_loss: 3533.4927 - val_mae: 44.4159 - val_mse: 3533.4927\n",
            "Epoch 88/100\n",
            "26/26 [==============================] - 4s 148ms/step - loss: 196.4518 - mae: 10.9154 - mse: 196.4518 - val_loss: 3416.3259 - val_mae: 43.3833 - val_mse: 3416.3259\n",
            "Epoch 89/100\n",
            "26/26 [==============================] - 4s 149ms/step - loss: 208.3417 - mae: 11.2309 - mse: 208.3417 - val_loss: 3474.8313 - val_mae: 43.8667 - val_mse: 3474.8313\n",
            "Epoch 90/100\n",
            "26/26 [==============================] - 4s 145ms/step - loss: 198.8467 - mae: 10.9309 - mse: 198.8467 - val_loss: 3888.7830 - val_mae: 47.2677 - val_mse: 3888.7830\n",
            "Epoch 91/100\n",
            "26/26 [==============================] - 4s 149ms/step - loss: 178.5193 - mae: 10.3938 - mse: 178.5193 - val_loss: 3863.6487 - val_mae: 47.0206 - val_mse: 3863.6487\n",
            "Epoch 92/100\n",
            "26/26 [==============================] - 4s 148ms/step - loss: 191.5864 - mae: 10.5907 - mse: 191.5864 - val_loss: 3769.8403 - val_mae: 46.3881 - val_mse: 3769.8403\n",
            "Epoch 93/100\n",
            "26/26 [==============================] - 4s 147ms/step - loss: 177.2941 - mae: 10.3301 - mse: 177.2941 - val_loss: 3583.1980 - val_mae: 44.8414 - val_mse: 3583.1980\n",
            "Epoch 94/100\n",
            "26/26 [==============================] - 4s 148ms/step - loss: 165.2118 - mae: 9.9412 - mse: 165.2118 - val_loss: 3634.6553 - val_mae: 45.3213 - val_mse: 3634.6553\n",
            "Epoch 95/100\n",
            "26/26 [==============================] - 4s 145ms/step - loss: 147.5363 - mae: 9.2941 - mse: 147.5363 - val_loss: 3869.0449 - val_mae: 47.1432 - val_mse: 3869.0449\n",
            "Epoch 96/100\n",
            "26/26 [==============================] - 4s 147ms/step - loss: 164.6879 - mae: 9.8422 - mse: 164.6879 - val_loss: 3767.5159 - val_mae: 46.3027 - val_mse: 3767.5159\n",
            "Epoch 97/100\n",
            "26/26 [==============================] - 4s 148ms/step - loss: 151.0463 - mae: 9.5735 - mse: 151.0463 - val_loss: 3936.3821 - val_mae: 47.7653 - val_mse: 3936.3821\n",
            "Epoch 98/100\n",
            "26/26 [==============================] - 4s 149ms/step - loss: 147.8544 - mae: 9.3820 - mse: 147.8544 - val_loss: 3760.8918 - val_mae: 46.2263 - val_mse: 3760.8918\n",
            "Epoch 99/100\n",
            "26/26 [==============================] - 4s 147ms/step - loss: 146.5107 - mae: 9.4321 - mse: 146.5107 - val_loss: 3630.8979 - val_mae: 45.2289 - val_mse: 3630.8979\n",
            "Epoch 100/100\n",
            "26/26 [==============================] - 4s 148ms/step - loss: 142.4026 - mae: 9.3054 - mse: 142.4026 - val_loss: 3970.8892 - val_mae: 47.8315 - val_mse: 3970.8892\n"
          ]
        }
      ]
    },
    {
      "cell_type": "markdown",
      "source": [
        "Predictions"
      ],
      "metadata": {
        "id": "hjVQsanxpHma"
      }
    },
    {
      "cell_type": "code",
      "source": [
        "train_idx[:T+1]=False"
      ],
      "metadata": {
        "id": "f1Llph9XdeVY"
      },
      "execution_count": 388,
      "outputs": []
    },
    {
      "cell_type": "code",
      "source": [
        "Ptrain_ann=model_ann.predict(Xtrain).flatten()\n",
        "Ptest_ann=model_ann.predict(Xtest).flatten()\n"
      ],
      "metadata": {
        "id": "96WR1e3Sdgle"
      },
      "execution_count": 389,
      "outputs": []
    },
    {
      "cell_type": "code",
      "source": [
        "Ptrain_cnn=model_cnn.predict(Xtrain).flatten()\n",
        "Ptest_cnn=model_cnn.predict(Xtest).flatten()"
      ],
      "metadata": {
        "id": "Pc5bF6Z_gUGI"
      },
      "execution_count": 390,
      "outputs": []
    },
    {
      "cell_type": "code",
      "source": [
        "Ptrain_lstm=model_lstm.predict(Xtrain).flatten()\n",
        "Ptest_lstm=model_lstm.predict(Xtest).flatten()"
      ],
      "metadata": {
        "id": "LWhMPuCvjAIS"
      },
      "execution_count": 391,
      "outputs": []
    },
    {
      "cell_type": "code",
      "source": [
        "Ptrain_gru=model_gru.predict(Xtrain).flatten()\n",
        "Ptest_gru=model_gru.predict(Xtest).flatten()"
      ],
      "metadata": {
        "id": "znvUQWrKnmIj"
      },
      "execution_count": 392,
      "outputs": []
    },
    {
      "cell_type": "code",
      "source": [
        "df.loc[train_idx,'Diff ANN train prediction']=Ptrain_ann\n",
        "df.loc[test_idx,'Diff ANN test prediction']=Ptest_ann"
      ],
      "metadata": {
        "id": "L7p_peucdjgP"
      },
      "execution_count": 393,
      "outputs": []
    },
    {
      "cell_type": "code",
      "source": [
        "df.loc[train_idx,'Diff CNN train prediction']=Ptrain_cnn\n",
        "df.loc[test_idx,'Diff CNN test prediction']=Ptest_cnn"
      ],
      "metadata": {
        "id": "YcnY5nc6gaG6"
      },
      "execution_count": 394,
      "outputs": []
    },
    {
      "cell_type": "code",
      "source": [
        "df.loc[train_idx,'Diff LSTM train prediction']=Ptrain_lstm\n",
        "df.loc[test_idx,'Diff LSTM test prediction']=Ptest_lstm"
      ],
      "metadata": {
        "id": "8p_92fO6jTpW"
      },
      "execution_count": 395,
      "outputs": []
    },
    {
      "cell_type": "code",
      "source": [
        "df.loc[train_idx,'Diff GRU train prediction']=Ptrain_gru\n",
        "df.loc[test_idx,'Diff GRU test prediction']=Ptest_gru"
      ],
      "metadata": {
        "id": "nmUC4sKpnsIl"
      },
      "execution_count": 396,
      "outputs": []
    },
    {
      "cell_type": "code",
      "source": [
        "df['Shift Prev Close']=df['Prev Close'].shift(1)\n",
        "prev=df['Shift Prev Close']"
      ],
      "metadata": {
        "id": "Ea7RmDuJdpgz"
      },
      "execution_count": 397,
      "outputs": []
    },
    {
      "cell_type": "code",
      "source": [
        "last_train=train.iloc[-1]['Prev Close']"
      ],
      "metadata": {
        "id": "hrhOEI3fduRI"
      },
      "execution_count": 398,
      "outputs": []
    },
    {
      "cell_type": "code",
      "source": [
        "df.loc[train_idx,'train_ANN']=prev[train_idx]+Ptrain_ann\n",
        "df.loc[test_idx,'Prediction_ANN']=prev[test_idx]+Ptest_ann"
      ],
      "metadata": {
        "id": "h0UpXNAXd0Uy"
      },
      "execution_count": 399,
      "outputs": []
    },
    {
      "cell_type": "code",
      "source": [
        "df.loc[train_idx,'train_CNN']=prev[train_idx]+Ptrain_cnn\n",
        "df.loc[test_idx,'Prediction_CNN']=prev[test_idx]+Ptest_cnn"
      ],
      "metadata": {
        "id": "EUYdfUqdg5Tu"
      },
      "execution_count": 400,
      "outputs": []
    },
    {
      "cell_type": "code",
      "source": [
        "df.loc[train_idx,'train_LSTM']=prev[train_idx]+Ptrain_lstm\n",
        "df.loc[test_idx,'Prediction_LSTM']=prev[test_idx]+Ptest_lstm"
      ],
      "metadata": {
        "id": "Na8TIloyjc_Z"
      },
      "execution_count": 401,
      "outputs": []
    },
    {
      "cell_type": "code",
      "source": [
        "df.loc[train_idx,'train_GRU']=prev[train_idx]+Ptrain_gru\n",
        "df.loc[test_idx,'Prediction_GRU']=prev[test_idx]+Ptest_gru"
      ],
      "metadata": {
        "id": "qSL8wEeqnzrM"
      },
      "execution_count": 402,
      "outputs": []
    },
    {
      "cell_type": "code",
      "source": [
        "df[[ 'Prev Close','Prediction_CNN','Prediction_ANN','Prediction_LSTM','Prediction_GRU']].plot(figsize=(15,10));"
      ],
      "metadata": {
        "colab": {
          "base_uri": "https://localhost:8080/",
          "height": 418
        },
        "id": "hItPmrHOd45G",
        "outputId": "a330b45e-78b4-4e86-d768-ca9f97597667"
      },
      "execution_count": 403,
      "outputs": [
        {
          "output_type": "display_data",
          "data": {
            "text/plain": [
              "<Figure size 1080x720 with 1 Axes>"
            ],
            "image/png": "[encoded data removed]"
          },
          "metadata": {
            "needs_background": "light"
          }
        }
      ]
    },
    {
      "cell_type": "code",
      "source": [
        "df[[ 'Prediction_CNN','Prediction_ANN','Prediction_LSTM','Prediction_GRU']].plot(figsize=(15,10),\n",
        "    ylabel=(\"Previous Close\"));"
      ],
      "metadata": {
        "colab": {
          "base_uri": "https://localhost:8080/",
          "height": 416
        },
        "id": "8nDh9SzUd7Em",
        "outputId": "1aae589b-039e-4b40-d68f-e2758ff8e15c"
      },
      "execution_count": 404,
      "outputs": [
        {
          "output_type": "display_data",
          "data": {
            "text/plain": [
              "<Figure size 1080x720 with 1 Axes>"
            ],
            "image/png": "[encoded data removed]"
          },
          "metadata": {
            "needs_background": "light"
          }
        }
      ]
    },
    {
      "cell_type": "markdown",
      "source": [
        "Evaluation"
      ],
      "metadata": {
        "id": "rSXUYSDdpMP7"
      }
    },
    {
      "cell_type": "code",
      "source": [
        "pred_ann=df['Prediction_ANN']\n",
        "pred_ann.dropna(inplace=True)"
      ],
      "metadata": {
        "id": "NdOUWgEhoKjf"
      },
      "execution_count": 405,
      "outputs": []
    },
    {
      "cell_type": "code",
      "source": [
        "rmse=math.sqrt(mean_squared_error(test['Prev Close'],pred_ann))\n",
        "print(rmse)"
      ],
      "metadata": {
        "colab": {
          "base_uri": "https://localhost:8080/"
        },
        "id": "nsTCBQ6mpdH0",
        "outputId": "b3179128-506d-47d9-a360-8c260f6fef6f"
      },
      "execution_count": 406,
      "outputs": [
        {
          "output_type": "stream",
          "name": "stdout",
          "text": [
            "53.54080329388594\n"
          ]
        }
      ]
    },
    {
      "cell_type": "code",
      "source": [
        "error=mean_absolute_error(test['Prev Close'],pred_ann)\n",
        "print(error)"
      ],
      "metadata": {
        "colab": {
          "base_uri": "https://localhost:8080/"
        },
        "id": "iIAQHD7DpgVL",
        "outputId": "4213ce01-59e6-4233-a66c-a1309a31026d"
      },
      "execution_count": 407,
      "outputs": [
        {
          "output_type": "stream",
          "name": "stdout",
          "text": [
            "37.44351319375868\n"
          ]
        }
      ]
    },
    {
      "cell_type": "code",
      "source": [
        "r2_score(test['Prev Close'],pred_ann)"
      ],
      "metadata": {
        "colab": {
          "base_uri": "https://localhost:8080/"
        },
        "id": "-0ZfJE4zplqz",
        "outputId": "fb6550d2-4939-4099-bec0-c1c921d727f7"
      },
      "execution_count": 408,
      "outputs": [
        {
          "output_type": "execute_result",
          "data": {
            "text/plain": [
              "0.9607451570389078"
            ]
          },
          "metadata": {},
          "execution_count": 408
        }
      ]
    },
    {
      "cell_type": "code",
      "source": [
        "pred_cnn=df['Prediction_CNN']\n",
        "pred_cnn.dropna(inplace=True)"
      ],
      "metadata": {
        "id": "NQ3y6NwzppdW"
      },
      "execution_count": 409,
      "outputs": []
    },
    {
      "cell_type": "code",
      "source": [
        "rmse=math.sqrt(mean_squared_error(test['Prev Close'],pred_cnn))\n",
        "print(rmse)"
      ],
      "metadata": {
        "colab": {
          "base_uri": "https://localhost:8080/"
        },
        "id": "2t7Fu7N-p9ql",
        "outputId": "1909630f-986c-40b6-9c64-50600873ceb3"
      },
      "execution_count": 410,
      "outputs": [
        {
          "output_type": "stream",
          "name": "stdout",
          "text": [
            "52.41762704023658\n"
          ]
        }
      ]
    },
    {
      "cell_type": "code",
      "source": [
        "error=mean_absolute_error(test['Prev Close'],pred_cnn)\n",
        "print(error)"
      ],
      "metadata": {
        "colab": {
          "base_uri": "https://localhost:8080/"
        },
        "id": "fCxfXZ3Cp92i",
        "outputId": "62de9372-4018-44e6-fcbc-1c72d153ba9b"
      },
      "execution_count": 411,
      "outputs": [
        {
          "output_type": "stream",
          "name": "stdout",
          "text": [
            "36.0242312759638\n"
          ]
        }
      ]
    },
    {
      "cell_type": "code",
      "source": [
        "r2_score(test['Prev Close'],pred_cnn)"
      ],
      "metadata": {
        "colab": {
          "base_uri": "https://localhost:8080/"
        },
        "id": "B1yNq5Vyp-Fv",
        "outputId": "40035c6a-6f29-455a-8533-3efda82b7784"
      },
      "execution_count": 412,
      "outputs": [
        {
          "output_type": "execute_result",
          "data": {
            "text/plain": [
              "0.9623748541951915"
            ]
          },
          "metadata": {},
          "execution_count": 412
        }
      ]
    },
    {
      "cell_type": "code",
      "source": [
        "pred_lstm=df['Prediction_LSTM']\n",
        "pred_lstm.dropna(inplace=True)"
      ],
      "metadata": {
        "id": "2JHbSsrypzko"
      },
      "execution_count": 413,
      "outputs": []
    },
    {
      "cell_type": "code",
      "source": [
        "rmse=math.sqrt(mean_squared_error(test['Prev Close'],pred_lstm))\n",
        "print(rmse)"
      ],
      "metadata": {
        "colab": {
          "base_uri": "https://localhost:8080/"
        },
        "id": "UXSSQRxQp-35",
        "outputId": "048fd0f7-6616-4a17-a063-7ca233c5a48d"
      },
      "execution_count": 414,
      "outputs": [
        {
          "output_type": "stream",
          "name": "stdout",
          "text": [
            "57.34736806366756\n"
          ]
        }
      ]
    },
    {
      "cell_type": "code",
      "source": [
        "error=mean_absolute_error(test['Prev Close'],pred_lstm)\n",
        "print(error)"
      ],
      "metadata": {
        "colab": {
          "base_uri": "https://localhost:8080/"
        },
        "id": "h9VZ6Odxp-9o",
        "outputId": "4c334da3-7d5b-4537-c7c9-2c8d83653378"
      },
      "execution_count": 415,
      "outputs": [
        {
          "output_type": "stream",
          "name": "stdout",
          "text": [
            "42.333941779773674\n"
          ]
        }
      ]
    },
    {
      "cell_type": "code",
      "source": [
        "r2_score(test['Prev Close'],pred_lstm)"
      ],
      "metadata": {
        "colab": {
          "base_uri": "https://localhost:8080/"
        },
        "id": "X7FH8enup_D3",
        "outputId": "3f55b51c-ece3-4090-df8b-1bf92d95c34f"
      },
      "execution_count": 416,
      "outputs": [
        {
          "output_type": "execute_result",
          "data": {
            "text/plain": [
              "0.9549649695690915"
            ]
          },
          "metadata": {},
          "execution_count": 416
        }
      ]
    },
    {
      "cell_type": "code",
      "source": [
        "pred_gru=df['Prediction_GRU']\n",
        "pred_gru.dropna(inplace=True)"
      ],
      "metadata": {
        "id": "i3IdPEAWp4iD"
      },
      "execution_count": 417,
      "outputs": []
    },
    {
      "cell_type": "code",
      "source": [
        "rmse=math.sqrt(mean_squared_error(test['Prev Close'],pred_gru))\n",
        "print(rmse)"
      ],
      "metadata": {
        "colab": {
          "base_uri": "https://localhost:8080/"
        },
        "id": "XuZAIPTEp_iy",
        "outputId": "1f2faa4d-ac81-479b-9ded-49476fc2960e"
      },
      "execution_count": 418,
      "outputs": [
        {
          "output_type": "stream",
          "name": "stdout",
          "text": [
            "63.0149948551557\n"
          ]
        }
      ]
    },
    {
      "cell_type": "code",
      "source": [
        "error=mean_absolute_error(test['Prev Close'],pred_gru)\n",
        "print(error)"
      ],
      "metadata": {
        "colab": {
          "base_uri": "https://localhost:8080/"
        },
        "id": "eo7EZVIop_np",
        "outputId": "32274b8d-33f3-4914-9866-197c7b7df085"
      },
      "execution_count": 419,
      "outputs": [
        {
          "output_type": "stream",
          "name": "stdout",
          "text": [
            "47.831470987706815\n"
          ]
        }
      ]
    },
    {
      "cell_type": "code",
      "source": [
        "r2_score(test['Prev Close'],pred_gru)"
      ],
      "metadata": {
        "colab": {
          "base_uri": "https://localhost:8080/"
        },
        "id": "AQIh6l51p_so",
        "outputId": "2bea264c-f888-475b-e7af-185326035169"
      },
      "execution_count": 420,
      "outputs": [
        {
          "output_type": "execute_result",
          "data": {
            "text/plain": [
              "0.9456234951597993"
            ]
          },
          "metadata": {},
          "execution_count": 420
        }
      ]
    },
    {
      "cell_type": "code",
      "source": [],
      "metadata": {
        "id": "gjfmkSgjqcjO"
      },
      "execution_count": 420,
      "outputs": []
    }
  ]
}