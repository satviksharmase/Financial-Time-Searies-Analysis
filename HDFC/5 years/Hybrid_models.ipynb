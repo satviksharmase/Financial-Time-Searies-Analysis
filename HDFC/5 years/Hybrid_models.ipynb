{
  "nbformat": 4,
  "nbformat_minor": 0,
  "metadata": {
    "colab": {
      "provenance": [],
      "collapsed_sections": []
    },
    "kernelspec": {
      "name": "python3",
      "display_name": "Python 3"
    },
    "language_info": {
      "name": "python"
    }
  },
  "cells": [
    {
      "cell_type": "code",
      "execution_count": 170,
      "metadata": {
        "id": "dpI-f41n9Ofc"
      },
      "outputs": [],
      "source": [
        "import pandas as pd\n",
        "import numpy as np\n",
        "import matplotlib.pyplot as plt\n",
        "\n",
        "import tensorflow as tf\n",
        "from tensorflow.keras.layers import Dense, Input, GlobalMaxPool1D, LSTM, GRU\n",
        "from tensorflow.keras.layers import Conv1D, MaxPooling1D\n",
        "from tensorflow.keras.models import Model\n",
        "from tensorflow.keras.callbacks import ModelCheckpoint\n",
        "\n",
        "import math\n",
        "\n",
        "from sklearn.metrics import r2_score\n",
        "from sklearn.metrics import mean_absolute_error\n",
        "from sklearn.metrics import mean_squared_error\n",
        "\n",
        "np.random.seed(123)\n",
        "tf.random.set_seed(123)"
      ]
    },
    {
      "cell_type": "code",
      "source": [
        "df=pd.read_csv('./HDFC.csv',index_col='Date',parse_dates=True)"
      ],
      "metadata": {
        "id": "tRrBpF6O9Rch"
      },
      "execution_count": 171,
      "outputs": []
    },
    {
      "cell_type": "code",
      "source": [
        "df"
      ],
      "metadata": {
        "colab": {
          "base_uri": "https://localhost:8080/",
          "height": 710
        },
        "id": "ZHKVPajo9cUs",
        "outputId": "0bbe3094-afae-4ec4-fc38-0dec8474e118"
      },
      "execution_count": 172,
      "outputs": [
        {
          "output_type": "execute_result",
          "data": {
            "text/plain": [
              "           Symbol Series  Prev Close     Open     High      Low     Last  \\\n",
              "Date                                                                       \n",
              "2000-01-03   HDFC     EQ      271.75   293.50   293.50   293.50   293.50   \n",
              "2000-01-04   HDFC     EQ      293.50   317.00   317.00   297.00   304.00   \n",
              "2000-01-05   HDFC     EQ      304.05   290.00   303.90   285.00   295.00   \n",
              "2000-01-06   HDFC     EQ      292.80   301.00   314.00   295.00   296.00   \n",
              "2000-01-07   HDFC     EQ      296.45   290.00   296.35   281.00   287.10   \n",
              "...           ...    ...         ...      ...      ...      ...      ...   \n",
              "2021-04-26   HDFC     EQ     2497.35  2500.00  2534.10  2483.20  2502.00   \n",
              "2021-04-27   HDFC     EQ     2509.80  2494.15  2526.80  2486.25  2514.00   \n",
              "2021-04-28   HDFC     EQ     2518.40  2516.10  2609.00  2508.30  2575.00   \n",
              "2021-04-29   HDFC     EQ     2577.00  2590.90  2628.00  2533.00  2539.70   \n",
              "2021-04-30   HDFC     EQ     2538.85  2503.10  2525.00  2411.10  2433.25   \n",
              "\n",
              "              Close     VWAP   Volume      Turnover    Trades  \\\n",
              "Date                                                            \n",
              "2000-01-03   293.50   293.50    22744  6.675364e+11       NaN   \n",
              "2000-01-04   304.05   303.62   255251  7.749972e+12       NaN   \n",
              "2000-01-05   292.80   294.53   269087  7.925368e+12       NaN   \n",
              "2000-01-06   296.45   300.14   305916  9.181669e+12       NaN   \n",
              "2000-01-07   286.55   288.80   197039  5.690480e+12       NaN   \n",
              "...             ...      ...      ...           ...       ...   \n",
              "2021-04-26  2509.80  2508.07  3916088  9.821805e+14  121028.0   \n",
              "2021-04-27  2518.40  2509.18  2040799  5.120730e+14  102250.0   \n",
              "2021-04-28  2577.00  2574.21  3407461  8.771527e+14  117425.0   \n",
              "2021-04-29  2538.85  2569.65  3005468  7.722995e+14  132826.0   \n",
              "2021-04-30  2420.10  2445.94  6024595  1.473581e+15  224454.0   \n",
              "\n",
              "            Deliverable Volume  %Deliverble  \n",
              "Date                                         \n",
              "2000-01-03                 NaN          NaN  \n",
              "2000-01-04                 NaN          NaN  \n",
              "2000-01-05                 NaN          NaN  \n",
              "2000-01-06                 NaN          NaN  \n",
              "2000-01-07                 NaN          NaN  \n",
              "...                        ...          ...  \n",
              "2021-04-26           2440395.0       0.6232  \n",
              "2021-04-27           1040749.0       0.5100  \n",
              "2021-04-28           1815110.0       0.5327  \n",
              "2021-04-29           1472924.0       0.4901  \n",
              "2021-04-30           3839105.0       0.6372  \n",
              "\n",
              "[5306 rows x 14 columns]"
            ],
            "text/html": [
              "\n",
              "  <div id=\"df-af83ac3d-5143-4b32-8367-df03bce6d631\">\n",
              "    <div class=\"colab-df-container\">\n",
              "      <div>\n",
              "<style scoped>\n",
              "    .dataframe tbody tr th:only-of-type {\n",
              "        vertical-align: middle;\n",
              "    }\n",
              "\n",
              "    .dataframe tbody tr th {\n",
              "        vertical-align: top;\n",
              "    }\n",
              "\n",
              "    .dataframe thead th {\n",
              "        text-align: right;\n",
              "    }\n",
              "</style>\n",
              "<table border=\"1\" class=\"dataframe\">\n",
              "  <thead>\n",
              "    <tr style=\"text-align: right;\">\n",
              "      <th></th>\n",
              "      <th>Symbol</th>\n",
              "      <th>Series</th>\n",
              "      <th>Prev Close</th>\n",
              "      <th>Open</th>\n",
              "      <th>High</th>\n",
              "      <th>Low</th>\n",
              "      <th>Last</th>\n",
              "      <th>Close</th>\n",
              "      <th>VWAP</th>\n",
              "      <th>Volume</th>\n",
              "      <th>Turnover</th>\n",
              "      <th>Trades</th>\n",
              "      <th>Deliverable Volume</th>\n",
              "      <th>%Deliverble</th>\n",
              "    </tr>\n",
              "    <tr>\n",
              "      <th>Date</th>\n",
              "      <th></th>\n",
              "      <th></th>\n",
              "      <th></th>\n",
              "      <th></th>\n",
              "      <th></th>\n",
              "      <th></th>\n",
              "      <th></th>\n",
              "      <th></th>\n",
              "      <th></th>\n",
              "      <th></th>\n",
              "      <th></th>\n",
              "      <th></th>\n",
              "      <th></th>\n",
              "      <th></th>\n",
              "    </tr>\n",
              "  </thead>\n",
              "  <tbody>\n",
              "    <tr>\n",
              "      <th>2000-01-03</th>\n",
              "      <td>HDFC</td>\n",
              "      <td>EQ</td>\n",
              "      <td>271.75</td>\n",
              "      <td>293.50</td>\n",
              "      <td>293.50</td>\n",
              "      <td>293.50</td>\n",
              "      <td>293.50</td>\n",
              "      <td>293.50</td>\n",
              "      <td>293.50</td>\n",
              "      <td>22744</td>\n",
              "      <td>6.675364e+11</td>\n",
              "      <td>NaN</td>\n",
              "      <td>NaN</td>\n",
              "      <td>NaN</td>\n",
              "    </tr>\n",
              "    <tr>\n",
              "      <th>2000-01-04</th>\n",
              "      <td>HDFC</td>\n",
              "      <td>EQ</td>\n",
              "      <td>293.50</td>\n",
              "      <td>317.00</td>\n",
              "      <td>317.00</td>\n",
              "      <td>297.00</td>\n",
              "      <td>304.00</td>\n",
              "      <td>304.05</td>\n",
              "      <td>303.62</td>\n",
              "      <td>255251</td>\n",
              "      <td>7.749972e+12</td>\n",
              "      <td>NaN</td>\n",
              "      <td>NaN</td>\n",
              "      <td>NaN</td>\n",
              "    </tr>\n",
              "    <tr>\n",
              "      <th>2000-01-05</th>\n",
              "      <td>HDFC</td>\n",
              "      <td>EQ</td>\n",
              "      <td>304.05</td>\n",
              "      <td>290.00</td>\n",
              "      <td>303.90</td>\n",
              "      <td>285.00</td>\n",
              "      <td>295.00</td>\n",
              "      <td>292.80</td>\n",
              "      <td>294.53</td>\n",
              "      <td>269087</td>\n",
              "      <td>7.925368e+12</td>\n",
              "      <td>NaN</td>\n",
              "      <td>NaN</td>\n",
              "      <td>NaN</td>\n",
              "    </tr>\n",
              "    <tr>\n",
              "      <th>2000-01-06</th>\n",
              "      <td>HDFC</td>\n",
              "      <td>EQ</td>\n",
              "      <td>292.80</td>\n",
              "      <td>301.00</td>\n",
              "      <td>314.00</td>\n",
              "      <td>295.00</td>\n",
              "      <td>296.00</td>\n",
              "      <td>296.45</td>\n",
              "      <td>300.14</td>\n",
              "      <td>305916</td>\n",
              "      <td>9.181669e+12</td>\n",
              "      <td>NaN</td>\n",
              "      <td>NaN</td>\n",
              "      <td>NaN</td>\n",
              "    </tr>\n",
              "    <tr>\n",
              "      <th>2000-01-07</th>\n",
              "      <td>HDFC</td>\n",
              "      <td>EQ</td>\n",
              "      <td>296.45</td>\n",
              "      <td>290.00</td>\n",
              "      <td>296.35</td>\n",
              "      <td>281.00</td>\n",
              "      <td>287.10</td>\n",
              "      <td>286.55</td>\n",
              "      <td>288.80</td>\n",
              "      <td>197039</td>\n",
              "      <td>5.690480e+12</td>\n",
              "      <td>NaN</td>\n",
              "      <td>NaN</td>\n",
              "      <td>NaN</td>\n",
              "    </tr>\n",
              "    <tr>\n",
              "      <th>...</th>\n",
              "      <td>...</td>\n",
              "      <td>...</td>\n",
              "      <td>...</td>\n",
              "      <td>...</td>\n",
              "      <td>...</td>\n",
              "      <td>...</td>\n",
              "      <td>...</td>\n",
              "      <td>...</td>\n",
              "      <td>...</td>\n",
              "      <td>...</td>\n",
              "      <td>...</td>\n",
              "      <td>...</td>\n",
              "      <td>...</td>\n",
              "      <td>...</td>\n",
              "    </tr>\n",
              "    <tr>\n",
              "      <th>2021-04-26</th>\n",
              "      <td>HDFC</td>\n",
              "      <td>EQ</td>\n",
              "      <td>2497.35</td>\n",
              "      <td>2500.00</td>\n",
              "      <td>2534.10</td>\n",
              "      <td>2483.20</td>\n",
              "      <td>2502.00</td>\n",
              "      <td>2509.80</td>\n",
              "      <td>2508.07</td>\n",
              "      <td>3916088</td>\n",
              "      <td>9.821805e+14</td>\n",
              "      <td>121028.0</td>\n",
              "      <td>2440395.0</td>\n",
              "      <td>0.6232</td>\n",
              "    </tr>\n",
              "    <tr>\n",
              "      <th>2021-04-27</th>\n",
              "      <td>HDFC</td>\n",
              "      <td>EQ</td>\n",
              "      <td>2509.80</td>\n",
              "      <td>2494.15</td>\n",
              "      <td>2526.80</td>\n",
              "      <td>2486.25</td>\n",
              "      <td>2514.00</td>\n",
              "      <td>2518.40</td>\n",
              "      <td>2509.18</td>\n",
              "      <td>2040799</td>\n",
              "      <td>5.120730e+14</td>\n",
              "      <td>102250.0</td>\n",
              "      <td>1040749.0</td>\n",
              "      <td>0.5100</td>\n",
              "    </tr>\n",
              "    <tr>\n",
              "      <th>2021-04-28</th>\n",
              "      <td>HDFC</td>\n",
              "      <td>EQ</td>\n",
              "      <td>2518.40</td>\n",
              "      <td>2516.10</td>\n",
              "      <td>2609.00</td>\n",
              "      <td>2508.30</td>\n",
              "      <td>2575.00</td>\n",
              "      <td>2577.00</td>\n",
              "      <td>2574.21</td>\n",
              "      <td>3407461</td>\n",
              "      <td>8.771527e+14</td>\n",
              "      <td>117425.0</td>\n",
              "      <td>1815110.0</td>\n",
              "      <td>0.5327</td>\n",
              "    </tr>\n",
              "    <tr>\n",
              "      <th>2021-04-29</th>\n",
              "      <td>HDFC</td>\n",
              "      <td>EQ</td>\n",
              "      <td>2577.00</td>\n",
              "      <td>2590.90</td>\n",
              "      <td>2628.00</td>\n",
              "      <td>2533.00</td>\n",
              "      <td>2539.70</td>\n",
              "      <td>2538.85</td>\n",
              "      <td>2569.65</td>\n",
              "      <td>3005468</td>\n",
              "      <td>7.722995e+14</td>\n",
              "      <td>132826.0</td>\n",
              "      <td>1472924.0</td>\n",
              "      <td>0.4901</td>\n",
              "    </tr>\n",
              "    <tr>\n",
              "      <th>2021-04-30</th>\n",
              "      <td>HDFC</td>\n",
              "      <td>EQ</td>\n",
              "      <td>2538.85</td>\n",
              "      <td>2503.10</td>\n",
              "      <td>2525.00</td>\n",
              "      <td>2411.10</td>\n",
              "      <td>2433.25</td>\n",
              "      <td>2420.10</td>\n",
              "      <td>2445.94</td>\n",
              "      <td>6024595</td>\n",
              "      <td>1.473581e+15</td>\n",
              "      <td>224454.0</td>\n",
              "      <td>3839105.0</td>\n",
              "      <td>0.6372</td>\n",
              "    </tr>\n",
              "  </tbody>\n",
              "</table>\n",
              "<p>5306 rows × 14 columns</p>\n",
              "</div>\n",
              "      <button class=\"colab-df-convert\" onclick=\"convertToInteractive('df-af83ac3d-5143-4b32-8367-df03bce6d631')\"\n",
              "              title=\"Convert this dataframe to an interactive table.\"\n",
              "              style=\"display:none;\">\n",
              "        \n",
              "  <svg xmlns=\"http://www.w3.org/2000/svg\" height=\"24px\"viewBox=\"0 0 24 24\"\n",
              "       width=\"24px\">\n",
              "    <path d=\"M0 0h24v24H0V0z\" fill=\"none\"/>\n",
              "    <path d=\"M18.56 5.44l.94 2.06.94-2.06 2.06-.94-2.06-.94-.94-2.06-.94 2.06-2.06.94zm-11 1L8.5 8.5l.94-2.06 2.06-.94-2.06-.94L8.5 2.5l-.94 2.06-2.06.94zm10 10l.94 2.06.94-2.06 2.06-.94-2.06-.94-.94-2.06-.94 2.06-2.06.94z\"/><path d=\"M17.41 7.96l-1.37-1.37c-.4-.4-.92-.59-1.43-.59-.52 0-1.04.2-1.43.59L10.3 9.45l-7.72 7.72c-.78.78-.78 2.05 0 2.83L4 21.41c.39.39.9.59 1.41.59.51 0 1.02-.2 1.41-.59l7.78-7.78 2.81-2.81c.8-.78.8-2.07 0-2.86zM5.41 20L4 18.59l7.72-7.72 1.47 1.35L5.41 20z\"/>\n",
              "  </svg>\n",
              "      </button>\n",
              "      \n",
              "  <style>\n",
              "    .colab-df-container {\n",
              "      display:flex;\n",
              "      flex-wrap:wrap;\n",
              "      gap: 12px;\n",
              "    }\n",
              "\n",
              "    .colab-df-convert {\n",
              "      background-color: #E8F0FE;\n",
              "      border: none;\n",
              "      border-radius: 50%;\n",
              "      cursor: pointer;\n",
              "      display: none;\n",
              "      fill: #1967D2;\n",
              "      height: 32px;\n",
              "      padding: 0 0 0 0;\n",
              "      width: 32px;\n",
              "    }\n",
              "\n",
              "    .colab-df-convert:hover {\n",
              "      background-color: #E2EBFA;\n",
              "      box-shadow: 0px 1px 2px rgba(60, 64, 67, 0.3), 0px 1px 3px 1px rgba(60, 64, 67, 0.15);\n",
              "      fill: #174EA6;\n",
              "    }\n",
              "\n",
              "    [theme=dark] .colab-df-convert {\n",
              "      background-color: #3B4455;\n",
              "      fill: #D2E3FC;\n",
              "    }\n",
              "\n",
              "    [theme=dark] .colab-df-convert:hover {\n",
              "      background-color: #434B5C;\n",
              "      box-shadow: 0px 1px 3px 1px rgba(0, 0, 0, 0.15);\n",
              "      filter: drop-shadow(0px 1px 2px rgba(0, 0, 0, 0.3));\n",
              "      fill: #FFFFFF;\n",
              "    }\n",
              "  </style>\n",
              "\n",
              "      <script>\n",
              "        const buttonEl =\n",
              "          document.querySelector('#df-af83ac3d-5143-4b32-8367-df03bce6d631 button.colab-df-convert');\n",
              "        buttonEl.style.display =\n",
              "          google.colab.kernel.accessAllowed ? 'block' : 'none';\n",
              "\n",
              "        async function convertToInteractive(key) {\n",
              "          const element = document.querySelector('#df-af83ac3d-5143-4b32-8367-df03bce6d631');\n",
              "          const dataTable =\n",
              "            await google.colab.kernel.invokeFunction('convertToInteractive',\n",
              "                                                     [key], {});\n",
              "          if (!dataTable) return;\n",
              "\n",
              "          const docLinkHtml = 'Like what you see? Visit the ' +\n",
              "            '<a target=\"_blank\" href=https://colab.research.google.com/notebooks/data_table.ipynb>data table notebook</a>'\n",
              "            + ' to learn more about interactive tables.';\n",
              "          element.innerHTML = '';\n",
              "          dataTable['output_type'] = 'display_data';\n",
              "          await google.colab.output.renderOutput(dataTable, element);\n",
              "          const docLink = document.createElement('div');\n",
              "          docLink.innerHTML = docLinkHtml;\n",
              "          element.appendChild(docLink);\n",
              "        }\n",
              "      </script>\n",
              "    </div>\n",
              "  </div>\n",
              "  "
            ]
          },
          "metadata": {},
          "execution_count": 172
        }
      ]
    },
    {
      "cell_type": "code",
      "source": [
        "df['Date']=df.index"
      ],
      "metadata": {
        "id": "9unXMmHP9dBl"
      },
      "execution_count": 173,
      "outputs": []
    },
    {
      "cell_type": "code",
      "source": [
        "start_date='2016-01-01'\n",
        "end_date='2020-12-31'\n",
        "mask=(df['Date']>=start_date)&(df['Date']<=end_date)"
      ],
      "metadata": {
        "id": "pmoAuKVz9dEq"
      },
      "execution_count": 174,
      "outputs": []
    },
    {
      "cell_type": "code",
      "source": [
        "df=df.loc[mask]"
      ],
      "metadata": {
        "id": "BuOLMt6t9dHp"
      },
      "execution_count": 175,
      "outputs": []
    },
    {
      "cell_type": "code",
      "source": [
        "df=df.drop(columns=['Series','Symbol','Open','High','Low','Last','Close','VWAP','Volume','Turnover','Trades','Deliverable Volume','%Deliverble','Date'])"
      ],
      "metadata": {
        "id": "5w_ZXVOL9dKu"
      },
      "execution_count": 176,
      "outputs": []
    },
    {
      "cell_type": "code",
      "source": [
        "Ntest=math.trunc(0.3*len(df))\n",
        "train=df.iloc[:-Ntest]\n",
        "test=df.iloc[-Ntest:]"
      ],
      "metadata": {
        "id": "Pd6Tf8ub9dNk"
      },
      "execution_count": 177,
      "outputs": []
    },
    {
      "cell_type": "code",
      "source": [
        "train_idx=df.index<=train.index[-1]\n",
        "test_idx=df.index>train.index[-1]"
      ],
      "metadata": {
        "id": "fFr5cqWk9dQ4"
      },
      "execution_count": 178,
      "outputs": []
    },
    {
      "cell_type": "code",
      "source": [
        "df['Diff Prev Close']=df['Prev Close'].diff()"
      ],
      "metadata": {
        "id": "bTleMRdL9dTP"
      },
      "execution_count": 179,
      "outputs": []
    },
    {
      "cell_type": "code",
      "source": [
        "series=df['Diff Prev Close'].dropna().to_numpy()\n",
        "\n",
        "T=50\n",
        "X=[]\n",
        "Y=[]\n",
        "for t in range(len(series)-T):\n",
        "  x=series[t:t+T]\n",
        "  X.append(x)\n",
        "  y=series[t+T]\n",
        "  Y.append(y)\n",
        "\n",
        "X=np.array(X).reshape(-1,T)\n",
        "Y=np.array(Y)\n",
        "N=len(X)\n",
        "print(\"X.shape\",X.shape,\"Y.shape\",Y.shape)"
      ],
      "metadata": {
        "colab": {
          "base_uri": "https://localhost:8080/"
        },
        "id": "-faJTkyl9dWV",
        "outputId": "640b02b3-55ca-4923-ff16-2c0aa667438f"
      },
      "execution_count": 180,
      "outputs": [
        {
          "output_type": "stream",
          "name": "stdout",
          "text": [
            "X.shape (1187, 50) Y.shape (1187,)\n"
          ]
        }
      ]
    },
    {
      "cell_type": "code",
      "source": [
        "Xtrain,Ytrain=X[:-Ntest],Y[:-Ntest]\n",
        "Xtest,Ytest=X[-Ntest:],Y[-Ntest:]"
      ],
      "metadata": {
        "id": "blHqq_g-9dY_"
      },
      "execution_count": 181,
      "outputs": []
    },
    {
      "cell_type": "markdown",
      "source": [
        "LSTM+CNN"
      ],
      "metadata": {
        "id": "ir_desj398LI"
      }
    },
    {
      "cell_type": "code",
      "source": [
        "i=Input(shape=(T,1))\n",
        "x=LSTM(200,return_sequences=True)(i)\n",
        "x=LSTM(200,return_sequences=True)(x)\n",
        "x=Dense(100)(x)\n",
        "x=Dense(50)(x)\n",
        "x=Conv1D(25,3,activation='relu')(i)\n",
        "x=MaxPooling1D(2)(x)\n",
        "x=Conv1D(50,3,activation='relu')(x)\n",
        "x=GlobalMaxPool1D()(x)\n",
        "x=Dense(1)(x)\n",
        "model_lstm_cnn=Model(i,x)\n",
        "model_lstm_cnn.summary()"
      ],
      "metadata": {
        "colab": {
          "base_uri": "https://localhost:8080/"
        },
        "id": "vvKQKCrr96yo",
        "outputId": "3ba134d3-4cd4-4406-a7f9-232b6808cef9"
      },
      "execution_count": 182,
      "outputs": [
        {
          "output_type": "stream",
          "name": "stdout",
          "text": [
            "Model: \"model_9\"\n",
            "_________________________________________________________________\n",
            " Layer (type)                Output Shape              Param #   \n",
            "=================================================================\n",
            " input_10 (InputLayer)       [(None, 50, 1)]           0         \n",
            "                                                                 \n",
            " conv1d_8 (Conv1D)           (None, 48, 25)            100       \n",
            "                                                                 \n",
            " max_pooling1d_4 (MaxPooling  (None, 24, 25)           0         \n",
            " 1D)                                                             \n",
            "                                                                 \n",
            " conv1d_9 (Conv1D)           (None, 22, 50)            3800      \n",
            "                                                                 \n",
            " global_max_pooling1d_9 (Glo  (None, 50)               0         \n",
            " balMaxPooling1D)                                                \n",
            "                                                                 \n",
            " dense_39 (Dense)            (None, 1)                 51        \n",
            "                                                                 \n",
            "=================================================================\n",
            "Total params: 3,951\n",
            "Trainable params: 3,951\n",
            "Non-trainable params: 0\n",
            "_________________________________________________________________\n"
          ]
        }
      ]
    },
    {
      "cell_type": "code",
      "source": [
        "check_point_lstm_cnn=ModelCheckpoint('best_model.h5',monitor='val_loss',save_best_only=True)"
      ],
      "metadata": {
        "id": "nH-bqzYc967w"
      },
      "execution_count": 183,
      "outputs": []
    },
    {
      "cell_type": "code",
      "source": [
        "model_lstm_cnn.compile(loss='mse',\n",
        "              optimizer='adamax',\n",
        "              metrics=['mae','mse'])"
      ],
      "metadata": {
        "id": "pSNLhWam97B2"
      },
      "execution_count": 184,
      "outputs": []
    },
    {
      "cell_type": "code",
      "source": [
        "r=model_lstm_cnn.fit(\n",
        "    Xtrain,\n",
        "    Ytrain,\n",
        "    epochs=100,\n",
        "    validation_data=(Xtest,Ytest),\n",
        "    callbacks=[check_point_lstm_cnn]\n",
        ")"
      ],
      "metadata": {
        "colab": {
          "base_uri": "https://localhost:8080/"
        },
        "id": "YMfLEKjw97Hd",
        "outputId": "4ebaa16e-c8b1-487b-e8b5-ac91227c0223"
      },
      "execution_count": 185,
      "outputs": [
        {
          "output_type": "stream",
          "name": "stdout",
          "text": [
            "Epoch 1/100\n",
            "26/26 [==============================] - 1s 15ms/step - loss: 553.5519 - mae: 17.7081 - mse: 553.5519 - val_loss: 2527.5547 - val_mae: 34.7151 - val_mse: 2527.5547\n",
            "Epoch 2/100\n",
            "26/26 [==============================] - 0s 10ms/step - loss: 547.2558 - mae: 17.6216 - mse: 547.2558 - val_loss: 2512.3318 - val_mae: 34.5304 - val_mse: 2512.3318\n",
            "Epoch 3/100\n",
            "26/26 [==============================] - 0s 6ms/step - loss: 542.0703 - mae: 17.5894 - mse: 542.0703 - val_loss: 2514.8582 - val_mae: 34.5382 - val_mse: 2514.8582\n",
            "Epoch 4/100\n",
            "26/26 [==============================] - 0s 7ms/step - loss: 537.4230 - mae: 17.5410 - mse: 537.4230 - val_loss: 2514.4443 - val_mae: 34.5355 - val_mse: 2514.4443\n",
            "Epoch 5/100\n",
            "26/26 [==============================] - 0s 7ms/step - loss: 536.4875 - mae: 17.5273 - mse: 536.4875 - val_loss: 2516.5088 - val_mae: 34.5250 - val_mse: 2516.5088\n",
            "Epoch 6/100\n",
            "26/26 [==============================] - 0s 8ms/step - loss: 537.0909 - mae: 17.5664 - mse: 537.0909 - val_loss: 2517.4326 - val_mae: 34.5218 - val_mse: 2517.4326\n",
            "Epoch 7/100\n",
            "26/26 [==============================] - 0s 7ms/step - loss: 532.9266 - mae: 17.4642 - mse: 532.9266 - val_loss: 2528.2659 - val_mae: 34.6031 - val_mse: 2528.2659\n",
            "Epoch 8/100\n",
            "26/26 [==============================] - 0s 9ms/step - loss: 531.1658 - mae: 17.4324 - mse: 531.1658 - val_loss: 2527.9404 - val_mae: 34.5969 - val_mse: 2527.9404\n",
            "Epoch 9/100\n",
            "26/26 [==============================] - 0s 8ms/step - loss: 530.4259 - mae: 17.4388 - mse: 530.4259 - val_loss: 2542.4792 - val_mae: 34.7252 - val_mse: 2542.4792\n",
            "Epoch 10/100\n",
            "26/26 [==============================] - 0s 7ms/step - loss: 529.2131 - mae: 17.4513 - mse: 529.2131 - val_loss: 2524.6292 - val_mae: 34.5515 - val_mse: 2524.6292\n",
            "Epoch 11/100\n",
            "26/26 [==============================] - 0s 8ms/step - loss: 527.8130 - mae: 17.3824 - mse: 527.8130 - val_loss: 2536.1111 - val_mae: 34.6369 - val_mse: 2536.1111\n",
            "Epoch 12/100\n",
            "26/26 [==============================] - 0s 7ms/step - loss: 526.2619 - mae: 17.3759 - mse: 526.2619 - val_loss: 2548.0845 - val_mae: 34.7420 - val_mse: 2548.0845\n",
            "Epoch 13/100\n",
            "26/26 [==============================] - 0s 9ms/step - loss: 525.6693 - mae: 17.3751 - mse: 525.6693 - val_loss: 2543.6392 - val_mae: 34.6816 - val_mse: 2543.6392\n",
            "Epoch 14/100\n",
            "26/26 [==============================] - 0s 8ms/step - loss: 525.0203 - mae: 17.3774 - mse: 525.0203 - val_loss: 2535.2134 - val_mae: 34.5953 - val_mse: 2535.2134\n",
            "Epoch 15/100\n",
            "26/26 [==============================] - 0s 8ms/step - loss: 524.0279 - mae: 17.3541 - mse: 524.0279 - val_loss: 2539.9890 - val_mae: 34.6511 - val_mse: 2539.9890\n",
            "Epoch 16/100\n",
            "26/26 [==============================] - 0s 7ms/step - loss: 522.8734 - mae: 17.3396 - mse: 522.8734 - val_loss: 2550.7175 - val_mae: 34.7229 - val_mse: 2550.7175\n",
            "Epoch 17/100\n",
            "26/26 [==============================] - 0s 7ms/step - loss: 521.5161 - mae: 17.3251 - mse: 521.5161 - val_loss: 2543.9194 - val_mae: 34.6573 - val_mse: 2543.9194\n",
            "Epoch 18/100\n",
            "26/26 [==============================] - 0s 7ms/step - loss: 523.4847 - mae: 17.3292 - mse: 523.4847 - val_loss: 2535.1885 - val_mae: 34.5950 - val_mse: 2535.1885\n",
            "Epoch 19/100\n",
            "26/26 [==============================] - 0s 9ms/step - loss: 520.5504 - mae: 17.2909 - mse: 520.5504 - val_loss: 2569.2688 - val_mae: 34.8566 - val_mse: 2569.2688\n",
            "Epoch 20/100\n",
            "26/26 [==============================] - 0s 8ms/step - loss: 520.5466 - mae: 17.3180 - mse: 520.5466 - val_loss: 2551.8843 - val_mae: 34.7304 - val_mse: 2551.8843\n",
            "Epoch 21/100\n",
            "26/26 [==============================] - 0s 8ms/step - loss: 519.0256 - mae: 17.2849 - mse: 519.0256 - val_loss: 2542.7488 - val_mae: 34.6116 - val_mse: 2542.7488\n",
            "Epoch 22/100\n",
            "26/26 [==============================] - 0s 7ms/step - loss: 518.0851 - mae: 17.2511 - mse: 518.0851 - val_loss: 2555.8105 - val_mae: 34.7319 - val_mse: 2555.8105\n",
            "Epoch 23/100\n",
            "26/26 [==============================] - 0s 8ms/step - loss: 518.2720 - mae: 17.2872 - mse: 518.2720 - val_loss: 2555.5500 - val_mae: 34.7252 - val_mse: 2555.5500\n",
            "Epoch 24/100\n",
            "26/26 [==============================] - 0s 7ms/step - loss: 516.7761 - mae: 17.2658 - mse: 516.7761 - val_loss: 2559.4949 - val_mae: 34.7479 - val_mse: 2559.4949\n",
            "Epoch 25/100\n",
            "26/26 [==============================] - 0s 9ms/step - loss: 518.2222 - mae: 17.3140 - mse: 518.2222 - val_loss: 2545.2756 - val_mae: 34.6169 - val_mse: 2545.2756\n",
            "Epoch 26/100\n",
            "26/26 [==============================] - 0s 7ms/step - loss: 515.4307 - mae: 17.2751 - mse: 515.4307 - val_loss: 2580.5503 - val_mae: 34.9232 - val_mse: 2580.5503\n",
            "Epoch 27/100\n",
            "26/26 [==============================] - 0s 7ms/step - loss: 514.9850 - mae: 17.2233 - mse: 514.9850 - val_loss: 2555.3394 - val_mae: 34.6904 - val_mse: 2555.3394\n",
            "Epoch 28/100\n",
            "26/26 [==============================] - 0s 7ms/step - loss: 515.6777 - mae: 17.2171 - mse: 515.6777 - val_loss: 2571.9521 - val_mae: 34.8276 - val_mse: 2571.9521\n",
            "Epoch 29/100\n",
            "26/26 [==============================] - 0s 7ms/step - loss: 514.3501 - mae: 17.2114 - mse: 514.3501 - val_loss: 2566.3174 - val_mae: 34.7928 - val_mse: 2566.3174\n",
            "Epoch 30/100\n",
            "26/26 [==============================] - 0s 8ms/step - loss: 514.1313 - mae: 17.2214 - mse: 514.1313 - val_loss: 2566.9673 - val_mae: 34.7876 - val_mse: 2566.9673\n",
            "Epoch 31/100\n",
            "26/26 [==============================] - 0s 9ms/step - loss: 518.7413 - mae: 17.2218 - mse: 518.7413 - val_loss: 2617.4014 - val_mae: 35.1846 - val_mse: 2617.4014\n",
            "Epoch 32/100\n",
            "26/26 [==============================] - 0s 8ms/step - loss: 515.9813 - mae: 17.2530 - mse: 515.9813 - val_loss: 2594.1042 - val_mae: 34.9903 - val_mse: 2594.1042\n",
            "Epoch 33/100\n",
            "26/26 [==============================] - 0s 8ms/step - loss: 512.3908 - mae: 17.2167 - mse: 512.3908 - val_loss: 2575.5547 - val_mae: 34.8408 - val_mse: 2575.5547\n",
            "Epoch 34/100\n",
            "26/26 [==============================] - 0s 7ms/step - loss: 511.9228 - mae: 17.1901 - mse: 511.9228 - val_loss: 2578.8735 - val_mae: 34.8692 - val_mse: 2578.8735\n",
            "Epoch 35/100\n",
            "26/26 [==============================] - 0s 8ms/step - loss: 512.6238 - mae: 17.1913 - mse: 512.6238 - val_loss: 2620.5964 - val_mae: 35.1989 - val_mse: 2620.5964\n",
            "Epoch 36/100\n",
            "26/26 [==============================] - 0s 8ms/step - loss: 513.3099 - mae: 17.2076 - mse: 513.3099 - val_loss: 2609.8491 - val_mae: 35.1027 - val_mse: 2609.8491\n",
            "Epoch 37/100\n",
            "26/26 [==============================] - 0s 7ms/step - loss: 511.0358 - mae: 17.1508 - mse: 511.0358 - val_loss: 2568.2283 - val_mae: 34.7446 - val_mse: 2568.2283\n",
            "Epoch 38/100\n",
            "26/26 [==============================] - 0s 8ms/step - loss: 510.1787 - mae: 17.2221 - mse: 510.1787 - val_loss: 2574.0664 - val_mae: 34.8085 - val_mse: 2574.0664\n",
            "Epoch 39/100\n",
            "26/26 [==============================] - 0s 7ms/step - loss: 509.1764 - mae: 17.1486 - mse: 509.1764 - val_loss: 2590.5747 - val_mae: 34.9327 - val_mse: 2590.5747\n",
            "Epoch 40/100\n",
            "26/26 [==============================] - 0s 8ms/step - loss: 508.7327 - mae: 17.1409 - mse: 508.7327 - val_loss: 2622.0828 - val_mae: 35.1619 - val_mse: 2622.0828\n",
            "Epoch 41/100\n",
            "26/26 [==============================] - 0s 7ms/step - loss: 509.0138 - mae: 17.1775 - mse: 509.0138 - val_loss: 2574.3535 - val_mae: 34.7861 - val_mse: 2574.3535\n",
            "Epoch 42/100\n",
            "26/26 [==============================] - 0s 6ms/step - loss: 508.4438 - mae: 17.1125 - mse: 508.4438 - val_loss: 2593.0195 - val_mae: 34.9328 - val_mse: 2593.0195\n",
            "Epoch 43/100\n",
            "26/26 [==============================] - 0s 7ms/step - loss: 507.5238 - mae: 17.1599 - mse: 507.5238 - val_loss: 2567.3965 - val_mae: 34.7087 - val_mse: 2567.3965\n",
            "Epoch 44/100\n",
            "26/26 [==============================] - 0s 7ms/step - loss: 508.8627 - mae: 17.1733 - mse: 508.8627 - val_loss: 2655.7527 - val_mae: 35.4520 - val_mse: 2655.7527\n",
            "Epoch 45/100\n",
            "26/26 [==============================] - 0s 7ms/step - loss: 510.4222 - mae: 17.1588 - mse: 510.4222 - val_loss: 2599.2397 - val_mae: 34.9587 - val_mse: 2599.2397\n",
            "Epoch 46/100\n",
            "26/26 [==============================] - 0s 8ms/step - loss: 507.2375 - mae: 17.1267 - mse: 507.2375 - val_loss: 2609.2878 - val_mae: 35.0212 - val_mse: 2609.2878\n",
            "Epoch 47/100\n",
            "26/26 [==============================] - 0s 7ms/step - loss: 505.5661 - mae: 17.1011 - mse: 505.5661 - val_loss: 2590.3879 - val_mae: 34.8690 - val_mse: 2590.3879\n",
            "Epoch 48/100\n",
            "26/26 [==============================] - 0s 8ms/step - loss: 505.9738 - mae: 17.1206 - mse: 505.9738 - val_loss: 2595.7327 - val_mae: 34.9008 - val_mse: 2595.7327\n",
            "Epoch 49/100\n",
            "26/26 [==============================] - 0s 7ms/step - loss: 506.0257 - mae: 17.1096 - mse: 506.0257 - val_loss: 2619.4927 - val_mae: 35.1031 - val_mse: 2619.4927\n",
            "Epoch 50/100\n",
            "26/26 [==============================] - 0s 7ms/step - loss: 507.0488 - mae: 17.1330 - mse: 507.0488 - val_loss: 2610.6279 - val_mae: 35.0218 - val_mse: 2610.6279\n",
            "Epoch 51/100\n",
            "26/26 [==============================] - 0s 8ms/step - loss: 503.4244 - mae: 17.0825 - mse: 503.4244 - val_loss: 2599.3364 - val_mae: 34.9002 - val_mse: 2599.3364\n",
            "Epoch 52/100\n",
            "26/26 [==============================] - 0s 7ms/step - loss: 504.8041 - mae: 17.0719 - mse: 504.8041 - val_loss: 2705.2590 - val_mae: 35.7384 - val_mse: 2705.2590\n",
            "Epoch 53/100\n",
            "26/26 [==============================] - 0s 8ms/step - loss: 511.0564 - mae: 17.1826 - mse: 511.0564 - val_loss: 2591.0115 - val_mae: 34.8277 - val_mse: 2591.0115\n",
            "Epoch 54/100\n",
            "26/26 [==============================] - 0s 6ms/step - loss: 502.5925 - mae: 17.0450 - mse: 502.5925 - val_loss: 2615.5596 - val_mae: 35.0243 - val_mse: 2615.5596\n",
            "Epoch 55/100\n",
            "26/26 [==============================] - 0s 6ms/step - loss: 501.7602 - mae: 17.0688 - mse: 501.7602 - val_loss: 2662.8572 - val_mae: 35.4263 - val_mse: 2662.8572\n",
            "Epoch 56/100\n",
            "26/26 [==============================] - 0s 6ms/step - loss: 503.5968 - mae: 17.0443 - mse: 503.5968 - val_loss: 2587.0393 - val_mae: 34.7885 - val_mse: 2587.0393\n",
            "Epoch 57/100\n",
            "26/26 [==============================] - 0s 8ms/step - loss: 503.0817 - mae: 16.9679 - mse: 503.0817 - val_loss: 2704.4023 - val_mae: 35.7331 - val_mse: 2704.4023\n",
            "Epoch 58/100\n",
            "26/26 [==============================] - 0s 8ms/step - loss: 502.9649 - mae: 17.1032 - mse: 502.9649 - val_loss: 2631.3252 - val_mae: 35.1395 - val_mse: 2631.3252\n",
            "Epoch 59/100\n",
            "26/26 [==============================] - 0s 8ms/step - loss: 499.8777 - mae: 17.0434 - mse: 499.8777 - val_loss: 2665.4639 - val_mae: 35.4406 - val_mse: 2665.4639\n",
            "Epoch 60/100\n",
            "26/26 [==============================] - 0s 6ms/step - loss: 500.0227 - mae: 17.0246 - mse: 500.0227 - val_loss: 2590.0596 - val_mae: 34.8201 - val_mse: 2590.0596\n",
            "Epoch 61/100\n",
            "26/26 [==============================] - 0s 8ms/step - loss: 499.9307 - mae: 17.0050 - mse: 499.9307 - val_loss: 2674.8618 - val_mae: 35.4988 - val_mse: 2674.8618\n",
            "Epoch 62/100\n",
            "26/26 [==============================] - 0s 7ms/step - loss: 501.9085 - mae: 17.0466 - mse: 501.9085 - val_loss: 2608.1562 - val_mae: 34.9027 - val_mse: 2608.1562\n",
            "Epoch 63/100\n",
            "26/26 [==============================] - 0s 7ms/step - loss: 499.5170 - mae: 17.0155 - mse: 499.5170 - val_loss: 2650.0583 - val_mae: 35.2750 - val_mse: 2650.0583\n",
            "Epoch 64/100\n",
            "26/26 [==============================] - 0s 7ms/step - loss: 499.0982 - mae: 17.0142 - mse: 499.0982 - val_loss: 2653.2268 - val_mae: 35.2784 - val_mse: 2653.2268\n",
            "Epoch 65/100\n",
            "26/26 [==============================] - 0s 6ms/step - loss: 499.8224 - mae: 17.0007 - mse: 499.8224 - val_loss: 2598.3108 - val_mae: 34.8719 - val_mse: 2598.3108\n",
            "Epoch 66/100\n",
            "26/26 [==============================] - 0s 6ms/step - loss: 503.2728 - mae: 17.0430 - mse: 503.2728 - val_loss: 2667.0081 - val_mae: 35.4131 - val_mse: 2667.0081\n",
            "Epoch 67/100\n",
            "26/26 [==============================] - 0s 7ms/step - loss: 498.0219 - mae: 17.0098 - mse: 498.0219 - val_loss: 2622.5452 - val_mae: 35.0191 - val_mse: 2622.5452\n",
            "Epoch 68/100\n",
            "26/26 [==============================] - 0s 8ms/step - loss: 495.7595 - mae: 16.9825 - mse: 495.7595 - val_loss: 2658.8450 - val_mae: 35.3199 - val_mse: 2658.8450\n",
            "Epoch 69/100\n",
            "26/26 [==============================] - 0s 7ms/step - loss: 495.5358 - mae: 16.9695 - mse: 495.5358 - val_loss: 2652.7280 - val_mae: 35.2624 - val_mse: 2652.7280\n",
            "Epoch 70/100\n",
            "26/26 [==============================] - 0s 8ms/step - loss: 499.2087 - mae: 17.0483 - mse: 499.2087 - val_loss: 2607.3914 - val_mae: 34.9288 - val_mse: 2607.3914\n",
            "Epoch 71/100\n",
            "26/26 [==============================] - 0s 6ms/step - loss: 498.3129 - mae: 16.9733 - mse: 498.3129 - val_loss: 2668.8389 - val_mae: 35.3975 - val_mse: 2668.8389\n",
            "Epoch 72/100\n",
            "26/26 [==============================] - 0s 7ms/step - loss: 496.9736 - mae: 16.9762 - mse: 496.9736 - val_loss: 2707.2847 - val_mae: 35.6623 - val_mse: 2707.2847\n",
            "Epoch 73/100\n",
            "26/26 [==============================] - 0s 7ms/step - loss: 494.1835 - mae: 16.9447 - mse: 494.1835 - val_loss: 2632.1614 - val_mae: 35.0477 - val_mse: 2632.1614\n",
            "Epoch 74/100\n",
            "26/26 [==============================] - 0s 8ms/step - loss: 495.3944 - mae: 16.9393 - mse: 495.3944 - val_loss: 2654.0422 - val_mae: 35.2529 - val_mse: 2654.0422\n",
            "Epoch 75/100\n",
            "26/26 [==============================] - 0s 8ms/step - loss: 494.5071 - mae: 16.9821 - mse: 494.5071 - val_loss: 2633.2231 - val_mae: 35.0577 - val_mse: 2633.2231\n",
            "Epoch 76/100\n",
            "26/26 [==============================] - 0s 8ms/step - loss: 493.1001 - mae: 16.9076 - mse: 493.1001 - val_loss: 2710.6575 - val_mae: 35.6960 - val_mse: 2710.6575\n",
            "Epoch 77/100\n",
            "26/26 [==============================] - 0s 6ms/step - loss: 495.8048 - mae: 16.9669 - mse: 495.8048 - val_loss: 2636.7795 - val_mae: 35.0731 - val_mse: 2636.7795\n",
            "Epoch 78/100\n",
            "26/26 [==============================] - 0s 7ms/step - loss: 491.6188 - mae: 16.9186 - mse: 491.6188 - val_loss: 2686.7498 - val_mae: 35.4899 - val_mse: 2686.7498\n",
            "Epoch 79/100\n",
            "26/26 [==============================] - 0s 8ms/step - loss: 492.5641 - mae: 16.9160 - mse: 492.5641 - val_loss: 2675.8298 - val_mae: 35.3974 - val_mse: 2675.8298\n",
            "Epoch 80/100\n",
            "26/26 [==============================] - 0s 8ms/step - loss: 492.2433 - mae: 16.9418 - mse: 492.2433 - val_loss: 2710.2456 - val_mae: 35.6928 - val_mse: 2710.2456\n",
            "Epoch 81/100\n",
            "26/26 [==============================] - 0s 8ms/step - loss: 493.7968 - mae: 16.9358 - mse: 493.7968 - val_loss: 2647.5608 - val_mae: 35.1830 - val_mse: 2647.5608\n",
            "Epoch 82/100\n",
            "26/26 [==============================] - 0s 8ms/step - loss: 490.5093 - mae: 16.9134 - mse: 490.5093 - val_loss: 2669.5295 - val_mae: 35.3873 - val_mse: 2669.5295\n",
            "Epoch 83/100\n",
            "26/26 [==============================] - 0s 7ms/step - loss: 489.6750 - mae: 16.8795 - mse: 489.6750 - val_loss: 2691.7126 - val_mae: 35.5223 - val_mse: 2691.7126\n",
            "Epoch 84/100\n",
            "26/26 [==============================] - 0s 6ms/step - loss: 490.2697 - mae: 16.8865 - mse: 490.2697 - val_loss: 2728.8423 - val_mae: 35.7979 - val_mse: 2728.8423\n",
            "Epoch 85/100\n",
            "26/26 [==============================] - 0s 6ms/step - loss: 490.0691 - mae: 16.9024 - mse: 490.0691 - val_loss: 2681.3540 - val_mae: 35.4243 - val_mse: 2681.3540\n",
            "Epoch 86/100\n",
            "26/26 [==============================] - 0s 6ms/step - loss: 491.4231 - mae: 16.9466 - mse: 491.4231 - val_loss: 2736.3406 - val_mae: 35.8737 - val_mse: 2736.3406\n",
            "Epoch 87/100\n",
            "26/26 [==============================] - 0s 7ms/step - loss: 491.6534 - mae: 16.9150 - mse: 491.6534 - val_loss: 2675.4768 - val_mae: 35.3842 - val_mse: 2675.4768\n",
            "Epoch 88/100\n",
            "26/26 [==============================] - 0s 6ms/step - loss: 489.0484 - mae: 16.8883 - mse: 489.0484 - val_loss: 2726.5837 - val_mae: 35.7716 - val_mse: 2726.5837\n",
            "Epoch 89/100\n",
            "26/26 [==============================] - 0s 7ms/step - loss: 489.4245 - mae: 16.8754 - mse: 489.4245 - val_loss: 2714.2732 - val_mae: 35.6773 - val_mse: 2714.2732\n",
            "Epoch 90/100\n",
            "26/26 [==============================] - 0s 6ms/step - loss: 489.2969 - mae: 16.8846 - mse: 489.2969 - val_loss: 2706.7102 - val_mae: 35.5796 - val_mse: 2706.7102\n",
            "Epoch 91/100\n",
            "26/26 [==============================] - 0s 8ms/step - loss: 488.7186 - mae: 16.8772 - mse: 488.7186 - val_loss: 2719.4084 - val_mae: 35.6987 - val_mse: 2719.4084\n",
            "Epoch 92/100\n",
            "26/26 [==============================] - 0s 6ms/step - loss: 486.3571 - mae: 16.8381 - mse: 486.3571 - val_loss: 2653.2183 - val_mae: 35.1743 - val_mse: 2653.2183\n",
            "Epoch 93/100\n",
            "26/26 [==============================] - 0s 8ms/step - loss: 493.8268 - mae: 16.9650 - mse: 493.8268 - val_loss: 2706.7314 - val_mae: 35.5958 - val_mse: 2706.7314\n",
            "Epoch 94/100\n",
            "26/26 [==============================] - 0s 7ms/step - loss: 486.6315 - mae: 16.8379 - mse: 486.6315 - val_loss: 2742.4949 - val_mae: 35.8655 - val_mse: 2742.4949\n",
            "Epoch 95/100\n",
            "26/26 [==============================] - 0s 7ms/step - loss: 484.2113 - mae: 16.7978 - mse: 484.2113 - val_loss: 2655.0361 - val_mae: 35.1819 - val_mse: 2655.0361\n",
            "Epoch 96/100\n",
            "26/26 [==============================] - 0s 6ms/step - loss: 490.7241 - mae: 16.9510 - mse: 490.7241 - val_loss: 2836.9524 - val_mae: 36.5531 - val_mse: 2836.9524\n",
            "Epoch 97/100\n",
            "26/26 [==============================] - 0s 6ms/step - loss: 485.1600 - mae: 16.8848 - mse: 485.1600 - val_loss: 2684.4014 - val_mae: 35.4040 - val_mse: 2684.4014\n",
            "Epoch 98/100\n",
            "26/26 [==============================] - 0s 7ms/step - loss: 484.2986 - mae: 16.8287 - mse: 484.2986 - val_loss: 2805.8108 - val_mae: 36.3285 - val_mse: 2805.8108\n",
            "Epoch 99/100\n",
            "26/26 [==============================] - 0s 9ms/step - loss: 488.5425 - mae: 16.8143 - mse: 488.5425 - val_loss: 2679.0894 - val_mae: 35.3601 - val_mse: 2679.0894\n",
            "Epoch 100/100\n",
            "26/26 [==============================] - 0s 8ms/step - loss: 486.1431 - mae: 16.8587 - mse: 486.1431 - val_loss: 2669.6328 - val_mae: 35.2686 - val_mse: 2669.6328\n"
          ]
        }
      ]
    },
    {
      "cell_type": "markdown",
      "source": [
        "LSTM+GRU"
      ],
      "metadata": {
        "id": "5TW_EAhE-iWs"
      }
    },
    {
      "cell_type": "code",
      "source": [
        "i=Input(shape=(T,1))\n",
        "x=LSTM(200,return_sequences=True)(i)\n",
        "x=LSTM(200,return_sequences=True)(x)\n",
        "x=Dense(100)(x)\n",
        "x=Dense(50)(x)\n",
        "x=GRU(200,return_sequences=True)(x)\n",
        "x=GRU(200,return_sequences=True)(x)\n",
        "x=GlobalMaxPool1D()(x)\n",
        "x=Dense(100)(x)\n",
        "x=Dense(50)(x)\n",
        "x=Dense(1)(x)\n",
        "model_lstm_gru=Model(i,x)\n",
        "model_lstm_gru.summary()"
      ],
      "metadata": {
        "colab": {
          "base_uri": "https://localhost:8080/"
        },
        "id": "5MFW_hNA-UIb",
        "outputId": "a65eada1-9913-443d-f120-7da7cac6ec58"
      },
      "execution_count": 186,
      "outputs": [
        {
          "output_type": "stream",
          "name": "stdout",
          "text": [
            "Model: \"model_10\"\n",
            "_________________________________________________________________\n",
            " Layer (type)                Output Shape              Param #   \n",
            "=================================================================\n",
            " input_11 (InputLayer)       [(None, 50, 1)]           0         \n",
            "                                                                 \n",
            " lstm_20 (LSTM)              (None, 50, 200)           161600    \n",
            "                                                                 \n",
            " lstm_21 (LSTM)              (None, 50, 200)           320800    \n",
            "                                                                 \n",
            " dense_40 (Dense)            (None, 50, 100)           20100     \n",
            "                                                                 \n",
            " dense_41 (Dense)            (None, 50, 50)            5050      \n",
            "                                                                 \n",
            " gru_10 (GRU)                (None, 50, 200)           151200    \n",
            "                                                                 \n",
            " gru_11 (GRU)                (None, 50, 200)           241200    \n",
            "                                                                 \n",
            " global_max_pooling1d_10 (Gl  (None, 200)              0         \n",
            " obalMaxPooling1D)                                               \n",
            "                                                                 \n",
            " dense_42 (Dense)            (None, 100)               20100     \n",
            "                                                                 \n",
            " dense_43 (Dense)            (None, 50)                5050      \n",
            "                                                                 \n",
            " dense_44 (Dense)            (None, 1)                 51        \n",
            "                                                                 \n",
            "=================================================================\n",
            "Total params: 925,151\n",
            "Trainable params: 925,151\n",
            "Non-trainable params: 0\n",
            "_________________________________________________________________\n"
          ]
        }
      ]
    },
    {
      "cell_type": "code",
      "source": [
        "check_point_lstm_gru=ModelCheckpoint('best_model.h5',monitor='val_loss',save_best_only=True)"
      ],
      "metadata": {
        "id": "bPn2IlMx-pP6"
      },
      "execution_count": 187,
      "outputs": []
    },
    {
      "cell_type": "code",
      "source": [
        "model_lstm_gru.compile(loss='mse',\n",
        "              optimizer='adamax',\n",
        "              metrics=['mae','mse'])"
      ],
      "metadata": {
        "id": "s2W9B-lL-5VS"
      },
      "execution_count": 188,
      "outputs": []
    },
    {
      "cell_type": "code",
      "source": [
        "r=model_lstm_gru.fit(\n",
        "    Xtrain,\n",
        "    Ytrain,\n",
        "    epochs=100,\n",
        "    validation_data=(Xtest,Ytest),\n",
        "    callbacks=[check_point_lstm_gru]\n",
        ")"
      ],
      "metadata": {
        "colab": {
          "base_uri": "https://localhost:8080/"
        },
        "id": "tSfqgZ2w-8KI",
        "outputId": "af8d7110-5ab4-4e42-b949-ed4f53c42658"
      },
      "execution_count": 189,
      "outputs": [
        {
          "output_type": "stream",
          "name": "stdout",
          "text": [
            "Epoch 1/100\n",
            "26/26 [==============================] - 23s 606ms/step - loss: 543.3048 - mae: 17.6327 - mse: 543.3048 - val_loss: 2515.1643 - val_mae: 34.4919 - val_mse: 2515.1643\n",
            "Epoch 2/100\n",
            "26/26 [==============================] - 14s 539ms/step - loss: 542.9067 - mae: 17.6258 - mse: 542.9067 - val_loss: 2515.3035 - val_mae: 34.4778 - val_mse: 2515.3035\n",
            "Epoch 3/100\n",
            "26/26 [==============================] - 14s 541ms/step - loss: 542.2609 - mae: 17.6290 - mse: 542.2609 - val_loss: 2514.8062 - val_mae: 34.4732 - val_mse: 2514.8062\n",
            "Epoch 4/100\n",
            "26/26 [==============================] - 14s 543ms/step - loss: 541.4482 - mae: 17.6259 - mse: 541.4482 - val_loss: 2514.2698 - val_mae: 34.4518 - val_mse: 2514.2698\n",
            "Epoch 5/100\n",
            "26/26 [==============================] - 14s 540ms/step - loss: 541.7368 - mae: 17.6348 - mse: 541.7368 - val_loss: 2513.2346 - val_mae: 34.4593 - val_mse: 2513.2346\n",
            "Epoch 6/100\n",
            "26/26 [==============================] - 14s 537ms/step - loss: 542.0893 - mae: 17.6565 - mse: 542.0893 - val_loss: 2513.9502 - val_mae: 34.4653 - val_mse: 2513.9502\n",
            "Epoch 7/100\n",
            "26/26 [==============================] - 14s 540ms/step - loss: 540.6512 - mae: 17.6050 - mse: 540.6512 - val_loss: 2512.5996 - val_mae: 34.4387 - val_mse: 2512.5996\n",
            "Epoch 8/100\n",
            "26/26 [==============================] - 14s 537ms/step - loss: 540.1428 - mae: 17.6051 - mse: 540.1428 - val_loss: 2512.1328 - val_mae: 34.4436 - val_mse: 2512.1328\n",
            "Epoch 9/100\n",
            "26/26 [==============================] - 14s 540ms/step - loss: 540.2974 - mae: 17.6054 - mse: 540.2974 - val_loss: 2511.3220 - val_mae: 34.4264 - val_mse: 2511.3220\n",
            "Epoch 10/100\n",
            "26/26 [==============================] - 14s 536ms/step - loss: 539.4111 - mae: 17.6236 - mse: 539.4111 - val_loss: 2512.8616 - val_mae: 34.4573 - val_mse: 2512.8616\n",
            "Epoch 11/100\n",
            "26/26 [==============================] - 14s 538ms/step - loss: 538.4074 - mae: 17.5682 - mse: 538.4074 - val_loss: 2514.0291 - val_mae: 34.4795 - val_mse: 2514.0291\n",
            "Epoch 12/100\n",
            "26/26 [==============================] - 14s 538ms/step - loss: 538.2447 - mae: 17.5839 - mse: 538.2447 - val_loss: 2512.4607 - val_mae: 34.4510 - val_mse: 2512.4607\n",
            "Epoch 13/100\n",
            "26/26 [==============================] - 14s 538ms/step - loss: 538.2052 - mae: 17.5825 - mse: 538.2052 - val_loss: 2513.6370 - val_mae: 34.4526 - val_mse: 2513.6370\n",
            "Epoch 14/100\n",
            "26/26 [==============================] - 14s 538ms/step - loss: 537.4878 - mae: 17.6130 - mse: 537.4878 - val_loss: 2513.6394 - val_mae: 34.4556 - val_mse: 2513.6394\n",
            "Epoch 15/100\n",
            "26/26 [==============================] - 14s 536ms/step - loss: 538.0611 - mae: 17.6051 - mse: 538.0611 - val_loss: 2514.5076 - val_mae: 34.4651 - val_mse: 2514.5076\n",
            "Epoch 16/100\n",
            "26/26 [==============================] - 14s 536ms/step - loss: 536.3765 - mae: 17.5580 - mse: 536.3765 - val_loss: 2516.8586 - val_mae: 34.4816 - val_mse: 2516.8586\n",
            "Epoch 17/100\n",
            "26/26 [==============================] - 14s 540ms/step - loss: 534.3896 - mae: 17.5653 - mse: 534.3896 - val_loss: 2516.7798 - val_mae: 34.4860 - val_mse: 2516.7798\n",
            "Epoch 18/100\n",
            "26/26 [==============================] - 14s 541ms/step - loss: 536.9519 - mae: 17.5621 - mse: 536.9519 - val_loss: 2519.7864 - val_mae: 34.5895 - val_mse: 2519.7864\n",
            "Epoch 19/100\n",
            "26/26 [==============================] - 14s 539ms/step - loss: 535.3486 - mae: 17.5583 - mse: 535.3486 - val_loss: 2521.7920 - val_mae: 34.5274 - val_mse: 2521.7920\n",
            "Epoch 20/100\n",
            "26/26 [==============================] - 14s 542ms/step - loss: 532.3737 - mae: 17.4979 - mse: 532.3737 - val_loss: 2518.4216 - val_mae: 34.5292 - val_mse: 2518.4216\n",
            "Epoch 21/100\n",
            "26/26 [==============================] - 14s 540ms/step - loss: 533.1009 - mae: 17.5145 - mse: 533.1009 - val_loss: 2514.7378 - val_mae: 34.5294 - val_mse: 2514.7378\n",
            "Epoch 22/100\n",
            "26/26 [==============================] - 14s 540ms/step - loss: 528.2245 - mae: 17.4327 - mse: 528.2245 - val_loss: 2518.3582 - val_mae: 34.5836 - val_mse: 2518.3582\n",
            "Epoch 23/100\n",
            "26/26 [==============================] - 14s 543ms/step - loss: 528.1580 - mae: 17.5054 - mse: 528.1580 - val_loss: 2507.3525 - val_mae: 34.4214 - val_mse: 2507.3525\n",
            "Epoch 24/100\n",
            "26/26 [==============================] - 14s 541ms/step - loss: 538.3321 - mae: 17.6184 - mse: 538.3321 - val_loss: 2511.0322 - val_mae: 34.4368 - val_mse: 2511.0322\n",
            "Epoch 25/100\n",
            "26/26 [==============================] - 14s 544ms/step - loss: 537.3616 - mae: 17.6509 - mse: 537.3616 - val_loss: 2511.0867 - val_mae: 34.4987 - val_mse: 2511.0867\n",
            "Epoch 26/100\n",
            "26/26 [==============================] - 14s 540ms/step - loss: 530.3047 - mae: 17.4610 - mse: 530.3047 - val_loss: 2517.5420 - val_mae: 34.5419 - val_mse: 2517.5420\n",
            "Epoch 27/100\n",
            "26/26 [==============================] - 14s 540ms/step - loss: 528.9532 - mae: 17.4591 - mse: 528.9532 - val_loss: 2520.8665 - val_mae: 34.5831 - val_mse: 2520.8665\n",
            "Epoch 28/100\n",
            "26/26 [==============================] - 14s 541ms/step - loss: 526.3210 - mae: 17.4166 - mse: 526.3210 - val_loss: 2522.7737 - val_mae: 34.5863 - val_mse: 2522.7737\n",
            "Epoch 29/100\n",
            "26/26 [==============================] - 14s 538ms/step - loss: 525.7134 - mae: 17.4012 - mse: 525.7134 - val_loss: 2518.9126 - val_mae: 34.6542 - val_mse: 2518.9126\n",
            "Epoch 30/100\n",
            "26/26 [==============================] - 14s 538ms/step - loss: 523.2390 - mae: 17.4591 - mse: 523.2390 - val_loss: 2524.3579 - val_mae: 34.7210 - val_mse: 2524.3579\n",
            "Epoch 31/100\n",
            "26/26 [==============================] - 14s 539ms/step - loss: 528.8672 - mae: 17.5781 - mse: 528.8672 - val_loss: 2522.0769 - val_mae: 34.5954 - val_mse: 2522.0769\n",
            "Epoch 32/100\n",
            "26/26 [==============================] - 14s 536ms/step - loss: 528.0080 - mae: 17.5310 - mse: 528.0080 - val_loss: 2529.7485 - val_mae: 34.6282 - val_mse: 2529.7485\n",
            "Epoch 33/100\n",
            "26/26 [==============================] - 14s 538ms/step - loss: 522.2794 - mae: 17.3303 - mse: 522.2794 - val_loss: 2514.6960 - val_mae: 34.5987 - val_mse: 2514.6960\n",
            "Epoch 34/100\n",
            "26/26 [==============================] - 14s 538ms/step - loss: 515.5729 - mae: 17.2486 - mse: 515.5729 - val_loss: 2524.9182 - val_mae: 34.7175 - val_mse: 2524.9182\n",
            "Epoch 35/100\n",
            "26/26 [==============================] - 14s 544ms/step - loss: 517.1962 - mae: 17.2768 - mse: 517.1962 - val_loss: 2524.9263 - val_mae: 34.6716 - val_mse: 2524.9263\n",
            "Epoch 36/100\n",
            "26/26 [==============================] - 14s 540ms/step - loss: 518.2163 - mae: 17.2790 - mse: 518.2163 - val_loss: 2532.5347 - val_mae: 34.6955 - val_mse: 2532.5347\n",
            "Epoch 37/100\n",
            "26/26 [==============================] - 14s 538ms/step - loss: 513.2464 - mae: 17.2192 - mse: 513.2464 - val_loss: 2539.0210 - val_mae: 34.7957 - val_mse: 2539.0210\n",
            "Epoch 38/100\n",
            "26/26 [==============================] - 14s 539ms/step - loss: 511.4742 - mae: 17.1530 - mse: 511.4742 - val_loss: 2529.0022 - val_mae: 34.8863 - val_mse: 2529.0022\n",
            "Epoch 39/100\n",
            "26/26 [==============================] - 14s 543ms/step - loss: 505.7440 - mae: 17.0768 - mse: 505.7440 - val_loss: 2519.0520 - val_mae: 34.7827 - val_mse: 2519.0520\n",
            "Epoch 40/100\n",
            "26/26 [==============================] - 14s 542ms/step - loss: 503.1664 - mae: 17.1051 - mse: 503.1664 - val_loss: 2537.2781 - val_mae: 34.9880 - val_mse: 2537.2781\n",
            "Epoch 41/100\n",
            "26/26 [==============================] - 14s 541ms/step - loss: 506.2632 - mae: 17.1027 - mse: 506.2632 - val_loss: 2530.7568 - val_mae: 34.8601 - val_mse: 2530.7568\n",
            "Epoch 42/100\n",
            "26/26 [==============================] - 14s 543ms/step - loss: 499.7094 - mae: 16.9867 - mse: 499.7094 - val_loss: 2541.4451 - val_mae: 35.1520 - val_mse: 2541.4451\n",
            "Epoch 43/100\n",
            "26/26 [==============================] - 14s 541ms/step - loss: 502.2151 - mae: 17.0023 - mse: 502.2151 - val_loss: 2548.3589 - val_mae: 35.1718 - val_mse: 2548.3589\n",
            "Epoch 44/100\n",
            "26/26 [==============================] - 14s 546ms/step - loss: 502.9081 - mae: 17.0548 - mse: 502.9081 - val_loss: 2553.8311 - val_mae: 34.9579 - val_mse: 2553.8311\n",
            "Epoch 45/100\n",
            "26/26 [==============================] - 14s 549ms/step - loss: 507.6589 - mae: 17.1765 - mse: 507.6589 - val_loss: 2539.0374 - val_mae: 34.8936 - val_mse: 2539.0374\n",
            "Epoch 46/100\n",
            "26/26 [==============================] - 14s 549ms/step - loss: 497.3562 - mae: 16.9084 - mse: 497.3562 - val_loss: 2561.8167 - val_mae: 35.1149 - val_mse: 2561.8167\n",
            "Epoch 47/100\n",
            "26/26 [==============================] - 14s 558ms/step - loss: 493.9665 - mae: 16.8647 - mse: 493.9665 - val_loss: 2551.9001 - val_mae: 34.9509 - val_mse: 2551.9001\n",
            "Epoch 48/100\n",
            "26/26 [==============================] - 14s 550ms/step - loss: 485.6900 - mae: 16.8162 - mse: 485.6900 - val_loss: 2532.8584 - val_mae: 35.1565 - val_mse: 2532.8584\n",
            "Epoch 49/100\n",
            "26/26 [==============================] - 14s 549ms/step - loss: 497.1861 - mae: 16.9626 - mse: 497.1861 - val_loss: 2564.0737 - val_mae: 34.9944 - val_mse: 2564.0737\n",
            "Epoch 50/100\n",
            "26/26 [==============================] - 14s 548ms/step - loss: 496.1716 - mae: 16.9743 - mse: 496.1716 - val_loss: 2553.1589 - val_mae: 35.1822 - val_mse: 2553.1589\n",
            "Epoch 51/100\n",
            "26/26 [==============================] - 14s 550ms/step - loss: 480.0071 - mae: 16.6927 - mse: 480.0071 - val_loss: 2546.6326 - val_mae: 35.2208 - val_mse: 2546.6326\n",
            "Epoch 52/100\n",
            "26/26 [==============================] - 14s 549ms/step - loss: 478.6794 - mae: 16.5753 - mse: 478.6794 - val_loss: 2576.2107 - val_mae: 35.3738 - val_mse: 2576.2107\n",
            "Epoch 53/100\n",
            "26/26 [==============================] - 14s 548ms/step - loss: 478.0570 - mae: 16.6499 - mse: 478.0570 - val_loss: 2570.8035 - val_mae: 35.3957 - val_mse: 2570.8035\n",
            "Epoch 54/100\n",
            "26/26 [==============================] - 14s 547ms/step - loss: 479.0141 - mae: 16.7369 - mse: 479.0141 - val_loss: 2570.7234 - val_mae: 35.3816 - val_mse: 2570.7234\n",
            "Epoch 55/100\n",
            "26/26 [==============================] - 14s 547ms/step - loss: 471.4282 - mae: 16.4715 - mse: 471.4282 - val_loss: 2574.9387 - val_mae: 35.7271 - val_mse: 2574.9387\n",
            "Epoch 56/100\n",
            "26/26 [==============================] - 14s 551ms/step - loss: 478.0854 - mae: 16.5945 - mse: 478.0854 - val_loss: 2567.4595 - val_mae: 35.7189 - val_mse: 2567.4595\n",
            "Epoch 57/100\n",
            "26/26 [==============================] - 14s 550ms/step - loss: 468.3607 - mae: 16.3905 - mse: 468.3607 - val_loss: 2582.8311 - val_mae: 35.7411 - val_mse: 2582.8311\n",
            "Epoch 58/100\n",
            "26/26 [==============================] - 14s 550ms/step - loss: 458.8021 - mae: 16.3614 - mse: 458.8021 - val_loss: 2598.6890 - val_mae: 35.8726 - val_mse: 2598.6890\n",
            "Epoch 59/100\n",
            "26/26 [==============================] - 14s 549ms/step - loss: 460.5700 - mae: 16.2764 - mse: 460.5700 - val_loss: 2609.6477 - val_mae: 35.9910 - val_mse: 2609.6477\n",
            "Epoch 60/100\n",
            "26/26 [==============================] - 14s 551ms/step - loss: 466.9247 - mae: 16.4934 - mse: 466.9247 - val_loss: 2609.1035 - val_mae: 36.0140 - val_mse: 2609.1035\n",
            "Epoch 61/100\n",
            "26/26 [==============================] - 14s 553ms/step - loss: 460.0484 - mae: 16.2277 - mse: 460.0484 - val_loss: 2623.7390 - val_mae: 35.8433 - val_mse: 2623.7390\n",
            "Epoch 62/100\n",
            "26/26 [==============================] - 14s 550ms/step - loss: 450.7171 - mae: 16.0731 - mse: 450.7171 - val_loss: 2632.4863 - val_mae: 36.1058 - val_mse: 2632.4863\n",
            "Epoch 63/100\n",
            "26/26 [==============================] - 14s 547ms/step - loss: 442.7233 - mae: 15.9595 - mse: 442.7233 - val_loss: 2629.6409 - val_mae: 36.4614 - val_mse: 2629.6409\n",
            "Epoch 64/100\n",
            "26/26 [==============================] - 14s 545ms/step - loss: 434.5158 - mae: 15.7103 - mse: 434.5158 - val_loss: 2701.7668 - val_mae: 37.1035 - val_mse: 2701.7668\n",
            "Epoch 65/100\n",
            "26/26 [==============================] - 14s 549ms/step - loss: 438.1462 - mae: 15.8521 - mse: 438.1462 - val_loss: 2649.6711 - val_mae: 36.8832 - val_mse: 2649.6711\n",
            "Epoch 66/100\n",
            "26/26 [==============================] - 14s 547ms/step - loss: 447.6065 - mae: 15.9584 - mse: 447.6065 - val_loss: 2695.3442 - val_mae: 36.9637 - val_mse: 2695.3442\n",
            "Epoch 67/100\n",
            "26/26 [==============================] - 14s 543ms/step - loss: 451.4620 - mae: 16.2930 - mse: 451.4620 - val_loss: 2688.6404 - val_mae: 36.6358 - val_mse: 2688.6404\n",
            "Epoch 68/100\n",
            "26/26 [==============================] - 14s 548ms/step - loss: 451.7120 - mae: 16.1106 - mse: 451.7120 - val_loss: 2648.9324 - val_mae: 36.7973 - val_mse: 2648.9324\n",
            "Epoch 69/100\n",
            "26/26 [==============================] - 14s 542ms/step - loss: 423.9991 - mae: 15.4394 - mse: 423.9991 - val_loss: 2629.7974 - val_mae: 36.5880 - val_mse: 2629.7974\n",
            "Epoch 70/100\n",
            "26/26 [==============================] - 14s 547ms/step - loss: 416.8880 - mae: 15.2424 - mse: 416.8880 - val_loss: 2662.9226 - val_mae: 36.9385 - val_mse: 2662.9226\n",
            "Epoch 71/100\n",
            "26/26 [==============================] - 14s 543ms/step - loss: 411.7397 - mae: 15.3009 - mse: 411.7397 - val_loss: 2690.7898 - val_mae: 37.3350 - val_mse: 2690.7898\n",
            "Epoch 72/100\n",
            "26/26 [==============================] - 14s 537ms/step - loss: 405.9069 - mae: 15.1144 - mse: 405.9069 - val_loss: 2732.7476 - val_mae: 37.7777 - val_mse: 2732.7476\n",
            "Epoch 73/100\n",
            "26/26 [==============================] - 14s 545ms/step - loss: 397.0186 - mae: 14.9316 - mse: 397.0186 - val_loss: 2719.9543 - val_mae: 38.0057 - val_mse: 2719.9543\n",
            "Epoch 74/100\n",
            "26/26 [==============================] - 14s 545ms/step - loss: 399.8350 - mae: 14.9914 - mse: 399.8350 - val_loss: 2720.8547 - val_mae: 37.4231 - val_mse: 2720.8547\n",
            "Epoch 75/100\n",
            "26/26 [==============================] - 14s 545ms/step - loss: 401.2282 - mae: 14.9864 - mse: 401.2282 - val_loss: 2700.2129 - val_mae: 37.7348 - val_mse: 2700.2129\n",
            "Epoch 76/100\n",
            "26/26 [==============================] - 14s 539ms/step - loss: 398.5088 - mae: 14.9462 - mse: 398.5088 - val_loss: 2773.8811 - val_mae: 37.9329 - val_mse: 2773.8811\n",
            "Epoch 77/100\n",
            "26/26 [==============================] - 14s 549ms/step - loss: 385.0573 - mae: 14.7812 - mse: 385.0573 - val_loss: 2746.2324 - val_mae: 38.0552 - val_mse: 2746.2324\n",
            "Epoch 78/100\n",
            "26/26 [==============================] - 14s 542ms/step - loss: 394.0245 - mae: 14.7472 - mse: 394.0245 - val_loss: 2768.6907 - val_mae: 38.0818 - val_mse: 2768.6907\n",
            "Epoch 79/100\n",
            "26/26 [==============================] - 14s 547ms/step - loss: 404.1784 - mae: 15.0009 - mse: 404.1784 - val_loss: 2692.5459 - val_mae: 37.4856 - val_mse: 2692.5459\n",
            "Epoch 80/100\n",
            "26/26 [==============================] - 14s 544ms/step - loss: 378.1764 - mae: 14.5497 - mse: 378.1764 - val_loss: 2657.0339 - val_mae: 37.0390 - val_mse: 2657.0339\n",
            "Epoch 81/100\n",
            "26/26 [==============================] - 14s 546ms/step - loss: 377.8262 - mae: 14.4857 - mse: 377.8262 - val_loss: 2802.1594 - val_mae: 38.1133 - val_mse: 2802.1594\n",
            "Epoch 82/100\n",
            "26/26 [==============================] - 14s 549ms/step - loss: 366.5533 - mae: 14.1462 - mse: 366.5533 - val_loss: 2771.2297 - val_mae: 37.8267 - val_mse: 2771.2297\n",
            "Epoch 83/100\n",
            "26/26 [==============================] - 14s 545ms/step - loss: 343.8104 - mae: 13.8353 - mse: 343.8104 - val_loss: 2823.6897 - val_mae: 38.5057 - val_mse: 2823.6897\n",
            "Epoch 84/100\n",
            "26/26 [==============================] - 14s 543ms/step - loss: 354.5287 - mae: 13.9560 - mse: 354.5287 - val_loss: 2828.4692 - val_mae: 38.8091 - val_mse: 2828.4692\n",
            "Epoch 85/100\n",
            "26/26 [==============================] - 14s 538ms/step - loss: 344.0227 - mae: 13.7843 - mse: 344.0227 - val_loss: 2761.5017 - val_mae: 38.1358 - val_mse: 2761.5017\n",
            "Epoch 86/100\n",
            "26/26 [==============================] - 14s 539ms/step - loss: 340.9972 - mae: 13.6484 - mse: 340.9972 - val_loss: 2839.5894 - val_mae: 38.1139 - val_mse: 2839.5894\n",
            "Epoch 87/100\n",
            "26/26 [==============================] - 14s 538ms/step - loss: 348.6952 - mae: 13.9873 - mse: 348.6952 - val_loss: 2887.8650 - val_mae: 38.8180 - val_mse: 2887.8650\n",
            "Epoch 88/100\n",
            "26/26 [==============================] - 14s 539ms/step - loss: 341.5776 - mae: 13.8961 - mse: 341.5776 - val_loss: 2851.6958 - val_mae: 39.1460 - val_mse: 2851.6958\n",
            "Epoch 89/100\n",
            "26/26 [==============================] - 14s 534ms/step - loss: 341.1519 - mae: 13.7485 - mse: 341.1519 - val_loss: 2829.3259 - val_mae: 38.2342 - val_mse: 2829.3259\n",
            "Epoch 90/100\n",
            "26/26 [==============================] - 14s 539ms/step - loss: 323.0864 - mae: 13.3739 - mse: 323.0864 - val_loss: 2898.0981 - val_mae: 39.2933 - val_mse: 2898.0981\n",
            "Epoch 91/100\n",
            "26/26 [==============================] - 14s 540ms/step - loss: 319.4985 - mae: 13.0897 - mse: 319.4985 - val_loss: 2907.4807 - val_mae: 38.8970 - val_mse: 2907.4807\n",
            "Epoch 92/100\n",
            "26/26 [==============================] - 14s 538ms/step - loss: 334.9479 - mae: 13.7366 - mse: 334.9479 - val_loss: 2941.2900 - val_mae: 39.6755 - val_mse: 2941.2900\n",
            "Epoch 93/100\n",
            "26/26 [==============================] - 14s 537ms/step - loss: 347.1487 - mae: 13.8119 - mse: 347.1487 - val_loss: 2898.2742 - val_mae: 39.2353 - val_mse: 2898.2742\n",
            "Epoch 94/100\n",
            "26/26 [==============================] - 14s 538ms/step - loss: 298.2328 - mae: 12.7514 - mse: 298.2328 - val_loss: 2928.0996 - val_mae: 39.1033 - val_mse: 2928.0996\n",
            "Epoch 95/100\n",
            "26/26 [==============================] - 14s 540ms/step - loss: 288.3372 - mae: 12.5323 - mse: 288.3372 - val_loss: 3079.4072 - val_mae: 40.9109 - val_mse: 3079.4072\n",
            "Epoch 96/100\n",
            "26/26 [==============================] - 14s 539ms/step - loss: 290.6513 - mae: 12.7001 - mse: 290.6513 - val_loss: 3037.5159 - val_mae: 40.2507 - val_mse: 3037.5159\n",
            "Epoch 97/100\n",
            "26/26 [==============================] - 14s 540ms/step - loss: 270.1953 - mae: 12.1998 - mse: 270.1953 - val_loss: 3095.1162 - val_mae: 40.8198 - val_mse: 3095.1162\n",
            "Epoch 98/100\n",
            "26/26 [==============================] - 14s 538ms/step - loss: 270.4733 - mae: 12.1248 - mse: 270.4733 - val_loss: 2922.8137 - val_mae: 39.3247 - val_mse: 2922.8137\n",
            "Epoch 99/100\n",
            "26/26 [==============================] - 14s 540ms/step - loss: 272.6944 - mae: 12.3291 - mse: 272.6944 - val_loss: 3137.0664 - val_mae: 41.3030 - val_mse: 3137.0664\n",
            "Epoch 100/100\n",
            "26/26 [==============================] - 14s 537ms/step - loss: 277.6053 - mae: 12.5244 - mse: 277.6053 - val_loss: 3078.6721 - val_mae: 40.0048 - val_mse: 3078.6721\n"
          ]
        }
      ]
    },
    {
      "cell_type": "markdown",
      "source": [
        "Predictions\n",
        "\n"
      ],
      "metadata": {
        "id": "ykyI87uZAFYU"
      }
    },
    {
      "cell_type": "code",
      "source": [
        "train_idx[:T+1]=False"
      ],
      "metadata": {
        "id": "k0XDQv2l-_2x"
      },
      "execution_count": 190,
      "outputs": []
    },
    {
      "cell_type": "code",
      "source": [
        "Ptrain_lstm_cnn=model_lstm_cnn.predict(Xtrain).flatten()\n",
        "Ptest_lstm_cnn=model_lstm_cnn.predict(Xtest).flatten()"
      ],
      "metadata": {
        "id": "wJ3J-Cvv_oLA"
      },
      "execution_count": 191,
      "outputs": []
    },
    {
      "cell_type": "code",
      "source": [
        "Ptrain_lstm_gru=model_lstm_gru.predict(Xtrain).flatten()\n",
        "Ptest_lstm_gru=model_lstm_gru.predict(Xtest).flatten()"
      ],
      "metadata": {
        "id": "r9GuOYr-_oRf"
      },
      "execution_count": 192,
      "outputs": []
    },
    {
      "cell_type": "code",
      "source": [
        "df.loc[train_idx,'Diff LSTM+CNN train prediction']=Ptrain_lstm_cnn\n",
        "df.loc[test_idx,'Diff LSTM+CNN test prediction']=Ptest_lstm_cnn"
      ],
      "metadata": {
        "id": "-ZvHYeDl_oYI"
      },
      "execution_count": null,
      "outputs": []
    },
    {
      "cell_type": "code",
      "source": [
        "df.loc[train_idx,'Diff LSTM+GRU train prediction']=Ptrain_lstm_gru\n",
        "df.loc[test_idx,'Diff LSTM+GRU test prediction']=Ptest_lstm_gru"
      ],
      "metadata": {
        "id": "h0xk_CKv_7mw"
      },
      "execution_count": 193,
      "outputs": []
    },
    {
      "cell_type": "code",
      "source": [
        "df['Shift Prev Close']=df['Prev Close'].shift(1)\n",
        "prev=df['Shift Prev Close']"
      ],
      "metadata": {
        "id": "-9ekKxJr_7pu"
      },
      "execution_count": 194,
      "outputs": []
    },
    {
      "cell_type": "code",
      "source": [
        "last_train=train.iloc[-1]['Prev Close']"
      ],
      "metadata": {
        "id": "Qd-4VnON_7tL"
      },
      "execution_count": 195,
      "outputs": []
    },
    {
      "cell_type": "code",
      "source": [
        "df.loc[train_idx,'train_LSTM_CNN']=prev[train_idx]+Ptrain_lstm_cnn\n",
        "df.loc[test_idx,'Prediction_LSTM_CNN']=prev[test_idx]+Ptest_lstm_cnn"
      ],
      "metadata": {
        "id": "wIUM_MvYALoR"
      },
      "execution_count": 196,
      "outputs": []
    },
    {
      "cell_type": "code",
      "source": [
        "df.loc[train_idx,'train_LSTM_GRU']=prev[train_idx]+Ptrain_lstm_gru\n",
        "df.loc[test_idx,'Prediction_LSTM_GRU']=prev[test_idx]+Ptest_lstm_gru"
      ],
      "metadata": {
        "id": "4dA6pDYTANWK"
      },
      "execution_count": 197,
      "outputs": []
    },
    {
      "cell_type": "code",
      "source": [
        "df[['Prev Close' ,'Prediction_LSTM_CNN','Prediction_LSTM_GRU']].plot(figsize=(15,10));"
      ],
      "metadata": {
        "colab": {
          "base_uri": "https://localhost:8080/",
          "height": 416
        },
        "id": "f8KVkcj8AaPm",
        "outputId": "028cadf6-cc69-4701-f6a7-31752a8af88e"
      },
      "execution_count": 198,
      "outputs": [
        {
          "output_type": "display_data",
          "data": {
            "text/plain": [
              "<Figure size 1080x720 with 1 Axes>"
            ],
            "image/png": "[encoded data removed]"
          },
          "metadata": {
            "needs_background": "light"
          }
        }
      ]
    },
    {
      "cell_type": "code",
      "source": [
        "df[['Prediction_LSTM_CNN','Prediction_LSTM_GRU']].plot(figsize=(15,10));"
      ],
      "metadata": {
        "colab": {
          "base_uri": "https://localhost:8080/",
          "height": 422
        },
        "id": "ZYDW87n5Anf9",
        "outputId": "8e5e3731-b8ea-429c-dc7d-a9664952fa38"
      },
      "execution_count": 199,
      "outputs": [
        {
          "output_type": "display_data",
          "data": {
            "text/plain": [
              "<Figure size 1080x720 with 1 Axes>"
            ],
            "image/png": "[encoded data removed]"
          },
          "metadata": {
            "needs_background": "light"
          }
        }
      ]
    },
    {
      "cell_type": "code",
      "source": [
        "pred_lstm_cnn=df['Prediction_LSTM_CNN']\n",
        "pred_lstm_cnn.dropna(inplace=True)"
      ],
      "metadata": {
        "id": "gj8xug0lAxWl"
      },
      "execution_count": 200,
      "outputs": []
    },
    {
      "cell_type": "code",
      "source": [
        "rmse=math.sqrt(mean_squared_error(test['Prev Close'],pred_lstm_cnn))\n",
        "print(rmse)"
      ],
      "metadata": {
        "colab": {
          "base_uri": "https://localhost:8080/"
        },
        "id": "rakkuhBuA-qw",
        "outputId": "7a4eeb38-e398-4569-e498-8822b0f47e43"
      },
      "execution_count": 201,
      "outputs": [
        {
          "output_type": "stream",
          "name": "stdout",
          "text": [
            "51.66848884208101\n"
          ]
        }
      ]
    },
    {
      "cell_type": "code",
      "source": [
        "error=mean_absolute_error(test['Prev Close'],pred_lstm_cnn)\n",
        "print(error)"
      ],
      "metadata": {
        "colab": {
          "base_uri": "https://localhost:8080/"
        },
        "id": "9wztKO3rBHqx",
        "outputId": "d4dec7b0-9bc1-42b9-882d-ee15ee7843df"
      },
      "execution_count": 202,
      "outputs": [
        {
          "output_type": "stream",
          "name": "stdout",
          "text": [
            "35.26864342204324\n"
          ]
        }
      ]
    },
    {
      "cell_type": "code",
      "source": [
        "r2_score(test['Prev Close'],pred_lstm_cnn)"
      ],
      "metadata": {
        "colab": {
          "base_uri": "https://localhost:8080/"
        },
        "id": "OXbq8UpSBH9g",
        "outputId": "4ed5892c-3ab1-453a-a32e-65f21364fe53"
      },
      "execution_count": 203,
      "outputs": [
        {
          "output_type": "execute_result",
          "data": {
            "text/plain": [
              "0.9634426254455425"
            ]
          },
          "metadata": {},
          "execution_count": 203
        }
      ]
    },
    {
      "cell_type": "code",
      "source": [
        "pred_lstm_gru=df['Prediction_LSTM_GRU']\n",
        "pred_lstm_gru.dropna(inplace=True)"
      ],
      "metadata": {
        "id": "kaOiSQKJBRUU"
      },
      "execution_count": 204,
      "outputs": []
    },
    {
      "cell_type": "code",
      "source": [
        "rmse=math.sqrt(mean_squared_error(test['Prev Close'],pred_lstm_cnn))\n",
        "print(rmse)"
      ],
      "metadata": {
        "colab": {
          "base_uri": "https://localhost:8080/"
        },
        "id": "7UBA8PW2BRex",
        "outputId": "ae56b927-e73b-4877-ce54-dfaf1513437d"
      },
      "execution_count": 205,
      "outputs": [
        {
          "output_type": "stream",
          "name": "stdout",
          "text": [
            "51.66848884208101\n"
          ]
        }
      ]
    },
    {
      "cell_type": "code",
      "source": [
        "error=mean_absolute_error(test['Prev Close'],pred_lstm_gru)\n",
        "print(error)"
      ],
      "metadata": {
        "colab": {
          "base_uri": "https://localhost:8080/"
        },
        "id": "9zf0Qkl4BRo1",
        "outputId": "9f197f7d-866d-4920-ec42-8f12f2cffbae"
      },
      "execution_count": 206,
      "outputs": [
        {
          "output_type": "stream",
          "name": "stdout",
          "text": [
            "40.004758715941094\n"
          ]
        }
      ]
    },
    {
      "cell_type": "code",
      "source": [
        "r2_score(test['Prev Close'],pred_lstm_gru)"
      ],
      "metadata": {
        "colab": {
          "base_uri": "https://localhost:8080/"
        },
        "id": "2TgbreYrBRzp",
        "outputId": "21166f37-cb48-4d65-b1b4-b39120a3a679"
      },
      "execution_count": 207,
      "outputs": [
        {
          "output_type": "execute_result",
          "data": {
            "text/plain": [
              "0.9578413294935544"
            ]
          },
          "metadata": {},
          "execution_count": 207
        }
      ]
    },
    {
      "cell_type": "code",
      "source": [],
      "metadata": {
        "id": "E7qIDFyEBlEl"
      },
      "execution_count": 207,
      "outputs": []
    }
  ]
}