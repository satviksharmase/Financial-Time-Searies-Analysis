{
  "cells": [
    {
      "cell_type": "code",
      "execution_count": 42,
      "metadata": {
        "id": "ZVEUR9Z46zJ7"
      },
      "outputs": [],
      "source": [
        "import pandas as pd\n",
        "import numpy as np\n",
        "import matplotlib.pyplot as plt\n",
        "\n",
        "import tensorflow as tf\n",
        "from tensorflow.keras.layers import Dense, Input, GlobalMaxPool1D, GRU,LSTM, Bidirectional\n",
        "from tensorflow.keras.models import Model\n",
        "from tensorflow.keras.callbacks import ModelCheckpoint\n",
        "\n",
        "import math\n",
        "\n",
        "from sklearn.metrics import r2_score\n",
        "from sklearn.metrics import mean_absolute_error\n",
        "from sklearn.metrics import mean_squared_error\n",
        "\n",
        "np.random.seed(123)\n",
        "tf.random.set_seed(123)"
      ]
    },
    {
      "cell_type": "code",
      "execution_count": 43,
      "metadata": {
        "id": "hGNJlPX-7FQ_"
      },
      "outputs": [],
      "source": [
        "df=pd.read_csv('./HINDUNILVR.csv',index_col='Date',parse_dates=True)"
      ]
    },
    {
      "cell_type": "code",
      "execution_count": 44,
      "metadata": {
        "colab": {
          "base_uri": "https://localhost:8080/",
          "height": 710
        },
        "id": "_fw_w6SY7PDd",
        "outputId": "40ca0667-5eaf-4155-a2ff-d61938c1fccd"
      },
      "outputs": [
        {
          "output_type": "execute_result",
          "data": {
            "text/plain": [
              "                Symbol Series  Prev Close    Open     High      Low     Last  \\\n",
              "Date                                                                           \n",
              "2000-01-03   HINDLEVER     EQ     2136.60  2300.0  2307.55  2300.00  2307.55   \n",
              "2000-01-04   HINDLEVER     EQ     2307.55  2381.0  2381.00  2250.00  2270.00   \n",
              "2000-01-05   HINDLEVER     EQ     2281.05  2200.0  2250.00  2105.00  2183.50   \n",
              "2000-01-06   HINDLEVER     EQ     2199.90  2224.9  2360.00  2210.00  2300.00   \n",
              "2000-01-07   HINDLEVER     EQ     2288.20  2300.0  2452.00  2282.25  2395.00   \n",
              "...                ...    ...         ...     ...      ...      ...      ...   \n",
              "2021-04-26  HINDUNILVR     EQ     2307.75  2324.0  2369.80  2311.00  2367.70   \n",
              "2021-04-27  HINDUNILVR     EQ     2360.65  2363.0  2386.45  2352.95  2378.00   \n",
              "2021-04-28  HINDUNILVR     EQ     2379.85  2380.0  2445.00  2366.30  2404.00   \n",
              "2021-04-29  HINDUNILVR     EQ     2406.55  2433.0  2448.95  2384.15  2422.15   \n",
              "2021-04-30  HINDUNILVR     EQ     2407.60  2410.0  2442.90  2330.25  2350.00   \n",
              "\n",
              "              Close     VWAP   Volume      Turnover    Trades  \\\n",
              "Date                                                            \n",
              "2000-01-03  2307.55  2307.08    24903  5.745330e+12       NaN   \n",
              "2000-01-04  2281.05  2298.15    58514  1.344740e+13       NaN   \n",
              "2000-01-05  2199.90  2211.17    80296  1.775482e+13       NaN   \n",
              "2000-01-06  2288.20  2301.80   190032  4.374157e+13       NaN   \n",
              "2000-01-07  2412.95  2380.24   192582  4.583919e+13       NaN   \n",
              "...             ...      ...      ...           ...       ...   \n",
              "2021-04-26  2360.65  2340.89  1946867  4.557405e+14   85684.0   \n",
              "2021-04-27  2379.85  2374.40  1668456  3.961583e+14   84641.0   \n",
              "2021-04-28  2406.55  2414.15  1951215  4.710522e+14   84910.0   \n",
              "2021-04-29  2407.60  2419.82  3151150  7.625230e+14  141048.0   \n",
              "2021-04-30  2353.75  2363.99  4010778  9.481448e+14  170223.0   \n",
              "\n",
              "            Deliverable Volume  %Deliverble  \n",
              "Date                                         \n",
              "2000-01-03                 NaN          NaN  \n",
              "2000-01-04                 NaN          NaN  \n",
              "2000-01-05                 NaN          NaN  \n",
              "2000-01-06                 NaN          NaN  \n",
              "2000-01-07                 NaN          NaN  \n",
              "...                        ...          ...  \n",
              "2021-04-26           1289103.0       0.6621  \n",
              "2021-04-27           1089882.0       0.6532  \n",
              "2021-04-28           1024216.0       0.5249  \n",
              "2021-04-29            946648.0       0.3004  \n",
              "2021-04-30           2038288.0       0.5082  \n",
              "\n",
              "[5306 rows x 14 columns]"
            ],
            "text/html": [
              "\n",
              "  <div id=\"df-1d5b0a89-ee6e-4533-91ed-3285327ce831\">\n",
              "    <div class=\"colab-df-container\">\n",
              "      <div>\n",
              "<style scoped>\n",
              "    .dataframe tbody tr th:only-of-type {\n",
              "        vertical-align: middle;\n",
              "    }\n",
              "\n",
              "    .dataframe tbody tr th {\n",
              "        vertical-align: top;\n",
              "    }\n",
              "\n",
              "    .dataframe thead th {\n",
              "        text-align: right;\n",
              "    }\n",
              "</style>\n",
              "<table border=\"1\" class=\"dataframe\">\n",
              "  <thead>\n",
              "    <tr style=\"text-align: right;\">\n",
              "      <th></th>\n",
              "      <th>Symbol</th>\n",
              "      <th>Series</th>\n",
              "      <th>Prev Close</th>\n",
              "      <th>Open</th>\n",
              "      <th>High</th>\n",
              "      <th>Low</th>\n",
              "      <th>Last</th>\n",
              "      <th>Close</th>\n",
              "      <th>VWAP</th>\n",
              "      <th>Volume</th>\n",
              "      <th>Turnover</th>\n",
              "      <th>Trades</th>\n",
              "      <th>Deliverable Volume</th>\n",
              "      <th>%Deliverble</th>\n",
              "    </tr>\n",
              "    <tr>\n",
              "      <th>Date</th>\n",
              "      <th></th>\n",
              "      <th></th>\n",
              "      <th></th>\n",
              "      <th></th>\n",
              "      <th></th>\n",
              "      <th></th>\n",
              "      <th></th>\n",
              "      <th></th>\n",
              "      <th></th>\n",
              "      <th></th>\n",
              "      <th></th>\n",
              "      <th></th>\n",
              "      <th></th>\n",
              "      <th></th>\n",
              "    </tr>\n",
              "  </thead>\n",
              "  <tbody>\n",
              "    <tr>\n",
              "      <th>2000-01-03</th>\n",
              "      <td>HINDLEVER</td>\n",
              "      <td>EQ</td>\n",
              "      <td>2136.60</td>\n",
              "      <td>2300.0</td>\n",
              "      <td>2307.55</td>\n",
              "      <td>2300.00</td>\n",
              "      <td>2307.55</td>\n",
              "      <td>2307.55</td>\n",
              "      <td>2307.08</td>\n",
              "      <td>24903</td>\n",
              "      <td>5.745330e+12</td>\n",
              "      <td>NaN</td>\n",
              "      <td>NaN</td>\n",
              "      <td>NaN</td>\n",
              "    </tr>\n",
              "    <tr>\n",
              "      <th>2000-01-04</th>\n",
              "      <td>HINDLEVER</td>\n",
              "      <td>EQ</td>\n",
              "      <td>2307.55</td>\n",
              "      <td>2381.0</td>\n",
              "      <td>2381.00</td>\n",
              "      <td>2250.00</td>\n",
              "      <td>2270.00</td>\n",
              "      <td>2281.05</td>\n",
              "      <td>2298.15</td>\n",
              "      <td>58514</td>\n",
              "      <td>1.344740e+13</td>\n",
              "      <td>NaN</td>\n",
              "      <td>NaN</td>\n",
              "      <td>NaN</td>\n",
              "    </tr>\n",
              "    <tr>\n",
              "      <th>2000-01-05</th>\n",
              "      <td>HINDLEVER</td>\n",
              "      <td>EQ</td>\n",
              "      <td>2281.05</td>\n",
              "      <td>2200.0</td>\n",
              "      <td>2250.00</td>\n",
              "      <td>2105.00</td>\n",
              "      <td>2183.50</td>\n",
              "      <td>2199.90</td>\n",
              "      <td>2211.17</td>\n",
              "      <td>80296</td>\n",
              "      <td>1.775482e+13</td>\n",
              "      <td>NaN</td>\n",
              "      <td>NaN</td>\n",
              "      <td>NaN</td>\n",
              "    </tr>\n",
              "    <tr>\n",
              "      <th>2000-01-06</th>\n",
              "      <td>HINDLEVER</td>\n",
              "      <td>EQ</td>\n",
              "      <td>2199.90</td>\n",
              "      <td>2224.9</td>\n",
              "      <td>2360.00</td>\n",
              "      <td>2210.00</td>\n",
              "      <td>2300.00</td>\n",
              "      <td>2288.20</td>\n",
              "      <td>2301.80</td>\n",
              "      <td>190032</td>\n",
              "      <td>4.374157e+13</td>\n",
              "      <td>NaN</td>\n",
              "      <td>NaN</td>\n",
              "      <td>NaN</td>\n",
              "    </tr>\n",
              "    <tr>\n",
              "      <th>2000-01-07</th>\n",
              "      <td>HINDLEVER</td>\n",
              "      <td>EQ</td>\n",
              "      <td>2288.20</td>\n",
              "      <td>2300.0</td>\n",
              "      <td>2452.00</td>\n",
              "      <td>2282.25</td>\n",
              "      <td>2395.00</td>\n",
              "      <td>2412.95</td>\n",
              "      <td>2380.24</td>\n",
              "      <td>192582</td>\n",
              "      <td>4.583919e+13</td>\n",
              "      <td>NaN</td>\n",
              "      <td>NaN</td>\n",
              "      <td>NaN</td>\n",
              "    </tr>\n",
              "    <tr>\n",
              "      <th>...</th>\n",
              "      <td>...</td>\n",
              "      <td>...</td>\n",
              "      <td>...</td>\n",
              "      <td>...</td>\n",
              "      <td>...</td>\n",
              "      <td>...</td>\n",
              "      <td>...</td>\n",
              "      <td>...</td>\n",
              "      <td>...</td>\n",
              "      <td>...</td>\n",
              "      <td>...</td>\n",
              "      <td>...</td>\n",
              "      <td>...</td>\n",
              "      <td>...</td>\n",
              "    </tr>\n",
              "    <tr>\n",
              "      <th>2021-04-26</th>\n",
              "      <td>HINDUNILVR</td>\n",
              "      <td>EQ</td>\n",
              "      <td>2307.75</td>\n",
              "      <td>2324.0</td>\n",
              "      <td>2369.80</td>\n",
              "      <td>2311.00</td>\n",
              "      <td>2367.70</td>\n",
              "      <td>2360.65</td>\n",
              "      <td>2340.89</td>\n",
              "      <td>1946867</td>\n",
              "      <td>4.557405e+14</td>\n",
              "      <td>85684.0</td>\n",
              "      <td>1289103.0</td>\n",
              "      <td>0.6621</td>\n",
              "    </tr>\n",
              "    <tr>\n",
              "      <th>2021-04-27</th>\n",
              "      <td>HINDUNILVR</td>\n",
              "      <td>EQ</td>\n",
              "      <td>2360.65</td>\n",
              "      <td>2363.0</td>\n",
              "      <td>2386.45</td>\n",
              "      <td>2352.95</td>\n",
              "      <td>2378.00</td>\n",
              "      <td>2379.85</td>\n",
              "      <td>2374.40</td>\n",
              "      <td>1668456</td>\n",
              "      <td>3.961583e+14</td>\n",
              "      <td>84641.0</td>\n",
              "      <td>1089882.0</td>\n",
              "      <td>0.6532</td>\n",
              "    </tr>\n",
              "    <tr>\n",
              "      <th>2021-04-28</th>\n",
              "      <td>HINDUNILVR</td>\n",
              "      <td>EQ</td>\n",
              "      <td>2379.85</td>\n",
              "      <td>2380.0</td>\n",
              "      <td>2445.00</td>\n",
              "      <td>2366.30</td>\n",
              "      <td>2404.00</td>\n",
              "      <td>2406.55</td>\n",
              "      <td>2414.15</td>\n",
              "      <td>1951215</td>\n",
              "      <td>4.710522e+14</td>\n",
              "      <td>84910.0</td>\n",
              "      <td>1024216.0</td>\n",
              "      <td>0.5249</td>\n",
              "    </tr>\n",
              "    <tr>\n",
              "      <th>2021-04-29</th>\n",
              "      <td>HINDUNILVR</td>\n",
              "      <td>EQ</td>\n",
              "      <td>2406.55</td>\n",
              "      <td>2433.0</td>\n",
              "      <td>2448.95</td>\n",
              "      <td>2384.15</td>\n",
              "      <td>2422.15</td>\n",
              "      <td>2407.60</td>\n",
              "      <td>2419.82</td>\n",
              "      <td>3151150</td>\n",
              "      <td>7.625230e+14</td>\n",
              "      <td>141048.0</td>\n",
              "      <td>946648.0</td>\n",
              "      <td>0.3004</td>\n",
              "    </tr>\n",
              "    <tr>\n",
              "      <th>2021-04-30</th>\n",
              "      <td>HINDUNILVR</td>\n",
              "      <td>EQ</td>\n",
              "      <td>2407.60</td>\n",
              "      <td>2410.0</td>\n",
              "      <td>2442.90</td>\n",
              "      <td>2330.25</td>\n",
              "      <td>2350.00</td>\n",
              "      <td>2353.75</td>\n",
              "      <td>2363.99</td>\n",
              "      <td>4010778</td>\n",
              "      <td>9.481448e+14</td>\n",
              "      <td>170223.0</td>\n",
              "      <td>2038288.0</td>\n",
              "      <td>0.5082</td>\n",
              "    </tr>\n",
              "  </tbody>\n",
              "</table>\n",
              "<p>5306 rows × 14 columns</p>\n",
              "</div>\n",
              "      <button class=\"colab-df-convert\" onclick=\"convertToInteractive('df-1d5b0a89-ee6e-4533-91ed-3285327ce831')\"\n",
              "              title=\"Convert this dataframe to an interactive table.\"\n",
              "              style=\"display:none;\">\n",
              "        \n",
              "  <svg xmlns=\"http://www.w3.org/2000/svg\" height=\"24px\"viewBox=\"0 0 24 24\"\n",
              "       width=\"24px\">\n",
              "    <path d=\"M0 0h24v24H0V0z\" fill=\"none\"/>\n",
              "    <path d=\"M18.56 5.44l.94 2.06.94-2.06 2.06-.94-2.06-.94-.94-2.06-.94 2.06-2.06.94zm-11 1L8.5 8.5l.94-2.06 2.06-.94-2.06-.94L8.5 2.5l-.94 2.06-2.06.94zm10 10l.94 2.06.94-2.06 2.06-.94-2.06-.94-.94-2.06-.94 2.06-2.06.94z\"/><path d=\"M17.41 7.96l-1.37-1.37c-.4-.4-.92-.59-1.43-.59-.52 0-1.04.2-1.43.59L10.3 9.45l-7.72 7.72c-.78.78-.78 2.05 0 2.83L4 21.41c.39.39.9.59 1.41.59.51 0 1.02-.2 1.41-.59l7.78-7.78 2.81-2.81c.8-.78.8-2.07 0-2.86zM5.41 20L4 18.59l7.72-7.72 1.47 1.35L5.41 20z\"/>\n",
              "  </svg>\n",
              "      </button>\n",
              "      \n",
              "  <style>\n",
              "    .colab-df-container {\n",
              "      display:flex;\n",
              "      flex-wrap:wrap;\n",
              "      gap: 12px;\n",
              "    }\n",
              "\n",
              "    .colab-df-convert {\n",
              "      background-color: #E8F0FE;\n",
              "      border: none;\n",
              "      border-radius: 50%;\n",
              "      cursor: pointer;\n",
              "      display: none;\n",
              "      fill: #1967D2;\n",
              "      height: 32px;\n",
              "      padding: 0 0 0 0;\n",
              "      width: 32px;\n",
              "    }\n",
              "\n",
              "    .colab-df-convert:hover {\n",
              "      background-color: #E2EBFA;\n",
              "      box-shadow: 0px 1px 2px rgba(60, 64, 67, 0.3), 0px 1px 3px 1px rgba(60, 64, 67, 0.15);\n",
              "      fill: #174EA6;\n",
              "    }\n",
              "\n",
              "    [theme=dark] .colab-df-convert {\n",
              "      background-color: #3B4455;\n",
              "      fill: #D2E3FC;\n",
              "    }\n",
              "\n",
              "    [theme=dark] .colab-df-convert:hover {\n",
              "      background-color: #434B5C;\n",
              "      box-shadow: 0px 1px 3px 1px rgba(0, 0, 0, 0.15);\n",
              "      filter: drop-shadow(0px 1px 2px rgba(0, 0, 0, 0.3));\n",
              "      fill: #FFFFFF;\n",
              "    }\n",
              "  </style>\n",
              "\n",
              "      <script>\n",
              "        const buttonEl =\n",
              "          document.querySelector('#df-1d5b0a89-ee6e-4533-91ed-3285327ce831 button.colab-df-convert');\n",
              "        buttonEl.style.display =\n",
              "          google.colab.kernel.accessAllowed ? 'block' : 'none';\n",
              "\n",
              "        async function convertToInteractive(key) {\n",
              "          const element = document.querySelector('#df-1d5b0a89-ee6e-4533-91ed-3285327ce831');\n",
              "          const dataTable =\n",
              "            await google.colab.kernel.invokeFunction('convertToInteractive',\n",
              "                                                     [key], {});\n",
              "          if (!dataTable) return;\n",
              "\n",
              "          const docLinkHtml = 'Like what you see? Visit the ' +\n",
              "            '<a target=\"_blank\" href=https://colab.research.google.com/notebooks/data_table.ipynb>data table notebook</a>'\n",
              "            + ' to learn more about interactive tables.';\n",
              "          element.innerHTML = '';\n",
              "          dataTable['output_type'] = 'display_data';\n",
              "          await google.colab.output.renderOutput(dataTable, element);\n",
              "          const docLink = document.createElement('div');\n",
              "          docLink.innerHTML = docLinkHtml;\n",
              "          element.appendChild(docLink);\n",
              "        }\n",
              "      </script>\n",
              "    </div>\n",
              "  </div>\n",
              "  "
            ]
          },
          "metadata": {},
          "execution_count": 44
        }
      ],
      "source": [
        "df"
      ]
    },
    {
      "cell_type": "code",
      "execution_count": 45,
      "metadata": {
        "id": "zwmfESni7gKn"
      },
      "outputs": [],
      "source": [
        "df['Date']=df.index"
      ]
    },
    {
      "cell_type": "code",
      "execution_count": 46,
      "metadata": {
        "id": "R6njdWuX7i6e"
      },
      "outputs": [],
      "source": [
        "start_date='2020-01-01'\n",
        "end_date='2020-12-31'\n",
        "mask=(df['Date']>=start_date)&(df['Date']<=end_date)"
      ]
    },
    {
      "cell_type": "code",
      "execution_count": 47,
      "metadata": {
        "id": "1gvhNCc_7lCh"
      },
      "outputs": [],
      "source": [
        "df=df.loc[mask]"
      ]
    },
    {
      "cell_type": "code",
      "execution_count": 48,
      "metadata": {
        "id": "H7T84rNE7lFn"
      },
      "outputs": [],
      "source": [
        "df=df.loc[mask]"
      ]
    },
    {
      "cell_type": "code",
      "execution_count": 49,
      "metadata": {
        "id": "KosKVO_j7lIn"
      },
      "outputs": [],
      "source": [
        "df=df.drop(columns=['Series','Symbol','Open','High','Low','Last','Close','VWAP','Volume','Turnover','Trades','Deliverable Volume','%Deliverble','Date'])"
      ]
    },
    {
      "cell_type": "code",
      "execution_count": 50,
      "metadata": {
        "id": "7YW96kEv7lLh"
      },
      "outputs": [],
      "source": [
        "Ntest=math.trunc(0.3*len(df))\n",
        "train=df.iloc[:-Ntest]\n",
        "test=df.iloc[-Ntest:]"
      ]
    },
    {
      "cell_type": "code",
      "execution_count": 51,
      "metadata": {
        "id": "NhwqMQ7r7lOX"
      },
      "outputs": [],
      "source": [
        "train_idx=df.index<=train.index[-1]\n",
        "test_idx=df.index>train.index[-1]"
      ]
    },
    {
      "cell_type": "code",
      "execution_count": 52,
      "metadata": {
        "id": "QtuPaMDJ7lQ_"
      },
      "outputs": [],
      "source": [
        "df['Diff Prev Close']=df['Prev Close'].diff()"
      ]
    },
    {
      "cell_type": "code",
      "execution_count": 53,
      "metadata": {
        "colab": {
          "base_uri": "https://localhost:8080/"
        },
        "id": "WJeTN9cL7tkq",
        "outputId": "53e0fe4c-d5cf-4281-cfc7-824d45bf5253"
      },
      "outputs": [
        {
          "output_type": "stream",
          "name": "stdout",
          "text": [
            "X.shape (201, 50) Y.shape (201,)\n"
          ]
        }
      ],
      "source": [
        "series=df['Diff Prev Close'].dropna().to_numpy()\n",
        "\n",
        "T=50\n",
        "X=[]\n",
        "Y=[]\n",
        "for t in range(len(series)-T):\n",
        "  x=series[t:t+T]\n",
        "  X.append(x)\n",
        "  y=series[t+T]\n",
        "  Y.append(y)\n",
        "\n",
        "X=np.array(X).reshape(-1,T)\n",
        "Y=np.array(Y)\n",
        "N=len(X)\n",
        "print(\"X.shape\",X.shape,\"Y.shape\",Y.shape)"
      ]
    },
    {
      "cell_type": "code",
      "execution_count": 54,
      "metadata": {
        "id": "dE1vSivZ7tn-"
      },
      "outputs": [],
      "source": [
        "Xtrain,Ytrain=X[:-Ntest],Y[:-Ntest]\n",
        "Xtest,Ytest=X[-Ntest:],Y[-Ntest:]"
      ]
    },
    {
      "cell_type": "markdown",
      "metadata": {
        "id": "Y6SYTxcf8HrV"
      },
      "source": [
        "Bi-LSTM"
      ]
    },
    {
      "cell_type": "code",
      "execution_count": 55,
      "metadata": {
        "colab": {
          "base_uri": "https://localhost:8080/"
        },
        "id": "uk3JcnRf7trE",
        "outputId": "1f1790be-e9db-467d-a7b2-d0d5c8b2e427"
      },
      "outputs": [
        {
          "output_type": "stream",
          "name": "stdout",
          "text": [
            "Model: \"model_2\"\n",
            "_________________________________________________________________\n",
            " Layer (type)                Output Shape              Param #   \n",
            "=================================================================\n",
            " input_3 (InputLayer)        [(None, 50, 1)]           0         \n",
            "                                                                 \n",
            " bidirectional_4 (Bidirectio  (None, 50, 400)          323200    \n",
            " nal)                                                            \n",
            "                                                                 \n",
            " bidirectional_5 (Bidirectio  (None, 50, 400)          961600    \n",
            " nal)                                                            \n",
            "                                                                 \n",
            " global_max_pooling1d_2 (Glo  (None, 400)              0         \n",
            " balMaxPooling1D)                                                \n",
            "                                                                 \n",
            " dense_6 (Dense)             (None, 100)               40100     \n",
            "                                                                 \n",
            " dense_7 (Dense)             (None, 50)                5050      \n",
            "                                                                 \n",
            " dense_8 (Dense)             (None, 1)                 51        \n",
            "                                                                 \n",
            "=================================================================\n",
            "Total params: 1,330,001\n",
            "Trainable params: 1,330,001\n",
            "Non-trainable params: 0\n",
            "_________________________________________________________________\n"
          ]
        }
      ],
      "source": [
        "i=Input(shape=(T,1))\n",
        "x=Bidirectional(LSTM(200,return_sequences=True))(i)\n",
        "x=Bidirectional(LSTM(200,return_sequences=True))(x)\n",
        "x=GlobalMaxPool1D()(x)\n",
        "x=Dense(100)(x)\n",
        "x=Dense(50)(x)\n",
        "x=Dense(1)(x)\n",
        "model_bi_lstm=Model(i,x)\n",
        "model_bi_lstm.summary()"
      ]
    },
    {
      "cell_type": "code",
      "execution_count": 56,
      "metadata": {
        "id": "9NtxtRQm7tuD"
      },
      "outputs": [],
      "source": [
        "check_point_bi_lstm=ModelCheckpoint('best_model.h5',monitor='val_loss',save_best_only=True)"
      ]
    },
    {
      "cell_type": "code",
      "execution_count": 57,
      "metadata": {
        "id": "Tb0KBami7txT"
      },
      "outputs": [],
      "source": [
        "model_bi_lstm.compile(loss='mse',\n",
        "              optimizer='adamax',\n",
        "              metrics=['mae','mse'])"
      ]
    },
    {
      "cell_type": "code",
      "execution_count": 58,
      "metadata": {
        "colab": {
          "base_uri": "https://localhost:8080/"
        },
        "id": "Dl_RedqY7t0c",
        "outputId": "97e8005e-a14c-4d1c-80f0-d48b8982baa0"
      },
      "outputs": [
        {
          "output_type": "stream",
          "name": "stdout",
          "text": [
            "Epoch 1/100\n",
            "4/4 [==============================] - 13s 1s/step - loss: 3233.3274 - mae: 36.6579 - mse: 3233.3274 - val_loss: 754.3167 - val_mae: 21.2384 - val_mse: 754.3167\n",
            "Epoch 2/100\n",
            "4/4 [==============================] - 3s 697ms/step - loss: 3208.7607 - mae: 36.8209 - mse: 3208.7607 - val_loss: 741.8215 - val_mae: 21.1713 - val_mse: 741.8215\n",
            "Epoch 3/100\n",
            "4/4 [==============================] - 3s 682ms/step - loss: 3197.2808 - mae: 36.8466 - mse: 3197.2808 - val_loss: 746.4084 - val_mae: 21.1667 - val_mse: 746.4084\n",
            "Epoch 4/100\n",
            "4/4 [==============================] - 3s 734ms/step - loss: 3191.5437 - mae: 36.8095 - mse: 3191.5437 - val_loss: 747.3182 - val_mae: 21.1677 - val_mse: 747.3182\n",
            "Epoch 5/100\n",
            "4/4 [==============================] - 3s 665ms/step - loss: 3182.0154 - mae: 36.6803 - mse: 3182.0154 - val_loss: 751.0414 - val_mae: 21.1738 - val_mse: 751.0414\n",
            "Epoch 6/100\n",
            "4/4 [==============================] - 3s 711ms/step - loss: 3169.9087 - mae: 36.5434 - mse: 3169.9087 - val_loss: 754.3015 - val_mae: 21.1675 - val_mse: 754.3015\n",
            "Epoch 7/100\n",
            "4/4 [==============================] - 3s 718ms/step - loss: 3158.2778 - mae: 36.4419 - mse: 3158.2778 - val_loss: 760.0717 - val_mae: 21.1697 - val_mse: 760.0717\n",
            "Epoch 8/100\n",
            "4/4 [==============================] - 3s 763ms/step - loss: 3146.8074 - mae: 36.4274 - mse: 3146.8074 - val_loss: 758.9090 - val_mae: 21.1615 - val_mse: 758.9090\n",
            "Epoch 9/100\n",
            "4/4 [==============================] - 3s 706ms/step - loss: 3122.1399 - mae: 36.3609 - mse: 3122.1399 - val_loss: 766.3632 - val_mae: 21.1780 - val_mse: 766.3632\n",
            "Epoch 10/100\n",
            "4/4 [==============================] - 3s 672ms/step - loss: 3116.3403 - mae: 36.0275 - mse: 3116.3403 - val_loss: 783.5669 - val_mae: 21.2361 - val_mse: 783.5669\n",
            "Epoch 11/100\n",
            "4/4 [==============================] - 3s 699ms/step - loss: 3090.3167 - mae: 35.8552 - mse: 3090.3167 - val_loss: 776.3746 - val_mae: 21.2510 - val_mse: 776.3746\n",
            "Epoch 12/100\n",
            "4/4 [==============================] - 3s 741ms/step - loss: 3068.0444 - mae: 36.0339 - mse: 3068.0444 - val_loss: 778.8952 - val_mae: 21.3067 - val_mse: 778.8952\n",
            "Epoch 13/100\n",
            "4/4 [==============================] - 3s 703ms/step - loss: 3021.7720 - mae: 35.6288 - mse: 3021.7720 - val_loss: 802.8177 - val_mae: 21.3461 - val_mse: 802.8177\n",
            "Epoch 14/100\n",
            "4/4 [==============================] - 3s 754ms/step - loss: 2992.3816 - mae: 35.3876 - mse: 2992.3816 - val_loss: 818.6920 - val_mae: 21.4636 - val_mse: 818.6920\n",
            "Epoch 15/100\n",
            "4/4 [==============================] - 3s 745ms/step - loss: 2941.5378 - mae: 35.0278 - mse: 2941.5378 - val_loss: 852.9108 - val_mae: 21.8970 - val_mse: 852.9108\n",
            "Epoch 16/100\n",
            "4/4 [==============================] - 3s 720ms/step - loss: 2892.8870 - mae: 34.6034 - mse: 2892.8870 - val_loss: 837.9025 - val_mae: 21.7316 - val_mse: 837.9025\n",
            "Epoch 17/100\n",
            "4/4 [==============================] - 3s 696ms/step - loss: 2832.8865 - mae: 34.4338 - mse: 2832.8865 - val_loss: 903.2642 - val_mae: 22.4761 - val_mse: 903.2642\n",
            "Epoch 18/100\n",
            "4/4 [==============================] - 3s 745ms/step - loss: 2784.1624 - mae: 33.9261 - mse: 2784.1624 - val_loss: 958.8859 - val_mae: 23.1887 - val_mse: 958.8859\n",
            "Epoch 19/100\n",
            "4/4 [==============================] - 3s 743ms/step - loss: 2706.1135 - mae: 33.7094 - mse: 2706.1135 - val_loss: 941.8831 - val_mae: 22.9214 - val_mse: 941.8831\n",
            "Epoch 20/100\n",
            "4/4 [==============================] - 3s 738ms/step - loss: 2643.7502 - mae: 33.6214 - mse: 2643.7502 - val_loss: 1029.5011 - val_mae: 24.2928 - val_mse: 1029.5011\n",
            "Epoch 21/100\n",
            "4/4 [==============================] - 3s 722ms/step - loss: 2524.2153 - mae: 32.1056 - mse: 2524.2153 - val_loss: 1000.0118 - val_mae: 23.5721 - val_mse: 1000.0118\n",
            "Epoch 22/100\n",
            "4/4 [==============================] - 3s 728ms/step - loss: 2464.4236 - mae: 32.5890 - mse: 2464.4236 - val_loss: 1086.9595 - val_mae: 24.8245 - val_mse: 1086.9595\n",
            "Epoch 23/100\n",
            "4/4 [==============================] - 3s 671ms/step - loss: 2357.6313 - mae: 31.1868 - mse: 2357.6313 - val_loss: 1334.1633 - val_mae: 29.0123 - val_mse: 1334.1633\n",
            "Epoch 24/100\n",
            "4/4 [==============================] - 3s 703ms/step - loss: 2278.4463 - mae: 30.7354 - mse: 2278.4463 - val_loss: 1085.2080 - val_mae: 24.8046 - val_mse: 1085.2081\n",
            "Epoch 25/100\n",
            "4/4 [==============================] - 3s 714ms/step - loss: 2262.8711 - mae: 31.2316 - mse: 2262.8711 - val_loss: 1162.9817 - val_mae: 26.4472 - val_mse: 1162.9817\n",
            "Epoch 26/100\n",
            "4/4 [==============================] - 3s 748ms/step - loss: 2138.6599 - mae: 30.2532 - mse: 2138.6599 - val_loss: 1456.0696 - val_mae: 30.3891 - val_mse: 1456.0696\n",
            "Epoch 27/100\n",
            "4/4 [==============================] - 3s 716ms/step - loss: 2010.2450 - mae: 29.0023 - mse: 2010.2450 - val_loss: 1294.0125 - val_mae: 27.4535 - val_mse: 1294.0125\n",
            "Epoch 28/100\n",
            "4/4 [==============================] - 3s 666ms/step - loss: 1992.9050 - mae: 28.5528 - mse: 1992.9050 - val_loss: 1329.8469 - val_mae: 27.9309 - val_mse: 1329.8469\n",
            "Epoch 29/100\n",
            "4/4 [==============================] - 3s 689ms/step - loss: 1986.4646 - mae: 29.1634 - mse: 1986.4646 - val_loss: 1393.6533 - val_mae: 29.3005 - val_mse: 1393.6533\n",
            "Epoch 30/100\n",
            "4/4 [==============================] - 3s 743ms/step - loss: 1773.9778 - mae: 27.1214 - mse: 1773.9778 - val_loss: 1878.3895 - val_mae: 35.6683 - val_mse: 1878.3895\n",
            "Epoch 31/100\n",
            "4/4 [==============================] - 3s 743ms/step - loss: 1711.0092 - mae: 27.1107 - mse: 1711.0092 - val_loss: 1503.2552 - val_mae: 30.5176 - val_mse: 1503.2552\n",
            "Epoch 32/100\n",
            "4/4 [==============================] - 3s 683ms/step - loss: 1629.3170 - mae: 25.8982 - mse: 1629.3170 - val_loss: 1325.1753 - val_mae: 28.1939 - val_mse: 1325.1753\n",
            "Epoch 33/100\n",
            "4/4 [==============================] - 3s 692ms/step - loss: 1572.1329 - mae: 25.1922 - mse: 1572.1329 - val_loss: 1684.8812 - val_mae: 32.4073 - val_mse: 1684.8812\n",
            "Epoch 34/100\n",
            "4/4 [==============================] - 3s 675ms/step - loss: 1506.3124 - mae: 24.6913 - mse: 1506.3124 - val_loss: 1794.3983 - val_mae: 33.1849 - val_mse: 1794.3983\n",
            "Epoch 35/100\n",
            "4/4 [==============================] - 3s 659ms/step - loss: 1416.3721 - mae: 24.0031 - mse: 1416.3721 - val_loss: 1851.3479 - val_mae: 33.9888 - val_mse: 1851.3479\n",
            "Epoch 36/100\n",
            "4/4 [==============================] - 3s 691ms/step - loss: 1431.2832 - mae: 24.4021 - mse: 1431.2832 - val_loss: 2038.1395 - val_mae: 36.1637 - val_mse: 2038.1395\n",
            "Epoch 37/100\n",
            "4/4 [==============================] - 3s 710ms/step - loss: 1458.1099 - mae: 24.3100 - mse: 1458.1099 - val_loss: 1733.6382 - val_mae: 32.8481 - val_mse: 1733.6382\n",
            "Epoch 38/100\n",
            "4/4 [==============================] - 3s 695ms/step - loss: 1247.3518 - mae: 22.9614 - mse: 1247.3518 - val_loss: 2243.9163 - val_mae: 37.4415 - val_mse: 2243.9163\n",
            "Epoch 39/100\n",
            "4/4 [==============================] - 3s 666ms/step - loss: 1226.0006 - mae: 22.7779 - mse: 1226.0006 - val_loss: 2133.3887 - val_mae: 36.2239 - val_mse: 2133.3887\n",
            "Epoch 40/100\n",
            "4/4 [==============================] - 3s 689ms/step - loss: 1238.7488 - mae: 22.1728 - mse: 1238.7488 - val_loss: 2118.7236 - val_mae: 36.4239 - val_mse: 2118.7236\n",
            "Epoch 41/100\n",
            "4/4 [==============================] - 3s 739ms/step - loss: 1174.2971 - mae: 21.8846 - mse: 1174.2971 - val_loss: 2204.6375 - val_mae: 37.2209 - val_mse: 2204.6375\n",
            "Epoch 42/100\n",
            "4/4 [==============================] - 3s 676ms/step - loss: 1078.3580 - mae: 21.0420 - mse: 1078.3580 - val_loss: 2269.0037 - val_mae: 37.7385 - val_mse: 2269.0037\n",
            "Epoch 43/100\n",
            "4/4 [==============================] - 3s 709ms/step - loss: 981.5676 - mae: 20.5190 - mse: 981.5676 - val_loss: 2321.6387 - val_mae: 38.0159 - val_mse: 2321.6387\n",
            "Epoch 44/100\n",
            "4/4 [==============================] - 3s 730ms/step - loss: 951.2226 - mae: 20.4801 - mse: 951.2226 - val_loss: 2417.1172 - val_mae: 39.0618 - val_mse: 2417.1172\n",
            "Epoch 45/100\n",
            "4/4 [==============================] - 3s 702ms/step - loss: 929.1214 - mae: 20.2064 - mse: 929.1214 - val_loss: 2751.4395 - val_mae: 42.0576 - val_mse: 2751.4395\n",
            "Epoch 46/100\n",
            "4/4 [==============================] - 3s 680ms/step - loss: 890.0368 - mae: 20.1371 - mse: 890.0368 - val_loss: 2590.2825 - val_mae: 39.9727 - val_mse: 2590.2825\n",
            "Epoch 47/100\n",
            "4/4 [==============================] - 3s 723ms/step - loss: 814.0391 - mae: 19.1303 - mse: 814.0391 - val_loss: 2546.7878 - val_mae: 39.6270 - val_mse: 2546.7878\n",
            "Epoch 48/100\n",
            "4/4 [==============================] - 3s 669ms/step - loss: 766.1545 - mae: 18.7680 - mse: 766.1545 - val_loss: 2503.0701 - val_mae: 39.8293 - val_mse: 2503.0701\n",
            "Epoch 49/100\n",
            "4/4 [==============================] - 3s 684ms/step - loss: 749.1439 - mae: 18.3552 - mse: 749.1439 - val_loss: 2697.7834 - val_mae: 41.2465 - val_mse: 2697.7834\n",
            "Epoch 50/100\n",
            "4/4 [==============================] - 3s 738ms/step - loss: 671.3638 - mae: 17.6819 - mse: 671.3638 - val_loss: 3188.0603 - val_mae: 44.5889 - val_mse: 3188.0603\n",
            "Epoch 51/100\n",
            "4/4 [==============================] - 3s 674ms/step - loss: 639.2390 - mae: 17.4208 - mse: 639.2390 - val_loss: 2870.1934 - val_mae: 42.1062 - val_mse: 2870.1934\n",
            "Epoch 52/100\n",
            "4/4 [==============================] - 3s 737ms/step - loss: 586.5977 - mae: 16.8582 - mse: 586.5977 - val_loss: 2977.8472 - val_mae: 42.9203 - val_mse: 2977.8472\n",
            "Epoch 53/100\n",
            "4/4 [==============================] - 3s 740ms/step - loss: 569.9575 - mae: 17.1645 - mse: 569.9575 - val_loss: 2938.2507 - val_mae: 42.9644 - val_mse: 2938.2507\n",
            "Epoch 54/100\n",
            "4/4 [==============================] - 3s 665ms/step - loss: 529.2957 - mae: 16.2878 - mse: 529.2957 - val_loss: 3229.7654 - val_mae: 44.2797 - val_mse: 3229.7654\n",
            "Epoch 55/100\n",
            "4/4 [==============================] - 3s 723ms/step - loss: 537.5072 - mae: 16.5613 - mse: 537.5072 - val_loss: 3053.8438 - val_mae: 45.2121 - val_mse: 3053.8438\n",
            "Epoch 56/100\n",
            "4/4 [==============================] - 3s 715ms/step - loss: 528.3337 - mae: 16.7507 - mse: 528.3337 - val_loss: 3412.8337 - val_mae: 45.3855 - val_mse: 3412.8337\n",
            "Epoch 57/100\n",
            "4/4 [==============================] - 3s 667ms/step - loss: 473.5404 - mae: 15.4904 - mse: 473.5404 - val_loss: 3197.6882 - val_mae: 46.8469 - val_mse: 3197.6882\n",
            "Epoch 58/100\n",
            "4/4 [==============================] - 3s 727ms/step - loss: 499.3878 - mae: 15.7792 - mse: 499.3878 - val_loss: 3355.9810 - val_mae: 45.4476 - val_mse: 3355.9810\n",
            "Epoch 59/100\n",
            "4/4 [==============================] - 3s 676ms/step - loss: 438.9821 - mae: 15.2829 - mse: 438.9821 - val_loss: 3459.3213 - val_mae: 47.2915 - val_mse: 3459.3213\n",
            "Epoch 60/100\n",
            "4/4 [==============================] - 3s 705ms/step - loss: 439.6220 - mae: 14.9542 - mse: 439.6220 - val_loss: 3761.5354 - val_mae: 48.8633 - val_mse: 3761.5354\n",
            "Epoch 61/100\n",
            "4/4 [==============================] - 3s 696ms/step - loss: 429.0077 - mae: 15.0805 - mse: 429.0077 - val_loss: 3329.9822 - val_mae: 47.8596 - val_mse: 3329.9822\n",
            "Epoch 62/100\n",
            "4/4 [==============================] - 3s 737ms/step - loss: 414.6911 - mae: 15.3087 - mse: 414.6911 - val_loss: 3898.6504 - val_mae: 49.5041 - val_mse: 3898.6504\n",
            "Epoch 63/100\n",
            "4/4 [==============================] - 3s 686ms/step - loss: 386.3091 - mae: 15.1528 - mse: 386.3091 - val_loss: 3298.2444 - val_mae: 46.4883 - val_mse: 3298.2444\n",
            "Epoch 64/100\n",
            "4/4 [==============================] - 3s 756ms/step - loss: 378.0787 - mae: 14.1033 - mse: 378.0787 - val_loss: 3548.7358 - val_mae: 47.5426 - val_mse: 3548.7358\n",
            "Epoch 65/100\n",
            "4/4 [==============================] - 3s 708ms/step - loss: 315.5113 - mae: 12.9287 - mse: 315.5113 - val_loss: 3675.3450 - val_mae: 48.3300 - val_mse: 3675.3450\n",
            "Epoch 66/100\n",
            "4/4 [==============================] - 3s 702ms/step - loss: 271.4290 - mae: 11.9048 - mse: 271.4290 - val_loss: 3877.4841 - val_mae: 49.1249 - val_mse: 3877.4841\n",
            "Epoch 67/100\n",
            "4/4 [==============================] - 3s 675ms/step - loss: 337.5997 - mae: 12.1510 - mse: 337.5997 - val_loss: 3908.5908 - val_mae: 49.7755 - val_mse: 3908.5908\n",
            "Epoch 68/100\n",
            "4/4 [==============================] - 3s 722ms/step - loss: 450.7104 - mae: 15.0837 - mse: 450.7104 - val_loss: 3696.2336 - val_mae: 50.1823 - val_mse: 3696.2336\n",
            "Epoch 69/100\n",
            "4/4 [==============================] - 3s 723ms/step - loss: 417.1089 - mae: 15.3950 - mse: 417.1089 - val_loss: 4241.2124 - val_mae: 51.1730 - val_mse: 4241.2124\n",
            "Epoch 70/100\n",
            "4/4 [==============================] - 3s 718ms/step - loss: 299.7615 - mae: 13.3269 - mse: 299.7615 - val_loss: 3687.7764 - val_mae: 50.9442 - val_mse: 3687.7764\n",
            "Epoch 71/100\n",
            "4/4 [==============================] - 3s 668ms/step - loss: 408.9176 - mae: 14.3936 - mse: 408.9176 - val_loss: 4349.7002 - val_mae: 52.7474 - val_mse: 4349.7002\n",
            "Epoch 72/100\n",
            "4/4 [==============================] - 3s 665ms/step - loss: 514.0553 - mae: 17.8721 - mse: 514.0553 - val_loss: 3667.9612 - val_mae: 48.4746 - val_mse: 3667.9612\n",
            "Epoch 73/100\n",
            "4/4 [==============================] - 3s 662ms/step - loss: 501.6230 - mae: 18.5114 - mse: 501.6230 - val_loss: 3413.6250 - val_mae: 47.5767 - val_mse: 3413.6250\n",
            "Epoch 74/100\n",
            "4/4 [==============================] - 3s 690ms/step - loss: 412.7206 - mae: 15.8364 - mse: 412.7206 - val_loss: 3598.0950 - val_mae: 47.4984 - val_mse: 3598.0950\n",
            "Epoch 75/100\n",
            "4/4 [==============================] - 3s 745ms/step - loss: 320.3591 - mae: 13.7421 - mse: 320.3591 - val_loss: 3570.0295 - val_mae: 49.3125 - val_mse: 3570.0295\n",
            "Epoch 76/100\n",
            "4/4 [==============================] - 3s 693ms/step - loss: 241.8990 - mae: 11.9017 - mse: 241.8990 - val_loss: 4299.8291 - val_mae: 52.3931 - val_mse: 4299.8291\n",
            "Epoch 77/100\n",
            "4/4 [==============================] - 3s 693ms/step - loss: 239.6702 - mae: 12.6534 - mse: 239.6702 - val_loss: 3614.8821 - val_mae: 49.1306 - val_mse: 3614.8821\n",
            "Epoch 78/100\n",
            "4/4 [==============================] - 3s 695ms/step - loss: 196.8632 - mae: 10.9982 - mse: 196.8632 - val_loss: 3847.3174 - val_mae: 49.2526 - val_mse: 3847.3174\n",
            "Epoch 79/100\n",
            "4/4 [==============================] - 3s 689ms/step - loss: 150.6094 - mae: 9.4993 - mse: 150.6094 - val_loss: 3789.7534 - val_mae: 49.2573 - val_mse: 3789.7534\n",
            "Epoch 80/100\n",
            "4/4 [==============================] - 3s 665ms/step - loss: 148.6237 - mae: 9.5539 - mse: 148.6237 - val_loss: 3686.7192 - val_mae: 49.8288 - val_mse: 3686.7192\n",
            "Epoch 81/100\n",
            "4/4 [==============================] - 3s 667ms/step - loss: 108.8827 - mae: 8.2232 - mse: 108.8827 - val_loss: 4140.9307 - val_mae: 51.2904 - val_mse: 4140.9312\n",
            "Epoch 82/100\n",
            "4/4 [==============================] - 3s 755ms/step - loss: 100.1731 - mae: 7.8936 - mse: 100.1731 - val_loss: 4109.0532 - val_mae: 52.2797 - val_mse: 4109.0532\n",
            "Epoch 83/100\n",
            "4/4 [==============================] - 3s 670ms/step - loss: 89.5796 - mae: 7.3898 - mse: 89.5796 - val_loss: 4256.5327 - val_mae: 52.5873 - val_mse: 4256.5327\n",
            "Epoch 84/100\n",
            "4/4 [==============================] - 3s 663ms/step - loss: 77.2492 - mae: 6.9628 - mse: 77.2492 - val_loss: 4209.1973 - val_mae: 52.6514 - val_mse: 4209.1973\n",
            "Epoch 85/100\n",
            "4/4 [==============================] - 3s 667ms/step - loss: 69.7951 - mae: 6.4790 - mse: 69.7951 - val_loss: 4139.6440 - val_mae: 52.8412 - val_mse: 4139.6440\n",
            "Epoch 86/100\n",
            "4/4 [==============================] - 3s 703ms/step - loss: 61.2188 - mae: 6.0095 - mse: 61.2188 - val_loss: 4341.4092 - val_mae: 53.1700 - val_mse: 4341.4092\n",
            "Epoch 87/100\n",
            "4/4 [==============================] - 3s 691ms/step - loss: 58.2456 - mae: 5.8170 - mse: 58.2456 - val_loss: 4378.4873 - val_mae: 54.1869 - val_mse: 4378.4873\n",
            "Epoch 88/100\n",
            "4/4 [==============================] - 3s 698ms/step - loss: 53.1274 - mae: 5.5546 - mse: 53.1274 - val_loss: 4459.6123 - val_mae: 54.1933 - val_mse: 4459.6123\n",
            "Epoch 89/100\n",
            "4/4 [==============================] - 3s 734ms/step - loss: 48.8340 - mae: 5.3025 - mse: 48.8340 - val_loss: 4380.0361 - val_mae: 54.2011 - val_mse: 4380.0361\n",
            "Epoch 90/100\n",
            "4/4 [==============================] - 3s 679ms/step - loss: 44.4625 - mae: 4.8898 - mse: 44.4625 - val_loss: 4390.1016 - val_mae: 54.3968 - val_mse: 4390.1016\n",
            "Epoch 91/100\n",
            "4/4 [==============================] - 3s 746ms/step - loss: 39.1597 - mae: 4.4095 - mse: 39.1597 - val_loss: 4536.3281 - val_mae: 54.8525 - val_mse: 4536.3281\n",
            "Epoch 92/100\n",
            "4/4 [==============================] - 3s 731ms/step - loss: 39.6676 - mae: 4.5387 - mse: 39.6676 - val_loss: 4490.0059 - val_mae: 55.2183 - val_mse: 4490.0059\n",
            "Epoch 93/100\n",
            "4/4 [==============================] - 3s 705ms/step - loss: 36.6649 - mae: 4.3329 - mse: 36.6649 - val_loss: 4595.1919 - val_mae: 55.3928 - val_mse: 4595.1919\n",
            "Epoch 94/100\n",
            "4/4 [==============================] - 3s 688ms/step - loss: 34.2611 - mae: 4.2063 - mse: 34.2611 - val_loss: 4613.2627 - val_mae: 55.8089 - val_mse: 4613.2627\n",
            "Epoch 95/100\n",
            "4/4 [==============================] - 3s 713ms/step - loss: 32.0483 - mae: 4.0475 - mse: 32.0483 - val_loss: 4602.3433 - val_mae: 55.5991 - val_mse: 4602.3433\n",
            "Epoch 96/100\n",
            "4/4 [==============================] - 3s 720ms/step - loss: 29.6094 - mae: 3.8067 - mse: 29.6094 - val_loss: 4585.7407 - val_mae: 55.7866 - val_mse: 4585.7407\n",
            "Epoch 97/100\n",
            "4/4 [==============================] - 3s 721ms/step - loss: 28.1198 - mae: 3.6052 - mse: 28.1198 - val_loss: 4631.0723 - val_mae: 56.0911 - val_mse: 4631.0723\n",
            "Epoch 98/100\n",
            "4/4 [==============================] - 3s 719ms/step - loss: 28.0865 - mae: 3.6535 - mse: 28.0865 - val_loss: 4743.1274 - val_mae: 56.4427 - val_mse: 4743.1274\n",
            "Epoch 99/100\n",
            "4/4 [==============================] - 3s 671ms/step - loss: 26.7641 - mae: 3.6588 - mse: 26.7641 - val_loss: 4675.6123 - val_mae: 56.5457 - val_mse: 4675.6123\n",
            "Epoch 100/100\n",
            "4/4 [==============================] - 3s 747ms/step - loss: 26.4203 - mae: 3.6958 - mse: 26.4203 - val_loss: 4730.7700 - val_mae: 56.5049 - val_mse: 4730.7700\n"
          ]
        }
      ],
      "source": [
        "r=model_bi_lstm.fit(\n",
        "    Xtrain,\n",
        "    Ytrain,\n",
        "    epochs=100,\n",
        "    validation_data=(Xtest,Ytest),\n",
        "    callbacks=[check_point_bi_lstm]\n",
        ")"
      ]
    },
    {
      "cell_type": "markdown",
      "metadata": {
        "id": "8AVWuHEeDrUU"
      },
      "source": [
        "Bi-directional GRU"
      ]
    },
    {
      "cell_type": "code",
      "execution_count": 59,
      "metadata": {
        "colab": {
          "base_uri": "https://localhost:8080/"
        },
        "id": "cUHtZz0A7t3k",
        "outputId": "d5de1097-b70d-498f-c249-f07033ce0722"
      },
      "outputs": [
        {
          "output_type": "stream",
          "name": "stdout",
          "text": [
            "Model: \"model_3\"\n",
            "_________________________________________________________________\n",
            " Layer (type)                Output Shape              Param #   \n",
            "=================================================================\n",
            " input_4 (InputLayer)        [(None, 50, 1)]           0         \n",
            "                                                                 \n",
            " bidirectional_6 (Bidirectio  (None, 50, 400)          243600    \n",
            " nal)                                                            \n",
            "                                                                 \n",
            " bidirectional_7 (Bidirectio  (None, 50, 400)          722400    \n",
            " nal)                                                            \n",
            "                                                                 \n",
            " global_max_pooling1d_3 (Glo  (None, 400)              0         \n",
            " balMaxPooling1D)                                                \n",
            "                                                                 \n",
            " dense_9 (Dense)             (None, 100)               40100     \n",
            "                                                                 \n",
            " dense_10 (Dense)            (None, 50)                5050      \n",
            "                                                                 \n",
            " dense_11 (Dense)            (None, 1)                 51        \n",
            "                                                                 \n",
            "=================================================================\n",
            "Total params: 1,011,201\n",
            "Trainable params: 1,011,201\n",
            "Non-trainable params: 0\n",
            "_________________________________________________________________\n"
          ]
        }
      ],
      "source": [
        "i=Input(shape=(T,1))\n",
        "x=Bidirectional(GRU(200,return_sequences=True))(i)\n",
        "x=Bidirectional(GRU(200,return_sequences=True))(x)\n",
        "x=GlobalMaxPool1D()(x)\n",
        "x=Dense(100)(x)\n",
        "x=Dense(50)(x)\n",
        "x=Dense(1)(x)\n",
        "model_bi_gru=Model(i,x)\n",
        "model_bi_gru.summary()"
      ]
    },
    {
      "cell_type": "code",
      "execution_count": 60,
      "metadata": {
        "id": "31j89DK6DqGT"
      },
      "outputs": [],
      "source": [
        "check_point_bi_gru=ModelCheckpoint('best_model.h5',monitor='val_loss',save_best_only=True)"
      ]
    },
    {
      "cell_type": "code",
      "execution_count": 61,
      "metadata": {
        "id": "e0_x1t5JDqJK"
      },
      "outputs": [],
      "source": [
        "model_bi_gru.compile(loss='mse',\n",
        "              optimizer='adamax',\n",
        "              metrics=['mae','mse'])"
      ]
    },
    {
      "cell_type": "code",
      "execution_count": 62,
      "metadata": {
        "colab": {
          "base_uri": "https://localhost:8080/"
        },
        "id": "fu63FFgDDqMS",
        "outputId": "37bbf5da-59f2-4d30-e677-e486018be8c2"
      },
      "outputs": [
        {
          "output_type": "stream",
          "name": "stdout",
          "text": [
            "Epoch 1/100\n",
            "4/4 [==============================] - 12s 1s/step - loss: 3252.0984 - mae: 36.6186 - mse: 3252.0984 - val_loss: 751.7831 - val_mae: 21.2155 - val_mse: 751.7831\n",
            "Epoch 2/100\n",
            "4/4 [==============================] - 2s 592ms/step - loss: 3213.1624 - mae: 37.0609 - mse: 3213.1624 - val_loss: 735.5361 - val_mae: 21.1535 - val_mse: 735.5361\n",
            "Epoch 3/100\n",
            "4/4 [==============================] - 2s 619ms/step - loss: 3196.8052 - mae: 37.0209 - mse: 3196.8052 - val_loss: 742.0913 - val_mae: 21.1251 - val_mse: 742.0913\n",
            "Epoch 4/100\n",
            "4/4 [==============================] - 2s 567ms/step - loss: 3184.6294 - mae: 36.7246 - mse: 3184.6294 - val_loss: 745.8004 - val_mae: 21.1220 - val_mse: 745.8004\n",
            "Epoch 5/100\n",
            "4/4 [==============================] - 2s 598ms/step - loss: 3177.0417 - mae: 36.4836 - mse: 3177.0417 - val_loss: 751.9120 - val_mae: 21.1530 - val_mse: 751.9120\n",
            "Epoch 6/100\n",
            "4/4 [==============================] - 2s 559ms/step - loss: 3163.0271 - mae: 36.2694 - mse: 3163.0271 - val_loss: 752.9568 - val_mae: 21.1347 - val_mse: 752.9568\n",
            "Epoch 7/100\n",
            "4/4 [==============================] - 2s 604ms/step - loss: 3150.9438 - mae: 36.1771 - mse: 3150.9438 - val_loss: 752.9079 - val_mae: 21.0924 - val_mse: 752.9079\n",
            "Epoch 8/100\n",
            "4/4 [==============================] - 2s 604ms/step - loss: 3142.5298 - mae: 36.2246 - mse: 3142.5298 - val_loss: 744.3026 - val_mae: 21.0208 - val_mse: 744.3026\n",
            "Epoch 9/100\n",
            "4/4 [==============================] - 2s 604ms/step - loss: 3114.2942 - mae: 36.1876 - mse: 3114.2942 - val_loss: 747.5454 - val_mae: 20.9965 - val_mse: 747.5454\n",
            "Epoch 10/100\n",
            "4/4 [==============================] - 2s 595ms/step - loss: 3106.4788 - mae: 35.7498 - mse: 3106.4788 - val_loss: 766.9002 - val_mae: 21.0231 - val_mse: 766.9002\n",
            "Epoch 11/100\n",
            "4/4 [==============================] - 2s 592ms/step - loss: 3080.7400 - mae: 35.5246 - mse: 3080.7400 - val_loss: 754.2818 - val_mae: 20.9247 - val_mse: 754.2818\n",
            "Epoch 12/100\n",
            "4/4 [==============================] - 2s 590ms/step - loss: 3056.0845 - mae: 35.6863 - mse: 3056.0845 - val_loss: 747.5481 - val_mae: 20.8529 - val_mse: 747.5481\n",
            "Epoch 13/100\n",
            "4/4 [==============================] - 2s 620ms/step - loss: 3005.8342 - mae: 35.2007 - mse: 3005.8342 - val_loss: 771.8138 - val_mae: 20.8702 - val_mse: 771.8138\n",
            "Epoch 14/100\n",
            "4/4 [==============================] - 2s 617ms/step - loss: 2978.3713 - mae: 34.9171 - mse: 2978.3713 - val_loss: 768.8834 - val_mae: 20.8108 - val_mse: 768.8834\n",
            "Epoch 15/100\n",
            "4/4 [==============================] - 2s 572ms/step - loss: 2923.5264 - mae: 34.4064 - mse: 2923.5264 - val_loss: 789.7512 - val_mae: 20.9257 - val_mse: 789.7512\n",
            "Epoch 16/100\n",
            "4/4 [==============================] - 2s 579ms/step - loss: 2879.1392 - mae: 33.8697 - mse: 2879.1392 - val_loss: 784.3834 - val_mae: 20.8982 - val_mse: 784.3834\n",
            "Epoch 17/100\n",
            "4/4 [==============================] - 2s 586ms/step - loss: 2821.5312 - mae: 33.6306 - mse: 2821.5312 - val_loss: 799.6485 - val_mae: 21.0815 - val_mse: 799.6485\n",
            "Epoch 18/100\n",
            "4/4 [==============================] - 2s 622ms/step - loss: 2775.6929 - mae: 33.0568 - mse: 2775.6929 - val_loss: 825.8072 - val_mae: 21.4755 - val_mse: 825.8072\n",
            "Epoch 19/100\n",
            "4/4 [==============================] - 2s 575ms/step - loss: 2709.7437 - mae: 32.7632 - mse: 2709.7437 - val_loss: 834.7438 - val_mae: 21.6433 - val_mse: 834.7438\n",
            "Epoch 20/100\n",
            "4/4 [==============================] - 2s 577ms/step - loss: 2641.5425 - mae: 32.6027 - mse: 2641.5425 - val_loss: 865.6873 - val_mae: 22.2597 - val_mse: 865.6873\n",
            "Epoch 21/100\n",
            "4/4 [==============================] - 2s 576ms/step - loss: 2546.2161 - mae: 31.7081 - mse: 2546.2161 - val_loss: 815.9435 - val_mae: 21.4773 - val_mse: 815.9435\n",
            "Epoch 22/100\n",
            "4/4 [==============================] - 2s 604ms/step - loss: 2480.0122 - mae: 31.7061 - mse: 2480.0122 - val_loss: 902.9883 - val_mae: 22.9518 - val_mse: 902.9883\n",
            "Epoch 23/100\n",
            "4/4 [==============================] - 2s 572ms/step - loss: 2400.9492 - mae: 31.1419 - mse: 2400.9492 - val_loss: 945.4443 - val_mae: 23.6350 - val_mse: 945.4443\n",
            "Epoch 24/100\n",
            "4/4 [==============================] - 2s 604ms/step - loss: 2306.7607 - mae: 30.5319 - mse: 2306.7607 - val_loss: 895.3887 - val_mae: 22.9920 - val_mse: 895.3887\n",
            "Epoch 25/100\n",
            "4/4 [==============================] - 2s 619ms/step - loss: 2253.0215 - mae: 30.2505 - mse: 2253.0215 - val_loss: 988.1584 - val_mae: 24.3659 - val_mse: 988.1584\n",
            "Epoch 26/100\n",
            "4/4 [==============================] - 2s 624ms/step - loss: 2188.7278 - mae: 29.9493 - mse: 2188.7278 - val_loss: 922.8949 - val_mae: 23.3793 - val_mse: 922.8949\n",
            "Epoch 27/100\n",
            "4/4 [==============================] - 2s 596ms/step - loss: 2073.6221 - mae: 29.0264 - mse: 2073.6221 - val_loss: 1007.6098 - val_mae: 24.6332 - val_mse: 1007.6098\n",
            "Epoch 28/100\n",
            "4/4 [==============================] - 2s 575ms/step - loss: 2031.2013 - mae: 28.9890 - mse: 2031.2013 - val_loss: 951.3658 - val_mae: 23.7849 - val_mse: 951.3658\n",
            "Epoch 29/100\n",
            "4/4 [==============================] - 2s 578ms/step - loss: 2152.3340 - mae: 31.2768 - mse: 2152.3340 - val_loss: 978.0205 - val_mae: 24.2375 - val_mse: 978.0205\n",
            "Epoch 30/100\n",
            "4/4 [==============================] - 2s 605ms/step - loss: 1822.4539 - mae: 28.3810 - mse: 1822.4539 - val_loss: 1574.3699 - val_mae: 32.1720 - val_mse: 1574.3699\n",
            "Epoch 31/100\n",
            "4/4 [==============================] - 2s 603ms/step - loss: 1868.7939 - mae: 29.2805 - mse: 1868.7939 - val_loss: 1043.7229 - val_mae: 25.2172 - val_mse: 1043.7229\n",
            "Epoch 32/100\n",
            "4/4 [==============================] - 2s 564ms/step - loss: 1714.7612 - mae: 27.2631 - mse: 1714.7612 - val_loss: 959.8101 - val_mae: 23.8663 - val_mse: 959.8101\n",
            "Epoch 33/100\n",
            "4/4 [==============================] - 2s 563ms/step - loss: 1656.0017 - mae: 26.5940 - mse: 1656.0017 - val_loss: 1198.0013 - val_mae: 27.1714 - val_mse: 1198.0013\n",
            "Epoch 34/100\n",
            "4/4 [==============================] - 2s 579ms/step - loss: 1616.1272 - mae: 26.7503 - mse: 1616.1272 - val_loss: 1170.7638 - val_mae: 26.8390 - val_mse: 1170.7638\n",
            "Epoch 35/100\n",
            "4/4 [==============================] - 2s 631ms/step - loss: 1513.1593 - mae: 25.8725 - mse: 1513.1593 - val_loss: 1164.2892 - val_mae: 26.8014 - val_mse: 1164.2892\n",
            "Epoch 36/100\n",
            "4/4 [==============================] - 2s 636ms/step - loss: 1601.1676 - mae: 27.0003 - mse: 1601.1676 - val_loss: 1233.3171 - val_mae: 27.6579 - val_mse: 1233.3171\n",
            "Epoch 37/100\n",
            "4/4 [==============================] - 2s 611ms/step - loss: 1534.8452 - mae: 26.6499 - mse: 1534.8452 - val_loss: 1074.2582 - val_mae: 25.4196 - val_mse: 1074.2582\n",
            "Epoch 38/100\n",
            "4/4 [==============================] - 2s 614ms/step - loss: 1390.1812 - mae: 25.8002 - mse: 1390.1812 - val_loss: 1602.6764 - val_mae: 32.1819 - val_mse: 1602.6764\n",
            "Epoch 39/100\n",
            "4/4 [==============================] - 2s 593ms/step - loss: 1378.0198 - mae: 26.0106 - mse: 1378.0198 - val_loss: 1139.6890 - val_mae: 26.1947 - val_mse: 1139.6890\n",
            "Epoch 40/100\n",
            "4/4 [==============================] - 2s 567ms/step - loss: 1264.5378 - mae: 24.1983 - mse: 1264.5378 - val_loss: 1241.7627 - val_mae: 27.6555 - val_mse: 1241.7627\n",
            "Epoch 41/100\n",
            "4/4 [==============================] - 2s 624ms/step - loss: 1231.1310 - mae: 24.2178 - mse: 1231.1310 - val_loss: 1286.0763 - val_mae: 28.1581 - val_mse: 1286.0763\n",
            "Epoch 42/100\n",
            "4/4 [==============================] - 2s 570ms/step - loss: 1143.2195 - mae: 22.8604 - mse: 1143.2195 - val_loss: 1389.7582 - val_mae: 29.5693 - val_mse: 1389.7582\n",
            "Epoch 43/100\n",
            "4/4 [==============================] - 2s 622ms/step - loss: 1091.4930 - mae: 22.9502 - mse: 1091.4930 - val_loss: 1330.0836 - val_mae: 28.7805 - val_mse: 1330.0836\n",
            "Epoch 44/100\n",
            "4/4 [==============================] - 2s 613ms/step - loss: 1046.3875 - mae: 22.4971 - mse: 1046.3875 - val_loss: 1433.7371 - val_mae: 30.0546 - val_mse: 1433.7371\n",
            "Epoch 45/100\n",
            "4/4 [==============================] - 2s 591ms/step - loss: 980.0181 - mae: 21.6074 - mse: 980.0181 - val_loss: 1399.9802 - val_mae: 29.6037 - val_mse: 1399.9802\n",
            "Epoch 46/100\n",
            "4/4 [==============================] - 2s 603ms/step - loss: 954.4650 - mae: 21.9203 - mse: 954.4650 - val_loss: 1392.6147 - val_mae: 29.4736 - val_mse: 1392.6147\n",
            "Epoch 47/100\n",
            "4/4 [==============================] - 2s 588ms/step - loss: 901.2125 - mae: 20.7563 - mse: 901.2125 - val_loss: 1672.9996 - val_mae: 32.7136 - val_mse: 1672.9996\n",
            "Epoch 48/100\n",
            "4/4 [==============================] - 2s 590ms/step - loss: 865.8688 - mae: 21.1409 - mse: 865.8688 - val_loss: 1414.9088 - val_mae: 29.4905 - val_mse: 1414.9088\n",
            "Epoch 49/100\n",
            "4/4 [==============================] - 2s 628ms/step - loss: 840.0898 - mae: 20.1414 - mse: 840.0898 - val_loss: 1614.7921 - val_mae: 32.1176 - val_mse: 1614.7921\n",
            "Epoch 50/100\n",
            "4/4 [==============================] - 2s 587ms/step - loss: 825.0205 - mae: 20.6180 - mse: 825.0205 - val_loss: 1574.6859 - val_mae: 31.3785 - val_mse: 1574.6859\n",
            "Epoch 51/100\n",
            "4/4 [==============================] - 2s 589ms/step - loss: 756.8654 - mae: 19.7148 - mse: 756.8654 - val_loss: 1676.3668 - val_mae: 32.5482 - val_mse: 1676.3668\n",
            "Epoch 52/100\n",
            "4/4 [==============================] - 2s 636ms/step - loss: 736.2389 - mae: 19.4391 - mse: 736.2389 - val_loss: 1693.0654 - val_mae: 32.9975 - val_mse: 1693.0654\n",
            "Epoch 53/100\n",
            "4/4 [==============================] - 2s 593ms/step - loss: 710.7180 - mae: 19.8390 - mse: 710.7180 - val_loss: 1537.2196 - val_mae: 31.2241 - val_mse: 1537.2196\n",
            "Epoch 54/100\n",
            "4/4 [==============================] - 2s 554ms/step - loss: 650.3306 - mae: 17.8267 - mse: 650.3306 - val_loss: 1992.0342 - val_mae: 35.8231 - val_mse: 1992.0342\n",
            "Epoch 55/100\n",
            "4/4 [==============================] - 2s 606ms/step - loss: 653.0755 - mae: 18.7170 - mse: 653.0755 - val_loss: 1476.6466 - val_mae: 30.2311 - val_mse: 1476.6466\n",
            "Epoch 56/100\n",
            "4/4 [==============================] - 2s 620ms/step - loss: 658.6931 - mae: 18.7875 - mse: 658.6931 - val_loss: 2178.4531 - val_mae: 37.4277 - val_mse: 2178.4531\n",
            "Epoch 57/100\n",
            "4/4 [==============================] - 2s 558ms/step - loss: 619.2558 - mae: 18.1697 - mse: 619.2558 - val_loss: 1556.9119 - val_mae: 31.2315 - val_mse: 1556.9119\n",
            "Epoch 58/100\n",
            "4/4 [==============================] - 2s 567ms/step - loss: 720.4434 - mae: 19.0193 - mse: 720.4434 - val_loss: 1638.5027 - val_mae: 31.9149 - val_mse: 1638.5027\n",
            "Epoch 59/100\n",
            "4/4 [==============================] - 2s 628ms/step - loss: 560.7874 - mae: 17.1007 - mse: 560.7874 - val_loss: 1737.5330 - val_mae: 32.9840 - val_mse: 1737.5330\n",
            "Epoch 60/100\n",
            "4/4 [==============================] - 2s 562ms/step - loss: 507.5063 - mae: 16.4531 - mse: 507.5063 - val_loss: 1940.7335 - val_mae: 34.9779 - val_mse: 1940.7335\n",
            "Epoch 61/100\n",
            "4/4 [==============================] - 2s 593ms/step - loss: 445.2418 - mae: 14.8522 - mse: 445.2418 - val_loss: 1706.1586 - val_mae: 32.6038 - val_mse: 1706.1586\n",
            "Epoch 62/100\n",
            "4/4 [==============================] - 2s 619ms/step - loss: 423.4051 - mae: 14.6850 - mse: 423.4051 - val_loss: 2145.7739 - val_mae: 36.9610 - val_mse: 2145.7739\n",
            "Epoch 63/100\n",
            "4/4 [==============================] - 2s 623ms/step - loss: 417.7116 - mae: 14.6776 - mse: 417.7116 - val_loss: 1916.6583 - val_mae: 34.6260 - val_mse: 1916.6583\n",
            "Epoch 64/100\n",
            "4/4 [==============================] - 2s 592ms/step - loss: 538.6954 - mae: 17.2286 - mse: 538.6954 - val_loss: 1666.0492 - val_mae: 32.0718 - val_mse: 1666.0492\n",
            "Epoch 65/100\n",
            "4/4 [==============================] - 2s 591ms/step - loss: 545.9099 - mae: 17.7942 - mse: 545.9099 - val_loss: 2741.9956 - val_mae: 42.2978 - val_mse: 2741.9956\n",
            "Epoch 66/100\n",
            "4/4 [==============================] - 2s 564ms/step - loss: 468.8142 - mae: 16.9928 - mse: 468.8142 - val_loss: 1720.1992 - val_mae: 32.7624 - val_mse: 1720.1992\n",
            "Epoch 67/100\n",
            "4/4 [==============================] - 2s 585ms/step - loss: 367.1929 - mae: 13.9453 - mse: 367.1929 - val_loss: 2394.9211 - val_mae: 38.8133 - val_mse: 2394.9211\n",
            "Epoch 68/100\n",
            "4/4 [==============================] - 2s 607ms/step - loss: 425.4044 - mae: 15.7373 - mse: 425.4044 - val_loss: 1747.8004 - val_mae: 32.8470 - val_mse: 1747.8004\n",
            "Epoch 69/100\n",
            "4/4 [==============================] - 2s 568ms/step - loss: 409.6763 - mae: 14.3363 - mse: 409.6763 - val_loss: 2443.2808 - val_mae: 39.2473 - val_mse: 2443.2808\n",
            "Epoch 70/100\n",
            "4/4 [==============================] - 2s 603ms/step - loss: 312.9157 - mae: 12.8142 - mse: 312.9157 - val_loss: 1794.0154 - val_mae: 33.3085 - val_mse: 1794.0154\n",
            "Epoch 71/100\n",
            "4/4 [==============================] - 2s 562ms/step - loss: 306.6985 - mae: 13.2461 - mse: 306.6985 - val_loss: 2607.4602 - val_mae: 40.8073 - val_mse: 2607.4602\n",
            "Epoch 72/100\n",
            "4/4 [==============================] - 2s 612ms/step - loss: 342.3953 - mae: 14.4328 - mse: 342.3953 - val_loss: 1847.6450 - val_mae: 33.5902 - val_mse: 1847.6450\n",
            "Epoch 73/100\n",
            "4/4 [==============================] - 2s 599ms/step - loss: 364.5161 - mae: 15.3497 - mse: 364.5161 - val_loss: 3040.3462 - val_mae: 44.4919 - val_mse: 3040.3462\n",
            "Epoch 74/100\n",
            "4/4 [==============================] - 2s 594ms/step - loss: 310.7004 - mae: 13.5905 - mse: 310.7004 - val_loss: 1790.8425 - val_mae: 33.0890 - val_mse: 1790.8425\n",
            "Epoch 75/100\n",
            "4/4 [==============================] - 2s 612ms/step - loss: 312.2342 - mae: 13.9661 - mse: 312.2342 - val_loss: 2841.9197 - val_mae: 42.5446 - val_mse: 2841.9197\n",
            "Epoch 76/100\n",
            "4/4 [==============================] - 2s 620ms/step - loss: 261.3788 - mae: 12.8773 - mse: 261.3788 - val_loss: 1843.6890 - val_mae: 33.5596 - val_mse: 1843.6890\n",
            "Epoch 77/100\n",
            "4/4 [==============================] - 2s 631ms/step - loss: 260.7373 - mae: 12.3345 - mse: 260.7373 - val_loss: 2622.4722 - val_mae: 40.7205 - val_mse: 2622.4722\n",
            "Epoch 78/100\n",
            "4/4 [==============================] - 2s 596ms/step - loss: 243.9022 - mae: 12.4701 - mse: 243.9022 - val_loss: 1859.0365 - val_mae: 33.6700 - val_mse: 1859.0365\n",
            "Epoch 79/100\n",
            "4/4 [==============================] - 2s 594ms/step - loss: 245.1160 - mae: 11.6473 - mse: 245.1160 - val_loss: 2716.7759 - val_mae: 41.3705 - val_mse: 2716.7759\n",
            "Epoch 80/100\n",
            "4/4 [==============================] - 2s 584ms/step - loss: 299.6289 - mae: 12.8496 - mse: 299.6289 - val_loss: 1927.9109 - val_mae: 34.2486 - val_mse: 1927.9109\n",
            "Epoch 81/100\n",
            "4/4 [==============================] - 2s 616ms/step - loss: 186.1706 - mae: 10.6433 - mse: 186.1706 - val_loss: 2700.7039 - val_mae: 41.0901 - val_mse: 2700.7039\n",
            "Epoch 82/100\n",
            "4/4 [==============================] - 2s 634ms/step - loss: 182.8644 - mae: 10.3699 - mse: 182.8644 - val_loss: 2143.7549 - val_mae: 36.5311 - val_mse: 2143.7549\n",
            "Epoch 83/100\n",
            "4/4 [==============================] - 2s 643ms/step - loss: 177.6243 - mae: 9.7551 - mse: 177.6243 - val_loss: 2295.0540 - val_mae: 37.8825 - val_mse: 2295.0540\n",
            "Epoch 84/100\n",
            "4/4 [==============================] - 2s 646ms/step - loss: 150.8820 - mae: 8.7909 - mse: 150.8820 - val_loss: 2432.0205 - val_mae: 38.8798 - val_mse: 2432.0205\n",
            "Epoch 85/100\n",
            "4/4 [==============================] - 2s 639ms/step - loss: 137.6130 - mae: 8.7978 - mse: 137.6130 - val_loss: 2171.8708 - val_mae: 36.7079 - val_mse: 2171.8708\n",
            "Epoch 86/100\n",
            "4/4 [==============================] - 2s 634ms/step - loss: 123.4392 - mae: 7.8241 - mse: 123.4392 - val_loss: 2506.3335 - val_mae: 39.4739 - val_mse: 2506.3335\n",
            "Epoch 87/100\n",
            "4/4 [==============================] - 2s 607ms/step - loss: 121.8068 - mae: 8.5549 - mse: 121.8068 - val_loss: 2193.7505 - val_mae: 36.8794 - val_mse: 2193.7505\n",
            "Epoch 88/100\n",
            "4/4 [==============================] - 2s 599ms/step - loss: 132.4763 - mae: 8.2755 - mse: 132.4763 - val_loss: 2601.6394 - val_mae: 40.2567 - val_mse: 2601.6394\n",
            "Epoch 89/100\n",
            "4/4 [==============================] - 2s 579ms/step - loss: 118.1033 - mae: 7.8524 - mse: 118.1033 - val_loss: 2406.2625 - val_mae: 38.7665 - val_mse: 2406.2625\n",
            "Epoch 90/100\n",
            "4/4 [==============================] - 2s 641ms/step - loss: 93.3511 - mae: 6.9102 - mse: 93.3511 - val_loss: 2212.4895 - val_mae: 37.0277 - val_mse: 2212.4895\n",
            "Epoch 91/100\n",
            "4/4 [==============================] - 2s 624ms/step - loss: 82.8667 - mae: 6.3424 - mse: 82.8667 - val_loss: 2543.1870 - val_mae: 39.7745 - val_mse: 2543.1870\n",
            "Epoch 92/100\n",
            "4/4 [==============================] - 2s 626ms/step - loss: 82.3672 - mae: 6.5711 - mse: 82.3672 - val_loss: 2361.1887 - val_mae: 38.3505 - val_mse: 2361.1887\n",
            "Epoch 93/100\n",
            "4/4 [==============================] - 2s 619ms/step - loss: 79.4894 - mae: 6.2148 - mse: 79.4894 - val_loss: 2358.0349 - val_mae: 38.3020 - val_mse: 2358.0349\n",
            "Epoch 94/100\n",
            "4/4 [==============================] - 2s 595ms/step - loss: 69.4244 - mae: 5.7485 - mse: 69.4244 - val_loss: 2636.1421 - val_mae: 40.5584 - val_mse: 2636.1421\n",
            "Epoch 95/100\n",
            "4/4 [==============================] - 2s 622ms/step - loss: 79.7882 - mae: 6.6317 - mse: 79.7882 - val_loss: 2326.8367 - val_mae: 38.0506 - val_mse: 2326.8367\n",
            "Epoch 96/100\n",
            "4/4 [==============================] - 2s 608ms/step - loss: 67.8431 - mae: 6.1984 - mse: 67.8431 - val_loss: 2465.7412 - val_mae: 39.2274 - val_mse: 2465.7412\n",
            "Epoch 97/100\n",
            "4/4 [==============================] - 2s 572ms/step - loss: 58.9839 - mae: 5.3019 - mse: 58.9839 - val_loss: 2363.8860 - val_mae: 38.3141 - val_mse: 2363.8860\n",
            "Epoch 98/100\n",
            "4/4 [==============================] - 2s 565ms/step - loss: 59.6127 - mae: 5.6443 - mse: 59.6127 - val_loss: 2405.3325 - val_mae: 38.6848 - val_mse: 2405.3325\n",
            "Epoch 99/100\n",
            "4/4 [==============================] - 2s 585ms/step - loss: 61.4917 - mae: 5.5738 - mse: 61.4917 - val_loss: 2576.9824 - val_mae: 40.1144 - val_mse: 2576.9824\n",
            "Epoch 100/100\n",
            "4/4 [==============================] - 2s 590ms/step - loss: 50.7205 - mae: 4.8311 - mse: 50.7205 - val_loss: 2424.4756 - val_mae: 38.7894 - val_mse: 2424.4756\n"
          ]
        }
      ],
      "source": [
        "r=model_bi_gru.fit(\n",
        "    Xtrain,\n",
        "    Ytrain,\n",
        "    epochs=100,\n",
        "    validation_data=(Xtest,Ytest),\n",
        "    callbacks=[check_point_bi_gru]\n",
        ")"
      ]
    },
    {
      "cell_type": "markdown",
      "metadata": {
        "id": "uo4koH4XEkiv"
      },
      "source": [
        "Predictions"
      ]
    },
    {
      "cell_type": "code",
      "execution_count": 63,
      "metadata": {
        "id": "-vEh0mmyDqPC"
      },
      "outputs": [],
      "source": [
        "train_idx[:T+1]=False"
      ]
    },
    {
      "cell_type": "code",
      "execution_count": 64,
      "metadata": {
        "id": "OftAJjIQDqR5"
      },
      "outputs": [],
      "source": [
        "Ptrain_bi_lstm=model_bi_lstm.predict(Xtrain).flatten()\n",
        "Ptest_bi_lstm=model_bi_lstm.predict(Xtest).flatten()"
      ]
    },
    {
      "cell_type": "code",
      "execution_count": 65,
      "metadata": {
        "id": "LPvgcdw4DqU9"
      },
      "outputs": [],
      "source": [
        "Ptrain_bi_gru=model_bi_gru.predict(Xtrain).flatten()\n",
        "Ptest_bi_gru=model_bi_gru.predict(Xtest).flatten()"
      ]
    },
    {
      "cell_type": "code",
      "execution_count": 66,
      "metadata": {
        "id": "D1MjWqICDqX4"
      },
      "outputs": [],
      "source": [
        "df.loc[train_idx,'Diff Bi-LSTM train prediction']=Ptrain_bi_lstm\n",
        "df.loc[test_idx,'Diff bi-LSTM test prediction']=Ptest_bi_lstm"
      ]
    },
    {
      "cell_type": "code",
      "execution_count": 67,
      "metadata": {
        "id": "JGyHZQpeDqbP"
      },
      "outputs": [],
      "source": [
        "df.loc[train_idx,'Diff Bi-GRU train prediction']=Ptrain_bi_gru\n",
        "df.loc[test_idx,'Diff BiGRU test prediction']=Ptest_bi_gru"
      ]
    },
    {
      "cell_type": "code",
      "execution_count": 68,
      "metadata": {
        "id": "o41wY4YSDqdr"
      },
      "outputs": [],
      "source": [
        "df['Shift Prev Close']=df['Prev Close'].shift(1)\n",
        "prev=df['Shift Prev Close']"
      ]
    },
    {
      "cell_type": "code",
      "execution_count": 69,
      "metadata": {
        "id": "ieSjZEI4Dqgo"
      },
      "outputs": [],
      "source": [
        "last_train=train.iloc[-1]['Prev Close']"
      ]
    },
    {
      "cell_type": "code",
      "execution_count": 70,
      "metadata": {
        "id": "iXAmOWl-Dqjf"
      },
      "outputs": [],
      "source": [
        "df.loc[train_idx,'train_Bi_LSTM']=prev[train_idx]+Ptrain_bi_lstm\n",
        "df.loc[test_idx,'Prediction_Bi_LSTM']=prev[test_idx]+Ptest_bi_lstm"
      ]
    },
    {
      "cell_type": "code",
      "execution_count": 71,
      "metadata": {
        "id": "zPuzleJlDqma"
      },
      "outputs": [],
      "source": [
        "df.loc[train_idx,'train_Bi_GRU']=prev[train_idx]+Ptrain_bi_gru\n",
        "df.loc[test_idx,'Prediction_Bi_GRU']=prev[test_idx]+Ptest_bi_gru"
      ]
    },
    {
      "cell_type": "code",
      "execution_count": 72,
      "metadata": {
        "id": "lnfbHo3KDqpO",
        "colab": {
          "base_uri": "https://localhost:8080/",
          "height": 422
        },
        "outputId": "53366873-e862-4c8a-ddf8-ec20dbc9ef79"
      },
      "outputs": [
        {
          "output_type": "display_data",
          "data": {
            "text/plain": [
              "<Figure size 1080x720 with 1 Axes>"
            ],
            "image/png": "[encoded data removed]"
          },
          "metadata": {
            "needs_background": "light"
          }
        }
      ],
      "source": [
        "df[[ 'Prev Close','Prediction_Bi_LSTM','Prediction_Bi_GRU']].plot(figsize=(15,10));"
      ]
    },
    {
      "cell_type": "code",
      "execution_count": 73,
      "metadata": {
        "id": "riQ3YykBDqsG",
        "colab": {
          "base_uri": "https://localhost:8080/",
          "height": 428
        },
        "outputId": "c08f4b12-77fa-4a97-b898-61f7428a8586"
      },
      "outputs": [
        {
          "output_type": "display_data",
          "data": {
            "text/plain": [
              "<Figure size 1080x720 with 1 Axes>"
            ],
            "image/png": "[encoded data removed]"
          },
          "metadata": {
            "needs_background": "light"
          }
        }
      ],
      "source": [
        "df[[ 'Prediction_Bi_LSTM','Prediction_Bi_GRU']].plot(figsize=(15,10));"
      ]
    },
    {
      "cell_type": "markdown",
      "metadata": {
        "id": "0o_3yUJvF-FW"
      },
      "source": [
        "Evaluation"
      ]
    },
    {
      "cell_type": "code",
      "execution_count": 74,
      "metadata": {
        "id": "vonBmF2b7t6q"
      },
      "outputs": [],
      "source": [
        "pred_bi_lstm=df['Prediction_Bi_LSTM']\n",
        "pred_bi_lstm.dropna(inplace=True)"
      ]
    },
    {
      "cell_type": "code",
      "execution_count": 75,
      "metadata": {
        "id": "sPUaq6UiGCRI",
        "colab": {
          "base_uri": "https://localhost:8080/"
        },
        "outputId": "9f0250b1-3586-422c-9f17-1b8b5fb7d642"
      },
      "outputs": [
        {
          "output_type": "stream",
          "name": "stdout",
          "text": [
            "68.78059519893917\n"
          ]
        }
      ],
      "source": [
        "rmse=math.sqrt(mean_squared_error(test['Prev Close'],pred_bi_lstm))\n",
        "print(rmse)"
      ]
    },
    {
      "cell_type": "code",
      "execution_count": 76,
      "metadata": {
        "id": "kQMcHGVCGCUL",
        "colab": {
          "base_uri": "https://localhost:8080/"
        },
        "outputId": "dbce44e4-bea9-4940-cc00-d61a862c4516"
      },
      "outputs": [
        {
          "output_type": "stream",
          "name": "stdout",
          "text": [
            "56.50485550944009\n"
          ]
        }
      ],
      "source": [
        "error=mean_absolute_error(test['Prev Close'],pred_bi_lstm)\n",
        "print(error)"
      ]
    },
    {
      "cell_type": "code",
      "execution_count": 77,
      "metadata": {
        "id": "lyLslWMAGCXT",
        "colab": {
          "base_uri": "https://localhost:8080/"
        },
        "outputId": "66a4ae84-568d-45a6-d6d5-e4db0b1f16b7"
      },
      "outputs": [
        {
          "output_type": "execute_result",
          "data": {
            "text/plain": [
              "0.5236759583398141"
            ]
          },
          "metadata": {},
          "execution_count": 77
        }
      ],
      "source": [
        "r2_score(test['Prev Close'],pred_bi_lstm)"
      ]
    },
    {
      "cell_type": "code",
      "execution_count": 78,
      "metadata": {
        "id": "wa7wnr9TGC2J"
      },
      "outputs": [],
      "source": [
        "pred_bi_gru=df['Prediction_Bi_GRU']\n",
        "pred_bi_gru.dropna(inplace=True)"
      ]
    },
    {
      "cell_type": "code",
      "execution_count": 79,
      "metadata": {
        "id": "EkKg0wGaGC-e",
        "colab": {
          "base_uri": "https://localhost:8080/"
        },
        "outputId": "01eafb73-3ab6-4744-e201-8815f31394fe"
      },
      "outputs": [
        {
          "output_type": "stream",
          "name": "stdout",
          "text": [
            "49.23896478599549\n"
          ]
        }
      ],
      "source": [
        "rmse=math.sqrt(mean_squared_error(test['Prev Close'],pred_bi_gru))\n",
        "print(rmse)"
      ]
    },
    {
      "cell_type": "code",
      "execution_count": 80,
      "metadata": {
        "id": "BQL76rMvGDGT",
        "colab": {
          "base_uri": "https://localhost:8080/"
        },
        "outputId": "0b7784e6-afbd-483d-bb96-ea8dbe61da0a"
      },
      "outputs": [
        {
          "output_type": "stream",
          "name": "stdout",
          "text": [
            "38.78935722891488\n"
          ]
        }
      ],
      "source": [
        "error=mean_absolute_error(test['Prev Close'],pred_bi_gru)\n",
        "print(error)"
      ]
    },
    {
      "cell_type": "code",
      "execution_count": 81,
      "metadata": {
        "id": "GMZqO2_yGDO_",
        "colab": {
          "base_uri": "https://localhost:8080/"
        },
        "outputId": "f6d443bc-05f8-473b-b09c-662dd3042c9c"
      },
      "outputs": [
        {
          "output_type": "execute_result",
          "data": {
            "text/plain": [
              "0.75588837024799"
            ]
          },
          "metadata": {},
          "execution_count": 81
        }
      ],
      "source": [
        "r2_score(test['Prev Close'],pred_bi_gru)"
      ]
    },
    {
      "cell_type": "code",
      "execution_count": 81,
      "metadata": {
        "id": "PIN91mEuGizf"
      },
      "outputs": [],
      "source": []
    }
  ],
  "metadata": {
    "colab": {
      "collapsed_sections": [],
      "provenance": []
    },
    "kernelspec": {
      "display_name": "Python 3",
      "name": "python3"
    },
    "language_info": {
      "name": "python"
    }
  },
  "nbformat": 4,
  "nbformat_minor": 0
}