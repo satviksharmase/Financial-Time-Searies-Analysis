{
  "nbformat": 4,
  "nbformat_minor": 0,
  "metadata": {
    "colab": {
      "provenance": []
    },
    "kernelspec": {
      "name": "python3",
      "display_name": "Python 3"
    },
    "language_info": {
      "name": "python"
    }
  },
  "cells": [
    {
      "cell_type": "code",
      "execution_count": 241,
      "metadata": {
        "id": "rRzK__2FbGio"
      },
      "outputs": [],
      "source": [
        "import numpy as np\n",
        "import matplotlib.pyplot as plt\n",
        "import pandas as pd\n",
        "\n",
        "import tensorflow as tf\n",
        "from tensorflow.keras.layers import Dense, Input\n",
        "from tensorflow.keras.models import Model\n",
        "from tensorflow.keras.layers import LSTM\n",
        "from tensorflow.keras.layers import GRU\n",
        "from tensorflow.keras.layers import GlobalMaxPooling1D\n",
        "from tensorflow.keras.layers import Conv1D, MaxPooling1D\n",
        "from tensorflow.keras.callbacks import ModelCheckpoint\n",
        "\n",
        "import math\n",
        "\n",
        "from sklearn.metrics import r2_score\n",
        "from sklearn.metrics import mean_absolute_error\n",
        "from sklearn.metrics import mean_squared_error\n",
        "\n",
        "np.random.seed(123)\n",
        "tf.random.set_seed(123)"
      ]
    },
    {
      "cell_type": "code",
      "source": [
        "df=pd.read_csv('./HINDUNILVR.csv',index_col='Date',parse_dates=True)"
      ],
      "metadata": {
        "id": "AE6wbl9LcLFx"
      },
      "execution_count": 242,
      "outputs": []
    },
    {
      "cell_type": "markdown",
      "source": [
        "Data Pre processing\n"
      ],
      "metadata": {
        "id": "L8XudG86eRhq"
      }
    },
    {
      "cell_type": "code",
      "source": [
        "df"
      ],
      "metadata": {
        "colab": {
          "base_uri": "https://localhost:8080/",
          "height": 710
        },
        "id": "FUFxX_tUcmfi",
        "outputId": "cb3bda3d-144c-425e-e3f6-51bb7d48f011"
      },
      "execution_count": 243,
      "outputs": [
        {
          "output_type": "execute_result",
          "data": {
            "text/plain": [
              "                Symbol Series  Prev Close    Open     High      Low     Last  \\\n",
              "Date                                                                           \n",
              "2000-01-03   HINDLEVER     EQ     2136.60  2300.0  2307.55  2300.00  2307.55   \n",
              "2000-01-04   HINDLEVER     EQ     2307.55  2381.0  2381.00  2250.00  2270.00   \n",
              "2000-01-05   HINDLEVER     EQ     2281.05  2200.0  2250.00  2105.00  2183.50   \n",
              "2000-01-06   HINDLEVER     EQ     2199.90  2224.9  2360.00  2210.00  2300.00   \n",
              "2000-01-07   HINDLEVER     EQ     2288.20  2300.0  2452.00  2282.25  2395.00   \n",
              "...                ...    ...         ...     ...      ...      ...      ...   \n",
              "2021-04-26  HINDUNILVR     EQ     2307.75  2324.0  2369.80  2311.00  2367.70   \n",
              "2021-04-27  HINDUNILVR     EQ     2360.65  2363.0  2386.45  2352.95  2378.00   \n",
              "2021-04-28  HINDUNILVR     EQ     2379.85  2380.0  2445.00  2366.30  2404.00   \n",
              "2021-04-29  HINDUNILVR     EQ     2406.55  2433.0  2448.95  2384.15  2422.15   \n",
              "2021-04-30  HINDUNILVR     EQ     2407.60  2410.0  2442.90  2330.25  2350.00   \n",
              "\n",
              "              Close     VWAP   Volume      Turnover    Trades  \\\n",
              "Date                                                            \n",
              "2000-01-03  2307.55  2307.08    24903  5.745330e+12       NaN   \n",
              "2000-01-04  2281.05  2298.15    58514  1.344740e+13       NaN   \n",
              "2000-01-05  2199.90  2211.17    80296  1.775482e+13       NaN   \n",
              "2000-01-06  2288.20  2301.80   190032  4.374157e+13       NaN   \n",
              "2000-01-07  2412.95  2380.24   192582  4.583919e+13       NaN   \n",
              "...             ...      ...      ...           ...       ...   \n",
              "2021-04-26  2360.65  2340.89  1946867  4.557405e+14   85684.0   \n",
              "2021-04-27  2379.85  2374.40  1668456  3.961583e+14   84641.0   \n",
              "2021-04-28  2406.55  2414.15  1951215  4.710522e+14   84910.0   \n",
              "2021-04-29  2407.60  2419.82  3151150  7.625230e+14  141048.0   \n",
              "2021-04-30  2353.75  2363.99  4010778  9.481448e+14  170223.0   \n",
              "\n",
              "            Deliverable Volume  %Deliverble  \n",
              "Date                                         \n",
              "2000-01-03                 NaN          NaN  \n",
              "2000-01-04                 NaN          NaN  \n",
              "2000-01-05                 NaN          NaN  \n",
              "2000-01-06                 NaN          NaN  \n",
              "2000-01-07                 NaN          NaN  \n",
              "...                        ...          ...  \n",
              "2021-04-26           1289103.0       0.6621  \n",
              "2021-04-27           1089882.0       0.6532  \n",
              "2021-04-28           1024216.0       0.5249  \n",
              "2021-04-29            946648.0       0.3004  \n",
              "2021-04-30           2038288.0       0.5082  \n",
              "\n",
              "[5306 rows x 14 columns]"
            ],
            "text/html": [
              "\n",
              "  <div id=\"df-86c95cba-2c09-414a-8d9a-975199a4616b\">\n",
              "    <div class=\"colab-df-container\">\n",
              "      <div>\n",
              "<style scoped>\n",
              "    .dataframe tbody tr th:only-of-type {\n",
              "        vertical-align: middle;\n",
              "    }\n",
              "\n",
              "    .dataframe tbody tr th {\n",
              "        vertical-align: top;\n",
              "    }\n",
              "\n",
              "    .dataframe thead th {\n",
              "        text-align: right;\n",
              "    }\n",
              "</style>\n",
              "<table border=\"1\" class=\"dataframe\">\n",
              "  <thead>\n",
              "    <tr style=\"text-align: right;\">\n",
              "      <th></th>\n",
              "      <th>Symbol</th>\n",
              "      <th>Series</th>\n",
              "      <th>Prev Close</th>\n",
              "      <th>Open</th>\n",
              "      <th>High</th>\n",
              "      <th>Low</th>\n",
              "      <th>Last</th>\n",
              "      <th>Close</th>\n",
              "      <th>VWAP</th>\n",
              "      <th>Volume</th>\n",
              "      <th>Turnover</th>\n",
              "      <th>Trades</th>\n",
              "      <th>Deliverable Volume</th>\n",
              "      <th>%Deliverble</th>\n",
              "    </tr>\n",
              "    <tr>\n",
              "      <th>Date</th>\n",
              "      <th></th>\n",
              "      <th></th>\n",
              "      <th></th>\n",
              "      <th></th>\n",
              "      <th></th>\n",
              "      <th></th>\n",
              "      <th></th>\n",
              "      <th></th>\n",
              "      <th></th>\n",
              "      <th></th>\n",
              "      <th></th>\n",
              "      <th></th>\n",
              "      <th></th>\n",
              "      <th></th>\n",
              "    </tr>\n",
              "  </thead>\n",
              "  <tbody>\n",
              "    <tr>\n",
              "      <th>2000-01-03</th>\n",
              "      <td>HINDLEVER</td>\n",
              "      <td>EQ</td>\n",
              "      <td>2136.60</td>\n",
              "      <td>2300.0</td>\n",
              "      <td>2307.55</td>\n",
              "      <td>2300.00</td>\n",
              "      <td>2307.55</td>\n",
              "      <td>2307.55</td>\n",
              "      <td>2307.08</td>\n",
              "      <td>24903</td>\n",
              "      <td>5.745330e+12</td>\n",
              "      <td>NaN</td>\n",
              "      <td>NaN</td>\n",
              "      <td>NaN</td>\n",
              "    </tr>\n",
              "    <tr>\n",
              "      <th>2000-01-04</th>\n",
              "      <td>HINDLEVER</td>\n",
              "      <td>EQ</td>\n",
              "      <td>2307.55</td>\n",
              "      <td>2381.0</td>\n",
              "      <td>2381.00</td>\n",
              "      <td>2250.00</td>\n",
              "      <td>2270.00</td>\n",
              "      <td>2281.05</td>\n",
              "      <td>2298.15</td>\n",
              "      <td>58514</td>\n",
              "      <td>1.344740e+13</td>\n",
              "      <td>NaN</td>\n",
              "      <td>NaN</td>\n",
              "      <td>NaN</td>\n",
              "    </tr>\n",
              "    <tr>\n",
              "      <th>2000-01-05</th>\n",
              "      <td>HINDLEVER</td>\n",
              "      <td>EQ</td>\n",
              "      <td>2281.05</td>\n",
              "      <td>2200.0</td>\n",
              "      <td>2250.00</td>\n",
              "      <td>2105.00</td>\n",
              "      <td>2183.50</td>\n",
              "      <td>2199.90</td>\n",
              "      <td>2211.17</td>\n",
              "      <td>80296</td>\n",
              "      <td>1.775482e+13</td>\n",
              "      <td>NaN</td>\n",
              "      <td>NaN</td>\n",
              "      <td>NaN</td>\n",
              "    </tr>\n",
              "    <tr>\n",
              "      <th>2000-01-06</th>\n",
              "      <td>HINDLEVER</td>\n",
              "      <td>EQ</td>\n",
              "      <td>2199.90</td>\n",
              "      <td>2224.9</td>\n",
              "      <td>2360.00</td>\n",
              "      <td>2210.00</td>\n",
              "      <td>2300.00</td>\n",
              "      <td>2288.20</td>\n",
              "      <td>2301.80</td>\n",
              "      <td>190032</td>\n",
              "      <td>4.374157e+13</td>\n",
              "      <td>NaN</td>\n",
              "      <td>NaN</td>\n",
              "      <td>NaN</td>\n",
              "    </tr>\n",
              "    <tr>\n",
              "      <th>2000-01-07</th>\n",
              "      <td>HINDLEVER</td>\n",
              "      <td>EQ</td>\n",
              "      <td>2288.20</td>\n",
              "      <td>2300.0</td>\n",
              "      <td>2452.00</td>\n",
              "      <td>2282.25</td>\n",
              "      <td>2395.00</td>\n",
              "      <td>2412.95</td>\n",
              "      <td>2380.24</td>\n",
              "      <td>192582</td>\n",
              "      <td>4.583919e+13</td>\n",
              "      <td>NaN</td>\n",
              "      <td>NaN</td>\n",
              "      <td>NaN</td>\n",
              "    </tr>\n",
              "    <tr>\n",
              "      <th>...</th>\n",
              "      <td>...</td>\n",
              "      <td>...</td>\n",
              "      <td>...</td>\n",
              "      <td>...</td>\n",
              "      <td>...</td>\n",
              "      <td>...</td>\n",
              "      <td>...</td>\n",
              "      <td>...</td>\n",
              "      <td>...</td>\n",
              "      <td>...</td>\n",
              "      <td>...</td>\n",
              "      <td>...</td>\n",
              "      <td>...</td>\n",
              "      <td>...</td>\n",
              "    </tr>\n",
              "    <tr>\n",
              "      <th>2021-04-26</th>\n",
              "      <td>HINDUNILVR</td>\n",
              "      <td>EQ</td>\n",
              "      <td>2307.75</td>\n",
              "      <td>2324.0</td>\n",
              "      <td>2369.80</td>\n",
              "      <td>2311.00</td>\n",
              "      <td>2367.70</td>\n",
              "      <td>2360.65</td>\n",
              "      <td>2340.89</td>\n",
              "      <td>1946867</td>\n",
              "      <td>4.557405e+14</td>\n",
              "      <td>85684.0</td>\n",
              "      <td>1289103.0</td>\n",
              "      <td>0.6621</td>\n",
              "    </tr>\n",
              "    <tr>\n",
              "      <th>2021-04-27</th>\n",
              "      <td>HINDUNILVR</td>\n",
              "      <td>EQ</td>\n",
              "      <td>2360.65</td>\n",
              "      <td>2363.0</td>\n",
              "      <td>2386.45</td>\n",
              "      <td>2352.95</td>\n",
              "      <td>2378.00</td>\n",
              "      <td>2379.85</td>\n",
              "      <td>2374.40</td>\n",
              "      <td>1668456</td>\n",
              "      <td>3.961583e+14</td>\n",
              "      <td>84641.0</td>\n",
              "      <td>1089882.0</td>\n",
              "      <td>0.6532</td>\n",
              "    </tr>\n",
              "    <tr>\n",
              "      <th>2021-04-28</th>\n",
              "      <td>HINDUNILVR</td>\n",
              "      <td>EQ</td>\n",
              "      <td>2379.85</td>\n",
              "      <td>2380.0</td>\n",
              "      <td>2445.00</td>\n",
              "      <td>2366.30</td>\n",
              "      <td>2404.00</td>\n",
              "      <td>2406.55</td>\n",
              "      <td>2414.15</td>\n",
              "      <td>1951215</td>\n",
              "      <td>4.710522e+14</td>\n",
              "      <td>84910.0</td>\n",
              "      <td>1024216.0</td>\n",
              "      <td>0.5249</td>\n",
              "    </tr>\n",
              "    <tr>\n",
              "      <th>2021-04-29</th>\n",
              "      <td>HINDUNILVR</td>\n",
              "      <td>EQ</td>\n",
              "      <td>2406.55</td>\n",
              "      <td>2433.0</td>\n",
              "      <td>2448.95</td>\n",
              "      <td>2384.15</td>\n",
              "      <td>2422.15</td>\n",
              "      <td>2407.60</td>\n",
              "      <td>2419.82</td>\n",
              "      <td>3151150</td>\n",
              "      <td>7.625230e+14</td>\n",
              "      <td>141048.0</td>\n",
              "      <td>946648.0</td>\n",
              "      <td>0.3004</td>\n",
              "    </tr>\n",
              "    <tr>\n",
              "      <th>2021-04-30</th>\n",
              "      <td>HINDUNILVR</td>\n",
              "      <td>EQ</td>\n",
              "      <td>2407.60</td>\n",
              "      <td>2410.0</td>\n",
              "      <td>2442.90</td>\n",
              "      <td>2330.25</td>\n",
              "      <td>2350.00</td>\n",
              "      <td>2353.75</td>\n",
              "      <td>2363.99</td>\n",
              "      <td>4010778</td>\n",
              "      <td>9.481448e+14</td>\n",
              "      <td>170223.0</td>\n",
              "      <td>2038288.0</td>\n",
              "      <td>0.5082</td>\n",
              "    </tr>\n",
              "  </tbody>\n",
              "</table>\n",
              "<p>5306 rows × 14 columns</p>\n",
              "</div>\n",
              "      <button class=\"colab-df-convert\" onclick=\"convertToInteractive('df-86c95cba-2c09-414a-8d9a-975199a4616b')\"\n",
              "              title=\"Convert this dataframe to an interactive table.\"\n",
              "              style=\"display:none;\">\n",
              "        \n",
              "  <svg xmlns=\"http://www.w3.org/2000/svg\" height=\"24px\"viewBox=\"0 0 24 24\"\n",
              "       width=\"24px\">\n",
              "    <path d=\"M0 0h24v24H0V0z\" fill=\"none\"/>\n",
              "    <path d=\"M18.56 5.44l.94 2.06.94-2.06 2.06-.94-2.06-.94-.94-2.06-.94 2.06-2.06.94zm-11 1L8.5 8.5l.94-2.06 2.06-.94-2.06-.94L8.5 2.5l-.94 2.06-2.06.94zm10 10l.94 2.06.94-2.06 2.06-.94-2.06-.94-.94-2.06-.94 2.06-2.06.94z\"/><path d=\"M17.41 7.96l-1.37-1.37c-.4-.4-.92-.59-1.43-.59-.52 0-1.04.2-1.43.59L10.3 9.45l-7.72 7.72c-.78.78-.78 2.05 0 2.83L4 21.41c.39.39.9.59 1.41.59.51 0 1.02-.2 1.41-.59l7.78-7.78 2.81-2.81c.8-.78.8-2.07 0-2.86zM5.41 20L4 18.59l7.72-7.72 1.47 1.35L5.41 20z\"/>\n",
              "  </svg>\n",
              "      </button>\n",
              "      \n",
              "  <style>\n",
              "    .colab-df-container {\n",
              "      display:flex;\n",
              "      flex-wrap:wrap;\n",
              "      gap: 12px;\n",
              "    }\n",
              "\n",
              "    .colab-df-convert {\n",
              "      background-color: #E8F0FE;\n",
              "      border: none;\n",
              "      border-radius: 50%;\n",
              "      cursor: pointer;\n",
              "      display: none;\n",
              "      fill: #1967D2;\n",
              "      height: 32px;\n",
              "      padding: 0 0 0 0;\n",
              "      width: 32px;\n",
              "    }\n",
              "\n",
              "    .colab-df-convert:hover {\n",
              "      background-color: #E2EBFA;\n",
              "      box-shadow: 0px 1px 2px rgba(60, 64, 67, 0.3), 0px 1px 3px 1px rgba(60, 64, 67, 0.15);\n",
              "      fill: #174EA6;\n",
              "    }\n",
              "\n",
              "    [theme=dark] .colab-df-convert {\n",
              "      background-color: #3B4455;\n",
              "      fill: #D2E3FC;\n",
              "    }\n",
              "\n",
              "    [theme=dark] .colab-df-convert:hover {\n",
              "      background-color: #434B5C;\n",
              "      box-shadow: 0px 1px 3px 1px rgba(0, 0, 0, 0.15);\n",
              "      filter: drop-shadow(0px 1px 2px rgba(0, 0, 0, 0.3));\n",
              "      fill: #FFFFFF;\n",
              "    }\n",
              "  </style>\n",
              "\n",
              "      <script>\n",
              "        const buttonEl =\n",
              "          document.querySelector('#df-86c95cba-2c09-414a-8d9a-975199a4616b button.colab-df-convert');\n",
              "        buttonEl.style.display =\n",
              "          google.colab.kernel.accessAllowed ? 'block' : 'none';\n",
              "\n",
              "        async function convertToInteractive(key) {\n",
              "          const element = document.querySelector('#df-86c95cba-2c09-414a-8d9a-975199a4616b');\n",
              "          const dataTable =\n",
              "            await google.colab.kernel.invokeFunction('convertToInteractive',\n",
              "                                                     [key], {});\n",
              "          if (!dataTable) return;\n",
              "\n",
              "          const docLinkHtml = 'Like what you see? Visit the ' +\n",
              "            '<a target=\"_blank\" href=https://colab.research.google.com/notebooks/data_table.ipynb>data table notebook</a>'\n",
              "            + ' to learn more about interactive tables.';\n",
              "          element.innerHTML = '';\n",
              "          dataTable['output_type'] = 'display_data';\n",
              "          await google.colab.output.renderOutput(dataTable, element);\n",
              "          const docLink = document.createElement('div');\n",
              "          docLink.innerHTML = docLinkHtml;\n",
              "          element.appendChild(docLink);\n",
              "        }\n",
              "      </script>\n",
              "    </div>\n",
              "  </div>\n",
              "  "
            ]
          },
          "metadata": {},
          "execution_count": 243
        }
      ]
    },
    {
      "cell_type": "code",
      "source": [
        "df['Date']=df.index"
      ],
      "metadata": {
        "id": "E7X-jyItcm8U"
      },
      "execution_count": 244,
      "outputs": []
    },
    {
      "cell_type": "code",
      "source": [
        "start_date='2020-01-01'\n",
        "end_date='2020-12-31'\n",
        "mask=(df['Date']>=start_date)&(df['Date']<=end_date)"
      ],
      "metadata": {
        "id": "A9eSrJ1Dcot3"
      },
      "execution_count": 245,
      "outputs": []
    },
    {
      "cell_type": "code",
      "source": [
        "df=df.loc[mask]"
      ],
      "metadata": {
        "id": "_Pfuk7zicqIx"
      },
      "execution_count": 246,
      "outputs": []
    },
    {
      "cell_type": "code",
      "source": [
        "df=df.loc[mask]"
      ],
      "metadata": {
        "id": "MsTtlYUncrcn"
      },
      "execution_count": 247,
      "outputs": []
    },
    {
      "cell_type": "code",
      "source": [
        "df=df.drop(columns=['Series','Symbol','Open','High','Low','Last','Close','VWAP','Volume','Turnover','Trades','Deliverable Volume','%Deliverble','Date'])"
      ],
      "metadata": {
        "id": "aV7QwBEDcvq2"
      },
      "execution_count": 248,
      "outputs": []
    },
    {
      "cell_type": "code",
      "source": [
        "Ntest=math.trunc(0.3*len(df))\n",
        "train=df.iloc[:-Ntest]\n",
        "test=df.iloc[-Ntest:]"
      ],
      "metadata": {
        "id": "cUuhMhL0c1qi"
      },
      "execution_count": 249,
      "outputs": []
    },
    {
      "cell_type": "code",
      "source": [
        "train_idx=df.index<=train.index[-1]\n",
        "test_idx=df.index>train.index[-1]"
      ],
      "metadata": {
        "id": "YFtIIrsqc3ch"
      },
      "execution_count": 250,
      "outputs": []
    },
    {
      "cell_type": "code",
      "source": [
        "df['Diff Prev Close']=df['Prev Close'].diff()"
      ],
      "metadata": {
        "id": "zh1z6dQDc6KA"
      },
      "execution_count": 251,
      "outputs": []
    },
    {
      "cell_type": "code",
      "source": [
        "series=df['Diff Prev Close'].dropna().to_numpy()\n",
        "\n",
        "T=50\n",
        "X=[]\n",
        "Y=[]\n",
        "for t in range(len(series)-T):\n",
        "  x=series[t:t+T]\n",
        "  X.append(x)\n",
        "  y=series[t+T]\n",
        "  Y.append(y)\n",
        "\n",
        "X=np.array(X).reshape(-1,T)\n",
        "Y=np.array(Y)\n",
        "N=len(X)\n",
        "print(\"X.shape\",X.shape,\"Y.shape\",Y.shape)"
      ],
      "metadata": {
        "colab": {
          "base_uri": "https://localhost:8080/"
        },
        "id": "GH9c1VIMdLvZ",
        "outputId": "cda211b6-fbc0-4e28-f19f-64e4dfac7040"
      },
      "execution_count": 252,
      "outputs": [
        {
          "output_type": "stream",
          "name": "stdout",
          "text": [
            "X.shape (201, 50) Y.shape (201,)\n"
          ]
        }
      ]
    },
    {
      "cell_type": "code",
      "source": [
        "Xtrain,Ytrain=X[:-Ntest],Y[:-Ntest]\n",
        "Xtest,Ytest=X[-Ntest:],Y[-Ntest:]"
      ],
      "metadata": {
        "id": "AyyCdgD1dQeH"
      },
      "execution_count": 253,
      "outputs": []
    },
    {
      "cell_type": "markdown",
      "source": [
        "ANN"
      ],
      "metadata": {
        "id": "P4csTdPeeavE"
      }
    },
    {
      "cell_type": "code",
      "source": [
        "i=Input(shape=(T,))\n",
        "x=Dense(400,activation='relu')(i)\n",
        "x=Dense(100,activation='relu')(x)\n",
        "x=Dense(50,activation='relu')(x)\n",
        "x=Dense(1,activation='relu')(x)\n",
        "model_ann=Model(i,x)\n",
        "model_ann.summary()"
      ],
      "metadata": {
        "colab": {
          "base_uri": "https://localhost:8080/"
        },
        "id": "cEHrg-sQdSpS",
        "outputId": "2b91f86f-0b91-456c-9bfb-8ef12a01580f"
      },
      "execution_count": 254,
      "outputs": [
        {
          "output_type": "stream",
          "name": "stdout",
          "text": [
            "Model: \"model_16\"\n",
            "_________________________________________________________________\n",
            " Layer (type)                Output Shape              Param #   \n",
            "=================================================================\n",
            " input_17 (InputLayer)       [(None, 50)]              0         \n",
            "                                                                 \n",
            " dense_44 (Dense)            (None, 400)               20400     \n",
            "                                                                 \n",
            " dense_45 (Dense)            (None, 100)               40100     \n",
            "                                                                 \n",
            " dense_46 (Dense)            (None, 50)                5050      \n",
            "                                                                 \n",
            " dense_47 (Dense)            (None, 1)                 51        \n",
            "                                                                 \n",
            "=================================================================\n",
            "Total params: 65,601\n",
            "Trainable params: 65,601\n",
            "Non-trainable params: 0\n",
            "_________________________________________________________________\n"
          ]
        }
      ]
    },
    {
      "cell_type": "code",
      "source": [
        "model_ann.compile(\n",
        "    loss='mse',\n",
        "    optimizer='adamax',\n",
        "    metrics='mae'\n",
        ")"
      ],
      "metadata": {
        "id": "GSjK1FukdUVe"
      },
      "execution_count": 255,
      "outputs": []
    },
    {
      "cell_type": "code",
      "source": [
        "r=model_ann.fit(\n",
        "    Xtrain,\n",
        "    Ytrain,\n",
        "    epochs=100,\n",
        "    validation_data=(Xtest,Ytest)\n",
        ")"
      ],
      "metadata": {
        "colab": {
          "base_uri": "https://localhost:8080/"
        },
        "id": "bp97xaLkdXKe",
        "outputId": "71775ad1-b9dc-4d90-b8bc-1d5505e10cf5"
      },
      "execution_count": 256,
      "outputs": [
        {
          "output_type": "stream",
          "name": "stdout",
          "text": [
            "Epoch 1/100\n",
            "4/4 [==============================] - 0s 52ms/step - loss: 3196.8333 - mae: 37.7820 - val_loss: 757.8262 - val_mae: 21.5363\n",
            "Epoch 2/100\n",
            "4/4 [==============================] - 0s 9ms/step - loss: 2708.4822 - mae: 34.3125 - val_loss: 768.1317 - val_mae: 21.6140\n",
            "Epoch 3/100\n",
            "4/4 [==============================] - 0s 10ms/step - loss: 2496.0864 - mae: 32.7358 - val_loss: 781.3102 - val_mae: 21.9185\n",
            "Epoch 4/100\n",
            "4/4 [==============================] - 0s 9ms/step - loss: 2419.9390 - mae: 32.0536 - val_loss: 794.6372 - val_mae: 22.1860\n",
            "Epoch 5/100\n",
            "4/4 [==============================] - 0s 10ms/step - loss: 2309.4468 - mae: 31.1793 - val_loss: 802.5897 - val_mae: 22.2677\n",
            "Epoch 6/100\n",
            "4/4 [==============================] - 0s 15ms/step - loss: 2257.1411 - mae: 30.4822 - val_loss: 812.0876 - val_mae: 22.3907\n",
            "Epoch 7/100\n",
            "4/4 [==============================] - 0s 10ms/step - loss: 2211.8525 - mae: 30.2906 - val_loss: 824.3580 - val_mae: 22.6315\n",
            "Epoch 8/100\n",
            "4/4 [==============================] - 0s 9ms/step - loss: 2116.7742 - mae: 29.6081 - val_loss: 831.2633 - val_mae: 22.7372\n",
            "Epoch 9/100\n",
            "4/4 [==============================] - 0s 8ms/step - loss: 2067.1819 - mae: 29.1674 - val_loss: 842.7667 - val_mae: 22.9593\n",
            "Epoch 10/100\n",
            "4/4 [==============================] - 0s 9ms/step - loss: 1970.0134 - mae: 28.6061 - val_loss: 843.0461 - val_mae: 22.9064\n",
            "Epoch 11/100\n",
            "4/4 [==============================] - 0s 8ms/step - loss: 1932.8917 - mae: 28.2843 - val_loss: 855.1042 - val_mae: 23.1022\n",
            "Epoch 12/100\n",
            "4/4 [==============================] - 0s 9ms/step - loss: 1876.1483 - mae: 27.9160 - val_loss: 867.6576 - val_mae: 23.2880\n",
            "Epoch 13/100\n",
            "4/4 [==============================] - 0s 9ms/step - loss: 1823.8770 - mae: 27.2036 - val_loss: 869.0968 - val_mae: 23.2419\n",
            "Epoch 14/100\n",
            "4/4 [==============================] - 0s 8ms/step - loss: 1794.7457 - mae: 26.8305 - val_loss: 874.2756 - val_mae: 23.2841\n",
            "Epoch 15/100\n",
            "4/4 [==============================] - 0s 9ms/step - loss: 1769.1454 - mae: 26.5115 - val_loss: 880.7371 - val_mae: 23.3592\n",
            "Epoch 16/100\n",
            "4/4 [==============================] - 0s 10ms/step - loss: 1752.1887 - mae: 26.2705 - val_loss: 887.7838 - val_mae: 23.4482\n",
            "Epoch 17/100\n",
            "4/4 [==============================] - 0s 8ms/step - loss: 1747.0996 - mae: 26.1843 - val_loss: 887.4958 - val_mae: 23.4022\n",
            "Epoch 18/100\n",
            "4/4 [==============================] - 0s 9ms/step - loss: 1729.0823 - mae: 25.9592 - val_loss: 884.1927 - val_mae: 23.3324\n",
            "Epoch 19/100\n",
            "4/4 [==============================] - 0s 8ms/step - loss: 1717.5983 - mae: 25.8841 - val_loss: 889.5094 - val_mae: 23.4009\n",
            "Epoch 20/100\n",
            "4/4 [==============================] - 0s 10ms/step - loss: 1708.4938 - mae: 25.6932 - val_loss: 897.6073 - val_mae: 23.5292\n",
            "Epoch 21/100\n",
            "4/4 [==============================] - 0s 15ms/step - loss: 1701.4425 - mae: 25.6229 - val_loss: 899.5300 - val_mae: 23.5526\n",
            "Epoch 22/100\n",
            "4/4 [==============================] - 0s 10ms/step - loss: 1697.9434 - mae: 25.4723 - val_loss: 900.8464 - val_mae: 23.5607\n",
            "Epoch 23/100\n",
            "4/4 [==============================] - 0s 11ms/step - loss: 1693.7632 - mae: 25.3555 - val_loss: 902.8734 - val_mae: 23.5787\n",
            "Epoch 24/100\n",
            "4/4 [==============================] - 0s 9ms/step - loss: 1689.2103 - mae: 25.2708 - val_loss: 903.2731 - val_mae: 23.5710\n",
            "Epoch 25/100\n",
            "4/4 [==============================] - 0s 9ms/step - loss: 1687.8364 - mae: 25.1898 - val_loss: 898.7350 - val_mae: 23.4798\n",
            "Epoch 26/100\n",
            "4/4 [==============================] - 0s 10ms/step - loss: 1685.1636 - mae: 25.1781 - val_loss: 898.3218 - val_mae: 23.4565\n",
            "Epoch 27/100\n",
            "4/4 [==============================] - 0s 9ms/step - loss: 1683.6149 - mae: 25.0724 - val_loss: 901.5789 - val_mae: 23.5001\n",
            "Epoch 28/100\n",
            "4/4 [==============================] - 0s 10ms/step - loss: 1682.5885 - mae: 24.9963 - val_loss: 902.7775 - val_mae: 23.5087\n",
            "Epoch 29/100\n",
            "4/4 [==============================] - 0s 9ms/step - loss: 1682.2466 - mae: 24.9547 - val_loss: 902.4959 - val_mae: 23.4950\n",
            "Epoch 30/100\n",
            "4/4 [==============================] - 0s 9ms/step - loss: 1681.5265 - mae: 24.8752 - val_loss: 902.4121 - val_mae: 23.4872\n",
            "Epoch 31/100\n",
            "4/4 [==============================] - 0s 9ms/step - loss: 1681.0088 - mae: 24.8008 - val_loss: 903.0814 - val_mae: 23.4957\n",
            "Epoch 32/100\n",
            "4/4 [==============================] - 0s 10ms/step - loss: 1680.7495 - mae: 24.7752 - val_loss: 903.3703 - val_mae: 23.5023\n",
            "Epoch 33/100\n",
            "4/4 [==============================] - 0s 9ms/step - loss: 1680.5627 - mae: 24.7391 - val_loss: 902.7585 - val_mae: 23.4957\n",
            "Epoch 34/100\n",
            "4/4 [==============================] - 0s 10ms/step - loss: 1680.4690 - mae: 24.7189 - val_loss: 902.7094 - val_mae: 23.4978\n",
            "Epoch 35/100\n",
            "4/4 [==============================] - 0s 10ms/step - loss: 1680.3777 - mae: 24.6711 - val_loss: 903.1032 - val_mae: 23.5064\n",
            "Epoch 36/100\n",
            "4/4 [==============================] - 0s 9ms/step - loss: 1680.3271 - mae: 24.6453 - val_loss: 903.3103 - val_mae: 23.5112\n",
            "Epoch 37/100\n",
            "4/4 [==============================] - 0s 9ms/step - loss: 1679.9093 - mae: 24.6508 - val_loss: 908.1339 - val_mae: 23.6131\n",
            "Epoch 38/100\n",
            "4/4 [==============================] - 0s 11ms/step - loss: 1644.1832 - mae: 24.9763 - val_loss: 914.7951 - val_mae: 23.7545\n",
            "Epoch 39/100\n",
            "4/4 [==============================] - 0s 8ms/step - loss: 1628.0632 - mae: 25.0056 - val_loss: 909.4605 - val_mae: 23.7103\n",
            "Epoch 40/100\n",
            "4/4 [==============================] - 0s 8ms/step - loss: 1607.7889 - mae: 24.4150 - val_loss: 898.7421 - val_mae: 23.5516\n",
            "Epoch 41/100\n",
            "4/4 [==============================] - 0s 9ms/step - loss: 1615.3838 - mae: 24.8064 - val_loss: 900.1103 - val_mae: 23.5731\n",
            "Epoch 42/100\n",
            "4/4 [==============================] - 0s 9ms/step - loss: 1614.0597 - mae: 24.5426 - val_loss: 905.5821 - val_mae: 23.6433\n",
            "Epoch 43/100\n",
            "4/4 [==============================] - 0s 14ms/step - loss: 1610.7329 - mae: 24.3260 - val_loss: 901.6033 - val_mae: 23.5619\n",
            "Epoch 44/100\n",
            "4/4 [==============================] - 0s 10ms/step - loss: 1606.1930 - mae: 24.1762 - val_loss: 898.1581 - val_mae: 23.4927\n",
            "Epoch 45/100\n",
            "4/4 [==============================] - 0s 10ms/step - loss: 1606.0546 - mae: 24.1985 - val_loss: 898.6785 - val_mae: 23.4930\n",
            "Epoch 46/100\n",
            "4/4 [==============================] - 0s 14ms/step - loss: 1606.0258 - mae: 24.1689 - val_loss: 900.5236 - val_mae: 23.5210\n",
            "Epoch 47/100\n",
            "4/4 [==============================] - 0s 9ms/step - loss: 1606.0249 - mae: 24.0967 - val_loss: 900.3911 - val_mae: 23.5177\n",
            "Epoch 48/100\n",
            "4/4 [==============================] - 0s 15ms/step - loss: 1605.5970 - mae: 24.0412 - val_loss: 900.2857 - val_mae: 23.5186\n",
            "Epoch 49/100\n",
            "4/4 [==============================] - 0s 10ms/step - loss: 1605.3517 - mae: 23.9973 - val_loss: 901.0367 - val_mae: 23.5371\n",
            "Epoch 50/100\n",
            "4/4 [==============================] - 0s 10ms/step - loss: 1605.1689 - mae: 23.9455 - val_loss: 901.4688 - val_mae: 23.5499\n",
            "Epoch 51/100\n",
            "4/4 [==============================] - 0s 12ms/step - loss: 1605.1139 - mae: 23.9113 - val_loss: 901.0939 - val_mae: 23.5475\n",
            "Epoch 52/100\n",
            "4/4 [==============================] - 0s 11ms/step - loss: 1605.1498 - mae: 23.9157 - val_loss: 900.9376 - val_mae: 23.5460\n",
            "Epoch 53/100\n",
            "4/4 [==============================] - 0s 10ms/step - loss: 1605.0653 - mae: 23.8816 - val_loss: 901.3694 - val_mae: 23.5506\n",
            "Epoch 54/100\n",
            "4/4 [==============================] - 0s 16ms/step - loss: 1605.0005 - mae: 23.8536 - val_loss: 901.3457 - val_mae: 23.5471\n",
            "Epoch 55/100\n",
            "4/4 [==============================] - 0s 9ms/step - loss: 1604.9982 - mae: 23.8559 - val_loss: 900.9648 - val_mae: 23.5379\n",
            "Epoch 56/100\n",
            "4/4 [==============================] - 0s 9ms/step - loss: 1604.9838 - mae: 23.8425 - val_loss: 901.1266 - val_mae: 23.5395\n",
            "Epoch 57/100\n",
            "4/4 [==============================] - 0s 10ms/step - loss: 1604.9792 - mae: 23.8367 - val_loss: 901.6226 - val_mae: 23.5477\n",
            "Epoch 58/100\n",
            "4/4 [==============================] - 0s 17ms/step - loss: 1604.9633 - mae: 23.8213 - val_loss: 901.7997 - val_mae: 23.5517\n",
            "Epoch 59/100\n",
            "4/4 [==============================] - 0s 9ms/step - loss: 1604.9486 - mae: 23.8057 - val_loss: 901.8354 - val_mae: 23.5537\n",
            "Epoch 60/100\n",
            "4/4 [==============================] - 0s 8ms/step - loss: 1604.9464 - mae: 23.7981 - val_loss: 901.6970 - val_mae: 23.5525\n",
            "Epoch 61/100\n",
            "4/4 [==============================] - 0s 8ms/step - loss: 1604.9460 - mae: 23.7983 - val_loss: 901.5012 - val_mae: 23.5499\n",
            "Epoch 62/100\n",
            "4/4 [==============================] - 0s 9ms/step - loss: 1604.9454 - mae: 23.7945 - val_loss: 901.3348 - val_mae: 23.5473\n",
            "Epoch 63/100\n",
            "4/4 [==============================] - 0s 8ms/step - loss: 1604.9426 - mae: 23.7861 - val_loss: 901.3701 - val_mae: 23.5476\n",
            "Epoch 64/100\n",
            "4/4 [==============================] - 0s 15ms/step - loss: 1604.9407 - mae: 23.7798 - val_loss: 901.6069 - val_mae: 23.5510\n",
            "Epoch 65/100\n",
            "4/4 [==============================] - 0s 10ms/step - loss: 1604.9407 - mae: 23.7809 - val_loss: 901.6279 - val_mae: 23.5512\n",
            "Epoch 66/100\n",
            "4/4 [==============================] - 0s 11ms/step - loss: 1604.9407 - mae: 23.7801 - val_loss: 901.4930 - val_mae: 23.5491\n",
            "Epoch 67/100\n",
            "4/4 [==============================] - 0s 9ms/step - loss: 1604.9404 - mae: 23.7797 - val_loss: 901.4076 - val_mae: 23.5479\n",
            "Epoch 68/100\n",
            "4/4 [==============================] - 0s 9ms/step - loss: 1604.9401 - mae: 23.7776 - val_loss: 901.4592 - val_mae: 23.5488\n",
            "Epoch 69/100\n",
            "4/4 [==============================] - 0s 12ms/step - loss: 1604.9395 - mae: 23.7721 - val_loss: 901.5372 - val_mae: 23.5501\n",
            "Epoch 70/100\n",
            "4/4 [==============================] - 0s 10ms/step - loss: 1604.9393 - mae: 23.7722 - val_loss: 901.5342 - val_mae: 23.5501\n",
            "Epoch 71/100\n",
            "4/4 [==============================] - 0s 8ms/step - loss: 1604.9393 - mae: 23.7714 - val_loss: 901.5105 - val_mae: 23.5497\n",
            "Epoch 72/100\n",
            "4/4 [==============================] - 0s 11ms/step - loss: 1604.9395 - mae: 23.7721 - val_loss: 901.4975 - val_mae: 23.5494\n",
            "Epoch 73/100\n",
            "4/4 [==============================] - 0s 10ms/step - loss: 1604.9392 - mae: 23.7698 - val_loss: 901.5289 - val_mae: 23.5498\n",
            "Epoch 74/100\n",
            "4/4 [==============================] - 0s 10ms/step - loss: 1604.9392 - mae: 23.7689 - val_loss: 901.5410 - val_mae: 23.5499\n",
            "Epoch 75/100\n",
            "4/4 [==============================] - 0s 10ms/step - loss: 1604.9392 - mae: 23.7689 - val_loss: 901.5229 - val_mae: 23.5496\n",
            "Epoch 76/100\n",
            "4/4 [==============================] - 0s 10ms/step - loss: 1604.9392 - mae: 23.7688 - val_loss: 901.5016 - val_mae: 23.5493\n",
            "Epoch 77/100\n",
            "4/4 [==============================] - 0s 11ms/step - loss: 1604.9392 - mae: 23.7684 - val_loss: 901.5289 - val_mae: 23.5497\n",
            "Epoch 78/100\n",
            "4/4 [==============================] - 0s 11ms/step - loss: 1604.9392 - mae: 23.7677 - val_loss: 901.5503 - val_mae: 23.5500\n",
            "Epoch 79/100\n",
            "4/4 [==============================] - 0s 11ms/step - loss: 1604.9392 - mae: 23.7678 - val_loss: 901.5379 - val_mae: 23.5499\n",
            "Epoch 80/100\n",
            "4/4 [==============================] - 0s 9ms/step - loss: 1604.9392 - mae: 23.7673 - val_loss: 901.5196 - val_mae: 23.5496\n",
            "Epoch 81/100\n",
            "4/4 [==============================] - 0s 9ms/step - loss: 1604.9392 - mae: 23.7674 - val_loss: 901.5204 - val_mae: 23.5496\n",
            "Epoch 82/100\n",
            "4/4 [==============================] - 0s 9ms/step - loss: 1604.9392 - mae: 23.7671 - val_loss: 901.5363 - val_mae: 23.5498\n",
            "Epoch 83/100\n",
            "4/4 [==============================] - 0s 9ms/step - loss: 1604.9392 - mae: 23.7673 - val_loss: 901.5374 - val_mae: 23.5498\n",
            "Epoch 84/100\n",
            "4/4 [==============================] - 0s 10ms/step - loss: 1604.9391 - mae: 23.7670 - val_loss: 901.5250 - val_mae: 23.5496\n",
            "Epoch 85/100\n",
            "4/4 [==============================] - 0s 9ms/step - loss: 1604.9392 - mae: 23.7669 - val_loss: 901.5233 - val_mae: 23.5496\n",
            "Epoch 86/100\n",
            "4/4 [==============================] - 0s 11ms/step - loss: 1604.9391 - mae: 23.7668 - val_loss: 901.5320 - val_mae: 23.5498\n",
            "Epoch 87/100\n",
            "4/4 [==============================] - 0s 15ms/step - loss: 1604.9392 - mae: 23.7667 - val_loss: 901.5342 - val_mae: 23.5498\n",
            "Epoch 88/100\n",
            "4/4 [==============================] - 0s 9ms/step - loss: 1604.9392 - mae: 23.7666 - val_loss: 901.5283 - val_mae: 23.5497\n",
            "Epoch 89/100\n",
            "4/4 [==============================] - 0s 9ms/step - loss: 1604.9391 - mae: 23.7666 - val_loss: 901.5243 - val_mae: 23.5496\n",
            "Epoch 90/100\n",
            "4/4 [==============================] - 0s 10ms/step - loss: 1604.9391 - mae: 23.7666 - val_loss: 901.5302 - val_mae: 23.5497\n",
            "Epoch 91/100\n",
            "4/4 [==============================] - 0s 10ms/step - loss: 1604.9393 - mae: 23.7665 - val_loss: 901.5342 - val_mae: 23.5498\n",
            "Epoch 92/100\n",
            "4/4 [==============================] - 0s 9ms/step - loss: 1604.9392 - mae: 23.7665 - val_loss: 901.5308 - val_mae: 23.5497\n",
            "Epoch 93/100\n",
            "4/4 [==============================] - 0s 11ms/step - loss: 1604.9392 - mae: 23.7664 - val_loss: 901.5278 - val_mae: 23.5497\n",
            "Epoch 94/100\n",
            "4/4 [==============================] - 0s 10ms/step - loss: 1604.9393 - mae: 23.7665 - val_loss: 901.5292 - val_mae: 23.5497\n",
            "Epoch 95/100\n",
            "4/4 [==============================] - 0s 8ms/step - loss: 1604.9392 - mae: 23.7664 - val_loss: 901.5309 - val_mae: 23.5497\n",
            "Epoch 96/100\n",
            "4/4 [==============================] - 0s 10ms/step - loss: 1604.9391 - mae: 23.7664 - val_loss: 901.5305 - val_mae: 23.5497\n",
            "Epoch 97/100\n",
            "4/4 [==============================] - 0s 13ms/step - loss: 1604.9392 - mae: 23.7664 - val_loss: 901.5299 - val_mae: 23.5497\n",
            "Epoch 98/100\n",
            "4/4 [==============================] - 0s 10ms/step - loss: 1604.9391 - mae: 23.7663 - val_loss: 901.5305 - val_mae: 23.5497\n",
            "Epoch 99/100\n",
            "4/4 [==============================] - 0s 10ms/step - loss: 1604.9392 - mae: 23.7663 - val_loss: 901.5305 - val_mae: 23.5497\n",
            "Epoch 100/100\n",
            "4/4 [==============================] - 0s 10ms/step - loss: 1604.9392 - mae: 23.7663 - val_loss: 901.5300 - val_mae: 23.5497\n"
          ]
        }
      ]
    },
    {
      "cell_type": "markdown",
      "source": [
        "CNN"
      ],
      "metadata": {
        "id": "Uekkb3dMfVs7"
      }
    },
    {
      "cell_type": "code",
      "source": [
        "i=Input(shape=(T,1))\n",
        "x=Conv1D(25,3,activation='relu')(i)\n",
        "x=MaxPooling1D(2)(x)\n",
        "x=Conv1D(50,3,activation='relu')(x)\n",
        "x=GlobalMaxPooling1D()(x)\n",
        "x=Dense(1)(x)\n",
        "model_cnn=Model(i,x)\n",
        "model_cnn.summary()"
      ],
      "metadata": {
        "colab": {
          "base_uri": "https://localhost:8080/"
        },
        "id": "Lboz32TXfjLR",
        "outputId": "8d1c7daa-762e-4076-d218-e7a73e819f8a"
      },
      "execution_count": 257,
      "outputs": [
        {
          "output_type": "stream",
          "name": "stdout",
          "text": [
            "Model: \"model_17\"\n",
            "_________________________________________________________________\n",
            " Layer (type)                Output Shape              Param #   \n",
            "=================================================================\n",
            " input_18 (InputLayer)       [(None, 50, 1)]           0         \n",
            "                                                                 \n",
            " conv1d_8 (Conv1D)           (None, 48, 25)            100       \n",
            "                                                                 \n",
            " max_pooling1d_4 (MaxPooling  (None, 24, 25)           0         \n",
            " 1D)                                                             \n",
            "                                                                 \n",
            " conv1d_9 (Conv1D)           (None, 22, 50)            3800      \n",
            "                                                                 \n",
            " global_max_pooling1d_12 (Gl  (None, 50)               0         \n",
            " obalMaxPooling1D)                                               \n",
            "                                                                 \n",
            " dense_48 (Dense)            (None, 1)                 51        \n",
            "                                                                 \n",
            "=================================================================\n",
            "Total params: 3,951\n",
            "Trainable params: 3,951\n",
            "Non-trainable params: 0\n",
            "_________________________________________________________________\n"
          ]
        }
      ]
    },
    {
      "cell_type": "code",
      "source": [
        "model_cnn.compile(loss='mse',\n",
        "              optimizer='adamax',\n",
        "              metrics=['mae','mse'])"
      ],
      "metadata": {
        "id": "5OpT5ORafjVT"
      },
      "execution_count": 258,
      "outputs": []
    },
    {
      "cell_type": "code",
      "source": [
        "r=model_cnn.fit(\n",
        "    Xtrain,\n",
        "    Ytrain,\n",
        "    epochs=100,\n",
        "    validation_data=(Xtest,Ytest)\n",
        ")"
      ],
      "metadata": {
        "colab": {
          "base_uri": "https://localhost:8080/"
        },
        "id": "mZ9Q3O2vfjf2",
        "outputId": "ee828d51-8c35-4c58-d266-54996108653d"
      },
      "execution_count": 259,
      "outputs": [
        {
          "output_type": "stream",
          "name": "stdout",
          "text": [
            "Epoch 1/100\n",
            "4/4 [==============================] - 1s 50ms/step - loss: 5084.3643 - mae: 45.4202 - mse: 5084.3643 - val_loss: 801.1575 - val_mae: 21.8994 - val_mse: 801.1575\n",
            "Epoch 2/100\n",
            "4/4 [==============================] - 0s 10ms/step - loss: 3682.2644 - mae: 37.6819 - mse: 3682.2644 - val_loss: 741.2040 - val_mae: 21.2721 - val_mse: 741.2040\n",
            "Epoch 3/100\n",
            "4/4 [==============================] - 0s 13ms/step - loss: 3543.5886 - mae: 40.1356 - mse: 3543.5886 - val_loss: 744.1331 - val_mae: 21.4697 - val_mse: 744.1331\n",
            "Epoch 4/100\n",
            "4/4 [==============================] - 0s 10ms/step - loss: 3585.4663 - mae: 41.5093 - mse: 3585.4663 - val_loss: 744.9165 - val_mae: 21.5025 - val_mse: 744.9165\n",
            "Epoch 5/100\n",
            "4/4 [==============================] - 0s 10ms/step - loss: 3510.4497 - mae: 40.7121 - mse: 3510.4497 - val_loss: 740.1294 - val_mae: 21.3840 - val_mse: 740.1294\n",
            "Epoch 6/100\n",
            "4/4 [==============================] - 0s 16ms/step - loss: 3416.3611 - mae: 39.3636 - mse: 3416.3611 - val_loss: 738.1863 - val_mae: 21.2569 - val_mse: 738.1863\n",
            "Epoch 7/100\n",
            "4/4 [==============================] - 0s 11ms/step - loss: 3354.8066 - mae: 38.1487 - mse: 3354.8066 - val_loss: 739.6667 - val_mae: 21.2146 - val_mse: 739.6667\n",
            "Epoch 8/100\n",
            "4/4 [==============================] - 0s 10ms/step - loss: 3316.6443 - mae: 37.2842 - mse: 3316.6443 - val_loss: 741.5854 - val_mae: 21.2092 - val_mse: 741.5854\n",
            "Epoch 9/100\n",
            "4/4 [==============================] - 0s 12ms/step - loss: 3300.8271 - mae: 36.7788 - mse: 3300.8271 - val_loss: 742.8958 - val_mae: 21.2040 - val_mse: 742.8958\n",
            "Epoch 10/100\n",
            "4/4 [==============================] - 0s 10ms/step - loss: 3296.0398 - mae: 36.4866 - mse: 3296.0398 - val_loss: 744.8632 - val_mae: 21.2060 - val_mse: 744.8632\n",
            "Epoch 11/100\n",
            "4/4 [==============================] - 0s 12ms/step - loss: 3278.6731 - mae: 36.4070 - mse: 3278.6731 - val_loss: 741.9437 - val_mae: 21.1863 - val_mse: 741.9437\n",
            "Epoch 12/100\n",
            "4/4 [==============================] - 0s 12ms/step - loss: 3258.7610 - mae: 36.6086 - mse: 3258.7610 - val_loss: 738.9103 - val_mae: 21.1751 - val_mse: 738.9103\n",
            "Epoch 13/100\n",
            "4/4 [==============================] - 0s 10ms/step - loss: 3214.4834 - mae: 36.5232 - mse: 3214.4834 - val_loss: 737.8180 - val_mae: 21.1705 - val_mse: 737.8180\n",
            "Epoch 14/100\n",
            "4/4 [==============================] - 0s 10ms/step - loss: 3210.2773 - mae: 36.6910 - mse: 3210.2773 - val_loss: 735.9426 - val_mae: 21.1707 - val_mse: 735.9426\n",
            "Epoch 15/100\n",
            "4/4 [==============================] - 0s 16ms/step - loss: 3180.2351 - mae: 36.6352 - mse: 3180.2351 - val_loss: 735.3031 - val_mae: 21.1640 - val_mse: 735.3031\n",
            "Epoch 16/100\n",
            "4/4 [==============================] - 0s 12ms/step - loss: 3160.8259 - mae: 36.5128 - mse: 3160.8259 - val_loss: 735.0311 - val_mae: 21.1545 - val_mse: 735.0311\n",
            "Epoch 17/100\n",
            "4/4 [==============================] - 0s 11ms/step - loss: 3143.7290 - mae: 36.4052 - mse: 3143.7290 - val_loss: 734.6531 - val_mae: 21.1473 - val_mse: 734.6531\n",
            "Epoch 18/100\n",
            "4/4 [==============================] - 0s 11ms/step - loss: 3133.6553 - mae: 36.3135 - mse: 3133.6553 - val_loss: 734.3611 - val_mae: 21.1396 - val_mse: 734.3611\n",
            "Epoch 19/100\n",
            "4/4 [==============================] - 0s 18ms/step - loss: 3118.1038 - mae: 36.2158 - mse: 3118.1038 - val_loss: 734.1147 - val_mae: 21.1335 - val_mse: 734.1147\n",
            "Epoch 20/100\n",
            "4/4 [==============================] - 0s 10ms/step - loss: 3106.0491 - mae: 36.1554 - mse: 3106.0491 - val_loss: 734.5226 - val_mae: 21.1199 - val_mse: 734.5226\n",
            "Epoch 21/100\n",
            "4/4 [==============================] - 0s 13ms/step - loss: 3091.0881 - mae: 36.0001 - mse: 3091.0881 - val_loss: 734.1063 - val_mae: 21.1159 - val_mse: 734.1063\n",
            "Epoch 22/100\n",
            "4/4 [==============================] - 0s 16ms/step - loss: 3081.9236 - mae: 36.0025 - mse: 3081.9236 - val_loss: 733.2985 - val_mae: 21.1172 - val_mse: 733.2985\n",
            "Epoch 23/100\n",
            "4/4 [==============================] - 0s 13ms/step - loss: 3067.1187 - mae: 35.9384 - mse: 3067.1187 - val_loss: 732.8434 - val_mae: 21.1124 - val_mse: 732.8434\n",
            "Epoch 24/100\n",
            "4/4 [==============================] - 0s 12ms/step - loss: 3059.1982 - mae: 35.8624 - mse: 3059.1982 - val_loss: 733.0098 - val_mae: 21.1028 - val_mse: 733.0098\n",
            "Epoch 25/100\n",
            "4/4 [==============================] - 0s 11ms/step - loss: 3050.5603 - mae: 35.8250 - mse: 3050.5603 - val_loss: 732.1484 - val_mae: 21.1067 - val_mse: 732.1484\n",
            "Epoch 26/100\n",
            "4/4 [==============================] - 0s 12ms/step - loss: 3037.8918 - mae: 35.8419 - mse: 3037.8918 - val_loss: 731.7965 - val_mae: 21.1079 - val_mse: 731.7965\n",
            "Epoch 27/100\n",
            "4/4 [==============================] - 0s 12ms/step - loss: 3027.4683 - mae: 35.7924 - mse: 3027.4683 - val_loss: 732.0528 - val_mae: 21.1008 - val_mse: 732.0528\n",
            "Epoch 28/100\n",
            "4/4 [==============================] - 0s 11ms/step - loss: 3025.8491 - mae: 35.6773 - mse: 3025.8491 - val_loss: 733.4237 - val_mae: 21.0823 - val_mse: 733.4237\n",
            "Epoch 29/100\n",
            "4/4 [==============================] - 0s 11ms/step - loss: 3014.9827 - mae: 35.5761 - mse: 3014.9827 - val_loss: 732.6030 - val_mae: 21.0900 - val_mse: 732.6030\n",
            "Epoch 30/100\n",
            "4/4 [==============================] - 0s 16ms/step - loss: 3002.6143 - mae: 35.5623 - mse: 3002.6143 - val_loss: 732.0651 - val_mae: 21.0946 - val_mse: 732.0651\n",
            "Epoch 31/100\n",
            "4/4 [==============================] - 0s 10ms/step - loss: 2991.7966 - mae: 35.5861 - mse: 2991.7966 - val_loss: 731.8690 - val_mae: 21.0933 - val_mse: 731.8690\n",
            "Epoch 32/100\n",
            "4/4 [==============================] - 0s 16ms/step - loss: 2983.3333 - mae: 35.4821 - mse: 2983.3333 - val_loss: 732.4189 - val_mae: 21.0776 - val_mse: 732.4189\n",
            "Epoch 33/100\n",
            "4/4 [==============================] - 0s 11ms/step - loss: 2973.6731 - mae: 35.3991 - mse: 2973.6731 - val_loss: 732.3044 - val_mae: 21.0745 - val_mse: 732.3044\n",
            "Epoch 34/100\n",
            "4/4 [==============================] - 0s 11ms/step - loss: 2972.8286 - mae: 35.3997 - mse: 2972.8286 - val_loss: 731.7789 - val_mae: 21.0763 - val_mse: 731.7789\n",
            "Epoch 35/100\n",
            "4/4 [==============================] - 0s 10ms/step - loss: 2956.8005 - mae: 35.3199 - mse: 2956.8005 - val_loss: 732.1847 - val_mae: 21.0703 - val_mse: 732.1847\n",
            "Epoch 36/100\n",
            "4/4 [==============================] - 0s 11ms/step - loss: 2963.7134 - mae: 35.2702 - mse: 2963.7134 - val_loss: 733.6483 - val_mae: 21.0717 - val_mse: 733.6483\n",
            "Epoch 37/100\n",
            "4/4 [==============================] - 0s 11ms/step - loss: 2951.6113 - mae: 35.1874 - mse: 2951.6113 - val_loss: 732.1664 - val_mae: 21.0655 - val_mse: 732.1664\n",
            "Epoch 38/100\n",
            "4/4 [==============================] - 0s 13ms/step - loss: 2941.5891 - mae: 35.2266 - mse: 2941.5891 - val_loss: 731.6019 - val_mae: 21.0667 - val_mse: 731.6019\n",
            "Epoch 39/100\n",
            "4/4 [==============================] - 0s 13ms/step - loss: 2935.9988 - mae: 35.2357 - mse: 2935.9988 - val_loss: 731.3616 - val_mae: 21.0689 - val_mse: 731.3616\n",
            "Epoch 40/100\n",
            "4/4 [==============================] - 0s 11ms/step - loss: 2925.6907 - mae: 35.1541 - mse: 2925.6907 - val_loss: 731.8079 - val_mae: 21.0666 - val_mse: 731.8079\n",
            "Epoch 41/100\n",
            "4/4 [==============================] - 0s 14ms/step - loss: 2920.1294 - mae: 35.0873 - mse: 2920.1294 - val_loss: 732.1795 - val_mae: 21.0644 - val_mse: 732.1795\n",
            "Epoch 42/100\n",
            "4/4 [==============================] - 0s 11ms/step - loss: 2916.5417 - mae: 35.0527 - mse: 2916.5417 - val_loss: 732.7456 - val_mae: 21.0651 - val_mse: 732.7456\n",
            "Epoch 43/100\n",
            "4/4 [==============================] - 0s 10ms/step - loss: 2917.4695 - mae: 34.9741 - mse: 2917.4695 - val_loss: 733.5818 - val_mae: 21.0672 - val_mse: 733.5818\n",
            "Epoch 44/100\n",
            "4/4 [==============================] - 0s 11ms/step - loss: 2907.2188 - mae: 34.8939 - mse: 2907.2188 - val_loss: 733.6403 - val_mae: 21.0662 - val_mse: 733.6403\n",
            "Epoch 45/100\n",
            "4/4 [==============================] - 0s 10ms/step - loss: 2905.6948 - mae: 34.9335 - mse: 2905.6948 - val_loss: 732.2276 - val_mae: 21.0629 - val_mse: 732.2276\n",
            "Epoch 46/100\n",
            "4/4 [==============================] - 0s 11ms/step - loss: 2895.4375 - mae: 34.9215 - mse: 2895.4375 - val_loss: 731.9783 - val_mae: 21.0639 - val_mse: 731.9783\n",
            "Epoch 47/100\n",
            "4/4 [==============================] - 0s 17ms/step - loss: 2888.7432 - mae: 34.8973 - mse: 2888.7432 - val_loss: 732.0779 - val_mae: 21.0636 - val_mse: 732.0779\n",
            "Epoch 48/100\n",
            "4/4 [==============================] - 0s 19ms/step - loss: 2885.3618 - mae: 34.8757 - mse: 2885.3618 - val_loss: 732.0211 - val_mae: 21.0653 - val_mse: 732.0211\n",
            "Epoch 49/100\n",
            "4/4 [==============================] - 0s 12ms/step - loss: 2881.4553 - mae: 34.8374 - mse: 2881.4553 - val_loss: 732.3922 - val_mae: 21.0655 - val_mse: 732.3922\n",
            "Epoch 50/100\n",
            "4/4 [==============================] - 0s 11ms/step - loss: 2871.8113 - mae: 34.7701 - mse: 2871.8113 - val_loss: 732.8174 - val_mae: 21.0643 - val_mse: 732.8174\n",
            "Epoch 51/100\n",
            "4/4 [==============================] - 0s 12ms/step - loss: 2867.8936 - mae: 34.7256 - mse: 2867.8936 - val_loss: 733.8384 - val_mae: 21.0646 - val_mse: 733.8384\n",
            "Epoch 52/100\n",
            "4/4 [==============================] - 0s 12ms/step - loss: 2860.3447 - mae: 34.6295 - mse: 2860.3447 - val_loss: 733.7231 - val_mae: 21.0625 - val_mse: 733.7231\n",
            "Epoch 53/100\n",
            "4/4 [==============================] - 0s 11ms/step - loss: 2857.1091 - mae: 34.6119 - mse: 2857.1091 - val_loss: 733.6442 - val_mae: 21.0617 - val_mse: 733.6442\n",
            "Epoch 54/100\n",
            "4/4 [==============================] - 0s 11ms/step - loss: 2849.7930 - mae: 34.5878 - mse: 2849.7930 - val_loss: 733.0401 - val_mae: 21.0600 - val_mse: 733.0401\n",
            "Epoch 55/100\n",
            "4/4 [==============================] - 0s 11ms/step - loss: 2850.4663 - mae: 34.5705 - mse: 2850.4663 - val_loss: 733.9252 - val_mae: 21.0622 - val_mse: 733.9252\n",
            "Epoch 56/100\n",
            "4/4 [==============================] - 0s 12ms/step - loss: 2838.9795 - mae: 34.5318 - mse: 2838.9795 - val_loss: 732.8035 - val_mae: 21.0597 - val_mse: 732.8035\n",
            "Epoch 57/100\n",
            "4/4 [==============================] - 0s 12ms/step - loss: 2834.1528 - mae: 34.5346 - mse: 2834.1528 - val_loss: 733.1681 - val_mae: 21.0582 - val_mse: 733.1681\n",
            "Epoch 58/100\n",
            "4/4 [==============================] - 0s 11ms/step - loss: 2829.4475 - mae: 34.4579 - mse: 2829.4475 - val_loss: 733.1881 - val_mae: 21.0565 - val_mse: 733.1881\n",
            "Epoch 59/100\n",
            "4/4 [==============================] - 0s 11ms/step - loss: 2826.2922 - mae: 34.4594 - mse: 2826.2922 - val_loss: 732.5560 - val_mae: 21.0575 - val_mse: 732.5560\n",
            "Epoch 60/100\n",
            "4/4 [==============================] - 0s 11ms/step - loss: 2818.9622 - mae: 34.4263 - mse: 2818.9622 - val_loss: 732.3906 - val_mae: 21.0574 - val_mse: 732.3906\n",
            "Epoch 61/100\n",
            "4/4 [==============================] - 0s 11ms/step - loss: 2823.8418 - mae: 34.4327 - mse: 2823.8418 - val_loss: 734.2145 - val_mae: 21.0581 - val_mse: 734.2145\n",
            "Epoch 62/100\n",
            "4/4 [==============================] - 0s 11ms/step - loss: 2809.5417 - mae: 34.2965 - mse: 2809.5417 - val_loss: 733.5011 - val_mae: 21.0542 - val_mse: 733.5011\n",
            "Epoch 63/100\n",
            "4/4 [==============================] - 0s 11ms/step - loss: 2803.4929 - mae: 34.2788 - mse: 2803.4929 - val_loss: 733.4480 - val_mae: 21.0544 - val_mse: 733.4480\n",
            "Epoch 64/100\n",
            "4/4 [==============================] - 0s 14ms/step - loss: 2798.6130 - mae: 34.2588 - mse: 2798.6130 - val_loss: 733.5811 - val_mae: 21.0548 - val_mse: 733.5811\n",
            "Epoch 65/100\n",
            "4/4 [==============================] - 0s 12ms/step - loss: 2798.1531 - mae: 34.2313 - mse: 2798.1531 - val_loss: 734.6177 - val_mae: 21.0573 - val_mse: 734.6177\n",
            "Epoch 66/100\n",
            "4/4 [==============================] - 0s 11ms/step - loss: 2789.9331 - mae: 34.1981 - mse: 2789.9331 - val_loss: 733.8085 - val_mae: 21.0556 - val_mse: 733.8085\n",
            "Epoch 67/100\n",
            "4/4 [==============================] - 0s 12ms/step - loss: 2795.2156 - mae: 34.2656 - mse: 2795.2156 - val_loss: 732.7171 - val_mae: 21.0600 - val_mse: 732.7171\n",
            "Epoch 68/100\n",
            "4/4 [==============================] - 0s 13ms/step - loss: 2779.3000 - mae: 34.2342 - mse: 2779.3000 - val_loss: 733.1406 - val_mae: 21.0587 - val_mse: 733.1406\n",
            "Epoch 69/100\n",
            "4/4 [==============================] - 0s 11ms/step - loss: 2775.2512 - mae: 34.1640 - mse: 2775.2512 - val_loss: 734.4341 - val_mae: 21.0559 - val_mse: 734.4341\n",
            "Epoch 70/100\n",
            "4/4 [==============================] - 0s 11ms/step - loss: 2770.6514 - mae: 34.0706 - mse: 2770.6514 - val_loss: 735.3875 - val_mae: 21.0596 - val_mse: 735.3875\n",
            "Epoch 71/100\n",
            "4/4 [==============================] - 0s 10ms/step - loss: 2771.9397 - mae: 34.0384 - mse: 2771.9397 - val_loss: 735.8377 - val_mae: 21.0607 - val_mse: 735.8377\n",
            "Epoch 72/100\n",
            "4/4 [==============================] - 0s 11ms/step - loss: 2761.2227 - mae: 33.9815 - mse: 2761.2227 - val_loss: 735.7112 - val_mae: 21.0607 - val_mse: 735.7112\n",
            "Epoch 73/100\n",
            "4/4 [==============================] - 0s 11ms/step - loss: 2757.1992 - mae: 33.9743 - mse: 2757.1992 - val_loss: 735.6481 - val_mae: 21.0610 - val_mse: 735.6481\n",
            "Epoch 74/100\n",
            "4/4 [==============================] - 0s 11ms/step - loss: 2753.5137 - mae: 33.9485 - mse: 2753.5137 - val_loss: 735.6674 - val_mae: 21.0627 - val_mse: 735.6674\n",
            "Epoch 75/100\n",
            "4/4 [==============================] - 0s 12ms/step - loss: 2750.5205 - mae: 33.9631 - mse: 2750.5205 - val_loss: 734.9975 - val_mae: 21.0672 - val_mse: 734.9975\n",
            "Epoch 76/100\n",
            "4/4 [==============================] - 0s 11ms/step - loss: 2750.1130 - mae: 34.0248 - mse: 2750.1130 - val_loss: 736.5762 - val_mae: 21.0659 - val_mse: 736.5762\n",
            "Epoch 77/100\n",
            "4/4 [==============================] - 0s 17ms/step - loss: 2740.3518 - mae: 33.8795 - mse: 2740.3518 - val_loss: 735.9932 - val_mae: 21.0674 - val_mse: 735.9932\n",
            "Epoch 78/100\n",
            "4/4 [==============================] - 0s 12ms/step - loss: 2750.2664 - mae: 34.0290 - mse: 2750.2664 - val_loss: 734.6178 - val_mae: 21.0735 - val_mse: 734.6178\n",
            "Epoch 79/100\n",
            "4/4 [==============================] - 0s 11ms/step - loss: 2733.2466 - mae: 33.9076 - mse: 2733.2466 - val_loss: 735.7586 - val_mae: 21.0714 - val_mse: 735.7586\n",
            "Epoch 80/100\n",
            "4/4 [==============================] - 0s 11ms/step - loss: 2729.8992 - mae: 33.8746 - mse: 2729.8992 - val_loss: 736.2339 - val_mae: 21.0711 - val_mse: 736.2339\n",
            "Epoch 81/100\n",
            "4/4 [==============================] - 0s 10ms/step - loss: 2726.3982 - mae: 33.7817 - mse: 2726.3982 - val_loss: 737.9802 - val_mae: 21.0725 - val_mse: 737.9802\n",
            "Epoch 82/100\n",
            "4/4 [==============================] - 0s 10ms/step - loss: 2721.1777 - mae: 33.6717 - mse: 2721.1777 - val_loss: 738.6396 - val_mae: 21.0760 - val_mse: 738.6396\n",
            "Epoch 83/100\n",
            "4/4 [==============================] - 0s 10ms/step - loss: 2719.7437 - mae: 33.6349 - mse: 2719.7437 - val_loss: 738.8804 - val_mae: 21.0763 - val_mse: 738.8804\n",
            "Epoch 84/100\n",
            "4/4 [==============================] - 0s 11ms/step - loss: 2720.6028 - mae: 33.7127 - mse: 2720.6028 - val_loss: 736.5432 - val_mae: 21.0734 - val_mse: 736.5432\n",
            "Epoch 85/100\n",
            "4/4 [==============================] - 0s 17ms/step - loss: 2709.8491 - mae: 33.7083 - mse: 2709.8491 - val_loss: 736.3450 - val_mae: 21.0754 - val_mse: 736.3450\n",
            "Epoch 86/100\n",
            "4/4 [==============================] - 0s 11ms/step - loss: 2711.5610 - mae: 33.7249 - mse: 2711.5610 - val_loss: 737.6617 - val_mae: 21.0716 - val_mse: 737.6617\n",
            "Epoch 87/100\n",
            "4/4 [==============================] - 0s 14ms/step - loss: 2702.2419 - mae: 33.6172 - mse: 2702.2419 - val_loss: 738.5768 - val_mae: 21.0715 - val_mse: 738.5768\n",
            "Epoch 88/100\n",
            "4/4 [==============================] - 0s 11ms/step - loss: 2695.4402 - mae: 33.5473 - mse: 2695.4402 - val_loss: 738.9050 - val_mae: 21.0740 - val_mse: 738.9050\n",
            "Epoch 89/100\n",
            "4/4 [==============================] - 0s 11ms/step - loss: 2702.1140 - mae: 33.5839 - mse: 2702.1140 - val_loss: 737.0740 - val_mae: 21.0786 - val_mse: 737.0740\n",
            "Epoch 90/100\n",
            "4/4 [==============================] - 0s 11ms/step - loss: 2687.7742 - mae: 33.5525 - mse: 2687.7742 - val_loss: 738.1969 - val_mae: 21.0774 - val_mse: 738.1969\n",
            "Epoch 91/100\n",
            "4/4 [==============================] - 0s 11ms/step - loss: 2685.6992 - mae: 33.5048 - mse: 2685.6992 - val_loss: 738.1870 - val_mae: 21.0808 - val_mse: 738.1870\n",
            "Epoch 92/100\n",
            "4/4 [==============================] - 0s 12ms/step - loss: 2678.7183 - mae: 33.4448 - mse: 2678.7183 - val_loss: 739.6451 - val_mae: 21.0791 - val_mse: 739.6451\n",
            "Epoch 93/100\n",
            "4/4 [==============================] - 0s 12ms/step - loss: 2676.2144 - mae: 33.3863 - mse: 2676.2144 - val_loss: 741.0804 - val_mae: 21.0823 - val_mse: 741.0804\n",
            "Epoch 94/100\n",
            "4/4 [==============================] - 0s 11ms/step - loss: 2684.8721 - mae: 33.4556 - mse: 2684.8721 - val_loss: 739.1539 - val_mae: 21.0826 - val_mse: 739.1539\n",
            "Epoch 95/100\n",
            "4/4 [==============================] - 0s 11ms/step - loss: 2670.2236 - mae: 33.3951 - mse: 2670.2236 - val_loss: 739.4921 - val_mae: 21.0836 - val_mse: 739.4921\n",
            "Epoch 96/100\n",
            "4/4 [==============================] - 0s 11ms/step - loss: 2662.7646 - mae: 33.3317 - mse: 2662.7646 - val_loss: 740.7046 - val_mae: 21.0815 - val_mse: 740.7046\n",
            "Epoch 97/100\n",
            "4/4 [==============================] - 0s 11ms/step - loss: 2658.9822 - mae: 33.2545 - mse: 2658.9822 - val_loss: 742.4994 - val_mae: 21.0853 - val_mse: 742.4994\n",
            "Epoch 98/100\n",
            "4/4 [==============================] - 0s 11ms/step - loss: 2658.1150 - mae: 33.1762 - mse: 2658.1150 - val_loss: 743.4905 - val_mae: 21.0903 - val_mse: 743.4905\n",
            "Epoch 99/100\n",
            "4/4 [==============================] - 0s 11ms/step - loss: 2651.9858 - mae: 33.1436 - mse: 2651.9858 - val_loss: 741.9310 - val_mae: 21.0822 - val_mse: 741.9310\n",
            "Epoch 100/100\n",
            "4/4 [==============================] - 0s 12ms/step - loss: 2648.3274 - mae: 33.1911 - mse: 2648.3274 - val_loss: 741.6154 - val_mae: 21.0852 - val_mse: 741.6154\n"
          ]
        }
      ]
    },
    {
      "cell_type": "markdown",
      "source": [
        "LSTM"
      ],
      "metadata": {
        "id": "M-I1WeJ7gOl3"
      }
    },
    {
      "cell_type": "code",
      "source": [
        "i=Input(shape=(T,1))\n",
        "x=LSTM(200,return_sequences=True)(i)\n",
        "x=LSTM(200,return_sequences=True)(x)\n",
        "x=GlobalMaxPooling1D()(x)\n",
        "x=Dense(100)(x)\n",
        "x=Dense(50)(x)\n",
        "x=Dense(1)(x)\n",
        "model_lstm=Model(i,x)\n",
        "model_lstm.summary()"
      ],
      "metadata": {
        "colab": {
          "base_uri": "https://localhost:8080/"
        },
        "id": "zsJnKRlwhvmv",
        "outputId": "d26ccf24-1436-4b39-ba5a-78b4321b7fc8"
      },
      "execution_count": 260,
      "outputs": [
        {
          "output_type": "stream",
          "name": "stdout",
          "text": [
            "Model: \"model_18\"\n",
            "_________________________________________________________________\n",
            " Layer (type)                Output Shape              Param #   \n",
            "=================================================================\n",
            " input_19 (InputLayer)       [(None, 50, 1)]           0         \n",
            "                                                                 \n",
            " lstm_8 (LSTM)               (None, 50, 200)           161600    \n",
            "                                                                 \n",
            " lstm_9 (LSTM)               (None, 50, 200)           320800    \n",
            "                                                                 \n",
            " global_max_pooling1d_13 (Gl  (None, 200)              0         \n",
            " obalMaxPooling1D)                                               \n",
            "                                                                 \n",
            " dense_49 (Dense)            (None, 100)               20100     \n",
            "                                                                 \n",
            " dense_50 (Dense)            (None, 50)                5050      \n",
            "                                                                 \n",
            " dense_51 (Dense)            (None, 1)                 51        \n",
            "                                                                 \n",
            "=================================================================\n",
            "Total params: 507,601\n",
            "Trainable params: 507,601\n",
            "Non-trainable params: 0\n",
            "_________________________________________________________________\n"
          ]
        }
      ]
    },
    {
      "cell_type": "code",
      "source": [
        "check_point_lstm=ModelCheckpoint('best_model.h5',monitor='val_loss',save_best_only=True)"
      ],
      "metadata": {
        "id": "uN9QDfEohvs-"
      },
      "execution_count": 261,
      "outputs": []
    },
    {
      "cell_type": "code",
      "source": [
        "model_lstm.compile(loss='mse',\n",
        "              optimizer='adamax',\n",
        "              metrics=['mae','mse'])"
      ],
      "metadata": {
        "id": "MwYBTZ7Uhv4I"
      },
      "execution_count": 262,
      "outputs": []
    },
    {
      "cell_type": "code",
      "source": [
        "r=model_lstm.fit(\n",
        "    Xtrain,\n",
        "    Ytrain,\n",
        "    epochs=100,\n",
        "    validation_data=(Xtest,Ytest),\n",
        "    callbacks=[check_point_lstm]\n",
        ")"
      ],
      "metadata": {
        "colab": {
          "base_uri": "https://localhost:8080/"
        },
        "id": "hucIsLiBiOQ3",
        "outputId": "f255f708-5b59-4b8c-bb31-e142926d18ce"
      },
      "execution_count": 263,
      "outputs": [
        {
          "output_type": "stream",
          "name": "stdout",
          "text": [
            "Epoch 1/100\n",
            "4/4 [==============================] - 4s 422ms/step - loss: 3217.3467 - mae: 36.7564 - mse: 3217.3467 - val_loss: 750.5675 - val_mae: 21.2200 - val_mse: 750.5675\n",
            "Epoch 2/100\n",
            "4/4 [==============================] - 1s 198ms/step - loss: 3210.1460 - mae: 36.7317 - mse: 3210.1460 - val_loss: 746.7008 - val_mae: 21.1908 - val_mse: 746.7008\n",
            "Epoch 3/100\n",
            "4/4 [==============================] - 1s 189ms/step - loss: 3206.6313 - mae: 36.7193 - mse: 3206.6313 - val_loss: 747.9383 - val_mae: 21.1976 - val_mse: 747.9383\n",
            "Epoch 4/100\n",
            "4/4 [==============================] - 1s 184ms/step - loss: 3206.0034 - mae: 36.7489 - mse: 3206.0034 - val_loss: 746.7232 - val_mae: 21.1913 - val_mse: 746.7232\n",
            "Epoch 5/100\n",
            "4/4 [==============================] - 1s 195ms/step - loss: 3203.6509 - mae: 36.7260 - mse: 3203.6509 - val_loss: 747.1231 - val_mae: 21.1928 - val_mse: 747.1231\n",
            "Epoch 6/100\n",
            "4/4 [==============================] - 1s 194ms/step - loss: 3200.5632 - mae: 36.6996 - mse: 3200.5632 - val_loss: 747.2455 - val_mae: 21.1914 - val_mse: 747.2455\n",
            "Epoch 7/100\n",
            "4/4 [==============================] - 1s 186ms/step - loss: 3197.3911 - mae: 36.6746 - mse: 3197.3911 - val_loss: 748.8782 - val_mae: 21.2008 - val_mse: 748.8782\n",
            "Epoch 8/100\n",
            "4/4 [==============================] - 1s 191ms/step - loss: 3197.4175 - mae: 36.6929 - mse: 3197.4175 - val_loss: 747.2998 - val_mae: 21.1930 - val_mse: 747.2998\n",
            "Epoch 9/100\n",
            "4/4 [==============================] - 1s 189ms/step - loss: 3191.5920 - mae: 36.7076 - mse: 3191.5920 - val_loss: 748.4891 - val_mae: 21.2022 - val_mse: 748.4891\n",
            "Epoch 10/100\n",
            "4/4 [==============================] - 1s 189ms/step - loss: 3193.2351 - mae: 36.6164 - mse: 3193.2351 - val_loss: 752.9590 - val_mae: 21.2229 - val_mse: 752.9590\n",
            "Epoch 11/100\n",
            "4/4 [==============================] - 1s 191ms/step - loss: 3188.3792 - mae: 36.5628 - mse: 3188.3792 - val_loss: 750.6287 - val_mae: 21.2078 - val_mse: 750.6287\n",
            "Epoch 12/100\n",
            "4/4 [==============================] - 1s 191ms/step - loss: 3185.4529 - mae: 36.6404 - mse: 3185.4529 - val_loss: 749.1000 - val_mae: 21.2133 - val_mse: 749.1000\n",
            "Epoch 13/100\n",
            "4/4 [==============================] - 1s 196ms/step - loss: 3175.7234 - mae: 36.5461 - mse: 3175.7234 - val_loss: 752.9215 - val_mae: 21.2153 - val_mse: 752.9215\n",
            "Epoch 14/100\n",
            "4/4 [==============================] - 1s 183ms/step - loss: 3171.9058 - mae: 36.5060 - mse: 3171.9058 - val_loss: 753.4422 - val_mae: 21.2349 - val_mse: 753.4422\n",
            "Epoch 15/100\n",
            "4/4 [==============================] - 1s 188ms/step - loss: 3162.4846 - mae: 36.3878 - mse: 3162.4846 - val_loss: 758.1785 - val_mae: 21.2520 - val_mse: 758.1785\n",
            "Epoch 16/100\n",
            "4/4 [==============================] - 1s 195ms/step - loss: 3154.5288 - mae: 36.2420 - mse: 3154.5288 - val_loss: 759.9775 - val_mae: 21.2774 - val_mse: 759.9775\n",
            "Epoch 17/100\n",
            "4/4 [==============================] - 1s 191ms/step - loss: 3143.0710 - mae: 36.1492 - mse: 3143.0708 - val_loss: 763.3491 - val_mae: 21.3011 - val_mse: 763.3491\n",
            "Epoch 18/100\n",
            "4/4 [==============================] - 1s 187ms/step - loss: 3136.5544 - mae: 36.0559 - mse: 3136.5544 - val_loss: 766.4568 - val_mae: 21.3406 - val_mse: 766.4568\n",
            "Epoch 19/100\n",
            "4/4 [==============================] - 1s 194ms/step - loss: 3124.3035 - mae: 36.0009 - mse: 3124.3035 - val_loss: 771.1104 - val_mae: 21.4136 - val_mse: 771.1104\n",
            "Epoch 20/100\n",
            "4/4 [==============================] - 1s 191ms/step - loss: 3117.2000 - mae: 35.9581 - mse: 3117.2000 - val_loss: 778.6374 - val_mae: 21.4318 - val_mse: 778.6374\n",
            "Epoch 21/100\n",
            "4/4 [==============================] - 1s 192ms/step - loss: 3094.1851 - mae: 35.6412 - mse: 3094.1851 - val_loss: 779.7540 - val_mae: 21.5345 - val_mse: 779.7540\n",
            "Epoch 22/100\n",
            "4/4 [==============================] - 1s 190ms/step - loss: 3083.1775 - mae: 35.8146 - mse: 3083.1775 - val_loss: 784.8134 - val_mae: 21.6209 - val_mse: 784.8134\n",
            "Epoch 23/100\n",
            "4/4 [==============================] - 1s 186ms/step - loss: 3063.0371 - mae: 35.5140 - mse: 3063.0371 - val_loss: 788.9741 - val_mae: 21.6072 - val_mse: 788.9741\n",
            "Epoch 24/100\n",
            "4/4 [==============================] - 1s 184ms/step - loss: 3075.2175 - mae: 35.0998 - mse: 3075.2175 - val_loss: 799.3808 - val_mae: 21.5908 - val_mse: 799.3808\n",
            "Epoch 25/100\n",
            "4/4 [==============================] - 1s 192ms/step - loss: 3052.2903 - mae: 35.0685 - mse: 3052.2903 - val_loss: 800.1938 - val_mae: 21.7886 - val_mse: 800.1938\n",
            "Epoch 26/100\n",
            "4/4 [==============================] - 1s 191ms/step - loss: 3020.2715 - mae: 35.2659 - mse: 3020.2715 - val_loss: 805.0714 - val_mae: 21.8252 - val_mse: 805.0714\n",
            "Epoch 27/100\n",
            "4/4 [==============================] - 1s 187ms/step - loss: 3009.0801 - mae: 35.0162 - mse: 3009.0801 - val_loss: 815.4207 - val_mae: 21.8240 - val_mse: 815.4207\n",
            "Epoch 28/100\n",
            "4/4 [==============================] - 1s 190ms/step - loss: 3022.8762 - mae: 34.7797 - mse: 3022.8762 - val_loss: 843.5281 - val_mae: 22.0929 - val_mse: 843.5281\n",
            "Epoch 29/100\n",
            "4/4 [==============================] - 1s 187ms/step - loss: 3004.8569 - mae: 34.6939 - mse: 3004.8569 - val_loss: 838.4752 - val_mae: 22.2634 - val_mse: 838.4752\n",
            "Epoch 30/100\n",
            "4/4 [==============================] - 1s 191ms/step - loss: 2967.0059 - mae: 34.7812 - mse: 2967.0059 - val_loss: 840.1800 - val_mae: 22.4066 - val_mse: 840.1800\n",
            "Epoch 31/100\n",
            "4/4 [==============================] - 1s 197ms/step - loss: 2924.2080 - mae: 34.4581 - mse: 2924.2080 - val_loss: 834.6077 - val_mae: 22.0617 - val_mse: 834.6077\n",
            "Epoch 32/100\n",
            "4/4 [==============================] - 1s 193ms/step - loss: 2934.6082 - mae: 34.0164 - mse: 2934.6082 - val_loss: 846.7733 - val_mae: 22.0517 - val_mse: 846.7733\n",
            "Epoch 33/100\n",
            "4/4 [==============================] - 1s 191ms/step - loss: 2903.2554 - mae: 33.7806 - mse: 2903.2554 - val_loss: 858.6746 - val_mae: 22.3676 - val_mse: 858.6746\n",
            "Epoch 34/100\n",
            "4/4 [==============================] - 1s 196ms/step - loss: 2903.9106 - mae: 34.3877 - mse: 2903.9106 - val_loss: 884.9615 - val_mae: 22.9870 - val_mse: 884.9615\n",
            "Epoch 35/100\n",
            "4/4 [==============================] - 1s 194ms/step - loss: 2867.3293 - mae: 34.2412 - mse: 2867.3293 - val_loss: 888.6498 - val_mae: 22.9112 - val_mse: 888.6498\n",
            "Epoch 36/100\n",
            "4/4 [==============================] - 1s 193ms/step - loss: 2933.7471 - mae: 33.7409 - mse: 2933.7471 - val_loss: 921.7526 - val_mae: 23.0886 - val_mse: 921.7526\n",
            "Epoch 37/100\n",
            "4/4 [==============================] - 1s 196ms/step - loss: 2835.0894 - mae: 32.9704 - mse: 2835.0894 - val_loss: 905.0218 - val_mae: 23.1440 - val_mse: 905.0218\n",
            "Epoch 38/100\n",
            "4/4 [==============================] - 1s 190ms/step - loss: 2813.7871 - mae: 33.4447 - mse: 2813.7871 - val_loss: 928.9769 - val_mae: 23.7847 - val_mse: 928.9769\n",
            "Epoch 39/100\n",
            "4/4 [==============================] - 1s 184ms/step - loss: 2793.5281 - mae: 33.4276 - mse: 2793.5281 - val_loss: 938.6760 - val_mae: 23.7886 - val_mse: 938.6760\n",
            "Epoch 40/100\n",
            "4/4 [==============================] - 1s 193ms/step - loss: 2775.3506 - mae: 33.1482 - mse: 2775.3506 - val_loss: 918.2281 - val_mae: 23.2924 - val_mse: 918.2281\n",
            "Epoch 41/100\n",
            "4/4 [==============================] - 1s 188ms/step - loss: 2758.1716 - mae: 32.7462 - mse: 2758.1716 - val_loss: 924.6369 - val_mae: 23.3829 - val_mse: 924.6369\n",
            "Epoch 42/100\n",
            "4/4 [==============================] - 1s 191ms/step - loss: 2726.2131 - mae: 32.4882 - mse: 2726.2131 - val_loss: 945.4863 - val_mae: 23.7261 - val_mse: 945.4863\n",
            "Epoch 43/100\n",
            "4/4 [==============================] - 1s 195ms/step - loss: 2703.6370 - mae: 32.1673 - mse: 2703.6370 - val_loss: 960.9821 - val_mae: 23.9652 - val_mse: 960.9821\n",
            "Epoch 44/100\n",
            "4/4 [==============================] - 1s 189ms/step - loss: 2670.0381 - mae: 31.9441 - mse: 2670.0381 - val_loss: 966.4257 - val_mae: 24.1104 - val_mse: 966.4257\n",
            "Epoch 45/100\n",
            "4/4 [==============================] - 1s 190ms/step - loss: 2686.4287 - mae: 32.3338 - mse: 2686.4287 - val_loss: 1005.4802 - val_mae: 24.7275 - val_mse: 1005.4802\n",
            "Epoch 46/100\n",
            "4/4 [==============================] - 1s 187ms/step - loss: 2679.0999 - mae: 31.9715 - mse: 2679.0999 - val_loss: 1054.7412 - val_mae: 25.3110 - val_mse: 1054.7412\n",
            "Epoch 47/100\n",
            "4/4 [==============================] - 1s 196ms/step - loss: 2698.6406 - mae: 31.9426 - mse: 2698.6406 - val_loss: 1048.4521 - val_mae: 25.3123 - val_mse: 1048.4521\n",
            "Epoch 48/100\n",
            "4/4 [==============================] - 1s 183ms/step - loss: 2661.0842 - mae: 31.9674 - mse: 2661.0842 - val_loss: 992.5498 - val_mae: 24.6687 - val_mse: 992.5498\n",
            "Epoch 49/100\n",
            "4/4 [==============================] - 1s 188ms/step - loss: 2682.9929 - mae: 31.7313 - mse: 2682.9929 - val_loss: 970.6266 - val_mae: 24.3717 - val_mse: 970.6266\n",
            "Epoch 50/100\n",
            "4/4 [==============================] - 1s 191ms/step - loss: 2599.9050 - mae: 31.0347 - mse: 2599.9050 - val_loss: 1019.3884 - val_mae: 25.1183 - val_mse: 1019.3884\n",
            "Epoch 51/100\n",
            "4/4 [==============================] - 1s 193ms/step - loss: 2593.8511 - mae: 31.0197 - mse: 2593.8511 - val_loss: 1068.8717 - val_mae: 25.8384 - val_mse: 1068.8717\n",
            "Epoch 52/100\n",
            "4/4 [==============================] - 1s 185ms/step - loss: 2590.1531 - mae: 30.9552 - mse: 2590.1531 - val_loss: 1071.7518 - val_mae: 25.8729 - val_mse: 1071.7518\n",
            "Epoch 53/100\n",
            "4/4 [==============================] - 1s 192ms/step - loss: 2599.9326 - mae: 31.4922 - mse: 2599.9326 - val_loss: 1120.7380 - val_mae: 26.5319 - val_mse: 1120.7380\n",
            "Epoch 54/100\n",
            "4/4 [==============================] - 1s 188ms/step - loss: 2624.9910 - mae: 31.5604 - mse: 2624.9910 - val_loss: 1066.2491 - val_mae: 25.8459 - val_mse: 1066.2491\n",
            "Epoch 55/100\n",
            "4/4 [==============================] - 1s 186ms/step - loss: 2719.3816 - mae: 31.5174 - mse: 2719.3816 - val_loss: 1049.4185 - val_mae: 25.4940 - val_mse: 1049.4185\n",
            "Epoch 56/100\n",
            "4/4 [==============================] - 1s 188ms/step - loss: 2573.9907 - mae: 31.0119 - mse: 2573.9907 - val_loss: 1034.2649 - val_mae: 25.3526 - val_mse: 1034.2649\n",
            "Epoch 57/100\n",
            "4/4 [==============================] - 1s 186ms/step - loss: 2572.6836 - mae: 31.3749 - mse: 2572.6836 - val_loss: 1063.8334 - val_mae: 25.6892 - val_mse: 1063.8334\n",
            "Epoch 58/100\n",
            "4/4 [==============================] - 1s 189ms/step - loss: 2560.2817 - mae: 31.0550 - mse: 2560.2817 - val_loss: 1071.4667 - val_mae: 25.8903 - val_mse: 1071.4667\n",
            "Epoch 59/100\n",
            "4/4 [==============================] - 1s 188ms/step - loss: 2510.7471 - mae: 30.4813 - mse: 2510.7471 - val_loss: 1073.0728 - val_mae: 26.0277 - val_mse: 1073.0728\n",
            "Epoch 60/100\n",
            "4/4 [==============================] - 1s 187ms/step - loss: 2534.7634 - mae: 30.2998 - mse: 2534.7634 - val_loss: 1074.9326 - val_mae: 26.1066 - val_mse: 1074.9326\n",
            "Epoch 61/100\n",
            "4/4 [==============================] - 1s 186ms/step - loss: 2522.4797 - mae: 30.3406 - mse: 2522.4797 - val_loss: 1095.5730 - val_mae: 26.4602 - val_mse: 1095.5730\n",
            "Epoch 62/100\n",
            "4/4 [==============================] - 1s 189ms/step - loss: 2505.2144 - mae: 30.5795 - mse: 2505.2144 - val_loss: 1144.5925 - val_mae: 27.1063 - val_mse: 1144.5925\n",
            "Epoch 63/100\n",
            "4/4 [==============================] - 1s 190ms/step - loss: 2505.0386 - mae: 30.2964 - mse: 2505.0386 - val_loss: 1157.1489 - val_mae: 27.3864 - val_mse: 1157.1489\n",
            "Epoch 64/100\n",
            "4/4 [==============================] - 1s 188ms/step - loss: 2496.4041 - mae: 30.2312 - mse: 2496.4041 - val_loss: 1197.4540 - val_mae: 27.6761 - val_mse: 1197.4540\n",
            "Epoch 65/100\n",
            "4/4 [==============================] - 1s 193ms/step - loss: 2431.9578 - mae: 30.0728 - mse: 2431.9578 - val_loss: 1204.9940 - val_mae: 27.7287 - val_mse: 1204.9940\n",
            "Epoch 66/100\n",
            "4/4 [==============================] - 1s 190ms/step - loss: 2502.9360 - mae: 30.3379 - mse: 2502.9360 - val_loss: 1176.8447 - val_mae: 27.3784 - val_mse: 1176.8447\n",
            "Epoch 67/100\n",
            "4/4 [==============================] - 1s 195ms/step - loss: 2398.1643 - mae: 29.7325 - mse: 2398.1643 - val_loss: 1121.1191 - val_mae: 26.9316 - val_mse: 1121.1191\n",
            "Epoch 68/100\n",
            "4/4 [==============================] - 1s 189ms/step - loss: 2598.2883 - mae: 29.7619 - mse: 2598.2883 - val_loss: 1191.7670 - val_mae: 28.1457 - val_mse: 1191.7670\n",
            "Epoch 69/100\n",
            "4/4 [==============================] - 1s 187ms/step - loss: 2579.6130 - mae: 31.4937 - mse: 2579.6130 - val_loss: 1253.0728 - val_mae: 28.3071 - val_mse: 1253.0728\n",
            "Epoch 70/100\n",
            "4/4 [==============================] - 1s 195ms/step - loss: 2504.1448 - mae: 30.8362 - mse: 2504.1448 - val_loss: 1178.0598 - val_mae: 27.2427 - val_mse: 1178.0598\n",
            "Epoch 71/100\n",
            "4/4 [==============================] - 1s 196ms/step - loss: 2498.2659 - mae: 30.6322 - mse: 2498.2659 - val_loss: 1221.1047 - val_mae: 28.1790 - val_mse: 1221.1047\n",
            "Epoch 72/100\n",
            "4/4 [==============================] - 1s 190ms/step - loss: 2509.4702 - mae: 30.8024 - mse: 2509.4702 - val_loss: 1097.0372 - val_mae: 26.4427 - val_mse: 1097.0372\n",
            "Epoch 73/100\n",
            "4/4 [==============================] - 1s 188ms/step - loss: 2442.4387 - mae: 30.0008 - mse: 2442.4387 - val_loss: 1163.0164 - val_mae: 27.2938 - val_mse: 1163.0164\n",
            "Epoch 74/100\n",
            "4/4 [==============================] - 1s 200ms/step - loss: 2379.7158 - mae: 29.0724 - mse: 2379.7158 - val_loss: 1176.1371 - val_mae: 27.6379 - val_mse: 1176.1371\n",
            "Epoch 75/100\n",
            "4/4 [==============================] - 1s 195ms/step - loss: 2352.4490 - mae: 29.1016 - mse: 2352.4490 - val_loss: 1250.3391 - val_mae: 28.1712 - val_mse: 1250.3391\n",
            "Epoch 76/100\n",
            "4/4 [==============================] - 1s 183ms/step - loss: 2292.2485 - mae: 28.9465 - mse: 2292.2485 - val_loss: 1255.3429 - val_mae: 28.3767 - val_mse: 1255.3429\n",
            "Epoch 77/100\n",
            "4/4 [==============================] - 1s 187ms/step - loss: 2302.0676 - mae: 29.0078 - mse: 2302.0676 - val_loss: 1300.9993 - val_mae: 28.6338 - val_mse: 1300.9993\n",
            "Epoch 78/100\n",
            "4/4 [==============================] - 1s 188ms/step - loss: 2296.6904 - mae: 29.4939 - mse: 2296.6904 - val_loss: 1227.2814 - val_mae: 28.3905 - val_mse: 1227.2814\n",
            "Epoch 79/100\n",
            "4/4 [==============================] - 1s 189ms/step - loss: 2299.6765 - mae: 28.9655 - mse: 2299.6765 - val_loss: 1119.8757 - val_mae: 26.9490 - val_mse: 1119.8757\n",
            "Epoch 80/100\n",
            "4/4 [==============================] - 1s 190ms/step - loss: 2283.0491 - mae: 29.0884 - mse: 2283.0491 - val_loss: 1143.1411 - val_mae: 27.0474 - val_mse: 1143.1411\n",
            "Epoch 81/100\n",
            "4/4 [==============================] - 1s 194ms/step - loss: 2200.1606 - mae: 28.6523 - mse: 2200.1606 - val_loss: 1243.5931 - val_mae: 28.2612 - val_mse: 1243.5931\n",
            "Epoch 82/100\n",
            "4/4 [==============================] - 1s 195ms/step - loss: 2153.0264 - mae: 28.2596 - mse: 2153.0264 - val_loss: 1217.0352 - val_mae: 27.9374 - val_mse: 1217.0352\n",
            "Epoch 83/100\n",
            "4/4 [==============================] - 1s 192ms/step - loss: 2158.2747 - mae: 28.1047 - mse: 2158.2747 - val_loss: 1203.0695 - val_mae: 27.7514 - val_mse: 1203.0695\n",
            "Epoch 84/100\n",
            "4/4 [==============================] - 1s 188ms/step - loss: 2154.0803 - mae: 28.0583 - mse: 2154.0803 - val_loss: 1265.3888 - val_mae: 28.3504 - val_mse: 1265.3888\n",
            "Epoch 85/100\n",
            "4/4 [==============================] - 1s 202ms/step - loss: 2108.7002 - mae: 27.7957 - mse: 2108.7002 - val_loss: 1313.3330 - val_mae: 29.0838 - val_mse: 1313.3330\n",
            "Epoch 86/100\n",
            "4/4 [==============================] - 1s 195ms/step - loss: 2154.9919 - mae: 27.6851 - mse: 2154.9919 - val_loss: 1317.3613 - val_mae: 29.3363 - val_mse: 1317.3613\n",
            "Epoch 87/100\n",
            "4/4 [==============================] - 1s 191ms/step - loss: 2085.0725 - mae: 27.1235 - mse: 2085.0725 - val_loss: 1394.8751 - val_mae: 30.1482 - val_mse: 1394.8751\n",
            "Epoch 88/100\n",
            "4/4 [==============================] - 1s 186ms/step - loss: 2084.5500 - mae: 27.8110 - mse: 2084.5500 - val_loss: 1432.8114 - val_mae: 30.4835 - val_mse: 1432.8114\n",
            "Epoch 89/100\n",
            "4/4 [==============================] - 1s 193ms/step - loss: 2148.2444 - mae: 28.0635 - mse: 2148.2444 - val_loss: 1413.7236 - val_mae: 30.3110 - val_mse: 1413.7236\n",
            "Epoch 90/100\n",
            "4/4 [==============================] - 1s 192ms/step - loss: 2012.0134 - mae: 26.9077 - mse: 2012.0134 - val_loss: 1068.2969 - val_mae: 26.2684 - val_mse: 1068.2969\n",
            "Epoch 91/100\n",
            "4/4 [==============================] - 1s 188ms/step - loss: 2263.6145 - mae: 28.4569 - mse: 2263.6145 - val_loss: 1341.8979 - val_mae: 29.9247 - val_mse: 1341.8979\n",
            "Epoch 92/100\n",
            "4/4 [==============================] - 1s 188ms/step - loss: 2141.2134 - mae: 27.3552 - mse: 2141.2134 - val_loss: 1390.0404 - val_mae: 29.8770 - val_mse: 1390.0404\n",
            "Epoch 93/100\n",
            "4/4 [==============================] - 1s 190ms/step - loss: 2236.3445 - mae: 28.6347 - mse: 2236.3445 - val_loss: 1119.0436 - val_mae: 26.6920 - val_mse: 1119.0436\n",
            "Epoch 94/100\n",
            "4/4 [==============================] - 1s 194ms/step - loss: 2255.6636 - mae: 28.5377 - mse: 2255.6636 - val_loss: 1187.7446 - val_mae: 27.4438 - val_mse: 1187.7446\n",
            "Epoch 95/100\n",
            "4/4 [==============================] - 1s 185ms/step - loss: 2242.4197 - mae: 27.4894 - mse: 2242.4197 - val_loss: 1180.6288 - val_mae: 27.3944 - val_mse: 1180.6288\n",
            "Epoch 96/100\n",
            "4/4 [==============================] - 1s 188ms/step - loss: 2127.6174 - mae: 27.1539 - mse: 2127.6174 - val_loss: 1410.7996 - val_mae: 30.2249 - val_mse: 1410.7996\n",
            "Epoch 97/100\n",
            "4/4 [==============================] - 1s 187ms/step - loss: 2161.9282 - mae: 28.1844 - mse: 2161.9282 - val_loss: 1496.3798 - val_mae: 31.4531 - val_mse: 1496.3798\n",
            "Epoch 98/100\n",
            "4/4 [==============================] - 1s 198ms/step - loss: 2284.7217 - mae: 27.9500 - mse: 2284.7217 - val_loss: 1416.7753 - val_mae: 30.7621 - val_mse: 1416.7753\n",
            "Epoch 99/100\n",
            "4/4 [==============================] - 1s 195ms/step - loss: 2095.4832 - mae: 27.1655 - mse: 2095.4832 - val_loss: 1488.3010 - val_mae: 31.2245 - val_mse: 1488.3010\n",
            "Epoch 100/100\n",
            "4/4 [==============================] - 1s 194ms/step - loss: 2143.4856 - mae: 28.1518 - mse: 2143.4856 - val_loss: 1470.1165 - val_mae: 30.9582 - val_mse: 1470.1165\n"
          ]
        }
      ]
    },
    {
      "cell_type": "markdown",
      "source": [
        "GRU"
      ],
      "metadata": {
        "id": "kHh0g_qPm_bm"
      }
    },
    {
      "cell_type": "code",
      "source": [
        "i=Input(shape=(T,1))\n",
        "x=GRU(200,return_sequences=True)(i)\n",
        "x=GRU(200,return_sequences=True)(x)\n",
        "x=GlobalMaxPooling1D()(x)\n",
        "x=Dense(100)(x)\n",
        "x=Dense(50)(x)\n",
        "x=Dense(1)(x)\n",
        "model_gru=Model(i,x)\n",
        "model_gru.summary"
      ],
      "metadata": {
        "colab": {
          "base_uri": "https://localhost:8080/"
        },
        "id": "H4llpd_HnCsP",
        "outputId": "164e2f6a-bab1-4002-d0fc-1d5df1ae9ebb"
      },
      "execution_count": 264,
      "outputs": [
        {
          "output_type": "execute_result",
          "data": {
            "text/plain": [
              "<bound method Model.summary of <keras.engine.functional.Functional object at 0x7fe98cab1890>>"
            ]
          },
          "metadata": {},
          "execution_count": 264
        }
      ]
    },
    {
      "cell_type": "code",
      "source": [
        "check_point_gru=ModelCheckpoint('best_model.h5',monitor='val_loss',save_best_only=True)"
      ],
      "metadata": {
        "id": "J4ilpuAHnCxN"
      },
      "execution_count": 265,
      "outputs": []
    },
    {
      "cell_type": "code",
      "source": [
        "model_gru.compile(loss='mse',\n",
        "              optimizer='adamax',\n",
        "              metrics=['mae','mse'])"
      ],
      "metadata": {
        "id": "KE1MOiZknC6g"
      },
      "execution_count": 266,
      "outputs": []
    },
    {
      "cell_type": "code",
      "source": [
        "r=model_gru.fit(\n",
        "    Xtrain,\n",
        "    Ytrain,\n",
        "    epochs=100,\n",
        "    validation_data=(Xtest,Ytest),\n",
        "    callbacks=[check_point_gru]\n",
        ")"
      ],
      "metadata": {
        "colab": {
          "base_uri": "https://localhost:8080/"
        },
        "id": "nfam1HSPnWSf",
        "outputId": "d80c0158-edb8-4a82-b749-143a1e5f15f0"
      },
      "execution_count": 267,
      "outputs": [
        {
          "output_type": "stream",
          "name": "stdout",
          "text": [
            "Epoch 1/100\n",
            "4/4 [==============================] - 5s 374ms/step - loss: 3234.1729 - mae: 36.7003 - mse: 3234.1729 - val_loss: 754.9891 - val_mae: 21.2541 - val_mse: 754.9891\n",
            "Epoch 2/100\n",
            "4/4 [==============================] - 1s 182ms/step - loss: 3214.8813 - mae: 36.8933 - mse: 3214.8816 - val_loss: 740.0187 - val_mae: 21.1385 - val_mse: 740.0187\n",
            "Epoch 3/100\n",
            "4/4 [==============================] - 1s 167ms/step - loss: 3203.5881 - mae: 36.9031 - mse: 3203.5881 - val_loss: 743.9473 - val_mae: 21.1492 - val_mse: 743.9473\n",
            "Epoch 4/100\n",
            "4/4 [==============================] - 1s 168ms/step - loss: 3202.0857 - mae: 36.8457 - mse: 3202.0857 - val_loss: 743.7074 - val_mae: 21.1393 - val_mse: 743.7074\n",
            "Epoch 5/100\n",
            "4/4 [==============================] - 1s 170ms/step - loss: 3197.3064 - mae: 36.7221 - mse: 3197.3064 - val_loss: 746.2303 - val_mae: 21.1519 - val_mse: 746.2303\n",
            "Epoch 6/100\n",
            "4/4 [==============================] - 1s 168ms/step - loss: 3191.5789 - mae: 36.5996 - mse: 3191.5789 - val_loss: 747.4390 - val_mae: 21.1570 - val_mse: 747.4390\n",
            "Epoch 7/100\n",
            "4/4 [==============================] - 1s 168ms/step - loss: 3186.8103 - mae: 36.5175 - mse: 3186.8103 - val_loss: 749.5856 - val_mae: 21.1671 - val_mse: 749.5856\n",
            "Epoch 8/100\n",
            "4/4 [==============================] - 1s 179ms/step - loss: 3187.7292 - mae: 36.5126 - mse: 3187.7292 - val_loss: 746.0767 - val_mae: 21.1217 - val_mse: 746.0767\n",
            "Epoch 9/100\n",
            "4/4 [==============================] - 1s 171ms/step - loss: 3177.1523 - mae: 36.4722 - mse: 3177.1523 - val_loss: 747.4949 - val_mae: 21.1274 - val_mse: 747.4949\n",
            "Epoch 10/100\n",
            "4/4 [==============================] - 1s 185ms/step - loss: 3180.6724 - mae: 36.3159 - mse: 3180.6724 - val_loss: 755.3391 - val_mae: 21.2089 - val_mse: 755.3391\n",
            "Epoch 11/100\n",
            "4/4 [==============================] - 1s 173ms/step - loss: 3174.2092 - mae: 36.2411 - mse: 3174.2092 - val_loss: 750.7635 - val_mae: 21.1484 - val_mse: 750.7635\n",
            "Epoch 12/100\n",
            "4/4 [==============================] - 1s 181ms/step - loss: 3168.7964 - mae: 36.3268 - mse: 3168.7964 - val_loss: 747.3408 - val_mae: 21.0964 - val_mse: 747.3408\n",
            "Epoch 13/100\n",
            "4/4 [==============================] - 1s 176ms/step - loss: 3155.1782 - mae: 36.1912 - mse: 3155.1782 - val_loss: 752.6342 - val_mae: 21.1500 - val_mse: 752.6342\n",
            "Epoch 14/100\n",
            "4/4 [==============================] - 1s 169ms/step - loss: 3149.3806 - mae: 36.1266 - mse: 3149.3806 - val_loss: 751.4000 - val_mae: 21.1160 - val_mse: 751.4000\n",
            "Epoch 15/100\n",
            "4/4 [==============================] - 1s 171ms/step - loss: 3138.1279 - mae: 35.9929 - mse: 3138.1279 - val_loss: 757.0884 - val_mae: 21.1558 - val_mse: 757.0884\n",
            "Epoch 16/100\n",
            "4/4 [==============================] - 1s 172ms/step - loss: 3128.5745 - mae: 35.8135 - mse: 3128.5745 - val_loss: 757.3624 - val_mae: 21.1365 - val_mse: 757.3624\n",
            "Epoch 17/100\n",
            "4/4 [==============================] - 1s 170ms/step - loss: 3115.0244 - mae: 35.6852 - mse: 3115.0244 - val_loss: 761.7559 - val_mae: 21.1584 - val_mse: 761.7559\n",
            "Epoch 18/100\n",
            "4/4 [==============================] - 1s 179ms/step - loss: 3107.9932 - mae: 35.5449 - mse: 3107.9932 - val_loss: 765.5222 - val_mae: 21.1666 - val_mse: 765.5222\n",
            "Epoch 19/100\n",
            "4/4 [==============================] - 1s 174ms/step - loss: 3097.1506 - mae: 35.4707 - mse: 3097.1506 - val_loss: 764.7477 - val_mae: 21.1220 - val_mse: 764.7477\n",
            "Epoch 20/100\n",
            "4/4 [==============================] - 1s 177ms/step - loss: 3085.8206 - mae: 35.4180 - mse: 3085.8206 - val_loss: 771.1533 - val_mae: 21.1813 - val_mse: 771.1533\n",
            "Epoch 21/100\n",
            "4/4 [==============================] - 1s 183ms/step - loss: 3065.0852 - mae: 35.1777 - mse: 3065.0852 - val_loss: 763.6885 - val_mae: 21.1079 - val_mse: 763.6885\n",
            "Epoch 22/100\n",
            "4/4 [==============================] - 1s 176ms/step - loss: 3052.6145 - mae: 35.2596 - mse: 3052.6145 - val_loss: 760.8293 - val_mae: 21.0820 - val_mse: 760.8293\n",
            "Epoch 23/100\n",
            "4/4 [==============================] - 1s 169ms/step - loss: 3035.9890 - mae: 35.0857 - mse: 3035.9890 - val_loss: 768.9257 - val_mae: 21.1325 - val_mse: 768.9257\n",
            "Epoch 24/100\n",
            "4/4 [==============================] - 1s 168ms/step - loss: 3030.5283 - mae: 34.7748 - mse: 3030.5283 - val_loss: 796.1660 - val_mae: 21.3432 - val_mse: 796.1660\n",
            "Epoch 25/100\n",
            "4/4 [==============================] - 1s 170ms/step - loss: 3015.1255 - mae: 34.5034 - mse: 3015.1255 - val_loss: 782.7516 - val_mae: 21.2216 - val_mse: 782.7516\n",
            "Epoch 26/100\n",
            "4/4 [==============================] - 1s 174ms/step - loss: 2994.4705 - mae: 34.5873 - mse: 2994.4705 - val_loss: 783.2090 - val_mae: 21.2555 - val_mse: 783.2090\n",
            "Epoch 27/100\n",
            "4/4 [==============================] - 1s 167ms/step - loss: 2971.7625 - mae: 34.4331 - mse: 2971.7625 - val_loss: 799.4650 - val_mae: 21.3701 - val_mse: 799.4650\n",
            "Epoch 28/100\n",
            "4/4 [==============================] - 1s 170ms/step - loss: 2989.9009 - mae: 34.1377 - mse: 2989.9009 - val_loss: 831.6381 - val_mae: 21.7425 - val_mse: 831.6381\n",
            "Epoch 29/100\n",
            "4/4 [==============================] - 1s 170ms/step - loss: 2970.9436 - mae: 34.1889 - mse: 2970.9436 - val_loss: 791.1432 - val_mae: 21.3862 - val_mse: 791.1432\n",
            "Epoch 30/100\n",
            "4/4 [==============================] - 1s 181ms/step - loss: 2948.7554 - mae: 34.6765 - mse: 2948.7554 - val_loss: 789.8389 - val_mae: 21.4546 - val_mse: 789.8389\n",
            "Epoch 31/100\n",
            "4/4 [==============================] - 1s 174ms/step - loss: 2906.6826 - mae: 34.1558 - mse: 2906.6826 - val_loss: 820.3844 - val_mae: 21.6312 - val_mse: 820.3844\n",
            "Epoch 32/100\n",
            "4/4 [==============================] - 1s 171ms/step - loss: 2909.4343 - mae: 33.5828 - mse: 2909.4343 - val_loss: 863.7803 - val_mae: 22.2144 - val_mse: 863.7803\n",
            "Epoch 33/100\n",
            "4/4 [==============================] - 1s 169ms/step - loss: 2888.5901 - mae: 33.4330 - mse: 2888.5901 - val_loss: 820.6075 - val_mae: 21.6630 - val_mse: 820.6075\n",
            "Epoch 34/100\n",
            "4/4 [==============================] - 1s 176ms/step - loss: 2886.7820 - mae: 34.0591 - mse: 2886.7820 - val_loss: 796.7313 - val_mae: 21.5940 - val_mse: 796.7313\n",
            "Epoch 35/100\n",
            "4/4 [==============================] - 1s 172ms/step - loss: 2849.5518 - mae: 33.8701 - mse: 2849.5518 - val_loss: 816.2867 - val_mae: 21.6469 - val_mse: 816.2867\n",
            "Epoch 36/100\n",
            "4/4 [==============================] - 1s 176ms/step - loss: 2893.8445 - mae: 33.6109 - mse: 2893.8445 - val_loss: 885.6670 - val_mae: 22.5618 - val_mse: 885.6670\n",
            "Epoch 37/100\n",
            "4/4 [==============================] - 1s 170ms/step - loss: 2838.9858 - mae: 32.9158 - mse: 2838.9858 - val_loss: 832.2993 - val_mae: 21.8678 - val_mse: 832.2993\n",
            "Epoch 38/100\n",
            "4/4 [==============================] - 1s 177ms/step - loss: 2807.0823 - mae: 33.3137 - mse: 2807.0823 - val_loss: 820.0927 - val_mae: 21.7716 - val_mse: 820.0927\n",
            "Epoch 39/100\n",
            "4/4 [==============================] - 1s 170ms/step - loss: 2790.1846 - mae: 33.3630 - mse: 2790.1846 - val_loss: 835.9630 - val_mae: 21.9924 - val_mse: 835.9630\n",
            "Epoch 40/100\n",
            "4/4 [==============================] - 1s 167ms/step - loss: 2771.8384 - mae: 32.8971 - mse: 2771.8384 - val_loss: 871.0796 - val_mae: 22.5147 - val_mse: 871.0796\n",
            "Epoch 41/100\n",
            "4/4 [==============================] - 1s 174ms/step - loss: 2761.8403 - mae: 32.5427 - mse: 2761.8403 - val_loss: 857.6841 - val_mae: 22.3499 - val_mse: 857.6841\n",
            "Epoch 42/100\n",
            "4/4 [==============================] - 1s 169ms/step - loss: 2736.3252 - mae: 32.5507 - mse: 2736.3252 - val_loss: 847.6171 - val_mae: 22.2138 - val_mse: 847.6171\n",
            "Epoch 43/100\n",
            "4/4 [==============================] - 1s 174ms/step - loss: 2712.0938 - mae: 32.2092 - mse: 2712.0938 - val_loss: 878.7266 - val_mae: 22.6925 - val_mse: 878.7266\n",
            "Epoch 44/100\n",
            "4/4 [==============================] - 1s 170ms/step - loss: 2689.6833 - mae: 32.0165 - mse: 2689.6833 - val_loss: 890.2142 - val_mae: 22.8640 - val_mse: 890.2142\n",
            "Epoch 45/100\n",
            "4/4 [==============================] - 1s 166ms/step - loss: 2693.7766 - mae: 32.4662 - mse: 2693.7766 - val_loss: 874.8828 - val_mae: 22.5860 - val_mse: 874.8828\n",
            "Epoch 46/100\n",
            "4/4 [==============================] - 1s 175ms/step - loss: 2651.4988 - mae: 32.3029 - mse: 2651.4988 - val_loss: 914.0453 - val_mae: 23.2285 - val_mse: 914.0453\n",
            "Epoch 47/100\n",
            "4/4 [==============================] - 1s 167ms/step - loss: 2641.0366 - mae: 32.0341 - mse: 2641.0366 - val_loss: 933.8378 - val_mae: 23.4695 - val_mse: 933.8378\n",
            "Epoch 48/100\n",
            "4/4 [==============================] - 1s 167ms/step - loss: 2601.0640 - mae: 31.6815 - mse: 2601.0640 - val_loss: 911.2233 - val_mae: 23.1632 - val_mse: 911.2233\n",
            "Epoch 49/100\n",
            "4/4 [==============================] - 1s 168ms/step - loss: 2598.2561 - mae: 31.6310 - mse: 2598.2561 - val_loss: 894.7236 - val_mae: 23.0383 - val_mse: 894.7236\n",
            "Epoch 50/100\n",
            "4/4 [==============================] - 1s 174ms/step - loss: 2551.0664 - mae: 31.4274 - mse: 2551.0664 - val_loss: 923.1016 - val_mae: 23.4251 - val_mse: 923.1016\n",
            "Epoch 51/100\n",
            "4/4 [==============================] - 1s 172ms/step - loss: 2549.5256 - mae: 31.5294 - mse: 2549.5256 - val_loss: 972.8992 - val_mae: 24.1399 - val_mse: 972.8992\n",
            "Epoch 52/100\n",
            "4/4 [==============================] - 1s 171ms/step - loss: 2518.8196 - mae: 31.4504 - mse: 2518.8196 - val_loss: 933.8784 - val_mae: 23.8223 - val_mse: 933.8784\n",
            "Epoch 53/100\n",
            "4/4 [==============================] - 1s 169ms/step - loss: 2504.8901 - mae: 31.1314 - mse: 2504.8901 - val_loss: 953.9169 - val_mae: 23.9847 - val_mse: 953.9169\n",
            "Epoch 54/100\n",
            "4/4 [==============================] - 1s 166ms/step - loss: 2480.7339 - mae: 30.9043 - mse: 2480.7339 - val_loss: 976.1299 - val_mae: 24.3518 - val_mse: 976.1299\n",
            "Epoch 55/100\n",
            "4/4 [==============================] - 1s 173ms/step - loss: 2472.5188 - mae: 30.8909 - mse: 2472.5188 - val_loss: 1005.4641 - val_mae: 24.6980 - val_mse: 1005.4641\n",
            "Epoch 56/100\n",
            "4/4 [==============================] - 1s 173ms/step - loss: 2429.9597 - mae: 30.9531 - mse: 2429.9597 - val_loss: 986.5209 - val_mae: 24.7438 - val_mse: 986.5209\n",
            "Epoch 57/100\n",
            "4/4 [==============================] - 1s 169ms/step - loss: 2409.5024 - mae: 30.8970 - mse: 2409.5024 - val_loss: 1027.7091 - val_mae: 25.0767 - val_mse: 1027.7091\n",
            "Epoch 58/100\n",
            "4/4 [==============================] - 1s 172ms/step - loss: 2395.9817 - mae: 30.5253 - mse: 2395.9817 - val_loss: 988.1508 - val_mae: 24.7139 - val_mse: 988.1508\n",
            "Epoch 59/100\n",
            "4/4 [==============================] - 1s 177ms/step - loss: 2346.4429 - mae: 30.4610 - mse: 2346.4429 - val_loss: 1006.2867 - val_mae: 24.9987 - val_mse: 1006.2867\n",
            "Epoch 60/100\n",
            "4/4 [==============================] - 1s 169ms/step - loss: 2297.4675 - mae: 30.0939 - mse: 2297.4675 - val_loss: 1040.0499 - val_mae: 25.4025 - val_mse: 1040.0499\n",
            "Epoch 61/100\n",
            "4/4 [==============================] - 1s 178ms/step - loss: 2334.6226 - mae: 30.1132 - mse: 2334.6226 - val_loss: 1002.8525 - val_mae: 24.8927 - val_mse: 1002.8525\n",
            "Epoch 62/100\n",
            "4/4 [==============================] - 1s 168ms/step - loss: 2328.4336 - mae: 31.1921 - mse: 2328.4336 - val_loss: 1078.8879 - val_mae: 26.1324 - val_mse: 1078.8879\n",
            "Epoch 63/100\n",
            "4/4 [==============================] - 1s 173ms/step - loss: 2251.6045 - mae: 29.7039 - mse: 2251.6045 - val_loss: 1122.4650 - val_mae: 26.5421 - val_mse: 1122.4650\n",
            "Epoch 64/100\n",
            "4/4 [==============================] - 1s 170ms/step - loss: 2244.3855 - mae: 29.6276 - mse: 2244.3855 - val_loss: 1081.3822 - val_mae: 26.1565 - val_mse: 1081.3822\n",
            "Epoch 65/100\n",
            "4/4 [==============================] - 1s 171ms/step - loss: 2218.6045 - mae: 30.3319 - mse: 2218.6045 - val_loss: 1098.6641 - val_mae: 26.4556 - val_mse: 1098.6641\n",
            "Epoch 66/100\n",
            "4/4 [==============================] - 1s 180ms/step - loss: 2173.7537 - mae: 29.2809 - mse: 2173.7537 - val_loss: 1109.9044 - val_mae: 26.5343 - val_mse: 1109.9044\n",
            "Epoch 67/100\n",
            "4/4 [==============================] - 1s 178ms/step - loss: 2218.9910 - mae: 29.8388 - mse: 2218.9910 - val_loss: 1059.5760 - val_mae: 25.9248 - val_mse: 1059.5760\n",
            "Epoch 68/100\n",
            "4/4 [==============================] - 1s 174ms/step - loss: 2115.0598 - mae: 28.7595 - mse: 2115.0598 - val_loss: 1085.9637 - val_mae: 26.3227 - val_mse: 1085.9637\n",
            "Epoch 69/100\n",
            "4/4 [==============================] - 1s 182ms/step - loss: 2121.1248 - mae: 28.5289 - mse: 2121.1248 - val_loss: 1082.9481 - val_mae: 26.3679 - val_mse: 1082.9481\n",
            "Epoch 70/100\n",
            "4/4 [==============================] - 1s 184ms/step - loss: 2094.8506 - mae: 28.3674 - mse: 2094.8506 - val_loss: 1138.4237 - val_mae: 27.1856 - val_mse: 1138.4237\n",
            "Epoch 71/100\n",
            "4/4 [==============================] - 1s 166ms/step - loss: 2103.4187 - mae: 28.6506 - mse: 2103.4187 - val_loss: 1198.0770 - val_mae: 27.8498 - val_mse: 1198.0770\n",
            "Epoch 72/100\n",
            "4/4 [==============================] - 1s 176ms/step - loss: 2084.9619 - mae: 28.6839 - mse: 2084.9619 - val_loss: 1145.9312 - val_mae: 27.3474 - val_mse: 1145.9312\n",
            "Epoch 73/100\n",
            "4/4 [==============================] - 1s 172ms/step - loss: 2025.6875 - mae: 28.2437 - mse: 2025.6875 - val_loss: 1184.8306 - val_mae: 27.7781 - val_mse: 1184.8306\n",
            "Epoch 74/100\n",
            "4/4 [==============================] - 1s 164ms/step - loss: 1993.6637 - mae: 27.7246 - mse: 1993.6637 - val_loss: 1152.5811 - val_mae: 27.4304 - val_mse: 1152.5811\n",
            "Epoch 75/100\n",
            "4/4 [==============================] - 1s 176ms/step - loss: 1963.5945 - mae: 27.6645 - mse: 1963.5945 - val_loss: 1195.9812 - val_mae: 27.9728 - val_mse: 1195.9812\n",
            "Epoch 76/100\n",
            "4/4 [==============================] - 1s 165ms/step - loss: 1961.7750 - mae: 27.8101 - mse: 1961.7750 - val_loss: 1172.9180 - val_mae: 27.7411 - val_mse: 1172.9180\n",
            "Epoch 77/100\n",
            "4/4 [==============================] - 1s 168ms/step - loss: 1942.0962 - mae: 27.6867 - mse: 1942.0962 - val_loss: 1232.2361 - val_mae: 28.4361 - val_mse: 1232.2361\n",
            "Epoch 78/100\n",
            "4/4 [==============================] - 1s 177ms/step - loss: 1911.6503 - mae: 27.4802 - mse: 1911.6503 - val_loss: 1227.6481 - val_mae: 28.2196 - val_mse: 1227.6481\n",
            "Epoch 79/100\n",
            "4/4 [==============================] - 1s 170ms/step - loss: 1918.4824 - mae: 27.8813 - mse: 1918.4824 - val_loss: 1242.2028 - val_mae: 28.5626 - val_mse: 1242.2028\n",
            "Epoch 80/100\n",
            "4/4 [==============================] - 1s 169ms/step - loss: 1863.2235 - mae: 27.4513 - mse: 1863.2235 - val_loss: 1222.5681 - val_mae: 28.3949 - val_mse: 1222.5681\n",
            "Epoch 81/100\n",
            "4/4 [==============================] - 1s 172ms/step - loss: 1820.9072 - mae: 26.6255 - mse: 1820.9072 - val_loss: 1230.3184 - val_mae: 28.4963 - val_mse: 1230.3184\n",
            "Epoch 82/100\n",
            "4/4 [==============================] - 1s 172ms/step - loss: 1779.4500 - mae: 26.2891 - mse: 1779.4500 - val_loss: 1306.2606 - val_mae: 29.2039 - val_mse: 1306.2606\n",
            "Epoch 83/100\n",
            "4/4 [==============================] - 1s 180ms/step - loss: 1749.3405 - mae: 25.9881 - mse: 1749.3405 - val_loss: 1324.0819 - val_mae: 29.5937 - val_mse: 1324.0820\n",
            "Epoch 84/100\n",
            "4/4 [==============================] - 1s 169ms/step - loss: 1800.9358 - mae: 26.8039 - mse: 1800.9357 - val_loss: 1362.1771 - val_mae: 29.9029 - val_mse: 1362.1771\n",
            "Epoch 85/100\n",
            "4/4 [==============================] - 1s 169ms/step - loss: 1704.0249 - mae: 26.0434 - mse: 1704.0249 - val_loss: 1308.8199 - val_mae: 29.2513 - val_mse: 1308.8199\n",
            "Epoch 86/100\n",
            "4/4 [==============================] - 1s 178ms/step - loss: 1743.4935 - mae: 25.8756 - mse: 1743.4935 - val_loss: 1330.5764 - val_mae: 29.4162 - val_mse: 1330.5764\n",
            "Epoch 87/100\n",
            "4/4 [==============================] - 1s 179ms/step - loss: 1709.7947 - mae: 25.8176 - mse: 1709.7947 - val_loss: 1352.1306 - val_mae: 29.8871 - val_mse: 1352.1306\n",
            "Epoch 88/100\n",
            "4/4 [==============================] - 1s 173ms/step - loss: 1644.5409 - mae: 25.4048 - mse: 1644.5409 - val_loss: 1384.0878 - val_mae: 30.2719 - val_mse: 1384.0878\n",
            "Epoch 89/100\n",
            "4/4 [==============================] - 1s 178ms/step - loss: 1795.0924 - mae: 27.0662 - mse: 1795.0924 - val_loss: 1425.1948 - val_mae: 30.7913 - val_mse: 1425.1948\n",
            "Epoch 90/100\n",
            "4/4 [==============================] - 1s 177ms/step - loss: 1621.8978 - mae: 26.2350 - mse: 1621.8978 - val_loss: 1399.2675 - val_mae: 30.3320 - val_mse: 1399.2675\n",
            "Epoch 91/100\n",
            "4/4 [==============================] - 1s 171ms/step - loss: 1608.8319 - mae: 25.6493 - mse: 1608.8319 - val_loss: 1449.2721 - val_mae: 30.5798 - val_mse: 1449.2721\n",
            "Epoch 92/100\n",
            "4/4 [==============================] - 1s 169ms/step - loss: 1561.7416 - mae: 24.6693 - mse: 1561.7416 - val_loss: 1435.0900 - val_mae: 30.7132 - val_mse: 1435.0900\n",
            "Epoch 93/100\n",
            "4/4 [==============================] - 1s 171ms/step - loss: 1526.7036 - mae: 23.9286 - mse: 1526.7036 - val_loss: 1589.9492 - val_mae: 31.9826 - val_mse: 1589.9492\n",
            "Epoch 94/100\n",
            "4/4 [==============================] - 1s 168ms/step - loss: 1628.5839 - mae: 25.9748 - mse: 1628.5839 - val_loss: 1464.4421 - val_mae: 31.0391 - val_mse: 1464.4421\n",
            "Epoch 95/100\n",
            "4/4 [==============================] - 1s 170ms/step - loss: 1559.3005 - mae: 26.4876 - mse: 1559.3005 - val_loss: 1465.4017 - val_mae: 31.0075 - val_mse: 1465.4017\n",
            "Epoch 96/100\n",
            "4/4 [==============================] - 1s 176ms/step - loss: 1582.5118 - mae: 24.7099 - mse: 1582.5118 - val_loss: 1490.0720 - val_mae: 30.9144 - val_mse: 1490.0720\n",
            "Epoch 97/100\n",
            "4/4 [==============================] - 1s 172ms/step - loss: 1475.3245 - mae: 23.3883 - mse: 1475.3245 - val_loss: 1486.1836 - val_mae: 31.1429 - val_mse: 1486.1836\n",
            "Epoch 98/100\n",
            "4/4 [==============================] - 1s 172ms/step - loss: 1413.2916 - mae: 23.3111 - mse: 1413.2916 - val_loss: 1519.1538 - val_mae: 31.3806 - val_mse: 1519.1538\n",
            "Epoch 99/100\n",
            "4/4 [==============================] - 1s 167ms/step - loss: 1402.8419 - mae: 23.5807 - mse: 1402.8419 - val_loss: 1517.4758 - val_mae: 31.3127 - val_mse: 1517.4758\n",
            "Epoch 100/100\n",
            "4/4 [==============================] - 1s 165ms/step - loss: 1362.0536 - mae: 22.9967 - mse: 1362.0536 - val_loss: 1579.8544 - val_mae: 31.9577 - val_mse: 1579.8544\n"
          ]
        }
      ]
    },
    {
      "cell_type": "markdown",
      "source": [
        "Predictions"
      ],
      "metadata": {
        "id": "hjVQsanxpHma"
      }
    },
    {
      "cell_type": "code",
      "source": [
        "train_idx[:T+1]=False"
      ],
      "metadata": {
        "id": "f1Llph9XdeVY"
      },
      "execution_count": 268,
      "outputs": []
    },
    {
      "cell_type": "code",
      "source": [
        "Ptrain_ann=model_ann.predict(Xtrain).flatten()\n",
        "Ptest_ann=model_ann.predict(Xtest).flatten()\n"
      ],
      "metadata": {
        "id": "96WR1e3Sdgle"
      },
      "execution_count": 269,
      "outputs": []
    },
    {
      "cell_type": "code",
      "source": [
        "Ptrain_cnn=model_cnn.predict(Xtrain).flatten()\n",
        "Ptest_cnn=model_cnn.predict(Xtest).flatten()"
      ],
      "metadata": {
        "id": "Pc5bF6Z_gUGI"
      },
      "execution_count": 270,
      "outputs": []
    },
    {
      "cell_type": "code",
      "source": [
        "Ptrain_lstm=model_lstm.predict(Xtrain).flatten()\n",
        "Ptest_lstm=model_lstm.predict(Xtest).flatten()"
      ],
      "metadata": {
        "id": "LWhMPuCvjAIS"
      },
      "execution_count": 271,
      "outputs": []
    },
    {
      "cell_type": "code",
      "source": [
        "Ptrain_gru=model_gru.predict(Xtrain).flatten()\n",
        "Ptest_gru=model_gru.predict(Xtest).flatten()"
      ],
      "metadata": {
        "id": "znvUQWrKnmIj"
      },
      "execution_count": 272,
      "outputs": []
    },
    {
      "cell_type": "code",
      "source": [
        "df.loc[train_idx,'Diff ANN train prediction']=Ptrain_ann\n",
        "df.loc[test_idx,'Diff ANN test prediction']=Ptest_ann"
      ],
      "metadata": {
        "id": "L7p_peucdjgP"
      },
      "execution_count": 273,
      "outputs": []
    },
    {
      "cell_type": "code",
      "source": [
        "df.loc[train_idx,'Diff CNN train prediction']=Ptrain_cnn\n",
        "df.loc[test_idx,'Diff CNN test prediction']=Ptest_cnn"
      ],
      "metadata": {
        "id": "YcnY5nc6gaG6"
      },
      "execution_count": 274,
      "outputs": []
    },
    {
      "cell_type": "code",
      "source": [
        "df.loc[train_idx,'Diff LSTM train prediction']=Ptrain_lstm\n",
        "df.loc[test_idx,'Diff LSTM test prediction']=Ptest_lstm"
      ],
      "metadata": {
        "id": "8p_92fO6jTpW"
      },
      "execution_count": 275,
      "outputs": []
    },
    {
      "cell_type": "code",
      "source": [
        "df.loc[train_idx,'Diff GRU train prediction']=Ptrain_gru\n",
        "df.loc[test_idx,'Diff GRU test prediction']=Ptest_gru"
      ],
      "metadata": {
        "id": "nmUC4sKpnsIl"
      },
      "execution_count": 276,
      "outputs": []
    },
    {
      "cell_type": "code",
      "source": [
        "df['Shift Prev Close']=df['Prev Close'].shift(1)\n",
        "prev=df['Shift Prev Close']"
      ],
      "metadata": {
        "id": "Ea7RmDuJdpgz"
      },
      "execution_count": 277,
      "outputs": []
    },
    {
      "cell_type": "code",
      "source": [
        "last_train=train.iloc[-1]['Prev Close']"
      ],
      "metadata": {
        "id": "hrhOEI3fduRI"
      },
      "execution_count": 278,
      "outputs": []
    },
    {
      "cell_type": "code",
      "source": [
        "df.loc[train_idx,'train_ANN']=prev[train_idx]+Ptrain_ann\n",
        "df.loc[test_idx,'Prediction_ANN']=prev[test_idx]+Ptest_ann"
      ],
      "metadata": {
        "id": "h0UpXNAXd0Uy"
      },
      "execution_count": 279,
      "outputs": []
    },
    {
      "cell_type": "code",
      "source": [
        "df.loc[train_idx,'train_CNN']=prev[train_idx]+Ptrain_cnn\n",
        "df.loc[test_idx,'Prediction_CNN']=prev[test_idx]+Ptest_cnn"
      ],
      "metadata": {
        "id": "EUYdfUqdg5Tu"
      },
      "execution_count": 280,
      "outputs": []
    },
    {
      "cell_type": "code",
      "source": [
        "df.loc[train_idx,'train_LSTM']=prev[train_idx]+Ptrain_lstm\n",
        "df.loc[test_idx,'Prediction_LSTM']=prev[test_idx]+Ptest_lstm"
      ],
      "metadata": {
        "id": "Na8TIloyjc_Z"
      },
      "execution_count": 281,
      "outputs": []
    },
    {
      "cell_type": "code",
      "source": [
        "df.loc[train_idx,'train_GRU']=prev[train_idx]+Ptrain_gru\n",
        "df.loc[test_idx,'Prediction_GRU']=prev[test_idx]+Ptest_gru"
      ],
      "metadata": {
        "id": "qSL8wEeqnzrM"
      },
      "execution_count": 282,
      "outputs": []
    },
    {
      "cell_type": "code",
      "source": [
        "df[[ 'Prev Close','Prediction_CNN','Prediction_ANN','Prediction_LSTM','Prediction_GRU']].plot(figsize=(15,10));"
      ],
      "metadata": {
        "colab": {
          "base_uri": "https://localhost:8080/",
          "height": 422
        },
        "id": "hItPmrHOd45G",
        "outputId": "0c5b69d3-962f-49e0-b7ea-cdd17e224f61"
      },
      "execution_count": 283,
      "outputs": [
        {
          "output_type": "display_data",
          "data": {
            "text/plain": [
              "<Figure size 1080x720 with 1 Axes>"
            ],
            "image/png": "[encoded data removed]"
          },
          "metadata": {
            "needs_background": "light"
          }
        }
      ]
    },
    {
      "cell_type": "code",
      "source": [
        "df[[ 'Prediction_CNN','Prediction_ANN','Prediction_LSTM','Prediction_GRU']].plot(figsize=(15,10),\n",
        "    ylabel=(\"Previous Close\"));"
      ],
      "metadata": {
        "colab": {
          "base_uri": "https://localhost:8080/",
          "height": 421
        },
        "id": "8nDh9SzUd7Em",
        "outputId": "8b45e8bd-f667-469a-ca19-202de793958a"
      },
      "execution_count": 284,
      "outputs": [
        {
          "output_type": "display_data",
          "data": {
            "text/plain": [
              "<Figure size 1080x720 with 1 Axes>"
            ],
            "image/png": "[encoded data removed]"
          },
          "metadata": {
            "needs_background": "light"
          }
        }
      ]
    },
    {
      "cell_type": "markdown",
      "source": [
        "Evaluation"
      ],
      "metadata": {
        "id": "rSXUYSDdpMP7"
      }
    },
    {
      "cell_type": "code",
      "source": [
        "pred_ann=df['Prediction_ANN']\n",
        "pred_ann.dropna(inplace=True)"
      ],
      "metadata": {
        "id": "NdOUWgEhoKjf"
      },
      "execution_count": 285,
      "outputs": []
    },
    {
      "cell_type": "code",
      "source": [
        "rmse=math.sqrt(mean_squared_error(test['Prev Close'],pred_ann))\n",
        "print(rmse)"
      ],
      "metadata": {
        "colab": {
          "base_uri": "https://localhost:8080/"
        },
        "id": "nsTCBQ6mpdH0",
        "outputId": "95db0b09-10e1-4807-bd68-2846ee74404a"
      },
      "execution_count": 286,
      "outputs": [
        {
          "output_type": "stream",
          "name": "stdout",
          "text": [
            "30.02548894762925\n"
          ]
        }
      ]
    },
    {
      "cell_type": "code",
      "source": [
        "error=mean_absolute_error(test['Prev Close'],pred_ann)\n",
        "print(error)"
      ],
      "metadata": {
        "colab": {
          "base_uri": "https://localhost:8080/"
        },
        "id": "iIAQHD7DpgVL",
        "outputId": "7e9d4533-6b5c-4609-d370-b43ec802d496"
      },
      "execution_count": 287,
      "outputs": [
        {
          "output_type": "stream",
          "name": "stdout",
          "text": [
            "23.549727298577604\n"
          ]
        }
      ]
    },
    {
      "cell_type": "code",
      "source": [
        "r2_score(test['Prev Close'],pred_ann)"
      ],
      "metadata": {
        "colab": {
          "base_uri": "https://localhost:8080/"
        },
        "id": "-0ZfJE4zplqz",
        "outputId": "6ce0b7e2-3f72-4fea-b458-6222a2d2168d"
      },
      "execution_count": 288,
      "outputs": [
        {
          "output_type": "execute_result",
          "data": {
            "text/plain": [
              "0.9092282267320517"
            ]
          },
          "metadata": {},
          "execution_count": 288
        }
      ]
    },
    {
      "cell_type": "code",
      "source": [
        "pred_cnn=df['Prediction_CNN']\n",
        "pred_cnn.dropna(inplace=True)"
      ],
      "metadata": {
        "id": "NQ3y6NwzppdW"
      },
      "execution_count": 289,
      "outputs": []
    },
    {
      "cell_type": "code",
      "source": [
        "rmse=math.sqrt(mean_squared_error(test['Prev Close'],pred_cnn))\n",
        "print(rmse)"
      ],
      "metadata": {
        "colab": {
          "base_uri": "https://localhost:8080/"
        },
        "id": "2t7Fu7N-p9ql",
        "outputId": "51141e2b-853a-4d19-d956-231f9fee63ee"
      },
      "execution_count": 290,
      "outputs": [
        {
          "output_type": "stream",
          "name": "stdout",
          "text": [
            "27.232616999008336\n"
          ]
        }
      ]
    },
    {
      "cell_type": "code",
      "source": [
        "error=mean_absolute_error(test['Prev Close'],pred_cnn)\n",
        "print(error)"
      ],
      "metadata": {
        "colab": {
          "base_uri": "https://localhost:8080/"
        },
        "id": "fCxfXZ3Cp92i",
        "outputId": "d49b78b7-187c-484c-8a9e-daf1ee4aeea6"
      },
      "execution_count": 291,
      "outputs": [
        {
          "output_type": "stream",
          "name": "stdout",
          "text": [
            "21.085239767764985\n"
          ]
        }
      ]
    },
    {
      "cell_type": "code",
      "source": [
        "r2_score(test['Prev Close'],pred_cnn)"
      ],
      "metadata": {
        "colab": {
          "base_uri": "https://localhost:8080/"
        },
        "id": "B1yNq5Vyp-Fv",
        "outputId": "804afb5a-e943-434a-ffe7-7ca779e6066e"
      },
      "execution_count": 292,
      "outputs": [
        {
          "output_type": "execute_result",
          "data": {
            "text/plain": [
              "0.9253294415682501"
            ]
          },
          "metadata": {},
          "execution_count": 292
        }
      ]
    },
    {
      "cell_type": "code",
      "source": [
        "pred_lstm=df['Prediction_LSTM']\n",
        "pred_lstm.dropna(inplace=True)"
      ],
      "metadata": {
        "id": "2JHbSsrypzko"
      },
      "execution_count": 293,
      "outputs": []
    },
    {
      "cell_type": "code",
      "source": [
        "rmse=math.sqrt(mean_squared_error(test['Prev Close'],pred_lstm))\n",
        "print(rmse)"
      ],
      "metadata": {
        "colab": {
          "base_uri": "https://localhost:8080/"
        },
        "id": "UXSSQRxQp-35",
        "outputId": "de4526fe-655d-48c7-ba50-42b40db1ce64"
      },
      "execution_count": 294,
      "outputs": [
        {
          "output_type": "stream",
          "name": "stdout",
          "text": [
            "38.34209915454674\n"
          ]
        }
      ]
    },
    {
      "cell_type": "code",
      "source": [
        "error=mean_absolute_error(test['Prev Close'],pred_lstm)\n",
        "print(error)"
      ],
      "metadata": {
        "colab": {
          "base_uri": "https://localhost:8080/"
        },
        "id": "h9VZ6Odxp-9o",
        "outputId": "7f00d9c4-5cea-4da1-9ac2-fa1a33f435db"
      },
      "execution_count": 295,
      "outputs": [
        {
          "output_type": "stream",
          "name": "stdout",
          "text": [
            "30.958150468031544\n"
          ]
        }
      ]
    },
    {
      "cell_type": "code",
      "source": [
        "r2_score(test['Prev Close'],pred_lstm)"
      ],
      "metadata": {
        "colab": {
          "base_uri": "https://localhost:8080/"
        },
        "id": "X7FH8enup_D3",
        "outputId": "649500bb-834f-4b04-a443-5177ddfa80d0"
      },
      "execution_count": 296,
      "outputs": [
        {
          "output_type": "execute_result",
          "data": {
            "text/plain": [
              "0.8519793132327287"
            ]
          },
          "metadata": {},
          "execution_count": 296
        }
      ]
    },
    {
      "cell_type": "code",
      "source": [
        "pred_gru=df['Prediction_GRU']\n",
        "pred_gru.dropna(inplace=True)"
      ],
      "metadata": {
        "id": "i3IdPEAWp4iD"
      },
      "execution_count": 297,
      "outputs": []
    },
    {
      "cell_type": "code",
      "source": [
        "rmse=math.sqrt(mean_squared_error(test['Prev Close'],pred_gru))\n",
        "print(rmse)"
      ],
      "metadata": {
        "colab": {
          "base_uri": "https://localhost:8080/"
        },
        "id": "XuZAIPTEp_iy",
        "outputId": "3bbd5725-a6cf-4607-aa3d-9470358aed9b"
      },
      "execution_count": 298,
      "outputs": [
        {
          "output_type": "stream",
          "name": "stdout",
          "text": [
            "39.74738253744744\n"
          ]
        }
      ]
    },
    {
      "cell_type": "code",
      "source": [
        "error=mean_absolute_error(test['Prev Close'],pred_gru)\n",
        "print(error)"
      ],
      "metadata": {
        "colab": {
          "base_uri": "https://localhost:8080/"
        },
        "id": "eo7EZVIop_np",
        "outputId": "5b71b73a-9cb8-4a72-d233-36fdb8cc7d2e"
      },
      "execution_count": 299,
      "outputs": [
        {
          "output_type": "stream",
          "name": "stdout",
          "text": [
            "31.957666619141886\n"
          ]
        }
      ]
    },
    {
      "cell_type": "code",
      "source": [
        "r2_score(test['Prev Close'],pred_gru)"
      ],
      "metadata": {
        "colab": {
          "base_uri": "https://localhost:8080/"
        },
        "id": "AQIh6l51p_so",
        "outputId": "539929b0-18ed-4c19-e4b9-1cc1196918fe"
      },
      "execution_count": 300,
      "outputs": [
        {
          "output_type": "execute_result",
          "data": {
            "text/plain": [
              "0.840930208401323"
            ]
          },
          "metadata": {},
          "execution_count": 300
        }
      ]
    },
    {
      "cell_type": "code",
      "source": [],
      "metadata": {
        "id": "gjfmkSgjqcjO"
      },
      "execution_count": 300,
      "outputs": []
    }
  ]
}