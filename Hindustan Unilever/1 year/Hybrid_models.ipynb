{
  "nbformat": 4,
  "nbformat_minor": 0,
  "metadata": {
    "colab": {
      "provenance": [],
      "collapsed_sections": []
    },
    "kernelspec": {
      "name": "python3",
      "display_name": "Python 3"
    },
    "language_info": {
      "name": "python"
    }
  },
  "cells": [
    {
      "cell_type": "code",
      "execution_count": 246,
      "metadata": {
        "id": "dpI-f41n9Ofc"
      },
      "outputs": [],
      "source": [
        "import pandas as pd\n",
        "import numpy as np\n",
        "import matplotlib.pyplot as plt\n",
        "\n",
        "import tensorflow as tf\n",
        "from tensorflow.keras.layers import Dense, Input, GlobalMaxPool1D, LSTM, GRU\n",
        "from tensorflow.keras.layers import Conv1D, MaxPooling1D\n",
        "from tensorflow.keras.models import Model\n",
        "from tensorflow.keras.callbacks import ModelCheckpoint\n",
        "\n",
        "import math\n",
        "\n",
        "from sklearn.metrics import r2_score\n",
        "from sklearn.metrics import mean_absolute_error\n",
        "from sklearn.metrics import mean_squared_error\n",
        "\n",
        "np.random.seed(123)\n",
        "tf.random.set_seed(123)"
      ]
    },
    {
      "cell_type": "code",
      "source": [
        "df=pd.read_csv('./HINDUNILVR.csv',index_col='Date',parse_dates=True)"
      ],
      "metadata": {
        "id": "tRrBpF6O9Rch"
      },
      "execution_count": 247,
      "outputs": []
    },
    {
      "cell_type": "code",
      "source": [
        "df"
      ],
      "metadata": {
        "colab": {
          "base_uri": "https://localhost:8080/",
          "height": 710
        },
        "id": "ZHKVPajo9cUs",
        "outputId": "19819724-f902-4777-f59e-5c637d64c2ee"
      },
      "execution_count": 248,
      "outputs": [
        {
          "output_type": "execute_result",
          "data": {
            "text/plain": [
              "                Symbol Series  Prev Close    Open     High      Low     Last  \\\n",
              "Date                                                                           \n",
              "2000-01-03   HINDLEVER     EQ     2136.60  2300.0  2307.55  2300.00  2307.55   \n",
              "2000-01-04   HINDLEVER     EQ     2307.55  2381.0  2381.00  2250.00  2270.00   \n",
              "2000-01-05   HINDLEVER     EQ     2281.05  2200.0  2250.00  2105.00  2183.50   \n",
              "2000-01-06   HINDLEVER     EQ     2199.90  2224.9  2360.00  2210.00  2300.00   \n",
              "2000-01-07   HINDLEVER     EQ     2288.20  2300.0  2452.00  2282.25  2395.00   \n",
              "...                ...    ...         ...     ...      ...      ...      ...   \n",
              "2021-04-26  HINDUNILVR     EQ     2307.75  2324.0  2369.80  2311.00  2367.70   \n",
              "2021-04-27  HINDUNILVR     EQ     2360.65  2363.0  2386.45  2352.95  2378.00   \n",
              "2021-04-28  HINDUNILVR     EQ     2379.85  2380.0  2445.00  2366.30  2404.00   \n",
              "2021-04-29  HINDUNILVR     EQ     2406.55  2433.0  2448.95  2384.15  2422.15   \n",
              "2021-04-30  HINDUNILVR     EQ     2407.60  2410.0  2442.90  2330.25  2350.00   \n",
              "\n",
              "              Close     VWAP   Volume      Turnover    Trades  \\\n",
              "Date                                                            \n",
              "2000-01-03  2307.55  2307.08    24903  5.745330e+12       NaN   \n",
              "2000-01-04  2281.05  2298.15    58514  1.344740e+13       NaN   \n",
              "2000-01-05  2199.90  2211.17    80296  1.775482e+13       NaN   \n",
              "2000-01-06  2288.20  2301.80   190032  4.374157e+13       NaN   \n",
              "2000-01-07  2412.95  2380.24   192582  4.583919e+13       NaN   \n",
              "...             ...      ...      ...           ...       ...   \n",
              "2021-04-26  2360.65  2340.89  1946867  4.557405e+14   85684.0   \n",
              "2021-04-27  2379.85  2374.40  1668456  3.961583e+14   84641.0   \n",
              "2021-04-28  2406.55  2414.15  1951215  4.710522e+14   84910.0   \n",
              "2021-04-29  2407.60  2419.82  3151150  7.625230e+14  141048.0   \n",
              "2021-04-30  2353.75  2363.99  4010778  9.481448e+14  170223.0   \n",
              "\n",
              "            Deliverable Volume  %Deliverble  \n",
              "Date                                         \n",
              "2000-01-03                 NaN          NaN  \n",
              "2000-01-04                 NaN          NaN  \n",
              "2000-01-05                 NaN          NaN  \n",
              "2000-01-06                 NaN          NaN  \n",
              "2000-01-07                 NaN          NaN  \n",
              "...                        ...          ...  \n",
              "2021-04-26           1289103.0       0.6621  \n",
              "2021-04-27           1089882.0       0.6532  \n",
              "2021-04-28           1024216.0       0.5249  \n",
              "2021-04-29            946648.0       0.3004  \n",
              "2021-04-30           2038288.0       0.5082  \n",
              "\n",
              "[5306 rows x 14 columns]"
            ],
            "text/html": [
              "\n",
              "  <div id=\"df-aa008e19-39b0-47f2-858f-96666012d651\">\n",
              "    <div class=\"colab-df-container\">\n",
              "      <div>\n",
              "<style scoped>\n",
              "    .dataframe tbody tr th:only-of-type {\n",
              "        vertical-align: middle;\n",
              "    }\n",
              "\n",
              "    .dataframe tbody tr th {\n",
              "        vertical-align: top;\n",
              "    }\n",
              "\n",
              "    .dataframe thead th {\n",
              "        text-align: right;\n",
              "    }\n",
              "</style>\n",
              "<table border=\"1\" class=\"dataframe\">\n",
              "  <thead>\n",
              "    <tr style=\"text-align: right;\">\n",
              "      <th></th>\n",
              "      <th>Symbol</th>\n",
              "      <th>Series</th>\n",
              "      <th>Prev Close</th>\n",
              "      <th>Open</th>\n",
              "      <th>High</th>\n",
              "      <th>Low</th>\n",
              "      <th>Last</th>\n",
              "      <th>Close</th>\n",
              "      <th>VWAP</th>\n",
              "      <th>Volume</th>\n",
              "      <th>Turnover</th>\n",
              "      <th>Trades</th>\n",
              "      <th>Deliverable Volume</th>\n",
              "      <th>%Deliverble</th>\n",
              "    </tr>\n",
              "    <tr>\n",
              "      <th>Date</th>\n",
              "      <th></th>\n",
              "      <th></th>\n",
              "      <th></th>\n",
              "      <th></th>\n",
              "      <th></th>\n",
              "      <th></th>\n",
              "      <th></th>\n",
              "      <th></th>\n",
              "      <th></th>\n",
              "      <th></th>\n",
              "      <th></th>\n",
              "      <th></th>\n",
              "      <th></th>\n",
              "      <th></th>\n",
              "    </tr>\n",
              "  </thead>\n",
              "  <tbody>\n",
              "    <tr>\n",
              "      <th>2000-01-03</th>\n",
              "      <td>HINDLEVER</td>\n",
              "      <td>EQ</td>\n",
              "      <td>2136.60</td>\n",
              "      <td>2300.0</td>\n",
              "      <td>2307.55</td>\n",
              "      <td>2300.00</td>\n",
              "      <td>2307.55</td>\n",
              "      <td>2307.55</td>\n",
              "      <td>2307.08</td>\n",
              "      <td>24903</td>\n",
              "      <td>5.745330e+12</td>\n",
              "      <td>NaN</td>\n",
              "      <td>NaN</td>\n",
              "      <td>NaN</td>\n",
              "    </tr>\n",
              "    <tr>\n",
              "      <th>2000-01-04</th>\n",
              "      <td>HINDLEVER</td>\n",
              "      <td>EQ</td>\n",
              "      <td>2307.55</td>\n",
              "      <td>2381.0</td>\n",
              "      <td>2381.00</td>\n",
              "      <td>2250.00</td>\n",
              "      <td>2270.00</td>\n",
              "      <td>2281.05</td>\n",
              "      <td>2298.15</td>\n",
              "      <td>58514</td>\n",
              "      <td>1.344740e+13</td>\n",
              "      <td>NaN</td>\n",
              "      <td>NaN</td>\n",
              "      <td>NaN</td>\n",
              "    </tr>\n",
              "    <tr>\n",
              "      <th>2000-01-05</th>\n",
              "      <td>HINDLEVER</td>\n",
              "      <td>EQ</td>\n",
              "      <td>2281.05</td>\n",
              "      <td>2200.0</td>\n",
              "      <td>2250.00</td>\n",
              "      <td>2105.00</td>\n",
              "      <td>2183.50</td>\n",
              "      <td>2199.90</td>\n",
              "      <td>2211.17</td>\n",
              "      <td>80296</td>\n",
              "      <td>1.775482e+13</td>\n",
              "      <td>NaN</td>\n",
              "      <td>NaN</td>\n",
              "      <td>NaN</td>\n",
              "    </tr>\n",
              "    <tr>\n",
              "      <th>2000-01-06</th>\n",
              "      <td>HINDLEVER</td>\n",
              "      <td>EQ</td>\n",
              "      <td>2199.90</td>\n",
              "      <td>2224.9</td>\n",
              "      <td>2360.00</td>\n",
              "      <td>2210.00</td>\n",
              "      <td>2300.00</td>\n",
              "      <td>2288.20</td>\n",
              "      <td>2301.80</td>\n",
              "      <td>190032</td>\n",
              "      <td>4.374157e+13</td>\n",
              "      <td>NaN</td>\n",
              "      <td>NaN</td>\n",
              "      <td>NaN</td>\n",
              "    </tr>\n",
              "    <tr>\n",
              "      <th>2000-01-07</th>\n",
              "      <td>HINDLEVER</td>\n",
              "      <td>EQ</td>\n",
              "      <td>2288.20</td>\n",
              "      <td>2300.0</td>\n",
              "      <td>2452.00</td>\n",
              "      <td>2282.25</td>\n",
              "      <td>2395.00</td>\n",
              "      <td>2412.95</td>\n",
              "      <td>2380.24</td>\n",
              "      <td>192582</td>\n",
              "      <td>4.583919e+13</td>\n",
              "      <td>NaN</td>\n",
              "      <td>NaN</td>\n",
              "      <td>NaN</td>\n",
              "    </tr>\n",
              "    <tr>\n",
              "      <th>...</th>\n",
              "      <td>...</td>\n",
              "      <td>...</td>\n",
              "      <td>...</td>\n",
              "      <td>...</td>\n",
              "      <td>...</td>\n",
              "      <td>...</td>\n",
              "      <td>...</td>\n",
              "      <td>...</td>\n",
              "      <td>...</td>\n",
              "      <td>...</td>\n",
              "      <td>...</td>\n",
              "      <td>...</td>\n",
              "      <td>...</td>\n",
              "      <td>...</td>\n",
              "    </tr>\n",
              "    <tr>\n",
              "      <th>2021-04-26</th>\n",
              "      <td>HINDUNILVR</td>\n",
              "      <td>EQ</td>\n",
              "      <td>2307.75</td>\n",
              "      <td>2324.0</td>\n",
              "      <td>2369.80</td>\n",
              "      <td>2311.00</td>\n",
              "      <td>2367.70</td>\n",
              "      <td>2360.65</td>\n",
              "      <td>2340.89</td>\n",
              "      <td>1946867</td>\n",
              "      <td>4.557405e+14</td>\n",
              "      <td>85684.0</td>\n",
              "      <td>1289103.0</td>\n",
              "      <td>0.6621</td>\n",
              "    </tr>\n",
              "    <tr>\n",
              "      <th>2021-04-27</th>\n",
              "      <td>HINDUNILVR</td>\n",
              "      <td>EQ</td>\n",
              "      <td>2360.65</td>\n",
              "      <td>2363.0</td>\n",
              "      <td>2386.45</td>\n",
              "      <td>2352.95</td>\n",
              "      <td>2378.00</td>\n",
              "      <td>2379.85</td>\n",
              "      <td>2374.40</td>\n",
              "      <td>1668456</td>\n",
              "      <td>3.961583e+14</td>\n",
              "      <td>84641.0</td>\n",
              "      <td>1089882.0</td>\n",
              "      <td>0.6532</td>\n",
              "    </tr>\n",
              "    <tr>\n",
              "      <th>2021-04-28</th>\n",
              "      <td>HINDUNILVR</td>\n",
              "      <td>EQ</td>\n",
              "      <td>2379.85</td>\n",
              "      <td>2380.0</td>\n",
              "      <td>2445.00</td>\n",
              "      <td>2366.30</td>\n",
              "      <td>2404.00</td>\n",
              "      <td>2406.55</td>\n",
              "      <td>2414.15</td>\n",
              "      <td>1951215</td>\n",
              "      <td>4.710522e+14</td>\n",
              "      <td>84910.0</td>\n",
              "      <td>1024216.0</td>\n",
              "      <td>0.5249</td>\n",
              "    </tr>\n",
              "    <tr>\n",
              "      <th>2021-04-29</th>\n",
              "      <td>HINDUNILVR</td>\n",
              "      <td>EQ</td>\n",
              "      <td>2406.55</td>\n",
              "      <td>2433.0</td>\n",
              "      <td>2448.95</td>\n",
              "      <td>2384.15</td>\n",
              "      <td>2422.15</td>\n",
              "      <td>2407.60</td>\n",
              "      <td>2419.82</td>\n",
              "      <td>3151150</td>\n",
              "      <td>7.625230e+14</td>\n",
              "      <td>141048.0</td>\n",
              "      <td>946648.0</td>\n",
              "      <td>0.3004</td>\n",
              "    </tr>\n",
              "    <tr>\n",
              "      <th>2021-04-30</th>\n",
              "      <td>HINDUNILVR</td>\n",
              "      <td>EQ</td>\n",
              "      <td>2407.60</td>\n",
              "      <td>2410.0</td>\n",
              "      <td>2442.90</td>\n",
              "      <td>2330.25</td>\n",
              "      <td>2350.00</td>\n",
              "      <td>2353.75</td>\n",
              "      <td>2363.99</td>\n",
              "      <td>4010778</td>\n",
              "      <td>9.481448e+14</td>\n",
              "      <td>170223.0</td>\n",
              "      <td>2038288.0</td>\n",
              "      <td>0.5082</td>\n",
              "    </tr>\n",
              "  </tbody>\n",
              "</table>\n",
              "<p>5306 rows × 14 columns</p>\n",
              "</div>\n",
              "      <button class=\"colab-df-convert\" onclick=\"convertToInteractive('df-aa008e19-39b0-47f2-858f-96666012d651')\"\n",
              "              title=\"Convert this dataframe to an interactive table.\"\n",
              "              style=\"display:none;\">\n",
              "        \n",
              "  <svg xmlns=\"http://www.w3.org/2000/svg\" height=\"24px\"viewBox=\"0 0 24 24\"\n",
              "       width=\"24px\">\n",
              "    <path d=\"M0 0h24v24H0V0z\" fill=\"none\"/>\n",
              "    <path d=\"M18.56 5.44l.94 2.06.94-2.06 2.06-.94-2.06-.94-.94-2.06-.94 2.06-2.06.94zm-11 1L8.5 8.5l.94-2.06 2.06-.94-2.06-.94L8.5 2.5l-.94 2.06-2.06.94zm10 10l.94 2.06.94-2.06 2.06-.94-2.06-.94-.94-2.06-.94 2.06-2.06.94z\"/><path d=\"M17.41 7.96l-1.37-1.37c-.4-.4-.92-.59-1.43-.59-.52 0-1.04.2-1.43.59L10.3 9.45l-7.72 7.72c-.78.78-.78 2.05 0 2.83L4 21.41c.39.39.9.59 1.41.59.51 0 1.02-.2 1.41-.59l7.78-7.78 2.81-2.81c.8-.78.8-2.07 0-2.86zM5.41 20L4 18.59l7.72-7.72 1.47 1.35L5.41 20z\"/>\n",
              "  </svg>\n",
              "      </button>\n",
              "      \n",
              "  <style>\n",
              "    .colab-df-container {\n",
              "      display:flex;\n",
              "      flex-wrap:wrap;\n",
              "      gap: 12px;\n",
              "    }\n",
              "\n",
              "    .colab-df-convert {\n",
              "      background-color: #E8F0FE;\n",
              "      border: none;\n",
              "      border-radius: 50%;\n",
              "      cursor: pointer;\n",
              "      display: none;\n",
              "      fill: #1967D2;\n",
              "      height: 32px;\n",
              "      padding: 0 0 0 0;\n",
              "      width: 32px;\n",
              "    }\n",
              "\n",
              "    .colab-df-convert:hover {\n",
              "      background-color: #E2EBFA;\n",
              "      box-shadow: 0px 1px 2px rgba(60, 64, 67, 0.3), 0px 1px 3px 1px rgba(60, 64, 67, 0.15);\n",
              "      fill: #174EA6;\n",
              "    }\n",
              "\n",
              "    [theme=dark] .colab-df-convert {\n",
              "      background-color: #3B4455;\n",
              "      fill: #D2E3FC;\n",
              "    }\n",
              "\n",
              "    [theme=dark] .colab-df-convert:hover {\n",
              "      background-color: #434B5C;\n",
              "      box-shadow: 0px 1px 3px 1px rgba(0, 0, 0, 0.15);\n",
              "      filter: drop-shadow(0px 1px 2px rgba(0, 0, 0, 0.3));\n",
              "      fill: #FFFFFF;\n",
              "    }\n",
              "  </style>\n",
              "\n",
              "      <script>\n",
              "        const buttonEl =\n",
              "          document.querySelector('#df-aa008e19-39b0-47f2-858f-96666012d651 button.colab-df-convert');\n",
              "        buttonEl.style.display =\n",
              "          google.colab.kernel.accessAllowed ? 'block' : 'none';\n",
              "\n",
              "        async function convertToInteractive(key) {\n",
              "          const element = document.querySelector('#df-aa008e19-39b0-47f2-858f-96666012d651');\n",
              "          const dataTable =\n",
              "            await google.colab.kernel.invokeFunction('convertToInteractive',\n",
              "                                                     [key], {});\n",
              "          if (!dataTable) return;\n",
              "\n",
              "          const docLinkHtml = 'Like what you see? Visit the ' +\n",
              "            '<a target=\"_blank\" href=https://colab.research.google.com/notebooks/data_table.ipynb>data table notebook</a>'\n",
              "            + ' to learn more about interactive tables.';\n",
              "          element.innerHTML = '';\n",
              "          dataTable['output_type'] = 'display_data';\n",
              "          await google.colab.output.renderOutput(dataTable, element);\n",
              "          const docLink = document.createElement('div');\n",
              "          docLink.innerHTML = docLinkHtml;\n",
              "          element.appendChild(docLink);\n",
              "        }\n",
              "      </script>\n",
              "    </div>\n",
              "  </div>\n",
              "  "
            ]
          },
          "metadata": {},
          "execution_count": 248
        }
      ]
    },
    {
      "cell_type": "code",
      "source": [
        "df['Date']=df.index"
      ],
      "metadata": {
        "id": "9unXMmHP9dBl"
      },
      "execution_count": 249,
      "outputs": []
    },
    {
      "cell_type": "code",
      "source": [
        "start_date='2020-01-01'\n",
        "end_date='2020-12-31'\n",
        "mask=(df['Date']>=start_date)&(df['Date']<=end_date)"
      ],
      "metadata": {
        "id": "pmoAuKVz9dEq"
      },
      "execution_count": 250,
      "outputs": []
    },
    {
      "cell_type": "code",
      "source": [
        "df=df.loc[mask]"
      ],
      "metadata": {
        "id": "BuOLMt6t9dHp"
      },
      "execution_count": 251,
      "outputs": []
    },
    {
      "cell_type": "code",
      "source": [
        "df=df.drop(columns=['Series','Symbol','Open','High','Low','Last','Close','VWAP','Volume','Turnover','Trades','Deliverable Volume','%Deliverble','Date'])"
      ],
      "metadata": {
        "id": "5w_ZXVOL9dKu"
      },
      "execution_count": 252,
      "outputs": []
    },
    {
      "cell_type": "code",
      "source": [
        "Ntest=math.trunc(0.3*len(df))\n",
        "train=df.iloc[:-Ntest]\n",
        "test=df.iloc[-Ntest:]"
      ],
      "metadata": {
        "id": "Pd6Tf8ub9dNk"
      },
      "execution_count": 253,
      "outputs": []
    },
    {
      "cell_type": "code",
      "source": [
        "train_idx=df.index<=train.index[-1]\n",
        "test_idx=df.index>train.index[-1]"
      ],
      "metadata": {
        "id": "fFr5cqWk9dQ4"
      },
      "execution_count": 254,
      "outputs": []
    },
    {
      "cell_type": "code",
      "source": [
        "df['Diff Prev Close']=df['Prev Close'].diff()"
      ],
      "metadata": {
        "id": "bTleMRdL9dTP"
      },
      "execution_count": 255,
      "outputs": []
    },
    {
      "cell_type": "code",
      "source": [
        "series=df['Diff Prev Close'].dropna().to_numpy()\n",
        "\n",
        "T=50\n",
        "X=[]\n",
        "Y=[]\n",
        "for t in range(len(series)-T):\n",
        "  x=series[t:t+T]\n",
        "  X.append(x)\n",
        "  y=series[t+T]\n",
        "  Y.append(y)\n",
        "\n",
        "X=np.array(X).reshape(-1,T)\n",
        "Y=np.array(Y)\n",
        "N=len(X)\n",
        "print(\"X.shape\",X.shape,\"Y.shape\",Y.shape)"
      ],
      "metadata": {
        "colab": {
          "base_uri": "https://localhost:8080/"
        },
        "id": "-faJTkyl9dWV",
        "outputId": "fda3e644-2f26-4e5f-a737-34f5bb55170f"
      },
      "execution_count": 256,
      "outputs": [
        {
          "output_type": "stream",
          "name": "stdout",
          "text": [
            "X.shape (201, 50) Y.shape (201,)\n"
          ]
        }
      ]
    },
    {
      "cell_type": "code",
      "source": [
        "Xtrain,Ytrain=X[:-Ntest],Y[:-Ntest]\n",
        "Xtest,Ytest=X[-Ntest:],Y[-Ntest:]"
      ],
      "metadata": {
        "id": "blHqq_g-9dY_"
      },
      "execution_count": 257,
      "outputs": []
    },
    {
      "cell_type": "markdown",
      "source": [
        "LSTM+CNN"
      ],
      "metadata": {
        "id": "ir_desj398LI"
      }
    },
    {
      "cell_type": "code",
      "source": [
        "i=Input(shape=(T,1))\n",
        "x=LSTM(200,return_sequences=True)(i)\n",
        "x=LSTM(200,return_sequences=True)(x)\n",
        "x=Dense(100)(x)\n",
        "x=Dense(50)(x)\n",
        "x=Conv1D(25,3,activation='relu')(i)\n",
        "x=MaxPooling1D(2)(x)\n",
        "x=Conv1D(50,3,activation='relu')(x)\n",
        "x=GlobalMaxPool1D()(x)\n",
        "x=Dense(1)(x)\n",
        "model_lstm_cnn=Model(i,x)\n",
        "model_lstm_cnn.summary()"
      ],
      "metadata": {
        "colab": {
          "base_uri": "https://localhost:8080/"
        },
        "id": "vvKQKCrr96yo",
        "outputId": "5b0d40c6-7bdc-4785-ab2e-6241134e7f82"
      },
      "execution_count": 258,
      "outputs": [
        {
          "output_type": "stream",
          "name": "stdout",
          "text": [
            "Model: \"model_13\"\n",
            "_________________________________________________________________\n",
            " Layer (type)                Output Shape              Param #   \n",
            "=================================================================\n",
            " input_14 (InputLayer)       [(None, 50, 1)]           0         \n",
            "                                                                 \n",
            " conv1d_12 (Conv1D)          (None, 48, 25)            100       \n",
            "                                                                 \n",
            " max_pooling1d_6 (MaxPooling  (None, 24, 25)           0         \n",
            " 1D)                                                             \n",
            "                                                                 \n",
            " conv1d_13 (Conv1D)          (None, 22, 50)            3800      \n",
            "                                                                 \n",
            " global_max_pooling1d_13 (Gl  (None, 50)               0         \n",
            " obalMaxPooling1D)                                               \n",
            "                                                                 \n",
            " dense_55 (Dense)            (None, 1)                 51        \n",
            "                                                                 \n",
            "=================================================================\n",
            "Total params: 3,951\n",
            "Trainable params: 3,951\n",
            "Non-trainable params: 0\n",
            "_________________________________________________________________\n"
          ]
        }
      ]
    },
    {
      "cell_type": "code",
      "source": [
        "check_point_lstm_cnn=ModelCheckpoint('best_model.h5',monitor='val_loss',save_best_only=True)"
      ],
      "metadata": {
        "id": "nH-bqzYc967w"
      },
      "execution_count": 259,
      "outputs": []
    },
    {
      "cell_type": "code",
      "source": [
        "model_lstm_cnn.compile(loss='mse',\n",
        "              optimizer='adamax',\n",
        "              metrics=['mae','mse'])"
      ],
      "metadata": {
        "id": "pSNLhWam97B2"
      },
      "execution_count": 260,
      "outputs": []
    },
    {
      "cell_type": "code",
      "source": [
        "r=model_lstm_cnn.fit(\n",
        "    Xtrain,\n",
        "    Ytrain,\n",
        "    epochs=100,\n",
        "    validation_data=(Xtest,Ytest),\n",
        "    callbacks=[check_point_lstm_cnn]\n",
        ")"
      ],
      "metadata": {
        "colab": {
          "base_uri": "https://localhost:8080/"
        },
        "id": "YMfLEKjw97Hd",
        "outputId": "11cb9e68-2123-42aa-9bc5-41a2eadb1ccd"
      },
      "execution_count": 261,
      "outputs": [
        {
          "output_type": "stream",
          "name": "stdout",
          "text": [
            "Epoch 1/100\n",
            "4/4 [==============================] - 1s 76ms/step - loss: 3335.4072 - mae: 37.3857 - mse: 3335.4072 - val_loss: 772.6219 - val_mae: 21.5423 - val_mse: 772.6219\n",
            "Epoch 2/100\n",
            "4/4 [==============================] - 0s 20ms/step - loss: 3253.3252 - mae: 37.2312 - mse: 3253.3252 - val_loss: 770.0565 - val_mae: 21.4884 - val_mse: 770.0565\n",
            "Epoch 3/100\n",
            "4/4 [==============================] - 0s 20ms/step - loss: 3190.5100 - mae: 36.3976 - mse: 3190.5100 - val_loss: 777.3041 - val_mae: 21.6120 - val_mse: 777.3041\n",
            "Epoch 4/100\n",
            "4/4 [==============================] - 0s 16ms/step - loss: 3174.5347 - mae: 36.1220 - mse: 3174.5347 - val_loss: 775.5352 - val_mae: 21.5675 - val_mse: 775.5352\n",
            "Epoch 5/100\n",
            "4/4 [==============================] - 0s 15ms/step - loss: 3159.0002 - mae: 35.8970 - mse: 3159.0002 - val_loss: 775.3289 - val_mae: 21.5570 - val_mse: 775.3289\n",
            "Epoch 6/100\n",
            "4/4 [==============================] - 0s 20ms/step - loss: 3135.9097 - mae: 35.7714 - mse: 3135.9097 - val_loss: 768.0304 - val_mae: 21.4150 - val_mse: 768.0304\n",
            "Epoch 7/100\n",
            "4/4 [==============================] - 0s 27ms/step - loss: 3112.3306 - mae: 35.9114 - mse: 3112.3306 - val_loss: 764.8075 - val_mae: 21.3760 - val_mse: 764.8075\n",
            "Epoch 8/100\n",
            "4/4 [==============================] - 0s 21ms/step - loss: 3110.1990 - mae: 36.0632 - mse: 3110.1990 - val_loss: 762.0745 - val_mae: 21.3713 - val_mse: 762.0745\n",
            "Epoch 9/100\n",
            "4/4 [==============================] - 0s 17ms/step - loss: 3088.5154 - mae: 36.0521 - mse: 3088.5154 - val_loss: 762.6135 - val_mae: 21.3717 - val_mse: 762.6135\n",
            "Epoch 10/100\n",
            "4/4 [==============================] - 0s 17ms/step - loss: 3087.4761 - mae: 35.7460 - mse: 3087.4761 - val_loss: 768.0501 - val_mae: 21.4006 - val_mse: 768.0501\n",
            "Epoch 11/100\n",
            "4/4 [==============================] - 0s 14ms/step - loss: 3074.0149 - mae: 35.5609 - mse: 3074.0149 - val_loss: 766.1086 - val_mae: 21.3836 - val_mse: 766.1086\n",
            "Epoch 12/100\n",
            "4/4 [==============================] - 0s 20ms/step - loss: 3065.0974 - mae: 35.6957 - mse: 3065.0974 - val_loss: 764.6743 - val_mae: 21.3764 - val_mse: 764.6743\n",
            "Epoch 13/100\n",
            "4/4 [==============================] - 0s 16ms/step - loss: 3043.1033 - mae: 35.4746 - mse: 3043.1033 - val_loss: 767.0505 - val_mae: 21.3958 - val_mse: 767.0505\n",
            "Epoch 14/100\n",
            "4/4 [==============================] - 0s 15ms/step - loss: 3041.8528 - mae: 35.4973 - mse: 3041.8528 - val_loss: 765.3748 - val_mae: 21.3804 - val_mse: 765.3748\n",
            "Epoch 15/100\n",
            "4/4 [==============================] - 0s 15ms/step - loss: 3024.8235 - mae: 35.4130 - mse: 3024.8235 - val_loss: 766.1920 - val_mae: 21.3875 - val_mse: 766.1920\n",
            "Epoch 16/100\n",
            "4/4 [==============================] - 0s 20ms/step - loss: 3016.5347 - mae: 35.3037 - mse: 3016.5347 - val_loss: 766.8354 - val_mae: 21.3944 - val_mse: 766.8354\n",
            "Epoch 17/100\n",
            "4/4 [==============================] - 0s 14ms/step - loss: 3006.0728 - mae: 35.2833 - mse: 3006.0728 - val_loss: 766.2849 - val_mae: 21.3861 - val_mse: 766.2849\n",
            "Epoch 18/100\n",
            "4/4 [==============================] - 0s 14ms/step - loss: 3002.0605 - mae: 35.3076 - mse: 3002.0605 - val_loss: 765.9448 - val_mae: 21.3812 - val_mse: 765.9448\n",
            "Epoch 19/100\n",
            "4/4 [==============================] - 0s 15ms/step - loss: 2992.6780 - mae: 35.2941 - mse: 2992.6780 - val_loss: 765.8436 - val_mae: 21.3800 - val_mse: 765.8436\n",
            "Epoch 20/100\n",
            "4/4 [==============================] - 0s 16ms/step - loss: 2987.3579 - mae: 35.2867 - mse: 2987.3579 - val_loss: 767.4703 - val_mae: 21.4022 - val_mse: 767.4703\n",
            "Epoch 21/100\n",
            "4/4 [==============================] - 0s 19ms/step - loss: 2978.2651 - mae: 35.2205 - mse: 2978.2651 - val_loss: 766.5483 - val_mae: 21.3897 - val_mse: 766.5483\n",
            "Epoch 22/100\n",
            "4/4 [==============================] - 0s 14ms/step - loss: 2973.9302 - mae: 35.3177 - mse: 2973.9302 - val_loss: 765.6508 - val_mae: 21.3793 - val_mse: 765.6508\n",
            "Epoch 23/100\n",
            "4/4 [==============================] - 0s 18ms/step - loss: 2964.9741 - mae: 35.2439 - mse: 2964.9741 - val_loss: 766.5085 - val_mae: 21.3936 - val_mse: 766.5085\n",
            "Epoch 24/100\n",
            "4/4 [==============================] - 0s 19ms/step - loss: 2965.0620 - mae: 35.1525 - mse: 2965.0620 - val_loss: 768.9864 - val_mae: 21.4283 - val_mse: 768.9864\n",
            "Epoch 25/100\n",
            "4/4 [==============================] - 0s 15ms/step - loss: 2956.4951 - mae: 35.0786 - mse: 2956.4951 - val_loss: 768.0312 - val_mae: 21.4185 - val_mse: 768.0311\n",
            "Epoch 26/100\n",
            "4/4 [==============================] - 0s 17ms/step - loss: 2950.0535 - mae: 35.1368 - mse: 2950.0535 - val_loss: 767.2296 - val_mae: 21.4087 - val_mse: 767.2296\n",
            "Epoch 27/100\n",
            "4/4 [==============================] - 0s 14ms/step - loss: 2945.3818 - mae: 35.1369 - mse: 2945.3818 - val_loss: 768.1169 - val_mae: 21.4226 - val_mse: 768.1169\n",
            "Epoch 28/100\n",
            "4/4 [==============================] - 0s 15ms/step - loss: 2951.8206 - mae: 35.0838 - mse: 2951.8206 - val_loss: 772.7621 - val_mae: 21.4844 - val_mse: 772.7621\n",
            "Epoch 29/100\n",
            "4/4 [==============================] - 0s 18ms/step - loss: 2939.3904 - mae: 34.9245 - mse: 2939.3904 - val_loss: 770.4174 - val_mae: 21.4605 - val_mse: 770.4174\n",
            "Epoch 30/100\n",
            "4/4 [==============================] - 0s 22ms/step - loss: 2932.3965 - mae: 34.9675 - mse: 2932.3965 - val_loss: 768.6547 - val_mae: 21.4409 - val_mse: 768.6547\n",
            "Epoch 31/100\n",
            "4/4 [==============================] - 0s 20ms/step - loss: 2927.9280 - mae: 35.0929 - mse: 2927.9280 - val_loss: 768.7903 - val_mae: 21.4456 - val_mse: 768.7903\n",
            "Epoch 32/100\n",
            "4/4 [==============================] - 0s 21ms/step - loss: 2922.9250 - mae: 34.9902 - mse: 2922.9250 - val_loss: 772.4498 - val_mae: 21.4968 - val_mse: 772.4498\n",
            "Epoch 33/100\n",
            "4/4 [==============================] - 0s 15ms/step - loss: 2915.0039 - mae: 34.8227 - mse: 2915.0039 - val_loss: 772.7618 - val_mae: 21.5029 - val_mse: 772.7618\n",
            "Epoch 34/100\n",
            "4/4 [==============================] - 0s 14ms/step - loss: 2915.7390 - mae: 34.8437 - mse: 2915.7390 - val_loss: 771.5934 - val_mae: 21.4897 - val_mse: 771.5934\n",
            "Epoch 35/100\n",
            "4/4 [==============================] - 0s 15ms/step - loss: 2904.4053 - mae: 34.7741 - mse: 2904.4053 - val_loss: 772.6783 - val_mae: 21.5045 - val_mse: 772.6783\n",
            "Epoch 36/100\n",
            "4/4 [==============================] - 0s 15ms/step - loss: 2917.8523 - mae: 34.7228 - mse: 2917.8523 - val_loss: 776.8646 - val_mae: 21.5558 - val_mse: 776.8646\n",
            "Epoch 37/100\n",
            "4/4 [==============================] - 0s 16ms/step - loss: 2905.5901 - mae: 34.7048 - mse: 2905.5901 - val_loss: 772.4682 - val_mae: 21.5089 - val_mse: 772.4682\n",
            "Epoch 38/100\n",
            "4/4 [==============================] - 0s 21ms/step - loss: 2898.8103 - mae: 34.8206 - mse: 2898.8103 - val_loss: 770.8887 - val_mae: 21.4899 - val_mse: 770.8887\n",
            "Epoch 39/100\n",
            "4/4 [==============================] - 0s 14ms/step - loss: 2896.6714 - mae: 34.8367 - mse: 2896.6714 - val_loss: 770.6319 - val_mae: 21.4873 - val_mse: 770.6319\n",
            "Epoch 40/100\n",
            "4/4 [==============================] - 0s 15ms/step - loss: 2886.0442 - mae: 34.7135 - mse: 2886.0442 - val_loss: 773.2014 - val_mae: 21.5217 - val_mse: 773.2014\n",
            "Epoch 41/100\n",
            "4/4 [==============================] - 0s 27ms/step - loss: 2881.3816 - mae: 34.5734 - mse: 2881.3816 - val_loss: 774.5535 - val_mae: 21.5383 - val_mse: 774.5535\n",
            "Epoch 42/100\n",
            "4/4 [==============================] - 0s 15ms/step - loss: 2881.0688 - mae: 34.5269 - mse: 2881.0688 - val_loss: 776.0051 - val_mae: 21.5561 - val_mse: 776.0051\n",
            "Epoch 43/100\n",
            "4/4 [==============================] - 0s 20ms/step - loss: 2884.8511 - mae: 34.4686 - mse: 2884.8511 - val_loss: 777.4809 - val_mae: 21.5716 - val_mse: 777.4809\n",
            "Epoch 44/100\n",
            "4/4 [==============================] - 0s 17ms/step - loss: 2872.7446 - mae: 34.4052 - mse: 2872.7446 - val_loss: 776.4487 - val_mae: 21.5620 - val_mse: 776.4487\n",
            "Epoch 45/100\n",
            "4/4 [==============================] - 0s 20ms/step - loss: 2874.3389 - mae: 34.5070 - mse: 2874.3389 - val_loss: 772.2205 - val_mae: 21.5139 - val_mse: 772.2205\n",
            "Epoch 46/100\n",
            "4/4 [==============================] - 0s 20ms/step - loss: 2867.1750 - mae: 34.5883 - mse: 2867.1750 - val_loss: 771.7294 - val_mae: 21.5092 - val_mse: 771.7294\n",
            "Epoch 47/100\n",
            "4/4 [==============================] - 0s 20ms/step - loss: 2860.7493 - mae: 34.5452 - mse: 2860.7493 - val_loss: 772.9742 - val_mae: 21.5266 - val_mse: 772.9742\n",
            "Epoch 48/100\n",
            "4/4 [==============================] - 0s 15ms/step - loss: 2857.6260 - mae: 34.4767 - mse: 2857.6260 - val_loss: 773.9399 - val_mae: 21.5407 - val_mse: 773.9399\n",
            "Epoch 49/100\n",
            "4/4 [==============================] - 0s 17ms/step - loss: 2858.6931 - mae: 34.4021 - mse: 2858.6931 - val_loss: 775.0590 - val_mae: 21.5546 - val_mse: 775.0590\n",
            "Epoch 50/100\n",
            "4/4 [==============================] - 0s 19ms/step - loss: 2849.0759 - mae: 34.3303 - mse: 2849.0759 - val_loss: 775.5945 - val_mae: 21.5626 - val_mse: 775.5945\n",
            "Epoch 51/100\n",
            "4/4 [==============================] - 0s 14ms/step - loss: 2847.5308 - mae: 34.2731 - mse: 2847.5308 - val_loss: 778.0304 - val_mae: 21.5932 - val_mse: 778.0304\n",
            "Epoch 52/100\n",
            "4/4 [==============================] - 0s 21ms/step - loss: 2840.8760 - mae: 34.2194 - mse: 2840.8760 - val_loss: 776.4124 - val_mae: 21.5777 - val_mse: 776.4125\n",
            "Epoch 53/100\n",
            "4/4 [==============================] - 0s 14ms/step - loss: 2840.3423 - mae: 34.2188 - mse: 2840.3423 - val_loss: 775.9119 - val_mae: 21.5737 - val_mse: 775.9118\n",
            "Epoch 54/100\n",
            "4/4 [==============================] - 0s 15ms/step - loss: 2833.1631 - mae: 34.2126 - mse: 2833.1631 - val_loss: 774.2594 - val_mae: 21.5576 - val_mse: 774.2594\n",
            "Epoch 55/100\n",
            "4/4 [==============================] - 0s 14ms/step - loss: 2836.6011 - mae: 34.1718 - mse: 2836.6011 - val_loss: 776.9583 - val_mae: 21.5904 - val_mse: 776.9583\n",
            "Epoch 56/100\n",
            "4/4 [==============================] - 0s 16ms/step - loss: 2825.4143 - mae: 34.1538 - mse: 2825.4143 - val_loss: 774.0059 - val_mae: 21.5592 - val_mse: 774.0059\n",
            "Epoch 57/100\n",
            "4/4 [==============================] - 0s 16ms/step - loss: 2822.7876 - mae: 34.1640 - mse: 2822.7876 - val_loss: 775.6001 - val_mae: 21.5799 - val_mse: 775.6001\n",
            "Epoch 58/100\n",
            "4/4 [==============================] - 0s 15ms/step - loss: 2818.5173 - mae: 34.0481 - mse: 2818.5173 - val_loss: 775.8872 - val_mae: 21.5855 - val_mse: 775.8872\n",
            "Epoch 59/100\n",
            "4/4 [==============================] - 0s 21ms/step - loss: 2815.7058 - mae: 34.0489 - mse: 2815.7058 - val_loss: 774.4436 - val_mae: 21.5711 - val_mse: 774.4436\n",
            "Epoch 60/100\n",
            "4/4 [==============================] - 0s 22ms/step - loss: 2808.6204 - mae: 34.0306 - mse: 2808.6204 - val_loss: 774.1853 - val_mae: 21.5704 - val_mse: 774.1853\n",
            "Epoch 61/100\n",
            "4/4 [==============================] - 0s 15ms/step - loss: 2819.8701 - mae: 34.0624 - mse: 2819.8701 - val_loss: 779.5625 - val_mae: 21.6333 - val_mse: 779.5625\n",
            "Epoch 62/100\n",
            "4/4 [==============================] - 0s 14ms/step - loss: 2802.2195 - mae: 33.8892 - mse: 2802.2195 - val_loss: 776.5125 - val_mae: 21.6019 - val_mse: 776.5125\n",
            "Epoch 63/100\n",
            "4/4 [==============================] - 0s 15ms/step - loss: 2795.6614 - mae: 33.8876 - mse: 2795.6614 - val_loss: 775.6863 - val_mae: 21.5943 - val_mse: 775.6863\n",
            "Epoch 64/100\n",
            "4/4 [==============================] - 0s 15ms/step - loss: 2791.9885 - mae: 33.8894 - mse: 2791.9885 - val_loss: 776.0765 - val_mae: 21.6006 - val_mse: 776.0765\n",
            "Epoch 65/100\n",
            "4/4 [==============================] - 0s 15ms/step - loss: 2795.1284 - mae: 33.8459 - mse: 2795.1284 - val_loss: 779.6596 - val_mae: 21.6422 - val_mse: 779.6597\n",
            "Epoch 66/100\n",
            "4/4 [==============================] - 0s 15ms/step - loss: 2785.2634 - mae: 33.7767 - mse: 2785.2634 - val_loss: 777.6954 - val_mae: 21.6228 - val_mse: 777.6954\n",
            "Epoch 67/100\n",
            "4/4 [==============================] - 0s 19ms/step - loss: 2794.0283 - mae: 33.8635 - mse: 2794.0283 - val_loss: 774.6102 - val_mae: 21.5893 - val_mse: 774.6102\n",
            "Epoch 68/100\n",
            "4/4 [==============================] - 0s 15ms/step - loss: 2776.9092 - mae: 33.8488 - mse: 2776.9092 - val_loss: 775.9910 - val_mae: 21.6067 - val_mse: 775.9910\n",
            "Epoch 69/100\n",
            "4/4 [==============================] - 0s 15ms/step - loss: 2773.2725 - mae: 33.7265 - mse: 2773.2725 - val_loss: 779.6207 - val_mae: 21.6503 - val_mse: 779.6207\n",
            "Epoch 70/100\n",
            "4/4 [==============================] - 0s 20ms/step - loss: 2770.5720 - mae: 33.6193 - mse: 2770.5720 - val_loss: 782.0976 - val_mae: 21.6792 - val_mse: 782.0976\n",
            "Epoch 71/100\n",
            "4/4 [==============================] - 0s 20ms/step - loss: 2775.9607 - mae: 33.5900 - mse: 2775.9607 - val_loss: 782.2825 - val_mae: 21.6839 - val_mse: 782.2825\n",
            "Epoch 72/100\n",
            "4/4 [==============================] - 0s 21ms/step - loss: 2762.5342 - mae: 33.5715 - mse: 2762.5342 - val_loss: 779.2487 - val_mae: 21.6547 - val_mse: 779.2487\n",
            "Epoch 73/100\n",
            "4/4 [==============================] - 0s 16ms/step - loss: 2757.3333 - mae: 33.5641 - mse: 2757.3333 - val_loss: 778.3423 - val_mae: 21.6452 - val_mse: 778.3423\n",
            "Epoch 74/100\n",
            "4/4 [==============================] - 0s 20ms/step - loss: 2755.0276 - mae: 33.5480 - mse: 2755.0276 - val_loss: 777.7131 - val_mae: 21.6406 - val_mse: 777.7131\n",
            "Epoch 75/100\n",
            "4/4 [==============================] - 0s 15ms/step - loss: 2752.9121 - mae: 33.5698 - mse: 2752.9121 - val_loss: 776.4258 - val_mae: 21.6259 - val_mse: 776.4258\n",
            "Epoch 76/100\n",
            "4/4 [==============================] - 0s 15ms/step - loss: 2755.1853 - mae: 33.6601 - mse: 2755.1853 - val_loss: 780.8918 - val_mae: 21.6789 - val_mse: 780.8918\n",
            "Epoch 77/100\n",
            "4/4 [==============================] - 0s 15ms/step - loss: 2745.2214 - mae: 33.4361 - mse: 2745.2214 - val_loss: 779.5278 - val_mae: 21.6669 - val_mse: 779.5278\n",
            "Epoch 78/100\n",
            "4/4 [==============================] - 0s 20ms/step - loss: 2754.8760 - mae: 33.6127 - mse: 2754.8760 - val_loss: 776.2835 - val_mae: 21.6322 - val_mse: 776.2835\n",
            "Epoch 79/100\n",
            "4/4 [==============================] - 0s 15ms/step - loss: 2737.7590 - mae: 33.4626 - mse: 2737.7590 - val_loss: 778.7502 - val_mae: 21.6624 - val_mse: 778.7502\n",
            "Epoch 80/100\n",
            "4/4 [==============================] - 0s 15ms/step - loss: 2735.6597 - mae: 33.4400 - mse: 2735.6597 - val_loss: 779.6316 - val_mae: 21.6739 - val_mse: 779.6316\n",
            "Epoch 81/100\n",
            "4/4 [==============================] - 0s 19ms/step - loss: 2733.5266 - mae: 33.3645 - mse: 2733.5266 - val_loss: 782.9572 - val_mae: 21.7111 - val_mse: 782.9572\n",
            "Epoch 82/100\n",
            "4/4 [==============================] - 0s 17ms/step - loss: 2728.3774 - mae: 33.2413 - mse: 2728.3774 - val_loss: 782.9128 - val_mae: 21.7136 - val_mse: 782.9128\n",
            "Epoch 83/100\n",
            "4/4 [==============================] - 0s 15ms/step - loss: 2728.3169 - mae: 33.2485 - mse: 2728.3169 - val_loss: 783.0623 - val_mae: 21.7198 - val_mse: 783.0623\n",
            "Epoch 84/100\n",
            "4/4 [==============================] - 0s 15ms/step - loss: 2731.6880 - mae: 33.3558 - mse: 2731.6880 - val_loss: 777.0911 - val_mae: 21.6545 - val_mse: 777.0911\n",
            "Epoch 85/100\n",
            "4/4 [==============================] - 0s 15ms/step - loss: 2721.0217 - mae: 33.3690 - mse: 2721.0217 - val_loss: 777.8498 - val_mae: 21.6652 - val_mse: 777.8498\n",
            "Epoch 86/100\n",
            "4/4 [==============================] - 0s 18ms/step - loss: 2723.9128 - mae: 33.3627 - mse: 2723.9128 - val_loss: 780.9681 - val_mae: 21.7008 - val_mse: 780.9681\n",
            "Epoch 87/100\n",
            "4/4 [==============================] - 0s 15ms/step - loss: 2715.7922 - mae: 33.2248 - mse: 2715.7922 - val_loss: 783.3226 - val_mae: 21.7268 - val_mse: 783.3226\n",
            "Epoch 88/100\n",
            "4/4 [==============================] - 0s 15ms/step - loss: 2708.6150 - mae: 33.1294 - mse: 2708.6150 - val_loss: 783.3474 - val_mae: 21.7298 - val_mse: 783.3474\n",
            "Epoch 89/100\n",
            "4/4 [==============================] - 0s 15ms/step - loss: 2717.4961 - mae: 33.1930 - mse: 2717.4961 - val_loss: 778.1972 - val_mae: 21.6766 - val_mse: 778.1972\n",
            "Epoch 90/100\n",
            "4/4 [==============================] - 0s 15ms/step - loss: 2703.4346 - mae: 33.2145 - mse: 2703.4346 - val_loss: 780.2470 - val_mae: 21.7016 - val_mse: 780.2470\n",
            "Epoch 91/100\n",
            "4/4 [==============================] - 0s 14ms/step - loss: 2702.0249 - mae: 33.1496 - mse: 2702.0249 - val_loss: 779.4876 - val_mae: 21.6936 - val_mse: 779.4876\n",
            "Epoch 92/100\n",
            "4/4 [==============================] - 0s 15ms/step - loss: 2695.0110 - mae: 33.0900 - mse: 2695.0110 - val_loss: 782.8204 - val_mae: 21.7316 - val_mse: 782.8204\n",
            "Epoch 93/100\n",
            "4/4 [==============================] - 0s 15ms/step - loss: 2693.4683 - mae: 33.0662 - mse: 2693.4683 - val_loss: 785.3999 - val_mae: 21.7593 - val_mse: 785.3999\n",
            "Epoch 94/100\n",
            "4/4 [==============================] - 0s 15ms/step - loss: 2706.1235 - mae: 33.1282 - mse: 2706.1235 - val_loss: 780.6592 - val_mae: 21.7102 - val_mse: 780.6592\n",
            "Epoch 95/100\n",
            "4/4 [==============================] - 0s 16ms/step - loss: 2687.8462 - mae: 33.0327 - mse: 2687.8462 - val_loss: 780.9294 - val_mae: 21.7152 - val_mse: 780.9294\n",
            "Epoch 96/100\n",
            "4/4 [==============================] - 0s 15ms/step - loss: 2680.2798 - mae: 32.9681 - mse: 2680.2798 - val_loss: 783.2797 - val_mae: 21.7427 - val_mse: 783.2797\n",
            "Epoch 97/100\n",
            "4/4 [==============================] - 0s 16ms/step - loss: 2677.9170 - mae: 32.9402 - mse: 2677.9170 - val_loss: 786.3955 - val_mae: 21.7764 - val_mse: 786.3955\n",
            "Epoch 98/100\n",
            "4/4 [==============================] - 0s 20ms/step - loss: 2679.4124 - mae: 32.8849 - mse: 2679.4124 - val_loss: 787.6890 - val_mae: 21.7902 - val_mse: 787.6890\n",
            "Epoch 99/100\n",
            "4/4 [==============================] - 0s 15ms/step - loss: 2674.4441 - mae: 32.8452 - mse: 2674.4441 - val_loss: 783.3621 - val_mae: 21.7484 - val_mse: 783.3621\n",
            "Epoch 100/100\n",
            "4/4 [==============================] - 0s 21ms/step - loss: 2670.0403 - mae: 32.9236 - mse: 2670.0405 - val_loss: 782.3768 - val_mae: 21.7379 - val_mse: 782.3768\n"
          ]
        }
      ]
    },
    {
      "cell_type": "markdown",
      "source": [
        "LSTM+GRU"
      ],
      "metadata": {
        "id": "5TW_EAhE-iWs"
      }
    },
    {
      "cell_type": "code",
      "source": [
        "i=Input(shape=(T,1))\n",
        "x=LSTM(200,return_sequences=True)(i)\n",
        "x=LSTM(200,return_sequences=True)(x)\n",
        "x=Dense(100)(x)\n",
        "x=Dense(50)(x)\n",
        "x=GRU(200,return_sequences=True)(x)\n",
        "x=GRU(200,return_sequences=True)(x)\n",
        "x=GlobalMaxPool1D()(x)\n",
        "x=Dense(100)(x)\n",
        "x=Dense(50)(x)\n",
        "x=Dense(1)(x)\n",
        "model_lstm_gru=Model(i,x)\n",
        "model_lstm_gru.summary()"
      ],
      "metadata": {
        "colab": {
          "base_uri": "https://localhost:8080/"
        },
        "id": "5MFW_hNA-UIb",
        "outputId": "ed4a9e06-a3d1-4360-ff45-20fc5c98a2ca"
      },
      "execution_count": 262,
      "outputs": [
        {
          "output_type": "stream",
          "name": "stdout",
          "text": [
            "Model: \"model_14\"\n",
            "_________________________________________________________________\n",
            " Layer (type)                Output Shape              Param #   \n",
            "=================================================================\n",
            " input_15 (InputLayer)       [(None, 50, 1)]           0         \n",
            "                                                                 \n",
            " lstm_28 (LSTM)              (None, 50, 200)           161600    \n",
            "                                                                 \n",
            " lstm_29 (LSTM)              (None, 50, 200)           320800    \n",
            "                                                                 \n",
            " dense_56 (Dense)            (None, 50, 100)           20100     \n",
            "                                                                 \n",
            " dense_57 (Dense)            (None, 50, 50)            5050      \n",
            "                                                                 \n",
            " gru_14 (GRU)                (None, 50, 200)           151200    \n",
            "                                                                 \n",
            " gru_15 (GRU)                (None, 50, 200)           241200    \n",
            "                                                                 \n",
            " global_max_pooling1d_14 (Gl  (None, 200)              0         \n",
            " obalMaxPooling1D)                                               \n",
            "                                                                 \n",
            " dense_58 (Dense)            (None, 100)               20100     \n",
            "                                                                 \n",
            " dense_59 (Dense)            (None, 50)                5050      \n",
            "                                                                 \n",
            " dense_60 (Dense)            (None, 1)                 51        \n",
            "                                                                 \n",
            "=================================================================\n",
            "Total params: 925,151\n",
            "Trainable params: 925,151\n",
            "Non-trainable params: 0\n",
            "_________________________________________________________________\n"
          ]
        }
      ]
    },
    {
      "cell_type": "code",
      "source": [
        "check_point_lstm_gru=ModelCheckpoint('best_model.h5',monitor='val_loss',save_best_only=True)"
      ],
      "metadata": {
        "id": "bPn2IlMx-pP6"
      },
      "execution_count": 263,
      "outputs": []
    },
    {
      "cell_type": "code",
      "source": [
        "model_lstm_gru.compile(loss='mse',\n",
        "              optimizer='adamax',\n",
        "              metrics=['mae','mse'])"
      ],
      "metadata": {
        "id": "s2W9B-lL-5VS"
      },
      "execution_count": 264,
      "outputs": []
    },
    {
      "cell_type": "code",
      "source": [
        "r=model_lstm_gru.fit(\n",
        "    Xtrain,\n",
        "    Ytrain,\n",
        "    epochs=100,\n",
        "    validation_data=(Xtest,Ytest),\n",
        "    callbacks=[check_point_lstm_gru]\n",
        ")"
      ],
      "metadata": {
        "colab": {
          "base_uri": "https://localhost:8080/"
        },
        "id": "tSfqgZ2w-8KI",
        "outputId": "4fd2d967-217f-4c41-e44a-cd9506a38055"
      },
      "execution_count": 265,
      "outputs": [
        {
          "output_type": "stream",
          "name": "stdout",
          "text": [
            "Epoch 1/100\n",
            "4/4 [==============================] - 12s 1s/step - loss: 3214.0042 - mae: 36.7605 - mse: 3214.0042 - val_loss: 745.5524 - val_mae: 21.1926 - val_mse: 745.5524\n",
            "Epoch 2/100\n",
            "4/4 [==============================] - 2s 632ms/step - loss: 3212.4102 - mae: 36.8538 - mse: 3212.4102 - val_loss: 743.9487 - val_mae: 21.1825 - val_mse: 743.9487\n",
            "Epoch 3/100\n",
            "4/4 [==============================] - 2s 609ms/step - loss: 3210.5347 - mae: 36.7874 - mse: 3210.5347 - val_loss: 747.2246 - val_mae: 21.2021 - val_mse: 747.2246\n",
            "Epoch 4/100\n",
            "4/4 [==============================] - 2s 606ms/step - loss: 3210.4827 - mae: 36.7933 - mse: 3210.4827 - val_loss: 746.4712 - val_mae: 21.1984 - val_mse: 746.4712\n",
            "Epoch 5/100\n",
            "4/4 [==============================] - 2s 614ms/step - loss: 3208.2976 - mae: 36.7800 - mse: 3208.2976 - val_loss: 747.0168 - val_mae: 21.2023 - val_mse: 747.0168\n",
            "Epoch 6/100\n",
            "4/4 [==============================] - 2s 621ms/step - loss: 3206.2937 - mae: 36.7748 - mse: 3206.2937 - val_loss: 746.8536 - val_mae: 21.1982 - val_mse: 746.8536\n",
            "Epoch 7/100\n",
            "4/4 [==============================] - 2s 624ms/step - loss: 3204.1184 - mae: 36.7849 - mse: 3204.1184 - val_loss: 747.7594 - val_mae: 21.2036 - val_mse: 747.7594\n",
            "Epoch 8/100\n",
            "4/4 [==============================] - 2s 622ms/step - loss: 3207.0671 - mae: 36.8696 - mse: 3207.0671 - val_loss: 745.9078 - val_mae: 21.1975 - val_mse: 745.9078\n",
            "Epoch 9/100\n",
            "4/4 [==============================] - 2s 624ms/step - loss: 3200.0154 - mae: 36.9049 - mse: 3200.0154 - val_loss: 747.2692 - val_mae: 21.2151 - val_mse: 747.2692\n",
            "Epoch 10/100\n",
            "4/4 [==============================] - 2s 636ms/step - loss: 3204.1223 - mae: 36.8302 - mse: 3204.1223 - val_loss: 749.3917 - val_mae: 21.2089 - val_mse: 749.3917\n",
            "Epoch 11/100\n",
            "4/4 [==============================] - 2s 619ms/step - loss: 3199.5205 - mae: 36.7549 - mse: 3199.5205 - val_loss: 748.4703 - val_mae: 21.1871 - val_mse: 748.4703\n",
            "Epoch 12/100\n",
            "4/4 [==============================] - 2s 634ms/step - loss: 3196.1716 - mae: 36.7962 - mse: 3196.1716 - val_loss: 746.8542 - val_mae: 21.1540 - val_mse: 746.8542\n",
            "Epoch 13/100\n",
            "4/4 [==============================] - 2s 604ms/step - loss: 3187.4963 - mae: 36.7051 - mse: 3187.4963 - val_loss: 749.3586 - val_mae: 21.1696 - val_mse: 749.3586\n",
            "Epoch 14/100\n",
            "4/4 [==============================] - 2s 617ms/step - loss: 3184.7717 - mae: 36.6941 - mse: 3184.7717 - val_loss: 748.7321 - val_mae: 21.1484 - val_mse: 748.7321\n",
            "Epoch 15/100\n",
            "4/4 [==============================] - 2s 622ms/step - loss: 3175.5996 - mae: 36.5807 - mse: 3175.5996 - val_loss: 751.7348 - val_mae: 21.1080 - val_mse: 751.7348\n",
            "Epoch 16/100\n",
            "4/4 [==============================] - 2s 613ms/step - loss: 3165.8186 - mae: 36.4008 - mse: 3165.8186 - val_loss: 753.1243 - val_mae: 21.0497 - val_mse: 753.1243\n",
            "Epoch 17/100\n",
            "4/4 [==============================] - 2s 606ms/step - loss: 3151.7048 - mae: 36.2026 - mse: 3151.7048 - val_loss: 758.5897 - val_mae: 21.0037 - val_mse: 758.5897\n",
            "Epoch 18/100\n",
            "4/4 [==============================] - 2s 612ms/step - loss: 3143.9929 - mae: 36.1285 - mse: 3143.9929 - val_loss: 763.7026 - val_mae: 21.0615 - val_mse: 763.7026\n",
            "Epoch 19/100\n",
            "4/4 [==============================] - 2s 622ms/step - loss: 3128.0591 - mae: 36.0543 - mse: 3128.0591 - val_loss: 773.7264 - val_mae: 21.1419 - val_mse: 773.7264\n",
            "Epoch 20/100\n",
            "4/4 [==============================] - 2s 614ms/step - loss: 3108.8674 - mae: 35.9479 - mse: 3108.8674 - val_loss: 791.1937 - val_mae: 21.3008 - val_mse: 791.1937\n",
            "Epoch 21/100\n",
            "4/4 [==============================] - 2s 599ms/step - loss: 3083.7029 - mae: 35.5217 - mse: 3083.7029 - val_loss: 794.4006 - val_mae: 21.3173 - val_mse: 794.4006\n",
            "Epoch 22/100\n",
            "4/4 [==============================] - 2s 606ms/step - loss: 3066.6504 - mae: 35.5345 - mse: 3066.6504 - val_loss: 802.7144 - val_mae: 21.3333 - val_mse: 802.7144\n",
            "Epoch 23/100\n",
            "4/4 [==============================] - 2s 616ms/step - loss: 3036.6853 - mae: 35.3308 - mse: 3036.6853 - val_loss: 817.1187 - val_mae: 21.6211 - val_mse: 817.1187\n",
            "Epoch 24/100\n",
            "4/4 [==============================] - 2s 606ms/step - loss: 3021.0723 - mae: 34.7296 - mse: 3021.0723 - val_loss: 858.1678 - val_mae: 22.5441 - val_mse: 858.1678\n",
            "Epoch 25/100\n",
            "4/4 [==============================] - 2s 619ms/step - loss: 3016.6233 - mae: 34.5385 - mse: 3016.6233 - val_loss: 873.5755 - val_mae: 22.4495 - val_mse: 873.5755\n",
            "Epoch 26/100\n",
            "4/4 [==============================] - 2s 622ms/step - loss: 3000.0818 - mae: 34.8525 - mse: 3000.0818 - val_loss: 863.0348 - val_mae: 22.3315 - val_mse: 863.0348\n",
            "Epoch 27/100\n",
            "4/4 [==============================] - 2s 615ms/step - loss: 2988.3948 - mae: 34.6237 - mse: 2988.3948 - val_loss: 834.4874 - val_mae: 22.2380 - val_mse: 834.4874\n",
            "Epoch 28/100\n",
            "4/4 [==============================] - 2s 615ms/step - loss: 2980.4153 - mae: 34.4765 - mse: 2980.4153 - val_loss: 890.7726 - val_mae: 22.5118 - val_mse: 890.7726\n",
            "Epoch 29/100\n",
            "4/4 [==============================] - 2s 619ms/step - loss: 2978.0408 - mae: 34.4415 - mse: 2978.0408 - val_loss: 938.0627 - val_mae: 23.3432 - val_mse: 938.0627\n",
            "Epoch 30/100\n",
            "4/4 [==============================] - 2s 611ms/step - loss: 2939.6006 - mae: 34.4293 - mse: 2939.6006 - val_loss: 906.4904 - val_mae: 22.8558 - val_mse: 906.4904\n",
            "Epoch 31/100\n",
            "4/4 [==============================] - 2s 614ms/step - loss: 2913.4033 - mae: 33.7702 - mse: 2913.4033 - val_loss: 877.6795 - val_mae: 23.2354 - val_mse: 877.6795\n",
            "Epoch 32/100\n",
            "4/4 [==============================] - 2s 616ms/step - loss: 2907.4712 - mae: 33.8051 - mse: 2907.4712 - val_loss: 894.8151 - val_mae: 22.7275 - val_mse: 894.8151\n",
            "Epoch 33/100\n",
            "4/4 [==============================] - 2s 618ms/step - loss: 2932.4712 - mae: 33.9725 - mse: 2932.4712 - val_loss: 943.9487 - val_mae: 23.8042 - val_mse: 943.9487\n",
            "Epoch 34/100\n",
            "4/4 [==============================] - 2s 605ms/step - loss: 2886.5889 - mae: 33.9677 - mse: 2886.5889 - val_loss: 930.0405 - val_mae: 23.6795 - val_mse: 930.0405\n",
            "Epoch 35/100\n",
            "4/4 [==============================] - 2s 602ms/step - loss: 2892.2515 - mae: 33.9203 - mse: 2892.2515 - val_loss: 926.3196 - val_mae: 22.8381 - val_mse: 926.3196\n",
            "Epoch 36/100\n",
            "4/4 [==============================] - 2s 607ms/step - loss: 2907.8870 - mae: 33.5195 - mse: 2907.8870 - val_loss: 927.8632 - val_mae: 23.0558 - val_mse: 927.8632\n",
            "Epoch 37/100\n",
            "4/4 [==============================] - 2s 618ms/step - loss: 2862.8269 - mae: 33.1445 - mse: 2862.8269 - val_loss: 919.9947 - val_mae: 23.0819 - val_mse: 919.9947\n",
            "Epoch 38/100\n",
            "4/4 [==============================] - 2s 606ms/step - loss: 2843.5635 - mae: 33.3379 - mse: 2843.5635 - val_loss: 922.0165 - val_mae: 23.2906 - val_mse: 922.0165\n",
            "Epoch 39/100\n",
            "4/4 [==============================] - 2s 606ms/step - loss: 2820.7412 - mae: 33.4255 - mse: 2820.7412 - val_loss: 939.4313 - val_mae: 23.7016 - val_mse: 939.4313\n",
            "Epoch 40/100\n",
            "4/4 [==============================] - 2s 606ms/step - loss: 2817.0872 - mae: 33.3329 - mse: 2817.0872 - val_loss: 981.4829 - val_mae: 24.4520 - val_mse: 981.4829\n",
            "Epoch 41/100\n",
            "4/4 [==============================] - 2s 606ms/step - loss: 2817.3188 - mae: 33.3174 - mse: 2817.3188 - val_loss: 971.0311 - val_mae: 24.4802 - val_mse: 971.0311\n",
            "Epoch 42/100\n",
            "4/4 [==============================] - 2s 615ms/step - loss: 2796.2649 - mae: 32.9050 - mse: 2796.2649 - val_loss: 906.1465 - val_mae: 23.0215 - val_mse: 906.1465\n",
            "Epoch 43/100\n",
            "4/4 [==============================] - 2s 603ms/step - loss: 2783.3086 - mae: 32.8229 - mse: 2783.3086 - val_loss: 987.2670 - val_mae: 24.0313 - val_mse: 987.2670\n",
            "Epoch 44/100\n",
            "4/4 [==============================] - 2s 617ms/step - loss: 2761.4475 - mae: 32.6458 - mse: 2761.4475 - val_loss: 1024.0491 - val_mae: 25.0221 - val_mse: 1024.0491\n",
            "Epoch 45/100\n",
            "4/4 [==============================] - 2s 612ms/step - loss: 2759.4846 - mae: 32.8570 - mse: 2759.4846 - val_loss: 933.5964 - val_mae: 23.3813 - val_mse: 933.5964\n",
            "Epoch 46/100\n",
            "4/4 [==============================] - 2s 624ms/step - loss: 2741.8262 - mae: 32.8817 - mse: 2741.8262 - val_loss: 994.1500 - val_mae: 24.7642 - val_mse: 994.1500\n",
            "Epoch 47/100\n",
            "4/4 [==============================] - 2s 615ms/step - loss: 2731.1616 - mae: 32.5549 - mse: 2731.1616 - val_loss: 991.6165 - val_mae: 24.0668 - val_mse: 991.6165\n",
            "Epoch 48/100\n",
            "4/4 [==============================] - 2s 611ms/step - loss: 2712.9443 - mae: 32.2819 - mse: 2712.9443 - val_loss: 1111.4221 - val_mae: 26.2256 - val_mse: 1111.4221\n",
            "Epoch 49/100\n",
            "4/4 [==============================] - 2s 605ms/step - loss: 2733.8560 - mae: 32.6499 - mse: 2733.8560 - val_loss: 1042.2728 - val_mae: 25.1360 - val_mse: 1042.2728\n",
            "Epoch 50/100\n",
            "4/4 [==============================] - 2s 620ms/step - loss: 2680.0864 - mae: 32.0358 - mse: 2680.0864 - val_loss: 969.4773 - val_mae: 24.5416 - val_mse: 969.4773\n",
            "Epoch 51/100\n",
            "4/4 [==============================] - 2s 623ms/step - loss: 2694.0461 - mae: 32.3828 - mse: 2694.0461 - val_loss: 998.1199 - val_mae: 24.8350 - val_mse: 998.1199\n",
            "Epoch 52/100\n",
            "4/4 [==============================] - 2s 613ms/step - loss: 2656.4734 - mae: 31.9586 - mse: 2656.4734 - val_loss: 1027.2543 - val_mae: 25.2450 - val_mse: 1027.2543\n",
            "Epoch 53/100\n",
            "4/4 [==============================] - 2s 618ms/step - loss: 2648.4058 - mae: 32.1062 - mse: 2648.4058 - val_loss: 993.3367 - val_mae: 24.4136 - val_mse: 993.3367\n",
            "Epoch 54/100\n",
            "4/4 [==============================] - 2s 611ms/step - loss: 2659.1274 - mae: 31.8964 - mse: 2659.1274 - val_loss: 991.7250 - val_mae: 24.5578 - val_mse: 991.7250\n",
            "Epoch 55/100\n",
            "4/4 [==============================] - 2s 621ms/step - loss: 2651.0654 - mae: 31.6923 - mse: 2651.0654 - val_loss: 1003.4916 - val_mae: 24.4067 - val_mse: 1003.4916\n",
            "Epoch 56/100\n",
            "4/4 [==============================] - 2s 611ms/step - loss: 2601.2671 - mae: 31.5530 - mse: 2601.2671 - val_loss: 1069.8596 - val_mae: 25.6690 - val_mse: 1069.8596\n",
            "Epoch 57/100\n",
            "4/4 [==============================] - 2s 608ms/step - loss: 2608.6284 - mae: 31.8571 - mse: 2608.6284 - val_loss: 1046.9938 - val_mae: 25.1357 - val_mse: 1046.9938\n",
            "Epoch 58/100\n",
            "4/4 [==============================] - 2s 618ms/step - loss: 2654.2485 - mae: 31.9315 - mse: 2654.2485 - val_loss: 1046.2781 - val_mae: 25.6176 - val_mse: 1046.2781\n",
            "Epoch 59/100\n",
            "4/4 [==============================] - 2s 607ms/step - loss: 2589.3596 - mae: 31.5950 - mse: 2589.3596 - val_loss: 1032.6166 - val_mae: 25.5158 - val_mse: 1032.6166\n",
            "Epoch 60/100\n",
            "4/4 [==============================] - 2s 615ms/step - loss: 2590.8245 - mae: 32.0952 - mse: 2590.8245 - val_loss: 1027.3724 - val_mae: 25.2208 - val_mse: 1027.3724\n",
            "Epoch 61/100\n",
            "4/4 [==============================] - 2s 622ms/step - loss: 2638.6912 - mae: 32.2312 - mse: 2638.6912 - val_loss: 1009.9360 - val_mae: 23.9247 - val_mse: 1009.9360\n",
            "Epoch 62/100\n",
            "4/4 [==============================] - 2s 606ms/step - loss: 2579.5532 - mae: 31.5313 - mse: 2579.5532 - val_loss: 1064.6387 - val_mae: 25.8311 - val_mse: 1064.6387\n",
            "Epoch 63/100\n",
            "4/4 [==============================] - 2s 601ms/step - loss: 2578.2104 - mae: 31.8164 - mse: 2578.2104 - val_loss: 1118.2363 - val_mae: 26.2697 - val_mse: 1118.2363\n",
            "Epoch 64/100\n",
            "4/4 [==============================] - 2s 620ms/step - loss: 2563.1289 - mae: 32.1214 - mse: 2563.1289 - val_loss: 1089.4130 - val_mae: 25.6257 - val_mse: 1089.4130\n",
            "Epoch 65/100\n",
            "4/4 [==============================] - 2s 614ms/step - loss: 2550.0325 - mae: 31.3779 - mse: 2550.0325 - val_loss: 1111.0243 - val_mae: 26.0840 - val_mse: 1111.0243\n",
            "Epoch 66/100\n",
            "4/4 [==============================] - 2s 614ms/step - loss: 2569.4778 - mae: 31.7563 - mse: 2569.4778 - val_loss: 1094.4952 - val_mae: 26.1954 - val_mse: 1094.4952\n",
            "Epoch 67/100\n",
            "4/4 [==============================] - 2s 612ms/step - loss: 2575.2219 - mae: 31.9827 - mse: 2575.2219 - val_loss: 1019.3162 - val_mae: 25.3643 - val_mse: 1019.3162\n",
            "Epoch 68/100\n",
            "4/4 [==============================] - 2s 627ms/step - loss: 2551.9250 - mae: 30.9770 - mse: 2551.9250 - val_loss: 1131.5908 - val_mae: 26.6144 - val_mse: 1131.5908\n",
            "Epoch 69/100\n",
            "4/4 [==============================] - 2s 619ms/step - loss: 2562.8496 - mae: 31.2318 - mse: 2562.8496 - val_loss: 1093.4680 - val_mae: 25.9606 - val_mse: 1093.4680\n",
            "Epoch 70/100\n",
            "4/4 [==============================] - 2s 610ms/step - loss: 2492.1370 - mae: 30.9821 - mse: 2492.1370 - val_loss: 1163.7672 - val_mae: 27.2293 - val_mse: 1163.7672\n",
            "Epoch 71/100\n",
            "4/4 [==============================] - 2s 620ms/step - loss: 2561.7683 - mae: 31.9034 - mse: 2561.7683 - val_loss: 1195.7334 - val_mae: 27.6189 - val_mse: 1195.7334\n",
            "Epoch 72/100\n",
            "4/4 [==============================] - 2s 602ms/step - loss: 2575.5371 - mae: 31.8369 - mse: 2575.5371 - val_loss: 1162.9897 - val_mae: 27.1219 - val_mse: 1162.9897\n",
            "Epoch 73/100\n",
            "4/4 [==============================] - 2s 605ms/step - loss: 2463.7217 - mae: 30.6959 - mse: 2463.7217 - val_loss: 1239.2037 - val_mae: 28.4954 - val_mse: 1239.2037\n",
            "Epoch 74/100\n",
            "4/4 [==============================] - 2s 604ms/step - loss: 2458.3906 - mae: 30.5841 - mse: 2458.3906 - val_loss: 1191.6072 - val_mae: 27.3949 - val_mse: 1191.6072\n",
            "Epoch 75/100\n",
            "4/4 [==============================] - 2s 606ms/step - loss: 2423.9702 - mae: 30.7470 - mse: 2423.9702 - val_loss: 1190.6222 - val_mae: 27.5713 - val_mse: 1190.6222\n",
            "Epoch 76/100\n",
            "4/4 [==============================] - 2s 609ms/step - loss: 2436.7969 - mae: 30.8281 - mse: 2436.7969 - val_loss: 1222.2424 - val_mae: 28.4645 - val_mse: 1222.2424\n",
            "Epoch 77/100\n",
            "4/4 [==============================] - 2s 625ms/step - loss: 2425.1462 - mae: 30.4863 - mse: 2425.1462 - val_loss: 1247.7013 - val_mae: 28.8158 - val_mse: 1247.7013\n",
            "Epoch 78/100\n",
            "4/4 [==============================] - 2s 611ms/step - loss: 2411.7563 - mae: 30.7773 - mse: 2411.7563 - val_loss: 1303.2014 - val_mae: 29.0297 - val_mse: 1303.2014\n",
            "Epoch 79/100\n",
            "4/4 [==============================] - 2s 618ms/step - loss: 2403.8716 - mae: 31.0155 - mse: 2403.8716 - val_loss: 1274.6243 - val_mae: 28.4171 - val_mse: 1274.6243\n",
            "Epoch 80/100\n",
            "4/4 [==============================] - 2s 621ms/step - loss: 2356.6389 - mae: 30.4745 - mse: 2356.6389 - val_loss: 1358.3572 - val_mae: 30.5579 - val_mse: 1358.3572\n",
            "Epoch 81/100\n",
            "4/4 [==============================] - 2s 615ms/step - loss: 2516.3298 - mae: 30.9283 - mse: 2516.3298 - val_loss: 1243.2896 - val_mae: 28.6873 - val_mse: 1243.2896\n",
            "Epoch 82/100\n",
            "4/4 [==============================] - 2s 630ms/step - loss: 2346.3374 - mae: 29.8360 - mse: 2346.3374 - val_loss: 1173.5692 - val_mae: 27.5507 - val_mse: 1173.5692\n",
            "Epoch 83/100\n",
            "4/4 [==============================] - 2s 622ms/step - loss: 2390.4907 - mae: 30.6331 - mse: 2390.4907 - val_loss: 1193.8771 - val_mae: 27.2940 - val_mse: 1193.8771\n",
            "Epoch 84/100\n",
            "4/4 [==============================] - 2s 615ms/step - loss: 2460.1689 - mae: 31.5408 - mse: 2460.1689 - val_loss: 1189.8649 - val_mae: 27.5313 - val_mse: 1189.8649\n",
            "Epoch 85/100\n",
            "4/4 [==============================] - 2s 614ms/step - loss: 2376.9324 - mae: 30.3839 - mse: 2376.9324 - val_loss: 1227.6666 - val_mae: 28.8274 - val_mse: 1227.6666\n",
            "Epoch 86/100\n",
            "4/4 [==============================] - 2s 609ms/step - loss: 2525.3950 - mae: 31.1485 - mse: 2525.3950 - val_loss: 1380.9237 - val_mae: 30.0959 - val_mse: 1380.9237\n",
            "Epoch 87/100\n",
            "4/4 [==============================] - 2s 616ms/step - loss: 2468.2898 - mae: 31.5178 - mse: 2468.2898 - val_loss: 1574.7271 - val_mae: 32.9646 - val_mse: 1574.7271\n",
            "Epoch 88/100\n",
            "4/4 [==============================] - 2s 619ms/step - loss: 2338.4941 - mae: 30.2961 - mse: 2338.4941 - val_loss: 1411.1959 - val_mae: 31.1966 - val_mse: 1411.1959\n",
            "Epoch 89/100\n",
            "4/4 [==============================] - 2s 622ms/step - loss: 2441.6079 - mae: 31.8078 - mse: 2441.6079 - val_loss: 1292.8486 - val_mae: 29.4483 - val_mse: 1292.8486\n",
            "Epoch 90/100\n",
            "4/4 [==============================] - 2s 612ms/step - loss: 2348.3779 - mae: 31.0529 - mse: 2348.3779 - val_loss: 1173.9333 - val_mae: 27.6521 - val_mse: 1173.9333\n",
            "Epoch 91/100\n",
            "4/4 [==============================] - 2s 626ms/step - loss: 2298.7114 - mae: 30.0272 - mse: 2298.7117 - val_loss: 1232.6765 - val_mae: 28.8463 - val_mse: 1232.6765\n",
            "Epoch 92/100\n",
            "4/4 [==============================] - 2s 616ms/step - loss: 2303.2971 - mae: 29.6753 - mse: 2303.2971 - val_loss: 1201.5266 - val_mae: 28.6472 - val_mse: 1201.5266\n",
            "Epoch 93/100\n",
            "4/4 [==============================] - 2s 619ms/step - loss: 2270.8909 - mae: 29.1067 - mse: 2270.8909 - val_loss: 1204.9243 - val_mae: 28.5707 - val_mse: 1204.9243\n",
            "Epoch 94/100\n",
            "4/4 [==============================] - 2s 618ms/step - loss: 2277.3420 - mae: 29.4376 - mse: 2277.3420 - val_loss: 1164.6719 - val_mae: 27.8865 - val_mse: 1164.6719\n",
            "Epoch 95/100\n",
            "4/4 [==============================] - 2s 620ms/step - loss: 2265.1677 - mae: 29.5039 - mse: 2265.1677 - val_loss: 1213.1517 - val_mae: 28.6122 - val_mse: 1213.1517\n",
            "Epoch 96/100\n",
            "4/4 [==============================] - 2s 621ms/step - loss: 2185.8892 - mae: 28.7470 - mse: 2185.8892 - val_loss: 1175.5315 - val_mae: 28.2311 - val_mse: 1175.5315\n",
            "Epoch 97/100\n",
            "4/4 [==============================] - 2s 636ms/step - loss: 2193.5237 - mae: 29.0645 - mse: 2193.5237 - val_loss: 1177.4019 - val_mae: 27.9985 - val_mse: 1177.4019\n",
            "Epoch 98/100\n",
            "4/4 [==============================] - 2s 615ms/step - loss: 2251.1152 - mae: 28.6510 - mse: 2251.1152 - val_loss: 1288.3832 - val_mae: 29.7611 - val_mse: 1288.3832\n",
            "Epoch 99/100\n",
            "4/4 [==============================] - 2s 621ms/step - loss: 2188.2944 - mae: 28.6428 - mse: 2188.2944 - val_loss: 1229.5035 - val_mae: 29.2258 - val_mse: 1229.5035\n",
            "Epoch 100/100\n",
            "4/4 [==============================] - 2s 633ms/step - loss: 2153.0688 - mae: 28.3499 - mse: 2153.0688 - val_loss: 1137.9261 - val_mae: 27.6489 - val_mse: 1137.9261\n"
          ]
        }
      ]
    },
    {
      "cell_type": "markdown",
      "source": [
        "Predictions\n",
        "\n"
      ],
      "metadata": {
        "id": "ykyI87uZAFYU"
      }
    },
    {
      "cell_type": "code",
      "source": [
        "train_idx[:T+1]=False"
      ],
      "metadata": {
        "id": "k0XDQv2l-_2x"
      },
      "execution_count": 266,
      "outputs": []
    },
    {
      "cell_type": "code",
      "source": [
        "Ptrain_lstm_cnn=model_lstm_cnn.predict(Xtrain).flatten()\n",
        "Ptest_lstm_cnn=model_lstm_cnn.predict(Xtest).flatten()"
      ],
      "metadata": {
        "id": "wJ3J-Cvv_oLA"
      },
      "execution_count": 267,
      "outputs": []
    },
    {
      "cell_type": "code",
      "source": [
        "Ptrain_lstm_gru=model_lstm_gru.predict(Xtrain).flatten()\n",
        "Ptest_lstm_gru=model_lstm_gru.predict(Xtest).flatten()"
      ],
      "metadata": {
        "id": "r9GuOYr-_oRf"
      },
      "execution_count": 268,
      "outputs": []
    },
    {
      "cell_type": "code",
      "source": [
        "df.loc[train_idx,'Diff LSTM+CNN train prediction']=Ptrain_lstm_cnn\n",
        "df.loc[test_idx,'Diff LSTM+CNN test prediction']=Ptest_lstm_cnn"
      ],
      "metadata": {
        "id": "-ZvHYeDl_oYI"
      },
      "execution_count": null,
      "outputs": []
    },
    {
      "cell_type": "code",
      "source": [
        "df.loc[train_idx,'Diff LSTM+GRU train prediction']=Ptrain_lstm_gru\n",
        "df.loc[test_idx,'Diff LSTM+GRU test prediction']=Ptest_lstm_gru"
      ],
      "metadata": {
        "id": "h0xk_CKv_7mw"
      },
      "execution_count": 269,
      "outputs": []
    },
    {
      "cell_type": "code",
      "source": [
        "df['Shift Prev Close']=df['Prev Close'].shift(1)\n",
        "prev=df['Shift Prev Close']"
      ],
      "metadata": {
        "id": "-9ekKxJr_7pu"
      },
      "execution_count": 270,
      "outputs": []
    },
    {
      "cell_type": "code",
      "source": [
        "last_train=train.iloc[-1]['Prev Close']"
      ],
      "metadata": {
        "id": "Qd-4VnON_7tL"
      },
      "execution_count": 271,
      "outputs": []
    },
    {
      "cell_type": "code",
      "source": [
        "df.loc[train_idx,'train_LSTM_CNN']=prev[train_idx]+Ptrain_lstm_cnn\n",
        "df.loc[test_idx,'Prediction_LSTM_CNN']=prev[test_idx]+Ptest_lstm_cnn"
      ],
      "metadata": {
        "id": "wIUM_MvYALoR"
      },
      "execution_count": 272,
      "outputs": []
    },
    {
      "cell_type": "code",
      "source": [
        "df.loc[train_idx,'train_LSTM_GRU']=prev[train_idx]+Ptrain_lstm_gru\n",
        "df.loc[test_idx,'Prediction_LSTM_GRU']=prev[test_idx]+Ptest_lstm_gru"
      ],
      "metadata": {
        "id": "4dA6pDYTANWK"
      },
      "execution_count": 273,
      "outputs": []
    },
    {
      "cell_type": "code",
      "source": [
        "df[['Prev Close' ,'Prediction_LSTM_CNN','Prediction_LSTM_GRU']].plot(figsize=(15,10));"
      ],
      "metadata": {
        "colab": {
          "base_uri": "https://localhost:8080/",
          "height": 422
        },
        "id": "f8KVkcj8AaPm",
        "outputId": "7ac4f4b9-410a-4127-94af-46b84d118f3a"
      },
      "execution_count": 274,
      "outputs": [
        {
          "output_type": "display_data",
          "data": {
            "text/plain": [
              "<Figure size 1080x720 with 1 Axes>"
            ],
            "image/png": "[encoded data removed]"
          },
          "metadata": {
            "needs_background": "light"
          }
        }
      ]
    },
    {
      "cell_type": "code",
      "source": [
        "df[['Prediction_LSTM_CNN','Prediction_LSTM_GRU']].plot(figsize=(15,10));"
      ],
      "metadata": {
        "colab": {
          "base_uri": "https://localhost:8080/",
          "height": 428
        },
        "id": "ZYDW87n5Anf9",
        "outputId": "1b5fa8a1-0268-42e7-d532-08cb18039987"
      },
      "execution_count": 275,
      "outputs": [
        {
          "output_type": "display_data",
          "data": {
            "text/plain": [
              "<Figure size 1080x720 with 1 Axes>"
            ],
            "image/png": "[encoded data removed]"
          },
          "metadata": {
            "needs_background": "light"
          }
        }
      ]
    },
    {
      "cell_type": "code",
      "source": [
        "pred_lstm_cnn=df['Prediction_LSTM_CNN']\n",
        "pred_lstm_cnn.dropna(inplace=True)"
      ],
      "metadata": {
        "id": "gj8xug0lAxWl"
      },
      "execution_count": 276,
      "outputs": []
    },
    {
      "cell_type": "code",
      "source": [
        "rmse=math.sqrt(mean_squared_error(test['Prev Close'],pred_lstm_cnn))\n",
        "print(rmse)"
      ],
      "metadata": {
        "colab": {
          "base_uri": "https://localhost:8080/"
        },
        "id": "rakkuhBuA-qw",
        "outputId": "7d56a4b8-1832-43f5-87b8-b5c239806d9b"
      },
      "execution_count": 277,
      "outputs": [
        {
          "output_type": "stream",
          "name": "stdout",
          "text": [
            "27.97099767407276\n"
          ]
        }
      ]
    },
    {
      "cell_type": "code",
      "source": [
        "error=mean_absolute_error(test['Prev Close'],pred_lstm_cnn)\n",
        "print(error)"
      ],
      "metadata": {
        "colab": {
          "base_uri": "https://localhost:8080/"
        },
        "id": "9wztKO3rBHqx",
        "outputId": "98102987-10b8-4946-e352-c095d5732e72"
      },
      "execution_count": 278,
      "outputs": [
        {
          "output_type": "stream",
          "name": "stdout",
          "text": [
            "21.737902774748672\n"
          ]
        }
      ]
    },
    {
      "cell_type": "code",
      "source": [
        "r2_score(test['Prev Close'],pred_lstm_cnn)"
      ],
      "metadata": {
        "colab": {
          "base_uri": "https://localhost:8080/"
        },
        "id": "OXbq8UpSBH9g",
        "outputId": "b1095f09-a31f-4f97-e4de-0b1ec45f9ec6"
      },
      "execution_count": 279,
      "outputs": [
        {
          "output_type": "execute_result",
          "data": {
            "text/plain": [
              "0.9212253364054785"
            ]
          },
          "metadata": {},
          "execution_count": 279
        }
      ]
    },
    {
      "cell_type": "code",
      "source": [
        "pred_lstm_gru=df['Prediction_LSTM_GRU']\n",
        "pred_lstm_gru.dropna(inplace=True)"
      ],
      "metadata": {
        "id": "kaOiSQKJBRUU"
      },
      "execution_count": 280,
      "outputs": []
    },
    {
      "cell_type": "code",
      "source": [
        "rmse=math.sqrt(mean_squared_error(test['Prev Close'],pred_lstm_cnn))\n",
        "print(rmse)"
      ],
      "metadata": {
        "colab": {
          "base_uri": "https://localhost:8080/"
        },
        "id": "7UBA8PW2BRex",
        "outputId": "380dc6e8-effc-4153-acb7-598530be497a"
      },
      "execution_count": 281,
      "outputs": [
        {
          "output_type": "stream",
          "name": "stdout",
          "text": [
            "27.97099767407276\n"
          ]
        }
      ]
    },
    {
      "cell_type": "code",
      "source": [
        "error=mean_absolute_error(test['Prev Close'],pred_lstm_gru)\n",
        "print(error)"
      ],
      "metadata": {
        "colab": {
          "base_uri": "https://localhost:8080/"
        },
        "id": "9zf0Qkl4BRo1",
        "outputId": "f39c8bf7-8e45-4a1a-f063-ed8d0df96513"
      },
      "execution_count": 282,
      "outputs": [
        {
          "output_type": "stream",
          "name": "stdout",
          "text": [
            "27.64889917437233\n"
          ]
        }
      ]
    },
    {
      "cell_type": "code",
      "source": [
        "r2_score(test['Prev Close'],pred_lstm_gru)"
      ],
      "metadata": {
        "colab": {
          "base_uri": "https://localhost:8080/"
        },
        "id": "2TgbreYrBRzp",
        "outputId": "72cbb7c8-c64b-4257-c20e-48786c4d0895"
      },
      "execution_count": 283,
      "outputs": [
        {
          "output_type": "execute_result",
          "data": {
            "text/plain": [
              "0.8854263545784662"
            ]
          },
          "metadata": {},
          "execution_count": 283
        }
      ]
    },
    {
      "cell_type": "code",
      "source": [],
      "metadata": {
        "id": "E7qIDFyEBlEl"
      },
      "execution_count": 283,
      "outputs": []
    }
  ]
}