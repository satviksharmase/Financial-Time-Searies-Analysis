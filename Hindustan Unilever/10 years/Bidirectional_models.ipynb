{
  "cells": [
    {
      "cell_type": "code",
      "execution_count": 122,
      "metadata": {
        "id": "ZVEUR9Z46zJ7"
      },
      "outputs": [],
      "source": [
        "import pandas as pd\n",
        "import numpy as np\n",
        "import matplotlib.pyplot as plt\n",
        "\n",
        "import tensorflow as tf\n",
        "from tensorflow.keras.layers import Dense, Input, GlobalMaxPool1D, GRU,LSTM, Bidirectional\n",
        "from tensorflow.keras.models import Model\n",
        "from tensorflow.keras.callbacks import ModelCheckpoint\n",
        "\n",
        "import math\n",
        "\n",
        "from sklearn.metrics import r2_score\n",
        "from sklearn.metrics import mean_absolute_error\n",
        "from sklearn.metrics import mean_squared_error\n",
        "\n",
        "np.random.seed(123)\n",
        "tf.random.set_seed(123)"
      ]
    },
    {
      "cell_type": "code",
      "execution_count": 123,
      "metadata": {
        "id": "hGNJlPX-7FQ_"
      },
      "outputs": [],
      "source": [
        "df=pd.read_csv('./HINDUNILVR.csv',index_col='Date',parse_dates=True)"
      ]
    },
    {
      "cell_type": "code",
      "execution_count": 124,
      "metadata": {
        "colab": {
          "base_uri": "https://localhost:8080/",
          "height": 455
        },
        "id": "_fw_w6SY7PDd",
        "outputId": "b5ddf198-857c-4e95-8122-b8b6642a5ff7"
      },
      "outputs": [
        {
          "output_type": "execute_result",
          "data": {
            "text/plain": [
              "                Symbol Series  Prev Close    Open     High      Low     Last  \\\n",
              "Date                                                                           \n",
              "2000-01-03   HINDLEVER     EQ     2136.60  2300.0  2307.55  2300.00  2307.55   \n",
              "2000-01-04   HINDLEVER     EQ     2307.55  2381.0  2381.00  2250.00  2270.00   \n",
              "2000-01-05   HINDLEVER     EQ     2281.05  2200.0  2250.00  2105.00  2183.50   \n",
              "2000-01-06   HINDLEVER     EQ     2199.90  2224.9  2360.00  2210.00  2300.00   \n",
              "2000-01-07   HINDLEVER     EQ     2288.20  2300.0  2452.00  2282.25  2395.00   \n",
              "...                ...    ...         ...     ...      ...      ...      ...   \n",
              "2021-04-26  HINDUNILVR     EQ     2307.75  2324.0  2369.80  2311.00  2367.70   \n",
              "2021-04-27  HINDUNILVR     EQ     2360.65  2363.0  2386.45  2352.95  2378.00   \n",
              "2021-04-28  HINDUNILVR     EQ     2379.85  2380.0  2445.00  2366.30  2404.00   \n",
              "2021-04-29  HINDUNILVR     EQ     2406.55  2433.0  2448.95  2384.15  2422.15   \n",
              "2021-04-30  HINDUNILVR     EQ     2407.60  2410.0  2442.90  2330.25  2350.00   \n",
              "\n",
              "              Close     VWAP   Volume      Turnover    Trades  \\\n",
              "Date                                                            \n",
              "2000-01-03  2307.55  2307.08    24903  5.745330e+12       NaN   \n",
              "2000-01-04  2281.05  2298.15    58514  1.344740e+13       NaN   \n",
              "2000-01-05  2199.90  2211.17    80296  1.775482e+13       NaN   \n",
              "2000-01-06  2288.20  2301.80   190032  4.374157e+13       NaN   \n",
              "2000-01-07  2412.95  2380.24   192582  4.583919e+13       NaN   \n",
              "...             ...      ...      ...           ...       ...   \n",
              "2021-04-26  2360.65  2340.89  1946867  4.557405e+14   85684.0   \n",
              "2021-04-27  2379.85  2374.40  1668456  3.961583e+14   84641.0   \n",
              "2021-04-28  2406.55  2414.15  1951215  4.710522e+14   84910.0   \n",
              "2021-04-29  2407.60  2419.82  3151150  7.625230e+14  141048.0   \n",
              "2021-04-30  2353.75  2363.99  4010778  9.481448e+14  170223.0   \n",
              "\n",
              "            Deliverable Volume  %Deliverble  \n",
              "Date                                         \n",
              "2000-01-03                 NaN          NaN  \n",
              "2000-01-04                 NaN          NaN  \n",
              "2000-01-05                 NaN          NaN  \n",
              "2000-01-06                 NaN          NaN  \n",
              "2000-01-07                 NaN          NaN  \n",
              "...                        ...          ...  \n",
              "2021-04-26           1289103.0       0.6621  \n",
              "2021-04-27           1089882.0       0.6532  \n",
              "2021-04-28           1024216.0       0.5249  \n",
              "2021-04-29            946648.0       0.3004  \n",
              "2021-04-30           2038288.0       0.5082  \n",
              "\n",
              "[5306 rows x 14 columns]"
            ],
            "text/html": [
              "\n",
              "  <div id=\"df-8bb83178-51d3-40bc-a4e7-6bb4044e73e5\">\n",
              "    <div class=\"colab-df-container\">\n",
              "      <div>\n",
              "<style scoped>\n",
              "    .dataframe tbody tr th:only-of-type {\n",
              "        vertical-align: middle;\n",
              "    }\n",
              "\n",
              "    .dataframe tbody tr th {\n",
              "        vertical-align: top;\n",
              "    }\n",
              "\n",
              "    .dataframe thead th {\n",
              "        text-align: right;\n",
              "    }\n",
              "</style>\n",
              "<table border=\"1\" class=\"dataframe\">\n",
              "  <thead>\n",
              "    <tr style=\"text-align: right;\">\n",
              "      <th></th>\n",
              "      <th>Symbol</th>\n",
              "      <th>Series</th>\n",
              "      <th>Prev Close</th>\n",
              "      <th>Open</th>\n",
              "      <th>High</th>\n",
              "      <th>Low</th>\n",
              "      <th>Last</th>\n",
              "      <th>Close</th>\n",
              "      <th>VWAP</th>\n",
              "      <th>Volume</th>\n",
              "      <th>Turnover</th>\n",
              "      <th>Trades</th>\n",
              "      <th>Deliverable Volume</th>\n",
              "      <th>%Deliverble</th>\n",
              "    </tr>\n",
              "    <tr>\n",
              "      <th>Date</th>\n",
              "      <th></th>\n",
              "      <th></th>\n",
              "      <th></th>\n",
              "      <th></th>\n",
              "      <th></th>\n",
              "      <th></th>\n",
              "      <th></th>\n",
              "      <th></th>\n",
              "      <th></th>\n",
              "      <th></th>\n",
              "      <th></th>\n",
              "      <th></th>\n",
              "      <th></th>\n",
              "      <th></th>\n",
              "    </tr>\n",
              "  </thead>\n",
              "  <tbody>\n",
              "    <tr>\n",
              "      <th>2000-01-03</th>\n",
              "      <td>HINDLEVER</td>\n",
              "      <td>EQ</td>\n",
              "      <td>2136.60</td>\n",
              "      <td>2300.0</td>\n",
              "      <td>2307.55</td>\n",
              "      <td>2300.00</td>\n",
              "      <td>2307.55</td>\n",
              "      <td>2307.55</td>\n",
              "      <td>2307.08</td>\n",
              "      <td>24903</td>\n",
              "      <td>5.745330e+12</td>\n",
              "      <td>NaN</td>\n",
              "      <td>NaN</td>\n",
              "      <td>NaN</td>\n",
              "    </tr>\n",
              "    <tr>\n",
              "      <th>2000-01-04</th>\n",
              "      <td>HINDLEVER</td>\n",
              "      <td>EQ</td>\n",
              "      <td>2307.55</td>\n",
              "      <td>2381.0</td>\n",
              "      <td>2381.00</td>\n",
              "      <td>2250.00</td>\n",
              "      <td>2270.00</td>\n",
              "      <td>2281.05</td>\n",
              "      <td>2298.15</td>\n",
              "      <td>58514</td>\n",
              "      <td>1.344740e+13</td>\n",
              "      <td>NaN</td>\n",
              "      <td>NaN</td>\n",
              "      <td>NaN</td>\n",
              "    </tr>\n",
              "    <tr>\n",
              "      <th>2000-01-05</th>\n",
              "      <td>HINDLEVER</td>\n",
              "      <td>EQ</td>\n",
              "      <td>2281.05</td>\n",
              "      <td>2200.0</td>\n",
              "      <td>2250.00</td>\n",
              "      <td>2105.00</td>\n",
              "      <td>2183.50</td>\n",
              "      <td>2199.90</td>\n",
              "      <td>2211.17</td>\n",
              "      <td>80296</td>\n",
              "      <td>1.775482e+13</td>\n",
              "      <td>NaN</td>\n",
              "      <td>NaN</td>\n",
              "      <td>NaN</td>\n",
              "    </tr>\n",
              "    <tr>\n",
              "      <th>2000-01-06</th>\n",
              "      <td>HINDLEVER</td>\n",
              "      <td>EQ</td>\n",
              "      <td>2199.90</td>\n",
              "      <td>2224.9</td>\n",
              "      <td>2360.00</td>\n",
              "      <td>2210.00</td>\n",
              "      <td>2300.00</td>\n",
              "      <td>2288.20</td>\n",
              "      <td>2301.80</td>\n",
              "      <td>190032</td>\n",
              "      <td>4.374157e+13</td>\n",
              "      <td>NaN</td>\n",
              "      <td>NaN</td>\n",
              "      <td>NaN</td>\n",
              "    </tr>\n",
              "    <tr>\n",
              "      <th>2000-01-07</th>\n",
              "      <td>HINDLEVER</td>\n",
              "      <td>EQ</td>\n",
              "      <td>2288.20</td>\n",
              "      <td>2300.0</td>\n",
              "      <td>2452.00</td>\n",
              "      <td>2282.25</td>\n",
              "      <td>2395.00</td>\n",
              "      <td>2412.95</td>\n",
              "      <td>2380.24</td>\n",
              "      <td>192582</td>\n",
              "      <td>4.583919e+13</td>\n",
              "      <td>NaN</td>\n",
              "      <td>NaN</td>\n",
              "      <td>NaN</td>\n",
              "    </tr>\n",
              "    <tr>\n",
              "      <th>...</th>\n",
              "      <td>...</td>\n",
              "      <td>...</td>\n",
              "      <td>...</td>\n",
              "      <td>...</td>\n",
              "      <td>...</td>\n",
              "      <td>...</td>\n",
              "      <td>...</td>\n",
              "      <td>...</td>\n",
              "      <td>...</td>\n",
              "      <td>...</td>\n",
              "      <td>...</td>\n",
              "      <td>...</td>\n",
              "      <td>...</td>\n",
              "      <td>...</td>\n",
              "    </tr>\n",
              "    <tr>\n",
              "      <th>2021-04-26</th>\n",
              "      <td>HINDUNILVR</td>\n",
              "      <td>EQ</td>\n",
              "      <td>2307.75</td>\n",
              "      <td>2324.0</td>\n",
              "      <td>2369.80</td>\n",
              "      <td>2311.00</td>\n",
              "      <td>2367.70</td>\n",
              "      <td>2360.65</td>\n",
              "      <td>2340.89</td>\n",
              "      <td>1946867</td>\n",
              "      <td>4.557405e+14</td>\n",
              "      <td>85684.0</td>\n",
              "      <td>1289103.0</td>\n",
              "      <td>0.6621</td>\n",
              "    </tr>\n",
              "    <tr>\n",
              "      <th>2021-04-27</th>\n",
              "      <td>HINDUNILVR</td>\n",
              "      <td>EQ</td>\n",
              "      <td>2360.65</td>\n",
              "      <td>2363.0</td>\n",
              "      <td>2386.45</td>\n",
              "      <td>2352.95</td>\n",
              "      <td>2378.00</td>\n",
              "      <td>2379.85</td>\n",
              "      <td>2374.40</td>\n",
              "      <td>1668456</td>\n",
              "      <td>3.961583e+14</td>\n",
              "      <td>84641.0</td>\n",
              "      <td>1089882.0</td>\n",
              "      <td>0.6532</td>\n",
              "    </tr>\n",
              "    <tr>\n",
              "      <th>2021-04-28</th>\n",
              "      <td>HINDUNILVR</td>\n",
              "      <td>EQ</td>\n",
              "      <td>2379.85</td>\n",
              "      <td>2380.0</td>\n",
              "      <td>2445.00</td>\n",
              "      <td>2366.30</td>\n",
              "      <td>2404.00</td>\n",
              "      <td>2406.55</td>\n",
              "      <td>2414.15</td>\n",
              "      <td>1951215</td>\n",
              "      <td>4.710522e+14</td>\n",
              "      <td>84910.0</td>\n",
              "      <td>1024216.0</td>\n",
              "      <td>0.5249</td>\n",
              "    </tr>\n",
              "    <tr>\n",
              "      <th>2021-04-29</th>\n",
              "      <td>HINDUNILVR</td>\n",
              "      <td>EQ</td>\n",
              "      <td>2406.55</td>\n",
              "      <td>2433.0</td>\n",
              "      <td>2448.95</td>\n",
              "      <td>2384.15</td>\n",
              "      <td>2422.15</td>\n",
              "      <td>2407.60</td>\n",
              "      <td>2419.82</td>\n",
              "      <td>3151150</td>\n",
              "      <td>7.625230e+14</td>\n",
              "      <td>141048.0</td>\n",
              "      <td>946648.0</td>\n",
              "      <td>0.3004</td>\n",
              "    </tr>\n",
              "    <tr>\n",
              "      <th>2021-04-30</th>\n",
              "      <td>HINDUNILVR</td>\n",
              "      <td>EQ</td>\n",
              "      <td>2407.60</td>\n",
              "      <td>2410.0</td>\n",
              "      <td>2442.90</td>\n",
              "      <td>2330.25</td>\n",
              "      <td>2350.00</td>\n",
              "      <td>2353.75</td>\n",
              "      <td>2363.99</td>\n",
              "      <td>4010778</td>\n",
              "      <td>9.481448e+14</td>\n",
              "      <td>170223.0</td>\n",
              "      <td>2038288.0</td>\n",
              "      <td>0.5082</td>\n",
              "    </tr>\n",
              "  </tbody>\n",
              "</table>\n",
              "<p>5306 rows × 14 columns</p>\n",
              "</div>\n",
              "      <button class=\"colab-df-convert\" onclick=\"convertToInteractive('df-8bb83178-51d3-40bc-a4e7-6bb4044e73e5')\"\n",
              "              title=\"Convert this dataframe to an interactive table.\"\n",
              "              style=\"display:none;\">\n",
              "        \n",
              "  <svg xmlns=\"http://www.w3.org/2000/svg\" height=\"24px\"viewBox=\"0 0 24 24\"\n",
              "       width=\"24px\">\n",
              "    <path d=\"M0 0h24v24H0V0z\" fill=\"none\"/>\n",
              "    <path d=\"M18.56 5.44l.94 2.06.94-2.06 2.06-.94-2.06-.94-.94-2.06-.94 2.06-2.06.94zm-11 1L8.5 8.5l.94-2.06 2.06-.94-2.06-.94L8.5 2.5l-.94 2.06-2.06.94zm10 10l.94 2.06.94-2.06 2.06-.94-2.06-.94-.94-2.06-.94 2.06-2.06.94z\"/><path d=\"M17.41 7.96l-1.37-1.37c-.4-.4-.92-.59-1.43-.59-.52 0-1.04.2-1.43.59L10.3 9.45l-7.72 7.72c-.78.78-.78 2.05 0 2.83L4 21.41c.39.39.9.59 1.41.59.51 0 1.02-.2 1.41-.59l7.78-7.78 2.81-2.81c.8-.78.8-2.07 0-2.86zM5.41 20L4 18.59l7.72-7.72 1.47 1.35L5.41 20z\"/>\n",
              "  </svg>\n",
              "      </button>\n",
              "      \n",
              "  <style>\n",
              "    .colab-df-container {\n",
              "      display:flex;\n",
              "      flex-wrap:wrap;\n",
              "      gap: 12px;\n",
              "    }\n",
              "\n",
              "    .colab-df-convert {\n",
              "      background-color: #E8F0FE;\n",
              "      border: none;\n",
              "      border-radius: 50%;\n",
              "      cursor: pointer;\n",
              "      display: none;\n",
              "      fill: #1967D2;\n",
              "      height: 32px;\n",
              "      padding: 0 0 0 0;\n",
              "      width: 32px;\n",
              "    }\n",
              "\n",
              "    .colab-df-convert:hover {\n",
              "      background-color: #E2EBFA;\n",
              "      box-shadow: 0px 1px 2px rgba(60, 64, 67, 0.3), 0px 1px 3px 1px rgba(60, 64, 67, 0.15);\n",
              "      fill: #174EA6;\n",
              "    }\n",
              "\n",
              "    [theme=dark] .colab-df-convert {\n",
              "      background-color: #3B4455;\n",
              "      fill: #D2E3FC;\n",
              "    }\n",
              "\n",
              "    [theme=dark] .colab-df-convert:hover {\n",
              "      background-color: #434B5C;\n",
              "      box-shadow: 0px 1px 3px 1px rgba(0, 0, 0, 0.15);\n",
              "      filter: drop-shadow(0px 1px 2px rgba(0, 0, 0, 0.3));\n",
              "      fill: #FFFFFF;\n",
              "    }\n",
              "  </style>\n",
              "\n",
              "      <script>\n",
              "        const buttonEl =\n",
              "          document.querySelector('#df-8bb83178-51d3-40bc-a4e7-6bb4044e73e5 button.colab-df-convert');\n",
              "        buttonEl.style.display =\n",
              "          google.colab.kernel.accessAllowed ? 'block' : 'none';\n",
              "\n",
              "        async function convertToInteractive(key) {\n",
              "          const element = document.querySelector('#df-8bb83178-51d3-40bc-a4e7-6bb4044e73e5');\n",
              "          const dataTable =\n",
              "            await google.colab.kernel.invokeFunction('convertToInteractive',\n",
              "                                                     [key], {});\n",
              "          if (!dataTable) return;\n",
              "\n",
              "          const docLinkHtml = 'Like what you see? Visit the ' +\n",
              "            '<a target=\"_blank\" href=https://colab.research.google.com/notebooks/data_table.ipynb>data table notebook</a>'\n",
              "            + ' to learn more about interactive tables.';\n",
              "          element.innerHTML = '';\n",
              "          dataTable['output_type'] = 'display_data';\n",
              "          await google.colab.output.renderOutput(dataTable, element);\n",
              "          const docLink = document.createElement('div');\n",
              "          docLink.innerHTML = docLinkHtml;\n",
              "          element.appendChild(docLink);\n",
              "        }\n",
              "      </script>\n",
              "    </div>\n",
              "  </div>\n",
              "  "
            ]
          },
          "metadata": {},
          "execution_count": 124
        }
      ],
      "source": [
        "df"
      ]
    },
    {
      "cell_type": "code",
      "execution_count": 125,
      "metadata": {
        "id": "zwmfESni7gKn"
      },
      "outputs": [],
      "source": [
        "df['Date']=df.index"
      ]
    },
    {
      "cell_type": "code",
      "execution_count": 126,
      "metadata": {
        "id": "R6njdWuX7i6e"
      },
      "outputs": [],
      "source": [
        "start_date='2011-01-01'\n",
        "end_date='2020-12-31'\n",
        "mask=(df['Date']>=start_date)&(df['Date']<=end_date)"
      ]
    },
    {
      "cell_type": "code",
      "execution_count": 127,
      "metadata": {
        "id": "1gvhNCc_7lCh"
      },
      "outputs": [],
      "source": [
        "df=df.loc[mask]"
      ]
    },
    {
      "cell_type": "code",
      "execution_count": 128,
      "metadata": {
        "id": "H7T84rNE7lFn"
      },
      "outputs": [],
      "source": [
        "df=df.loc[mask]"
      ]
    },
    {
      "cell_type": "code",
      "execution_count": 129,
      "metadata": {
        "id": "KosKVO_j7lIn"
      },
      "outputs": [],
      "source": [
        "df=df.drop(columns=['Series','Symbol','Open','High','Low','Last','Close','VWAP','Volume','Turnover','Trades','Deliverable Volume','%Deliverble','Date'])"
      ]
    },
    {
      "cell_type": "code",
      "execution_count": 130,
      "metadata": {
        "id": "7YW96kEv7lLh"
      },
      "outputs": [],
      "source": [
        "Ntest=math.trunc(0.3*len(df))\n",
        "train=df.iloc[:-Ntest]\n",
        "test=df.iloc[-Ntest:]"
      ]
    },
    {
      "cell_type": "code",
      "execution_count": 131,
      "metadata": {
        "id": "NhwqMQ7r7lOX"
      },
      "outputs": [],
      "source": [
        "train_idx=df.index<=train.index[-1]\n",
        "test_idx=df.index>train.index[-1]"
      ]
    },
    {
      "cell_type": "code",
      "execution_count": 132,
      "metadata": {
        "id": "QtuPaMDJ7lQ_"
      },
      "outputs": [],
      "source": [
        "df['Diff Prev Close']=df['Prev Close'].diff()"
      ]
    },
    {
      "cell_type": "code",
      "execution_count": 133,
      "metadata": {
        "colab": {
          "base_uri": "https://localhost:8080/"
        },
        "id": "WJeTN9cL7tkq",
        "outputId": "cc2b001b-327c-4c43-9175-99b758a9500e"
      },
      "outputs": [
        {
          "output_type": "stream",
          "name": "stdout",
          "text": [
            "X.shape (2427, 50) Y.shape (2427,)\n"
          ]
        }
      ],
      "source": [
        "series=df['Diff Prev Close'].dropna().to_numpy()\n",
        "\n",
        "T=50\n",
        "X=[]\n",
        "Y=[]\n",
        "for t in range(len(series)-T):\n",
        "  x=series[t:t+T]\n",
        "  X.append(x)\n",
        "  y=series[t+T]\n",
        "  Y.append(y)\n",
        "\n",
        "X=np.array(X).reshape(-1,T)\n",
        "Y=np.array(Y)\n",
        "N=len(X)\n",
        "print(\"X.shape\",X.shape,\"Y.shape\",Y.shape)"
      ]
    },
    {
      "cell_type": "code",
      "execution_count": 134,
      "metadata": {
        "id": "dE1vSivZ7tn-"
      },
      "outputs": [],
      "source": [
        "Xtrain,Ytrain=X[:-Ntest],Y[:-Ntest]\n",
        "Xtest,Ytest=X[-Ntest:],Y[-Ntest:]"
      ]
    },
    {
      "cell_type": "markdown",
      "metadata": {
        "id": "Y6SYTxcf8HrV"
      },
      "source": [
        "Bi-LSTM"
      ]
    },
    {
      "cell_type": "code",
      "execution_count": 135,
      "metadata": {
        "colab": {
          "base_uri": "https://localhost:8080/"
        },
        "id": "uk3JcnRf7trE",
        "outputId": "7849bac8-1e99-423b-834a-d63eb57c2f44"
      },
      "outputs": [
        {
          "output_type": "stream",
          "name": "stdout",
          "text": [
            "Model: \"model_6\"\n",
            "_________________________________________________________________\n",
            " Layer (type)                Output Shape              Param #   \n",
            "=================================================================\n",
            " input_7 (InputLayer)        [(None, 50, 1)]           0         \n",
            "                                                                 \n",
            " bidirectional_12 (Bidirecti  (None, 50, 400)          323200    \n",
            " onal)                                                           \n",
            "                                                                 \n",
            " bidirectional_13 (Bidirecti  (None, 50, 400)          961600    \n",
            " onal)                                                           \n",
            "                                                                 \n",
            " global_max_pooling1d_6 (Glo  (None, 400)              0         \n",
            " balMaxPooling1D)                                                \n",
            "                                                                 \n",
            " dense_18 (Dense)            (None, 100)               40100     \n",
            "                                                                 \n",
            " dense_19 (Dense)            (None, 50)                5050      \n",
            "                                                                 \n",
            " dense_20 (Dense)            (None, 1)                 51        \n",
            "                                                                 \n",
            "=================================================================\n",
            "Total params: 1,330,001\n",
            "Trainable params: 1,330,001\n",
            "Non-trainable params: 0\n",
            "_________________________________________________________________\n"
          ]
        }
      ],
      "source": [
        "i=Input(shape=(T,1))\n",
        "x=Bidirectional(LSTM(200,return_sequences=True))(i)\n",
        "x=Bidirectional(LSTM(200,return_sequences=True))(x)\n",
        "x=GlobalMaxPool1D()(x)\n",
        "x=Dense(100)(x)\n",
        "x=Dense(50)(x)\n",
        "x=Dense(1)(x)\n",
        "model_bi_lstm=Model(i,x)\n",
        "model_bi_lstm.summary()"
      ]
    },
    {
      "cell_type": "code",
      "execution_count": 136,
      "metadata": {
        "id": "9NtxtRQm7tuD"
      },
      "outputs": [],
      "source": [
        "check_point_bi_lstm=ModelCheckpoint('best_model.h5',monitor='val_loss',save_best_only=True)"
      ]
    },
    {
      "cell_type": "code",
      "execution_count": 137,
      "metadata": {
        "id": "Tb0KBami7txT"
      },
      "outputs": [],
      "source": [
        "model_bi_lstm.compile(loss='mse',\n",
        "              optimizer='adamax',\n",
        "              metrics=['mae','mse'])"
      ]
    },
    {
      "cell_type": "code",
      "execution_count": 138,
      "metadata": {
        "colab": {
          "base_uri": "https://localhost:8080/"
        },
        "id": "Dl_RedqY7t0c",
        "outputId": "e9c28a52-1274-4c14-94ca-8a8a08363c66"
      },
      "outputs": [
        {
          "output_type": "stream",
          "name": "stdout",
          "text": [
            "Epoch 1/100\n",
            "53/53 [==============================] - 46s 715ms/step - loss: 109.1611 - mae: 7.2886 - mse: 109.1611 - val_loss: 1001.7778 - val_mae: 20.4630 - val_mse: 1001.7778\n",
            "Epoch 2/100\n",
            "53/53 [==============================] - 35s 660ms/step - loss: 108.6790 - mae: 7.2778 - mse: 108.6790 - val_loss: 1003.2513 - val_mae: 20.4002 - val_mse: 1003.2513\n",
            "Epoch 3/100\n",
            "53/53 [==============================] - 36s 675ms/step - loss: 108.4913 - mae: 7.2621 - mse: 108.4913 - val_loss: 1003.5031 - val_mae: 20.4027 - val_mse: 1003.5031\n",
            "Epoch 4/100\n",
            "53/53 [==============================] - 34s 646ms/step - loss: 108.6282 - mae: 7.2630 - mse: 108.6282 - val_loss: 1004.4008 - val_mae: 20.4054 - val_mse: 1004.4008\n",
            "Epoch 5/100\n",
            "53/53 [==============================] - 36s 672ms/step - loss: 108.3821 - mae: 7.2657 - mse: 108.3821 - val_loss: 1003.0877 - val_mae: 20.4107 - val_mse: 1003.0877\n",
            "Epoch 6/100\n",
            "53/53 [==============================] - 36s 672ms/step - loss: 108.4625 - mae: 7.2601 - mse: 108.4625 - val_loss: 1003.0179 - val_mae: 20.4048 - val_mse: 1003.0179\n",
            "Epoch 7/100\n",
            "53/53 [==============================] - 35s 659ms/step - loss: 108.0314 - mae: 7.2638 - mse: 108.0314 - val_loss: 1002.5244 - val_mae: 20.4036 - val_mse: 1002.5244\n",
            "Epoch 8/100\n",
            "53/53 [==============================] - 36s 672ms/step - loss: 107.9015 - mae: 7.2565 - mse: 107.9015 - val_loss: 1002.6746 - val_mae: 20.4074 - val_mse: 1002.6746\n",
            "Epoch 9/100\n",
            "53/53 [==============================] - 35s 656ms/step - loss: 107.8563 - mae: 7.2684 - mse: 107.8563 - val_loss: 1002.7927 - val_mae: 20.3996 - val_mse: 1002.7927\n",
            "Epoch 10/100\n",
            "53/53 [==============================] - 36s 678ms/step - loss: 107.3738 - mae: 7.2351 - mse: 107.3738 - val_loss: 1002.1668 - val_mae: 20.4033 - val_mse: 1002.1668\n",
            "Epoch 11/100\n",
            "53/53 [==============================] - 36s 673ms/step - loss: 107.6416 - mae: 7.2578 - mse: 107.6416 - val_loss: 1003.3797 - val_mae: 20.3886 - val_mse: 1003.3797\n",
            "Epoch 12/100\n",
            "53/53 [==============================] - 35s 659ms/step - loss: 106.4107 - mae: 7.2080 - mse: 106.4107 - val_loss: 1002.5668 - val_mae: 20.4175 - val_mse: 1002.5668\n",
            "Epoch 13/100\n",
            "53/53 [==============================] - 35s 658ms/step - loss: 106.5840 - mae: 7.2290 - mse: 106.5840 - val_loss: 1005.0660 - val_mae: 20.4068 - val_mse: 1005.0660\n",
            "Epoch 14/100\n",
            "53/53 [==============================] - 34s 647ms/step - loss: 105.1488 - mae: 7.1842 - mse: 105.1488 - val_loss: 1003.5204 - val_mae: 20.4039 - val_mse: 1003.5204\n",
            "Epoch 15/100\n",
            "53/53 [==============================] - 34s 642ms/step - loss: 105.5462 - mae: 7.2328 - mse: 105.5462 - val_loss: 1003.9608 - val_mae: 20.3942 - val_mse: 1003.9608\n",
            "Epoch 16/100\n",
            "53/53 [==============================] - 35s 653ms/step - loss: 103.8701 - mae: 7.1235 - mse: 103.8701 - val_loss: 1005.8134 - val_mae: 20.4343 - val_mse: 1005.8134\n",
            "Epoch 17/100\n",
            "53/53 [==============================] - 35s 652ms/step - loss: 102.3584 - mae: 7.1253 - mse: 102.3584 - val_loss: 1010.8970 - val_mae: 20.4702 - val_mse: 1010.8970\n",
            "Epoch 18/100\n",
            "53/53 [==============================] - 34s 649ms/step - loss: 101.2930 - mae: 7.0618 - mse: 101.2930 - val_loss: 1014.5885 - val_mae: 20.4965 - val_mse: 1014.5885\n",
            "Epoch 19/100\n",
            "53/53 [==============================] - 35s 655ms/step - loss: 101.0320 - mae: 7.1167 - mse: 101.0320 - val_loss: 1015.7457 - val_mae: 20.5061 - val_mse: 1015.7457\n",
            "Epoch 20/100\n",
            "53/53 [==============================] - 35s 655ms/step - loss: 98.1592 - mae: 6.9983 - mse: 98.1592 - val_loss: 1010.1063 - val_mae: 20.5329 - val_mse: 1010.1063\n",
            "Epoch 21/100\n",
            "53/53 [==============================] - 35s 663ms/step - loss: 96.3816 - mae: 6.9459 - mse: 96.3816 - val_loss: 1024.3242 - val_mae: 20.6756 - val_mse: 1024.3242\n",
            "Epoch 22/100\n",
            "53/53 [==============================] - 34s 652ms/step - loss: 93.0841 - mae: 6.8508 - mse: 93.0841 - val_loss: 1045.7220 - val_mae: 21.0950 - val_mse: 1045.7220\n",
            "Epoch 23/100\n",
            "53/53 [==============================] - 35s 652ms/step - loss: 94.2947 - mae: 6.9336 - mse: 94.2947 - val_loss: 1018.0158 - val_mae: 20.6715 - val_mse: 1018.0158\n",
            "Epoch 24/100\n",
            "53/53 [==============================] - 35s 655ms/step - loss: 89.5840 - mae: 6.7138 - mse: 89.5840 - val_loss: 1053.5770 - val_mae: 21.1830 - val_mse: 1053.5770\n",
            "Epoch 25/100\n",
            "53/53 [==============================] - 34s 637ms/step - loss: 88.2280 - mae: 6.6900 - mse: 88.2280 - val_loss: 1044.0048 - val_mae: 21.0950 - val_mse: 1044.0048\n",
            "Epoch 26/100\n",
            "53/53 [==============================] - 35s 656ms/step - loss: 85.1248 - mae: 6.6149 - mse: 85.1248 - val_loss: 1057.2339 - val_mae: 21.4208 - val_mse: 1057.2339\n",
            "Epoch 27/100\n",
            "53/53 [==============================] - 34s 642ms/step - loss: 82.2037 - mae: 6.5321 - mse: 82.2037 - val_loss: 1059.9932 - val_mae: 21.4859 - val_mse: 1059.9932\n",
            "Epoch 28/100\n",
            "53/53 [==============================] - 34s 635ms/step - loss: 81.2405 - mae: 6.5294 - mse: 81.2405 - val_loss: 1108.5450 - val_mae: 22.1274 - val_mse: 1108.5450\n",
            "Epoch 29/100\n",
            "53/53 [==============================] - 34s 648ms/step - loss: 78.7993 - mae: 6.3971 - mse: 78.7993 - val_loss: 1105.3749 - val_mae: 22.1264 - val_mse: 1105.3749\n",
            "Epoch 30/100\n",
            "53/53 [==============================] - 34s 642ms/step - loss: 76.9586 - mae: 6.4045 - mse: 76.9586 - val_loss: 1184.5948 - val_mae: 23.3612 - val_mse: 1184.5948\n",
            "Epoch 31/100\n",
            "53/53 [==============================] - 34s 643ms/step - loss: 73.0025 - mae: 6.2794 - mse: 73.0025 - val_loss: 1129.0544 - val_mae: 22.4962 - val_mse: 1129.0544\n",
            "Epoch 32/100\n",
            "53/53 [==============================] - 34s 644ms/step - loss: 68.1344 - mae: 6.0294 - mse: 68.1344 - val_loss: 1167.8267 - val_mae: 23.1301 - val_mse: 1167.8267\n",
            "Epoch 33/100\n",
            "53/53 [==============================] - 35s 653ms/step - loss: 66.9694 - mae: 5.9844 - mse: 66.9694 - val_loss: 1179.6093 - val_mae: 23.5619 - val_mse: 1179.6093\n",
            "Epoch 34/100\n",
            "53/53 [==============================] - 34s 642ms/step - loss: 69.8828 - mae: 6.2704 - mse: 69.8828 - val_loss: 1190.9030 - val_mae: 23.6319 - val_mse: 1190.9030\n",
            "Epoch 35/100\n",
            "53/53 [==============================] - 35s 659ms/step - loss: 61.1250 - mae: 5.8148 - mse: 61.1250 - val_loss: 1283.0828 - val_mae: 24.6815 - val_mse: 1283.0828\n",
            "Epoch 36/100\n",
            "53/53 [==============================] - 35s 656ms/step - loss: 58.4163 - mae: 5.6721 - mse: 58.4163 - val_loss: 1229.9563 - val_mae: 24.1657 - val_mse: 1229.9563\n",
            "Epoch 37/100\n",
            "53/53 [==============================] - 34s 646ms/step - loss: 53.3182 - mae: 5.4777 - mse: 53.3182 - val_loss: 1294.2383 - val_mae: 24.7362 - val_mse: 1294.2383\n",
            "Epoch 38/100\n",
            "53/53 [==============================] - 35s 656ms/step - loss: 51.8535 - mae: 5.4240 - mse: 51.8535 - val_loss: 1236.2555 - val_mae: 24.3574 - val_mse: 1236.2555\n",
            "Epoch 39/100\n",
            "53/53 [==============================] - 34s 652ms/step - loss: 48.6032 - mae: 5.2928 - mse: 48.6032 - val_loss: 1332.7336 - val_mae: 25.4529 - val_mse: 1332.7336\n",
            "Epoch 40/100\n",
            "53/53 [==============================] - 35s 653ms/step - loss: 47.9965 - mae: 5.2163 - mse: 47.9965 - val_loss: 1332.4019 - val_mae: 25.3520 - val_mse: 1332.4019\n",
            "Epoch 41/100\n",
            "53/53 [==============================] - 34s 641ms/step - loss: 49.1216 - mae: 5.3273 - mse: 49.1216 - val_loss: 1259.2327 - val_mae: 24.7601 - val_mse: 1259.2327\n",
            "Epoch 42/100\n",
            "53/53 [==============================] - 34s 652ms/step - loss: 46.1416 - mae: 5.1429 - mse: 46.1416 - val_loss: 1343.4000 - val_mae: 25.5736 - val_mse: 1343.4000\n",
            "Epoch 43/100\n",
            "53/53 [==============================] - 34s 652ms/step - loss: 45.0045 - mae: 5.1545 - mse: 45.0045 - val_loss: 1415.8833 - val_mae: 26.5585 - val_mse: 1415.8833\n",
            "Epoch 44/100\n",
            "53/53 [==============================] - 35s 667ms/step - loss: 35.8846 - mae: 4.5796 - mse: 35.8846 - val_loss: 1377.3375 - val_mae: 26.1589 - val_mse: 1377.3375\n",
            "Epoch 45/100\n",
            "53/53 [==============================] - 35s 655ms/step - loss: 38.6251 - mae: 4.7637 - mse: 38.6251 - val_loss: 1399.2534 - val_mae: 26.7488 - val_mse: 1399.2534\n",
            "Epoch 46/100\n",
            "53/53 [==============================] - 35s 659ms/step - loss: 38.1549 - mae: 4.7747 - mse: 38.1549 - val_loss: 1393.5110 - val_mae: 26.3485 - val_mse: 1393.5110\n",
            "Epoch 47/100\n",
            "53/53 [==============================] - 35s 661ms/step - loss: 32.1658 - mae: 4.3716 - mse: 32.1658 - val_loss: 1438.4872 - val_mae: 26.8219 - val_mse: 1438.4872\n",
            "Epoch 48/100\n",
            "53/53 [==============================] - 35s 655ms/step - loss: 33.5966 - mae: 4.4433 - mse: 33.5966 - val_loss: 1420.5232 - val_mae: 26.8327 - val_mse: 1420.5232\n",
            "Epoch 49/100\n",
            "53/53 [==============================] - 34s 649ms/step - loss: 29.7721 - mae: 4.1762 - mse: 29.7721 - val_loss: 1482.7789 - val_mae: 27.4279 - val_mse: 1482.7789\n",
            "Epoch 50/100\n",
            "53/53 [==============================] - 34s 649ms/step - loss: 26.3525 - mae: 3.8797 - mse: 26.3525 - val_loss: 1596.9337 - val_mae: 28.6518 - val_mse: 1596.9337\n",
            "Epoch 51/100\n",
            "53/53 [==============================] - 34s 635ms/step - loss: 30.3696 - mae: 4.2885 - mse: 30.3696 - val_loss: 1603.9502 - val_mae: 28.6022 - val_mse: 1603.9502\n",
            "Epoch 52/100\n",
            "53/53 [==============================] - 34s 643ms/step - loss: 28.4313 - mae: 4.1031 - mse: 28.4313 - val_loss: 1521.4719 - val_mae: 27.8541 - val_mse: 1521.4719\n",
            "Epoch 53/100\n",
            "53/53 [==============================] - 34s 651ms/step - loss: 25.3148 - mae: 3.8746 - mse: 25.3148 - val_loss: 1633.5503 - val_mae: 29.0375 - val_mse: 1633.5503\n",
            "Epoch 54/100\n",
            "53/53 [==============================] - 34s 650ms/step - loss: 23.6748 - mae: 3.7127 - mse: 23.6748 - val_loss: 1513.3501 - val_mae: 27.7819 - val_mse: 1513.3501\n",
            "Epoch 55/100\n",
            "53/53 [==============================] - 35s 663ms/step - loss: 20.0706 - mae: 3.4387 - mse: 20.0706 - val_loss: 1564.3695 - val_mae: 28.3861 - val_mse: 1564.3695\n",
            "Epoch 56/100\n",
            "53/53 [==============================] - 35s 655ms/step - loss: 23.0907 - mae: 3.7121 - mse: 23.0907 - val_loss: 1604.2954 - val_mae: 28.9126 - val_mse: 1604.2954\n",
            "Epoch 57/100\n",
            "53/53 [==============================] - 35s 671ms/step - loss: 19.5316 - mae: 3.4012 - mse: 19.5316 - val_loss: 1560.2101 - val_mae: 28.2975 - val_mse: 1560.2101\n",
            "Epoch 58/100\n",
            "53/53 [==============================] - 35s 655ms/step - loss: 18.2797 - mae: 3.2919 - mse: 18.2797 - val_loss: 1509.9369 - val_mae: 28.2746 - val_mse: 1509.9369\n",
            "Epoch 59/100\n",
            "53/53 [==============================] - 34s 647ms/step - loss: 23.9071 - mae: 3.7652 - mse: 23.9071 - val_loss: 1558.9457 - val_mae: 28.3720 - val_mse: 1558.9457\n",
            "Epoch 60/100\n",
            "53/53 [==============================] - 34s 649ms/step - loss: 16.1856 - mae: 3.1070 - mse: 16.1856 - val_loss: 1564.1057 - val_mae: 28.4862 - val_mse: 1564.1057\n",
            "Epoch 61/100\n",
            "53/53 [==============================] - 35s 658ms/step - loss: 15.4447 - mae: 2.9644 - mse: 15.4447 - val_loss: 1628.0592 - val_mae: 29.0058 - val_mse: 1628.0592\n",
            "Epoch 62/100\n",
            "53/53 [==============================] - 35s 661ms/step - loss: 15.8574 - mae: 3.0914 - mse: 15.8574 - val_loss: 1584.7902 - val_mae: 28.6344 - val_mse: 1584.7902\n",
            "Epoch 63/100\n",
            "53/53 [==============================] - 35s 653ms/step - loss: 15.1134 - mae: 3.0192 - mse: 15.1134 - val_loss: 1587.5325 - val_mae: 28.8230 - val_mse: 1587.5325\n",
            "Epoch 64/100\n",
            "53/53 [==============================] - 34s 644ms/step - loss: 15.7265 - mae: 3.0687 - mse: 15.7265 - val_loss: 1600.7588 - val_mae: 28.8239 - val_mse: 1600.7588\n",
            "Epoch 65/100\n",
            "53/53 [==============================] - 35s 652ms/step - loss: 13.9510 - mae: 2.8549 - mse: 13.9510 - val_loss: 1609.7046 - val_mae: 28.9614 - val_mse: 1609.7046\n",
            "Epoch 66/100\n",
            "53/53 [==============================] - 34s 647ms/step - loss: 15.2268 - mae: 2.9703 - mse: 15.2268 - val_loss: 1661.4395 - val_mae: 29.5379 - val_mse: 1661.4395\n",
            "Epoch 67/100\n",
            "53/53 [==============================] - 35s 654ms/step - loss: 16.9876 - mae: 3.1447 - mse: 16.9876 - val_loss: 1492.6040 - val_mae: 27.7663 - val_mse: 1492.6040\n",
            "Epoch 68/100\n",
            "53/53 [==============================] - 35s 656ms/step - loss: 14.9670 - mae: 2.9807 - mse: 14.9670 - val_loss: 1566.2700 - val_mae: 28.5038 - val_mse: 1566.2700\n",
            "Epoch 69/100\n",
            "53/53 [==============================] - 35s 660ms/step - loss: 10.9471 - mae: 2.5324 - mse: 10.9471 - val_loss: 1581.4200 - val_mae: 28.8408 - val_mse: 1581.4200\n",
            "Epoch 70/100\n",
            "53/53 [==============================] - 34s 648ms/step - loss: 10.6624 - mae: 2.5266 - mse: 10.6624 - val_loss: 1647.5984 - val_mae: 29.3528 - val_mse: 1647.5984\n",
            "Epoch 71/100\n",
            "53/53 [==============================] - 35s 661ms/step - loss: 12.4971 - mae: 2.7434 - mse: 12.4971 - val_loss: 1642.3741 - val_mae: 29.2775 - val_mse: 1642.3741\n",
            "Epoch 72/100\n",
            "53/53 [==============================] - 35s 668ms/step - loss: 11.0966 - mae: 2.5860 - mse: 11.0966 - val_loss: 1680.0668 - val_mae: 29.6642 - val_mse: 1680.0668\n",
            "Epoch 73/100\n",
            "53/53 [==============================] - 35s 651ms/step - loss: 12.3736 - mae: 2.7313 - mse: 12.3736 - val_loss: 1590.9049 - val_mae: 28.7298 - val_mse: 1590.9049\n",
            "Epoch 74/100\n",
            "53/53 [==============================] - 34s 649ms/step - loss: 10.0966 - mae: 2.4476 - mse: 10.0966 - val_loss: 1543.3412 - val_mae: 28.3062 - val_mse: 1543.3412\n",
            "Epoch 75/100\n",
            "53/53 [==============================] - 34s 644ms/step - loss: 10.5160 - mae: 2.5150 - mse: 10.5160 - val_loss: 1624.4128 - val_mae: 28.9424 - val_mse: 1624.4128\n",
            "Epoch 76/100\n",
            "53/53 [==============================] - 35s 652ms/step - loss: 9.4763 - mae: 2.3642 - mse: 9.4763 - val_loss: 1570.9296 - val_mae: 28.5076 - val_mse: 1570.9296\n",
            "Epoch 77/100\n",
            "53/53 [==============================] - 34s 643ms/step - loss: 11.9309 - mae: 2.6436 - mse: 11.9309 - val_loss: 1654.5093 - val_mae: 29.2613 - val_mse: 1654.5093\n",
            "Epoch 78/100\n",
            "53/53 [==============================] - 35s 657ms/step - loss: 10.8382 - mae: 2.5469 - mse: 10.8382 - val_loss: 1565.5459 - val_mae: 28.4565 - val_mse: 1565.5459\n",
            "Epoch 79/100\n",
            "53/53 [==============================] - 35s 658ms/step - loss: 11.4697 - mae: 2.6301 - mse: 11.4697 - val_loss: 1591.9889 - val_mae: 28.7488 - val_mse: 1591.9889\n",
            "Epoch 80/100\n",
            "53/53 [==============================] - 34s 650ms/step - loss: 11.6229 - mae: 2.6878 - mse: 11.6229 - val_loss: 1662.4512 - val_mae: 29.4916 - val_mse: 1662.4512\n",
            "Epoch 81/100\n",
            "53/53 [==============================] - 35s 667ms/step - loss: 8.8953 - mae: 2.3328 - mse: 8.8953 - val_loss: 1570.7700 - val_mae: 28.6225 - val_mse: 1570.7700\n",
            "Epoch 82/100\n",
            "53/53 [==============================] - 34s 637ms/step - loss: 6.7432 - mae: 2.0304 - mse: 6.7432 - val_loss: 1503.8994 - val_mae: 27.9551 - val_mse: 1503.8994\n",
            "Epoch 83/100\n",
            "53/53 [==============================] - 34s 635ms/step - loss: 7.3548 - mae: 2.1178 - mse: 7.3548 - val_loss: 1602.5648 - val_mae: 28.8440 - val_mse: 1602.5648\n",
            "Epoch 84/100\n",
            "53/53 [==============================] - 35s 653ms/step - loss: 10.3876 - mae: 2.5014 - mse: 10.3876 - val_loss: 1543.7981 - val_mae: 28.3679 - val_mse: 1543.7981\n",
            "Epoch 85/100\n",
            "53/53 [==============================] - 35s 653ms/step - loss: 8.2330 - mae: 2.2329 - mse: 8.2330 - val_loss: 1567.3025 - val_mae: 28.4778 - val_mse: 1567.3025\n",
            "Epoch 86/100\n",
            "53/53 [==============================] - 34s 647ms/step - loss: 7.6363 - mae: 2.0593 - mse: 7.6363 - val_loss: 1565.4149 - val_mae: 28.5919 - val_mse: 1565.4149\n",
            "Epoch 87/100\n",
            "53/53 [==============================] - 35s 669ms/step - loss: 7.7568 - mae: 2.1071 - mse: 7.7568 - val_loss: 1560.3749 - val_mae: 28.5732 - val_mse: 1560.3749\n",
            "Epoch 88/100\n",
            "53/53 [==============================] - 35s 662ms/step - loss: 7.6450 - mae: 2.0993 - mse: 7.6450 - val_loss: 1548.3480 - val_mae: 28.2585 - val_mse: 1548.3480\n",
            "Epoch 89/100\n",
            "53/53 [==============================] - 34s 651ms/step - loss: 7.5355 - mae: 2.1515 - mse: 7.5355 - val_loss: 1518.2397 - val_mae: 27.9768 - val_mse: 1518.2397\n",
            "Epoch 90/100\n",
            "53/53 [==============================] - 35s 663ms/step - loss: 7.4128 - mae: 2.1469 - mse: 7.4128 - val_loss: 1593.8407 - val_mae: 28.6383 - val_mse: 1593.8407\n",
            "Epoch 91/100\n",
            "53/53 [==============================] - 35s 655ms/step - loss: 10.8041 - mae: 2.5085 - mse: 10.8041 - val_loss: 1582.8159 - val_mae: 28.6332 - val_mse: 1582.8159\n",
            "Epoch 92/100\n",
            "53/53 [==============================] - 34s 651ms/step - loss: 8.4466 - mae: 2.2348 - mse: 8.4466 - val_loss: 1491.5762 - val_mae: 27.6396 - val_mse: 1491.5762\n",
            "Epoch 93/100\n",
            "53/53 [==============================] - 35s 664ms/step - loss: 8.0853 - mae: 2.1845 - mse: 8.0853 - val_loss: 1585.9221 - val_mae: 28.6066 - val_mse: 1585.9221\n",
            "Epoch 94/100\n",
            "53/53 [==============================] - 34s 641ms/step - loss: 6.5055 - mae: 2.0122 - mse: 6.5055 - val_loss: 1517.8242 - val_mae: 28.0649 - val_mse: 1517.8242\n",
            "Epoch 95/100\n",
            "53/53 [==============================] - 34s 647ms/step - loss: 5.8785 - mae: 1.9077 - mse: 5.8785 - val_loss: 1512.1276 - val_mae: 27.8768 - val_mse: 1512.1276\n",
            "Epoch 96/100\n",
            "53/53 [==============================] - 34s 649ms/step - loss: 6.3672 - mae: 1.9824 - mse: 6.3672 - val_loss: 1613.8059 - val_mae: 29.0394 - val_mse: 1613.8059\n",
            "Epoch 97/100\n",
            "53/53 [==============================] - 35s 654ms/step - loss: 7.4058 - mae: 2.1464 - mse: 7.4058 - val_loss: 1500.1090 - val_mae: 27.7009 - val_mse: 1500.1090\n",
            "Epoch 98/100\n",
            "53/53 [==============================] - 34s 642ms/step - loss: 5.2627 - mae: 1.7906 - mse: 5.2627 - val_loss: 1530.6812 - val_mae: 27.9866 - val_mse: 1530.6812\n",
            "Epoch 99/100\n",
            "53/53 [==============================] - 34s 649ms/step - loss: 6.1310 - mae: 1.9485 - mse: 6.1310 - val_loss: 1547.1227 - val_mae: 28.2226 - val_mse: 1547.1227\n",
            "Epoch 100/100\n",
            "53/53 [==============================] - 35s 667ms/step - loss: 6.0149 - mae: 1.8997 - mse: 6.0149 - val_loss: 1551.5116 - val_mae: 28.2993 - val_mse: 1551.5116\n"
          ]
        }
      ],
      "source": [
        "r=model_bi_lstm.fit(\n",
        "    Xtrain,\n",
        "    Ytrain,\n",
        "    epochs=100,\n",
        "    validation_data=(Xtest,Ytest),\n",
        "    callbacks=[check_point_bi_lstm]\n",
        ")"
      ]
    },
    {
      "cell_type": "markdown",
      "metadata": {
        "id": "8AVWuHEeDrUU"
      },
      "source": [
        "Bi-directional GRU"
      ]
    },
    {
      "cell_type": "code",
      "execution_count": 139,
      "metadata": {
        "colab": {
          "base_uri": "https://localhost:8080/"
        },
        "id": "cUHtZz0A7t3k",
        "outputId": "b5848a52-78d5-4751-ddb2-3b7f4f912cf6"
      },
      "outputs": [
        {
          "output_type": "stream",
          "name": "stdout",
          "text": [
            "Model: \"model_7\"\n",
            "_________________________________________________________________\n",
            " Layer (type)                Output Shape              Param #   \n",
            "=================================================================\n",
            " input_8 (InputLayer)        [(None, 50, 1)]           0         \n",
            "                                                                 \n",
            " bidirectional_14 (Bidirecti  (None, 50, 400)          243600    \n",
            " onal)                                                           \n",
            "                                                                 \n",
            " bidirectional_15 (Bidirecti  (None, 50, 400)          722400    \n",
            " onal)                                                           \n",
            "                                                                 \n",
            " global_max_pooling1d_7 (Glo  (None, 400)              0         \n",
            " balMaxPooling1D)                                                \n",
            "                                                                 \n",
            " dense_21 (Dense)            (None, 100)               40100     \n",
            "                                                                 \n",
            " dense_22 (Dense)            (None, 50)                5050      \n",
            "                                                                 \n",
            " dense_23 (Dense)            (None, 1)                 51        \n",
            "                                                                 \n",
            "=================================================================\n",
            "Total params: 1,011,201\n",
            "Trainable params: 1,011,201\n",
            "Non-trainable params: 0\n",
            "_________________________________________________________________\n"
          ]
        }
      ],
      "source": [
        "i=Input(shape=(T,1))\n",
        "x=Bidirectional(GRU(200,return_sequences=True))(i)\n",
        "x=Bidirectional(GRU(200,return_sequences=True))(x)\n",
        "x=GlobalMaxPool1D()(x)\n",
        "x=Dense(100)(x)\n",
        "x=Dense(50)(x)\n",
        "x=Dense(1)(x)\n",
        "model_bi_gru=Model(i,x)\n",
        "model_bi_gru.summary()"
      ]
    },
    {
      "cell_type": "code",
      "execution_count": 140,
      "metadata": {
        "id": "31j89DK6DqGT"
      },
      "outputs": [],
      "source": [
        "check_point_bi_gru=ModelCheckpoint('best_model.h5',monitor='val_loss',save_best_only=True)"
      ]
    },
    {
      "cell_type": "code",
      "execution_count": 141,
      "metadata": {
        "id": "e0_x1t5JDqJK"
      },
      "outputs": [],
      "source": [
        "model_bi_gru.compile(loss='mse',\n",
        "              optimizer='adamax',\n",
        "              metrics=['mae','mse'])"
      ]
    },
    {
      "cell_type": "code",
      "execution_count": 142,
      "metadata": {
        "colab": {
          "base_uri": "https://localhost:8080/"
        },
        "id": "fu63FFgDDqMS",
        "outputId": "6f5cbc8f-7190-475f-b560-001d0787439b"
      },
      "outputs": [
        {
          "output_type": "stream",
          "name": "stdout",
          "text": [
            "Epoch 1/100\n",
            "53/53 [==============================] - 39s 576ms/step - loss: 109.6723 - mae: 7.3030 - mse: 109.6723 - val_loss: 1002.1382 - val_mae: 20.4683 - val_mse: 1002.1382\n",
            "Epoch 2/100\n",
            "53/53 [==============================] - 28s 537ms/step - loss: 108.7349 - mae: 7.2779 - mse: 108.7349 - val_loss: 1004.0135 - val_mae: 20.3832 - val_mse: 1004.0135\n",
            "Epoch 3/100\n",
            "53/53 [==============================] - 29s 555ms/step - loss: 108.4740 - mae: 7.2638 - mse: 108.4740 - val_loss: 1004.5550 - val_mae: 20.3845 - val_mse: 1004.5550\n",
            "Epoch 4/100\n",
            "53/53 [==============================] - 29s 551ms/step - loss: 108.7270 - mae: 7.2655 - mse: 108.7270 - val_loss: 1005.3510 - val_mae: 20.3960 - val_mse: 1005.3510\n",
            "Epoch 5/100\n",
            "53/53 [==============================] - 29s 549ms/step - loss: 108.4054 - mae: 7.2734 - mse: 108.4054 - val_loss: 1003.7714 - val_mae: 20.3932 - val_mse: 1003.7714\n",
            "Epoch 6/100\n",
            "53/53 [==============================] - 28s 527ms/step - loss: 108.3995 - mae: 7.2592 - mse: 108.3995 - val_loss: 1002.4461 - val_mae: 20.3967 - val_mse: 1002.4461\n",
            "Epoch 7/100\n",
            "53/53 [==============================] - 29s 553ms/step - loss: 108.0675 - mae: 7.2727 - mse: 108.0675 - val_loss: 1003.1003 - val_mae: 20.3821 - val_mse: 1003.1003\n",
            "Epoch 8/100\n",
            "53/53 [==============================] - 28s 531ms/step - loss: 107.7912 - mae: 7.2591 - mse: 107.7912 - val_loss: 1002.9420 - val_mae: 20.3811 - val_mse: 1002.9420\n",
            "Epoch 9/100\n",
            "53/53 [==============================] - 29s 546ms/step - loss: 107.8201 - mae: 7.2810 - mse: 107.8201 - val_loss: 1004.9622 - val_mae: 20.3812 - val_mse: 1004.9622\n",
            "Epoch 10/100\n",
            "53/53 [==============================] - 29s 543ms/step - loss: 107.4457 - mae: 7.2503 - mse: 107.4457 - val_loss: 1003.3548 - val_mae: 20.3862 - val_mse: 1003.3548\n",
            "Epoch 11/100\n",
            "53/53 [==============================] - 29s 544ms/step - loss: 108.2730 - mae: 7.2870 - mse: 108.2730 - val_loss: 1007.3325 - val_mae: 20.4039 - val_mse: 1007.3325\n",
            "Epoch 12/100\n",
            "53/53 [==============================] - 29s 542ms/step - loss: 107.3143 - mae: 7.2443 - mse: 107.3143 - val_loss: 1004.3344 - val_mae: 20.3853 - val_mse: 1004.3344\n",
            "Epoch 13/100\n",
            "53/53 [==============================] - 29s 543ms/step - loss: 106.9321 - mae: 7.2410 - mse: 106.9321 - val_loss: 1005.4246 - val_mae: 20.3881 - val_mse: 1005.4246\n",
            "Epoch 14/100\n",
            "53/53 [==============================] - 29s 545ms/step - loss: 106.8914 - mae: 7.2440 - mse: 106.8914 - val_loss: 1004.7267 - val_mae: 20.3891 - val_mse: 1004.7267\n",
            "Epoch 15/100\n",
            "53/53 [==============================] - 29s 548ms/step - loss: 106.9729 - mae: 7.2808 - mse: 106.9729 - val_loss: 1007.1308 - val_mae: 20.3884 - val_mse: 1007.1308\n",
            "Epoch 16/100\n",
            "53/53 [==============================] - 29s 548ms/step - loss: 106.7282 - mae: 7.2126 - mse: 106.7282 - val_loss: 1006.9175 - val_mae: 20.3885 - val_mse: 1006.9175\n",
            "Epoch 17/100\n",
            "53/53 [==============================] - 29s 544ms/step - loss: 105.9744 - mae: 7.2312 - mse: 105.9744 - val_loss: 1010.5539 - val_mae: 20.4256 - val_mse: 1010.5539\n",
            "Epoch 18/100\n",
            "53/53 [==============================] - 28s 538ms/step - loss: 106.0431 - mae: 7.2273 - mse: 106.0431 - val_loss: 1009.8297 - val_mae: 20.3998 - val_mse: 1009.8297\n",
            "Epoch 19/100\n",
            "53/53 [==============================] - 29s 543ms/step - loss: 105.3255 - mae: 7.2155 - mse: 105.3255 - val_loss: 1005.7444 - val_mae: 20.3792 - val_mse: 1005.7444\n",
            "Epoch 20/100\n",
            "53/53 [==============================] - 29s 546ms/step - loss: 104.3240 - mae: 7.1746 - mse: 104.3240 - val_loss: 1005.5781 - val_mae: 20.3793 - val_mse: 1005.5781\n",
            "Epoch 21/100\n",
            "53/53 [==============================] - 29s 540ms/step - loss: 102.8263 - mae: 7.1370 - mse: 102.8263 - val_loss: 1008.1790 - val_mae: 20.4145 - val_mse: 1008.1790\n",
            "Epoch 22/100\n",
            "53/53 [==============================] - 29s 541ms/step - loss: 101.6075 - mae: 7.1167 - mse: 101.6075 - val_loss: 1016.5745 - val_mae: 20.5171 - val_mse: 1016.5745\n",
            "Epoch 23/100\n",
            "53/53 [==============================] - 28s 530ms/step - loss: 101.3791 - mae: 7.1478 - mse: 101.3791 - val_loss: 1018.6263 - val_mae: 20.5418 - val_mse: 1018.6263\n",
            "Epoch 24/100\n",
            "53/53 [==============================] - 28s 538ms/step - loss: 98.0406 - mae: 7.0050 - mse: 98.0406 - val_loss: 1018.6237 - val_mae: 20.5699 - val_mse: 1018.6237\n",
            "Epoch 25/100\n",
            "53/53 [==============================] - 29s 554ms/step - loss: 97.0447 - mae: 7.0059 - mse: 97.0447 - val_loss: 1008.0839 - val_mae: 20.5373 - val_mse: 1008.0839\n",
            "Epoch 26/100\n",
            "53/53 [==============================] - 29s 542ms/step - loss: 95.9356 - mae: 6.9764 - mse: 95.9356 - val_loss: 1012.2136 - val_mae: 20.5869 - val_mse: 1012.2136\n",
            "Epoch 27/100\n",
            "53/53 [==============================] - 28s 534ms/step - loss: 92.2920 - mae: 6.9018 - mse: 92.2920 - val_loss: 1021.8485 - val_mae: 20.8186 - val_mse: 1021.8485\n",
            "Epoch 28/100\n",
            "53/53 [==============================] - 29s 550ms/step - loss: 89.6392 - mae: 6.7815 - mse: 89.6392 - val_loss: 1064.9375 - val_mae: 21.2055 - val_mse: 1064.9375\n",
            "Epoch 29/100\n",
            "53/53 [==============================] - 29s 544ms/step - loss: 90.1754 - mae: 6.8572 - mse: 90.1754 - val_loss: 1049.4366 - val_mae: 21.0916 - val_mse: 1049.4366\n",
            "Epoch 30/100\n",
            "53/53 [==============================] - 28s 537ms/step - loss: 85.2410 - mae: 6.6813 - mse: 85.2410 - val_loss: 1130.3389 - val_mae: 22.2433 - val_mse: 1130.3389\n",
            "Epoch 31/100\n",
            "53/53 [==============================] - 29s 544ms/step - loss: 81.9934 - mae: 6.6150 - mse: 81.9934 - val_loss: 1107.4988 - val_mae: 21.8761 - val_mse: 1107.4988\n",
            "Epoch 32/100\n",
            "53/53 [==============================] - 28s 534ms/step - loss: 80.1380 - mae: 6.5310 - mse: 80.1380 - val_loss: 1062.0221 - val_mae: 21.4618 - val_mse: 1062.0221\n",
            "Epoch 33/100\n",
            "53/53 [==============================] - 28s 530ms/step - loss: 73.5909 - mae: 6.3100 - mse: 73.5909 - val_loss: 1070.1259 - val_mae: 21.8575 - val_mse: 1070.1259\n",
            "Epoch 34/100\n",
            "53/53 [==============================] - 29s 546ms/step - loss: 82.7473 - mae: 6.7886 - mse: 82.7473 - val_loss: 1078.3944 - val_mae: 21.8114 - val_mse: 1078.3944\n",
            "Epoch 35/100\n",
            "53/53 [==============================] - 28s 536ms/step - loss: 71.7412 - mae: 6.2366 - mse: 71.7412 - val_loss: 1187.1260 - val_mae: 23.2303 - val_mse: 1187.1260\n",
            "Epoch 36/100\n",
            "53/53 [==============================] - 28s 531ms/step - loss: 71.3491 - mae: 6.2195 - mse: 71.3491 - val_loss: 1123.1794 - val_mae: 22.4572 - val_mse: 1123.1794\n",
            "Epoch 37/100\n",
            "53/53 [==============================] - 29s 544ms/step - loss: 64.3768 - mae: 5.9243 - mse: 64.3768 - val_loss: 1271.4216 - val_mae: 24.2971 - val_mse: 1271.4216\n",
            "Epoch 38/100\n",
            "53/53 [==============================] - 29s 539ms/step - loss: 62.4366 - mae: 5.8653 - mse: 62.4366 - val_loss: 1150.1147 - val_mae: 22.9318 - val_mse: 1150.1147\n",
            "Epoch 39/100\n",
            "53/53 [==============================] - 29s 549ms/step - loss: 60.1992 - mae: 5.7708 - mse: 60.1992 - val_loss: 1274.8401 - val_mae: 24.5247 - val_mse: 1274.8401\n",
            "Epoch 40/100\n",
            "53/53 [==============================] - 28s 537ms/step - loss: 55.2595 - mae: 5.5176 - mse: 55.2595 - val_loss: 1315.8971 - val_mae: 25.0406 - val_mse: 1315.8971\n",
            "Epoch 41/100\n",
            "53/53 [==============================] - 28s 539ms/step - loss: 53.4432 - mae: 5.5601 - mse: 53.4432 - val_loss: 1247.6202 - val_mae: 24.1262 - val_mse: 1247.6202\n",
            "Epoch 42/100\n",
            "53/53 [==============================] - 29s 545ms/step - loss: 52.9273 - mae: 5.5241 - mse: 52.9273 - val_loss: 1236.2150 - val_mae: 24.1066 - val_mse: 1236.2150\n",
            "Epoch 43/100\n",
            "53/53 [==============================] - 29s 545ms/step - loss: 52.9515 - mae: 5.5631 - mse: 52.9515 - val_loss: 1356.4033 - val_mae: 25.6364 - val_mse: 1356.4033\n",
            "Epoch 44/100\n",
            "53/53 [==============================] - 28s 536ms/step - loss: 42.6142 - mae: 4.9135 - mse: 42.6142 - val_loss: 1380.9518 - val_mae: 25.8724 - val_mse: 1380.9518\n",
            "Epoch 45/100\n",
            "53/53 [==============================] - 29s 543ms/step - loss: 43.0597 - mae: 5.0115 - mse: 43.0597 - val_loss: 1407.2568 - val_mae: 26.3090 - val_mse: 1407.2568\n",
            "Epoch 46/100\n",
            "53/53 [==============================] - 28s 532ms/step - loss: 44.1477 - mae: 5.1013 - mse: 44.1477 - val_loss: 1375.2323 - val_mae: 25.9215 - val_mse: 1375.2323\n",
            "Epoch 47/100\n",
            "53/53 [==============================] - 28s 534ms/step - loss: 39.8489 - mae: 4.8059 - mse: 39.8489 - val_loss: 1590.1536 - val_mae: 28.2534 - val_mse: 1590.1536\n",
            "Epoch 48/100\n",
            "53/53 [==============================] - 29s 543ms/step - loss: 34.4080 - mae: 4.4571 - mse: 34.4080 - val_loss: 1490.1865 - val_mae: 27.0761 - val_mse: 1490.1865\n",
            "Epoch 49/100\n",
            "53/53 [==============================] - 28s 536ms/step - loss: 36.1028 - mae: 4.5722 - mse: 36.1028 - val_loss: 1532.4128 - val_mae: 27.3695 - val_mse: 1532.4128\n",
            "Epoch 50/100\n",
            "53/53 [==============================] - 29s 545ms/step - loss: 31.8024 - mae: 4.3691 - mse: 31.8024 - val_loss: 1729.8102 - val_mae: 29.6174 - val_mse: 1729.8102\n",
            "Epoch 51/100\n",
            "53/53 [==============================] - 29s 540ms/step - loss: 30.8311 - mae: 4.2825 - mse: 30.8311 - val_loss: 1850.8434 - val_mae: 31.1739 - val_mse: 1850.8434\n",
            "Epoch 52/100\n",
            "53/53 [==============================] - 28s 531ms/step - loss: 28.5333 - mae: 4.1149 - mse: 28.5333 - val_loss: 1672.6494 - val_mae: 29.1800 - val_mse: 1672.6494\n",
            "Epoch 53/100\n",
            "53/53 [==============================] - 29s 546ms/step - loss: 27.4647 - mae: 3.9938 - mse: 27.4647 - val_loss: 1857.8662 - val_mae: 31.2446 - val_mse: 1857.8662\n",
            "Epoch 54/100\n",
            "53/53 [==============================] - 29s 541ms/step - loss: 30.5598 - mae: 4.3222 - mse: 30.5598 - val_loss: 1609.6814 - val_mae: 28.3164 - val_mse: 1609.6814\n",
            "Epoch 55/100\n",
            "53/53 [==============================] - 29s 538ms/step - loss: 23.3162 - mae: 3.6697 - mse: 23.3162 - val_loss: 1731.7410 - val_mae: 29.6521 - val_mse: 1731.7410\n",
            "Epoch 56/100\n",
            "53/53 [==============================] - 29s 542ms/step - loss: 21.5598 - mae: 3.5897 - mse: 21.5598 - val_loss: 1749.7268 - val_mae: 29.8903 - val_mse: 1749.7268\n",
            "Epoch 57/100\n",
            "53/53 [==============================] - 29s 547ms/step - loss: 22.0152 - mae: 3.6453 - mse: 22.0152 - val_loss: 1886.3551 - val_mae: 31.3931 - val_mse: 1886.3551\n",
            "Epoch 58/100\n",
            "53/53 [==============================] - 29s 540ms/step - loss: 21.8668 - mae: 3.5464 - mse: 21.8668 - val_loss: 1665.9517 - val_mae: 28.8734 - val_mse: 1665.9517\n",
            "Epoch 59/100\n",
            "53/53 [==============================] - 29s 547ms/step - loss: 20.4743 - mae: 3.5175 - mse: 20.4743 - val_loss: 1645.5142 - val_mae: 28.6834 - val_mse: 1645.5142\n",
            "Epoch 60/100\n",
            "53/53 [==============================] - 28s 535ms/step - loss: 20.0095 - mae: 3.4299 - mse: 20.0095 - val_loss: 1715.3470 - val_mae: 29.4852 - val_mse: 1715.3470\n",
            "Epoch 61/100\n",
            "53/53 [==============================] - 29s 544ms/step - loss: 18.8759 - mae: 3.3426 - mse: 18.8759 - val_loss: 1828.2566 - val_mae: 30.6717 - val_mse: 1828.2566\n",
            "Epoch 62/100\n",
            "53/53 [==============================] - 28s 530ms/step - loss: 18.9288 - mae: 3.3937 - mse: 18.9288 - val_loss: 1785.5779 - val_mae: 30.3076 - val_mse: 1785.5779\n",
            "Epoch 63/100\n",
            "53/53 [==============================] - 29s 548ms/step - loss: 16.2220 - mae: 3.1228 - mse: 16.2220 - val_loss: 1761.3901 - val_mae: 29.9386 - val_mse: 1761.3901\n",
            "Epoch 64/100\n",
            "53/53 [==============================] - 28s 529ms/step - loss: 12.9356 - mae: 2.7336 - mse: 12.9356 - val_loss: 1803.3154 - val_mae: 30.3671 - val_mse: 1803.3154\n",
            "Epoch 65/100\n",
            "53/53 [==============================] - 29s 547ms/step - loss: 13.6139 - mae: 2.8688 - mse: 13.6139 - val_loss: 1914.0397 - val_mae: 31.6203 - val_mse: 1914.0397\n",
            "Epoch 66/100\n",
            "53/53 [==============================] - 29s 539ms/step - loss: 15.9621 - mae: 3.0981 - mse: 15.9621 - val_loss: 1827.1051 - val_mae: 30.7159 - val_mse: 1827.1051\n",
            "Epoch 67/100\n",
            "53/53 [==============================] - 29s 541ms/step - loss: 15.1746 - mae: 3.0101 - mse: 15.1746 - val_loss: 1844.3318 - val_mae: 30.8995 - val_mse: 1844.3318\n",
            "Epoch 68/100\n",
            "53/53 [==============================] - 29s 541ms/step - loss: 11.5926 - mae: 2.6136 - mse: 11.5926 - val_loss: 1835.3495 - val_mae: 30.6913 - val_mse: 1835.3495\n",
            "Epoch 69/100\n",
            "53/53 [==============================] - 29s 546ms/step - loss: 11.1066 - mae: 2.5482 - mse: 11.1066 - val_loss: 1778.0850 - val_mae: 30.1271 - val_mse: 1778.0850\n",
            "Epoch 70/100\n",
            "53/53 [==============================] - 29s 542ms/step - loss: 13.1292 - mae: 2.8088 - mse: 13.1292 - val_loss: 1843.9696 - val_mae: 30.8986 - val_mse: 1843.9696\n",
            "Epoch 71/100\n",
            "53/53 [==============================] - 28s 537ms/step - loss: 12.1413 - mae: 2.7118 - mse: 12.1413 - val_loss: 1784.7299 - val_mae: 30.0546 - val_mse: 1784.7299\n",
            "Epoch 72/100\n",
            "53/53 [==============================] - 29s 546ms/step - loss: 11.3451 - mae: 2.5841 - mse: 11.3451 - val_loss: 1871.8167 - val_mae: 31.0585 - val_mse: 1871.8167\n",
            "Epoch 73/100\n",
            "53/53 [==============================] - 29s 544ms/step - loss: 10.6671 - mae: 2.5661 - mse: 10.6671 - val_loss: 1819.8235 - val_mae: 30.6332 - val_mse: 1819.8235\n",
            "Epoch 74/100\n",
            "53/53 [==============================] - 29s 543ms/step - loss: 13.3536 - mae: 2.8581 - mse: 13.3536 - val_loss: 1889.1823 - val_mae: 31.3840 - val_mse: 1889.1823\n",
            "Epoch 75/100\n",
            "53/53 [==============================] - 29s 541ms/step - loss: 10.3912 - mae: 2.5154 - mse: 10.3912 - val_loss: 1708.9960 - val_mae: 29.4036 - val_mse: 1708.9960\n",
            "Epoch 76/100\n",
            "53/53 [==============================] - 29s 549ms/step - loss: 10.5510 - mae: 2.5446 - mse: 10.5510 - val_loss: 1781.7139 - val_mae: 30.2628 - val_mse: 1781.7139\n",
            "Epoch 77/100\n",
            "53/53 [==============================] - 29s 548ms/step - loss: 11.7008 - mae: 2.6712 - mse: 11.7008 - val_loss: 1786.0466 - val_mae: 30.2557 - val_mse: 1786.0466\n",
            "Epoch 78/100\n",
            "53/53 [==============================] - 28s 534ms/step - loss: 11.3204 - mae: 2.6535 - mse: 11.3204 - val_loss: 1585.1080 - val_mae: 28.1373 - val_mse: 1585.1080\n",
            "Epoch 79/100\n",
            "53/53 [==============================] - 29s 551ms/step - loss: 8.8926 - mae: 2.3220 - mse: 8.8926 - val_loss: 1711.1630 - val_mae: 29.6338 - val_mse: 1711.1630\n",
            "Epoch 80/100\n",
            "53/53 [==============================] - 28s 539ms/step - loss: 11.1812 - mae: 2.5867 - mse: 11.1812 - val_loss: 1734.1144 - val_mae: 29.7700 - val_mse: 1734.1144\n",
            "Epoch 81/100\n",
            "53/53 [==============================] - 29s 544ms/step - loss: 9.7087 - mae: 2.4149 - mse: 9.7087 - val_loss: 1759.0387 - val_mae: 29.9677 - val_mse: 1759.0387\n",
            "Epoch 82/100\n",
            "53/53 [==============================] - 29s 542ms/step - loss: 8.8013 - mae: 2.3589 - mse: 8.8013 - val_loss: 1733.6801 - val_mae: 29.7216 - val_mse: 1733.6801\n",
            "Epoch 83/100\n",
            "53/53 [==============================] - 28s 535ms/step - loss: 10.6072 - mae: 2.5340 - mse: 10.6072 - val_loss: 1692.2523 - val_mae: 29.4284 - val_mse: 1692.2523\n",
            "Epoch 84/100\n",
            "53/53 [==============================] - 29s 542ms/step - loss: 7.1929 - mae: 2.1101 - mse: 7.1929 - val_loss: 1706.7344 - val_mae: 29.3207 - val_mse: 1706.7344\n",
            "Epoch 85/100\n",
            "53/53 [==============================] - 29s 549ms/step - loss: 7.2928 - mae: 2.1307 - mse: 7.2928 - val_loss: 1748.1514 - val_mae: 29.9120 - val_mse: 1748.1514\n",
            "Epoch 86/100\n",
            "53/53 [==============================] - 28s 535ms/step - loss: 7.2641 - mae: 2.1063 - mse: 7.2641 - val_loss: 1675.4498 - val_mae: 28.9891 - val_mse: 1675.4498\n",
            "Epoch 87/100\n",
            "53/53 [==============================] - 29s 541ms/step - loss: 7.7162 - mae: 2.2033 - mse: 7.7162 - val_loss: 1736.3724 - val_mae: 29.8853 - val_mse: 1736.3724\n",
            "Epoch 88/100\n",
            "53/53 [==============================] - 30s 559ms/step - loss: 10.9437 - mae: 2.6067 - mse: 10.9437 - val_loss: 1652.4120 - val_mae: 28.7660 - val_mse: 1652.4120\n",
            "Epoch 89/100\n",
            "53/53 [==============================] - 29s 550ms/step - loss: 6.9956 - mae: 2.0996 - mse: 6.9956 - val_loss: 1699.7321 - val_mae: 29.3392 - val_mse: 1699.7321\n",
            "Epoch 90/100\n",
            "53/53 [==============================] - 28s 535ms/step - loss: 5.5908 - mae: 1.8515 - mse: 5.5908 - val_loss: 1667.1584 - val_mae: 28.9175 - val_mse: 1667.1584\n",
            "Epoch 91/100\n",
            "53/53 [==============================] - 28s 534ms/step - loss: 7.9757 - mae: 2.2357 - mse: 7.9757 - val_loss: 1654.1602 - val_mae: 28.8475 - val_mse: 1654.1602\n",
            "Epoch 92/100\n",
            "53/53 [==============================] - 29s 543ms/step - loss: 8.3925 - mae: 2.2816 - mse: 8.3925 - val_loss: 1620.4470 - val_mae: 28.4363 - val_mse: 1620.4470\n",
            "Epoch 93/100\n",
            "53/53 [==============================] - 28s 533ms/step - loss: 7.1135 - mae: 2.0964 - mse: 7.1135 - val_loss: 1713.4337 - val_mae: 29.3557 - val_mse: 1713.4337\n",
            "Epoch 94/100\n",
            "53/53 [==============================] - 29s 541ms/step - loss: 7.0159 - mae: 2.0853 - mse: 7.0159 - val_loss: 1596.5199 - val_mae: 28.0813 - val_mse: 1596.5199\n",
            "Epoch 95/100\n",
            "53/53 [==============================] - 29s 545ms/step - loss: 7.5131 - mae: 2.1517 - mse: 7.5131 - val_loss: 1644.2225 - val_mae: 28.5893 - val_mse: 1644.2225\n",
            "Epoch 96/100\n",
            "53/53 [==============================] - 29s 543ms/step - loss: 11.0520 - mae: 2.6127 - mse: 11.0520 - val_loss: 1691.5942 - val_mae: 29.1458 - val_mse: 1691.5942\n",
            "Epoch 97/100\n",
            "53/53 [==============================] - 29s 542ms/step - loss: 6.8802 - mae: 2.0597 - mse: 6.8802 - val_loss: 1687.1154 - val_mae: 29.2413 - val_mse: 1687.1154\n",
            "Epoch 98/100\n",
            "53/53 [==============================] - 29s 541ms/step - loss: 4.4544 - mae: 1.6314 - mse: 4.4544 - val_loss: 1659.4658 - val_mae: 28.9108 - val_mse: 1659.4658\n",
            "Epoch 99/100\n",
            "53/53 [==============================] - 29s 545ms/step - loss: 4.0292 - mae: 1.5722 - mse: 4.0292 - val_loss: 1714.6265 - val_mae: 29.5173 - val_mse: 1714.6265\n",
            "Epoch 100/100\n",
            "53/53 [==============================] - 29s 544ms/step - loss: 4.6292 - mae: 1.7014 - mse: 4.6292 - val_loss: 1657.2256 - val_mae: 28.7875 - val_mse: 1657.2256\n"
          ]
        }
      ],
      "source": [
        "r=model_bi_gru.fit(\n",
        "    Xtrain,\n",
        "    Ytrain,\n",
        "    epochs=100,\n",
        "    validation_data=(Xtest,Ytest),\n",
        "    callbacks=[check_point_bi_gru]\n",
        ")"
      ]
    },
    {
      "cell_type": "markdown",
      "metadata": {
        "id": "uo4koH4XEkiv"
      },
      "source": [
        "Predictions"
      ]
    },
    {
      "cell_type": "code",
      "execution_count": 143,
      "metadata": {
        "id": "-vEh0mmyDqPC"
      },
      "outputs": [],
      "source": [
        "train_idx[:T+1]=False"
      ]
    },
    {
      "cell_type": "code",
      "execution_count": 144,
      "metadata": {
        "id": "OftAJjIQDqR5"
      },
      "outputs": [],
      "source": [
        "Ptrain_bi_lstm=model_bi_lstm.predict(Xtrain).flatten()\n",
        "Ptest_bi_lstm=model_bi_lstm.predict(Xtest).flatten()"
      ]
    },
    {
      "cell_type": "code",
      "execution_count": 145,
      "metadata": {
        "id": "LPvgcdw4DqU9"
      },
      "outputs": [],
      "source": [
        "Ptrain_bi_gru=model_bi_gru.predict(Xtrain).flatten()\n",
        "Ptest_bi_gru=model_bi_gru.predict(Xtest).flatten()"
      ]
    },
    {
      "cell_type": "code",
      "execution_count": 146,
      "metadata": {
        "id": "D1MjWqICDqX4"
      },
      "outputs": [],
      "source": [
        "df.loc[train_idx,'Diff Bi-LSTM train prediction']=Ptrain_bi_lstm\n",
        "df.loc[test_idx,'Diff bi-LSTM test prediction']=Ptest_bi_lstm"
      ]
    },
    {
      "cell_type": "code",
      "execution_count": 147,
      "metadata": {
        "id": "JGyHZQpeDqbP"
      },
      "outputs": [],
      "source": [
        "df.loc[train_idx,'Diff Bi-GRU train prediction']=Ptrain_bi_gru\n",
        "df.loc[test_idx,'Diff BiGRU test prediction']=Ptest_bi_gru"
      ]
    },
    {
      "cell_type": "code",
      "execution_count": 148,
      "metadata": {
        "id": "o41wY4YSDqdr"
      },
      "outputs": [],
      "source": [
        "df['Shift Prev Close']=df['Prev Close'].shift(1)\n",
        "prev=df['Shift Prev Close']"
      ]
    },
    {
      "cell_type": "code",
      "execution_count": 149,
      "metadata": {
        "id": "ieSjZEI4Dqgo"
      },
      "outputs": [],
      "source": [
        "last_train=train.iloc[-1]['Prev Close']"
      ]
    },
    {
      "cell_type": "code",
      "execution_count": 150,
      "metadata": {
        "id": "iXAmOWl-Dqjf"
      },
      "outputs": [],
      "source": [
        "df.loc[train_idx,'train_Bi_LSTM']=prev[train_idx]+Ptrain_bi_lstm\n",
        "df.loc[test_idx,'Prediction_Bi_LSTM']=prev[test_idx]+Ptest_bi_lstm"
      ]
    },
    {
      "cell_type": "code",
      "execution_count": 151,
      "metadata": {
        "id": "zPuzleJlDqma"
      },
      "outputs": [],
      "source": [
        "df.loc[train_idx,'train_Bi_GRU']=prev[train_idx]+Ptrain_bi_gru\n",
        "df.loc[test_idx,'Prediction_Bi_GRU']=prev[test_idx]+Ptest_bi_gru"
      ]
    },
    {
      "cell_type": "code",
      "execution_count": 152,
      "metadata": {
        "id": "lnfbHo3KDqpO",
        "colab": {
          "base_uri": "https://localhost:8080/",
          "height": 563
        },
        "outputId": "e848833d-44a0-4cd9-c00b-128f6d3e3877"
      },
      "outputs": [
        {
          "output_type": "display_data",
          "data": {
            "text/plain": [
              "<Figure size 1080x720 with 1 Axes>"
            ],
            "image/png": "[encoded data removed]"
          },
          "metadata": {
            "needs_background": "light"
          }
        }
      ],
      "source": [
        "df[[ 'Prev Close','Prediction_Bi_LSTM','Prediction_Bi_GRU']].plot(figsize=(15,10));"
      ]
    },
    {
      "cell_type": "code",
      "execution_count": 153,
      "metadata": {
        "id": "riQ3YykBDqsG",
        "colab": {
          "base_uri": "https://localhost:8080/",
          "height": 571
        },
        "outputId": "ff9daaf5-bab8-4d19-813b-5203da396279"
      },
      "outputs": [
        {
          "output_type": "display_data",
          "data": {
            "text/plain": [
              "<Figure size 1080x720 with 1 Axes>"
            ],
            "image/png": "[encoded data removed]"
          },
          "metadata": {
            "needs_background": "light"
          }
        }
      ],
      "source": [
        "df[[ 'Prediction_Bi_LSTM','Prediction_Bi_GRU']].plot(figsize=(15,10));"
      ]
    },
    {
      "cell_type": "markdown",
      "metadata": {
        "id": "0o_3yUJvF-FW"
      },
      "source": [
        "Evaluation"
      ]
    },
    {
      "cell_type": "code",
      "execution_count": 154,
      "metadata": {
        "id": "vonBmF2b7t6q"
      },
      "outputs": [],
      "source": [
        "pred_bi_lstm=df['Prediction_Bi_LSTM']\n",
        "pred_bi_lstm.dropna(inplace=True)"
      ]
    },
    {
      "cell_type": "code",
      "execution_count": 155,
      "metadata": {
        "id": "sPUaq6UiGCRI",
        "colab": {
          "base_uri": "https://localhost:8080/"
        },
        "outputId": "6d54be25-d9ac-4e91-9088-f1a2d365ca62"
      },
      "outputs": [
        {
          "output_type": "stream",
          "name": "stdout",
          "text": [
            "39.38923436678554\n"
          ]
        }
      ],
      "source": [
        "rmse=math.sqrt(mean_squared_error(test['Prev Close'],pred_bi_lstm))\n",
        "print(rmse)"
      ]
    },
    {
      "cell_type": "code",
      "execution_count": 156,
      "metadata": {
        "id": "kQMcHGVCGCUL",
        "colab": {
          "base_uri": "https://localhost:8080/"
        },
        "outputId": "33fe0117-1eb4-4781-e76e-6d6f210e87d2"
      },
      "outputs": [
        {
          "output_type": "stream",
          "name": "stdout",
          "text": [
            "28.299290904522053\n"
          ]
        }
      ],
      "source": [
        "error=mean_absolute_error(test['Prev Close'],pred_bi_lstm)\n",
        "print(error)"
      ]
    },
    {
      "cell_type": "code",
      "execution_count": 157,
      "metadata": {
        "id": "lyLslWMAGCXT",
        "colab": {
          "base_uri": "https://localhost:8080/"
        },
        "outputId": "a9cde1c2-0593-47dd-f699-5490c7f889b4"
      },
      "outputs": [
        {
          "output_type": "execute_result",
          "data": {
            "text/plain": [
              "0.9802115626973855"
            ]
          },
          "metadata": {},
          "execution_count": 157
        }
      ],
      "source": [
        "r2_score(test['Prev Close'],pred_bi_lstm)"
      ]
    },
    {
      "cell_type": "code",
      "execution_count": 158,
      "metadata": {
        "id": "wa7wnr9TGC2J"
      },
      "outputs": [],
      "source": [
        "pred_bi_gru=df['Prediction_Bi_GRU']\n",
        "pred_bi_gru.dropna(inplace=True)"
      ]
    },
    {
      "cell_type": "code",
      "execution_count": 159,
      "metadata": {
        "id": "EkKg0wGaGC-e",
        "colab": {
          "base_uri": "https://localhost:8080/"
        },
        "outputId": "6dedd2ae-134f-4362-9dd4-0e3ac46f2ee0"
      },
      "outputs": [
        {
          "output_type": "stream",
          "name": "stdout",
          "text": [
            "40.709034908480675\n"
          ]
        }
      ],
      "source": [
        "rmse=math.sqrt(mean_squared_error(test['Prev Close'],pred_bi_gru))\n",
        "print(rmse)"
      ]
    },
    {
      "cell_type": "code",
      "execution_count": 160,
      "metadata": {
        "id": "BQL76rMvGDGT",
        "colab": {
          "base_uri": "https://localhost:8080/"
        },
        "outputId": "32b22151-fe10-4486-b42a-3eb581099025"
      },
      "outputs": [
        {
          "output_type": "stream",
          "name": "stdout",
          "text": [
            "28.787538593269453\n"
          ]
        }
      ],
      "source": [
        "error=mean_absolute_error(test['Prev Close'],pred_bi_gru)\n",
        "print(error)"
      ]
    },
    {
      "cell_type": "code",
      "execution_count": 161,
      "metadata": {
        "id": "GMZqO2_yGDO_",
        "colab": {
          "base_uri": "https://localhost:8080/"
        },
        "outputId": "534c7570-21a8-4882-cf57-06bc1f72dc31"
      },
      "outputs": [
        {
          "output_type": "execute_result",
          "data": {
            "text/plain": [
              "0.9788632585972644"
            ]
          },
          "metadata": {},
          "execution_count": 161
        }
      ],
      "source": [
        "r2_score(test['Prev Close'],pred_bi_gru)"
      ]
    },
    {
      "cell_type": "code",
      "execution_count": 161,
      "metadata": {
        "id": "PIN91mEuGizf"
      },
      "outputs": [],
      "source": []
    }
  ],
  "metadata": {
    "colab": {
      "collapsed_sections": [],
      "provenance": []
    },
    "kernelspec": {
      "display_name": "Python 3",
      "name": "python3"
    },
    "language_info": {
      "name": "python"
    }
  },
  "nbformat": 4,
  "nbformat_minor": 0
}