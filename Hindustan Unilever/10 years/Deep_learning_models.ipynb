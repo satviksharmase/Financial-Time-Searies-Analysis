{
  "nbformat": 4,
  "nbformat_minor": 0,
  "metadata": {
    "colab": {
      "provenance": []
    },
    "kernelspec": {
      "name": "python3",
      "display_name": "Python 3"
    },
    "language_info": {
      "name": "python"
    }
  },
  "cells": [
    {
      "cell_type": "code",
      "execution_count": 121,
      "metadata": {
        "id": "rRzK__2FbGio"
      },
      "outputs": [],
      "source": [
        "import numpy as np\n",
        "import matplotlib.pyplot as plt\n",
        "import pandas as pd\n",
        "\n",
        "import tensorflow as tf\n",
        "from tensorflow.keras.layers import Dense, Input\n",
        "from tensorflow.keras.models import Model\n",
        "from tensorflow.keras.layers import LSTM\n",
        "from tensorflow.keras.layers import GRU\n",
        "from tensorflow.keras.layers import GlobalMaxPooling1D\n",
        "from tensorflow.keras.layers import Conv1D, MaxPooling1D\n",
        "from tensorflow.keras.callbacks import ModelCheckpoint\n",
        "\n",
        "import math\n",
        "\n",
        "from sklearn.metrics import r2_score\n",
        "from sklearn.metrics import mean_absolute_error\n",
        "from sklearn.metrics import mean_squared_error\n",
        "\n",
        "np.random.seed(123)\n",
        "tf.random.set_seed(123)"
      ]
    },
    {
      "cell_type": "code",
      "source": [
        "df=pd.read_csv('./HINDUNILVR.csv',index_col='Date',parse_dates=True)"
      ],
      "metadata": {
        "id": "AE6wbl9LcLFx"
      },
      "execution_count": 122,
      "outputs": []
    },
    {
      "cell_type": "markdown",
      "source": [
        "Data Pre processing\n"
      ],
      "metadata": {
        "id": "L8XudG86eRhq"
      }
    },
    {
      "cell_type": "code",
      "source": [
        "df"
      ],
      "metadata": {
        "colab": {
          "base_uri": "https://localhost:8080/",
          "height": 710
        },
        "id": "FUFxX_tUcmfi",
        "outputId": "906d0b57-e949-4015-824e-5f2782832bfb"
      },
      "execution_count": 123,
      "outputs": [
        {
          "output_type": "execute_result",
          "data": {
            "text/plain": [
              "                Symbol Series  Prev Close    Open     High      Low     Last  \\\n",
              "Date                                                                           \n",
              "2000-01-03   HINDLEVER     EQ     2136.60  2300.0  2307.55  2300.00  2307.55   \n",
              "2000-01-04   HINDLEVER     EQ     2307.55  2381.0  2381.00  2250.00  2270.00   \n",
              "2000-01-05   HINDLEVER     EQ     2281.05  2200.0  2250.00  2105.00  2183.50   \n",
              "2000-01-06   HINDLEVER     EQ     2199.90  2224.9  2360.00  2210.00  2300.00   \n",
              "2000-01-07   HINDLEVER     EQ     2288.20  2300.0  2452.00  2282.25  2395.00   \n",
              "...                ...    ...         ...     ...      ...      ...      ...   \n",
              "2021-04-26  HINDUNILVR     EQ     2307.75  2324.0  2369.80  2311.00  2367.70   \n",
              "2021-04-27  HINDUNILVR     EQ     2360.65  2363.0  2386.45  2352.95  2378.00   \n",
              "2021-04-28  HINDUNILVR     EQ     2379.85  2380.0  2445.00  2366.30  2404.00   \n",
              "2021-04-29  HINDUNILVR     EQ     2406.55  2433.0  2448.95  2384.15  2422.15   \n",
              "2021-04-30  HINDUNILVR     EQ     2407.60  2410.0  2442.90  2330.25  2350.00   \n",
              "\n",
              "              Close     VWAP   Volume      Turnover    Trades  \\\n",
              "Date                                                            \n",
              "2000-01-03  2307.55  2307.08    24903  5.745330e+12       NaN   \n",
              "2000-01-04  2281.05  2298.15    58514  1.344740e+13       NaN   \n",
              "2000-01-05  2199.90  2211.17    80296  1.775482e+13       NaN   \n",
              "2000-01-06  2288.20  2301.80   190032  4.374157e+13       NaN   \n",
              "2000-01-07  2412.95  2380.24   192582  4.583919e+13       NaN   \n",
              "...             ...      ...      ...           ...       ...   \n",
              "2021-04-26  2360.65  2340.89  1946867  4.557405e+14   85684.0   \n",
              "2021-04-27  2379.85  2374.40  1668456  3.961583e+14   84641.0   \n",
              "2021-04-28  2406.55  2414.15  1951215  4.710522e+14   84910.0   \n",
              "2021-04-29  2407.60  2419.82  3151150  7.625230e+14  141048.0   \n",
              "2021-04-30  2353.75  2363.99  4010778  9.481448e+14  170223.0   \n",
              "\n",
              "            Deliverable Volume  %Deliverble  \n",
              "Date                                         \n",
              "2000-01-03                 NaN          NaN  \n",
              "2000-01-04                 NaN          NaN  \n",
              "2000-01-05                 NaN          NaN  \n",
              "2000-01-06                 NaN          NaN  \n",
              "2000-01-07                 NaN          NaN  \n",
              "...                        ...          ...  \n",
              "2021-04-26           1289103.0       0.6621  \n",
              "2021-04-27           1089882.0       0.6532  \n",
              "2021-04-28           1024216.0       0.5249  \n",
              "2021-04-29            946648.0       0.3004  \n",
              "2021-04-30           2038288.0       0.5082  \n",
              "\n",
              "[5306 rows x 14 columns]"
            ],
            "text/html": [
              "\n",
              "  <div id=\"df-4637d2e5-94ee-42c1-b9fd-fc6afaf4694c\">\n",
              "    <div class=\"colab-df-container\">\n",
              "      <div>\n",
              "<style scoped>\n",
              "    .dataframe tbody tr th:only-of-type {\n",
              "        vertical-align: middle;\n",
              "    }\n",
              "\n",
              "    .dataframe tbody tr th {\n",
              "        vertical-align: top;\n",
              "    }\n",
              "\n",
              "    .dataframe thead th {\n",
              "        text-align: right;\n",
              "    }\n",
              "</style>\n",
              "<table border=\"1\" class=\"dataframe\">\n",
              "  <thead>\n",
              "    <tr style=\"text-align: right;\">\n",
              "      <th></th>\n",
              "      <th>Symbol</th>\n",
              "      <th>Series</th>\n",
              "      <th>Prev Close</th>\n",
              "      <th>Open</th>\n",
              "      <th>High</th>\n",
              "      <th>Low</th>\n",
              "      <th>Last</th>\n",
              "      <th>Close</th>\n",
              "      <th>VWAP</th>\n",
              "      <th>Volume</th>\n",
              "      <th>Turnover</th>\n",
              "      <th>Trades</th>\n",
              "      <th>Deliverable Volume</th>\n",
              "      <th>%Deliverble</th>\n",
              "    </tr>\n",
              "    <tr>\n",
              "      <th>Date</th>\n",
              "      <th></th>\n",
              "      <th></th>\n",
              "      <th></th>\n",
              "      <th></th>\n",
              "      <th></th>\n",
              "      <th></th>\n",
              "      <th></th>\n",
              "      <th></th>\n",
              "      <th></th>\n",
              "      <th></th>\n",
              "      <th></th>\n",
              "      <th></th>\n",
              "      <th></th>\n",
              "      <th></th>\n",
              "    </tr>\n",
              "  </thead>\n",
              "  <tbody>\n",
              "    <tr>\n",
              "      <th>2000-01-03</th>\n",
              "      <td>HINDLEVER</td>\n",
              "      <td>EQ</td>\n",
              "      <td>2136.60</td>\n",
              "      <td>2300.0</td>\n",
              "      <td>2307.55</td>\n",
              "      <td>2300.00</td>\n",
              "      <td>2307.55</td>\n",
              "      <td>2307.55</td>\n",
              "      <td>2307.08</td>\n",
              "      <td>24903</td>\n",
              "      <td>5.745330e+12</td>\n",
              "      <td>NaN</td>\n",
              "      <td>NaN</td>\n",
              "      <td>NaN</td>\n",
              "    </tr>\n",
              "    <tr>\n",
              "      <th>2000-01-04</th>\n",
              "      <td>HINDLEVER</td>\n",
              "      <td>EQ</td>\n",
              "      <td>2307.55</td>\n",
              "      <td>2381.0</td>\n",
              "      <td>2381.00</td>\n",
              "      <td>2250.00</td>\n",
              "      <td>2270.00</td>\n",
              "      <td>2281.05</td>\n",
              "      <td>2298.15</td>\n",
              "      <td>58514</td>\n",
              "      <td>1.344740e+13</td>\n",
              "      <td>NaN</td>\n",
              "      <td>NaN</td>\n",
              "      <td>NaN</td>\n",
              "    </tr>\n",
              "    <tr>\n",
              "      <th>2000-01-05</th>\n",
              "      <td>HINDLEVER</td>\n",
              "      <td>EQ</td>\n",
              "      <td>2281.05</td>\n",
              "      <td>2200.0</td>\n",
              "      <td>2250.00</td>\n",
              "      <td>2105.00</td>\n",
              "      <td>2183.50</td>\n",
              "      <td>2199.90</td>\n",
              "      <td>2211.17</td>\n",
              "      <td>80296</td>\n",
              "      <td>1.775482e+13</td>\n",
              "      <td>NaN</td>\n",
              "      <td>NaN</td>\n",
              "      <td>NaN</td>\n",
              "    </tr>\n",
              "    <tr>\n",
              "      <th>2000-01-06</th>\n",
              "      <td>HINDLEVER</td>\n",
              "      <td>EQ</td>\n",
              "      <td>2199.90</td>\n",
              "      <td>2224.9</td>\n",
              "      <td>2360.00</td>\n",
              "      <td>2210.00</td>\n",
              "      <td>2300.00</td>\n",
              "      <td>2288.20</td>\n",
              "      <td>2301.80</td>\n",
              "      <td>190032</td>\n",
              "      <td>4.374157e+13</td>\n",
              "      <td>NaN</td>\n",
              "      <td>NaN</td>\n",
              "      <td>NaN</td>\n",
              "    </tr>\n",
              "    <tr>\n",
              "      <th>2000-01-07</th>\n",
              "      <td>HINDLEVER</td>\n",
              "      <td>EQ</td>\n",
              "      <td>2288.20</td>\n",
              "      <td>2300.0</td>\n",
              "      <td>2452.00</td>\n",
              "      <td>2282.25</td>\n",
              "      <td>2395.00</td>\n",
              "      <td>2412.95</td>\n",
              "      <td>2380.24</td>\n",
              "      <td>192582</td>\n",
              "      <td>4.583919e+13</td>\n",
              "      <td>NaN</td>\n",
              "      <td>NaN</td>\n",
              "      <td>NaN</td>\n",
              "    </tr>\n",
              "    <tr>\n",
              "      <th>...</th>\n",
              "      <td>...</td>\n",
              "      <td>...</td>\n",
              "      <td>...</td>\n",
              "      <td>...</td>\n",
              "      <td>...</td>\n",
              "      <td>...</td>\n",
              "      <td>...</td>\n",
              "      <td>...</td>\n",
              "      <td>...</td>\n",
              "      <td>...</td>\n",
              "      <td>...</td>\n",
              "      <td>...</td>\n",
              "      <td>...</td>\n",
              "      <td>...</td>\n",
              "    </tr>\n",
              "    <tr>\n",
              "      <th>2021-04-26</th>\n",
              "      <td>HINDUNILVR</td>\n",
              "      <td>EQ</td>\n",
              "      <td>2307.75</td>\n",
              "      <td>2324.0</td>\n",
              "      <td>2369.80</td>\n",
              "      <td>2311.00</td>\n",
              "      <td>2367.70</td>\n",
              "      <td>2360.65</td>\n",
              "      <td>2340.89</td>\n",
              "      <td>1946867</td>\n",
              "      <td>4.557405e+14</td>\n",
              "      <td>85684.0</td>\n",
              "      <td>1289103.0</td>\n",
              "      <td>0.6621</td>\n",
              "    </tr>\n",
              "    <tr>\n",
              "      <th>2021-04-27</th>\n",
              "      <td>HINDUNILVR</td>\n",
              "      <td>EQ</td>\n",
              "      <td>2360.65</td>\n",
              "      <td>2363.0</td>\n",
              "      <td>2386.45</td>\n",
              "      <td>2352.95</td>\n",
              "      <td>2378.00</td>\n",
              "      <td>2379.85</td>\n",
              "      <td>2374.40</td>\n",
              "      <td>1668456</td>\n",
              "      <td>3.961583e+14</td>\n",
              "      <td>84641.0</td>\n",
              "      <td>1089882.0</td>\n",
              "      <td>0.6532</td>\n",
              "    </tr>\n",
              "    <tr>\n",
              "      <th>2021-04-28</th>\n",
              "      <td>HINDUNILVR</td>\n",
              "      <td>EQ</td>\n",
              "      <td>2379.85</td>\n",
              "      <td>2380.0</td>\n",
              "      <td>2445.00</td>\n",
              "      <td>2366.30</td>\n",
              "      <td>2404.00</td>\n",
              "      <td>2406.55</td>\n",
              "      <td>2414.15</td>\n",
              "      <td>1951215</td>\n",
              "      <td>4.710522e+14</td>\n",
              "      <td>84910.0</td>\n",
              "      <td>1024216.0</td>\n",
              "      <td>0.5249</td>\n",
              "    </tr>\n",
              "    <tr>\n",
              "      <th>2021-04-29</th>\n",
              "      <td>HINDUNILVR</td>\n",
              "      <td>EQ</td>\n",
              "      <td>2406.55</td>\n",
              "      <td>2433.0</td>\n",
              "      <td>2448.95</td>\n",
              "      <td>2384.15</td>\n",
              "      <td>2422.15</td>\n",
              "      <td>2407.60</td>\n",
              "      <td>2419.82</td>\n",
              "      <td>3151150</td>\n",
              "      <td>7.625230e+14</td>\n",
              "      <td>141048.0</td>\n",
              "      <td>946648.0</td>\n",
              "      <td>0.3004</td>\n",
              "    </tr>\n",
              "    <tr>\n",
              "      <th>2021-04-30</th>\n",
              "      <td>HINDUNILVR</td>\n",
              "      <td>EQ</td>\n",
              "      <td>2407.60</td>\n",
              "      <td>2410.0</td>\n",
              "      <td>2442.90</td>\n",
              "      <td>2330.25</td>\n",
              "      <td>2350.00</td>\n",
              "      <td>2353.75</td>\n",
              "      <td>2363.99</td>\n",
              "      <td>4010778</td>\n",
              "      <td>9.481448e+14</td>\n",
              "      <td>170223.0</td>\n",
              "      <td>2038288.0</td>\n",
              "      <td>0.5082</td>\n",
              "    </tr>\n",
              "  </tbody>\n",
              "</table>\n",
              "<p>5306 rows × 14 columns</p>\n",
              "</div>\n",
              "      <button class=\"colab-df-convert\" onclick=\"convertToInteractive('df-4637d2e5-94ee-42c1-b9fd-fc6afaf4694c')\"\n",
              "              title=\"Convert this dataframe to an interactive table.\"\n",
              "              style=\"display:none;\">\n",
              "        \n",
              "  <svg xmlns=\"http://www.w3.org/2000/svg\" height=\"24px\"viewBox=\"0 0 24 24\"\n",
              "       width=\"24px\">\n",
              "    <path d=\"M0 0h24v24H0V0z\" fill=\"none\"/>\n",
              "    <path d=\"M18.56 5.44l.94 2.06.94-2.06 2.06-.94-2.06-.94-.94-2.06-.94 2.06-2.06.94zm-11 1L8.5 8.5l.94-2.06 2.06-.94-2.06-.94L8.5 2.5l-.94 2.06-2.06.94zm10 10l.94 2.06.94-2.06 2.06-.94-2.06-.94-.94-2.06-.94 2.06-2.06.94z\"/><path d=\"M17.41 7.96l-1.37-1.37c-.4-.4-.92-.59-1.43-.59-.52 0-1.04.2-1.43.59L10.3 9.45l-7.72 7.72c-.78.78-.78 2.05 0 2.83L4 21.41c.39.39.9.59 1.41.59.51 0 1.02-.2 1.41-.59l7.78-7.78 2.81-2.81c.8-.78.8-2.07 0-2.86zM5.41 20L4 18.59l7.72-7.72 1.47 1.35L5.41 20z\"/>\n",
              "  </svg>\n",
              "      </button>\n",
              "      \n",
              "  <style>\n",
              "    .colab-df-container {\n",
              "      display:flex;\n",
              "      flex-wrap:wrap;\n",
              "      gap: 12px;\n",
              "    }\n",
              "\n",
              "    .colab-df-convert {\n",
              "      background-color: #E8F0FE;\n",
              "      border: none;\n",
              "      border-radius: 50%;\n",
              "      cursor: pointer;\n",
              "      display: none;\n",
              "      fill: #1967D2;\n",
              "      height: 32px;\n",
              "      padding: 0 0 0 0;\n",
              "      width: 32px;\n",
              "    }\n",
              "\n",
              "    .colab-df-convert:hover {\n",
              "      background-color: #E2EBFA;\n",
              "      box-shadow: 0px 1px 2px rgba(60, 64, 67, 0.3), 0px 1px 3px 1px rgba(60, 64, 67, 0.15);\n",
              "      fill: #174EA6;\n",
              "    }\n",
              "\n",
              "    [theme=dark] .colab-df-convert {\n",
              "      background-color: #3B4455;\n",
              "      fill: #D2E3FC;\n",
              "    }\n",
              "\n",
              "    [theme=dark] .colab-df-convert:hover {\n",
              "      background-color: #434B5C;\n",
              "      box-shadow: 0px 1px 3px 1px rgba(0, 0, 0, 0.15);\n",
              "      filter: drop-shadow(0px 1px 2px rgba(0, 0, 0, 0.3));\n",
              "      fill: #FFFFFF;\n",
              "    }\n",
              "  </style>\n",
              "\n",
              "      <script>\n",
              "        const buttonEl =\n",
              "          document.querySelector('#df-4637d2e5-94ee-42c1-b9fd-fc6afaf4694c button.colab-df-convert');\n",
              "        buttonEl.style.display =\n",
              "          google.colab.kernel.accessAllowed ? 'block' : 'none';\n",
              "\n",
              "        async function convertToInteractive(key) {\n",
              "          const element = document.querySelector('#df-4637d2e5-94ee-42c1-b9fd-fc6afaf4694c');\n",
              "          const dataTable =\n",
              "            await google.colab.kernel.invokeFunction('convertToInteractive',\n",
              "                                                     [key], {});\n",
              "          if (!dataTable) return;\n",
              "\n",
              "          const docLinkHtml = 'Like what you see? Visit the ' +\n",
              "            '<a target=\"_blank\" href=https://colab.research.google.com/notebooks/data_table.ipynb>data table notebook</a>'\n",
              "            + ' to learn more about interactive tables.';\n",
              "          element.innerHTML = '';\n",
              "          dataTable['output_type'] = 'display_data';\n",
              "          await google.colab.output.renderOutput(dataTable, element);\n",
              "          const docLink = document.createElement('div');\n",
              "          docLink.innerHTML = docLinkHtml;\n",
              "          element.appendChild(docLink);\n",
              "        }\n",
              "      </script>\n",
              "    </div>\n",
              "  </div>\n",
              "  "
            ]
          },
          "metadata": {},
          "execution_count": 123
        }
      ]
    },
    {
      "cell_type": "code",
      "source": [
        "df['Date']=df.index"
      ],
      "metadata": {
        "id": "E7X-jyItcm8U"
      },
      "execution_count": 124,
      "outputs": []
    },
    {
      "cell_type": "code",
      "source": [
        "start_date='2011-01-01'\n",
        "end_date='2020-12-31'\n",
        "mask=(df['Date']>=start_date)&(df['Date']<=end_date)"
      ],
      "metadata": {
        "id": "A9eSrJ1Dcot3"
      },
      "execution_count": 125,
      "outputs": []
    },
    {
      "cell_type": "code",
      "source": [
        "df=df.loc[mask]"
      ],
      "metadata": {
        "id": "_Pfuk7zicqIx"
      },
      "execution_count": 126,
      "outputs": []
    },
    {
      "cell_type": "code",
      "source": [
        "df=df.loc[mask]"
      ],
      "metadata": {
        "id": "MsTtlYUncrcn"
      },
      "execution_count": 127,
      "outputs": []
    },
    {
      "cell_type": "code",
      "source": [
        "df=df.drop(columns=['Series','Symbol','Open','High','Low','Last','Close','VWAP','Volume','Turnover','Trades','Deliverable Volume','%Deliverble','Date'])"
      ],
      "metadata": {
        "id": "aV7QwBEDcvq2"
      },
      "execution_count": 128,
      "outputs": []
    },
    {
      "cell_type": "code",
      "source": [
        "Ntest=math.trunc(0.3*len(df))\n",
        "train=df.iloc[:-Ntest]\n",
        "test=df.iloc[-Ntest:]"
      ],
      "metadata": {
        "id": "cUuhMhL0c1qi"
      },
      "execution_count": 129,
      "outputs": []
    },
    {
      "cell_type": "code",
      "source": [
        "train_idx=df.index<=train.index[-1]\n",
        "test_idx=df.index>train.index[-1]"
      ],
      "metadata": {
        "id": "YFtIIrsqc3ch"
      },
      "execution_count": 130,
      "outputs": []
    },
    {
      "cell_type": "code",
      "source": [
        "df['Diff Prev Close']=df['Prev Close'].diff()"
      ],
      "metadata": {
        "id": "zh1z6dQDc6KA"
      },
      "execution_count": 131,
      "outputs": []
    },
    {
      "cell_type": "code",
      "source": [
        "series=df['Diff Prev Close'].dropna().to_numpy()\n",
        "\n",
        "T=50\n",
        "X=[]\n",
        "Y=[]\n",
        "for t in range(len(series)-T):\n",
        "  x=series[t:t+T]\n",
        "  X.append(x)\n",
        "  y=series[t+T]\n",
        "  Y.append(y)\n",
        "\n",
        "X=np.array(X).reshape(-1,T)\n",
        "Y=np.array(Y)\n",
        "N=len(X)\n",
        "print(\"X.shape\",X.shape,\"Y.shape\",Y.shape)"
      ],
      "metadata": {
        "colab": {
          "base_uri": "https://localhost:8080/"
        },
        "id": "GH9c1VIMdLvZ",
        "outputId": "bed80e74-9c31-4227-c52e-0aa1dbfcb508"
      },
      "execution_count": 132,
      "outputs": [
        {
          "output_type": "stream",
          "name": "stdout",
          "text": [
            "X.shape (2427, 50) Y.shape (2427,)\n"
          ]
        }
      ]
    },
    {
      "cell_type": "code",
      "source": [
        "Xtrain,Ytrain=X[:-Ntest],Y[:-Ntest]\n",
        "Xtest,Ytest=X[-Ntest:],Y[-Ntest:]"
      ],
      "metadata": {
        "id": "AyyCdgD1dQeH"
      },
      "execution_count": 133,
      "outputs": []
    },
    {
      "cell_type": "markdown",
      "source": [
        "ANN"
      ],
      "metadata": {
        "id": "P4csTdPeeavE"
      }
    },
    {
      "cell_type": "code",
      "source": [
        "i=Input(shape=(T,))\n",
        "x=Dense(400,activation='relu')(i)\n",
        "x=Dense(100,activation='relu')(x)\n",
        "x=Dense(50,activation='relu')(x)\n",
        "x=Dense(1,activation='relu')(x)\n",
        "model_ann=Model(i,x)\n",
        "model_ann.summary()"
      ],
      "metadata": {
        "colab": {
          "base_uri": "https://localhost:8080/"
        },
        "id": "cEHrg-sQdSpS",
        "outputId": "955eddcd-3795-4fb2-8ff9-74ff2c40d530"
      },
      "execution_count": 134,
      "outputs": [
        {
          "output_type": "stream",
          "name": "stdout",
          "text": [
            "Model: \"model_8\"\n",
            "_________________________________________________________________\n",
            " Layer (type)                Output Shape              Param #   \n",
            "=================================================================\n",
            " input_9 (InputLayer)        [(None, 50)]              0         \n",
            "                                                                 \n",
            " dense_22 (Dense)            (None, 400)               20400     \n",
            "                                                                 \n",
            " dense_23 (Dense)            (None, 100)               40100     \n",
            "                                                                 \n",
            " dense_24 (Dense)            (None, 50)                5050      \n",
            "                                                                 \n",
            " dense_25 (Dense)            (None, 1)                 51        \n",
            "                                                                 \n",
            "=================================================================\n",
            "Total params: 65,601\n",
            "Trainable params: 65,601\n",
            "Non-trainable params: 0\n",
            "_________________________________________________________________\n"
          ]
        }
      ]
    },
    {
      "cell_type": "code",
      "source": [
        "model_ann.compile(\n",
        "    loss='mse',\n",
        "    optimizer='adamax',\n",
        "    metrics='mae'\n",
        ")"
      ],
      "metadata": {
        "id": "GSjK1FukdUVe"
      },
      "execution_count": 135,
      "outputs": []
    },
    {
      "cell_type": "code",
      "source": [
        "r=model_ann.fit(\n",
        "    Xtrain,\n",
        "    Ytrain,\n",
        "    epochs=100,\n",
        "    validation_data=(Xtest,Ytest)\n",
        ")"
      ],
      "metadata": {
        "colab": {
          "base_uri": "https://localhost:8080/"
        },
        "id": "bp97xaLkdXKe",
        "outputId": "8268c436-e848-450e-9882-40e1204c6f41"
      },
      "execution_count": 136,
      "outputs": [
        {
          "output_type": "stream",
          "name": "stdout",
          "text": [
            "Epoch 1/100\n",
            "53/53 [==============================] - 1s 4ms/step - loss: 108.7243 - mae: 7.2516 - val_loss: 1000.0406 - val_mae: 20.4785\n",
            "Epoch 2/100\n",
            "53/53 [==============================] - 0s 2ms/step - loss: 105.9381 - mae: 7.1340 - val_loss: 1005.4406 - val_mae: 20.5247\n",
            "Epoch 3/100\n",
            "53/53 [==============================] - 0s 3ms/step - loss: 104.3467 - mae: 7.0774 - val_loss: 1011.3439 - val_mae: 20.6342\n",
            "Epoch 4/100\n",
            "53/53 [==============================] - 0s 2ms/step - loss: 101.8462 - mae: 6.9734 - val_loss: 1017.2621 - val_mae: 20.6890\n",
            "Epoch 5/100\n",
            "53/53 [==============================] - 0s 2ms/step - loss: 99.9866 - mae: 6.9097 - val_loss: 1020.2335 - val_mae: 20.7492\n",
            "Epoch 6/100\n",
            "53/53 [==============================] - 0s 3ms/step - loss: 97.4768 - mae: 6.8082 - val_loss: 1027.0310 - val_mae: 20.9517\n",
            "Epoch 7/100\n",
            "53/53 [==============================] - 0s 2ms/step - loss: 95.0421 - mae: 6.7089 - val_loss: 1045.0488 - val_mae: 21.3968\n",
            "Epoch 8/100\n",
            "53/53 [==============================] - 0s 3ms/step - loss: 93.0601 - mae: 6.6235 - val_loss: 1044.5342 - val_mae: 21.2401\n",
            "Epoch 9/100\n",
            "53/53 [==============================] - 0s 2ms/step - loss: 90.7506 - mae: 6.4855 - val_loss: 1066.4155 - val_mae: 21.4459\n",
            "Epoch 10/100\n",
            "53/53 [==============================] - 0s 2ms/step - loss: 89.3500 - mae: 6.3948 - val_loss: 1082.3794 - val_mae: 21.8380\n",
            "Epoch 11/100\n",
            "53/53 [==============================] - 0s 2ms/step - loss: 87.9253 - mae: 6.3030 - val_loss: 1060.3192 - val_mae: 21.4354\n",
            "Epoch 12/100\n",
            "53/53 [==============================] - 0s 3ms/step - loss: 86.6383 - mae: 6.2011 - val_loss: 1061.3622 - val_mae: 21.2842\n",
            "Epoch 13/100\n",
            "53/53 [==============================] - 0s 2ms/step - loss: 85.5456 - mae: 6.1114 - val_loss: 1066.6105 - val_mae: 21.4480\n",
            "Epoch 14/100\n",
            "53/53 [==============================] - 0s 3ms/step - loss: 84.6896 - mae: 6.0297 - val_loss: 1079.5023 - val_mae: 21.5939\n",
            "Epoch 15/100\n",
            "53/53 [==============================] - 0s 2ms/step - loss: 83.8664 - mae: 5.9347 - val_loss: 1072.7776 - val_mae: 21.4823\n",
            "Epoch 16/100\n",
            "53/53 [==============================] - 0s 2ms/step - loss: 83.3244 - mae: 5.8702 - val_loss: 1094.6945 - val_mae: 21.7234\n",
            "Epoch 17/100\n",
            "53/53 [==============================] - 0s 3ms/step - loss: 82.8852 - mae: 5.8256 - val_loss: 1101.0940 - val_mae: 21.7619\n",
            "Epoch 18/100\n",
            "53/53 [==============================] - 0s 2ms/step - loss: 82.1901 - mae: 5.7800 - val_loss: 1110.5345 - val_mae: 21.7908\n",
            "Epoch 19/100\n",
            "53/53 [==============================] - 0s 2ms/step - loss: 81.6933 - mae: 5.7344 - val_loss: 1102.1133 - val_mae: 21.7489\n",
            "Epoch 20/100\n",
            "53/53 [==============================] - 0s 2ms/step - loss: 81.2595 - mae: 5.7076 - val_loss: 1120.6715 - val_mae: 21.8299\n",
            "Epoch 21/100\n",
            "53/53 [==============================] - 0s 3ms/step - loss: 80.8627 - mae: 5.6605 - val_loss: 1101.1298 - val_mae: 21.5685\n",
            "Epoch 22/100\n",
            "53/53 [==============================] - 0s 2ms/step - loss: 80.5546 - mae: 5.6326 - val_loss: 1126.4417 - val_mae: 21.9155\n",
            "Epoch 23/100\n",
            "53/53 [==============================] - 0s 2ms/step - loss: 80.2824 - mae: 5.6078 - val_loss: 1132.5090 - val_mae: 21.9635\n",
            "Epoch 24/100\n",
            "53/53 [==============================] - 0s 3ms/step - loss: 79.9887 - mae: 5.5777 - val_loss: 1109.6636 - val_mae: 21.7324\n",
            "Epoch 25/100\n",
            "53/53 [==============================] - 0s 2ms/step - loss: 79.6308 - mae: 5.5768 - val_loss: 1117.8279 - val_mae: 21.8135\n",
            "Epoch 26/100\n",
            "53/53 [==============================] - 0s 2ms/step - loss: 79.2239 - mae: 5.5321 - val_loss: 1104.3154 - val_mae: 21.6036\n",
            "Epoch 27/100\n",
            "53/53 [==============================] - 0s 2ms/step - loss: 79.0063 - mae: 5.5403 - val_loss: 1112.1401 - val_mae: 21.7435\n",
            "Epoch 28/100\n",
            "53/53 [==============================] - 0s 3ms/step - loss: 78.6582 - mae: 5.4811 - val_loss: 1126.9095 - val_mae: 21.8572\n",
            "Epoch 29/100\n",
            "53/53 [==============================] - 0s 2ms/step - loss: 78.5516 - mae: 5.4666 - val_loss: 1132.6318 - val_mae: 21.9604\n",
            "Epoch 30/100\n",
            "53/53 [==============================] - 0s 3ms/step - loss: 78.4062 - mae: 5.4704 - val_loss: 1107.1797 - val_mae: 21.5301\n",
            "Epoch 31/100\n",
            "53/53 [==============================] - 0s 2ms/step - loss: 78.1403 - mae: 5.4590 - val_loss: 1123.2546 - val_mae: 21.7455\n",
            "Epoch 32/100\n",
            "53/53 [==============================] - 0s 2ms/step - loss: 77.8787 - mae: 5.4357 - val_loss: 1130.5834 - val_mae: 21.9368\n",
            "Epoch 33/100\n",
            "53/53 [==============================] - 0s 3ms/step - loss: 77.2266 - mae: 5.3959 - val_loss: 1133.9026 - val_mae: 21.8766\n",
            "Epoch 34/100\n",
            "53/53 [==============================] - 0s 2ms/step - loss: 76.8166 - mae: 5.3385 - val_loss: 1121.1313 - val_mae: 21.7054\n",
            "Epoch 35/100\n",
            "53/53 [==============================] - 0s 3ms/step - loss: 76.6448 - mae: 5.3238 - val_loss: 1132.3333 - val_mae: 21.8593\n",
            "Epoch 36/100\n",
            "53/53 [==============================] - 0s 2ms/step - loss: 76.5533 - mae: 5.3108 - val_loss: 1146.2799 - val_mae: 22.0480\n",
            "Epoch 37/100\n",
            "53/53 [==============================] - 0s 2ms/step - loss: 76.4112 - mae: 5.2859 - val_loss: 1161.0999 - val_mae: 22.1676\n",
            "Epoch 38/100\n",
            "53/53 [==============================] - 0s 2ms/step - loss: 76.3073 - mae: 5.2619 - val_loss: 1135.6202 - val_mae: 21.9539\n",
            "Epoch 39/100\n",
            "53/53 [==============================] - 0s 2ms/step - loss: 76.2828 - mae: 5.2549 - val_loss: 1163.9890 - val_mae: 22.2350\n",
            "Epoch 40/100\n",
            "53/53 [==============================] - 0s 3ms/step - loss: 76.3026 - mae: 5.2621 - val_loss: 1139.5156 - val_mae: 21.9114\n",
            "Epoch 41/100\n",
            "53/53 [==============================] - 0s 2ms/step - loss: 76.2747 - mae: 5.2573 - val_loss: 1175.7969 - val_mae: 22.3690\n",
            "Epoch 42/100\n",
            "53/53 [==============================] - 0s 3ms/step - loss: 76.3162 - mae: 5.2861 - val_loss: 1142.7087 - val_mae: 21.9807\n",
            "Epoch 43/100\n",
            "53/53 [==============================] - 0s 3ms/step - loss: 76.2068 - mae: 5.2502 - val_loss: 1124.9387 - val_mae: 21.8292\n",
            "Epoch 44/100\n",
            "53/53 [==============================] - 0s 2ms/step - loss: 76.2126 - mae: 5.2529 - val_loss: 1164.8833 - val_mae: 22.3065\n",
            "Epoch 45/100\n",
            "53/53 [==============================] - 0s 2ms/step - loss: 76.2365 - mae: 5.2777 - val_loss: 1160.9268 - val_mae: 22.1776\n",
            "Epoch 46/100\n",
            "53/53 [==============================] - 0s 2ms/step - loss: 76.3927 - mae: 5.3010 - val_loss: 1142.3871 - val_mae: 22.0420\n",
            "Epoch 47/100\n",
            "53/53 [==============================] - 0s 2ms/step - loss: 75.9051 - mae: 5.3477 - val_loss: 1114.1752 - val_mae: 21.7096\n",
            "Epoch 48/100\n",
            "53/53 [==============================] - 0s 2ms/step - loss: 75.3900 - mae: 5.2712 - val_loss: 1146.2136 - val_mae: 22.1204\n",
            "Epoch 49/100\n",
            "53/53 [==============================] - 0s 2ms/step - loss: 75.2600 - mae: 5.2654 - val_loss: 1140.2645 - val_mae: 21.8305\n",
            "Epoch 50/100\n",
            "53/53 [==============================] - 0s 2ms/step - loss: 75.1193 - mae: 5.2316 - val_loss: 1141.0945 - val_mae: 22.0219\n",
            "Epoch 51/100\n",
            "53/53 [==============================] - 0s 2ms/step - loss: 74.9469 - mae: 5.1830 - val_loss: 1128.1816 - val_mae: 21.8258\n",
            "Epoch 52/100\n",
            "53/53 [==============================] - 0s 2ms/step - loss: 74.8723 - mae: 5.1547 - val_loss: 1144.7448 - val_mae: 22.0555\n",
            "Epoch 53/100\n",
            "53/53 [==============================] - 0s 2ms/step - loss: 74.8678 - mae: 5.1627 - val_loss: 1144.8083 - val_mae: 22.0931\n",
            "Epoch 54/100\n",
            "53/53 [==============================] - 0s 2ms/step - loss: 74.8421 - mae: 5.1620 - val_loss: 1120.8167 - val_mae: 21.8485\n",
            "Epoch 55/100\n",
            "53/53 [==============================] - 0s 2ms/step - loss: 74.8929 - mae: 5.1875 - val_loss: 1147.2461 - val_mae: 22.0707\n",
            "Epoch 56/100\n",
            "53/53 [==============================] - 0s 2ms/step - loss: 74.9763 - mae: 5.2150 - val_loss: 1112.8536 - val_mae: 21.7029\n",
            "Epoch 57/100\n",
            "53/53 [==============================] - 0s 2ms/step - loss: 74.9668 - mae: 5.2098 - val_loss: 1117.7780 - val_mae: 21.6736\n",
            "Epoch 58/100\n",
            "53/53 [==============================] - 0s 3ms/step - loss: 74.9305 - mae: 5.1925 - val_loss: 1093.8606 - val_mae: 21.4434\n",
            "Epoch 59/100\n",
            "53/53 [==============================] - 0s 2ms/step - loss: 75.0043 - mae: 5.2305 - val_loss: 1136.1208 - val_mae: 21.9018\n",
            "Epoch 60/100\n",
            "53/53 [==============================] - 0s 2ms/step - loss: 75.0976 - mae: 5.2482 - val_loss: 1126.0109 - val_mae: 21.8503\n",
            "Epoch 61/100\n",
            "53/53 [==============================] - 0s 2ms/step - loss: 75.0266 - mae: 5.2306 - val_loss: 1129.3542 - val_mae: 21.9030\n",
            "Epoch 62/100\n",
            "53/53 [==============================] - 0s 2ms/step - loss: 75.1837 - mae: 5.2671 - val_loss: 1174.0265 - val_mae: 22.3537\n",
            "Epoch 63/100\n",
            "53/53 [==============================] - 0s 2ms/step - loss: 75.1558 - mae: 5.2653 - val_loss: 1103.1963 - val_mae: 21.5639\n",
            "Epoch 64/100\n",
            "53/53 [==============================] - 0s 2ms/step - loss: 75.0535 - mae: 5.2428 - val_loss: 1146.8838 - val_mae: 21.9917\n",
            "Epoch 65/100\n",
            "53/53 [==============================] - 0s 2ms/step - loss: 74.8493 - mae: 5.1942 - val_loss: 1112.4106 - val_mae: 21.7221\n",
            "Epoch 66/100\n",
            "53/53 [==============================] - 0s 2ms/step - loss: 74.7666 - mae: 5.1604 - val_loss: 1153.8560 - val_mae: 22.1844\n",
            "Epoch 67/100\n",
            "53/53 [==============================] - 0s 2ms/step - loss: 74.7420 - mae: 5.1538 - val_loss: 1112.8643 - val_mae: 21.7259\n",
            "Epoch 68/100\n",
            "53/53 [==============================] - 0s 3ms/step - loss: 74.7383 - mae: 5.1446 - val_loss: 1127.7261 - val_mae: 21.8344\n",
            "Epoch 69/100\n",
            "53/53 [==============================] - 0s 2ms/step - loss: 74.7753 - mae: 5.1637 - val_loss: 1141.8755 - val_mae: 22.0155\n",
            "Epoch 70/100\n",
            "53/53 [==============================] - 0s 2ms/step - loss: 74.8577 - mae: 5.1942 - val_loss: 1135.1990 - val_mae: 21.9326\n",
            "Epoch 71/100\n",
            "53/53 [==============================] - 0s 2ms/step - loss: 75.0046 - mae: 5.2192 - val_loss: 1127.9010 - val_mae: 21.8074\n",
            "Epoch 72/100\n",
            "53/53 [==============================] - 0s 2ms/step - loss: 74.9685 - mae: 5.2273 - val_loss: 1131.5302 - val_mae: 21.9660\n",
            "Epoch 73/100\n",
            "53/53 [==============================] - 0s 2ms/step - loss: 74.8989 - mae: 5.1884 - val_loss: 1125.7275 - val_mae: 21.8118\n",
            "Epoch 74/100\n",
            "53/53 [==============================] - 0s 2ms/step - loss: 74.6395 - mae: 5.1770 - val_loss: 1130.5327 - val_mae: 21.9049\n",
            "Epoch 75/100\n",
            "53/53 [==============================] - 0s 2ms/step - loss: 74.5007 - mae: 5.1811 - val_loss: 1123.6511 - val_mae: 21.8201\n",
            "Epoch 76/100\n",
            "53/53 [==============================] - 0s 2ms/step - loss: 74.4615 - mae: 5.1810 - val_loss: 1121.3682 - val_mae: 21.6903\n",
            "Epoch 77/100\n",
            "53/53 [==============================] - 0s 2ms/step - loss: 74.3974 - mae: 5.1674 - val_loss: 1143.2686 - val_mae: 22.0451\n",
            "Epoch 78/100\n",
            "53/53 [==============================] - 0s 2ms/step - loss: 74.4793 - mae: 5.2043 - val_loss: 1138.4701 - val_mae: 21.8999\n",
            "Epoch 79/100\n",
            "53/53 [==============================] - 0s 2ms/step - loss: 74.3697 - mae: 5.1817 - val_loss: 1144.6171 - val_mae: 22.0180\n",
            "Epoch 80/100\n",
            "53/53 [==============================] - 0s 3ms/step - loss: 74.3671 - mae: 5.1799 - val_loss: 1131.5809 - val_mae: 21.8278\n",
            "Epoch 81/100\n",
            "53/53 [==============================] - 0s 2ms/step - loss: 74.2428 - mae: 5.1487 - val_loss: 1131.5786 - val_mae: 21.8149\n",
            "Epoch 82/100\n",
            "53/53 [==============================] - 0s 3ms/step - loss: 74.2093 - mae: 5.1311 - val_loss: 1131.6373 - val_mae: 21.8971\n",
            "Epoch 83/100\n",
            "53/53 [==============================] - 0s 2ms/step - loss: 74.2093 - mae: 5.1337 - val_loss: 1142.7672 - val_mae: 21.9692\n",
            "Epoch 84/100\n",
            "53/53 [==============================] - 0s 3ms/step - loss: 74.2584 - mae: 5.1459 - val_loss: 1132.0791 - val_mae: 21.9115\n",
            "Epoch 85/100\n",
            "53/53 [==============================] - 0s 2ms/step - loss: 74.2234 - mae: 5.1397 - val_loss: 1134.4641 - val_mae: 21.8702\n",
            "Epoch 86/100\n",
            "53/53 [==============================] - 0s 2ms/step - loss: 74.1571 - mae: 5.1171 - val_loss: 1117.2466 - val_mae: 21.7206\n",
            "Epoch 87/100\n",
            "53/53 [==============================] - 0s 2ms/step - loss: 74.1879 - mae: 5.1274 - val_loss: 1141.4260 - val_mae: 22.0194\n",
            "Epoch 88/100\n",
            "53/53 [==============================] - 0s 2ms/step - loss: 74.2739 - mae: 5.1531 - val_loss: 1145.0139 - val_mae: 22.0206\n",
            "Epoch 89/100\n",
            "53/53 [==============================] - 0s 2ms/step - loss: 74.2684 - mae: 5.1472 - val_loss: 1145.5713 - val_mae: 22.0264\n",
            "Epoch 90/100\n",
            "53/53 [==============================] - 0s 2ms/step - loss: 74.3773 - mae: 5.1807 - val_loss: 1119.6583 - val_mae: 21.7982\n",
            "Epoch 91/100\n",
            "53/53 [==============================] - 0s 2ms/step - loss: 74.4010 - mae: 5.1931 - val_loss: 1115.7010 - val_mae: 21.5854\n",
            "Epoch 92/100\n",
            "53/53 [==============================] - 0s 2ms/step - loss: 74.4357 - mae: 5.2116 - val_loss: 1145.3546 - val_mae: 22.1647\n",
            "Epoch 93/100\n",
            "53/53 [==============================] - 0s 2ms/step - loss: 74.3216 - mae: 5.1722 - val_loss: 1145.0773 - val_mae: 22.0329\n",
            "Epoch 94/100\n",
            "53/53 [==============================] - 0s 2ms/step - loss: 74.3038 - mae: 5.1781 - val_loss: 1157.4445 - val_mae: 22.0930\n",
            "Epoch 95/100\n",
            "53/53 [==============================] - 0s 2ms/step - loss: 74.2631 - mae: 5.1617 - val_loss: 1143.8881 - val_mae: 22.1583\n",
            "Epoch 96/100\n",
            "53/53 [==============================] - 0s 2ms/step - loss: 74.2887 - mae: 5.1705 - val_loss: 1149.8634 - val_mae: 22.0574\n",
            "Epoch 97/100\n",
            "53/53 [==============================] - 0s 2ms/step - loss: 74.1981 - mae: 5.1352 - val_loss: 1157.0317 - val_mae: 22.2472\n",
            "Epoch 98/100\n",
            "53/53 [==============================] - 0s 2ms/step - loss: 74.1856 - mae: 5.1336 - val_loss: 1122.4357 - val_mae: 21.8795\n",
            "Epoch 99/100\n",
            "53/53 [==============================] - 0s 3ms/step - loss: 74.2745 - mae: 5.1591 - val_loss: 1117.8508 - val_mae: 21.8250\n",
            "Epoch 100/100\n",
            "53/53 [==============================] - 0s 2ms/step - loss: 74.3211 - mae: 5.2173 - val_loss: 1137.8605 - val_mae: 22.0306\n"
          ]
        }
      ]
    },
    {
      "cell_type": "markdown",
      "source": [
        "CNN"
      ],
      "metadata": {
        "id": "Uekkb3dMfVs7"
      }
    },
    {
      "cell_type": "code",
      "source": [
        "i=Input(shape=(T,1))\n",
        "x=Conv1D(25,3,activation='relu')(i)\n",
        "x=MaxPooling1D(2)(x)\n",
        "x=Conv1D(50,3,activation='relu')(x)\n",
        "x=GlobalMaxPooling1D()(x)\n",
        "x=Dense(1)(x)\n",
        "model_cnn=Model(i,x)\n",
        "model_cnn.summary()"
      ],
      "metadata": {
        "colab": {
          "base_uri": "https://localhost:8080/"
        },
        "id": "Lboz32TXfjLR",
        "outputId": "11f1d942-e914-4a81-8128-f5b5ef0a6ae5"
      },
      "execution_count": 137,
      "outputs": [
        {
          "output_type": "stream",
          "name": "stdout",
          "text": [
            "Model: \"model_9\"\n",
            "_________________________________________________________________\n",
            " Layer (type)                Output Shape              Param #   \n",
            "=================================================================\n",
            " input_10 (InputLayer)       [(None, 50, 1)]           0         \n",
            "                                                                 \n",
            " conv1d_4 (Conv1D)           (None, 48, 25)            100       \n",
            "                                                                 \n",
            " max_pooling1d_2 (MaxPooling  (None, 24, 25)           0         \n",
            " 1D)                                                             \n",
            "                                                                 \n",
            " conv1d_5 (Conv1D)           (None, 22, 50)            3800      \n",
            "                                                                 \n",
            " global_max_pooling1d_6 (Glo  (None, 50)               0         \n",
            " balMaxPooling1D)                                                \n",
            "                                                                 \n",
            " dense_26 (Dense)            (None, 1)                 51        \n",
            "                                                                 \n",
            "=================================================================\n",
            "Total params: 3,951\n",
            "Trainable params: 3,951\n",
            "Non-trainable params: 0\n",
            "_________________________________________________________________\n"
          ]
        }
      ]
    },
    {
      "cell_type": "code",
      "source": [
        "model_cnn.compile(loss='mse',\n",
        "              optimizer='adamax',\n",
        "              metrics=['mae','mse'])"
      ],
      "metadata": {
        "id": "5OpT5ORafjVT"
      },
      "execution_count": 138,
      "outputs": []
    },
    {
      "cell_type": "code",
      "source": [
        "r=model_cnn.fit(\n",
        "    Xtrain,\n",
        "    Ytrain,\n",
        "    epochs=100,\n",
        "    validation_data=(Xtest,Ytest)\n",
        ")"
      ],
      "metadata": {
        "colab": {
          "base_uri": "https://localhost:8080/"
        },
        "id": "mZ9Q3O2vfjf2",
        "outputId": "24d038f9-5a0a-443c-f22c-874b64f2ba21"
      },
      "execution_count": 139,
      "outputs": [
        {
          "output_type": "stream",
          "name": "stdout",
          "text": [
            "Epoch 1/100\n",
            "53/53 [==============================] - 1s 7ms/step - loss: 114.1597 - mae: 7.4996 - mse: 114.1597 - val_loss: 1053.3695 - val_mae: 20.8472 - val_mse: 1053.3695\n",
            "Epoch 2/100\n",
            "53/53 [==============================] - 0s 4ms/step - loss: 109.7180 - mae: 7.3476 - mse: 109.7180 - val_loss: 1058.6038 - val_mae: 20.4506 - val_mse: 1058.6038\n",
            "Epoch 3/100\n",
            "53/53 [==============================] - 0s 4ms/step - loss: 109.0716 - mae: 7.3187 - mse: 109.0716 - val_loss: 1056.5281 - val_mae: 20.4382 - val_mse: 1056.5281\n",
            "Epoch 4/100\n",
            "53/53 [==============================] - 0s 5ms/step - loss: 109.0671 - mae: 7.3058 - mse: 109.0671 - val_loss: 1051.6277 - val_mae: 20.4494 - val_mse: 1051.6277\n",
            "Epoch 5/100\n",
            "53/53 [==============================] - 0s 5ms/step - loss: 108.3285 - mae: 7.2914 - mse: 108.3285 - val_loss: 1043.9972 - val_mae: 20.4600 - val_mse: 1043.9972\n",
            "Epoch 6/100\n",
            "53/53 [==============================] - 0s 5ms/step - loss: 107.9326 - mae: 7.2603 - mse: 107.9326 - val_loss: 1034.6251 - val_mae: 20.6009 - val_mse: 1034.6251\n",
            "Epoch 7/100\n",
            "53/53 [==============================] - 0s 4ms/step - loss: 107.3039 - mae: 7.2552 - mse: 107.3039 - val_loss: 1032.1338 - val_mae: 20.5260 - val_mse: 1032.1338\n",
            "Epoch 8/100\n",
            "53/53 [==============================] - 0s 4ms/step - loss: 106.7122 - mae: 7.2317 - mse: 106.7122 - val_loss: 1030.9810 - val_mae: 20.5456 - val_mse: 1030.9810\n",
            "Epoch 9/100\n",
            "53/53 [==============================] - 0s 4ms/step - loss: 106.6101 - mae: 7.2464 - mse: 106.6101 - val_loss: 1027.8246 - val_mae: 20.5505 - val_mse: 1027.8246\n",
            "Epoch 10/100\n",
            "53/53 [==============================] - 0s 4ms/step - loss: 106.1527 - mae: 7.2115 - mse: 106.1527 - val_loss: 1028.4089 - val_mae: 20.6468 - val_mse: 1028.4089\n",
            "Epoch 11/100\n",
            "53/53 [==============================] - 0s 4ms/step - loss: 106.7852 - mae: 7.2296 - mse: 106.7852 - val_loss: 1030.6084 - val_mae: 20.4877 - val_mse: 1030.6084\n",
            "Epoch 12/100\n",
            "53/53 [==============================] - 0s 5ms/step - loss: 106.0982 - mae: 7.2202 - mse: 106.0982 - val_loss: 1028.2791 - val_mae: 20.5013 - val_mse: 1028.2791\n",
            "Epoch 13/100\n",
            "53/53 [==============================] - 0s 4ms/step - loss: 105.5957 - mae: 7.1967 - mse: 105.5957 - val_loss: 1026.5151 - val_mae: 20.4975 - val_mse: 1026.5151\n",
            "Epoch 14/100\n",
            "53/53 [==============================] - 0s 3ms/step - loss: 105.3980 - mae: 7.1863 - mse: 105.3980 - val_loss: 1024.0692 - val_mae: 20.5458 - val_mse: 1024.0692\n",
            "Epoch 15/100\n",
            "53/53 [==============================] - 0s 4ms/step - loss: 105.3846 - mae: 7.1699 - mse: 105.3846 - val_loss: 1026.8733 - val_mae: 20.7632 - val_mse: 1026.8733\n",
            "Epoch 16/100\n",
            "53/53 [==============================] - 0s 3ms/step - loss: 105.3877 - mae: 7.1828 - mse: 105.3877 - val_loss: 1027.0504 - val_mae: 20.5170 - val_mse: 1027.0504\n",
            "Epoch 17/100\n",
            "53/53 [==============================] - 0s 3ms/step - loss: 104.7637 - mae: 7.1595 - mse: 104.7637 - val_loss: 1025.5428 - val_mae: 20.5595 - val_mse: 1025.5428\n",
            "Epoch 18/100\n",
            "53/53 [==============================] - 0s 3ms/step - loss: 105.3541 - mae: 7.1968 - mse: 105.3541 - val_loss: 1069.3679 - val_mae: 20.6158 - val_mse: 1069.3679\n",
            "Epoch 19/100\n",
            "53/53 [==============================] - 0s 5ms/step - loss: 105.6716 - mae: 7.2015 - mse: 105.6716 - val_loss: 1028.3770 - val_mae: 20.4908 - val_mse: 1028.3770\n",
            "Epoch 20/100\n",
            "53/53 [==============================] - 0s 4ms/step - loss: 104.0745 - mae: 7.1331 - mse: 104.0745 - val_loss: 1023.8116 - val_mae: 20.7708 - val_mse: 1023.8116\n",
            "Epoch 21/100\n",
            "53/53 [==============================] - 0s 4ms/step - loss: 104.0600 - mae: 7.1529 - mse: 104.0600 - val_loss: 1021.8014 - val_mae: 20.5544 - val_mse: 1021.8014\n",
            "Epoch 22/100\n",
            "53/53 [==============================] - 0s 4ms/step - loss: 103.7707 - mae: 7.1303 - mse: 103.7707 - val_loss: 1021.9777 - val_mae: 20.5786 - val_mse: 1021.9777\n",
            "Epoch 23/100\n",
            "53/53 [==============================] - 0s 5ms/step - loss: 103.8214 - mae: 7.1351 - mse: 103.8214 - val_loss: 1024.5133 - val_mae: 20.5029 - val_mse: 1024.5133\n",
            "Epoch 24/100\n",
            "53/53 [==============================] - 0s 4ms/step - loss: 103.5656 - mae: 7.1391 - mse: 103.5656 - val_loss: 1020.3984 - val_mae: 20.5855 - val_mse: 1020.3984\n",
            "Epoch 25/100\n",
            "53/53 [==============================] - 0s 4ms/step - loss: 103.2883 - mae: 7.1269 - mse: 103.2883 - val_loss: 1028.1565 - val_mae: 20.5105 - val_mse: 1028.1565\n",
            "Epoch 26/100\n",
            "53/53 [==============================] - 0s 4ms/step - loss: 103.2029 - mae: 7.1098 - mse: 103.2029 - val_loss: 1019.1031 - val_mae: 20.6858 - val_mse: 1019.1031\n",
            "Epoch 27/100\n",
            "53/53 [==============================] - 0s 5ms/step - loss: 103.2411 - mae: 7.1133 - mse: 103.2411 - val_loss: 1019.4470 - val_mae: 20.5571 - val_mse: 1019.4470\n",
            "Epoch 28/100\n",
            "53/53 [==============================] - 0s 5ms/step - loss: 103.4374 - mae: 7.1394 - mse: 103.4374 - val_loss: 1030.0232 - val_mae: 20.9757 - val_mse: 1030.0232\n",
            "Epoch 29/100\n",
            "53/53 [==============================] - 0s 5ms/step - loss: 102.7446 - mae: 7.1043 - mse: 102.7446 - val_loss: 1018.4457 - val_mae: 20.6277 - val_mse: 1018.4457\n",
            "Epoch 30/100\n",
            "53/53 [==============================] - 0s 6ms/step - loss: 102.4376 - mae: 7.0933 - mse: 102.4376 - val_loss: 1023.1469 - val_mae: 20.5529 - val_mse: 1023.1469\n",
            "Epoch 31/100\n",
            "53/53 [==============================] - 0s 5ms/step - loss: 102.5530 - mae: 7.0885 - mse: 102.5530 - val_loss: 1022.2942 - val_mae: 20.7900 - val_mse: 1022.2942\n",
            "Epoch 32/100\n",
            "53/53 [==============================] - 0s 5ms/step - loss: 102.0353 - mae: 7.0860 - mse: 102.0353 - val_loss: 1022.7155 - val_mae: 20.5861 - val_mse: 1022.7155\n",
            "Epoch 33/100\n",
            "53/53 [==============================] - 0s 5ms/step - loss: 101.8436 - mae: 7.0633 - mse: 101.8436 - val_loss: 1022.4702 - val_mae: 20.7735 - val_mse: 1022.4702\n",
            "Epoch 34/100\n",
            "53/53 [==============================] - 0s 4ms/step - loss: 102.2129 - mae: 7.0887 - mse: 102.2129 - val_loss: 1022.5652 - val_mae: 20.6300 - val_mse: 1022.5652\n",
            "Epoch 35/100\n",
            "53/53 [==============================] - 0s 4ms/step - loss: 102.0955 - mae: 7.0694 - mse: 102.0955 - val_loss: 1029.4169 - val_mae: 20.5768 - val_mse: 1029.4169\n",
            "Epoch 36/100\n",
            "53/53 [==============================] - 0s 4ms/step - loss: 101.5336 - mae: 7.0566 - mse: 101.5336 - val_loss: 1024.9603 - val_mae: 20.8296 - val_mse: 1024.9603\n",
            "Epoch 37/100\n",
            "53/53 [==============================] - 0s 4ms/step - loss: 101.5486 - mae: 7.0606 - mse: 101.5486 - val_loss: 1024.0802 - val_mae: 20.7295 - val_mse: 1024.0802\n",
            "Epoch 38/100\n",
            "53/53 [==============================] - 0s 4ms/step - loss: 101.1781 - mae: 7.0422 - mse: 101.1781 - val_loss: 1025.3662 - val_mae: 20.7495 - val_mse: 1025.3662\n",
            "Epoch 39/100\n",
            "53/53 [==============================] - 0s 5ms/step - loss: 101.3108 - mae: 7.0608 - mse: 101.3108 - val_loss: 1035.0023 - val_mae: 20.6105 - val_mse: 1035.0023\n",
            "Epoch 40/100\n",
            "53/53 [==============================] - 0s 4ms/step - loss: 101.0902 - mae: 7.0344 - mse: 101.0902 - val_loss: 1027.6089 - val_mae: 20.8592 - val_mse: 1027.6089\n",
            "Epoch 41/100\n",
            "53/53 [==============================] - 0s 4ms/step - loss: 101.8506 - mae: 7.1079 - mse: 101.8506 - val_loss: 1038.2753 - val_mae: 20.6162 - val_mse: 1038.2753\n",
            "Epoch 42/100\n",
            "53/53 [==============================] - 0s 4ms/step - loss: 101.3595 - mae: 7.0656 - mse: 101.3595 - val_loss: 1026.8684 - val_mae: 20.7120 - val_mse: 1026.8684\n",
            "Epoch 43/100\n",
            "53/53 [==============================] - 0s 4ms/step - loss: 100.4783 - mae: 7.0520 - mse: 100.4783 - val_loss: 1048.4683 - val_mae: 20.6353 - val_mse: 1048.4683\n",
            "Epoch 44/100\n",
            "53/53 [==============================] - 0s 4ms/step - loss: 100.2770 - mae: 7.0386 - mse: 100.2770 - val_loss: 1026.9663 - val_mae: 20.7586 - val_mse: 1026.9663\n",
            "Epoch 45/100\n",
            "53/53 [==============================] - 0s 4ms/step - loss: 100.4597 - mae: 7.0645 - mse: 100.4597 - val_loss: 1043.3280 - val_mae: 20.6427 - val_mse: 1043.3280\n",
            "Epoch 46/100\n",
            "53/53 [==============================] - 0s 5ms/step - loss: 100.1517 - mae: 7.0114 - mse: 100.1517 - val_loss: 1037.2913 - val_mae: 21.0511 - val_mse: 1037.2913\n",
            "Epoch 47/100\n",
            "53/53 [==============================] - 0s 5ms/step - loss: 100.5419 - mae: 7.0462 - mse: 100.5419 - val_loss: 1033.2961 - val_mae: 20.7086 - val_mse: 1033.2961\n",
            "Epoch 48/100\n",
            "53/53 [==============================] - 0s 4ms/step - loss: 99.9978 - mae: 7.0137 - mse: 99.9978 - val_loss: 1027.9557 - val_mae: 20.7930 - val_mse: 1027.9557\n",
            "Epoch 49/100\n",
            "53/53 [==============================] - 0s 5ms/step - loss: 99.8344 - mae: 7.0284 - mse: 99.8344 - val_loss: 1030.8447 - val_mae: 20.7830 - val_mse: 1030.8447\n",
            "Epoch 50/100\n",
            "53/53 [==============================] - 0s 4ms/step - loss: 99.6539 - mae: 7.0083 - mse: 99.6539 - val_loss: 1030.2177 - val_mae: 20.7682 - val_mse: 1030.2177\n",
            "Epoch 51/100\n",
            "53/53 [==============================] - 0s 4ms/step - loss: 99.8394 - mae: 7.0143 - mse: 99.8394 - val_loss: 1032.1229 - val_mae: 20.9536 - val_mse: 1032.1229\n",
            "Epoch 52/100\n",
            "53/53 [==============================] - 0s 5ms/step - loss: 99.9374 - mae: 7.0151 - mse: 99.9374 - val_loss: 1030.2462 - val_mae: 20.8208 - val_mse: 1030.2462\n",
            "Epoch 53/100\n",
            "53/53 [==============================] - 0s 4ms/step - loss: 99.3985 - mae: 6.9943 - mse: 99.3985 - val_loss: 1031.3488 - val_mae: 20.9225 - val_mse: 1031.3488\n",
            "Epoch 54/100\n",
            "53/53 [==============================] - 0s 4ms/step - loss: 98.9678 - mae: 6.9895 - mse: 98.9678 - val_loss: 1039.2393 - val_mae: 20.7058 - val_mse: 1039.2393\n",
            "Epoch 55/100\n",
            "53/53 [==============================] - 0s 5ms/step - loss: 98.9836 - mae: 6.9797 - mse: 98.9836 - val_loss: 1031.8842 - val_mae: 20.7574 - val_mse: 1031.8842\n",
            "Epoch 56/100\n",
            "53/53 [==============================] - 0s 4ms/step - loss: 99.1137 - mae: 6.9948 - mse: 99.1137 - val_loss: 1034.6663 - val_mae: 20.7289 - val_mse: 1034.6663\n",
            "Epoch 57/100\n",
            "53/53 [==============================] - 0s 4ms/step - loss: 99.0229 - mae: 7.0254 - mse: 99.0229 - val_loss: 1092.7385 - val_mae: 20.9301 - val_mse: 1092.7385\n",
            "Epoch 58/100\n",
            "53/53 [==============================] - 0s 4ms/step - loss: 99.5927 - mae: 7.0137 - mse: 99.5927 - val_loss: 1031.3491 - val_mae: 20.9026 - val_mse: 1031.3491\n",
            "Epoch 59/100\n",
            "53/53 [==============================] - 0s 4ms/step - loss: 98.4309 - mae: 6.9533 - mse: 98.4309 - val_loss: 1048.8240 - val_mae: 20.7212 - val_mse: 1048.8240\n",
            "Epoch 60/100\n",
            "53/53 [==============================] - 0s 4ms/step - loss: 98.3362 - mae: 6.9635 - mse: 98.3362 - val_loss: 1030.4082 - val_mae: 20.8142 - val_mse: 1030.4082\n",
            "Epoch 61/100\n",
            "53/53 [==============================] - 0s 4ms/step - loss: 98.8499 - mae: 6.9802 - mse: 98.8499 - val_loss: 1032.6941 - val_mae: 21.0285 - val_mse: 1032.6941\n",
            "Epoch 62/100\n",
            "53/53 [==============================] - 0s 4ms/step - loss: 98.7189 - mae: 6.9785 - mse: 98.7189 - val_loss: 1032.5956 - val_mae: 20.7600 - val_mse: 1032.5956\n",
            "Epoch 63/100\n",
            "53/53 [==============================] - 0s 4ms/step - loss: 98.0739 - mae: 6.9506 - mse: 98.0739 - val_loss: 1029.9058 - val_mae: 20.8315 - val_mse: 1029.9058\n",
            "Epoch 64/100\n",
            "53/53 [==============================] - 0s 5ms/step - loss: 98.3560 - mae: 6.9694 - mse: 98.3560 - val_loss: 1050.8903 - val_mae: 20.7498 - val_mse: 1050.8903\n",
            "Epoch 65/100\n",
            "53/53 [==============================] - 0s 4ms/step - loss: 98.3123 - mae: 6.9635 - mse: 98.3123 - val_loss: 1032.2694 - val_mae: 20.7628 - val_mse: 1032.2694\n",
            "Epoch 66/100\n",
            "53/53 [==============================] - 0s 4ms/step - loss: 98.1241 - mae: 6.9782 - mse: 98.1241 - val_loss: 1057.3466 - val_mae: 20.7565 - val_mse: 1057.3466\n",
            "Epoch 67/100\n",
            "53/53 [==============================] - 0s 4ms/step - loss: 98.4977 - mae: 6.9818 - mse: 98.4977 - val_loss: 1046.5422 - val_mae: 20.7481 - val_mse: 1046.5422\n",
            "Epoch 68/100\n",
            "53/53 [==============================] - 0s 4ms/step - loss: 97.9504 - mae: 6.9624 - mse: 97.9504 - val_loss: 1032.3245 - val_mae: 20.9136 - val_mse: 1032.3245\n",
            "Epoch 69/100\n",
            "53/53 [==============================] - 0s 5ms/step - loss: 97.0692 - mae: 6.9358 - mse: 97.0692 - val_loss: 1032.9880 - val_mae: 20.8664 - val_mse: 1032.9880\n",
            "Epoch 70/100\n",
            "53/53 [==============================] - 0s 4ms/step - loss: 97.4011 - mae: 6.9232 - mse: 97.4011 - val_loss: 1035.0225 - val_mae: 20.9928 - val_mse: 1035.0225\n",
            "Epoch 71/100\n",
            "53/53 [==============================] - 0s 4ms/step - loss: 97.6198 - mae: 6.9651 - mse: 97.6198 - val_loss: 1040.2488 - val_mae: 20.8107 - val_mse: 1040.2488\n",
            "Epoch 72/100\n",
            "53/53 [==============================] - 0s 4ms/step - loss: 96.9500 - mae: 6.9214 - mse: 96.9500 - val_loss: 1038.0594 - val_mae: 21.0868 - val_mse: 1038.0594\n",
            "Epoch 73/100\n",
            "53/53 [==============================] - 0s 5ms/step - loss: 96.9804 - mae: 6.9315 - mse: 96.9804 - val_loss: 1037.1482 - val_mae: 20.8431 - val_mse: 1037.1482\n",
            "Epoch 74/100\n",
            "53/53 [==============================] - 0s 4ms/step - loss: 96.7762 - mae: 6.9154 - mse: 96.7762 - val_loss: 1035.0328 - val_mae: 20.8714 - val_mse: 1035.0328\n",
            "Epoch 75/100\n",
            "53/53 [==============================] - 0s 5ms/step - loss: 97.6525 - mae: 6.9735 - mse: 97.6525 - val_loss: 1046.4216 - val_mae: 20.7990 - val_mse: 1046.4216\n",
            "Epoch 76/100\n",
            "53/53 [==============================] - 0s 4ms/step - loss: 96.7166 - mae: 6.9157 - mse: 96.7166 - val_loss: 1038.8589 - val_mae: 20.8703 - val_mse: 1038.8589\n",
            "Epoch 77/100\n",
            "53/53 [==============================] - 0s 4ms/step - loss: 96.3262 - mae: 6.8831 - mse: 96.3262 - val_loss: 1041.1497 - val_mae: 21.1192 - val_mse: 1041.1497\n",
            "Epoch 78/100\n",
            "53/53 [==============================] - 0s 4ms/step - loss: 96.2766 - mae: 6.9091 - mse: 96.2766 - val_loss: 1039.1233 - val_mae: 20.9445 - val_mse: 1039.1233\n",
            "Epoch 79/100\n",
            "53/53 [==============================] - 0s 4ms/step - loss: 96.1770 - mae: 6.8903 - mse: 96.1770 - val_loss: 1037.4633 - val_mae: 20.8982 - val_mse: 1037.4633\n",
            "Epoch 80/100\n",
            "53/53 [==============================] - 0s 4ms/step - loss: 96.1787 - mae: 6.8965 - mse: 96.1787 - val_loss: 1036.8229 - val_mae: 20.9209 - val_mse: 1036.8229\n",
            "Epoch 81/100\n",
            "53/53 [==============================] - 0s 4ms/step - loss: 95.9634 - mae: 6.8972 - mse: 95.9634 - val_loss: 1043.6885 - val_mae: 20.8568 - val_mse: 1043.6885\n",
            "Epoch 82/100\n",
            "53/53 [==============================] - 0s 4ms/step - loss: 95.5742 - mae: 6.8822 - mse: 95.5742 - val_loss: 1050.0115 - val_mae: 20.8326 - val_mse: 1050.0115\n",
            "Epoch 83/100\n",
            "53/53 [==============================] - 0s 4ms/step - loss: 95.5036 - mae: 6.8793 - mse: 95.5036 - val_loss: 1041.6780 - val_mae: 20.8747 - val_mse: 1041.6780\n",
            "Epoch 84/100\n",
            "53/53 [==============================] - 0s 5ms/step - loss: 95.4543 - mae: 6.8753 - mse: 95.4543 - val_loss: 1041.0167 - val_mae: 20.9087 - val_mse: 1041.0167\n",
            "Epoch 85/100\n",
            "53/53 [==============================] - 0s 4ms/step - loss: 95.2048 - mae: 6.8698 - mse: 95.2048 - val_loss: 1043.7793 - val_mae: 20.8637 - val_mse: 1043.7793\n",
            "Epoch 86/100\n",
            "53/53 [==============================] - 0s 4ms/step - loss: 95.2087 - mae: 6.8650 - mse: 95.2087 - val_loss: 1041.6790 - val_mae: 20.8841 - val_mse: 1041.6790\n",
            "Epoch 87/100\n",
            "53/53 [==============================] - 0s 4ms/step - loss: 95.1369 - mae: 6.8577 - mse: 95.1369 - val_loss: 1038.6425 - val_mae: 20.9379 - val_mse: 1038.6425\n",
            "Epoch 88/100\n",
            "53/53 [==============================] - 0s 4ms/step - loss: 94.6627 - mae: 6.8563 - mse: 94.6627 - val_loss: 1048.8734 - val_mae: 20.8570 - val_mse: 1048.8734\n",
            "Epoch 89/100\n",
            "53/53 [==============================] - 0s 4ms/step - loss: 94.9923 - mae: 6.8679 - mse: 94.9923 - val_loss: 1044.5781 - val_mae: 20.8964 - val_mse: 1044.5781\n",
            "Epoch 90/100\n",
            "53/53 [==============================] - 0s 5ms/step - loss: 94.9590 - mae: 6.8833 - mse: 94.9590 - val_loss: 1051.3208 - val_mae: 21.3053 - val_mse: 1051.3208\n",
            "Epoch 91/100\n",
            "53/53 [==============================] - 0s 5ms/step - loss: 94.3944 - mae: 6.8487 - mse: 94.3944 - val_loss: 1058.1161 - val_mae: 20.9047 - val_mse: 1058.1161\n",
            "Epoch 92/100\n",
            "53/53 [==============================] - 0s 4ms/step - loss: 95.1706 - mae: 6.9048 - mse: 95.1706 - val_loss: 1044.1758 - val_mae: 21.0789 - val_mse: 1044.1758\n",
            "Epoch 93/100\n",
            "53/53 [==============================] - 0s 4ms/step - loss: 94.1127 - mae: 6.8369 - mse: 94.1127 - val_loss: 1051.5686 - val_mae: 20.9164 - val_mse: 1051.5686\n",
            "Epoch 94/100\n",
            "53/53 [==============================] - 0s 5ms/step - loss: 94.5558 - mae: 6.8392 - mse: 94.5558 - val_loss: 1052.1234 - val_mae: 20.9318 - val_mse: 1052.1234\n",
            "Epoch 95/100\n",
            "53/53 [==============================] - 0s 4ms/step - loss: 94.3124 - mae: 6.8506 - mse: 94.3124 - val_loss: 1065.9935 - val_mae: 20.9421 - val_mse: 1065.9935\n",
            "Epoch 96/100\n",
            "53/53 [==============================] - 0s 5ms/step - loss: 93.8786 - mae: 6.8290 - mse: 93.8786 - val_loss: 1062.4518 - val_mae: 21.4865 - val_mse: 1062.4518\n",
            "Epoch 97/100\n",
            "53/53 [==============================] - 0s 3ms/step - loss: 94.4791 - mae: 6.8897 - mse: 94.4791 - val_loss: 1075.4301 - val_mae: 21.0011 - val_mse: 1075.4301\n",
            "Epoch 98/100\n",
            "53/53 [==============================] - 0s 4ms/step - loss: 93.4276 - mae: 6.8023 - mse: 93.4276 - val_loss: 1069.6254 - val_mae: 20.9608 - val_mse: 1069.6254\n",
            "Epoch 99/100\n",
            "53/53 [==============================] - 0s 4ms/step - loss: 94.2351 - mae: 6.8362 - mse: 94.2351 - val_loss: 1050.8997 - val_mae: 21.1583 - val_mse: 1050.8997\n",
            "Epoch 100/100\n",
            "53/53 [==============================] - 0s 5ms/step - loss: 94.0556 - mae: 6.8359 - mse: 94.0556 - val_loss: 1064.6416 - val_mae: 20.9732 - val_mse: 1064.6416\n"
          ]
        }
      ]
    },
    {
      "cell_type": "markdown",
      "source": [
        "LSTM"
      ],
      "metadata": {
        "id": "M-I1WeJ7gOl3"
      }
    },
    {
      "cell_type": "code",
      "source": [
        "i=Input(shape=(T,1))\n",
        "x=LSTM(200,return_sequences=True)(i)\n",
        "x=LSTM(200,return_sequences=True)(x)\n",
        "x=GlobalMaxPooling1D()(x)\n",
        "x=Dense(100)(x)\n",
        "x=Dense(50)(x)\n",
        "x=Dense(1)(x)\n",
        "model_lstm=Model(i,x)\n",
        "model_lstm.summary()"
      ],
      "metadata": {
        "colab": {
          "base_uri": "https://localhost:8080/"
        },
        "id": "zsJnKRlwhvmv",
        "outputId": "51433168-d6b7-4ea5-f7b1-5f239906650c"
      },
      "execution_count": 140,
      "outputs": [
        {
          "output_type": "stream",
          "name": "stdout",
          "text": [
            "Model: \"model_10\"\n",
            "_________________________________________________________________\n",
            " Layer (type)                Output Shape              Param #   \n",
            "=================================================================\n",
            " input_11 (InputLayer)       [(None, 50, 1)]           0         \n",
            "                                                                 \n",
            " lstm_4 (LSTM)               (None, 50, 200)           161600    \n",
            "                                                                 \n",
            " lstm_5 (LSTM)               (None, 50, 200)           320800    \n",
            "                                                                 \n",
            " global_max_pooling1d_7 (Glo  (None, 200)              0         \n",
            " balMaxPooling1D)                                                \n",
            "                                                                 \n",
            " dense_27 (Dense)            (None, 100)               20100     \n",
            "                                                                 \n",
            " dense_28 (Dense)            (None, 50)                5050      \n",
            "                                                                 \n",
            " dense_29 (Dense)            (None, 1)                 51        \n",
            "                                                                 \n",
            "=================================================================\n",
            "Total params: 507,601\n",
            "Trainable params: 507,601\n",
            "Non-trainable params: 0\n",
            "_________________________________________________________________\n"
          ]
        }
      ]
    },
    {
      "cell_type": "code",
      "source": [
        "check_point_lstm=ModelCheckpoint('best_model.h5',monitor='val_loss',save_best_only=True)"
      ],
      "metadata": {
        "id": "uN9QDfEohvs-"
      },
      "execution_count": 141,
      "outputs": []
    },
    {
      "cell_type": "code",
      "source": [
        "model_lstm.compile(loss='mse',\n",
        "              optimizer='adamax',\n",
        "              metrics=['mae','mse'])"
      ],
      "metadata": {
        "id": "MwYBTZ7Uhv4I"
      },
      "execution_count": 142,
      "outputs": []
    },
    {
      "cell_type": "code",
      "source": [
        "r=model_lstm.fit(\n",
        "    Xtrain,\n",
        "    Ytrain,\n",
        "    epochs=100,\n",
        "    validation_data=(Xtest,Ytest),\n",
        "    callbacks=[check_point_lstm]\n",
        ")"
      ],
      "metadata": {
        "colab": {
          "base_uri": "https://localhost:8080/"
        },
        "id": "hucIsLiBiOQ3",
        "outputId": "bdb9c907-5f12-4969-9baa-e33bf7447184"
      },
      "execution_count": 143,
      "outputs": [
        {
          "output_type": "stream",
          "name": "stdout",
          "text": [
            "Epoch 1/100\n",
            "53/53 [==============================] - 12s 179ms/step - loss: 108.8294 - mae: 7.2707 - mse: 108.8294 - val_loss: 1001.2794 - val_mae: 20.4415 - val_mse: 1001.2794\n",
            "Epoch 2/100\n",
            "53/53 [==============================] - 9s 166ms/step - loss: 108.6666 - mae: 7.2827 - mse: 108.6666 - val_loss: 1002.6354 - val_mae: 20.4068 - val_mse: 1002.6354\n",
            "Epoch 3/100\n",
            "53/53 [==============================] - 9s 166ms/step - loss: 108.5599 - mae: 7.2564 - mse: 108.5599 - val_loss: 1002.2095 - val_mae: 20.4096 - val_mse: 1002.2095\n",
            "Epoch 4/100\n",
            "53/53 [==============================] - 9s 165ms/step - loss: 108.6009 - mae: 7.2648 - mse: 108.6009 - val_loss: 1002.4240 - val_mae: 20.4063 - val_mse: 1002.4240\n",
            "Epoch 5/100\n",
            "53/53 [==============================] - 9s 167ms/step - loss: 108.4659 - mae: 7.2578 - mse: 108.4659 - val_loss: 1001.9645 - val_mae: 20.4125 - val_mse: 1001.9645\n",
            "Epoch 6/100\n",
            "53/53 [==============================] - 9s 168ms/step - loss: 108.5610 - mae: 7.2654 - mse: 108.5610 - val_loss: 1002.4139 - val_mae: 20.4077 - val_mse: 1002.4139\n",
            "Epoch 7/100\n",
            "53/53 [==============================] - 9s 166ms/step - loss: 108.3248 - mae: 7.2619 - mse: 108.3248 - val_loss: 1001.8868 - val_mae: 20.4111 - val_mse: 1001.8868\n",
            "Epoch 8/100\n",
            "53/53 [==============================] - 9s 167ms/step - loss: 108.3406 - mae: 7.2685 - mse: 108.3406 - val_loss: 1002.0750 - val_mae: 20.4115 - val_mse: 1002.0750\n",
            "Epoch 9/100\n",
            "53/53 [==============================] - 9s 168ms/step - loss: 108.3242 - mae: 7.2719 - mse: 108.3242 - val_loss: 1002.0416 - val_mae: 20.4079 - val_mse: 1002.0416\n",
            "Epoch 10/100\n",
            "53/53 [==============================] - 9s 167ms/step - loss: 108.2502 - mae: 7.2605 - mse: 108.2502 - val_loss: 1002.1465 - val_mae: 20.4065 - val_mse: 1002.1465\n",
            "Epoch 11/100\n",
            "53/53 [==============================] - 9s 167ms/step - loss: 108.4443 - mae: 7.2715 - mse: 108.4443 - val_loss: 1002.3389 - val_mae: 20.4108 - val_mse: 1002.3389\n",
            "Epoch 12/100\n",
            "53/53 [==============================] - 9s 166ms/step - loss: 108.1038 - mae: 7.2641 - mse: 108.1038 - val_loss: 1003.3398 - val_mae: 20.4096 - val_mse: 1003.3398\n",
            "Epoch 13/100\n",
            "53/53 [==============================] - 9s 167ms/step - loss: 108.0968 - mae: 7.2673 - mse: 108.0968 - val_loss: 1004.7598 - val_mae: 20.4102 - val_mse: 1004.7598\n",
            "Epoch 14/100\n",
            "53/53 [==============================] - 9s 169ms/step - loss: 107.9842 - mae: 7.2543 - mse: 107.9842 - val_loss: 1003.2395 - val_mae: 20.4038 - val_mse: 1003.2395\n",
            "Epoch 15/100\n",
            "53/53 [==============================] - 9s 165ms/step - loss: 108.0958 - mae: 7.2543 - mse: 108.0958 - val_loss: 1002.0172 - val_mae: 20.4051 - val_mse: 1002.0172\n",
            "Epoch 16/100\n",
            "53/53 [==============================] - 9s 167ms/step - loss: 107.6692 - mae: 7.2566 - mse: 107.6692 - val_loss: 1003.2249 - val_mae: 20.4014 - val_mse: 1003.2249\n",
            "Epoch 17/100\n",
            "53/53 [==============================] - 9s 167ms/step - loss: 107.5951 - mae: 7.2653 - mse: 107.5951 - val_loss: 1002.9108 - val_mae: 20.3941 - val_mse: 1002.9108\n",
            "Epoch 18/100\n",
            "53/53 [==============================] - 9s 169ms/step - loss: 108.2000 - mae: 7.2816 - mse: 108.2000 - val_loss: 1004.9837 - val_mae: 20.4123 - val_mse: 1004.9837\n",
            "Epoch 19/100\n",
            "53/53 [==============================] - 9s 169ms/step - loss: 107.7183 - mae: 7.2492 - mse: 107.7183 - val_loss: 1004.3280 - val_mae: 20.4057 - val_mse: 1004.3280\n",
            "Epoch 20/100\n",
            "53/53 [==============================] - 9s 167ms/step - loss: 107.0697 - mae: 7.2392 - mse: 107.0697 - val_loss: 1001.7989 - val_mae: 20.3987 - val_mse: 1001.7989\n",
            "Epoch 21/100\n",
            "53/53 [==============================] - 9s 169ms/step - loss: 106.9532 - mae: 7.2443 - mse: 106.9532 - val_loss: 1004.0682 - val_mae: 20.4082 - val_mse: 1004.0682\n",
            "Epoch 22/100\n",
            "53/53 [==============================] - 9s 171ms/step - loss: 105.9787 - mae: 7.2139 - mse: 105.9787 - val_loss: 1002.5576 - val_mae: 20.4038 - val_mse: 1002.5576\n",
            "Epoch 23/100\n",
            "53/53 [==============================] - 9s 169ms/step - loss: 106.3300 - mae: 7.2278 - mse: 106.3300 - val_loss: 1005.5503 - val_mae: 20.4171 - val_mse: 1005.5503\n",
            "Epoch 24/100\n",
            "53/53 [==============================] - 9s 172ms/step - loss: 105.6062 - mae: 7.2200 - mse: 105.6062 - val_loss: 1002.4897 - val_mae: 20.3971 - val_mse: 1002.4897\n",
            "Epoch 25/100\n",
            "53/53 [==============================] - 9s 169ms/step - loss: 105.0122 - mae: 7.2032 - mse: 105.0122 - val_loss: 1003.9556 - val_mae: 20.4029 - val_mse: 1003.9556\n",
            "Epoch 26/100\n",
            "53/53 [==============================] - 9s 169ms/step - loss: 104.3326 - mae: 7.1527 - mse: 104.3326 - val_loss: 1001.8419 - val_mae: 20.4379 - val_mse: 1001.8419\n",
            "Epoch 27/100\n",
            "53/53 [==============================] - 9s 174ms/step - loss: 104.0699 - mae: 7.1956 - mse: 104.0699 - val_loss: 1003.6078 - val_mae: 20.4075 - val_mse: 1003.6078\n",
            "Epoch 28/100\n",
            "53/53 [==============================] - 9s 174ms/step - loss: 103.8873 - mae: 7.2120 - mse: 103.8873 - val_loss: 1000.5205 - val_mae: 20.4066 - val_mse: 1000.5205\n",
            "Epoch 29/100\n",
            "53/53 [==============================] - 9s 174ms/step - loss: 103.8351 - mae: 7.1268 - mse: 103.8351 - val_loss: 1002.2207 - val_mae: 20.4290 - val_mse: 1002.2207\n",
            "Epoch 30/100\n",
            "53/53 [==============================] - 9s 175ms/step - loss: 102.8953 - mae: 7.1329 - mse: 102.8953 - val_loss: 1004.6279 - val_mae: 20.4278 - val_mse: 1004.6279\n",
            "Epoch 31/100\n",
            "53/53 [==============================] - 9s 172ms/step - loss: 102.6772 - mae: 7.1172 - mse: 102.6772 - val_loss: 1003.1216 - val_mae: 20.4663 - val_mse: 1003.1216\n",
            "Epoch 32/100\n",
            "53/53 [==============================] - 9s 171ms/step - loss: 101.2905 - mae: 7.1126 - mse: 101.2905 - val_loss: 1006.6702 - val_mae: 20.5298 - val_mse: 1006.6702\n",
            "Epoch 33/100\n",
            "53/53 [==============================] - 9s 171ms/step - loss: 100.3209 - mae: 7.0813 - mse: 100.3209 - val_loss: 1004.0607 - val_mae: 20.4614 - val_mse: 1004.0607\n",
            "Epoch 34/100\n",
            "53/53 [==============================] - 9s 175ms/step - loss: 100.6275 - mae: 7.0686 - mse: 100.6275 - val_loss: 1010.6448 - val_mae: 20.5565 - val_mse: 1010.6448\n",
            "Epoch 35/100\n",
            "53/53 [==============================] - 9s 170ms/step - loss: 100.0220 - mae: 7.0867 - mse: 100.0220 - val_loss: 1009.0894 - val_mae: 20.5684 - val_mse: 1009.0894\n",
            "Epoch 36/100\n",
            "53/53 [==============================] - 9s 171ms/step - loss: 100.3041 - mae: 7.0650 - mse: 100.3041 - val_loss: 1006.2422 - val_mae: 20.5005 - val_mse: 1006.2422\n",
            "Epoch 37/100\n",
            "53/53 [==============================] - 9s 169ms/step - loss: 98.2454 - mae: 7.0052 - mse: 98.2454 - val_loss: 1012.2889 - val_mae: 20.5452 - val_mse: 1012.2889\n",
            "Epoch 38/100\n",
            "53/53 [==============================] - 9s 168ms/step - loss: 96.4079 - mae: 6.9462 - mse: 96.4079 - val_loss: 1013.2849 - val_mae: 20.6191 - val_mse: 1013.2849\n",
            "Epoch 39/100\n",
            "53/53 [==============================] - 9s 171ms/step - loss: 96.5788 - mae: 6.9961 - mse: 96.5788 - val_loss: 1032.2946 - val_mae: 20.9175 - val_mse: 1032.2946\n",
            "Epoch 40/100\n",
            "53/53 [==============================] - 9s 171ms/step - loss: 94.9223 - mae: 6.9167 - mse: 94.9223 - val_loss: 1019.0396 - val_mae: 20.7268 - val_mse: 1019.0396\n",
            "Epoch 41/100\n",
            "53/53 [==============================] - 9s 169ms/step - loss: 95.7674 - mae: 7.0303 - mse: 95.7674 - val_loss: 1011.8364 - val_mae: 20.6730 - val_mse: 1011.8364\n",
            "Epoch 42/100\n",
            "53/53 [==============================] - 9s 172ms/step - loss: 95.8642 - mae: 7.0143 - mse: 95.8642 - val_loss: 1022.1709 - val_mae: 20.7348 - val_mse: 1022.1709\n",
            "Epoch 43/100\n",
            "53/53 [==============================] - 9s 170ms/step - loss: 91.8689 - mae: 6.8180 - mse: 91.8689 - val_loss: 1043.0226 - val_mae: 21.0807 - val_mse: 1043.0226\n",
            "Epoch 44/100\n",
            "53/53 [==============================] - 9s 168ms/step - loss: 91.5334 - mae: 6.8311 - mse: 91.5334 - val_loss: 1025.1907 - val_mae: 20.8400 - val_mse: 1025.1907\n",
            "Epoch 45/100\n",
            "53/53 [==============================] - 9s 169ms/step - loss: 90.9624 - mae: 6.8692 - mse: 90.9624 - val_loss: 1041.7052 - val_mae: 21.0669 - val_mse: 1041.7052\n",
            "Epoch 46/100\n",
            "53/53 [==============================] - 9s 166ms/step - loss: 90.2070 - mae: 6.8363 - mse: 90.2070 - val_loss: 1031.3308 - val_mae: 20.9440 - val_mse: 1031.3308\n",
            "Epoch 47/100\n",
            "53/53 [==============================] - 9s 171ms/step - loss: 90.7268 - mae: 6.8297 - mse: 90.7268 - val_loss: 1043.7526 - val_mae: 21.0734 - val_mse: 1043.7526\n",
            "Epoch 48/100\n",
            "53/53 [==============================] - 9s 169ms/step - loss: 89.8462 - mae: 6.8424 - mse: 89.8462 - val_loss: 1049.9329 - val_mae: 21.2664 - val_mse: 1049.9329\n",
            "Epoch 49/100\n",
            "53/53 [==============================] - 9s 170ms/step - loss: 86.2075 - mae: 6.6582 - mse: 86.2075 - val_loss: 1038.2804 - val_mae: 21.1559 - val_mse: 1038.2804\n",
            "Epoch 50/100\n",
            "53/53 [==============================] - 9s 171ms/step - loss: 88.6853 - mae: 6.8324 - mse: 88.6853 - val_loss: 1049.3876 - val_mae: 21.2966 - val_mse: 1049.3876\n",
            "Epoch 51/100\n",
            "53/53 [==============================] - 9s 169ms/step - loss: 86.6032 - mae: 6.6863 - mse: 86.6032 - val_loss: 1057.1038 - val_mae: 21.3564 - val_mse: 1057.1038\n",
            "Epoch 52/100\n",
            "53/53 [==============================] - 9s 170ms/step - loss: 83.7745 - mae: 6.6393 - mse: 83.7745 - val_loss: 1046.8940 - val_mae: 21.2366 - val_mse: 1046.8940\n",
            "Epoch 53/100\n",
            "53/53 [==============================] - 9s 173ms/step - loss: 83.8313 - mae: 6.5828 - mse: 83.8313 - val_loss: 1061.3832 - val_mae: 21.3690 - val_mse: 1061.3832\n",
            "Epoch 54/100\n",
            "53/53 [==============================] - 9s 173ms/step - loss: 81.8307 - mae: 6.5124 - mse: 81.8307 - val_loss: 1075.1484 - val_mae: 21.5795 - val_mse: 1075.1484\n",
            "Epoch 55/100\n",
            "53/53 [==============================] - 9s 175ms/step - loss: 81.2002 - mae: 6.5507 - mse: 81.2002 - val_loss: 1060.4374 - val_mae: 21.4247 - val_mse: 1060.4374\n",
            "Epoch 56/100\n",
            "53/53 [==============================] - 9s 174ms/step - loss: 81.9288 - mae: 6.5753 - mse: 81.9288 - val_loss: 1095.7332 - val_mae: 21.9617 - val_mse: 1095.7332\n",
            "Epoch 57/100\n",
            "53/53 [==============================] - 9s 166ms/step - loss: 79.7020 - mae: 6.4684 - mse: 79.7020 - val_loss: 1118.6522 - val_mae: 22.3704 - val_mse: 1118.6522\n",
            "Epoch 58/100\n",
            "53/53 [==============================] - 9s 172ms/step - loss: 79.5317 - mae: 6.4660 - mse: 79.5317 - val_loss: 1066.5710 - val_mae: 21.4826 - val_mse: 1066.5710\n",
            "Epoch 59/100\n",
            "53/53 [==============================] - 9s 175ms/step - loss: 75.6868 - mae: 6.3109 - mse: 75.6868 - val_loss: 1117.7600 - val_mae: 22.2557 - val_mse: 1117.7600\n",
            "Epoch 60/100\n",
            "53/53 [==============================] - 9s 173ms/step - loss: 76.2747 - mae: 6.3615 - mse: 76.2747 - val_loss: 1079.9921 - val_mae: 21.7772 - val_mse: 1079.9921\n",
            "Epoch 61/100\n",
            "53/53 [==============================] - 9s 171ms/step - loss: 76.3882 - mae: 6.3451 - mse: 76.3882 - val_loss: 1092.4592 - val_mae: 21.9355 - val_mse: 1092.4592\n",
            "Epoch 62/100\n",
            "53/53 [==============================] - 9s 171ms/step - loss: 73.0629 - mae: 6.2862 - mse: 73.0629 - val_loss: 1111.7374 - val_mae: 22.1698 - val_mse: 1111.7374\n",
            "Epoch 63/100\n",
            "53/53 [==============================] - 9s 173ms/step - loss: 74.8693 - mae: 6.3063 - mse: 74.8693 - val_loss: 1074.6310 - val_mae: 21.5870 - val_mse: 1074.6310\n",
            "Epoch 64/100\n",
            "53/53 [==============================] - 9s 172ms/step - loss: 73.6796 - mae: 6.2171 - mse: 73.6796 - val_loss: 1120.3107 - val_mae: 22.3847 - val_mse: 1120.3107\n",
            "Epoch 65/100\n",
            "53/53 [==============================] - 9s 174ms/step - loss: 69.7013 - mae: 6.0696 - mse: 69.7013 - val_loss: 1107.2568 - val_mae: 22.1708 - val_mse: 1107.2568\n",
            "Epoch 66/100\n",
            "53/53 [==============================] - 9s 172ms/step - loss: 69.1313 - mae: 6.0427 - mse: 69.1313 - val_loss: 1100.7029 - val_mae: 22.0951 - val_mse: 1100.7029\n",
            "Epoch 67/100\n",
            "53/53 [==============================] - 9s 175ms/step - loss: 68.1027 - mae: 6.0368 - mse: 68.1027 - val_loss: 1145.9060 - val_mae: 22.7293 - val_mse: 1145.9060\n",
            "Epoch 68/100\n",
            "53/53 [==============================] - 9s 178ms/step - loss: 67.4680 - mae: 5.9766 - mse: 67.4680 - val_loss: 1157.4554 - val_mae: 22.9252 - val_mse: 1157.4554\n",
            "Epoch 69/100\n",
            "53/53 [==============================] - 9s 180ms/step - loss: 63.2870 - mae: 5.7845 - mse: 63.2870 - val_loss: 1146.4336 - val_mae: 22.7467 - val_mse: 1146.4336\n",
            "Epoch 70/100\n",
            "53/53 [==============================] - 10s 180ms/step - loss: 64.1160 - mae: 5.8230 - mse: 64.1160 - val_loss: 1131.0513 - val_mae: 22.5761 - val_mse: 1131.0513\n",
            "Epoch 71/100\n",
            "53/53 [==============================] - 9s 172ms/step - loss: 62.8195 - mae: 5.8795 - mse: 62.8195 - val_loss: 1123.6721 - val_mae: 22.4769 - val_mse: 1123.6721\n",
            "Epoch 72/100\n",
            "53/53 [==============================] - 9s 170ms/step - loss: 61.3619 - mae: 5.7501 - mse: 61.3619 - val_loss: 1126.8756 - val_mae: 22.6106 - val_mse: 1126.8756\n",
            "Epoch 73/100\n",
            "53/53 [==============================] - 9s 173ms/step - loss: 59.5041 - mae: 5.7363 - mse: 59.5041 - val_loss: 1156.1733 - val_mae: 22.8138 - val_mse: 1156.1733\n",
            "Epoch 74/100\n",
            "53/53 [==============================] - 9s 168ms/step - loss: 60.8002 - mae: 5.7629 - mse: 60.8002 - val_loss: 1176.5844 - val_mae: 23.1785 - val_mse: 1176.5844\n",
            "Epoch 75/100\n",
            "53/53 [==============================] - 9s 171ms/step - loss: 56.9721 - mae: 5.5348 - mse: 56.9721 - val_loss: 1134.2037 - val_mae: 22.5258 - val_mse: 1134.2037\n",
            "Epoch 76/100\n",
            "53/53 [==============================] - 9s 168ms/step - loss: 53.5431 - mae: 5.3624 - mse: 53.5431 - val_loss: 1246.1733 - val_mae: 24.1928 - val_mse: 1246.1733\n",
            "Epoch 77/100\n",
            "53/53 [==============================] - 9s 173ms/step - loss: 53.0923 - mae: 5.3462 - mse: 53.0923 - val_loss: 1153.4717 - val_mae: 22.8859 - val_mse: 1153.4717\n",
            "Epoch 78/100\n",
            "53/53 [==============================] - 9s 173ms/step - loss: 52.9638 - mae: 5.3095 - mse: 52.9638 - val_loss: 1217.6117 - val_mae: 23.6858 - val_mse: 1217.6117\n",
            "Epoch 79/100\n",
            "53/53 [==============================] - 9s 171ms/step - loss: 50.9742 - mae: 5.2588 - mse: 50.9742 - val_loss: 1166.6086 - val_mae: 23.1424 - val_mse: 1166.6086\n",
            "Epoch 80/100\n",
            "53/53 [==============================] - 9s 171ms/step - loss: 50.3280 - mae: 5.2147 - mse: 50.3280 - val_loss: 1207.7507 - val_mae: 23.7846 - val_mse: 1207.7507\n",
            "Epoch 81/100\n",
            "53/53 [==============================] - 9s 169ms/step - loss: 49.7253 - mae: 5.2640 - mse: 49.7253 - val_loss: 1155.1074 - val_mae: 22.9452 - val_mse: 1155.1074\n",
            "Epoch 82/100\n",
            "53/53 [==============================] - 9s 170ms/step - loss: 48.6812 - mae: 5.1079 - mse: 48.6812 - val_loss: 1310.3894 - val_mae: 25.0996 - val_mse: 1310.3894\n",
            "Epoch 83/100\n",
            "53/53 [==============================] - 9s 175ms/step - loss: 48.2500 - mae: 5.1151 - mse: 48.2500 - val_loss: 1230.6030 - val_mae: 24.0720 - val_mse: 1230.6030\n",
            "Epoch 84/100\n",
            "53/53 [==============================] - 9s 173ms/step - loss: 45.0741 - mae: 5.0494 - mse: 45.0741 - val_loss: 1205.7482 - val_mae: 23.8696 - val_mse: 1205.7482\n",
            "Epoch 85/100\n",
            "53/53 [==============================] - 9s 172ms/step - loss: 43.5772 - mae: 4.8643 - mse: 43.5772 - val_loss: 1259.4810 - val_mae: 24.5314 - val_mse: 1259.4810\n",
            "Epoch 86/100\n",
            "53/53 [==============================] - 9s 172ms/step - loss: 42.2592 - mae: 4.8749 - mse: 42.2592 - val_loss: 1316.8175 - val_mae: 25.2091 - val_mse: 1316.8175\n",
            "Epoch 87/100\n",
            "53/53 [==============================] - 9s 178ms/step - loss: 44.0798 - mae: 4.8872 - mse: 44.0798 - val_loss: 1271.8422 - val_mae: 24.5900 - val_mse: 1271.8422\n",
            "Epoch 88/100\n",
            "53/53 [==============================] - 9s 173ms/step - loss: 42.1088 - mae: 4.8057 - mse: 42.1088 - val_loss: 1246.0862 - val_mae: 24.2226 - val_mse: 1246.0862\n",
            "Epoch 89/100\n",
            "53/53 [==============================] - 10s 181ms/step - loss: 43.9019 - mae: 4.8775 - mse: 43.9019 - val_loss: 1277.4668 - val_mae: 24.8247 - val_mse: 1277.4668\n",
            "Epoch 90/100\n",
            "53/53 [==============================] - 9s 176ms/step - loss: 40.1672 - mae: 4.7099 - mse: 40.1672 - val_loss: 1253.5061 - val_mae: 24.3965 - val_mse: 1253.5061\n",
            "Epoch 91/100\n",
            "53/53 [==============================] - 9s 175ms/step - loss: 41.0920 - mae: 4.6881 - mse: 41.0920 - val_loss: 1245.0253 - val_mae: 24.4248 - val_mse: 1245.0253\n",
            "Epoch 92/100\n",
            "53/53 [==============================] - 9s 175ms/step - loss: 40.6635 - mae: 4.6355 - mse: 40.6635 - val_loss: 1285.0370 - val_mae: 24.9464 - val_mse: 1285.0370\n",
            "Epoch 93/100\n",
            "53/53 [==============================] - 9s 175ms/step - loss: 37.0885 - mae: 4.4762 - mse: 37.0885 - val_loss: 1312.3771 - val_mae: 25.2655 - val_mse: 1312.3771\n",
            "Epoch 94/100\n",
            "53/53 [==============================] - 9s 172ms/step - loss: 34.7561 - mae: 4.3471 - mse: 34.7561 - val_loss: 1239.9994 - val_mae: 24.2299 - val_mse: 1239.9994\n",
            "Epoch 95/100\n",
            "53/53 [==============================] - 9s 175ms/step - loss: 33.8080 - mae: 4.3144 - mse: 33.8080 - val_loss: 1302.0337 - val_mae: 25.0137 - val_mse: 1302.0337\n",
            "Epoch 96/100\n",
            "53/53 [==============================] - 9s 177ms/step - loss: 33.5244 - mae: 4.2901 - mse: 33.5244 - val_loss: 1249.6903 - val_mae: 24.3591 - val_mse: 1249.6903\n",
            "Epoch 97/100\n",
            "53/53 [==============================] - 9s 178ms/step - loss: 33.3383 - mae: 4.2327 - mse: 33.3383 - val_loss: 1307.1187 - val_mae: 25.3151 - val_mse: 1307.1187\n",
            "Epoch 98/100\n",
            "53/53 [==============================] - 9s 176ms/step - loss: 35.9606 - mae: 4.5025 - mse: 35.9606 - val_loss: 1342.9065 - val_mae: 25.8447 - val_mse: 1342.9065\n",
            "Epoch 99/100\n",
            "53/53 [==============================] - 9s 174ms/step - loss: 31.6566 - mae: 4.1166 - mse: 31.6566 - val_loss: 1243.4337 - val_mae: 24.3917 - val_mse: 1243.4337\n",
            "Epoch 100/100\n",
            "53/53 [==============================] - 9s 179ms/step - loss: 34.0655 - mae: 4.3527 - mse: 34.0655 - val_loss: 1306.7947 - val_mae: 25.1821 - val_mse: 1306.7947\n"
          ]
        }
      ]
    },
    {
      "cell_type": "markdown",
      "source": [
        "GRU"
      ],
      "metadata": {
        "id": "kHh0g_qPm_bm"
      }
    },
    {
      "cell_type": "code",
      "source": [
        "i=Input(shape=(T,1))\n",
        "x=GRU(200,return_sequences=True)(i)\n",
        "x=GRU(200,return_sequences=True)(x)\n",
        "x=GlobalMaxPooling1D()(x)\n",
        "x=Dense(100)(x)\n",
        "x=Dense(50)(x)\n",
        "x=Dense(1)(x)\n",
        "model_gru=Model(i,x)\n",
        "model_gru.summary"
      ],
      "metadata": {
        "colab": {
          "base_uri": "https://localhost:8080/"
        },
        "id": "H4llpd_HnCsP",
        "outputId": "75ce1106-d88a-494b-d9c6-9a9d03a1ed9f"
      },
      "execution_count": 144,
      "outputs": [
        {
          "output_type": "execute_result",
          "data": {
            "text/plain": [
              "<bound method Model.summary of <keras.engine.functional.Functional object at 0x7fe98c155110>>"
            ]
          },
          "metadata": {},
          "execution_count": 144
        }
      ]
    },
    {
      "cell_type": "code",
      "source": [
        "check_point_gru=ModelCheckpoint('best_model.h5',monitor='val_loss',save_best_only=True)"
      ],
      "metadata": {
        "id": "J4ilpuAHnCxN"
      },
      "execution_count": 145,
      "outputs": []
    },
    {
      "cell_type": "code",
      "source": [
        "model_gru.compile(loss='mse',\n",
        "              optimizer='adamax',\n",
        "              metrics=['mae','mse'])"
      ],
      "metadata": {
        "id": "KE1MOiZknC6g"
      },
      "execution_count": 146,
      "outputs": []
    },
    {
      "cell_type": "code",
      "source": [
        "r=model_gru.fit(\n",
        "    Xtrain,\n",
        "    Ytrain,\n",
        "    epochs=100,\n",
        "    validation_data=(Xtest,Ytest),\n",
        "    callbacks=[check_point_gru]\n",
        ")"
      ],
      "metadata": {
        "colab": {
          "base_uri": "https://localhost:8080/"
        },
        "id": "nfam1HSPnWSf",
        "outputId": "0a20ffd1-f790-4350-d69d-9e9d38d28573"
      },
      "execution_count": 147,
      "outputs": [
        {
          "output_type": "stream",
          "name": "stdout",
          "text": [
            "Epoch 1/100\n",
            "53/53 [==============================] - 12s 165ms/step - loss: 109.2147 - mae: 7.2886 - mse: 109.2147 - val_loss: 1002.2573 - val_mae: 20.4769 - val_mse: 1002.2573\n",
            "Epoch 2/100\n",
            "53/53 [==============================] - 8s 151ms/step - loss: 108.7996 - mae: 7.2800 - mse: 108.7996 - val_loss: 1003.1807 - val_mae: 20.3967 - val_mse: 1003.1807\n",
            "Epoch 3/100\n",
            "53/53 [==============================] - 8s 150ms/step - loss: 108.5548 - mae: 7.2670 - mse: 108.5548 - val_loss: 1004.2828 - val_mae: 20.3977 - val_mse: 1004.2828\n",
            "Epoch 4/100\n",
            "53/53 [==============================] - 8s 149ms/step - loss: 108.8694 - mae: 7.2700 - mse: 108.8694 - val_loss: 1005.3485 - val_mae: 20.4063 - val_mse: 1005.3485\n",
            "Epoch 5/100\n",
            "53/53 [==============================] - 8s 151ms/step - loss: 108.5750 - mae: 7.2782 - mse: 108.5750 - val_loss: 1003.1615 - val_mae: 20.3998 - val_mse: 1003.1615\n",
            "Epoch 6/100\n",
            "53/53 [==============================] - 8s 150ms/step - loss: 108.6187 - mae: 7.2654 - mse: 108.6187 - val_loss: 1002.7499 - val_mae: 20.4003 - val_mse: 1002.7499\n",
            "Epoch 7/100\n",
            "53/53 [==============================] - 8s 153ms/step - loss: 108.2340 - mae: 7.2733 - mse: 108.2340 - val_loss: 1002.6293 - val_mae: 20.4002 - val_mse: 1002.6293\n",
            "Epoch 8/100\n",
            "53/53 [==============================] - 8s 151ms/step - loss: 108.1179 - mae: 7.2632 - mse: 108.1179 - val_loss: 1002.1964 - val_mae: 20.4012 - val_mse: 1002.1964\n",
            "Epoch 9/100\n",
            "53/53 [==============================] - 8s 155ms/step - loss: 108.2203 - mae: 7.2860 - mse: 108.2203 - val_loss: 1002.1235 - val_mae: 20.4021 - val_mse: 1002.1235\n",
            "Epoch 10/100\n",
            "53/53 [==============================] - 8s 157ms/step - loss: 108.0197 - mae: 7.2557 - mse: 108.0197 - val_loss: 1002.0694 - val_mae: 20.4025 - val_mse: 1002.0694\n",
            "Epoch 11/100\n",
            "53/53 [==============================] - 8s 153ms/step - loss: 108.5239 - mae: 7.2747 - mse: 108.5239 - val_loss: 1002.4902 - val_mae: 20.4018 - val_mse: 1002.4902\n",
            "Epoch 12/100\n",
            "53/53 [==============================] - 8s 153ms/step - loss: 108.0823 - mae: 7.2640 - mse: 108.0823 - val_loss: 1004.1790 - val_mae: 20.3991 - val_mse: 1004.1790\n",
            "Epoch 13/100\n",
            "53/53 [==============================] - 8s 149ms/step - loss: 108.0706 - mae: 7.2674 - mse: 108.0706 - val_loss: 1005.7346 - val_mae: 20.4004 - val_mse: 1005.7346\n",
            "Epoch 14/100\n",
            "53/53 [==============================] - 8s 155ms/step - loss: 107.8610 - mae: 7.2611 - mse: 107.8610 - val_loss: 1003.6793 - val_mae: 20.3973 - val_mse: 1003.6793\n",
            "Epoch 15/100\n",
            "53/53 [==============================] - 8s 151ms/step - loss: 108.1328 - mae: 7.2602 - mse: 108.1328 - val_loss: 1001.7772 - val_mae: 20.4092 - val_mse: 1001.7772\n",
            "Epoch 16/100\n",
            "53/53 [==============================] - 8s 152ms/step - loss: 107.9304 - mae: 7.2599 - mse: 107.9304 - val_loss: 1003.7056 - val_mae: 20.3941 - val_mse: 1003.7056\n",
            "Epoch 17/100\n",
            "53/53 [==============================] - 8s 150ms/step - loss: 107.6165 - mae: 7.2583 - mse: 107.6165 - val_loss: 1005.2811 - val_mae: 20.3970 - val_mse: 1005.2811\n",
            "Epoch 18/100\n",
            "53/53 [==============================] - 8s 149ms/step - loss: 108.4700 - mae: 7.2856 - mse: 108.4700 - val_loss: 1009.3992 - val_mae: 20.4430 - val_mse: 1009.3992\n",
            "Epoch 19/100\n",
            "53/53 [==============================] - 8s 148ms/step - loss: 108.2353 - mae: 7.2652 - mse: 108.2353 - val_loss: 1005.4083 - val_mae: 20.4064 - val_mse: 1005.4083\n",
            "Epoch 20/100\n",
            "53/53 [==============================] - 8s 148ms/step - loss: 107.1928 - mae: 7.2224 - mse: 107.1928 - val_loss: 1002.3143 - val_mae: 20.3912 - val_mse: 1002.3143\n",
            "Epoch 21/100\n",
            "53/53 [==============================] - 8s 151ms/step - loss: 107.1214 - mae: 7.2547 - mse: 107.1214 - val_loss: 1003.7342 - val_mae: 20.3947 - val_mse: 1003.7342\n",
            "Epoch 22/100\n",
            "53/53 [==============================] - 8s 153ms/step - loss: 106.7846 - mae: 7.2418 - mse: 106.7846 - val_loss: 1004.4321 - val_mae: 20.3959 - val_mse: 1004.4321\n",
            "Epoch 23/100\n",
            "53/53 [==============================] - 8s 152ms/step - loss: 106.8484 - mae: 7.2278 - mse: 106.8484 - val_loss: 1004.6655 - val_mae: 20.4051 - val_mse: 1004.6655\n",
            "Epoch 24/100\n",
            "53/53 [==============================] - 8s 158ms/step - loss: 106.4784 - mae: 7.2413 - mse: 106.4784 - val_loss: 1003.4786 - val_mae: 20.3945 - val_mse: 1003.4786\n",
            "Epoch 25/100\n",
            "53/53 [==============================] - 8s 155ms/step - loss: 106.1391 - mae: 7.2440 - mse: 106.1391 - val_loss: 1008.1023 - val_mae: 20.4405 - val_mse: 1008.1023\n",
            "Epoch 26/100\n",
            "53/53 [==============================] - 8s 156ms/step - loss: 105.9700 - mae: 7.2084 - mse: 105.9700 - val_loss: 1001.7683 - val_mae: 20.3993 - val_mse: 1001.7683\n",
            "Epoch 27/100\n",
            "53/53 [==============================] - 8s 157ms/step - loss: 106.0147 - mae: 7.2477 - mse: 106.0147 - val_loss: 1003.0090 - val_mae: 20.4035 - val_mse: 1003.0090\n",
            "Epoch 28/100\n",
            "53/53 [==============================] - 8s 154ms/step - loss: 106.1155 - mae: 7.2724 - mse: 106.1155 - val_loss: 1002.0689 - val_mae: 20.3964 - val_mse: 1002.0689\n",
            "Epoch 29/100\n",
            "53/53 [==============================] - 8s 154ms/step - loss: 105.1745 - mae: 7.1908 - mse: 105.1745 - val_loss: 1004.3262 - val_mae: 20.4031 - val_mse: 1004.3262\n",
            "Epoch 30/100\n",
            "53/53 [==============================] - 8s 153ms/step - loss: 104.6942 - mae: 7.1982 - mse: 104.6942 - val_loss: 1006.7727 - val_mae: 20.4310 - val_mse: 1006.7727\n",
            "Epoch 31/100\n",
            "53/53 [==============================] - 8s 152ms/step - loss: 105.0091 - mae: 7.1959 - mse: 105.0091 - val_loss: 1002.5089 - val_mae: 20.3982 - val_mse: 1002.5089\n",
            "Epoch 32/100\n",
            "53/53 [==============================] - 8s 153ms/step - loss: 103.5147 - mae: 7.1780 - mse: 103.5147 - val_loss: 1006.3170 - val_mae: 20.4359 - val_mse: 1006.3170\n",
            "Epoch 33/100\n",
            "53/53 [==============================] - 8s 151ms/step - loss: 102.9700 - mae: 7.1665 - mse: 102.9700 - val_loss: 1004.3950 - val_mae: 20.4609 - val_mse: 1004.3950\n",
            "Epoch 34/100\n",
            "53/53 [==============================] - 8s 152ms/step - loss: 102.9719 - mae: 7.1627 - mse: 102.9719 - val_loss: 1014.5594 - val_mae: 20.5599 - val_mse: 1014.5594\n",
            "Epoch 35/100\n",
            "53/53 [==============================] - 8s 153ms/step - loss: 102.6600 - mae: 7.1310 - mse: 102.6600 - val_loss: 1012.2872 - val_mae: 20.4977 - val_mse: 1012.2872\n",
            "Epoch 36/100\n",
            "53/53 [==============================] - 8s 150ms/step - loss: 101.2784 - mae: 7.1117 - mse: 101.2784 - val_loss: 1003.6678 - val_mae: 20.4688 - val_mse: 1003.6678\n",
            "Epoch 37/100\n",
            "53/53 [==============================] - 8s 153ms/step - loss: 100.3170 - mae: 7.0775 - mse: 100.3170 - val_loss: 1021.8354 - val_mae: 20.7073 - val_mse: 1021.8354\n",
            "Epoch 38/100\n",
            "53/53 [==============================] - 8s 152ms/step - loss: 99.9185 - mae: 7.1109 - mse: 99.9185 - val_loss: 1010.8043 - val_mae: 20.5044 - val_mse: 1010.8043\n",
            "Epoch 39/100\n",
            "53/53 [==============================] - 8s 150ms/step - loss: 99.7739 - mae: 7.0668 - mse: 99.7739 - val_loss: 1026.0385 - val_mae: 20.7916 - val_mse: 1026.0385\n",
            "Epoch 40/100\n",
            "53/53 [==============================] - 8s 148ms/step - loss: 98.4238 - mae: 7.0549 - mse: 98.4238 - val_loss: 1009.6244 - val_mae: 20.5769 - val_mse: 1009.6244\n",
            "Epoch 41/100\n",
            "53/53 [==============================] - 8s 153ms/step - loss: 96.5947 - mae: 7.0732 - mse: 96.5947 - val_loss: 1007.0850 - val_mae: 20.6267 - val_mse: 1007.0850\n",
            "Epoch 42/100\n",
            "53/53 [==============================] - 8s 152ms/step - loss: 97.7093 - mae: 7.0793 - mse: 97.7093 - val_loss: 1021.6639 - val_mae: 20.7223 - val_mse: 1021.6639\n",
            "Epoch 43/100\n",
            "53/53 [==============================] - 8s 152ms/step - loss: 95.4284 - mae: 6.9624 - mse: 95.4284 - val_loss: 1039.5381 - val_mae: 20.9805 - val_mse: 1039.5381\n",
            "Epoch 44/100\n",
            "53/53 [==============================] - 8s 152ms/step - loss: 94.2815 - mae: 6.9252 - mse: 94.2815 - val_loss: 1011.6846 - val_mae: 20.6285 - val_mse: 1011.6846\n",
            "Epoch 45/100\n",
            "53/53 [==============================] - 8s 149ms/step - loss: 94.7261 - mae: 7.0354 - mse: 94.7261 - val_loss: 1025.2198 - val_mae: 20.7775 - val_mse: 1025.2198\n",
            "Epoch 46/100\n",
            "53/53 [==============================] - 8s 150ms/step - loss: 92.7495 - mae: 6.9179 - mse: 92.7495 - val_loss: 1016.4838 - val_mae: 20.7599 - val_mse: 1016.4838\n",
            "Epoch 47/100\n",
            "53/53 [==============================] - 8s 148ms/step - loss: 91.5813 - mae: 6.8851 - mse: 91.5813 - val_loss: 1039.4807 - val_mae: 21.1169 - val_mse: 1039.4807\n",
            "Epoch 48/100\n",
            "53/53 [==============================] - 8s 151ms/step - loss: 91.0336 - mae: 6.8672 - mse: 91.0336 - val_loss: 1028.4458 - val_mae: 20.9841 - val_mse: 1028.4458\n",
            "Epoch 49/100\n",
            "53/53 [==============================] - 8s 152ms/step - loss: 89.0456 - mae: 6.7522 - mse: 89.0456 - val_loss: 1016.7913 - val_mae: 20.9008 - val_mse: 1016.7913\n",
            "Epoch 50/100\n",
            "53/53 [==============================] - 8s 152ms/step - loss: 90.5004 - mae: 6.8781 - mse: 90.5004 - val_loss: 1026.0623 - val_mae: 20.9061 - val_mse: 1026.0623\n",
            "Epoch 51/100\n",
            "53/53 [==============================] - 8s 154ms/step - loss: 87.6365 - mae: 6.7629 - mse: 87.6365 - val_loss: 1043.1808 - val_mae: 21.2306 - val_mse: 1043.1808\n",
            "Epoch 52/100\n",
            "53/53 [==============================] - 8s 152ms/step - loss: 85.9110 - mae: 6.7049 - mse: 85.9110 - val_loss: 1028.2332 - val_mae: 21.0031 - val_mse: 1028.2332\n",
            "Epoch 53/100\n",
            "53/53 [==============================] - 8s 154ms/step - loss: 86.2222 - mae: 6.6817 - mse: 86.2222 - val_loss: 1049.3120 - val_mae: 21.2835 - val_mse: 1049.3120\n",
            "Epoch 54/100\n",
            "53/53 [==============================] - 8s 155ms/step - loss: 85.5150 - mae: 6.6848 - mse: 85.5150 - val_loss: 1047.3733 - val_mae: 21.2331 - val_mse: 1047.3733\n",
            "Epoch 55/100\n",
            "53/53 [==============================] - 8s 153ms/step - loss: 84.1420 - mae: 6.6897 - mse: 84.1420 - val_loss: 1074.6305 - val_mae: 21.6372 - val_mse: 1074.6305\n",
            "Epoch 56/100\n",
            "53/53 [==============================] - 8s 156ms/step - loss: 83.8318 - mae: 6.6465 - mse: 83.8318 - val_loss: 1048.3435 - val_mae: 21.2933 - val_mse: 1048.3435\n",
            "Epoch 57/100\n",
            "53/53 [==============================] - 8s 154ms/step - loss: 80.9795 - mae: 6.4916 - mse: 80.9795 - val_loss: 1110.7389 - val_mae: 22.1828 - val_mse: 1110.7389\n",
            "Epoch 58/100\n",
            "53/53 [==============================] - 8s 153ms/step - loss: 80.8277 - mae: 6.5620 - mse: 80.8277 - val_loss: 1038.7927 - val_mae: 21.2340 - val_mse: 1038.7927\n",
            "Epoch 59/100\n",
            "53/53 [==============================] - 8s 158ms/step - loss: 81.3885 - mae: 6.5742 - mse: 81.3885 - val_loss: 1073.4218 - val_mae: 21.6904 - val_mse: 1073.4218\n",
            "Epoch 60/100\n",
            "53/53 [==============================] - 8s 158ms/step - loss: 80.0808 - mae: 6.4756 - mse: 80.0808 - val_loss: 1050.2550 - val_mae: 21.3195 - val_mse: 1050.2550\n",
            "Epoch 61/100\n",
            "53/53 [==============================] - 8s 153ms/step - loss: 77.7464 - mae: 6.3881 - mse: 77.7464 - val_loss: 1080.1936 - val_mae: 21.7863 - val_mse: 1080.1936\n",
            "Epoch 62/100\n",
            "53/53 [==============================] - 8s 155ms/step - loss: 74.4187 - mae: 6.3211 - mse: 74.4187 - val_loss: 1092.1857 - val_mae: 22.0197 - val_mse: 1092.1857\n",
            "Epoch 63/100\n",
            "53/53 [==============================] - 8s 155ms/step - loss: 77.1019 - mae: 6.4242 - mse: 77.1019 - val_loss: 1090.4396 - val_mae: 21.9183 - val_mse: 1090.4396\n",
            "Epoch 64/100\n",
            "53/53 [==============================] - 8s 155ms/step - loss: 77.7387 - mae: 6.4347 - mse: 77.7387 - val_loss: 1054.9319 - val_mae: 21.4196 - val_mse: 1054.9319\n",
            "Epoch 65/100\n",
            "53/53 [==============================] - 8s 157ms/step - loss: 72.4477 - mae: 6.1715 - mse: 72.4477 - val_loss: 1077.2891 - val_mae: 21.8122 - val_mse: 1077.2891\n",
            "Epoch 66/100\n",
            "53/53 [==============================] - 8s 157ms/step - loss: 77.7183 - mae: 6.4793 - mse: 77.7183 - val_loss: 1074.1316 - val_mae: 21.6777 - val_mse: 1074.1316\n",
            "Epoch 67/100\n",
            "53/53 [==============================] - 8s 152ms/step - loss: 72.3285 - mae: 6.2508 - mse: 72.3285 - val_loss: 1117.3269 - val_mae: 22.4020 - val_mse: 1117.3269\n",
            "Epoch 68/100\n",
            "53/53 [==============================] - 8s 158ms/step - loss: 70.6274 - mae: 6.1882 - mse: 70.6274 - val_loss: 1075.1930 - val_mae: 21.7700 - val_mse: 1075.1930\n",
            "Epoch 69/100\n",
            "53/53 [==============================] - 8s 158ms/step - loss: 68.9731 - mae: 6.0679 - mse: 68.9731 - val_loss: 1097.0172 - val_mae: 22.1357 - val_mse: 1097.0172\n",
            "Epoch 70/100\n",
            "53/53 [==============================] - 8s 155ms/step - loss: 69.2513 - mae: 5.9979 - mse: 69.2513 - val_loss: 1075.0212 - val_mae: 21.8317 - val_mse: 1075.0212\n",
            "Epoch 71/100\n",
            "53/53 [==============================] - 8s 155ms/step - loss: 68.7577 - mae: 6.0785 - mse: 68.7577 - val_loss: 1099.1530 - val_mae: 22.2146 - val_mse: 1099.1530\n",
            "Epoch 72/100\n",
            "53/53 [==============================] - 8s 152ms/step - loss: 66.0532 - mae: 5.9844 - mse: 66.0532 - val_loss: 1095.0266 - val_mae: 22.1387 - val_mse: 1095.0266\n",
            "Epoch 73/100\n",
            "53/53 [==============================] - 8s 151ms/step - loss: 63.7294 - mae: 5.9064 - mse: 63.7294 - val_loss: 1110.5962 - val_mae: 22.4039 - val_mse: 1110.5962\n",
            "Epoch 74/100\n",
            "53/53 [==============================] - 8s 152ms/step - loss: 66.8053 - mae: 6.0255 - mse: 66.8053 - val_loss: 1178.4067 - val_mae: 23.4960 - val_mse: 1178.4067\n",
            "Epoch 75/100\n",
            "53/53 [==============================] - 8s 148ms/step - loss: 66.0969 - mae: 5.9792 - mse: 66.0969 - val_loss: 1096.0045 - val_mae: 22.2058 - val_mse: 1096.0045\n",
            "Epoch 76/100\n",
            "53/53 [==============================] - 8s 151ms/step - loss: 60.2592 - mae: 5.7058 - mse: 60.2592 - val_loss: 1120.7239 - val_mae: 22.5669 - val_mse: 1120.7239\n",
            "Epoch 77/100\n",
            "53/53 [==============================] - 8s 152ms/step - loss: 59.2504 - mae: 5.6249 - mse: 59.2504 - val_loss: 1105.9609 - val_mae: 22.3164 - val_mse: 1105.9609\n",
            "Epoch 78/100\n",
            "53/53 [==============================] - 8s 153ms/step - loss: 61.1396 - mae: 5.7556 - mse: 61.1396 - val_loss: 1106.9154 - val_mae: 22.4308 - val_mse: 1106.9154\n",
            "Epoch 79/100\n",
            "53/53 [==============================] - 8s 150ms/step - loss: 59.6459 - mae: 5.7040 - mse: 59.6459 - val_loss: 1138.8015 - val_mae: 22.9341 - val_mse: 1138.8015\n",
            "Epoch 80/100\n",
            "53/53 [==============================] - 8s 153ms/step - loss: 61.3741 - mae: 5.7406 - mse: 61.3741 - val_loss: 1138.0890 - val_mae: 22.9700 - val_mse: 1138.0890\n",
            "Epoch 81/100\n",
            "53/53 [==============================] - 8s 151ms/step - loss: 57.1359 - mae: 5.5694 - mse: 57.1359 - val_loss: 1090.7804 - val_mae: 22.1672 - val_mse: 1090.7804\n",
            "Epoch 82/100\n",
            "53/53 [==============================] - 8s 154ms/step - loss: 57.6561 - mae: 5.6451 - mse: 57.6561 - val_loss: 1222.6466 - val_mae: 24.3781 - val_mse: 1222.6466\n",
            "Epoch 83/100\n",
            "53/53 [==============================] - 8s 151ms/step - loss: 54.1520 - mae: 5.3903 - mse: 54.1520 - val_loss: 1149.9409 - val_mae: 23.1697 - val_mse: 1149.9409\n",
            "Epoch 84/100\n",
            "53/53 [==============================] - 8s 154ms/step - loss: 55.3123 - mae: 5.4827 - mse: 55.3123 - val_loss: 1114.8427 - val_mae: 22.5707 - val_mse: 1114.8427\n",
            "Epoch 85/100\n",
            "53/53 [==============================] - 8s 155ms/step - loss: 55.2761 - mae: 5.4750 - mse: 55.2761 - val_loss: 1175.1400 - val_mae: 23.6316 - val_mse: 1175.1400\n",
            "Epoch 86/100\n",
            "53/53 [==============================] - 8s 154ms/step - loss: 57.3443 - mae: 5.6705 - mse: 57.3443 - val_loss: 1204.8395 - val_mae: 24.0811 - val_mse: 1204.8395\n",
            "Epoch 87/100\n",
            "53/53 [==============================] - 8s 150ms/step - loss: 52.4728 - mae: 5.3282 - mse: 52.4728 - val_loss: 1172.8962 - val_mae: 23.5719 - val_mse: 1172.8962\n",
            "Epoch 88/100\n",
            "53/53 [==============================] - 8s 150ms/step - loss: 47.9889 - mae: 5.1346 - mse: 47.9889 - val_loss: 1147.8962 - val_mae: 23.1409 - val_mse: 1147.8962\n",
            "Epoch 89/100\n",
            "53/53 [==============================] - 8s 152ms/step - loss: 49.4976 - mae: 5.1778 - mse: 49.4976 - val_loss: 1176.8422 - val_mae: 23.6378 - val_mse: 1176.8422\n",
            "Epoch 90/100\n",
            "53/53 [==============================] - 8s 151ms/step - loss: 48.5056 - mae: 5.1333 - mse: 48.5056 - val_loss: 1161.9321 - val_mae: 23.4510 - val_mse: 1161.9321\n",
            "Epoch 91/100\n",
            "53/53 [==============================] - 8s 152ms/step - loss: 48.0009 - mae: 5.1632 - mse: 48.0009 - val_loss: 1141.7645 - val_mae: 23.1692 - val_mse: 1141.7645\n",
            "Epoch 92/100\n",
            "53/53 [==============================] - 8s 152ms/step - loss: 44.1489 - mae: 4.9131 - mse: 44.1489 - val_loss: 1205.6329 - val_mae: 24.1769 - val_mse: 1205.6329\n",
            "Epoch 93/100\n",
            "53/53 [==============================] - 8s 154ms/step - loss: 45.7071 - mae: 4.9385 - mse: 45.7071 - val_loss: 1213.2271 - val_mae: 24.3584 - val_mse: 1213.2271\n",
            "Epoch 94/100\n",
            "53/53 [==============================] - 8s 151ms/step - loss: 46.9544 - mae: 5.1283 - mse: 46.9544 - val_loss: 1159.7479 - val_mae: 23.4543 - val_mse: 1159.7479\n",
            "Epoch 95/100\n",
            "53/53 [==============================] - 8s 151ms/step - loss: 43.5000 - mae: 4.8532 - mse: 43.5000 - val_loss: 1164.5181 - val_mae: 23.5352 - val_mse: 1164.5181\n",
            "Epoch 96/100\n",
            "53/53 [==============================] - 8s 153ms/step - loss: 44.7858 - mae: 4.9394 - mse: 44.7858 - val_loss: 1177.2330 - val_mae: 23.6904 - val_mse: 1177.2330\n",
            "Epoch 97/100\n",
            "53/53 [==============================] - 8s 151ms/step - loss: 41.3538 - mae: 4.7715 - mse: 41.3538 - val_loss: 1152.0748 - val_mae: 23.3417 - val_mse: 1152.0748\n",
            "Epoch 98/100\n",
            "53/53 [==============================] - 8s 150ms/step - loss: 41.6583 - mae: 4.7841 - mse: 41.6583 - val_loss: 1237.8271 - val_mae: 24.7535 - val_mse: 1237.8271\n",
            "Epoch 99/100\n",
            "53/53 [==============================] - 8s 149ms/step - loss: 40.5060 - mae: 4.7214 - mse: 40.5060 - val_loss: 1188.8356 - val_mae: 23.9180 - val_mse: 1188.8356\n",
            "Epoch 100/100\n",
            "53/53 [==============================] - 8s 150ms/step - loss: 40.8979 - mae: 4.7076 - mse: 40.8979 - val_loss: 1146.1067 - val_mae: 23.2607 - val_mse: 1146.1067\n"
          ]
        }
      ]
    },
    {
      "cell_type": "markdown",
      "source": [
        "Predictions"
      ],
      "metadata": {
        "id": "hjVQsanxpHma"
      }
    },
    {
      "cell_type": "code",
      "source": [
        "train_idx[:T+1]=False"
      ],
      "metadata": {
        "id": "f1Llph9XdeVY"
      },
      "execution_count": 148,
      "outputs": []
    },
    {
      "cell_type": "code",
      "source": [
        "Ptrain_ann=model_ann.predict(Xtrain).flatten()\n",
        "Ptest_ann=model_ann.predict(Xtest).flatten()\n"
      ],
      "metadata": {
        "id": "96WR1e3Sdgle"
      },
      "execution_count": 149,
      "outputs": []
    },
    {
      "cell_type": "code",
      "source": [
        "Ptrain_cnn=model_cnn.predict(Xtrain).flatten()\n",
        "Ptest_cnn=model_cnn.predict(Xtest).flatten()"
      ],
      "metadata": {
        "id": "Pc5bF6Z_gUGI"
      },
      "execution_count": 150,
      "outputs": []
    },
    {
      "cell_type": "code",
      "source": [
        "Ptrain_lstm=model_lstm.predict(Xtrain).flatten()\n",
        "Ptest_lstm=model_lstm.predict(Xtest).flatten()"
      ],
      "metadata": {
        "id": "LWhMPuCvjAIS"
      },
      "execution_count": 151,
      "outputs": []
    },
    {
      "cell_type": "code",
      "source": [
        "Ptrain_gru=model_gru.predict(Xtrain).flatten()\n",
        "Ptest_gru=model_gru.predict(Xtest).flatten()"
      ],
      "metadata": {
        "id": "znvUQWrKnmIj"
      },
      "execution_count": 152,
      "outputs": []
    },
    {
      "cell_type": "code",
      "source": [
        "df.loc[train_idx,'Diff ANN train prediction']=Ptrain_ann\n",
        "df.loc[test_idx,'Diff ANN test prediction']=Ptest_ann"
      ],
      "metadata": {
        "id": "L7p_peucdjgP"
      },
      "execution_count": 153,
      "outputs": []
    },
    {
      "cell_type": "code",
      "source": [
        "df.loc[train_idx,'Diff CNN train prediction']=Ptrain_cnn\n",
        "df.loc[test_idx,'Diff CNN test prediction']=Ptest_cnn"
      ],
      "metadata": {
        "id": "YcnY5nc6gaG6"
      },
      "execution_count": 154,
      "outputs": []
    },
    {
      "cell_type": "code",
      "source": [
        "df.loc[train_idx,'Diff LSTM train prediction']=Ptrain_lstm\n",
        "df.loc[test_idx,'Diff LSTM test prediction']=Ptest_lstm"
      ],
      "metadata": {
        "id": "8p_92fO6jTpW"
      },
      "execution_count": 155,
      "outputs": []
    },
    {
      "cell_type": "code",
      "source": [
        "df.loc[train_idx,'Diff GRU train prediction']=Ptrain_gru\n",
        "df.loc[test_idx,'Diff GRU test prediction']=Ptest_gru"
      ],
      "metadata": {
        "id": "nmUC4sKpnsIl"
      },
      "execution_count": 156,
      "outputs": []
    },
    {
      "cell_type": "code",
      "source": [
        "df['Shift Prev Close']=df['Prev Close'].shift(1)\n",
        "prev=df['Shift Prev Close']"
      ],
      "metadata": {
        "id": "Ea7RmDuJdpgz"
      },
      "execution_count": 157,
      "outputs": []
    },
    {
      "cell_type": "code",
      "source": [
        "last_train=train.iloc[-1]['Prev Close']"
      ],
      "metadata": {
        "id": "hrhOEI3fduRI"
      },
      "execution_count": 158,
      "outputs": []
    },
    {
      "cell_type": "code",
      "source": [
        "df.loc[train_idx,'train_ANN']=prev[train_idx]+Ptrain_ann\n",
        "df.loc[test_idx,'Prediction_ANN']=prev[test_idx]+Ptest_ann"
      ],
      "metadata": {
        "id": "h0UpXNAXd0Uy"
      },
      "execution_count": 159,
      "outputs": []
    },
    {
      "cell_type": "code",
      "source": [
        "df.loc[train_idx,'train_CNN']=prev[train_idx]+Ptrain_cnn\n",
        "df.loc[test_idx,'Prediction_CNN']=prev[test_idx]+Ptest_cnn"
      ],
      "metadata": {
        "id": "EUYdfUqdg5Tu"
      },
      "execution_count": 160,
      "outputs": []
    },
    {
      "cell_type": "code",
      "source": [
        "df.loc[train_idx,'train_LSTM']=prev[train_idx]+Ptrain_lstm\n",
        "df.loc[test_idx,'Prediction_LSTM']=prev[test_idx]+Ptest_lstm"
      ],
      "metadata": {
        "id": "Na8TIloyjc_Z"
      },
      "execution_count": 161,
      "outputs": []
    },
    {
      "cell_type": "code",
      "source": [
        "df.loc[train_idx,'train_GRU']=prev[train_idx]+Ptrain_gru\n",
        "df.loc[test_idx,'Prediction_GRU']=prev[test_idx]+Ptest_gru"
      ],
      "metadata": {
        "id": "qSL8wEeqnzrM"
      },
      "execution_count": 162,
      "outputs": []
    },
    {
      "cell_type": "code",
      "source": [
        "df[[ 'Prev Close','Prediction_CNN','Prediction_ANN','Prediction_LSTM','Prediction_GRU']].plot(figsize=(15,10));"
      ],
      "metadata": {
        "colab": {
          "base_uri": "https://localhost:8080/",
          "height": 416
        },
        "id": "hItPmrHOd45G",
        "outputId": "44b378ca-20ff-4d1d-dae0-797c5f41dd8a"
      },
      "execution_count": 163,
      "outputs": [
        {
          "output_type": "display_data",
          "data": {
            "text/plain": [
              "<Figure size 1080x720 with 1 Axes>"
            ],
            "image/png": "[encoded data removed]"
          },
          "metadata": {
            "needs_background": "light"
          }
        }
      ]
    },
    {
      "cell_type": "code",
      "source": [
        "df[[ 'Prediction_CNN','Prediction_ANN','Prediction_LSTM','Prediction_GRU']].plot(figsize=(15,10),\n",
        "    ylabel=(\"Previous Close\"));"
      ],
      "metadata": {
        "colab": {
          "base_uri": "https://localhost:8080/",
          "height": 416
        },
        "id": "8nDh9SzUd7Em",
        "outputId": "3f611db2-f726-4483-d7f3-0881f6333a58"
      },
      "execution_count": 164,
      "outputs": [
        {
          "output_type": "display_data",
          "data": {
            "text/plain": [
              "<Figure size 1080x720 with 1 Axes>"
            ],
            "image/png": "[encoded data removed]"
          },
          "metadata": {
            "needs_background": "light"
          }
        }
      ]
    },
    {
      "cell_type": "markdown",
      "source": [
        "Evaluation"
      ],
      "metadata": {
        "id": "rSXUYSDdpMP7"
      }
    },
    {
      "cell_type": "code",
      "source": [
        "pred_ann=df['Prediction_ANN']\n",
        "pred_ann.dropna(inplace=True)"
      ],
      "metadata": {
        "id": "NdOUWgEhoKjf"
      },
      "execution_count": 165,
      "outputs": []
    },
    {
      "cell_type": "code",
      "source": [
        "rmse=math.sqrt(mean_squared_error(test['Prev Close'],pred_ann))\n",
        "print(rmse)"
      ],
      "metadata": {
        "colab": {
          "base_uri": "https://localhost:8080/"
        },
        "id": "nsTCBQ6mpdH0",
        "outputId": "6fb6b717-0374-446b-958e-433c8fe066e0"
      },
      "execution_count": 166,
      "outputs": [
        {
          "output_type": "stream",
          "name": "stdout",
          "text": [
            "33.732187275035706\n"
          ]
        }
      ]
    },
    {
      "cell_type": "code",
      "source": [
        "error=mean_absolute_error(test['Prev Close'],pred_ann)\n",
        "print(error)"
      ],
      "metadata": {
        "colab": {
          "base_uri": "https://localhost:8080/"
        },
        "id": "iIAQHD7DpgVL",
        "outputId": "7db36c4f-1398-4bbf-d8aa-46a48ae50020"
      },
      "execution_count": 167,
      "outputs": [
        {
          "output_type": "stream",
          "name": "stdout",
          "text": [
            "22.030646843824172\n"
          ]
        }
      ]
    },
    {
      "cell_type": "code",
      "source": [
        "r2_score(test['Prev Close'],pred_ann)"
      ],
      "metadata": {
        "colab": {
          "base_uri": "https://localhost:8080/"
        },
        "id": "-0ZfJE4zplqz",
        "outputId": "7cd6c06f-59a9-445a-c8ac-4795c3beb52b"
      },
      "execution_count": 168,
      "outputs": [
        {
          "output_type": "execute_result",
          "data": {
            "text/plain": [
              "0.985487393282138"
            ]
          },
          "metadata": {},
          "execution_count": 168
        }
      ]
    },
    {
      "cell_type": "code",
      "source": [
        "pred_cnn=df['Prediction_CNN']\n",
        "pred_cnn.dropna(inplace=True)"
      ],
      "metadata": {
        "id": "NQ3y6NwzppdW"
      },
      "execution_count": 169,
      "outputs": []
    },
    {
      "cell_type": "code",
      "source": [
        "rmse=math.sqrt(mean_squared_error(test['Prev Close'],pred_cnn))\n",
        "print(rmse)"
      ],
      "metadata": {
        "colab": {
          "base_uri": "https://localhost:8080/"
        },
        "id": "2t7Fu7N-p9ql",
        "outputId": "076de285-1749-4f2b-f681-e0062b70f799"
      },
      "execution_count": 170,
      "outputs": [
        {
          "output_type": "stream",
          "name": "stdout",
          "text": [
            "32.62884398804393\n"
          ]
        }
      ]
    },
    {
      "cell_type": "code",
      "source": [
        "error=mean_absolute_error(test['Prev Close'],pred_cnn)\n",
        "print(error)"
      ],
      "metadata": {
        "colab": {
          "base_uri": "https://localhost:8080/"
        },
        "id": "fCxfXZ3Cp92i",
        "outputId": "45994ab8-d42a-4cc0-de20-3d1d5f09ec05"
      },
      "execution_count": 171,
      "outputs": [
        {
          "output_type": "stream",
          "name": "stdout",
          "text": [
            "20.9732270512805\n"
          ]
        }
      ]
    },
    {
      "cell_type": "code",
      "source": [
        "r2_score(test['Prev Close'],pred_cnn)"
      ],
      "metadata": {
        "colab": {
          "base_uri": "https://localhost:8080/"
        },
        "id": "B1yNq5Vyp-Fv",
        "outputId": "4614d6e8-1936-45fd-c53d-1af4c5af2a80"
      },
      "execution_count": 172,
      "outputs": [
        {
          "output_type": "execute_result",
          "data": {
            "text/plain": [
              "0.9864212499072609"
            ]
          },
          "metadata": {},
          "execution_count": 172
        }
      ]
    },
    {
      "cell_type": "code",
      "source": [
        "pred_lstm=df['Prediction_LSTM']\n",
        "pred_lstm.dropna(inplace=True)"
      ],
      "metadata": {
        "id": "2JHbSsrypzko"
      },
      "execution_count": 173,
      "outputs": []
    },
    {
      "cell_type": "code",
      "source": [
        "rmse=math.sqrt(mean_squared_error(test['Prev Close'],pred_lstm))\n",
        "print(rmse)"
      ],
      "metadata": {
        "colab": {
          "base_uri": "https://localhost:8080/"
        },
        "id": "UXSSQRxQp-35",
        "outputId": "6d93b37f-d744-4fd8-d830-7074feaa7aed"
      },
      "execution_count": 174,
      "outputs": [
        {
          "output_type": "stream",
          "name": "stdout",
          "text": [
            "36.14961535137926\n"
          ]
        }
      ]
    },
    {
      "cell_type": "code",
      "source": [
        "error=mean_absolute_error(test['Prev Close'],pred_lstm)\n",
        "print(error)"
      ],
      "metadata": {
        "colab": {
          "base_uri": "https://localhost:8080/"
        },
        "id": "h9VZ6Odxp-9o",
        "outputId": "cc68c62d-6cea-4eb4-e740-f0226be5aed2"
      },
      "execution_count": 175,
      "outputs": [
        {
          "output_type": "stream",
          "name": "stdout",
          "text": [
            "25.182098196983375\n"
          ]
        }
      ]
    },
    {
      "cell_type": "code",
      "source": [
        "r2_score(test['Prev Close'],pred_lstm)"
      ],
      "metadata": {
        "colab": {
          "base_uri": "https://localhost:8080/"
        },
        "id": "X7FH8enup_D3",
        "outputId": "f8e50ab7-25a7-46d7-cce0-96f521387b1c"
      },
      "execution_count": 176,
      "outputs": [
        {
          "output_type": "execute_result",
          "data": {
            "text/plain": [
              "0.983332756439141"
            ]
          },
          "metadata": {},
          "execution_count": 176
        }
      ]
    },
    {
      "cell_type": "code",
      "source": [
        "pred_gru=df['Prediction_GRU']\n",
        "pred_gru.dropna(inplace=True)"
      ],
      "metadata": {
        "id": "i3IdPEAWp4iD"
      },
      "execution_count": 177,
      "outputs": []
    },
    {
      "cell_type": "code",
      "source": [
        "rmse=math.sqrt(mean_squared_error(test['Prev Close'],pred_gru))\n",
        "print(rmse)"
      ],
      "metadata": {
        "colab": {
          "base_uri": "https://localhost:8080/"
        },
        "id": "XuZAIPTEp_iy",
        "outputId": "d72f4067-bcb7-49ce-9841-b4449aa97978"
      },
      "execution_count": 178,
      "outputs": [
        {
          "output_type": "stream",
          "name": "stdout",
          "text": [
            "33.854197831154075\n"
          ]
        }
      ]
    },
    {
      "cell_type": "code",
      "source": [
        "error=mean_absolute_error(test['Prev Close'],pred_gru)\n",
        "print(error)"
      ],
      "metadata": {
        "colab": {
          "base_uri": "https://localhost:8080/"
        },
        "id": "eo7EZVIop_np",
        "outputId": "61871774-d98e-4bf4-9af9-33b5866ebb5f"
      },
      "execution_count": 179,
      "outputs": [
        {
          "output_type": "stream",
          "name": "stdout",
          "text": [
            "23.26073071181493\n"
          ]
        }
      ]
    },
    {
      "cell_type": "code",
      "source": [
        "r2_score(test['Prev Close'],pred_gru)"
      ],
      "metadata": {
        "colab": {
          "base_uri": "https://localhost:8080/"
        },
        "id": "AQIh6l51p_so",
        "outputId": "9e5af4a1-436e-4e13-cc17-a164fd0c747d"
      },
      "execution_count": 180,
      "outputs": [
        {
          "output_type": "execute_result",
          "data": {
            "text/plain": [
              "0.985382218154929"
            ]
          },
          "metadata": {},
          "execution_count": 180
        }
      ]
    },
    {
      "cell_type": "code",
      "source": [],
      "metadata": {
        "id": "gjfmkSgjqcjO"
      },
      "execution_count": 180,
      "outputs": []
    }
  ]
}