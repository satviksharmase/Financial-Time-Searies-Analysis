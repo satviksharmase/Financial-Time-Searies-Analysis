{
  "cells": [
    {
      "cell_type": "code",
      "execution_count": 1,
      "metadata": {
        "id": "dpI-f41n9Ofc"
      },
      "outputs": [],
      "source": [
        "import pandas as pd\n",
        "import numpy as np\n",
        "import matplotlib.pyplot as plt\n",
        "\n",
        "import tensorflow as tf\n",
        "from tensorflow.keras.layers import Dense, Input, GlobalMaxPool1D, LSTM, GRU\n",
        "from tensorflow.keras.layers import Conv1D, MaxPooling1D\n",
        "from tensorflow.keras.models import Model\n",
        "from tensorflow.keras.callbacks import ModelCheckpoint\n",
        "\n",
        "import math\n",
        "\n",
        "from sklearn.metrics import r2_score\n",
        "from sklearn.metrics import mean_absolute_error\n",
        "from sklearn.metrics import mean_squared_error\n",
        "\n",
        "np.random.seed(123)\n",
        "tf.random.set_seed(123)"
      ]
    },
    {
      "cell_type": "code",
      "execution_count": 2,
      "metadata": {
        "id": "tRrBpF6O9Rch"
      },
      "outputs": [],
      "source": [
        "df=pd.read_csv('./HINDUNILVR.csv',index_col='Date',parse_dates=True)"
      ]
    },
    {
      "cell_type": "code",
      "execution_count": 3,
      "metadata": {
        "colab": {
          "base_uri": "https://localhost:8080/",
          "height": 710
        },
        "id": "ZHKVPajo9cUs",
        "outputId": "1f96758b-1074-460e-c311-a46165126c8e"
      },
      "outputs": [
        {
          "output_type": "execute_result",
          "data": {
            "text/plain": [
              "                Symbol Series  Prev Close    Open     High      Low     Last  \\\n",
              "Date                                                                           \n",
              "2000-01-03   HINDLEVER     EQ     2136.60  2300.0  2307.55  2300.00  2307.55   \n",
              "2000-01-04   HINDLEVER     EQ     2307.55  2381.0  2381.00  2250.00  2270.00   \n",
              "2000-01-05   HINDLEVER     EQ     2281.05  2200.0  2250.00  2105.00  2183.50   \n",
              "2000-01-06   HINDLEVER     EQ     2199.90  2224.9  2360.00  2210.00  2300.00   \n",
              "2000-01-07   HINDLEVER     EQ     2288.20  2300.0  2452.00  2282.25  2395.00   \n",
              "...                ...    ...         ...     ...      ...      ...      ...   \n",
              "2021-04-26  HINDUNILVR     EQ     2307.75  2324.0  2369.80  2311.00  2367.70   \n",
              "2021-04-27  HINDUNILVR     EQ     2360.65  2363.0  2386.45  2352.95  2378.00   \n",
              "2021-04-28  HINDUNILVR     EQ     2379.85  2380.0  2445.00  2366.30  2404.00   \n",
              "2021-04-29  HINDUNILVR     EQ     2406.55  2433.0  2448.95  2384.15  2422.15   \n",
              "2021-04-30  HINDUNILVR     EQ     2407.60  2410.0  2442.90  2330.25  2350.00   \n",
              "\n",
              "              Close     VWAP   Volume      Turnover    Trades  \\\n",
              "Date                                                            \n",
              "2000-01-03  2307.55  2307.08    24903  5.745330e+12       NaN   \n",
              "2000-01-04  2281.05  2298.15    58514  1.344740e+13       NaN   \n",
              "2000-01-05  2199.90  2211.17    80296  1.775482e+13       NaN   \n",
              "2000-01-06  2288.20  2301.80   190032  4.374157e+13       NaN   \n",
              "2000-01-07  2412.95  2380.24   192582  4.583919e+13       NaN   \n",
              "...             ...      ...      ...           ...       ...   \n",
              "2021-04-26  2360.65  2340.89  1946867  4.557405e+14   85684.0   \n",
              "2021-04-27  2379.85  2374.40  1668456  3.961583e+14   84641.0   \n",
              "2021-04-28  2406.55  2414.15  1951215  4.710522e+14   84910.0   \n",
              "2021-04-29  2407.60  2419.82  3151150  7.625230e+14  141048.0   \n",
              "2021-04-30  2353.75  2363.99  4010778  9.481448e+14  170223.0   \n",
              "\n",
              "            Deliverable Volume  %Deliverble  \n",
              "Date                                         \n",
              "2000-01-03                 NaN          NaN  \n",
              "2000-01-04                 NaN          NaN  \n",
              "2000-01-05                 NaN          NaN  \n",
              "2000-01-06                 NaN          NaN  \n",
              "2000-01-07                 NaN          NaN  \n",
              "...                        ...          ...  \n",
              "2021-04-26           1289103.0       0.6621  \n",
              "2021-04-27           1089882.0       0.6532  \n",
              "2021-04-28           1024216.0       0.5249  \n",
              "2021-04-29            946648.0       0.3004  \n",
              "2021-04-30           2038288.0       0.5082  \n",
              "\n",
              "[5306 rows x 14 columns]"
            ],
            "text/html": [
              "\n",
              "  <div id=\"df-2a9316da-a53f-4e9a-9afa-649deb64fb1c\">\n",
              "    <div class=\"colab-df-container\">\n",
              "      <div>\n",
              "<style scoped>\n",
              "    .dataframe tbody tr th:only-of-type {\n",
              "        vertical-align: middle;\n",
              "    }\n",
              "\n",
              "    .dataframe tbody tr th {\n",
              "        vertical-align: top;\n",
              "    }\n",
              "\n",
              "    .dataframe thead th {\n",
              "        text-align: right;\n",
              "    }\n",
              "</style>\n",
              "<table border=\"1\" class=\"dataframe\">\n",
              "  <thead>\n",
              "    <tr style=\"text-align: right;\">\n",
              "      <th></th>\n",
              "      <th>Symbol</th>\n",
              "      <th>Series</th>\n",
              "      <th>Prev Close</th>\n",
              "      <th>Open</th>\n",
              "      <th>High</th>\n",
              "      <th>Low</th>\n",
              "      <th>Last</th>\n",
              "      <th>Close</th>\n",
              "      <th>VWAP</th>\n",
              "      <th>Volume</th>\n",
              "      <th>Turnover</th>\n",
              "      <th>Trades</th>\n",
              "      <th>Deliverable Volume</th>\n",
              "      <th>%Deliverble</th>\n",
              "    </tr>\n",
              "    <tr>\n",
              "      <th>Date</th>\n",
              "      <th></th>\n",
              "      <th></th>\n",
              "      <th></th>\n",
              "      <th></th>\n",
              "      <th></th>\n",
              "      <th></th>\n",
              "      <th></th>\n",
              "      <th></th>\n",
              "      <th></th>\n",
              "      <th></th>\n",
              "      <th></th>\n",
              "      <th></th>\n",
              "      <th></th>\n",
              "      <th></th>\n",
              "    </tr>\n",
              "  </thead>\n",
              "  <tbody>\n",
              "    <tr>\n",
              "      <th>2000-01-03</th>\n",
              "      <td>HINDLEVER</td>\n",
              "      <td>EQ</td>\n",
              "      <td>2136.60</td>\n",
              "      <td>2300.0</td>\n",
              "      <td>2307.55</td>\n",
              "      <td>2300.00</td>\n",
              "      <td>2307.55</td>\n",
              "      <td>2307.55</td>\n",
              "      <td>2307.08</td>\n",
              "      <td>24903</td>\n",
              "      <td>5.745330e+12</td>\n",
              "      <td>NaN</td>\n",
              "      <td>NaN</td>\n",
              "      <td>NaN</td>\n",
              "    </tr>\n",
              "    <tr>\n",
              "      <th>2000-01-04</th>\n",
              "      <td>HINDLEVER</td>\n",
              "      <td>EQ</td>\n",
              "      <td>2307.55</td>\n",
              "      <td>2381.0</td>\n",
              "      <td>2381.00</td>\n",
              "      <td>2250.00</td>\n",
              "      <td>2270.00</td>\n",
              "      <td>2281.05</td>\n",
              "      <td>2298.15</td>\n",
              "      <td>58514</td>\n",
              "      <td>1.344740e+13</td>\n",
              "      <td>NaN</td>\n",
              "      <td>NaN</td>\n",
              "      <td>NaN</td>\n",
              "    </tr>\n",
              "    <tr>\n",
              "      <th>2000-01-05</th>\n",
              "      <td>HINDLEVER</td>\n",
              "      <td>EQ</td>\n",
              "      <td>2281.05</td>\n",
              "      <td>2200.0</td>\n",
              "      <td>2250.00</td>\n",
              "      <td>2105.00</td>\n",
              "      <td>2183.50</td>\n",
              "      <td>2199.90</td>\n",
              "      <td>2211.17</td>\n",
              "      <td>80296</td>\n",
              "      <td>1.775482e+13</td>\n",
              "      <td>NaN</td>\n",
              "      <td>NaN</td>\n",
              "      <td>NaN</td>\n",
              "    </tr>\n",
              "    <tr>\n",
              "      <th>2000-01-06</th>\n",
              "      <td>HINDLEVER</td>\n",
              "      <td>EQ</td>\n",
              "      <td>2199.90</td>\n",
              "      <td>2224.9</td>\n",
              "      <td>2360.00</td>\n",
              "      <td>2210.00</td>\n",
              "      <td>2300.00</td>\n",
              "      <td>2288.20</td>\n",
              "      <td>2301.80</td>\n",
              "      <td>190032</td>\n",
              "      <td>4.374157e+13</td>\n",
              "      <td>NaN</td>\n",
              "      <td>NaN</td>\n",
              "      <td>NaN</td>\n",
              "    </tr>\n",
              "    <tr>\n",
              "      <th>2000-01-07</th>\n",
              "      <td>HINDLEVER</td>\n",
              "      <td>EQ</td>\n",
              "      <td>2288.20</td>\n",
              "      <td>2300.0</td>\n",
              "      <td>2452.00</td>\n",
              "      <td>2282.25</td>\n",
              "      <td>2395.00</td>\n",
              "      <td>2412.95</td>\n",
              "      <td>2380.24</td>\n",
              "      <td>192582</td>\n",
              "      <td>4.583919e+13</td>\n",
              "      <td>NaN</td>\n",
              "      <td>NaN</td>\n",
              "      <td>NaN</td>\n",
              "    </tr>\n",
              "    <tr>\n",
              "      <th>...</th>\n",
              "      <td>...</td>\n",
              "      <td>...</td>\n",
              "      <td>...</td>\n",
              "      <td>...</td>\n",
              "      <td>...</td>\n",
              "      <td>...</td>\n",
              "      <td>...</td>\n",
              "      <td>...</td>\n",
              "      <td>...</td>\n",
              "      <td>...</td>\n",
              "      <td>...</td>\n",
              "      <td>...</td>\n",
              "      <td>...</td>\n",
              "      <td>...</td>\n",
              "    </tr>\n",
              "    <tr>\n",
              "      <th>2021-04-26</th>\n",
              "      <td>HINDUNILVR</td>\n",
              "      <td>EQ</td>\n",
              "      <td>2307.75</td>\n",
              "      <td>2324.0</td>\n",
              "      <td>2369.80</td>\n",
              "      <td>2311.00</td>\n",
              "      <td>2367.70</td>\n",
              "      <td>2360.65</td>\n",
              "      <td>2340.89</td>\n",
              "      <td>1946867</td>\n",
              "      <td>4.557405e+14</td>\n",
              "      <td>85684.0</td>\n",
              "      <td>1289103.0</td>\n",
              "      <td>0.6621</td>\n",
              "    </tr>\n",
              "    <tr>\n",
              "      <th>2021-04-27</th>\n",
              "      <td>HINDUNILVR</td>\n",
              "      <td>EQ</td>\n",
              "      <td>2360.65</td>\n",
              "      <td>2363.0</td>\n",
              "      <td>2386.45</td>\n",
              "      <td>2352.95</td>\n",
              "      <td>2378.00</td>\n",
              "      <td>2379.85</td>\n",
              "      <td>2374.40</td>\n",
              "      <td>1668456</td>\n",
              "      <td>3.961583e+14</td>\n",
              "      <td>84641.0</td>\n",
              "      <td>1089882.0</td>\n",
              "      <td>0.6532</td>\n",
              "    </tr>\n",
              "    <tr>\n",
              "      <th>2021-04-28</th>\n",
              "      <td>HINDUNILVR</td>\n",
              "      <td>EQ</td>\n",
              "      <td>2379.85</td>\n",
              "      <td>2380.0</td>\n",
              "      <td>2445.00</td>\n",
              "      <td>2366.30</td>\n",
              "      <td>2404.00</td>\n",
              "      <td>2406.55</td>\n",
              "      <td>2414.15</td>\n",
              "      <td>1951215</td>\n",
              "      <td>4.710522e+14</td>\n",
              "      <td>84910.0</td>\n",
              "      <td>1024216.0</td>\n",
              "      <td>0.5249</td>\n",
              "    </tr>\n",
              "    <tr>\n",
              "      <th>2021-04-29</th>\n",
              "      <td>HINDUNILVR</td>\n",
              "      <td>EQ</td>\n",
              "      <td>2406.55</td>\n",
              "      <td>2433.0</td>\n",
              "      <td>2448.95</td>\n",
              "      <td>2384.15</td>\n",
              "      <td>2422.15</td>\n",
              "      <td>2407.60</td>\n",
              "      <td>2419.82</td>\n",
              "      <td>3151150</td>\n",
              "      <td>7.625230e+14</td>\n",
              "      <td>141048.0</td>\n",
              "      <td>946648.0</td>\n",
              "      <td>0.3004</td>\n",
              "    </tr>\n",
              "    <tr>\n",
              "      <th>2021-04-30</th>\n",
              "      <td>HINDUNILVR</td>\n",
              "      <td>EQ</td>\n",
              "      <td>2407.60</td>\n",
              "      <td>2410.0</td>\n",
              "      <td>2442.90</td>\n",
              "      <td>2330.25</td>\n",
              "      <td>2350.00</td>\n",
              "      <td>2353.75</td>\n",
              "      <td>2363.99</td>\n",
              "      <td>4010778</td>\n",
              "      <td>9.481448e+14</td>\n",
              "      <td>170223.0</td>\n",
              "      <td>2038288.0</td>\n",
              "      <td>0.5082</td>\n",
              "    </tr>\n",
              "  </tbody>\n",
              "</table>\n",
              "<p>5306 rows × 14 columns</p>\n",
              "</div>\n",
              "      <button class=\"colab-df-convert\" onclick=\"convertToInteractive('df-2a9316da-a53f-4e9a-9afa-649deb64fb1c')\"\n",
              "              title=\"Convert this dataframe to an interactive table.\"\n",
              "              style=\"display:none;\">\n",
              "        \n",
              "  <svg xmlns=\"http://www.w3.org/2000/svg\" height=\"24px\"viewBox=\"0 0 24 24\"\n",
              "       width=\"24px\">\n",
              "    <path d=\"M0 0h24v24H0V0z\" fill=\"none\"/>\n",
              "    <path d=\"M18.56 5.44l.94 2.06.94-2.06 2.06-.94-2.06-.94-.94-2.06-.94 2.06-2.06.94zm-11 1L8.5 8.5l.94-2.06 2.06-.94-2.06-.94L8.5 2.5l-.94 2.06-2.06.94zm10 10l.94 2.06.94-2.06 2.06-.94-2.06-.94-.94-2.06-.94 2.06-2.06.94z\"/><path d=\"M17.41 7.96l-1.37-1.37c-.4-.4-.92-.59-1.43-.59-.52 0-1.04.2-1.43.59L10.3 9.45l-7.72 7.72c-.78.78-.78 2.05 0 2.83L4 21.41c.39.39.9.59 1.41.59.51 0 1.02-.2 1.41-.59l7.78-7.78 2.81-2.81c.8-.78.8-2.07 0-2.86zM5.41 20L4 18.59l7.72-7.72 1.47 1.35L5.41 20z\"/>\n",
              "  </svg>\n",
              "      </button>\n",
              "      \n",
              "  <style>\n",
              "    .colab-df-container {\n",
              "      display:flex;\n",
              "      flex-wrap:wrap;\n",
              "      gap: 12px;\n",
              "    }\n",
              "\n",
              "    .colab-df-convert {\n",
              "      background-color: #E8F0FE;\n",
              "      border: none;\n",
              "      border-radius: 50%;\n",
              "      cursor: pointer;\n",
              "      display: none;\n",
              "      fill: #1967D2;\n",
              "      height: 32px;\n",
              "      padding: 0 0 0 0;\n",
              "      width: 32px;\n",
              "    }\n",
              "\n",
              "    .colab-df-convert:hover {\n",
              "      background-color: #E2EBFA;\n",
              "      box-shadow: 0px 1px 2px rgba(60, 64, 67, 0.3), 0px 1px 3px 1px rgba(60, 64, 67, 0.15);\n",
              "      fill: #174EA6;\n",
              "    }\n",
              "\n",
              "    [theme=dark] .colab-df-convert {\n",
              "      background-color: #3B4455;\n",
              "      fill: #D2E3FC;\n",
              "    }\n",
              "\n",
              "    [theme=dark] .colab-df-convert:hover {\n",
              "      background-color: #434B5C;\n",
              "      box-shadow: 0px 1px 3px 1px rgba(0, 0, 0, 0.15);\n",
              "      filter: drop-shadow(0px 1px 2px rgba(0, 0, 0, 0.3));\n",
              "      fill: #FFFFFF;\n",
              "    }\n",
              "  </style>\n",
              "\n",
              "      <script>\n",
              "        const buttonEl =\n",
              "          document.querySelector('#df-2a9316da-a53f-4e9a-9afa-649deb64fb1c button.colab-df-convert');\n",
              "        buttonEl.style.display =\n",
              "          google.colab.kernel.accessAllowed ? 'block' : 'none';\n",
              "\n",
              "        async function convertToInteractive(key) {\n",
              "          const element = document.querySelector('#df-2a9316da-a53f-4e9a-9afa-649deb64fb1c');\n",
              "          const dataTable =\n",
              "            await google.colab.kernel.invokeFunction('convertToInteractive',\n",
              "                                                     [key], {});\n",
              "          if (!dataTable) return;\n",
              "\n",
              "          const docLinkHtml = 'Like what you see? Visit the ' +\n",
              "            '<a target=\"_blank\" href=https://colab.research.google.com/notebooks/data_table.ipynb>data table notebook</a>'\n",
              "            + ' to learn more about interactive tables.';\n",
              "          element.innerHTML = '';\n",
              "          dataTable['output_type'] = 'display_data';\n",
              "          await google.colab.output.renderOutput(dataTable, element);\n",
              "          const docLink = document.createElement('div');\n",
              "          docLink.innerHTML = docLinkHtml;\n",
              "          element.appendChild(docLink);\n",
              "        }\n",
              "      </script>\n",
              "    </div>\n",
              "  </div>\n",
              "  "
            ]
          },
          "metadata": {},
          "execution_count": 3
        }
      ],
      "source": [
        "df"
      ]
    },
    {
      "cell_type": "code",
      "execution_count": 4,
      "metadata": {
        "id": "9unXMmHP9dBl"
      },
      "outputs": [],
      "source": [
        "df['Date']=df.index"
      ]
    },
    {
      "cell_type": "code",
      "execution_count": 5,
      "metadata": {
        "id": "pmoAuKVz9dEq"
      },
      "outputs": [],
      "source": [
        "start_date='2011-01-01'\n",
        "end_date='2020-12-31'\n",
        "mask=(df['Date']>=start_date)&(df['Date']<=end_date)"
      ]
    },
    {
      "cell_type": "code",
      "execution_count": 6,
      "metadata": {
        "id": "BuOLMt6t9dHp"
      },
      "outputs": [],
      "source": [
        "df=df.loc[mask]"
      ]
    },
    {
      "cell_type": "code",
      "execution_count": 7,
      "metadata": {
        "id": "5w_ZXVOL9dKu"
      },
      "outputs": [],
      "source": [
        "df=df.drop(columns=['Series','Symbol','Open','High','Low','Last','Close','VWAP','Volume','Turnover','Trades','Deliverable Volume','%Deliverble','Date'])"
      ]
    },
    {
      "cell_type": "code",
      "execution_count": 8,
      "metadata": {
        "id": "Pd6Tf8ub9dNk"
      },
      "outputs": [],
      "source": [
        "Ntest=math.trunc(0.3*len(df))\n",
        "train=df.iloc[:-Ntest]\n",
        "test=df.iloc[-Ntest:]"
      ]
    },
    {
      "cell_type": "code",
      "execution_count": 9,
      "metadata": {
        "id": "fFr5cqWk9dQ4"
      },
      "outputs": [],
      "source": [
        "train_idx=df.index<=train.index[-1]\n",
        "test_idx=df.index>train.index[-1]"
      ]
    },
    {
      "cell_type": "code",
      "execution_count": 10,
      "metadata": {
        "id": "bTleMRdL9dTP"
      },
      "outputs": [],
      "source": [
        "df['Diff Prev Close']=df['Prev Close'].diff()"
      ]
    },
    {
      "cell_type": "code",
      "execution_count": 11,
      "metadata": {
        "colab": {
          "base_uri": "https://localhost:8080/"
        },
        "id": "-faJTkyl9dWV",
        "outputId": "e2ecd535-69d9-402a-f67e-fe096700babf"
      },
      "outputs": [
        {
          "output_type": "stream",
          "name": "stdout",
          "text": [
            "X.shape (2427, 50) Y.shape (2427,)\n"
          ]
        }
      ],
      "source": [
        "series=df['Diff Prev Close'].dropna().to_numpy()\n",
        "\n",
        "T=50\n",
        "X=[]\n",
        "Y=[]\n",
        "for t in range(len(series)-T):\n",
        "  x=series[t:t+T]\n",
        "  X.append(x)\n",
        "  y=series[t+T]\n",
        "  Y.append(y)\n",
        "\n",
        "X=np.array(X).reshape(-1,T)\n",
        "Y=np.array(Y)\n",
        "N=len(X)\n",
        "print(\"X.shape\",X.shape,\"Y.shape\",Y.shape)"
      ]
    },
    {
      "cell_type": "code",
      "execution_count": 12,
      "metadata": {
        "id": "blHqq_g-9dY_"
      },
      "outputs": [],
      "source": [
        "Xtrain,Ytrain=X[:-Ntest],Y[:-Ntest]\n",
        "Xtest,Ytest=X[-Ntest:],Y[-Ntest:]"
      ]
    },
    {
      "cell_type": "markdown",
      "metadata": {
        "id": "ir_desj398LI"
      },
      "source": [
        "LSTM+CNN"
      ]
    },
    {
      "cell_type": "code",
      "execution_count": 13,
      "metadata": {
        "colab": {
          "base_uri": "https://localhost:8080/"
        },
        "id": "vvKQKCrr96yo",
        "outputId": "814f3646-f1c9-4382-9147-3c122ee54cdb"
      },
      "outputs": [
        {
          "output_type": "stream",
          "name": "stdout",
          "text": [
            "Model: \"model\"\n",
            "_________________________________________________________________\n",
            " Layer (type)                Output Shape              Param #   \n",
            "=================================================================\n",
            " input_1 (InputLayer)        [(None, 50, 1)]           0         \n",
            "                                                                 \n",
            " conv1d (Conv1D)             (None, 48, 25)            100       \n",
            "                                                                 \n",
            " max_pooling1d (MaxPooling1D  (None, 24, 25)           0         \n",
            " )                                                               \n",
            "                                                                 \n",
            " conv1d_1 (Conv1D)           (None, 22, 50)            3800      \n",
            "                                                                 \n",
            " global_max_pooling1d (Globa  (None, 50)               0         \n",
            " lMaxPooling1D)                                                  \n",
            "                                                                 \n",
            " dense_2 (Dense)             (None, 1)                 51        \n",
            "                                                                 \n",
            "=================================================================\n",
            "Total params: 3,951\n",
            "Trainable params: 3,951\n",
            "Non-trainable params: 0\n",
            "_________________________________________________________________\n"
          ]
        }
      ],
      "source": [
        "i=Input(shape=(T,1))\n",
        "x=LSTM(200,return_sequences=True)(i)\n",
        "x=LSTM(200,return_sequences=True)(x)\n",
        "x=Dense(100)(x)\n",
        "x=Dense(50)(x)\n",
        "x=Conv1D(25,3,activation='relu')(i)\n",
        "x=MaxPooling1D(2)(x)\n",
        "x=Conv1D(50,3,activation='relu')(x)\n",
        "x=GlobalMaxPool1D()(x)\n",
        "x=Dense(1)(x)\n",
        "model_lstm_cnn=Model(i,x)\n",
        "model_lstm_cnn.summary()"
      ]
    },
    {
      "cell_type": "code",
      "execution_count": 14,
      "metadata": {
        "id": "nH-bqzYc967w"
      },
      "outputs": [],
      "source": [
        "check_point_lstm_cnn=ModelCheckpoint('best_model.h5',monitor='val_loss',save_best_only=True)"
      ]
    },
    {
      "cell_type": "code",
      "execution_count": 15,
      "metadata": {
        "id": "pSNLhWam97B2"
      },
      "outputs": [],
      "source": [
        "model_lstm_cnn.compile(loss='mse',\n",
        "              optimizer='adamax',\n",
        "              metrics=['mae','mse'])"
      ]
    },
    {
      "cell_type": "code",
      "execution_count": 16,
      "metadata": {
        "colab": {
          "base_uri": "https://localhost:8080/"
        },
        "id": "YMfLEKjw97Hd",
        "outputId": "bcec8870-1a2b-436c-b78a-05e7cfdabdbe"
      },
      "outputs": [
        {
          "output_type": "stream",
          "name": "stdout",
          "text": [
            "Epoch 1/100\n",
            "53/53 [==============================] - 1s 11ms/step - loss: 110.0010 - mae: 7.3425 - mse: 110.0010 - val_loss: 1059.7301 - val_mae: 21.1790 - val_mse: 1059.7301\n",
            "Epoch 2/100\n",
            "53/53 [==============================] - 0s 5ms/step - loss: 108.8876 - mae: 7.2919 - mse: 108.8876 - val_loss: 1030.2826 - val_mae: 20.6795 - val_mse: 1030.2826\n",
            "Epoch 3/100\n",
            "53/53 [==============================] - 0s 4ms/step - loss: 108.1462 - mae: 7.2692 - mse: 108.1462 - val_loss: 1027.5083 - val_mae: 20.6415 - val_mse: 1027.5083\n",
            "Epoch 4/100\n",
            "53/53 [==============================] - 0s 5ms/step - loss: 108.1296 - mae: 7.2743 - mse: 108.1296 - val_loss: 1026.3542 - val_mae: 20.6374 - val_mse: 1026.3542\n",
            "Epoch 5/100\n",
            "53/53 [==============================] - 0s 5ms/step - loss: 107.2953 - mae: 7.2429 - mse: 107.2953 - val_loss: 1030.2664 - val_mae: 20.7371 - val_mse: 1030.2664\n",
            "Epoch 6/100\n",
            "53/53 [==============================] - 0s 5ms/step - loss: 106.9555 - mae: 7.2184 - mse: 106.9555 - val_loss: 1038.2672 - val_mae: 20.9102 - val_mse: 1038.2672\n",
            "Epoch 7/100\n",
            "53/53 [==============================] - 0s 8ms/step - loss: 106.3494 - mae: 7.2199 - mse: 106.3494 - val_loss: 1034.2168 - val_mae: 20.8634 - val_mse: 1034.2168\n",
            "Epoch 8/100\n",
            "53/53 [==============================] - 0s 5ms/step - loss: 105.7765 - mae: 7.1947 - mse: 105.7765 - val_loss: 1035.4633 - val_mae: 20.8805 - val_mse: 1035.4633\n",
            "Epoch 9/100\n",
            "53/53 [==============================] - 0s 7ms/step - loss: 105.6851 - mae: 7.2131 - mse: 105.6851 - val_loss: 1039.5972 - val_mae: 20.9659 - val_mse: 1039.5972\n",
            "Epoch 10/100\n",
            "53/53 [==============================] - 0s 5ms/step - loss: 105.2964 - mae: 7.1776 - mse: 105.2964 - val_loss: 1041.6852 - val_mae: 21.0022 - val_mse: 1041.6852\n",
            "Epoch 11/100\n",
            "53/53 [==============================] - 0s 5ms/step - loss: 105.8220 - mae: 7.1978 - mse: 105.8220 - val_loss: 1031.0437 - val_mae: 20.8245 - val_mse: 1031.0437\n",
            "Epoch 12/100\n",
            "53/53 [==============================] - 0s 7ms/step - loss: 105.1076 - mae: 7.1823 - mse: 105.1076 - val_loss: 1024.0626 - val_mae: 20.7234 - val_mse: 1024.0626\n",
            "Epoch 13/100\n",
            "53/53 [==============================] - 0s 4ms/step - loss: 104.7690 - mae: 7.1699 - mse: 104.7690 - val_loss: 1022.6820 - val_mae: 20.7022 - val_mse: 1022.6820\n",
            "Epoch 14/100\n",
            "53/53 [==============================] - 0s 5ms/step - loss: 104.5057 - mae: 7.1543 - mse: 104.5057 - val_loss: 1025.2897 - val_mae: 20.7699 - val_mse: 1025.2897\n",
            "Epoch 15/100\n",
            "53/53 [==============================] - 0s 4ms/step - loss: 104.4654 - mae: 7.1358 - mse: 104.4654 - val_loss: 1043.6426 - val_mae: 21.0885 - val_mse: 1043.6426\n",
            "Epoch 16/100\n",
            "53/53 [==============================] - 0s 5ms/step - loss: 104.3611 - mae: 7.1433 - mse: 104.3611 - val_loss: 1023.2436 - val_mae: 20.7456 - val_mse: 1023.2436\n",
            "Epoch 17/100\n",
            "53/53 [==============================] - 0s 4ms/step - loss: 103.9100 - mae: 7.1298 - mse: 103.9100 - val_loss: 1025.1537 - val_mae: 20.7925 - val_mse: 1025.1537\n",
            "Epoch 18/100\n",
            "53/53 [==============================] - 0s 4ms/step - loss: 104.4846 - mae: 7.1720 - mse: 104.4846 - val_loss: 1025.6501 - val_mae: 20.6368 - val_mse: 1025.6501\n",
            "Epoch 19/100\n",
            "53/53 [==============================] - 0s 4ms/step - loss: 105.0193 - mae: 7.1755 - mse: 105.0193 - val_loss: 1018.4979 - val_mae: 20.6424 - val_mse: 1018.4979\n",
            "Epoch 20/100\n",
            "53/53 [==============================] - 0s 5ms/step - loss: 103.2982 - mae: 7.0987 - mse: 103.2982 - val_loss: 1041.3943 - val_mae: 21.0987 - val_mse: 1041.3943\n",
            "Epoch 21/100\n",
            "53/53 [==============================] - 0s 5ms/step - loss: 103.2976 - mae: 7.1256 - mse: 103.2976 - val_loss: 1025.3617 - val_mae: 20.8363 - val_mse: 1025.3617\n",
            "Epoch 22/100\n",
            "53/53 [==============================] - 0s 5ms/step - loss: 103.0668 - mae: 7.1084 - mse: 103.0668 - val_loss: 1029.3601 - val_mae: 20.9119 - val_mse: 1029.3601\n",
            "Epoch 23/100\n",
            "53/53 [==============================] - 0s 5ms/step - loss: 103.1319 - mae: 7.1030 - mse: 103.1319 - val_loss: 1020.3804 - val_mae: 20.7427 - val_mse: 1020.3804\n",
            "Epoch 24/100\n",
            "53/53 [==============================] - 0s 4ms/step - loss: 102.8989 - mae: 7.1093 - mse: 102.8989 - val_loss: 1027.4335 - val_mae: 20.8927 - val_mse: 1027.4335\n",
            "Epoch 25/100\n",
            "53/53 [==============================] - 0s 5ms/step - loss: 102.7769 - mae: 7.1084 - mse: 102.7769 - val_loss: 1019.5123 - val_mae: 20.7284 - val_mse: 1019.5123\n",
            "Epoch 26/100\n",
            "53/53 [==============================] - 0s 4ms/step - loss: 102.5947 - mae: 7.0782 - mse: 102.5947 - val_loss: 1033.8671 - val_mae: 21.0035 - val_mse: 1033.8671\n",
            "Epoch 27/100\n",
            "53/53 [==============================] - 0s 4ms/step - loss: 102.6624 - mae: 7.0894 - mse: 102.6624 - val_loss: 1021.2504 - val_mae: 20.7762 - val_mse: 1021.2504\n",
            "Epoch 28/100\n",
            "53/53 [==============================] - 0s 5ms/step - loss: 102.9999 - mae: 7.1264 - mse: 102.9999 - val_loss: 1063.4009 - val_mae: 21.4918 - val_mse: 1063.4009\n",
            "Epoch 29/100\n",
            "53/53 [==============================] - 0s 4ms/step - loss: 102.3528 - mae: 7.0952 - mse: 102.3528 - val_loss: 1027.8932 - val_mae: 20.9200 - val_mse: 1027.8932\n",
            "Epoch 30/100\n",
            "53/53 [==============================] - 0s 5ms/step - loss: 102.0036 - mae: 7.0852 - mse: 102.0036 - val_loss: 1020.5632 - val_mae: 20.7765 - val_mse: 1020.5632\n",
            "Epoch 31/100\n",
            "53/53 [==============================] - 0s 4ms/step - loss: 102.1639 - mae: 7.0691 - mse: 102.1639 - val_loss: 1039.9597 - val_mae: 21.1355 - val_mse: 1039.9597\n",
            "Epoch 32/100\n",
            "53/53 [==============================] - 0s 5ms/step - loss: 101.5771 - mae: 7.0659 - mse: 101.5771 - val_loss: 1019.7930 - val_mae: 20.7805 - val_mse: 1019.7930\n",
            "Epoch 33/100\n",
            "53/53 [==============================] - 0s 4ms/step - loss: 101.4896 - mae: 7.0477 - mse: 101.4896 - val_loss: 1035.9679 - val_mae: 21.0846 - val_mse: 1035.9679\n",
            "Epoch 34/100\n",
            "53/53 [==============================] - 0s 5ms/step - loss: 101.7462 - mae: 7.0677 - mse: 101.7462 - val_loss: 1023.8004 - val_mae: 20.8659 - val_mse: 1023.8004\n",
            "Epoch 35/100\n",
            "53/53 [==============================] - 0s 4ms/step - loss: 101.7580 - mae: 7.0618 - mse: 101.7580 - val_loss: 1017.4036 - val_mae: 20.7439 - val_mse: 1017.4036\n",
            "Epoch 36/100\n",
            "53/53 [==============================] - 0s 4ms/step - loss: 101.2012 - mae: 7.0460 - mse: 101.2012 - val_loss: 1038.9396 - val_mae: 21.1417 - val_mse: 1038.9396\n",
            "Epoch 37/100\n",
            "53/53 [==============================] - 0s 4ms/step - loss: 101.3066 - mae: 7.0539 - mse: 101.3066 - val_loss: 1033.7913 - val_mae: 21.0530 - val_mse: 1033.7913\n",
            "Epoch 38/100\n",
            "53/53 [==============================] - 0s 4ms/step - loss: 100.8617 - mae: 7.0315 - mse: 100.8617 - val_loss: 1029.5713 - val_mae: 20.9790 - val_mse: 1029.5713\n",
            "Epoch 39/100\n",
            "53/53 [==============================] - 0s 5ms/step - loss: 100.9873 - mae: 7.0460 - mse: 100.9873 - val_loss: 1017.9658 - val_mae: 20.7495 - val_mse: 1017.9658\n",
            "Epoch 40/100\n",
            "53/53 [==============================] - 0s 4ms/step - loss: 100.9115 - mae: 7.0254 - mse: 100.9115 - val_loss: 1036.3568 - val_mae: 21.0984 - val_mse: 1036.3568\n",
            "Epoch 41/100\n",
            "53/53 [==============================] - 0s 4ms/step - loss: 101.4354 - mae: 7.0884 - mse: 101.4354 - val_loss: 1017.8450 - val_mae: 20.7157 - val_mse: 1017.8450\n",
            "Epoch 42/100\n",
            "53/53 [==============================] - 0s 5ms/step - loss: 101.1070 - mae: 7.0490 - mse: 101.1070 - val_loss: 1024.2223 - val_mae: 20.8810 - val_mse: 1024.2223\n",
            "Epoch 43/100\n",
            "53/53 [==============================] - 0s 4ms/step - loss: 100.2863 - mae: 7.0425 - mse: 100.2863 - val_loss: 1017.7489 - val_mae: 20.6607 - val_mse: 1017.7489\n",
            "Epoch 44/100\n",
            "53/53 [==============================] - 0s 4ms/step - loss: 100.2135 - mae: 7.0313 - mse: 100.2135 - val_loss: 1028.9038 - val_mae: 20.9710 - val_mse: 1028.9038\n",
            "Epoch 45/100\n",
            "53/53 [==============================] - 0s 4ms/step - loss: 100.3518 - mae: 7.0590 - mse: 100.3518 - val_loss: 1017.8889 - val_mae: 20.6862 - val_mse: 1017.8889\n",
            "Epoch 46/100\n",
            "53/53 [==============================] - 0s 4ms/step - loss: 100.1368 - mae: 7.0015 - mse: 100.1368 - val_loss: 1053.5863 - val_mae: 21.3867 - val_mse: 1053.5863\n",
            "Epoch 47/100\n",
            "53/53 [==============================] - 0s 5ms/step - loss: 100.3553 - mae: 7.0343 - mse: 100.3553 - val_loss: 1024.3843 - val_mae: 20.8815 - val_mse: 1024.3843\n",
            "Epoch 48/100\n",
            "53/53 [==============================] - 0s 5ms/step - loss: 99.8865 - mae: 7.0102 - mse: 99.8865 - val_loss: 1031.9062 - val_mae: 21.0385 - val_mse: 1031.9062\n",
            "Epoch 49/100\n",
            "53/53 [==============================] - 0s 5ms/step - loss: 99.8623 - mae: 7.0229 - mse: 99.8623 - val_loss: 1028.4984 - val_mae: 20.9758 - val_mse: 1028.4984\n",
            "Epoch 50/100\n",
            "53/53 [==============================] - 0s 5ms/step - loss: 99.6245 - mae: 7.0030 - mse: 99.6245 - val_loss: 1029.9020 - val_mae: 20.9951 - val_mse: 1029.9020\n",
            "Epoch 51/100\n",
            "53/53 [==============================] - 0s 4ms/step - loss: 99.7637 - mae: 7.0080 - mse: 99.7637 - val_loss: 1046.0061 - val_mae: 21.2733 - val_mse: 1046.0061\n",
            "Epoch 52/100\n",
            "53/53 [==============================] - 0s 5ms/step - loss: 99.7122 - mae: 6.9959 - mse: 99.7122 - val_loss: 1029.7802 - val_mae: 21.0136 - val_mse: 1029.7802\n",
            "Epoch 53/100\n",
            "53/53 [==============================] - 0s 5ms/step - loss: 99.3590 - mae: 6.9963 - mse: 99.3590 - val_loss: 1044.1056 - val_mae: 21.2481 - val_mse: 1044.1056\n",
            "Epoch 54/100\n",
            "53/53 [==============================] - 0s 5ms/step - loss: 98.9685 - mae: 6.9880 - mse: 98.9685 - val_loss: 1021.8406 - val_mae: 20.7984 - val_mse: 1021.8406\n",
            "Epoch 55/100\n",
            "53/53 [==============================] - 0s 5ms/step - loss: 98.9815 - mae: 6.9826 - mse: 98.9815 - val_loss: 1030.3463 - val_mae: 20.9925 - val_mse: 1030.3463\n",
            "Epoch 56/100\n",
            "53/53 [==============================] - 0s 5ms/step - loss: 99.0344 - mae: 6.9898 - mse: 99.0344 - val_loss: 1025.4950 - val_mae: 20.9111 - val_mse: 1025.4950\n",
            "Epoch 57/100\n",
            "53/53 [==============================] - 0s 4ms/step - loss: 98.9420 - mae: 7.0217 - mse: 98.9420 - val_loss: 1034.1997 - val_mae: 20.7755 - val_mse: 1034.1997\n",
            "Epoch 58/100\n",
            "53/53 [==============================] - 0s 4ms/step - loss: 99.5734 - mae: 7.0107 - mse: 99.5734 - val_loss: 1039.4100 - val_mae: 21.1676 - val_mse: 1039.4100\n",
            "Epoch 59/100\n",
            "53/53 [==============================] - 0s 5ms/step - loss: 98.4197 - mae: 6.9574 - mse: 98.4197 - val_loss: 1023.2675 - val_mae: 20.8100 - val_mse: 1023.2675\n",
            "Epoch 60/100\n",
            "53/53 [==============================] - 0s 5ms/step - loss: 98.3381 - mae: 6.9670 - mse: 98.3381 - val_loss: 1034.6628 - val_mae: 21.0846 - val_mse: 1034.6628\n",
            "Epoch 61/100\n",
            "53/53 [==============================] - 0s 4ms/step - loss: 98.9254 - mae: 6.9872 - mse: 98.9254 - val_loss: 1068.1918 - val_mae: 21.6172 - val_mse: 1068.1918\n",
            "Epoch 62/100\n",
            "53/53 [==============================] - 0s 4ms/step - loss: 98.4818 - mae: 6.9647 - mse: 98.4818 - val_loss: 1025.9396 - val_mae: 20.9238 - val_mse: 1025.9396\n",
            "Epoch 63/100\n",
            "53/53 [==============================] - 0s 5ms/step - loss: 98.1183 - mae: 6.9546 - mse: 98.1183 - val_loss: 1042.0017 - val_mae: 21.1988 - val_mse: 1042.0017\n",
            "Epoch 64/100\n",
            "53/53 [==============================] - 0s 5ms/step - loss: 98.3817 - mae: 6.9763 - mse: 98.3817 - val_loss: 1026.1830 - val_mae: 20.8386 - val_mse: 1026.1830\n",
            "Epoch 65/100\n",
            "53/53 [==============================] - 0s 4ms/step - loss: 98.4781 - mae: 6.9823 - mse: 98.4781 - val_loss: 1037.6914 - val_mae: 21.1384 - val_mse: 1037.6914\n",
            "Epoch 66/100\n",
            "53/53 [==============================] - 0s 5ms/step - loss: 98.1753 - mae: 7.0001 - mse: 98.1753 - val_loss: 1025.1495 - val_mae: 20.8102 - val_mse: 1025.1495\n",
            "Epoch 67/100\n",
            "53/53 [==============================] - 0s 5ms/step - loss: 98.4870 - mae: 6.9879 - mse: 98.4870 - val_loss: 1027.7704 - val_mae: 20.9450 - val_mse: 1027.7704\n",
            "Epoch 68/100\n",
            "53/53 [==============================] - 0s 4ms/step - loss: 97.8187 - mae: 6.9454 - mse: 97.8187 - val_loss: 1046.0750 - val_mae: 21.2785 - val_mse: 1046.0750\n",
            "Epoch 69/100\n",
            "53/53 [==============================] - 0s 5ms/step - loss: 97.1708 - mae: 6.9415 - mse: 97.1708 - val_loss: 1042.5464 - val_mae: 21.2043 - val_mse: 1042.5464\n",
            "Epoch 70/100\n",
            "53/53 [==============================] - 0s 4ms/step - loss: 97.3526 - mae: 6.9308 - mse: 97.3526 - val_loss: 1051.2339 - val_mae: 21.3344 - val_mse: 1051.2339\n",
            "Epoch 71/100\n",
            "53/53 [==============================] - 0s 4ms/step - loss: 97.5474 - mae: 6.9590 - mse: 97.5474 - val_loss: 1032.0764 - val_mae: 21.0291 - val_mse: 1032.0764\n",
            "Epoch 72/100\n",
            "53/53 [==============================] - 0s 5ms/step - loss: 96.9492 - mae: 6.9233 - mse: 96.9492 - val_loss: 1065.6727 - val_mae: 21.5715 - val_mse: 1065.6727\n",
            "Epoch 73/100\n",
            "53/53 [==============================] - 0s 4ms/step - loss: 97.0116 - mae: 6.9436 - mse: 97.0116 - val_loss: 1037.6022 - val_mae: 21.1428 - val_mse: 1037.6022\n",
            "Epoch 74/100\n",
            "53/53 [==============================] - 0s 5ms/step - loss: 96.8237 - mae: 6.9221 - mse: 96.8237 - val_loss: 1045.8148 - val_mae: 21.2730 - val_mse: 1045.8148\n",
            "Epoch 75/100\n",
            "53/53 [==============================] - 0s 5ms/step - loss: 97.6449 - mae: 6.9870 - mse: 97.6449 - val_loss: 1028.2886 - val_mae: 20.9500 - val_mse: 1028.2886\n",
            "Epoch 76/100\n",
            "53/53 [==============================] - 0s 5ms/step - loss: 96.7889 - mae: 6.9291 - mse: 96.7889 - val_loss: 1037.5721 - val_mae: 21.1436 - val_mse: 1037.5721\n",
            "Epoch 77/100\n",
            "53/53 [==============================] - 0s 5ms/step - loss: 96.3572 - mae: 6.8940 - mse: 96.3572 - val_loss: 1075.6254 - val_mae: 21.7262 - val_mse: 1075.6254\n",
            "Epoch 78/100\n",
            "53/53 [==============================] - 0s 4ms/step - loss: 96.4184 - mae: 6.9184 - mse: 96.4184 - val_loss: 1052.9463 - val_mae: 21.3995 - val_mse: 1052.9463\n",
            "Epoch 79/100\n",
            "53/53 [==============================] - 0s 5ms/step - loss: 96.2927 - mae: 6.9010 - mse: 96.2927 - val_loss: 1046.7214 - val_mae: 21.3094 - val_mse: 1046.7214\n",
            "Epoch 80/100\n",
            "53/53 [==============================] - 0s 5ms/step - loss: 96.3400 - mae: 6.9180 - mse: 96.3400 - val_loss: 1049.5962 - val_mae: 21.3413 - val_mse: 1049.5962\n",
            "Epoch 81/100\n",
            "53/53 [==============================] - 0s 5ms/step - loss: 96.0640 - mae: 6.9101 - mse: 96.0640 - val_loss: 1035.4982 - val_mae: 21.1096 - val_mse: 1035.4982\n",
            "Epoch 82/100\n",
            "53/53 [==============================] - 0s 5ms/step - loss: 95.6954 - mae: 6.8952 - mse: 95.6954 - val_loss: 1037.4752 - val_mae: 21.1392 - val_mse: 1037.4752\n",
            "Epoch 83/100\n",
            "53/53 [==============================] - 0s 4ms/step - loss: 95.6510 - mae: 6.8857 - mse: 95.6510 - val_loss: 1042.1376 - val_mae: 21.2212 - val_mse: 1042.1376\n",
            "Epoch 84/100\n",
            "53/53 [==============================] - 0s 5ms/step - loss: 95.6952 - mae: 6.9019 - mse: 95.6952 - val_loss: 1049.9640 - val_mae: 21.3522 - val_mse: 1049.9640\n",
            "Epoch 85/100\n",
            "53/53 [==============================] - 0s 5ms/step - loss: 95.4450 - mae: 6.9009 - mse: 95.4450 - val_loss: 1042.5872 - val_mae: 21.2445 - val_mse: 1042.5872\n",
            "Epoch 86/100\n",
            "53/53 [==============================] - 0s 4ms/step - loss: 95.4401 - mae: 6.8800 - mse: 95.4401 - val_loss: 1046.0778 - val_mae: 21.2959 - val_mse: 1046.0778\n",
            "Epoch 87/100\n",
            "53/53 [==============================] - 0s 5ms/step - loss: 95.2234 - mae: 6.8702 - mse: 95.2234 - val_loss: 1057.7574 - val_mae: 21.4807 - val_mse: 1057.7574\n",
            "Epoch 88/100\n",
            "53/53 [==============================] - 0s 4ms/step - loss: 95.0780 - mae: 6.8874 - mse: 95.0780 - val_loss: 1036.9210 - val_mae: 21.1011 - val_mse: 1036.9210\n",
            "Epoch 89/100\n",
            "53/53 [==============================] - 0s 4ms/step - loss: 95.2941 - mae: 6.8957 - mse: 95.2941 - val_loss: 1043.0449 - val_mae: 21.2276 - val_mse: 1043.0449\n",
            "Epoch 90/100\n",
            "53/53 [==============================] - 0s 5ms/step - loss: 95.2740 - mae: 6.8999 - mse: 95.2740 - val_loss: 1090.0526 - val_mae: 21.9647 - val_mse: 1090.0526\n",
            "Epoch 91/100\n",
            "53/53 [==============================] - 0s 4ms/step - loss: 94.7192 - mae: 6.8766 - mse: 94.7192 - val_loss: 1036.9818 - val_mae: 21.0694 - val_mse: 1036.9818\n",
            "Epoch 92/100\n",
            "53/53 [==============================] - 0s 4ms/step - loss: 95.6136 - mae: 6.9279 - mse: 95.6136 - val_loss: 1074.3059 - val_mae: 21.7369 - val_mse: 1074.3059\n",
            "Epoch 93/100\n",
            "53/53 [==============================] - 0s 5ms/step - loss: 94.4684 - mae: 6.8562 - mse: 94.4684 - val_loss: 1043.4442 - val_mae: 21.2238 - val_mse: 1043.4442\n",
            "Epoch 94/100\n",
            "53/53 [==============================] - 0s 4ms/step - loss: 94.8102 - mae: 6.8564 - mse: 94.8102 - val_loss: 1045.6238 - val_mae: 21.2775 - val_mse: 1045.6238\n",
            "Epoch 95/100\n",
            "53/53 [==============================] - 0s 5ms/step - loss: 94.5472 - mae: 6.8711 - mse: 94.5472 - val_loss: 1040.9971 - val_mae: 21.1302 - val_mse: 1040.9971\n",
            "Epoch 96/100\n",
            "53/53 [==============================] - 0s 4ms/step - loss: 94.2378 - mae: 6.8473 - mse: 94.2378 - val_loss: 1108.0695 - val_mae: 22.2298 - val_mse: 1108.0695\n",
            "Epoch 97/100\n",
            "53/53 [==============================] - 0s 5ms/step - loss: 94.8334 - mae: 6.8999 - mse: 94.8334 - val_loss: 1044.1345 - val_mae: 21.1671 - val_mse: 1044.1345\n",
            "Epoch 98/100\n",
            "53/53 [==============================] - 0s 4ms/step - loss: 93.6909 - mae: 6.8370 - mse: 93.6909 - val_loss: 1041.4574 - val_mae: 21.1565 - val_mse: 1041.4574\n",
            "Epoch 99/100\n",
            "53/53 [==============================] - 0s 5ms/step - loss: 94.4023 - mae: 6.8514 - mse: 94.4023 - val_loss: 1078.7087 - val_mae: 21.8261 - val_mse: 1078.7087\n",
            "Epoch 100/100\n",
            "53/53 [==============================] - 0s 5ms/step - loss: 94.3237 - mae: 6.8615 - mse: 94.3237 - val_loss: 1043.5980 - val_mae: 21.2165 - val_mse: 1043.5980\n"
          ]
        }
      ],
      "source": [
        "r=model_lstm_cnn.fit(\n",
        "    Xtrain,\n",
        "    Ytrain,\n",
        "    epochs=100,\n",
        "    validation_data=(Xtest,Ytest),\n",
        "    callbacks=[check_point_lstm_cnn]\n",
        ")"
      ]
    },
    {
      "cell_type": "markdown",
      "metadata": {
        "id": "5TW_EAhE-iWs"
      },
      "source": [
        "LSTM+GRU"
      ]
    },
    {
      "cell_type": "code",
      "execution_count": 17,
      "metadata": {
        "colab": {
          "base_uri": "https://localhost:8080/"
        },
        "id": "5MFW_hNA-UIb",
        "outputId": "5304ee84-a756-4353-d3d1-c50b7efbd60c"
      },
      "outputs": [
        {
          "output_type": "stream",
          "name": "stdout",
          "text": [
            "Model: \"model_1\"\n",
            "_________________________________________________________________\n",
            " Layer (type)                Output Shape              Param #   \n",
            "=================================================================\n",
            " input_2 (InputLayer)        [(None, 50, 1)]           0         \n",
            "                                                                 \n",
            " lstm_2 (LSTM)               (None, 50, 200)           161600    \n",
            "                                                                 \n",
            " lstm_3 (LSTM)               (None, 50, 200)           320800    \n",
            "                                                                 \n",
            " dense_3 (Dense)             (None, 50, 100)           20100     \n",
            "                                                                 \n",
            " dense_4 (Dense)             (None, 50, 50)            5050      \n",
            "                                                                 \n",
            " gru (GRU)                   (None, 50, 200)           151200    \n",
            "                                                                 \n",
            " gru_1 (GRU)                 (None, 50, 200)           241200    \n",
            "                                                                 \n",
            " global_max_pooling1d_1 (Glo  (None, 200)              0         \n",
            " balMaxPooling1D)                                                \n",
            "                                                                 \n",
            " dense_5 (Dense)             (None, 100)               20100     \n",
            "                                                                 \n",
            " dense_6 (Dense)             (None, 50)                5050      \n",
            "                                                                 \n",
            " dense_7 (Dense)             (None, 1)                 51        \n",
            "                                                                 \n",
            "=================================================================\n",
            "Total params: 925,151\n",
            "Trainable params: 925,151\n",
            "Non-trainable params: 0\n",
            "_________________________________________________________________\n"
          ]
        }
      ],
      "source": [
        "i=Input(shape=(T,1))\n",
        "x=LSTM(200,return_sequences=True)(i)\n",
        "x=LSTM(200,return_sequences=True)(x)\n",
        "x=Dense(100)(x)\n",
        "x=Dense(50)(x)\n",
        "x=GRU(200,return_sequences=True)(x)\n",
        "x=GRU(200,return_sequences=True)(x)\n",
        "x=GlobalMaxPool1D()(x)\n",
        "x=Dense(100)(x)\n",
        "x=Dense(50)(x)\n",
        "x=Dense(1)(x)\n",
        "model_lstm_gru=Model(i,x)\n",
        "model_lstm_gru.summary()"
      ]
    },
    {
      "cell_type": "code",
      "execution_count": 18,
      "metadata": {
        "id": "bPn2IlMx-pP6"
      },
      "outputs": [],
      "source": [
        "check_point_lstm_gru=ModelCheckpoint('best_model.h5',monitor='val_loss',save_best_only=True)"
      ]
    },
    {
      "cell_type": "code",
      "execution_count": 19,
      "metadata": {
        "id": "s2W9B-lL-5VS"
      },
      "outputs": [],
      "source": [
        "model_lstm_gru.compile(loss='mse',\n",
        "              optimizer='adamax',\n",
        "              metrics=['mae','mse'])"
      ]
    },
    {
      "cell_type": "code",
      "execution_count": 20,
      "metadata": {
        "colab": {
          "base_uri": "https://localhost:8080/"
        },
        "id": "tSfqgZ2w-8KI",
        "outputId": "53239f92-0b21-4736-b692-1cb04d379eb9"
      },
      "outputs": [
        {
          "output_type": "stream",
          "name": "stdout",
          "text": [
            "Epoch 1/100\n",
            "53/53 [==============================] - 27s 398ms/step - loss: 108.6982 - mae: 7.2573 - mse: 108.6982 - val_loss: 1001.4660 - val_mae: 20.4455 - val_mse: 1001.4660\n",
            "Epoch 2/100\n",
            "53/53 [==============================] - 19s 361ms/step - loss: 108.5223 - mae: 7.2753 - mse: 108.5223 - val_loss: 1002.5777 - val_mae: 20.4071 - val_mse: 1002.5777\n",
            "Epoch 3/100\n",
            "53/53 [==============================] - 19s 362ms/step - loss: 108.6127 - mae: 7.2579 - mse: 108.6127 - val_loss: 1002.4669 - val_mae: 20.4072 - val_mse: 1002.4669\n",
            "Epoch 4/100\n",
            "53/53 [==============================] - 19s 363ms/step - loss: 108.6237 - mae: 7.2594 - mse: 108.6237 - val_loss: 1002.5545 - val_mae: 20.4047 - val_mse: 1002.5545\n",
            "Epoch 5/100\n",
            "53/53 [==============================] - 19s 361ms/step - loss: 108.4991 - mae: 7.2567 - mse: 108.4991 - val_loss: 1002.1260 - val_mae: 20.4118 - val_mse: 1002.1260\n",
            "Epoch 6/100\n",
            "53/53 [==============================] - 19s 363ms/step - loss: 108.5706 - mae: 7.2631 - mse: 108.5706 - val_loss: 1002.3344 - val_mae: 20.4074 - val_mse: 1002.3344\n",
            "Epoch 7/100\n",
            "53/53 [==============================] - 19s 362ms/step - loss: 108.4100 - mae: 7.2580 - mse: 108.4100 - val_loss: 1001.8708 - val_mae: 20.4119 - val_mse: 1001.8708\n",
            "Epoch 8/100\n",
            "53/53 [==============================] - 20s 386ms/step - loss: 108.4173 - mae: 7.2657 - mse: 108.4173 - val_loss: 1001.9607 - val_mae: 20.4145 - val_mse: 1001.9607\n",
            "Epoch 9/100\n",
            "53/53 [==============================] - 19s 364ms/step - loss: 108.4283 - mae: 7.2696 - mse: 108.4283 - val_loss: 1001.8577 - val_mae: 20.4115 - val_mse: 1001.8577\n",
            "Epoch 10/100\n",
            "53/53 [==============================] - 19s 362ms/step - loss: 108.3984 - mae: 7.2616 - mse: 108.3984 - val_loss: 1001.9540 - val_mae: 20.4101 - val_mse: 1001.9540\n",
            "Epoch 11/100\n",
            "53/53 [==============================] - 19s 369ms/step - loss: 108.4743 - mae: 7.2643 - mse: 108.4743 - val_loss: 1002.0539 - val_mae: 20.4103 - val_mse: 1002.0539\n",
            "Epoch 12/100\n",
            "53/53 [==============================] - 19s 363ms/step - loss: 108.3672 - mae: 7.2693 - mse: 108.3672 - val_loss: 1002.3599 - val_mae: 20.4106 - val_mse: 1002.3599\n",
            "Epoch 13/100\n",
            "53/53 [==============================] - 19s 364ms/step - loss: 108.3628 - mae: 7.2718 - mse: 108.3628 - val_loss: 1003.5113 - val_mae: 20.4061 - val_mse: 1003.5113\n",
            "Epoch 14/100\n",
            "53/53 [==============================] - 19s 362ms/step - loss: 108.4208 - mae: 7.2635 - mse: 108.4208 - val_loss: 1002.5036 - val_mae: 20.4067 - val_mse: 1002.5036\n",
            "Epoch 15/100\n",
            "53/53 [==============================] - 19s 364ms/step - loss: 108.3602 - mae: 7.2624 - mse: 108.3602 - val_loss: 1002.3111 - val_mae: 20.4066 - val_mse: 1002.3111\n",
            "Epoch 16/100\n",
            "53/53 [==============================] - 19s 362ms/step - loss: 108.2323 - mae: 7.2720 - mse: 108.2323 - val_loss: 1002.5836 - val_mae: 20.4034 - val_mse: 1002.5836\n",
            "Epoch 17/100\n",
            "53/53 [==============================] - 19s 359ms/step - loss: 108.3540 - mae: 7.2756 - mse: 108.3540 - val_loss: 1003.0717 - val_mae: 20.4046 - val_mse: 1003.0717\n",
            "Epoch 18/100\n",
            "53/53 [==============================] - 19s 361ms/step - loss: 108.4828 - mae: 7.2658 - mse: 108.4828 - val_loss: 1002.5684 - val_mae: 20.4048 - val_mse: 1002.5684\n",
            "Epoch 19/100\n",
            "53/53 [==============================] - 19s 361ms/step - loss: 108.1380 - mae: 7.2718 - mse: 108.1380 - val_loss: 1003.1667 - val_mae: 20.4042 - val_mse: 1003.1667\n",
            "Epoch 20/100\n",
            "53/53 [==============================] - 19s 364ms/step - loss: 107.9775 - mae: 7.2510 - mse: 107.9775 - val_loss: 1002.7904 - val_mae: 20.3998 - val_mse: 1002.7904\n",
            "Epoch 21/100\n",
            "53/53 [==============================] - 19s 362ms/step - loss: 108.0401 - mae: 7.2670 - mse: 108.0401 - val_loss: 1003.0499 - val_mae: 20.3975 - val_mse: 1003.0499\n",
            "Epoch 22/100\n",
            "53/53 [==============================] - 19s 366ms/step - loss: 107.6471 - mae: 7.2459 - mse: 107.6471 - val_loss: 1002.4938 - val_mae: 20.4002 - val_mse: 1002.4938\n",
            "Epoch 23/100\n",
            "53/53 [==============================] - 19s 362ms/step - loss: 108.0834 - mae: 7.2720 - mse: 108.0834 - val_loss: 1002.9319 - val_mae: 20.3985 - val_mse: 1002.9319\n",
            "Epoch 24/100\n",
            "53/53 [==============================] - 19s 360ms/step - loss: 107.6750 - mae: 7.2423 - mse: 107.6750 - val_loss: 1002.5312 - val_mae: 20.3937 - val_mse: 1002.5312\n",
            "Epoch 25/100\n",
            "53/53 [==============================] - 19s 361ms/step - loss: 107.3922 - mae: 7.2446 - mse: 107.3922 - val_loss: 1002.6641 - val_mae: 20.4003 - val_mse: 1002.6641\n",
            "Epoch 26/100\n",
            "53/53 [==============================] - 19s 361ms/step - loss: 107.4974 - mae: 7.2320 - mse: 107.4974 - val_loss: 1001.5997 - val_mae: 20.3951 - val_mse: 1001.5997\n",
            "Epoch 27/100\n",
            "53/53 [==============================] - 19s 363ms/step - loss: 108.1377 - mae: 7.2761 - mse: 108.1377 - val_loss: 1002.1828 - val_mae: 20.3984 - val_mse: 1002.1828\n",
            "Epoch 28/100\n",
            "53/53 [==============================] - 19s 360ms/step - loss: 107.9930 - mae: 7.2750 - mse: 107.9930 - val_loss: 1002.4190 - val_mae: 20.3940 - val_mse: 1002.4190\n",
            "Epoch 29/100\n",
            "53/53 [==============================] - 19s 363ms/step - loss: 107.4146 - mae: 7.2499 - mse: 107.4146 - val_loss: 1003.3165 - val_mae: 20.3941 - val_mse: 1003.3165\n",
            "Epoch 30/100\n",
            "53/53 [==============================] - 19s 362ms/step - loss: 107.2257 - mae: 7.2515 - mse: 107.2257 - val_loss: 1003.0289 - val_mae: 20.3966 - val_mse: 1003.0289\n",
            "Epoch 31/100\n",
            "53/53 [==============================] - 19s 363ms/step - loss: 106.9703 - mae: 7.2238 - mse: 106.9703 - val_loss: 1002.5191 - val_mae: 20.3937 - val_mse: 1002.5191\n",
            "Epoch 32/100\n",
            "53/53 [==============================] - 19s 360ms/step - loss: 107.0173 - mae: 7.2329 - mse: 107.0173 - val_loss: 1002.8928 - val_mae: 20.4022 - val_mse: 1002.8928\n",
            "Epoch 33/100\n",
            "53/53 [==============================] - 19s 363ms/step - loss: 107.1744 - mae: 7.2256 - mse: 107.1744 - val_loss: 1003.7019 - val_mae: 20.4182 - val_mse: 1003.7019\n",
            "Epoch 34/100\n",
            "53/53 [==============================] - 19s 364ms/step - loss: 106.3798 - mae: 7.2185 - mse: 106.3798 - val_loss: 1004.0792 - val_mae: 20.4020 - val_mse: 1004.0792\n",
            "Epoch 35/100\n",
            "53/53 [==============================] - 19s 363ms/step - loss: 106.3318 - mae: 7.2172 - mse: 106.3318 - val_loss: 1003.1646 - val_mae: 20.4167 - val_mse: 1003.1646\n",
            "Epoch 36/100\n",
            "53/53 [==============================] - 19s 363ms/step - loss: 106.3663 - mae: 7.2036 - mse: 106.3663 - val_loss: 1001.8647 - val_mae: 20.4097 - val_mse: 1001.8647\n",
            "Epoch 37/100\n",
            "53/53 [==============================] - 19s 363ms/step - loss: 106.3405 - mae: 7.2374 - mse: 106.3405 - val_loss: 1001.6817 - val_mae: 20.4237 - val_mse: 1001.6817\n",
            "Epoch 38/100\n",
            "53/53 [==============================] - 19s 365ms/step - loss: 105.7765 - mae: 7.2327 - mse: 105.7765 - val_loss: 1001.6913 - val_mae: 20.4173 - val_mse: 1001.6913\n",
            "Epoch 39/100\n",
            "53/53 [==============================] - 19s 365ms/step - loss: 105.6500 - mae: 7.1917 - mse: 105.6500 - val_loss: 1005.9235 - val_mae: 20.4640 - val_mse: 1005.9235\n",
            "Epoch 40/100\n",
            "53/53 [==============================] - 19s 362ms/step - loss: 105.8088 - mae: 7.2156 - mse: 105.8088 - val_loss: 1001.9844 - val_mae: 20.4273 - val_mse: 1001.9844\n",
            "Epoch 41/100\n",
            "53/53 [==============================] - 19s 362ms/step - loss: 105.9417 - mae: 7.2554 - mse: 105.9417 - val_loss: 1001.6810 - val_mae: 20.4423 - val_mse: 1001.6810\n",
            "Epoch 42/100\n",
            "53/53 [==============================] - 19s 364ms/step - loss: 105.2490 - mae: 7.1876 - mse: 105.2490 - val_loss: 1001.8647 - val_mae: 20.4186 - val_mse: 1001.8647\n",
            "Epoch 43/100\n",
            "53/53 [==============================] - 19s 362ms/step - loss: 104.6571 - mae: 7.1695 - mse: 104.6571 - val_loss: 1010.4642 - val_mae: 20.5292 - val_mse: 1010.4642\n",
            "Epoch 44/100\n",
            "53/53 [==============================] - 19s 365ms/step - loss: 105.4003 - mae: 7.2071 - mse: 105.4003 - val_loss: 1000.7540 - val_mae: 20.4263 - val_mse: 1000.7540\n",
            "Epoch 45/100\n",
            "53/53 [==============================] - 19s 363ms/step - loss: 104.5928 - mae: 7.1934 - mse: 104.5928 - val_loss: 1005.1492 - val_mae: 20.4467 - val_mse: 1005.1492\n",
            "Epoch 46/100\n",
            "53/53 [==============================] - 19s 365ms/step - loss: 104.2434 - mae: 7.1566 - mse: 104.2434 - val_loss: 1002.1069 - val_mae: 20.4497 - val_mse: 1002.1069\n",
            "Epoch 47/100\n",
            "53/53 [==============================] - 19s 366ms/step - loss: 104.4514 - mae: 7.1876 - mse: 104.4514 - val_loss: 1001.4633 - val_mae: 20.4885 - val_mse: 1001.4633\n",
            "Epoch 48/100\n",
            "53/53 [==============================] - 19s 363ms/step - loss: 104.1980 - mae: 7.1776 - mse: 104.1980 - val_loss: 1004.9291 - val_mae: 20.4689 - val_mse: 1004.9291\n",
            "Epoch 49/100\n",
            "53/53 [==============================] - 19s 364ms/step - loss: 104.8533 - mae: 7.1816 - mse: 104.8533 - val_loss: 1002.2222 - val_mae: 20.4632 - val_mse: 1002.2222\n",
            "Epoch 50/100\n",
            "53/53 [==============================] - 19s 365ms/step - loss: 104.3012 - mae: 7.1854 - mse: 104.3012 - val_loss: 1002.9330 - val_mae: 20.5068 - val_mse: 1002.9330\n",
            "Epoch 51/100\n",
            "53/53 [==============================] - 19s 364ms/step - loss: 103.7197 - mae: 7.1579 - mse: 103.7197 - val_loss: 1000.1432 - val_mae: 20.4868 - val_mse: 1000.1432\n",
            "Epoch 52/100\n",
            "53/53 [==============================] - 19s 366ms/step - loss: 103.0005 - mae: 7.1454 - mse: 103.0005 - val_loss: 1001.0221 - val_mae: 20.4983 - val_mse: 1001.0221\n",
            "Epoch 53/100\n",
            "53/53 [==============================] - 19s 364ms/step - loss: 103.2169 - mae: 7.1279 - mse: 103.2169 - val_loss: 1000.5311 - val_mae: 20.5446 - val_mse: 1000.5311\n",
            "Epoch 54/100\n",
            "53/53 [==============================] - 19s 365ms/step - loss: 102.4329 - mae: 7.1343 - mse: 102.4329 - val_loss: 1007.9821 - val_mae: 20.6125 - val_mse: 1007.9821\n",
            "Epoch 55/100\n",
            "53/53 [==============================] - 19s 368ms/step - loss: 101.2138 - mae: 7.1224 - mse: 101.2138 - val_loss: 1004.8351 - val_mae: 20.6063 - val_mse: 1004.8351\n",
            "Epoch 56/100\n",
            "53/53 [==============================] - 19s 367ms/step - loss: 103.5371 - mae: 7.1652 - mse: 103.5371 - val_loss: 1004.2573 - val_mae: 20.5546 - val_mse: 1004.2573\n",
            "Epoch 57/100\n",
            "53/53 [==============================] - 19s 365ms/step - loss: 102.3499 - mae: 7.1562 - mse: 102.3499 - val_loss: 1007.8617 - val_mae: 20.5673 - val_mse: 1007.8617\n",
            "Epoch 58/100\n",
            "53/53 [==============================] - 19s 365ms/step - loss: 101.3523 - mae: 7.1199 - mse: 101.3523 - val_loss: 1005.3474 - val_mae: 20.6494 - val_mse: 1005.3474\n",
            "Epoch 59/100\n",
            "53/53 [==============================] - 19s 364ms/step - loss: 100.3827 - mae: 7.0692 - mse: 100.3827 - val_loss: 1008.0588 - val_mae: 20.6683 - val_mse: 1008.0588\n",
            "Epoch 60/100\n",
            "53/53 [==============================] - 19s 366ms/step - loss: 100.4536 - mae: 7.1140 - mse: 100.4536 - val_loss: 1006.2689 - val_mae: 20.6941 - val_mse: 1006.2689\n",
            "Epoch 61/100\n",
            "53/53 [==============================] - 19s 365ms/step - loss: 100.4220 - mae: 7.1295 - mse: 100.4220 - val_loss: 1008.7783 - val_mae: 20.7076 - val_mse: 1008.7783\n",
            "Epoch 62/100\n",
            "53/53 [==============================] - 19s 364ms/step - loss: 100.3186 - mae: 7.1070 - mse: 100.3186 - val_loss: 1007.5156 - val_mae: 20.6577 - val_mse: 1007.5156\n",
            "Epoch 63/100\n",
            "53/53 [==============================] - 19s 365ms/step - loss: 98.5755 - mae: 7.0158 - mse: 98.5755 - val_loss: 1009.1144 - val_mae: 20.7231 - val_mse: 1009.1144\n",
            "Epoch 64/100\n",
            "53/53 [==============================] - 19s 363ms/step - loss: 98.6149 - mae: 7.0244 - mse: 98.6149 - val_loss: 1014.2635 - val_mae: 20.8066 - val_mse: 1014.2635\n",
            "Epoch 65/100\n",
            "53/53 [==============================] - 19s 364ms/step - loss: 98.6196 - mae: 7.0414 - mse: 98.6196 - val_loss: 1011.6774 - val_mae: 20.7268 - val_mse: 1011.6774\n",
            "Epoch 66/100\n",
            "53/53 [==============================] - 19s 366ms/step - loss: 99.2790 - mae: 7.1168 - mse: 99.2790 - val_loss: 1012.9446 - val_mae: 20.7670 - val_mse: 1012.9446\n",
            "Epoch 67/100\n",
            "53/53 [==============================] - 19s 364ms/step - loss: 97.1749 - mae: 7.0584 - mse: 97.1749 - val_loss: 1015.8167 - val_mae: 20.8023 - val_mse: 1015.8167\n",
            "Epoch 68/100\n",
            "53/53 [==============================] - 19s 363ms/step - loss: 97.7843 - mae: 7.0920 - mse: 97.7843 - val_loss: 1011.0543 - val_mae: 20.7425 - val_mse: 1011.0543\n",
            "Epoch 69/100\n",
            "53/53 [==============================] - 19s 365ms/step - loss: 95.3703 - mae: 6.9498 - mse: 95.3703 - val_loss: 1017.7595 - val_mae: 20.8915 - val_mse: 1017.7595\n",
            "Epoch 70/100\n",
            "53/53 [==============================] - 19s 365ms/step - loss: 95.3051 - mae: 6.9712 - mse: 95.3051 - val_loss: 1018.2240 - val_mae: 20.9162 - val_mse: 1018.2240\n",
            "Epoch 71/100\n",
            "53/53 [==============================] - 19s 365ms/step - loss: 94.2266 - mae: 6.9648 - mse: 94.2266 - val_loss: 1024.2529 - val_mae: 20.9692 - val_mse: 1024.2529\n",
            "Epoch 72/100\n",
            "53/53 [==============================] - 19s 365ms/step - loss: 95.7046 - mae: 7.0505 - mse: 95.7046 - val_loss: 1017.5145 - val_mae: 20.8954 - val_mse: 1017.5145\n",
            "Epoch 73/100\n",
            "53/53 [==============================] - 19s 363ms/step - loss: 93.0149 - mae: 6.9301 - mse: 93.0149 - val_loss: 1028.7504 - val_mae: 21.0333 - val_mse: 1028.7504\n",
            "Epoch 74/100\n",
            "53/53 [==============================] - 19s 364ms/step - loss: 91.8140 - mae: 6.8565 - mse: 91.8140 - val_loss: 1034.6801 - val_mae: 21.1831 - val_mse: 1034.6801\n",
            "Epoch 75/100\n",
            "53/53 [==============================] - 19s 365ms/step - loss: 92.2167 - mae: 6.9217 - mse: 92.2167 - val_loss: 1030.8776 - val_mae: 21.0553 - val_mse: 1030.8776\n",
            "Epoch 76/100\n",
            "53/53 [==============================] - 19s 365ms/step - loss: 91.6879 - mae: 6.8594 - mse: 91.6879 - val_loss: 1022.4482 - val_mae: 20.9603 - val_mse: 1022.4482\n",
            "Epoch 77/100\n",
            "53/53 [==============================] - 19s 363ms/step - loss: 88.9836 - mae: 6.7716 - mse: 88.9836 - val_loss: 1043.3616 - val_mae: 21.3142 - val_mse: 1043.3616\n",
            "Epoch 78/100\n",
            "53/53 [==============================] - 19s 362ms/step - loss: 89.9745 - mae: 6.8121 - mse: 89.9745 - val_loss: 1043.8947 - val_mae: 21.3669 - val_mse: 1043.8947\n",
            "Epoch 79/100\n",
            "53/53 [==============================] - 19s 363ms/step - loss: 88.3012 - mae: 6.7536 - mse: 88.3012 - val_loss: 1044.6191 - val_mae: 21.3386 - val_mse: 1044.6191\n",
            "Epoch 80/100\n",
            "53/53 [==============================] - 19s 365ms/step - loss: 86.3503 - mae: 6.6838 - mse: 86.3503 - val_loss: 1061.3394 - val_mae: 21.5428 - val_mse: 1061.3394\n",
            "Epoch 81/100\n",
            "53/53 [==============================] - 19s 364ms/step - loss: 86.7559 - mae: 6.7427 - mse: 86.7559 - val_loss: 1045.1801 - val_mae: 21.3827 - val_mse: 1045.1801\n",
            "Epoch 82/100\n",
            "53/53 [==============================] - 19s 366ms/step - loss: 85.0060 - mae: 6.6704 - mse: 85.0060 - val_loss: 1056.4430 - val_mae: 21.4628 - val_mse: 1056.4430\n",
            "Epoch 83/100\n",
            "53/53 [==============================] - 19s 364ms/step - loss: 84.7624 - mae: 6.6861 - mse: 84.7624 - val_loss: 1053.1654 - val_mae: 21.5771 - val_mse: 1053.1654\n",
            "Epoch 84/100\n",
            "53/53 [==============================] - 19s 364ms/step - loss: 83.7125 - mae: 6.6035 - mse: 83.7125 - val_loss: 1049.3472 - val_mae: 21.3676 - val_mse: 1049.3472\n",
            "Epoch 85/100\n",
            "53/53 [==============================] - 19s 365ms/step - loss: 80.8725 - mae: 6.4998 - mse: 80.8725 - val_loss: 1060.7399 - val_mae: 21.6820 - val_mse: 1060.7399\n",
            "Epoch 86/100\n",
            "53/53 [==============================] - 19s 364ms/step - loss: 78.7351 - mae: 6.4483 - mse: 78.7351 - val_loss: 1074.0770 - val_mae: 21.8530 - val_mse: 1074.0770\n",
            "Epoch 87/100\n",
            "53/53 [==============================] - 19s 364ms/step - loss: 81.1478 - mae: 6.5539 - mse: 81.1478 - val_loss: 1074.9084 - val_mae: 21.7780 - val_mse: 1074.9084\n",
            "Epoch 88/100\n",
            "53/53 [==============================] - 19s 364ms/step - loss: 77.2642 - mae: 6.3653 - mse: 77.2642 - val_loss: 1053.8235 - val_mae: 21.5457 - val_mse: 1053.8235\n",
            "Epoch 89/100\n",
            "53/53 [==============================] - 19s 364ms/step - loss: 76.5551 - mae: 6.3008 - mse: 76.5551 - val_loss: 1099.1925 - val_mae: 22.3086 - val_mse: 1099.1925\n",
            "Epoch 90/100\n",
            "53/53 [==============================] - 19s 364ms/step - loss: 79.1354 - mae: 6.4801 - mse: 79.1354 - val_loss: 1069.9720 - val_mae: 21.7812 - val_mse: 1069.9720\n",
            "Epoch 91/100\n",
            "53/53 [==============================] - 19s 366ms/step - loss: 76.1301 - mae: 6.3300 - mse: 76.1301 - val_loss: 1068.1329 - val_mae: 21.7342 - val_mse: 1068.1329\n",
            "Epoch 92/100\n",
            "53/53 [==============================] - 19s 365ms/step - loss: 75.8008 - mae: 6.3073 - mse: 75.8008 - val_loss: 1090.0360 - val_mae: 22.0662 - val_mse: 1090.0360\n",
            "Epoch 93/100\n",
            "53/53 [==============================] - 19s 365ms/step - loss: 73.7351 - mae: 6.2033 - mse: 73.7351 - val_loss: 1080.3441 - val_mae: 21.8073 - val_mse: 1080.3441\n",
            "Epoch 94/100\n",
            "53/53 [==============================] - 19s 367ms/step - loss: 70.5862 - mae: 6.0327 - mse: 70.5862 - val_loss: 1097.7990 - val_mae: 22.2523 - val_mse: 1097.7990\n",
            "Epoch 95/100\n",
            "53/53 [==============================] - 19s 365ms/step - loss: 70.4851 - mae: 6.1181 - mse: 70.4851 - val_loss: 1087.5699 - val_mae: 22.0566 - val_mse: 1087.5699\n",
            "Epoch 96/100\n",
            "53/53 [==============================] - 19s 365ms/step - loss: 71.1296 - mae: 6.1227 - mse: 71.1296 - val_loss: 1125.6625 - val_mae: 22.7300 - val_mse: 1125.6625\n",
            "Epoch 97/100\n",
            "53/53 [==============================] - 19s 367ms/step - loss: 69.2130 - mae: 6.0104 - mse: 69.2130 - val_loss: 1118.5270 - val_mae: 22.5817 - val_mse: 1118.5270\n",
            "Epoch 98/100\n",
            "53/53 [==============================] - 19s 364ms/step - loss: 66.9598 - mae: 5.9745 - mse: 66.9598 - val_loss: 1109.2955 - val_mae: 22.4397 - val_mse: 1109.2955\n",
            "Epoch 99/100\n",
            "53/53 [==============================] - 19s 367ms/step - loss: 67.7836 - mae: 6.0037 - mse: 67.7836 - val_loss: 1132.8104 - val_mae: 22.7805 - val_mse: 1132.8104\n",
            "Epoch 100/100\n",
            "53/53 [==============================] - 19s 367ms/step - loss: 66.9426 - mae: 5.9639 - mse: 66.9426 - val_loss: 1139.4902 - val_mae: 23.0050 - val_mse: 1139.4902\n"
          ]
        }
      ],
      "source": [
        "r=model_lstm_gru.fit(\n",
        "    Xtrain,\n",
        "    Ytrain,\n",
        "    epochs=100,\n",
        "    validation_data=(Xtest,Ytest),\n",
        "    callbacks=[check_point_lstm_gru]\n",
        ")"
      ]
    },
    {
      "cell_type": "markdown",
      "metadata": {
        "id": "ykyI87uZAFYU"
      },
      "source": [
        "Predictions\n",
        "\n"
      ]
    },
    {
      "cell_type": "code",
      "execution_count": 21,
      "metadata": {
        "id": "k0XDQv2l-_2x"
      },
      "outputs": [],
      "source": [
        "train_idx[:T+1]=False"
      ]
    },
    {
      "cell_type": "code",
      "execution_count": 22,
      "metadata": {
        "id": "wJ3J-Cvv_oLA"
      },
      "outputs": [],
      "source": [
        "Ptrain_lstm_cnn=model_lstm_cnn.predict(Xtrain).flatten()\n",
        "Ptest_lstm_cnn=model_lstm_cnn.predict(Xtest).flatten()"
      ]
    },
    {
      "cell_type": "code",
      "execution_count": 23,
      "metadata": {
        "id": "r9GuOYr-_oRf"
      },
      "outputs": [],
      "source": [
        "Ptrain_lstm_gru=model_lstm_gru.predict(Xtrain).flatten()\n",
        "Ptest_lstm_gru=model_lstm_gru.predict(Xtest).flatten()"
      ]
    },
    {
      "cell_type": "code",
      "execution_count": 24,
      "metadata": {
        "id": "-ZvHYeDl_oYI"
      },
      "outputs": [],
      "source": [
        "df.loc[train_idx,'Diff LSTM+CNN train prediction']=Ptrain_lstm_cnn\n",
        "df.loc[test_idx,'Diff LSTM+CNN test prediction']=Ptest_lstm_cnn"
      ]
    },
    {
      "cell_type": "code",
      "execution_count": 25,
      "metadata": {
        "id": "h0xk_CKv_7mw"
      },
      "outputs": [],
      "source": [
        "df.loc[train_idx,'Diff LSTM+GRU train prediction']=Ptrain_lstm_gru\n",
        "df.loc[test_idx,'Diff LSTM+GRU test prediction']=Ptest_lstm_gru"
      ]
    },
    {
      "cell_type": "code",
      "execution_count": 26,
      "metadata": {
        "id": "-9ekKxJr_7pu"
      },
      "outputs": [],
      "source": [
        "df['Shift Prev Close']=df['Prev Close'].shift(1)\n",
        "prev=df['Shift Prev Close']"
      ]
    },
    {
      "cell_type": "code",
      "execution_count": 27,
      "metadata": {
        "id": "Qd-4VnON_7tL"
      },
      "outputs": [],
      "source": [
        "last_train=train.iloc[-1]['Prev Close']"
      ]
    },
    {
      "cell_type": "code",
      "execution_count": 28,
      "metadata": {
        "id": "wIUM_MvYALoR"
      },
      "outputs": [],
      "source": [
        "df.loc[train_idx,'train_LSTM_CNN']=prev[train_idx]+Ptrain_lstm_cnn\n",
        "df.loc[test_idx,'Prediction_LSTM_CNN']=prev[test_idx]+Ptest_lstm_cnn"
      ]
    },
    {
      "cell_type": "code",
      "execution_count": 29,
      "metadata": {
        "id": "4dA6pDYTANWK"
      },
      "outputs": [],
      "source": [
        "df.loc[train_idx,'train_LSTM_GRU']=prev[train_idx]+Ptrain_lstm_gru\n",
        "df.loc[test_idx,'Prediction_LSTM_GRU']=prev[test_idx]+Ptest_lstm_gru"
      ]
    },
    {
      "cell_type": "code",
      "execution_count": 30,
      "metadata": {
        "id": "f8KVkcj8AaPm",
        "colab": {
          "base_uri": "https://localhost:8080/",
          "height": 416
        },
        "outputId": "3af1c749-fc81-4ac5-e6b8-f96a5bd48ff5"
      },
      "outputs": [
        {
          "output_type": "display_data",
          "data": {
            "text/plain": [
              "<Figure size 1080x720 with 1 Axes>"
            ],
            "image/png": "[encoded data removed]"
          },
          "metadata": {
            "needs_background": "light"
          }
        }
      ],
      "source": [
        "df[['Prev Close' ,'Prediction_LSTM_CNN','Prediction_LSTM_GRU']].plot(figsize=(15,10));"
      ]
    },
    {
      "cell_type": "code",
      "execution_count": 31,
      "metadata": {
        "id": "ZYDW87n5Anf9",
        "colab": {
          "base_uri": "https://localhost:8080/",
          "height": 422
        },
        "outputId": "f0c464f4-493f-4367-eaf1-28f8cb4201e9"
      },
      "outputs": [
        {
          "output_type": "display_data",
          "data": {
            "text/plain": [
              "<Figure size 1080x720 with 1 Axes>"
            ],
            "image/png": "[encoded data removed]"
          },
          "metadata": {
            "needs_background": "light"
          }
        }
      ],
      "source": [
        "df[['Prediction_LSTM_CNN','Prediction_LSTM_GRU']].plot(figsize=(15,10));"
      ]
    },
    {
      "cell_type": "code",
      "execution_count": 32,
      "metadata": {
        "id": "gj8xug0lAxWl"
      },
      "outputs": [],
      "source": [
        "pred_lstm_cnn=df['Prediction_LSTM_CNN']\n",
        "pred_lstm_cnn.dropna(inplace=True)"
      ]
    },
    {
      "cell_type": "code",
      "execution_count": 33,
      "metadata": {
        "id": "rakkuhBuA-qw",
        "colab": {
          "base_uri": "https://localhost:8080/"
        },
        "outputId": "6924c89f-bf62-472f-c1d1-6b7e4ea2dfa5"
      },
      "outputs": [
        {
          "output_type": "stream",
          "name": "stdout",
          "text": [
            "32.30476794307446\n"
          ]
        }
      ],
      "source": [
        "rmse=math.sqrt(mean_squared_error(test['Prev Close'],pred_lstm_cnn))\n",
        "print(rmse)"
      ]
    },
    {
      "cell_type": "code",
      "execution_count": 34,
      "metadata": {
        "id": "9wztKO3rBHqx",
        "colab": {
          "base_uri": "https://localhost:8080/"
        },
        "outputId": "84932d58-6ab1-4579-e3c7-e4becce26305"
      },
      "outputs": [
        {
          "output_type": "stream",
          "name": "stdout",
          "text": [
            "21.216543504037716\n"
          ]
        }
      ],
      "source": [
        "error=mean_absolute_error(test['Prev Close'],pred_lstm_cnn)\n",
        "print(error)"
      ]
    },
    {
      "cell_type": "code",
      "execution_count": 35,
      "metadata": {
        "id": "OXbq8UpSBH9g",
        "colab": {
          "base_uri": "https://localhost:8080/"
        },
        "outputId": "11124d75-3915-41a4-bf16-1f4a17a1631e"
      },
      "outputs": [
        {
          "output_type": "execute_result",
          "data": {
            "text/plain": [
              "0.986689643974698"
            ]
          },
          "metadata": {},
          "execution_count": 35
        }
      ],
      "source": [
        "r2_score(test['Prev Close'],pred_lstm_cnn)"
      ]
    },
    {
      "cell_type": "code",
      "execution_count": 36,
      "metadata": {
        "id": "kaOiSQKJBRUU"
      },
      "outputs": [],
      "source": [
        "pred_lstm_gru=df['Prediction_LSTM_GRU']\n",
        "pred_lstm_gru.dropna(inplace=True)"
      ]
    },
    {
      "cell_type": "code",
      "execution_count": 37,
      "metadata": {
        "id": "7UBA8PW2BRex",
        "colab": {
          "base_uri": "https://localhost:8080/"
        },
        "outputId": "1d7d1a14-4c89-4659-b8d6-5b08683ddaa3"
      },
      "outputs": [
        {
          "output_type": "stream",
          "name": "stdout",
          "text": [
            "32.30476794307446\n"
          ]
        }
      ],
      "source": [
        "rmse=math.sqrt(mean_squared_error(test['Prev Close'],pred_lstm_cnn))\n",
        "print(rmse)"
      ]
    },
    {
      "cell_type": "code",
      "execution_count": 38,
      "metadata": {
        "id": "9zf0Qkl4BRo1",
        "colab": {
          "base_uri": "https://localhost:8080/"
        },
        "outputId": "5c5a4026-d94c-46a9-98e6-ab3279bee251"
      },
      "outputs": [
        {
          "output_type": "stream",
          "name": "stdout",
          "text": [
            "23.005029107647793\n"
          ]
        }
      ],
      "source": [
        "error=mean_absolute_error(test['Prev Close'],pred_lstm_gru)\n",
        "print(error)"
      ]
    },
    {
      "cell_type": "code",
      "execution_count": 39,
      "metadata": {
        "id": "2TgbreYrBRzp",
        "colab": {
          "base_uri": "https://localhost:8080/"
        },
        "outputId": "6fa3ac19-0429-411a-fd9b-df4cb38ba77a"
      },
      "outputs": [
        {
          "output_type": "execute_result",
          "data": {
            "text/plain": [
              "0.9854666055648118"
            ]
          },
          "metadata": {},
          "execution_count": 39
        }
      ],
      "source": [
        "r2_score(test['Prev Close'],pred_lstm_gru)"
      ]
    },
    {
      "cell_type": "code",
      "execution_count": 39,
      "metadata": {
        "id": "E7qIDFyEBlEl"
      },
      "outputs": [],
      "source": []
    }
  ],
  "metadata": {
    "colab": {
      "provenance": []
    },
    "kernelspec": {
      "display_name": "Python 3",
      "name": "python3"
    },
    "language_info": {
      "name": "python"
    }
  },
  "nbformat": 4,
  "nbformat_minor": 0
}