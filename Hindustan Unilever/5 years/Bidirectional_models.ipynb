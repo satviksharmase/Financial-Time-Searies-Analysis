{
  "cells": [
    {
      "cell_type": "code",
      "execution_count": 82,
      "metadata": {
        "id": "ZVEUR9Z46zJ7"
      },
      "outputs": [],
      "source": [
        "import pandas as pd\n",
        "import numpy as np\n",
        "import matplotlib.pyplot as plt\n",
        "\n",
        "import tensorflow as tf\n",
        "from tensorflow.keras.layers import Dense, Input, GlobalMaxPool1D, GRU,LSTM, Bidirectional\n",
        "from tensorflow.keras.models import Model\n",
        "from tensorflow.keras.callbacks import ModelCheckpoint\n",
        "\n",
        "import math\n",
        "\n",
        "from sklearn.metrics import r2_score\n",
        "from sklearn.metrics import mean_absolute_error\n",
        "from sklearn.metrics import mean_squared_error\n",
        "\n",
        "np.random.seed(123)\n",
        "tf.random.set_seed(123)"
      ]
    },
    {
      "cell_type": "code",
      "execution_count": 83,
      "metadata": {
        "id": "hGNJlPX-7FQ_"
      },
      "outputs": [],
      "source": [
        "df=pd.read_csv('./HINDUNILVR.csv',index_col='Date',parse_dates=True)"
      ]
    },
    {
      "cell_type": "code",
      "execution_count": 84,
      "metadata": {
        "colab": {
          "base_uri": "https://localhost:8080/",
          "height": 710
        },
        "id": "_fw_w6SY7PDd",
        "outputId": "187b26bc-eec5-4be0-b858-e8b55e6034a3"
      },
      "outputs": [
        {
          "output_type": "execute_result",
          "data": {
            "text/plain": [
              "                Symbol Series  Prev Close    Open     High      Low     Last  \\\n",
              "Date                                                                           \n",
              "2000-01-03   HINDLEVER     EQ     2136.60  2300.0  2307.55  2300.00  2307.55   \n",
              "2000-01-04   HINDLEVER     EQ     2307.55  2381.0  2381.00  2250.00  2270.00   \n",
              "2000-01-05   HINDLEVER     EQ     2281.05  2200.0  2250.00  2105.00  2183.50   \n",
              "2000-01-06   HINDLEVER     EQ     2199.90  2224.9  2360.00  2210.00  2300.00   \n",
              "2000-01-07   HINDLEVER     EQ     2288.20  2300.0  2452.00  2282.25  2395.00   \n",
              "...                ...    ...         ...     ...      ...      ...      ...   \n",
              "2021-04-26  HINDUNILVR     EQ     2307.75  2324.0  2369.80  2311.00  2367.70   \n",
              "2021-04-27  HINDUNILVR     EQ     2360.65  2363.0  2386.45  2352.95  2378.00   \n",
              "2021-04-28  HINDUNILVR     EQ     2379.85  2380.0  2445.00  2366.30  2404.00   \n",
              "2021-04-29  HINDUNILVR     EQ     2406.55  2433.0  2448.95  2384.15  2422.15   \n",
              "2021-04-30  HINDUNILVR     EQ     2407.60  2410.0  2442.90  2330.25  2350.00   \n",
              "\n",
              "              Close     VWAP   Volume      Turnover    Trades  \\\n",
              "Date                                                            \n",
              "2000-01-03  2307.55  2307.08    24903  5.745330e+12       NaN   \n",
              "2000-01-04  2281.05  2298.15    58514  1.344740e+13       NaN   \n",
              "2000-01-05  2199.90  2211.17    80296  1.775482e+13       NaN   \n",
              "2000-01-06  2288.20  2301.80   190032  4.374157e+13       NaN   \n",
              "2000-01-07  2412.95  2380.24   192582  4.583919e+13       NaN   \n",
              "...             ...      ...      ...           ...       ...   \n",
              "2021-04-26  2360.65  2340.89  1946867  4.557405e+14   85684.0   \n",
              "2021-04-27  2379.85  2374.40  1668456  3.961583e+14   84641.0   \n",
              "2021-04-28  2406.55  2414.15  1951215  4.710522e+14   84910.0   \n",
              "2021-04-29  2407.60  2419.82  3151150  7.625230e+14  141048.0   \n",
              "2021-04-30  2353.75  2363.99  4010778  9.481448e+14  170223.0   \n",
              "\n",
              "            Deliverable Volume  %Deliverble  \n",
              "Date                                         \n",
              "2000-01-03                 NaN          NaN  \n",
              "2000-01-04                 NaN          NaN  \n",
              "2000-01-05                 NaN          NaN  \n",
              "2000-01-06                 NaN          NaN  \n",
              "2000-01-07                 NaN          NaN  \n",
              "...                        ...          ...  \n",
              "2021-04-26           1289103.0       0.6621  \n",
              "2021-04-27           1089882.0       0.6532  \n",
              "2021-04-28           1024216.0       0.5249  \n",
              "2021-04-29            946648.0       0.3004  \n",
              "2021-04-30           2038288.0       0.5082  \n",
              "\n",
              "[5306 rows x 14 columns]"
            ],
            "text/html": [
              "\n",
              "  <div id=\"df-39c5d0f2-3704-44dd-8b7e-dcd93a9059d7\">\n",
              "    <div class=\"colab-df-container\">\n",
              "      <div>\n",
              "<style scoped>\n",
              "    .dataframe tbody tr th:only-of-type {\n",
              "        vertical-align: middle;\n",
              "    }\n",
              "\n",
              "    .dataframe tbody tr th {\n",
              "        vertical-align: top;\n",
              "    }\n",
              "\n",
              "    .dataframe thead th {\n",
              "        text-align: right;\n",
              "    }\n",
              "</style>\n",
              "<table border=\"1\" class=\"dataframe\">\n",
              "  <thead>\n",
              "    <tr style=\"text-align: right;\">\n",
              "      <th></th>\n",
              "      <th>Symbol</th>\n",
              "      <th>Series</th>\n",
              "      <th>Prev Close</th>\n",
              "      <th>Open</th>\n",
              "      <th>High</th>\n",
              "      <th>Low</th>\n",
              "      <th>Last</th>\n",
              "      <th>Close</th>\n",
              "      <th>VWAP</th>\n",
              "      <th>Volume</th>\n",
              "      <th>Turnover</th>\n",
              "      <th>Trades</th>\n",
              "      <th>Deliverable Volume</th>\n",
              "      <th>%Deliverble</th>\n",
              "    </tr>\n",
              "    <tr>\n",
              "      <th>Date</th>\n",
              "      <th></th>\n",
              "      <th></th>\n",
              "      <th></th>\n",
              "      <th></th>\n",
              "      <th></th>\n",
              "      <th></th>\n",
              "      <th></th>\n",
              "      <th></th>\n",
              "      <th></th>\n",
              "      <th></th>\n",
              "      <th></th>\n",
              "      <th></th>\n",
              "      <th></th>\n",
              "      <th></th>\n",
              "    </tr>\n",
              "  </thead>\n",
              "  <tbody>\n",
              "    <tr>\n",
              "      <th>2000-01-03</th>\n",
              "      <td>HINDLEVER</td>\n",
              "      <td>EQ</td>\n",
              "      <td>2136.60</td>\n",
              "      <td>2300.0</td>\n",
              "      <td>2307.55</td>\n",
              "      <td>2300.00</td>\n",
              "      <td>2307.55</td>\n",
              "      <td>2307.55</td>\n",
              "      <td>2307.08</td>\n",
              "      <td>24903</td>\n",
              "      <td>5.745330e+12</td>\n",
              "      <td>NaN</td>\n",
              "      <td>NaN</td>\n",
              "      <td>NaN</td>\n",
              "    </tr>\n",
              "    <tr>\n",
              "      <th>2000-01-04</th>\n",
              "      <td>HINDLEVER</td>\n",
              "      <td>EQ</td>\n",
              "      <td>2307.55</td>\n",
              "      <td>2381.0</td>\n",
              "      <td>2381.00</td>\n",
              "      <td>2250.00</td>\n",
              "      <td>2270.00</td>\n",
              "      <td>2281.05</td>\n",
              "      <td>2298.15</td>\n",
              "      <td>58514</td>\n",
              "      <td>1.344740e+13</td>\n",
              "      <td>NaN</td>\n",
              "      <td>NaN</td>\n",
              "      <td>NaN</td>\n",
              "    </tr>\n",
              "    <tr>\n",
              "      <th>2000-01-05</th>\n",
              "      <td>HINDLEVER</td>\n",
              "      <td>EQ</td>\n",
              "      <td>2281.05</td>\n",
              "      <td>2200.0</td>\n",
              "      <td>2250.00</td>\n",
              "      <td>2105.00</td>\n",
              "      <td>2183.50</td>\n",
              "      <td>2199.90</td>\n",
              "      <td>2211.17</td>\n",
              "      <td>80296</td>\n",
              "      <td>1.775482e+13</td>\n",
              "      <td>NaN</td>\n",
              "      <td>NaN</td>\n",
              "      <td>NaN</td>\n",
              "    </tr>\n",
              "    <tr>\n",
              "      <th>2000-01-06</th>\n",
              "      <td>HINDLEVER</td>\n",
              "      <td>EQ</td>\n",
              "      <td>2199.90</td>\n",
              "      <td>2224.9</td>\n",
              "      <td>2360.00</td>\n",
              "      <td>2210.00</td>\n",
              "      <td>2300.00</td>\n",
              "      <td>2288.20</td>\n",
              "      <td>2301.80</td>\n",
              "      <td>190032</td>\n",
              "      <td>4.374157e+13</td>\n",
              "      <td>NaN</td>\n",
              "      <td>NaN</td>\n",
              "      <td>NaN</td>\n",
              "    </tr>\n",
              "    <tr>\n",
              "      <th>2000-01-07</th>\n",
              "      <td>HINDLEVER</td>\n",
              "      <td>EQ</td>\n",
              "      <td>2288.20</td>\n",
              "      <td>2300.0</td>\n",
              "      <td>2452.00</td>\n",
              "      <td>2282.25</td>\n",
              "      <td>2395.00</td>\n",
              "      <td>2412.95</td>\n",
              "      <td>2380.24</td>\n",
              "      <td>192582</td>\n",
              "      <td>4.583919e+13</td>\n",
              "      <td>NaN</td>\n",
              "      <td>NaN</td>\n",
              "      <td>NaN</td>\n",
              "    </tr>\n",
              "    <tr>\n",
              "      <th>...</th>\n",
              "      <td>...</td>\n",
              "      <td>...</td>\n",
              "      <td>...</td>\n",
              "      <td>...</td>\n",
              "      <td>...</td>\n",
              "      <td>...</td>\n",
              "      <td>...</td>\n",
              "      <td>...</td>\n",
              "      <td>...</td>\n",
              "      <td>...</td>\n",
              "      <td>...</td>\n",
              "      <td>...</td>\n",
              "      <td>...</td>\n",
              "      <td>...</td>\n",
              "    </tr>\n",
              "    <tr>\n",
              "      <th>2021-04-26</th>\n",
              "      <td>HINDUNILVR</td>\n",
              "      <td>EQ</td>\n",
              "      <td>2307.75</td>\n",
              "      <td>2324.0</td>\n",
              "      <td>2369.80</td>\n",
              "      <td>2311.00</td>\n",
              "      <td>2367.70</td>\n",
              "      <td>2360.65</td>\n",
              "      <td>2340.89</td>\n",
              "      <td>1946867</td>\n",
              "      <td>4.557405e+14</td>\n",
              "      <td>85684.0</td>\n",
              "      <td>1289103.0</td>\n",
              "      <td>0.6621</td>\n",
              "    </tr>\n",
              "    <tr>\n",
              "      <th>2021-04-27</th>\n",
              "      <td>HINDUNILVR</td>\n",
              "      <td>EQ</td>\n",
              "      <td>2360.65</td>\n",
              "      <td>2363.0</td>\n",
              "      <td>2386.45</td>\n",
              "      <td>2352.95</td>\n",
              "      <td>2378.00</td>\n",
              "      <td>2379.85</td>\n",
              "      <td>2374.40</td>\n",
              "      <td>1668456</td>\n",
              "      <td>3.961583e+14</td>\n",
              "      <td>84641.0</td>\n",
              "      <td>1089882.0</td>\n",
              "      <td>0.6532</td>\n",
              "    </tr>\n",
              "    <tr>\n",
              "      <th>2021-04-28</th>\n",
              "      <td>HINDUNILVR</td>\n",
              "      <td>EQ</td>\n",
              "      <td>2379.85</td>\n",
              "      <td>2380.0</td>\n",
              "      <td>2445.00</td>\n",
              "      <td>2366.30</td>\n",
              "      <td>2404.00</td>\n",
              "      <td>2406.55</td>\n",
              "      <td>2414.15</td>\n",
              "      <td>1951215</td>\n",
              "      <td>4.710522e+14</td>\n",
              "      <td>84910.0</td>\n",
              "      <td>1024216.0</td>\n",
              "      <td>0.5249</td>\n",
              "    </tr>\n",
              "    <tr>\n",
              "      <th>2021-04-29</th>\n",
              "      <td>HINDUNILVR</td>\n",
              "      <td>EQ</td>\n",
              "      <td>2406.55</td>\n",
              "      <td>2433.0</td>\n",
              "      <td>2448.95</td>\n",
              "      <td>2384.15</td>\n",
              "      <td>2422.15</td>\n",
              "      <td>2407.60</td>\n",
              "      <td>2419.82</td>\n",
              "      <td>3151150</td>\n",
              "      <td>7.625230e+14</td>\n",
              "      <td>141048.0</td>\n",
              "      <td>946648.0</td>\n",
              "      <td>0.3004</td>\n",
              "    </tr>\n",
              "    <tr>\n",
              "      <th>2021-04-30</th>\n",
              "      <td>HINDUNILVR</td>\n",
              "      <td>EQ</td>\n",
              "      <td>2407.60</td>\n",
              "      <td>2410.0</td>\n",
              "      <td>2442.90</td>\n",
              "      <td>2330.25</td>\n",
              "      <td>2350.00</td>\n",
              "      <td>2353.75</td>\n",
              "      <td>2363.99</td>\n",
              "      <td>4010778</td>\n",
              "      <td>9.481448e+14</td>\n",
              "      <td>170223.0</td>\n",
              "      <td>2038288.0</td>\n",
              "      <td>0.5082</td>\n",
              "    </tr>\n",
              "  </tbody>\n",
              "</table>\n",
              "<p>5306 rows × 14 columns</p>\n",
              "</div>\n",
              "      <button class=\"colab-df-convert\" onclick=\"convertToInteractive('df-39c5d0f2-3704-44dd-8b7e-dcd93a9059d7')\"\n",
              "              title=\"Convert this dataframe to an interactive table.\"\n",
              "              style=\"display:none;\">\n",
              "        \n",
              "  <svg xmlns=\"http://www.w3.org/2000/svg\" height=\"24px\"viewBox=\"0 0 24 24\"\n",
              "       width=\"24px\">\n",
              "    <path d=\"M0 0h24v24H0V0z\" fill=\"none\"/>\n",
              "    <path d=\"M18.56 5.44l.94 2.06.94-2.06 2.06-.94-2.06-.94-.94-2.06-.94 2.06-2.06.94zm-11 1L8.5 8.5l.94-2.06 2.06-.94-2.06-.94L8.5 2.5l-.94 2.06-2.06.94zm10 10l.94 2.06.94-2.06 2.06-.94-2.06-.94-.94-2.06-.94 2.06-2.06.94z\"/><path d=\"M17.41 7.96l-1.37-1.37c-.4-.4-.92-.59-1.43-.59-.52 0-1.04.2-1.43.59L10.3 9.45l-7.72 7.72c-.78.78-.78 2.05 0 2.83L4 21.41c.39.39.9.59 1.41.59.51 0 1.02-.2 1.41-.59l7.78-7.78 2.81-2.81c.8-.78.8-2.07 0-2.86zM5.41 20L4 18.59l7.72-7.72 1.47 1.35L5.41 20z\"/>\n",
              "  </svg>\n",
              "      </button>\n",
              "      \n",
              "  <style>\n",
              "    .colab-df-container {\n",
              "      display:flex;\n",
              "      flex-wrap:wrap;\n",
              "      gap: 12px;\n",
              "    }\n",
              "\n",
              "    .colab-df-convert {\n",
              "      background-color: #E8F0FE;\n",
              "      border: none;\n",
              "      border-radius: 50%;\n",
              "      cursor: pointer;\n",
              "      display: none;\n",
              "      fill: #1967D2;\n",
              "      height: 32px;\n",
              "      padding: 0 0 0 0;\n",
              "      width: 32px;\n",
              "    }\n",
              "\n",
              "    .colab-df-convert:hover {\n",
              "      background-color: #E2EBFA;\n",
              "      box-shadow: 0px 1px 2px rgba(60, 64, 67, 0.3), 0px 1px 3px 1px rgba(60, 64, 67, 0.15);\n",
              "      fill: #174EA6;\n",
              "    }\n",
              "\n",
              "    [theme=dark] .colab-df-convert {\n",
              "      background-color: #3B4455;\n",
              "      fill: #D2E3FC;\n",
              "    }\n",
              "\n",
              "    [theme=dark] .colab-df-convert:hover {\n",
              "      background-color: #434B5C;\n",
              "      box-shadow: 0px 1px 3px 1px rgba(0, 0, 0, 0.15);\n",
              "      filter: drop-shadow(0px 1px 2px rgba(0, 0, 0, 0.3));\n",
              "      fill: #FFFFFF;\n",
              "    }\n",
              "  </style>\n",
              "\n",
              "      <script>\n",
              "        const buttonEl =\n",
              "          document.querySelector('#df-39c5d0f2-3704-44dd-8b7e-dcd93a9059d7 button.colab-df-convert');\n",
              "        buttonEl.style.display =\n",
              "          google.colab.kernel.accessAllowed ? 'block' : 'none';\n",
              "\n",
              "        async function convertToInteractive(key) {\n",
              "          const element = document.querySelector('#df-39c5d0f2-3704-44dd-8b7e-dcd93a9059d7');\n",
              "          const dataTable =\n",
              "            await google.colab.kernel.invokeFunction('convertToInteractive',\n",
              "                                                     [key], {});\n",
              "          if (!dataTable) return;\n",
              "\n",
              "          const docLinkHtml = 'Like what you see? Visit the ' +\n",
              "            '<a target=\"_blank\" href=https://colab.research.google.com/notebooks/data_table.ipynb>data table notebook</a>'\n",
              "            + ' to learn more about interactive tables.';\n",
              "          element.innerHTML = '';\n",
              "          dataTable['output_type'] = 'display_data';\n",
              "          await google.colab.output.renderOutput(dataTable, element);\n",
              "          const docLink = document.createElement('div');\n",
              "          docLink.innerHTML = docLinkHtml;\n",
              "          element.appendChild(docLink);\n",
              "        }\n",
              "      </script>\n",
              "    </div>\n",
              "  </div>\n",
              "  "
            ]
          },
          "metadata": {},
          "execution_count": 84
        }
      ],
      "source": [
        "df"
      ]
    },
    {
      "cell_type": "code",
      "execution_count": 85,
      "metadata": {
        "id": "zwmfESni7gKn"
      },
      "outputs": [],
      "source": [
        "df['Date']=df.index"
      ]
    },
    {
      "cell_type": "code",
      "execution_count": 86,
      "metadata": {
        "id": "R6njdWuX7i6e"
      },
      "outputs": [],
      "source": [
        "start_date='2016-01-01'\n",
        "end_date='2020-12-31'\n",
        "mask=(df['Date']>=start_date)&(df['Date']<=end_date)"
      ]
    },
    {
      "cell_type": "code",
      "execution_count": 87,
      "metadata": {
        "id": "1gvhNCc_7lCh"
      },
      "outputs": [],
      "source": [
        "df=df.loc[mask]"
      ]
    },
    {
      "cell_type": "code",
      "execution_count": 88,
      "metadata": {
        "id": "H7T84rNE7lFn"
      },
      "outputs": [],
      "source": [
        "df=df.loc[mask]"
      ]
    },
    {
      "cell_type": "code",
      "execution_count": 89,
      "metadata": {
        "id": "KosKVO_j7lIn"
      },
      "outputs": [],
      "source": [
        "df=df.drop(columns=['Series','Symbol','Open','High','Low','Last','Close','VWAP','Volume','Turnover','Trades','Deliverable Volume','%Deliverble','Date'])"
      ]
    },
    {
      "cell_type": "code",
      "execution_count": 90,
      "metadata": {
        "id": "7YW96kEv7lLh"
      },
      "outputs": [],
      "source": [
        "Ntest=math.trunc(0.3*len(df))\n",
        "train=df.iloc[:-Ntest]\n",
        "test=df.iloc[-Ntest:]"
      ]
    },
    {
      "cell_type": "code",
      "execution_count": 91,
      "metadata": {
        "id": "NhwqMQ7r7lOX"
      },
      "outputs": [],
      "source": [
        "train_idx=df.index<=train.index[-1]\n",
        "test_idx=df.index>train.index[-1]"
      ]
    },
    {
      "cell_type": "code",
      "execution_count": 92,
      "metadata": {
        "id": "QtuPaMDJ7lQ_"
      },
      "outputs": [],
      "source": [
        "df['Diff Prev Close']=df['Prev Close'].diff()"
      ]
    },
    {
      "cell_type": "code",
      "execution_count": 93,
      "metadata": {
        "colab": {
          "base_uri": "https://localhost:8080/"
        },
        "id": "WJeTN9cL7tkq",
        "outputId": "011d7eb5-1119-416e-a30c-ce1a9188f58c"
      },
      "outputs": [
        {
          "output_type": "stream",
          "name": "stdout",
          "text": [
            "X.shape (1187, 50) Y.shape (1187,)\n"
          ]
        }
      ],
      "source": [
        "series=df['Diff Prev Close'].dropna().to_numpy()\n",
        "\n",
        "T=50\n",
        "X=[]\n",
        "Y=[]\n",
        "for t in range(len(series)-T):\n",
        "  x=series[t:t+T]\n",
        "  X.append(x)\n",
        "  y=series[t+T]\n",
        "  Y.append(y)\n",
        "\n",
        "X=np.array(X).reshape(-1,T)\n",
        "Y=np.array(Y)\n",
        "N=len(X)\n",
        "print(\"X.shape\",X.shape,\"Y.shape\",Y.shape)"
      ]
    },
    {
      "cell_type": "code",
      "execution_count": 94,
      "metadata": {
        "id": "dE1vSivZ7tn-"
      },
      "outputs": [],
      "source": [
        "Xtrain,Ytrain=X[:-Ntest],Y[:-Ntest]\n",
        "Xtest,Ytest=X[-Ntest:],Y[-Ntest:]"
      ]
    },
    {
      "cell_type": "markdown",
      "metadata": {
        "id": "Y6SYTxcf8HrV"
      },
      "source": [
        "Bi-LSTM"
      ]
    },
    {
      "cell_type": "code",
      "execution_count": 95,
      "metadata": {
        "colab": {
          "base_uri": "https://localhost:8080/"
        },
        "id": "uk3JcnRf7trE",
        "outputId": "91ecad7d-4f02-4e00-8c46-863e256818e5"
      },
      "outputs": [
        {
          "output_type": "stream",
          "name": "stdout",
          "text": [
            "Model: \"model_4\"\n",
            "_________________________________________________________________\n",
            " Layer (type)                Output Shape              Param #   \n",
            "=================================================================\n",
            " input_5 (InputLayer)        [(None, 50, 1)]           0         \n",
            "                                                                 \n",
            " bidirectional_8 (Bidirectio  (None, 50, 400)          323200    \n",
            " nal)                                                            \n",
            "                                                                 \n",
            " bidirectional_9 (Bidirectio  (None, 50, 400)          961600    \n",
            " nal)                                                            \n",
            "                                                                 \n",
            " global_max_pooling1d_4 (Glo  (None, 400)              0         \n",
            " balMaxPooling1D)                                                \n",
            "                                                                 \n",
            " dense_12 (Dense)            (None, 100)               40100     \n",
            "                                                                 \n",
            " dense_13 (Dense)            (None, 50)                5050      \n",
            "                                                                 \n",
            " dense_14 (Dense)            (None, 1)                 51        \n",
            "                                                                 \n",
            "=================================================================\n",
            "Total params: 1,330,001\n",
            "Trainable params: 1,330,001\n",
            "Non-trainable params: 0\n",
            "_________________________________________________________________\n"
          ]
        }
      ],
      "source": [
        "i=Input(shape=(T,1))\n",
        "x=Bidirectional(LSTM(200,return_sequences=True))(i)\n",
        "x=Bidirectional(LSTM(200,return_sequences=True))(x)\n",
        "x=GlobalMaxPool1D()(x)\n",
        "x=Dense(100)(x)\n",
        "x=Dense(50)(x)\n",
        "x=Dense(1)(x)\n",
        "model_bi_lstm=Model(i,x)\n",
        "model_bi_lstm.summary()"
      ]
    },
    {
      "cell_type": "code",
      "execution_count": 96,
      "metadata": {
        "id": "9NtxtRQm7tuD"
      },
      "outputs": [],
      "source": [
        "check_point_bi_lstm=ModelCheckpoint('best_model.h5',monitor='val_loss',save_best_only=True)"
      ]
    },
    {
      "cell_type": "code",
      "execution_count": 97,
      "metadata": {
        "id": "Tb0KBami7txT"
      },
      "outputs": [],
      "source": [
        "model_bi_lstm.compile(loss='mse',\n",
        "              optimizer='adamax',\n",
        "              metrics=['mae','mse'])"
      ]
    },
    {
      "cell_type": "code",
      "execution_count": 98,
      "metadata": {
        "colab": {
          "base_uri": "https://localhost:8080/"
        },
        "id": "Dl_RedqY7t0c",
        "outputId": "e72355fe-beee-4d6f-97e7-d1627d2f64a1"
      },
      "outputs": [
        {
          "output_type": "stream",
          "name": "stdout",
          "text": [
            "Epoch 1/100\n",
            "26/26 [==============================] - 27s 717ms/step - loss: 265.3671 - mae: 11.9627 - mse: 265.3671 - val_loss: 1591.2510 - val_mae: 25.4928 - val_mse: 1591.2510\n",
            "Epoch 2/100\n",
            "26/26 [==============================] - 18s 689ms/step - loss: 260.3511 - mae: 11.7794 - mse: 260.3511 - val_loss: 1589.6028 - val_mae: 25.5024 - val_mse: 1589.6028\n",
            "Epoch 3/100\n",
            "26/26 [==============================] - 17s 671ms/step - loss: 259.7397 - mae: 11.7631 - mse: 259.7397 - val_loss: 1588.2540 - val_mae: 25.5367 - val_mse: 1588.2540\n",
            "Epoch 4/100\n",
            "26/26 [==============================] - 18s 679ms/step - loss: 258.1136 - mae: 11.7087 - mse: 258.1136 - val_loss: 1586.7020 - val_mae: 25.5402 - val_mse: 1586.7020\n",
            "Epoch 5/100\n",
            "26/26 [==============================] - 17s 653ms/step - loss: 256.8552 - mae: 11.7093 - mse: 256.8552 - val_loss: 1588.1725 - val_mae: 25.4335 - val_mse: 1588.1725\n",
            "Epoch 6/100\n",
            "26/26 [==============================] - 18s 682ms/step - loss: 257.8546 - mae: 11.7348 - mse: 257.8546 - val_loss: 1585.4783 - val_mae: 25.4501 - val_mse: 1585.4783\n",
            "Epoch 7/100\n",
            "26/26 [==============================] - 17s 666ms/step - loss: 255.5787 - mae: 11.6765 - mse: 255.5787 - val_loss: 1583.0409 - val_mae: 25.4999 - val_mse: 1583.0409\n",
            "Epoch 8/100\n",
            "26/26 [==============================] - 17s 657ms/step - loss: 252.6590 - mae: 11.6347 - mse: 252.6590 - val_loss: 1586.0457 - val_mae: 25.4403 - val_mse: 1586.0457\n",
            "Epoch 9/100\n",
            "26/26 [==============================] - 17s 657ms/step - loss: 251.0600 - mae: 11.6043 - mse: 251.0600 - val_loss: 1579.8055 - val_mae: 25.4532 - val_mse: 1579.8055\n",
            "Epoch 10/100\n",
            "26/26 [==============================] - 17s 669ms/step - loss: 249.7868 - mae: 11.5938 - mse: 249.7868 - val_loss: 1581.8643 - val_mae: 25.4725 - val_mse: 1581.8643\n",
            "Epoch 11/100\n",
            "26/26 [==============================] - 17s 645ms/step - loss: 246.2837 - mae: 11.5611 - mse: 246.2837 - val_loss: 1589.8955 - val_mae: 25.5461 - val_mse: 1589.8955\n",
            "Epoch 12/100\n",
            "26/26 [==============================] - 17s 652ms/step - loss: 243.5965 - mae: 11.4945 - mse: 243.5965 - val_loss: 1579.3789 - val_mae: 25.6187 - val_mse: 1579.3789\n",
            "Epoch 13/100\n",
            "26/26 [==============================] - 17s 660ms/step - loss: 237.9608 - mae: 11.3685 - mse: 237.9608 - val_loss: 1580.5438 - val_mae: 25.7504 - val_mse: 1580.5438\n",
            "Epoch 14/100\n",
            "26/26 [==============================] - 17s 663ms/step - loss: 235.1834 - mae: 11.3454 - mse: 235.1834 - val_loss: 1610.7482 - val_mae: 25.8723 - val_mse: 1610.7482\n",
            "Epoch 15/100\n",
            "26/26 [==============================] - 17s 645ms/step - loss: 230.0071 - mae: 11.2581 - mse: 230.0071 - val_loss: 1596.4969 - val_mae: 25.7378 - val_mse: 1596.4969\n",
            "Epoch 16/100\n",
            "26/26 [==============================] - 17s 672ms/step - loss: 223.0421 - mae: 11.1862 - mse: 223.0421 - val_loss: 1631.5156 - val_mae: 26.1155 - val_mse: 1631.5156\n",
            "Epoch 17/100\n",
            "26/26 [==============================] - 18s 679ms/step - loss: 229.3341 - mae: 11.2810 - mse: 229.3341 - val_loss: 1595.2947 - val_mae: 26.0375 - val_mse: 1595.2947\n",
            "Epoch 18/100\n",
            "26/26 [==============================] - 17s 659ms/step - loss: 217.2108 - mae: 10.9583 - mse: 217.2108 - val_loss: 1632.5315 - val_mae: 26.2654 - val_mse: 1632.5315\n",
            "Epoch 19/100\n",
            "26/26 [==============================] - 17s 645ms/step - loss: 212.2162 - mae: 10.8810 - mse: 212.2162 - val_loss: 1618.5222 - val_mae: 26.5237 - val_mse: 1618.5222\n",
            "Epoch 20/100\n",
            "26/26 [==============================] - 17s 662ms/step - loss: 208.8366 - mae: 10.8266 - mse: 208.8366 - val_loss: 1642.1626 - val_mae: 26.4627 - val_mse: 1642.1626\n",
            "Epoch 21/100\n",
            "26/26 [==============================] - 16s 630ms/step - loss: 203.6891 - mae: 10.6251 - mse: 203.6891 - val_loss: 1735.7408 - val_mae: 27.1670 - val_mse: 1735.7408\n",
            "Epoch 22/100\n",
            "26/26 [==============================] - 17s 655ms/step - loss: 196.8972 - mae: 10.5209 - mse: 196.8972 - val_loss: 1677.1260 - val_mae: 26.8722 - val_mse: 1677.1260\n",
            "Epoch 23/100\n",
            "26/26 [==============================] - 17s 645ms/step - loss: 188.7829 - mae: 10.3302 - mse: 188.7829 - val_loss: 1718.9331 - val_mae: 27.9138 - val_mse: 1718.9331\n",
            "Epoch 24/100\n",
            "26/26 [==============================] - 17s 657ms/step - loss: 193.6268 - mae: 10.4336 - mse: 193.6268 - val_loss: 1743.6951 - val_mae: 27.8322 - val_mse: 1743.6951\n",
            "Epoch 25/100\n",
            "26/26 [==============================] - 17s 640ms/step - loss: 178.7897 - mae: 10.1161 - mse: 178.7897 - val_loss: 1795.2982 - val_mae: 28.0370 - val_mse: 1795.2982\n",
            "Epoch 26/100\n",
            "26/26 [==============================] - 17s 652ms/step - loss: 173.9914 - mae: 9.9590 - mse: 173.9914 - val_loss: 1814.6034 - val_mae: 28.2074 - val_mse: 1814.6034\n",
            "Epoch 27/100\n",
            "26/26 [==============================] - 17s 666ms/step - loss: 168.9118 - mae: 9.9274 - mse: 168.9118 - val_loss: 1824.2283 - val_mae: 28.6041 - val_mse: 1824.2283\n",
            "Epoch 28/100\n",
            "26/26 [==============================] - 17s 671ms/step - loss: 164.1448 - mae: 9.7253 - mse: 164.1448 - val_loss: 1874.9008 - val_mae: 29.1896 - val_mse: 1874.9008\n",
            "Epoch 29/100\n",
            "26/26 [==============================] - 17s 667ms/step - loss: 150.3769 - mae: 9.3781 - mse: 150.3769 - val_loss: 1934.8556 - val_mae: 29.2520 - val_mse: 1934.8556\n",
            "Epoch 30/100\n",
            "26/26 [==============================] - 18s 685ms/step - loss: 149.2359 - mae: 9.2299 - mse: 149.2359 - val_loss: 1967.4613 - val_mae: 29.8477 - val_mse: 1967.4613\n",
            "Epoch 31/100\n",
            "26/26 [==============================] - 17s 645ms/step - loss: 146.6202 - mae: 9.1225 - mse: 146.6202 - val_loss: 2033.6091 - val_mae: 30.3531 - val_mse: 2033.6091\n",
            "Epoch 32/100\n",
            "26/26 [==============================] - 17s 654ms/step - loss: 133.3318 - mae: 8.8195 - mse: 133.3318 - val_loss: 2066.7317 - val_mae: 31.2389 - val_mse: 2066.7317\n",
            "Epoch 33/100\n",
            "26/26 [==============================] - 18s 684ms/step - loss: 134.1628 - mae: 8.9223 - mse: 134.1628 - val_loss: 2113.0693 - val_mae: 30.9579 - val_mse: 2113.0693\n",
            "Epoch 34/100\n",
            "26/26 [==============================] - 17s 660ms/step - loss: 123.4376 - mae: 8.4373 - mse: 123.4376 - val_loss: 2300.6824 - val_mae: 32.8302 - val_mse: 2300.6824\n",
            "Epoch 35/100\n",
            "26/26 [==============================] - 17s 644ms/step - loss: 111.8053 - mae: 8.1062 - mse: 111.8053 - val_loss: 2364.4341 - val_mae: 33.0067 - val_mse: 2364.4341\n",
            "Epoch 36/100\n",
            "26/26 [==============================] - 17s 668ms/step - loss: 117.4653 - mae: 8.3649 - mse: 117.4653 - val_loss: 2299.0386 - val_mae: 32.8344 - val_mse: 2299.0386\n",
            "Epoch 37/100\n",
            "26/26 [==============================] - 17s 658ms/step - loss: 107.8502 - mae: 7.9964 - mse: 107.8502 - val_loss: 2282.6907 - val_mae: 32.7884 - val_mse: 2282.6907\n",
            "Epoch 38/100\n",
            "26/26 [==============================] - 17s 670ms/step - loss: 103.9113 - mae: 7.8737 - mse: 103.9113 - val_loss: 2460.9082 - val_mae: 33.2750 - val_mse: 2460.9082\n",
            "Epoch 39/100\n",
            "26/26 [==============================] - 17s 647ms/step - loss: 97.8850 - mae: 7.6200 - mse: 97.8850 - val_loss: 2486.6497 - val_mae: 34.0604 - val_mse: 2486.6497\n",
            "Epoch 40/100\n",
            "26/26 [==============================] - 17s 668ms/step - loss: 95.7375 - mae: 7.5371 - mse: 95.7375 - val_loss: 2534.0940 - val_mae: 34.6780 - val_mse: 2534.0940\n",
            "Epoch 41/100\n",
            "26/26 [==============================] - 17s 664ms/step - loss: 83.1715 - mae: 7.0900 - mse: 83.1715 - val_loss: 2804.9041 - val_mae: 36.4065 - val_mse: 2804.9041\n",
            "Epoch 42/100\n",
            "26/26 [==============================] - 17s 641ms/step - loss: 78.2127 - mae: 6.8418 - mse: 78.2127 - val_loss: 2683.8696 - val_mae: 35.7535 - val_mse: 2683.8696\n",
            "Epoch 43/100\n",
            "26/26 [==============================] - 17s 662ms/step - loss: 76.8054 - mae: 6.7312 - mse: 76.8054 - val_loss: 2595.2068 - val_mae: 34.9585 - val_mse: 2595.2068\n",
            "Epoch 44/100\n",
            "26/26 [==============================] - 17s 644ms/step - loss: 71.2104 - mae: 6.5876 - mse: 71.2104 - val_loss: 2787.3125 - val_mae: 36.7331 - val_mse: 2787.3125\n",
            "Epoch 45/100\n",
            "26/26 [==============================] - 17s 656ms/step - loss: 76.4778 - mae: 6.7705 - mse: 76.4778 - val_loss: 2843.6135 - val_mae: 36.6579 - val_mse: 2843.6135\n",
            "Epoch 46/100\n",
            "26/26 [==============================] - 17s 663ms/step - loss: 59.1200 - mae: 5.9243 - mse: 59.1200 - val_loss: 2967.3433 - val_mae: 37.3687 - val_mse: 2967.3433\n",
            "Epoch 47/100\n",
            "26/26 [==============================] - 17s 648ms/step - loss: 68.5373 - mae: 6.3934 - mse: 68.5373 - val_loss: 2646.3391 - val_mae: 36.1723 - val_mse: 2646.3391\n",
            "Epoch 48/100\n",
            "26/26 [==============================] - 17s 663ms/step - loss: 67.3844 - mae: 6.4438 - mse: 67.3844 - val_loss: 2917.0159 - val_mae: 37.2996 - val_mse: 2917.0159\n",
            "Epoch 49/100\n",
            "26/26 [==============================] - 17s 651ms/step - loss: 56.4734 - mae: 5.7700 - mse: 56.4734 - val_loss: 2948.9790 - val_mae: 37.6801 - val_mse: 2948.9790\n",
            "Epoch 50/100\n",
            "26/26 [==============================] - 17s 668ms/step - loss: 57.0108 - mae: 5.7769 - mse: 57.0108 - val_loss: 2944.6523 - val_mae: 37.2588 - val_mse: 2944.6523\n",
            "Epoch 51/100\n",
            "26/26 [==============================] - 17s 662ms/step - loss: 48.0862 - mae: 5.4600 - mse: 48.0862 - val_loss: 2970.9045 - val_mae: 37.2041 - val_mse: 2970.9045\n",
            "Epoch 52/100\n",
            "26/26 [==============================] - 17s 667ms/step - loss: 48.5007 - mae: 5.4197 - mse: 48.5007 - val_loss: 2810.1655 - val_mae: 36.3778 - val_mse: 2810.1655\n",
            "Epoch 53/100\n",
            "26/26 [==============================] - 17s 651ms/step - loss: 48.8825 - mae: 5.5498 - mse: 48.8825 - val_loss: 3064.7861 - val_mae: 38.2060 - val_mse: 3064.7861\n",
            "Epoch 54/100\n",
            "26/26 [==============================] - 17s 662ms/step - loss: 47.3515 - mae: 5.3629 - mse: 47.3515 - val_loss: 2843.3469 - val_mae: 36.9664 - val_mse: 2843.3469\n",
            "Epoch 55/100\n",
            "26/26 [==============================] - 17s 651ms/step - loss: 36.0088 - mae: 4.6212 - mse: 36.0088 - val_loss: 3061.5417 - val_mae: 38.6777 - val_mse: 3061.5417\n",
            "Epoch 56/100\n",
            "26/26 [==============================] - 17s 659ms/step - loss: 30.5296 - mae: 4.2798 - mse: 30.5296 - val_loss: 3060.4805 - val_mae: 38.4954 - val_mse: 3060.4805\n",
            "Epoch 57/100\n",
            "26/26 [==============================] - 18s 677ms/step - loss: 33.2269 - mae: 4.3881 - mse: 33.2269 - val_loss: 3074.4985 - val_mae: 38.4879 - val_mse: 3074.4985\n",
            "Epoch 58/100\n",
            "26/26 [==============================] - 17s 667ms/step - loss: 33.9437 - mae: 4.4853 - mse: 33.9437 - val_loss: 3062.8591 - val_mae: 38.4043 - val_mse: 3062.8591\n",
            "Epoch 59/100\n",
            "26/26 [==============================] - 18s 674ms/step - loss: 32.7188 - mae: 4.3719 - mse: 32.7188 - val_loss: 2985.9915 - val_mae: 37.7133 - val_mse: 2985.9915\n",
            "Epoch 60/100\n",
            "26/26 [==============================] - 17s 664ms/step - loss: 29.1212 - mae: 4.1920 - mse: 29.1212 - val_loss: 3156.9333 - val_mae: 38.7911 - val_mse: 3156.9333\n",
            "Epoch 61/100\n",
            "26/26 [==============================] - 17s 651ms/step - loss: 28.2239 - mae: 4.0586 - mse: 28.2239 - val_loss: 3215.0095 - val_mae: 39.2137 - val_mse: 3215.0095\n",
            "Epoch 62/100\n",
            "26/26 [==============================] - 18s 675ms/step - loss: 26.6204 - mae: 3.9662 - mse: 26.6204 - val_loss: 3171.5681 - val_mae: 38.8173 - val_mse: 3171.5681\n",
            "Epoch 63/100\n",
            "26/26 [==============================] - 17s 638ms/step - loss: 32.3079 - mae: 4.3866 - mse: 32.3079 - val_loss: 3079.2400 - val_mae: 38.2819 - val_mse: 3079.2400\n",
            "Epoch 64/100\n",
            "26/26 [==============================] - 17s 665ms/step - loss: 28.7888 - mae: 4.1328 - mse: 28.7888 - val_loss: 3157.5950 - val_mae: 38.9502 - val_mse: 3157.5950\n",
            "Epoch 65/100\n",
            "26/26 [==============================] - 17s 656ms/step - loss: 27.2640 - mae: 4.1701 - mse: 27.2640 - val_loss: 3013.2622 - val_mae: 38.0520 - val_mse: 3013.2622\n",
            "Epoch 66/100\n",
            "26/26 [==============================] - 17s 645ms/step - loss: 19.1408 - mae: 3.4374 - mse: 19.1408 - val_loss: 3081.4888 - val_mae: 38.5510 - val_mse: 3081.4888\n",
            "Epoch 67/100\n",
            "26/26 [==============================] - 17s 639ms/step - loss: 18.3011 - mae: 3.2679 - mse: 18.3011 - val_loss: 3195.1914 - val_mae: 39.2231 - val_mse: 3195.1914\n",
            "Epoch 68/100\n",
            "26/26 [==============================] - 17s 640ms/step - loss: 16.3311 - mae: 3.0975 - mse: 16.3311 - val_loss: 3155.6018 - val_mae: 39.1353 - val_mse: 3155.6018\n",
            "Epoch 69/100\n",
            "26/26 [==============================] - 17s 667ms/step - loss: 16.6456 - mae: 3.1365 - mse: 16.6456 - val_loss: 3159.5098 - val_mae: 39.2106 - val_mse: 3159.5098\n",
            "Epoch 70/100\n",
            "26/26 [==============================] - 17s 663ms/step - loss: 13.1192 - mae: 2.7937 - mse: 13.1192 - val_loss: 3160.9536 - val_mae: 39.2198 - val_mse: 3160.9536\n",
            "Epoch 71/100\n",
            "26/26 [==============================] - 17s 670ms/step - loss: 13.0036 - mae: 2.8029 - mse: 13.0036 - val_loss: 3130.2422 - val_mae: 38.9842 - val_mse: 3130.2422\n",
            "Epoch 72/100\n",
            "26/26 [==============================] - 17s 665ms/step - loss: 13.7453 - mae: 2.8220 - mse: 13.7453 - val_loss: 3117.6062 - val_mae: 38.9254 - val_mse: 3117.6062\n",
            "Epoch 73/100\n",
            "26/26 [==============================] - 17s 661ms/step - loss: 12.6544 - mae: 2.7750 - mse: 12.6544 - val_loss: 3067.1738 - val_mae: 38.5019 - val_mse: 3067.1738\n",
            "Epoch 74/100\n",
            "26/26 [==============================] - 17s 667ms/step - loss: 14.4834 - mae: 2.9966 - mse: 14.4834 - val_loss: 3259.0691 - val_mae: 39.9501 - val_mse: 3259.0691\n",
            "Epoch 75/100\n",
            "26/26 [==============================] - 17s 657ms/step - loss: 20.5533 - mae: 3.6367 - mse: 20.5533 - val_loss: 3010.5996 - val_mae: 38.0972 - val_mse: 3010.5996\n",
            "Epoch 76/100\n",
            "26/26 [==============================] - 17s 670ms/step - loss: 20.5448 - mae: 3.5244 - mse: 20.5448 - val_loss: 3001.1836 - val_mae: 38.3462 - val_mse: 3001.1836\n",
            "Epoch 77/100\n",
            "26/26 [==============================] - 17s 667ms/step - loss: 19.1994 - mae: 3.4085 - mse: 19.1994 - val_loss: 3112.8416 - val_mae: 39.0712 - val_mse: 3112.8416\n",
            "Epoch 78/100\n",
            "26/26 [==============================] - 18s 677ms/step - loss: 17.5727 - mae: 3.2113 - mse: 17.5727 - val_loss: 3088.7627 - val_mae: 39.0128 - val_mse: 3088.7627\n",
            "Epoch 79/100\n",
            "26/26 [==============================] - 17s 661ms/step - loss: 15.1712 - mae: 2.9930 - mse: 15.1712 - val_loss: 2923.6926 - val_mae: 38.0089 - val_mse: 2923.6926\n",
            "Epoch 80/100\n",
            "26/26 [==============================] - 18s 676ms/step - loss: 19.0187 - mae: 3.4372 - mse: 19.0187 - val_loss: 2945.7107 - val_mae: 38.2078 - val_mse: 2945.7107\n",
            "Epoch 81/100\n",
            "26/26 [==============================] - 17s 669ms/step - loss: 17.8720 - mae: 3.2804 - mse: 17.8720 - val_loss: 3068.3904 - val_mae: 38.5584 - val_mse: 3068.3904\n",
            "Epoch 82/100\n",
            "26/26 [==============================] - 18s 678ms/step - loss: 17.7401 - mae: 3.4102 - mse: 17.7401 - val_loss: 3057.6421 - val_mae: 38.4905 - val_mse: 3057.6421\n",
            "Epoch 83/100\n",
            "26/26 [==============================] - 17s 663ms/step - loss: 22.5675 - mae: 3.7858 - mse: 22.5675 - val_loss: 2893.1943 - val_mae: 37.2790 - val_mse: 2893.1943\n",
            "Epoch 84/100\n",
            "26/26 [==============================] - 18s 678ms/step - loss: 14.1511 - mae: 2.9637 - mse: 14.1511 - val_loss: 3051.3611 - val_mae: 38.1835 - val_mse: 3051.3611\n",
            "Epoch 85/100\n",
            "26/26 [==============================] - 18s 685ms/step - loss: 14.8345 - mae: 3.0470 - mse: 14.8345 - val_loss: 2992.3396 - val_mae: 38.6521 - val_mse: 2992.3396\n",
            "Epoch 86/100\n",
            "26/26 [==============================] - 17s 656ms/step - loss: 11.9586 - mae: 2.7081 - mse: 11.9586 - val_loss: 3111.3979 - val_mae: 38.7926 - val_mse: 3111.3979\n",
            "Epoch 87/100\n",
            "26/26 [==============================] - 18s 684ms/step - loss: 8.8227 - mae: 2.3154 - mse: 8.8227 - val_loss: 3084.2622 - val_mae: 39.0620 - val_mse: 3084.2622\n",
            "Epoch 88/100\n",
            "26/26 [==============================] - 17s 671ms/step - loss: 7.8515 - mae: 2.1882 - mse: 7.8515 - val_loss: 3016.0620 - val_mae: 38.7160 - val_mse: 3016.0620\n",
            "Epoch 89/100\n",
            "26/26 [==============================] - 18s 681ms/step - loss: 8.7395 - mae: 2.3383 - mse: 8.7395 - val_loss: 2983.8982 - val_mae: 38.1687 - val_mse: 2983.8982\n",
            "Epoch 90/100\n",
            "26/26 [==============================] - 18s 680ms/step - loss: 7.6521 - mae: 2.1486 - mse: 7.6521 - val_loss: 3041.5364 - val_mae: 38.2337 - val_mse: 3041.5364\n",
            "Epoch 91/100\n",
            "26/26 [==============================] - 17s 658ms/step - loss: 11.7632 - mae: 2.6703 - mse: 11.7632 - val_loss: 2877.8123 - val_mae: 36.9096 - val_mse: 2877.8123\n",
            "Epoch 92/100\n",
            "26/26 [==============================] - 17s 664ms/step - loss: 10.3975 - mae: 2.5556 - mse: 10.3975 - val_loss: 3073.6526 - val_mae: 38.6411 - val_mse: 3073.6526\n",
            "Epoch 93/100\n",
            "26/26 [==============================] - 17s 666ms/step - loss: 11.4420 - mae: 2.6157 - mse: 11.4420 - val_loss: 2868.5681 - val_mae: 37.2122 - val_mse: 2868.5681\n",
            "Epoch 94/100\n",
            "26/26 [==============================] - 17s 671ms/step - loss: 10.0634 - mae: 2.4448 - mse: 10.0634 - val_loss: 3127.2329 - val_mae: 38.9374 - val_mse: 3127.2329\n",
            "Epoch 95/100\n",
            "26/26 [==============================] - 18s 685ms/step - loss: 10.1897 - mae: 2.4985 - mse: 10.1897 - val_loss: 2899.1409 - val_mae: 37.0657 - val_mse: 2899.1409\n",
            "Epoch 96/100\n",
            "26/26 [==============================] - 17s 675ms/step - loss: 10.5417 - mae: 2.5287 - mse: 10.5417 - val_loss: 2948.8669 - val_mae: 38.0361 - val_mse: 2948.8669\n",
            "Epoch 97/100\n",
            "26/26 [==============================] - 17s 670ms/step - loss: 12.1845 - mae: 2.6659 - mse: 12.1845 - val_loss: 2762.9231 - val_mae: 36.6642 - val_mse: 2762.9231\n",
            "Epoch 98/100\n",
            "26/26 [==============================] - 18s 686ms/step - loss: 15.6944 - mae: 3.1566 - mse: 15.6944 - val_loss: 2864.7285 - val_mae: 37.2080 - val_mse: 2864.7285\n",
            "Epoch 99/100\n",
            "26/26 [==============================] - 18s 686ms/step - loss: 15.5461 - mae: 3.1120 - mse: 15.5461 - val_loss: 2770.4270 - val_mae: 36.8122 - val_mse: 2770.4270\n",
            "Epoch 100/100\n",
            "26/26 [==============================] - 18s 684ms/step - loss: 12.4942 - mae: 2.7190 - mse: 12.4942 - val_loss: 2937.9709 - val_mae: 37.8218 - val_mse: 2937.9709\n"
          ]
        }
      ],
      "source": [
        "r=model_bi_lstm.fit(\n",
        "    Xtrain,\n",
        "    Ytrain,\n",
        "    epochs=100,\n",
        "    validation_data=(Xtest,Ytest),\n",
        "    callbacks=[check_point_bi_lstm]\n",
        ")"
      ]
    },
    {
      "cell_type": "markdown",
      "metadata": {
        "id": "8AVWuHEeDrUU"
      },
      "source": [
        "Bi-directional GRU"
      ]
    },
    {
      "cell_type": "code",
      "execution_count": 99,
      "metadata": {
        "colab": {
          "base_uri": "https://localhost:8080/"
        },
        "id": "cUHtZz0A7t3k",
        "outputId": "a047999c-5120-4d44-ec74-c44dbd1ed7df"
      },
      "outputs": [
        {
          "output_type": "stream",
          "name": "stdout",
          "text": [
            "Model: \"model_5\"\n",
            "_________________________________________________________________\n",
            " Layer (type)                Output Shape              Param #   \n",
            "=================================================================\n",
            " input_6 (InputLayer)        [(None, 50, 1)]           0         \n",
            "                                                                 \n",
            " bidirectional_10 (Bidirecti  (None, 50, 400)          243600    \n",
            " onal)                                                           \n",
            "                                                                 \n",
            " bidirectional_11 (Bidirecti  (None, 50, 400)          722400    \n",
            " onal)                                                           \n",
            "                                                                 \n",
            " global_max_pooling1d_5 (Glo  (None, 400)              0         \n",
            " balMaxPooling1D)                                                \n",
            "                                                                 \n",
            " dense_15 (Dense)            (None, 100)               40100     \n",
            "                                                                 \n",
            " dense_16 (Dense)            (None, 50)                5050      \n",
            "                                                                 \n",
            " dense_17 (Dense)            (None, 1)                 51        \n",
            "                                                                 \n",
            "=================================================================\n",
            "Total params: 1,011,201\n",
            "Trainable params: 1,011,201\n",
            "Non-trainable params: 0\n",
            "_________________________________________________________________\n"
          ]
        }
      ],
      "source": [
        "i=Input(shape=(T,1))\n",
        "x=Bidirectional(GRU(200,return_sequences=True))(i)\n",
        "x=Bidirectional(GRU(200,return_sequences=True))(x)\n",
        "x=GlobalMaxPool1D()(x)\n",
        "x=Dense(100)(x)\n",
        "x=Dense(50)(x)\n",
        "x=Dense(1)(x)\n",
        "model_bi_gru=Model(i,x)\n",
        "model_bi_gru.summary()"
      ]
    },
    {
      "cell_type": "code",
      "execution_count": 100,
      "metadata": {
        "id": "31j89DK6DqGT"
      },
      "outputs": [],
      "source": [
        "check_point_bi_gru=ModelCheckpoint('best_model.h5',monitor='val_loss',save_best_only=True)"
      ]
    },
    {
      "cell_type": "code",
      "execution_count": 101,
      "metadata": {
        "id": "e0_x1t5JDqJK"
      },
      "outputs": [],
      "source": [
        "model_bi_gru.compile(loss='mse',\n",
        "              optimizer='adamax',\n",
        "              metrics=['mae','mse'])"
      ]
    },
    {
      "cell_type": "code",
      "execution_count": 102,
      "metadata": {
        "colab": {
          "base_uri": "https://localhost:8080/"
        },
        "id": "fu63FFgDDqMS",
        "outputId": "1098a572-8ec8-4128-e92b-a067ff25a5e9"
      },
      "outputs": [
        {
          "output_type": "stream",
          "name": "stdout",
          "text": [
            "Epoch 1/100\n",
            "26/26 [==============================] - 24s 609ms/step - loss: 268.9261 - mae: 12.0799 - mse: 268.9261 - val_loss: 1591.4558 - val_mae: 25.5117 - val_mse: 1591.4558\n",
            "Epoch 2/100\n",
            "26/26 [==============================] - 14s 550ms/step - loss: 260.4934 - mae: 11.7903 - mse: 260.4934 - val_loss: 1590.8230 - val_mae: 25.4418 - val_mse: 1590.8230\n",
            "Epoch 3/100\n",
            "26/26 [==============================] - 14s 549ms/step - loss: 260.5771 - mae: 11.7907 - mse: 260.5771 - val_loss: 1589.1255 - val_mae: 25.5313 - val_mse: 1589.1255\n",
            "Epoch 4/100\n",
            "26/26 [==============================] - 14s 545ms/step - loss: 258.7004 - mae: 11.7397 - mse: 258.7004 - val_loss: 1588.7283 - val_mae: 25.5454 - val_mse: 1588.7283\n",
            "Epoch 5/100\n",
            "26/26 [==============================] - 14s 532ms/step - loss: 257.7689 - mae: 11.7545 - mse: 257.7689 - val_loss: 1590.4747 - val_mae: 25.4308 - val_mse: 1590.4747\n",
            "Epoch 6/100\n",
            "26/26 [==============================] - 14s 534ms/step - loss: 259.0121 - mae: 11.7831 - mse: 259.0121 - val_loss: 1589.8160 - val_mae: 25.4180 - val_mse: 1589.8160\n",
            "Epoch 7/100\n",
            "26/26 [==============================] - 14s 553ms/step - loss: 257.8306 - mae: 11.7653 - mse: 257.8306 - val_loss: 1586.4432 - val_mae: 25.4923 - val_mse: 1586.4432\n",
            "Epoch 8/100\n",
            "26/26 [==============================] - 14s 544ms/step - loss: 254.0008 - mae: 11.6764 - mse: 254.0008 - val_loss: 1587.4655 - val_mae: 25.3957 - val_mse: 1587.4655\n",
            "Epoch 9/100\n",
            "26/26 [==============================] - 14s 537ms/step - loss: 252.5330 - mae: 11.6676 - mse: 252.5330 - val_loss: 1585.4312 - val_mae: 25.3738 - val_mse: 1585.4312\n",
            "Epoch 10/100\n",
            "26/26 [==============================] - 14s 555ms/step - loss: 251.2569 - mae: 11.6334 - mse: 251.2569 - val_loss: 1582.7219 - val_mae: 25.3864 - val_mse: 1582.7219\n",
            "Epoch 11/100\n",
            "26/26 [==============================] - 14s 551ms/step - loss: 247.8398 - mae: 11.6367 - mse: 247.8398 - val_loss: 1594.4801 - val_mae: 25.4197 - val_mse: 1594.4801\n",
            "Epoch 12/100\n",
            "26/26 [==============================] - 14s 544ms/step - loss: 245.6806 - mae: 11.5701 - mse: 245.6806 - val_loss: 1583.5416 - val_mae: 25.4156 - val_mse: 1583.5416\n",
            "Epoch 13/100\n",
            "26/26 [==============================] - 14s 533ms/step - loss: 240.5243 - mae: 11.4810 - mse: 240.5243 - val_loss: 1584.5240 - val_mae: 25.5302 - val_mse: 1584.5240\n",
            "Epoch 14/100\n",
            "26/26 [==============================] - 14s 541ms/step - loss: 238.6309 - mae: 11.5023 - mse: 238.6309 - val_loss: 1618.6058 - val_mae: 25.7194 - val_mse: 1618.6058\n",
            "Epoch 15/100\n",
            "26/26 [==============================] - 14s 554ms/step - loss: 236.1530 - mae: 11.4584 - mse: 236.1530 - val_loss: 1592.1475 - val_mae: 25.3803 - val_mse: 1592.1475\n",
            "Epoch 16/100\n",
            "26/26 [==============================] - 14s 558ms/step - loss: 230.4758 - mae: 11.3677 - mse: 230.4758 - val_loss: 1612.0389 - val_mae: 25.6200 - val_mse: 1612.0389\n",
            "Epoch 17/100\n",
            "26/26 [==============================] - 14s 534ms/step - loss: 234.9056 - mae: 11.4646 - mse: 234.9056 - val_loss: 1585.8700 - val_mae: 25.6108 - val_mse: 1585.8700\n",
            "Epoch 18/100\n",
            "26/26 [==============================] - 14s 554ms/step - loss: 228.8661 - mae: 11.2797 - mse: 228.8661 - val_loss: 1612.7722 - val_mae: 25.6467 - val_mse: 1612.7722\n",
            "Epoch 19/100\n",
            "26/26 [==============================] - 14s 555ms/step - loss: 225.8565 - mae: 11.1866 - mse: 225.8565 - val_loss: 1588.7532 - val_mae: 25.4475 - val_mse: 1588.7532\n",
            "Epoch 20/100\n",
            "26/26 [==============================] - 14s 542ms/step - loss: 224.4132 - mae: 11.2438 - mse: 224.4132 - val_loss: 1598.1143 - val_mae: 25.5776 - val_mse: 1598.1143\n",
            "Epoch 21/100\n",
            "26/26 [==============================] - 15s 565ms/step - loss: 222.5202 - mae: 11.1863 - mse: 222.5202 - val_loss: 1650.9161 - val_mae: 25.9504 - val_mse: 1650.9161\n",
            "Epoch 22/100\n",
            "26/26 [==============================] - 14s 552ms/step - loss: 221.5783 - mae: 11.0833 - mse: 221.5783 - val_loss: 1609.0972 - val_mae: 25.4796 - val_mse: 1609.0972\n",
            "Epoch 23/100\n",
            "26/26 [==============================] - 14s 551ms/step - loss: 211.7991 - mae: 10.9343 - mse: 211.7991 - val_loss: 1618.6675 - val_mae: 25.8258 - val_mse: 1618.6675\n",
            "Epoch 24/100\n",
            "26/26 [==============================] - 14s 545ms/step - loss: 212.3859 - mae: 10.9193 - mse: 212.3859 - val_loss: 1632.2634 - val_mae: 25.9578 - val_mse: 1632.2634\n",
            "Epoch 25/100\n",
            "26/26 [==============================] - 14s 539ms/step - loss: 206.7958 - mae: 10.8058 - mse: 206.7958 - val_loss: 1620.5653 - val_mae: 25.7449 - val_mse: 1620.5653\n",
            "Epoch 26/100\n",
            "26/26 [==============================] - 14s 529ms/step - loss: 201.0477 - mae: 10.6590 - mse: 201.0477 - val_loss: 1640.9102 - val_mae: 25.8298 - val_mse: 1640.9102\n",
            "Epoch 27/100\n",
            "26/26 [==============================] - 14s 538ms/step - loss: 196.3937 - mae: 10.6245 - mse: 196.3937 - val_loss: 1655.1034 - val_mae: 26.1865 - val_mse: 1655.1034\n",
            "Epoch 28/100\n",
            "26/26 [==============================] - 14s 543ms/step - loss: 193.8693 - mae: 10.5332 - mse: 193.8693 - val_loss: 1658.3958 - val_mae: 26.1766 - val_mse: 1658.3958\n",
            "Epoch 29/100\n",
            "26/26 [==============================] - 14s 533ms/step - loss: 183.2737 - mae: 10.3075 - mse: 183.2737 - val_loss: 1692.1219 - val_mae: 26.0554 - val_mse: 1692.1218\n",
            "Epoch 30/100\n",
            "26/26 [==============================] - 14s 547ms/step - loss: 176.9032 - mae: 10.1101 - mse: 176.9032 - val_loss: 1700.4456 - val_mae: 26.4233 - val_mse: 1700.4456\n",
            "Epoch 31/100\n",
            "26/26 [==============================] - 14s 547ms/step - loss: 173.9993 - mae: 9.9436 - mse: 173.9993 - val_loss: 1748.3665 - val_mae: 26.6173 - val_mse: 1748.3665\n",
            "Epoch 32/100\n",
            "26/26 [==============================] - 14s 542ms/step - loss: 168.4225 - mae: 9.9349 - mse: 168.4225 - val_loss: 1727.6832 - val_mae: 26.8589 - val_mse: 1727.6832\n",
            "Epoch 33/100\n",
            "26/26 [==============================] - 14s 541ms/step - loss: 163.1689 - mae: 9.8365 - mse: 163.1689 - val_loss: 1775.4650 - val_mae: 26.8335 - val_mse: 1775.4650\n",
            "Epoch 34/100\n",
            "26/26 [==============================] - 14s 557ms/step - loss: 153.4664 - mae: 9.4790 - mse: 153.4664 - val_loss: 1835.7717 - val_mae: 27.2187 - val_mse: 1835.7717\n",
            "Epoch 35/100\n",
            "26/26 [==============================] - 14s 549ms/step - loss: 147.0315 - mae: 9.2766 - mse: 147.0315 - val_loss: 1966.8741 - val_mae: 28.6161 - val_mse: 1966.8741\n",
            "Epoch 36/100\n",
            "26/26 [==============================] - 14s 555ms/step - loss: 149.1036 - mae: 9.3588 - mse: 149.1036 - val_loss: 1960.0319 - val_mae: 27.9853 - val_mse: 1960.0319\n",
            "Epoch 37/100\n",
            "26/26 [==============================] - 14s 543ms/step - loss: 132.9908 - mae: 9.0065 - mse: 132.9908 - val_loss: 1894.3013 - val_mae: 28.2194 - val_mse: 1894.3013\n",
            "Epoch 38/100\n",
            "26/26 [==============================] - 15s 561ms/step - loss: 135.9666 - mae: 8.9865 - mse: 135.9666 - val_loss: 1928.9792 - val_mae: 27.2867 - val_mse: 1928.9792\n",
            "Epoch 39/100\n",
            "26/26 [==============================] - 14s 542ms/step - loss: 127.6407 - mae: 8.8031 - mse: 127.6407 - val_loss: 1996.6617 - val_mae: 28.2621 - val_mse: 1996.6617\n",
            "Epoch 40/100\n",
            "26/26 [==============================] - 14s 548ms/step - loss: 119.5616 - mae: 8.5456 - mse: 119.5616 - val_loss: 1956.8046 - val_mae: 28.0571 - val_mse: 1956.8046\n",
            "Epoch 41/100\n",
            "26/26 [==============================] - 14s 550ms/step - loss: 105.0227 - mae: 7.9960 - mse: 105.0227 - val_loss: 2198.1584 - val_mae: 30.1550 - val_mse: 2198.1584\n",
            "Epoch 42/100\n",
            "26/26 [==============================] - 14s 547ms/step - loss: 97.5944 - mae: 7.7608 - mse: 97.5944 - val_loss: 2137.6541 - val_mae: 29.5517 - val_mse: 2137.6541\n",
            "Epoch 43/100\n",
            "26/26 [==============================] - 14s 555ms/step - loss: 94.0543 - mae: 7.6296 - mse: 94.0543 - val_loss: 2180.8198 - val_mae: 29.5278 - val_mse: 2180.8198\n",
            "Epoch 44/100\n",
            "26/26 [==============================] - 14s 528ms/step - loss: 94.0613 - mae: 7.6818 - mse: 94.0613 - val_loss: 2290.8860 - val_mae: 30.9083 - val_mse: 2290.8860\n",
            "Epoch 45/100\n",
            "26/26 [==============================] - 14s 542ms/step - loss: 86.3239 - mae: 7.3520 - mse: 86.3239 - val_loss: 2232.2908 - val_mae: 30.0092 - val_mse: 2232.2908\n",
            "Epoch 46/100\n",
            "26/26 [==============================] - 14s 550ms/step - loss: 80.0569 - mae: 7.0101 - mse: 80.0569 - val_loss: 2252.7327 - val_mae: 30.3378 - val_mse: 2252.7327\n",
            "Epoch 47/100\n",
            "26/26 [==============================] - 14s 533ms/step - loss: 80.5332 - mae: 7.1330 - mse: 80.5332 - val_loss: 2209.8237 - val_mae: 29.7684 - val_mse: 2209.8237\n",
            "Epoch 48/100\n",
            "26/26 [==============================] - 14s 548ms/step - loss: 70.2946 - mae: 6.5894 - mse: 70.2946 - val_loss: 2305.2590 - val_mae: 30.7159 - val_mse: 2305.2590\n",
            "Epoch 49/100\n",
            "26/26 [==============================] - 14s 550ms/step - loss: 63.7136 - mae: 6.2900 - mse: 63.7136 - val_loss: 2156.5535 - val_mae: 29.6822 - val_mse: 2156.5535\n",
            "Epoch 50/100\n",
            "26/26 [==============================] - 14s 534ms/step - loss: 65.9072 - mae: 6.4284 - mse: 65.9072 - val_loss: 2290.8325 - val_mae: 30.5396 - val_mse: 2290.8325\n",
            "Epoch 51/100\n",
            "26/26 [==============================] - 14s 544ms/step - loss: 63.9339 - mae: 6.3091 - mse: 63.9339 - val_loss: 2430.3811 - val_mae: 31.5706 - val_mse: 2430.3811\n",
            "Epoch 52/100\n",
            "26/26 [==============================] - 14s 532ms/step - loss: 55.2970 - mae: 5.8704 - mse: 55.2970 - val_loss: 2297.5491 - val_mae: 30.3872 - val_mse: 2297.5491\n",
            "Epoch 53/100\n",
            "26/26 [==============================] - 14s 534ms/step - loss: 53.1212 - mae: 5.7624 - mse: 53.1212 - val_loss: 2351.5776 - val_mae: 31.1839 - val_mse: 2351.5776\n",
            "Epoch 54/100\n",
            "26/26 [==============================] - 14s 549ms/step - loss: 45.2280 - mae: 5.2905 - mse: 45.2280 - val_loss: 2438.8933 - val_mae: 31.7946 - val_mse: 2438.8933\n",
            "Epoch 55/100\n",
            "26/26 [==============================] - 14s 527ms/step - loss: 42.0784 - mae: 5.0744 - mse: 42.0784 - val_loss: 2533.0767 - val_mae: 32.7453 - val_mse: 2533.0767\n",
            "Epoch 56/100\n",
            "26/26 [==============================] - 14s 545ms/step - loss: 45.4444 - mae: 5.3334 - mse: 45.4444 - val_loss: 2463.3208 - val_mae: 32.1266 - val_mse: 2463.3208\n",
            "Epoch 57/100\n",
            "26/26 [==============================] - 14s 543ms/step - loss: 35.9751 - mae: 4.8167 - mse: 35.9751 - val_loss: 2396.6287 - val_mae: 31.4130 - val_mse: 2396.6287\n",
            "Epoch 58/100\n",
            "26/26 [==============================] - 14s 537ms/step - loss: 38.7470 - mae: 4.9644 - mse: 38.7470 - val_loss: 2481.5164 - val_mae: 32.2841 - val_mse: 2481.5164\n",
            "Epoch 59/100\n",
            "26/26 [==============================] - 14s 550ms/step - loss: 39.2575 - mae: 5.0242 - mse: 39.2575 - val_loss: 2424.1313 - val_mae: 31.8981 - val_mse: 2424.1313\n",
            "Epoch 60/100\n",
            "26/26 [==============================] - 14s 549ms/step - loss: 40.8508 - mae: 5.1035 - mse: 40.8508 - val_loss: 2577.9741 - val_mae: 33.2894 - val_mse: 2577.9741\n",
            "Epoch 61/100\n",
            "26/26 [==============================] - 14s 551ms/step - loss: 29.3786 - mae: 4.2384 - mse: 29.3786 - val_loss: 2655.9448 - val_mae: 33.4485 - val_mse: 2655.9448\n",
            "Epoch 62/100\n",
            "26/26 [==============================] - 14s 545ms/step - loss: 22.6193 - mae: 3.7507 - mse: 22.6193 - val_loss: 2547.4724 - val_mae: 32.8326 - val_mse: 2547.4724\n",
            "Epoch 63/100\n",
            "26/26 [==============================] - 14s 550ms/step - loss: 27.0766 - mae: 4.1786 - mse: 27.0766 - val_loss: 2643.8325 - val_mae: 33.5054 - val_mse: 2643.8325\n",
            "Epoch 64/100\n",
            "26/26 [==============================] - 14s 540ms/step - loss: 21.5856 - mae: 3.6085 - mse: 21.5856 - val_loss: 2641.8340 - val_mae: 33.7446 - val_mse: 2641.8340\n",
            "Epoch 65/100\n",
            "26/26 [==============================] - 14s 558ms/step - loss: 19.2593 - mae: 3.4973 - mse: 19.2593 - val_loss: 2725.7954 - val_mae: 34.0181 - val_mse: 2725.7954\n",
            "Epoch 66/100\n",
            "26/26 [==============================] - 14s 545ms/step - loss: 27.4550 - mae: 4.2422 - mse: 27.4550 - val_loss: 2476.2490 - val_mae: 32.2408 - val_mse: 2476.2490\n",
            "Epoch 67/100\n",
            "26/26 [==============================] - 14s 548ms/step - loss: 26.1518 - mae: 4.1038 - mse: 26.1518 - val_loss: 2559.4517 - val_mae: 32.8385 - val_mse: 2559.4517\n",
            "Epoch 68/100\n",
            "26/26 [==============================] - 14s 537ms/step - loss: 23.3167 - mae: 3.8167 - mse: 23.3167 - val_loss: 2760.5376 - val_mae: 34.4658 - val_mse: 2760.5376\n",
            "Epoch 69/100\n",
            "26/26 [==============================] - 14s 544ms/step - loss: 22.6229 - mae: 3.8367 - mse: 22.6229 - val_loss: 2560.9717 - val_mae: 33.0900 - val_mse: 2560.9717\n",
            "Epoch 70/100\n",
            "26/26 [==============================] - 14s 542ms/step - loss: 20.0650 - mae: 3.5800 - mse: 20.0650 - val_loss: 2624.8706 - val_mae: 33.7679 - val_mse: 2624.8706\n",
            "Epoch 71/100\n",
            "26/26 [==============================] - 14s 541ms/step - loss: 19.1554 - mae: 3.4671 - mse: 19.1554 - val_loss: 2535.2939 - val_mae: 33.0286 - val_mse: 2535.2939\n",
            "Epoch 72/100\n",
            "26/26 [==============================] - 14s 545ms/step - loss: 19.9292 - mae: 3.5032 - mse: 19.9292 - val_loss: 2750.0894 - val_mae: 34.3793 - val_mse: 2750.0894\n",
            "Epoch 73/100\n",
            "26/26 [==============================] - 14s 548ms/step - loss: 20.6171 - mae: 3.5867 - mse: 20.6171 - val_loss: 2644.4565 - val_mae: 33.4015 - val_mse: 2644.4565\n",
            "Epoch 74/100\n",
            "26/26 [==============================] - 14s 541ms/step - loss: 19.1949 - mae: 3.5006 - mse: 19.1949 - val_loss: 2627.6304 - val_mae: 33.4590 - val_mse: 2627.6304\n",
            "Epoch 75/100\n",
            "26/26 [==============================] - 14s 536ms/step - loss: 14.0508 - mae: 2.9296 - mse: 14.0508 - val_loss: 2721.2324 - val_mae: 33.9627 - val_mse: 2721.2324\n",
            "Epoch 76/100\n",
            "26/26 [==============================] - 14s 541ms/step - loss: 15.3024 - mae: 3.1096 - mse: 15.3024 - val_loss: 2579.1968 - val_mae: 33.1495 - val_mse: 2579.1968\n",
            "Epoch 77/100\n",
            "26/26 [==============================] - 14s 550ms/step - loss: 22.2919 - mae: 3.8579 - mse: 22.2919 - val_loss: 2641.1313 - val_mae: 33.5386 - val_mse: 2641.1313\n",
            "Epoch 78/100\n",
            "26/26 [==============================] - 14s 530ms/step - loss: 19.4211 - mae: 3.5139 - mse: 19.4211 - val_loss: 2607.5256 - val_mae: 33.1522 - val_mse: 2607.5256\n",
            "Epoch 79/100\n",
            "26/26 [==============================] - 14s 560ms/step - loss: 14.8124 - mae: 3.0444 - mse: 14.8124 - val_loss: 2687.8567 - val_mae: 33.9433 - val_mse: 2687.8567\n",
            "Epoch 80/100\n",
            "26/26 [==============================] - 14s 537ms/step - loss: 13.9317 - mae: 2.9670 - mse: 13.9317 - val_loss: 2625.7498 - val_mae: 33.4046 - val_mse: 2625.7498\n",
            "Epoch 81/100\n",
            "26/26 [==============================] - 14s 543ms/step - loss: 11.7594 - mae: 2.7191 - mse: 11.7594 - val_loss: 2688.1519 - val_mae: 33.8009 - val_mse: 2688.1519\n",
            "Epoch 82/100\n",
            "26/26 [==============================] - 14s 553ms/step - loss: 10.3963 - mae: 2.5160 - mse: 10.3963 - val_loss: 2576.1277 - val_mae: 33.0487 - val_mse: 2576.1277\n",
            "Epoch 83/100\n",
            "26/26 [==============================] - 14s 541ms/step - loss: 10.4876 - mae: 2.5721 - mse: 10.4876 - val_loss: 2765.3406 - val_mae: 34.4186 - val_mse: 2765.3406\n",
            "Epoch 84/100\n",
            "26/26 [==============================] - 14s 542ms/step - loss: 10.0064 - mae: 2.5461 - mse: 10.0064 - val_loss: 2657.0239 - val_mae: 33.5232 - val_mse: 2657.0239\n",
            "Epoch 85/100\n",
            "26/26 [==============================] - 14s 538ms/step - loss: 12.3391 - mae: 2.7452 - mse: 12.3391 - val_loss: 2577.5823 - val_mae: 33.2381 - val_mse: 2577.5823\n",
            "Epoch 86/100\n",
            "26/26 [==============================] - 14s 527ms/step - loss: 11.5366 - mae: 2.6792 - mse: 11.5366 - val_loss: 2716.0325 - val_mae: 33.9391 - val_mse: 2716.0325\n",
            "Epoch 87/100\n",
            "26/26 [==============================] - 14s 544ms/step - loss: 14.3600 - mae: 3.0192 - mse: 14.3600 - val_loss: 2509.3450 - val_mae: 32.4922 - val_mse: 2509.3450\n",
            "Epoch 88/100\n",
            "26/26 [==============================] - 14s 549ms/step - loss: 21.6075 - mae: 3.6505 - mse: 21.6075 - val_loss: 2580.5281 - val_mae: 33.1893 - val_mse: 2580.5281\n",
            "Epoch 89/100\n",
            "26/26 [==============================] - 15s 565ms/step - loss: 15.4011 - mae: 3.1233 - mse: 15.4011 - val_loss: 2844.3032 - val_mae: 34.7879 - val_mse: 2844.3032\n",
            "Epoch 90/100\n",
            "26/26 [==============================] - 14s 544ms/step - loss: 24.6084 - mae: 3.8949 - mse: 24.6084 - val_loss: 2606.0491 - val_mae: 33.7429 - val_mse: 2606.0491\n",
            "Epoch 91/100\n",
            "26/26 [==============================] - 14s 523ms/step - loss: 10.5903 - mae: 2.5179 - mse: 10.5903 - val_loss: 2557.7231 - val_mae: 32.9543 - val_mse: 2557.7231\n",
            "Epoch 92/100\n",
            "26/26 [==============================] - 14s 534ms/step - loss: 7.9198 - mae: 2.1772 - mse: 7.9198 - val_loss: 2548.0776 - val_mae: 32.8321 - val_mse: 2548.0776\n",
            "Epoch 93/100\n",
            "26/26 [==============================] - 14s 549ms/step - loss: 7.3538 - mae: 2.1276 - mse: 7.3538 - val_loss: 2603.2844 - val_mae: 33.4140 - val_mse: 2603.2844\n",
            "Epoch 94/100\n",
            "26/26 [==============================] - 14s 543ms/step - loss: 7.7245 - mae: 2.1744 - mse: 7.7245 - val_loss: 2589.1709 - val_mae: 33.1197 - val_mse: 2589.1709\n",
            "Epoch 95/100\n",
            "26/26 [==============================] - 14s 536ms/step - loss: 9.3215 - mae: 2.4249 - mse: 9.3215 - val_loss: 2580.9727 - val_mae: 33.0038 - val_mse: 2580.9727\n",
            "Epoch 96/100\n",
            "26/26 [==============================] - 14s 556ms/step - loss: 8.8961 - mae: 2.3451 - mse: 8.8961 - val_loss: 2594.9478 - val_mae: 32.9157 - val_mse: 2594.9478\n",
            "Epoch 97/100\n",
            "26/26 [==============================] - 14s 562ms/step - loss: 6.9737 - mae: 2.0513 - mse: 6.9737 - val_loss: 2580.1843 - val_mae: 33.1489 - val_mse: 2580.1843\n",
            "Epoch 98/100\n",
            "26/26 [==============================] - 14s 559ms/step - loss: 8.1264 - mae: 2.2757 - mse: 8.1264 - val_loss: 2603.0693 - val_mae: 33.3876 - val_mse: 2603.0693\n",
            "Epoch 99/100\n",
            "26/26 [==============================] - 14s 558ms/step - loss: 7.8049 - mae: 2.1890 - mse: 7.8049 - val_loss: 2653.9390 - val_mae: 33.6591 - val_mse: 2653.9390\n",
            "Epoch 100/100\n",
            "26/26 [==============================] - 14s 547ms/step - loss: 5.8662 - mae: 1.9391 - mse: 5.8662 - val_loss: 2616.7551 - val_mae: 33.5093 - val_mse: 2616.7551\n"
          ]
        }
      ],
      "source": [
        "r=model_bi_gru.fit(\n",
        "    Xtrain,\n",
        "    Ytrain,\n",
        "    epochs=100,\n",
        "    validation_data=(Xtest,Ytest),\n",
        "    callbacks=[check_point_bi_gru]\n",
        ")"
      ]
    },
    {
      "cell_type": "markdown",
      "metadata": {
        "id": "uo4koH4XEkiv"
      },
      "source": [
        "Predictions"
      ]
    },
    {
      "cell_type": "code",
      "execution_count": 103,
      "metadata": {
        "id": "-vEh0mmyDqPC"
      },
      "outputs": [],
      "source": [
        "train_idx[:T+1]=False"
      ]
    },
    {
      "cell_type": "code",
      "execution_count": 104,
      "metadata": {
        "id": "OftAJjIQDqR5"
      },
      "outputs": [],
      "source": [
        "Ptrain_bi_lstm=model_bi_lstm.predict(Xtrain).flatten()\n",
        "Ptest_bi_lstm=model_bi_lstm.predict(Xtest).flatten()"
      ]
    },
    {
      "cell_type": "code",
      "execution_count": 105,
      "metadata": {
        "id": "LPvgcdw4DqU9"
      },
      "outputs": [],
      "source": [
        "Ptrain_bi_gru=model_bi_gru.predict(Xtrain).flatten()\n",
        "Ptest_bi_gru=model_bi_gru.predict(Xtest).flatten()"
      ]
    },
    {
      "cell_type": "code",
      "execution_count": 106,
      "metadata": {
        "id": "D1MjWqICDqX4"
      },
      "outputs": [],
      "source": [
        "df.loc[train_idx,'Diff Bi-LSTM train prediction']=Ptrain_bi_lstm\n",
        "df.loc[test_idx,'Diff bi-LSTM test prediction']=Ptest_bi_lstm"
      ]
    },
    {
      "cell_type": "code",
      "execution_count": 107,
      "metadata": {
        "id": "JGyHZQpeDqbP"
      },
      "outputs": [],
      "source": [
        "df.loc[train_idx,'Diff Bi-GRU train prediction']=Ptrain_bi_gru\n",
        "df.loc[test_idx,'Diff BiGRU test prediction']=Ptest_bi_gru"
      ]
    },
    {
      "cell_type": "code",
      "execution_count": 108,
      "metadata": {
        "id": "o41wY4YSDqdr"
      },
      "outputs": [],
      "source": [
        "df['Shift Prev Close']=df['Prev Close'].shift(1)\n",
        "prev=df['Shift Prev Close']"
      ]
    },
    {
      "cell_type": "code",
      "execution_count": 109,
      "metadata": {
        "id": "ieSjZEI4Dqgo"
      },
      "outputs": [],
      "source": [
        "last_train=train.iloc[-1]['Prev Close']"
      ]
    },
    {
      "cell_type": "code",
      "execution_count": 110,
      "metadata": {
        "id": "iXAmOWl-Dqjf"
      },
      "outputs": [],
      "source": [
        "df.loc[train_idx,'train_Bi_LSTM']=prev[train_idx]+Ptrain_bi_lstm\n",
        "df.loc[test_idx,'Prediction_Bi_LSTM']=prev[test_idx]+Ptest_bi_lstm"
      ]
    },
    {
      "cell_type": "code",
      "execution_count": 111,
      "metadata": {
        "id": "zPuzleJlDqma"
      },
      "outputs": [],
      "source": [
        "df.loc[train_idx,'train_Bi_GRU']=prev[train_idx]+Ptrain_bi_gru\n",
        "df.loc[test_idx,'Prediction_Bi_GRU']=prev[test_idx]+Ptest_bi_gru"
      ]
    },
    {
      "cell_type": "code",
      "execution_count": 112,
      "metadata": {
        "id": "lnfbHo3KDqpO",
        "colab": {
          "base_uri": "https://localhost:8080/",
          "height": 416
        },
        "outputId": "f361d32b-d2ca-4861-db87-2397a61dac2f"
      },
      "outputs": [
        {
          "output_type": "display_data",
          "data": {
            "text/plain": [
              "<Figure size 1080x720 with 1 Axes>"
            ],
            "image/png": "[encoded data removed]"
          },
          "metadata": {
            "needs_background": "light"
          }
        }
      ],
      "source": [
        "df[[ 'Prev Close','Prediction_Bi_LSTM','Prediction_Bi_GRU']].plot(figsize=(15,10));"
      ]
    },
    {
      "cell_type": "code",
      "execution_count": 113,
      "metadata": {
        "id": "riQ3YykBDqsG",
        "colab": {
          "base_uri": "https://localhost:8080/",
          "height": 422
        },
        "outputId": "b7ecb245-d8bf-4e54-eaae-b6e4dd72046c"
      },
      "outputs": [
        {
          "output_type": "display_data",
          "data": {
            "text/plain": [
              "<Figure size 1080x720 with 1 Axes>"
            ],
            "image/png": "[encoded data removed]"
          },
          "metadata": {
            "needs_background": "light"
          }
        }
      ],
      "source": [
        "df[[ 'Prediction_Bi_LSTM','Prediction_Bi_GRU']].plot(figsize=(15,10));"
      ]
    },
    {
      "cell_type": "markdown",
      "metadata": {
        "id": "0o_3yUJvF-FW"
      },
      "source": [
        "Evaluation"
      ]
    },
    {
      "cell_type": "code",
      "execution_count": 114,
      "metadata": {
        "id": "vonBmF2b7t6q"
      },
      "outputs": [],
      "source": [
        "pred_bi_lstm=df['Prediction_Bi_LSTM']\n",
        "pred_bi_lstm.dropna(inplace=True)"
      ]
    },
    {
      "cell_type": "code",
      "execution_count": 115,
      "metadata": {
        "id": "sPUaq6UiGCRI",
        "colab": {
          "base_uri": "https://localhost:8080/"
        },
        "outputId": "1de08dcd-9410-455a-d702-64cd41fd84a9"
      },
      "outputs": [
        {
          "output_type": "stream",
          "name": "stdout",
          "text": [
            "54.20305364080368\n"
          ]
        }
      ],
      "source": [
        "rmse=math.sqrt(mean_squared_error(test['Prev Close'],pred_bi_lstm))\n",
        "print(rmse)"
      ]
    },
    {
      "cell_type": "code",
      "execution_count": 116,
      "metadata": {
        "id": "kQMcHGVCGCUL",
        "colab": {
          "base_uri": "https://localhost:8080/"
        },
        "outputId": "ef839105-12bb-4ab4-bb26-e864a910d69f"
      },
      "outputs": [
        {
          "output_type": "stream",
          "name": "stdout",
          "text": [
            "37.82181749352922\n"
          ]
        }
      ],
      "source": [
        "error=mean_absolute_error(test['Prev Close'],pred_bi_lstm)\n",
        "print(error)"
      ]
    },
    {
      "cell_type": "code",
      "execution_count": 117,
      "metadata": {
        "id": "lyLslWMAGCXT",
        "colab": {
          "base_uri": "https://localhost:8080/"
        },
        "outputId": "e85cdb8a-bfc9-4db7-d657-94e24a33de25"
      },
      "outputs": [
        {
          "output_type": "execute_result",
          "data": {
            "text/plain": [
              "0.887233163155775"
            ]
          },
          "metadata": {},
          "execution_count": 117
        }
      ],
      "source": [
        "r2_score(test['Prev Close'],pred_bi_lstm)"
      ]
    },
    {
      "cell_type": "code",
      "execution_count": 118,
      "metadata": {
        "id": "wa7wnr9TGC2J"
      },
      "outputs": [],
      "source": [
        "pred_bi_gru=df['Prediction_Bi_GRU']\n",
        "pred_bi_gru.dropna(inplace=True)"
      ]
    },
    {
      "cell_type": "code",
      "execution_count": 119,
      "metadata": {
        "id": "EkKg0wGaGC-e",
        "colab": {
          "base_uri": "https://localhost:8080/"
        },
        "outputId": "6e0abf9d-2beb-4e07-8c18-1b5feaabf666"
      },
      "outputs": [
        {
          "output_type": "stream",
          "name": "stdout",
          "text": [
            "51.15422939932715\n"
          ]
        }
      ],
      "source": [
        "rmse=math.sqrt(mean_squared_error(test['Prev Close'],pred_bi_gru))\n",
        "print(rmse)"
      ]
    },
    {
      "cell_type": "code",
      "execution_count": 120,
      "metadata": {
        "id": "BQL76rMvGDGT",
        "colab": {
          "base_uri": "https://localhost:8080/"
        },
        "outputId": "d6ae9e71-f5d3-4319-b450-0bce3c3ff6f7"
      },
      "outputs": [
        {
          "output_type": "stream",
          "name": "stdout",
          "text": [
            "33.50933296992079\n"
          ]
        }
      ],
      "source": [
        "error=mean_absolute_error(test['Prev Close'],pred_bi_gru)\n",
        "print(error)"
      ]
    },
    {
      "cell_type": "code",
      "execution_count": 121,
      "metadata": {
        "id": "GMZqO2_yGDO_",
        "colab": {
          "base_uri": "https://localhost:8080/"
        },
        "outputId": "71ec61d9-d765-4cc5-dbfc-633f05246f8e"
      },
      "outputs": [
        {
          "output_type": "execute_result",
          "data": {
            "text/plain": [
              "0.8995622480111639"
            ]
          },
          "metadata": {},
          "execution_count": 121
        }
      ],
      "source": [
        "r2_score(test['Prev Close'],pred_bi_gru)"
      ]
    },
    {
      "cell_type": "code",
      "execution_count": 121,
      "metadata": {
        "id": "PIN91mEuGizf"
      },
      "outputs": [],
      "source": []
    }
  ],
  "metadata": {
    "colab": {
      "collapsed_sections": [],
      "provenance": []
    },
    "kernelspec": {
      "display_name": "Python 3",
      "name": "python3"
    },
    "language_info": {
      "name": "python"
    }
  },
  "nbformat": 4,
  "nbformat_minor": 0
}