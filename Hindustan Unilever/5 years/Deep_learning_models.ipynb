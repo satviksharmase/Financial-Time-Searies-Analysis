{
  "nbformat": 4,
  "nbformat_minor": 0,
  "metadata": {
    "colab": {
      "provenance": []
    },
    "kernelspec": {
      "name": "python3",
      "display_name": "Python 3"
    },
    "language_info": {
      "name": "python"
    }
  },
  "cells": [
    {
      "cell_type": "code",
      "execution_count": 181,
      "metadata": {
        "id": "rRzK__2FbGio"
      },
      "outputs": [],
      "source": [
        "import numpy as np\n",
        "import matplotlib.pyplot as plt\n",
        "import pandas as pd\n",
        "\n",
        "import tensorflow as tf\n",
        "from tensorflow.keras.layers import Dense, Input\n",
        "from tensorflow.keras.models import Model\n",
        "from tensorflow.keras.layers import LSTM\n",
        "from tensorflow.keras.layers import GRU\n",
        "from tensorflow.keras.layers import GlobalMaxPooling1D\n",
        "from tensorflow.keras.layers import Conv1D, MaxPooling1D\n",
        "from tensorflow.keras.callbacks import ModelCheckpoint\n",
        "\n",
        "import math\n",
        "\n",
        "from sklearn.metrics import r2_score\n",
        "from sklearn.metrics import mean_absolute_error\n",
        "from sklearn.metrics import mean_squared_error\n",
        "\n",
        "np.random.seed(123)\n",
        "tf.random.set_seed(123)"
      ]
    },
    {
      "cell_type": "code",
      "source": [
        "df=pd.read_csv('./HINDUNILVR.csv',index_col='Date',parse_dates=True)"
      ],
      "metadata": {
        "id": "AE6wbl9LcLFx"
      },
      "execution_count": 182,
      "outputs": []
    },
    {
      "cell_type": "markdown",
      "source": [
        "Data Pre processing\n"
      ],
      "metadata": {
        "id": "L8XudG86eRhq"
      }
    },
    {
      "cell_type": "code",
      "source": [
        "df"
      ],
      "metadata": {
        "colab": {
          "base_uri": "https://localhost:8080/",
          "height": 710
        },
        "id": "FUFxX_tUcmfi",
        "outputId": "22ac2148-c44a-4c03-8955-cd7b222dd4ba"
      },
      "execution_count": 183,
      "outputs": [
        {
          "output_type": "execute_result",
          "data": {
            "text/plain": [
              "                Symbol Series  Prev Close    Open     High      Low     Last  \\\n",
              "Date                                                                           \n",
              "2000-01-03   HINDLEVER     EQ     2136.60  2300.0  2307.55  2300.00  2307.55   \n",
              "2000-01-04   HINDLEVER     EQ     2307.55  2381.0  2381.00  2250.00  2270.00   \n",
              "2000-01-05   HINDLEVER     EQ     2281.05  2200.0  2250.00  2105.00  2183.50   \n",
              "2000-01-06   HINDLEVER     EQ     2199.90  2224.9  2360.00  2210.00  2300.00   \n",
              "2000-01-07   HINDLEVER     EQ     2288.20  2300.0  2452.00  2282.25  2395.00   \n",
              "...                ...    ...         ...     ...      ...      ...      ...   \n",
              "2021-04-26  HINDUNILVR     EQ     2307.75  2324.0  2369.80  2311.00  2367.70   \n",
              "2021-04-27  HINDUNILVR     EQ     2360.65  2363.0  2386.45  2352.95  2378.00   \n",
              "2021-04-28  HINDUNILVR     EQ     2379.85  2380.0  2445.00  2366.30  2404.00   \n",
              "2021-04-29  HINDUNILVR     EQ     2406.55  2433.0  2448.95  2384.15  2422.15   \n",
              "2021-04-30  HINDUNILVR     EQ     2407.60  2410.0  2442.90  2330.25  2350.00   \n",
              "\n",
              "              Close     VWAP   Volume      Turnover    Trades  \\\n",
              "Date                                                            \n",
              "2000-01-03  2307.55  2307.08    24903  5.745330e+12       NaN   \n",
              "2000-01-04  2281.05  2298.15    58514  1.344740e+13       NaN   \n",
              "2000-01-05  2199.90  2211.17    80296  1.775482e+13       NaN   \n",
              "2000-01-06  2288.20  2301.80   190032  4.374157e+13       NaN   \n",
              "2000-01-07  2412.95  2380.24   192582  4.583919e+13       NaN   \n",
              "...             ...      ...      ...           ...       ...   \n",
              "2021-04-26  2360.65  2340.89  1946867  4.557405e+14   85684.0   \n",
              "2021-04-27  2379.85  2374.40  1668456  3.961583e+14   84641.0   \n",
              "2021-04-28  2406.55  2414.15  1951215  4.710522e+14   84910.0   \n",
              "2021-04-29  2407.60  2419.82  3151150  7.625230e+14  141048.0   \n",
              "2021-04-30  2353.75  2363.99  4010778  9.481448e+14  170223.0   \n",
              "\n",
              "            Deliverable Volume  %Deliverble  \n",
              "Date                                         \n",
              "2000-01-03                 NaN          NaN  \n",
              "2000-01-04                 NaN          NaN  \n",
              "2000-01-05                 NaN          NaN  \n",
              "2000-01-06                 NaN          NaN  \n",
              "2000-01-07                 NaN          NaN  \n",
              "...                        ...          ...  \n",
              "2021-04-26           1289103.0       0.6621  \n",
              "2021-04-27           1089882.0       0.6532  \n",
              "2021-04-28           1024216.0       0.5249  \n",
              "2021-04-29            946648.0       0.3004  \n",
              "2021-04-30           2038288.0       0.5082  \n",
              "\n",
              "[5306 rows x 14 columns]"
            ],
            "text/html": [
              "\n",
              "  <div id=\"df-ec19fd4a-37d8-4fd2-8943-a715632d5e55\">\n",
              "    <div class=\"colab-df-container\">\n",
              "      <div>\n",
              "<style scoped>\n",
              "    .dataframe tbody tr th:only-of-type {\n",
              "        vertical-align: middle;\n",
              "    }\n",
              "\n",
              "    .dataframe tbody tr th {\n",
              "        vertical-align: top;\n",
              "    }\n",
              "\n",
              "    .dataframe thead th {\n",
              "        text-align: right;\n",
              "    }\n",
              "</style>\n",
              "<table border=\"1\" class=\"dataframe\">\n",
              "  <thead>\n",
              "    <tr style=\"text-align: right;\">\n",
              "      <th></th>\n",
              "      <th>Symbol</th>\n",
              "      <th>Series</th>\n",
              "      <th>Prev Close</th>\n",
              "      <th>Open</th>\n",
              "      <th>High</th>\n",
              "      <th>Low</th>\n",
              "      <th>Last</th>\n",
              "      <th>Close</th>\n",
              "      <th>VWAP</th>\n",
              "      <th>Volume</th>\n",
              "      <th>Turnover</th>\n",
              "      <th>Trades</th>\n",
              "      <th>Deliverable Volume</th>\n",
              "      <th>%Deliverble</th>\n",
              "    </tr>\n",
              "    <tr>\n",
              "      <th>Date</th>\n",
              "      <th></th>\n",
              "      <th></th>\n",
              "      <th></th>\n",
              "      <th></th>\n",
              "      <th></th>\n",
              "      <th></th>\n",
              "      <th></th>\n",
              "      <th></th>\n",
              "      <th></th>\n",
              "      <th></th>\n",
              "      <th></th>\n",
              "      <th></th>\n",
              "      <th></th>\n",
              "      <th></th>\n",
              "    </tr>\n",
              "  </thead>\n",
              "  <tbody>\n",
              "    <tr>\n",
              "      <th>2000-01-03</th>\n",
              "      <td>HINDLEVER</td>\n",
              "      <td>EQ</td>\n",
              "      <td>2136.60</td>\n",
              "      <td>2300.0</td>\n",
              "      <td>2307.55</td>\n",
              "      <td>2300.00</td>\n",
              "      <td>2307.55</td>\n",
              "      <td>2307.55</td>\n",
              "      <td>2307.08</td>\n",
              "      <td>24903</td>\n",
              "      <td>5.745330e+12</td>\n",
              "      <td>NaN</td>\n",
              "      <td>NaN</td>\n",
              "      <td>NaN</td>\n",
              "    </tr>\n",
              "    <tr>\n",
              "      <th>2000-01-04</th>\n",
              "      <td>HINDLEVER</td>\n",
              "      <td>EQ</td>\n",
              "      <td>2307.55</td>\n",
              "      <td>2381.0</td>\n",
              "      <td>2381.00</td>\n",
              "      <td>2250.00</td>\n",
              "      <td>2270.00</td>\n",
              "      <td>2281.05</td>\n",
              "      <td>2298.15</td>\n",
              "      <td>58514</td>\n",
              "      <td>1.344740e+13</td>\n",
              "      <td>NaN</td>\n",
              "      <td>NaN</td>\n",
              "      <td>NaN</td>\n",
              "    </tr>\n",
              "    <tr>\n",
              "      <th>2000-01-05</th>\n",
              "      <td>HINDLEVER</td>\n",
              "      <td>EQ</td>\n",
              "      <td>2281.05</td>\n",
              "      <td>2200.0</td>\n",
              "      <td>2250.00</td>\n",
              "      <td>2105.00</td>\n",
              "      <td>2183.50</td>\n",
              "      <td>2199.90</td>\n",
              "      <td>2211.17</td>\n",
              "      <td>80296</td>\n",
              "      <td>1.775482e+13</td>\n",
              "      <td>NaN</td>\n",
              "      <td>NaN</td>\n",
              "      <td>NaN</td>\n",
              "    </tr>\n",
              "    <tr>\n",
              "      <th>2000-01-06</th>\n",
              "      <td>HINDLEVER</td>\n",
              "      <td>EQ</td>\n",
              "      <td>2199.90</td>\n",
              "      <td>2224.9</td>\n",
              "      <td>2360.00</td>\n",
              "      <td>2210.00</td>\n",
              "      <td>2300.00</td>\n",
              "      <td>2288.20</td>\n",
              "      <td>2301.80</td>\n",
              "      <td>190032</td>\n",
              "      <td>4.374157e+13</td>\n",
              "      <td>NaN</td>\n",
              "      <td>NaN</td>\n",
              "      <td>NaN</td>\n",
              "    </tr>\n",
              "    <tr>\n",
              "      <th>2000-01-07</th>\n",
              "      <td>HINDLEVER</td>\n",
              "      <td>EQ</td>\n",
              "      <td>2288.20</td>\n",
              "      <td>2300.0</td>\n",
              "      <td>2452.00</td>\n",
              "      <td>2282.25</td>\n",
              "      <td>2395.00</td>\n",
              "      <td>2412.95</td>\n",
              "      <td>2380.24</td>\n",
              "      <td>192582</td>\n",
              "      <td>4.583919e+13</td>\n",
              "      <td>NaN</td>\n",
              "      <td>NaN</td>\n",
              "      <td>NaN</td>\n",
              "    </tr>\n",
              "    <tr>\n",
              "      <th>...</th>\n",
              "      <td>...</td>\n",
              "      <td>...</td>\n",
              "      <td>...</td>\n",
              "      <td>...</td>\n",
              "      <td>...</td>\n",
              "      <td>...</td>\n",
              "      <td>...</td>\n",
              "      <td>...</td>\n",
              "      <td>...</td>\n",
              "      <td>...</td>\n",
              "      <td>...</td>\n",
              "      <td>...</td>\n",
              "      <td>...</td>\n",
              "      <td>...</td>\n",
              "    </tr>\n",
              "    <tr>\n",
              "      <th>2021-04-26</th>\n",
              "      <td>HINDUNILVR</td>\n",
              "      <td>EQ</td>\n",
              "      <td>2307.75</td>\n",
              "      <td>2324.0</td>\n",
              "      <td>2369.80</td>\n",
              "      <td>2311.00</td>\n",
              "      <td>2367.70</td>\n",
              "      <td>2360.65</td>\n",
              "      <td>2340.89</td>\n",
              "      <td>1946867</td>\n",
              "      <td>4.557405e+14</td>\n",
              "      <td>85684.0</td>\n",
              "      <td>1289103.0</td>\n",
              "      <td>0.6621</td>\n",
              "    </tr>\n",
              "    <tr>\n",
              "      <th>2021-04-27</th>\n",
              "      <td>HINDUNILVR</td>\n",
              "      <td>EQ</td>\n",
              "      <td>2360.65</td>\n",
              "      <td>2363.0</td>\n",
              "      <td>2386.45</td>\n",
              "      <td>2352.95</td>\n",
              "      <td>2378.00</td>\n",
              "      <td>2379.85</td>\n",
              "      <td>2374.40</td>\n",
              "      <td>1668456</td>\n",
              "      <td>3.961583e+14</td>\n",
              "      <td>84641.0</td>\n",
              "      <td>1089882.0</td>\n",
              "      <td>0.6532</td>\n",
              "    </tr>\n",
              "    <tr>\n",
              "      <th>2021-04-28</th>\n",
              "      <td>HINDUNILVR</td>\n",
              "      <td>EQ</td>\n",
              "      <td>2379.85</td>\n",
              "      <td>2380.0</td>\n",
              "      <td>2445.00</td>\n",
              "      <td>2366.30</td>\n",
              "      <td>2404.00</td>\n",
              "      <td>2406.55</td>\n",
              "      <td>2414.15</td>\n",
              "      <td>1951215</td>\n",
              "      <td>4.710522e+14</td>\n",
              "      <td>84910.0</td>\n",
              "      <td>1024216.0</td>\n",
              "      <td>0.5249</td>\n",
              "    </tr>\n",
              "    <tr>\n",
              "      <th>2021-04-29</th>\n",
              "      <td>HINDUNILVR</td>\n",
              "      <td>EQ</td>\n",
              "      <td>2406.55</td>\n",
              "      <td>2433.0</td>\n",
              "      <td>2448.95</td>\n",
              "      <td>2384.15</td>\n",
              "      <td>2422.15</td>\n",
              "      <td>2407.60</td>\n",
              "      <td>2419.82</td>\n",
              "      <td>3151150</td>\n",
              "      <td>7.625230e+14</td>\n",
              "      <td>141048.0</td>\n",
              "      <td>946648.0</td>\n",
              "      <td>0.3004</td>\n",
              "    </tr>\n",
              "    <tr>\n",
              "      <th>2021-04-30</th>\n",
              "      <td>HINDUNILVR</td>\n",
              "      <td>EQ</td>\n",
              "      <td>2407.60</td>\n",
              "      <td>2410.0</td>\n",
              "      <td>2442.90</td>\n",
              "      <td>2330.25</td>\n",
              "      <td>2350.00</td>\n",
              "      <td>2353.75</td>\n",
              "      <td>2363.99</td>\n",
              "      <td>4010778</td>\n",
              "      <td>9.481448e+14</td>\n",
              "      <td>170223.0</td>\n",
              "      <td>2038288.0</td>\n",
              "      <td>0.5082</td>\n",
              "    </tr>\n",
              "  </tbody>\n",
              "</table>\n",
              "<p>5306 rows × 14 columns</p>\n",
              "</div>\n",
              "      <button class=\"colab-df-convert\" onclick=\"convertToInteractive('df-ec19fd4a-37d8-4fd2-8943-a715632d5e55')\"\n",
              "              title=\"Convert this dataframe to an interactive table.\"\n",
              "              style=\"display:none;\">\n",
              "        \n",
              "  <svg xmlns=\"http://www.w3.org/2000/svg\" height=\"24px\"viewBox=\"0 0 24 24\"\n",
              "       width=\"24px\">\n",
              "    <path d=\"M0 0h24v24H0V0z\" fill=\"none\"/>\n",
              "    <path d=\"M18.56 5.44l.94 2.06.94-2.06 2.06-.94-2.06-.94-.94-2.06-.94 2.06-2.06.94zm-11 1L8.5 8.5l.94-2.06 2.06-.94-2.06-.94L8.5 2.5l-.94 2.06-2.06.94zm10 10l.94 2.06.94-2.06 2.06-.94-2.06-.94-.94-2.06-.94 2.06-2.06.94z\"/><path d=\"M17.41 7.96l-1.37-1.37c-.4-.4-.92-.59-1.43-.59-.52 0-1.04.2-1.43.59L10.3 9.45l-7.72 7.72c-.78.78-.78 2.05 0 2.83L4 21.41c.39.39.9.59 1.41.59.51 0 1.02-.2 1.41-.59l7.78-7.78 2.81-2.81c.8-.78.8-2.07 0-2.86zM5.41 20L4 18.59l7.72-7.72 1.47 1.35L5.41 20z\"/>\n",
              "  </svg>\n",
              "      </button>\n",
              "      \n",
              "  <style>\n",
              "    .colab-df-container {\n",
              "      display:flex;\n",
              "      flex-wrap:wrap;\n",
              "      gap: 12px;\n",
              "    }\n",
              "\n",
              "    .colab-df-convert {\n",
              "      background-color: #E8F0FE;\n",
              "      border: none;\n",
              "      border-radius: 50%;\n",
              "      cursor: pointer;\n",
              "      display: none;\n",
              "      fill: #1967D2;\n",
              "      height: 32px;\n",
              "      padding: 0 0 0 0;\n",
              "      width: 32px;\n",
              "    }\n",
              "\n",
              "    .colab-df-convert:hover {\n",
              "      background-color: #E2EBFA;\n",
              "      box-shadow: 0px 1px 2px rgba(60, 64, 67, 0.3), 0px 1px 3px 1px rgba(60, 64, 67, 0.15);\n",
              "      fill: #174EA6;\n",
              "    }\n",
              "\n",
              "    [theme=dark] .colab-df-convert {\n",
              "      background-color: #3B4455;\n",
              "      fill: #D2E3FC;\n",
              "    }\n",
              "\n",
              "    [theme=dark] .colab-df-convert:hover {\n",
              "      background-color: #434B5C;\n",
              "      box-shadow: 0px 1px 3px 1px rgba(0, 0, 0, 0.15);\n",
              "      filter: drop-shadow(0px 1px 2px rgba(0, 0, 0, 0.3));\n",
              "      fill: #FFFFFF;\n",
              "    }\n",
              "  </style>\n",
              "\n",
              "      <script>\n",
              "        const buttonEl =\n",
              "          document.querySelector('#df-ec19fd4a-37d8-4fd2-8943-a715632d5e55 button.colab-df-convert');\n",
              "        buttonEl.style.display =\n",
              "          google.colab.kernel.accessAllowed ? 'block' : 'none';\n",
              "\n",
              "        async function convertToInteractive(key) {\n",
              "          const element = document.querySelector('#df-ec19fd4a-37d8-4fd2-8943-a715632d5e55');\n",
              "          const dataTable =\n",
              "            await google.colab.kernel.invokeFunction('convertToInteractive',\n",
              "                                                     [key], {});\n",
              "          if (!dataTable) return;\n",
              "\n",
              "          const docLinkHtml = 'Like what you see? Visit the ' +\n",
              "            '<a target=\"_blank\" href=https://colab.research.google.com/notebooks/data_table.ipynb>data table notebook</a>'\n",
              "            + ' to learn more about interactive tables.';\n",
              "          element.innerHTML = '';\n",
              "          dataTable['output_type'] = 'display_data';\n",
              "          await google.colab.output.renderOutput(dataTable, element);\n",
              "          const docLink = document.createElement('div');\n",
              "          docLink.innerHTML = docLinkHtml;\n",
              "          element.appendChild(docLink);\n",
              "        }\n",
              "      </script>\n",
              "    </div>\n",
              "  </div>\n",
              "  "
            ]
          },
          "metadata": {},
          "execution_count": 183
        }
      ]
    },
    {
      "cell_type": "code",
      "source": [
        "df['Date']=df.index"
      ],
      "metadata": {
        "id": "E7X-jyItcm8U"
      },
      "execution_count": 184,
      "outputs": []
    },
    {
      "cell_type": "code",
      "source": [
        "start_date='2016-01-01'\n",
        "end_date='2020-12-31'\n",
        "mask=(df['Date']>=start_date)&(df['Date']<=end_date)"
      ],
      "metadata": {
        "id": "A9eSrJ1Dcot3"
      },
      "execution_count": 185,
      "outputs": []
    },
    {
      "cell_type": "code",
      "source": [
        "df=df.loc[mask]"
      ],
      "metadata": {
        "id": "_Pfuk7zicqIx"
      },
      "execution_count": 186,
      "outputs": []
    },
    {
      "cell_type": "code",
      "source": [
        "df=df.loc[mask]"
      ],
      "metadata": {
        "id": "MsTtlYUncrcn"
      },
      "execution_count": 187,
      "outputs": []
    },
    {
      "cell_type": "code",
      "source": [
        "df=df.drop(columns=['Series','Symbol','Open','High','Low','Last','Close','VWAP','Volume','Turnover','Trades','Deliverable Volume','%Deliverble','Date'])"
      ],
      "metadata": {
        "id": "aV7QwBEDcvq2"
      },
      "execution_count": 188,
      "outputs": []
    },
    {
      "cell_type": "code",
      "source": [
        "Ntest=math.trunc(0.3*len(df))\n",
        "train=df.iloc[:-Ntest]\n",
        "test=df.iloc[-Ntest:]"
      ],
      "metadata": {
        "id": "cUuhMhL0c1qi"
      },
      "execution_count": 189,
      "outputs": []
    },
    {
      "cell_type": "code",
      "source": [
        "train_idx=df.index<=train.index[-1]\n",
        "test_idx=df.index>train.index[-1]"
      ],
      "metadata": {
        "id": "YFtIIrsqc3ch"
      },
      "execution_count": 190,
      "outputs": []
    },
    {
      "cell_type": "code",
      "source": [
        "df['Diff Prev Close']=df['Prev Close'].diff()"
      ],
      "metadata": {
        "id": "zh1z6dQDc6KA"
      },
      "execution_count": 191,
      "outputs": []
    },
    {
      "cell_type": "code",
      "source": [
        "series=df['Diff Prev Close'].dropna().to_numpy()\n",
        "\n",
        "T=50\n",
        "X=[]\n",
        "Y=[]\n",
        "for t in range(len(series)-T):\n",
        "  x=series[t:t+T]\n",
        "  X.append(x)\n",
        "  y=series[t+T]\n",
        "  Y.append(y)\n",
        "\n",
        "X=np.array(X).reshape(-1,T)\n",
        "Y=np.array(Y)\n",
        "N=len(X)\n",
        "print(\"X.shape\",X.shape,\"Y.shape\",Y.shape)"
      ],
      "metadata": {
        "colab": {
          "base_uri": "https://localhost:8080/"
        },
        "id": "GH9c1VIMdLvZ",
        "outputId": "322c2339-fac0-40c7-fe77-5fdb18f4a801"
      },
      "execution_count": 192,
      "outputs": [
        {
          "output_type": "stream",
          "name": "stdout",
          "text": [
            "X.shape (1187, 50) Y.shape (1187,)\n"
          ]
        }
      ]
    },
    {
      "cell_type": "code",
      "source": [
        "Xtrain,Ytrain=X[:-Ntest],Y[:-Ntest]\n",
        "Xtest,Ytest=X[-Ntest:],Y[-Ntest:]"
      ],
      "metadata": {
        "id": "AyyCdgD1dQeH"
      },
      "execution_count": 193,
      "outputs": []
    },
    {
      "cell_type": "markdown",
      "source": [
        "ANN"
      ],
      "metadata": {
        "id": "P4csTdPeeavE"
      }
    },
    {
      "cell_type": "code",
      "source": [
        "i=Input(shape=(T,))\n",
        "x=Dense(400,activation='relu')(i)\n",
        "x=Dense(100,activation='relu')(x)\n",
        "x=Dense(50,activation='relu')(x)\n",
        "x=Dense(1,activation='relu')(x)\n",
        "model_ann=Model(i,x)\n",
        "model_ann.summary()"
      ],
      "metadata": {
        "colab": {
          "base_uri": "https://localhost:8080/"
        },
        "id": "cEHrg-sQdSpS",
        "outputId": "1bf53dfb-38f2-42cf-e1a5-191b6dcdd33e"
      },
      "execution_count": 194,
      "outputs": [
        {
          "output_type": "stream",
          "name": "stdout",
          "text": [
            "Model: \"model_12\"\n",
            "_________________________________________________________________\n",
            " Layer (type)                Output Shape              Param #   \n",
            "=================================================================\n",
            " input_13 (InputLayer)       [(None, 50)]              0         \n",
            "                                                                 \n",
            " dense_33 (Dense)            (None, 400)               20400     \n",
            "                                                                 \n",
            " dense_34 (Dense)            (None, 100)               40100     \n",
            "                                                                 \n",
            " dense_35 (Dense)            (None, 50)                5050      \n",
            "                                                                 \n",
            " dense_36 (Dense)            (None, 1)                 51        \n",
            "                                                                 \n",
            "=================================================================\n",
            "Total params: 65,601\n",
            "Trainable params: 65,601\n",
            "Non-trainable params: 0\n",
            "_________________________________________________________________\n"
          ]
        }
      ]
    },
    {
      "cell_type": "code",
      "source": [
        "model_ann.compile(\n",
        "    loss='mse',\n",
        "    optimizer='adamax',\n",
        "    metrics='mae'\n",
        ")"
      ],
      "metadata": {
        "id": "GSjK1FukdUVe"
      },
      "execution_count": 195,
      "outputs": []
    },
    {
      "cell_type": "code",
      "source": [
        "r=model_ann.fit(\n",
        "    Xtrain,\n",
        "    Ytrain,\n",
        "    epochs=100,\n",
        "    validation_data=(Xtest,Ytest)\n",
        ")"
      ],
      "metadata": {
        "colab": {
          "base_uri": "https://localhost:8080/"
        },
        "id": "bp97xaLkdXKe",
        "outputId": "6c37efd5-bf43-4ed9-ea0c-6ec036504b88"
      },
      "execution_count": 196,
      "outputs": [
        {
          "output_type": "stream",
          "name": "stdout",
          "text": [
            "Epoch 1/100\n",
            "26/26 [==============================] - 1s 7ms/step - loss: 262.3058 - mae: 11.8744 - val_loss: 1602.9370 - val_mae: 25.6717\n",
            "Epoch 2/100\n",
            "26/26 [==============================] - 0s 3ms/step - loss: 241.6690 - mae: 11.4115 - val_loss: 1619.1471 - val_mae: 25.9689\n",
            "Epoch 3/100\n",
            "26/26 [==============================] - 0s 3ms/step - loss: 231.9581 - mae: 11.1542 - val_loss: 1618.9208 - val_mae: 26.0228\n",
            "Epoch 4/100\n",
            "26/26 [==============================] - 0s 3ms/step - loss: 222.8150 - mae: 10.8876 - val_loss: 1635.9540 - val_mae: 26.2219\n",
            "Epoch 5/100\n",
            "26/26 [==============================] - 0s 3ms/step - loss: 217.6439 - mae: 10.7367 - val_loss: 1608.4712 - val_mae: 25.8833\n",
            "Epoch 6/100\n",
            "26/26 [==============================] - 0s 3ms/step - loss: 212.0499 - mae: 10.5779 - val_loss: 1640.1631 - val_mae: 26.2452\n",
            "Epoch 7/100\n",
            "26/26 [==============================] - 0s 3ms/step - loss: 205.9964 - mae: 10.3933 - val_loss: 1631.4464 - val_mae: 26.2131\n",
            "Epoch 8/100\n",
            "26/26 [==============================] - 0s 3ms/step - loss: 201.3273 - mae: 10.2008 - val_loss: 1621.0842 - val_mae: 26.1723\n",
            "Epoch 9/100\n",
            "26/26 [==============================] - 0s 3ms/step - loss: 195.9165 - mae: 10.0538 - val_loss: 1660.6919 - val_mae: 26.7719\n",
            "Epoch 10/100\n",
            "26/26 [==============================] - 0s 3ms/step - loss: 191.1496 - mae: 9.8751 - val_loss: 1638.1067 - val_mae: 26.4302\n",
            "Epoch 11/100\n",
            "26/26 [==============================] - 0s 3ms/step - loss: 187.3443 - mae: 9.7282 - val_loss: 1669.5092 - val_mae: 26.7998\n",
            "Epoch 12/100\n",
            "26/26 [==============================] - 0s 3ms/step - loss: 184.2614 - mae: 9.5543 - val_loss: 1667.2051 - val_mae: 26.8207\n",
            "Epoch 13/100\n",
            "26/26 [==============================] - 0s 3ms/step - loss: 182.0088 - mae: 9.4430 - val_loss: 1676.2288 - val_mae: 26.9006\n",
            "Epoch 14/100\n",
            "26/26 [==============================] - 0s 3ms/step - loss: 179.9384 - mae: 9.3518 - val_loss: 1669.1747 - val_mae: 26.7982\n",
            "Epoch 15/100\n",
            "26/26 [==============================] - 0s 3ms/step - loss: 175.9227 - mae: 9.2462 - val_loss: 1701.8328 - val_mae: 27.0623\n",
            "Epoch 16/100\n",
            "26/26 [==============================] - 0s 3ms/step - loss: 171.4634 - mae: 9.0816 - val_loss: 1720.6362 - val_mae: 27.1584\n",
            "Epoch 17/100\n",
            "26/26 [==============================] - 0s 3ms/step - loss: 169.0230 - mae: 8.9580 - val_loss: 1770.7450 - val_mae: 27.7077\n",
            "Epoch 18/100\n",
            "26/26 [==============================] - 0s 2ms/step - loss: 166.5480 - mae: 8.8172 - val_loss: 1757.0522 - val_mae: 27.4920\n",
            "Epoch 19/100\n",
            "26/26 [==============================] - 0s 3ms/step - loss: 165.0928 - mae: 8.7045 - val_loss: 1729.2240 - val_mae: 27.1821\n",
            "Epoch 20/100\n",
            "26/26 [==============================] - 0s 3ms/step - loss: 164.2280 - mae: 8.6397 - val_loss: 1779.7186 - val_mae: 27.7143\n",
            "Epoch 21/100\n",
            "26/26 [==============================] - 0s 3ms/step - loss: 163.3787 - mae: 8.5731 - val_loss: 1784.1494 - val_mae: 27.6798\n",
            "Epoch 22/100\n",
            "26/26 [==============================] - 0s 3ms/step - loss: 162.0366 - mae: 8.4737 - val_loss: 1786.3568 - val_mae: 27.6856\n",
            "Epoch 23/100\n",
            "26/26 [==============================] - 0s 3ms/step - loss: 161.2794 - mae: 8.3978 - val_loss: 1791.8713 - val_mae: 27.6975\n",
            "Epoch 24/100\n",
            "26/26 [==============================] - 0s 3ms/step - loss: 160.8083 - mae: 8.3557 - val_loss: 1823.0007 - val_mae: 27.9680\n",
            "Epoch 25/100\n",
            "26/26 [==============================] - 0s 3ms/step - loss: 160.2297 - mae: 8.2984 - val_loss: 1815.1508 - val_mae: 27.9005\n",
            "Epoch 26/100\n",
            "26/26 [==============================] - 0s 3ms/step - loss: 159.6990 - mae: 8.2310 - val_loss: 1847.1971 - val_mae: 28.2019\n",
            "Epoch 27/100\n",
            "26/26 [==============================] - 0s 3ms/step - loss: 159.2064 - mae: 8.1813 - val_loss: 1815.3959 - val_mae: 27.8736\n",
            "Epoch 28/100\n",
            "26/26 [==============================] - 0s 3ms/step - loss: 159.0324 - mae: 8.1886 - val_loss: 1812.5984 - val_mae: 27.7946\n",
            "Epoch 29/100\n",
            "26/26 [==============================] - 0s 3ms/step - loss: 158.4418 - mae: 8.1555 - val_loss: 1839.8820 - val_mae: 28.1361\n",
            "Epoch 30/100\n",
            "26/26 [==============================] - 0s 3ms/step - loss: 157.9170 - mae: 8.0902 - val_loss: 1861.1293 - val_mae: 28.3298\n",
            "Epoch 31/100\n",
            "26/26 [==============================] - 0s 3ms/step - loss: 157.6133 - mae: 8.0386 - val_loss: 1864.6273 - val_mae: 28.3155\n",
            "Epoch 32/100\n",
            "26/26 [==============================] - 0s 3ms/step - loss: 157.2673 - mae: 7.9812 - val_loss: 1852.5887 - val_mae: 28.2353\n",
            "Epoch 33/100\n",
            "26/26 [==============================] - 0s 3ms/step - loss: 157.0637 - mae: 7.9307 - val_loss: 1848.5270 - val_mae: 28.1946\n",
            "Epoch 34/100\n",
            "26/26 [==============================] - 0s 3ms/step - loss: 156.8955 - mae: 7.9063 - val_loss: 1862.4406 - val_mae: 28.3183\n",
            "Epoch 35/100\n",
            "26/26 [==============================] - 0s 2ms/step - loss: 156.7534 - mae: 7.8841 - val_loss: 1846.5657 - val_mae: 28.1773\n",
            "Epoch 36/100\n",
            "26/26 [==============================] - 0s 3ms/step - loss: 156.6576 - mae: 7.8635 - val_loss: 1873.8165 - val_mae: 28.4390\n",
            "Epoch 37/100\n",
            "26/26 [==============================] - 0s 3ms/step - loss: 156.5834 - mae: 7.8626 - val_loss: 1865.3423 - val_mae: 28.3816\n",
            "Epoch 38/100\n",
            "26/26 [==============================] - 0s 3ms/step - loss: 156.4837 - mae: 7.8277 - val_loss: 1868.9486 - val_mae: 28.3759\n",
            "Epoch 39/100\n",
            "26/26 [==============================] - 0s 3ms/step - loss: 156.4236 - mae: 7.8115 - val_loss: 1873.8206 - val_mae: 28.4387\n",
            "Epoch 40/100\n",
            "26/26 [==============================] - 0s 3ms/step - loss: 156.4323 - mae: 7.8195 - val_loss: 1870.1077 - val_mae: 28.3579\n",
            "Epoch 41/100\n",
            "26/26 [==============================] - 0s 3ms/step - loss: 156.5768 - mae: 7.9024 - val_loss: 1871.0431 - val_mae: 28.3719\n",
            "Epoch 42/100\n",
            "26/26 [==============================] - 0s 3ms/step - loss: 156.5055 - mae: 7.8617 - val_loss: 1859.0267 - val_mae: 28.2050\n",
            "Epoch 43/100\n",
            "26/26 [==============================] - 0s 2ms/step - loss: 156.2900 - mae: 7.8609 - val_loss: 1893.3729 - val_mae: 28.5127\n",
            "Epoch 44/100\n",
            "26/26 [==============================] - 0s 3ms/step - loss: 156.1104 - mae: 7.8170 - val_loss: 1854.9154 - val_mae: 28.1662\n",
            "Epoch 45/100\n",
            "26/26 [==============================] - 0s 3ms/step - loss: 156.0904 - mae: 7.8327 - val_loss: 1871.5706 - val_mae: 28.3259\n",
            "Epoch 46/100\n",
            "26/26 [==============================] - 0s 3ms/step - loss: 156.0445 - mae: 7.8239 - val_loss: 1871.7709 - val_mae: 28.3453\n",
            "Epoch 47/100\n",
            "26/26 [==============================] - 0s 3ms/step - loss: 156.3371 - mae: 7.9211 - val_loss: 1894.5677 - val_mae: 28.5477\n",
            "Epoch 48/100\n",
            "26/26 [==============================] - 0s 3ms/step - loss: 156.2851 - mae: 7.8810 - val_loss: 1900.7443 - val_mae: 28.5985\n",
            "Epoch 49/100\n",
            "26/26 [==============================] - 0s 3ms/step - loss: 156.1215 - mae: 7.8571 - val_loss: 1874.2197 - val_mae: 28.3601\n",
            "Epoch 50/100\n",
            "26/26 [==============================] - 0s 4ms/step - loss: 156.0420 - mae: 7.8168 - val_loss: 1905.1086 - val_mae: 28.6006\n",
            "Epoch 51/100\n",
            "26/26 [==============================] - 0s 3ms/step - loss: 156.0359 - mae: 7.8135 - val_loss: 1869.6705 - val_mae: 28.3263\n",
            "Epoch 52/100\n",
            "26/26 [==============================] - 0s 3ms/step - loss: 155.9871 - mae: 7.7959 - val_loss: 1842.1489 - val_mae: 28.0417\n",
            "Epoch 53/100\n",
            "26/26 [==============================] - 0s 3ms/step - loss: 155.9874 - mae: 7.7997 - val_loss: 1891.7521 - val_mae: 28.5365\n",
            "Epoch 54/100\n",
            "26/26 [==============================] - 0s 2ms/step - loss: 156.2014 - mae: 7.8437 - val_loss: 1875.1445 - val_mae: 28.3841\n",
            "Epoch 55/100\n",
            "26/26 [==============================] - 0s 3ms/step - loss: 156.3288 - mae: 7.8795 - val_loss: 1870.6039 - val_mae: 28.3196\n",
            "Epoch 56/100\n",
            "26/26 [==============================] - 0s 3ms/step - loss: 156.1463 - mae: 7.8439 - val_loss: 1867.7349 - val_mae: 28.3508\n",
            "Epoch 57/100\n",
            "26/26 [==============================] - 0s 3ms/step - loss: 156.1371 - mae: 7.8539 - val_loss: 1848.9161 - val_mae: 28.0885\n",
            "Epoch 58/100\n",
            "26/26 [==============================] - 0s 3ms/step - loss: 156.6475 - mae: 7.9547 - val_loss: 1834.2264 - val_mae: 27.9961\n",
            "Epoch 59/100\n",
            "26/26 [==============================] - 0s 3ms/step - loss: 156.1678 - mae: 7.9291 - val_loss: 1825.5007 - val_mae: 27.9853\n",
            "Epoch 60/100\n",
            "26/26 [==============================] - 0s 3ms/step - loss: 155.9457 - mae: 7.8968 - val_loss: 1832.3953 - val_mae: 27.9687\n",
            "Epoch 61/100\n",
            "26/26 [==============================] - 0s 3ms/step - loss: 155.5573 - mae: 7.8641 - val_loss: 1872.2373 - val_mae: 28.4364\n",
            "Epoch 62/100\n",
            "26/26 [==============================] - 0s 3ms/step - loss: 155.2378 - mae: 7.7970 - val_loss: 1830.4534 - val_mae: 27.9502\n",
            "Epoch 63/100\n",
            "26/26 [==============================] - 0s 3ms/step - loss: 155.0659 - mae: 7.7754 - val_loss: 1859.8279 - val_mae: 28.2452\n",
            "Epoch 64/100\n",
            "26/26 [==============================] - 0s 3ms/step - loss: 154.9197 - mae: 7.7295 - val_loss: 1891.4077 - val_mae: 28.5814\n",
            "Epoch 65/100\n",
            "26/26 [==============================] - 0s 2ms/step - loss: 154.9990 - mae: 7.7705 - val_loss: 1818.7197 - val_mae: 27.8411\n",
            "Epoch 66/100\n",
            "26/26 [==============================] - 0s 2ms/step - loss: 155.1458 - mae: 7.8074 - val_loss: 1906.2065 - val_mae: 28.7140\n",
            "Epoch 67/100\n",
            "26/26 [==============================] - 0s 2ms/step - loss: 155.3038 - mae: 7.8534 - val_loss: 1846.8967 - val_mae: 28.0505\n",
            "Epoch 68/100\n",
            "26/26 [==============================] - 0s 2ms/step - loss: 155.4054 - mae: 7.8843 - val_loss: 1888.8427 - val_mae: 28.5393\n",
            "Epoch 69/100\n",
            "26/26 [==============================] - 0s 3ms/step - loss: 154.8965 - mae: 7.7958 - val_loss: 1874.0648 - val_mae: 28.3928\n",
            "Epoch 70/100\n",
            "26/26 [==============================] - 0s 3ms/step - loss: 154.9953 - mae: 7.7829 - val_loss: 1847.8777 - val_mae: 28.1297\n",
            "Epoch 71/100\n",
            "26/26 [==============================] - 0s 3ms/step - loss: 155.0079 - mae: 7.7839 - val_loss: 1877.9335 - val_mae: 28.5300\n",
            "Epoch 72/100\n",
            "26/26 [==============================] - 0s 3ms/step - loss: 154.4135 - mae: 7.8804 - val_loss: 1855.4604 - val_mae: 28.3366\n",
            "Epoch 73/100\n",
            "26/26 [==============================] - 0s 2ms/step - loss: 153.2182 - mae: 7.7093 - val_loss: 1861.9684 - val_mae: 28.3542\n",
            "Epoch 74/100\n",
            "26/26 [==============================] - 0s 3ms/step - loss: 152.9796 - mae: 7.6413 - val_loss: 1874.8523 - val_mae: 28.4621\n",
            "Epoch 75/100\n",
            "26/26 [==============================] - 0s 3ms/step - loss: 152.8541 - mae: 7.5920 - val_loss: 1870.5262 - val_mae: 28.4185\n",
            "Epoch 76/100\n",
            "26/26 [==============================] - 0s 3ms/step - loss: 152.7987 - mae: 7.5650 - val_loss: 1851.3328 - val_mae: 28.2453\n",
            "Epoch 77/100\n",
            "26/26 [==============================] - 0s 3ms/step - loss: 152.7746 - mae: 7.5344 - val_loss: 1862.5985 - val_mae: 28.3517\n",
            "Epoch 78/100\n",
            "26/26 [==============================] - 0s 3ms/step - loss: 152.7456 - mae: 7.5105 - val_loss: 1852.2615 - val_mae: 28.2624\n",
            "Epoch 79/100\n",
            "26/26 [==============================] - 0s 2ms/step - loss: 152.7331 - mae: 7.4995 - val_loss: 1857.8879 - val_mae: 28.2960\n",
            "Epoch 80/100\n",
            "26/26 [==============================] - 0s 2ms/step - loss: 152.7283 - mae: 7.4912 - val_loss: 1857.1475 - val_mae: 28.3133\n",
            "Epoch 81/100\n",
            "26/26 [==============================] - 0s 2ms/step - loss: 152.7287 - mae: 7.4954 - val_loss: 1869.6023 - val_mae: 28.4194\n",
            "Epoch 82/100\n",
            "26/26 [==============================] - 0s 2ms/step - loss: 152.7379 - mae: 7.5054 - val_loss: 1850.4720 - val_mae: 28.2535\n",
            "Epoch 83/100\n",
            "26/26 [==============================] - 0s 3ms/step - loss: 152.7483 - mae: 7.5068 - val_loss: 1855.2961 - val_mae: 28.2755\n",
            "Epoch 84/100\n",
            "26/26 [==============================] - 0s 3ms/step - loss: 152.7814 - mae: 7.5278 - val_loss: 1857.8671 - val_mae: 28.3290\n",
            "Epoch 85/100\n",
            "26/26 [==============================] - 0s 3ms/step - loss: 152.8114 - mae: 7.5491 - val_loss: 1860.3953 - val_mae: 28.2911\n",
            "Epoch 86/100\n",
            "26/26 [==============================] - 0s 3ms/step - loss: 152.8752 - mae: 7.5714 - val_loss: 1842.5792 - val_mae: 28.2082\n",
            "Epoch 87/100\n",
            "26/26 [==============================] - 0s 3ms/step - loss: 153.0715 - mae: 7.6476 - val_loss: 1847.5873 - val_mae: 28.2144\n",
            "Epoch 88/100\n",
            "26/26 [==============================] - 0s 3ms/step - loss: 153.1160 - mae: 7.6269 - val_loss: 1864.5106 - val_mae: 28.4432\n",
            "Epoch 89/100\n",
            "26/26 [==============================] - 0s 3ms/step - loss: 153.1842 - mae: 7.6685 - val_loss: 1872.9020 - val_mae: 28.3924\n",
            "Epoch 90/100\n",
            "26/26 [==============================] - 0s 3ms/step - loss: 153.4185 - mae: 7.7179 - val_loss: 1834.5594 - val_mae: 28.1295\n",
            "Epoch 91/100\n",
            "26/26 [==============================] - 0s 3ms/step - loss: 153.7607 - mae: 7.8109 - val_loss: 1817.5049 - val_mae: 27.8690\n",
            "Epoch 92/100\n",
            "26/26 [==============================] - 0s 3ms/step - loss: 153.7055 - mae: 7.8028 - val_loss: 1884.9578 - val_mae: 28.6731\n",
            "Epoch 93/100\n",
            "26/26 [==============================] - 0s 3ms/step - loss: 153.5361 - mae: 7.7577 - val_loss: 1811.9397 - val_mae: 27.8184\n",
            "Epoch 94/100\n",
            "26/26 [==============================] - 0s 3ms/step - loss: 153.5221 - mae: 7.7615 - val_loss: 1866.4353 - val_mae: 28.5602\n",
            "Epoch 95/100\n",
            "26/26 [==============================] - 0s 2ms/step - loss: 153.5117 - mae: 7.7680 - val_loss: 1839.7832 - val_mae: 28.1780\n",
            "Epoch 96/100\n",
            "26/26 [==============================] - 0s 3ms/step - loss: 152.9304 - mae: 7.7079 - val_loss: 1796.2734 - val_mae: 27.7422\n",
            "Epoch 97/100\n",
            "26/26 [==============================] - 0s 3ms/step - loss: 152.6774 - mae: 7.6653 - val_loss: 1838.1588 - val_mae: 28.2369\n",
            "Epoch 98/100\n",
            "26/26 [==============================] - 0s 4ms/step - loss: 152.8147 - mae: 7.6584 - val_loss: 1823.4282 - val_mae: 28.0209\n",
            "Epoch 99/100\n",
            "26/26 [==============================] - 0s 3ms/step - loss: 152.5730 - mae: 7.6430 - val_loss: 1841.5132 - val_mae: 28.2665\n",
            "Epoch 100/100\n",
            "26/26 [==============================] - 0s 3ms/step - loss: 152.4030 - mae: 7.5980 - val_loss: 1825.5906 - val_mae: 28.0916\n"
          ]
        }
      ]
    },
    {
      "cell_type": "markdown",
      "source": [
        "CNN"
      ],
      "metadata": {
        "id": "Uekkb3dMfVs7"
      }
    },
    {
      "cell_type": "code",
      "source": [
        "i=Input(shape=(T,1))\n",
        "x=Conv1D(25,3,activation='relu')(i)\n",
        "x=MaxPooling1D(2)(x)\n",
        "x=Conv1D(50,3,activation='relu')(x)\n",
        "x=GlobalMaxPooling1D()(x)\n",
        "x=Dense(1)(x)\n",
        "model_cnn=Model(i,x)\n",
        "model_cnn.summary()"
      ],
      "metadata": {
        "colab": {
          "base_uri": "https://localhost:8080/"
        },
        "id": "Lboz32TXfjLR",
        "outputId": "25f7d9d0-3bd3-4cd3-a3cf-f1869626748f"
      },
      "execution_count": 197,
      "outputs": [
        {
          "output_type": "stream",
          "name": "stdout",
          "text": [
            "Model: \"model_13\"\n",
            "_________________________________________________________________\n",
            " Layer (type)                Output Shape              Param #   \n",
            "=================================================================\n",
            " input_14 (InputLayer)       [(None, 50, 1)]           0         \n",
            "                                                                 \n",
            " conv1d_6 (Conv1D)           (None, 48, 25)            100       \n",
            "                                                                 \n",
            " max_pooling1d_3 (MaxPooling  (None, 24, 25)           0         \n",
            " 1D)                                                             \n",
            "                                                                 \n",
            " conv1d_7 (Conv1D)           (None, 22, 50)            3800      \n",
            "                                                                 \n",
            " global_max_pooling1d_9 (Glo  (None, 50)               0         \n",
            " balMaxPooling1D)                                                \n",
            "                                                                 \n",
            " dense_37 (Dense)            (None, 1)                 51        \n",
            "                                                                 \n",
            "=================================================================\n",
            "Total params: 3,951\n",
            "Trainable params: 3,951\n",
            "Non-trainable params: 0\n",
            "_________________________________________________________________\n"
          ]
        }
      ]
    },
    {
      "cell_type": "code",
      "source": [
        "model_cnn.compile(loss='mse',\n",
        "              optimizer='adamax',\n",
        "              metrics=['mae','mse'])"
      ],
      "metadata": {
        "id": "5OpT5ORafjVT"
      },
      "execution_count": 198,
      "outputs": []
    },
    {
      "cell_type": "code",
      "source": [
        "r=model_cnn.fit(\n",
        "    Xtrain,\n",
        "    Ytrain,\n",
        "    epochs=100,\n",
        "    validation_data=(Xtest,Ytest)\n",
        ")"
      ],
      "metadata": {
        "colab": {
          "base_uri": "https://localhost:8080/"
        },
        "id": "mZ9Q3O2vfjf2",
        "outputId": "fe51a6ab-6578-4d11-a1e0-f9c6e5d19bf6"
      },
      "execution_count": 199,
      "outputs": [
        {
          "output_type": "stream",
          "name": "stdout",
          "text": [
            "Epoch 1/100\n",
            "26/26 [==============================] - 1s 9ms/step - loss: 293.9577 - mae: 12.3498 - mse: 293.9577 - val_loss: 1702.1533 - val_mae: 26.1878 - val_mse: 1702.1533\n",
            "Epoch 2/100\n",
            "26/26 [==============================] - 0s 5ms/step - loss: 260.6965 - mae: 11.7804 - mse: 260.6965 - val_loss: 1702.7616 - val_mae: 25.6805 - val_mse: 1702.7616\n",
            "Epoch 3/100\n",
            "26/26 [==============================] - 0s 5ms/step - loss: 259.5590 - mae: 11.7676 - mse: 259.5590 - val_loss: 1697.3507 - val_mae: 25.9602 - val_mse: 1697.3507\n",
            "Epoch 4/100\n",
            "26/26 [==============================] - 0s 5ms/step - loss: 257.1425 - mae: 11.7092 - mse: 257.1425 - val_loss: 1697.9819 - val_mae: 25.7788 - val_mse: 1697.9819\n",
            "Epoch 5/100\n",
            "26/26 [==============================] - 0s 4ms/step - loss: 255.9964 - mae: 11.7125 - mse: 255.9964 - val_loss: 1698.6245 - val_mae: 25.7455 - val_mse: 1698.6245\n",
            "Epoch 6/100\n",
            "26/26 [==============================] - 0s 5ms/step - loss: 256.0640 - mae: 11.7063 - mse: 256.0640 - val_loss: 1698.7819 - val_mae: 25.7355 - val_mse: 1698.7819\n",
            "Epoch 7/100\n",
            "26/26 [==============================] - 0s 4ms/step - loss: 254.5352 - mae: 11.6744 - mse: 254.5352 - val_loss: 1695.3529 - val_mae: 25.8067 - val_mse: 1695.3529\n",
            "Epoch 8/100\n",
            "26/26 [==============================] - 0s 4ms/step - loss: 252.4804 - mae: 11.6262 - mse: 252.4804 - val_loss: 1701.8975 - val_mae: 25.7090 - val_mse: 1701.8975\n",
            "Epoch 9/100\n",
            "26/26 [==============================] - 0s 5ms/step - loss: 251.8697 - mae: 11.5938 - mse: 251.8697 - val_loss: 1693.5519 - val_mae: 25.8105 - val_mse: 1693.5519\n",
            "Epoch 10/100\n",
            "26/26 [==============================] - 0s 5ms/step - loss: 251.7784 - mae: 11.6008 - mse: 251.7784 - val_loss: 1695.9901 - val_mae: 25.7331 - val_mse: 1695.9901\n",
            "Epoch 11/100\n",
            "26/26 [==============================] - 0s 4ms/step - loss: 251.1174 - mae: 11.6019 - mse: 251.1174 - val_loss: 1690.8463 - val_mae: 25.8125 - val_mse: 1690.8463\n",
            "Epoch 12/100\n",
            "26/26 [==============================] - 0s 4ms/step - loss: 250.1605 - mae: 11.5371 - mse: 250.1605 - val_loss: 1689.5505 - val_mae: 25.8106 - val_mse: 1689.5505\n",
            "Epoch 13/100\n",
            "26/26 [==============================] - 0s 5ms/step - loss: 248.8442 - mae: 11.5423 - mse: 248.8442 - val_loss: 1688.3547 - val_mae: 25.8857 - val_mse: 1688.3547\n",
            "Epoch 14/100\n",
            "26/26 [==============================] - 0s 5ms/step - loss: 248.9137 - mae: 11.5530 - mse: 248.9137 - val_loss: 1688.6362 - val_mae: 25.8204 - val_mse: 1688.6362\n",
            "Epoch 15/100\n",
            "26/26 [==============================] - 0s 5ms/step - loss: 248.2836 - mae: 11.5124 - mse: 248.2836 - val_loss: 1686.3674 - val_mae: 25.8552 - val_mse: 1686.3674\n",
            "Epoch 16/100\n",
            "26/26 [==============================] - 0s 5ms/step - loss: 248.5022 - mae: 11.5327 - mse: 248.5022 - val_loss: 1686.6641 - val_mae: 25.8202 - val_mse: 1686.6641\n",
            "Epoch 17/100\n",
            "26/26 [==============================] - 0s 4ms/step - loss: 247.3553 - mae: 11.4848 - mse: 247.3553 - val_loss: 1685.4677 - val_mae: 25.8011 - val_mse: 1685.4677\n",
            "Epoch 18/100\n",
            "26/26 [==============================] - 0s 6ms/step - loss: 246.8581 - mae: 11.5037 - mse: 246.8581 - val_loss: 1682.7606 - val_mae: 25.8420 - val_mse: 1682.7606\n",
            "Epoch 19/100\n",
            "26/26 [==============================] - 0s 4ms/step - loss: 246.8555 - mae: 11.4754 - mse: 246.8555 - val_loss: 1690.1991 - val_mae: 25.7561 - val_mse: 1690.1991\n",
            "Epoch 20/100\n",
            "26/26 [==============================] - 0s 4ms/step - loss: 248.2332 - mae: 11.5469 - mse: 248.2332 - val_loss: 1688.3130 - val_mae: 25.7624 - val_mse: 1688.3130\n",
            "Epoch 21/100\n",
            "26/26 [==============================] - 0s 4ms/step - loss: 246.9099 - mae: 11.4980 - mse: 246.9099 - val_loss: 1680.7379 - val_mae: 26.1241 - val_mse: 1680.7379\n",
            "Epoch 22/100\n",
            "26/26 [==============================] - 0s 4ms/step - loss: 245.0104 - mae: 11.4647 - mse: 245.0104 - val_loss: 1687.7900 - val_mae: 25.8159 - val_mse: 1687.7900\n",
            "Epoch 23/100\n",
            "26/26 [==============================] - 0s 4ms/step - loss: 245.1806 - mae: 11.4354 - mse: 245.1806 - val_loss: 1679.2827 - val_mae: 26.1448 - val_mse: 1679.2827\n",
            "Epoch 24/100\n",
            "26/26 [==============================] - 0s 4ms/step - loss: 245.8150 - mae: 11.4734 - mse: 245.8150 - val_loss: 1685.6521 - val_mae: 25.8238 - val_mse: 1685.6521\n",
            "Epoch 25/100\n",
            "26/26 [==============================] - 0s 4ms/step - loss: 247.1138 - mae: 11.5212 - mse: 247.1138 - val_loss: 1699.5311 - val_mae: 25.8117 - val_mse: 1699.5311\n",
            "Epoch 26/100\n",
            "26/26 [==============================] - 0s 5ms/step - loss: 246.3072 - mae: 11.4406 - mse: 246.3072 - val_loss: 1678.8148 - val_mae: 26.1127 - val_mse: 1678.8148\n",
            "Epoch 27/100\n",
            "26/26 [==============================] - 0s 5ms/step - loss: 245.2731 - mae: 11.4468 - mse: 245.2731 - val_loss: 1680.9087 - val_mae: 26.2325 - val_mse: 1680.9087\n",
            "Epoch 28/100\n",
            "26/26 [==============================] - 0s 4ms/step - loss: 245.1443 - mae: 11.4644 - mse: 245.1443 - val_loss: 1676.9512 - val_mae: 26.1906 - val_mse: 1676.9512\n",
            "Epoch 29/100\n",
            "26/26 [==============================] - 0s 5ms/step - loss: 245.1006 - mae: 11.4771 - mse: 245.1006 - val_loss: 1692.2640 - val_mae: 25.9117 - val_mse: 1692.2640\n",
            "Epoch 30/100\n",
            "26/26 [==============================] - 0s 4ms/step - loss: 242.0355 - mae: 11.3771 - mse: 242.0355 - val_loss: 1675.7113 - val_mae: 26.1163 - val_mse: 1675.7113\n",
            "Epoch 31/100\n",
            "26/26 [==============================] - 0s 4ms/step - loss: 243.6809 - mae: 11.4816 - mse: 243.6809 - val_loss: 1676.1929 - val_mae: 26.2153 - val_mse: 1676.1929\n",
            "Epoch 32/100\n",
            "26/26 [==============================] - 0s 4ms/step - loss: 244.7735 - mae: 11.3913 - mse: 244.7735 - val_loss: 1680.2283 - val_mae: 26.3041 - val_mse: 1680.2283\n",
            "Epoch 33/100\n",
            "26/26 [==============================] - 0s 5ms/step - loss: 244.6746 - mae: 11.4804 - mse: 244.6746 - val_loss: 1677.1122 - val_mae: 26.1936 - val_mse: 1677.1122\n",
            "Epoch 34/100\n",
            "26/26 [==============================] - 0s 5ms/step - loss: 240.9769 - mae: 11.3929 - mse: 240.9769 - val_loss: 1688.5515 - val_mae: 25.9653 - val_mse: 1688.5515\n",
            "Epoch 35/100\n",
            "26/26 [==============================] - 0s 5ms/step - loss: 241.0631 - mae: 11.3546 - mse: 241.0631 - val_loss: 1678.4185 - val_mae: 26.2699 - val_mse: 1678.4185\n",
            "Epoch 36/100\n",
            "26/26 [==============================] - 0s 5ms/step - loss: 240.2710 - mae: 11.3907 - mse: 240.2710 - val_loss: 1690.7197 - val_mae: 25.9900 - val_mse: 1690.7197\n",
            "Epoch 37/100\n",
            "26/26 [==============================] - 0s 5ms/step - loss: 240.5780 - mae: 11.3187 - mse: 240.5780 - val_loss: 1680.6390 - val_mae: 26.0728 - val_mse: 1680.6390\n",
            "Epoch 38/100\n",
            "26/26 [==============================] - 0s 5ms/step - loss: 240.1608 - mae: 11.3755 - mse: 240.1608 - val_loss: 1681.9092 - val_mae: 26.0630 - val_mse: 1681.9092\n",
            "Epoch 39/100\n",
            "26/26 [==============================] - 0s 4ms/step - loss: 241.2958 - mae: 11.3834 - mse: 241.2958 - val_loss: 1676.6243 - val_mae: 26.3125 - val_mse: 1676.6243\n",
            "Epoch 40/100\n",
            "26/26 [==============================] - 0s 5ms/step - loss: 240.3356 - mae: 11.3493 - mse: 240.3356 - val_loss: 1678.6129 - val_mae: 26.0787 - val_mse: 1678.6129\n",
            "Epoch 41/100\n",
            "26/26 [==============================] - 0s 4ms/step - loss: 239.5071 - mae: 11.3498 - mse: 239.5071 - val_loss: 1677.8027 - val_mae: 26.1188 - val_mse: 1677.8027\n",
            "Epoch 42/100\n",
            "26/26 [==============================] - 0s 5ms/step - loss: 238.8024 - mae: 11.2853 - mse: 238.8024 - val_loss: 1677.8019 - val_mae: 26.2730 - val_mse: 1677.8019\n",
            "Epoch 43/100\n",
            "26/26 [==============================] - 0s 5ms/step - loss: 238.0789 - mae: 11.3021 - mse: 238.0789 - val_loss: 1689.3555 - val_mae: 26.0453 - val_mse: 1689.3555\n",
            "Epoch 44/100\n",
            "26/26 [==============================] - 0s 4ms/step - loss: 238.5023 - mae: 11.3241 - mse: 238.5023 - val_loss: 1676.2175 - val_mae: 26.2284 - val_mse: 1676.2175\n",
            "Epoch 45/100\n",
            "26/26 [==============================] - 0s 4ms/step - loss: 237.3784 - mae: 11.2929 - mse: 237.3784 - val_loss: 1676.9668 - val_mae: 26.1567 - val_mse: 1676.9668\n",
            "Epoch 46/100\n",
            "26/26 [==============================] - 0s 4ms/step - loss: 237.4404 - mae: 11.3099 - mse: 237.4404 - val_loss: 1687.2007 - val_mae: 26.0701 - val_mse: 1687.2007\n",
            "Epoch 47/100\n",
            "26/26 [==============================] - 0s 5ms/step - loss: 236.5266 - mae: 11.2531 - mse: 236.5266 - val_loss: 1678.6517 - val_mae: 26.1405 - val_mse: 1678.6517\n",
            "Epoch 48/100\n",
            "26/26 [==============================] - 0s 4ms/step - loss: 236.2437 - mae: 11.2909 - mse: 236.2437 - val_loss: 1684.8911 - val_mae: 26.0751 - val_mse: 1684.8911\n",
            "Epoch 49/100\n",
            "26/26 [==============================] - 0s 4ms/step - loss: 236.6495 - mae: 11.2525 - mse: 236.6495 - val_loss: 1675.5967 - val_mae: 26.2199 - val_mse: 1675.5967\n",
            "Epoch 50/100\n",
            "26/26 [==============================] - 0s 4ms/step - loss: 236.9635 - mae: 11.2685 - mse: 236.9635 - val_loss: 1676.4646 - val_mae: 26.2645 - val_mse: 1676.4646\n",
            "Epoch 51/100\n",
            "26/26 [==============================] - 0s 4ms/step - loss: 236.5352 - mae: 11.2725 - mse: 236.5352 - val_loss: 1676.8652 - val_mae: 26.1834 - val_mse: 1676.8652\n",
            "Epoch 52/100\n",
            "26/26 [==============================] - 0s 6ms/step - loss: 235.4470 - mae: 11.2256 - mse: 235.4470 - val_loss: 1676.9574 - val_mae: 26.1572 - val_mse: 1676.9574\n",
            "Epoch 53/100\n",
            "26/26 [==============================] - 0s 4ms/step - loss: 236.4951 - mae: 11.2754 - mse: 236.4951 - val_loss: 1682.9398 - val_mae: 26.1549 - val_mse: 1682.9397\n",
            "Epoch 54/100\n",
            "26/26 [==============================] - 0s 4ms/step - loss: 234.5757 - mae: 11.2172 - mse: 234.5757 - val_loss: 1676.5740 - val_mae: 26.3401 - val_mse: 1676.5740\n",
            "Epoch 55/100\n",
            "26/26 [==============================] - 0s 4ms/step - loss: 237.6232 - mae: 11.3534 - mse: 237.6232 - val_loss: 1682.2439 - val_mae: 26.1523 - val_mse: 1682.2439\n",
            "Epoch 56/100\n",
            "26/26 [==============================] - 0s 5ms/step - loss: 234.7935 - mae: 11.2687 - mse: 234.7935 - val_loss: 1685.6459 - val_mae: 26.1461 - val_mse: 1685.6459\n",
            "Epoch 57/100\n",
            "26/26 [==============================] - 0s 4ms/step - loss: 236.3980 - mae: 11.2639 - mse: 236.3980 - val_loss: 1677.3927 - val_mae: 26.3490 - val_mse: 1677.3927\n",
            "Epoch 58/100\n",
            "26/26 [==============================] - 0s 4ms/step - loss: 234.6544 - mae: 11.1976 - mse: 234.6544 - val_loss: 1681.2819 - val_mae: 26.1861 - val_mse: 1681.2819\n",
            "Epoch 59/100\n",
            "26/26 [==============================] - 0s 5ms/step - loss: 234.3986 - mae: 11.2280 - mse: 234.3986 - val_loss: 1682.4161 - val_mae: 26.2197 - val_mse: 1682.4161\n",
            "Epoch 60/100\n",
            "26/26 [==============================] - 0s 4ms/step - loss: 234.4474 - mae: 11.2353 - mse: 234.4474 - val_loss: 1693.7673 - val_mae: 26.1977 - val_mse: 1693.7673\n",
            "Epoch 61/100\n",
            "26/26 [==============================] - 0s 5ms/step - loss: 234.3855 - mae: 11.2110 - mse: 234.3855 - val_loss: 1681.0056 - val_mae: 26.4071 - val_mse: 1681.0056\n",
            "Epoch 62/100\n",
            "26/26 [==============================] - 0s 4ms/step - loss: 232.8912 - mae: 11.1746 - mse: 232.8912 - val_loss: 1688.7450 - val_mae: 26.2383 - val_mse: 1688.7450\n",
            "Epoch 63/100\n",
            "26/26 [==============================] - 0s 4ms/step - loss: 233.9216 - mae: 11.2106 - mse: 233.9216 - val_loss: 1681.9747 - val_mae: 26.4601 - val_mse: 1681.9747\n",
            "Epoch 64/100\n",
            "26/26 [==============================] - 0s 5ms/step - loss: 232.7968 - mae: 11.2017 - mse: 232.7968 - val_loss: 1688.9697 - val_mae: 26.2341 - val_mse: 1688.9697\n",
            "Epoch 65/100\n",
            "26/26 [==============================] - 0s 4ms/step - loss: 233.7602 - mae: 11.2391 - mse: 233.7602 - val_loss: 1746.9618 - val_mae: 26.3448 - val_mse: 1746.9618\n",
            "Epoch 66/100\n",
            "26/26 [==============================] - 0s 5ms/step - loss: 236.4250 - mae: 11.3092 - mse: 236.4250 - val_loss: 1684.7872 - val_mae: 26.2942 - val_mse: 1684.7872\n",
            "Epoch 67/100\n",
            "26/26 [==============================] - 0s 5ms/step - loss: 231.7236 - mae: 11.1531 - mse: 231.7236 - val_loss: 1683.4257 - val_mae: 26.3423 - val_mse: 1683.4257\n",
            "Epoch 68/100\n",
            "26/26 [==============================] - 0s 4ms/step - loss: 233.2912 - mae: 11.2494 - mse: 233.2912 - val_loss: 1699.2787 - val_mae: 26.3014 - val_mse: 1699.2787\n",
            "Epoch 69/100\n",
            "26/26 [==============================] - 0s 4ms/step - loss: 231.4927 - mae: 11.1683 - mse: 231.4927 - val_loss: 1683.1644 - val_mae: 26.4377 - val_mse: 1683.1644\n",
            "Epoch 70/100\n",
            "26/26 [==============================] - 0s 5ms/step - loss: 230.6723 - mae: 11.1539 - mse: 230.6723 - val_loss: 1687.8303 - val_mae: 26.3016 - val_mse: 1687.8303\n",
            "Epoch 71/100\n",
            "26/26 [==============================] - 0s 4ms/step - loss: 232.4184 - mae: 11.2142 - mse: 232.4184 - val_loss: 1685.4393 - val_mae: 26.4886 - val_mse: 1685.4393\n",
            "Epoch 72/100\n",
            "26/26 [==============================] - 0s 5ms/step - loss: 230.1289 - mae: 11.1469 - mse: 230.1289 - val_loss: 1721.3391 - val_mae: 26.3152 - val_mse: 1721.3391\n",
            "Epoch 73/100\n",
            "26/26 [==============================] - 0s 4ms/step - loss: 232.8559 - mae: 11.2375 - mse: 232.8559 - val_loss: 1737.1515 - val_mae: 26.3796 - val_mse: 1737.1515\n",
            "Epoch 74/100\n",
            "26/26 [==============================] - 0s 4ms/step - loss: 231.3216 - mae: 11.1611 - mse: 231.3216 - val_loss: 1682.3555 - val_mae: 26.3696 - val_mse: 1682.3555\n",
            "Epoch 75/100\n",
            "26/26 [==============================] - 0s 5ms/step - loss: 231.2136 - mae: 11.1413 - mse: 231.2136 - val_loss: 1690.4977 - val_mae: 26.6675 - val_mse: 1690.4977\n",
            "Epoch 76/100\n",
            "26/26 [==============================] - 0s 4ms/step - loss: 231.7537 - mae: 11.2339 - mse: 231.7537 - val_loss: 1711.1715 - val_mae: 26.3567 - val_mse: 1711.1715\n",
            "Epoch 77/100\n",
            "26/26 [==============================] - 0s 5ms/step - loss: 228.9582 - mae: 11.1230 - mse: 228.9582 - val_loss: 1693.2899 - val_mae: 26.3470 - val_mse: 1693.2899\n",
            "Epoch 78/100\n",
            "26/26 [==============================] - 0s 5ms/step - loss: 230.3178 - mae: 11.1289 - mse: 230.3178 - val_loss: 1689.8160 - val_mae: 26.4044 - val_mse: 1689.8160\n",
            "Epoch 79/100\n",
            "26/26 [==============================] - 0s 5ms/step - loss: 228.7706 - mae: 11.1107 - mse: 228.7706 - val_loss: 1718.3759 - val_mae: 26.3876 - val_mse: 1718.3759\n",
            "Epoch 80/100\n",
            "26/26 [==============================] - 0s 5ms/step - loss: 228.1132 - mae: 11.0751 - mse: 228.1132 - val_loss: 1690.3475 - val_mae: 26.4318 - val_mse: 1690.3475\n",
            "Epoch 81/100\n",
            "26/26 [==============================] - 0s 4ms/step - loss: 229.0466 - mae: 11.1028 - mse: 229.0466 - val_loss: 1688.0099 - val_mae: 26.4828 - val_mse: 1688.0099\n",
            "Epoch 82/100\n",
            "26/26 [==============================] - 0s 5ms/step - loss: 231.6381 - mae: 11.1726 - mse: 231.6381 - val_loss: 1695.2886 - val_mae: 26.6814 - val_mse: 1695.2886\n",
            "Epoch 83/100\n",
            "26/26 [==============================] - 0s 5ms/step - loss: 228.5382 - mae: 11.0781 - mse: 228.5382 - val_loss: 1691.7289 - val_mae: 26.4853 - val_mse: 1691.7289\n",
            "Epoch 84/100\n",
            "26/26 [==============================] - 0s 4ms/step - loss: 227.2947 - mae: 11.0837 - mse: 227.2947 - val_loss: 1690.5400 - val_mae: 26.5214 - val_mse: 1690.5400\n",
            "Epoch 85/100\n",
            "26/26 [==============================] - 0s 4ms/step - loss: 226.8207 - mae: 11.0753 - mse: 226.8207 - val_loss: 1692.9924 - val_mae: 26.4634 - val_mse: 1692.9924\n",
            "Epoch 86/100\n",
            "26/26 [==============================] - 0s 5ms/step - loss: 227.6585 - mae: 11.0895 - mse: 227.6585 - val_loss: 1695.0023 - val_mae: 26.4837 - val_mse: 1695.0023\n",
            "Epoch 87/100\n",
            "26/26 [==============================] - 0s 4ms/step - loss: 226.4881 - mae: 11.0493 - mse: 226.4881 - val_loss: 1704.8000 - val_mae: 26.4272 - val_mse: 1704.8000\n",
            "Epoch 88/100\n",
            "26/26 [==============================] - 0s 4ms/step - loss: 225.5360 - mae: 11.0337 - mse: 225.5360 - val_loss: 1696.8888 - val_mae: 26.5400 - val_mse: 1696.8888\n",
            "Epoch 89/100\n",
            "26/26 [==============================] - 0s 4ms/step - loss: 225.7854 - mae: 11.0635 - mse: 225.7854 - val_loss: 1704.2314 - val_mae: 26.4506 - val_mse: 1704.2314\n",
            "Epoch 90/100\n",
            "26/26 [==============================] - 0s 4ms/step - loss: 225.8631 - mae: 11.0442 - mse: 225.8631 - val_loss: 1698.0164 - val_mae: 26.6907 - val_mse: 1698.0164\n",
            "Epoch 91/100\n",
            "26/26 [==============================] - 0s 5ms/step - loss: 225.6957 - mae: 11.0058 - mse: 225.6957 - val_loss: 1703.1313 - val_mae: 26.4868 - val_mse: 1703.1313\n",
            "Epoch 92/100\n",
            "26/26 [==============================] - 0s 4ms/step - loss: 226.5540 - mae: 11.0758 - mse: 226.5540 - val_loss: 1749.9368 - val_mae: 26.5997 - val_mse: 1749.9368\n",
            "Epoch 93/100\n",
            "26/26 [==============================] - 0s 4ms/step - loss: 224.9365 - mae: 11.0465 - mse: 224.9365 - val_loss: 1699.2404 - val_mae: 26.5256 - val_mse: 1699.2404\n",
            "Epoch 94/100\n",
            "26/26 [==============================] - 0s 4ms/step - loss: 224.4627 - mae: 10.9998 - mse: 224.4627 - val_loss: 1707.8716 - val_mae: 26.5900 - val_mse: 1707.8716\n",
            "Epoch 95/100\n",
            "26/26 [==============================] - 0s 5ms/step - loss: 224.2912 - mae: 11.0004 - mse: 224.2912 - val_loss: 1713.9640 - val_mae: 26.5895 - val_mse: 1713.9640\n",
            "Epoch 96/100\n",
            "26/26 [==============================] - 0s 5ms/step - loss: 224.8327 - mae: 11.0277 - mse: 224.8327 - val_loss: 1706.4148 - val_mae: 26.8665 - val_mse: 1706.4148\n",
            "Epoch 97/100\n",
            "26/26 [==============================] - 0s 4ms/step - loss: 226.7275 - mae: 11.0839 - mse: 226.7275 - val_loss: 1704.6646 - val_mae: 26.6564 - val_mse: 1704.6646\n",
            "Epoch 98/100\n",
            "26/26 [==============================] - 0s 4ms/step - loss: 226.7358 - mae: 11.0499 - mse: 226.7358 - val_loss: 1718.1823 - val_mae: 26.6082 - val_mse: 1718.1823\n",
            "Epoch 99/100\n",
            "26/26 [==============================] - 0s 4ms/step - loss: 222.6017 - mae: 10.9516 - mse: 222.6017 - val_loss: 1704.7297 - val_mae: 26.6873 - val_mse: 1704.7297\n",
            "Epoch 100/100\n",
            "26/26 [==============================] - 0s 5ms/step - loss: 222.8430 - mae: 10.9657 - mse: 222.8430 - val_loss: 1706.5145 - val_mae: 26.6769 - val_mse: 1706.5145\n"
          ]
        }
      ]
    },
    {
      "cell_type": "markdown",
      "source": [
        "LSTM"
      ],
      "metadata": {
        "id": "M-I1WeJ7gOl3"
      }
    },
    {
      "cell_type": "code",
      "source": [
        "i=Input(shape=(T,1))\n",
        "x=LSTM(200,return_sequences=True)(i)\n",
        "x=LSTM(200,return_sequences=True)(x)\n",
        "x=GlobalMaxPooling1D()(x)\n",
        "x=Dense(100)(x)\n",
        "x=Dense(50)(x)\n",
        "x=Dense(1)(x)\n",
        "model_lstm=Model(i,x)\n",
        "model_lstm.summary()"
      ],
      "metadata": {
        "colab": {
          "base_uri": "https://localhost:8080/"
        },
        "id": "zsJnKRlwhvmv",
        "outputId": "0721b2b9-adac-432a-dabd-c9439b6c95df"
      },
      "execution_count": 200,
      "outputs": [
        {
          "output_type": "stream",
          "name": "stdout",
          "text": [
            "Model: \"model_14\"\n",
            "_________________________________________________________________\n",
            " Layer (type)                Output Shape              Param #   \n",
            "=================================================================\n",
            " input_15 (InputLayer)       [(None, 50, 1)]           0         \n",
            "                                                                 \n",
            " lstm_6 (LSTM)               (None, 50, 200)           161600    \n",
            "                                                                 \n",
            " lstm_7 (LSTM)               (None, 50, 200)           320800    \n",
            "                                                                 \n",
            " global_max_pooling1d_10 (Gl  (None, 200)              0         \n",
            " obalMaxPooling1D)                                               \n",
            "                                                                 \n",
            " dense_38 (Dense)            (None, 100)               20100     \n",
            "                                                                 \n",
            " dense_39 (Dense)            (None, 50)                5050      \n",
            "                                                                 \n",
            " dense_40 (Dense)            (None, 1)                 51        \n",
            "                                                                 \n",
            "=================================================================\n",
            "Total params: 507,601\n",
            "Trainable params: 507,601\n",
            "Non-trainable params: 0\n",
            "_________________________________________________________________\n"
          ]
        }
      ]
    },
    {
      "cell_type": "code",
      "source": [
        "check_point_lstm=ModelCheckpoint('best_model.h5',monitor='val_loss',save_best_only=True)"
      ],
      "metadata": {
        "id": "uN9QDfEohvs-"
      },
      "execution_count": 201,
      "outputs": []
    },
    {
      "cell_type": "code",
      "source": [
        "model_lstm.compile(loss='mse',\n",
        "              optimizer='adamax',\n",
        "              metrics=['mae','mse'])"
      ],
      "metadata": {
        "id": "MwYBTZ7Uhv4I"
      },
      "execution_count": 202,
      "outputs": []
    },
    {
      "cell_type": "code",
      "source": [
        "r=model_lstm.fit(\n",
        "    Xtrain,\n",
        "    Ytrain,\n",
        "    epochs=100,\n",
        "    validation_data=(Xtest,Ytest),\n",
        "    callbacks=[check_point_lstm]\n",
        ")"
      ],
      "metadata": {
        "colab": {
          "base_uri": "https://localhost:8080/"
        },
        "id": "hucIsLiBiOQ3",
        "outputId": "8487c01a-d444-4772-d5e9-b501ed002dff"
      },
      "execution_count": 203,
      "outputs": [
        {
          "output_type": "stream",
          "name": "stdout",
          "text": [
            "Epoch 1/100\n",
            "26/26 [==============================] - 8s 202ms/step - loss: 262.1008 - mae: 11.8383 - mse: 262.1008 - val_loss: 1592.5985 - val_mae: 25.4912 - val_mse: 1592.5985\n",
            "Epoch 2/100\n",
            "26/26 [==============================] - 5s 177ms/step - loss: 260.9043 - mae: 11.7860 - mse: 260.9043 - val_loss: 1591.5004 - val_mae: 25.5352 - val_mse: 1591.5004\n",
            "Epoch 3/100\n",
            "26/26 [==============================] - 5s 174ms/step - loss: 260.4075 - mae: 11.7830 - mse: 260.4075 - val_loss: 1591.4357 - val_mae: 25.5582 - val_mse: 1591.4357\n",
            "Epoch 4/100\n",
            "26/26 [==============================] - 4s 171ms/step - loss: 260.0385 - mae: 11.7591 - mse: 260.0385 - val_loss: 1591.4384 - val_mae: 25.5315 - val_mse: 1591.4384\n",
            "Epoch 5/100\n",
            "26/26 [==============================] - 5s 175ms/step - loss: 259.9981 - mae: 11.7892 - mse: 259.9981 - val_loss: 1591.2273 - val_mae: 25.5361 - val_mse: 1591.2273\n",
            "Epoch 6/100\n",
            "26/26 [==============================] - 5s 182ms/step - loss: 260.3229 - mae: 11.7779 - mse: 260.3229 - val_loss: 1590.9899 - val_mae: 25.5387 - val_mse: 1590.9899\n",
            "Epoch 7/100\n",
            "26/26 [==============================] - 4s 173ms/step - loss: 259.6380 - mae: 11.7635 - mse: 259.6380 - val_loss: 1590.9192 - val_mae: 25.5359 - val_mse: 1590.9192\n",
            "Epoch 8/100\n",
            "26/26 [==============================] - 4s 173ms/step - loss: 258.9620 - mae: 11.7580 - mse: 258.9620 - val_loss: 1591.0994 - val_mae: 25.4980 - val_mse: 1591.0994\n",
            "Epoch 9/100\n",
            "26/26 [==============================] - 4s 171ms/step - loss: 258.4700 - mae: 11.7532 - mse: 258.4700 - val_loss: 1589.5789 - val_mae: 25.5008 - val_mse: 1589.5789\n",
            "Epoch 10/100\n",
            "26/26 [==============================] - 4s 171ms/step - loss: 258.6353 - mae: 11.7643 - mse: 258.6353 - val_loss: 1590.7479 - val_mae: 25.4444 - val_mse: 1590.7479\n",
            "Epoch 11/100\n",
            "26/26 [==============================] - 4s 171ms/step - loss: 257.7116 - mae: 11.7636 - mse: 257.7116 - val_loss: 1590.6533 - val_mae: 25.4297 - val_mse: 1590.6533\n",
            "Epoch 12/100\n",
            "26/26 [==============================] - 4s 170ms/step - loss: 256.8626 - mae: 11.7131 - mse: 256.8626 - val_loss: 1590.4961 - val_mae: 25.5441 - val_mse: 1590.4961\n",
            "Epoch 13/100\n",
            "26/26 [==============================] - 4s 173ms/step - loss: 255.8488 - mae: 11.7110 - mse: 255.8488 - val_loss: 1587.8719 - val_mae: 25.4638 - val_mse: 1587.8719\n",
            "Epoch 14/100\n",
            "26/26 [==============================] - 4s 173ms/step - loss: 254.2121 - mae: 11.7018 - mse: 254.2121 - val_loss: 1592.5892 - val_mae: 25.4330 - val_mse: 1592.5892\n",
            "Epoch 15/100\n",
            "26/26 [==============================] - 4s 171ms/step - loss: 255.8089 - mae: 11.7137 - mse: 255.8089 - val_loss: 1586.1819 - val_mae: 25.4892 - val_mse: 1586.1819\n",
            "Epoch 16/100\n",
            "26/26 [==============================] - 4s 172ms/step - loss: 253.0079 - mae: 11.6702 - mse: 253.0079 - val_loss: 1596.1458 - val_mae: 25.4477 - val_mse: 1596.1458\n",
            "Epoch 17/100\n",
            "26/26 [==============================] - 4s 172ms/step - loss: 253.4743 - mae: 11.6916 - mse: 253.4743 - val_loss: 1587.5564 - val_mae: 25.4837 - val_mse: 1587.5564\n",
            "Epoch 18/100\n",
            "26/26 [==============================] - 5s 177ms/step - loss: 250.7687 - mae: 11.6535 - mse: 250.7687 - val_loss: 1591.7390 - val_mae: 25.4550 - val_mse: 1591.7390\n",
            "Epoch 19/100\n",
            "26/26 [==============================] - 4s 173ms/step - loss: 252.4298 - mae: 11.6826 - mse: 252.4298 - val_loss: 1601.0635 - val_mae: 25.4675 - val_mse: 1601.0635\n",
            "Epoch 20/100\n",
            "26/26 [==============================] - 4s 171ms/step - loss: 254.0500 - mae: 11.6945 - mse: 254.0500 - val_loss: 1593.8201 - val_mae: 25.5385 - val_mse: 1593.8201\n",
            "Epoch 21/100\n",
            "26/26 [==============================] - 4s 174ms/step - loss: 250.0385 - mae: 11.6422 - mse: 250.0385 - val_loss: 1592.9167 - val_mae: 25.5853 - val_mse: 1592.9167\n",
            "Epoch 22/100\n",
            "26/26 [==============================] - 5s 175ms/step - loss: 249.7182 - mae: 11.6185 - mse: 249.7182 - val_loss: 1592.5048 - val_mae: 25.5081 - val_mse: 1592.5048\n",
            "Epoch 23/100\n",
            "26/26 [==============================] - 4s 170ms/step - loss: 247.2533 - mae: 11.5370 - mse: 247.2533 - val_loss: 1590.4863 - val_mae: 25.5069 - val_mse: 1590.4863\n",
            "Epoch 24/100\n",
            "26/26 [==============================] - 5s 177ms/step - loss: 247.2685 - mae: 11.5125 - mse: 247.2685 - val_loss: 1593.7457 - val_mae: 25.5689 - val_mse: 1593.7457\n",
            "Epoch 25/100\n",
            "26/26 [==============================] - 4s 172ms/step - loss: 247.8261 - mae: 11.5929 - mse: 247.8261 - val_loss: 1605.4150 - val_mae: 25.5993 - val_mse: 1605.4150\n",
            "Epoch 26/100\n",
            "26/26 [==============================] - 4s 174ms/step - loss: 244.8048 - mae: 11.4770 - mse: 244.8048 - val_loss: 1594.9888 - val_mae: 25.4897 - val_mse: 1594.9888\n",
            "Epoch 27/100\n",
            "26/26 [==============================] - 4s 171ms/step - loss: 244.8506 - mae: 11.5655 - mse: 244.8506 - val_loss: 1593.7008 - val_mae: 25.6268 - val_mse: 1593.7008\n",
            "Epoch 28/100\n",
            "26/26 [==============================] - 4s 174ms/step - loss: 244.4805 - mae: 11.5486 - mse: 244.4805 - val_loss: 1601.0979 - val_mae: 25.9443 - val_mse: 1601.0979\n",
            "Epoch 29/100\n",
            "26/26 [==============================] - 4s 172ms/step - loss: 245.3904 - mae: 11.5431 - mse: 245.3904 - val_loss: 1592.3691 - val_mae: 25.6370 - val_mse: 1592.3691\n",
            "Epoch 30/100\n",
            "26/26 [==============================] - 4s 174ms/step - loss: 241.9664 - mae: 11.4505 - mse: 241.9664 - val_loss: 1590.7080 - val_mae: 25.6073 - val_mse: 1590.7080\n",
            "Epoch 31/100\n",
            "26/26 [==============================] - 4s 169ms/step - loss: 245.2585 - mae: 11.5937 - mse: 245.2585 - val_loss: 1597.2726 - val_mae: 25.7108 - val_mse: 1597.2726\n",
            "Epoch 32/100\n",
            "26/26 [==============================] - 4s 171ms/step - loss: 238.1730 - mae: 11.4550 - mse: 238.1730 - val_loss: 1603.3643 - val_mae: 26.0115 - val_mse: 1603.3643\n",
            "Epoch 33/100\n",
            "26/26 [==============================] - 4s 174ms/step - loss: 245.6233 - mae: 11.6225 - mse: 245.6233 - val_loss: 1595.9194 - val_mae: 25.7430 - val_mse: 1595.9194\n",
            "Epoch 34/100\n",
            "26/26 [==============================] - 5s 177ms/step - loss: 237.2559 - mae: 11.3412 - mse: 237.2559 - val_loss: 1599.1556 - val_mae: 25.6812 - val_mse: 1599.1556\n",
            "Epoch 35/100\n",
            "26/26 [==============================] - 5s 174ms/step - loss: 236.5199 - mae: 11.3456 - mse: 236.5199 - val_loss: 1594.8873 - val_mae: 25.6747 - val_mse: 1594.8873\n",
            "Epoch 36/100\n",
            "26/26 [==============================] - 5s 176ms/step - loss: 232.5744 - mae: 11.2421 - mse: 232.5744 - val_loss: 1606.7366 - val_mae: 25.8398 - val_mse: 1606.7366\n",
            "Epoch 37/100\n",
            "26/26 [==============================] - 4s 173ms/step - loss: 238.3783 - mae: 11.3236 - mse: 238.3783 - val_loss: 1598.7078 - val_mae: 25.7164 - val_mse: 1598.7078\n",
            "Epoch 38/100\n",
            "26/26 [==============================] - 4s 171ms/step - loss: 231.6190 - mae: 11.2359 - mse: 231.6190 - val_loss: 1604.5332 - val_mae: 25.8278 - val_mse: 1604.5332\n",
            "Epoch 39/100\n",
            "26/26 [==============================] - 5s 175ms/step - loss: 228.2177 - mae: 11.1918 - mse: 228.2177 - val_loss: 1601.4983 - val_mae: 25.8301 - val_mse: 1601.4983\n",
            "Epoch 40/100\n",
            "26/26 [==============================] - 4s 170ms/step - loss: 228.9670 - mae: 11.1853 - mse: 228.9670 - val_loss: 1615.6986 - val_mae: 25.9572 - val_mse: 1615.6986\n",
            "Epoch 41/100\n",
            "26/26 [==============================] - 4s 171ms/step - loss: 225.8170 - mae: 11.1003 - mse: 225.8170 - val_loss: 1603.5616 - val_mae: 25.8509 - val_mse: 1603.5616\n",
            "Epoch 42/100\n",
            "26/26 [==============================] - 5s 174ms/step - loss: 226.4963 - mae: 11.1583 - mse: 226.4963 - val_loss: 1602.9265 - val_mae: 25.8906 - val_mse: 1602.9265\n",
            "Epoch 43/100\n",
            "26/26 [==============================] - 4s 174ms/step - loss: 220.8190 - mae: 11.0035 - mse: 220.8190 - val_loss: 1605.0936 - val_mae: 25.9273 - val_mse: 1605.0936\n",
            "Epoch 44/100\n",
            "26/26 [==============================] - 4s 170ms/step - loss: 217.5197 - mae: 10.9394 - mse: 217.5197 - val_loss: 1611.1171 - val_mae: 26.0260 - val_mse: 1611.1171\n",
            "Epoch 45/100\n",
            "26/26 [==============================] - 4s 172ms/step - loss: 215.9339 - mae: 10.7904 - mse: 215.9339 - val_loss: 1628.6597 - val_mae: 26.4101 - val_mse: 1628.6597\n",
            "Epoch 46/100\n",
            "26/26 [==============================] - 4s 170ms/step - loss: 215.1225 - mae: 10.8602 - mse: 215.1225 - val_loss: 1622.5669 - val_mae: 26.4888 - val_mse: 1622.5669\n",
            "Epoch 47/100\n",
            "26/26 [==============================] - 4s 171ms/step - loss: 210.1897 - mae: 10.6950 - mse: 210.1897 - val_loss: 1620.0040 - val_mae: 26.3705 - val_mse: 1620.0040\n",
            "Epoch 48/100\n",
            "26/26 [==============================] - 4s 173ms/step - loss: 205.0166 - mae: 10.5893 - mse: 205.0166 - val_loss: 1625.9330 - val_mae: 26.5330 - val_mse: 1625.9330\n",
            "Epoch 49/100\n",
            "26/26 [==============================] - 4s 172ms/step - loss: 206.2710 - mae: 10.6078 - mse: 206.2710 - val_loss: 1643.4108 - val_mae: 26.7825 - val_mse: 1643.4108\n",
            "Epoch 50/100\n",
            "26/26 [==============================] - 5s 174ms/step - loss: 204.0464 - mae: 10.5614 - mse: 204.0464 - val_loss: 1632.3041 - val_mae: 26.4953 - val_mse: 1632.3041\n",
            "Epoch 51/100\n",
            "26/26 [==============================] - 5s 174ms/step - loss: 204.4645 - mae: 10.5432 - mse: 204.4645 - val_loss: 1648.4664 - val_mae: 26.8390 - val_mse: 1648.4664\n",
            "Epoch 52/100\n",
            "26/26 [==============================] - 4s 174ms/step - loss: 198.1499 - mae: 10.3851 - mse: 198.1499 - val_loss: 1634.4672 - val_mae: 26.6436 - val_mse: 1634.4672\n",
            "Epoch 53/100\n",
            "26/26 [==============================] - 4s 171ms/step - loss: 196.9786 - mae: 10.3255 - mse: 196.9786 - val_loss: 1652.3735 - val_mae: 27.0355 - val_mse: 1652.3735\n",
            "Epoch 54/100\n",
            "26/26 [==============================] - 5s 174ms/step - loss: 190.8561 - mae: 10.1893 - mse: 190.8561 - val_loss: 1654.0767 - val_mae: 27.1426 - val_mse: 1654.0767\n",
            "Epoch 55/100\n",
            "26/26 [==============================] - 4s 170ms/step - loss: 190.3040 - mae: 10.1662 - mse: 190.3040 - val_loss: 1660.2725 - val_mae: 27.0496 - val_mse: 1660.2725\n",
            "Epoch 56/100\n",
            "26/26 [==============================] - 4s 172ms/step - loss: 186.9485 - mae: 10.0797 - mse: 186.9485 - val_loss: 1677.8076 - val_mae: 27.3117 - val_mse: 1677.8076\n",
            "Epoch 57/100\n",
            "26/26 [==============================] - 5s 175ms/step - loss: 185.4690 - mae: 10.0203 - mse: 185.4690 - val_loss: 1672.3793 - val_mae: 27.3849 - val_mse: 1672.3793\n",
            "Epoch 58/100\n",
            "26/26 [==============================] - 5s 174ms/step - loss: 187.3737 - mae: 10.0931 - mse: 187.3737 - val_loss: 1663.0248 - val_mae: 27.0967 - val_mse: 1663.0248\n",
            "Epoch 59/100\n",
            "26/26 [==============================] - 4s 173ms/step - loss: 179.6257 - mae: 9.8461 - mse: 179.6257 - val_loss: 1682.7898 - val_mae: 27.6995 - val_mse: 1682.7898\n",
            "Epoch 60/100\n",
            "26/26 [==============================] - 4s 168ms/step - loss: 174.5871 - mae: 9.7523 - mse: 174.5871 - val_loss: 1678.2648 - val_mae: 27.6085 - val_mse: 1678.2648\n",
            "Epoch 61/100\n",
            "26/26 [==============================] - 5s 174ms/step - loss: 172.3094 - mae: 9.6473 - mse: 172.3094 - val_loss: 1684.0297 - val_mae: 27.4457 - val_mse: 1684.0297\n",
            "Epoch 62/100\n",
            "26/26 [==============================] - 4s 173ms/step - loss: 166.8742 - mae: 9.4273 - mse: 166.8742 - val_loss: 1695.4279 - val_mae: 28.0051 - val_mse: 1695.4279\n",
            "Epoch 63/100\n",
            "26/26 [==============================] - 4s 173ms/step - loss: 173.6610 - mae: 9.8107 - mse: 173.6610 - val_loss: 1684.7040 - val_mae: 27.6204 - val_mse: 1684.7040\n",
            "Epoch 64/100\n",
            "26/26 [==============================] - 5s 175ms/step - loss: 168.4664 - mae: 9.6469 - mse: 168.4664 - val_loss: 1698.0154 - val_mae: 27.7798 - val_mse: 1698.0154\n",
            "Epoch 65/100\n",
            "26/26 [==============================] - 4s 172ms/step - loss: 159.8059 - mae: 9.2786 - mse: 159.8059 - val_loss: 1682.8849 - val_mae: 27.4765 - val_mse: 1682.8849\n",
            "Epoch 66/100\n",
            "26/26 [==============================] - 4s 172ms/step - loss: 167.2435 - mae: 9.4894 - mse: 167.2435 - val_loss: 1697.4695 - val_mae: 27.9103 - val_mse: 1697.4695\n",
            "Epoch 67/100\n",
            "26/26 [==============================] - 5s 174ms/step - loss: 155.2061 - mae: 9.1011 - mse: 155.2061 - val_loss: 1738.5529 - val_mae: 28.7766 - val_mse: 1738.5529\n",
            "Epoch 68/100\n",
            "26/26 [==============================] - 5s 175ms/step - loss: 164.0951 - mae: 9.4405 - mse: 164.0951 - val_loss: 1714.0905 - val_mae: 28.0649 - val_mse: 1714.0905\n",
            "Epoch 69/100\n",
            "26/26 [==============================] - 4s 173ms/step - loss: 154.9826 - mae: 9.1204 - mse: 154.9826 - val_loss: 1737.9801 - val_mae: 28.3800 - val_mse: 1737.9801\n",
            "Epoch 70/100\n",
            "26/26 [==============================] - 4s 171ms/step - loss: 150.2791 - mae: 9.0939 - mse: 150.2791 - val_loss: 1786.4480 - val_mae: 28.7760 - val_mse: 1786.4480\n",
            "Epoch 71/100\n",
            "26/26 [==============================] - 4s 173ms/step - loss: 149.9444 - mae: 9.0529 - mse: 149.9444 - val_loss: 1727.1897 - val_mae: 28.1071 - val_mse: 1727.1897\n",
            "Epoch 72/100\n",
            "26/26 [==============================] - 4s 170ms/step - loss: 137.0431 - mae: 8.4924 - mse: 137.0431 - val_loss: 1740.2767 - val_mae: 28.5444 - val_mse: 1740.2767\n",
            "Epoch 73/100\n",
            "26/26 [==============================] - 5s 174ms/step - loss: 133.6242 - mae: 8.4155 - mse: 133.6242 - val_loss: 1781.6205 - val_mae: 28.8743 - val_mse: 1781.6205\n",
            "Epoch 74/100\n",
            "26/26 [==============================] - 5s 175ms/step - loss: 138.6498 - mae: 8.6919 - mse: 138.6498 - val_loss: 1794.5315 - val_mae: 29.0013 - val_mse: 1794.5315\n",
            "Epoch 75/100\n",
            "26/26 [==============================] - 5s 175ms/step - loss: 139.5021 - mae: 8.5929 - mse: 139.5021 - val_loss: 1852.4966 - val_mae: 29.9168 - val_mse: 1852.4966\n",
            "Epoch 76/100\n",
            "26/26 [==============================] - 4s 168ms/step - loss: 133.7887 - mae: 8.4231 - mse: 133.7887 - val_loss: 1797.6263 - val_mae: 29.5620 - val_mse: 1797.6263\n",
            "Epoch 77/100\n",
            "26/26 [==============================] - 4s 167ms/step - loss: 128.3845 - mae: 8.4002 - mse: 128.3845 - val_loss: 1808.0920 - val_mae: 29.4264 - val_mse: 1808.0920\n",
            "Epoch 78/100\n",
            "26/26 [==============================] - 4s 173ms/step - loss: 125.9125 - mae: 8.3364 - mse: 125.9125 - val_loss: 1843.9304 - val_mae: 29.7460 - val_mse: 1843.9304\n",
            "Epoch 79/100\n",
            "26/26 [==============================] - 4s 174ms/step - loss: 118.3969 - mae: 7.9006 - mse: 118.3969 - val_loss: 1814.5790 - val_mae: 29.3041 - val_mse: 1814.5790\n",
            "Epoch 80/100\n",
            "26/26 [==============================] - 4s 172ms/step - loss: 116.8868 - mae: 7.9136 - mse: 116.8868 - val_loss: 1848.5448 - val_mae: 29.5163 - val_mse: 1848.5448\n",
            "Epoch 81/100\n",
            "26/26 [==============================] - 4s 171ms/step - loss: 112.4498 - mae: 7.6594 - mse: 112.4498 - val_loss: 1808.3374 - val_mae: 29.1226 - val_mse: 1808.3374\n",
            "Epoch 82/100\n",
            "26/26 [==============================] - 5s 175ms/step - loss: 106.4160 - mae: 7.4299 - mse: 106.4160 - val_loss: 1895.9729 - val_mae: 30.0556 - val_mse: 1895.9729\n",
            "Epoch 83/100\n",
            "26/26 [==============================] - 4s 173ms/step - loss: 105.9890 - mae: 7.4169 - mse: 105.9890 - val_loss: 1886.6038 - val_mae: 30.0433 - val_mse: 1886.6038\n",
            "Epoch 84/100\n",
            "26/26 [==============================] - 5s 175ms/step - loss: 103.1367 - mae: 7.2867 - mse: 103.1367 - val_loss: 1901.4066 - val_mae: 30.2688 - val_mse: 1901.4066\n",
            "Epoch 85/100\n",
            "26/26 [==============================] - 4s 172ms/step - loss: 105.1362 - mae: 7.3708 - mse: 105.1362 - val_loss: 1898.2822 - val_mae: 30.0886 - val_mse: 1898.2822\n",
            "Epoch 86/100\n",
            "26/26 [==============================] - 4s 169ms/step - loss: 98.9356 - mae: 7.0923 - mse: 98.9356 - val_loss: 1876.0696 - val_mae: 30.0018 - val_mse: 1876.0696\n",
            "Epoch 87/100\n",
            "26/26 [==============================] - 4s 171ms/step - loss: 98.2894 - mae: 7.1405 - mse: 98.2894 - val_loss: 1932.6605 - val_mae: 30.7111 - val_mse: 1932.6605\n",
            "Epoch 88/100\n",
            "26/26 [==============================] - 4s 173ms/step - loss: 98.1586 - mae: 7.2832 - mse: 98.1586 - val_loss: 1852.5856 - val_mae: 29.7215 - val_mse: 1852.5856\n",
            "Epoch 89/100\n",
            "26/26 [==============================] - 4s 169ms/step - loss: 106.2163 - mae: 7.4802 - mse: 106.2163 - val_loss: 1883.6553 - val_mae: 30.0377 - val_mse: 1883.6553\n",
            "Epoch 90/100\n",
            "26/26 [==============================] - 4s 172ms/step - loss: 112.6335 - mae: 7.5506 - mse: 112.6335 - val_loss: 1919.4362 - val_mae: 30.6131 - val_mse: 1919.4362\n",
            "Epoch 91/100\n",
            "26/26 [==============================] - 4s 172ms/step - loss: 94.9906 - mae: 7.0168 - mse: 94.9906 - val_loss: 1926.9702 - val_mae: 30.4936 - val_mse: 1926.9702\n",
            "Epoch 92/100\n",
            "26/26 [==============================] - 4s 172ms/step - loss: 83.5828 - mae: 6.4655 - mse: 83.5828 - val_loss: 1887.1257 - val_mae: 30.2535 - val_mse: 1887.1257\n",
            "Epoch 93/100\n",
            "26/26 [==============================] - 4s 172ms/step - loss: 79.5288 - mae: 6.3607 - mse: 79.5288 - val_loss: 1919.0358 - val_mae: 30.6338 - val_mse: 1919.0358\n",
            "Epoch 94/100\n",
            "26/26 [==============================] - 4s 170ms/step - loss: 71.7349 - mae: 5.9633 - mse: 71.7349 - val_loss: 1933.8385 - val_mae: 30.7746 - val_mse: 1933.8385\n",
            "Epoch 95/100\n",
            "26/26 [==============================] - 4s 171ms/step - loss: 77.0061 - mae: 6.3221 - mse: 77.0061 - val_loss: 1975.5172 - val_mae: 31.1512 - val_mse: 1975.5172\n",
            "Epoch 96/100\n",
            "26/26 [==============================] - 4s 169ms/step - loss: 81.0754 - mae: 6.4659 - mse: 81.0754 - val_loss: 1976.0824 - val_mae: 31.2143 - val_mse: 1976.0824\n",
            "Epoch 97/100\n",
            "26/26 [==============================] - 4s 170ms/step - loss: 78.1654 - mae: 6.3047 - mse: 78.1654 - val_loss: 1997.8651 - val_mae: 31.4371 - val_mse: 1997.8651\n",
            "Epoch 98/100\n",
            "26/26 [==============================] - 4s 169ms/step - loss: 68.5079 - mae: 5.7020 - mse: 68.5079 - val_loss: 1979.2008 - val_mae: 31.1982 - val_mse: 1979.2008\n",
            "Epoch 99/100\n",
            "26/26 [==============================] - 4s 169ms/step - loss: 65.3077 - mae: 5.6586 - mse: 65.3077 - val_loss: 1970.6229 - val_mae: 31.1470 - val_mse: 1970.6229\n",
            "Epoch 100/100\n",
            "26/26 [==============================] - 4s 171ms/step - loss: 63.8852 - mae: 5.5161 - mse: 63.8852 - val_loss: 1964.0691 - val_mae: 31.0780 - val_mse: 1964.0691\n"
          ]
        }
      ]
    },
    {
      "cell_type": "markdown",
      "source": [
        "GRU"
      ],
      "metadata": {
        "id": "kHh0g_qPm_bm"
      }
    },
    {
      "cell_type": "code",
      "source": [
        "i=Input(shape=(T,1))\n",
        "x=GRU(200,return_sequences=True)(i)\n",
        "x=GRU(200,return_sequences=True)(x)\n",
        "x=GlobalMaxPooling1D()(x)\n",
        "x=Dense(100)(x)\n",
        "x=Dense(50)(x)\n",
        "x=Dense(1)(x)\n",
        "model_gru=Model(i,x)\n",
        "model_gru.summary"
      ],
      "metadata": {
        "colab": {
          "base_uri": "https://localhost:8080/"
        },
        "id": "H4llpd_HnCsP",
        "outputId": "5c5d1391-bae9-47eb-8ab3-580526e60242"
      },
      "execution_count": 204,
      "outputs": [
        {
          "output_type": "execute_result",
          "data": {
            "text/plain": [
              "<bound method Model.summary of <keras.engine.functional.Functional object at 0x7fe9871e2850>>"
            ]
          },
          "metadata": {},
          "execution_count": 204
        }
      ]
    },
    {
      "cell_type": "code",
      "source": [
        "check_point_gru=ModelCheckpoint('best_model.h5',monitor='val_loss',save_best_only=True)"
      ],
      "metadata": {
        "id": "J4ilpuAHnCxN"
      },
      "execution_count": 205,
      "outputs": []
    },
    {
      "cell_type": "code",
      "source": [
        "model_gru.compile(loss='mse',\n",
        "              optimizer='adamax',\n",
        "              metrics=['mae','mse'])"
      ],
      "metadata": {
        "id": "KE1MOiZknC6g"
      },
      "execution_count": 206,
      "outputs": []
    },
    {
      "cell_type": "code",
      "source": [
        "r=model_gru.fit(\n",
        "    Xtrain,\n",
        "    Ytrain,\n",
        "    epochs=100,\n",
        "    validation_data=(Xtest,Ytest),\n",
        "    callbacks=[check_point_gru]\n",
        ")"
      ],
      "metadata": {
        "colab": {
          "base_uri": "https://localhost:8080/"
        },
        "id": "nfam1HSPnWSf",
        "outputId": "cd2a5618-b62b-4261-e29c-4eefb5e90677"
      },
      "execution_count": 207,
      "outputs": [
        {
          "output_type": "stream",
          "name": "stdout",
          "text": [
            "Epoch 1/100\n",
            "26/26 [==============================] - 8s 179ms/step - loss: 265.2622 - mae: 11.9684 - mse: 265.2622 - val_loss: 1594.5061 - val_mae: 25.5032 - val_mse: 1594.5061\n",
            "Epoch 2/100\n",
            "26/26 [==============================] - 4s 153ms/step - loss: 261.5986 - mae: 11.8165 - mse: 261.5986 - val_loss: 1591.9755 - val_mae: 25.5190 - val_mse: 1591.9755\n",
            "Epoch 3/100\n",
            "26/26 [==============================] - 4s 151ms/step - loss: 261.1566 - mae: 11.7930 - mse: 261.1566 - val_loss: 1592.3678 - val_mae: 25.5823 - val_mse: 1592.3678\n",
            "Epoch 4/100\n",
            "26/26 [==============================] - 4s 150ms/step - loss: 260.0781 - mae: 11.7596 - mse: 260.0781 - val_loss: 1592.7776 - val_mae: 25.5838 - val_mse: 1592.7776\n",
            "Epoch 5/100\n",
            "26/26 [==============================] - 4s 152ms/step - loss: 259.8965 - mae: 11.7963 - mse: 259.8965 - val_loss: 1593.3441 - val_mae: 25.5223 - val_mse: 1593.3441\n",
            "Epoch 6/100\n",
            "26/26 [==============================] - 4s 150ms/step - loss: 261.1200 - mae: 11.7906 - mse: 261.1200 - val_loss: 1592.9813 - val_mae: 25.5518 - val_mse: 1592.9813\n",
            "Epoch 7/100\n",
            "26/26 [==============================] - 4s 148ms/step - loss: 260.1096 - mae: 11.7783 - mse: 260.1096 - val_loss: 1593.2242 - val_mae: 25.5850 - val_mse: 1593.2242\n",
            "Epoch 8/100\n",
            "26/26 [==============================] - 4s 151ms/step - loss: 258.8155 - mae: 11.7570 - mse: 258.8155 - val_loss: 1594.0404 - val_mae: 25.5216 - val_mse: 1594.0404\n",
            "Epoch 9/100\n",
            "26/26 [==============================] - 4s 153ms/step - loss: 258.6731 - mae: 11.7577 - mse: 258.6731 - val_loss: 1592.8979 - val_mae: 25.5628 - val_mse: 1592.8979\n",
            "Epoch 10/100\n",
            "26/26 [==============================] - 4s 149ms/step - loss: 259.1089 - mae: 11.7636 - mse: 259.1089 - val_loss: 1594.5988 - val_mae: 25.5053 - val_mse: 1594.5988\n",
            "Epoch 11/100\n",
            "26/26 [==============================] - 4s 149ms/step - loss: 258.3738 - mae: 11.7760 - mse: 258.3738 - val_loss: 1595.4690 - val_mae: 25.5206 - val_mse: 1595.4690\n",
            "Epoch 12/100\n",
            "26/26 [==============================] - 4s 149ms/step - loss: 257.8511 - mae: 11.7389 - mse: 257.8511 - val_loss: 1594.8892 - val_mae: 25.6613 - val_mse: 1594.8892\n",
            "Epoch 13/100\n",
            "26/26 [==============================] - 4s 148ms/step - loss: 257.3415 - mae: 11.7346 - mse: 257.3415 - val_loss: 1594.0746 - val_mae: 25.6113 - val_mse: 1594.0746\n",
            "Epoch 14/100\n",
            "26/26 [==============================] - 4s 150ms/step - loss: 256.3629 - mae: 11.7509 - mse: 256.3629 - val_loss: 1595.9243 - val_mae: 25.5207 - val_mse: 1595.9243\n",
            "Epoch 15/100\n",
            "26/26 [==============================] - 4s 148ms/step - loss: 257.7149 - mae: 11.7408 - mse: 257.7149 - val_loss: 1594.6404 - val_mae: 25.6323 - val_mse: 1594.6404\n",
            "Epoch 16/100\n",
            "26/26 [==============================] - 4s 152ms/step - loss: 255.5543 - mae: 11.7214 - mse: 255.5543 - val_loss: 1599.5406 - val_mae: 25.5216 - val_mse: 1599.5406\n",
            "Epoch 17/100\n",
            "26/26 [==============================] - 4s 152ms/step - loss: 256.4548 - mae: 11.7492 - mse: 256.4548 - val_loss: 1594.8661 - val_mae: 25.6116 - val_mse: 1594.8661\n",
            "Epoch 18/100\n",
            "26/26 [==============================] - 4s 150ms/step - loss: 254.1443 - mae: 11.7110 - mse: 254.1443 - val_loss: 1596.9629 - val_mae: 25.5234 - val_mse: 1596.9629\n",
            "Epoch 19/100\n",
            "26/26 [==============================] - 4s 148ms/step - loss: 255.6890 - mae: 11.7405 - mse: 255.6890 - val_loss: 1598.9974 - val_mae: 25.4923 - val_mse: 1598.9974\n",
            "Epoch 20/100\n",
            "26/26 [==============================] - 4s 150ms/step - loss: 255.8915 - mae: 11.7521 - mse: 255.8915 - val_loss: 1601.9215 - val_mae: 25.5221 - val_mse: 1601.9215\n",
            "Epoch 21/100\n",
            "26/26 [==============================] - 4s 151ms/step - loss: 253.6592 - mae: 11.7118 - mse: 253.6592 - val_loss: 1597.0249 - val_mae: 25.6682 - val_mse: 1597.0249\n",
            "Epoch 22/100\n",
            "26/26 [==============================] - 4s 152ms/step - loss: 253.0633 - mae: 11.6939 - mse: 253.0633 - val_loss: 1598.7695 - val_mae: 25.5423 - val_mse: 1598.7695\n",
            "Epoch 23/100\n",
            "26/26 [==============================] - 4s 150ms/step - loss: 250.8802 - mae: 11.6234 - mse: 250.8802 - val_loss: 1596.6738 - val_mae: 25.6170 - val_mse: 1596.6738\n",
            "Epoch 24/100\n",
            "26/26 [==============================] - 4s 149ms/step - loss: 251.3716 - mae: 11.6206 - mse: 251.3716 - val_loss: 1596.4586 - val_mae: 25.6091 - val_mse: 1596.4586\n",
            "Epoch 25/100\n",
            "26/26 [==============================] - 4s 149ms/step - loss: 253.3790 - mae: 11.7193 - mse: 253.3790 - val_loss: 1615.7057 - val_mae: 25.6144 - val_mse: 1615.7057\n",
            "Epoch 26/100\n",
            "26/26 [==============================] - 4s 151ms/step - loss: 251.1241 - mae: 11.6293 - mse: 251.1241 - val_loss: 1599.0381 - val_mae: 25.5251 - val_mse: 1599.0381\n",
            "Epoch 27/100\n",
            "26/26 [==============================] - 4s 148ms/step - loss: 250.2826 - mae: 11.6995 - mse: 250.2826 - val_loss: 1598.4629 - val_mae: 25.6909 - val_mse: 1598.4629\n",
            "Epoch 28/100\n",
            "26/26 [==============================] - 4s 147ms/step - loss: 251.0574 - mae: 11.6980 - mse: 251.0574 - val_loss: 1602.4066 - val_mae: 25.8179 - val_mse: 1602.4066\n",
            "Epoch 29/100\n",
            "26/26 [==============================] - 4s 150ms/step - loss: 252.2503 - mae: 11.7424 - mse: 252.2503 - val_loss: 1600.4121 - val_mae: 25.5652 - val_mse: 1600.4121\n",
            "Epoch 30/100\n",
            "26/26 [==============================] - 4s 148ms/step - loss: 248.2294 - mae: 11.6011 - mse: 248.2294 - val_loss: 1599.0745 - val_mae: 25.6270 - val_mse: 1599.0745\n",
            "Epoch 31/100\n",
            "26/26 [==============================] - 4s 146ms/step - loss: 250.8844 - mae: 11.7191 - mse: 250.8844 - val_loss: 1601.3784 - val_mae: 25.6016 - val_mse: 1601.3784\n",
            "Epoch 32/100\n",
            "26/26 [==============================] - 4s 152ms/step - loss: 246.1010 - mae: 11.6526 - mse: 246.1010 - val_loss: 1609.2744 - val_mae: 25.9555 - val_mse: 1609.2744\n",
            "Epoch 33/100\n",
            "26/26 [==============================] - 4s 149ms/step - loss: 252.0006 - mae: 11.8027 - mse: 252.0006 - val_loss: 1601.0732 - val_mae: 25.6827 - val_mse: 1601.0732\n",
            "Epoch 34/100\n",
            "26/26 [==============================] - 4s 154ms/step - loss: 244.2828 - mae: 11.5396 - mse: 244.2828 - val_loss: 1612.9833 - val_mae: 25.6075 - val_mse: 1612.9833\n",
            "Epoch 35/100\n",
            "26/26 [==============================] - 4s 151ms/step - loss: 244.3474 - mae: 11.5433 - mse: 244.3474 - val_loss: 1603.1658 - val_mae: 25.6939 - val_mse: 1603.1658\n",
            "Epoch 36/100\n",
            "26/26 [==============================] - 4s 150ms/step - loss: 241.9127 - mae: 11.4591 - mse: 241.9127 - val_loss: 1612.8707 - val_mae: 25.6436 - val_mse: 1612.8707\n",
            "Epoch 37/100\n",
            "26/26 [==============================] - 4s 150ms/step - loss: 246.5167 - mae: 11.5071 - mse: 246.5167 - val_loss: 1607.5057 - val_mae: 25.5794 - val_mse: 1607.5057\n",
            "Epoch 38/100\n",
            "26/26 [==============================] - 4s 148ms/step - loss: 241.0179 - mae: 11.4609 - mse: 241.0179 - val_loss: 1621.2336 - val_mae: 25.7032 - val_mse: 1621.2336\n",
            "Epoch 39/100\n",
            "26/26 [==============================] - 4s 149ms/step - loss: 240.0005 - mae: 11.4719 - mse: 240.0005 - val_loss: 1610.9700 - val_mae: 25.6378 - val_mse: 1610.9700\n",
            "Epoch 40/100\n",
            "26/26 [==============================] - 4s 149ms/step - loss: 243.1807 - mae: 11.4878 - mse: 243.1807 - val_loss: 1629.3081 - val_mae: 25.7509 - val_mse: 1629.3081\n",
            "Epoch 41/100\n",
            "26/26 [==============================] - 4s 153ms/step - loss: 238.2557 - mae: 11.4221 - mse: 238.2557 - val_loss: 1627.5801 - val_mae: 25.8195 - val_mse: 1627.5801\n",
            "Epoch 42/100\n",
            "26/26 [==============================] - 4s 150ms/step - loss: 238.0070 - mae: 11.3552 - mse: 238.0070 - val_loss: 1615.5599 - val_mae: 25.6634 - val_mse: 1615.5599\n",
            "Epoch 43/100\n",
            "26/26 [==============================] - 4s 151ms/step - loss: 234.6711 - mae: 11.2861 - mse: 234.6711 - val_loss: 1622.7074 - val_mae: 25.7474 - val_mse: 1622.7074\n",
            "Epoch 44/100\n",
            "26/26 [==============================] - 4s 151ms/step - loss: 232.2296 - mae: 11.2576 - mse: 232.2296 - val_loss: 1628.8381 - val_mae: 25.7966 - val_mse: 1628.8381\n",
            "Epoch 45/100\n",
            "26/26 [==============================] - 4s 152ms/step - loss: 229.2662 - mae: 11.1230 - mse: 229.2662 - val_loss: 1620.0364 - val_mae: 25.7470 - val_mse: 1620.0364\n",
            "Epoch 46/100\n",
            "26/26 [==============================] - 4s 149ms/step - loss: 228.1132 - mae: 11.1327 - mse: 228.1132 - val_loss: 1627.0541 - val_mae: 25.8871 - val_mse: 1627.0541\n",
            "Epoch 47/100\n",
            "26/26 [==============================] - 4s 153ms/step - loss: 225.0112 - mae: 11.0962 - mse: 225.0112 - val_loss: 1621.6165 - val_mae: 25.9299 - val_mse: 1621.6165\n",
            "Epoch 48/100\n",
            "26/26 [==============================] - 4s 153ms/step - loss: 223.4712 - mae: 11.0781 - mse: 223.4712 - val_loss: 1628.7828 - val_mae: 25.9644 - val_mse: 1628.7828\n",
            "Epoch 49/100\n",
            "26/26 [==============================] - 4s 155ms/step - loss: 220.7085 - mae: 10.9531 - mse: 220.7085 - val_loss: 1639.6866 - val_mae: 26.0305 - val_mse: 1639.6866\n",
            "Epoch 50/100\n",
            "26/26 [==============================] - 4s 151ms/step - loss: 218.9866 - mae: 10.9733 - mse: 218.9866 - val_loss: 1644.3317 - val_mae: 26.0853 - val_mse: 1644.3317\n",
            "Epoch 51/100\n",
            "26/26 [==============================] - 4s 152ms/step - loss: 222.1764 - mae: 11.1081 - mse: 222.1764 - val_loss: 1634.0435 - val_mae: 26.0681 - val_mse: 1634.0435\n",
            "Epoch 52/100\n",
            "26/26 [==============================] - 4s 155ms/step - loss: 212.7702 - mae: 10.7363 - mse: 212.7702 - val_loss: 1649.6482 - val_mae: 26.1747 - val_mse: 1649.6482\n",
            "Epoch 53/100\n",
            "26/26 [==============================] - 4s 152ms/step - loss: 210.6427 - mae: 10.7769 - mse: 210.6427 - val_loss: 1643.9003 - val_mae: 26.3165 - val_mse: 1643.9003\n",
            "Epoch 54/100\n",
            "26/26 [==============================] - 4s 160ms/step - loss: 207.6526 - mae: 10.7036 - mse: 207.6526 - val_loss: 1639.9419 - val_mae: 26.3176 - val_mse: 1639.9419\n",
            "Epoch 55/100\n",
            "26/26 [==============================] - 4s 165ms/step - loss: 207.3812 - mae: 10.6638 - mse: 207.3812 - val_loss: 1658.2581 - val_mae: 26.6052 - val_mse: 1658.2581\n",
            "Epoch 56/100\n",
            "26/26 [==============================] - 4s 156ms/step - loss: 207.0556 - mae: 10.6785 - mse: 207.0556 - val_loss: 1696.4651 - val_mae: 26.7223 - val_mse: 1696.4651\n",
            "Epoch 57/100\n",
            "26/26 [==============================] - 4s 154ms/step - loss: 206.0668 - mae: 10.6497 - mse: 206.0668 - val_loss: 1664.4189 - val_mae: 26.4340 - val_mse: 1664.4189\n",
            "Epoch 58/100\n",
            "26/26 [==============================] - 4s 156ms/step - loss: 201.3672 - mae: 10.5413 - mse: 201.3672 - val_loss: 1665.2642 - val_mae: 26.5469 - val_mse: 1665.2642\n",
            "Epoch 59/100\n",
            "26/26 [==============================] - 4s 152ms/step - loss: 197.9155 - mae: 10.4776 - mse: 197.9155 - val_loss: 1656.8195 - val_mae: 26.5789 - val_mse: 1656.8195\n",
            "Epoch 60/100\n",
            "26/26 [==============================] - 4s 154ms/step - loss: 194.2051 - mae: 10.4227 - mse: 194.2051 - val_loss: 1666.9966 - val_mae: 26.5613 - val_mse: 1666.9966\n",
            "Epoch 61/100\n",
            "26/26 [==============================] - 4s 152ms/step - loss: 188.5248 - mae: 10.1966 - mse: 188.5248 - val_loss: 1708.1370 - val_mae: 26.9482 - val_mse: 1708.1370\n",
            "Epoch 62/100\n",
            "26/26 [==============================] - 4s 159ms/step - loss: 186.7100 - mae: 10.2283 - mse: 186.7100 - val_loss: 1673.5851 - val_mae: 26.7204 - val_mse: 1673.5851\n",
            "Epoch 63/100\n",
            "26/26 [==============================] - 4s 153ms/step - loss: 193.8442 - mae: 10.5028 - mse: 193.8442 - val_loss: 1707.7058 - val_mae: 26.9264 - val_mse: 1707.7058\n",
            "Epoch 64/100\n",
            "26/26 [==============================] - 4s 156ms/step - loss: 184.1370 - mae: 10.1948 - mse: 184.1370 - val_loss: 1719.0466 - val_mae: 27.1057 - val_mse: 1719.0466\n",
            "Epoch 65/100\n",
            "26/26 [==============================] - 4s 158ms/step - loss: 182.9227 - mae: 10.1558 - mse: 182.9227 - val_loss: 1728.0604 - val_mae: 27.0823 - val_mse: 1728.0604\n",
            "Epoch 66/100\n",
            "26/26 [==============================] - 4s 155ms/step - loss: 179.0719 - mae: 9.9470 - mse: 179.0719 - val_loss: 1709.3439 - val_mae: 26.9916 - val_mse: 1709.3439\n",
            "Epoch 67/100\n",
            "26/26 [==============================] - 4s 156ms/step - loss: 170.1941 - mae: 9.7114 - mse: 170.1941 - val_loss: 1700.9105 - val_mae: 27.2776 - val_mse: 1700.9105\n",
            "Epoch 68/100\n",
            "26/26 [==============================] - 4s 156ms/step - loss: 182.3510 - mae: 10.1076 - mse: 182.3510 - val_loss: 1715.3580 - val_mae: 27.3236 - val_mse: 1715.3580\n",
            "Epoch 69/100\n",
            "26/26 [==============================] - 4s 158ms/step - loss: 178.3233 - mae: 10.0420 - mse: 178.3233 - val_loss: 1725.6672 - val_mae: 27.2731 - val_mse: 1725.6672\n",
            "Epoch 70/100\n",
            "26/26 [==============================] - 4s 162ms/step - loss: 169.2000 - mae: 9.7761 - mse: 169.2000 - val_loss: 1770.5668 - val_mae: 27.7567 - val_mse: 1770.5668\n",
            "Epoch 71/100\n",
            "26/26 [==============================] - 4s 155ms/step - loss: 166.1520 - mae: 9.6857 - mse: 166.1520 - val_loss: 1748.7992 - val_mae: 27.4537 - val_mse: 1748.7992\n",
            "Epoch 72/100\n",
            "26/26 [==============================] - 4s 154ms/step - loss: 161.4120 - mae: 9.5577 - mse: 161.4120 - val_loss: 1721.4255 - val_mae: 27.3344 - val_mse: 1721.4255\n",
            "Epoch 73/100\n",
            "26/26 [==============================] - 4s 153ms/step - loss: 157.3454 - mae: 9.3970 - mse: 157.3454 - val_loss: 1744.0140 - val_mae: 27.5044 - val_mse: 1744.0140\n",
            "Epoch 74/100\n",
            "26/26 [==============================] - 4s 156ms/step - loss: 164.3158 - mae: 9.7960 - mse: 164.3158 - val_loss: 1751.0273 - val_mae: 27.8741 - val_mse: 1751.0273\n",
            "Epoch 75/100\n",
            "26/26 [==============================] - 4s 156ms/step - loss: 172.8816 - mae: 10.0422 - mse: 172.8816 - val_loss: 1763.3032 - val_mae: 27.9726 - val_mse: 1763.3032\n",
            "Epoch 76/100\n",
            "26/26 [==============================] - 4s 158ms/step - loss: 152.3754 - mae: 9.2439 - mse: 152.3754 - val_loss: 1737.1995 - val_mae: 27.3705 - val_mse: 1737.1995\n",
            "Epoch 77/100\n",
            "26/26 [==============================] - 4s 160ms/step - loss: 148.5115 - mae: 9.2464 - mse: 148.5115 - val_loss: 1781.7523 - val_mae: 27.9942 - val_mse: 1781.7523\n",
            "Epoch 78/100\n",
            "26/26 [==============================] - 4s 162ms/step - loss: 143.6676 - mae: 9.1576 - mse: 143.6676 - val_loss: 1779.2148 - val_mae: 28.0159 - val_mse: 1779.2148\n",
            "Epoch 79/100\n",
            "26/26 [==============================] - 4s 157ms/step - loss: 139.7954 - mae: 8.7616 - mse: 139.7954 - val_loss: 1820.3401 - val_mae: 28.3212 - val_mse: 1820.3401\n",
            "Epoch 80/100\n",
            "26/26 [==============================] - 4s 158ms/step - loss: 136.7399 - mae: 8.6890 - mse: 136.7399 - val_loss: 1781.1952 - val_mae: 27.9570 - val_mse: 1781.1952\n",
            "Epoch 81/100\n",
            "26/26 [==============================] - 4s 158ms/step - loss: 142.6381 - mae: 8.9673 - mse: 142.6381 - val_loss: 1873.1710 - val_mae: 28.8328 - val_mse: 1873.1710\n",
            "Epoch 82/100\n",
            "26/26 [==============================] - 4s 154ms/step - loss: 142.8927 - mae: 8.9538 - mse: 142.8927 - val_loss: 1804.4095 - val_mae: 28.4060 - val_mse: 1804.4095\n",
            "Epoch 83/100\n",
            "26/26 [==============================] - 4s 156ms/step - loss: 136.7719 - mae: 8.7913 - mse: 136.7719 - val_loss: 1882.3153 - val_mae: 28.9251 - val_mse: 1882.3153\n",
            "Epoch 84/100\n",
            "26/26 [==============================] - 4s 155ms/step - loss: 131.2330 - mae: 8.6609 - mse: 131.2330 - val_loss: 1878.8378 - val_mae: 29.0608 - val_mse: 1878.8378\n",
            "Epoch 85/100\n",
            "26/26 [==============================] - 4s 153ms/step - loss: 125.3452 - mae: 8.3336 - mse: 125.3452 - val_loss: 1842.2106 - val_mae: 28.5154 - val_mse: 1842.2106\n",
            "Epoch 86/100\n",
            "26/26 [==============================] - 4s 151ms/step - loss: 125.0158 - mae: 8.3891 - mse: 125.0158 - val_loss: 1893.4813 - val_mae: 28.9697 - val_mse: 1893.4813\n",
            "Epoch 87/100\n",
            "26/26 [==============================] - 4s 152ms/step - loss: 126.7028 - mae: 8.4275 - mse: 126.7028 - val_loss: 1956.4578 - val_mae: 29.6349 - val_mse: 1956.4578\n",
            "Epoch 88/100\n",
            "26/26 [==============================] - 4s 152ms/step - loss: 117.5172 - mae: 8.0923 - mse: 117.5172 - val_loss: 1847.6481 - val_mae: 28.7035 - val_mse: 1847.6481\n",
            "Epoch 89/100\n",
            "26/26 [==============================] - 4s 155ms/step - loss: 120.5835 - mae: 8.2524 - mse: 120.5835 - val_loss: 1877.7911 - val_mae: 29.0245 - val_mse: 1877.7911\n",
            "Epoch 90/100\n",
            "26/26 [==============================] - 4s 155ms/step - loss: 117.8739 - mae: 7.9723 - mse: 117.8739 - val_loss: 1848.8749 - val_mae: 28.7078 - val_mse: 1848.8749\n",
            "Epoch 91/100\n",
            "26/26 [==============================] - 4s 159ms/step - loss: 118.8694 - mae: 8.1486 - mse: 118.8694 - val_loss: 1809.2651 - val_mae: 28.4656 - val_mse: 1809.2651\n",
            "Epoch 92/100\n",
            "26/26 [==============================] - 4s 163ms/step - loss: 116.3901 - mae: 8.0507 - mse: 116.3901 - val_loss: 1861.4557 - val_mae: 29.0140 - val_mse: 1861.4557\n",
            "Epoch 93/100\n",
            "26/26 [==============================] - 4s 156ms/step - loss: 113.5920 - mae: 7.9378 - mse: 113.5920 - val_loss: 1890.3018 - val_mae: 29.0981 - val_mse: 1890.3018\n",
            "Epoch 94/100\n",
            "26/26 [==============================] - 4s 154ms/step - loss: 103.6679 - mae: 7.7088 - mse: 103.6679 - val_loss: 1867.7709 - val_mae: 29.0128 - val_mse: 1867.7709\n",
            "Epoch 95/100\n",
            "26/26 [==============================] - 4s 153ms/step - loss: 103.6467 - mae: 7.6631 - mse: 103.6467 - val_loss: 1949.4965 - val_mae: 29.6349 - val_mse: 1949.4965\n",
            "Epoch 96/100\n",
            "26/26 [==============================] - 4s 160ms/step - loss: 98.8699 - mae: 7.4849 - mse: 98.8699 - val_loss: 1865.8602 - val_mae: 29.0671 - val_mse: 1865.8602\n",
            "Epoch 97/100\n",
            "26/26 [==============================] - 4s 158ms/step - loss: 99.9033 - mae: 7.3660 - mse: 99.9033 - val_loss: 1855.5093 - val_mae: 29.2078 - val_mse: 1855.5093\n",
            "Epoch 98/100\n",
            "26/26 [==============================] - 4s 159ms/step - loss: 100.1594 - mae: 7.4932 - mse: 100.1594 - val_loss: 1906.6907 - val_mae: 29.5175 - val_mse: 1906.6907\n",
            "Epoch 99/100\n",
            "26/26 [==============================] - 4s 162ms/step - loss: 88.2024 - mae: 6.8601 - mse: 88.2024 - val_loss: 1912.2402 - val_mae: 29.4987 - val_mse: 1912.2402\n",
            "Epoch 100/100\n",
            "26/26 [==============================] - 4s 165ms/step - loss: 94.2850 - mae: 7.3235 - mse: 94.2850 - val_loss: 1918.9586 - val_mae: 29.6362 - val_mse: 1918.9586\n"
          ]
        }
      ]
    },
    {
      "cell_type": "markdown",
      "source": [
        "Predictions"
      ],
      "metadata": {
        "id": "hjVQsanxpHma"
      }
    },
    {
      "cell_type": "code",
      "source": [
        "train_idx[:T+1]=False"
      ],
      "metadata": {
        "id": "f1Llph9XdeVY"
      },
      "execution_count": 208,
      "outputs": []
    },
    {
      "cell_type": "code",
      "source": [
        "Ptrain_ann=model_ann.predict(Xtrain).flatten()\n",
        "Ptest_ann=model_ann.predict(Xtest).flatten()\n"
      ],
      "metadata": {
        "id": "96WR1e3Sdgle"
      },
      "execution_count": 209,
      "outputs": []
    },
    {
      "cell_type": "code",
      "source": [
        "Ptrain_cnn=model_cnn.predict(Xtrain).flatten()\n",
        "Ptest_cnn=model_cnn.predict(Xtest).flatten()"
      ],
      "metadata": {
        "id": "Pc5bF6Z_gUGI"
      },
      "execution_count": 210,
      "outputs": []
    },
    {
      "cell_type": "code",
      "source": [
        "Ptrain_lstm=model_lstm.predict(Xtrain).flatten()\n",
        "Ptest_lstm=model_lstm.predict(Xtest).flatten()"
      ],
      "metadata": {
        "id": "LWhMPuCvjAIS"
      },
      "execution_count": 211,
      "outputs": []
    },
    {
      "cell_type": "code",
      "source": [
        "Ptrain_gru=model_gru.predict(Xtrain).flatten()\n",
        "Ptest_gru=model_gru.predict(Xtest).flatten()"
      ],
      "metadata": {
        "id": "znvUQWrKnmIj"
      },
      "execution_count": 212,
      "outputs": []
    },
    {
      "cell_type": "code",
      "source": [
        "df.loc[train_idx,'Diff ANN train prediction']=Ptrain_ann\n",
        "df.loc[test_idx,'Diff ANN test prediction']=Ptest_ann"
      ],
      "metadata": {
        "id": "L7p_peucdjgP"
      },
      "execution_count": 213,
      "outputs": []
    },
    {
      "cell_type": "code",
      "source": [
        "df.loc[train_idx,'Diff CNN train prediction']=Ptrain_cnn\n",
        "df.loc[test_idx,'Diff CNN test prediction']=Ptest_cnn"
      ],
      "metadata": {
        "id": "YcnY5nc6gaG6"
      },
      "execution_count": 214,
      "outputs": []
    },
    {
      "cell_type": "code",
      "source": [
        "df.loc[train_idx,'Diff LSTM train prediction']=Ptrain_lstm\n",
        "df.loc[test_idx,'Diff LSTM test prediction']=Ptest_lstm"
      ],
      "metadata": {
        "id": "8p_92fO6jTpW"
      },
      "execution_count": 215,
      "outputs": []
    },
    {
      "cell_type": "code",
      "source": [
        "df.loc[train_idx,'Diff GRU train prediction']=Ptrain_gru\n",
        "df.loc[test_idx,'Diff GRU test prediction']=Ptest_gru"
      ],
      "metadata": {
        "id": "nmUC4sKpnsIl"
      },
      "execution_count": 216,
      "outputs": []
    },
    {
      "cell_type": "code",
      "source": [
        "df['Shift Prev Close']=df['Prev Close'].shift(1)\n",
        "prev=df['Shift Prev Close']"
      ],
      "metadata": {
        "id": "Ea7RmDuJdpgz"
      },
      "execution_count": 217,
      "outputs": []
    },
    {
      "cell_type": "code",
      "source": [
        "last_train=train.iloc[-1]['Prev Close']"
      ],
      "metadata": {
        "id": "hrhOEI3fduRI"
      },
      "execution_count": 218,
      "outputs": []
    },
    {
      "cell_type": "code",
      "source": [
        "df.loc[train_idx,'train_ANN']=prev[train_idx]+Ptrain_ann\n",
        "df.loc[test_idx,'Prediction_ANN']=prev[test_idx]+Ptest_ann"
      ],
      "metadata": {
        "id": "h0UpXNAXd0Uy"
      },
      "execution_count": 219,
      "outputs": []
    },
    {
      "cell_type": "code",
      "source": [
        "df.loc[train_idx,'train_CNN']=prev[train_idx]+Ptrain_cnn\n",
        "df.loc[test_idx,'Prediction_CNN']=prev[test_idx]+Ptest_cnn"
      ],
      "metadata": {
        "id": "EUYdfUqdg5Tu"
      },
      "execution_count": 220,
      "outputs": []
    },
    {
      "cell_type": "code",
      "source": [
        "df.loc[train_idx,'train_LSTM']=prev[train_idx]+Ptrain_lstm\n",
        "df.loc[test_idx,'Prediction_LSTM']=prev[test_idx]+Ptest_lstm"
      ],
      "metadata": {
        "id": "Na8TIloyjc_Z"
      },
      "execution_count": 221,
      "outputs": []
    },
    {
      "cell_type": "code",
      "source": [
        "df.loc[train_idx,'train_GRU']=prev[train_idx]+Ptrain_gru\n",
        "df.loc[test_idx,'Prediction_GRU']=prev[test_idx]+Ptest_gru"
      ],
      "metadata": {
        "id": "qSL8wEeqnzrM"
      },
      "execution_count": 222,
      "outputs": []
    },
    {
      "cell_type": "code",
      "source": [
        "df[[ 'Prev Close','Prediction_CNN','Prediction_ANN','Prediction_LSTM','Prediction_GRU']].plot(figsize=(15,10));"
      ],
      "metadata": {
        "colab": {
          "base_uri": "https://localhost:8080/",
          "height": 416
        },
        "id": "hItPmrHOd45G",
        "outputId": "87e60e0e-7b0e-489d-87db-188e1a81804e"
      },
      "execution_count": 223,
      "outputs": [
        {
          "output_type": "display_data",
          "data": {
            "text/plain": [
              "<Figure size 1080x720 with 1 Axes>"
            ],
            "image/png": "[encoded data removed]"
          },
          "metadata": {
            "needs_background": "light"
          }
        }
      ]
    },
    {
      "cell_type": "code",
      "source": [
        "df[[ 'Prediction_CNN','Prediction_ANN','Prediction_LSTM','Prediction_GRU']].plot(figsize=(15,10),\n",
        "    ylabel=(\"Previous Close\"));"
      ],
      "metadata": {
        "colab": {
          "base_uri": "https://localhost:8080/",
          "height": 416
        },
        "id": "8nDh9SzUd7Em",
        "outputId": "6d83fb38-63b1-413a-8066-3e25484f927f"
      },
      "execution_count": 224,
      "outputs": [
        {
          "output_type": "display_data",
          "data": {
            "text/plain": [
              "<Figure size 1080x720 with 1 Axes>"
            ],
            "image/png": "[encoded data removed]"
          },
          "metadata": {
            "needs_background": "light"
          }
        }
      ]
    },
    {
      "cell_type": "markdown",
      "source": [
        "Evaluation"
      ],
      "metadata": {
        "id": "rSXUYSDdpMP7"
      }
    },
    {
      "cell_type": "code",
      "source": [
        "pred_ann=df['Prediction_ANN']\n",
        "pred_ann.dropna(inplace=True)"
      ],
      "metadata": {
        "id": "NdOUWgEhoKjf"
      },
      "execution_count": 225,
      "outputs": []
    },
    {
      "cell_type": "code",
      "source": [
        "rmse=math.sqrt(mean_squared_error(test['Prev Close'],pred_ann))\n",
        "print(rmse)"
      ],
      "metadata": {
        "colab": {
          "base_uri": "https://localhost:8080/"
        },
        "id": "nsTCBQ6mpdH0",
        "outputId": "3d65c859-1cfb-4f35-8476-ad435bf05db4"
      },
      "execution_count": 226,
      "outputs": [
        {
          "output_type": "stream",
          "name": "stdout",
          "text": [
            "42.72693367442271\n"
          ]
        }
      ]
    },
    {
      "cell_type": "code",
      "source": [
        "error=mean_absolute_error(test['Prev Close'],pred_ann)\n",
        "print(error)"
      ],
      "metadata": {
        "colab": {
          "base_uri": "https://localhost:8080/"
        },
        "id": "iIAQHD7DpgVL",
        "outputId": "d94d7ff6-2672-4ead-9c16-a98b4691a752"
      },
      "execution_count": 227,
      "outputs": [
        {
          "output_type": "stream",
          "name": "stdout",
          "text": [
            "28.091621247616736\n"
          ]
        }
      ]
    },
    {
      "cell_type": "code",
      "source": [
        "r2_score(test['Prev Close'],pred_ann)"
      ],
      "metadata": {
        "colab": {
          "base_uri": "https://localhost:8080/"
        },
        "id": "-0ZfJE4zplqz",
        "outputId": "2c0ac71c-8cce-4d74-bcd7-c4b1ae9c0315"
      },
      "execution_count": 228,
      "outputs": [
        {
          "output_type": "execute_result",
          "data": {
            "text/plain": [
              "0.9299291568533221"
            ]
          },
          "metadata": {},
          "execution_count": 228
        }
      ]
    },
    {
      "cell_type": "code",
      "source": [
        "pred_cnn=df['Prediction_CNN']\n",
        "pred_cnn.dropna(inplace=True)"
      ],
      "metadata": {
        "id": "NQ3y6NwzppdW"
      },
      "execution_count": 229,
      "outputs": []
    },
    {
      "cell_type": "code",
      "source": [
        "rmse=math.sqrt(mean_squared_error(test['Prev Close'],pred_cnn))\n",
        "print(rmse)"
      ],
      "metadata": {
        "colab": {
          "base_uri": "https://localhost:8080/"
        },
        "id": "2t7Fu7N-p9ql",
        "outputId": "5792b744-00db-416a-d9b4-f3f81f206d49"
      },
      "execution_count": 230,
      "outputs": [
        {
          "output_type": "stream",
          "name": "stdout",
          "text": [
            "41.30997784871594\n"
          ]
        }
      ]
    },
    {
      "cell_type": "code",
      "source": [
        "error=mean_absolute_error(test['Prev Close'],pred_cnn)\n",
        "print(error)"
      ],
      "metadata": {
        "colab": {
          "base_uri": "https://localhost:8080/"
        },
        "id": "fCxfXZ3Cp92i",
        "outputId": "3a95cd61-0eb2-4582-9c7a-347819b41c70"
      },
      "execution_count": 231,
      "outputs": [
        {
          "output_type": "stream",
          "name": "stdout",
          "text": [
            "26.67693462474647\n"
          ]
        }
      ]
    },
    {
      "cell_type": "code",
      "source": [
        "r2_score(test['Prev Close'],pred_cnn)"
      ],
      "metadata": {
        "colab": {
          "base_uri": "https://localhost:8080/"
        },
        "id": "B1yNq5Vyp-Fv",
        "outputId": "1ebb1954-fd07-4398-8574-e92235ef3134"
      },
      "execution_count": 232,
      "outputs": [
        {
          "output_type": "execute_result",
          "data": {
            "text/plain": [
              "0.9344996207686905"
            ]
          },
          "metadata": {},
          "execution_count": 232
        }
      ]
    },
    {
      "cell_type": "code",
      "source": [
        "pred_lstm=df['Prediction_LSTM']\n",
        "pred_lstm.dropna(inplace=True)"
      ],
      "metadata": {
        "id": "2JHbSsrypzko"
      },
      "execution_count": 233,
      "outputs": []
    },
    {
      "cell_type": "code",
      "source": [
        "rmse=math.sqrt(mean_squared_error(test['Prev Close'],pred_lstm))\n",
        "print(rmse)"
      ],
      "metadata": {
        "colab": {
          "base_uri": "https://localhost:8080/"
        },
        "id": "UXSSQRxQp-35",
        "outputId": "075601fc-cbc1-49e7-ac47-4c23774d553c"
      },
      "execution_count": 234,
      "outputs": [
        {
          "output_type": "stream",
          "name": "stdout",
          "text": [
            "44.31782126276532\n"
          ]
        }
      ]
    },
    {
      "cell_type": "code",
      "source": [
        "error=mean_absolute_error(test['Prev Close'],pred_lstm)\n",
        "print(error)"
      ],
      "metadata": {
        "colab": {
          "base_uri": "https://localhost:8080/"
        },
        "id": "h9VZ6Odxp-9o",
        "outputId": "9a33c444-784d-42ae-91e0-14ca91d81e89"
      },
      "execution_count": 235,
      "outputs": [
        {
          "output_type": "stream",
          "name": "stdout",
          "text": [
            "31.077978826049627\n"
          ]
        }
      ]
    },
    {
      "cell_type": "code",
      "source": [
        "r2_score(test['Prev Close'],pred_lstm)"
      ],
      "metadata": {
        "colab": {
          "base_uri": "https://localhost:8080/"
        },
        "id": "X7FH8enup_D3",
        "outputId": "5335d057-5359-4b17-c8c4-15430d8527fd"
      },
      "execution_count": 236,
      "outputs": [
        {
          "output_type": "execute_result",
          "data": {
            "text/plain": [
              "0.9246140011569607"
            ]
          },
          "metadata": {},
          "execution_count": 236
        }
      ]
    },
    {
      "cell_type": "code",
      "source": [
        "pred_gru=df['Prediction_GRU']\n",
        "pred_gru.dropna(inplace=True)"
      ],
      "metadata": {
        "id": "i3IdPEAWp4iD"
      },
      "execution_count": 237,
      "outputs": []
    },
    {
      "cell_type": "code",
      "source": [
        "rmse=math.sqrt(mean_squared_error(test['Prev Close'],pred_gru))\n",
        "print(rmse)"
      ],
      "metadata": {
        "colab": {
          "base_uri": "https://localhost:8080/"
        },
        "id": "XuZAIPTEp_iy",
        "outputId": "db6179bb-df8c-47ee-983d-bd7394cb4a8c"
      },
      "execution_count": 238,
      "outputs": [
        {
          "output_type": "stream",
          "name": "stdout",
          "text": [
            "43.80592047103163\n"
          ]
        }
      ]
    },
    {
      "cell_type": "code",
      "source": [
        "error=mean_absolute_error(test['Prev Close'],pred_gru)\n",
        "print(error)"
      ],
      "metadata": {
        "colab": {
          "base_uri": "https://localhost:8080/"
        },
        "id": "eo7EZVIop_np",
        "outputId": "01769b67-112e-4668-e42d-ce4565d2e1cf"
      },
      "execution_count": 239,
      "outputs": [
        {
          "output_type": "stream",
          "name": "stdout",
          "text": [
            "29.636172989906473\n"
          ]
        }
      ]
    },
    {
      "cell_type": "code",
      "source": [
        "r2_score(test['Prev Close'],pred_gru)"
      ],
      "metadata": {
        "colab": {
          "base_uri": "https://localhost:8080/"
        },
        "id": "AQIh6l51p_so",
        "outputId": "7fe46afe-a062-428c-cf8f-a94428c0912e"
      },
      "execution_count": 240,
      "outputs": [
        {
          "output_type": "execute_result",
          "data": {
            "text/plain": [
              "0.9263454617850885"
            ]
          },
          "metadata": {},
          "execution_count": 240
        }
      ]
    },
    {
      "cell_type": "code",
      "source": [],
      "metadata": {
        "id": "gjfmkSgjqcjO"
      },
      "execution_count": 240,
      "outputs": []
    }
  ]
}