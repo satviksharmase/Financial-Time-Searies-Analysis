{
  "nbformat": 4,
  "nbformat_minor": 0,
  "metadata": {
    "colab": {
      "provenance": [],
      "collapsed_sections": []
    },
    "kernelspec": {
      "name": "python3",
      "display_name": "Python 3"
    },
    "language_info": {
      "name": "python"
    }
  },
  "cells": [
    {
      "cell_type": "code",
      "execution_count": 284,
      "metadata": {
        "id": "dpI-f41n9Ofc"
      },
      "outputs": [],
      "source": [
        "import pandas as pd\n",
        "import numpy as np\n",
        "import matplotlib.pyplot as plt\n",
        "\n",
        "import tensorflow as tf\n",
        "from tensorflow.keras.layers import Dense, Input, GlobalMaxPool1D, LSTM, GRU\n",
        "from tensorflow.keras.layers import Conv1D, MaxPooling1D\n",
        "from tensorflow.keras.models import Model\n",
        "from tensorflow.keras.callbacks import ModelCheckpoint\n",
        "\n",
        "import math\n",
        "\n",
        "from sklearn.metrics import r2_score\n",
        "from sklearn.metrics import mean_absolute_error\n",
        "from sklearn.metrics import mean_squared_error\n",
        "\n",
        "np.random.seed(123)\n",
        "tf.random.set_seed(123)"
      ]
    },
    {
      "cell_type": "code",
      "source": [
        "df=pd.read_csv('./HINDUNILVR.csv',index_col='Date',parse_dates=True)"
      ],
      "metadata": {
        "id": "tRrBpF6O9Rch"
      },
      "execution_count": 285,
      "outputs": []
    },
    {
      "cell_type": "code",
      "source": [
        "df"
      ],
      "metadata": {
        "colab": {
          "base_uri": "https://localhost:8080/",
          "height": 455
        },
        "id": "ZHKVPajo9cUs",
        "outputId": "4972234a-d0e1-4914-8604-e9642d246c3e"
      },
      "execution_count": 286,
      "outputs": [
        {
          "output_type": "execute_result",
          "data": {
            "text/plain": [
              "                Symbol Series  Prev Close    Open     High      Low     Last  \\\n",
              "Date                                                                           \n",
              "2000-01-03   HINDLEVER     EQ     2136.60  2300.0  2307.55  2300.00  2307.55   \n",
              "2000-01-04   HINDLEVER     EQ     2307.55  2381.0  2381.00  2250.00  2270.00   \n",
              "2000-01-05   HINDLEVER     EQ     2281.05  2200.0  2250.00  2105.00  2183.50   \n",
              "2000-01-06   HINDLEVER     EQ     2199.90  2224.9  2360.00  2210.00  2300.00   \n",
              "2000-01-07   HINDLEVER     EQ     2288.20  2300.0  2452.00  2282.25  2395.00   \n",
              "...                ...    ...         ...     ...      ...      ...      ...   \n",
              "2021-04-26  HINDUNILVR     EQ     2307.75  2324.0  2369.80  2311.00  2367.70   \n",
              "2021-04-27  HINDUNILVR     EQ     2360.65  2363.0  2386.45  2352.95  2378.00   \n",
              "2021-04-28  HINDUNILVR     EQ     2379.85  2380.0  2445.00  2366.30  2404.00   \n",
              "2021-04-29  HINDUNILVR     EQ     2406.55  2433.0  2448.95  2384.15  2422.15   \n",
              "2021-04-30  HINDUNILVR     EQ     2407.60  2410.0  2442.90  2330.25  2350.00   \n",
              "\n",
              "              Close     VWAP   Volume      Turnover    Trades  \\\n",
              "Date                                                            \n",
              "2000-01-03  2307.55  2307.08    24903  5.745330e+12       NaN   \n",
              "2000-01-04  2281.05  2298.15    58514  1.344740e+13       NaN   \n",
              "2000-01-05  2199.90  2211.17    80296  1.775482e+13       NaN   \n",
              "2000-01-06  2288.20  2301.80   190032  4.374157e+13       NaN   \n",
              "2000-01-07  2412.95  2380.24   192582  4.583919e+13       NaN   \n",
              "...             ...      ...      ...           ...       ...   \n",
              "2021-04-26  2360.65  2340.89  1946867  4.557405e+14   85684.0   \n",
              "2021-04-27  2379.85  2374.40  1668456  3.961583e+14   84641.0   \n",
              "2021-04-28  2406.55  2414.15  1951215  4.710522e+14   84910.0   \n",
              "2021-04-29  2407.60  2419.82  3151150  7.625230e+14  141048.0   \n",
              "2021-04-30  2353.75  2363.99  4010778  9.481448e+14  170223.0   \n",
              "\n",
              "            Deliverable Volume  %Deliverble  \n",
              "Date                                         \n",
              "2000-01-03                 NaN          NaN  \n",
              "2000-01-04                 NaN          NaN  \n",
              "2000-01-05                 NaN          NaN  \n",
              "2000-01-06                 NaN          NaN  \n",
              "2000-01-07                 NaN          NaN  \n",
              "...                        ...          ...  \n",
              "2021-04-26           1289103.0       0.6621  \n",
              "2021-04-27           1089882.0       0.6532  \n",
              "2021-04-28           1024216.0       0.5249  \n",
              "2021-04-29            946648.0       0.3004  \n",
              "2021-04-30           2038288.0       0.5082  \n",
              "\n",
              "[5306 rows x 14 columns]"
            ],
            "text/html": [
              "\n",
              "  <div id=\"df-8cc2a1c8-9573-4d02-bacb-2200a603297e\">\n",
              "    <div class=\"colab-df-container\">\n",
              "      <div>\n",
              "<style scoped>\n",
              "    .dataframe tbody tr th:only-of-type {\n",
              "        vertical-align: middle;\n",
              "    }\n",
              "\n",
              "    .dataframe tbody tr th {\n",
              "        vertical-align: top;\n",
              "    }\n",
              "\n",
              "    .dataframe thead th {\n",
              "        text-align: right;\n",
              "    }\n",
              "</style>\n",
              "<table border=\"1\" class=\"dataframe\">\n",
              "  <thead>\n",
              "    <tr style=\"text-align: right;\">\n",
              "      <th></th>\n",
              "      <th>Symbol</th>\n",
              "      <th>Series</th>\n",
              "      <th>Prev Close</th>\n",
              "      <th>Open</th>\n",
              "      <th>High</th>\n",
              "      <th>Low</th>\n",
              "      <th>Last</th>\n",
              "      <th>Close</th>\n",
              "      <th>VWAP</th>\n",
              "      <th>Volume</th>\n",
              "      <th>Turnover</th>\n",
              "      <th>Trades</th>\n",
              "      <th>Deliverable Volume</th>\n",
              "      <th>%Deliverble</th>\n",
              "    </tr>\n",
              "    <tr>\n",
              "      <th>Date</th>\n",
              "      <th></th>\n",
              "      <th></th>\n",
              "      <th></th>\n",
              "      <th></th>\n",
              "      <th></th>\n",
              "      <th></th>\n",
              "      <th></th>\n",
              "      <th></th>\n",
              "      <th></th>\n",
              "      <th></th>\n",
              "      <th></th>\n",
              "      <th></th>\n",
              "      <th></th>\n",
              "      <th></th>\n",
              "    </tr>\n",
              "  </thead>\n",
              "  <tbody>\n",
              "    <tr>\n",
              "      <th>2000-01-03</th>\n",
              "      <td>HINDLEVER</td>\n",
              "      <td>EQ</td>\n",
              "      <td>2136.60</td>\n",
              "      <td>2300.0</td>\n",
              "      <td>2307.55</td>\n",
              "      <td>2300.00</td>\n",
              "      <td>2307.55</td>\n",
              "      <td>2307.55</td>\n",
              "      <td>2307.08</td>\n",
              "      <td>24903</td>\n",
              "      <td>5.745330e+12</td>\n",
              "      <td>NaN</td>\n",
              "      <td>NaN</td>\n",
              "      <td>NaN</td>\n",
              "    </tr>\n",
              "    <tr>\n",
              "      <th>2000-01-04</th>\n",
              "      <td>HINDLEVER</td>\n",
              "      <td>EQ</td>\n",
              "      <td>2307.55</td>\n",
              "      <td>2381.0</td>\n",
              "      <td>2381.00</td>\n",
              "      <td>2250.00</td>\n",
              "      <td>2270.00</td>\n",
              "      <td>2281.05</td>\n",
              "      <td>2298.15</td>\n",
              "      <td>58514</td>\n",
              "      <td>1.344740e+13</td>\n",
              "      <td>NaN</td>\n",
              "      <td>NaN</td>\n",
              "      <td>NaN</td>\n",
              "    </tr>\n",
              "    <tr>\n",
              "      <th>2000-01-05</th>\n",
              "      <td>HINDLEVER</td>\n",
              "      <td>EQ</td>\n",
              "      <td>2281.05</td>\n",
              "      <td>2200.0</td>\n",
              "      <td>2250.00</td>\n",
              "      <td>2105.00</td>\n",
              "      <td>2183.50</td>\n",
              "      <td>2199.90</td>\n",
              "      <td>2211.17</td>\n",
              "      <td>80296</td>\n",
              "      <td>1.775482e+13</td>\n",
              "      <td>NaN</td>\n",
              "      <td>NaN</td>\n",
              "      <td>NaN</td>\n",
              "    </tr>\n",
              "    <tr>\n",
              "      <th>2000-01-06</th>\n",
              "      <td>HINDLEVER</td>\n",
              "      <td>EQ</td>\n",
              "      <td>2199.90</td>\n",
              "      <td>2224.9</td>\n",
              "      <td>2360.00</td>\n",
              "      <td>2210.00</td>\n",
              "      <td>2300.00</td>\n",
              "      <td>2288.20</td>\n",
              "      <td>2301.80</td>\n",
              "      <td>190032</td>\n",
              "      <td>4.374157e+13</td>\n",
              "      <td>NaN</td>\n",
              "      <td>NaN</td>\n",
              "      <td>NaN</td>\n",
              "    </tr>\n",
              "    <tr>\n",
              "      <th>2000-01-07</th>\n",
              "      <td>HINDLEVER</td>\n",
              "      <td>EQ</td>\n",
              "      <td>2288.20</td>\n",
              "      <td>2300.0</td>\n",
              "      <td>2452.00</td>\n",
              "      <td>2282.25</td>\n",
              "      <td>2395.00</td>\n",
              "      <td>2412.95</td>\n",
              "      <td>2380.24</td>\n",
              "      <td>192582</td>\n",
              "      <td>4.583919e+13</td>\n",
              "      <td>NaN</td>\n",
              "      <td>NaN</td>\n",
              "      <td>NaN</td>\n",
              "    </tr>\n",
              "    <tr>\n",
              "      <th>...</th>\n",
              "      <td>...</td>\n",
              "      <td>...</td>\n",
              "      <td>...</td>\n",
              "      <td>...</td>\n",
              "      <td>...</td>\n",
              "      <td>...</td>\n",
              "      <td>...</td>\n",
              "      <td>...</td>\n",
              "      <td>...</td>\n",
              "      <td>...</td>\n",
              "      <td>...</td>\n",
              "      <td>...</td>\n",
              "      <td>...</td>\n",
              "      <td>...</td>\n",
              "    </tr>\n",
              "    <tr>\n",
              "      <th>2021-04-26</th>\n",
              "      <td>HINDUNILVR</td>\n",
              "      <td>EQ</td>\n",
              "      <td>2307.75</td>\n",
              "      <td>2324.0</td>\n",
              "      <td>2369.80</td>\n",
              "      <td>2311.00</td>\n",
              "      <td>2367.70</td>\n",
              "      <td>2360.65</td>\n",
              "      <td>2340.89</td>\n",
              "      <td>1946867</td>\n",
              "      <td>4.557405e+14</td>\n",
              "      <td>85684.0</td>\n",
              "      <td>1289103.0</td>\n",
              "      <td>0.6621</td>\n",
              "    </tr>\n",
              "    <tr>\n",
              "      <th>2021-04-27</th>\n",
              "      <td>HINDUNILVR</td>\n",
              "      <td>EQ</td>\n",
              "      <td>2360.65</td>\n",
              "      <td>2363.0</td>\n",
              "      <td>2386.45</td>\n",
              "      <td>2352.95</td>\n",
              "      <td>2378.00</td>\n",
              "      <td>2379.85</td>\n",
              "      <td>2374.40</td>\n",
              "      <td>1668456</td>\n",
              "      <td>3.961583e+14</td>\n",
              "      <td>84641.0</td>\n",
              "      <td>1089882.0</td>\n",
              "      <td>0.6532</td>\n",
              "    </tr>\n",
              "    <tr>\n",
              "      <th>2021-04-28</th>\n",
              "      <td>HINDUNILVR</td>\n",
              "      <td>EQ</td>\n",
              "      <td>2379.85</td>\n",
              "      <td>2380.0</td>\n",
              "      <td>2445.00</td>\n",
              "      <td>2366.30</td>\n",
              "      <td>2404.00</td>\n",
              "      <td>2406.55</td>\n",
              "      <td>2414.15</td>\n",
              "      <td>1951215</td>\n",
              "      <td>4.710522e+14</td>\n",
              "      <td>84910.0</td>\n",
              "      <td>1024216.0</td>\n",
              "      <td>0.5249</td>\n",
              "    </tr>\n",
              "    <tr>\n",
              "      <th>2021-04-29</th>\n",
              "      <td>HINDUNILVR</td>\n",
              "      <td>EQ</td>\n",
              "      <td>2406.55</td>\n",
              "      <td>2433.0</td>\n",
              "      <td>2448.95</td>\n",
              "      <td>2384.15</td>\n",
              "      <td>2422.15</td>\n",
              "      <td>2407.60</td>\n",
              "      <td>2419.82</td>\n",
              "      <td>3151150</td>\n",
              "      <td>7.625230e+14</td>\n",
              "      <td>141048.0</td>\n",
              "      <td>946648.0</td>\n",
              "      <td>0.3004</td>\n",
              "    </tr>\n",
              "    <tr>\n",
              "      <th>2021-04-30</th>\n",
              "      <td>HINDUNILVR</td>\n",
              "      <td>EQ</td>\n",
              "      <td>2407.60</td>\n",
              "      <td>2410.0</td>\n",
              "      <td>2442.90</td>\n",
              "      <td>2330.25</td>\n",
              "      <td>2350.00</td>\n",
              "      <td>2353.75</td>\n",
              "      <td>2363.99</td>\n",
              "      <td>4010778</td>\n",
              "      <td>9.481448e+14</td>\n",
              "      <td>170223.0</td>\n",
              "      <td>2038288.0</td>\n",
              "      <td>0.5082</td>\n",
              "    </tr>\n",
              "  </tbody>\n",
              "</table>\n",
              "<p>5306 rows × 14 columns</p>\n",
              "</div>\n",
              "      <button class=\"colab-df-convert\" onclick=\"convertToInteractive('df-8cc2a1c8-9573-4d02-bacb-2200a603297e')\"\n",
              "              title=\"Convert this dataframe to an interactive table.\"\n",
              "              style=\"display:none;\">\n",
              "        \n",
              "  <svg xmlns=\"http://www.w3.org/2000/svg\" height=\"24px\"viewBox=\"0 0 24 24\"\n",
              "       width=\"24px\">\n",
              "    <path d=\"M0 0h24v24H0V0z\" fill=\"none\"/>\n",
              "    <path d=\"M18.56 5.44l.94 2.06.94-2.06 2.06-.94-2.06-.94-.94-2.06-.94 2.06-2.06.94zm-11 1L8.5 8.5l.94-2.06 2.06-.94-2.06-.94L8.5 2.5l-.94 2.06-2.06.94zm10 10l.94 2.06.94-2.06 2.06-.94-2.06-.94-.94-2.06-.94 2.06-2.06.94z\"/><path d=\"M17.41 7.96l-1.37-1.37c-.4-.4-.92-.59-1.43-.59-.52 0-1.04.2-1.43.59L10.3 9.45l-7.72 7.72c-.78.78-.78 2.05 0 2.83L4 21.41c.39.39.9.59 1.41.59.51 0 1.02-.2 1.41-.59l7.78-7.78 2.81-2.81c.8-.78.8-2.07 0-2.86zM5.41 20L4 18.59l7.72-7.72 1.47 1.35L5.41 20z\"/>\n",
              "  </svg>\n",
              "      </button>\n",
              "      \n",
              "  <style>\n",
              "    .colab-df-container {\n",
              "      display:flex;\n",
              "      flex-wrap:wrap;\n",
              "      gap: 12px;\n",
              "    }\n",
              "\n",
              "    .colab-df-convert {\n",
              "      background-color: #E8F0FE;\n",
              "      border: none;\n",
              "      border-radius: 50%;\n",
              "      cursor: pointer;\n",
              "      display: none;\n",
              "      fill: #1967D2;\n",
              "      height: 32px;\n",
              "      padding: 0 0 0 0;\n",
              "      width: 32px;\n",
              "    }\n",
              "\n",
              "    .colab-df-convert:hover {\n",
              "      background-color: #E2EBFA;\n",
              "      box-shadow: 0px 1px 2px rgba(60, 64, 67, 0.3), 0px 1px 3px 1px rgba(60, 64, 67, 0.15);\n",
              "      fill: #174EA6;\n",
              "    }\n",
              "\n",
              "    [theme=dark] .colab-df-convert {\n",
              "      background-color: #3B4455;\n",
              "      fill: #D2E3FC;\n",
              "    }\n",
              "\n",
              "    [theme=dark] .colab-df-convert:hover {\n",
              "      background-color: #434B5C;\n",
              "      box-shadow: 0px 1px 3px 1px rgba(0, 0, 0, 0.15);\n",
              "      filter: drop-shadow(0px 1px 2px rgba(0, 0, 0, 0.3));\n",
              "      fill: #FFFFFF;\n",
              "    }\n",
              "  </style>\n",
              "\n",
              "      <script>\n",
              "        const buttonEl =\n",
              "          document.querySelector('#df-8cc2a1c8-9573-4d02-bacb-2200a603297e button.colab-df-convert');\n",
              "        buttonEl.style.display =\n",
              "          google.colab.kernel.accessAllowed ? 'block' : 'none';\n",
              "\n",
              "        async function convertToInteractive(key) {\n",
              "          const element = document.querySelector('#df-8cc2a1c8-9573-4d02-bacb-2200a603297e');\n",
              "          const dataTable =\n",
              "            await google.colab.kernel.invokeFunction('convertToInteractive',\n",
              "                                                     [key], {});\n",
              "          if (!dataTable) return;\n",
              "\n",
              "          const docLinkHtml = 'Like what you see? Visit the ' +\n",
              "            '<a target=\"_blank\" href=https://colab.research.google.com/notebooks/data_table.ipynb>data table notebook</a>'\n",
              "            + ' to learn more about interactive tables.';\n",
              "          element.innerHTML = '';\n",
              "          dataTable['output_type'] = 'display_data';\n",
              "          await google.colab.output.renderOutput(dataTable, element);\n",
              "          const docLink = document.createElement('div');\n",
              "          docLink.innerHTML = docLinkHtml;\n",
              "          element.appendChild(docLink);\n",
              "        }\n",
              "      </script>\n",
              "    </div>\n",
              "  </div>\n",
              "  "
            ]
          },
          "metadata": {},
          "execution_count": 286
        }
      ]
    },
    {
      "cell_type": "code",
      "source": [
        "df['Date']=df.index"
      ],
      "metadata": {
        "id": "9unXMmHP9dBl"
      },
      "execution_count": 287,
      "outputs": []
    },
    {
      "cell_type": "code",
      "source": [
        "start_date='2016-01-01'\n",
        "end_date='2020-12-31'\n",
        "mask=(df['Date']>=start_date)&(df['Date']<=end_date)"
      ],
      "metadata": {
        "id": "pmoAuKVz9dEq"
      },
      "execution_count": 288,
      "outputs": []
    },
    {
      "cell_type": "code",
      "source": [
        "df=df.loc[mask]"
      ],
      "metadata": {
        "id": "BuOLMt6t9dHp"
      },
      "execution_count": 289,
      "outputs": []
    },
    {
      "cell_type": "code",
      "source": [
        "df=df.drop(columns=['Series','Symbol','Open','High','Low','Last','Close','VWAP','Volume','Turnover','Trades','Deliverable Volume','%Deliverble','Date'])"
      ],
      "metadata": {
        "id": "5w_ZXVOL9dKu"
      },
      "execution_count": 290,
      "outputs": []
    },
    {
      "cell_type": "code",
      "source": [
        "Ntest=math.trunc(0.3*len(df))\n",
        "train=df.iloc[:-Ntest]\n",
        "test=df.iloc[-Ntest:]"
      ],
      "metadata": {
        "id": "Pd6Tf8ub9dNk"
      },
      "execution_count": 291,
      "outputs": []
    },
    {
      "cell_type": "code",
      "source": [
        "train_idx=df.index<=train.index[-1]\n",
        "test_idx=df.index>train.index[-1]"
      ],
      "metadata": {
        "id": "fFr5cqWk9dQ4"
      },
      "execution_count": 292,
      "outputs": []
    },
    {
      "cell_type": "code",
      "source": [
        "df['Diff Prev Close']=df['Prev Close'].diff()"
      ],
      "metadata": {
        "id": "bTleMRdL9dTP"
      },
      "execution_count": 293,
      "outputs": []
    },
    {
      "cell_type": "code",
      "source": [
        "series=df['Diff Prev Close'].dropna().to_numpy()\n",
        "\n",
        "T=50\n",
        "X=[]\n",
        "Y=[]\n",
        "for t in range(len(series)-T):\n",
        "  x=series[t:t+T]\n",
        "  X.append(x)\n",
        "  y=series[t+T]\n",
        "  Y.append(y)\n",
        "\n",
        "X=np.array(X).reshape(-1,T)\n",
        "Y=np.array(Y)\n",
        "N=len(X)\n",
        "print(\"X.shape\",X.shape,\"Y.shape\",Y.shape)"
      ],
      "metadata": {
        "colab": {
          "base_uri": "https://localhost:8080/"
        },
        "id": "-faJTkyl9dWV",
        "outputId": "3034dea0-4e27-45b4-e8b9-bbf9524bc935"
      },
      "execution_count": 294,
      "outputs": [
        {
          "output_type": "stream",
          "name": "stdout",
          "text": [
            "X.shape (1187, 50) Y.shape (1187,)\n"
          ]
        }
      ]
    },
    {
      "cell_type": "code",
      "source": [
        "Xtrain,Ytrain=X[:-Ntest],Y[:-Ntest]\n",
        "Xtest,Ytest=X[-Ntest:],Y[-Ntest:]"
      ],
      "metadata": {
        "id": "blHqq_g-9dY_"
      },
      "execution_count": 295,
      "outputs": []
    },
    {
      "cell_type": "markdown",
      "source": [
        "LSTM+CNN"
      ],
      "metadata": {
        "id": "ir_desj398LI"
      }
    },
    {
      "cell_type": "code",
      "source": [
        "i=Input(shape=(T,1))\n",
        "x=LSTM(200,return_sequences=True)(i)\n",
        "x=LSTM(200,return_sequences=True)(x)\n",
        "x=Dense(100)(x)\n",
        "x=Dense(50)(x)\n",
        "x=Conv1D(25,3,activation='relu')(i)\n",
        "x=MaxPooling1D(2)(x)\n",
        "x=Conv1D(50,3,activation='relu')(x)\n",
        "x=GlobalMaxPool1D()(x)\n",
        "x=Dense(1)(x)\n",
        "model_lstm_cnn=Model(i,x)\n",
        "model_lstm_cnn.summary()"
      ],
      "metadata": {
        "colab": {
          "base_uri": "https://localhost:8080/"
        },
        "id": "vvKQKCrr96yo",
        "outputId": "63fcfa55-aa55-4e17-f7a2-28818a001601"
      },
      "execution_count": 296,
      "outputs": [
        {
          "output_type": "stream",
          "name": "stdout",
          "text": [
            "Model: \"model_15\"\n",
            "_________________________________________________________________\n",
            " Layer (type)                Output Shape              Param #   \n",
            "=================================================================\n",
            " input_16 (InputLayer)       [(None, 50, 1)]           0         \n",
            "                                                                 \n",
            " conv1d_14 (Conv1D)          (None, 48, 25)            100       \n",
            "                                                                 \n",
            " max_pooling1d_7 (MaxPooling  (None, 24, 25)           0         \n",
            " 1D)                                                             \n",
            "                                                                 \n",
            " conv1d_15 (Conv1D)          (None, 22, 50)            3800      \n",
            "                                                                 \n",
            " global_max_pooling1d_15 (Gl  (None, 50)               0         \n",
            " obalMaxPooling1D)                                               \n",
            "                                                                 \n",
            " dense_63 (Dense)            (None, 1)                 51        \n",
            "                                                                 \n",
            "=================================================================\n",
            "Total params: 3,951\n",
            "Trainable params: 3,951\n",
            "Non-trainable params: 0\n",
            "_________________________________________________________________\n"
          ]
        }
      ]
    },
    {
      "cell_type": "code",
      "source": [
        "check_point_lstm_cnn=ModelCheckpoint('best_model.h5',monitor='val_loss',save_best_only=True)"
      ],
      "metadata": {
        "id": "nH-bqzYc967w"
      },
      "execution_count": 297,
      "outputs": []
    },
    {
      "cell_type": "code",
      "source": [
        "model_lstm_cnn.compile(loss='mse',\n",
        "              optimizer='adamax',\n",
        "              metrics=['mae','mse'])"
      ],
      "metadata": {
        "id": "pSNLhWam97B2"
      },
      "execution_count": 298,
      "outputs": []
    },
    {
      "cell_type": "code",
      "source": [
        "r=model_lstm_cnn.fit(\n",
        "    Xtrain,\n",
        "    Ytrain,\n",
        "    epochs=100,\n",
        "    validation_data=(Xtest,Ytest),\n",
        "    callbacks=[check_point_lstm_cnn]\n",
        ")"
      ],
      "metadata": {
        "colab": {
          "base_uri": "https://localhost:8080/"
        },
        "id": "YMfLEKjw97Hd",
        "outputId": "45b6d5dc-a5a3-4e52-cc10-d80f25b16f02"
      },
      "execution_count": 299,
      "outputs": [
        {
          "output_type": "stream",
          "name": "stdout",
          "text": [
            "Epoch 1/100\n",
            "26/26 [==============================] - 1s 15ms/step - loss: 262.3056 - mae: 11.8258 - mse: 262.3056 - val_loss: 1643.1560 - val_mae: 25.7205 - val_mse: 1643.1560\n",
            "Epoch 2/100\n",
            "26/26 [==============================] - 0s 7ms/step - loss: 259.4212 - mae: 11.7361 - mse: 259.4212 - val_loss: 1658.8108 - val_mae: 26.2277 - val_mse: 1658.8108\n",
            "Epoch 3/100\n",
            "26/26 [==============================] - 0s 7ms/step - loss: 256.7941 - mae: 11.6791 - mse: 256.7941 - val_loss: 1677.2268 - val_mae: 26.5373 - val_mse: 1677.2268\n",
            "Epoch 4/100\n",
            "26/26 [==============================] - 0s 8ms/step - loss: 254.3295 - mae: 11.6105 - mse: 254.3295 - val_loss: 1669.1752 - val_mae: 26.4050 - val_mse: 1669.1752\n",
            "Epoch 5/100\n",
            "26/26 [==============================] - 0s 7ms/step - loss: 253.5466 - mae: 11.6096 - mse: 253.5466 - val_loss: 1658.0540 - val_mae: 26.1808 - val_mse: 1658.0540\n",
            "Epoch 6/100\n",
            "26/26 [==============================] - 0s 8ms/step - loss: 255.1172 - mae: 11.6347 - mse: 255.1172 - val_loss: 1662.6482 - val_mae: 26.2635 - val_mse: 1662.6482\n",
            "Epoch 7/100\n",
            "26/26 [==============================] - 0s 9ms/step - loss: 253.2653 - mae: 11.6069 - mse: 253.2653 - val_loss: 1683.8542 - val_mae: 26.5696 - val_mse: 1683.8542\n",
            "Epoch 8/100\n",
            "26/26 [==============================] - 0s 7ms/step - loss: 250.7984 - mae: 11.5600 - mse: 250.7984 - val_loss: 1664.8683 - val_mae: 26.2922 - val_mse: 1664.8683\n",
            "Epoch 9/100\n",
            "26/26 [==============================] - 0s 9ms/step - loss: 250.5641 - mae: 11.5482 - mse: 250.5641 - val_loss: 1690.0564 - val_mae: 26.6390 - val_mse: 1690.0564\n",
            "Epoch 10/100\n",
            "26/26 [==============================] - 0s 7ms/step - loss: 250.5830 - mae: 11.5439 - mse: 250.5830 - val_loss: 1666.7676 - val_mae: 26.3454 - val_mse: 1666.7676\n",
            "Epoch 11/100\n",
            "26/26 [==============================] - 0s 8ms/step - loss: 250.1427 - mae: 11.5622 - mse: 250.1427 - val_loss: 1679.4755 - val_mae: 26.5212 - val_mse: 1679.4755\n",
            "Epoch 12/100\n",
            "26/26 [==============================] - 0s 8ms/step - loss: 249.5430 - mae: 11.4988 - mse: 249.5430 - val_loss: 1705.3505 - val_mae: 26.8334 - val_mse: 1705.3505\n",
            "Epoch 13/100\n",
            "26/26 [==============================] - 0s 7ms/step - loss: 248.5027 - mae: 11.5077 - mse: 248.5027 - val_loss: 1701.3208 - val_mae: 26.7785 - val_mse: 1701.3208\n",
            "Epoch 14/100\n",
            "26/26 [==============================] - 0s 6ms/step - loss: 248.5204 - mae: 11.5344 - mse: 248.5204 - val_loss: 1696.9502 - val_mae: 26.7433 - val_mse: 1696.9500\n",
            "Epoch 15/100\n",
            "26/26 [==============================] - 0s 7ms/step - loss: 247.9407 - mae: 11.4860 - mse: 247.9407 - val_loss: 1695.0925 - val_mae: 26.7139 - val_mse: 1695.0925\n",
            "Epoch 16/100\n",
            "26/26 [==============================] - 0s 8ms/step - loss: 248.1885 - mae: 11.5170 - mse: 248.1885 - val_loss: 1693.0350 - val_mae: 26.6805 - val_mse: 1693.0350\n",
            "Epoch 17/100\n",
            "26/26 [==============================] - 0s 9ms/step - loss: 247.1109 - mae: 11.4571 - mse: 247.1109 - val_loss: 1690.0541 - val_mae: 26.6440 - val_mse: 1690.0541\n",
            "Epoch 18/100\n",
            "26/26 [==============================] - 0s 7ms/step - loss: 246.7837 - mae: 11.4912 - mse: 246.7837 - val_loss: 1705.7106 - val_mae: 26.8336 - val_mse: 1705.7106\n",
            "Epoch 19/100\n",
            "26/26 [==============================] - 0s 8ms/step - loss: 246.7863 - mae: 11.4688 - mse: 246.7863 - val_loss: 1679.9966 - val_mae: 26.5139 - val_mse: 1679.9966\n",
            "Epoch 20/100\n",
            "26/26 [==============================] - 0s 8ms/step - loss: 248.2581 - mae: 11.5276 - mse: 248.2581 - val_loss: 1683.9640 - val_mae: 26.5655 - val_mse: 1683.9640\n",
            "Epoch 21/100\n",
            "26/26 [==============================] - 0s 6ms/step - loss: 247.0482 - mae: 11.4781 - mse: 247.0482 - val_loss: 1742.5425 - val_mae: 27.2667 - val_mse: 1742.5425\n",
            "Epoch 22/100\n",
            "26/26 [==============================] - 0s 9ms/step - loss: 245.1853 - mae: 11.4594 - mse: 245.1853 - val_loss: 1685.7850 - val_mae: 26.5837 - val_mse: 1685.7850\n",
            "Epoch 23/100\n",
            "26/26 [==============================] - 0s 8ms/step - loss: 245.5246 - mae: 11.4263 - mse: 245.5246 - val_loss: 1741.0074 - val_mae: 27.2346 - val_mse: 1741.0074\n",
            "Epoch 24/100\n",
            "26/26 [==============================] - 0s 8ms/step - loss: 246.1800 - mae: 11.4612 - mse: 246.1800 - val_loss: 1691.8469 - val_mae: 26.6379 - val_mse: 1691.8469\n",
            "Epoch 25/100\n",
            "26/26 [==============================] - 0s 8ms/step - loss: 247.3373 - mae: 11.5082 - mse: 247.3373 - val_loss: 1685.3768 - val_mae: 26.5570 - val_mse: 1685.3768\n",
            "Epoch 26/100\n",
            "26/26 [==============================] - 0s 7ms/step - loss: 246.3692 - mae: 11.4243 - mse: 246.3692 - val_loss: 1735.0994 - val_mae: 27.1577 - val_mse: 1735.0994\n",
            "Epoch 27/100\n",
            "26/26 [==============================] - 0s 7ms/step - loss: 245.6739 - mae: 11.4327 - mse: 245.6739 - val_loss: 1753.0089 - val_mae: 27.3584 - val_mse: 1753.0089\n",
            "Epoch 28/100\n",
            "26/26 [==============================] - 0s 8ms/step - loss: 244.9913 - mae: 11.4342 - mse: 244.9913 - val_loss: 1744.1282 - val_mae: 27.2702 - val_mse: 1744.1282\n",
            "Epoch 29/100\n",
            "26/26 [==============================] - 0s 7ms/step - loss: 244.9544 - mae: 11.4739 - mse: 244.9544 - val_loss: 1691.4431 - val_mae: 26.6615 - val_mse: 1691.4431\n",
            "Epoch 30/100\n",
            "26/26 [==============================] - 0s 8ms/step - loss: 242.8083 - mae: 11.3765 - mse: 242.8083 - val_loss: 1725.1140 - val_mae: 27.0641 - val_mse: 1725.1140\n",
            "Epoch 31/100\n",
            "26/26 [==============================] - 0s 6ms/step - loss: 244.1863 - mae: 11.4691 - mse: 244.1863 - val_loss: 1755.0540 - val_mae: 27.4020 - val_mse: 1755.0540\n",
            "Epoch 32/100\n",
            "26/26 [==============================] - 0s 8ms/step - loss: 245.7965 - mae: 11.4018 - mse: 245.7965 - val_loss: 1756.2404 - val_mae: 27.4177 - val_mse: 1756.2404\n",
            "Epoch 33/100\n",
            "26/26 [==============================] - 0s 9ms/step - loss: 244.5340 - mae: 11.4633 - mse: 244.5340 - val_loss: 1751.1671 - val_mae: 27.3570 - val_mse: 1751.1671\n",
            "Epoch 34/100\n",
            "26/26 [==============================] - 0s 7ms/step - loss: 241.8261 - mae: 11.3956 - mse: 241.8261 - val_loss: 1696.8870 - val_mae: 26.7435 - val_mse: 1696.8870\n",
            "Epoch 35/100\n",
            "26/26 [==============================] - 0s 7ms/step - loss: 241.8554 - mae: 11.3519 - mse: 241.8554 - val_loss: 1752.9424 - val_mae: 27.3904 - val_mse: 1752.9424\n",
            "Epoch 36/100\n",
            "26/26 [==============================] - 0s 7ms/step - loss: 241.2831 - mae: 11.4204 - mse: 241.2831 - val_loss: 1701.7559 - val_mae: 26.8108 - val_mse: 1701.7559\n",
            "Epoch 37/100\n",
            "26/26 [==============================] - 0s 9ms/step - loss: 241.6136 - mae: 11.3194 - mse: 241.6136 - val_loss: 1715.4983 - val_mae: 26.9750 - val_mse: 1715.4983\n",
            "Epoch 38/100\n",
            "26/26 [==============================] - 0s 8ms/step - loss: 241.3175 - mae: 11.3902 - mse: 241.3175 - val_loss: 1722.5789 - val_mae: 27.0716 - val_mse: 1722.5789\n",
            "Epoch 39/100\n",
            "26/26 [==============================] - 0s 7ms/step - loss: 242.1863 - mae: 11.3936 - mse: 242.1863 - val_loss: 1764.8567 - val_mae: 27.5337 - val_mse: 1764.8567\n",
            "Epoch 40/100\n",
            "26/26 [==============================] - 0s 8ms/step - loss: 241.2461 - mae: 11.3624 - mse: 241.2461 - val_loss: 1724.2781 - val_mae: 27.0911 - val_mse: 1724.2781\n",
            "Epoch 41/100\n",
            "26/26 [==============================] - 0s 7ms/step - loss: 240.7841 - mae: 11.3552 - mse: 240.7841 - val_loss: 1733.7137 - val_mae: 27.2081 - val_mse: 1733.7137\n",
            "Epoch 42/100\n",
            "26/26 [==============================] - 0s 9ms/step - loss: 240.1623 - mae: 11.3204 - mse: 240.1623 - val_loss: 1759.5167 - val_mae: 27.4880 - val_mse: 1759.5167\n",
            "Epoch 43/100\n",
            "26/26 [==============================] - 0s 8ms/step - loss: 239.6216 - mae: 11.3397 - mse: 239.6216 - val_loss: 1701.3599 - val_mae: 26.8279 - val_mse: 1701.3599\n",
            "Epoch 44/100\n",
            "26/26 [==============================] - 0s 7ms/step - loss: 240.1325 - mae: 11.3330 - mse: 240.1325 - val_loss: 1758.6396 - val_mae: 27.5027 - val_mse: 1758.6396\n",
            "Epoch 45/100\n",
            "26/26 [==============================] - 0s 7ms/step - loss: 239.0282 - mae: 11.3237 - mse: 239.0282 - val_loss: 1734.0593 - val_mae: 27.2233 - val_mse: 1734.0593\n",
            "Epoch 46/100\n",
            "26/26 [==============================] - 0s 7ms/step - loss: 239.2240 - mae: 11.3396 - mse: 239.2240 - val_loss: 1713.5092 - val_mae: 26.9829 - val_mse: 1713.5092\n",
            "Epoch 47/100\n",
            "26/26 [==============================] - 0s 9ms/step - loss: 238.2519 - mae: 11.2861 - mse: 238.2519 - val_loss: 1734.9047 - val_mae: 27.2266 - val_mse: 1734.9047\n",
            "Epoch 48/100\n",
            "26/26 [==============================] - 0s 7ms/step - loss: 238.3848 - mae: 11.3273 - mse: 238.3848 - val_loss: 1716.4636 - val_mae: 27.0218 - val_mse: 1716.4636\n",
            "Epoch 49/100\n",
            "26/26 [==============================] - 0s 8ms/step - loss: 238.4848 - mae: 11.2786 - mse: 238.4848 - val_loss: 1745.7740 - val_mae: 27.3717 - val_mse: 1745.7740\n",
            "Epoch 50/100\n",
            "26/26 [==============================] - 0s 7ms/step - loss: 238.7312 - mae: 11.3000 - mse: 238.7312 - val_loss: 1761.4277 - val_mae: 27.5423 - val_mse: 1761.4277\n",
            "Epoch 51/100\n",
            "26/26 [==============================] - 0s 8ms/step - loss: 238.2586 - mae: 11.3060 - mse: 238.2586 - val_loss: 1751.2224 - val_mae: 27.4263 - val_mse: 1751.2224\n",
            "Epoch 52/100\n",
            "26/26 [==============================] - 0s 7ms/step - loss: 237.4948 - mae: 11.2568 - mse: 237.4948 - val_loss: 1743.1366 - val_mae: 27.3331 - val_mse: 1743.1366\n",
            "Epoch 53/100\n",
            "26/26 [==============================] - 0s 8ms/step - loss: 238.4190 - mae: 11.3204 - mse: 238.4190 - val_loss: 1718.1339 - val_mae: 27.0748 - val_mse: 1718.1339\n",
            "Epoch 54/100\n",
            "26/26 [==============================] - 0s 7ms/step - loss: 236.9206 - mae: 11.2595 - mse: 236.9206 - val_loss: 1767.5542 - val_mae: 27.6275 - val_mse: 1767.5542\n",
            "Epoch 55/100\n",
            "26/26 [==============================] - 0s 8ms/step - loss: 239.1119 - mae: 11.3677 - mse: 239.1119 - val_loss: 1725.7441 - val_mae: 27.1498 - val_mse: 1725.7441\n",
            "Epoch 56/100\n",
            "26/26 [==============================] - 0s 8ms/step - loss: 237.1043 - mae: 11.3017 - mse: 237.1043 - val_loss: 1722.6458 - val_mae: 27.1263 - val_mse: 1722.6458\n",
            "Epoch 57/100\n",
            "26/26 [==============================] - 0s 9ms/step - loss: 238.2172 - mae: 11.2938 - mse: 238.2172 - val_loss: 1765.5461 - val_mae: 27.6110 - val_mse: 1765.5461\n",
            "Epoch 58/100\n",
            "26/26 [==============================] - 0s 7ms/step - loss: 236.9425 - mae: 11.2426 - mse: 236.9425 - val_loss: 1731.0062 - val_mae: 27.2304 - val_mse: 1731.0062\n",
            "Epoch 59/100\n",
            "26/26 [==============================] - 0s 8ms/step - loss: 236.8875 - mae: 11.2767 - mse: 236.8875 - val_loss: 1727.5864 - val_mae: 27.1928 - val_mse: 1727.5864\n",
            "Epoch 60/100\n",
            "26/26 [==============================] - 0s 6ms/step - loss: 236.6561 - mae: 11.2834 - mse: 236.6561 - val_loss: 1716.4113 - val_mae: 27.0501 - val_mse: 1716.4113\n",
            "Epoch 61/100\n",
            "26/26 [==============================] - 0s 8ms/step - loss: 236.9275 - mae: 11.2578 - mse: 236.9275 - val_loss: 1776.9370 - val_mae: 27.7534 - val_mse: 1776.9370\n",
            "Epoch 62/100\n",
            "26/26 [==============================] - 0s 9ms/step - loss: 235.5487 - mae: 11.2252 - mse: 235.5487 - val_loss: 1725.1876 - val_mae: 27.1630 - val_mse: 1725.1876\n",
            "Epoch 63/100\n",
            "26/26 [==============================] - 0s 7ms/step - loss: 236.5319 - mae: 11.2596 - mse: 236.5319 - val_loss: 1793.8800 - val_mae: 27.9274 - val_mse: 1793.8800\n",
            "Epoch 64/100\n",
            "26/26 [==============================] - 0s 6ms/step - loss: 235.6234 - mae: 11.2580 - mse: 235.6234 - val_loss: 1725.0066 - val_mae: 27.1629 - val_mse: 1725.0066\n",
            "Epoch 65/100\n",
            "26/26 [==============================] - 0s 7ms/step - loss: 236.9234 - mae: 11.3108 - mse: 236.9234 - val_loss: 1683.3932 - val_mae: 26.6937 - val_mse: 1683.3932\n",
            "Epoch 66/100\n",
            "26/26 [==============================] - 0s 6ms/step - loss: 238.5318 - mae: 11.3417 - mse: 238.5318 - val_loss: 1739.7078 - val_mae: 27.3422 - val_mse: 1739.7078\n",
            "Epoch 67/100\n",
            "26/26 [==============================] - 0s 7ms/step - loss: 234.7277 - mae: 11.2125 - mse: 234.7277 - val_loss: 1752.0386 - val_mae: 27.4819 - val_mse: 1752.0386\n",
            "Epoch 68/100\n",
            "26/26 [==============================] - 0s 8ms/step - loss: 236.0057 - mae: 11.2961 - mse: 236.0057 - val_loss: 1717.3202 - val_mae: 27.0852 - val_mse: 1717.3202\n",
            "Epoch 69/100\n",
            "26/26 [==============================] - 0s 8ms/step - loss: 234.7530 - mae: 11.2136 - mse: 234.7530 - val_loss: 1776.8000 - val_mae: 27.7616 - val_mse: 1776.8000\n",
            "Epoch 70/100\n",
            "26/26 [==============================] - 0s 6ms/step - loss: 233.7583 - mae: 11.2162 - mse: 233.7583 - val_loss: 1734.1021 - val_mae: 27.2956 - val_mse: 1734.1021\n",
            "Epoch 71/100\n",
            "26/26 [==============================] - 0s 6ms/step - loss: 235.4834 - mae: 11.2698 - mse: 235.4834 - val_loss: 1790.6499 - val_mae: 27.9076 - val_mse: 1790.6499\n",
            "Epoch 72/100\n",
            "26/26 [==============================] - 0s 7ms/step - loss: 233.5081 - mae: 11.2310 - mse: 233.5081 - val_loss: 1695.3157 - val_mae: 26.8411 - val_mse: 1695.3157\n",
            "Epoch 73/100\n",
            "26/26 [==============================] - 0s 7ms/step - loss: 235.9644 - mae: 11.2898 - mse: 235.9644 - val_loss: 1690.8445 - val_mae: 26.8044 - val_mse: 1690.8445\n",
            "Epoch 74/100\n",
            "26/26 [==============================] - 0s 7ms/step - loss: 234.3333 - mae: 11.2105 - mse: 234.3333 - val_loss: 1753.3793 - val_mae: 27.5353 - val_mse: 1753.3793\n",
            "Epoch 75/100\n",
            "26/26 [==============================] - 0s 7ms/step - loss: 234.1725 - mae: 11.2132 - mse: 234.1725 - val_loss: 1810.5170 - val_mae: 28.1425 - val_mse: 1810.5170\n",
            "Epoch 76/100\n",
            "26/26 [==============================] - 0s 6ms/step - loss: 235.0585 - mae: 11.2993 - mse: 235.0585 - val_loss: 1704.7333 - val_mae: 26.9635 - val_mse: 1704.7333\n",
            "Epoch 77/100\n",
            "26/26 [==============================] - 0s 8ms/step - loss: 232.7319 - mae: 11.1991 - mse: 232.7319 - val_loss: 1743.1216 - val_mae: 27.4244 - val_mse: 1743.1216\n",
            "Epoch 78/100\n",
            "26/26 [==============================] - 0s 9ms/step - loss: 233.8082 - mae: 11.2024 - mse: 233.8082 - val_loss: 1760.1605 - val_mae: 27.6240 - val_mse: 1760.1605\n",
            "Epoch 79/100\n",
            "26/26 [==============================] - 0s 8ms/step - loss: 232.3894 - mae: 11.1789 - mse: 232.3894 - val_loss: 1699.2029 - val_mae: 26.9151 - val_mse: 1699.2029\n",
            "Epoch 80/100\n",
            "26/26 [==============================] - 0s 6ms/step - loss: 232.0902 - mae: 11.1543 - mse: 232.0902 - val_loss: 1748.9635 - val_mae: 27.5106 - val_mse: 1748.9635\n",
            "Epoch 81/100\n",
            "26/26 [==============================] - 0s 8ms/step - loss: 233.1496 - mae: 11.1929 - mse: 233.1496 - val_loss: 1768.9185 - val_mae: 27.7158 - val_mse: 1768.9185\n",
            "Epoch 82/100\n",
            "26/26 [==============================] - 0s 8ms/step - loss: 234.8937 - mae: 11.2219 - mse: 234.8937 - val_loss: 1814.5955 - val_mae: 28.1938 - val_mse: 1814.5955\n",
            "Epoch 83/100\n",
            "26/26 [==============================] - 0s 7ms/step - loss: 232.5605 - mae: 11.1485 - mse: 232.5605 - val_loss: 1746.4508 - val_mae: 27.4873 - val_mse: 1746.4508\n",
            "Epoch 84/100\n",
            "26/26 [==============================] - 0s 7ms/step - loss: 231.4223 - mae: 11.1599 - mse: 231.4223 - val_loss: 1771.3237 - val_mae: 27.7430 - val_mse: 1771.3237\n",
            "Epoch 85/100\n",
            "26/26 [==============================] - 0s 8ms/step - loss: 231.0289 - mae: 11.1552 - mse: 231.0289 - val_loss: 1748.4181 - val_mae: 27.5013 - val_mse: 1748.4181\n",
            "Epoch 86/100\n",
            "26/26 [==============================] - 0s 7ms/step - loss: 231.8573 - mae: 11.1643 - mse: 231.8573 - val_loss: 1745.9290 - val_mae: 27.4883 - val_mse: 1745.9290\n",
            "Epoch 87/100\n",
            "26/26 [==============================] - 0s 7ms/step - loss: 230.9868 - mae: 11.1505 - mse: 230.9868 - val_loss: 1713.8502 - val_mae: 27.1014 - val_mse: 1713.8502\n",
            "Epoch 88/100\n",
            "26/26 [==============================] - 0s 8ms/step - loss: 230.0117 - mae: 11.1296 - mse: 230.0117 - val_loss: 1774.5133 - val_mae: 27.7917 - val_mse: 1774.5133\n",
            "Epoch 89/100\n",
            "26/26 [==============================] - 0s 7ms/step - loss: 230.4211 - mae: 11.1599 - mse: 230.4211 - val_loss: 1719.8339 - val_mae: 27.1750 - val_mse: 1719.8339\n",
            "Epoch 90/100\n",
            "26/26 [==============================] - 0s 9ms/step - loss: 230.7314 - mae: 11.1432 - mse: 230.7314 - val_loss: 1810.4996 - val_mae: 28.1469 - val_mse: 1810.4996\n",
            "Epoch 91/100\n",
            "26/26 [==============================] - 0s 9ms/step - loss: 230.4967 - mae: 11.1139 - mse: 230.4967 - val_loss: 1729.0096 - val_mae: 27.2807 - val_mse: 1729.0096\n",
            "Epoch 92/100\n",
            "26/26 [==============================] - 0s 7ms/step - loss: 231.0811 - mae: 11.1723 - mse: 231.0811 - val_loss: 1698.4325 - val_mae: 26.9092 - val_mse: 1698.4325\n",
            "Epoch 93/100\n",
            "26/26 [==============================] - 0s 7ms/step - loss: 229.6914 - mae: 11.1357 - mse: 229.6914 - val_loss: 1759.4441 - val_mae: 27.6423 - val_mse: 1759.4441\n",
            "Epoch 94/100\n",
            "26/26 [==============================] - 0s 7ms/step - loss: 229.6411 - mae: 11.1153 - mse: 229.6411 - val_loss: 1729.9276 - val_mae: 27.2934 - val_mse: 1729.9276\n",
            "Epoch 95/100\n",
            "26/26 [==============================] - 0s 7ms/step - loss: 229.5630 - mae: 11.1174 - mse: 229.5630 - val_loss: 1734.4193 - val_mae: 27.3455 - val_mse: 1734.4193\n",
            "Epoch 96/100\n",
            "26/26 [==============================] - 0s 7ms/step - loss: 230.4180 - mae: 11.1400 - mse: 230.4180 - val_loss: 1815.0460 - val_mae: 28.2047 - val_mse: 1815.0460\n",
            "Epoch 97/100\n",
            "26/26 [==============================] - 0s 8ms/step - loss: 231.4180 - mae: 11.1760 - mse: 231.4180 - val_loss: 1754.0953 - val_mae: 27.5731 - val_mse: 1754.0953\n",
            "Epoch 98/100\n",
            "26/26 [==============================] - 0s 7ms/step - loss: 230.8720 - mae: 11.1473 - mse: 230.8720 - val_loss: 1729.8231 - val_mae: 27.3083 - val_mse: 1729.8231\n",
            "Epoch 99/100\n",
            "26/26 [==============================] - 0s 8ms/step - loss: 227.9363 - mae: 11.0594 - mse: 227.9363 - val_loss: 1771.9110 - val_mae: 27.7811 - val_mse: 1771.9110\n",
            "Epoch 100/100\n",
            "26/26 [==============================] - 0s 7ms/step - loss: 228.4013 - mae: 11.0873 - mse: 228.4013 - val_loss: 1754.2120 - val_mae: 27.5905 - val_mse: 1754.2120\n"
          ]
        }
      ]
    },
    {
      "cell_type": "markdown",
      "source": [
        "LSTM+GRU"
      ],
      "metadata": {
        "id": "5TW_EAhE-iWs"
      }
    },
    {
      "cell_type": "code",
      "source": [
        "i=Input(shape=(T,1))\n",
        "x=LSTM(200,return_sequences=True)(i)\n",
        "x=LSTM(200,return_sequences=True)(x)\n",
        "x=Dense(100)(x)\n",
        "x=Dense(50)(x)\n",
        "x=GRU(200,return_sequences=True)(x)\n",
        "x=GRU(200,return_sequences=True)(x)\n",
        "x=GlobalMaxPool1D()(x)\n",
        "x=Dense(100)(x)\n",
        "x=Dense(50)(x)\n",
        "x=Dense(1)(x)\n",
        "model_lstm_gru=Model(i,x)\n",
        "model_lstm_gru.summary()"
      ],
      "metadata": {
        "colab": {
          "base_uri": "https://localhost:8080/"
        },
        "id": "5MFW_hNA-UIb",
        "outputId": "9c786a39-9d7a-4ba4-a664-f9d8e1ffca8a"
      },
      "execution_count": 300,
      "outputs": [
        {
          "output_type": "stream",
          "name": "stdout",
          "text": [
            "Model: \"model_16\"\n",
            "_________________________________________________________________\n",
            " Layer (type)                Output Shape              Param #   \n",
            "=================================================================\n",
            " input_17 (InputLayer)       [(None, 50, 1)]           0         \n",
            "                                                                 \n",
            " lstm_32 (LSTM)              (None, 50, 200)           161600    \n",
            "                                                                 \n",
            " lstm_33 (LSTM)              (None, 50, 200)           320800    \n",
            "                                                                 \n",
            " dense_64 (Dense)            (None, 50, 100)           20100     \n",
            "                                                                 \n",
            " dense_65 (Dense)            (None, 50, 50)            5050      \n",
            "                                                                 \n",
            " gru_16 (GRU)                (None, 50, 200)           151200    \n",
            "                                                                 \n",
            " gru_17 (GRU)                (None, 50, 200)           241200    \n",
            "                                                                 \n",
            " global_max_pooling1d_16 (Gl  (None, 200)              0         \n",
            " obalMaxPooling1D)                                               \n",
            "                                                                 \n",
            " dense_66 (Dense)            (None, 100)               20100     \n",
            "                                                                 \n",
            " dense_67 (Dense)            (None, 50)                5050      \n",
            "                                                                 \n",
            " dense_68 (Dense)            (None, 1)                 51        \n",
            "                                                                 \n",
            "=================================================================\n",
            "Total params: 925,151\n",
            "Trainable params: 925,151\n",
            "Non-trainable params: 0\n",
            "_________________________________________________________________\n"
          ]
        }
      ]
    },
    {
      "cell_type": "code",
      "source": [
        "check_point_lstm_gru=ModelCheckpoint('best_model.h5',monitor='val_loss',save_best_only=True)"
      ],
      "metadata": {
        "id": "bPn2IlMx-pP6"
      },
      "execution_count": 301,
      "outputs": []
    },
    {
      "cell_type": "code",
      "source": [
        "model_lstm_gru.compile(loss='mse',\n",
        "              optimizer='adamax',\n",
        "              metrics=['mae','mse'])"
      ],
      "metadata": {
        "id": "s2W9B-lL-5VS"
      },
      "execution_count": 302,
      "outputs": []
    },
    {
      "cell_type": "code",
      "source": [
        "r=model_lstm_gru.fit(\n",
        "    Xtrain,\n",
        "    Ytrain,\n",
        "    epochs=100,\n",
        "    validation_data=(Xtest,Ytest),\n",
        "    callbacks=[check_point_lstm_gru]\n",
        ")"
      ],
      "metadata": {
        "colab": {
          "base_uri": "https://localhost:8080/"
        },
        "id": "tSfqgZ2w-8KI",
        "outputId": "f1c996ab-0e8d-42a6-d2b7-e470e464873f"
      },
      "execution_count": 303,
      "outputs": [
        {
          "output_type": "stream",
          "name": "stdout",
          "text": [
            "Epoch 1/100\n",
            "26/26 [==============================] - 24s 615ms/step - loss: 261.9463 - mae: 11.8093 - mse: 261.9463 - val_loss: 1592.9653 - val_mae: 25.4935 - val_mse: 1592.9653\n",
            "Epoch 2/100\n",
            "26/26 [==============================] - 14s 549ms/step - loss: 261.0107 - mae: 11.7821 - mse: 261.0107 - val_loss: 1592.3108 - val_mae: 25.5169 - val_mse: 1592.3108\n",
            "Epoch 3/100\n",
            "26/26 [==============================] - 14s 548ms/step - loss: 260.8368 - mae: 11.7834 - mse: 260.8368 - val_loss: 1591.7948 - val_mae: 25.5371 - val_mse: 1591.7948\n",
            "Epoch 4/100\n",
            "26/26 [==============================] - 14s 546ms/step - loss: 260.4761 - mae: 11.7577 - mse: 260.4761 - val_loss: 1592.1324 - val_mae: 25.5122 - val_mse: 1592.1324\n",
            "Epoch 5/100\n",
            "26/26 [==============================] - 14s 547ms/step - loss: 260.5261 - mae: 11.7838 - mse: 260.5261 - val_loss: 1591.7867 - val_mae: 25.5269 - val_mse: 1591.7867\n",
            "Epoch 6/100\n",
            "26/26 [==============================] - 14s 548ms/step - loss: 260.8989 - mae: 11.7812 - mse: 260.8989 - val_loss: 1591.4478 - val_mae: 25.5310 - val_mse: 1591.4478\n",
            "Epoch 7/100\n",
            "26/26 [==============================] - 14s 545ms/step - loss: 260.3695 - mae: 11.7646 - mse: 260.3695 - val_loss: 1591.5217 - val_mae: 25.5252 - val_mse: 1591.5217\n",
            "Epoch 8/100\n",
            "26/26 [==============================] - 14s 551ms/step - loss: 260.0663 - mae: 11.7661 - mse: 260.0663 - val_loss: 1591.1530 - val_mae: 25.5367 - val_mse: 1591.1530\n",
            "Epoch 9/100\n",
            "26/26 [==============================] - 14s 548ms/step - loss: 259.7345 - mae: 11.7673 - mse: 259.7345 - val_loss: 1590.1061 - val_mae: 25.5823 - val_mse: 1590.1061\n",
            "Epoch 10/100\n",
            "26/26 [==============================] - 14s 547ms/step - loss: 260.3648 - mae: 11.8017 - mse: 260.3648 - val_loss: 1591.7913 - val_mae: 25.5387 - val_mse: 1591.7913\n",
            "Epoch 11/100\n",
            "26/26 [==============================] - 14s 546ms/step - loss: 260.1731 - mae: 11.7733 - mse: 260.1731 - val_loss: 1589.9164 - val_mae: 25.5944 - val_mse: 1589.9164\n",
            "Epoch 12/100\n",
            "26/26 [==============================] - 14s 544ms/step - loss: 259.3815 - mae: 11.7511 - mse: 259.3815 - val_loss: 1595.0115 - val_mae: 25.6248 - val_mse: 1595.0115\n",
            "Epoch 13/100\n",
            "26/26 [==============================] - 14s 554ms/step - loss: 259.2140 - mae: 11.7458 - mse: 259.2140 - val_loss: 1591.2781 - val_mae: 25.7011 - val_mse: 1591.2781\n",
            "Epoch 14/100\n",
            "26/26 [==============================] - 15s 565ms/step - loss: 259.2461 - mae: 11.7814 - mse: 259.2461 - val_loss: 1593.0657 - val_mae: 25.6730 - val_mse: 1593.0657\n",
            "Epoch 15/100\n",
            "26/26 [==============================] - 14s 556ms/step - loss: 259.0119 - mae: 11.7408 - mse: 259.0119 - val_loss: 1590.9030 - val_mae: 25.6860 - val_mse: 1590.9030\n",
            "Epoch 16/100\n",
            "26/26 [==============================] - 14s 553ms/step - loss: 258.7048 - mae: 11.7652 - mse: 258.7048 - val_loss: 1598.3524 - val_mae: 25.6937 - val_mse: 1598.3524\n",
            "Epoch 17/100\n",
            "26/26 [==============================] - 14s 557ms/step - loss: 259.0305 - mae: 11.7392 - mse: 259.0305 - val_loss: 1591.2596 - val_mae: 25.6597 - val_mse: 1591.2596\n",
            "Epoch 18/100\n",
            "26/26 [==============================] - 14s 557ms/step - loss: 258.5362 - mae: 11.7486 - mse: 258.5362 - val_loss: 1593.2504 - val_mae: 25.6888 - val_mse: 1593.2504\n",
            "Epoch 19/100\n",
            "26/26 [==============================] - 14s 559ms/step - loss: 258.1071 - mae: 11.7343 - mse: 258.1071 - val_loss: 1592.4060 - val_mae: 25.7152 - val_mse: 1592.4060\n",
            "Epoch 20/100\n",
            "26/26 [==============================] - 14s 560ms/step - loss: 258.7672 - mae: 11.7742 - mse: 258.7672 - val_loss: 1592.7257 - val_mae: 25.6954 - val_mse: 1592.7257\n",
            "Epoch 21/100\n",
            "26/26 [==============================] - 14s 559ms/step - loss: 258.2214 - mae: 11.7617 - mse: 258.2214 - val_loss: 1593.4828 - val_mae: 25.8171 - val_mse: 1593.4828\n",
            "Epoch 22/100\n",
            "26/26 [==============================] - 14s 559ms/step - loss: 257.7195 - mae: 11.7433 - mse: 257.7195 - val_loss: 1592.2395 - val_mae: 25.7438 - val_mse: 1592.2395\n",
            "Epoch 23/100\n",
            "26/26 [==============================] - 14s 557ms/step - loss: 257.4285 - mae: 11.7084 - mse: 257.4285 - val_loss: 1594.1890 - val_mae: 25.8295 - val_mse: 1594.1890\n",
            "Epoch 24/100\n",
            "26/26 [==============================] - 14s 559ms/step - loss: 257.7833 - mae: 11.7342 - mse: 257.7833 - val_loss: 1593.5256 - val_mae: 25.7017 - val_mse: 1593.5256\n",
            "Epoch 25/100\n",
            "26/26 [==============================] - 15s 562ms/step - loss: 258.9869 - mae: 11.8146 - mse: 258.9869 - val_loss: 1599.0608 - val_mae: 25.6648 - val_mse: 1599.0608\n",
            "Epoch 26/100\n",
            "26/26 [==============================] - 14s 557ms/step - loss: 261.1933 - mae: 11.7508 - mse: 261.1933 - val_loss: 1590.1506 - val_mae: 25.5401 - val_mse: 1590.1506\n",
            "Epoch 27/100\n",
            "26/26 [==============================] - 14s 559ms/step - loss: 259.6736 - mae: 11.7257 - mse: 259.6736 - val_loss: 1592.0061 - val_mae: 25.5760 - val_mse: 1592.0061\n",
            "Epoch 28/100\n",
            "26/26 [==============================] - 14s 556ms/step - loss: 258.6506 - mae: 11.7164 - mse: 258.6506 - val_loss: 1594.8586 - val_mae: 25.6264 - val_mse: 1594.8586\n",
            "Epoch 29/100\n",
            "26/26 [==============================] - 14s 554ms/step - loss: 258.1945 - mae: 11.7338 - mse: 258.1945 - val_loss: 1597.3036 - val_mae: 25.6640 - val_mse: 1597.3036\n",
            "Epoch 30/100\n",
            "26/26 [==============================] - 14s 558ms/step - loss: 258.1597 - mae: 11.7207 - mse: 258.1597 - val_loss: 1594.5531 - val_mae: 25.6421 - val_mse: 1594.5531\n",
            "Epoch 31/100\n",
            "26/26 [==============================] - 14s 557ms/step - loss: 258.6671 - mae: 11.7661 - mse: 258.6671 - val_loss: 1596.6720 - val_mae: 25.6386 - val_mse: 1596.6720\n",
            "Epoch 32/100\n",
            "26/26 [==============================] - 14s 556ms/step - loss: 259.5380 - mae: 11.7378 - mse: 259.5380 - val_loss: 1595.8877 - val_mae: 25.6402 - val_mse: 1595.8877\n",
            "Epoch 33/100\n",
            "26/26 [==============================] - 14s 550ms/step - loss: 257.9167 - mae: 11.7543 - mse: 257.9167 - val_loss: 1595.3982 - val_mae: 25.6311 - val_mse: 1595.3982\n",
            "Epoch 34/100\n",
            "26/26 [==============================] - 14s 545ms/step - loss: 257.4854 - mae: 11.7860 - mse: 257.4854 - val_loss: 1596.1112 - val_mae: 25.5645 - val_mse: 1596.1112\n",
            "Epoch 35/100\n",
            "26/26 [==============================] - 14s 555ms/step - loss: 257.6437 - mae: 11.7261 - mse: 257.6437 - val_loss: 1600.0293 - val_mae: 25.7605 - val_mse: 1600.0293\n",
            "Epoch 36/100\n",
            "26/26 [==============================] - 14s 554ms/step - loss: 256.9781 - mae: 11.7724 - mse: 256.9781 - val_loss: 1593.1129 - val_mae: 25.6899 - val_mse: 1593.1129\n",
            "Epoch 37/100\n",
            "26/26 [==============================] - 14s 551ms/step - loss: 257.9417 - mae: 11.7199 - mse: 257.9417 - val_loss: 1593.6560 - val_mae: 25.7134 - val_mse: 1593.6560\n",
            "Epoch 38/100\n",
            "26/26 [==============================] - 14s 552ms/step - loss: 255.5243 - mae: 11.7371 - mse: 255.5243 - val_loss: 1596.3289 - val_mae: 25.8066 - val_mse: 1596.3289\n",
            "Epoch 39/100\n",
            "26/26 [==============================] - 14s 551ms/step - loss: 255.4670 - mae: 11.7393 - mse: 255.4670 - val_loss: 1596.8477 - val_mae: 25.8545 - val_mse: 1596.8477\n",
            "Epoch 40/100\n",
            "26/26 [==============================] - 14s 552ms/step - loss: 255.8435 - mae: 11.7322 - mse: 255.8435 - val_loss: 1595.3199 - val_mae: 25.7952 - val_mse: 1595.3199\n",
            "Epoch 41/100\n",
            "26/26 [==============================] - 14s 548ms/step - loss: 254.2356 - mae: 11.7534 - mse: 254.2356 - val_loss: 1600.1420 - val_mae: 25.7958 - val_mse: 1600.1420\n",
            "Epoch 42/100\n",
            "26/26 [==============================] - 14s 553ms/step - loss: 253.9635 - mae: 11.7003 - mse: 253.9635 - val_loss: 1595.9863 - val_mae: 25.8135 - val_mse: 1595.9863\n",
            "Epoch 43/100\n",
            "26/26 [==============================] - 14s 550ms/step - loss: 252.3500 - mae: 11.7093 - mse: 252.3500 - val_loss: 1605.0244 - val_mae: 25.7536 - val_mse: 1605.0244\n",
            "Epoch 44/100\n",
            "26/26 [==============================] - 14s 551ms/step - loss: 253.8124 - mae: 11.7997 - mse: 253.8124 - val_loss: 1598.5226 - val_mae: 25.8330 - val_mse: 1598.5226\n",
            "Epoch 45/100\n",
            "26/26 [==============================] - 14s 554ms/step - loss: 252.7978 - mae: 11.6836 - mse: 252.7978 - val_loss: 1596.9846 - val_mae: 25.7819 - val_mse: 1596.9846\n",
            "Epoch 46/100\n",
            "26/26 [==============================] - 15s 567ms/step - loss: 252.2123 - mae: 11.7044 - mse: 252.2123 - val_loss: 1614.0674 - val_mae: 25.7226 - val_mse: 1614.0674\n",
            "Epoch 47/100\n",
            "26/26 [==============================] - 15s 564ms/step - loss: 250.3376 - mae: 11.6145 - mse: 250.3376 - val_loss: 1603.6045 - val_mae: 25.9635 - val_mse: 1603.6045\n",
            "Epoch 48/100\n",
            "26/26 [==============================] - 15s 561ms/step - loss: 250.0693 - mae: 11.6710 - mse: 250.0693 - val_loss: 1607.3409 - val_mae: 25.7817 - val_mse: 1607.3409\n",
            "Epoch 49/100\n",
            "26/26 [==============================] - 14s 558ms/step - loss: 250.1855 - mae: 11.6585 - mse: 250.1855 - val_loss: 1608.5626 - val_mae: 26.0210 - val_mse: 1608.5626\n",
            "Epoch 50/100\n",
            "26/26 [==============================] - 14s 555ms/step - loss: 251.0576 - mae: 11.6891 - mse: 251.0576 - val_loss: 1612.1400 - val_mae: 25.8544 - val_mse: 1612.1400\n",
            "Epoch 51/100\n",
            "26/26 [==============================] - 14s 552ms/step - loss: 248.5778 - mae: 11.6429 - mse: 248.5778 - val_loss: 1610.1205 - val_mae: 25.9839 - val_mse: 1610.1205\n",
            "Epoch 52/100\n",
            "26/26 [==============================] - 14s 552ms/step - loss: 247.1532 - mae: 11.6026 - mse: 247.1532 - val_loss: 1618.0798 - val_mae: 26.0076 - val_mse: 1618.0798\n",
            "Epoch 53/100\n",
            "26/26 [==============================] - 14s 554ms/step - loss: 246.0185 - mae: 11.5706 - mse: 246.0185 - val_loss: 1616.6635 - val_mae: 26.0974 - val_mse: 1616.6635\n",
            "Epoch 54/100\n",
            "26/26 [==============================] - 14s 553ms/step - loss: 244.7207 - mae: 11.5718 - mse: 244.7207 - val_loss: 1623.7855 - val_mae: 25.9144 - val_mse: 1623.7855\n",
            "Epoch 55/100\n",
            "26/26 [==============================] - 14s 547ms/step - loss: 247.6390 - mae: 11.6818 - mse: 247.6390 - val_loss: 1608.5559 - val_mae: 26.0154 - val_mse: 1608.5559\n",
            "Epoch 56/100\n",
            "26/26 [==============================] - 14s 547ms/step - loss: 252.1607 - mae: 11.6928 - mse: 252.1607 - val_loss: 1598.2135 - val_mae: 25.8894 - val_mse: 1598.2135\n",
            "Epoch 57/100\n",
            "26/26 [==============================] - 14s 550ms/step - loss: 249.6236 - mae: 11.6380 - mse: 249.6236 - val_loss: 1603.0142 - val_mae: 25.8101 - val_mse: 1603.0142\n",
            "Epoch 58/100\n",
            "26/26 [==============================] - 14s 544ms/step - loss: 246.6014 - mae: 11.5737 - mse: 246.6014 - val_loss: 1619.7198 - val_mae: 25.8510 - val_mse: 1619.7198\n",
            "Epoch 59/100\n",
            "26/26 [==============================] - 14s 546ms/step - loss: 244.7257 - mae: 11.5357 - mse: 244.7257 - val_loss: 1605.0504 - val_mae: 26.1101 - val_mse: 1605.0504\n",
            "Epoch 60/100\n",
            "26/26 [==============================] - 14s 543ms/step - loss: 244.3446 - mae: 11.5237 - mse: 244.3446 - val_loss: 1624.7606 - val_mae: 25.9080 - val_mse: 1624.7606\n",
            "Epoch 61/100\n",
            "26/26 [==============================] - 14s 543ms/step - loss: 244.0045 - mae: 11.5947 - mse: 244.0045 - val_loss: 1614.9255 - val_mae: 25.7606 - val_mse: 1614.9255\n",
            "Epoch 62/100\n",
            "26/26 [==============================] - 14s 541ms/step - loss: 243.3583 - mae: 11.5073 - mse: 243.3583 - val_loss: 1605.8875 - val_mae: 25.9945 - val_mse: 1605.8875\n",
            "Epoch 63/100\n",
            "26/26 [==============================] - 14s 546ms/step - loss: 242.2561 - mae: 11.5037 - mse: 242.2561 - val_loss: 1627.7439 - val_mae: 26.1035 - val_mse: 1627.7439\n",
            "Epoch 64/100\n",
            "26/26 [==============================] - 14s 544ms/step - loss: 238.6359 - mae: 11.4329 - mse: 238.6359 - val_loss: 1636.2700 - val_mae: 26.1462 - val_mse: 1636.2700\n",
            "Epoch 65/100\n",
            "26/26 [==============================] - 14s 543ms/step - loss: 238.6062 - mae: 11.4608 - mse: 238.6062 - val_loss: 1652.4951 - val_mae: 26.3364 - val_mse: 1652.4951\n",
            "Epoch 66/100\n",
            "26/26 [==============================] - 14s 544ms/step - loss: 241.3396 - mae: 11.6044 - mse: 241.3396 - val_loss: 1626.0354 - val_mae: 25.9804 - val_mse: 1626.0354\n",
            "Epoch 67/100\n",
            "26/26 [==============================] - 14s 545ms/step - loss: 237.4919 - mae: 11.4048 - mse: 237.4919 - val_loss: 1643.0610 - val_mae: 26.2207 - val_mse: 1643.0610\n",
            "Epoch 68/100\n",
            "26/26 [==============================] - 14s 544ms/step - loss: 240.2574 - mae: 11.4938 - mse: 240.2574 - val_loss: 1640.1427 - val_mae: 26.2965 - val_mse: 1640.1427\n",
            "Epoch 69/100\n",
            "26/26 [==============================] - 14s 544ms/step - loss: 239.6593 - mae: 11.4671 - mse: 239.6593 - val_loss: 1623.3762 - val_mae: 25.8654 - val_mse: 1623.3762\n",
            "Epoch 70/100\n",
            "26/26 [==============================] - 14s 545ms/step - loss: 233.9416 - mae: 11.3633 - mse: 233.9416 - val_loss: 1649.8877 - val_mae: 26.3075 - val_mse: 1649.8877\n",
            "Epoch 71/100\n",
            "26/26 [==============================] - 14s 542ms/step - loss: 239.3220 - mae: 11.5112 - mse: 239.3220 - val_loss: 1632.1077 - val_mae: 26.0340 - val_mse: 1632.1077\n",
            "Epoch 72/100\n",
            "26/26 [==============================] - 14s 546ms/step - loss: 234.6096 - mae: 11.3870 - mse: 234.6096 - val_loss: 1637.5972 - val_mae: 26.2657 - val_mse: 1637.5972\n",
            "Epoch 73/100\n",
            "26/26 [==============================] - 14s 548ms/step - loss: 234.3556 - mae: 11.3497 - mse: 234.3556 - val_loss: 1644.3807 - val_mae: 26.1884 - val_mse: 1644.3807\n",
            "Epoch 74/100\n",
            "26/26 [==============================] - 14s 549ms/step - loss: 232.6826 - mae: 11.3257 - mse: 232.6826 - val_loss: 1636.5696 - val_mae: 26.1838 - val_mse: 1636.5696\n",
            "Epoch 75/100\n",
            "26/26 [==============================] - 14s 547ms/step - loss: 233.4880 - mae: 11.3856 - mse: 233.4880 - val_loss: 1625.5168 - val_mae: 26.0836 - val_mse: 1625.5168\n",
            "Epoch 76/100\n",
            "26/26 [==============================] - 14s 544ms/step - loss: 228.9375 - mae: 11.2220 - mse: 228.9375 - val_loss: 1647.0784 - val_mae: 26.1580 - val_mse: 1647.0784\n",
            "Epoch 77/100\n",
            "26/26 [==============================] - 14s 547ms/step - loss: 233.5708 - mae: 11.2091 - mse: 233.5708 - val_loss: 1634.7970 - val_mae: 26.3338 - val_mse: 1634.7970\n",
            "Epoch 78/100\n",
            "26/26 [==============================] - 14s 547ms/step - loss: 239.7538 - mae: 11.4385 - mse: 239.7538 - val_loss: 1633.7805 - val_mae: 26.1800 - val_mse: 1633.7805\n",
            "Epoch 79/100\n",
            "26/26 [==============================] - 14s 552ms/step - loss: 232.9621 - mae: 11.2632 - mse: 232.9621 - val_loss: 1650.8162 - val_mae: 26.1639 - val_mse: 1650.8162\n",
            "Epoch 80/100\n",
            "26/26 [==============================] - 14s 550ms/step - loss: 227.6971 - mae: 11.1373 - mse: 227.6971 - val_loss: 1631.8104 - val_mae: 26.3062 - val_mse: 1631.8104\n",
            "Epoch 81/100\n",
            "26/26 [==============================] - 14s 546ms/step - loss: 228.4616 - mae: 11.2682 - mse: 228.4616 - val_loss: 1620.6738 - val_mae: 26.1191 - val_mse: 1620.6738\n",
            "Epoch 82/100\n",
            "26/26 [==============================] - 14s 548ms/step - loss: 232.7431 - mae: 11.3218 - mse: 232.7431 - val_loss: 1623.2017 - val_mae: 26.5058 - val_mse: 1623.2017\n",
            "Epoch 83/100\n",
            "26/26 [==============================] - 14s 548ms/step - loss: 226.8113 - mae: 11.1130 - mse: 226.8113 - val_loss: 1628.8295 - val_mae: 26.2034 - val_mse: 1628.8295\n",
            "Epoch 84/100\n",
            "26/26 [==============================] - 14s 547ms/step - loss: 222.7889 - mae: 11.0318 - mse: 222.7889 - val_loss: 1631.3781 - val_mae: 26.5791 - val_mse: 1631.3781\n",
            "Epoch 85/100\n",
            "26/26 [==============================] - 14s 547ms/step - loss: 221.9042 - mae: 11.0936 - mse: 221.9042 - val_loss: 1639.1516 - val_mae: 26.4236 - val_mse: 1639.1516\n",
            "Epoch 86/100\n",
            "26/26 [==============================] - 14s 545ms/step - loss: 217.2425 - mae: 10.9327 - mse: 217.2425 - val_loss: 1631.6472 - val_mae: 26.5699 - val_mse: 1631.6472\n",
            "Epoch 87/100\n",
            "26/26 [==============================] - 14s 545ms/step - loss: 218.5662 - mae: 11.0399 - mse: 218.5662 - val_loss: 1645.1968 - val_mae: 26.7482 - val_mse: 1645.1968\n",
            "Epoch 88/100\n",
            "26/26 [==============================] - 14s 544ms/step - loss: 218.3341 - mae: 11.1384 - mse: 218.3341 - val_loss: 1637.1907 - val_mae: 26.4585 - val_mse: 1637.1907\n",
            "Epoch 89/100\n",
            "26/26 [==============================] - 14s 546ms/step - loss: 209.8003 - mae: 10.7699 - mse: 209.8003 - val_loss: 1649.6410 - val_mae: 26.6937 - val_mse: 1649.6410\n",
            "Epoch 90/100\n",
            "26/26 [==============================] - 14s 545ms/step - loss: 213.9226 - mae: 10.9148 - mse: 213.9226 - val_loss: 1651.2842 - val_mae: 26.6371 - val_mse: 1651.2842\n",
            "Epoch 91/100\n",
            "26/26 [==============================] - 14s 549ms/step - loss: 216.0989 - mae: 11.0137 - mse: 216.0989 - val_loss: 1651.3090 - val_mae: 26.8066 - val_mse: 1651.3090\n",
            "Epoch 92/100\n",
            "26/26 [==============================] - 14s 548ms/step - loss: 211.7656 - mae: 10.8708 - mse: 211.7656 - val_loss: 1652.6090 - val_mae: 26.3912 - val_mse: 1652.6090\n",
            "Epoch 93/100\n",
            "26/26 [==============================] - 14s 547ms/step - loss: 214.6620 - mae: 10.9065 - mse: 214.6620 - val_loss: 1651.2211 - val_mae: 26.4151 - val_mse: 1651.2211\n",
            "Epoch 94/100\n",
            "26/26 [==============================] - 14s 544ms/step - loss: 215.4167 - mae: 10.9703 - mse: 215.4167 - val_loss: 1634.1974 - val_mae: 26.5602 - val_mse: 1634.1974\n",
            "Epoch 95/100\n",
            "26/26 [==============================] - 14s 546ms/step - loss: 206.5268 - mae: 10.7158 - mse: 206.5268 - val_loss: 1652.6566 - val_mae: 26.9580 - val_mse: 1652.6566\n",
            "Epoch 96/100\n",
            "26/26 [==============================] - 14s 547ms/step - loss: 206.5004 - mae: 10.7932 - mse: 206.5004 - val_loss: 1649.6801 - val_mae: 26.7980 - val_mse: 1649.6801\n",
            "Epoch 97/100\n",
            "26/26 [==============================] - 14s 549ms/step - loss: 203.4576 - mae: 10.6176 - mse: 203.4576 - val_loss: 1651.4303 - val_mae: 26.8936 - val_mse: 1651.4303\n",
            "Epoch 98/100\n",
            "26/26 [==============================] - 14s 547ms/step - loss: 206.6669 - mae: 10.8921 - mse: 206.6669 - val_loss: 1659.6045 - val_mae: 26.9103 - val_mse: 1659.6045\n",
            "Epoch 99/100\n",
            "26/26 [==============================] - 14s 546ms/step - loss: 198.6313 - mae: 10.6024 - mse: 198.6313 - val_loss: 1679.6398 - val_mae: 26.9306 - val_mse: 1679.6398\n",
            "Epoch 100/100\n",
            "26/26 [==============================] - 14s 549ms/step - loss: 205.1740 - mae: 10.6373 - mse: 205.1740 - val_loss: 1643.6235 - val_mae: 26.5342 - val_mse: 1643.6235\n"
          ]
        }
      ]
    },
    {
      "cell_type": "markdown",
      "source": [
        "Predictions\n",
        "\n"
      ],
      "metadata": {
        "id": "ykyI87uZAFYU"
      }
    },
    {
      "cell_type": "code",
      "source": [
        "train_idx[:T+1]=False"
      ],
      "metadata": {
        "id": "k0XDQv2l-_2x"
      },
      "execution_count": 304,
      "outputs": []
    },
    {
      "cell_type": "code",
      "source": [
        "Ptrain_lstm_cnn=model_lstm_cnn.predict(Xtrain).flatten()\n",
        "Ptest_lstm_cnn=model_lstm_cnn.predict(Xtest).flatten()"
      ],
      "metadata": {
        "id": "wJ3J-Cvv_oLA"
      },
      "execution_count": 305,
      "outputs": []
    },
    {
      "cell_type": "code",
      "source": [
        "Ptrain_lstm_gru=model_lstm_gru.predict(Xtrain).flatten()\n",
        "Ptest_lstm_gru=model_lstm_gru.predict(Xtest).flatten()"
      ],
      "metadata": {
        "id": "r9GuOYr-_oRf"
      },
      "execution_count": 306,
      "outputs": []
    },
    {
      "cell_type": "code",
      "source": [
        "df.loc[train_idx,'Diff LSTM+CNN train prediction']=Ptrain_lstm_cnn\n",
        "df.loc[test_idx,'Diff LSTM+CNN test prediction']=Ptest_lstm_cnn"
      ],
      "metadata": {
        "id": "-ZvHYeDl_oYI"
      },
      "execution_count": null,
      "outputs": []
    },
    {
      "cell_type": "code",
      "source": [
        "df.loc[train_idx,'Diff LSTM+GRU train prediction']=Ptrain_lstm_gru\n",
        "df.loc[test_idx,'Diff LSTM+GRU test prediction']=Ptest_lstm_gru"
      ],
      "metadata": {
        "id": "h0xk_CKv_7mw"
      },
      "execution_count": 307,
      "outputs": []
    },
    {
      "cell_type": "code",
      "source": [
        "df['Shift Prev Close']=df['Prev Close'].shift(1)\n",
        "prev=df['Shift Prev Close']"
      ],
      "metadata": {
        "id": "-9ekKxJr_7pu"
      },
      "execution_count": 308,
      "outputs": []
    },
    {
      "cell_type": "code",
      "source": [
        "last_train=train.iloc[-1]['Prev Close']"
      ],
      "metadata": {
        "id": "Qd-4VnON_7tL"
      },
      "execution_count": 309,
      "outputs": []
    },
    {
      "cell_type": "code",
      "source": [
        "df.loc[train_idx,'train_LSTM_CNN']=prev[train_idx]+Ptrain_lstm_cnn\n",
        "df.loc[test_idx,'Prediction_LSTM_CNN']=prev[test_idx]+Ptest_lstm_cnn"
      ],
      "metadata": {
        "id": "wIUM_MvYALoR"
      },
      "execution_count": 310,
      "outputs": []
    },
    {
      "cell_type": "code",
      "source": [
        "df.loc[train_idx,'train_LSTM_GRU']=prev[train_idx]+Ptrain_lstm_gru\n",
        "df.loc[test_idx,'Prediction_LSTM_GRU']=prev[test_idx]+Ptest_lstm_gru"
      ],
      "metadata": {
        "id": "4dA6pDYTANWK"
      },
      "execution_count": 311,
      "outputs": []
    },
    {
      "cell_type": "code",
      "source": [
        "df[['Prev Close' ,'Prediction_LSTM_CNN','Prediction_LSTM_GRU']].plot(figsize=(15,10));"
      ],
      "metadata": {
        "colab": {
          "base_uri": "https://localhost:8080/",
          "height": 563
        },
        "id": "f8KVkcj8AaPm",
        "outputId": "7ea62986-d961-4a62-8f3f-ff83d4c4576c"
      },
      "execution_count": 312,
      "outputs": [
        {
          "output_type": "display_data",
          "data": {
            "text/plain": [
              "<Figure size 1080x720 with 1 Axes>"
            ],
            "image/png": "[encoded data removed]"
          },
          "metadata": {
            "needs_background": "light"
          }
        }
      ]
    },
    {
      "cell_type": "code",
      "source": [
        "df[['Prediction_LSTM_CNN','Prediction_LSTM_GRU']].plot(figsize=(15,10));"
      ],
      "metadata": {
        "colab": {
          "base_uri": "https://localhost:8080/",
          "height": 571
        },
        "id": "ZYDW87n5Anf9",
        "outputId": "430ce6ae-063a-4790-adeb-a3c8982aa996"
      },
      "execution_count": 313,
      "outputs": [
        {
          "output_type": "display_data",
          "data": {
            "text/plain": [
              "<Figure size 1080x720 with 1 Axes>"
            ],
            "image/png": "[encoded data removed]"
          },
          "metadata": {
            "needs_background": "light"
          }
        }
      ]
    },
    {
      "cell_type": "code",
      "source": [
        "pred_lstm_cnn=df['Prediction_LSTM_CNN']\n",
        "pred_lstm_cnn.dropna(inplace=True)"
      ],
      "metadata": {
        "id": "gj8xug0lAxWl"
      },
      "execution_count": 314,
      "outputs": []
    },
    {
      "cell_type": "code",
      "source": [
        "rmse=math.sqrt(mean_squared_error(test['Prev Close'],pred_lstm_cnn))\n",
        "print(rmse)"
      ],
      "metadata": {
        "colab": {
          "base_uri": "https://localhost:8080/"
        },
        "id": "rakkuhBuA-qw",
        "outputId": "402ebcd8-14d7-4e28-f8b0-d58cd9903623"
      },
      "execution_count": 315,
      "outputs": [
        {
          "output_type": "stream",
          "name": "stdout",
          "text": [
            "41.883316810987175\n"
          ]
        }
      ]
    },
    {
      "cell_type": "code",
      "source": [
        "error=mean_absolute_error(test['Prev Close'],pred_lstm_cnn)\n",
        "print(error)"
      ],
      "metadata": {
        "colab": {
          "base_uri": "https://localhost:8080/"
        },
        "id": "9wztKO3rBHqx",
        "outputId": "bd53f029-5975-4acc-d85b-df2296f1c62c"
      },
      "execution_count": 316,
      "outputs": [
        {
          "output_type": "stream",
          "name": "stdout",
          "text": [
            "27.59050475033828\n"
          ]
        }
      ]
    },
    {
      "cell_type": "code",
      "source": [
        "r2_score(test['Prev Close'],pred_lstm_cnn)"
      ],
      "metadata": {
        "colab": {
          "base_uri": "https://localhost:8080/"
        },
        "id": "OXbq8UpSBH9g",
        "outputId": "03671455-12cf-4118-80a2-6112c6a5e2bf"
      },
      "execution_count": 317,
      "outputs": [
        {
          "output_type": "execute_result",
          "data": {
            "text/plain": [
              "0.9326688512625824"
            ]
          },
          "metadata": {},
          "execution_count": 317
        }
      ]
    },
    {
      "cell_type": "code",
      "source": [
        "pred_lstm_gru=df['Prediction_LSTM_GRU']\n",
        "pred_lstm_gru.dropna(inplace=True)"
      ],
      "metadata": {
        "id": "kaOiSQKJBRUU"
      },
      "execution_count": 318,
      "outputs": []
    },
    {
      "cell_type": "code",
      "source": [
        "rmse=math.sqrt(mean_squared_error(test['Prev Close'],pred_lstm_cnn))\n",
        "print(rmse)"
      ],
      "metadata": {
        "colab": {
          "base_uri": "https://localhost:8080/"
        },
        "id": "7UBA8PW2BRex",
        "outputId": "0426ea8c-0883-4d15-f151-0c961ec9652e"
      },
      "execution_count": 319,
      "outputs": [
        {
          "output_type": "stream",
          "name": "stdout",
          "text": [
            "41.883316810987175\n"
          ]
        }
      ]
    },
    {
      "cell_type": "code",
      "source": [
        "error=mean_absolute_error(test['Prev Close'],pred_lstm_gru)\n",
        "print(error)"
      ],
      "metadata": {
        "colab": {
          "base_uri": "https://localhost:8080/"
        },
        "id": "9zf0Qkl4BRo1",
        "outputId": "3ce7be14-13d4-4542-8afb-9fa8b831cfd0"
      },
      "execution_count": 320,
      "outputs": [
        {
          "output_type": "stream",
          "name": "stdout",
          "text": [
            "26.534227722721305\n"
          ]
        }
      ]
    },
    {
      "cell_type": "code",
      "source": [
        "r2_score(test['Prev Close'],pred_lstm_gru)"
      ],
      "metadata": {
        "colab": {
          "base_uri": "https://localhost:8080/"
        },
        "id": "2TgbreYrBRzp",
        "outputId": "52d85faa-859f-4568-bdf8-3331ac24bc1a"
      },
      "execution_count": 321,
      "outputs": [
        {
          "output_type": "execute_result",
          "data": {
            "text/plain": [
              "0.9369135305468966"
            ]
          },
          "metadata": {},
          "execution_count": 321
        }
      ]
    },
    {
      "cell_type": "code",
      "source": [],
      "metadata": {
        "id": "E7qIDFyEBlEl"
      },
      "execution_count": 321,
      "outputs": []
    }
  ]
}