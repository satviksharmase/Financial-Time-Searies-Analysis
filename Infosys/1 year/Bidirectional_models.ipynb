{
  "nbformat": 4,
  "nbformat_minor": 0,
  "metadata": {
    "colab": {
      "provenance": [],
      "collapsed_sections": []
    },
    "kernelspec": {
      "name": "python3",
      "display_name": "Python 3"
    },
    "language_info": {
      "name": "python"
    }
  },
  "cells": [
    {
      "cell_type": "code",
      "execution_count": 128,
      "metadata": {
        "id": "ZVEUR9Z46zJ7"
      },
      "outputs": [],
      "source": [
        "import pandas as pd\n",
        "import numpy as np\n",
        "import matplotlib.pyplot as plt\n",
        "\n",
        "import tensorflow as tf\n",
        "from tensorflow.keras.layers import Dense, Input, GlobalMaxPool1D, GRU,LSTM, Bidirectional\n",
        "from tensorflow.keras.models import Model\n",
        "from tensorflow.keras.callbacks import ModelCheckpoint\n",
        "\n",
        "import math\n",
        "\n",
        "from sklearn.metrics import r2_score\n",
        "from sklearn.metrics import mean_absolute_error\n",
        "from sklearn.metrics import mean_squared_error\n",
        "\n",
        "np.random.seed(123)\n",
        "tf.random.set_seed(123)"
      ]
    },
    {
      "cell_type": "code",
      "source": [
        "df=pd.read_csv('./INFY.csv',index_col='Date',parse_dates=True)"
      ],
      "metadata": {
        "id": "hGNJlPX-7FQ_"
      },
      "execution_count": 129,
      "outputs": []
    },
    {
      "cell_type": "code",
      "source": [
        "df"
      ],
      "metadata": {
        "colab": {
          "base_uri": "https://localhost:8080/",
          "height": 710
        },
        "id": "_fw_w6SY7PDd",
        "outputId": "2c0517d9-c465-4ea0-ea2e-b7cacc09f42e"
      },
      "execution_count": 130,
      "outputs": [
        {
          "output_type": "execute_result",
          "data": {
            "text/plain": [
              "                Symbol Series  Prev Close      Open      High       Low  \\\n",
              "Date                                                                      \n",
              "2000-01-03  INFOSYSTCH     EQ    14467.75  15625.00  15625.20  15625.00   \n",
              "2000-01-04  INFOSYSTCH     EQ    15625.20  16800.00  16875.25  16253.00   \n",
              "2000-01-05  INFOSYSTCH     EQ    16855.90  15701.00  16250.00  15507.45   \n",
              "2000-01-06  INFOSYSTCH     EQ    15507.45  15256.65  15300.00  14266.85   \n",
              "2000-01-07  INFOSYSTCH     EQ    14266.85  13125.50  13125.50  13125.50   \n",
              "...                ...    ...         ...       ...       ...       ...   \n",
              "2021-04-26        INFY     EQ     1333.80   1332.25   1351.30   1321.00   \n",
              "2021-04-27        INFY     EQ     1343.55   1346.00   1353.00   1340.15   \n",
              "2021-04-28        INFY     EQ     1348.50   1358.00   1359.50   1344.60   \n",
              "2021-04-29        INFY     EQ     1356.00   1368.00   1369.00   1351.40   \n",
              "2021-04-30        INFY     EQ     1356.35   1346.30   1373.90   1345.90   \n",
              "\n",
              "                Last     Close      VWAP   Volume      Turnover    Trades  \\\n",
              "Date                                                                        \n",
              "2000-01-03  15625.20  15625.20  15625.18     5137  8.026657e+12       NaN   \n",
              "2000-01-04  16875.25  16855.90  16646.38    56186  9.352937e+13       NaN   \n",
              "2000-01-05  15507.45  15507.45  15786.38   164605  2.598516e+14       NaN   \n",
              "2000-01-06  14266.85  14266.85  14462.82    81997  1.185908e+14       NaN   \n",
              "2000-01-07  13125.50  13125.50  13125.50     7589  9.960942e+12       NaN   \n",
              "...              ...       ...       ...      ...           ...       ...   \n",
              "2021-04-26   1345.00   1343.55   1343.19  7088606  9.521361e+14  130375.0   \n",
              "2021-04-27   1347.50   1348.50   1346.89  3636115  4.897445e+14  145974.0   \n",
              "2021-04-28   1355.80   1356.00   1353.45  4879234  6.603778e+14  137376.0   \n",
              "2021-04-29   1356.00   1356.35   1360.05  5412357  7.361090e+14  119277.0   \n",
              "2021-04-30   1348.60   1354.35   1361.16  8354677  1.137203e+15  131718.0   \n",
              "\n",
              "            Deliverable Volume  %Deliverble  \n",
              "Date                                         \n",
              "2000-01-03                 NaN          NaN  \n",
              "2000-01-04                 NaN          NaN  \n",
              "2000-01-05                 NaN          NaN  \n",
              "2000-01-06                 NaN          NaN  \n",
              "2000-01-07                 NaN          NaN  \n",
              "...                        ...          ...  \n",
              "2021-04-26           4218129.0       0.5951  \n",
              "2021-04-27           1871084.0       0.5146  \n",
              "2021-04-28           2857134.0       0.5856  \n",
              "2021-04-29           3130945.0       0.5785  \n",
              "2021-04-30           5408113.0       0.6473  \n",
              "\n",
              "[5306 rows x 14 columns]"
            ],
            "text/html": [
              "\n",
              "  <div id=\"df-fef86f8d-004a-4da9-9a2a-29396ce3a9ee\">\n",
              "    <div class=\"colab-df-container\">\n",
              "      <div>\n",
              "<style scoped>\n",
              "    .dataframe tbody tr th:only-of-type {\n",
              "        vertical-align: middle;\n",
              "    }\n",
              "\n",
              "    .dataframe tbody tr th {\n",
              "        vertical-align: top;\n",
              "    }\n",
              "\n",
              "    .dataframe thead th {\n",
              "        text-align: right;\n",
              "    }\n",
              "</style>\n",
              "<table border=\"1\" class=\"dataframe\">\n",
              "  <thead>\n",
              "    <tr style=\"text-align: right;\">\n",
              "      <th></th>\n",
              "      <th>Symbol</th>\n",
              "      <th>Series</th>\n",
              "      <th>Prev Close</th>\n",
              "      <th>Open</th>\n",
              "      <th>High</th>\n",
              "      <th>Low</th>\n",
              "      <th>Last</th>\n",
              "      <th>Close</th>\n",
              "      <th>VWAP</th>\n",
              "      <th>Volume</th>\n",
              "      <th>Turnover</th>\n",
              "      <th>Trades</th>\n",
              "      <th>Deliverable Volume</th>\n",
              "      <th>%Deliverble</th>\n",
              "    </tr>\n",
              "    <tr>\n",
              "      <th>Date</th>\n",
              "      <th></th>\n",
              "      <th></th>\n",
              "      <th></th>\n",
              "      <th></th>\n",
              "      <th></th>\n",
              "      <th></th>\n",
              "      <th></th>\n",
              "      <th></th>\n",
              "      <th></th>\n",
              "      <th></th>\n",
              "      <th></th>\n",
              "      <th></th>\n",
              "      <th></th>\n",
              "      <th></th>\n",
              "    </tr>\n",
              "  </thead>\n",
              "  <tbody>\n",
              "    <tr>\n",
              "      <th>2000-01-03</th>\n",
              "      <td>INFOSYSTCH</td>\n",
              "      <td>EQ</td>\n",
              "      <td>14467.75</td>\n",
              "      <td>15625.00</td>\n",
              "      <td>15625.20</td>\n",
              "      <td>15625.00</td>\n",
              "      <td>15625.20</td>\n",
              "      <td>15625.20</td>\n",
              "      <td>15625.18</td>\n",
              "      <td>5137</td>\n",
              "      <td>8.026657e+12</td>\n",
              "      <td>NaN</td>\n",
              "      <td>NaN</td>\n",
              "      <td>NaN</td>\n",
              "    </tr>\n",
              "    <tr>\n",
              "      <th>2000-01-04</th>\n",
              "      <td>INFOSYSTCH</td>\n",
              "      <td>EQ</td>\n",
              "      <td>15625.20</td>\n",
              "      <td>16800.00</td>\n",
              "      <td>16875.25</td>\n",
              "      <td>16253.00</td>\n",
              "      <td>16875.25</td>\n",
              "      <td>16855.90</td>\n",
              "      <td>16646.38</td>\n",
              "      <td>56186</td>\n",
              "      <td>9.352937e+13</td>\n",
              "      <td>NaN</td>\n",
              "      <td>NaN</td>\n",
              "      <td>NaN</td>\n",
              "    </tr>\n",
              "    <tr>\n",
              "      <th>2000-01-05</th>\n",
              "      <td>INFOSYSTCH</td>\n",
              "      <td>EQ</td>\n",
              "      <td>16855.90</td>\n",
              "      <td>15701.00</td>\n",
              "      <td>16250.00</td>\n",
              "      <td>15507.45</td>\n",
              "      <td>15507.45</td>\n",
              "      <td>15507.45</td>\n",
              "      <td>15786.38</td>\n",
              "      <td>164605</td>\n",
              "      <td>2.598516e+14</td>\n",
              "      <td>NaN</td>\n",
              "      <td>NaN</td>\n",
              "      <td>NaN</td>\n",
              "    </tr>\n",
              "    <tr>\n",
              "      <th>2000-01-06</th>\n",
              "      <td>INFOSYSTCH</td>\n",
              "      <td>EQ</td>\n",
              "      <td>15507.45</td>\n",
              "      <td>15256.65</td>\n",
              "      <td>15300.00</td>\n",
              "      <td>14266.85</td>\n",
              "      <td>14266.85</td>\n",
              "      <td>14266.85</td>\n",
              "      <td>14462.82</td>\n",
              "      <td>81997</td>\n",
              "      <td>1.185908e+14</td>\n",
              "      <td>NaN</td>\n",
              "      <td>NaN</td>\n",
              "      <td>NaN</td>\n",
              "    </tr>\n",
              "    <tr>\n",
              "      <th>2000-01-07</th>\n",
              "      <td>INFOSYSTCH</td>\n",
              "      <td>EQ</td>\n",
              "      <td>14266.85</td>\n",
              "      <td>13125.50</td>\n",
              "      <td>13125.50</td>\n",
              "      <td>13125.50</td>\n",
              "      <td>13125.50</td>\n",
              "      <td>13125.50</td>\n",
              "      <td>13125.50</td>\n",
              "      <td>7589</td>\n",
              "      <td>9.960942e+12</td>\n",
              "      <td>NaN</td>\n",
              "      <td>NaN</td>\n",
              "      <td>NaN</td>\n",
              "    </tr>\n",
              "    <tr>\n",
              "      <th>...</th>\n",
              "      <td>...</td>\n",
              "      <td>...</td>\n",
              "      <td>...</td>\n",
              "      <td>...</td>\n",
              "      <td>...</td>\n",
              "      <td>...</td>\n",
              "      <td>...</td>\n",
              "      <td>...</td>\n",
              "      <td>...</td>\n",
              "      <td>...</td>\n",
              "      <td>...</td>\n",
              "      <td>...</td>\n",
              "      <td>...</td>\n",
              "      <td>...</td>\n",
              "    </tr>\n",
              "    <tr>\n",
              "      <th>2021-04-26</th>\n",
              "      <td>INFY</td>\n",
              "      <td>EQ</td>\n",
              "      <td>1333.80</td>\n",
              "      <td>1332.25</td>\n",
              "      <td>1351.30</td>\n",
              "      <td>1321.00</td>\n",
              "      <td>1345.00</td>\n",
              "      <td>1343.55</td>\n",
              "      <td>1343.19</td>\n",
              "      <td>7088606</td>\n",
              "      <td>9.521361e+14</td>\n",
              "      <td>130375.0</td>\n",
              "      <td>4218129.0</td>\n",
              "      <td>0.5951</td>\n",
              "    </tr>\n",
              "    <tr>\n",
              "      <th>2021-04-27</th>\n",
              "      <td>INFY</td>\n",
              "      <td>EQ</td>\n",
              "      <td>1343.55</td>\n",
              "      <td>1346.00</td>\n",
              "      <td>1353.00</td>\n",
              "      <td>1340.15</td>\n",
              "      <td>1347.50</td>\n",
              "      <td>1348.50</td>\n",
              "      <td>1346.89</td>\n",
              "      <td>3636115</td>\n",
              "      <td>4.897445e+14</td>\n",
              "      <td>145974.0</td>\n",
              "      <td>1871084.0</td>\n",
              "      <td>0.5146</td>\n",
              "    </tr>\n",
              "    <tr>\n",
              "      <th>2021-04-28</th>\n",
              "      <td>INFY</td>\n",
              "      <td>EQ</td>\n",
              "      <td>1348.50</td>\n",
              "      <td>1358.00</td>\n",
              "      <td>1359.50</td>\n",
              "      <td>1344.60</td>\n",
              "      <td>1355.80</td>\n",
              "      <td>1356.00</td>\n",
              "      <td>1353.45</td>\n",
              "      <td>4879234</td>\n",
              "      <td>6.603778e+14</td>\n",
              "      <td>137376.0</td>\n",
              "      <td>2857134.0</td>\n",
              "      <td>0.5856</td>\n",
              "    </tr>\n",
              "    <tr>\n",
              "      <th>2021-04-29</th>\n",
              "      <td>INFY</td>\n",
              "      <td>EQ</td>\n",
              "      <td>1356.00</td>\n",
              "      <td>1368.00</td>\n",
              "      <td>1369.00</td>\n",
              "      <td>1351.40</td>\n",
              "      <td>1356.00</td>\n",
              "      <td>1356.35</td>\n",
              "      <td>1360.05</td>\n",
              "      <td>5412357</td>\n",
              "      <td>7.361090e+14</td>\n",
              "      <td>119277.0</td>\n",
              "      <td>3130945.0</td>\n",
              "      <td>0.5785</td>\n",
              "    </tr>\n",
              "    <tr>\n",
              "      <th>2021-04-30</th>\n",
              "      <td>INFY</td>\n",
              "      <td>EQ</td>\n",
              "      <td>1356.35</td>\n",
              "      <td>1346.30</td>\n",
              "      <td>1373.90</td>\n",
              "      <td>1345.90</td>\n",
              "      <td>1348.60</td>\n",
              "      <td>1354.35</td>\n",
              "      <td>1361.16</td>\n",
              "      <td>8354677</td>\n",
              "      <td>1.137203e+15</td>\n",
              "      <td>131718.0</td>\n",
              "      <td>5408113.0</td>\n",
              "      <td>0.6473</td>\n",
              "    </tr>\n",
              "  </tbody>\n",
              "</table>\n",
              "<p>5306 rows × 14 columns</p>\n",
              "</div>\n",
              "      <button class=\"colab-df-convert\" onclick=\"convertToInteractive('df-fef86f8d-004a-4da9-9a2a-29396ce3a9ee')\"\n",
              "              title=\"Convert this dataframe to an interactive table.\"\n",
              "              style=\"display:none;\">\n",
              "        \n",
              "  <svg xmlns=\"http://www.w3.org/2000/svg\" height=\"24px\"viewBox=\"0 0 24 24\"\n",
              "       width=\"24px\">\n",
              "    <path d=\"M0 0h24v24H0V0z\" fill=\"none\"/>\n",
              "    <path d=\"M18.56 5.44l.94 2.06.94-2.06 2.06-.94-2.06-.94-.94-2.06-.94 2.06-2.06.94zm-11 1L8.5 8.5l.94-2.06 2.06-.94-2.06-.94L8.5 2.5l-.94 2.06-2.06.94zm10 10l.94 2.06.94-2.06 2.06-.94-2.06-.94-.94-2.06-.94 2.06-2.06.94z\"/><path d=\"M17.41 7.96l-1.37-1.37c-.4-.4-.92-.59-1.43-.59-.52 0-1.04.2-1.43.59L10.3 9.45l-7.72 7.72c-.78.78-.78 2.05 0 2.83L4 21.41c.39.39.9.59 1.41.59.51 0 1.02-.2 1.41-.59l7.78-7.78 2.81-2.81c.8-.78.8-2.07 0-2.86zM5.41 20L4 18.59l7.72-7.72 1.47 1.35L5.41 20z\"/>\n",
              "  </svg>\n",
              "      </button>\n",
              "      \n",
              "  <style>\n",
              "    .colab-df-container {\n",
              "      display:flex;\n",
              "      flex-wrap:wrap;\n",
              "      gap: 12px;\n",
              "    }\n",
              "\n",
              "    .colab-df-convert {\n",
              "      background-color: #E8F0FE;\n",
              "      border: none;\n",
              "      border-radius: 50%;\n",
              "      cursor: pointer;\n",
              "      display: none;\n",
              "      fill: #1967D2;\n",
              "      height: 32px;\n",
              "      padding: 0 0 0 0;\n",
              "      width: 32px;\n",
              "    }\n",
              "\n",
              "    .colab-df-convert:hover {\n",
              "      background-color: #E2EBFA;\n",
              "      box-shadow: 0px 1px 2px rgba(60, 64, 67, 0.3), 0px 1px 3px 1px rgba(60, 64, 67, 0.15);\n",
              "      fill: #174EA6;\n",
              "    }\n",
              "\n",
              "    [theme=dark] .colab-df-convert {\n",
              "      background-color: #3B4455;\n",
              "      fill: #D2E3FC;\n",
              "    }\n",
              "\n",
              "    [theme=dark] .colab-df-convert:hover {\n",
              "      background-color: #434B5C;\n",
              "      box-shadow: 0px 1px 3px 1px rgba(0, 0, 0, 0.15);\n",
              "      filter: drop-shadow(0px 1px 2px rgba(0, 0, 0, 0.3));\n",
              "      fill: #FFFFFF;\n",
              "    }\n",
              "  </style>\n",
              "\n",
              "      <script>\n",
              "        const buttonEl =\n",
              "          document.querySelector('#df-fef86f8d-004a-4da9-9a2a-29396ce3a9ee button.colab-df-convert');\n",
              "        buttonEl.style.display =\n",
              "          google.colab.kernel.accessAllowed ? 'block' : 'none';\n",
              "\n",
              "        async function convertToInteractive(key) {\n",
              "          const element = document.querySelector('#df-fef86f8d-004a-4da9-9a2a-29396ce3a9ee');\n",
              "          const dataTable =\n",
              "            await google.colab.kernel.invokeFunction('convertToInteractive',\n",
              "                                                     [key], {});\n",
              "          if (!dataTable) return;\n",
              "\n",
              "          const docLinkHtml = 'Like what you see? Visit the ' +\n",
              "            '<a target=\"_blank\" href=https://colab.research.google.com/notebooks/data_table.ipynb>data table notebook</a>'\n",
              "            + ' to learn more about interactive tables.';\n",
              "          element.innerHTML = '';\n",
              "          dataTable['output_type'] = 'display_data';\n",
              "          await google.colab.output.renderOutput(dataTable, element);\n",
              "          const docLink = document.createElement('div');\n",
              "          docLink.innerHTML = docLinkHtml;\n",
              "          element.appendChild(docLink);\n",
              "        }\n",
              "      </script>\n",
              "    </div>\n",
              "  </div>\n",
              "  "
            ]
          },
          "metadata": {},
          "execution_count": 130
        }
      ]
    },
    {
      "cell_type": "code",
      "source": [
        "df['Date']=df.index"
      ],
      "metadata": {
        "id": "zwmfESni7gKn"
      },
      "execution_count": 131,
      "outputs": []
    },
    {
      "cell_type": "code",
      "source": [
        "start_date='2020-01-01'\n",
        "end_date='2020-12-31'\n",
        "mask=(df['Date']>=start_date)&(df['Date']<=end_date)"
      ],
      "metadata": {
        "id": "R6njdWuX7i6e"
      },
      "execution_count": 132,
      "outputs": []
    },
    {
      "cell_type": "code",
      "source": [
        "df=df.loc[mask]"
      ],
      "metadata": {
        "id": "1gvhNCc_7lCh"
      },
      "execution_count": 133,
      "outputs": []
    },
    {
      "cell_type": "code",
      "source": [
        "df=df.loc[mask]"
      ],
      "metadata": {
        "id": "H7T84rNE7lFn"
      },
      "execution_count": 134,
      "outputs": []
    },
    {
      "cell_type": "code",
      "source": [
        "df=df.drop(columns=['Series','Symbol','Open','High','Low','Last','Close','VWAP','Volume','Turnover','Trades','Deliverable Volume','%Deliverble','Date'])"
      ],
      "metadata": {
        "id": "KosKVO_j7lIn"
      },
      "execution_count": 135,
      "outputs": []
    },
    {
      "cell_type": "code",
      "source": [
        "Ntest=math.trunc(0.3*len(df))\n",
        "train=df.iloc[:-Ntest]\n",
        "test=df.iloc[-Ntest:]"
      ],
      "metadata": {
        "id": "7YW96kEv7lLh"
      },
      "execution_count": 136,
      "outputs": []
    },
    {
      "cell_type": "code",
      "source": [
        "train_idx=df.index<=train.index[-1]\n",
        "test_idx=df.index>train.index[-1]"
      ],
      "metadata": {
        "id": "NhwqMQ7r7lOX"
      },
      "execution_count": 137,
      "outputs": []
    },
    {
      "cell_type": "code",
      "source": [
        "df['Diff Prev Close']=df['Prev Close'].diff()"
      ],
      "metadata": {
        "id": "QtuPaMDJ7lQ_"
      },
      "execution_count": 138,
      "outputs": []
    },
    {
      "cell_type": "code",
      "source": [
        "series=df['Diff Prev Close'].dropna().to_numpy()\n",
        "\n",
        "T=50\n",
        "X=[]\n",
        "Y=[]\n",
        "for t in range(len(series)-T):\n",
        "  x=series[t:t+T]\n",
        "  X.append(x)\n",
        "  y=series[t+T]\n",
        "  Y.append(y)\n",
        "\n",
        "X=np.array(X).reshape(-1,T)\n",
        "Y=np.array(Y)\n",
        "N=len(X)\n",
        "print(\"X.shape\",X.shape,\"Y.shape\",Y.shape)"
      ],
      "metadata": {
        "colab": {
          "base_uri": "https://localhost:8080/"
        },
        "id": "WJeTN9cL7tkq",
        "outputId": "e66e2ca0-d7c1-4956-b0ec-2d2ee1a4c33a"
      },
      "execution_count": 139,
      "outputs": [
        {
          "output_type": "stream",
          "name": "stdout",
          "text": [
            "X.shape (201, 50) Y.shape (201,)\n"
          ]
        }
      ]
    },
    {
      "cell_type": "code",
      "source": [
        "Xtrain,Ytrain=X[:-Ntest],Y[:-Ntest]\n",
        "Xtest,Ytest=X[-Ntest:],Y[-Ntest:]"
      ],
      "metadata": {
        "id": "dE1vSivZ7tn-"
      },
      "execution_count": 140,
      "outputs": []
    },
    {
      "cell_type": "markdown",
      "source": [
        "Bi-LSTM"
      ],
      "metadata": {
        "id": "Y6SYTxcf8HrV"
      }
    },
    {
      "cell_type": "code",
      "source": [
        "i=Input(shape=(T,1))\n",
        "x=Bidirectional(LSTM(200,return_sequences=True))(i)\n",
        "x=Bidirectional(LSTM(200,return_sequences=True))(x)\n",
        "x=GlobalMaxPool1D()(x)\n",
        "x=Dense(100)(x)\n",
        "x=Dense(50)(x)\n",
        "x=Dense(1)(x)\n",
        "model_bi_lstm=Model(i,x)\n",
        "model_bi_lstm.summary()"
      ],
      "metadata": {
        "colab": {
          "base_uri": "https://localhost:8080/"
        },
        "id": "uk3JcnRf7trE",
        "outputId": "f0ae21b0-2173-47f2-eb96-bd73f1f47f0a"
      },
      "execution_count": 141,
      "outputs": [
        {
          "output_type": "stream",
          "name": "stdout",
          "text": [
            "Model: \"model_8\"\n",
            "_________________________________________________________________\n",
            " Layer (type)                Output Shape              Param #   \n",
            "=================================================================\n",
            " input_9 (InputLayer)        [(None, 50, 1)]           0         \n",
            "                                                                 \n",
            " bidirectional_16 (Bidirecti  (None, 50, 400)          323200    \n",
            " onal)                                                           \n",
            "                                                                 \n",
            " bidirectional_17 (Bidirecti  (None, 50, 400)          961600    \n",
            " onal)                                                           \n",
            "                                                                 \n",
            " global_max_pooling1d_8 (Glo  (None, 400)              0         \n",
            " balMaxPooling1D)                                                \n",
            "                                                                 \n",
            " dense_24 (Dense)            (None, 100)               40100     \n",
            "                                                                 \n",
            " dense_25 (Dense)            (None, 50)                5050      \n",
            "                                                                 \n",
            " dense_26 (Dense)            (None, 1)                 51        \n",
            "                                                                 \n",
            "=================================================================\n",
            "Total params: 1,330,001\n",
            "Trainable params: 1,330,001\n",
            "Non-trainable params: 0\n",
            "_________________________________________________________________\n"
          ]
        }
      ]
    },
    {
      "cell_type": "code",
      "source": [
        "check_point_bi_lstm=ModelCheckpoint('best_model.h5',monitor='val_loss',save_best_only=True)"
      ],
      "metadata": {
        "id": "9NtxtRQm7tuD"
      },
      "execution_count": 142,
      "outputs": []
    },
    {
      "cell_type": "code",
      "source": [
        "model_bi_lstm.compile(loss='mse',\n",
        "              optimizer='adamax',\n",
        "              metrics=['mae','mse'])"
      ],
      "metadata": {
        "id": "Tb0KBami7txT"
      },
      "execution_count": 143,
      "outputs": []
    },
    {
      "cell_type": "code",
      "source": [
        "r=model_bi_lstm.fit(\n",
        "    Xtrain,\n",
        "    Ytrain,\n",
        "    epochs=100,\n",
        "    validation_data=(Xtest,Ytest),\n",
        "    callbacks=[check_point_bi_lstm]\n",
        ")"
      ],
      "metadata": {
        "colab": {
          "base_uri": "https://localhost:8080/"
        },
        "id": "Dl_RedqY7t0c",
        "outputId": "a767d052-54aa-47a6-f752-a0a58a4bc7d2"
      },
      "execution_count": 144,
      "outputs": [
        {
          "output_type": "stream",
          "name": "stdout",
          "text": [
            "Epoch 1/100\n",
            "4/4 [==============================] - 12s 1s/step - loss: 443.4062 - mae: 14.9696 - mse: 443.4062 - val_loss: 345.8952 - val_mae: 14.8175 - val_mse: 345.8952\n",
            "Epoch 2/100\n",
            "4/4 [==============================] - 3s 782ms/step - loss: 441.3260 - mae: 14.8754 - mse: 441.3260 - val_loss: 340.7309 - val_mae: 14.7206 - val_mse: 340.7309\n",
            "Epoch 3/100\n",
            "4/4 [==============================] - 3s 738ms/step - loss: 438.7328 - mae: 14.9197 - mse: 438.7328 - val_loss: 341.2754 - val_mae: 14.7415 - val_mse: 341.2754\n",
            "Epoch 4/100\n",
            "4/4 [==============================] - 3s 751ms/step - loss: 434.2044 - mae: 14.7932 - mse: 434.2044 - val_loss: 348.0914 - val_mae: 14.8466 - val_mse: 348.0914\n",
            "Epoch 5/100\n",
            "4/4 [==============================] - 3s 724ms/step - loss: 431.6457 - mae: 14.7235 - mse: 431.6457 - val_loss: 352.0778 - val_mae: 14.9006 - val_mse: 352.0778\n",
            "Epoch 6/100\n",
            "4/4 [==============================] - 3s 754ms/step - loss: 431.1944 - mae: 14.7089 - mse: 431.1944 - val_loss: 354.5666 - val_mae: 14.9402 - val_mse: 354.5666\n",
            "Epoch 7/100\n",
            "4/4 [==============================] - 3s 746ms/step - loss: 427.5105 - mae: 14.6615 - mse: 427.5105 - val_loss: 350.7934 - val_mae: 14.8870 - val_mse: 350.7934\n",
            "Epoch 8/100\n",
            "4/4 [==============================] - 3s 726ms/step - loss: 429.0357 - mae: 14.6571 - mse: 429.0357 - val_loss: 342.6069 - val_mae: 14.7996 - val_mse: 342.6069\n",
            "Epoch 9/100\n",
            "4/4 [==============================] - 3s 746ms/step - loss: 421.3673 - mae: 14.5890 - mse: 421.3673 - val_loss: 347.0371 - val_mae: 14.8398 - val_mse: 347.0371\n",
            "Epoch 10/100\n",
            "4/4 [==============================] - 3s 735ms/step - loss: 419.2033 - mae: 14.5135 - mse: 419.2033 - val_loss: 358.8615 - val_mae: 15.0042 - val_mse: 358.8615\n",
            "Epoch 11/100\n",
            "4/4 [==============================] - 3s 761ms/step - loss: 411.3854 - mae: 14.3955 - mse: 411.3854 - val_loss: 360.6339 - val_mae: 15.0608 - val_mse: 360.6339\n",
            "Epoch 12/100\n",
            "4/4 [==============================] - 3s 829ms/step - loss: 405.6046 - mae: 14.2679 - mse: 405.6046 - val_loss: 368.7606 - val_mae: 15.2644 - val_mse: 368.7606\n",
            "Epoch 13/100\n",
            "4/4 [==============================] - 3s 739ms/step - loss: 396.8834 - mae: 14.1450 - mse: 396.8834 - val_loss: 387.3460 - val_mae: 15.6525 - val_mse: 387.3460\n",
            "Epoch 14/100\n",
            "4/4 [==============================] - 3s 729ms/step - loss: 384.1791 - mae: 13.9312 - mse: 384.1791 - val_loss: 406.3268 - val_mae: 16.0314 - val_mse: 406.3268\n",
            "Epoch 15/100\n",
            "4/4 [==============================] - 3s 749ms/step - loss: 373.1014 - mae: 13.6116 - mse: 373.1014 - val_loss: 443.6345 - val_mae: 16.7374 - val_mse: 443.6345\n",
            "Epoch 16/100\n",
            "4/4 [==============================] - 3s 737ms/step - loss: 361.5566 - mae: 13.5203 - mse: 361.5566 - val_loss: 478.9395 - val_mae: 17.4828 - val_mse: 478.9395\n",
            "Epoch 17/100\n",
            "4/4 [==============================] - 3s 748ms/step - loss: 351.4702 - mae: 13.3542 - mse: 351.4702 - val_loss: 547.7332 - val_mae: 18.6166 - val_mse: 547.7332\n",
            "Epoch 18/100\n",
            "4/4 [==============================] - 3s 751ms/step - loss: 338.7408 - mae: 13.1887 - mse: 338.7408 - val_loss: 532.1237 - val_mae: 18.4305 - val_mse: 532.1237\n",
            "Epoch 19/100\n",
            "4/4 [==============================] - 3s 722ms/step - loss: 333.0525 - mae: 13.1849 - mse: 333.0525 - val_loss: 600.2136 - val_mae: 19.4734 - val_mse: 600.2136\n",
            "Epoch 20/100\n",
            "4/4 [==============================] - 3s 721ms/step - loss: 319.0129 - mae: 12.9940 - mse: 319.0129 - val_loss: 596.4285 - val_mae: 19.4312 - val_mse: 596.4285\n",
            "Epoch 21/100\n",
            "4/4 [==============================] - 3s 713ms/step - loss: 310.2521 - mae: 12.8449 - mse: 310.2521 - val_loss: 625.5311 - val_mae: 19.8949 - val_mse: 625.5311\n",
            "Epoch 22/100\n",
            "4/4 [==============================] - 3s 733ms/step - loss: 303.1258 - mae: 12.6708 - mse: 303.1258 - val_loss: 607.9984 - val_mae: 19.5798 - val_mse: 607.9984\n",
            "Epoch 23/100\n",
            "4/4 [==============================] - 3s 721ms/step - loss: 288.9317 - mae: 12.4070 - mse: 288.9317 - val_loss: 639.7876 - val_mae: 20.1738 - val_mse: 639.7876\n",
            "Epoch 24/100\n",
            "4/4 [==============================] - 3s 723ms/step - loss: 286.9059 - mae: 12.0913 - mse: 286.9059 - val_loss: 657.9959 - val_mae: 20.4949 - val_mse: 657.9959\n",
            "Epoch 25/100\n",
            "4/4 [==============================] - 3s 713ms/step - loss: 278.9265 - mae: 11.9625 - mse: 278.9265 - val_loss: 690.1243 - val_mae: 21.0917 - val_mse: 690.1243\n",
            "Epoch 26/100\n",
            "4/4 [==============================] - 3s 726ms/step - loss: 274.7582 - mae: 11.4369 - mse: 274.7582 - val_loss: 559.0065 - val_mae: 18.7339 - val_mse: 559.0065\n",
            "Epoch 27/100\n",
            "4/4 [==============================] - 3s 727ms/step - loss: 280.9755 - mae: 12.8156 - mse: 280.9755 - val_loss: 711.9894 - val_mae: 21.3290 - val_mse: 711.9894\n",
            "Epoch 28/100\n",
            "4/4 [==============================] - 3s 737ms/step - loss: 267.1176 - mae: 11.8053 - mse: 267.1176 - val_loss: 747.3959 - val_mae: 21.9015 - val_mse: 747.3960\n",
            "Epoch 29/100\n",
            "4/4 [==============================] - 3s 734ms/step - loss: 247.3698 - mae: 11.3257 - mse: 247.3698 - val_loss: 670.4404 - val_mae: 20.6160 - val_mse: 670.4404\n",
            "Epoch 30/100\n",
            "4/4 [==============================] - 3s 753ms/step - loss: 230.0231 - mae: 10.8513 - mse: 230.0231 - val_loss: 763.0753 - val_mae: 22.2684 - val_mse: 763.0753\n",
            "Epoch 31/100\n",
            "4/4 [==============================] - 3s 725ms/step - loss: 227.8808 - mae: 10.5251 - mse: 227.8808 - val_loss: 706.7766 - val_mae: 21.3071 - val_mse: 706.7766\n",
            "Epoch 32/100\n",
            "4/4 [==============================] - 3s 748ms/step - loss: 221.8276 - mae: 11.1097 - mse: 221.8276 - val_loss: 717.7445 - val_mae: 21.4335 - val_mse: 717.7445\n",
            "Epoch 33/100\n",
            "4/4 [==============================] - 3s 733ms/step - loss: 199.5043 - mae: 9.8126 - mse: 199.5043 - val_loss: 835.9754 - val_mae: 23.4538 - val_mse: 835.9754\n",
            "Epoch 34/100\n",
            "4/4 [==============================] - 3s 737ms/step - loss: 194.0003 - mae: 9.8628 - mse: 194.0003 - val_loss: 760.2529 - val_mae: 22.2667 - val_mse: 760.2529\n",
            "Epoch 35/100\n",
            "4/4 [==============================] - 3s 728ms/step - loss: 178.9657 - mae: 9.7049 - mse: 178.9657 - val_loss: 864.3646 - val_mae: 23.8893 - val_mse: 864.3646\n",
            "Epoch 36/100\n",
            "4/4 [==============================] - 3s 723ms/step - loss: 172.1035 - mae: 9.2596 - mse: 172.1035 - val_loss: 777.9928 - val_mae: 22.4927 - val_mse: 777.9928\n",
            "Epoch 37/100\n",
            "4/4 [==============================] - 3s 728ms/step - loss: 168.7343 - mae: 9.3187 - mse: 168.7343 - val_loss: 904.0507 - val_mae: 24.4855 - val_mse: 904.0507\n",
            "Epoch 38/100\n",
            "4/4 [==============================] - 3s 723ms/step - loss: 151.8383 - mae: 9.0202 - mse: 151.8383 - val_loss: 900.4547 - val_mae: 24.4271 - val_mse: 900.4547\n",
            "Epoch 39/100\n",
            "4/4 [==============================] - 3s 729ms/step - loss: 148.6950 - mae: 8.9033 - mse: 148.6950 - val_loss: 946.0938 - val_mae: 25.0865 - val_mse: 946.0938\n",
            "Epoch 40/100\n",
            "4/4 [==============================] - 3s 723ms/step - loss: 137.2500 - mae: 8.4158 - mse: 137.2500 - val_loss: 891.3239 - val_mae: 24.3415 - val_mse: 891.3239\n",
            "Epoch 41/100\n",
            "4/4 [==============================] - 3s 723ms/step - loss: 130.1505 - mae: 8.1574 - mse: 130.1505 - val_loss: 903.2665 - val_mae: 24.5629 - val_mse: 903.2665\n",
            "Epoch 42/100\n",
            "4/4 [==============================] - 3s 743ms/step - loss: 123.0190 - mae: 8.2408 - mse: 123.0190 - val_loss: 1013.3035 - val_mae: 26.3493 - val_mse: 1013.3035\n",
            "Epoch 43/100\n",
            "4/4 [==============================] - 3s 750ms/step - loss: 116.7695 - mae: 8.0424 - mse: 116.7695 - val_loss: 864.6269 - val_mae: 24.1874 - val_mse: 864.6269\n",
            "Epoch 44/100\n",
            "4/4 [==============================] - 3s 729ms/step - loss: 123.4902 - mae: 7.9309 - mse: 123.4902 - val_loss: 1025.9103 - val_mae: 26.5786 - val_mse: 1025.9103\n",
            "Epoch 45/100\n",
            "4/4 [==============================] - 3s 730ms/step - loss: 106.0201 - mae: 7.4779 - mse: 106.0201 - val_loss: 809.4920 - val_mae: 23.3182 - val_mse: 809.4920\n",
            "Epoch 46/100\n",
            "4/4 [==============================] - 3s 719ms/step - loss: 110.9623 - mae: 7.6820 - mse: 110.9623 - val_loss: 1010.5731 - val_mae: 26.2761 - val_mse: 1010.5731\n",
            "Epoch 47/100\n",
            "4/4 [==============================] - 3s 723ms/step - loss: 98.7822 - mae: 7.3606 - mse: 98.7822 - val_loss: 912.0538 - val_mae: 24.9933 - val_mse: 912.0538\n",
            "Epoch 48/100\n",
            "4/4 [==============================] - 3s 724ms/step - loss: 91.7740 - mae: 7.0691 - mse: 91.7740 - val_loss: 936.6484 - val_mae: 25.2350 - val_mse: 936.6484\n",
            "Epoch 49/100\n",
            "4/4 [==============================] - 3s 724ms/step - loss: 85.9976 - mae: 6.7554 - mse: 85.9976 - val_loss: 907.6257 - val_mae: 24.8048 - val_mse: 907.6257\n",
            "Epoch 50/100\n",
            "4/4 [==============================] - 3s 735ms/step - loss: 82.9729 - mae: 6.7355 - mse: 82.9729 - val_loss: 1012.5009 - val_mae: 26.4903 - val_mse: 1012.5009\n",
            "Epoch 51/100\n",
            "4/4 [==============================] - 3s 731ms/step - loss: 78.3248 - mae: 6.4938 - mse: 78.3248 - val_loss: 848.9802 - val_mae: 23.9226 - val_mse: 848.9802\n",
            "Epoch 52/100\n",
            "4/4 [==============================] - 3s 733ms/step - loss: 71.8427 - mae: 6.1915 - mse: 71.8427 - val_loss: 891.3426 - val_mae: 24.5789 - val_mse: 891.3426\n",
            "Epoch 53/100\n",
            "4/4 [==============================] - 3s 742ms/step - loss: 70.2056 - mae: 6.3941 - mse: 70.2056 - val_loss: 995.2139 - val_mae: 26.1886 - val_mse: 995.2139\n",
            "Epoch 54/100\n",
            "4/4 [==============================] - 3s 735ms/step - loss: 79.7915 - mae: 6.4653 - mse: 79.7915 - val_loss: 895.7624 - val_mae: 24.7549 - val_mse: 895.7624\n",
            "Epoch 55/100\n",
            "4/4 [==============================] - 3s 720ms/step - loss: 64.3184 - mae: 5.5565 - mse: 64.3184 - val_loss: 1019.7491 - val_mae: 26.6746 - val_mse: 1019.7491\n",
            "Epoch 56/100\n",
            "4/4 [==============================] - 3s 722ms/step - loss: 60.3575 - mae: 5.4545 - mse: 60.3575 - val_loss: 949.8228 - val_mae: 25.4897 - val_mse: 949.8228\n",
            "Epoch 57/100\n",
            "4/4 [==============================] - 3s 718ms/step - loss: 50.2432 - mae: 5.0786 - mse: 50.2432 - val_loss: 1014.9122 - val_mae: 26.4169 - val_mse: 1014.9122\n",
            "Epoch 58/100\n",
            "4/4 [==============================] - 3s 724ms/step - loss: 49.5176 - mae: 5.2690 - mse: 49.5176 - val_loss: 957.3358 - val_mae: 25.7280 - val_mse: 957.3358\n",
            "Epoch 59/100\n",
            "4/4 [==============================] - 3s 729ms/step - loss: 46.5684 - mae: 4.6910 - mse: 46.5684 - val_loss: 1000.0949 - val_mae: 26.3088 - val_mse: 1000.0949\n",
            "Epoch 60/100\n",
            "4/4 [==============================] - 3s 739ms/step - loss: 44.8201 - mae: 4.5924 - mse: 44.8201 - val_loss: 1028.5283 - val_mae: 26.7180 - val_mse: 1028.5283\n",
            "Epoch 61/100\n",
            "4/4 [==============================] - 3s 732ms/step - loss: 49.5502 - mae: 4.9424 - mse: 49.5502 - val_loss: 896.0825 - val_mae: 24.9680 - val_mse: 896.0825\n",
            "Epoch 62/100\n",
            "4/4 [==============================] - 3s 732ms/step - loss: 49.0028 - mae: 5.1873 - mse: 49.0028 - val_loss: 994.1325 - val_mae: 26.3347 - val_mse: 994.1325\n",
            "Epoch 63/100\n",
            "4/4 [==============================] - 3s 745ms/step - loss: 40.7158 - mae: 4.6211 - mse: 40.7158 - val_loss: 1058.4280 - val_mae: 27.3034 - val_mse: 1058.4280\n",
            "Epoch 64/100\n",
            "4/4 [==============================] - 3s 748ms/step - loss: 39.0106 - mae: 4.3493 - mse: 39.0106 - val_loss: 932.1778 - val_mae: 25.5342 - val_mse: 932.1778\n",
            "Epoch 65/100\n",
            "4/4 [==============================] - 3s 739ms/step - loss: 36.8761 - mae: 4.5120 - mse: 36.8761 - val_loss: 1103.0425 - val_mae: 28.0450 - val_mse: 1103.0425\n",
            "Epoch 66/100\n",
            "4/4 [==============================] - 3s 720ms/step - loss: 37.0430 - mae: 4.5126 - mse: 37.0430 - val_loss: 963.1753 - val_mae: 25.7773 - val_mse: 963.1753\n",
            "Epoch 67/100\n",
            "4/4 [==============================] - 3s 730ms/step - loss: 29.5170 - mae: 3.7062 - mse: 29.5170 - val_loss: 1034.5609 - val_mae: 26.8762 - val_mse: 1034.5609\n",
            "Epoch 68/100\n",
            "4/4 [==============================] - 3s 753ms/step - loss: 27.6678 - mae: 3.6693 - mse: 27.6678 - val_loss: 1027.0068 - val_mae: 26.7970 - val_mse: 1027.0068\n",
            "Epoch 69/100\n",
            "4/4 [==============================] - 3s 778ms/step - loss: 24.2320 - mae: 3.1763 - mse: 24.2320 - val_loss: 1069.6766 - val_mae: 27.4396 - val_mse: 1069.6766\n",
            "Epoch 70/100\n",
            "4/4 [==============================] - 3s 763ms/step - loss: 28.2948 - mae: 3.7355 - mse: 28.2948 - val_loss: 1057.3612 - val_mae: 27.2115 - val_mse: 1057.3612\n",
            "Epoch 71/100\n",
            "4/4 [==============================] - 3s 753ms/step - loss: 24.8414 - mae: 3.7246 - mse: 24.8414 - val_loss: 1012.5006 - val_mae: 26.5226 - val_mse: 1012.5006\n",
            "Epoch 72/100\n",
            "4/4 [==============================] - 3s 738ms/step - loss: 23.2828 - mae: 3.2906 - mse: 23.2828 - val_loss: 1032.9996 - val_mae: 26.8240 - val_mse: 1032.9996\n",
            "Epoch 73/100\n",
            "4/4 [==============================] - 3s 741ms/step - loss: 18.2902 - mae: 2.7715 - mse: 18.2902 - val_loss: 1065.7057 - val_mae: 27.3690 - val_mse: 1065.7057\n",
            "Epoch 74/100\n",
            "4/4 [==============================] - 3s 741ms/step - loss: 18.4151 - mae: 2.9585 - mse: 18.4151 - val_loss: 1042.2146 - val_mae: 27.0857 - val_mse: 1042.2146\n",
            "Epoch 75/100\n",
            "4/4 [==============================] - 3s 750ms/step - loss: 15.1098 - mae: 2.5976 - mse: 15.1098 - val_loss: 1060.2235 - val_mae: 27.2794 - val_mse: 1060.2235\n",
            "Epoch 76/100\n",
            "4/4 [==============================] - 3s 742ms/step - loss: 16.3142 - mae: 2.5831 - mse: 16.3142 - val_loss: 1118.7639 - val_mae: 28.0916 - val_mse: 1118.7639\n",
            "Epoch 77/100\n",
            "4/4 [==============================] - 3s 737ms/step - loss: 15.2245 - mae: 2.7140 - mse: 15.2245 - val_loss: 1071.3043 - val_mae: 27.4109 - val_mse: 1071.3043\n",
            "Epoch 78/100\n",
            "4/4 [==============================] - 3s 736ms/step - loss: 13.7344 - mae: 2.7165 - mse: 13.7344 - val_loss: 952.2667 - val_mae: 25.7331 - val_mse: 952.2667\n",
            "Epoch 79/100\n",
            "4/4 [==============================] - 3s 770ms/step - loss: 12.3268 - mae: 2.4618 - mse: 12.3268 - val_loss: 1117.3075 - val_mae: 28.1028 - val_mse: 1117.3075\n",
            "Epoch 80/100\n",
            "4/4 [==============================] - 3s 731ms/step - loss: 15.0779 - mae: 2.7362 - mse: 15.0779 - val_loss: 1060.9974 - val_mae: 27.2776 - val_mse: 1060.9974\n",
            "Epoch 81/100\n",
            "4/4 [==============================] - 3s 729ms/step - loss: 22.6776 - mae: 3.5603 - mse: 22.6776 - val_loss: 938.6981 - val_mae: 25.7320 - val_mse: 938.6981\n",
            "Epoch 82/100\n",
            "4/4 [==============================] - 3s 730ms/step - loss: 27.0010 - mae: 4.1477 - mse: 27.0010 - val_loss: 976.7676 - val_mae: 26.0995 - val_mse: 976.7676\n",
            "Epoch 83/100\n",
            "4/4 [==============================] - 3s 734ms/step - loss: 42.0019 - mae: 4.6374 - mse: 42.0019 - val_loss: 1154.3018 - val_mae: 28.5401 - val_mse: 1154.3018\n",
            "Epoch 84/100\n",
            "4/4 [==============================] - 3s 728ms/step - loss: 25.6622 - mae: 4.0097 - mse: 25.6622 - val_loss: 1196.4829 - val_mae: 29.1650 - val_mse: 1196.4829\n",
            "Epoch 85/100\n",
            "4/4 [==============================] - 3s 728ms/step - loss: 38.3288 - mae: 4.8278 - mse: 38.3288 - val_loss: 999.6461 - val_mae: 26.1278 - val_mse: 999.6461\n",
            "Epoch 86/100\n",
            "4/4 [==============================] - 3s 721ms/step - loss: 37.5756 - mae: 4.7186 - mse: 37.5756 - val_loss: 1172.2218 - val_mae: 28.8453 - val_mse: 1172.2218\n",
            "Epoch 87/100\n",
            "4/4 [==============================] - 3s 728ms/step - loss: 28.8710 - mae: 4.1915 - mse: 28.8710 - val_loss: 1050.3833 - val_mae: 26.9906 - val_mse: 1050.3833\n",
            "Epoch 88/100\n",
            "4/4 [==============================] - 3s 730ms/step - loss: 32.5533 - mae: 4.6656 - mse: 32.5533 - val_loss: 1260.0601 - val_mae: 30.2230 - val_mse: 1260.0601\n",
            "Epoch 89/100\n",
            "4/4 [==============================] - 3s 726ms/step - loss: 33.1223 - mae: 4.5829 - mse: 33.1223 - val_loss: 1214.5049 - val_mae: 29.4172 - val_mse: 1214.5049\n",
            "Epoch 90/100\n",
            "4/4 [==============================] - 3s 723ms/step - loss: 25.5322 - mae: 4.0119 - mse: 25.5322 - val_loss: 901.0400 - val_mae: 24.9773 - val_mse: 901.0400\n",
            "Epoch 91/100\n",
            "4/4 [==============================] - 3s 734ms/step - loss: 33.1966 - mae: 4.4771 - mse: 33.1966 - val_loss: 1071.5833 - val_mae: 27.4842 - val_mse: 1071.5833\n",
            "Epoch 92/100\n",
            "4/4 [==============================] - 3s 719ms/step - loss: 16.2015 - mae: 3.1345 - mse: 16.2015 - val_loss: 922.5957 - val_mae: 25.3461 - val_mse: 922.5957\n",
            "Epoch 93/100\n",
            "4/4 [==============================] - 3s 709ms/step - loss: 17.2444 - mae: 3.3597 - mse: 17.2444 - val_loss: 1036.4628 - val_mae: 26.8825 - val_mse: 1036.4628\n",
            "Epoch 94/100\n",
            "4/4 [==============================] - 3s 771ms/step - loss: 10.0511 - mae: 2.4601 - mse: 10.0511 - val_loss: 1063.3063 - val_mae: 27.1740 - val_mse: 1063.3063\n",
            "Epoch 95/100\n",
            "4/4 [==============================] - 3s 729ms/step - loss: 10.0811 - mae: 2.4588 - mse: 10.0811 - val_loss: 964.2535 - val_mae: 25.8779 - val_mse: 964.2535\n",
            "Epoch 96/100\n",
            "4/4 [==============================] - 3s 730ms/step - loss: 8.4833 - mae: 2.2464 - mse: 8.4833 - val_loss: 1038.6526 - val_mae: 27.0454 - val_mse: 1038.6526\n",
            "Epoch 97/100\n",
            "4/4 [==============================] - 3s 730ms/step - loss: 7.1258 - mae: 2.0909 - mse: 7.1258 - val_loss: 952.0904 - val_mae: 25.8088 - val_mse: 952.0904\n",
            "Epoch 98/100\n",
            "4/4 [==============================] - 3s 740ms/step - loss: 5.8996 - mae: 1.7980 - mse: 5.8996 - val_loss: 1051.8320 - val_mae: 27.1915 - val_mse: 1051.8320\n",
            "Epoch 99/100\n",
            "4/4 [==============================] - 3s 740ms/step - loss: 6.2160 - mae: 1.9091 - mse: 6.2160 - val_loss: 1032.0016 - val_mae: 26.9754 - val_mse: 1032.0016\n",
            "Epoch 100/100\n",
            "4/4 [==============================] - 3s 737ms/step - loss: 6.0598 - mae: 2.0316 - mse: 6.0598 - val_loss: 928.9507 - val_mae: 25.5526 - val_mse: 928.9507\n"
          ]
        }
      ]
    },
    {
      "cell_type": "markdown",
      "source": [
        "Bi-directional GRU"
      ],
      "metadata": {
        "id": "8AVWuHEeDrUU"
      }
    },
    {
      "cell_type": "code",
      "source": [
        "i=Input(shape=(T,1))\n",
        "x=Bidirectional(GRU(200,return_sequences=True))(i)\n",
        "x=Bidirectional(GRU(200,return_sequences=True))(x)\n",
        "x=GlobalMaxPool1D()(x)\n",
        "x=Dense(100)(x)\n",
        "x=Dense(50)(x)\n",
        "x=Dense(1)(x)\n",
        "model_bi_gru=Model(i,x)\n",
        "model_bi_gru.summary()"
      ],
      "metadata": {
        "colab": {
          "base_uri": "https://localhost:8080/"
        },
        "id": "cUHtZz0A7t3k",
        "outputId": "fd3a2ff2-3c7d-4276-a958-4fb7d1bb2be6"
      },
      "execution_count": 145,
      "outputs": [
        {
          "output_type": "stream",
          "name": "stdout",
          "text": [
            "Model: \"model_9\"\n",
            "_________________________________________________________________\n",
            " Layer (type)                Output Shape              Param #   \n",
            "=================================================================\n",
            " input_10 (InputLayer)       [(None, 50, 1)]           0         \n",
            "                                                                 \n",
            " bidirectional_18 (Bidirecti  (None, 50, 400)          243600    \n",
            " onal)                                                           \n",
            "                                                                 \n",
            " bidirectional_19 (Bidirecti  (None, 50, 400)          722400    \n",
            " onal)                                                           \n",
            "                                                                 \n",
            " global_max_pooling1d_9 (Glo  (None, 400)              0         \n",
            " balMaxPooling1D)                                                \n",
            "                                                                 \n",
            " dense_27 (Dense)            (None, 100)               40100     \n",
            "                                                                 \n",
            " dense_28 (Dense)            (None, 50)                5050      \n",
            "                                                                 \n",
            " dense_29 (Dense)            (None, 1)                 51        \n",
            "                                                                 \n",
            "=================================================================\n",
            "Total params: 1,011,201\n",
            "Trainable params: 1,011,201\n",
            "Non-trainable params: 0\n",
            "_________________________________________________________________\n"
          ]
        }
      ]
    },
    {
      "cell_type": "code",
      "source": [
        "check_point_bi_gru=ModelCheckpoint('best_model.h5',monitor='val_loss',save_best_only=True)"
      ],
      "metadata": {
        "id": "31j89DK6DqGT"
      },
      "execution_count": 146,
      "outputs": []
    },
    {
      "cell_type": "code",
      "source": [
        "model_bi_gru.compile(loss='mse',\n",
        "              optimizer='adamax',\n",
        "              metrics=['mae','mse'])"
      ],
      "metadata": {
        "id": "e0_x1t5JDqJK"
      },
      "execution_count": 147,
      "outputs": []
    },
    {
      "cell_type": "code",
      "source": [
        "r=model_bi_gru.fit(\n",
        "    Xtrain,\n",
        "    Ytrain,\n",
        "    epochs=100,\n",
        "    validation_data=(Xtest,Ytest),\n",
        "    callbacks=[check_point_bi_gru]\n",
        ")"
      ],
      "metadata": {
        "colab": {
          "base_uri": "https://localhost:8080/"
        },
        "id": "fu63FFgDDqMS",
        "outputId": "3b155820-ef7b-4c23-dc11-71de3db0d12b"
      },
      "execution_count": 148,
      "outputs": [
        {
          "output_type": "stream",
          "name": "stdout",
          "text": [
            "Epoch 1/100\n",
            "4/4 [==============================] - 12s 1s/step - loss: 439.9128 - mae: 14.9023 - mse: 439.9128 - val_loss: 342.2428 - val_mae: 14.7582 - val_mse: 342.2428\n",
            "Epoch 2/100\n",
            "4/4 [==============================] - 2s 624ms/step - loss: 443.2548 - mae: 15.0093 - mse: 443.2548 - val_loss: 341.7628 - val_mae: 14.7466 - val_mse: 341.7628\n",
            "Epoch 3/100\n",
            "4/4 [==============================] - 2s 601ms/step - loss: 433.2950 - mae: 14.9051 - mse: 433.2950 - val_loss: 344.5930 - val_mae: 14.8151 - val_mse: 344.5930\n",
            "Epoch 4/100\n",
            "4/4 [==============================] - 2s 604ms/step - loss: 428.6678 - mae: 14.7144 - mse: 428.6678 - val_loss: 363.7587 - val_mae: 15.0824 - val_mse: 363.7587\n",
            "Epoch 5/100\n",
            "4/4 [==============================] - 2s 588ms/step - loss: 428.8305 - mae: 14.7353 - mse: 428.8305 - val_loss: 358.6673 - val_mae: 15.0160 - val_mse: 358.6673\n",
            "Epoch 6/100\n",
            "4/4 [==============================] - 2s 597ms/step - loss: 421.9488 - mae: 14.5961 - mse: 421.9488 - val_loss: 349.0332 - val_mae: 14.8988 - val_mse: 349.0332\n",
            "Epoch 7/100\n",
            "4/4 [==============================] - 2s 615ms/step - loss: 417.9515 - mae: 14.6018 - mse: 417.9515 - val_loss: 342.4793 - val_mae: 14.8266 - val_mse: 342.4793\n",
            "Epoch 8/100\n",
            "4/4 [==============================] - 2s 630ms/step - loss: 423.7653 - mae: 14.6876 - mse: 423.7653 - val_loss: 340.4864 - val_mae: 14.8525 - val_mse: 340.4864\n",
            "Epoch 9/100\n",
            "4/4 [==============================] - 2s 597ms/step - loss: 413.5700 - mae: 14.5609 - mse: 413.5700 - val_loss: 346.5193 - val_mae: 14.9103 - val_mse: 346.5193\n",
            "Epoch 10/100\n",
            "4/4 [==============================] - 2s 613ms/step - loss: 412.9284 - mae: 14.4345 - mse: 412.9284 - val_loss: 365.8579 - val_mae: 15.1891 - val_mse: 365.8579\n",
            "Epoch 11/100\n",
            "4/4 [==============================] - 2s 618ms/step - loss: 404.0989 - mae: 14.3353 - mse: 404.0989 - val_loss: 357.1231 - val_mae: 15.0727 - val_mse: 357.1231\n",
            "Epoch 12/100\n",
            "4/4 [==============================] - 2s 604ms/step - loss: 398.4606 - mae: 14.2319 - mse: 398.4606 - val_loss: 350.2653 - val_mae: 15.0496 - val_mse: 350.2654\n",
            "Epoch 13/100\n",
            "4/4 [==============================] - 2s 589ms/step - loss: 390.9020 - mae: 14.1775 - mse: 390.9020 - val_loss: 355.3820 - val_mae: 15.1595 - val_mse: 355.3820\n",
            "Epoch 14/100\n",
            "4/4 [==============================] - 2s 604ms/step - loss: 381.5491 - mae: 14.0112 - mse: 381.5491 - val_loss: 364.7679 - val_mae: 15.3248 - val_mse: 364.7679\n",
            "Epoch 15/100\n",
            "4/4 [==============================] - 2s 610ms/step - loss: 374.8173 - mae: 13.8228 - mse: 374.8173 - val_loss: 387.0248 - val_mae: 15.6841 - val_mse: 387.0248\n",
            "Epoch 16/100\n",
            "4/4 [==============================] - 2s 609ms/step - loss: 366.7277 - mae: 13.6653 - mse: 366.7277 - val_loss: 381.4423 - val_mae: 15.6987 - val_mse: 381.4423\n",
            "Epoch 17/100\n",
            "4/4 [==============================] - 2s 616ms/step - loss: 358.2179 - mae: 13.6049 - mse: 358.2179 - val_loss: 392.4032 - val_mae: 15.9041 - val_mse: 392.4032\n",
            "Epoch 18/100\n",
            "4/4 [==============================] - 2s 610ms/step - loss: 349.7636 - mae: 13.4847 - mse: 349.7636 - val_loss: 392.5974 - val_mae: 15.9940 - val_mse: 392.5974\n",
            "Epoch 19/100\n",
            "4/4 [==============================] - 2s 616ms/step - loss: 347.4234 - mae: 13.3997 - mse: 347.4234 - val_loss: 418.2480 - val_mae: 16.3522 - val_mse: 418.2480\n",
            "Epoch 20/100\n",
            "4/4 [==============================] - 2s 603ms/step - loss: 332.1830 - mae: 13.1921 - mse: 332.1830 - val_loss: 395.3026 - val_mae: 16.1135 - val_mse: 395.3026\n",
            "Epoch 21/100\n",
            "4/4 [==============================] - 2s 605ms/step - loss: 327.3386 - mae: 13.2069 - mse: 327.3386 - val_loss: 401.4592 - val_mae: 16.2127 - val_mse: 401.4592\n",
            "Epoch 22/100\n",
            "4/4 [==============================] - 2s 616ms/step - loss: 321.8175 - mae: 13.0311 - mse: 321.8175 - val_loss: 421.8626 - val_mae: 16.4664 - val_mse: 421.8626\n",
            "Epoch 23/100\n",
            "4/4 [==============================] - 2s 612ms/step - loss: 314.5868 - mae: 12.8717 - mse: 314.5868 - val_loss: 412.7826 - val_mae: 16.3954 - val_mse: 412.7826\n",
            "Epoch 24/100\n",
            "4/4 [==============================] - 2s 608ms/step - loss: 316.3339 - mae: 12.7264 - mse: 316.3339 - val_loss: 418.0623 - val_mae: 16.4914 - val_mse: 418.0623\n",
            "Epoch 25/100\n",
            "4/4 [==============================] - 2s 607ms/step - loss: 321.9094 - mae: 13.3006 - mse: 321.9094 - val_loss: 387.4757 - val_mae: 16.4412 - val_mse: 387.4757\n",
            "Epoch 26/100\n",
            "4/4 [==============================] - 2s 604ms/step - loss: 312.0159 - mae: 13.3480 - mse: 312.0159 - val_loss: 445.5534 - val_mae: 16.8404 - val_mse: 445.5534\n",
            "Epoch 27/100\n",
            "4/4 [==============================] - 2s 612ms/step - loss: 293.5700 - mae: 12.5290 - mse: 293.5700 - val_loss: 388.6828 - val_mae: 16.4388 - val_mse: 388.6828\n",
            "Epoch 28/100\n",
            "4/4 [==============================] - 2s 609ms/step - loss: 281.5276 - mae: 12.3090 - mse: 281.5276 - val_loss: 399.2201 - val_mae: 16.3912 - val_mse: 399.2201\n",
            "Epoch 29/100\n",
            "4/4 [==============================] - 2s 610ms/step - loss: 273.4845 - mae: 11.9340 - mse: 273.4845 - val_loss: 404.8658 - val_mae: 16.4812 - val_mse: 404.8658\n",
            "Epoch 30/100\n",
            "4/4 [==============================] - 2s 620ms/step - loss: 269.7680 - mae: 12.0118 - mse: 269.7680 - val_loss: 404.4853 - val_mae: 16.8408 - val_mse: 404.4853\n",
            "Epoch 31/100\n",
            "4/4 [==============================] - 2s 609ms/step - loss: 253.3495 - mae: 11.5880 - mse: 253.3495 - val_loss: 420.2609 - val_mae: 16.7765 - val_mse: 420.2609\n",
            "Epoch 32/100\n",
            "4/4 [==============================] - 2s 621ms/step - loss: 245.6699 - mae: 11.4004 - mse: 245.6699 - val_loss: 417.0335 - val_mae: 17.2854 - val_mse: 417.0335\n",
            "Epoch 33/100\n",
            "4/4 [==============================] - 2s 622ms/step - loss: 239.4614 - mae: 11.3589 - mse: 239.4614 - val_loss: 429.0674 - val_mae: 17.2747 - val_mse: 429.0674\n",
            "Epoch 34/100\n",
            "4/4 [==============================] - 2s 622ms/step - loss: 233.5490 - mae: 10.8558 - mse: 233.5490 - val_loss: 439.7540 - val_mae: 17.7905 - val_mse: 439.7540\n",
            "Epoch 35/100\n",
            "4/4 [==============================] - 2s 624ms/step - loss: 219.1951 - mae: 10.6619 - mse: 219.1951 - val_loss: 466.4566 - val_mae: 18.4849 - val_mse: 466.4566\n",
            "Epoch 36/100\n",
            "4/4 [==============================] - 2s 616ms/step - loss: 209.2725 - mae: 10.4025 - mse: 209.2725 - val_loss: 496.5870 - val_mae: 19.0938 - val_mse: 496.5870\n",
            "Epoch 37/100\n",
            "4/4 [==============================] - 2s 615ms/step - loss: 203.9321 - mae: 10.2253 - mse: 203.9321 - val_loss: 504.2103 - val_mae: 19.2125 - val_mse: 504.2103\n",
            "Epoch 38/100\n",
            "4/4 [==============================] - 2s 614ms/step - loss: 196.2991 - mae: 10.1666 - mse: 196.2991 - val_loss: 537.6266 - val_mae: 19.8143 - val_mse: 537.6266\n",
            "Epoch 39/100\n",
            "4/4 [==============================] - 2s 613ms/step - loss: 184.2385 - mae: 9.7965 - mse: 184.2385 - val_loss: 599.5741 - val_mae: 20.9467 - val_mse: 599.5741\n",
            "Epoch 40/100\n",
            "4/4 [==============================] - 2s 626ms/step - loss: 177.9445 - mae: 9.4433 - mse: 177.9445 - val_loss: 656.1944 - val_mae: 21.9627 - val_mse: 656.1944\n",
            "Epoch 41/100\n",
            "4/4 [==============================] - 2s 612ms/step - loss: 171.6239 - mae: 9.3654 - mse: 171.6239 - val_loss: 637.5655 - val_mae: 21.5060 - val_mse: 637.5655\n",
            "Epoch 42/100\n",
            "4/4 [==============================] - 2s 615ms/step - loss: 162.0350 - mae: 9.1664 - mse: 162.0350 - val_loss: 690.6123 - val_mae: 22.4187 - val_mse: 690.6123\n",
            "Epoch 43/100\n",
            "4/4 [==============================] - 2s 615ms/step - loss: 159.0314 - mae: 8.8758 - mse: 159.0314 - val_loss: 768.5660 - val_mae: 23.8320 - val_mse: 768.5660\n",
            "Epoch 44/100\n",
            "4/4 [==============================] - 2s 624ms/step - loss: 154.7404 - mae: 9.1401 - mse: 154.7404 - val_loss: 735.9446 - val_mae: 23.0687 - val_mse: 735.9446\n",
            "Epoch 45/100\n",
            "4/4 [==============================] - 2s 611ms/step - loss: 149.9915 - mae: 8.6216 - mse: 149.9915 - val_loss: 956.3799 - val_mae: 26.5659 - val_mse: 956.3799\n",
            "Epoch 46/100\n",
            "4/4 [==============================] - 2s 625ms/step - loss: 143.5286 - mae: 8.8508 - mse: 143.5286 - val_loss: 776.7103 - val_mae: 23.6498 - val_mse: 776.7103\n",
            "Epoch 47/100\n",
            "4/4 [==============================] - 2s 621ms/step - loss: 142.8076 - mae: 8.6739 - mse: 142.8076 - val_loss: 945.7731 - val_mae: 26.5886 - val_mse: 945.7731\n",
            "Epoch 48/100\n",
            "4/4 [==============================] - 2s 621ms/step - loss: 142.7182 - mae: 8.9336 - mse: 142.7182 - val_loss: 793.1616 - val_mae: 24.0037 - val_mse: 793.1616\n",
            "Epoch 49/100\n",
            "4/4 [==============================] - 2s 641ms/step - loss: 136.1861 - mae: 8.3179 - mse: 136.1861 - val_loss: 1062.5372 - val_mae: 28.1587 - val_mse: 1062.5372\n",
            "Epoch 50/100\n",
            "4/4 [==============================] - 2s 625ms/step - loss: 127.2370 - mae: 8.2264 - mse: 127.2370 - val_loss: 874.6774 - val_mae: 25.3016 - val_mse: 874.6774\n",
            "Epoch 51/100\n",
            "4/4 [==============================] - 2s 615ms/step - loss: 117.0285 - mae: 7.7533 - mse: 117.0285 - val_loss: 993.6157 - val_mae: 27.2070 - val_mse: 993.6157\n",
            "Epoch 52/100\n",
            "4/4 [==============================] - 2s 621ms/step - loss: 109.2324 - mae: 7.5334 - mse: 109.2324 - val_loss: 866.3900 - val_mae: 25.0983 - val_mse: 866.3900\n",
            "Epoch 53/100\n",
            "4/4 [==============================] - 2s 621ms/step - loss: 120.2817 - mae: 7.9490 - mse: 120.2817 - val_loss: 1144.0378 - val_mae: 29.3641 - val_mse: 1144.0378\n",
            "Epoch 54/100\n",
            "4/4 [==============================] - 2s 617ms/step - loss: 105.6706 - mae: 7.7479 - mse: 105.6706 - val_loss: 922.6660 - val_mae: 25.7855 - val_mse: 922.6660\n",
            "Epoch 55/100\n",
            "4/4 [==============================] - 2s 621ms/step - loss: 108.9916 - mae: 7.8110 - mse: 108.9916 - val_loss: 1162.8774 - val_mae: 29.6178 - val_mse: 1162.8774\n",
            "Epoch 56/100\n",
            "4/4 [==============================] - 2s 618ms/step - loss: 101.8656 - mae: 7.5634 - mse: 101.8656 - val_loss: 942.7238 - val_mae: 26.1022 - val_mse: 942.7238\n",
            "Epoch 57/100\n",
            "4/4 [==============================] - 2s 620ms/step - loss: 104.8728 - mae: 7.4189 - mse: 104.8728 - val_loss: 1077.3037 - val_mae: 28.3477 - val_mse: 1077.3037\n",
            "Epoch 58/100\n",
            "4/4 [==============================] - 2s 624ms/step - loss: 93.8334 - mae: 6.9687 - mse: 93.8334 - val_loss: 1051.0734 - val_mae: 27.9866 - val_mse: 1051.0734\n",
            "Epoch 59/100\n",
            "4/4 [==============================] - 2s 621ms/step - loss: 84.9694 - mae: 6.6235 - mse: 84.9694 - val_loss: 1005.1887 - val_mae: 27.2551 - val_mse: 1005.1887\n",
            "Epoch 60/100\n",
            "4/4 [==============================] - 2s 617ms/step - loss: 82.4339 - mae: 6.4682 - mse: 82.4339 - val_loss: 1037.1616 - val_mae: 27.6386 - val_mse: 1037.1616\n",
            "Epoch 61/100\n",
            "4/4 [==============================] - 2s 608ms/step - loss: 79.1196 - mae: 6.3967 - mse: 79.1196 - val_loss: 1216.1926 - val_mae: 30.3361 - val_mse: 1216.1926\n",
            "Epoch 62/100\n",
            "4/4 [==============================] - 2s 612ms/step - loss: 80.6488 - mae: 6.8253 - mse: 80.6488 - val_loss: 972.7800 - val_mae: 26.4303 - val_mse: 972.7800\n",
            "Epoch 63/100\n",
            "4/4 [==============================] - 2s 613ms/step - loss: 76.3110 - mae: 6.4374 - mse: 76.3110 - val_loss: 1182.3278 - val_mae: 29.8183 - val_mse: 1182.3278\n",
            "Epoch 64/100\n",
            "4/4 [==============================] - 2s 608ms/step - loss: 71.1245 - mae: 6.2938 - mse: 71.1245 - val_loss: 973.2122 - val_mae: 26.4661 - val_mse: 973.2122\n",
            "Epoch 65/100\n",
            "4/4 [==============================] - 2s 620ms/step - loss: 69.7180 - mae: 6.1027 - mse: 69.7180 - val_loss: 1228.1075 - val_mae: 30.4494 - val_mse: 1228.1075\n",
            "Epoch 66/100\n",
            "4/4 [==============================] - 2s 622ms/step - loss: 57.7789 - mae: 5.3677 - mse: 57.7789 - val_loss: 1072.3051 - val_mae: 28.0181 - val_mse: 1072.3051\n",
            "Epoch 67/100\n",
            "4/4 [==============================] - 2s 619ms/step - loss: 68.4695 - mae: 5.6025 - mse: 68.4695 - val_loss: 1108.8195 - val_mae: 28.5362 - val_mse: 1108.8195\n",
            "Epoch 68/100\n",
            "4/4 [==============================] - 2s 607ms/step - loss: 68.8736 - mae: 6.0995 - mse: 68.8736 - val_loss: 1337.3173 - val_mae: 31.8782 - val_mse: 1337.3173\n",
            "Epoch 69/100\n",
            "4/4 [==============================] - 2s 618ms/step - loss: 74.9044 - mae: 6.8120 - mse: 74.9044 - val_loss: 981.9288 - val_mae: 26.3283 - val_mse: 981.9288\n",
            "Epoch 70/100\n",
            "4/4 [==============================] - 2s 623ms/step - loss: 73.7477 - mae: 6.6842 - mse: 73.7477 - val_loss: 1328.9923 - val_mae: 31.7649 - val_mse: 1328.9923\n",
            "Epoch 71/100\n",
            "4/4 [==============================] - 2s 611ms/step - loss: 75.6751 - mae: 6.4962 - mse: 75.6751 - val_loss: 1059.3726 - val_mae: 27.6787 - val_mse: 1059.3726\n",
            "Epoch 72/100\n",
            "4/4 [==============================] - 2s 614ms/step - loss: 51.7695 - mae: 5.3212 - mse: 51.7695 - val_loss: 1462.5590 - val_mae: 33.3458 - val_mse: 1462.5590\n",
            "Epoch 73/100\n",
            "4/4 [==============================] - 2s 628ms/step - loss: 67.1907 - mae: 6.2423 - mse: 67.1907 - val_loss: 996.8181 - val_mae: 26.5411 - val_mse: 996.8181\n",
            "Epoch 74/100\n",
            "4/4 [==============================] - 2s 611ms/step - loss: 61.7349 - mae: 5.6423 - mse: 61.7349 - val_loss: 1201.4758 - val_mae: 29.9487 - val_mse: 1201.4758\n",
            "Epoch 75/100\n",
            "4/4 [==============================] - 2s 630ms/step - loss: 49.8618 - mae: 5.0983 - mse: 49.8618 - val_loss: 1096.3282 - val_mae: 28.2420 - val_mse: 1096.3282\n",
            "Epoch 76/100\n",
            "4/4 [==============================] - 2s 620ms/step - loss: 46.9973 - mae: 4.8545 - mse: 46.9973 - val_loss: 1239.2518 - val_mae: 30.3704 - val_mse: 1239.2518\n",
            "Epoch 77/100\n",
            "4/4 [==============================] - 2s 631ms/step - loss: 45.1002 - mae: 4.7745 - mse: 45.1002 - val_loss: 1280.9752 - val_mae: 30.9468 - val_mse: 1280.9752\n",
            "Epoch 78/100\n",
            "4/4 [==============================] - 2s 628ms/step - loss: 38.4813 - mae: 4.3358 - mse: 38.4813 - val_loss: 1176.7734 - val_mae: 29.4291 - val_mse: 1176.7734\n",
            "Epoch 79/100\n",
            "4/4 [==============================] - 2s 617ms/step - loss: 35.5743 - mae: 4.1940 - mse: 35.5743 - val_loss: 1195.7723 - val_mae: 29.7528 - val_mse: 1195.7723\n",
            "Epoch 80/100\n",
            "4/4 [==============================] - 2s 613ms/step - loss: 31.4416 - mae: 3.7852 - mse: 31.4416 - val_loss: 1171.0267 - val_mae: 29.3104 - val_mse: 1171.0267\n",
            "Epoch 81/100\n",
            "4/4 [==============================] - 2s 617ms/step - loss: 28.9383 - mae: 3.8122 - mse: 28.9383 - val_loss: 1310.2294 - val_mae: 31.2745 - val_mse: 1310.2294\n",
            "Epoch 82/100\n",
            "4/4 [==============================] - 2s 620ms/step - loss: 33.6514 - mae: 4.1439 - mse: 33.6514 - val_loss: 1231.5848 - val_mae: 30.1485 - val_mse: 1231.5848\n",
            "Epoch 83/100\n",
            "4/4 [==============================] - 2s 627ms/step - loss: 27.7729 - mae: 3.8007 - mse: 27.7729 - val_loss: 1240.5864 - val_mae: 30.2753 - val_mse: 1240.5864\n",
            "Epoch 84/100\n",
            "4/4 [==============================] - 2s 626ms/step - loss: 28.6669 - mae: 3.7095 - mse: 28.6669 - val_loss: 1308.6747 - val_mae: 31.2337 - val_mse: 1308.6747\n",
            "Epoch 85/100\n",
            "4/4 [==============================] - 3s 748ms/step - loss: 23.6446 - mae: 3.3105 - mse: 23.6446 - val_loss: 1258.4154 - val_mae: 30.5027 - val_mse: 1258.4154\n",
            "Epoch 86/100\n",
            "4/4 [==============================] - 2s 650ms/step - loss: 21.3258 - mae: 3.0690 - mse: 21.3258 - val_loss: 1264.4183 - val_mae: 30.5557 - val_mse: 1264.4183\n",
            "Epoch 87/100\n",
            "4/4 [==============================] - 2s 637ms/step - loss: 20.8442 - mae: 3.1436 - mse: 20.8442 - val_loss: 1398.5984 - val_mae: 32.4044 - val_mse: 1398.5984\n",
            "Epoch 88/100\n",
            "4/4 [==============================] - 2s 631ms/step - loss: 21.9672 - mae: 3.4086 - mse: 21.9672 - val_loss: 1266.0571 - val_mae: 30.5063 - val_mse: 1266.0571\n",
            "Epoch 89/100\n",
            "4/4 [==============================] - 2s 619ms/step - loss: 21.3066 - mae: 3.2344 - mse: 21.3066 - val_loss: 1281.7936 - val_mae: 30.7233 - val_mse: 1281.7936\n",
            "Epoch 90/100\n",
            "4/4 [==============================] - 2s 620ms/step - loss: 17.8099 - mae: 2.8456 - mse: 17.8099 - val_loss: 1411.6691 - val_mae: 32.5153 - val_mse: 1411.6691\n",
            "Epoch 91/100\n",
            "4/4 [==============================] - 2s 623ms/step - loss: 18.1191 - mae: 2.8400 - mse: 18.1191 - val_loss: 1412.6719 - val_mae: 32.5176 - val_mse: 1412.6719\n",
            "Epoch 92/100\n",
            "4/4 [==============================] - 2s 635ms/step - loss: 18.4038 - mae: 3.1994 - mse: 18.4038 - val_loss: 1278.5763 - val_mae: 30.6603 - val_mse: 1278.5763\n",
            "Epoch 93/100\n",
            "4/4 [==============================] - 2s 616ms/step - loss: 21.0633 - mae: 3.6507 - mse: 21.0633 - val_loss: 1389.7732 - val_mae: 32.2118 - val_mse: 1389.7732\n",
            "Epoch 94/100\n",
            "4/4 [==============================] - 2s 615ms/step - loss: 17.4948 - mae: 3.0250 - mse: 17.4948 - val_loss: 1675.9424 - val_mae: 35.7471 - val_mse: 1675.9424\n",
            "Epoch 95/100\n",
            "4/4 [==============================] - 2s 626ms/step - loss: 26.1977 - mae: 4.1162 - mse: 26.1977 - val_loss: 1363.7778 - val_mae: 31.8824 - val_mse: 1363.7778\n",
            "Epoch 96/100\n",
            "4/4 [==============================] - 2s 621ms/step - loss: 17.3320 - mae: 3.2165 - mse: 17.3320 - val_loss: 1343.7651 - val_mae: 31.6277 - val_mse: 1343.7651\n",
            "Epoch 97/100\n",
            "4/4 [==============================] - 2s 624ms/step - loss: 14.7430 - mae: 2.8568 - mse: 14.7430 - val_loss: 1516.2081 - val_mae: 33.8601 - val_mse: 1516.2081\n",
            "Epoch 98/100\n",
            "4/4 [==============================] - 2s 636ms/step - loss: 12.9716 - mae: 2.6691 - mse: 12.9716 - val_loss: 1403.6997 - val_mae: 32.4182 - val_mse: 1403.6997\n",
            "Epoch 99/100\n",
            "4/4 [==============================] - 2s 637ms/step - loss: 13.2441 - mae: 2.6304 - mse: 13.2441 - val_loss: 1277.9457 - val_mae: 30.6779 - val_mse: 1277.9457\n",
            "Epoch 100/100\n",
            "4/4 [==============================] - 2s 629ms/step - loss: 21.3992 - mae: 3.9367 - mse: 21.3992 - val_loss: 1604.3302 - val_mae: 34.9299 - val_mse: 1604.3302\n"
          ]
        }
      ]
    },
    {
      "cell_type": "markdown",
      "source": [
        "Predictions"
      ],
      "metadata": {
        "id": "uo4koH4XEkiv"
      }
    },
    {
      "cell_type": "code",
      "source": [
        "train_idx[:T+1]=False"
      ],
      "metadata": {
        "id": "-vEh0mmyDqPC"
      },
      "execution_count": 149,
      "outputs": []
    },
    {
      "cell_type": "code",
      "source": [
        "Ptrain_bi_lstm=model_bi_lstm.predict(Xtrain).flatten()\n",
        "Ptest_bi_lstm=model_bi_lstm.predict(Xtest).flatten()"
      ],
      "metadata": {
        "id": "OftAJjIQDqR5"
      },
      "execution_count": 150,
      "outputs": []
    },
    {
      "cell_type": "code",
      "source": [
        "Ptrain_bi_gru=model_bi_gru.predict(Xtrain).flatten()\n",
        "Ptest_bi_gru=model_bi_gru.predict(Xtest).flatten()"
      ],
      "metadata": {
        "id": "LPvgcdw4DqU9"
      },
      "execution_count": 151,
      "outputs": []
    },
    {
      "cell_type": "code",
      "source": [
        "df.loc[train_idx,'Diff Bi-LSTM train prediction']=Ptrain_bi_lstm\n",
        "df.loc[test_idx,'Diff bi-LSTM test prediction']=Ptest_bi_lstm"
      ],
      "metadata": {
        "id": "D1MjWqICDqX4"
      },
      "execution_count": 152,
      "outputs": []
    },
    {
      "cell_type": "code",
      "source": [
        "df.loc[train_idx,'Diff Bi-GRU train prediction']=Ptrain_bi_gru\n",
        "df.loc[test_idx,'Diff BiGRU test prediction']=Ptest_bi_gru"
      ],
      "metadata": {
        "id": "JGyHZQpeDqbP"
      },
      "execution_count": 153,
      "outputs": []
    },
    {
      "cell_type": "code",
      "source": [
        "df['Shift Prev Close']=df['Prev Close'].shift(1)\n",
        "prev=df['Shift Prev Close']"
      ],
      "metadata": {
        "id": "o41wY4YSDqdr"
      },
      "execution_count": 154,
      "outputs": []
    },
    {
      "cell_type": "code",
      "source": [
        "last_train=train.iloc[-1]['Prev Close']"
      ],
      "metadata": {
        "id": "ieSjZEI4Dqgo"
      },
      "execution_count": 155,
      "outputs": []
    },
    {
      "cell_type": "code",
      "source": [
        "df.loc[train_idx,'train_Bi_LSTM']=prev[train_idx]+Ptrain_bi_lstm\n",
        "df.loc[test_idx,'Prediction_Bi_LSTM']=prev[test_idx]+Ptest_bi_lstm"
      ],
      "metadata": {
        "id": "iXAmOWl-Dqjf"
      },
      "execution_count": 156,
      "outputs": []
    },
    {
      "cell_type": "code",
      "source": [
        "df.loc[train_idx,'train_Bi_GRU']=prev[train_idx]+Ptrain_bi_gru\n",
        "df.loc[test_idx,'Prediction_Bi_GRU']=prev[test_idx]+Ptest_bi_gru"
      ],
      "metadata": {
        "id": "zPuzleJlDqma"
      },
      "execution_count": 157,
      "outputs": []
    },
    {
      "cell_type": "code",
      "source": [
        "df[[ 'Prev Close','Prediction_Bi_LSTM','Prediction_Bi_GRU']].plot(figsize=(15,10));"
      ],
      "metadata": {
        "colab": {
          "base_uri": "https://localhost:8080/",
          "height": 422
        },
        "id": "lnfbHo3KDqpO",
        "outputId": "be12c4e7-6355-4ea6-9773-d0dca42f8774"
      },
      "execution_count": 158,
      "outputs": [
        {
          "output_type": "display_data",
          "data": {
            "text/plain": [
              "<Figure size 1080x720 with 1 Axes>"
            ],
            "image/png": "[encoded data removed]"
          },
          "metadata": {
            "needs_background": "light"
          }
        }
      ]
    },
    {
      "cell_type": "code",
      "source": [
        "df[[ 'Prediction_Bi_LSTM','Prediction_Bi_GRU']].plot(figsize=(15,10));"
      ],
      "metadata": {
        "colab": {
          "base_uri": "https://localhost:8080/",
          "height": 428
        },
        "id": "riQ3YykBDqsG",
        "outputId": "c2351e71-cbc0-4c87-f454-63710d31c8fa"
      },
      "execution_count": 159,
      "outputs": [
        {
          "output_type": "display_data",
          "data": {
            "text/plain": [
              "<Figure size 1080x720 with 1 Axes>"
            ],
            "image/png": "[encoded data removed]"
          },
          "metadata": {
            "needs_background": "light"
          }
        }
      ]
    },
    {
      "cell_type": "markdown",
      "source": [
        "Evaluation"
      ],
      "metadata": {
        "id": "0o_3yUJvF-FW"
      }
    },
    {
      "cell_type": "code",
      "source": [
        "pred_bi_lstm=df['Prediction_Bi_LSTM']\n",
        "pred_bi_lstm.dropna(inplace=True)"
      ],
      "metadata": {
        "id": "vonBmF2b7t6q"
      },
      "execution_count": 160,
      "outputs": []
    },
    {
      "cell_type": "code",
      "source": [
        "rmse=math.sqrt(mean_squared_error(test['Prev Close'],pred_bi_lstm))\n",
        "print(rmse)"
      ],
      "metadata": {
        "colab": {
          "base_uri": "https://localhost:8080/"
        },
        "id": "sPUaq6UiGCRI",
        "outputId": "c17deab5-e50c-4a56-db61-3b298bfc0ea5"
      },
      "execution_count": 161,
      "outputs": [
        {
          "output_type": "stream",
          "name": "stdout",
          "text": [
            "30.478694651014564\n"
          ]
        }
      ]
    },
    {
      "cell_type": "code",
      "source": [
        "error=mean_absolute_error(test['Prev Close'],pred_bi_lstm)\n",
        "print(error)"
      ],
      "metadata": {
        "colab": {
          "base_uri": "https://localhost:8080/"
        },
        "id": "kQMcHGVCGCUL",
        "outputId": "6fd4217b-28a6-410d-8ad2-ad77085fc7f3"
      },
      "execution_count": 162,
      "outputs": [
        {
          "output_type": "stream",
          "name": "stdout",
          "text": [
            "25.55262530146042\n"
          ]
        }
      ]
    },
    {
      "cell_type": "code",
      "source": [
        "r2_score(test['Prev Close'],pred_bi_lstm)"
      ],
      "metadata": {
        "colab": {
          "base_uri": "https://localhost:8080/"
        },
        "id": "lyLslWMAGCXT",
        "outputId": "cf94f687-e798-42c1-d707-cb186a5b57a1"
      },
      "execution_count": 163,
      "outputs": [
        {
          "output_type": "execute_result",
          "data": {
            "text/plain": [
              "0.7905914332135444"
            ]
          },
          "metadata": {},
          "execution_count": 163
        }
      ]
    },
    {
      "cell_type": "code",
      "source": [
        "pred_bi_gru=df['Prediction_Bi_GRU']\n",
        "pred_bi_gru.dropna(inplace=True)"
      ],
      "metadata": {
        "id": "wa7wnr9TGC2J"
      },
      "execution_count": 164,
      "outputs": []
    },
    {
      "cell_type": "code",
      "source": [
        "rmse=math.sqrt(mean_squared_error(test['Prev Close'],pred_bi_gru))\n",
        "print(rmse)"
      ],
      "metadata": {
        "colab": {
          "base_uri": "https://localhost:8080/"
        },
        "id": "EkKg0wGaGC-e",
        "outputId": "732f1cd4-5a11-4a1b-bb4f-caf2513ca8f1"
      },
      "execution_count": 165,
      "outputs": [
        {
          "output_type": "stream",
          "name": "stdout",
          "text": [
            "40.054093028638995\n"
          ]
        }
      ]
    },
    {
      "cell_type": "code",
      "source": [
        "error=mean_absolute_error(test['Prev Close'],pred_bi_gru)\n",
        "print(error)"
      ],
      "metadata": {
        "colab": {
          "base_uri": "https://localhost:8080/"
        },
        "id": "BQL76rMvGDGT",
        "outputId": "904c2033-262e-452a-dd21-60e817e4a618"
      },
      "execution_count": 166,
      "outputs": [
        {
          "output_type": "stream",
          "name": "stdout",
          "text": [
            "34.92993478711446\n"
          ]
        }
      ]
    },
    {
      "cell_type": "code",
      "source": [
        "r2_score(test['Prev Close'],pred_bi_gru)"
      ],
      "metadata": {
        "colab": {
          "base_uri": "https://localhost:8080/"
        },
        "id": "GMZqO2_yGDO_",
        "outputId": "7d225f08-1b13-4f15-ea84-756d5d5bfe3e"
      },
      "execution_count": 167,
      "outputs": [
        {
          "output_type": "execute_result",
          "data": {
            "text/plain": [
              "0.6383441264111832"
            ]
          },
          "metadata": {},
          "execution_count": 167
        }
      ]
    },
    {
      "cell_type": "code",
      "source": [],
      "metadata": {
        "id": "PIN91mEuGizf"
      },
      "execution_count": 167,
      "outputs": []
    }
  ]
}