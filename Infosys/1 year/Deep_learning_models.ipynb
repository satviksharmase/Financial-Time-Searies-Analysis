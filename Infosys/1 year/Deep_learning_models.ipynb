{
  "nbformat": 4,
  "nbformat_minor": 0,
  "metadata": {
    "colab": {
      "provenance": []
    },
    "kernelspec": {
      "name": "python3",
      "display_name": "Python 3"
    },
    "language_info": {
      "name": "python"
    }
  },
  "cells": [
    {
      "cell_type": "code",
      "execution_count": 95,
      "metadata": {
        "id": "rRzK__2FbGio"
      },
      "outputs": [],
      "source": [
        "import numpy as np\n",
        "import matplotlib.pyplot as plt\n",
        "import pandas as pd\n",
        "\n",
        "import tensorflow as tf\n",
        "from tensorflow.keras.layers import Dense, Input\n",
        "from tensorflow.keras.models import Model\n",
        "from tensorflow.keras.layers import LSTM\n",
        "from tensorflow.keras.layers import GRU\n",
        "from tensorflow.keras.layers import GlobalMaxPooling1D\n",
        "from tensorflow.keras.layers import Conv1D, MaxPooling1D\n",
        "from tensorflow.keras.callbacks import ModelCheckpoint\n",
        "\n",
        "import math\n",
        "\n",
        "from sklearn.metrics import r2_score\n",
        "from sklearn.metrics import mean_absolute_error\n",
        "from sklearn.metrics import mean_squared_error\n",
        "\n",
        "np.random.seed(123)\n",
        "tf.random.set_seed(123)"
      ]
    },
    {
      "cell_type": "code",
      "source": [
        "df=pd.read_csv('./INFY.csv',index_col='Date',parse_dates=True)"
      ],
      "metadata": {
        "id": "AE6wbl9LcLFx"
      },
      "execution_count": 96,
      "outputs": []
    },
    {
      "cell_type": "markdown",
      "source": [
        "Data Pre processing\n"
      ],
      "metadata": {
        "id": "L8XudG86eRhq"
      }
    },
    {
      "cell_type": "code",
      "source": [
        "df"
      ],
      "metadata": {
        "colab": {
          "base_uri": "https://localhost:8080/",
          "height": 710
        },
        "id": "FUFxX_tUcmfi",
        "outputId": "80b3e082-d043-43c2-9869-53a87d89c55d"
      },
      "execution_count": 97,
      "outputs": [
        {
          "output_type": "execute_result",
          "data": {
            "text/plain": [
              "                Symbol Series  Prev Close      Open      High       Low  \\\n",
              "Date                                                                      \n",
              "2000-01-03  INFOSYSTCH     EQ    14467.75  15625.00  15625.20  15625.00   \n",
              "2000-01-04  INFOSYSTCH     EQ    15625.20  16800.00  16875.25  16253.00   \n",
              "2000-01-05  INFOSYSTCH     EQ    16855.90  15701.00  16250.00  15507.45   \n",
              "2000-01-06  INFOSYSTCH     EQ    15507.45  15256.65  15300.00  14266.85   \n",
              "2000-01-07  INFOSYSTCH     EQ    14266.85  13125.50  13125.50  13125.50   \n",
              "...                ...    ...         ...       ...       ...       ...   \n",
              "2021-04-26        INFY     EQ     1333.80   1332.25   1351.30   1321.00   \n",
              "2021-04-27        INFY     EQ     1343.55   1346.00   1353.00   1340.15   \n",
              "2021-04-28        INFY     EQ     1348.50   1358.00   1359.50   1344.60   \n",
              "2021-04-29        INFY     EQ     1356.00   1368.00   1369.00   1351.40   \n",
              "2021-04-30        INFY     EQ     1356.35   1346.30   1373.90   1345.90   \n",
              "\n",
              "                Last     Close      VWAP   Volume      Turnover    Trades  \\\n",
              "Date                                                                        \n",
              "2000-01-03  15625.20  15625.20  15625.18     5137  8.026657e+12       NaN   \n",
              "2000-01-04  16875.25  16855.90  16646.38    56186  9.352937e+13       NaN   \n",
              "2000-01-05  15507.45  15507.45  15786.38   164605  2.598516e+14       NaN   \n",
              "2000-01-06  14266.85  14266.85  14462.82    81997  1.185908e+14       NaN   \n",
              "2000-01-07  13125.50  13125.50  13125.50     7589  9.960942e+12       NaN   \n",
              "...              ...       ...       ...      ...           ...       ...   \n",
              "2021-04-26   1345.00   1343.55   1343.19  7088606  9.521361e+14  130375.0   \n",
              "2021-04-27   1347.50   1348.50   1346.89  3636115  4.897445e+14  145974.0   \n",
              "2021-04-28   1355.80   1356.00   1353.45  4879234  6.603778e+14  137376.0   \n",
              "2021-04-29   1356.00   1356.35   1360.05  5412357  7.361090e+14  119277.0   \n",
              "2021-04-30   1348.60   1354.35   1361.16  8354677  1.137203e+15  131718.0   \n",
              "\n",
              "            Deliverable Volume  %Deliverble  \n",
              "Date                                         \n",
              "2000-01-03                 NaN          NaN  \n",
              "2000-01-04                 NaN          NaN  \n",
              "2000-01-05                 NaN          NaN  \n",
              "2000-01-06                 NaN          NaN  \n",
              "2000-01-07                 NaN          NaN  \n",
              "...                        ...          ...  \n",
              "2021-04-26           4218129.0       0.5951  \n",
              "2021-04-27           1871084.0       0.5146  \n",
              "2021-04-28           2857134.0       0.5856  \n",
              "2021-04-29           3130945.0       0.5785  \n",
              "2021-04-30           5408113.0       0.6473  \n",
              "\n",
              "[5306 rows x 14 columns]"
            ],
            "text/html": [
              "\n",
              "  <div id=\"df-cc19e412-06f3-47a5-b492-76c088cea678\">\n",
              "    <div class=\"colab-df-container\">\n",
              "      <div>\n",
              "<style scoped>\n",
              "    .dataframe tbody tr th:only-of-type {\n",
              "        vertical-align: middle;\n",
              "    }\n",
              "\n",
              "    .dataframe tbody tr th {\n",
              "        vertical-align: top;\n",
              "    }\n",
              "\n",
              "    .dataframe thead th {\n",
              "        text-align: right;\n",
              "    }\n",
              "</style>\n",
              "<table border=\"1\" class=\"dataframe\">\n",
              "  <thead>\n",
              "    <tr style=\"text-align: right;\">\n",
              "      <th></th>\n",
              "      <th>Symbol</th>\n",
              "      <th>Series</th>\n",
              "      <th>Prev Close</th>\n",
              "      <th>Open</th>\n",
              "      <th>High</th>\n",
              "      <th>Low</th>\n",
              "      <th>Last</th>\n",
              "      <th>Close</th>\n",
              "      <th>VWAP</th>\n",
              "      <th>Volume</th>\n",
              "      <th>Turnover</th>\n",
              "      <th>Trades</th>\n",
              "      <th>Deliverable Volume</th>\n",
              "      <th>%Deliverble</th>\n",
              "    </tr>\n",
              "    <tr>\n",
              "      <th>Date</th>\n",
              "      <th></th>\n",
              "      <th></th>\n",
              "      <th></th>\n",
              "      <th></th>\n",
              "      <th></th>\n",
              "      <th></th>\n",
              "      <th></th>\n",
              "      <th></th>\n",
              "      <th></th>\n",
              "      <th></th>\n",
              "      <th></th>\n",
              "      <th></th>\n",
              "      <th></th>\n",
              "      <th></th>\n",
              "    </tr>\n",
              "  </thead>\n",
              "  <tbody>\n",
              "    <tr>\n",
              "      <th>2000-01-03</th>\n",
              "      <td>INFOSYSTCH</td>\n",
              "      <td>EQ</td>\n",
              "      <td>14467.75</td>\n",
              "      <td>15625.00</td>\n",
              "      <td>15625.20</td>\n",
              "      <td>15625.00</td>\n",
              "      <td>15625.20</td>\n",
              "      <td>15625.20</td>\n",
              "      <td>15625.18</td>\n",
              "      <td>5137</td>\n",
              "      <td>8.026657e+12</td>\n",
              "      <td>NaN</td>\n",
              "      <td>NaN</td>\n",
              "      <td>NaN</td>\n",
              "    </tr>\n",
              "    <tr>\n",
              "      <th>2000-01-04</th>\n",
              "      <td>INFOSYSTCH</td>\n",
              "      <td>EQ</td>\n",
              "      <td>15625.20</td>\n",
              "      <td>16800.00</td>\n",
              "      <td>16875.25</td>\n",
              "      <td>16253.00</td>\n",
              "      <td>16875.25</td>\n",
              "      <td>16855.90</td>\n",
              "      <td>16646.38</td>\n",
              "      <td>56186</td>\n",
              "      <td>9.352937e+13</td>\n",
              "      <td>NaN</td>\n",
              "      <td>NaN</td>\n",
              "      <td>NaN</td>\n",
              "    </tr>\n",
              "    <tr>\n",
              "      <th>2000-01-05</th>\n",
              "      <td>INFOSYSTCH</td>\n",
              "      <td>EQ</td>\n",
              "      <td>16855.90</td>\n",
              "      <td>15701.00</td>\n",
              "      <td>16250.00</td>\n",
              "      <td>15507.45</td>\n",
              "      <td>15507.45</td>\n",
              "      <td>15507.45</td>\n",
              "      <td>15786.38</td>\n",
              "      <td>164605</td>\n",
              "      <td>2.598516e+14</td>\n",
              "      <td>NaN</td>\n",
              "      <td>NaN</td>\n",
              "      <td>NaN</td>\n",
              "    </tr>\n",
              "    <tr>\n",
              "      <th>2000-01-06</th>\n",
              "      <td>INFOSYSTCH</td>\n",
              "      <td>EQ</td>\n",
              "      <td>15507.45</td>\n",
              "      <td>15256.65</td>\n",
              "      <td>15300.00</td>\n",
              "      <td>14266.85</td>\n",
              "      <td>14266.85</td>\n",
              "      <td>14266.85</td>\n",
              "      <td>14462.82</td>\n",
              "      <td>81997</td>\n",
              "      <td>1.185908e+14</td>\n",
              "      <td>NaN</td>\n",
              "      <td>NaN</td>\n",
              "      <td>NaN</td>\n",
              "    </tr>\n",
              "    <tr>\n",
              "      <th>2000-01-07</th>\n",
              "      <td>INFOSYSTCH</td>\n",
              "      <td>EQ</td>\n",
              "      <td>14266.85</td>\n",
              "      <td>13125.50</td>\n",
              "      <td>13125.50</td>\n",
              "      <td>13125.50</td>\n",
              "      <td>13125.50</td>\n",
              "      <td>13125.50</td>\n",
              "      <td>13125.50</td>\n",
              "      <td>7589</td>\n",
              "      <td>9.960942e+12</td>\n",
              "      <td>NaN</td>\n",
              "      <td>NaN</td>\n",
              "      <td>NaN</td>\n",
              "    </tr>\n",
              "    <tr>\n",
              "      <th>...</th>\n",
              "      <td>...</td>\n",
              "      <td>...</td>\n",
              "      <td>...</td>\n",
              "      <td>...</td>\n",
              "      <td>...</td>\n",
              "      <td>...</td>\n",
              "      <td>...</td>\n",
              "      <td>...</td>\n",
              "      <td>...</td>\n",
              "      <td>...</td>\n",
              "      <td>...</td>\n",
              "      <td>...</td>\n",
              "      <td>...</td>\n",
              "      <td>...</td>\n",
              "    </tr>\n",
              "    <tr>\n",
              "      <th>2021-04-26</th>\n",
              "      <td>INFY</td>\n",
              "      <td>EQ</td>\n",
              "      <td>1333.80</td>\n",
              "      <td>1332.25</td>\n",
              "      <td>1351.30</td>\n",
              "      <td>1321.00</td>\n",
              "      <td>1345.00</td>\n",
              "      <td>1343.55</td>\n",
              "      <td>1343.19</td>\n",
              "      <td>7088606</td>\n",
              "      <td>9.521361e+14</td>\n",
              "      <td>130375.0</td>\n",
              "      <td>4218129.0</td>\n",
              "      <td>0.5951</td>\n",
              "    </tr>\n",
              "    <tr>\n",
              "      <th>2021-04-27</th>\n",
              "      <td>INFY</td>\n",
              "      <td>EQ</td>\n",
              "      <td>1343.55</td>\n",
              "      <td>1346.00</td>\n",
              "      <td>1353.00</td>\n",
              "      <td>1340.15</td>\n",
              "      <td>1347.50</td>\n",
              "      <td>1348.50</td>\n",
              "      <td>1346.89</td>\n",
              "      <td>3636115</td>\n",
              "      <td>4.897445e+14</td>\n",
              "      <td>145974.0</td>\n",
              "      <td>1871084.0</td>\n",
              "      <td>0.5146</td>\n",
              "    </tr>\n",
              "    <tr>\n",
              "      <th>2021-04-28</th>\n",
              "      <td>INFY</td>\n",
              "      <td>EQ</td>\n",
              "      <td>1348.50</td>\n",
              "      <td>1358.00</td>\n",
              "      <td>1359.50</td>\n",
              "      <td>1344.60</td>\n",
              "      <td>1355.80</td>\n",
              "      <td>1356.00</td>\n",
              "      <td>1353.45</td>\n",
              "      <td>4879234</td>\n",
              "      <td>6.603778e+14</td>\n",
              "      <td>137376.0</td>\n",
              "      <td>2857134.0</td>\n",
              "      <td>0.5856</td>\n",
              "    </tr>\n",
              "    <tr>\n",
              "      <th>2021-04-29</th>\n",
              "      <td>INFY</td>\n",
              "      <td>EQ</td>\n",
              "      <td>1356.00</td>\n",
              "      <td>1368.00</td>\n",
              "      <td>1369.00</td>\n",
              "      <td>1351.40</td>\n",
              "      <td>1356.00</td>\n",
              "      <td>1356.35</td>\n",
              "      <td>1360.05</td>\n",
              "      <td>5412357</td>\n",
              "      <td>7.361090e+14</td>\n",
              "      <td>119277.0</td>\n",
              "      <td>3130945.0</td>\n",
              "      <td>0.5785</td>\n",
              "    </tr>\n",
              "    <tr>\n",
              "      <th>2021-04-30</th>\n",
              "      <td>INFY</td>\n",
              "      <td>EQ</td>\n",
              "      <td>1356.35</td>\n",
              "      <td>1346.30</td>\n",
              "      <td>1373.90</td>\n",
              "      <td>1345.90</td>\n",
              "      <td>1348.60</td>\n",
              "      <td>1354.35</td>\n",
              "      <td>1361.16</td>\n",
              "      <td>8354677</td>\n",
              "      <td>1.137203e+15</td>\n",
              "      <td>131718.0</td>\n",
              "      <td>5408113.0</td>\n",
              "      <td>0.6473</td>\n",
              "    </tr>\n",
              "  </tbody>\n",
              "</table>\n",
              "<p>5306 rows × 14 columns</p>\n",
              "</div>\n",
              "      <button class=\"colab-df-convert\" onclick=\"convertToInteractive('df-cc19e412-06f3-47a5-b492-76c088cea678')\"\n",
              "              title=\"Convert this dataframe to an interactive table.\"\n",
              "              style=\"display:none;\">\n",
              "        \n",
              "  <svg xmlns=\"http://www.w3.org/2000/svg\" height=\"24px\"viewBox=\"0 0 24 24\"\n",
              "       width=\"24px\">\n",
              "    <path d=\"M0 0h24v24H0V0z\" fill=\"none\"/>\n",
              "    <path d=\"M18.56 5.44l.94 2.06.94-2.06 2.06-.94-2.06-.94-.94-2.06-.94 2.06-2.06.94zm-11 1L8.5 8.5l.94-2.06 2.06-.94-2.06-.94L8.5 2.5l-.94 2.06-2.06.94zm10 10l.94 2.06.94-2.06 2.06-.94-2.06-.94-.94-2.06-.94 2.06-2.06.94z\"/><path d=\"M17.41 7.96l-1.37-1.37c-.4-.4-.92-.59-1.43-.59-.52 0-1.04.2-1.43.59L10.3 9.45l-7.72 7.72c-.78.78-.78 2.05 0 2.83L4 21.41c.39.39.9.59 1.41.59.51 0 1.02-.2 1.41-.59l7.78-7.78 2.81-2.81c.8-.78.8-2.07 0-2.86zM5.41 20L4 18.59l7.72-7.72 1.47 1.35L5.41 20z\"/>\n",
              "  </svg>\n",
              "      </button>\n",
              "      \n",
              "  <style>\n",
              "    .colab-df-container {\n",
              "      display:flex;\n",
              "      flex-wrap:wrap;\n",
              "      gap: 12px;\n",
              "    }\n",
              "\n",
              "    .colab-df-convert {\n",
              "      background-color: #E8F0FE;\n",
              "      border: none;\n",
              "      border-radius: 50%;\n",
              "      cursor: pointer;\n",
              "      display: none;\n",
              "      fill: #1967D2;\n",
              "      height: 32px;\n",
              "      padding: 0 0 0 0;\n",
              "      width: 32px;\n",
              "    }\n",
              "\n",
              "    .colab-df-convert:hover {\n",
              "      background-color: #E2EBFA;\n",
              "      box-shadow: 0px 1px 2px rgba(60, 64, 67, 0.3), 0px 1px 3px 1px rgba(60, 64, 67, 0.15);\n",
              "      fill: #174EA6;\n",
              "    }\n",
              "\n",
              "    [theme=dark] .colab-df-convert {\n",
              "      background-color: #3B4455;\n",
              "      fill: #D2E3FC;\n",
              "    }\n",
              "\n",
              "    [theme=dark] .colab-df-convert:hover {\n",
              "      background-color: #434B5C;\n",
              "      box-shadow: 0px 1px 3px 1px rgba(0, 0, 0, 0.15);\n",
              "      filter: drop-shadow(0px 1px 2px rgba(0, 0, 0, 0.3));\n",
              "      fill: #FFFFFF;\n",
              "    }\n",
              "  </style>\n",
              "\n",
              "      <script>\n",
              "        const buttonEl =\n",
              "          document.querySelector('#df-cc19e412-06f3-47a5-b492-76c088cea678 button.colab-df-convert');\n",
              "        buttonEl.style.display =\n",
              "          google.colab.kernel.accessAllowed ? 'block' : 'none';\n",
              "\n",
              "        async function convertToInteractive(key) {\n",
              "          const element = document.querySelector('#df-cc19e412-06f3-47a5-b492-76c088cea678');\n",
              "          const dataTable =\n",
              "            await google.colab.kernel.invokeFunction('convertToInteractive',\n",
              "                                                     [key], {});\n",
              "          if (!dataTable) return;\n",
              "\n",
              "          const docLinkHtml = 'Like what you see? Visit the ' +\n",
              "            '<a target=\"_blank\" href=https://colab.research.google.com/notebooks/data_table.ipynb>data table notebook</a>'\n",
              "            + ' to learn more about interactive tables.';\n",
              "          element.innerHTML = '';\n",
              "          dataTable['output_type'] = 'display_data';\n",
              "          await google.colab.output.renderOutput(dataTable, element);\n",
              "          const docLink = document.createElement('div');\n",
              "          docLink.innerHTML = docLinkHtml;\n",
              "          element.appendChild(docLink);\n",
              "        }\n",
              "      </script>\n",
              "    </div>\n",
              "  </div>\n",
              "  "
            ]
          },
          "metadata": {},
          "execution_count": 97
        }
      ]
    },
    {
      "cell_type": "code",
      "source": [
        "df['Date']=df.index"
      ],
      "metadata": {
        "id": "E7X-jyItcm8U"
      },
      "execution_count": 98,
      "outputs": []
    },
    {
      "cell_type": "code",
      "source": [
        "start_date='2020-01-01'\n",
        "end_date='2020-12-31'\n",
        "mask=(df['Date']>=start_date)&(df['Date']<=end_date)"
      ],
      "metadata": {
        "id": "A9eSrJ1Dcot3"
      },
      "execution_count": 99,
      "outputs": []
    },
    {
      "cell_type": "code",
      "source": [
        "df=df.loc[mask]"
      ],
      "metadata": {
        "id": "_Pfuk7zicqIx"
      },
      "execution_count": 100,
      "outputs": []
    },
    {
      "cell_type": "code",
      "source": [
        "df=df.loc[mask]"
      ],
      "metadata": {
        "id": "MsTtlYUncrcn"
      },
      "execution_count": 101,
      "outputs": []
    },
    {
      "cell_type": "code",
      "source": [
        "df=df.drop(columns=['Series','Symbol','Open','High','Low','Last','Close','VWAP','Volume','Turnover','Trades','Deliverable Volume','%Deliverble','Date'])"
      ],
      "metadata": {
        "id": "aV7QwBEDcvq2"
      },
      "execution_count": 102,
      "outputs": []
    },
    {
      "cell_type": "code",
      "source": [
        "Ntest=math.trunc(0.3*len(df))\n",
        "train=df.iloc[:-Ntest]\n",
        "test=df.iloc[-Ntest:]"
      ],
      "metadata": {
        "id": "cUuhMhL0c1qi"
      },
      "execution_count": 103,
      "outputs": []
    },
    {
      "cell_type": "code",
      "source": [
        "train_idx=df.index<=train.index[-1]\n",
        "test_idx=df.index>train.index[-1]"
      ],
      "metadata": {
        "id": "YFtIIrsqc3ch"
      },
      "execution_count": 104,
      "outputs": []
    },
    {
      "cell_type": "code",
      "source": [
        "df['Diff Prev Close']=df['Prev Close'].diff()"
      ],
      "metadata": {
        "id": "zh1z6dQDc6KA"
      },
      "execution_count": 105,
      "outputs": []
    },
    {
      "cell_type": "code",
      "source": [
        "series=df['Diff Prev Close'].dropna().to_numpy()\n",
        "\n",
        "T=50\n",
        "X=[]\n",
        "Y=[]\n",
        "for t in range(len(series)-T):\n",
        "  x=series[t:t+T]\n",
        "  X.append(x)\n",
        "  y=series[t+T]\n",
        "  Y.append(y)\n",
        "\n",
        "X=np.array(X).reshape(-1,T)\n",
        "Y=np.array(Y)\n",
        "N=len(X)\n",
        "print(\"X.shape\",X.shape,\"Y.shape\",Y.shape)"
      ],
      "metadata": {
        "colab": {
          "base_uri": "https://localhost:8080/",
          "height": 0
        },
        "id": "GH9c1VIMdLvZ",
        "outputId": "97b180c6-8603-43b4-cc7d-52f4b4daa328"
      },
      "execution_count": 106,
      "outputs": [
        {
          "output_type": "stream",
          "name": "stdout",
          "text": [
            "X.shape (201, 50) Y.shape (201,)\n"
          ]
        }
      ]
    },
    {
      "cell_type": "code",
      "source": [
        "Xtrain,Ytrain=X[:-Ntest],Y[:-Ntest]\n",
        "Xtest,Ytest=X[-Ntest:],Y[-Ntest:]"
      ],
      "metadata": {
        "id": "AyyCdgD1dQeH"
      },
      "execution_count": 107,
      "outputs": []
    },
    {
      "cell_type": "markdown",
      "source": [
        "ANN"
      ],
      "metadata": {
        "id": "P4csTdPeeavE"
      }
    },
    {
      "cell_type": "code",
      "source": [
        "i=Input(shape=(T,))\n",
        "x=Dense(400,activation='relu')(i)\n",
        "x=Dense(100,activation='relu')(x)\n",
        "x=Dense(50,activation='relu')(x)\n",
        "x=Dense(1,activation='relu')(x)\n",
        "model_ann=Model(i,x)\n",
        "model_ann.summary()"
      ],
      "metadata": {
        "colab": {
          "base_uri": "https://localhost:8080/",
          "height": 0
        },
        "id": "cEHrg-sQdSpS",
        "outputId": "5c3ef2c6-4714-4e32-cd1b-e66919d96395"
      },
      "execution_count": 108,
      "outputs": [
        {
          "output_type": "stream",
          "name": "stdout",
          "text": [
            "Model: \"model_6\"\n",
            "_________________________________________________________________\n",
            " Layer (type)                Output Shape              Param #   \n",
            "=================================================================\n",
            " input_8 (InputLayer)        [(None, 50)]              0         \n",
            "                                                                 \n",
            " dense_14 (Dense)            (None, 400)               20400     \n",
            "                                                                 \n",
            " dense_15 (Dense)            (None, 100)               40100     \n",
            "                                                                 \n",
            " dense_16 (Dense)            (None, 50)                5050      \n",
            "                                                                 \n",
            " dense_17 (Dense)            (None, 1)                 51        \n",
            "                                                                 \n",
            "=================================================================\n",
            "Total params: 65,601\n",
            "Trainable params: 65,601\n",
            "Non-trainable params: 0\n",
            "_________________________________________________________________\n"
          ]
        }
      ]
    },
    {
      "cell_type": "code",
      "source": [
        "model_ann.compile(\n",
        "    loss='mse',\n",
        "    optimizer='adamax',\n",
        "    metrics='mae'\n",
        ")"
      ],
      "metadata": {
        "id": "GSjK1FukdUVe"
      },
      "execution_count": 109,
      "outputs": []
    },
    {
      "cell_type": "code",
      "source": [
        "r=model_ann.fit(\n",
        "    Xtrain,\n",
        "    Ytrain,\n",
        "    epochs=100,\n",
        "    validation_data=(Xtest,Ytest)\n",
        ")"
      ],
      "metadata": {
        "colab": {
          "base_uri": "https://localhost:8080/",
          "height": 0
        },
        "id": "bp97xaLkdXKe",
        "outputId": "24cd40c0-4e85-4025-893e-6c4efaf996a8"
      },
      "execution_count": 110,
      "outputs": [
        {
          "output_type": "stream",
          "name": "stdout",
          "text": [
            "Epoch 1/100\n",
            "4/4 [==============================] - 1s 55ms/step - loss: 443.6341 - mae: 15.1568 - val_loss: 351.6618 - val_mae: 15.0829\n",
            "Epoch 2/100\n",
            "4/4 [==============================] - 0s 14ms/step - loss: 391.2584 - mae: 13.7856 - val_loss: 356.9168 - val_mae: 15.2816\n",
            "Epoch 3/100\n",
            "4/4 [==============================] - 0s 11ms/step - loss: 365.8217 - mae: 13.1775 - val_loss: 364.9426 - val_mae: 15.5142\n",
            "Epoch 4/100\n",
            "4/4 [==============================] - 0s 18ms/step - loss: 347.6458 - mae: 13.2021 - val_loss: 369.0037 - val_mae: 15.5932\n",
            "Epoch 5/100\n",
            "4/4 [==============================] - 0s 12ms/step - loss: 330.1662 - mae: 12.3933 - val_loss: 367.3170 - val_mae: 15.5067\n",
            "Epoch 6/100\n",
            "4/4 [==============================] - 0s 11ms/step - loss: 318.4467 - mae: 11.8612 - val_loss: 368.0585 - val_mae: 15.5095\n",
            "Epoch 7/100\n",
            "4/4 [==============================] - 0s 21ms/step - loss: 308.2104 - mae: 11.4706 - val_loss: 374.5282 - val_mae: 15.6596\n",
            "Epoch 8/100\n",
            "4/4 [==============================] - 0s 17ms/step - loss: 304.5269 - mae: 11.3294 - val_loss: 381.3997 - val_mae: 15.8498\n",
            "Epoch 9/100\n",
            "4/4 [==============================] - 0s 12ms/step - loss: 296.5951 - mae: 11.0295 - val_loss: 376.4685 - val_mae: 15.7240\n",
            "Epoch 10/100\n",
            "4/4 [==============================] - 0s 11ms/step - loss: 292.3608 - mae: 10.7383 - val_loss: 376.3615 - val_mae: 15.7346\n",
            "Epoch 11/100\n",
            "4/4 [==============================] - 0s 11ms/step - loss: 288.1323 - mae: 10.5665 - val_loss: 378.5893 - val_mae: 15.7971\n",
            "Epoch 12/100\n",
            "4/4 [==============================] - 0s 12ms/step - loss: 285.1491 - mae: 10.4406 - val_loss: 378.5854 - val_mae: 15.8005\n",
            "Epoch 13/100\n",
            "4/4 [==============================] - 0s 17ms/step - loss: 282.6026 - mae: 10.3577 - val_loss: 379.1704 - val_mae: 15.8145\n",
            "Epoch 14/100\n",
            "4/4 [==============================] - 0s 13ms/step - loss: 280.5826 - mae: 10.2787 - val_loss: 380.8858 - val_mae: 15.8621\n",
            "Epoch 15/100\n",
            "4/4 [==============================] - 0s 11ms/step - loss: 277.9505 - mae: 10.2049 - val_loss: 380.8326 - val_mae: 15.8645\n",
            "Epoch 16/100\n",
            "4/4 [==============================] - 0s 14ms/step - loss: 276.1843 - mae: 10.1223 - val_loss: 380.1082 - val_mae: 15.8486\n",
            "Epoch 17/100\n",
            "4/4 [==============================] - 0s 11ms/step - loss: 275.1930 - mae: 10.0685 - val_loss: 381.6953 - val_mae: 15.8944\n",
            "Epoch 18/100\n",
            "4/4 [==============================] - 0s 11ms/step - loss: 273.5373 - mae: 9.9681 - val_loss: 380.4043 - val_mae: 15.8659\n",
            "Epoch 19/100\n",
            "4/4 [==============================] - 0s 11ms/step - loss: 272.4447 - mae: 9.8855 - val_loss: 381.1375 - val_mae: 15.8908\n",
            "Epoch 20/100\n",
            "4/4 [==============================] - 0s 14ms/step - loss: 271.8697 - mae: 9.8538 - val_loss: 381.6953 - val_mae: 15.9115\n",
            "Epoch 21/100\n",
            "4/4 [==============================] - 0s 18ms/step - loss: 271.2068 - mae: 9.8100 - val_loss: 378.8864 - val_mae: 15.8422\n",
            "Epoch 22/100\n",
            "4/4 [==============================] - 0s 12ms/step - loss: 270.8745 - mae: 9.7671 - val_loss: 380.5793 - val_mae: 15.8971\n",
            "Epoch 23/100\n",
            "4/4 [==============================] - 0s 14ms/step - loss: 270.4929 - mae: 9.7535 - val_loss: 380.2978 - val_mae: 15.8968\n",
            "Epoch 24/100\n",
            "4/4 [==============================] - 0s 11ms/step - loss: 269.9889 - mae: 9.6809 - val_loss: 378.7590 - val_mae: 15.8578\n",
            "Epoch 25/100\n",
            "4/4 [==============================] - 0s 11ms/step - loss: 269.9059 - mae: 9.6538 - val_loss: 377.8513 - val_mae: 15.8360\n",
            "Epoch 26/100\n",
            "4/4 [==============================] - 0s 18ms/step - loss: 269.7477 - mae: 9.6775 - val_loss: 378.8037 - val_mae: 15.8645\n",
            "Epoch 27/100\n",
            "4/4 [==============================] - 0s 11ms/step - loss: 269.5642 - mae: 9.6579 - val_loss: 380.1848 - val_mae: 15.9019\n",
            "Epoch 28/100\n",
            "4/4 [==============================] - 0s 10ms/step - loss: 269.5145 - mae: 9.6438 - val_loss: 379.4095 - val_mae: 15.8822\n",
            "Epoch 29/100\n",
            "4/4 [==============================] - 0s 16ms/step - loss: 269.3999 - mae: 9.5916 - val_loss: 378.1700 - val_mae: 15.8466\n",
            "Epoch 30/100\n",
            "4/4 [==============================] - 0s 10ms/step - loss: 269.3609 - mae: 9.5808 - val_loss: 379.3600 - val_mae: 15.8806\n",
            "Epoch 31/100\n",
            "4/4 [==============================] - 0s 10ms/step - loss: 269.3611 - mae: 9.5781 - val_loss: 380.0109 - val_mae: 15.8991\n",
            "Epoch 32/100\n",
            "4/4 [==============================] - 0s 13ms/step - loss: 269.3149 - mae: 9.5594 - val_loss: 378.5026 - val_mae: 15.8560\n",
            "Epoch 33/100\n",
            "4/4 [==============================] - 0s 10ms/step - loss: 269.3062 - mae: 9.5682 - val_loss: 378.8101 - val_mae: 15.8650\n",
            "Epoch 34/100\n",
            "4/4 [==============================] - 0s 18ms/step - loss: 269.2943 - mae: 9.5492 - val_loss: 379.8229 - val_mae: 15.8947\n",
            "Epoch 35/100\n",
            "4/4 [==============================] - 0s 11ms/step - loss: 269.2879 - mae: 9.5542 - val_loss: 379.3469 - val_mae: 15.8817\n",
            "Epoch 36/100\n",
            "4/4 [==============================] - 0s 11ms/step - loss: 269.2763 - mae: 9.5365 - val_loss: 378.7617 - val_mae: 15.8655\n",
            "Epoch 37/100\n",
            "4/4 [==============================] - 0s 11ms/step - loss: 269.2750 - mae: 9.5411 - val_loss: 379.4213 - val_mae: 15.8846\n",
            "Epoch 38/100\n",
            "4/4 [==============================] - 0s 11ms/step - loss: 269.2709 - mae: 9.5318 - val_loss: 379.8608 - val_mae: 15.8972\n",
            "Epoch 39/100\n",
            "4/4 [==============================] - 0s 11ms/step - loss: 269.2691 - mae: 9.5291 - val_loss: 379.2181 - val_mae: 15.8788\n",
            "Epoch 40/100\n",
            "4/4 [==============================] - 0s 14ms/step - loss: 269.2675 - mae: 9.5253 - val_loss: 379.1618 - val_mae: 15.8770\n",
            "Epoch 41/100\n",
            "4/4 [==============================] - 0s 14ms/step - loss: 269.2655 - mae: 9.5151 - val_loss: 379.5466 - val_mae: 15.8877\n",
            "Epoch 42/100\n",
            "4/4 [==============================] - 0s 11ms/step - loss: 269.2656 - mae: 9.5182 - val_loss: 379.5241 - val_mae: 15.8866\n",
            "Epoch 43/100\n",
            "4/4 [==============================] - 0s 11ms/step - loss: 269.2649 - mae: 9.5116 - val_loss: 379.1649 - val_mae: 15.8760\n",
            "Epoch 44/100\n",
            "4/4 [==============================] - 0s 12ms/step - loss: 269.2651 - mae: 9.5154 - val_loss: 379.3261 - val_mae: 15.8807\n",
            "Epoch 45/100\n",
            "4/4 [==============================] - 0s 11ms/step - loss: 269.2646 - mae: 9.5089 - val_loss: 379.5291 - val_mae: 15.8867\n",
            "Epoch 46/100\n",
            "4/4 [==============================] - 0s 12ms/step - loss: 269.2646 - mae: 9.5102 - val_loss: 379.3958 - val_mae: 15.8829\n",
            "Epoch 47/100\n",
            "4/4 [==============================] - 0s 20ms/step - loss: 269.2645 - mae: 9.5073 - val_loss: 379.2844 - val_mae: 15.8797\n",
            "Epoch 48/100\n",
            "4/4 [==============================] - 0s 14ms/step - loss: 269.2644 - mae: 9.5064 - val_loss: 379.4373 - val_mae: 15.8840\n",
            "Epoch 49/100\n",
            "4/4 [==============================] - 0s 12ms/step - loss: 269.2644 - mae: 9.5068 - val_loss: 379.4594 - val_mae: 15.8845\n",
            "Epoch 50/100\n",
            "4/4 [==============================] - 0s 11ms/step - loss: 269.2644 - mae: 9.5052 - val_loss: 379.3413 - val_mae: 15.8811\n",
            "Epoch 51/100\n",
            "4/4 [==============================] - 0s 13ms/step - loss: 269.2644 - mae: 9.5057 - val_loss: 379.3720 - val_mae: 15.8820\n",
            "Epoch 52/100\n",
            "4/4 [==============================] - 0s 13ms/step - loss: 269.2643 - mae: 9.5037 - val_loss: 379.4381 - val_mae: 15.8839\n",
            "Epoch 53/100\n",
            "4/4 [==============================] - 0s 12ms/step - loss: 269.2644 - mae: 9.5045 - val_loss: 379.4061 - val_mae: 15.8830\n",
            "Epoch 54/100\n",
            "4/4 [==============================] - 0s 11ms/step - loss: 269.2643 - mae: 9.5039 - val_loss: 379.3655 - val_mae: 15.8819\n",
            "Epoch 55/100\n",
            "4/4 [==============================] - 0s 16ms/step - loss: 269.2643 - mae: 9.5037 - val_loss: 379.4140 - val_mae: 15.8832\n",
            "Epoch 56/100\n",
            "4/4 [==============================] - 0s 11ms/step - loss: 269.2643 - mae: 9.5037 - val_loss: 379.4201 - val_mae: 15.8834\n",
            "Epoch 57/100\n",
            "4/4 [==============================] - 0s 12ms/step - loss: 269.2643 - mae: 9.5031 - val_loss: 379.3748 - val_mae: 15.8821\n",
            "Epoch 58/100\n",
            "4/4 [==============================] - 0s 11ms/step - loss: 269.2643 - mae: 9.5035 - val_loss: 379.3919 - val_mae: 15.8826\n",
            "Epoch 59/100\n",
            "4/4 [==============================] - 0s 12ms/step - loss: 269.2643 - mae: 9.5029 - val_loss: 379.4171 - val_mae: 15.8833\n",
            "Epoch 60/100\n",
            "4/4 [==============================] - 0s 11ms/step - loss: 269.2643 - mae: 9.5028 - val_loss: 379.3941 - val_mae: 15.8827\n",
            "Epoch 61/100\n",
            "4/4 [==============================] - 0s 11ms/step - loss: 269.2643 - mae: 9.5028 - val_loss: 379.3880 - val_mae: 15.8825\n",
            "Epoch 62/100\n",
            "4/4 [==============================] - 0s 20ms/step - loss: 269.2643 - mae: 9.5025 - val_loss: 379.4101 - val_mae: 15.8832\n",
            "Epoch 63/100\n",
            "4/4 [==============================] - 0s 11ms/step - loss: 269.2643 - mae: 9.5027 - val_loss: 379.4063 - val_mae: 15.8830\n",
            "Epoch 64/100\n",
            "4/4 [==============================] - 0s 11ms/step - loss: 269.2643 - mae: 9.5023 - val_loss: 379.3907 - val_mae: 15.8826\n",
            "Epoch 65/100\n",
            "4/4 [==============================] - 0s 13ms/step - loss: 269.2643 - mae: 9.5025 - val_loss: 379.3980 - val_mae: 15.8828\n",
            "Epoch 66/100\n",
            "4/4 [==============================] - 0s 11ms/step - loss: 269.2643 - mae: 9.5023 - val_loss: 379.4045 - val_mae: 15.8830\n",
            "Epoch 67/100\n",
            "4/4 [==============================] - 0s 14ms/step - loss: 269.2643 - mae: 9.5023 - val_loss: 379.3967 - val_mae: 15.8827\n",
            "Epoch 68/100\n",
            "4/4 [==============================] - 0s 17ms/step - loss: 269.2643 - mae: 9.5022 - val_loss: 379.3941 - val_mae: 15.8827\n",
            "Epoch 69/100\n",
            "4/4 [==============================] - 0s 11ms/step - loss: 269.2643 - mae: 9.5021 - val_loss: 379.4009 - val_mae: 15.8829\n",
            "Epoch 70/100\n",
            "4/4 [==============================] - 0s 11ms/step - loss: 269.2643 - mae: 9.5022 - val_loss: 379.4001 - val_mae: 15.8829\n",
            "Epoch 71/100\n",
            "4/4 [==============================] - 0s 12ms/step - loss: 269.2643 - mae: 9.5021 - val_loss: 379.3953 - val_mae: 15.8827\n",
            "Epoch 72/100\n",
            "4/4 [==============================] - 0s 11ms/step - loss: 269.2643 - mae: 9.5022 - val_loss: 379.3982 - val_mae: 15.8828\n",
            "Epoch 73/100\n",
            "4/4 [==============================] - 0s 18ms/step - loss: 269.2643 - mae: 9.5021 - val_loss: 379.4010 - val_mae: 15.8829\n",
            "Epoch 74/100\n",
            "4/4 [==============================] - 0s 17ms/step - loss: 269.2643 - mae: 9.5021 - val_loss: 379.3973 - val_mae: 15.8828\n",
            "Epoch 75/100\n",
            "4/4 [==============================] - 0s 12ms/step - loss: 269.2643 - mae: 9.5021 - val_loss: 379.3971 - val_mae: 15.8828\n",
            "Epoch 76/100\n",
            "4/4 [==============================] - 0s 18ms/step - loss: 269.2643 - mae: 9.5021 - val_loss: 379.3994 - val_mae: 15.8828\n",
            "Epoch 77/100\n",
            "4/4 [==============================] - 0s 17ms/step - loss: 269.2643 - mae: 9.5021 - val_loss: 379.3983 - val_mae: 15.8828\n",
            "Epoch 78/100\n",
            "4/4 [==============================] - 0s 11ms/step - loss: 269.2643 - mae: 9.5020 - val_loss: 379.3975 - val_mae: 15.8828\n",
            "Epoch 79/100\n",
            "4/4 [==============================] - 0s 12ms/step - loss: 269.2643 - mae: 9.5020 - val_loss: 379.3987 - val_mae: 15.8828\n",
            "Epoch 80/100\n",
            "4/4 [==============================] - 0s 16ms/step - loss: 269.2643 - mae: 9.5020 - val_loss: 379.3990 - val_mae: 15.8828\n",
            "Epoch 81/100\n",
            "4/4 [==============================] - 0s 12ms/step - loss: 269.2643 - mae: 9.5020 - val_loss: 379.3980 - val_mae: 15.8828\n",
            "Epoch 82/100\n",
            "4/4 [==============================] - 0s 11ms/step - loss: 269.2643 - mae: 9.5020 - val_loss: 379.3980 - val_mae: 15.8828\n",
            "Epoch 83/100\n",
            "4/4 [==============================] - 0s 11ms/step - loss: 269.2643 - mae: 9.5020 - val_loss: 379.3986 - val_mae: 15.8828\n",
            "Epoch 84/100\n",
            "4/4 [==============================] - 0s 12ms/step - loss: 269.2643 - mae: 9.5020 - val_loss: 379.3986 - val_mae: 15.8828\n",
            "Epoch 85/100\n",
            "4/4 [==============================] - 0s 11ms/step - loss: 269.2643 - mae: 9.5020 - val_loss: 379.3983 - val_mae: 15.8828\n",
            "Epoch 86/100\n",
            "4/4 [==============================] - 0s 18ms/step - loss: 269.2643 - mae: 9.5020 - val_loss: 379.3982 - val_mae: 15.8828\n",
            "Epoch 87/100\n",
            "4/4 [==============================] - 0s 11ms/step - loss: 269.2643 - mae: 9.5020 - val_loss: 379.3983 - val_mae: 15.8828\n",
            "Epoch 88/100\n",
            "4/4 [==============================] - 0s 11ms/step - loss: 269.2643 - mae: 9.5020 - val_loss: 379.3985 - val_mae: 15.8828\n",
            "Epoch 89/100\n",
            "4/4 [==============================] - 0s 11ms/step - loss: 269.2643 - mae: 9.5020 - val_loss: 379.3985 - val_mae: 15.8828\n",
            "Epoch 90/100\n",
            "4/4 [==============================] - 0s 11ms/step - loss: 269.2643 - mae: 9.5020 - val_loss: 379.3984 - val_mae: 15.8828\n",
            "Epoch 91/100\n",
            "4/4 [==============================] - 0s 11ms/step - loss: 269.2643 - mae: 9.5020 - val_loss: 379.3983 - val_mae: 15.8828\n",
            "Epoch 92/100\n",
            "4/4 [==============================] - 0s 13ms/step - loss: 269.2643 - mae: 9.5020 - val_loss: 379.3983 - val_mae: 15.8828\n",
            "Epoch 93/100\n",
            "4/4 [==============================] - 0s 11ms/step - loss: 269.2643 - mae: 9.5020 - val_loss: 379.3983 - val_mae: 15.8828\n",
            "Epoch 94/100\n",
            "4/4 [==============================] - 0s 11ms/step - loss: 269.2643 - mae: 9.5020 - val_loss: 379.3983 - val_mae: 15.8828\n",
            "Epoch 95/100\n",
            "4/4 [==============================] - 0s 10ms/step - loss: 269.2643 - mae: 9.5020 - val_loss: 379.3984 - val_mae: 15.8828\n",
            "Epoch 96/100\n",
            "4/4 [==============================] - 0s 11ms/step - loss: 269.2643 - mae: 9.5020 - val_loss: 379.3984 - val_mae: 15.8828\n",
            "Epoch 97/100\n",
            "4/4 [==============================] - 0s 12ms/step - loss: 269.2643 - mae: 9.5020 - val_loss: 379.3984 - val_mae: 15.8828\n",
            "Epoch 98/100\n",
            "4/4 [==============================] - 0s 17ms/step - loss: 269.2643 - mae: 9.5020 - val_loss: 379.3984 - val_mae: 15.8828\n",
            "Epoch 99/100\n",
            "4/4 [==============================] - 0s 13ms/step - loss: 269.2643 - mae: 9.5020 - val_loss: 379.3984 - val_mae: 15.8828\n",
            "Epoch 100/100\n",
            "4/4 [==============================] - 0s 17ms/step - loss: 269.2643 - mae: 9.5020 - val_loss: 379.3984 - val_mae: 15.8828\n"
          ]
        }
      ]
    },
    {
      "cell_type": "markdown",
      "source": [
        "CNN"
      ],
      "metadata": {
        "id": "Uekkb3dMfVs7"
      }
    },
    {
      "cell_type": "code",
      "source": [
        "i=Input(shape=(T,1))\n",
        "x=Conv1D(25,3,activation='relu')(i)\n",
        "x=MaxPooling1D(2)(x)\n",
        "x=Conv1D(50,3,activation='relu')(x)\n",
        "x=GlobalMaxPooling1D()(x)\n",
        "x=Dense(1)(x)\n",
        "model_cnn=Model(i,x)\n",
        "model_cnn.summary()"
      ],
      "metadata": {
        "colab": {
          "base_uri": "https://localhost:8080/",
          "height": 0
        },
        "id": "Lboz32TXfjLR",
        "outputId": "333fd41a-6ff9-465b-f6e9-26518ef494f9"
      },
      "execution_count": 111,
      "outputs": [
        {
          "output_type": "stream",
          "name": "stdout",
          "text": [
            "Model: \"model_7\"\n",
            "_________________________________________________________________\n",
            " Layer (type)                Output Shape              Param #   \n",
            "=================================================================\n",
            " input_9 (InputLayer)        [(None, 50, 1)]           0         \n",
            "                                                                 \n",
            " conv1d_6 (Conv1D)           (None, 48, 25)            100       \n",
            "                                                                 \n",
            " max_pooling1d_3 (MaxPooling  (None, 24, 25)           0         \n",
            " 1D)                                                             \n",
            "                                                                 \n",
            " conv1d_7 (Conv1D)           (None, 22, 50)            3800      \n",
            "                                                                 \n",
            " global_max_pooling1d_4 (Glo  (None, 50)               0         \n",
            " balMaxPooling1D)                                                \n",
            "                                                                 \n",
            " dense_18 (Dense)            (None, 1)                 51        \n",
            "                                                                 \n",
            "=================================================================\n",
            "Total params: 3,951\n",
            "Trainable params: 3,951\n",
            "Non-trainable params: 0\n",
            "_________________________________________________________________\n"
          ]
        }
      ]
    },
    {
      "cell_type": "code",
      "source": [
        "model_cnn.compile(loss='mse',\n",
        "              optimizer='adamax',\n",
        "              metrics=['mae','mse'])"
      ],
      "metadata": {
        "id": "5OpT5ORafjVT"
      },
      "execution_count": 112,
      "outputs": []
    },
    {
      "cell_type": "code",
      "source": [
        "r=model_cnn.fit(\n",
        "    Xtrain,\n",
        "    Ytrain,\n",
        "    epochs=100,\n",
        "    validation_data=(Xtest,Ytest)\n",
        ")"
      ],
      "metadata": {
        "colab": {
          "base_uri": "https://localhost:8080/",
          "height": 0
        },
        "id": "mZ9Q3O2vfjf2",
        "outputId": "b646032d-2198-4ff9-a279-6b5077f247fb"
      },
      "execution_count": 113,
      "outputs": [
        {
          "output_type": "stream",
          "name": "stdout",
          "text": [
            "Epoch 1/100\n",
            "4/4 [==============================] - 1s 62ms/step - loss: 670.0285 - mae: 18.8383 - mse: 670.0285 - val_loss: 362.7186 - val_mae: 14.9056 - val_mse: 362.7186\n",
            "Epoch 2/100\n",
            "4/4 [==============================] - 0s 16ms/step - loss: 482.8508 - mae: 15.9633 - mse: 482.8508 - val_loss: 343.0088 - val_mae: 14.6511 - val_mse: 343.0088\n",
            "Epoch 3/100\n",
            "4/4 [==============================] - 0s 14ms/step - loss: 476.5220 - mae: 16.0026 - mse: 476.5220 - val_loss: 351.4820 - val_mae: 14.8606 - val_mse: 351.4820\n",
            "Epoch 4/100\n",
            "4/4 [==============================] - 0s 14ms/step - loss: 481.7859 - mae: 16.1616 - mse: 481.7859 - val_loss: 348.9081 - val_mae: 14.7679 - val_mse: 348.9081\n",
            "Epoch 5/100\n",
            "4/4 [==============================] - 0s 14ms/step - loss: 466.8818 - mae: 15.7983 - mse: 466.8818 - val_loss: 343.7302 - val_mae: 14.6297 - val_mse: 343.7302\n",
            "Epoch 6/100\n",
            "4/4 [==============================] - 0s 14ms/step - loss: 454.1115 - mae: 15.3434 - mse: 454.1115 - val_loss: 343.1086 - val_mae: 14.6025 - val_mse: 343.1086\n",
            "Epoch 7/100\n",
            "4/4 [==============================] - 0s 14ms/step - loss: 445.0641 - mae: 15.0505 - mse: 445.0641 - val_loss: 345.8439 - val_mae: 14.6612 - val_mse: 345.8439\n",
            "Epoch 8/100\n",
            "4/4 [==============================] - 0s 15ms/step - loss: 442.6823 - mae: 14.9819 - mse: 442.6823 - val_loss: 347.0400 - val_mae: 14.6882 - val_mse: 347.0400\n",
            "Epoch 9/100\n",
            "4/4 [==============================] - 0s 18ms/step - loss: 442.3690 - mae: 14.9391 - mse: 442.3690 - val_loss: 347.9274 - val_mae: 14.7047 - val_mse: 347.9274\n",
            "Epoch 10/100\n",
            "4/4 [==============================] - 0s 13ms/step - loss: 441.7140 - mae: 14.9206 - mse: 441.7140 - val_loss: 347.9514 - val_mae: 14.7057 - val_mse: 347.9514\n",
            "Epoch 11/100\n",
            "4/4 [==============================] - 0s 14ms/step - loss: 439.8860 - mae: 14.9087 - mse: 439.8860 - val_loss: 346.2783 - val_mae: 14.6733 - val_mse: 346.2783\n",
            "Epoch 12/100\n",
            "4/4 [==============================] - 0s 14ms/step - loss: 436.9608 - mae: 14.8515 - mse: 436.9608 - val_loss: 345.4421 - val_mae: 14.6594 - val_mse: 345.4421\n",
            "Epoch 13/100\n",
            "4/4 [==============================] - 0s 14ms/step - loss: 435.3218 - mae: 14.8487 - mse: 435.3218 - val_loss: 344.9777 - val_mae: 14.6500 - val_mse: 344.9777\n",
            "Epoch 14/100\n",
            "4/4 [==============================] - 0s 13ms/step - loss: 434.5514 - mae: 14.8462 - mse: 434.5514 - val_loss: 344.8632 - val_mae: 14.6473 - val_mse: 344.8632\n",
            "Epoch 15/100\n",
            "4/4 [==============================] - 0s 13ms/step - loss: 433.2802 - mae: 14.8382 - mse: 433.2802 - val_loss: 345.0696 - val_mae: 14.6520 - val_mse: 345.0696\n",
            "Epoch 16/100\n",
            "4/4 [==============================] - 0s 13ms/step - loss: 431.8537 - mae: 14.8142 - mse: 431.8537 - val_loss: 345.4109 - val_mae: 14.6609 - val_mse: 345.4109\n",
            "Epoch 17/100\n",
            "4/4 [==============================] - 0s 13ms/step - loss: 431.4059 - mae: 14.8034 - mse: 431.4059 - val_loss: 346.0399 - val_mae: 14.6770 - val_mse: 346.0399\n",
            "Epoch 18/100\n",
            "4/4 [==============================] - 0s 18ms/step - loss: 430.1493 - mae: 14.7667 - mse: 430.1493 - val_loss: 346.2223 - val_mae: 14.6823 - val_mse: 346.2223\n",
            "Epoch 19/100\n",
            "4/4 [==============================] - 0s 18ms/step - loss: 429.4565 - mae: 14.7584 - mse: 429.4565 - val_loss: 346.6518 - val_mae: 14.6914 - val_mse: 346.6518\n",
            "Epoch 20/100\n",
            "4/4 [==============================] - 0s 15ms/step - loss: 427.7345 - mae: 14.7272 - mse: 427.7345 - val_loss: 346.3602 - val_mae: 14.6873 - val_mse: 346.3602\n",
            "Epoch 21/100\n",
            "4/4 [==============================] - 0s 14ms/step - loss: 426.7372 - mae: 14.7326 - mse: 426.7372 - val_loss: 346.0170 - val_mae: 14.6807 - val_mse: 346.0170\n",
            "Epoch 22/100\n",
            "4/4 [==============================] - 0s 14ms/step - loss: 425.9387 - mae: 14.7290 - mse: 425.9387 - val_loss: 345.9349 - val_mae: 14.6796 - val_mse: 345.9349\n",
            "Epoch 23/100\n",
            "4/4 [==============================] - 0s 15ms/step - loss: 425.4805 - mae: 14.7317 - mse: 425.4805 - val_loss: 345.8002 - val_mae: 14.6762 - val_mse: 345.8002\n",
            "Epoch 24/100\n",
            "4/4 [==============================] - 0s 14ms/step - loss: 424.5224 - mae: 14.7101 - mse: 424.5224 - val_loss: 346.2776 - val_mae: 14.6891 - val_mse: 346.2776\n",
            "Epoch 25/100\n",
            "4/4 [==============================] - 0s 19ms/step - loss: 423.8829 - mae: 14.7089 - mse: 423.8829 - val_loss: 346.2858 - val_mae: 14.6891 - val_mse: 346.2858\n",
            "Epoch 26/100\n",
            "4/4 [==============================] - 0s 14ms/step - loss: 422.3604 - mae: 14.6833 - mse: 422.3604 - val_loss: 346.5999 - val_mae: 14.6967 - val_mse: 346.5999\n",
            "Epoch 27/100\n",
            "4/4 [==============================] - 0s 19ms/step - loss: 421.4764 - mae: 14.6558 - mse: 421.4764 - val_loss: 346.8912 - val_mae: 14.7035 - val_mse: 346.8912\n",
            "Epoch 28/100\n",
            "4/4 [==============================] - 0s 13ms/step - loss: 420.6535 - mae: 14.6517 - mse: 420.6535 - val_loss: 347.1474 - val_mae: 14.7092 - val_mse: 347.1474\n",
            "Epoch 29/100\n",
            "4/4 [==============================] - 0s 14ms/step - loss: 419.9820 - mae: 14.6375 - mse: 419.9820 - val_loss: 347.2302 - val_mae: 14.7117 - val_mse: 347.2302\n",
            "Epoch 30/100\n",
            "4/4 [==============================] - 0s 14ms/step - loss: 419.3448 - mae: 14.6356 - mse: 419.3448 - val_loss: 347.0424 - val_mae: 14.7084 - val_mse: 347.0424\n",
            "Epoch 31/100\n",
            "4/4 [==============================] - 0s 13ms/step - loss: 418.1909 - mae: 14.6255 - mse: 418.1909 - val_loss: 347.0443 - val_mae: 14.7076 - val_mse: 347.0443\n",
            "Epoch 32/100\n",
            "4/4 [==============================] - 0s 16ms/step - loss: 417.3948 - mae: 14.6123 - mse: 417.3948 - val_loss: 347.3054 - val_mae: 14.7123 - val_mse: 347.3054\n",
            "Epoch 33/100\n",
            "4/4 [==============================] - 0s 18ms/step - loss: 416.5764 - mae: 14.5960 - mse: 416.5764 - val_loss: 347.5031 - val_mae: 14.7173 - val_mse: 347.5031\n",
            "Epoch 34/100\n",
            "4/4 [==============================] - 0s 19ms/step - loss: 416.1345 - mae: 14.5939 - mse: 416.1345 - val_loss: 347.4772 - val_mae: 14.7157 - val_mse: 347.4772\n",
            "Epoch 35/100\n",
            "4/4 [==============================] - 0s 16ms/step - loss: 414.8100 - mae: 14.5785 - mse: 414.8100 - val_loss: 347.7936 - val_mae: 14.7218 - val_mse: 347.7936\n",
            "Epoch 36/100\n",
            "4/4 [==============================] - 0s 14ms/step - loss: 414.2783 - mae: 14.5678 - mse: 414.2783 - val_loss: 347.9329 - val_mae: 14.7247 - val_mse: 347.9329\n",
            "Epoch 37/100\n",
            "4/4 [==============================] - 0s 13ms/step - loss: 413.6718 - mae: 14.5595 - mse: 413.6718 - val_loss: 348.0143 - val_mae: 14.7283 - val_mse: 348.0143\n",
            "Epoch 38/100\n",
            "4/4 [==============================] - 0s 14ms/step - loss: 413.5624 - mae: 14.5777 - mse: 413.5624 - val_loss: 348.6248 - val_mae: 14.7399 - val_mse: 348.6248\n",
            "Epoch 39/100\n",
            "4/4 [==============================] - 0s 14ms/step - loss: 412.8754 - mae: 14.5587 - mse: 412.8754 - val_loss: 347.9554 - val_mae: 14.7263 - val_mse: 347.9554\n",
            "Epoch 40/100\n",
            "4/4 [==============================] - 0s 14ms/step - loss: 411.2930 - mae: 14.5328 - mse: 411.2930 - val_loss: 348.2473 - val_mae: 14.7310 - val_mse: 348.2473\n",
            "Epoch 41/100\n",
            "4/4 [==============================] - 0s 13ms/step - loss: 410.8908 - mae: 14.5176 - mse: 410.8908 - val_loss: 348.3337 - val_mae: 14.7328 - val_mse: 348.3337\n",
            "Epoch 42/100\n",
            "4/4 [==============================] - 0s 19ms/step - loss: 409.6917 - mae: 14.4977 - mse: 409.6917 - val_loss: 348.3468 - val_mae: 14.7338 - val_mse: 348.3468\n",
            "Epoch 43/100\n",
            "4/4 [==============================] - 0s 16ms/step - loss: 408.9523 - mae: 14.4832 - mse: 408.9523 - val_loss: 348.7651 - val_mae: 14.7419 - val_mse: 348.7651\n",
            "Epoch 44/100\n",
            "4/4 [==============================] - 0s 14ms/step - loss: 408.4770 - mae: 14.4974 - mse: 408.4770 - val_loss: 348.5103 - val_mae: 14.7363 - val_mse: 348.5103\n",
            "Epoch 45/100\n",
            "4/4 [==============================] - 0s 18ms/step - loss: 407.5907 - mae: 14.4709 - mse: 407.5907 - val_loss: 348.8515 - val_mae: 14.7415 - val_mse: 348.8515\n",
            "Epoch 46/100\n",
            "4/4 [==============================] - 0s 15ms/step - loss: 407.4747 - mae: 14.4585 - mse: 407.4747 - val_loss: 349.6189 - val_mae: 14.7554 - val_mse: 349.6189\n",
            "Epoch 47/100\n",
            "4/4 [==============================] - 0s 20ms/step - loss: 405.7974 - mae: 14.4324 - mse: 405.7974 - val_loss: 349.5137 - val_mae: 14.7538 - val_mse: 349.5137\n",
            "Epoch 48/100\n",
            "4/4 [==============================] - 0s 14ms/step - loss: 405.0930 - mae: 14.4283 - mse: 405.0930 - val_loss: 349.1230 - val_mae: 14.7457 - val_mse: 349.1230\n",
            "Epoch 49/100\n",
            "4/4 [==============================] - 0s 18ms/step - loss: 404.6753 - mae: 14.4222 - mse: 404.6753 - val_loss: 348.9185 - val_mae: 14.7413 - val_mse: 348.9185\n",
            "Epoch 50/100\n",
            "4/4 [==============================] - 0s 13ms/step - loss: 403.4553 - mae: 14.4136 - mse: 403.4553 - val_loss: 349.1027 - val_mae: 14.7458 - val_mse: 349.1027\n",
            "Epoch 51/100\n",
            "4/4 [==============================] - 0s 19ms/step - loss: 403.0532 - mae: 14.4074 - mse: 403.0532 - val_loss: 349.3357 - val_mae: 14.7485 - val_mse: 349.3357\n",
            "Epoch 52/100\n",
            "4/4 [==============================] - 0s 18ms/step - loss: 402.3581 - mae: 14.4028 - mse: 402.3581 - val_loss: 349.8488 - val_mae: 14.7579 - val_mse: 349.8488\n",
            "Epoch 53/100\n",
            "4/4 [==============================] - 0s 18ms/step - loss: 401.6231 - mae: 14.3835 - mse: 401.6231 - val_loss: 350.0762 - val_mae: 14.7608 - val_mse: 350.0762\n",
            "Epoch 54/100\n",
            "4/4 [==============================] - 0s 14ms/step - loss: 402.1909 - mae: 14.3794 - mse: 402.1909 - val_loss: 349.4874 - val_mae: 14.7512 - val_mse: 349.4874\n",
            "Epoch 55/100\n",
            "4/4 [==============================] - 0s 14ms/step - loss: 399.7966 - mae: 14.3538 - mse: 399.7966 - val_loss: 349.8627 - val_mae: 14.7558 - val_mse: 349.8627\n",
            "Epoch 56/100\n",
            "4/4 [==============================] - 0s 19ms/step - loss: 399.3896 - mae: 14.3505 - mse: 399.3896 - val_loss: 350.3376 - val_mae: 14.7644 - val_mse: 350.3376\n",
            "Epoch 57/100\n",
            "4/4 [==============================] - 0s 19ms/step - loss: 398.4797 - mae: 14.3278 - mse: 398.4797 - val_loss: 350.5040 - val_mae: 14.7667 - val_mse: 350.5040\n",
            "Epoch 58/100\n",
            "4/4 [==============================] - 0s 15ms/step - loss: 398.1036 - mae: 14.3171 - mse: 398.1036 - val_loss: 350.6542 - val_mae: 14.7684 - val_mse: 350.6542\n",
            "Epoch 59/100\n",
            "4/4 [==============================] - 0s 15ms/step - loss: 396.9669 - mae: 14.2996 - mse: 396.9669 - val_loss: 350.4712 - val_mae: 14.7668 - val_mse: 350.4712\n",
            "Epoch 60/100\n",
            "4/4 [==============================] - 0s 14ms/step - loss: 396.5617 - mae: 14.2992 - mse: 396.5617 - val_loss: 350.1584 - val_mae: 14.7616 - val_mse: 350.1584\n",
            "Epoch 61/100\n",
            "4/4 [==============================] - 0s 19ms/step - loss: 395.7243 - mae: 14.2946 - mse: 395.7243 - val_loss: 350.3973 - val_mae: 14.7645 - val_mse: 350.3973\n",
            "Epoch 62/100\n",
            "4/4 [==============================] - 0s 19ms/step - loss: 395.1068 - mae: 14.2847 - mse: 395.1068 - val_loss: 350.8577 - val_mae: 14.7729 - val_mse: 350.8577\n",
            "Epoch 63/100\n",
            "4/4 [==============================] - 0s 19ms/step - loss: 394.7769 - mae: 14.2820 - mse: 394.7769 - val_loss: 350.5737 - val_mae: 14.7697 - val_mse: 350.5737\n",
            "Epoch 64/100\n",
            "4/4 [==============================] - 0s 14ms/step - loss: 393.5163 - mae: 14.2646 - mse: 393.5163 - val_loss: 351.1521 - val_mae: 14.7769 - val_mse: 351.1521\n",
            "Epoch 65/100\n",
            "4/4 [==============================] - 0s 15ms/step - loss: 393.1399 - mae: 14.2495 - mse: 393.1399 - val_loss: 351.7529 - val_mae: 14.7868 - val_mse: 351.7529\n",
            "Epoch 66/100\n",
            "4/4 [==============================] - 0s 19ms/step - loss: 392.3430 - mae: 14.2388 - mse: 392.3430 - val_loss: 351.5332 - val_mae: 14.7852 - val_mse: 351.5332\n",
            "Epoch 67/100\n",
            "4/4 [==============================] - 0s 13ms/step - loss: 391.9976 - mae: 14.2300 - mse: 391.9976 - val_loss: 351.4785 - val_mae: 14.7854 - val_mse: 351.4785\n",
            "Epoch 68/100\n",
            "4/4 [==============================] - 0s 14ms/step - loss: 391.0256 - mae: 14.2133 - mse: 391.0256 - val_loss: 351.7774 - val_mae: 14.7911 - val_mse: 351.7774\n",
            "Epoch 69/100\n",
            "4/4 [==============================] - 0s 14ms/step - loss: 390.2797 - mae: 14.2022 - mse: 390.2797 - val_loss: 352.3470 - val_mae: 14.7989 - val_mse: 352.3470\n",
            "Epoch 70/100\n",
            "4/4 [==============================] - 0s 14ms/step - loss: 390.1579 - mae: 14.1903 - mse: 390.1579 - val_loss: 353.1531 - val_mae: 14.8122 - val_mse: 353.1531\n",
            "Epoch 71/100\n",
            "4/4 [==============================] - 0s 14ms/step - loss: 389.9518 - mae: 14.1737 - mse: 389.9518 - val_loss: 352.3477 - val_mae: 14.7986 - val_mse: 352.3477\n",
            "Epoch 72/100\n",
            "4/4 [==============================] - 0s 15ms/step - loss: 388.8430 - mae: 14.1527 - mse: 388.8430 - val_loss: 353.1921 - val_mae: 14.8151 - val_mse: 353.1921\n",
            "Epoch 73/100\n",
            "4/4 [==============================] - 0s 14ms/step - loss: 387.5639 - mae: 14.1489 - mse: 387.5639 - val_loss: 352.6959 - val_mae: 14.8059 - val_mse: 352.6959\n",
            "Epoch 74/100\n",
            "4/4 [==============================] - 0s 14ms/step - loss: 387.1839 - mae: 14.1612 - mse: 387.1839 - val_loss: 352.5898 - val_mae: 14.8050 - val_mse: 352.5898\n",
            "Epoch 75/100\n",
            "4/4 [==============================] - 0s 17ms/step - loss: 386.7019 - mae: 14.1714 - mse: 386.7019 - val_loss: 352.4776 - val_mae: 14.8004 - val_mse: 352.4776\n",
            "Epoch 76/100\n",
            "4/4 [==============================] - 0s 14ms/step - loss: 385.4810 - mae: 14.1444 - mse: 385.4810 - val_loss: 352.8859 - val_mae: 14.8106 - val_mse: 352.8859\n",
            "Epoch 77/100\n",
            "4/4 [==============================] - 0s 14ms/step - loss: 385.4490 - mae: 14.1433 - mse: 385.4490 - val_loss: 353.3713 - val_mae: 14.8231 - val_mse: 353.3713\n",
            "Epoch 78/100\n",
            "4/4 [==============================] - 0s 15ms/step - loss: 384.7614 - mae: 14.1216 - mse: 384.7614 - val_loss: 354.1273 - val_mae: 14.8389 - val_mse: 354.1273\n",
            "Epoch 79/100\n",
            "4/4 [==============================] - 0s 19ms/step - loss: 383.7043 - mae: 14.0993 - mse: 383.7043 - val_loss: 354.1748 - val_mae: 14.8373 - val_mse: 354.1748\n",
            "Epoch 80/100\n",
            "4/4 [==============================] - 0s 16ms/step - loss: 383.4288 - mae: 14.0974 - mse: 383.4288 - val_loss: 354.7294 - val_mae: 14.8497 - val_mse: 354.7294\n",
            "Epoch 81/100\n",
            "4/4 [==============================] - 0s 14ms/step - loss: 383.1680 - mae: 14.0938 - mse: 383.1680 - val_loss: 355.5866 - val_mae: 14.8657 - val_mse: 355.5866\n",
            "Epoch 82/100\n",
            "4/4 [==============================] - 0s 14ms/step - loss: 381.9964 - mae: 14.0662 - mse: 381.9964 - val_loss: 355.4911 - val_mae: 14.8639 - val_mse: 355.4911\n",
            "Epoch 83/100\n",
            "4/4 [==============================] - 0s 16ms/step - loss: 381.1473 - mae: 14.0601 - mse: 381.1473 - val_loss: 354.6062 - val_mae: 14.8468 - val_mse: 354.6062\n",
            "Epoch 84/100\n",
            "4/4 [==============================] - 0s 19ms/step - loss: 382.8614 - mae: 14.1058 - mse: 382.8614 - val_loss: 353.2515 - val_mae: 14.8181 - val_mse: 353.2515\n",
            "Epoch 85/100\n",
            "4/4 [==============================] - 0s 13ms/step - loss: 380.4666 - mae: 14.0655 - mse: 380.4666 - val_loss: 353.9793 - val_mae: 14.8314 - val_mse: 353.9793\n",
            "Epoch 86/100\n",
            "4/4 [==============================] - 0s 14ms/step - loss: 379.6597 - mae: 14.0439 - mse: 379.6597 - val_loss: 355.3409 - val_mae: 14.8596 - val_mse: 355.3409\n",
            "Epoch 87/100\n",
            "4/4 [==============================] - 0s 14ms/step - loss: 378.7324 - mae: 14.0238 - mse: 378.7324 - val_loss: 355.8995 - val_mae: 14.8714 - val_mse: 355.8995\n",
            "Epoch 88/100\n",
            "4/4 [==============================] - 0s 14ms/step - loss: 378.6540 - mae: 14.0329 - mse: 378.6540 - val_loss: 356.8003 - val_mae: 14.8876 - val_mse: 356.8003\n",
            "Epoch 89/100\n",
            "4/4 [==============================] - 0s 15ms/step - loss: 377.9087 - mae: 14.0040 - mse: 377.9087 - val_loss: 355.7958 - val_mae: 14.8700 - val_mse: 355.7958\n",
            "Epoch 90/100\n",
            "4/4 [==============================] - 0s 14ms/step - loss: 376.8839 - mae: 13.9962 - mse: 376.8839 - val_loss: 355.5882 - val_mae: 14.8640 - val_mse: 355.5882\n",
            "Epoch 91/100\n",
            "4/4 [==============================] - 0s 14ms/step - loss: 376.9164 - mae: 14.0033 - mse: 376.9164 - val_loss: 356.0690 - val_mae: 14.8739 - val_mse: 356.0690\n",
            "Epoch 92/100\n",
            "4/4 [==============================] - 0s 16ms/step - loss: 375.7053 - mae: 13.9826 - mse: 375.7053 - val_loss: 355.6701 - val_mae: 14.8652 - val_mse: 355.6701\n",
            "Epoch 93/100\n",
            "4/4 [==============================] - 0s 15ms/step - loss: 375.7467 - mae: 14.0007 - mse: 375.7467 - val_loss: 356.1870 - val_mae: 14.8751 - val_mse: 356.1870\n",
            "Epoch 94/100\n",
            "4/4 [==============================] - 0s 16ms/step - loss: 374.6278 - mae: 13.9706 - mse: 374.6278 - val_loss: 355.9774 - val_mae: 14.8710 - val_mse: 355.9774\n",
            "Epoch 95/100\n",
            "4/4 [==============================] - 0s 16ms/step - loss: 374.2596 - mae: 13.9664 - mse: 374.2596 - val_loss: 356.5054 - val_mae: 14.8815 - val_mse: 356.5054\n",
            "Epoch 96/100\n",
            "4/4 [==============================] - 0s 14ms/step - loss: 373.6892 - mae: 13.9535 - mse: 373.6892 - val_loss: 355.9932 - val_mae: 14.8702 - val_mse: 355.9932\n",
            "Epoch 97/100\n",
            "4/4 [==============================] - 0s 19ms/step - loss: 373.0089 - mae: 13.9575 - mse: 373.0089 - val_loss: 356.0680 - val_mae: 14.8720 - val_mse: 356.0680\n",
            "Epoch 98/100\n",
            "4/4 [==============================] - 0s 14ms/step - loss: 372.5468 - mae: 13.9593 - mse: 372.5468 - val_loss: 356.2620 - val_mae: 14.8750 - val_mse: 356.2620\n",
            "Epoch 99/100\n",
            "4/4 [==============================] - 0s 20ms/step - loss: 371.4701 - mae: 13.9343 - mse: 371.4701 - val_loss: 357.0368 - val_mae: 14.8925 - val_mse: 357.0368\n",
            "Epoch 100/100\n",
            "4/4 [==============================] - 0s 19ms/step - loss: 372.3601 - mae: 13.9449 - mse: 372.3601 - val_loss: 358.9041 - val_mae: 14.9255 - val_mse: 358.9041\n"
          ]
        }
      ]
    },
    {
      "cell_type": "markdown",
      "source": [
        "LSTM"
      ],
      "metadata": {
        "id": "M-I1WeJ7gOl3"
      }
    },
    {
      "cell_type": "code",
      "source": [
        "i=Input(shape=(T,1))\n",
        "x=LSTM(200,return_sequences=True)(i)\n",
        "x=LSTM(200,return_sequences=True)(x)\n",
        "x=GlobalMaxPooling1D()(x)\n",
        "x=Dense(100)(x)\n",
        "x=Dense(50)(x)\n",
        "x=Dense(1)(x)\n",
        "model_lstm=Model(i,x)\n",
        "model_lstm.summary()"
      ],
      "metadata": {
        "colab": {
          "base_uri": "https://localhost:8080/",
          "height": 0
        },
        "id": "zsJnKRlwhvmv",
        "outputId": "485592f6-14b9-4fc0-b1ef-9eccb1433998"
      },
      "execution_count": 114,
      "outputs": [
        {
          "output_type": "stream",
          "name": "stdout",
          "text": [
            "Model: \"model_8\"\n",
            "_________________________________________________________________\n",
            " Layer (type)                Output Shape              Param #   \n",
            "=================================================================\n",
            " input_10 (InputLayer)       [(None, 50, 1)]           0         \n",
            "                                                                 \n",
            " lstm_4 (LSTM)               (None, 50, 200)           161600    \n",
            "                                                                 \n",
            " lstm_5 (LSTM)               (None, 50, 200)           320800    \n",
            "                                                                 \n",
            " global_max_pooling1d_5 (Glo  (None, 200)              0         \n",
            " balMaxPooling1D)                                                \n",
            "                                                                 \n",
            " dense_19 (Dense)            (None, 100)               20100     \n",
            "                                                                 \n",
            " dense_20 (Dense)            (None, 50)                5050      \n",
            "                                                                 \n",
            " dense_21 (Dense)            (None, 1)                 51        \n",
            "                                                                 \n",
            "=================================================================\n",
            "Total params: 507,601\n",
            "Trainable params: 507,601\n",
            "Non-trainable params: 0\n",
            "_________________________________________________________________\n"
          ]
        }
      ]
    },
    {
      "cell_type": "code",
      "source": [
        "check_point_lstm=ModelCheckpoint('best_model.h5',monitor='val_loss',save_best_only=True)"
      ],
      "metadata": {
        "id": "uN9QDfEohvs-"
      },
      "execution_count": 115,
      "outputs": []
    },
    {
      "cell_type": "code",
      "source": [
        "model_lstm.compile(loss='mse',\n",
        "              optimizer='adamax',\n",
        "              metrics=['mae','mse'])"
      ],
      "metadata": {
        "id": "MwYBTZ7Uhv4I"
      },
      "execution_count": 116,
      "outputs": []
    },
    {
      "cell_type": "code",
      "source": [
        "r=model_lstm.fit(\n",
        "    Xtrain,\n",
        "    Ytrain,\n",
        "    epochs=100,\n",
        "    validation_data=(Xtest,Ytest),\n",
        "    callbacks=[check_point_lstm]\n",
        ")"
      ],
      "metadata": {
        "colab": {
          "base_uri": "https://localhost:8080/",
          "height": 0
        },
        "id": "hucIsLiBiOQ3",
        "outputId": "8afa7b14-4b73-4231-ed1b-d2f8b3ce5cdd"
      },
      "execution_count": 117,
      "outputs": [
        {
          "output_type": "stream",
          "name": "stdout",
          "text": [
            "Epoch 1/100\n",
            "4/4 [==============================] - 6s 720ms/step - loss: 446.3005 - mae: 14.9684 - mse: 446.3005 - val_loss: 357.4124 - val_mae: 14.9744 - val_mse: 357.4124\n",
            "Epoch 2/100\n",
            "4/4 [==============================] - 1s 328ms/step - loss: 441.0261 - mae: 14.8748 - mse: 441.0261 - val_loss: 347.5306 - val_mae: 14.8388 - val_mse: 347.5306\n",
            "Epoch 3/100\n",
            "4/4 [==============================] - 1s 323ms/step - loss: 438.5650 - mae: 14.8035 - mse: 438.5650 - val_loss: 344.2618 - val_mae: 14.7844 - val_mse: 344.2618\n",
            "Epoch 4/100\n",
            "4/4 [==============================] - 1s 322ms/step - loss: 437.5544 - mae: 14.7888 - mse: 437.5544 - val_loss: 343.9519 - val_mae: 14.7793 - val_mse: 343.9519\n",
            "Epoch 5/100\n",
            "4/4 [==============================] - 1s 332ms/step - loss: 436.9986 - mae: 14.7811 - mse: 436.9986 - val_loss: 343.8568 - val_mae: 14.7789 - val_mse: 343.8568\n",
            "Epoch 6/100\n",
            "4/4 [==============================] - 1s 315ms/step - loss: 436.9737 - mae: 14.7870 - mse: 436.9737 - val_loss: 344.4532 - val_mae: 14.7967 - val_mse: 344.4532\n",
            "Epoch 7/100\n",
            "4/4 [==============================] - 1s 313ms/step - loss: 436.1656 - mae: 14.7709 - mse: 436.1656 - val_loss: 344.5103 - val_mae: 14.7996 - val_mse: 344.5103\n",
            "Epoch 8/100\n",
            "4/4 [==============================] - 1s 326ms/step - loss: 437.3725 - mae: 14.7860 - mse: 437.3725 - val_loss: 343.5746 - val_mae: 14.7821 - val_mse: 343.5746\n",
            "Epoch 9/100\n",
            "4/4 [==============================] - 1s 312ms/step - loss: 435.6152 - mae: 14.7745 - mse: 435.6152 - val_loss: 343.9873 - val_mae: 14.7917 - val_mse: 343.9873\n",
            "Epoch 10/100\n",
            "4/4 [==============================] - 1s 311ms/step - loss: 435.9332 - mae: 14.7725 - mse: 435.9332 - val_loss: 344.6974 - val_mae: 14.8092 - val_mse: 344.6974\n",
            "Epoch 11/100\n",
            "4/4 [==============================] - 1s 306ms/step - loss: 435.0573 - mae: 14.7606 - mse: 435.0573 - val_loss: 344.5280 - val_mae: 14.8075 - val_mse: 344.5280\n",
            "Epoch 12/100\n",
            "4/4 [==============================] - 1s 311ms/step - loss: 434.5981 - mae: 14.7518 - mse: 434.5981 - val_loss: 344.5985 - val_mae: 14.8111 - val_mse: 344.5985\n",
            "Epoch 13/100\n",
            "4/4 [==============================] - 1s 309ms/step - loss: 434.0792 - mae: 14.7448 - mse: 434.0792 - val_loss: 344.7244 - val_mae: 14.8169 - val_mse: 344.7244\n",
            "Epoch 14/100\n",
            "4/4 [==============================] - 1s 313ms/step - loss: 433.6132 - mae: 14.7385 - mse: 433.6132 - val_loss: 344.6565 - val_mae: 14.8190 - val_mse: 344.6565\n",
            "Epoch 15/100\n",
            "4/4 [==============================] - 1s 317ms/step - loss: 433.0515 - mae: 14.7338 - mse: 433.0515 - val_loss: 344.8170 - val_mae: 14.8256 - val_mse: 344.8170\n",
            "Epoch 16/100\n",
            "4/4 [==============================] - 1s 313ms/step - loss: 432.2832 - mae: 14.7249 - mse: 432.2832 - val_loss: 345.0991 - val_mae: 14.8363 - val_mse: 345.0991\n",
            "Epoch 17/100\n",
            "4/4 [==============================] - 1s 303ms/step - loss: 431.9999 - mae: 14.7298 - mse: 431.9999 - val_loss: 345.6218 - val_mae: 14.8505 - val_mse: 345.6218\n",
            "Epoch 18/100\n",
            "4/4 [==============================] - 1s 321ms/step - loss: 431.0037 - mae: 14.7088 - mse: 431.0037 - val_loss: 345.6628 - val_mae: 14.8556 - val_mse: 345.6628\n",
            "Epoch 19/100\n",
            "4/4 [==============================] - 1s 312ms/step - loss: 430.4993 - mae: 14.7036 - mse: 430.4993 - val_loss: 346.3928 - val_mae: 14.8769 - val_mse: 346.3928\n",
            "Epoch 20/100\n",
            "4/4 [==============================] - 1s 317ms/step - loss: 428.6418 - mae: 14.6787 - mse: 428.6418 - val_loss: 346.4647 - val_mae: 14.8834 - val_mse: 346.4647\n",
            "Epoch 21/100\n",
            "4/4 [==============================] - 1s 320ms/step - loss: 427.2248 - mae: 14.6855 - mse: 427.2248 - val_loss: 346.6444 - val_mae: 14.8849 - val_mse: 346.6444\n",
            "Epoch 22/100\n",
            "4/4 [==============================] - 1s 314ms/step - loss: 426.1052 - mae: 14.6900 - mse: 426.1052 - val_loss: 347.5359 - val_mae: 14.9028 - val_mse: 347.5359\n",
            "Epoch 23/100\n",
            "4/4 [==============================] - 1s 313ms/step - loss: 424.7220 - mae: 14.6713 - mse: 424.7220 - val_loss: 349.1150 - val_mae: 14.9337 - val_mse: 349.1150\n",
            "Epoch 24/100\n",
            "4/4 [==============================] - 1s 314ms/step - loss: 424.4633 - mae: 14.6141 - mse: 424.4633 - val_loss: 351.3940 - val_mae: 15.0206 - val_mse: 351.3940\n",
            "Epoch 25/100\n",
            "4/4 [==============================] - 1s 306ms/step - loss: 421.4766 - mae: 14.6304 - mse: 421.4766 - val_loss: 352.1153 - val_mae: 14.9950 - val_mse: 352.1153\n",
            "Epoch 26/100\n",
            "4/4 [==============================] - 1s 315ms/step - loss: 417.0928 - mae: 14.5549 - mse: 417.0928 - val_loss: 354.3948 - val_mae: 15.0217 - val_mse: 354.3948\n",
            "Epoch 27/100\n",
            "4/4 [==============================] - 1s 326ms/step - loss: 414.6960 - mae: 14.5528 - mse: 414.6960 - val_loss: 357.7883 - val_mae: 15.0849 - val_mse: 357.7883\n",
            "Epoch 28/100\n",
            "4/4 [==============================] - 1s 312ms/step - loss: 411.1741 - mae: 14.5018 - mse: 411.1741 - val_loss: 360.3174 - val_mae: 15.1363 - val_mse: 360.3174\n",
            "Epoch 29/100\n",
            "4/4 [==============================] - 1s 316ms/step - loss: 408.2802 - mae: 14.4326 - mse: 408.2802 - val_loss: 365.4402 - val_mae: 15.1703 - val_mse: 365.4402\n",
            "Epoch 30/100\n",
            "4/4 [==============================] - 1s 313ms/step - loss: 404.8508 - mae: 14.3370 - mse: 404.8508 - val_loss: 370.3885 - val_mae: 15.2340 - val_mse: 370.3885\n",
            "Epoch 31/100\n",
            "4/4 [==============================] - 1s 316ms/step - loss: 399.9128 - mae: 14.2836 - mse: 399.9128 - val_loss: 376.0934 - val_mae: 15.3791 - val_mse: 376.0934\n",
            "Epoch 32/100\n",
            "4/4 [==============================] - 1s 315ms/step - loss: 396.0731 - mae: 14.2245 - mse: 396.0731 - val_loss: 385.3522 - val_mae: 15.5274 - val_mse: 385.3522\n",
            "Epoch 33/100\n",
            "4/4 [==============================] - 1s 312ms/step - loss: 392.4583 - mae: 14.1494 - mse: 392.4583 - val_loss: 395.2710 - val_mae: 15.7739 - val_mse: 395.2710\n",
            "Epoch 34/100\n",
            "4/4 [==============================] - 1s 319ms/step - loss: 391.0272 - mae: 14.1761 - mse: 391.0272 - val_loss: 401.3969 - val_mae: 15.8883 - val_mse: 401.3969\n",
            "Epoch 35/100\n",
            "4/4 [==============================] - 1s 318ms/step - loss: 385.7472 - mae: 14.1122 - mse: 385.7472 - val_loss: 406.4958 - val_mae: 15.9856 - val_mse: 406.4958\n",
            "Epoch 36/100\n",
            "4/4 [==============================] - 1s 318ms/step - loss: 385.0666 - mae: 14.0097 - mse: 385.0666 - val_loss: 425.8962 - val_mae: 16.5984 - val_mse: 425.8962\n",
            "Epoch 37/100\n",
            "4/4 [==============================] - 1s 318ms/step - loss: 380.2725 - mae: 13.9396 - mse: 380.2725 - val_loss: 424.4812 - val_mae: 16.4742 - val_mse: 424.4812\n",
            "Epoch 38/100\n",
            "4/4 [==============================] - 1s 320ms/step - loss: 373.6753 - mae: 13.8395 - mse: 373.6753 - val_loss: 437.5808 - val_mae: 16.7787 - val_mse: 437.5808\n",
            "Epoch 39/100\n",
            "4/4 [==============================] - 1s 352ms/step - loss: 372.7286 - mae: 13.9315 - mse: 372.7286 - val_loss: 465.2916 - val_mae: 17.4978 - val_mse: 465.2916\n",
            "Epoch 40/100\n",
            "4/4 [==============================] - 1s 339ms/step - loss: 360.6970 - mae: 13.5476 - mse: 360.6970 - val_loss: 464.1942 - val_mae: 17.4769 - val_mse: 464.1942\n",
            "Epoch 41/100\n",
            "4/4 [==============================] - 1s 324ms/step - loss: 362.9522 - mae: 13.6516 - mse: 362.9522 - val_loss: 478.2575 - val_mae: 17.7576 - val_mse: 478.2575\n",
            "Epoch 42/100\n",
            "4/4 [==============================] - 1s 313ms/step - loss: 353.1459 - mae: 13.4760 - mse: 353.1459 - val_loss: 462.4458 - val_mae: 17.3804 - val_mse: 462.4458\n",
            "Epoch 43/100\n",
            "4/4 [==============================] - 1s 324ms/step - loss: 357.1734 - mae: 13.4569 - mse: 357.1734 - val_loss: 473.9515 - val_mae: 17.6764 - val_mse: 473.9515\n",
            "Epoch 44/100\n",
            "4/4 [==============================] - 1s 338ms/step - loss: 349.6444 - mae: 13.6136 - mse: 349.6444 - val_loss: 521.3673 - val_mae: 18.5610 - val_mse: 521.3673\n",
            "Epoch 45/100\n",
            "4/4 [==============================] - 1s 339ms/step - loss: 344.4857 - mae: 13.2276 - mse: 344.4857 - val_loss: 484.0194 - val_mae: 17.8376 - val_mse: 484.0194\n",
            "Epoch 46/100\n",
            "4/4 [==============================] - 1s 347ms/step - loss: 353.9781 - mae: 13.5338 - mse: 353.9781 - val_loss: 490.2874 - val_mae: 17.9405 - val_mse: 490.2874\n",
            "Epoch 47/100\n",
            "4/4 [==============================] - 1s 321ms/step - loss: 330.7570 - mae: 13.1833 - mse: 330.7570 - val_loss: 531.9557 - val_mae: 18.7496 - val_mse: 531.9557\n",
            "Epoch 48/100\n",
            "4/4 [==============================] - 1s 346ms/step - loss: 335.1431 - mae: 13.2152 - mse: 335.1431 - val_loss: 523.6735 - val_mae: 18.7208 - val_mse: 523.6735\n",
            "Epoch 49/100\n",
            "4/4 [==============================] - 1s 332ms/step - loss: 329.1277 - mae: 13.0961 - mse: 329.1277 - val_loss: 506.1214 - val_mae: 18.2698 - val_mse: 506.1214\n",
            "Epoch 50/100\n",
            "4/4 [==============================] - 1s 319ms/step - loss: 319.2342 - mae: 12.7912 - mse: 319.2342 - val_loss: 529.1578 - val_mae: 18.6782 - val_mse: 529.1578\n",
            "Epoch 51/100\n",
            "4/4 [==============================] - 1s 329ms/step - loss: 313.5639 - mae: 12.7547 - mse: 313.5639 - val_loss: 558.6046 - val_mae: 19.2837 - val_mse: 558.6046\n",
            "Epoch 52/100\n",
            "4/4 [==============================] - 1s 329ms/step - loss: 310.4185 - mae: 12.6123 - mse: 310.4185 - val_loss: 531.5361 - val_mae: 18.7892 - val_mse: 531.5361\n",
            "Epoch 53/100\n",
            "4/4 [==============================] - 1s 318ms/step - loss: 309.4637 - mae: 12.7525 - mse: 309.4637 - val_loss: 575.0478 - val_mae: 19.5611 - val_mse: 575.0478\n",
            "Epoch 54/100\n",
            "4/4 [==============================] - 1s 321ms/step - loss: 312.7279 - mae: 12.8900 - mse: 312.7279 - val_loss: 627.7496 - val_mae: 20.3895 - val_mse: 627.7496\n",
            "Epoch 55/100\n",
            "4/4 [==============================] - 1s 333ms/step - loss: 299.3407 - mae: 12.3320 - mse: 299.3407 - val_loss: 542.7763 - val_mae: 18.8309 - val_mse: 542.7763\n",
            "Epoch 56/100\n",
            "4/4 [==============================] - 1s 325ms/step - loss: 299.3806 - mae: 12.5432 - mse: 299.3806 - val_loss: 535.2066 - val_mae: 18.6304 - val_mse: 535.2066\n",
            "Epoch 57/100\n",
            "4/4 [==============================] - 1s 320ms/step - loss: 284.2409 - mae: 12.1187 - mse: 284.2409 - val_loss: 590.2791 - val_mae: 19.7688 - val_mse: 590.2791\n",
            "Epoch 58/100\n",
            "4/4 [==============================] - 1s 314ms/step - loss: 285.6967 - mae: 12.1324 - mse: 285.6967 - val_loss: 587.5742 - val_mae: 19.7625 - val_mse: 587.5742\n",
            "Epoch 59/100\n",
            "4/4 [==============================] - 1s 322ms/step - loss: 276.0490 - mae: 12.0317 - mse: 276.0490 - val_loss: 545.2215 - val_mae: 18.8175 - val_mse: 545.2215\n",
            "Epoch 60/100\n",
            "4/4 [==============================] - 1s 328ms/step - loss: 273.8720 - mae: 11.9444 - mse: 273.8720 - val_loss: 592.3677 - val_mae: 19.7743 - val_mse: 592.3677\n",
            "Epoch 61/100\n",
            "4/4 [==============================] - 1s 333ms/step - loss: 271.2806 - mae: 11.7686 - mse: 271.2806 - val_loss: 595.2177 - val_mae: 19.8938 - val_mse: 595.2177\n",
            "Epoch 62/100\n",
            "4/4 [==============================] - 1s 326ms/step - loss: 266.3007 - mae: 11.6479 - mse: 266.3007 - val_loss: 567.1660 - val_mae: 19.2709 - val_mse: 567.1660\n",
            "Epoch 63/100\n",
            "4/4 [==============================] - 1s 313ms/step - loss: 268.5561 - mae: 11.7647 - mse: 268.5561 - val_loss: 576.4236 - val_mae: 19.5020 - val_mse: 576.4236\n",
            "Epoch 64/100\n",
            "4/4 [==============================] - 1s 320ms/step - loss: 251.2159 - mae: 11.3488 - mse: 251.2159 - val_loss: 567.1161 - val_mae: 19.3765 - val_mse: 567.1161\n",
            "Epoch 65/100\n",
            "4/4 [==============================] - 1s 322ms/step - loss: 262.3091 - mae: 11.6092 - mse: 262.3091 - val_loss: 573.7283 - val_mae: 19.4015 - val_mse: 573.7283\n",
            "Epoch 66/100\n",
            "4/4 [==============================] - 1s 314ms/step - loss: 256.0434 - mae: 11.4741 - mse: 256.0434 - val_loss: 615.0773 - val_mae: 20.1330 - val_mse: 615.0773\n",
            "Epoch 67/100\n",
            "4/4 [==============================] - 1s 310ms/step - loss: 256.1501 - mae: 11.4641 - mse: 256.1501 - val_loss: 579.6454 - val_mae: 19.5597 - val_mse: 579.6454\n",
            "Epoch 68/100\n",
            "4/4 [==============================] - 1s 317ms/step - loss: 253.9918 - mae: 11.2879 - mse: 253.9918 - val_loss: 568.3031 - val_mae: 19.3413 - val_mse: 568.3031\n",
            "Epoch 69/100\n",
            "4/4 [==============================] - 1s 322ms/step - loss: 241.8111 - mae: 11.1032 - mse: 241.8111 - val_loss: 636.7963 - val_mae: 20.4835 - val_mse: 636.7963\n",
            "Epoch 70/100\n",
            "4/4 [==============================] - 1s 317ms/step - loss: 239.1424 - mae: 11.0019 - mse: 239.1424 - val_loss: 607.9375 - val_mae: 19.8955 - val_mse: 607.9375\n",
            "Epoch 71/100\n",
            "4/4 [==============================] - 1s 314ms/step - loss: 231.0937 - mae: 10.6652 - mse: 231.0937 - val_loss: 630.3184 - val_mae: 20.3970 - val_mse: 630.3184\n",
            "Epoch 72/100\n",
            "4/4 [==============================] - 1s 330ms/step - loss: 229.5808 - mae: 10.8878 - mse: 229.5808 - val_loss: 606.0254 - val_mae: 20.0163 - val_mse: 606.0254\n",
            "Epoch 73/100\n",
            "4/4 [==============================] - 1s 308ms/step - loss: 233.3162 - mae: 11.1501 - mse: 233.3162 - val_loss: 632.5947 - val_mae: 20.5543 - val_mse: 632.5947\n",
            "Epoch 74/100\n",
            "4/4 [==============================] - 1s 313ms/step - loss: 212.5527 - mae: 10.4999 - mse: 212.5527 - val_loss: 570.6301 - val_mae: 19.2766 - val_mse: 570.6301\n",
            "Epoch 75/100\n",
            "4/4 [==============================] - 1s 326ms/step - loss: 222.6734 - mae: 10.8865 - mse: 222.6734 - val_loss: 706.3404 - val_mae: 21.7855 - val_mse: 706.3404\n",
            "Epoch 76/100\n",
            "4/4 [==============================] - 1s 331ms/step - loss: 214.3060 - mae: 10.8858 - mse: 214.3060 - val_loss: 648.2327 - val_mae: 20.8208 - val_mse: 648.2327\n",
            "Epoch 77/100\n",
            "4/4 [==============================] - 1s 337ms/step - loss: 211.9907 - mae: 10.4619 - mse: 211.9907 - val_loss: 616.9272 - val_mae: 20.1909 - val_mse: 616.9272\n",
            "Epoch 78/100\n",
            "4/4 [==============================] - 1s 358ms/step - loss: 203.3748 - mae: 10.2332 - mse: 203.3748 - val_loss: 651.7285 - val_mae: 20.2704 - val_mse: 651.7285\n",
            "Epoch 79/100\n",
            "4/4 [==============================] - 1s 336ms/step - loss: 208.3434 - mae: 10.4367 - mse: 208.3434 - val_loss: 781.8452 - val_mae: 22.4937 - val_mse: 781.8452\n",
            "Epoch 80/100\n",
            "4/4 [==============================] - 1s 314ms/step - loss: 194.3120 - mae: 9.9906 - mse: 194.3120 - val_loss: 736.9377 - val_mae: 22.1471 - val_mse: 736.9377\n",
            "Epoch 81/100\n",
            "4/4 [==============================] - 1s 311ms/step - loss: 196.4702 - mae: 10.2380 - mse: 196.4702 - val_loss: 842.7300 - val_mae: 23.8415 - val_mse: 842.7300\n",
            "Epoch 82/100\n",
            "4/4 [==============================] - 1s 313ms/step - loss: 183.1796 - mae: 10.0734 - mse: 183.1796 - val_loss: 799.3472 - val_mae: 23.1454 - val_mse: 799.3472\n",
            "Epoch 83/100\n",
            "4/4 [==============================] - 1s 317ms/step - loss: 174.9675 - mae: 9.6151 - mse: 174.9675 - val_loss: 753.9943 - val_mae: 22.4253 - val_mse: 753.9943\n",
            "Epoch 84/100\n",
            "4/4 [==============================] - 1s 309ms/step - loss: 167.5167 - mae: 9.4930 - mse: 167.5167 - val_loss: 817.1901 - val_mae: 23.5747 - val_mse: 817.1901\n",
            "Epoch 85/100\n",
            "4/4 [==============================] - 1s 310ms/step - loss: 159.3645 - mae: 9.2109 - mse: 159.3645 - val_loss: 762.2667 - val_mae: 22.7661 - val_mse: 762.2667\n",
            "Epoch 86/100\n",
            "4/4 [==============================] - 1s 321ms/step - loss: 149.0373 - mae: 8.7201 - mse: 149.0373 - val_loss: 798.7294 - val_mae: 23.3567 - val_mse: 798.7294\n",
            "Epoch 87/100\n",
            "4/4 [==============================] - 1s 318ms/step - loss: 144.6441 - mae: 8.7227 - mse: 144.6441 - val_loss: 825.9151 - val_mae: 23.7816 - val_mse: 825.9150\n",
            "Epoch 88/100\n",
            "4/4 [==============================] - 1s 345ms/step - loss: 144.9466 - mae: 8.6398 - mse: 144.9466 - val_loss: 782.7327 - val_mae: 23.0199 - val_mse: 782.7327\n",
            "Epoch 89/100\n",
            "4/4 [==============================] - 1s 334ms/step - loss: 140.8096 - mae: 8.4360 - mse: 140.8096 - val_loss: 858.3162 - val_mae: 24.1016 - val_mse: 858.3162\n",
            "Epoch 90/100\n",
            "4/4 [==============================] - 1s 322ms/step - loss: 144.6312 - mae: 8.3243 - mse: 144.6312 - val_loss: 854.9697 - val_mae: 24.3436 - val_mse: 854.9697\n",
            "Epoch 91/100\n",
            "4/4 [==============================] - 1s 322ms/step - loss: 155.2675 - mae: 8.8234 - mse: 155.2675 - val_loss: 769.6810 - val_mae: 22.6788 - val_mse: 769.6810\n",
            "Epoch 92/100\n",
            "4/4 [==============================] - 1s 320ms/step - loss: 149.5026 - mae: 8.5121 - mse: 149.5026 - val_loss: 1022.0176 - val_mae: 26.3507 - val_mse: 1022.0176\n",
            "Epoch 93/100\n",
            "4/4 [==============================] - 1s 328ms/step - loss: 145.7416 - mae: 8.4647 - mse: 145.7416 - val_loss: 915.9764 - val_mae: 25.0679 - val_mse: 915.9764\n",
            "Epoch 94/100\n",
            "4/4 [==============================] - 1s 342ms/step - loss: 144.0827 - mae: 8.6215 - mse: 144.0827 - val_loss: 872.7071 - val_mae: 24.5710 - val_mse: 872.7071\n",
            "Epoch 95/100\n",
            "4/4 [==============================] - 1s 322ms/step - loss: 134.9440 - mae: 8.3988 - mse: 134.9440 - val_loss: 915.8679 - val_mae: 25.0360 - val_mse: 915.8679\n",
            "Epoch 96/100\n",
            "4/4 [==============================] - 1s 325ms/step - loss: 133.1352 - mae: 8.0793 - mse: 133.1352 - val_loss: 825.8098 - val_mae: 23.4336 - val_mse: 825.8098\n",
            "Epoch 97/100\n",
            "4/4 [==============================] - 1s 337ms/step - loss: 123.8157 - mae: 7.7570 - mse: 123.8157 - val_loss: 869.9280 - val_mae: 24.2445 - val_mse: 869.9280\n",
            "Epoch 98/100\n",
            "4/4 [==============================] - 1s 328ms/step - loss: 122.3207 - mae: 7.6754 - mse: 122.3207 - val_loss: 866.6546 - val_mae: 24.1501 - val_mse: 866.6545\n",
            "Epoch 99/100\n",
            "4/4 [==============================] - 1s 325ms/step - loss: 118.5247 - mae: 7.3595 - mse: 118.5247 - val_loss: 864.0650 - val_mae: 24.0246 - val_mse: 864.0650\n",
            "Epoch 100/100\n",
            "4/4 [==============================] - 1s 320ms/step - loss: 122.7884 - mae: 7.3155 - mse: 122.7884 - val_loss: 929.9263 - val_mae: 24.9893 - val_mse: 929.9263\n"
          ]
        }
      ]
    },
    {
      "cell_type": "markdown",
      "source": [
        "GRU"
      ],
      "metadata": {
        "id": "kHh0g_qPm_bm"
      }
    },
    {
      "cell_type": "code",
      "source": [
        "i=Input(shape=(T,1))\n",
        "x=GRU(200,return_sequences=True)(i)\n",
        "x=GRU(200,return_sequences=True)(x)\n",
        "x=GlobalMaxPooling1D()(x)\n",
        "x=Dense(100)(x)\n",
        "x=Dense(50)(x)\n",
        "x=Dense(1)(x)\n",
        "model_gru=Model(i,x)\n",
        "model_gru.summary"
      ],
      "metadata": {
        "colab": {
          "base_uri": "https://localhost:8080/",
          "height": 0
        },
        "id": "H4llpd_HnCsP",
        "outputId": "3549c917-7654-4da6-d248-4d2fc1b70c22"
      },
      "execution_count": 135,
      "outputs": [
        {
          "output_type": "execute_result",
          "data": {
            "text/plain": [
              "<bound method Model.summary of <keras.engine.functional.Functional object at 0x7fa7552616d0>>"
            ]
          },
          "metadata": {},
          "execution_count": 135
        }
      ]
    },
    {
      "cell_type": "code",
      "source": [
        "check_point_gru=ModelCheckpoint('best_model.h5',monitor='val_loss',save_best_only=True)"
      ],
      "metadata": {
        "id": "J4ilpuAHnCxN"
      },
      "execution_count": 136,
      "outputs": []
    },
    {
      "cell_type": "code",
      "source": [
        "model_gru.compile(loss='mse',\n",
        "              optimizer='adamax',\n",
        "              metrics=['mae','mse'])"
      ],
      "metadata": {
        "id": "KE1MOiZknC6g"
      },
      "execution_count": 137,
      "outputs": []
    },
    {
      "cell_type": "code",
      "source": [
        "r=model_gru.fit(\n",
        "    Xtrain,\n",
        "    Ytrain,\n",
        "    epochs=100,\n",
        "    validation_data=(Xtest,Ytest),\n",
        "    callbacks=[check_point_gru]\n",
        ")"
      ],
      "metadata": {
        "colab": {
          "base_uri": "https://localhost:8080/",
          "height": 0
        },
        "id": "nfam1HSPnWSf",
        "outputId": "c0af0994-ea2e-4d3b-bebb-8064f26cbb2a"
      },
      "execution_count": 140,
      "outputs": [
        {
          "output_type": "stream",
          "name": "stdout",
          "text": [
            "Epoch 1/100\n",
            "4/4 [==============================] - 6s 566ms/step - loss: 447.6551 - mae: 15.0462 - mse: 447.6551 - val_loss: 352.5046 - val_mae: 14.9082 - val_mse: 352.5046\n",
            "Epoch 2/100\n",
            "4/4 [==============================] - 1s 283ms/step - loss: 439.6837 - mae: 14.8601 - mse: 439.6837 - val_loss: 342.3377 - val_mae: 14.7402 - val_mse: 342.3377\n",
            "Epoch 3/100\n",
            "4/4 [==============================] - 1s 273ms/step - loss: 439.3427 - mae: 14.8864 - mse: 439.3427 - val_loss: 342.3847 - val_mae: 14.7273 - val_mse: 342.3847\n",
            "Epoch 4/100\n",
            "4/4 [==============================] - 1s 274ms/step - loss: 437.4954 - mae: 14.8425 - mse: 437.4954 - val_loss: 342.9583 - val_mae: 14.7619 - val_mse: 342.9583\n",
            "Epoch 5/100\n",
            "4/4 [==============================] - 1s 278ms/step - loss: 434.9413 - mae: 14.7752 - mse: 434.9413 - val_loss: 344.5293 - val_mae: 14.7959 - val_mse: 344.5293\n",
            "Epoch 6/100\n",
            "4/4 [==============================] - 1s 278ms/step - loss: 435.2366 - mae: 14.7659 - mse: 435.2366 - val_loss: 346.4960 - val_mae: 14.8303 - val_mse: 346.4960\n",
            "Epoch 7/100\n",
            "4/4 [==============================] - 1s 281ms/step - loss: 434.1046 - mae: 14.7482 - mse: 434.1046 - val_loss: 346.2002 - val_mae: 14.8285 - val_mse: 346.2002\n",
            "Epoch 8/100\n",
            "4/4 [==============================] - 1s 276ms/step - loss: 435.7629 - mae: 14.7657 - mse: 435.7629 - val_loss: 343.9094 - val_mae: 14.7896 - val_mse: 343.9094\n",
            "Epoch 9/100\n",
            "4/4 [==============================] - 1s 284ms/step - loss: 432.4866 - mae: 14.7452 - mse: 432.4866 - val_loss: 344.0989 - val_mae: 14.7966 - val_mse: 344.0989\n",
            "Epoch 10/100\n",
            "4/4 [==============================] - 1s 278ms/step - loss: 432.8087 - mae: 14.7466 - mse: 432.8087 - val_loss: 344.8362 - val_mae: 14.8106 - val_mse: 344.8362\n",
            "Epoch 11/100\n",
            "4/4 [==============================] - 1s 279ms/step - loss: 431.4392 - mae: 14.7406 - mse: 431.4392 - val_loss: 344.4433 - val_mae: 14.8104 - val_mse: 344.4433\n",
            "Epoch 12/100\n",
            "4/4 [==============================] - 1s 279ms/step - loss: 430.4302 - mae: 14.7384 - mse: 430.4302 - val_loss: 344.6991 - val_mae: 14.8192 - val_mse: 344.6991\n",
            "Epoch 13/100\n",
            "4/4 [==============================] - 1s 285ms/step - loss: 429.3866 - mae: 14.7273 - mse: 429.3866 - val_loss: 345.0757 - val_mae: 14.8297 - val_mse: 345.0757\n",
            "Epoch 14/100\n",
            "4/4 [==============================] - 1s 276ms/step - loss: 428.3230 - mae: 14.7181 - mse: 428.3230 - val_loss: 345.3557 - val_mae: 14.8385 - val_mse: 345.3557\n",
            "Epoch 15/100\n",
            "4/4 [==============================] - 1s 286ms/step - loss: 427.2509 - mae: 14.7132 - mse: 427.2509 - val_loss: 345.8860 - val_mae: 14.8543 - val_mse: 345.8860\n",
            "Epoch 16/100\n",
            "4/4 [==============================] - 1s 276ms/step - loss: 425.7332 - mae: 14.6919 - mse: 425.7332 - val_loss: 346.6407 - val_mae: 14.8752 - val_mse: 346.6407\n",
            "Epoch 17/100\n",
            "4/4 [==============================] - 1s 282ms/step - loss: 425.2555 - mae: 14.7002 - mse: 425.2555 - val_loss: 347.6237 - val_mae: 14.9020 - val_mse: 347.6237\n",
            "Epoch 18/100\n",
            "4/4 [==============================] - 1s 274ms/step - loss: 423.2302 - mae: 14.6784 - mse: 423.2302 - val_loss: 348.4135 - val_mae: 14.9076 - val_mse: 348.4135\n",
            "Epoch 19/100\n",
            "4/4 [==============================] - 1s 298ms/step - loss: 422.1425 - mae: 14.6776 - mse: 422.1425 - val_loss: 349.2066 - val_mae: 14.9332 - val_mse: 349.2066\n",
            "Epoch 20/100\n",
            "4/4 [==============================] - 1s 290ms/step - loss: 419.1226 - mae: 14.6364 - mse: 419.1226 - val_loss: 350.5752 - val_mae: 14.9404 - val_mse: 350.5752\n",
            "Epoch 21/100\n",
            "4/4 [==============================] - 1s 282ms/step - loss: 417.3306 - mae: 14.6377 - mse: 417.3306 - val_loss: 352.6803 - val_mae: 14.9567 - val_mse: 352.6803\n",
            "Epoch 22/100\n",
            "4/4 [==============================] - 1s 271ms/step - loss: 415.7414 - mae: 14.6317 - mse: 415.7414 - val_loss: 355.3824 - val_mae: 14.9912 - val_mse: 355.3824\n",
            "Epoch 23/100\n",
            "4/4 [==============================] - 1s 282ms/step - loss: 413.8051 - mae: 14.6222 - mse: 413.8051 - val_loss: 358.6884 - val_mae: 15.0518 - val_mse: 358.6884\n",
            "Epoch 24/100\n",
            "4/4 [==============================] - 1s 270ms/step - loss: 413.8165 - mae: 14.5506 - mse: 413.8165 - val_loss: 358.3529 - val_mae: 15.1427 - val_mse: 358.3529\n",
            "Epoch 25/100\n",
            "4/4 [==============================] - 1s 272ms/step - loss: 410.8618 - mae: 14.6232 - mse: 410.8618 - val_loss: 363.8556 - val_mae: 15.1645 - val_mse: 363.8556\n",
            "Epoch 26/100\n",
            "4/4 [==============================] - 1s 278ms/step - loss: 405.3570 - mae: 14.5033 - mse: 405.3570 - val_loss: 368.3664 - val_mae: 15.2270 - val_mse: 368.3664\n",
            "Epoch 27/100\n",
            "4/4 [==============================] - 1s 283ms/step - loss: 402.6411 - mae: 14.4989 - mse: 402.6411 - val_loss: 372.7182 - val_mae: 15.3029 - val_mse: 372.7182\n",
            "Epoch 28/100\n",
            "4/4 [==============================] - 1s 273ms/step - loss: 399.6276 - mae: 14.4590 - mse: 399.6276 - val_loss: 374.7767 - val_mae: 15.3649 - val_mse: 374.7767\n",
            "Epoch 29/100\n",
            "4/4 [==============================] - 1s 285ms/step - loss: 396.9179 - mae: 14.4039 - mse: 396.9179 - val_loss: 385.1530 - val_mae: 15.5783 - val_mse: 385.1530\n",
            "Epoch 30/100\n",
            "4/4 [==============================] - 1s 277ms/step - loss: 393.8320 - mae: 14.4046 - mse: 393.8320 - val_loss: 396.4474 - val_mae: 15.8138 - val_mse: 396.4474\n",
            "Epoch 31/100\n",
            "4/4 [==============================] - 1s 288ms/step - loss: 388.5336 - mae: 14.3174 - mse: 388.5336 - val_loss: 400.7607 - val_mae: 15.9403 - val_mse: 400.7607\n",
            "Epoch 32/100\n",
            "4/4 [==============================] - 1s 280ms/step - loss: 385.3755 - mae: 14.2506 - mse: 385.3755 - val_loss: 406.8748 - val_mae: 16.0994 - val_mse: 406.8748\n",
            "Epoch 33/100\n",
            "4/4 [==============================] - 1s 281ms/step - loss: 382.9077 - mae: 14.1756 - mse: 382.9077 - val_loss: 423.9031 - val_mae: 16.5014 - val_mse: 423.9031\n",
            "Epoch 34/100\n",
            "4/4 [==============================] - 1s 283ms/step - loss: 380.5516 - mae: 14.2173 - mse: 380.5516 - val_loss: 437.6400 - val_mae: 16.8404 - val_mse: 437.6400\n",
            "Epoch 35/100\n",
            "4/4 [==============================] - 1s 276ms/step - loss: 374.0560 - mae: 14.0950 - mse: 374.0560 - val_loss: 440.7361 - val_mae: 16.9643 - val_mse: 440.7361\n",
            "Epoch 36/100\n",
            "4/4 [==============================] - 2s 689ms/step - loss: 371.9602 - mae: 14.0248 - mse: 371.9602 - val_loss: 460.2686 - val_mae: 17.3749 - val_mse: 460.2686\n",
            "Epoch 37/100\n",
            "4/4 [==============================] - 2s 405ms/step - loss: 368.7028 - mae: 13.9678 - mse: 368.7028 - val_loss: 477.8689 - val_mae: 17.7502 - val_mse: 477.8689\n",
            "Epoch 38/100\n",
            "4/4 [==============================] - 1s 303ms/step - loss: 366.5182 - mae: 13.9291 - mse: 366.5182 - val_loss: 490.4967 - val_mae: 18.0309 - val_mse: 490.4967\n",
            "Epoch 39/100\n",
            "4/4 [==============================] - 1s 382ms/step - loss: 368.9521 - mae: 14.0544 - mse: 368.9521 - val_loss: 537.4868 - val_mae: 18.8871 - val_mse: 537.4868\n",
            "Epoch 40/100\n",
            "4/4 [==============================] - 2s 507ms/step - loss: 357.7322 - mae: 13.8017 - mse: 357.7322 - val_loss: 509.5028 - val_mae: 18.4034 - val_mse: 509.5028\n",
            "Epoch 41/100\n",
            "4/4 [==============================] - 1s 289ms/step - loss: 359.9992 - mae: 13.6830 - mse: 359.9992 - val_loss: 537.4882 - val_mae: 18.8809 - val_mse: 537.4882\n",
            "Epoch 42/100\n",
            "4/4 [==============================] - 1s 378ms/step - loss: 356.8897 - mae: 13.7253 - mse: 356.8897 - val_loss: 564.7400 - val_mae: 19.3781 - val_mse: 564.7400\n",
            "Epoch 43/100\n",
            "4/4 [==============================] - 1s 388ms/step - loss: 354.7525 - mae: 13.5912 - mse: 354.7525 - val_loss: 543.1189 - val_mae: 19.0006 - val_mse: 543.1189\n",
            "Epoch 44/100\n",
            "4/4 [==============================] - 1s 284ms/step - loss: 350.0792 - mae: 13.7283 - mse: 350.0792 - val_loss: 586.5933 - val_mae: 19.7461 - val_mse: 586.5933\n",
            "Epoch 45/100\n",
            "4/4 [==============================] - 1s 322ms/step - loss: 345.5385 - mae: 13.4784 - mse: 345.5385 - val_loss: 586.7277 - val_mae: 19.7167 - val_mse: 586.7277\n",
            "Epoch 46/100\n",
            "4/4 [==============================] - 1s 372ms/step - loss: 351.2109 - mae: 13.6189 - mse: 351.2109 - val_loss: 592.6778 - val_mae: 19.8239 - val_mse: 592.6778\n",
            "Epoch 47/100\n",
            "4/4 [==============================] - 1s 309ms/step - loss: 338.3563 - mae: 13.3709 - mse: 338.3563 - val_loss: 656.9541 - val_mae: 21.1145 - val_mse: 656.9541\n",
            "Epoch 48/100\n",
            "4/4 [==============================] - 1s 355ms/step - loss: 340.9683 - mae: 13.4907 - mse: 340.9683 - val_loss: 624.9949 - val_mae: 20.3840 - val_mse: 624.9949\n",
            "Epoch 49/100\n",
            "4/4 [==============================] - 2s 445ms/step - loss: 341.5783 - mae: 13.4046 - mse: 341.5783 - val_loss: 614.9348 - val_mae: 20.2118 - val_mse: 614.9348\n",
            "Epoch 50/100\n",
            "4/4 [==============================] - 1s 279ms/step - loss: 334.6343 - mae: 13.2006 - mse: 334.6343 - val_loss: 672.0859 - val_mae: 21.2412 - val_mse: 672.0859\n",
            "Epoch 51/100\n",
            "4/4 [==============================] - 1s 278ms/step - loss: 334.7480 - mae: 13.3300 - mse: 334.7480 - val_loss: 670.9062 - val_mae: 21.2551 - val_mse: 670.9062\n",
            "Epoch 52/100\n",
            "4/4 [==============================] - 1s 295ms/step - loss: 329.4734 - mae: 13.1251 - mse: 329.4734 - val_loss: 636.3533 - val_mae: 20.5645 - val_mse: 636.3533\n",
            "Epoch 53/100\n",
            "4/4 [==============================] - 1s 282ms/step - loss: 327.7037 - mae: 13.1311 - mse: 327.7037 - val_loss: 715.5253 - val_mae: 22.0426 - val_mse: 715.5253\n",
            "Epoch 54/100\n",
            "4/4 [==============================] - 1s 367ms/step - loss: 345.9656 - mae: 13.5221 - mse: 345.9656 - val_loss: 790.3049 - val_mae: 23.4445 - val_mse: 790.3049\n",
            "Epoch 55/100\n",
            "4/4 [==============================] - 1s 279ms/step - loss: 326.3024 - mae: 13.0711 - mse: 326.3024 - val_loss: 655.3578 - val_mae: 20.8908 - val_mse: 655.3578\n",
            "Epoch 56/100\n",
            "4/4 [==============================] - 1s 339ms/step - loss: 327.0435 - mae: 13.3301 - mse: 327.0435 - val_loss: 650.6234 - val_mae: 20.8078 - val_mse: 650.6234\n",
            "Epoch 57/100\n",
            "4/4 [==============================] - 1s 349ms/step - loss: 319.9582 - mae: 12.9935 - mse: 319.9582 - val_loss: 734.0272 - val_mae: 22.2988 - val_mse: 734.0272\n",
            "Epoch 58/100\n",
            "4/4 [==============================] - 1s 310ms/step - loss: 315.6277 - mae: 12.8380 - mse: 315.6277 - val_loss: 759.3888 - val_mae: 22.7493 - val_mse: 759.3888\n",
            "Epoch 59/100\n",
            "4/4 [==============================] - 1s 298ms/step - loss: 314.3097 - mae: 12.8234 - mse: 314.3097 - val_loss: 713.5417 - val_mae: 21.9499 - val_mse: 713.5417\n",
            "Epoch 60/100\n",
            "4/4 [==============================] - 1s 282ms/step - loss: 310.1642 - mae: 12.6885 - mse: 310.1642 - val_loss: 730.7697 - val_mae: 22.2772 - val_mse: 730.7697\n",
            "Epoch 61/100\n",
            "4/4 [==============================] - 1s 309ms/step - loss: 308.5940 - mae: 12.6800 - mse: 308.5940 - val_loss: 736.4717 - val_mae: 22.3415 - val_mse: 736.4717\n",
            "Epoch 62/100\n",
            "4/4 [==============================] - 1s 376ms/step - loss: 304.3933 - mae: 12.5529 - mse: 304.3933 - val_loss: 783.4966 - val_mae: 23.1520 - val_mse: 783.4966\n",
            "Epoch 63/100\n",
            "4/4 [==============================] - 1s 356ms/step - loss: 308.1660 - mae: 12.6565 - mse: 308.1660 - val_loss: 844.0238 - val_mae: 24.1247 - val_mse: 844.0238\n",
            "Epoch 64/100\n",
            "4/4 [==============================] - 1s 358ms/step - loss: 298.5657 - mae: 12.4318 - mse: 298.5657 - val_loss: 765.0308 - val_mae: 22.7844 - val_mse: 765.0308\n",
            "Epoch 65/100\n",
            "4/4 [==============================] - 1s 337ms/step - loss: 301.7615 - mae: 12.6803 - mse: 301.7615 - val_loss: 764.3252 - val_mae: 22.8149 - val_mse: 764.3252\n",
            "Epoch 66/100\n",
            "4/4 [==============================] - 1s 308ms/step - loss: 301.7368 - mae: 12.5293 - mse: 301.7368 - val_loss: 918.1465 - val_mae: 25.3494 - val_mse: 918.1465\n",
            "Epoch 67/100\n",
            "4/4 [==============================] - 1s 341ms/step - loss: 299.5602 - mae: 12.5086 - mse: 299.5602 - val_loss: 864.2488 - val_mae: 24.4616 - val_mse: 864.2488\n",
            "Epoch 68/100\n",
            "4/4 [==============================] - 1s 287ms/step - loss: 295.9149 - mae: 12.5573 - mse: 295.9149 - val_loss: 779.4540 - val_mae: 22.9795 - val_mse: 779.4540\n",
            "Epoch 69/100\n",
            "4/4 [==============================] - 1s 323ms/step - loss: 296.1276 - mae: 12.5252 - mse: 296.1276 - val_loss: 905.3577 - val_mae: 25.1093 - val_mse: 905.3577\n",
            "Epoch 70/100\n",
            "4/4 [==============================] - 1s 340ms/step - loss: 287.8374 - mae: 12.1593 - mse: 287.8374 - val_loss: 890.3765 - val_mae: 24.9059 - val_mse: 890.3765\n",
            "Epoch 71/100\n",
            "4/4 [==============================] - 1s 336ms/step - loss: 285.3661 - mae: 12.0991 - mse: 285.3661 - val_loss: 857.4633 - val_mae: 24.3755 - val_mse: 857.4633\n",
            "Epoch 72/100\n",
            "4/4 [==============================] - 1s 379ms/step - loss: 294.9156 - mae: 12.4743 - mse: 294.9156 - val_loss: 839.6438 - val_mae: 24.0260 - val_mse: 839.6438\n",
            "Epoch 73/100\n",
            "4/4 [==============================] - 1s 274ms/step - loss: 287.3312 - mae: 12.2488 - mse: 287.3312 - val_loss: 1029.2141 - val_mae: 26.9503 - val_mse: 1029.2141\n",
            "Epoch 74/100\n",
            "4/4 [==============================] - 1s 274ms/step - loss: 284.0751 - mae: 12.0835 - mse: 284.0751 - val_loss: 894.8774 - val_mae: 24.8927 - val_mse: 894.8774\n",
            "Epoch 75/100\n",
            "4/4 [==============================] - 1s 274ms/step - loss: 280.7260 - mae: 12.2541 - mse: 280.7260 - val_loss: 924.6571 - val_mae: 25.4037 - val_mse: 924.6571\n",
            "Epoch 76/100\n",
            "4/4 [==============================] - 1s 280ms/step - loss: 274.5484 - mae: 11.8637 - mse: 274.5484 - val_loss: 954.5727 - val_mae: 25.9046 - val_mse: 954.5727\n",
            "Epoch 77/100\n",
            "4/4 [==============================] - 1s 277ms/step - loss: 271.9453 - mae: 11.8694 - mse: 271.9453 - val_loss: 986.0702 - val_mae: 26.3356 - val_mse: 986.0702\n",
            "Epoch 78/100\n",
            "4/4 [==============================] - 1s 277ms/step - loss: 270.5055 - mae: 11.8423 - mse: 270.5055 - val_loss: 979.1480 - val_mae: 26.2209 - val_mse: 979.1480\n",
            "Epoch 79/100\n",
            "4/4 [==============================] - 1s 357ms/step - loss: 268.1669 - mae: 11.7452 - mse: 268.1669 - val_loss: 1089.5674 - val_mae: 27.8136 - val_mse: 1089.5674\n",
            "Epoch 80/100\n",
            "4/4 [==============================] - 1s 278ms/step - loss: 265.7599 - mae: 11.7047 - mse: 265.7599 - val_loss: 977.1166 - val_mae: 26.1845 - val_mse: 977.1166\n",
            "Epoch 81/100\n",
            "4/4 [==============================] - 1s 280ms/step - loss: 262.2372 - mae: 11.8239 - mse: 262.2372 - val_loss: 1071.7319 - val_mae: 27.5895 - val_mse: 1071.7319\n",
            "Epoch 82/100\n",
            "4/4 [==============================] - 1s 286ms/step - loss: 262.8348 - mae: 11.5735 - mse: 262.8348 - val_loss: 1074.5592 - val_mae: 27.5680 - val_mse: 1074.5592\n",
            "Epoch 83/100\n",
            "4/4 [==============================] - 2s 429ms/step - loss: 253.3761 - mae: 11.3695 - mse: 253.3761 - val_loss: 1080.6173 - val_mae: 27.6651 - val_mse: 1080.6173\n",
            "Epoch 84/100\n",
            "4/4 [==============================] - 2s 316ms/step - loss: 261.3036 - mae: 11.5157 - mse: 261.3036 - val_loss: 1133.2518 - val_mae: 28.4739 - val_mse: 1133.2518\n",
            "Epoch 85/100\n",
            "4/4 [==============================] - 2s 551ms/step - loss: 246.6831 - mae: 11.4247 - mse: 246.6831 - val_loss: 1038.3937 - val_mae: 27.0434 - val_mse: 1038.3937\n",
            "Epoch 86/100\n",
            "4/4 [==============================] - 1s 279ms/step - loss: 246.9422 - mae: 11.4979 - mse: 246.9422 - val_loss: 1140.4520 - val_mae: 28.5568 - val_mse: 1140.4520\n",
            "Epoch 87/100\n",
            "4/4 [==============================] - 1s 376ms/step - loss: 244.7968 - mae: 11.3178 - mse: 244.7968 - val_loss: 1201.2275 - val_mae: 29.4664 - val_mse: 1201.2275\n",
            "Epoch 88/100\n",
            "4/4 [==============================] - 1s 278ms/step - loss: 254.8200 - mae: 11.8315 - mse: 254.8200 - val_loss: 1048.6388 - val_mae: 27.2375 - val_mse: 1048.6388\n",
            "Epoch 89/100\n",
            "4/4 [==============================] - 1s 279ms/step - loss: 246.7442 - mae: 11.3180 - mse: 246.7442 - val_loss: 1331.0802 - val_mae: 31.1771 - val_mse: 1331.0802\n",
            "Epoch 90/100\n",
            "4/4 [==============================] - 1s 384ms/step - loss: 241.6426 - mae: 11.2920 - mse: 241.6426 - val_loss: 1081.1836 - val_mae: 27.6871 - val_mse: 1081.1836\n",
            "Epoch 91/100\n",
            "4/4 [==============================] - 1s 302ms/step - loss: 236.1536 - mae: 11.1962 - mse: 236.1536 - val_loss: 1210.5137 - val_mae: 29.5132 - val_mse: 1210.5137\n",
            "Epoch 92/100\n",
            "4/4 [==============================] - 1s 345ms/step - loss: 238.3359 - mae: 11.2737 - mse: 238.3359 - val_loss: 1281.3207 - val_mae: 30.4565 - val_mse: 1281.3207\n",
            "Epoch 93/100\n",
            "4/4 [==============================] - 1s 282ms/step - loss: 238.8769 - mae: 11.3275 - mse: 238.8769 - val_loss: 1158.6625 - val_mae: 28.7941 - val_mse: 1158.6625\n",
            "Epoch 94/100\n",
            "4/4 [==============================] - 1s 298ms/step - loss: 223.7579 - mae: 10.7594 - mse: 223.7579 - val_loss: 1329.4113 - val_mae: 31.2651 - val_mse: 1329.4113\n",
            "Epoch 95/100\n",
            "4/4 [==============================] - 1s 361ms/step - loss: 229.8355 - mae: 11.2011 - mse: 229.8355 - val_loss: 1205.4004 - val_mae: 29.4246 - val_mse: 1205.4004\n",
            "Epoch 96/100\n",
            "4/4 [==============================] - 1s 288ms/step - loss: 224.3082 - mae: 10.8324 - mse: 224.3082 - val_loss: 1304.1998 - val_mae: 30.7378 - val_mse: 1304.1998\n",
            "Epoch 97/100\n",
            "4/4 [==============================] - 1s 329ms/step - loss: 215.7178 - mae: 10.5979 - mse: 215.7178 - val_loss: 1300.9485 - val_mae: 30.7769 - val_mse: 1300.9485\n",
            "Epoch 98/100\n",
            "4/4 [==============================] - 1s 349ms/step - loss: 212.1309 - mae: 10.5491 - mse: 212.1309 - val_loss: 1287.0649 - val_mae: 30.6297 - val_mse: 1287.0649\n",
            "Epoch 99/100\n",
            "4/4 [==============================] - 1s 279ms/step - loss: 208.0768 - mae: 10.5048 - mse: 208.0768 - val_loss: 1287.8073 - val_mae: 30.6239 - val_mse: 1287.8073\n",
            "Epoch 100/100\n",
            "4/4 [==============================] - 1s 289ms/step - loss: 211.0878 - mae: 10.7846 - mse: 211.0878 - val_loss: 1376.7368 - val_mae: 31.8119 - val_mse: 1376.7368\n"
          ]
        }
      ]
    },
    {
      "cell_type": "markdown",
      "source": [
        "Predictions"
      ],
      "metadata": {
        "id": "hjVQsanxpHma"
      }
    },
    {
      "cell_type": "code",
      "source": [
        "train_idx[:T+1]=False"
      ],
      "metadata": {
        "id": "f1Llph9XdeVY"
      },
      "execution_count": 141,
      "outputs": []
    },
    {
      "cell_type": "code",
      "source": [
        "Ptrain_ann=model_ann.predict(Xtrain).flatten()\n",
        "Ptest_ann=model_ann.predict(Xtest).flatten()\n"
      ],
      "metadata": {
        "id": "96WR1e3Sdgle"
      },
      "execution_count": 142,
      "outputs": []
    },
    {
      "cell_type": "code",
      "source": [
        "Ptrain_cnn=model_cnn.predict(Xtrain).flatten()\n",
        "Ptest_cnn=model_cnn.predict(Xtest).flatten()"
      ],
      "metadata": {
        "id": "Pc5bF6Z_gUGI"
      },
      "execution_count": 143,
      "outputs": []
    },
    {
      "cell_type": "code",
      "source": [
        "Ptrain_lstm=model_lstm.predict(Xtrain).flatten()\n",
        "Ptest_lstm=model_lstm.predict(Xtest).flatten()"
      ],
      "metadata": {
        "id": "LWhMPuCvjAIS"
      },
      "execution_count": 144,
      "outputs": []
    },
    {
      "cell_type": "code",
      "source": [
        "Ptrain_gru=model_gru.predict(Xtrain).flatten()\n",
        "Ptest_gru=model_gru.predict(Xtest).flatten()"
      ],
      "metadata": {
        "id": "znvUQWrKnmIj"
      },
      "execution_count": 145,
      "outputs": []
    },
    {
      "cell_type": "code",
      "source": [
        "df.loc[train_idx,'Diff ANN train prediction']=Ptrain_ann\n",
        "df.loc[test_idx,'Diff ANN test prediction']=Ptest_ann"
      ],
      "metadata": {
        "id": "L7p_peucdjgP"
      },
      "execution_count": 146,
      "outputs": []
    },
    {
      "cell_type": "code",
      "source": [
        "df.loc[train_idx,'Diff CNN train prediction']=Ptrain_cnn\n",
        "df.loc[test_idx,'Diff CNN test prediction']=Ptest_cnn"
      ],
      "metadata": {
        "id": "YcnY5nc6gaG6"
      },
      "execution_count": 147,
      "outputs": []
    },
    {
      "cell_type": "code",
      "source": [
        "df.loc[train_idx,'Diff LSTM train prediction']=Ptrain_lstm\n",
        "df.loc[test_idx,'Diff LSTM test prediction']=Ptest_lstm"
      ],
      "metadata": {
        "id": "8p_92fO6jTpW"
      },
      "execution_count": 148,
      "outputs": []
    },
    {
      "cell_type": "code",
      "source": [
        "df.loc[train_idx,'Diff GRU train prediction']=Ptrain_gru\n",
        "df.loc[test_idx,'Diff GRU test prediction']=Ptest_gru"
      ],
      "metadata": {
        "id": "nmUC4sKpnsIl"
      },
      "execution_count": 149,
      "outputs": []
    },
    {
      "cell_type": "code",
      "source": [
        "df['Shift Prev Close']=df['Prev Close'].shift(1)\n",
        "prev=df['Shift Prev Close']"
      ],
      "metadata": {
        "id": "Ea7RmDuJdpgz"
      },
      "execution_count": 150,
      "outputs": []
    },
    {
      "cell_type": "code",
      "source": [
        "last_train=train.iloc[-1]['Prev Close']"
      ],
      "metadata": {
        "id": "hrhOEI3fduRI"
      },
      "execution_count": 151,
      "outputs": []
    },
    {
      "cell_type": "code",
      "source": [
        "df.loc[train_idx,'train_ANN']=prev[train_idx]+Ptrain_ann\n",
        "df.loc[test_idx,'Prediction_ANN']=prev[test_idx]+Ptest_ann"
      ],
      "metadata": {
        "id": "h0UpXNAXd0Uy"
      },
      "execution_count": 152,
      "outputs": []
    },
    {
      "cell_type": "code",
      "source": [
        "df.loc[train_idx,'train_CNN']=prev[train_idx]+Ptrain_cnn\n",
        "df.loc[test_idx,'Prediction_CNN']=prev[test_idx]+Ptest_cnn"
      ],
      "metadata": {
        "id": "EUYdfUqdg5Tu"
      },
      "execution_count": 153,
      "outputs": []
    },
    {
      "cell_type": "code",
      "source": [
        "df.loc[train_idx,'train_LSTM']=prev[train_idx]+Ptrain_lstm\n",
        "df.loc[test_idx,'Prediction_LSTM']=prev[test_idx]+Ptest_lstm"
      ],
      "metadata": {
        "id": "Na8TIloyjc_Z"
      },
      "execution_count": 154,
      "outputs": []
    },
    {
      "cell_type": "code",
      "source": [
        "df.loc[train_idx,'train_GRU']=prev[train_idx]+Ptrain_gru\n",
        "df.loc[test_idx,'Prediction_GRU']=prev[test_idx]+Ptest_gru"
      ],
      "metadata": {
        "id": "qSL8wEeqnzrM"
      },
      "execution_count": 155,
      "outputs": []
    },
    {
      "cell_type": "code",
      "source": [
        "df[[ 'Prev Close','Prediction_CNN','Prediction_ANN','Prediction_LSTM','Prediction_GRU']].plot(figsize=(15,10));"
      ],
      "metadata": {
        "colab": {
          "base_uri": "https://localhost:8080/",
          "height": 422
        },
        "id": "hItPmrHOd45G",
        "outputId": "99883d32-c240-48ad-eae9-7089113c774e"
      },
      "execution_count": 156,
      "outputs": [
        {
          "output_type": "display_data",
          "data": {
            "text/plain": [
              "<Figure size 1080x720 with 1 Axes>"
            ],
            "image/png": "[encoded data removed]"
          },
          "metadata": {
            "needs_background": "light"
          }
        }
      ]
    },
    {
      "cell_type": "code",
      "source": [
        "df[[ 'Prediction_CNN','Prediction_ANN','Prediction_LSTM','Prediction_GRU']].plot(figsize=(15,10),\n",
        "    ylabel=(\"Previous Close\"));"
      ],
      "metadata": {
        "colab": {
          "base_uri": "https://localhost:8080/",
          "height": 421
        },
        "id": "8nDh9SzUd7Em",
        "outputId": "44ddd178-b5a2-47e5-e6d9-694327ea577d"
      },
      "execution_count": 160,
      "outputs": [
        {
          "output_type": "display_data",
          "data": {
            "text/plain": [
              "<Figure size 1080x720 with 1 Axes>"
            ],
            "image/png": "[encoded data removed]"
          },
          "metadata": {
            "needs_background": "light"
          }
        }
      ]
    },
    {
      "cell_type": "markdown",
      "source": [
        "Evaluation"
      ],
      "metadata": {
        "id": "rSXUYSDdpMP7"
      }
    },
    {
      "cell_type": "code",
      "source": [
        "pred_ann=df['Prediction_ANN']\n",
        "pred_ann.dropna(inplace=True)"
      ],
      "metadata": {
        "id": "NdOUWgEhoKjf"
      },
      "execution_count": 161,
      "outputs": []
    },
    {
      "cell_type": "code",
      "source": [
        "rmse=math.sqrt(mean_squared_error(test['Prev Close'],pred_ann))\n",
        "print(rmse)"
      ],
      "metadata": {
        "colab": {
          "base_uri": "https://localhost:8080/"
        },
        "id": "nsTCBQ6mpdH0",
        "outputId": "27363789-4385-4126-a726-c75a0272967f"
      },
      "execution_count": 163,
      "outputs": [
        {
          "output_type": "stream",
          "name": "stdout",
          "text": [
            "19.47815183555755\n"
          ]
        }
      ]
    },
    {
      "cell_type": "code",
      "source": [
        "error=mean_absolute_error(test['Prev Close'],pred_ann)\n",
        "print(error)"
      ],
      "metadata": {
        "colab": {
          "base_uri": "https://localhost:8080/"
        },
        "id": "iIAQHD7DpgVL",
        "outputId": "3f63c4a0-5fc4-4113-ed0c-3a79fd0f6b59"
      },
      "execution_count": 164,
      "outputs": [
        {
          "output_type": "stream",
          "name": "stdout",
          "text": [
            "15.882793166577812\n"
          ]
        }
      ]
    },
    {
      "cell_type": "code",
      "source": [
        "r2_score(test['Prev Close'],pred_ann)"
      ],
      "metadata": {
        "colab": {
          "base_uri": "https://localhost:8080/"
        },
        "id": "-0ZfJE4zplqz",
        "outputId": "1c8c1854-5ee5-4ed9-c5ba-fa4284f5f4df"
      },
      "execution_count": 165,
      "outputs": [
        {
          "output_type": "execute_result",
          "data": {
            "text/plain": [
              "0.9144741867946664"
            ]
          },
          "metadata": {},
          "execution_count": 165
        }
      ]
    },
    {
      "cell_type": "code",
      "source": [
        "pred_cnn=df['Prediction_CNN']\n",
        "pred_cnn.dropna(inplace=True)"
      ],
      "metadata": {
        "id": "NQ3y6NwzppdW"
      },
      "execution_count": 166,
      "outputs": []
    },
    {
      "cell_type": "code",
      "source": [
        "rmse=math.sqrt(mean_squared_error(test['Prev Close'],pred_cnn))\n",
        "print(rmse)"
      ],
      "metadata": {
        "colab": {
          "base_uri": "https://localhost:8080/"
        },
        "id": "2t7Fu7N-p9ql",
        "outputId": "c2e0fdaa-6a86-4efa-f079-0a29881748d6"
      },
      "execution_count": 168,
      "outputs": [
        {
          "output_type": "stream",
          "name": "stdout",
          "text": [
            "18.944763132815286\n"
          ]
        }
      ]
    },
    {
      "cell_type": "code",
      "source": [
        "error=mean_absolute_error(test['Prev Close'],pred_cnn)\n",
        "print(error)"
      ],
      "metadata": {
        "colab": {
          "base_uri": "https://localhost:8080/"
        },
        "id": "fCxfXZ3Cp92i",
        "outputId": "0b7c1d7d-7e83-4281-fb73-60e42bc38e34"
      },
      "execution_count": 169,
      "outputs": [
        {
          "output_type": "stream",
          "name": "stdout",
          "text": [
            "14.925461731463672\n"
          ]
        }
      ]
    },
    {
      "cell_type": "code",
      "source": [
        "r2_score(test['Prev Close'],pred_cnn)"
      ],
      "metadata": {
        "colab": {
          "base_uri": "https://localhost:8080/"
        },
        "id": "B1yNq5Vyp-Fv",
        "outputId": "0a278825-1e3f-4133-982f-65c19e092d83"
      },
      "execution_count": 170,
      "outputs": [
        {
          "output_type": "execute_result",
          "data": {
            "text/plain": [
              "0.9190941215378371"
            ]
          },
          "metadata": {},
          "execution_count": 170
        }
      ]
    },
    {
      "cell_type": "code",
      "source": [
        "pred_lstm=df['Prediction_LSTM']\n",
        "pred_lstm.dropna(inplace=True)"
      ],
      "metadata": {
        "id": "2JHbSsrypzko"
      },
      "execution_count": 167,
      "outputs": []
    },
    {
      "cell_type": "code",
      "source": [
        "rmse=math.sqrt(mean_squared_error(test['Prev Close'],pred_lstm))\n",
        "print(rmse)"
      ],
      "metadata": {
        "colab": {
          "base_uri": "https://localhost:8080/"
        },
        "id": "UXSSQRxQp-35",
        "outputId": "98e97348-8885-4292-b693-50965aacd757"
      },
      "execution_count": 171,
      "outputs": [
        {
          "output_type": "stream",
          "name": "stdout",
          "text": [
            "30.494695103421506\n"
          ]
        }
      ]
    },
    {
      "cell_type": "code",
      "source": [
        "error=mean_absolute_error(test['Prev Close'],pred_lstm)\n",
        "print(error)"
      ],
      "metadata": {
        "colab": {
          "base_uri": "https://localhost:8080/"
        },
        "id": "h9VZ6Odxp-9o",
        "outputId": "92abaefb-0c49-4e18-b766-958eee035bba"
      },
      "execution_count": 172,
      "outputs": [
        {
          "output_type": "stream",
          "name": "stdout",
          "text": [
            "24.989303448041284\n"
          ]
        }
      ]
    },
    {
      "cell_type": "code",
      "source": [
        "r2_score(test['Prev Close'],pred_lstm)"
      ],
      "metadata": {
        "colab": {
          "base_uri": "https://localhost:8080/"
        },
        "id": "X7FH8enup_D3",
        "outputId": "93152851-1ceb-4346-f128-cfa06633e9d3"
      },
      "execution_count": 173,
      "outputs": [
        {
          "output_type": "execute_result",
          "data": {
            "text/plain": [
              "0.7903715083553245"
            ]
          },
          "metadata": {},
          "execution_count": 173
        }
      ]
    },
    {
      "cell_type": "code",
      "source": [
        "pred_gru=df['Prediction_GRU']\n",
        "pred_gru.dropna(inplace=True)"
      ],
      "metadata": {
        "id": "i3IdPEAWp4iD"
      },
      "execution_count": 175,
      "outputs": []
    },
    {
      "cell_type": "code",
      "source": [
        "rmse=math.sqrt(mean_squared_error(test['Prev Close'],pred_gru))\n",
        "print(rmse)"
      ],
      "metadata": {
        "colab": {
          "base_uri": "https://localhost:8080/"
        },
        "id": "XuZAIPTEp_iy",
        "outputId": "e85f5cad-4bcc-49c3-a510-893c3c526db2"
      },
      "execution_count": 176,
      "outputs": [
        {
          "output_type": "stream",
          "name": "stdout",
          "text": [
            "37.10440421555714\n"
          ]
        }
      ]
    },
    {
      "cell_type": "code",
      "source": [
        "error=mean_absolute_error(test['Prev Close'],pred_gru)\n",
        "print(error)"
      ],
      "metadata": {
        "colab": {
          "base_uri": "https://localhost:8080/"
        },
        "id": "eo7EZVIop_np",
        "outputId": "0f1b68f3-d3ef-42a3-f106-b254722a5979"
      },
      "execution_count": 177,
      "outputs": [
        {
          "output_type": "stream",
          "name": "stdout",
          "text": [
            "31.811871470053998\n"
          ]
        }
      ]
    },
    {
      "cell_type": "code",
      "source": [
        "r2_score(test['Prev Close'],pred_gru)"
      ],
      "metadata": {
        "colab": {
          "base_uri": "https://localhost:8080/"
        },
        "id": "AQIh6l51p_so",
        "outputId": "30322713-4cc2-451e-8e93-430cc67fde13"
      },
      "execution_count": 178,
      "outputs": [
        {
          "output_type": "execute_result",
          "data": {
            "text/plain": [
              "0.6896493612920671"
            ]
          },
          "metadata": {},
          "execution_count": 178
        }
      ]
    },
    {
      "cell_type": "code",
      "source": [],
      "metadata": {
        "id": "gjfmkSgjqcjO"
      },
      "execution_count": 178,
      "outputs": []
    }
  ]
}