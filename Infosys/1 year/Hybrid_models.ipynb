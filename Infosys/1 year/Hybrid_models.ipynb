{
  "nbformat": 4,
  "nbformat_minor": 0,
  "metadata": {
    "colab": {
      "provenance": []
    },
    "kernelspec": {
      "name": "python3",
      "display_name": "Python 3"
    },
    "language_info": {
      "name": "python"
    }
  },
  "cells": [
    {
      "cell_type": "code",
      "execution_count": 1,
      "metadata": {
        "id": "dpI-f41n9Ofc"
      },
      "outputs": [],
      "source": [
        "import pandas as pd\n",
        "import numpy as np\n",
        "import matplotlib.pyplot as plt\n",
        "\n",
        "import tensorflow as tf\n",
        "from tensorflow.keras.layers import Dense, Input, GlobalMaxPool1D, LSTM, GRU\n",
        "from tensorflow.keras.layers import Conv1D, MaxPooling1D\n",
        "from tensorflow.keras.models import Model\n",
        "from tensorflow.keras.callbacks import ModelCheckpoint\n",
        "\n",
        "import math\n",
        "\n",
        "from sklearn.metrics import r2_score\n",
        "from sklearn.metrics import mean_absolute_error\n",
        "from sklearn.metrics import mean_squared_error\n",
        "\n",
        "np.random.seed(123)\n",
        "tf.random.set_seed(123)"
      ]
    },
    {
      "cell_type": "code",
      "source": [
        "df=pd.read_csv('./INFY.csv',index_col='Date',parse_dates=True)"
      ],
      "metadata": {
        "id": "tRrBpF6O9Rch"
      },
      "execution_count": 2,
      "outputs": []
    },
    {
      "cell_type": "code",
      "source": [
        "df"
      ],
      "metadata": {
        "colab": {
          "base_uri": "https://localhost:8080/",
          "height": 710
        },
        "id": "ZHKVPajo9cUs",
        "outputId": "343c771d-4aae-4422-8070-c814571cca8e"
      },
      "execution_count": 3,
      "outputs": [
        {
          "output_type": "execute_result",
          "data": {
            "text/plain": [
              "                Symbol Series  Prev Close      Open      High       Low  \\\n",
              "Date                                                                      \n",
              "2000-01-03  INFOSYSTCH     EQ    14467.75  15625.00  15625.20  15625.00   \n",
              "2000-01-04  INFOSYSTCH     EQ    15625.20  16800.00  16875.25  16253.00   \n",
              "2000-01-05  INFOSYSTCH     EQ    16855.90  15701.00  16250.00  15507.45   \n",
              "2000-01-06  INFOSYSTCH     EQ    15507.45  15256.65  15300.00  14266.85   \n",
              "2000-01-07  INFOSYSTCH     EQ    14266.85  13125.50  13125.50  13125.50   \n",
              "...                ...    ...         ...       ...       ...       ...   \n",
              "2021-04-26        INFY     EQ     1333.80   1332.25   1351.30   1321.00   \n",
              "2021-04-27        INFY     EQ     1343.55   1346.00   1353.00   1340.15   \n",
              "2021-04-28        INFY     EQ     1348.50   1358.00   1359.50   1344.60   \n",
              "2021-04-29        INFY     EQ     1356.00   1368.00   1369.00   1351.40   \n",
              "2021-04-30        INFY     EQ     1356.35   1346.30   1373.90   1345.90   \n",
              "\n",
              "                Last     Close      VWAP   Volume      Turnover    Trades  \\\n",
              "Date                                                                        \n",
              "2000-01-03  15625.20  15625.20  15625.18     5137  8.026657e+12       NaN   \n",
              "2000-01-04  16875.25  16855.90  16646.38    56186  9.352937e+13       NaN   \n",
              "2000-01-05  15507.45  15507.45  15786.38   164605  2.598516e+14       NaN   \n",
              "2000-01-06  14266.85  14266.85  14462.82    81997  1.185908e+14       NaN   \n",
              "2000-01-07  13125.50  13125.50  13125.50     7589  9.960942e+12       NaN   \n",
              "...              ...       ...       ...      ...           ...       ...   \n",
              "2021-04-26   1345.00   1343.55   1343.19  7088606  9.521361e+14  130375.0   \n",
              "2021-04-27   1347.50   1348.50   1346.89  3636115  4.897445e+14  145974.0   \n",
              "2021-04-28   1355.80   1356.00   1353.45  4879234  6.603778e+14  137376.0   \n",
              "2021-04-29   1356.00   1356.35   1360.05  5412357  7.361090e+14  119277.0   \n",
              "2021-04-30   1348.60   1354.35   1361.16  8354677  1.137203e+15  131718.0   \n",
              "\n",
              "            Deliverable Volume  %Deliverble  \n",
              "Date                                         \n",
              "2000-01-03                 NaN          NaN  \n",
              "2000-01-04                 NaN          NaN  \n",
              "2000-01-05                 NaN          NaN  \n",
              "2000-01-06                 NaN          NaN  \n",
              "2000-01-07                 NaN          NaN  \n",
              "...                        ...          ...  \n",
              "2021-04-26           4218129.0       0.5951  \n",
              "2021-04-27           1871084.0       0.5146  \n",
              "2021-04-28           2857134.0       0.5856  \n",
              "2021-04-29           3130945.0       0.5785  \n",
              "2021-04-30           5408113.0       0.6473  \n",
              "\n",
              "[5306 rows x 14 columns]"
            ],
            "text/html": [
              "\n",
              "  <div id=\"df-6ff13dd6-46cd-4e68-a7be-3eac14fb543d\">\n",
              "    <div class=\"colab-df-container\">\n",
              "      <div>\n",
              "<style scoped>\n",
              "    .dataframe tbody tr th:only-of-type {\n",
              "        vertical-align: middle;\n",
              "    }\n",
              "\n",
              "    .dataframe tbody tr th {\n",
              "        vertical-align: top;\n",
              "    }\n",
              "\n",
              "    .dataframe thead th {\n",
              "        text-align: right;\n",
              "    }\n",
              "</style>\n",
              "<table border=\"1\" class=\"dataframe\">\n",
              "  <thead>\n",
              "    <tr style=\"text-align: right;\">\n",
              "      <th></th>\n",
              "      <th>Symbol</th>\n",
              "      <th>Series</th>\n",
              "      <th>Prev Close</th>\n",
              "      <th>Open</th>\n",
              "      <th>High</th>\n",
              "      <th>Low</th>\n",
              "      <th>Last</th>\n",
              "      <th>Close</th>\n",
              "      <th>VWAP</th>\n",
              "      <th>Volume</th>\n",
              "      <th>Turnover</th>\n",
              "      <th>Trades</th>\n",
              "      <th>Deliverable Volume</th>\n",
              "      <th>%Deliverble</th>\n",
              "    </tr>\n",
              "    <tr>\n",
              "      <th>Date</th>\n",
              "      <th></th>\n",
              "      <th></th>\n",
              "      <th></th>\n",
              "      <th></th>\n",
              "      <th></th>\n",
              "      <th></th>\n",
              "      <th></th>\n",
              "      <th></th>\n",
              "      <th></th>\n",
              "      <th></th>\n",
              "      <th></th>\n",
              "      <th></th>\n",
              "      <th></th>\n",
              "      <th></th>\n",
              "    </tr>\n",
              "  </thead>\n",
              "  <tbody>\n",
              "    <tr>\n",
              "      <th>2000-01-03</th>\n",
              "      <td>INFOSYSTCH</td>\n",
              "      <td>EQ</td>\n",
              "      <td>14467.75</td>\n",
              "      <td>15625.00</td>\n",
              "      <td>15625.20</td>\n",
              "      <td>15625.00</td>\n",
              "      <td>15625.20</td>\n",
              "      <td>15625.20</td>\n",
              "      <td>15625.18</td>\n",
              "      <td>5137</td>\n",
              "      <td>8.026657e+12</td>\n",
              "      <td>NaN</td>\n",
              "      <td>NaN</td>\n",
              "      <td>NaN</td>\n",
              "    </tr>\n",
              "    <tr>\n",
              "      <th>2000-01-04</th>\n",
              "      <td>INFOSYSTCH</td>\n",
              "      <td>EQ</td>\n",
              "      <td>15625.20</td>\n",
              "      <td>16800.00</td>\n",
              "      <td>16875.25</td>\n",
              "      <td>16253.00</td>\n",
              "      <td>16875.25</td>\n",
              "      <td>16855.90</td>\n",
              "      <td>16646.38</td>\n",
              "      <td>56186</td>\n",
              "      <td>9.352937e+13</td>\n",
              "      <td>NaN</td>\n",
              "      <td>NaN</td>\n",
              "      <td>NaN</td>\n",
              "    </tr>\n",
              "    <tr>\n",
              "      <th>2000-01-05</th>\n",
              "      <td>INFOSYSTCH</td>\n",
              "      <td>EQ</td>\n",
              "      <td>16855.90</td>\n",
              "      <td>15701.00</td>\n",
              "      <td>16250.00</td>\n",
              "      <td>15507.45</td>\n",
              "      <td>15507.45</td>\n",
              "      <td>15507.45</td>\n",
              "      <td>15786.38</td>\n",
              "      <td>164605</td>\n",
              "      <td>2.598516e+14</td>\n",
              "      <td>NaN</td>\n",
              "      <td>NaN</td>\n",
              "      <td>NaN</td>\n",
              "    </tr>\n",
              "    <tr>\n",
              "      <th>2000-01-06</th>\n",
              "      <td>INFOSYSTCH</td>\n",
              "      <td>EQ</td>\n",
              "      <td>15507.45</td>\n",
              "      <td>15256.65</td>\n",
              "      <td>15300.00</td>\n",
              "      <td>14266.85</td>\n",
              "      <td>14266.85</td>\n",
              "      <td>14266.85</td>\n",
              "      <td>14462.82</td>\n",
              "      <td>81997</td>\n",
              "      <td>1.185908e+14</td>\n",
              "      <td>NaN</td>\n",
              "      <td>NaN</td>\n",
              "      <td>NaN</td>\n",
              "    </tr>\n",
              "    <tr>\n",
              "      <th>2000-01-07</th>\n",
              "      <td>INFOSYSTCH</td>\n",
              "      <td>EQ</td>\n",
              "      <td>14266.85</td>\n",
              "      <td>13125.50</td>\n",
              "      <td>13125.50</td>\n",
              "      <td>13125.50</td>\n",
              "      <td>13125.50</td>\n",
              "      <td>13125.50</td>\n",
              "      <td>13125.50</td>\n",
              "      <td>7589</td>\n",
              "      <td>9.960942e+12</td>\n",
              "      <td>NaN</td>\n",
              "      <td>NaN</td>\n",
              "      <td>NaN</td>\n",
              "    </tr>\n",
              "    <tr>\n",
              "      <th>...</th>\n",
              "      <td>...</td>\n",
              "      <td>...</td>\n",
              "      <td>...</td>\n",
              "      <td>...</td>\n",
              "      <td>...</td>\n",
              "      <td>...</td>\n",
              "      <td>...</td>\n",
              "      <td>...</td>\n",
              "      <td>...</td>\n",
              "      <td>...</td>\n",
              "      <td>...</td>\n",
              "      <td>...</td>\n",
              "      <td>...</td>\n",
              "      <td>...</td>\n",
              "    </tr>\n",
              "    <tr>\n",
              "      <th>2021-04-26</th>\n",
              "      <td>INFY</td>\n",
              "      <td>EQ</td>\n",
              "      <td>1333.80</td>\n",
              "      <td>1332.25</td>\n",
              "      <td>1351.30</td>\n",
              "      <td>1321.00</td>\n",
              "      <td>1345.00</td>\n",
              "      <td>1343.55</td>\n",
              "      <td>1343.19</td>\n",
              "      <td>7088606</td>\n",
              "      <td>9.521361e+14</td>\n",
              "      <td>130375.0</td>\n",
              "      <td>4218129.0</td>\n",
              "      <td>0.5951</td>\n",
              "    </tr>\n",
              "    <tr>\n",
              "      <th>2021-04-27</th>\n",
              "      <td>INFY</td>\n",
              "      <td>EQ</td>\n",
              "      <td>1343.55</td>\n",
              "      <td>1346.00</td>\n",
              "      <td>1353.00</td>\n",
              "      <td>1340.15</td>\n",
              "      <td>1347.50</td>\n",
              "      <td>1348.50</td>\n",
              "      <td>1346.89</td>\n",
              "      <td>3636115</td>\n",
              "      <td>4.897445e+14</td>\n",
              "      <td>145974.0</td>\n",
              "      <td>1871084.0</td>\n",
              "      <td>0.5146</td>\n",
              "    </tr>\n",
              "    <tr>\n",
              "      <th>2021-04-28</th>\n",
              "      <td>INFY</td>\n",
              "      <td>EQ</td>\n",
              "      <td>1348.50</td>\n",
              "      <td>1358.00</td>\n",
              "      <td>1359.50</td>\n",
              "      <td>1344.60</td>\n",
              "      <td>1355.80</td>\n",
              "      <td>1356.00</td>\n",
              "      <td>1353.45</td>\n",
              "      <td>4879234</td>\n",
              "      <td>6.603778e+14</td>\n",
              "      <td>137376.0</td>\n",
              "      <td>2857134.0</td>\n",
              "      <td>0.5856</td>\n",
              "    </tr>\n",
              "    <tr>\n",
              "      <th>2021-04-29</th>\n",
              "      <td>INFY</td>\n",
              "      <td>EQ</td>\n",
              "      <td>1356.00</td>\n",
              "      <td>1368.00</td>\n",
              "      <td>1369.00</td>\n",
              "      <td>1351.40</td>\n",
              "      <td>1356.00</td>\n",
              "      <td>1356.35</td>\n",
              "      <td>1360.05</td>\n",
              "      <td>5412357</td>\n",
              "      <td>7.361090e+14</td>\n",
              "      <td>119277.0</td>\n",
              "      <td>3130945.0</td>\n",
              "      <td>0.5785</td>\n",
              "    </tr>\n",
              "    <tr>\n",
              "      <th>2021-04-30</th>\n",
              "      <td>INFY</td>\n",
              "      <td>EQ</td>\n",
              "      <td>1356.35</td>\n",
              "      <td>1346.30</td>\n",
              "      <td>1373.90</td>\n",
              "      <td>1345.90</td>\n",
              "      <td>1348.60</td>\n",
              "      <td>1354.35</td>\n",
              "      <td>1361.16</td>\n",
              "      <td>8354677</td>\n",
              "      <td>1.137203e+15</td>\n",
              "      <td>131718.0</td>\n",
              "      <td>5408113.0</td>\n",
              "      <td>0.6473</td>\n",
              "    </tr>\n",
              "  </tbody>\n",
              "</table>\n",
              "<p>5306 rows × 14 columns</p>\n",
              "</div>\n",
              "      <button class=\"colab-df-convert\" onclick=\"convertToInteractive('df-6ff13dd6-46cd-4e68-a7be-3eac14fb543d')\"\n",
              "              title=\"Convert this dataframe to an interactive table.\"\n",
              "              style=\"display:none;\">\n",
              "        \n",
              "  <svg xmlns=\"http://www.w3.org/2000/svg\" height=\"24px\"viewBox=\"0 0 24 24\"\n",
              "       width=\"24px\">\n",
              "    <path d=\"M0 0h24v24H0V0z\" fill=\"none\"/>\n",
              "    <path d=\"M18.56 5.44l.94 2.06.94-2.06 2.06-.94-2.06-.94-.94-2.06-.94 2.06-2.06.94zm-11 1L8.5 8.5l.94-2.06 2.06-.94-2.06-.94L8.5 2.5l-.94 2.06-2.06.94zm10 10l.94 2.06.94-2.06 2.06-.94-2.06-.94-.94-2.06-.94 2.06-2.06.94z\"/><path d=\"M17.41 7.96l-1.37-1.37c-.4-.4-.92-.59-1.43-.59-.52 0-1.04.2-1.43.59L10.3 9.45l-7.72 7.72c-.78.78-.78 2.05 0 2.83L4 21.41c.39.39.9.59 1.41.59.51 0 1.02-.2 1.41-.59l7.78-7.78 2.81-2.81c.8-.78.8-2.07 0-2.86zM5.41 20L4 18.59l7.72-7.72 1.47 1.35L5.41 20z\"/>\n",
              "  </svg>\n",
              "      </button>\n",
              "      \n",
              "  <style>\n",
              "    .colab-df-container {\n",
              "      display:flex;\n",
              "      flex-wrap:wrap;\n",
              "      gap: 12px;\n",
              "    }\n",
              "\n",
              "    .colab-df-convert {\n",
              "      background-color: #E8F0FE;\n",
              "      border: none;\n",
              "      border-radius: 50%;\n",
              "      cursor: pointer;\n",
              "      display: none;\n",
              "      fill: #1967D2;\n",
              "      height: 32px;\n",
              "      padding: 0 0 0 0;\n",
              "      width: 32px;\n",
              "    }\n",
              "\n",
              "    .colab-df-convert:hover {\n",
              "      background-color: #E2EBFA;\n",
              "      box-shadow: 0px 1px 2px rgba(60, 64, 67, 0.3), 0px 1px 3px 1px rgba(60, 64, 67, 0.15);\n",
              "      fill: #174EA6;\n",
              "    }\n",
              "\n",
              "    [theme=dark] .colab-df-convert {\n",
              "      background-color: #3B4455;\n",
              "      fill: #D2E3FC;\n",
              "    }\n",
              "\n",
              "    [theme=dark] .colab-df-convert:hover {\n",
              "      background-color: #434B5C;\n",
              "      box-shadow: 0px 1px 3px 1px rgba(0, 0, 0, 0.15);\n",
              "      filter: drop-shadow(0px 1px 2px rgba(0, 0, 0, 0.3));\n",
              "      fill: #FFFFFF;\n",
              "    }\n",
              "  </style>\n",
              "\n",
              "      <script>\n",
              "        const buttonEl =\n",
              "          document.querySelector('#df-6ff13dd6-46cd-4e68-a7be-3eac14fb543d button.colab-df-convert');\n",
              "        buttonEl.style.display =\n",
              "          google.colab.kernel.accessAllowed ? 'block' : 'none';\n",
              "\n",
              "        async function convertToInteractive(key) {\n",
              "          const element = document.querySelector('#df-6ff13dd6-46cd-4e68-a7be-3eac14fb543d');\n",
              "          const dataTable =\n",
              "            await google.colab.kernel.invokeFunction('convertToInteractive',\n",
              "                                                     [key], {});\n",
              "          if (!dataTable) return;\n",
              "\n",
              "          const docLinkHtml = 'Like what you see? Visit the ' +\n",
              "            '<a target=\"_blank\" href=https://colab.research.google.com/notebooks/data_table.ipynb>data table notebook</a>'\n",
              "            + ' to learn more about interactive tables.';\n",
              "          element.innerHTML = '';\n",
              "          dataTable['output_type'] = 'display_data';\n",
              "          await google.colab.output.renderOutput(dataTable, element);\n",
              "          const docLink = document.createElement('div');\n",
              "          docLink.innerHTML = docLinkHtml;\n",
              "          element.appendChild(docLink);\n",
              "        }\n",
              "      </script>\n",
              "    </div>\n",
              "  </div>\n",
              "  "
            ]
          },
          "metadata": {},
          "execution_count": 3
        }
      ]
    },
    {
      "cell_type": "code",
      "source": [
        "df['Date']=df.index"
      ],
      "metadata": {
        "id": "9unXMmHP9dBl"
      },
      "execution_count": 4,
      "outputs": []
    },
    {
      "cell_type": "code",
      "source": [
        "start_date='2020-01-01'\n",
        "end_date='2020-12-31'\n",
        "mask=(df['Date']>=start_date)&(df['Date']<=end_date)"
      ],
      "metadata": {
        "id": "pmoAuKVz9dEq"
      },
      "execution_count": 6,
      "outputs": []
    },
    {
      "cell_type": "code",
      "source": [
        "df=df.loc[mask]"
      ],
      "metadata": {
        "id": "BuOLMt6t9dHp"
      },
      "execution_count": 7,
      "outputs": []
    },
    {
      "cell_type": "code",
      "source": [
        "df=df.drop(columns=['Series','Symbol','Open','High','Low','Last','Close','VWAP','Volume','Turnover','Trades','Deliverable Volume','%Deliverble','Date'])"
      ],
      "metadata": {
        "id": "5w_ZXVOL9dKu"
      },
      "execution_count": 8,
      "outputs": []
    },
    {
      "cell_type": "code",
      "source": [
        "Ntest=math.trunc(0.3*len(df))\n",
        "train=df.iloc[:-Ntest]\n",
        "test=df.iloc[-Ntest:]"
      ],
      "metadata": {
        "id": "Pd6Tf8ub9dNk"
      },
      "execution_count": 9,
      "outputs": []
    },
    {
      "cell_type": "code",
      "source": [
        "train_idx=df.index<=train.index[-1]\n",
        "test_idx=df.index>train.index[-1]"
      ],
      "metadata": {
        "id": "fFr5cqWk9dQ4"
      },
      "execution_count": 10,
      "outputs": []
    },
    {
      "cell_type": "code",
      "source": [
        "df['Diff Prev Close']=df['Prev Close'].diff()"
      ],
      "metadata": {
        "id": "bTleMRdL9dTP"
      },
      "execution_count": 11,
      "outputs": []
    },
    {
      "cell_type": "code",
      "source": [
        "series=df['Diff Prev Close'].dropna().to_numpy()\n",
        "\n",
        "T=50\n",
        "X=[]\n",
        "Y=[]\n",
        "for t in range(len(series)-T):\n",
        "  x=series[t:t+T]\n",
        "  X.append(x)\n",
        "  y=series[t+T]\n",
        "  Y.append(y)\n",
        "\n",
        "X=np.array(X).reshape(-1,T)\n",
        "Y=np.array(Y)\n",
        "N=len(X)\n",
        "print(\"X.shape\",X.shape,\"Y.shape\",Y.shape)"
      ],
      "metadata": {
        "colab": {
          "base_uri": "https://localhost:8080/"
        },
        "id": "-faJTkyl9dWV",
        "outputId": "24110091-2737-42cb-9485-fd12eed67847"
      },
      "execution_count": 12,
      "outputs": [
        {
          "output_type": "stream",
          "name": "stdout",
          "text": [
            "X.shape (201, 50) Y.shape (201,)\n"
          ]
        }
      ]
    },
    {
      "cell_type": "code",
      "source": [
        "Xtrain,Ytrain=X[:-Ntest],Y[:-Ntest]\n",
        "Xtest,Ytest=X[-Ntest:],Y[-Ntest:]"
      ],
      "metadata": {
        "id": "blHqq_g-9dY_"
      },
      "execution_count": 13,
      "outputs": []
    },
    {
      "cell_type": "markdown",
      "source": [
        "LSTM+CNN"
      ],
      "metadata": {
        "id": "ir_desj398LI"
      }
    },
    {
      "cell_type": "code",
      "source": [
        "i=Input(shape=(T,1))\n",
        "x=LSTM(200,return_sequences=True)(i)\n",
        "x=LSTM(200,return_sequences=True)(x)\n",
        "x=Dense(100)(x)\n",
        "x=Dense(50)(x)\n",
        "x=Conv1D(25,3,activation='relu')(i)\n",
        "x=MaxPooling1D(2)(x)\n",
        "x=Conv1D(50,3,activation='relu')(x)\n",
        "x=GlobalMaxPool1D()(x)\n",
        "x=Dense(1)(x)\n",
        "model_lstm_cnn=Model(i,x)\n",
        "model_lstm_cnn.summary()"
      ],
      "metadata": {
        "colab": {
          "base_uri": "https://localhost:8080/"
        },
        "id": "vvKQKCrr96yo",
        "outputId": "2ca93ce1-2e61-44aa-beba-fe8e047b6ada"
      },
      "execution_count": 14,
      "outputs": [
        {
          "output_type": "stream",
          "name": "stdout",
          "text": [
            "Model: \"model\"\n",
            "_________________________________________________________________\n",
            " Layer (type)                Output Shape              Param #   \n",
            "=================================================================\n",
            " input_1 (InputLayer)        [(None, 50, 1)]           0         \n",
            "                                                                 \n",
            " conv1d (Conv1D)             (None, 48, 25)            100       \n",
            "                                                                 \n",
            " max_pooling1d (MaxPooling1D  (None, 24, 25)           0         \n",
            " )                                                               \n",
            "                                                                 \n",
            " conv1d_1 (Conv1D)           (None, 22, 50)            3800      \n",
            "                                                                 \n",
            " global_max_pooling1d (Globa  (None, 50)               0         \n",
            " lMaxPooling1D)                                                  \n",
            "                                                                 \n",
            " dense_2 (Dense)             (None, 1)                 51        \n",
            "                                                                 \n",
            "=================================================================\n",
            "Total params: 3,951\n",
            "Trainable params: 3,951\n",
            "Non-trainable params: 0\n",
            "_________________________________________________________________\n"
          ]
        }
      ]
    },
    {
      "cell_type": "code",
      "source": [
        "check_point_lstm_cnn=ModelCheckpoint('best_model.h5',monitor='val_loss',save_best_only=True)"
      ],
      "metadata": {
        "id": "nH-bqzYc967w"
      },
      "execution_count": 15,
      "outputs": []
    },
    {
      "cell_type": "code",
      "source": [
        "model_lstm_cnn.compile(loss='mse',\n",
        "              optimizer='adamax',\n",
        "              metrics=['mae','mse'])"
      ],
      "metadata": {
        "id": "pSNLhWam97B2"
      },
      "execution_count": 17,
      "outputs": []
    },
    {
      "cell_type": "code",
      "source": [
        "r=model_lstm_cnn.fit(\n",
        "    Xtrain,\n",
        "    Ytrain,\n",
        "    epochs=100,\n",
        "    validation_data=(Xtest,Ytest),\n",
        "    callbacks=[check_point_lstm_cnn]\n",
        ")"
      ],
      "metadata": {
        "colab": {
          "base_uri": "https://localhost:8080/"
        },
        "id": "YMfLEKjw97Hd",
        "outputId": "afa16f4e-cb79-4ad6-91d4-699029f257e3"
      },
      "execution_count": 18,
      "outputs": [
        {
          "output_type": "stream",
          "name": "stdout",
          "text": [
            "Epoch 1/100\n",
            "4/4 [==============================] - 1s 141ms/step - loss: 432.7306 - mae: 14.8290 - mse: 432.7306 - val_loss: 360.2850 - val_mae: 14.9827 - val_mse: 360.2850\n",
            "Epoch 2/100\n",
            "4/4 [==============================] - 0s 20ms/step - loss: 429.8533 - mae: 14.8197 - mse: 429.8533 - val_loss: 354.0399 - val_mae: 14.8911 - val_mse: 354.0399\n",
            "Epoch 3/100\n",
            "4/4 [==============================] - 0s 15ms/step - loss: 426.4089 - mae: 14.7799 - mse: 426.4089 - val_loss: 356.9810 - val_mae: 14.9326 - val_mse: 356.9810\n",
            "Epoch 4/100\n",
            "4/4 [==============================] - 0s 14ms/step - loss: 421.4096 - mae: 14.5903 - mse: 421.4096 - val_loss: 364.9499 - val_mae: 15.0596 - val_mse: 364.9499\n",
            "Epoch 5/100\n",
            "4/4 [==============================] - 0s 15ms/step - loss: 419.3456 - mae: 14.5267 - mse: 419.3456 - val_loss: 367.7633 - val_mae: 15.1091 - val_mse: 367.7633\n",
            "Epoch 6/100\n",
            "4/4 [==============================] - 0s 15ms/step - loss: 417.9744 - mae: 14.4954 - mse: 417.9744 - val_loss: 367.0439 - val_mae: 15.1042 - val_mse: 367.0439\n",
            "Epoch 7/100\n",
            "4/4 [==============================] - 0s 21ms/step - loss: 414.5161 - mae: 14.4625 - mse: 414.5161 - val_loss: 361.9940 - val_mae: 15.0105 - val_mse: 361.9940\n",
            "Epoch 8/100\n",
            "4/4 [==============================] - 0s 15ms/step - loss: 416.4105 - mae: 14.4945 - mse: 416.4105 - val_loss: 356.2925 - val_mae: 14.9232 - val_mse: 356.2925\n",
            "Epoch 9/100\n",
            "4/4 [==============================] - 0s 19ms/step - loss: 412.4805 - mae: 14.5144 - mse: 412.4805 - val_loss: 357.4411 - val_mae: 14.9390 - val_mse: 357.4411\n",
            "Epoch 10/100\n",
            "4/4 [==============================] - 0s 14ms/step - loss: 411.4104 - mae: 14.4763 - mse: 411.4104 - val_loss: 361.0423 - val_mae: 14.9940 - val_mse: 361.0423\n",
            "Epoch 11/100\n",
            "4/4 [==============================] - 0s 14ms/step - loss: 408.0619 - mae: 14.4203 - mse: 408.0619 - val_loss: 361.6972 - val_mae: 15.0083 - val_mse: 361.6972\n",
            "Epoch 12/100\n",
            "4/4 [==============================] - 0s 14ms/step - loss: 407.3070 - mae: 14.3973 - mse: 407.3070 - val_loss: 363.1823 - val_mae: 15.0422 - val_mse: 363.1823\n",
            "Epoch 13/100\n",
            "4/4 [==============================] - 0s 14ms/step - loss: 405.6480 - mae: 14.3721 - mse: 405.6480 - val_loss: 363.2549 - val_mae: 15.0440 - val_mse: 363.2549\n",
            "Epoch 14/100\n",
            "4/4 [==============================] - 0s 16ms/step - loss: 404.5927 - mae: 14.3605 - mse: 404.5927 - val_loss: 362.1741 - val_mae: 15.0244 - val_mse: 362.1741\n",
            "Epoch 15/100\n",
            "4/4 [==============================] - 0s 14ms/step - loss: 403.1690 - mae: 14.3529 - mse: 403.1690 - val_loss: 361.8188 - val_mae: 15.0160 - val_mse: 361.8188\n",
            "Epoch 16/100\n",
            "4/4 [==============================] - 0s 14ms/step - loss: 401.6161 - mae: 14.3351 - mse: 401.6161 - val_loss: 361.8918 - val_mae: 15.0150 - val_mse: 361.8918\n",
            "Epoch 17/100\n",
            "4/4 [==============================] - 0s 15ms/step - loss: 401.1873 - mae: 14.3424 - mse: 401.1873 - val_loss: 362.9362 - val_mae: 15.0355 - val_mse: 362.9362\n",
            "Epoch 18/100\n",
            "4/4 [==============================] - 0s 14ms/step - loss: 399.8026 - mae: 14.3194 - mse: 399.8026 - val_loss: 362.3589 - val_mae: 15.0247 - val_mse: 362.3589\n",
            "Epoch 19/100\n",
            "4/4 [==============================] - 0s 15ms/step - loss: 399.5439 - mae: 14.3240 - mse: 399.5439 - val_loss: 363.4072 - val_mae: 15.0437 - val_mse: 363.4072\n",
            "Epoch 20/100\n",
            "4/4 [==============================] - 0s 14ms/step - loss: 397.6452 - mae: 14.2913 - mse: 397.6452 - val_loss: 362.2709 - val_mae: 15.0209 - val_mse: 362.2709\n",
            "Epoch 21/100\n",
            "4/4 [==============================] - 0s 20ms/step - loss: 396.7290 - mae: 14.2955 - mse: 396.7290 - val_loss: 361.1457 - val_mae: 14.9965 - val_mse: 361.1457\n",
            "Epoch 22/100\n",
            "4/4 [==============================] - 0s 15ms/step - loss: 396.0708 - mae: 14.2858 - mse: 396.0708 - val_loss: 361.3347 - val_mae: 15.0022 - val_mse: 361.3347\n",
            "Epoch 23/100\n",
            "4/4 [==============================] - 0s 19ms/step - loss: 395.5249 - mae: 14.2780 - mse: 395.5249 - val_loss: 361.0284 - val_mae: 14.9972 - val_mse: 361.0284\n",
            "Epoch 24/100\n",
            "4/4 [==============================] - 0s 15ms/step - loss: 394.9699 - mae: 14.2600 - mse: 394.9699 - val_loss: 363.8351 - val_mae: 15.0519 - val_mse: 363.8351\n",
            "Epoch 25/100\n",
            "4/4 [==============================] - 0s 14ms/step - loss: 394.0476 - mae: 14.2584 - mse: 394.0476 - val_loss: 363.3137 - val_mae: 15.0418 - val_mse: 363.3137\n",
            "Epoch 26/100\n",
            "4/4 [==============================] - 0s 16ms/step - loss: 392.8016 - mae: 14.2292 - mse: 392.8016 - val_loss: 363.9198 - val_mae: 15.0502 - val_mse: 363.9198\n",
            "Epoch 27/100\n",
            "4/4 [==============================] - 0s 15ms/step - loss: 392.1135 - mae: 14.2203 - mse: 392.1135 - val_loss: 364.1093 - val_mae: 15.0498 - val_mse: 364.1093\n",
            "Epoch 28/100\n",
            "4/4 [==============================] - 0s 14ms/step - loss: 391.2465 - mae: 14.2142 - mse: 391.2465 - val_loss: 364.5511 - val_mae: 15.0556 - val_mse: 364.5511\n",
            "Epoch 29/100\n",
            "4/4 [==============================] - 0s 14ms/step - loss: 390.7479 - mae: 14.2053 - mse: 390.7479 - val_loss: 364.6705 - val_mae: 15.0561 - val_mse: 364.6705\n",
            "Epoch 30/100\n",
            "4/4 [==============================] - 0s 20ms/step - loss: 390.1623 - mae: 14.2050 - mse: 390.1623 - val_loss: 363.5363 - val_mae: 15.0314 - val_mse: 363.5363\n",
            "Epoch 31/100\n",
            "4/4 [==============================] - 0s 19ms/step - loss: 389.0825 - mae: 14.1950 - mse: 389.0825 - val_loss: 363.3023 - val_mae: 15.0232 - val_mse: 363.3023\n",
            "Epoch 32/100\n",
            "4/4 [==============================] - 0s 14ms/step - loss: 388.2754 - mae: 14.1766 - mse: 388.2754 - val_loss: 364.7087 - val_mae: 15.0483 - val_mse: 364.7087\n",
            "Epoch 33/100\n",
            "4/4 [==============================] - 0s 16ms/step - loss: 387.5468 - mae: 14.1633 - mse: 387.5468 - val_loss: 365.0629 - val_mae: 15.0551 - val_mse: 365.0629\n",
            "Epoch 34/100\n",
            "4/4 [==============================] - 0s 15ms/step - loss: 387.1931 - mae: 14.1610 - mse: 387.1931 - val_loss: 364.5631 - val_mae: 15.0424 - val_mse: 364.5631\n",
            "Epoch 35/100\n",
            "4/4 [==============================] - 0s 14ms/step - loss: 385.7044 - mae: 14.1471 - mse: 385.7044 - val_loss: 365.3563 - val_mae: 15.0550 - val_mse: 365.3563\n",
            "Epoch 36/100\n",
            "4/4 [==============================] - 0s 15ms/step - loss: 385.2650 - mae: 14.1437 - mse: 385.2650 - val_loss: 365.7034 - val_mae: 15.0587 - val_mse: 365.7034\n",
            "Epoch 37/100\n",
            "4/4 [==============================] - 0s 14ms/step - loss: 384.7149 - mae: 14.1381 - mse: 384.7149 - val_loss: 365.5979 - val_mae: 15.0589 - val_mse: 365.5979\n",
            "Epoch 38/100\n",
            "4/4 [==============================] - 0s 15ms/step - loss: 384.9009 - mae: 14.1767 - mse: 384.9009 - val_loss: 367.9166 - val_mae: 15.1011 - val_mse: 367.9166\n",
            "Epoch 39/100\n",
            "4/4 [==============================] - 0s 19ms/step - loss: 384.3532 - mae: 14.1477 - mse: 384.3532 - val_loss: 364.6975 - val_mae: 15.0384 - val_mse: 364.6975\n",
            "Epoch 40/100\n",
            "4/4 [==============================] - 0s 14ms/step - loss: 382.5254 - mae: 14.1129 - mse: 382.5254 - val_loss: 365.6537 - val_mae: 15.0538 - val_mse: 365.6537\n",
            "Epoch 41/100\n",
            "4/4 [==============================] - 0s 20ms/step - loss: 382.1924 - mae: 14.1012 - mse: 382.1924 - val_loss: 366.0470 - val_mae: 15.0601 - val_mse: 366.0470\n",
            "Epoch 42/100\n",
            "4/4 [==============================] - 0s 14ms/step - loss: 381.0863 - mae: 14.0775 - mse: 381.0863 - val_loss: 365.7715 - val_mae: 15.0566 - val_mse: 365.7715\n",
            "Epoch 43/100\n",
            "4/4 [==============================] - 0s 16ms/step - loss: 380.6383 - mae: 14.0720 - mse: 380.6383 - val_loss: 367.2342 - val_mae: 15.0824 - val_mse: 367.2342\n",
            "Epoch 44/100\n",
            "4/4 [==============================] - 0s 13ms/step - loss: 380.3039 - mae: 14.1075 - mse: 380.3039 - val_loss: 365.4554 - val_mae: 15.0475 - val_mse: 365.4554\n",
            "Epoch 45/100\n",
            "4/4 [==============================] - 0s 14ms/step - loss: 379.3173 - mae: 14.0675 - mse: 379.3173 - val_loss: 366.4139 - val_mae: 15.0620 - val_mse: 366.4139\n",
            "Epoch 46/100\n",
            "4/4 [==============================] - 0s 18ms/step - loss: 379.9020 - mae: 14.0675 - mse: 379.9020 - val_loss: 369.1424 - val_mae: 15.1104 - val_mse: 369.1424\n",
            "Epoch 47/100\n",
            "4/4 [==============================] - 0s 15ms/step - loss: 377.8631 - mae: 14.0503 - mse: 377.8631 - val_loss: 368.2242 - val_mae: 15.0927 - val_mse: 368.2242\n",
            "Epoch 48/100\n",
            "4/4 [==============================] - 0s 14ms/step - loss: 377.3361 - mae: 14.0460 - mse: 377.3361 - val_loss: 365.9127 - val_mae: 15.0488 - val_mse: 365.9127\n",
            "Epoch 49/100\n",
            "4/4 [==============================] - 0s 20ms/step - loss: 377.1051 - mae: 14.0317 - mse: 377.1051 - val_loss: 365.1854 - val_mae: 15.0337 - val_mse: 365.1854\n",
            "Epoch 50/100\n",
            "4/4 [==============================] - 0s 20ms/step - loss: 376.0331 - mae: 14.0238 - mse: 376.0331 - val_loss: 366.1319 - val_mae: 15.0523 - val_mse: 366.1319\n",
            "Epoch 51/100\n",
            "4/4 [==============================] - 0s 14ms/step - loss: 375.6065 - mae: 14.0174 - mse: 375.6065 - val_loss: 367.1183 - val_mae: 15.0687 - val_mse: 367.1183\n",
            "Epoch 52/100\n",
            "4/4 [==============================] - 0s 14ms/step - loss: 375.0228 - mae: 14.0348 - mse: 375.0228 - val_loss: 369.3602 - val_mae: 15.1072 - val_mse: 369.3602\n",
            "Epoch 53/100\n",
            "4/4 [==============================] - 0s 15ms/step - loss: 374.4533 - mae: 14.0229 - mse: 374.4533 - val_loss: 370.2052 - val_mae: 15.1190 - val_mse: 370.2052\n",
            "Epoch 54/100\n",
            "4/4 [==============================] - 0s 15ms/step - loss: 375.2363 - mae: 14.0097 - mse: 375.2363 - val_loss: 366.9005 - val_mae: 15.0612 - val_mse: 366.9005\n",
            "Epoch 55/100\n",
            "4/4 [==============================] - 0s 24ms/step - loss: 372.5879 - mae: 13.9761 - mse: 372.5879 - val_loss: 367.8120 - val_mae: 15.0743 - val_mse: 367.8120\n",
            "Epoch 56/100\n",
            "4/4 [==============================] - 0s 19ms/step - loss: 372.2943 - mae: 13.9868 - mse: 372.2943 - val_loss: 369.2150 - val_mae: 15.1002 - val_mse: 369.2150\n",
            "Epoch 57/100\n",
            "4/4 [==============================] - 0s 15ms/step - loss: 371.3195 - mae: 13.9658 - mse: 371.3195 - val_loss: 369.4143 - val_mae: 15.0987 - val_mse: 369.4143\n",
            "Epoch 58/100\n",
            "4/4 [==============================] - 0s 14ms/step - loss: 371.1114 - mae: 13.9591 - mse: 371.1114 - val_loss: 369.8750 - val_mae: 15.1021 - val_mse: 369.8750\n",
            "Epoch 59/100\n",
            "4/4 [==============================] - 0s 19ms/step - loss: 369.8011 - mae: 13.9374 - mse: 369.8011 - val_loss: 368.7552 - val_mae: 15.0816 - val_mse: 368.7552\n",
            "Epoch 60/100\n",
            "4/4 [==============================] - 0s 14ms/step - loss: 369.4310 - mae: 13.9280 - mse: 369.4310 - val_loss: 367.4124 - val_mae: 15.0569 - val_mse: 367.4124\n",
            "Epoch 61/100\n",
            "4/4 [==============================] - 0s 21ms/step - loss: 368.7390 - mae: 13.9167 - mse: 368.7390 - val_loss: 368.4215 - val_mae: 15.0704 - val_mse: 368.4215\n",
            "Epoch 62/100\n",
            "4/4 [==============================] - 0s 14ms/step - loss: 368.0457 - mae: 13.9195 - mse: 368.0457 - val_loss: 369.5079 - val_mae: 15.0885 - val_mse: 369.5079\n",
            "Epoch 63/100\n",
            "4/4 [==============================] - 0s 15ms/step - loss: 367.9582 - mae: 13.9154 - mse: 367.9582 - val_loss: 367.7298 - val_mae: 15.0534 - val_mse: 367.7298\n",
            "Epoch 64/100\n",
            "4/4 [==============================] - 0s 14ms/step - loss: 366.4575 - mae: 13.8918 - mse: 366.4575 - val_loss: 368.9755 - val_mae: 15.0723 - val_mse: 368.9755\n",
            "Epoch 65/100\n",
            "4/4 [==============================] - 0s 15ms/step - loss: 366.1991 - mae: 13.8920 - mse: 366.1991 - val_loss: 370.9708 - val_mae: 15.1060 - val_mse: 370.9708\n",
            "Epoch 66/100\n",
            "4/4 [==============================] - 0s 14ms/step - loss: 365.2308 - mae: 13.8781 - mse: 365.2308 - val_loss: 370.2125 - val_mae: 15.0930 - val_mse: 370.2125\n",
            "Epoch 67/100\n",
            "4/4 [==============================] - 0s 14ms/step - loss: 365.1331 - mae: 13.8643 - mse: 365.1331 - val_loss: 369.0777 - val_mae: 15.0735 - val_mse: 369.0777\n",
            "Epoch 68/100\n",
            "4/4 [==============================] - 0s 19ms/step - loss: 364.0753 - mae: 13.8496 - mse: 364.0753 - val_loss: 369.8808 - val_mae: 15.0870 - val_mse: 369.8808\n",
            "Epoch 69/100\n",
            "4/4 [==============================] - 0s 16ms/step - loss: 363.3166 - mae: 13.8444 - mse: 363.3166 - val_loss: 371.1239 - val_mae: 15.1077 - val_mse: 371.1239\n",
            "Epoch 70/100\n",
            "4/4 [==============================] - 0s 21ms/step - loss: 363.1585 - mae: 13.8368 - mse: 363.1585 - val_loss: 372.7931 - val_mae: 15.1339 - val_mse: 372.7931\n",
            "Epoch 71/100\n",
            "4/4 [==============================] - 0s 14ms/step - loss: 362.9272 - mae: 13.8207 - mse: 362.9272 - val_loss: 369.4820 - val_mae: 15.0754 - val_mse: 369.4820\n",
            "Epoch 72/100\n",
            "4/4 [==============================] - 0s 14ms/step - loss: 361.8149 - mae: 13.7951 - mse: 361.8149 - val_loss: 371.5546 - val_mae: 15.1080 - val_mse: 371.5546\n",
            "Epoch 73/100\n",
            "4/4 [==============================] - 0s 15ms/step - loss: 360.3267 - mae: 13.7949 - mse: 360.3267 - val_loss: 370.0123 - val_mae: 15.0803 - val_mse: 370.0123\n",
            "Epoch 74/100\n",
            "4/4 [==============================] - 0s 13ms/step - loss: 360.1558 - mae: 13.7952 - mse: 360.1558 - val_loss: 369.4518 - val_mae: 15.0690 - val_mse: 369.4518\n",
            "Epoch 75/100\n",
            "4/4 [==============================] - 0s 15ms/step - loss: 359.6851 - mae: 13.8161 - mse: 359.6851 - val_loss: 368.8977 - val_mae: 15.0556 - val_mse: 368.8977\n",
            "Epoch 76/100\n",
            "4/4 [==============================] - 0s 15ms/step - loss: 358.0397 - mae: 13.7700 - mse: 358.0397 - val_loss: 370.7308 - val_mae: 15.0871 - val_mse: 370.7308\n",
            "Epoch 77/100\n",
            "4/4 [==============================] - 0s 14ms/step - loss: 358.1118 - mae: 13.7743 - mse: 358.1118 - val_loss: 372.8975 - val_mae: 15.1262 - val_mse: 372.8975\n",
            "Epoch 78/100\n",
            "4/4 [==============================] - 0s 14ms/step - loss: 357.3197 - mae: 13.7543 - mse: 357.3197 - val_loss: 374.4558 - val_mae: 15.1529 - val_mse: 374.4558\n",
            "Epoch 79/100\n",
            "4/4 [==============================] - 0s 14ms/step - loss: 356.5816 - mae: 13.7406 - mse: 356.5816 - val_loss: 372.5892 - val_mae: 15.1180 - val_mse: 372.5892\n",
            "Epoch 80/100\n",
            "4/4 [==============================] - 0s 16ms/step - loss: 355.8656 - mae: 13.7387 - mse: 355.8656 - val_loss: 373.2106 - val_mae: 15.1267 - val_mse: 373.2106\n",
            "Epoch 81/100\n",
            "4/4 [==============================] - 0s 15ms/step - loss: 355.5101 - mae: 13.7412 - mse: 355.5101 - val_loss: 374.3625 - val_mae: 15.1419 - val_mse: 374.3625\n",
            "Epoch 82/100\n",
            "4/4 [==============================] - 0s 19ms/step - loss: 354.3838 - mae: 13.7178 - mse: 354.3838 - val_loss: 373.8788 - val_mae: 15.1322 - val_mse: 373.8788\n",
            "Epoch 83/100\n",
            "4/4 [==============================] - 0s 15ms/step - loss: 353.3379 - mae: 13.6991 - mse: 353.3379 - val_loss: 371.1412 - val_mae: 15.0855 - val_mse: 371.1412\n",
            "Epoch 84/100\n",
            "4/4 [==============================] - 0s 15ms/step - loss: 355.4758 - mae: 13.7543 - mse: 355.4758 - val_loss: 367.6544 - val_mae: 15.0320 - val_mse: 367.6544\n",
            "Epoch 85/100\n",
            "4/4 [==============================] - 0s 15ms/step - loss: 352.7291 - mae: 13.6834 - mse: 352.7291 - val_loss: 370.9211 - val_mae: 15.0815 - val_mse: 370.9211\n",
            "Epoch 86/100\n",
            "4/4 [==============================] - 0s 16ms/step - loss: 351.8540 - mae: 13.6627 - mse: 351.8540 - val_loss: 375.6764 - val_mae: 15.1554 - val_mse: 375.6764\n",
            "Epoch 87/100\n",
            "4/4 [==============================] - 0s 17ms/step - loss: 351.0483 - mae: 13.6555 - mse: 351.0483 - val_loss: 376.7567 - val_mae: 15.1718 - val_mse: 376.7567\n",
            "Epoch 88/100\n",
            "4/4 [==============================] - 0s 14ms/step - loss: 350.9044 - mae: 13.6649 - mse: 350.9044 - val_loss: 377.5706 - val_mae: 15.1837 - val_mse: 377.5706\n",
            "Epoch 89/100\n",
            "4/4 [==============================] - 0s 15ms/step - loss: 350.0773 - mae: 13.6200 - mse: 350.0773 - val_loss: 373.2592 - val_mae: 15.1122 - val_mse: 373.2592\n",
            "Epoch 90/100\n",
            "4/4 [==============================] - 0s 15ms/step - loss: 348.9500 - mae: 13.6242 - mse: 348.9500 - val_loss: 371.7346 - val_mae: 15.0861 - val_mse: 371.7346\n",
            "Epoch 91/100\n",
            "4/4 [==============================] - 0s 20ms/step - loss: 348.9147 - mae: 13.6297 - mse: 348.9147 - val_loss: 373.4582 - val_mae: 15.1095 - val_mse: 373.4582\n",
            "Epoch 92/100\n",
            "4/4 [==============================] - 0s 19ms/step - loss: 347.5972 - mae: 13.6054 - mse: 347.5972 - val_loss: 373.3730 - val_mae: 15.1086 - val_mse: 373.3730\n",
            "Epoch 93/100\n",
            "4/4 [==============================] - 0s 19ms/step - loss: 347.6987 - mae: 13.6170 - mse: 347.6987 - val_loss: 375.2844 - val_mae: 15.1362 - val_mse: 375.2844\n",
            "Epoch 94/100\n",
            "4/4 [==============================] - 0s 14ms/step - loss: 346.3173 - mae: 13.5914 - mse: 346.3173 - val_loss: 374.6980 - val_mae: 15.1267 - val_mse: 374.6980\n",
            "Epoch 95/100\n",
            "4/4 [==============================] - 0s 15ms/step - loss: 346.1402 - mae: 13.5902 - mse: 346.1402 - val_loss: 375.7077 - val_mae: 15.1452 - val_mse: 375.7077\n",
            "Epoch 96/100\n",
            "4/4 [==============================] - 0s 14ms/step - loss: 345.5522 - mae: 13.5686 - mse: 345.5522 - val_loss: 373.1771 - val_mae: 15.1069 - val_mse: 373.1771\n",
            "Epoch 97/100\n",
            "4/4 [==============================] - 0s 14ms/step - loss: 344.6283 - mae: 13.5668 - mse: 344.6283 - val_loss: 373.2689 - val_mae: 15.1097 - val_mse: 373.2689\n",
            "Epoch 98/100\n",
            "4/4 [==============================] - 0s 15ms/step - loss: 344.1192 - mae: 13.5607 - mse: 344.1192 - val_loss: 373.9624 - val_mae: 15.1196 - val_mse: 373.9624\n",
            "Epoch 99/100\n",
            "4/4 [==============================] - 0s 15ms/step - loss: 342.9747 - mae: 13.5326 - mse: 342.9747 - val_loss: 376.1039 - val_mae: 15.1522 - val_mse: 376.1039\n",
            "Epoch 100/100\n",
            "4/4 [==============================] - 0s 14ms/step - loss: 344.0543 - mae: 13.5399 - mse: 344.0543 - val_loss: 379.9283 - val_mae: 15.2174 - val_mse: 379.9283\n"
          ]
        }
      ]
    },
    {
      "cell_type": "markdown",
      "source": [
        "LSTM+GRU"
      ],
      "metadata": {
        "id": "5TW_EAhE-iWs"
      }
    },
    {
      "cell_type": "code",
      "source": [
        "i=Input(shape=(T,1))\n",
        "x=LSTM(200,return_sequences=True)(i)\n",
        "x=LSTM(200,return_sequences=True)(x)\n",
        "x=Dense(100)(x)\n",
        "x=Dense(50)(x)\n",
        "x=GRU(200,return_sequences=True)(x)\n",
        "x=GRU(200,return_sequences=True)(x)\n",
        "x=GlobalMaxPool1D()(x)\n",
        "x=Dense(100)(x)\n",
        "x=Dense(50)(x)\n",
        "x=Dense(1)(x)\n",
        "model_lstm_gru=Model(i,x)\n",
        "model_lstm_gru.summary()"
      ],
      "metadata": {
        "colab": {
          "base_uri": "https://localhost:8080/"
        },
        "id": "5MFW_hNA-UIb",
        "outputId": "8a6c3384-dc68-4c76-c26a-f8793daa9f55"
      },
      "execution_count": 20,
      "outputs": [
        {
          "output_type": "stream",
          "name": "stdout",
          "text": [
            "Model: \"model_2\"\n",
            "_________________________________________________________________\n",
            " Layer (type)                Output Shape              Param #   \n",
            "=================================================================\n",
            " input_3 (InputLayer)        [(None, 50, 1)]           0         \n",
            "                                                                 \n",
            " lstm_4 (LSTM)               (None, 50, 200)           161600    \n",
            "                                                                 \n",
            " lstm_5 (LSTM)               (None, 50, 200)           320800    \n",
            "                                                                 \n",
            " dense_8 (Dense)             (None, 50, 100)           20100     \n",
            "                                                                 \n",
            " dense_9 (Dense)             (None, 50, 50)            5050      \n",
            "                                                                 \n",
            " gru_2 (GRU)                 (None, 50, 200)           151200    \n",
            "                                                                 \n",
            " gru_3 (GRU)                 (None, 50, 200)           241200    \n",
            "                                                                 \n",
            " global_max_pooling1d_2 (Glo  (None, 200)              0         \n",
            " balMaxPooling1D)                                                \n",
            "                                                                 \n",
            " dense_10 (Dense)            (None, 100)               20100     \n",
            "                                                                 \n",
            " dense_11 (Dense)            (None, 50)                5050      \n",
            "                                                                 \n",
            " dense_12 (Dense)            (None, 1)                 51        \n",
            "                                                                 \n",
            "=================================================================\n",
            "Total params: 925,151\n",
            "Trainable params: 925,151\n",
            "Non-trainable params: 0\n",
            "_________________________________________________________________\n"
          ]
        }
      ]
    },
    {
      "cell_type": "code",
      "source": [
        "check_point_lstm_gru=ModelCheckpoint('best_model.h5',monitor='val_loss',save_best_only=True)"
      ],
      "metadata": {
        "id": "bPn2IlMx-pP6"
      },
      "execution_count": 21,
      "outputs": []
    },
    {
      "cell_type": "code",
      "source": [
        "model_lstm_gru.compile(loss='mse',\n",
        "              optimizer='adamax',\n",
        "              metrics=['mae','mse'])"
      ],
      "metadata": {
        "id": "s2W9B-lL-5VS"
      },
      "execution_count": 22,
      "outputs": []
    },
    {
      "cell_type": "code",
      "source": [
        "r=model_lstm_gru.fit(\n",
        "    Xtrain,\n",
        "    Ytrain,\n",
        "    epochs=100,\n",
        "    validation_data=(Xtest,Ytest),\n",
        "    callbacks=[check_point_lstm_gru]\n",
        ")"
      ],
      "metadata": {
        "colab": {
          "base_uri": "https://localhost:8080/"
        },
        "id": "tSfqgZ2w-8KI",
        "outputId": "73532008-185b-4135-d833-704d8b142d43"
      },
      "execution_count": 23,
      "outputs": [
        {
          "output_type": "stream",
          "name": "stdout",
          "text": [
            "Epoch 1/100\n",
            "4/4 [==============================] - 12s 1s/step - loss: 443.8052 - mae: 14.9388 - mse: 443.8052 - val_loss: 352.5326 - val_mae: 14.9016 - val_mse: 352.5326\n",
            "Epoch 2/100\n",
            "4/4 [==============================] - 2s 623ms/step - loss: 440.1114 - mae: 14.8454 - mse: 440.1114 - val_loss: 344.5203 - val_mae: 14.7836 - val_mse: 344.5203\n",
            "Epoch 3/100\n",
            "4/4 [==============================] - 2s 618ms/step - loss: 439.5638 - mae: 14.8739 - mse: 439.5638 - val_loss: 342.5874 - val_mae: 14.7382 - val_mse: 342.5874\n",
            "Epoch 4/100\n",
            "4/4 [==============================] - 2s 606ms/step - loss: 438.7240 - mae: 14.8424 - mse: 438.7240 - val_loss: 345.3532 - val_mae: 14.7992 - val_mse: 345.3532\n",
            "Epoch 5/100\n",
            "4/4 [==============================] - 2s 597ms/step - loss: 437.6398 - mae: 14.7994 - mse: 437.6398 - val_loss: 345.8445 - val_mae: 14.8086 - val_mse: 345.8445\n",
            "Epoch 6/100\n",
            "4/4 [==============================] - 2s 595ms/step - loss: 437.9554 - mae: 14.7952 - mse: 437.9554 - val_loss: 346.4649 - val_mae: 14.8199 - val_mse: 346.4649\n",
            "Epoch 7/100\n",
            "4/4 [==============================] - 2s 597ms/step - loss: 436.9462 - mae: 14.7852 - mse: 436.9462 - val_loss: 345.0067 - val_mae: 14.7959 - val_mse: 345.0067\n",
            "Epoch 8/100\n",
            "4/4 [==============================] - 2s 618ms/step - loss: 440.9566 - mae: 14.8340 - mse: 440.9566 - val_loss: 342.4946 - val_mae: 14.7339 - val_mse: 342.4946\n",
            "Epoch 9/100\n",
            "4/4 [==============================] - 2s 597ms/step - loss: 437.1835 - mae: 14.8234 - mse: 437.1835 - val_loss: 343.1803 - val_mae: 14.7555 - val_mse: 343.1803\n",
            "Epoch 10/100\n",
            "4/4 [==============================] - 2s 603ms/step - loss: 438.0551 - mae: 14.8159 - mse: 438.0551 - val_loss: 344.6744 - val_mae: 14.7889 - val_mse: 344.6744\n",
            "Epoch 11/100\n",
            "4/4 [==============================] - 2s 601ms/step - loss: 436.5397 - mae: 14.7883 - mse: 436.5397 - val_loss: 344.6068 - val_mae: 14.7897 - val_mse: 344.6068\n",
            "Epoch 12/100\n",
            "4/4 [==============================] - 2s 598ms/step - loss: 436.3633 - mae: 14.7764 - mse: 436.3633 - val_loss: 344.8347 - val_mae: 14.7952 - val_mse: 344.8347\n",
            "Epoch 13/100\n",
            "4/4 [==============================] - 2s 601ms/step - loss: 436.0492 - mae: 14.7698 - mse: 436.0492 - val_loss: 344.9192 - val_mae: 14.7961 - val_mse: 344.9192\n",
            "Epoch 14/100\n",
            "4/4 [==============================] - 2s 601ms/step - loss: 435.9705 - mae: 14.7662 - mse: 435.9705 - val_loss: 344.5002 - val_mae: 14.7886 - val_mse: 344.5002\n",
            "Epoch 15/100\n",
            "4/4 [==============================] - 2s 597ms/step - loss: 435.5790 - mae: 14.7664 - mse: 435.5790 - val_loss: 344.6258 - val_mae: 14.7898 - val_mse: 344.6258\n",
            "Epoch 16/100\n",
            "4/4 [==============================] - 2s 600ms/step - loss: 435.2026 - mae: 14.7700 - mse: 435.2026 - val_loss: 344.8396 - val_mae: 14.7919 - val_mse: 344.8396\n",
            "Epoch 17/100\n",
            "4/4 [==============================] - 2s 606ms/step - loss: 435.2558 - mae: 14.7771 - mse: 435.2558 - val_loss: 345.1801 - val_mae: 14.7979 - val_mse: 345.1801\n",
            "Epoch 18/100\n",
            "4/4 [==============================] - 2s 599ms/step - loss: 434.9766 - mae: 14.7690 - mse: 434.9766 - val_loss: 344.8047 - val_mae: 14.7917 - val_mse: 344.8047\n",
            "Epoch 19/100\n",
            "4/4 [==============================] - 2s 603ms/step - loss: 435.0766 - mae: 14.7753 - mse: 435.0766 - val_loss: 346.1180 - val_mae: 14.8164 - val_mse: 346.1180\n",
            "Epoch 20/100\n",
            "4/4 [==============================] - 2s 596ms/step - loss: 434.3359 - mae: 14.7711 - mse: 434.3359 - val_loss: 345.6328 - val_mae: 14.8091 - val_mse: 345.6328\n",
            "Epoch 21/100\n",
            "4/4 [==============================] - 2s 600ms/step - loss: 433.2158 - mae: 14.7723 - mse: 433.2158 - val_loss: 344.7361 - val_mae: 14.7872 - val_mse: 344.7361\n",
            "Epoch 22/100\n",
            "4/4 [==============================] - 2s 597ms/step - loss: 432.9787 - mae: 14.7718 - mse: 432.9787 - val_loss: 344.9677 - val_mae: 14.7914 - val_mse: 344.9677\n",
            "Epoch 23/100\n",
            "4/4 [==============================] - 2s 626ms/step - loss: 433.3502 - mae: 14.7666 - mse: 433.3502 - val_loss: 345.5373 - val_mae: 14.8025 - val_mse: 345.5373\n",
            "Epoch 24/100\n",
            "4/4 [==============================] - 3s 695ms/step - loss: 434.7947 - mae: 14.7490 - mse: 434.7947 - val_loss: 350.7466 - val_mae: 14.9216 - val_mse: 350.7466\n",
            "Epoch 25/100\n",
            "4/4 [==============================] - 2s 591ms/step - loss: 432.9544 - mae: 14.8163 - mse: 432.9544 - val_loss: 347.9482 - val_mae: 14.8605 - val_mse: 347.9482\n",
            "Epoch 26/100\n",
            "4/4 [==============================] - 2s 597ms/step - loss: 430.5082 - mae: 14.7677 - mse: 430.5082 - val_loss: 347.7637 - val_mae: 14.8587 - val_mse: 347.7637\n",
            "Epoch 27/100\n",
            "4/4 [==============================] - 2s 598ms/step - loss: 429.4282 - mae: 14.7555 - mse: 429.4282 - val_loss: 349.1384 - val_mae: 14.8932 - val_mse: 349.1384\n",
            "Epoch 28/100\n",
            "4/4 [==============================] - 2s 607ms/step - loss: 428.3524 - mae: 14.7769 - mse: 428.3524 - val_loss: 350.3575 - val_mae: 14.9170 - val_mse: 350.3575\n",
            "Epoch 29/100\n",
            "4/4 [==============================] - 2s 600ms/step - loss: 427.5090 - mae: 14.6893 - mse: 427.5090 - val_loss: 349.7776 - val_mae: 14.9131 - val_mse: 349.7776\n",
            "Epoch 30/100\n",
            "4/4 [==============================] - 2s 599ms/step - loss: 426.9891 - mae: 14.6267 - mse: 426.9891 - val_loss: 350.0702 - val_mae: 14.9254 - val_mse: 350.0702\n",
            "Epoch 31/100\n",
            "4/4 [==============================] - 2s 601ms/step - loss: 423.4293 - mae: 14.7005 - mse: 423.4293 - val_loss: 354.3055 - val_mae: 15.0139 - val_mse: 354.3055\n",
            "Epoch 32/100\n",
            "4/4 [==============================] - 2s 600ms/step - loss: 422.0387 - mae: 14.6364 - mse: 422.0387 - val_loss: 357.6595 - val_mae: 15.0779 - val_mse: 357.6595\n",
            "Epoch 33/100\n",
            "4/4 [==============================] - 2s 601ms/step - loss: 418.8688 - mae: 14.5332 - mse: 418.8688 - val_loss: 356.4032 - val_mae: 15.0527 - val_mse: 356.4032\n",
            "Epoch 34/100\n",
            "4/4 [==============================] - 2s 602ms/step - loss: 416.4140 - mae: 14.5608 - mse: 416.4140 - val_loss: 359.6617 - val_mae: 15.1481 - val_mse: 359.6617\n",
            "Epoch 35/100\n",
            "4/4 [==============================] - 2s 601ms/step - loss: 413.7143 - mae: 14.5997 - mse: 413.7143 - val_loss: 364.7331 - val_mae: 15.2158 - val_mse: 364.7331\n",
            "Epoch 36/100\n",
            "4/4 [==============================] - 2s 603ms/step - loss: 409.8221 - mae: 14.5079 - mse: 409.8221 - val_loss: 368.4944 - val_mae: 15.2458 - val_mse: 368.4944\n",
            "Epoch 37/100\n",
            "4/4 [==============================] - 2s 591ms/step - loss: 405.8647 - mae: 14.3656 - mse: 405.8647 - val_loss: 369.4748 - val_mae: 15.2524 - val_mse: 369.4748\n",
            "Epoch 38/100\n",
            "4/4 [==============================] - 2s 606ms/step - loss: 403.3581 - mae: 14.4061 - mse: 403.3581 - val_loss: 371.9988 - val_mae: 15.2764 - val_mse: 371.9988\n",
            "Epoch 39/100\n",
            "4/4 [==============================] - 2s 605ms/step - loss: 403.3932 - mae: 14.5354 - mse: 403.3932 - val_loss: 370.2498 - val_mae: 15.2473 - val_mse: 370.2498\n",
            "Epoch 40/100\n",
            "4/4 [==============================] - 2s 609ms/step - loss: 396.5840 - mae: 14.2462 - mse: 396.5840 - val_loss: 371.7087 - val_mae: 15.2749 - val_mse: 371.7087\n",
            "Epoch 41/100\n",
            "4/4 [==============================] - 2s 598ms/step - loss: 398.7614 - mae: 14.3273 - mse: 398.7614 - val_loss: 369.8627 - val_mae: 15.2489 - val_mse: 369.8627\n",
            "Epoch 42/100\n",
            "4/4 [==============================] - 2s 604ms/step - loss: 393.8885 - mae: 14.2369 - mse: 393.8885 - val_loss: 367.8302 - val_mae: 15.1843 - val_mse: 367.8302\n",
            "Epoch 43/100\n",
            "4/4 [==============================] - 2s 595ms/step - loss: 397.2502 - mae: 14.2158 - mse: 397.2502 - val_loss: 373.9070 - val_mae: 15.3416 - val_mse: 373.9070\n",
            "Epoch 44/100\n",
            "4/4 [==============================] - 2s 605ms/step - loss: 392.3162 - mae: 14.4190 - mse: 392.3162 - val_loss: 377.7697 - val_mae: 15.4442 - val_mse: 377.7697\n",
            "Epoch 45/100\n",
            "4/4 [==============================] - 2s 594ms/step - loss: 387.6412 - mae: 14.1604 - mse: 387.6412 - val_loss: 374.7454 - val_mae: 15.3053 - val_mse: 374.7454\n",
            "Epoch 46/100\n",
            "4/4 [==============================] - 2s 607ms/step - loss: 393.8900 - mae: 14.3352 - mse: 393.8900 - val_loss: 378.6007 - val_mae: 15.3624 - val_mse: 378.6007\n",
            "Epoch 47/100\n",
            "4/4 [==============================] - 2s 600ms/step - loss: 376.7749 - mae: 13.8952 - mse: 376.7749 - val_loss: 365.6510 - val_mae: 15.1300 - val_mse: 365.6510\n",
            "Epoch 48/100\n",
            "4/4 [==============================] - 2s 597ms/step - loss: 384.6128 - mae: 14.0565 - mse: 384.6128 - val_loss: 369.7942 - val_mae: 15.2424 - val_mse: 369.7942\n",
            "Epoch 49/100\n",
            "4/4 [==============================] - 2s 598ms/step - loss: 373.8282 - mae: 14.0215 - mse: 373.8282 - val_loss: 373.4115 - val_mae: 15.3396 - val_mse: 373.4115\n",
            "Epoch 50/100\n",
            "4/4 [==============================] - 2s 597ms/step - loss: 378.9350 - mae: 13.9200 - mse: 378.9350 - val_loss: 369.2655 - val_mae: 15.1920 - val_mse: 369.2655\n",
            "Epoch 51/100\n",
            "4/4 [==============================] - 2s 612ms/step - loss: 368.8010 - mae: 13.8023 - mse: 368.8010 - val_loss: 405.1794 - val_mae: 16.0118 - val_mse: 405.1794\n",
            "Epoch 52/100\n",
            "4/4 [==============================] - 2s 600ms/step - loss: 372.1840 - mae: 13.7615 - mse: 372.1840 - val_loss: 412.1705 - val_mae: 16.1467 - val_mse: 412.1705\n",
            "Epoch 53/100\n",
            "4/4 [==============================] - 2s 597ms/step - loss: 365.0090 - mae: 13.6970 - mse: 365.0090 - val_loss: 406.4721 - val_mae: 15.9695 - val_mse: 406.4721\n",
            "Epoch 54/100\n",
            "4/4 [==============================] - 2s 592ms/step - loss: 373.1870 - mae: 13.8588 - mse: 373.1870 - val_loss: 406.2100 - val_mae: 16.0510 - val_mse: 406.2100\n",
            "Epoch 55/100\n",
            "4/4 [==============================] - 2s 601ms/step - loss: 353.3448 - mae: 13.3587 - mse: 353.3448 - val_loss: 401.9908 - val_mae: 16.0028 - val_mse: 401.9908\n",
            "Epoch 56/100\n",
            "4/4 [==============================] - 2s 600ms/step - loss: 356.0258 - mae: 13.6036 - mse: 356.0258 - val_loss: 405.7131 - val_mae: 16.0571 - val_mse: 405.7131\n",
            "Epoch 57/100\n",
            "4/4 [==============================] - 2s 599ms/step - loss: 349.3223 - mae: 13.3980 - mse: 349.3223 - val_loss: 395.6568 - val_mae: 15.7034 - val_mse: 395.6568\n",
            "Epoch 58/100\n",
            "4/4 [==============================] - 2s 602ms/step - loss: 342.4188 - mae: 13.0270 - mse: 342.4188 - val_loss: 401.5908 - val_mae: 15.8845 - val_mse: 401.5908\n",
            "Epoch 59/100\n",
            "4/4 [==============================] - 2s 602ms/step - loss: 340.0784 - mae: 13.1570 - mse: 340.0784 - val_loss: 407.3511 - val_mae: 16.0071 - val_mse: 407.3511\n",
            "Epoch 60/100\n",
            "4/4 [==============================] - 2s 610ms/step - loss: 336.1252 - mae: 13.1213 - mse: 336.1252 - val_loss: 409.4523 - val_mae: 15.9690 - val_mse: 409.4523\n",
            "Epoch 61/100\n",
            "4/4 [==============================] - 2s 601ms/step - loss: 339.5353 - mae: 13.0602 - mse: 339.5353 - val_loss: 408.3424 - val_mae: 15.8703 - val_mse: 408.3424\n",
            "Epoch 62/100\n",
            "4/4 [==============================] - 2s 598ms/step - loss: 334.6409 - mae: 12.9817 - mse: 334.6409 - val_loss: 415.4442 - val_mae: 15.9925 - val_mse: 415.4442\n",
            "Epoch 63/100\n",
            "4/4 [==============================] - 2s 609ms/step - loss: 337.8121 - mae: 12.9608 - mse: 337.8121 - val_loss: 421.1154 - val_mae: 16.1250 - val_mse: 421.1154\n",
            "Epoch 64/100\n",
            "4/4 [==============================] - 2s 602ms/step - loss: 325.1854 - mae: 12.8766 - mse: 325.1854 - val_loss: 413.7782 - val_mae: 16.0102 - val_mse: 413.7782\n",
            "Epoch 65/100\n",
            "4/4 [==============================] - 2s 616ms/step - loss: 323.2581 - mae: 12.9897 - mse: 323.2581 - val_loss: 415.0232 - val_mae: 15.9866 - val_mse: 415.0232\n",
            "Epoch 66/100\n",
            "4/4 [==============================] - 2s 617ms/step - loss: 322.8069 - mae: 12.9283 - mse: 322.8069 - val_loss: 438.6247 - val_mae: 16.5912 - val_mse: 438.6247\n",
            "Epoch 67/100\n",
            "4/4 [==============================] - 3s 839ms/step - loss: 319.8323 - mae: 12.8025 - mse: 319.8323 - val_loss: 433.6623 - val_mae: 16.4434 - val_mse: 433.6623\n",
            "Epoch 68/100\n",
            "4/4 [==============================] - 3s 816ms/step - loss: 333.0929 - mae: 12.9076 - mse: 333.0929 - val_loss: 423.2930 - val_mae: 16.0866 - val_mse: 423.2930\n",
            "Epoch 69/100\n",
            "4/4 [==============================] - 2s 599ms/step - loss: 321.4800 - mae: 12.7109 - mse: 321.4800 - val_loss: 431.1749 - val_mae: 16.3708 - val_mse: 431.1749\n",
            "Epoch 70/100\n",
            "4/4 [==============================] - 4s 1s/step - loss: 304.8098 - mae: 12.5216 - mse: 304.8098 - val_loss: 443.0923 - val_mae: 16.6750 - val_mse: 443.0923\n",
            "Epoch 71/100\n",
            "4/4 [==============================] - 3s 723ms/step - loss: 315.6853 - mae: 12.7129 - mse: 315.6853 - val_loss: 423.5819 - val_mae: 16.2515 - val_mse: 423.5819\n",
            "Epoch 72/100\n",
            "4/4 [==============================] - 3s 734ms/step - loss: 308.3752 - mae: 12.6551 - mse: 308.3752 - val_loss: 409.5274 - val_mae: 15.8572 - val_mse: 409.5274\n",
            "Epoch 73/100\n",
            "4/4 [==============================] - 3s 617ms/step - loss: 309.0959 - mae: 12.5984 - mse: 309.0959 - val_loss: 418.8923 - val_mae: 16.0617 - val_mse: 418.8923\n",
            "Epoch 74/100\n",
            "4/4 [==============================] - 3s 662ms/step - loss: 294.7806 - mae: 12.1848 - mse: 294.7806 - val_loss: 441.0467 - val_mae: 16.6502 - val_mse: 441.0467\n",
            "Epoch 75/100\n",
            "4/4 [==============================] - 3s 758ms/step - loss: 311.6134 - mae: 12.6451 - mse: 311.6134 - val_loss: 455.7124 - val_mae: 16.8913 - val_mse: 455.7124\n",
            "Epoch 76/100\n",
            "4/4 [==============================] - 3s 867ms/step - loss: 278.8383 - mae: 11.9265 - mse: 278.8383 - val_loss: 446.9534 - val_mae: 16.6239 - val_mse: 446.9534\n",
            "Epoch 77/100\n",
            "4/4 [==============================] - 2s 614ms/step - loss: 314.0347 - mae: 12.5873 - mse: 314.0347 - val_loss: 455.4441 - val_mae: 16.7030 - val_mse: 455.4441\n",
            "Epoch 78/100\n",
            "4/4 [==============================] - 2s 597ms/step - loss: 291.9133 - mae: 12.4299 - mse: 291.9133 - val_loss: 465.7470 - val_mae: 17.1517 - val_mse: 465.7470\n",
            "Epoch 79/100\n",
            "4/4 [==============================] - 3s 723ms/step - loss: 288.6383 - mae: 12.1601 - mse: 288.6383 - val_loss: 463.1198 - val_mae: 17.0415 - val_mse: 463.1198\n",
            "Epoch 80/100\n",
            "4/4 [==============================] - 3s 698ms/step - loss: 270.2806 - mae: 11.6547 - mse: 270.2806 - val_loss: 448.0152 - val_mae: 16.6958 - val_mse: 448.0152\n",
            "Epoch 81/100\n",
            "4/4 [==============================] - 3s 705ms/step - loss: 273.7142 - mae: 11.8038 - mse: 273.7142 - val_loss: 455.0783 - val_mae: 16.9546 - val_mse: 455.0783\n",
            "Epoch 82/100\n",
            "4/4 [==============================] - 3s 600ms/step - loss: 270.4460 - mae: 11.7475 - mse: 270.4460 - val_loss: 463.4951 - val_mae: 17.0775 - val_mse: 463.4951\n",
            "Epoch 83/100\n",
            "4/4 [==============================] - 3s 812ms/step - loss: 259.5516 - mae: 11.3542 - mse: 259.5516 - val_loss: 499.1005 - val_mae: 17.6156 - val_mse: 499.1005\n",
            "Epoch 84/100\n",
            "4/4 [==============================] - 3s 711ms/step - loss: 259.4736 - mae: 11.4864 - mse: 259.4736 - val_loss: 508.4875 - val_mae: 17.8491 - val_mse: 508.4875\n",
            "Epoch 85/100\n",
            "4/4 [==============================] - 2s 602ms/step - loss: 251.0075 - mae: 11.2468 - mse: 251.0075 - val_loss: 493.8362 - val_mae: 17.7868 - val_mse: 493.8362\n",
            "Epoch 86/100\n",
            "4/4 [==============================] - 2s 592ms/step - loss: 251.8962 - mae: 11.4256 - mse: 251.8962 - val_loss: 486.8666 - val_mae: 17.6111 - val_mse: 486.8666\n",
            "Epoch 87/100\n",
            "4/4 [==============================] - 2s 587ms/step - loss: 245.0999 - mae: 11.4355 - mse: 245.0999 - val_loss: 496.1990 - val_mae: 17.7701 - val_mse: 496.1990\n",
            "Epoch 88/100\n",
            "4/4 [==============================] - 2s 615ms/step - loss: 255.9471 - mae: 11.5886 - mse: 255.9471 - val_loss: 518.9191 - val_mae: 18.0927 - val_mse: 518.9191\n",
            "Epoch 89/100\n",
            "4/4 [==============================] - 3s 925ms/step - loss: 253.9155 - mae: 11.3764 - mse: 253.9155 - val_loss: 527.2222 - val_mae: 18.3585 - val_mse: 527.2222\n",
            "Epoch 90/100\n",
            "4/4 [==============================] - 2s 599ms/step - loss: 239.2330 - mae: 10.9659 - mse: 239.2330 - val_loss: 505.5872 - val_mae: 17.9683 - val_mse: 505.5872\n",
            "Epoch 91/100\n",
            "4/4 [==============================] - 3s 878ms/step - loss: 241.4958 - mae: 11.3637 - mse: 241.4958 - val_loss: 496.0926 - val_mae: 17.5449 - val_mse: 496.0926\n",
            "Epoch 92/100\n",
            "4/4 [==============================] - 3s 838ms/step - loss: 236.4426 - mae: 11.0342 - mse: 236.4426 - val_loss: 543.1376 - val_mae: 18.3530 - val_mse: 543.1376\n",
            "Epoch 93/100\n",
            "4/4 [==============================] - 3s 688ms/step - loss: 231.4288 - mae: 10.8167 - mse: 231.4288 - val_loss: 509.8300 - val_mae: 17.9340 - val_mse: 509.8300\n",
            "Epoch 94/100\n",
            "4/4 [==============================] - 2s 597ms/step - loss: 231.2381 - mae: 11.0163 - mse: 231.2381 - val_loss: 501.7902 - val_mae: 17.8635 - val_mse: 501.7902\n",
            "Epoch 95/100\n",
            "4/4 [==============================] - 2s 594ms/step - loss: 216.5778 - mae: 10.3851 - mse: 216.5778 - val_loss: 511.0399 - val_mae: 17.6428 - val_mse: 511.0399\n",
            "Epoch 96/100\n",
            "4/4 [==============================] - 2s 608ms/step - loss: 226.3216 - mae: 10.8454 - mse: 226.3216 - val_loss: 511.5610 - val_mae: 17.7193 - val_mse: 511.5610\n",
            "Epoch 97/100\n",
            "4/4 [==============================] - 3s 720ms/step - loss: 216.8371 - mae: 10.4654 - mse: 216.8371 - val_loss: 493.8997 - val_mae: 17.5129 - val_mse: 493.8997\n",
            "Epoch 98/100\n",
            "4/4 [==============================] - 3s 619ms/step - loss: 222.0049 - mae: 10.6817 - mse: 222.0049 - val_loss: 499.4102 - val_mae: 17.5519 - val_mse: 499.4102\n",
            "Epoch 99/100\n",
            "4/4 [==============================] - 2s 603ms/step - loss: 203.9021 - mae: 10.2482 - mse: 203.9021 - val_loss: 506.1927 - val_mae: 17.7338 - val_mse: 506.1927\n",
            "Epoch 100/100\n",
            "4/4 [==============================] - 3s 788ms/step - loss: 210.9695 - mae: 10.5056 - mse: 210.9695 - val_loss: 510.5511 - val_mae: 17.7180 - val_mse: 510.5511\n"
          ]
        }
      ]
    },
    {
      "cell_type": "markdown",
      "source": [
        "Predictions\n",
        "\n"
      ],
      "metadata": {
        "id": "ykyI87uZAFYU"
      }
    },
    {
      "cell_type": "code",
      "source": [
        "train_idx[:T+1]=False"
      ],
      "metadata": {
        "id": "k0XDQv2l-_2x"
      },
      "execution_count": 24,
      "outputs": []
    },
    {
      "cell_type": "code",
      "source": [
        "Ptrain_lstm_cnn=model_lstm_cnn.predict(Xtrain).flatten()\n",
        "Ptest_lstm_cnn=model_lstm_cnn.predict(Xtest).flatten()"
      ],
      "metadata": {
        "id": "wJ3J-Cvv_oLA"
      },
      "execution_count": 25,
      "outputs": []
    },
    {
      "cell_type": "code",
      "source": [
        "Ptrain_lstm_gru=model_lstm_gru.predict(Xtrain).flatten()\n",
        "Ptest_lstm_gru=model_lstm_gru.predict(Xtest).flatten()"
      ],
      "metadata": {
        "id": "r9GuOYr-_oRf"
      },
      "execution_count": 26,
      "outputs": []
    },
    {
      "cell_type": "code",
      "source": [
        "df.loc[train_idx,'Diff LSTM+CNN train prediction']=Ptrain_lstm_cnn\n",
        "df.loc[test_idx,'Diff LSTM+CNN test prediction']=Ptest_lstm_cnn"
      ],
      "metadata": {
        "id": "-ZvHYeDl_oYI"
      },
      "execution_count": 27,
      "outputs": []
    },
    {
      "cell_type": "code",
      "source": [
        "df.loc[train_idx,'Diff LSTM+GRU train prediction']=Ptrain_lstm_gru\n",
        "df.loc[test_idx,'Diff LSTM+GRU test prediction']=Ptest_lstm_gru"
      ],
      "metadata": {
        "id": "h0xk_CKv_7mw"
      },
      "execution_count": 28,
      "outputs": []
    },
    {
      "cell_type": "code",
      "source": [
        "df['Shift Prev Close']=df['Prev Close'].shift(1)\n",
        "prev=df['Shift Prev Close']"
      ],
      "metadata": {
        "id": "-9ekKxJr_7pu"
      },
      "execution_count": 29,
      "outputs": []
    },
    {
      "cell_type": "code",
      "source": [
        "last_train=train.iloc[-1]['Prev Close']"
      ],
      "metadata": {
        "id": "Qd-4VnON_7tL"
      },
      "execution_count": 30,
      "outputs": []
    },
    {
      "cell_type": "code",
      "source": [
        "df.loc[train_idx,'train_LSTM_CNN']=prev[train_idx]+Ptrain_lstm_cnn\n",
        "df.loc[test_idx,'Prediction_LSTM_CNN']=prev[test_idx]+Ptest_lstm_cnn"
      ],
      "metadata": {
        "id": "wIUM_MvYALoR"
      },
      "execution_count": 31,
      "outputs": []
    },
    {
      "cell_type": "code",
      "source": [
        "df.loc[train_idx,'train_LSTM_GRU']=prev[train_idx]+Ptrain_lstm_gru\n",
        "df.loc[test_idx,'Prediction_LSTM_GRU']=prev[test_idx]+Ptest_lstm_gru"
      ],
      "metadata": {
        "id": "4dA6pDYTANWK"
      },
      "execution_count": 32,
      "outputs": []
    },
    {
      "cell_type": "code",
      "source": [
        "df[['Prev Close' ,'Prediction_LSTM_CNN','Prediction_LSTM_GRU']].plot(figsize=(15,10));"
      ],
      "metadata": {
        "colab": {
          "base_uri": "https://localhost:8080/",
          "height": 422
        },
        "id": "f8KVkcj8AaPm",
        "outputId": "eeadcfdf-f570-4a21-aaf4-c04aa53ff0e4"
      },
      "execution_count": 34,
      "outputs": [
        {
          "output_type": "display_data",
          "data": {
            "text/plain": [
              "<Figure size 1080x720 with 1 Axes>"
            ],
            "image/png": "[encoded data removed]"
          },
          "metadata": {
            "needs_background": "light"
          }
        }
      ]
    },
    {
      "cell_type": "code",
      "source": [
        "df[['Prediction_LSTM_CNN','Prediction_LSTM_GRU']].plot(figsize=(15,10));"
      ],
      "metadata": {
        "colab": {
          "base_uri": "https://localhost:8080/",
          "height": 428
        },
        "id": "ZYDW87n5Anf9",
        "outputId": "69f8fc8a-ba4b-4199-d9a8-f74d8c37950f"
      },
      "execution_count": 35,
      "outputs": [
        {
          "output_type": "display_data",
          "data": {
            "text/plain": [
              "<Figure size 1080x720 with 1 Axes>"
            ],
            "image/png": "[encoded data removed]"
          },
          "metadata": {
            "needs_background": "light"
          }
        }
      ]
    },
    {
      "cell_type": "code",
      "source": [
        "pred_lstm_cnn=df['Prediction_LSTM_CNN']\n",
        "pred_lstm_cnn.dropna(inplace=True)"
      ],
      "metadata": {
        "id": "gj8xug0lAxWl"
      },
      "execution_count": 46,
      "outputs": []
    },
    {
      "cell_type": "code",
      "source": [
        "rmse=math.sqrt(mean_squared_error(test['Prev Close'],pred_lstm_cnn))\n",
        "print(rmse)"
      ],
      "metadata": {
        "colab": {
          "base_uri": "https://localhost:8080/"
        },
        "id": "rakkuhBuA-qw",
        "outputId": "6771c3ac-5218-4c25-e6c3-b775007e1fdf"
      },
      "execution_count": 47,
      "outputs": [
        {
          "output_type": "stream",
          "name": "stdout",
          "text": [
            "19.491749602905532\n"
          ]
        }
      ]
    },
    {
      "cell_type": "code",
      "source": [
        "error=mean_absolute_error(test['Prev Close'],pred_lstm_cnn)\n",
        "print(error)"
      ],
      "metadata": {
        "colab": {
          "base_uri": "https://localhost:8080/"
        },
        "id": "9wztKO3rBHqx",
        "outputId": "82566170-3c67-4895-cbea-d8a5de341688"
      },
      "execution_count": 48,
      "outputs": [
        {
          "output_type": "stream",
          "name": "stdout",
          "text": [
            "15.217374129931132\n"
          ]
        }
      ]
    },
    {
      "cell_type": "code",
      "source": [
        "r2_score(test['Prev Close'],pred_lstm_cnn)"
      ],
      "metadata": {
        "colab": {
          "base_uri": "https://localhost:8080/"
        },
        "id": "OXbq8UpSBH9g",
        "outputId": "442bad43-38db-4562-ad4b-8e49e3bf4db4"
      },
      "execution_count": 49,
      "outputs": [
        {
          "output_type": "execute_result",
          "data": {
            "text/plain": [
              "0.9143547333626019"
            ]
          },
          "metadata": {},
          "execution_count": 49
        }
      ]
    },
    {
      "cell_type": "code",
      "source": [
        "pred_lstm_gru=df['Prediction_LSTM_GRU']\n",
        "pred_lstm_gru.dropna(inplace=True)"
      ],
      "metadata": {
        "id": "kaOiSQKJBRUU"
      },
      "execution_count": 50,
      "outputs": []
    },
    {
      "cell_type": "code",
      "source": [
        "rmse=math.sqrt(mean_squared_error(test['Prev Close'],pred_lstm_cnn))\n",
        "print(rmse)"
      ],
      "metadata": {
        "colab": {
          "base_uri": "https://localhost:8080/"
        },
        "id": "7UBA8PW2BRex",
        "outputId": "aa4b638b-2fa2-4124-d4ae-5e7eeb449c8b"
      },
      "execution_count": 51,
      "outputs": [
        {
          "output_type": "stream",
          "name": "stdout",
          "text": [
            "19.491749602905532\n"
          ]
        }
      ]
    },
    {
      "cell_type": "code",
      "source": [
        "error=mean_absolute_error(test['Prev Close'],pred_lstm_gru)\n",
        "print(error)"
      ],
      "metadata": {
        "colab": {
          "base_uri": "https://localhost:8080/"
        },
        "id": "9zf0Qkl4BRo1",
        "outputId": "ea4510c0-3544-43d8-bf41-c9db3e22ece8"
      },
      "execution_count": 52,
      "outputs": [
        {
          "output_type": "stream",
          "name": "stdout",
          "text": [
            "17.718006477832798\n"
          ]
        }
      ]
    },
    {
      "cell_type": "code",
      "source": [
        "r2_score(test['Prev Close'],pred_lstm_gru)"
      ],
      "metadata": {
        "colab": {
          "base_uri": "https://localhost:8080/"
        },
        "id": "2TgbreYrBRzp",
        "outputId": "7561cf77-cbed-43df-a80f-27dcf6284406"
      },
      "execution_count": 53,
      "outputs": [
        {
          "output_type": "execute_result",
          "data": {
            "text/plain": [
              "0.8849091228254728"
            ]
          },
          "metadata": {},
          "execution_count": 53
        }
      ]
    },
    {
      "cell_type": "code",
      "source": [],
      "metadata": {
        "id": "E7qIDFyEBlEl"
      },
      "execution_count": 44,
      "outputs": []
    }
  ]
}