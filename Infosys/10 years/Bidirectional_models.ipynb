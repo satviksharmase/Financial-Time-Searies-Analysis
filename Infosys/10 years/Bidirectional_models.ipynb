{
  "cells": [
    {
      "cell_type": "code",
      "execution_count": 2,
      "metadata": {
        "id": "ZVEUR9Z46zJ7"
      },
      "outputs": [],
      "source": [
        "import pandas as pd\n",
        "import numpy as np\n",
        "import matplotlib.pyplot as plt\n",
        "\n",
        "import tensorflow as tf\n",
        "from tensorflow.keras.layers import Dense, Input, GlobalMaxPool1D, GRU,LSTM, Bidirectional\n",
        "from tensorflow.keras.models import Model\n",
        "from tensorflow.keras.callbacks import ModelCheckpoint\n",
        "\n",
        "import math\n",
        "\n",
        "from sklearn.metrics import r2_score\n",
        "from sklearn.metrics import mean_absolute_error\n",
        "from sklearn.metrics import mean_squared_error\n",
        "\n",
        "np.random.seed(123)\n",
        "tf.random.set_seed(123)"
      ]
    },
    {
      "cell_type": "code",
      "execution_count": 3,
      "metadata": {
        "id": "hGNJlPX-7FQ_"
      },
      "outputs": [],
      "source": [
        "df=pd.read_csv('./INFY.csv',index_col='Date',parse_dates=True)"
      ]
    },
    {
      "cell_type": "code",
      "execution_count": 4,
      "metadata": {
        "colab": {
          "base_uri": "https://localhost:8080/",
          "height": 710
        },
        "id": "_fw_w6SY7PDd",
        "outputId": "4d3d2992-e593-407b-e0e2-a6aed0d85daf"
      },
      "outputs": [
        {
          "output_type": "execute_result",
          "data": {
            "text/plain": [
              "                Symbol Series  Prev Close      Open      High       Low  \\\n",
              "Date                                                                      \n",
              "2000-01-03  INFOSYSTCH     EQ    14467.75  15625.00  15625.20  15625.00   \n",
              "2000-01-04  INFOSYSTCH     EQ    15625.20  16800.00  16875.25  16253.00   \n",
              "2000-01-05  INFOSYSTCH     EQ    16855.90  15701.00  16250.00  15507.45   \n",
              "2000-01-06  INFOSYSTCH     EQ    15507.45  15256.65  15300.00  14266.85   \n",
              "2000-01-07  INFOSYSTCH     EQ    14266.85  13125.50  13125.50  13125.50   \n",
              "...                ...    ...         ...       ...       ...       ...   \n",
              "2021-04-26        INFY     EQ     1333.80   1332.25   1351.30   1321.00   \n",
              "2021-04-27        INFY     EQ     1343.55   1346.00   1353.00   1340.15   \n",
              "2021-04-28        INFY     EQ     1348.50   1358.00   1359.50   1344.60   \n",
              "2021-04-29        INFY     EQ     1356.00   1368.00   1369.00   1351.40   \n",
              "2021-04-30        INFY     EQ     1356.35   1346.30   1373.90   1345.90   \n",
              "\n",
              "                Last     Close      VWAP   Volume      Turnover    Trades  \\\n",
              "Date                                                                        \n",
              "2000-01-03  15625.20  15625.20  15625.18     5137  8.026657e+12       NaN   \n",
              "2000-01-04  16875.25  16855.90  16646.38    56186  9.352937e+13       NaN   \n",
              "2000-01-05  15507.45  15507.45  15786.38   164605  2.598516e+14       NaN   \n",
              "2000-01-06  14266.85  14266.85  14462.82    81997  1.185908e+14       NaN   \n",
              "2000-01-07  13125.50  13125.50  13125.50     7589  9.960942e+12       NaN   \n",
              "...              ...       ...       ...      ...           ...       ...   \n",
              "2021-04-26   1345.00   1343.55   1343.19  7088606  9.521361e+14  130375.0   \n",
              "2021-04-27   1347.50   1348.50   1346.89  3636115  4.897445e+14  145974.0   \n",
              "2021-04-28   1355.80   1356.00   1353.45  4879234  6.603778e+14  137376.0   \n",
              "2021-04-29   1356.00   1356.35   1360.05  5412357  7.361090e+14  119277.0   \n",
              "2021-04-30   1348.60   1354.35   1361.16  8354677  1.137203e+15  131718.0   \n",
              "\n",
              "            Deliverable Volume  %Deliverble  \n",
              "Date                                         \n",
              "2000-01-03                 NaN          NaN  \n",
              "2000-01-04                 NaN          NaN  \n",
              "2000-01-05                 NaN          NaN  \n",
              "2000-01-06                 NaN          NaN  \n",
              "2000-01-07                 NaN          NaN  \n",
              "...                        ...          ...  \n",
              "2021-04-26           4218129.0       0.5951  \n",
              "2021-04-27           1871084.0       0.5146  \n",
              "2021-04-28           2857134.0       0.5856  \n",
              "2021-04-29           3130945.0       0.5785  \n",
              "2021-04-30           5408113.0       0.6473  \n",
              "\n",
              "[5306 rows x 14 columns]"
            ],
            "text/html": [
              "\n",
              "  <div id=\"df-9281d78d-a512-4107-8802-c10bea1d77d0\">\n",
              "    <div class=\"colab-df-container\">\n",
              "      <div>\n",
              "<style scoped>\n",
              "    .dataframe tbody tr th:only-of-type {\n",
              "        vertical-align: middle;\n",
              "    }\n",
              "\n",
              "    .dataframe tbody tr th {\n",
              "        vertical-align: top;\n",
              "    }\n",
              "\n",
              "    .dataframe thead th {\n",
              "        text-align: right;\n",
              "    }\n",
              "</style>\n",
              "<table border=\"1\" class=\"dataframe\">\n",
              "  <thead>\n",
              "    <tr style=\"text-align: right;\">\n",
              "      <th></th>\n",
              "      <th>Symbol</th>\n",
              "      <th>Series</th>\n",
              "      <th>Prev Close</th>\n",
              "      <th>Open</th>\n",
              "      <th>High</th>\n",
              "      <th>Low</th>\n",
              "      <th>Last</th>\n",
              "      <th>Close</th>\n",
              "      <th>VWAP</th>\n",
              "      <th>Volume</th>\n",
              "      <th>Turnover</th>\n",
              "      <th>Trades</th>\n",
              "      <th>Deliverable Volume</th>\n",
              "      <th>%Deliverble</th>\n",
              "    </tr>\n",
              "    <tr>\n",
              "      <th>Date</th>\n",
              "      <th></th>\n",
              "      <th></th>\n",
              "      <th></th>\n",
              "      <th></th>\n",
              "      <th></th>\n",
              "      <th></th>\n",
              "      <th></th>\n",
              "      <th></th>\n",
              "      <th></th>\n",
              "      <th></th>\n",
              "      <th></th>\n",
              "      <th></th>\n",
              "      <th></th>\n",
              "      <th></th>\n",
              "    </tr>\n",
              "  </thead>\n",
              "  <tbody>\n",
              "    <tr>\n",
              "      <th>2000-01-03</th>\n",
              "      <td>INFOSYSTCH</td>\n",
              "      <td>EQ</td>\n",
              "      <td>14467.75</td>\n",
              "      <td>15625.00</td>\n",
              "      <td>15625.20</td>\n",
              "      <td>15625.00</td>\n",
              "      <td>15625.20</td>\n",
              "      <td>15625.20</td>\n",
              "      <td>15625.18</td>\n",
              "      <td>5137</td>\n",
              "      <td>8.026657e+12</td>\n",
              "      <td>NaN</td>\n",
              "      <td>NaN</td>\n",
              "      <td>NaN</td>\n",
              "    </tr>\n",
              "    <tr>\n",
              "      <th>2000-01-04</th>\n",
              "      <td>INFOSYSTCH</td>\n",
              "      <td>EQ</td>\n",
              "      <td>15625.20</td>\n",
              "      <td>16800.00</td>\n",
              "      <td>16875.25</td>\n",
              "      <td>16253.00</td>\n",
              "      <td>16875.25</td>\n",
              "      <td>16855.90</td>\n",
              "      <td>16646.38</td>\n",
              "      <td>56186</td>\n",
              "      <td>9.352937e+13</td>\n",
              "      <td>NaN</td>\n",
              "      <td>NaN</td>\n",
              "      <td>NaN</td>\n",
              "    </tr>\n",
              "    <tr>\n",
              "      <th>2000-01-05</th>\n",
              "      <td>INFOSYSTCH</td>\n",
              "      <td>EQ</td>\n",
              "      <td>16855.90</td>\n",
              "      <td>15701.00</td>\n",
              "      <td>16250.00</td>\n",
              "      <td>15507.45</td>\n",
              "      <td>15507.45</td>\n",
              "      <td>15507.45</td>\n",
              "      <td>15786.38</td>\n",
              "      <td>164605</td>\n",
              "      <td>2.598516e+14</td>\n",
              "      <td>NaN</td>\n",
              "      <td>NaN</td>\n",
              "      <td>NaN</td>\n",
              "    </tr>\n",
              "    <tr>\n",
              "      <th>2000-01-06</th>\n",
              "      <td>INFOSYSTCH</td>\n",
              "      <td>EQ</td>\n",
              "      <td>15507.45</td>\n",
              "      <td>15256.65</td>\n",
              "      <td>15300.00</td>\n",
              "      <td>14266.85</td>\n",
              "      <td>14266.85</td>\n",
              "      <td>14266.85</td>\n",
              "      <td>14462.82</td>\n",
              "      <td>81997</td>\n",
              "      <td>1.185908e+14</td>\n",
              "      <td>NaN</td>\n",
              "      <td>NaN</td>\n",
              "      <td>NaN</td>\n",
              "    </tr>\n",
              "    <tr>\n",
              "      <th>2000-01-07</th>\n",
              "      <td>INFOSYSTCH</td>\n",
              "      <td>EQ</td>\n",
              "      <td>14266.85</td>\n",
              "      <td>13125.50</td>\n",
              "      <td>13125.50</td>\n",
              "      <td>13125.50</td>\n",
              "      <td>13125.50</td>\n",
              "      <td>13125.50</td>\n",
              "      <td>13125.50</td>\n",
              "      <td>7589</td>\n",
              "      <td>9.960942e+12</td>\n",
              "      <td>NaN</td>\n",
              "      <td>NaN</td>\n",
              "      <td>NaN</td>\n",
              "    </tr>\n",
              "    <tr>\n",
              "      <th>...</th>\n",
              "      <td>...</td>\n",
              "      <td>...</td>\n",
              "      <td>...</td>\n",
              "      <td>...</td>\n",
              "      <td>...</td>\n",
              "      <td>...</td>\n",
              "      <td>...</td>\n",
              "      <td>...</td>\n",
              "      <td>...</td>\n",
              "      <td>...</td>\n",
              "      <td>...</td>\n",
              "      <td>...</td>\n",
              "      <td>...</td>\n",
              "      <td>...</td>\n",
              "    </tr>\n",
              "    <tr>\n",
              "      <th>2021-04-26</th>\n",
              "      <td>INFY</td>\n",
              "      <td>EQ</td>\n",
              "      <td>1333.80</td>\n",
              "      <td>1332.25</td>\n",
              "      <td>1351.30</td>\n",
              "      <td>1321.00</td>\n",
              "      <td>1345.00</td>\n",
              "      <td>1343.55</td>\n",
              "      <td>1343.19</td>\n",
              "      <td>7088606</td>\n",
              "      <td>9.521361e+14</td>\n",
              "      <td>130375.0</td>\n",
              "      <td>4218129.0</td>\n",
              "      <td>0.5951</td>\n",
              "    </tr>\n",
              "    <tr>\n",
              "      <th>2021-04-27</th>\n",
              "      <td>INFY</td>\n",
              "      <td>EQ</td>\n",
              "      <td>1343.55</td>\n",
              "      <td>1346.00</td>\n",
              "      <td>1353.00</td>\n",
              "      <td>1340.15</td>\n",
              "      <td>1347.50</td>\n",
              "      <td>1348.50</td>\n",
              "      <td>1346.89</td>\n",
              "      <td>3636115</td>\n",
              "      <td>4.897445e+14</td>\n",
              "      <td>145974.0</td>\n",
              "      <td>1871084.0</td>\n",
              "      <td>0.5146</td>\n",
              "    </tr>\n",
              "    <tr>\n",
              "      <th>2021-04-28</th>\n",
              "      <td>INFY</td>\n",
              "      <td>EQ</td>\n",
              "      <td>1348.50</td>\n",
              "      <td>1358.00</td>\n",
              "      <td>1359.50</td>\n",
              "      <td>1344.60</td>\n",
              "      <td>1355.80</td>\n",
              "      <td>1356.00</td>\n",
              "      <td>1353.45</td>\n",
              "      <td>4879234</td>\n",
              "      <td>6.603778e+14</td>\n",
              "      <td>137376.0</td>\n",
              "      <td>2857134.0</td>\n",
              "      <td>0.5856</td>\n",
              "    </tr>\n",
              "    <tr>\n",
              "      <th>2021-04-29</th>\n",
              "      <td>INFY</td>\n",
              "      <td>EQ</td>\n",
              "      <td>1356.00</td>\n",
              "      <td>1368.00</td>\n",
              "      <td>1369.00</td>\n",
              "      <td>1351.40</td>\n",
              "      <td>1356.00</td>\n",
              "      <td>1356.35</td>\n",
              "      <td>1360.05</td>\n",
              "      <td>5412357</td>\n",
              "      <td>7.361090e+14</td>\n",
              "      <td>119277.0</td>\n",
              "      <td>3130945.0</td>\n",
              "      <td>0.5785</td>\n",
              "    </tr>\n",
              "    <tr>\n",
              "      <th>2021-04-30</th>\n",
              "      <td>INFY</td>\n",
              "      <td>EQ</td>\n",
              "      <td>1356.35</td>\n",
              "      <td>1346.30</td>\n",
              "      <td>1373.90</td>\n",
              "      <td>1345.90</td>\n",
              "      <td>1348.60</td>\n",
              "      <td>1354.35</td>\n",
              "      <td>1361.16</td>\n",
              "      <td>8354677</td>\n",
              "      <td>1.137203e+15</td>\n",
              "      <td>131718.0</td>\n",
              "      <td>5408113.0</td>\n",
              "      <td>0.6473</td>\n",
              "    </tr>\n",
              "  </tbody>\n",
              "</table>\n",
              "<p>5306 rows × 14 columns</p>\n",
              "</div>\n",
              "      <button class=\"colab-df-convert\" onclick=\"convertToInteractive('df-9281d78d-a512-4107-8802-c10bea1d77d0')\"\n",
              "              title=\"Convert this dataframe to an interactive table.\"\n",
              "              style=\"display:none;\">\n",
              "        \n",
              "  <svg xmlns=\"http://www.w3.org/2000/svg\" height=\"24px\"viewBox=\"0 0 24 24\"\n",
              "       width=\"24px\">\n",
              "    <path d=\"M0 0h24v24H0V0z\" fill=\"none\"/>\n",
              "    <path d=\"M18.56 5.44l.94 2.06.94-2.06 2.06-.94-2.06-.94-.94-2.06-.94 2.06-2.06.94zm-11 1L8.5 8.5l.94-2.06 2.06-.94-2.06-.94L8.5 2.5l-.94 2.06-2.06.94zm10 10l.94 2.06.94-2.06 2.06-.94-2.06-.94-.94-2.06-.94 2.06-2.06.94z\"/><path d=\"M17.41 7.96l-1.37-1.37c-.4-.4-.92-.59-1.43-.59-.52 0-1.04.2-1.43.59L10.3 9.45l-7.72 7.72c-.78.78-.78 2.05 0 2.83L4 21.41c.39.39.9.59 1.41.59.51 0 1.02-.2 1.41-.59l7.78-7.78 2.81-2.81c.8-.78.8-2.07 0-2.86zM5.41 20L4 18.59l7.72-7.72 1.47 1.35L5.41 20z\"/>\n",
              "  </svg>\n",
              "      </button>\n",
              "      \n",
              "  <style>\n",
              "    .colab-df-container {\n",
              "      display:flex;\n",
              "      flex-wrap:wrap;\n",
              "      gap: 12px;\n",
              "    }\n",
              "\n",
              "    .colab-df-convert {\n",
              "      background-color: #E8F0FE;\n",
              "      border: none;\n",
              "      border-radius: 50%;\n",
              "      cursor: pointer;\n",
              "      display: none;\n",
              "      fill: #1967D2;\n",
              "      height: 32px;\n",
              "      padding: 0 0 0 0;\n",
              "      width: 32px;\n",
              "    }\n",
              "\n",
              "    .colab-df-convert:hover {\n",
              "      background-color: #E2EBFA;\n",
              "      box-shadow: 0px 1px 2px rgba(60, 64, 67, 0.3), 0px 1px 3px 1px rgba(60, 64, 67, 0.15);\n",
              "      fill: #174EA6;\n",
              "    }\n",
              "\n",
              "    [theme=dark] .colab-df-convert {\n",
              "      background-color: #3B4455;\n",
              "      fill: #D2E3FC;\n",
              "    }\n",
              "\n",
              "    [theme=dark] .colab-df-convert:hover {\n",
              "      background-color: #434B5C;\n",
              "      box-shadow: 0px 1px 3px 1px rgba(0, 0, 0, 0.15);\n",
              "      filter: drop-shadow(0px 1px 2px rgba(0, 0, 0, 0.3));\n",
              "      fill: #FFFFFF;\n",
              "    }\n",
              "  </style>\n",
              "\n",
              "      <script>\n",
              "        const buttonEl =\n",
              "          document.querySelector('#df-9281d78d-a512-4107-8802-c10bea1d77d0 button.colab-df-convert');\n",
              "        buttonEl.style.display =\n",
              "          google.colab.kernel.accessAllowed ? 'block' : 'none';\n",
              "\n",
              "        async function convertToInteractive(key) {\n",
              "          const element = document.querySelector('#df-9281d78d-a512-4107-8802-c10bea1d77d0');\n",
              "          const dataTable =\n",
              "            await google.colab.kernel.invokeFunction('convertToInteractive',\n",
              "                                                     [key], {});\n",
              "          if (!dataTable) return;\n",
              "\n",
              "          const docLinkHtml = 'Like what you see? Visit the ' +\n",
              "            '<a target=\"_blank\" href=https://colab.research.google.com/notebooks/data_table.ipynb>data table notebook</a>'\n",
              "            + ' to learn more about interactive tables.';\n",
              "          element.innerHTML = '';\n",
              "          dataTable['output_type'] = 'display_data';\n",
              "          await google.colab.output.renderOutput(dataTable, element);\n",
              "          const docLink = document.createElement('div');\n",
              "          docLink.innerHTML = docLinkHtml;\n",
              "          element.appendChild(docLink);\n",
              "        }\n",
              "      </script>\n",
              "    </div>\n",
              "  </div>\n",
              "  "
            ]
          },
          "metadata": {},
          "execution_count": 4
        }
      ],
      "source": [
        "df"
      ]
    },
    {
      "cell_type": "code",
      "execution_count": 5,
      "metadata": {
        "id": "zwmfESni7gKn"
      },
      "outputs": [],
      "source": [
        "df['Date']=df.index"
      ]
    },
    {
      "cell_type": "code",
      "execution_count": 6,
      "metadata": {
        "id": "R6njdWuX7i6e"
      },
      "outputs": [],
      "source": [
        "start_date='2011-01-01'\n",
        "end_date='2020-12-31'\n",
        "mask=(df['Date']>=start_date)&(df['Date']<=end_date)"
      ]
    },
    {
      "cell_type": "code",
      "execution_count": 7,
      "metadata": {
        "id": "1gvhNCc_7lCh"
      },
      "outputs": [],
      "source": [
        "df=df.loc[mask]"
      ]
    },
    {
      "cell_type": "code",
      "execution_count": 8,
      "metadata": {
        "id": "H7T84rNE7lFn"
      },
      "outputs": [],
      "source": [
        "df=df.loc[mask]"
      ]
    },
    {
      "cell_type": "code",
      "execution_count": 9,
      "metadata": {
        "id": "KosKVO_j7lIn"
      },
      "outputs": [],
      "source": [
        "df=df.drop(columns=['Series','Symbol','Open','High','Low','Last','Close','VWAP','Volume','Turnover','Trades','Deliverable Volume','%Deliverble','Date'])"
      ]
    },
    {
      "cell_type": "code",
      "execution_count": 10,
      "metadata": {
        "id": "7YW96kEv7lLh"
      },
      "outputs": [],
      "source": [
        "Ntest=math.trunc(0.3*len(df))\n",
        "train=df.iloc[:-Ntest]\n",
        "test=df.iloc[-Ntest:]"
      ]
    },
    {
      "cell_type": "code",
      "execution_count": 11,
      "metadata": {
        "id": "NhwqMQ7r7lOX"
      },
      "outputs": [],
      "source": [
        "train_idx=df.index<=train.index[-1]\n",
        "test_idx=df.index>train.index[-1]"
      ]
    },
    {
      "cell_type": "code",
      "execution_count": 12,
      "metadata": {
        "id": "QtuPaMDJ7lQ_"
      },
      "outputs": [],
      "source": [
        "df['Diff Prev Close']=df['Prev Close'].diff()"
      ]
    },
    {
      "cell_type": "code",
      "execution_count": 13,
      "metadata": {
        "colab": {
          "base_uri": "https://localhost:8080/"
        },
        "id": "WJeTN9cL7tkq",
        "outputId": "e3692515-fb67-4de3-b5f6-7e28d65269af"
      },
      "outputs": [
        {
          "output_type": "stream",
          "name": "stdout",
          "text": [
            "X.shape (2427, 50) Y.shape (2427,)\n"
          ]
        }
      ],
      "source": [
        "series=df['Diff Prev Close'].dropna().to_numpy()\n",
        "\n",
        "T=50\n",
        "X=[]\n",
        "Y=[]\n",
        "for t in range(len(series)-T):\n",
        "  x=series[t:t+T]\n",
        "  X.append(x)\n",
        "  y=series[t+T]\n",
        "  Y.append(y)\n",
        "\n",
        "X=np.array(X).reshape(-1,T)\n",
        "Y=np.array(Y)\n",
        "N=len(X)\n",
        "print(\"X.shape\",X.shape,\"Y.shape\",Y.shape)"
      ]
    },
    {
      "cell_type": "code",
      "execution_count": 14,
      "metadata": {
        "id": "dE1vSivZ7tn-"
      },
      "outputs": [],
      "source": [
        "Xtrain,Ytrain=X[:-Ntest],Y[:-Ntest]\n",
        "Xtest,Ytest=X[-Ntest:],Y[-Ntest:]"
      ]
    },
    {
      "cell_type": "markdown",
      "metadata": {
        "id": "Y6SYTxcf8HrV"
      },
      "source": [
        "Bi-LSTM"
      ]
    },
    {
      "cell_type": "code",
      "execution_count": 15,
      "metadata": {
        "colab": {
          "base_uri": "https://localhost:8080/"
        },
        "id": "uk3JcnRf7trE",
        "outputId": "eed88270-88cc-44e4-afe7-55e424f236a2"
      },
      "outputs": [
        {
          "output_type": "stream",
          "name": "stdout",
          "text": [
            "Model: \"model\"\n",
            "_________________________________________________________________\n",
            " Layer (type)                Output Shape              Param #   \n",
            "=================================================================\n",
            " input_1 (InputLayer)        [(None, 50, 1)]           0         \n",
            "                                                                 \n",
            " bidirectional (Bidirectiona  (None, 50, 400)          323200    \n",
            " l)                                                              \n",
            "                                                                 \n",
            " bidirectional_1 (Bidirectio  (None, 50, 400)          961600    \n",
            " nal)                                                            \n",
            "                                                                 \n",
            " global_max_pooling1d (Globa  (None, 400)              0         \n",
            " lMaxPooling1D)                                                  \n",
            "                                                                 \n",
            " dense (Dense)               (None, 100)               40100     \n",
            "                                                                 \n",
            " dense_1 (Dense)             (None, 50)                5050      \n",
            "                                                                 \n",
            " dense_2 (Dense)             (None, 1)                 51        \n",
            "                                                                 \n",
            "=================================================================\n",
            "Total params: 1,330,001\n",
            "Trainable params: 1,330,001\n",
            "Non-trainable params: 0\n",
            "_________________________________________________________________\n"
          ]
        }
      ],
      "source": [
        "i=Input(shape=(T,1))\n",
        "x=Bidirectional(LSTM(200,return_sequences=True))(i)\n",
        "x=Bidirectional(LSTM(200,return_sequences=True))(x)\n",
        "x=GlobalMaxPool1D()(x)\n",
        "x=Dense(100)(x)\n",
        "x=Dense(50)(x)\n",
        "x=Dense(1)(x)\n",
        "model_bi_lstm=Model(i,x)\n",
        "model_bi_lstm.summary()"
      ]
    },
    {
      "cell_type": "code",
      "execution_count": 16,
      "metadata": {
        "id": "9NtxtRQm7tuD"
      },
      "outputs": [],
      "source": [
        "check_point_bi_lstm=ModelCheckpoint('best_model.h5',monitor='val_loss',save_best_only=True)"
      ]
    },
    {
      "cell_type": "code",
      "execution_count": 17,
      "metadata": {
        "id": "Tb0KBami7txT"
      },
      "outputs": [],
      "source": [
        "model_bi_lstm.compile(loss='mse',\n",
        "              optimizer='adamax',\n",
        "              metrics=['mae','mse'])"
      ]
    },
    {
      "cell_type": "code",
      "execution_count": 18,
      "metadata": {
        "colab": {
          "base_uri": "https://localhost:8080/"
        },
        "id": "Dl_RedqY7t0c",
        "outputId": "de6eb35b-d53f-4a40-8a4a-5f5cc58f7e89"
      },
      "outputs": [
        {
          "output_type": "stream",
          "name": "stdout",
          "text": [
            "Epoch 1/100\n",
            "53/53 [==============================] - 44s 696ms/step - loss: 5290.4888 - mae: 26.5437 - mse: 5290.4888 - val_loss: 913.6849 - val_mae: 12.2794 - val_mse: 913.6849\n",
            "Epoch 2/100\n",
            "53/53 [==============================] - 37s 684ms/step - loss: 5277.5322 - mae: 26.4215 - mse: 5277.5322 - val_loss: 912.6581 - val_mae: 12.2196 - val_mse: 912.6581\n",
            "Epoch 3/100\n",
            "53/53 [==============================] - 35s 660ms/step - loss: 5274.7690 - mae: 26.4369 - mse: 5274.7690 - val_loss: 912.8833 - val_mae: 12.2230 - val_mse: 912.8833\n",
            "Epoch 4/100\n",
            "53/53 [==============================] - 34s 643ms/step - loss: 5268.0889 - mae: 26.3706 - mse: 5268.0889 - val_loss: 914.9434 - val_mae: 12.3045 - val_mse: 914.9434\n",
            "Epoch 5/100\n",
            "53/53 [==============================] - 34s 642ms/step - loss: 5259.0942 - mae: 26.3672 - mse: 5259.0942 - val_loss: 913.7590 - val_mae: 12.1938 - val_mse: 913.7590\n",
            "Epoch 6/100\n",
            "53/53 [==============================] - 35s 651ms/step - loss: 5244.7437 - mae: 26.3672 - mse: 5244.7437 - val_loss: 915.1415 - val_mae: 12.1935 - val_mse: 915.1415\n",
            "Epoch 7/100\n",
            "53/53 [==============================] - 34s 643ms/step - loss: 5229.3428 - mae: 26.3684 - mse: 5229.3428 - val_loss: 917.6110 - val_mae: 12.2757 - val_mse: 917.6110\n",
            "Epoch 8/100\n",
            "53/53 [==============================] - 34s 649ms/step - loss: 5206.7720 - mae: 26.3951 - mse: 5206.7720 - val_loss: 917.3098 - val_mae: 12.2812 - val_mse: 917.3098\n",
            "Epoch 9/100\n",
            "53/53 [==============================] - 35s 668ms/step - loss: 5185.6323 - mae: 26.3610 - mse: 5185.6323 - val_loss: 929.6486 - val_mae: 12.8089 - val_mse: 929.6486\n",
            "Epoch 10/100\n",
            "53/53 [==============================] - 35s 651ms/step - loss: 5154.7031 - mae: 26.5041 - mse: 5154.7031 - val_loss: 928.0703 - val_mae: 12.7326 - val_mse: 928.0703\n",
            "Epoch 11/100\n",
            "53/53 [==============================] - 34s 647ms/step - loss: 5115.7710 - mae: 26.5049 - mse: 5115.7710 - val_loss: 963.1917 - val_mae: 14.0034 - val_mse: 963.1917\n",
            "Epoch 12/100\n",
            "53/53 [==============================] - 35s 657ms/step - loss: 5095.7510 - mae: 26.7620 - mse: 5095.7510 - val_loss: 946.0312 - val_mae: 13.2965 - val_mse: 946.0312\n",
            "Epoch 13/100\n",
            "53/53 [==============================] - 34s 633ms/step - loss: 5068.9478 - mae: 26.5008 - mse: 5068.9478 - val_loss: 948.4921 - val_mae: 13.2946 - val_mse: 948.4921\n",
            "Epoch 14/100\n",
            "53/53 [==============================] - 34s 637ms/step - loss: 5013.4771 - mae: 26.4507 - mse: 5013.4771 - val_loss: 961.9780 - val_mae: 13.6569 - val_mse: 961.9780\n",
            "Epoch 15/100\n",
            "53/53 [==============================] - 34s 650ms/step - loss: 4980.8428 - mae: 26.7236 - mse: 4980.8428 - val_loss: 989.8743 - val_mae: 14.4844 - val_mse: 989.8743\n",
            "Epoch 16/100\n",
            "53/53 [==============================] - 34s 638ms/step - loss: 4934.7637 - mae: 26.6339 - mse: 4934.7637 - val_loss: 980.0981 - val_mae: 14.0537 - val_mse: 980.0981\n",
            "Epoch 17/100\n",
            "53/53 [==============================] - 34s 644ms/step - loss: 4897.5410 - mae: 26.7526 - mse: 4897.5410 - val_loss: 1002.5175 - val_mae: 14.6446 - val_mse: 1002.5175\n",
            "Epoch 18/100\n",
            "53/53 [==============================] - 35s 659ms/step - loss: 4858.1733 - mae: 26.6675 - mse: 4858.1733 - val_loss: 1011.0237 - val_mae: 14.8083 - val_mse: 1011.0237\n",
            "Epoch 19/100\n",
            "53/53 [==============================] - 34s 640ms/step - loss: 4789.3867 - mae: 26.6572 - mse: 4789.3867 - val_loss: 1082.9242 - val_mae: 17.1227 - val_mse: 1082.9242\n",
            "Epoch 20/100\n",
            "53/53 [==============================] - 34s 638ms/step - loss: 4802.0430 - mae: 26.3866 - mse: 4802.0430 - val_loss: 1090.7103 - val_mae: 17.1893 - val_mse: 1090.7103\n",
            "Epoch 21/100\n",
            "53/53 [==============================] - 34s 639ms/step - loss: 4740.9434 - mae: 26.9750 - mse: 4740.9434 - val_loss: 1104.3063 - val_mae: 17.4382 - val_mse: 1104.3063\n",
            "Epoch 22/100\n",
            "53/53 [==============================] - 34s 650ms/step - loss: 4657.6768 - mae: 26.4235 - mse: 4657.6768 - val_loss: 1114.7806 - val_mae: 17.5548 - val_mse: 1114.7806\n",
            "Epoch 23/100\n",
            "53/53 [==============================] - 34s 645ms/step - loss: 4595.3633 - mae: 26.5375 - mse: 4595.3633 - val_loss: 1161.9220 - val_mae: 18.7689 - val_mse: 1161.9220\n",
            "Epoch 24/100\n",
            "53/53 [==============================] - 34s 641ms/step - loss: 4525.5122 - mae: 26.3425 - mse: 4525.5122 - val_loss: 1176.2198 - val_mae: 18.7119 - val_mse: 1176.2198\n",
            "Epoch 25/100\n",
            "53/53 [==============================] - 33s 629ms/step - loss: 4520.0244 - mae: 26.2975 - mse: 4520.0244 - val_loss: 1320.8693 - val_mae: 21.9346 - val_mse: 1320.8693\n",
            "Epoch 26/100\n",
            "53/53 [==============================] - 34s 650ms/step - loss: 4433.8784 - mae: 26.5359 - mse: 4433.8784 - val_loss: 1252.7360 - val_mae: 20.6317 - val_mse: 1252.7360\n",
            "Epoch 27/100\n",
            "53/53 [==============================] - 34s 637ms/step - loss: 4417.9292 - mae: 26.0190 - mse: 4417.9292 - val_loss: 1243.9631 - val_mae: 20.0559 - val_mse: 1243.9631\n",
            "Epoch 28/100\n",
            "53/53 [==============================] - 34s 644ms/step - loss: 4338.6821 - mae: 26.3055 - mse: 4338.6821 - val_loss: 1237.1022 - val_mae: 19.8202 - val_mse: 1237.1022\n",
            "Epoch 29/100\n",
            "53/53 [==============================] - 34s 642ms/step - loss: 4224.9238 - mae: 26.0105 - mse: 4224.9238 - val_loss: 1354.5737 - val_mae: 22.3060 - val_mse: 1354.5737\n",
            "Epoch 30/100\n",
            "53/53 [==============================] - 34s 647ms/step - loss: 4267.8398 - mae: 26.5776 - mse: 4267.8398 - val_loss: 1382.1071 - val_mae: 22.7682 - val_mse: 1382.1071\n",
            "Epoch 31/100\n",
            "53/53 [==============================] - 34s 637ms/step - loss: 4111.9175 - mae: 26.0190 - mse: 4111.9175 - val_loss: 1396.9890 - val_mae: 23.0850 - val_mse: 1396.9890\n",
            "Epoch 32/100\n",
            "53/53 [==============================] - 34s 651ms/step - loss: 4048.1606 - mae: 26.3888 - mse: 4048.1606 - val_loss: 1235.1936 - val_mae: 19.7597 - val_mse: 1235.1936\n",
            "Epoch 33/100\n",
            "53/53 [==============================] - 35s 657ms/step - loss: 4005.1487 - mae: 25.2182 - mse: 4005.1487 - val_loss: 1264.1210 - val_mae: 20.0994 - val_mse: 1264.1210\n",
            "Epoch 34/100\n",
            "53/53 [==============================] - 33s 634ms/step - loss: 3906.0413 - mae: 25.9919 - mse: 3906.0413 - val_loss: 1460.1731 - val_mae: 23.7329 - val_mse: 1460.1731\n",
            "Epoch 35/100\n",
            "53/53 [==============================] - 34s 650ms/step - loss: 3799.7537 - mae: 24.6311 - mse: 3799.7537 - val_loss: 1435.6869 - val_mae: 22.7197 - val_mse: 1435.6869\n",
            "Epoch 36/100\n",
            "53/53 [==============================] - 34s 644ms/step - loss: 3828.2852 - mae: 26.4136 - mse: 3828.2852 - val_loss: 1442.7194 - val_mae: 23.2467 - val_mse: 1442.7194\n",
            "Epoch 37/100\n",
            "53/53 [==============================] - 34s 649ms/step - loss: 3643.8206 - mae: 25.0700 - mse: 3643.8206 - val_loss: 1459.6038 - val_mae: 23.1993 - val_mse: 1459.6038\n",
            "Epoch 38/100\n",
            "53/53 [==============================] - 34s 650ms/step - loss: 3537.8816 - mae: 25.6367 - mse: 3537.8816 - val_loss: 1446.6530 - val_mae: 23.3066 - val_mse: 1446.6530\n",
            "Epoch 39/100\n",
            "53/53 [==============================] - 34s 646ms/step - loss: 3858.9412 - mae: 24.6417 - mse: 3858.9412 - val_loss: 1375.8256 - val_mae: 21.9694 - val_mse: 1375.8256\n",
            "Epoch 40/100\n",
            "53/53 [==============================] - 34s 651ms/step - loss: 3646.9255 - mae: 25.5683 - mse: 3646.9255 - val_loss: 1424.9961 - val_mae: 22.4969 - val_mse: 1424.9961\n",
            "Epoch 41/100\n",
            "53/53 [==============================] - 34s 650ms/step - loss: 3348.7141 - mae: 23.7102 - mse: 3348.7141 - val_loss: 1603.7108 - val_mae: 24.8450 - val_mse: 1603.7108\n",
            "Epoch 42/100\n",
            "53/53 [==============================] - 34s 650ms/step - loss: 3143.9014 - mae: 23.8695 - mse: 3143.9014 - val_loss: 1508.0582 - val_mae: 23.6271 - val_mse: 1508.0582\n",
            "Epoch 43/100\n",
            "53/53 [==============================] - 34s 653ms/step - loss: 3285.8821 - mae: 24.8457 - mse: 3285.8821 - val_loss: 1544.4628 - val_mae: 24.0086 - val_mse: 1544.4628\n",
            "Epoch 44/100\n",
            "53/53 [==============================] - 34s 642ms/step - loss: 3089.9695 - mae: 23.9894 - mse: 3089.9695 - val_loss: 1605.9000 - val_mae: 25.3349 - val_mse: 1605.9000\n",
            "Epoch 45/100\n",
            "53/53 [==============================] - 34s 640ms/step - loss: 3093.3650 - mae: 23.2775 - mse: 3093.3650 - val_loss: 1600.1324 - val_mae: 24.7946 - val_mse: 1600.1324\n",
            "Epoch 46/100\n",
            "53/53 [==============================] - 34s 645ms/step - loss: 2841.4563 - mae: 23.4900 - mse: 2841.4563 - val_loss: 1743.4650 - val_mae: 27.0508 - val_mse: 1743.4650\n",
            "Epoch 47/100\n",
            "53/53 [==============================] - 35s 661ms/step - loss: 2602.1260 - mae: 22.3431 - mse: 2602.1260 - val_loss: 1517.5862 - val_mae: 23.9699 - val_mse: 1517.5862\n",
            "Epoch 48/100\n",
            "53/53 [==============================] - 35s 662ms/step - loss: 2568.1846 - mae: 22.0392 - mse: 2568.1846 - val_loss: 1820.1001 - val_mae: 27.6105 - val_mse: 1820.1001\n",
            "Epoch 49/100\n",
            "53/53 [==============================] - 35s 663ms/step - loss: 2428.9216 - mae: 22.0591 - mse: 2428.9216 - val_loss: 1847.6205 - val_mae: 27.8946 - val_mse: 1847.6205\n",
            "Epoch 50/100\n",
            "53/53 [==============================] - 36s 671ms/step - loss: 2331.9922 - mae: 21.4508 - mse: 2331.9922 - val_loss: 1793.1373 - val_mae: 27.6715 - val_mse: 1793.1373\n",
            "Epoch 51/100\n",
            "53/53 [==============================] - 34s 648ms/step - loss: 2160.2537 - mae: 22.0758 - mse: 2160.2537 - val_loss: 2238.4602 - val_mae: 31.8732 - val_mse: 2238.4602\n",
            "Epoch 52/100\n",
            "53/53 [==============================] - 35s 661ms/step - loss: 1968.7688 - mae: 20.4610 - mse: 1968.7688 - val_loss: 2367.7554 - val_mae: 33.4279 - val_mse: 2367.7554\n",
            "Epoch 53/100\n",
            "53/53 [==============================] - 34s 646ms/step - loss: 1859.2908 - mae: 20.0324 - mse: 1859.2908 - val_loss: 2041.9617 - val_mae: 30.2048 - val_mse: 2041.9617\n",
            "Epoch 54/100\n",
            "53/53 [==============================] - 35s 664ms/step - loss: 1734.2709 - mae: 19.5184 - mse: 1734.2709 - val_loss: 2316.4319 - val_mae: 32.5359 - val_mse: 2316.4319\n",
            "Epoch 55/100\n",
            "53/53 [==============================] - 35s 667ms/step - loss: 1613.0850 - mae: 19.4698 - mse: 1613.0850 - val_loss: 2414.1414 - val_mae: 33.6270 - val_mse: 2414.1414\n",
            "Epoch 56/100\n",
            "53/53 [==============================] - 35s 671ms/step - loss: 1523.1976 - mae: 18.8094 - mse: 1523.1976 - val_loss: 2343.9478 - val_mae: 33.1914 - val_mse: 2343.9478\n",
            "Epoch 57/100\n",
            "53/53 [==============================] - 35s 659ms/step - loss: 1461.2347 - mae: 18.9235 - mse: 1461.2347 - val_loss: 2313.2000 - val_mae: 32.2364 - val_mse: 2313.2000\n",
            "Epoch 58/100\n",
            "53/53 [==============================] - 35s 669ms/step - loss: 1318.8077 - mae: 17.7658 - mse: 1318.8077 - val_loss: 2753.5588 - val_mae: 36.0114 - val_mse: 2753.5588\n",
            "Epoch 59/100\n",
            "53/53 [==============================] - 35s 669ms/step - loss: 1478.5078 - mae: 19.4492 - mse: 1478.5078 - val_loss: 2203.5305 - val_mae: 31.7910 - val_mse: 2203.5305\n",
            "Epoch 60/100\n",
            "53/53 [==============================] - 34s 642ms/step - loss: 1576.3214 - mae: 20.7906 - mse: 1576.3214 - val_loss: 2455.5117 - val_mae: 33.1848 - val_mse: 2455.5117\n",
            "Epoch 61/100\n",
            "53/53 [==============================] - 35s 663ms/step - loss: 1256.8164 - mae: 17.7118 - mse: 1256.8164 - val_loss: 2301.0359 - val_mae: 32.4808 - val_mse: 2301.0359\n",
            "Epoch 62/100\n",
            "53/53 [==============================] - 36s 674ms/step - loss: 1354.1675 - mae: 18.7237 - mse: 1354.1675 - val_loss: 2158.9939 - val_mae: 31.0719 - val_mse: 2158.9939\n",
            "Epoch 63/100\n",
            "53/53 [==============================] - 36s 679ms/step - loss: 1859.0858 - mae: 19.3186 - mse: 1859.0858 - val_loss: 2831.2224 - val_mae: 37.3621 - val_mse: 2831.2224\n",
            "Epoch 64/100\n",
            "53/53 [==============================] - 35s 670ms/step - loss: 1049.3995 - mae: 16.8321 - mse: 1049.3995 - val_loss: 2428.0090 - val_mae: 33.9752 - val_mse: 2428.0090\n",
            "Epoch 65/100\n",
            "53/53 [==============================] - 36s 679ms/step - loss: 848.8790 - mae: 15.2669 - mse: 848.8790 - val_loss: 2796.2966 - val_mae: 36.4276 - val_mse: 2796.2966\n",
            "Epoch 66/100\n",
            "53/53 [==============================] - 36s 688ms/step - loss: 749.2429 - mae: 14.2236 - mse: 749.2429 - val_loss: 2784.6150 - val_mae: 36.5597 - val_mse: 2784.6150\n",
            "Epoch 67/100\n",
            "53/53 [==============================] - 36s 684ms/step - loss: 660.2250 - mae: 13.5603 - mse: 660.2250 - val_loss: 3075.0498 - val_mae: 38.2635 - val_mse: 3075.0498\n",
            "Epoch 68/100\n",
            "53/53 [==============================] - 35s 664ms/step - loss: 642.8188 - mae: 14.1341 - mse: 642.8188 - val_loss: 3060.2476 - val_mae: 38.1585 - val_mse: 3060.2476\n",
            "Epoch 69/100\n",
            "53/53 [==============================] - 36s 679ms/step - loss: 548.3914 - mae: 12.9838 - mse: 548.3914 - val_loss: 3012.6831 - val_mae: 38.4368 - val_mse: 3012.6831\n",
            "Epoch 70/100\n",
            "53/53 [==============================] - 35s 667ms/step - loss: 475.0065 - mae: 12.2121 - mse: 475.0065 - val_loss: 3397.2957 - val_mae: 40.8109 - val_mse: 3397.2957\n",
            "Epoch 71/100\n",
            "53/53 [==============================] - 36s 672ms/step - loss: 470.5568 - mae: 12.6192 - mse: 470.5568 - val_loss: 3588.0679 - val_mae: 42.5178 - val_mse: 3588.0679\n",
            "Epoch 72/100\n",
            "53/53 [==============================] - 34s 650ms/step - loss: 404.1445 - mae: 11.9649 - mse: 404.1445 - val_loss: 3198.1111 - val_mae: 39.9573 - val_mse: 3198.1111\n",
            "Epoch 73/100\n",
            "53/53 [==============================] - 35s 653ms/step - loss: 385.3501 - mae: 11.9553 - mse: 385.3501 - val_loss: 3202.4407 - val_mae: 40.2084 - val_mse: 3202.4407\n",
            "Epoch 74/100\n",
            "53/53 [==============================] - 35s 655ms/step - loss: 344.3407 - mae: 11.6484 - mse: 344.3407 - val_loss: 3209.9219 - val_mae: 40.2808 - val_mse: 3209.9219\n",
            "Epoch 75/100\n",
            "53/53 [==============================] - 34s 646ms/step - loss: 413.5385 - mae: 13.1404 - mse: 413.5385 - val_loss: 3255.5803 - val_mae: 41.0700 - val_mse: 3255.5803\n",
            "Epoch 76/100\n",
            "53/53 [==============================] - 34s 651ms/step - loss: 398.0056 - mae: 13.2953 - mse: 398.0056 - val_loss: 3382.4246 - val_mae: 41.7615 - val_mse: 3382.4246\n",
            "Epoch 77/100\n",
            "53/53 [==============================] - 35s 655ms/step - loss: 356.9799 - mae: 13.1069 - mse: 356.9799 - val_loss: 3513.2520 - val_mae: 42.3043 - val_mse: 3513.2520\n",
            "Epoch 78/100\n",
            "53/53 [==============================] - 34s 648ms/step - loss: 322.4531 - mae: 12.2276 - mse: 322.4531 - val_loss: 3707.5757 - val_mae: 43.5179 - val_mse: 3707.5757\n",
            "Epoch 79/100\n",
            "53/53 [==============================] - 34s 652ms/step - loss: 409.6940 - mae: 14.3742 - mse: 409.6940 - val_loss: 3247.5884 - val_mae: 40.2349 - val_mse: 3247.5884\n",
            "Epoch 80/100\n",
            "53/53 [==============================] - 34s 643ms/step - loss: 305.3316 - mae: 12.5431 - mse: 305.3316 - val_loss: 3544.7046 - val_mae: 42.3433 - val_mse: 3544.7046\n",
            "Epoch 81/100\n",
            "53/53 [==============================] - 34s 649ms/step - loss: 246.2947 - mae: 11.2273 - mse: 246.2947 - val_loss: 4137.4258 - val_mae: 45.7236 - val_mse: 4137.4258\n",
            "Epoch 82/100\n",
            "53/53 [==============================] - 34s 642ms/step - loss: 263.1808 - mae: 11.9231 - mse: 263.1808 - val_loss: 3914.6895 - val_mae: 44.6904 - val_mse: 3914.6895\n",
            "Epoch 83/100\n",
            "53/53 [==============================] - 34s 647ms/step - loss: 201.9783 - mae: 10.3194 - mse: 201.9783 - val_loss: 3926.4109 - val_mae: 44.8129 - val_mse: 3926.4109\n",
            "Epoch 84/100\n",
            "53/53 [==============================] - 34s 639ms/step - loss: 213.7827 - mae: 11.0888 - mse: 213.7827 - val_loss: 3621.0747 - val_mae: 42.7140 - val_mse: 3621.0750\n",
            "Epoch 85/100\n",
            "53/53 [==============================] - 35s 658ms/step - loss: 206.4605 - mae: 10.6094 - mse: 206.4605 - val_loss: 3948.6160 - val_mae: 45.2117 - val_mse: 3948.6160\n",
            "Epoch 86/100\n",
            "53/53 [==============================] - 35s 663ms/step - loss: 232.3621 - mae: 11.8223 - mse: 232.3621 - val_loss: 3565.7769 - val_mae: 42.2707 - val_mse: 3565.7769\n",
            "Epoch 87/100\n",
            "53/53 [==============================] - 34s 647ms/step - loss: 207.5974 - mae: 10.8147 - mse: 207.5974 - val_loss: 3641.5007 - val_mae: 42.7694 - val_mse: 3641.5007\n",
            "Epoch 88/100\n",
            "53/53 [==============================] - 35s 659ms/step - loss: 195.5382 - mae: 10.4528 - mse: 195.5382 - val_loss: 3442.6895 - val_mae: 41.6757 - val_mse: 3442.6895\n",
            "Epoch 89/100\n",
            "53/53 [==============================] - 35s 652ms/step - loss: 250.7350 - mae: 12.1261 - mse: 250.7350 - val_loss: 3435.4290 - val_mae: 41.8398 - val_mse: 3435.4290\n",
            "Epoch 90/100\n",
            "53/53 [==============================] - 34s 649ms/step - loss: 251.8291 - mae: 11.9854 - mse: 251.8291 - val_loss: 3506.6262 - val_mae: 42.0417 - val_mse: 3506.6262\n",
            "Epoch 91/100\n",
            "53/53 [==============================] - 34s 651ms/step - loss: 341.7007 - mae: 13.5852 - mse: 341.7007 - val_loss: 3307.5212 - val_mae: 41.2847 - val_mse: 3307.5212\n",
            "Epoch 92/100\n",
            "53/53 [==============================] - 35s 657ms/step - loss: 237.6353 - mae: 11.7688 - mse: 237.6353 - val_loss: 3373.8845 - val_mae: 41.2656 - val_mse: 3373.8845\n",
            "Epoch 93/100\n",
            "53/53 [==============================] - 34s 652ms/step - loss: 280.4172 - mae: 12.9298 - mse: 280.4172 - val_loss: 3240.3896 - val_mae: 40.5954 - val_mse: 3240.3896\n",
            "Epoch 94/100\n",
            "53/53 [==============================] - 35s 661ms/step - loss: 229.8770 - mae: 11.4314 - mse: 229.8770 - val_loss: 3323.2517 - val_mae: 41.3797 - val_mse: 3323.2517\n",
            "Epoch 95/100\n",
            "53/53 [==============================] - 34s 641ms/step - loss: 229.6948 - mae: 11.4841 - mse: 229.6948 - val_loss: 3576.8997 - val_mae: 42.9751 - val_mse: 3576.8997\n",
            "Epoch 96/100\n",
            "53/53 [==============================] - 34s 648ms/step - loss: 174.1899 - mae: 10.0711 - mse: 174.1899 - val_loss: 3764.9158 - val_mae: 44.0479 - val_mse: 3764.9158\n",
            "Epoch 97/100\n",
            "53/53 [==============================] - 35s 662ms/step - loss: 148.8091 - mae: 9.3856 - mse: 148.8091 - val_loss: 3722.5232 - val_mae: 43.9511 - val_mse: 3722.5232\n",
            "Epoch 98/100\n",
            "53/53 [==============================] - 34s 650ms/step - loss: 156.7238 - mae: 9.6509 - mse: 156.7238 - val_loss: 3313.5415 - val_mae: 41.4333 - val_mse: 3313.5415\n",
            "Epoch 99/100\n",
            "53/53 [==============================] - 35s 659ms/step - loss: 177.3755 - mae: 10.2579 - mse: 177.3755 - val_loss: 3499.2615 - val_mae: 42.5079 - val_mse: 3499.2615\n",
            "Epoch 100/100\n",
            "53/53 [==============================] - 36s 670ms/step - loss: 172.4885 - mae: 10.1349 - mse: 172.4885 - val_loss: 3619.9998 - val_mae: 43.4733 - val_mse: 3619.9998\n"
          ]
        }
      ],
      "source": [
        "r=model_bi_lstm.fit(\n",
        "    Xtrain,\n",
        "    Ytrain,\n",
        "    epochs=100,\n",
        "    validation_data=(Xtest,Ytest),\n",
        "    callbacks=[check_point_bi_lstm]\n",
        ")"
      ]
    },
    {
      "cell_type": "markdown",
      "metadata": {
        "id": "8AVWuHEeDrUU"
      },
      "source": [
        "Bi-directional GRU"
      ]
    },
    {
      "cell_type": "code",
      "execution_count": 19,
      "metadata": {
        "colab": {
          "base_uri": "https://localhost:8080/"
        },
        "id": "cUHtZz0A7t3k",
        "outputId": "279db280-0c77-449d-b238-eda7e2848089"
      },
      "outputs": [
        {
          "output_type": "stream",
          "name": "stdout",
          "text": [
            "Model: \"model_1\"\n",
            "_________________________________________________________________\n",
            " Layer (type)                Output Shape              Param #   \n",
            "=================================================================\n",
            " input_2 (InputLayer)        [(None, 50, 1)]           0         \n",
            "                                                                 \n",
            " bidirectional_2 (Bidirectio  (None, 50, 400)          243600    \n",
            " nal)                                                            \n",
            "                                                                 \n",
            " bidirectional_3 (Bidirectio  (None, 50, 400)          722400    \n",
            " nal)                                                            \n",
            "                                                                 \n",
            " global_max_pooling1d_1 (Glo  (None, 400)              0         \n",
            " balMaxPooling1D)                                                \n",
            "                                                                 \n",
            " dense_3 (Dense)             (None, 100)               40100     \n",
            "                                                                 \n",
            " dense_4 (Dense)             (None, 50)                5050      \n",
            "                                                                 \n",
            " dense_5 (Dense)             (None, 1)                 51        \n",
            "                                                                 \n",
            "=================================================================\n",
            "Total params: 1,011,201\n",
            "Trainable params: 1,011,201\n",
            "Non-trainable params: 0\n",
            "_________________________________________________________________\n"
          ]
        }
      ],
      "source": [
        "i=Input(shape=(T,1))\n",
        "x=Bidirectional(GRU(200,return_sequences=True))(i)\n",
        "x=Bidirectional(GRU(200,return_sequences=True))(x)\n",
        "x=GlobalMaxPool1D()(x)\n",
        "x=Dense(100)(x)\n",
        "x=Dense(50)(x)\n",
        "x=Dense(1)(x)\n",
        "model_bi_gru=Model(i,x)\n",
        "model_bi_gru.summary()"
      ]
    },
    {
      "cell_type": "code",
      "execution_count": 20,
      "metadata": {
        "id": "31j89DK6DqGT"
      },
      "outputs": [],
      "source": [
        "check_point_bi_gru=ModelCheckpoint('best_model.h5',monitor='val_loss',save_best_only=True)"
      ]
    },
    {
      "cell_type": "code",
      "execution_count": 21,
      "metadata": {
        "id": "e0_x1t5JDqJK"
      },
      "outputs": [],
      "source": [
        "model_bi_gru.compile(loss='mse',\n",
        "              optimizer='adamax',\n",
        "              metrics=['mae','mse'])"
      ]
    },
    {
      "cell_type": "code",
      "execution_count": 22,
      "metadata": {
        "colab": {
          "base_uri": "https://localhost:8080/"
        },
        "id": "fu63FFgDDqMS",
        "outputId": "c7df31b8-7333-4cf0-d984-5d5f6435b3fe"
      },
      "outputs": [
        {
          "output_type": "stream",
          "name": "stdout",
          "text": [
            "Epoch 1/100\n",
            "53/53 [==============================] - 37s 565ms/step - loss: 5300.4043 - mae: 26.5745 - mse: 5300.4043 - val_loss: 913.0336 - val_mae: 12.2697 - val_mse: 913.0336\n",
            "Epoch 2/100\n",
            "53/53 [==============================] - 29s 541ms/step - loss: 5278.8789 - mae: 26.4137 - mse: 5278.8789 - val_loss: 912.4556 - val_mae: 12.2238 - val_mse: 912.4556\n",
            "Epoch 3/100\n",
            "53/53 [==============================] - 29s 542ms/step - loss: 5275.9478 - mae: 26.4552 - mse: 5275.9478 - val_loss: 912.7102 - val_mae: 12.2414 - val_mse: 912.7102\n",
            "Epoch 4/100\n",
            "53/53 [==============================] - 28s 524ms/step - loss: 5269.9229 - mae: 26.3785 - mse: 5269.9229 - val_loss: 914.5961 - val_mae: 12.3447 - val_mse: 914.5961\n",
            "Epoch 5/100\n",
            "53/53 [==============================] - 29s 546ms/step - loss: 5263.9785 - mae: 26.4086 - mse: 5263.9785 - val_loss: 912.3398 - val_mae: 12.2271 - val_mse: 912.3398\n",
            "Epoch 6/100\n",
            "53/53 [==============================] - 29s 546ms/step - loss: 5254.7559 - mae: 26.4083 - mse: 5254.7559 - val_loss: 913.4316 - val_mae: 12.2720 - val_mse: 913.4316\n",
            "Epoch 7/100\n",
            "53/53 [==============================] - 28s 532ms/step - loss: 5238.2026 - mae: 26.3999 - mse: 5238.2026 - val_loss: 911.9767 - val_mae: 12.1619 - val_mse: 911.9767\n",
            "Epoch 8/100\n",
            "53/53 [==============================] - 28s 527ms/step - loss: 5223.2227 - mae: 26.4386 - mse: 5223.2227 - val_loss: 915.7211 - val_mae: 12.2400 - val_mse: 915.7211\n",
            "Epoch 9/100\n",
            "53/53 [==============================] - 28s 521ms/step - loss: 5200.6797 - mae: 26.3841 - mse: 5200.6797 - val_loss: 917.5531 - val_mae: 12.4350 - val_mse: 917.5531\n",
            "Epoch 10/100\n",
            "53/53 [==============================] - 28s 538ms/step - loss: 5185.9692 - mae: 26.5865 - mse: 5185.9692 - val_loss: 922.1263 - val_mae: 12.5003 - val_mse: 922.1263\n",
            "Epoch 11/100\n",
            "53/53 [==============================] - 28s 520ms/step - loss: 5153.1377 - mae: 26.6625 - mse: 5153.1377 - val_loss: 919.6606 - val_mae: 12.4740 - val_mse: 919.6606\n",
            "Epoch 12/100\n",
            "53/53 [==============================] - 30s 569ms/step - loss: 5138.7881 - mae: 26.9094 - mse: 5138.7881 - val_loss: 930.3825 - val_mae: 12.7909 - val_mse: 930.3825\n",
            "Epoch 13/100\n",
            "53/53 [==============================] - 28s 531ms/step - loss: 5114.6958 - mae: 26.7232 - mse: 5114.6958 - val_loss: 923.1656 - val_mae: 12.5845 - val_mse: 923.1656\n",
            "Epoch 14/100\n",
            "53/53 [==============================] - 28s 531ms/step - loss: 5079.5430 - mae: 26.6273 - mse: 5079.5430 - val_loss: 924.5198 - val_mae: 12.5998 - val_mse: 924.5198\n",
            "Epoch 15/100\n",
            "53/53 [==============================] - 28s 527ms/step - loss: 5060.7271 - mae: 26.9631 - mse: 5060.7271 - val_loss: 950.7758 - val_mae: 13.4071 - val_mse: 950.7758\n",
            "Epoch 16/100\n",
            "53/53 [==============================] - 29s 540ms/step - loss: 5028.6538 - mae: 26.9440 - mse: 5028.6538 - val_loss: 946.3763 - val_mae: 13.2057 - val_mse: 946.3763\n",
            "Epoch 17/100\n",
            "53/53 [==============================] - 28s 536ms/step - loss: 4996.1973 - mae: 26.9993 - mse: 4996.1973 - val_loss: 952.0393 - val_mae: 13.3905 - val_mse: 952.0393\n",
            "Epoch 18/100\n",
            "53/53 [==============================] - 28s 531ms/step - loss: 4973.7285 - mae: 27.0176 - mse: 4973.7285 - val_loss: 951.2269 - val_mae: 13.4075 - val_mse: 951.2269\n",
            "Epoch 19/100\n",
            "53/53 [==============================] - 29s 541ms/step - loss: 4922.1704 - mae: 27.0169 - mse: 4922.1704 - val_loss: 953.1357 - val_mae: 13.4605 - val_mse: 953.1357\n",
            "Epoch 20/100\n",
            "53/53 [==============================] - 28s 537ms/step - loss: 4892.3555 - mae: 26.9161 - mse: 4892.3555 - val_loss: 954.2852 - val_mae: 13.4998 - val_mse: 954.2852\n",
            "Epoch 21/100\n",
            "53/53 [==============================] - 28s 535ms/step - loss: 4841.7627 - mae: 27.2156 - mse: 4841.7627 - val_loss: 986.2162 - val_mae: 14.1461 - val_mse: 986.2162\n",
            "Epoch 22/100\n",
            "53/53 [==============================] - 28s 537ms/step - loss: 4827.8174 - mae: 27.1507 - mse: 4827.8174 - val_loss: 976.7785 - val_mae: 14.0833 - val_mse: 976.7785\n",
            "Epoch 23/100\n",
            "53/53 [==============================] - 29s 539ms/step - loss: 4763.3960 - mae: 26.9455 - mse: 4763.3960 - val_loss: 987.5748 - val_mae: 14.4057 - val_mse: 987.5748\n",
            "Epoch 24/100\n",
            "53/53 [==============================] - 28s 528ms/step - loss: 4717.6230 - mae: 26.8409 - mse: 4717.6230 - val_loss: 1012.0812 - val_mae: 14.8497 - val_mse: 1012.0812\n",
            "Epoch 25/100\n",
            "53/53 [==============================] - 28s 538ms/step - loss: 4693.2266 - mae: 26.9538 - mse: 4693.2266 - val_loss: 1072.7413 - val_mae: 16.6598 - val_mse: 1072.7413\n",
            "Epoch 26/100\n",
            "53/53 [==============================] - 28s 526ms/step - loss: 4630.6929 - mae: 26.8363 - mse: 4630.6929 - val_loss: 1035.3903 - val_mae: 15.6069 - val_mse: 1035.3903\n",
            "Epoch 27/100\n",
            "53/53 [==============================] - 28s 535ms/step - loss: 4592.2422 - mae: 26.4366 - mse: 4592.2422 - val_loss: 1041.5334 - val_mae: 15.5365 - val_mse: 1041.5334\n",
            "Epoch 28/100\n",
            "53/53 [==============================] - 28s 529ms/step - loss: 4545.4966 - mae: 26.9225 - mse: 4545.4966 - val_loss: 1053.4598 - val_mae: 15.7138 - val_mse: 1053.4598\n",
            "Epoch 29/100\n",
            "53/53 [==============================] - 29s 541ms/step - loss: 4512.0054 - mae: 26.7580 - mse: 4512.0054 - val_loss: 1098.7292 - val_mae: 16.8735 - val_mse: 1098.7292\n",
            "Epoch 30/100\n",
            "53/53 [==============================] - 28s 526ms/step - loss: 4446.9937 - mae: 27.3818 - mse: 4446.9937 - val_loss: 1089.0791 - val_mae: 16.7360 - val_mse: 1089.0791\n",
            "Epoch 31/100\n",
            "53/53 [==============================] - 28s 539ms/step - loss: 4350.1294 - mae: 26.3877 - mse: 4350.1294 - val_loss: 1157.9282 - val_mae: 18.0510 - val_mse: 1157.9282\n",
            "Epoch 32/100\n",
            "53/53 [==============================] - 28s 536ms/step - loss: 4325.5049 - mae: 27.3577 - mse: 4325.5049 - val_loss: 1164.2783 - val_mae: 18.0425 - val_mse: 1164.2783\n",
            "Epoch 33/100\n",
            "53/53 [==============================] - 28s 535ms/step - loss: 4248.0708 - mae: 26.1830 - mse: 4248.0708 - val_loss: 1152.2157 - val_mae: 17.8092 - val_mse: 1152.2157\n",
            "Epoch 34/100\n",
            "53/53 [==============================] - 28s 538ms/step - loss: 4185.2324 - mae: 26.5957 - mse: 4185.2324 - val_loss: 1241.4343 - val_mae: 19.4683 - val_mse: 1241.4343\n",
            "Epoch 35/100\n",
            "53/53 [==============================] - 28s 537ms/step - loss: 4099.5327 - mae: 25.7046 - mse: 4099.5327 - val_loss: 1243.0789 - val_mae: 19.4273 - val_mse: 1243.0789\n",
            "Epoch 36/100\n",
            "53/53 [==============================] - 29s 540ms/step - loss: 4050.4634 - mae: 26.5123 - mse: 4050.4634 - val_loss: 1230.9504 - val_mae: 19.0851 - val_mse: 1230.9504\n",
            "Epoch 37/100\n",
            "53/53 [==============================] - 28s 534ms/step - loss: 3962.3237 - mae: 26.5377 - mse: 3962.3237 - val_loss: 1254.7633 - val_mae: 19.3349 - val_mse: 1254.7633\n",
            "Epoch 38/100\n",
            "53/53 [==============================] - 28s 533ms/step - loss: 3870.0562 - mae: 26.2926 - mse: 3870.0562 - val_loss: 1288.3513 - val_mae: 20.1113 - val_mse: 1288.3513\n",
            "Epoch 39/100\n",
            "53/53 [==============================] - 28s 537ms/step - loss: 3777.1772 - mae: 25.2876 - mse: 3777.1772 - val_loss: 1247.4672 - val_mae: 19.1970 - val_mse: 1247.4672\n",
            "Epoch 40/100\n",
            "53/53 [==============================] - 29s 540ms/step - loss: 3652.1260 - mae: 25.6296 - mse: 3652.1260 - val_loss: 1269.8051 - val_mae: 19.4885 - val_mse: 1269.8051\n",
            "Epoch 41/100\n",
            "53/53 [==============================] - 28s 538ms/step - loss: 3570.2725 - mae: 24.8595 - mse: 3570.2725 - val_loss: 1320.2249 - val_mae: 20.6122 - val_mse: 1320.2249\n",
            "Epoch 42/100\n",
            "53/53 [==============================] - 29s 539ms/step - loss: 3417.2490 - mae: 24.7941 - mse: 3417.2490 - val_loss: 1370.3148 - val_mae: 21.0213 - val_mse: 1370.3148\n",
            "Epoch 43/100\n",
            "53/53 [==============================] - 29s 545ms/step - loss: 3380.8723 - mae: 24.9433 - mse: 3380.8723 - val_loss: 1372.3202 - val_mae: 20.5741 - val_mse: 1372.3202\n",
            "Epoch 44/100\n",
            "53/53 [==============================] - 28s 534ms/step - loss: 3278.8777 - mae: 24.9269 - mse: 3278.8777 - val_loss: 1459.3519 - val_mae: 22.2832 - val_mse: 1459.3519\n",
            "Epoch 45/100\n",
            "53/53 [==============================] - 29s 544ms/step - loss: 3120.9041 - mae: 23.8185 - mse: 3120.9041 - val_loss: 1406.3521 - val_mae: 21.6079 - val_mse: 1406.3521\n",
            "Epoch 46/100\n",
            "53/53 [==============================] - 28s 532ms/step - loss: 3020.5588 - mae: 24.4433 - mse: 3020.5588 - val_loss: 1491.0303 - val_mae: 22.1589 - val_mse: 1491.0303\n",
            "Epoch 47/100\n",
            "53/53 [==============================] - 29s 545ms/step - loss: 2911.0237 - mae: 23.4051 - mse: 2911.0237 - val_loss: 1472.3013 - val_mae: 21.9670 - val_mse: 1472.3013\n",
            "Epoch 48/100\n",
            "53/53 [==============================] - 28s 536ms/step - loss: 2761.7043 - mae: 23.0480 - mse: 2761.7043 - val_loss: 1634.5153 - val_mae: 23.7638 - val_mse: 1634.5153\n",
            "Epoch 49/100\n",
            "53/53 [==============================] - 28s 521ms/step - loss: 2711.3772 - mae: 23.9188 - mse: 2711.3772 - val_loss: 1670.0929 - val_mae: 24.2918 - val_mse: 1670.0929\n",
            "Epoch 50/100\n",
            "53/53 [==============================] - 28s 536ms/step - loss: 2532.9751 - mae: 22.5904 - mse: 2532.9751 - val_loss: 1591.5929 - val_mae: 23.4428 - val_mse: 1591.5929\n",
            "Epoch 51/100\n",
            "53/53 [==============================] - 28s 535ms/step - loss: 2447.3491 - mae: 22.5903 - mse: 2447.3491 - val_loss: 1754.5756 - val_mae: 25.5713 - val_mse: 1754.5756\n",
            "Epoch 52/100\n",
            "53/53 [==============================] - 29s 545ms/step - loss: 2282.3340 - mae: 21.8608 - mse: 2282.3340 - val_loss: 1725.8336 - val_mae: 25.0508 - val_mse: 1725.8336\n",
            "Epoch 53/100\n",
            "53/53 [==============================] - 29s 544ms/step - loss: 2137.2571 - mae: 21.2432 - mse: 2137.2571 - val_loss: 1801.9275 - val_mae: 25.6223 - val_mse: 1801.9275\n",
            "Epoch 54/100\n",
            "53/53 [==============================] - 29s 542ms/step - loss: 2022.8275 - mae: 20.9764 - mse: 2022.8275 - val_loss: 1894.5927 - val_mae: 27.1833 - val_mse: 1894.5927\n",
            "Epoch 55/100\n",
            "53/53 [==============================] - 28s 537ms/step - loss: 1954.5999 - mae: 21.4581 - mse: 1954.5999 - val_loss: 1774.9512 - val_mae: 25.3464 - val_mse: 1774.9512\n",
            "Epoch 56/100\n",
            "53/53 [==============================] - 28s 528ms/step - loss: 1770.2830 - mae: 19.9615 - mse: 1770.2830 - val_loss: 1952.5870 - val_mae: 27.2646 - val_mse: 1952.5870\n",
            "Epoch 57/100\n",
            "53/53 [==============================] - 28s 526ms/step - loss: 1745.9484 - mae: 21.0607 - mse: 1745.9484 - val_loss: 1823.0654 - val_mae: 25.5725 - val_mse: 1823.0654\n",
            "Epoch 58/100\n",
            "53/53 [==============================] - 28s 537ms/step - loss: 1605.9280 - mae: 19.4488 - mse: 1605.9280 - val_loss: 1978.8126 - val_mae: 27.3570 - val_mse: 1978.8126\n",
            "Epoch 59/100\n",
            "53/53 [==============================] - 28s 527ms/step - loss: 1490.0262 - mae: 18.6998 - mse: 1490.0262 - val_loss: 2172.7402 - val_mae: 29.8139 - val_mse: 2172.7402\n",
            "Epoch 60/100\n",
            "53/53 [==============================] - 28s 532ms/step - loss: 1360.9923 - mae: 18.1047 - mse: 1360.9923 - val_loss: 2094.6174 - val_mae: 28.7670 - val_mse: 2094.6174\n",
            "Epoch 61/100\n",
            "53/53 [==============================] - 28s 527ms/step - loss: 1263.8989 - mae: 17.8163 - mse: 1263.8989 - val_loss: 2075.1396 - val_mae: 28.3471 - val_mse: 2075.1396\n",
            "Epoch 62/100\n",
            "53/53 [==============================] - 28s 531ms/step - loss: 1163.0471 - mae: 17.5518 - mse: 1163.0471 - val_loss: 2436.8667 - val_mae: 32.9134 - val_mse: 2436.8667\n",
            "Epoch 63/100\n",
            "53/53 [==============================] - 29s 543ms/step - loss: 1101.5846 - mae: 17.1550 - mse: 1101.5846 - val_loss: 2097.1931 - val_mae: 28.2858 - val_mse: 2097.1931\n",
            "Epoch 64/100\n",
            "53/53 [==============================] - 28s 529ms/step - loss: 1017.3248 - mae: 17.0238 - mse: 1017.3248 - val_loss: 2271.9050 - val_mae: 30.2028 - val_mse: 2271.9050\n",
            "Epoch 65/100\n",
            "53/53 [==============================] - 29s 550ms/step - loss: 866.2555 - mae: 15.5377 - mse: 866.2555 - val_loss: 2653.5115 - val_mae: 33.5501 - val_mse: 2653.5115\n",
            "Epoch 66/100\n",
            "53/53 [==============================] - 28s 538ms/step - loss: 818.9838 - mae: 15.0384 - mse: 818.9838 - val_loss: 2348.4424 - val_mae: 30.3415 - val_mse: 2348.4424\n",
            "Epoch 67/100\n",
            "53/53 [==============================] - 28s 539ms/step - loss: 743.0277 - mae: 14.6688 - mse: 743.0277 - val_loss: 2771.1179 - val_mae: 34.4927 - val_mse: 2771.1179\n",
            "Epoch 68/100\n",
            "53/53 [==============================] - 28s 538ms/step - loss: 712.6991 - mae: 15.0280 - mse: 712.6991 - val_loss: 2783.4116 - val_mae: 35.0995 - val_mse: 2783.4116\n",
            "Epoch 69/100\n",
            "53/53 [==============================] - 29s 544ms/step - loss: 636.0769 - mae: 14.4887 - mse: 636.0769 - val_loss: 2510.3425 - val_mae: 32.0325 - val_mse: 2510.3425\n",
            "Epoch 70/100\n",
            "53/53 [==============================] - 29s 547ms/step - loss: 546.9644 - mae: 13.2147 - mse: 546.9644 - val_loss: 2706.9634 - val_mae: 33.9622 - val_mse: 2706.9634\n",
            "Epoch 71/100\n",
            "53/53 [==============================] - 28s 528ms/step - loss: 581.6931 - mae: 14.8764 - mse: 581.6931 - val_loss: 2950.7722 - val_mae: 36.7492 - val_mse: 2950.7722\n",
            "Epoch 72/100\n",
            "53/53 [==============================] - 29s 545ms/step - loss: 616.4360 - mae: 16.3023 - mse: 616.4360 - val_loss: 2517.7266 - val_mae: 32.2807 - val_mse: 2517.7266\n",
            "Epoch 73/100\n",
            "53/53 [==============================] - 29s 547ms/step - loss: 412.2930 - mae: 12.4375 - mse: 412.2930 - val_loss: 2626.8040 - val_mae: 32.9133 - val_mse: 2626.8040\n",
            "Epoch 74/100\n",
            "53/53 [==============================] - 28s 532ms/step - loss: 401.0505 - mae: 12.7693 - mse: 401.0505 - val_loss: 2702.4375 - val_mae: 33.1424 - val_mse: 2702.4375\n",
            "Epoch 75/100\n",
            "53/53 [==============================] - 29s 544ms/step - loss: 329.3384 - mae: 11.4859 - mse: 329.3384 - val_loss: 2921.1675 - val_mae: 35.9895 - val_mse: 2921.1675\n",
            "Epoch 76/100\n",
            "53/53 [==============================] - 29s 549ms/step - loss: 279.8146 - mae: 10.8458 - mse: 279.8146 - val_loss: 2746.9424 - val_mae: 34.0834 - val_mse: 2746.9424\n",
            "Epoch 77/100\n",
            "53/53 [==============================] - 29s 540ms/step - loss: 233.7139 - mae: 9.9143 - mse: 233.7139 - val_loss: 2959.0994 - val_mae: 36.1787 - val_mse: 2959.0994\n",
            "Epoch 78/100\n",
            "53/53 [==============================] - 28s 531ms/step - loss: 268.1701 - mae: 11.5195 - mse: 268.1701 - val_loss: 3006.8711 - val_mae: 36.2240 - val_mse: 3006.8711\n",
            "Epoch 79/100\n",
            "53/53 [==============================] - 28s 538ms/step - loss: 237.1451 - mae: 10.8341 - mse: 237.1451 - val_loss: 3360.3152 - val_mae: 39.5578 - val_mse: 3360.3152\n",
            "Epoch 80/100\n",
            "53/53 [==============================] - 28s 538ms/step - loss: 197.1407 - mae: 10.0412 - mse: 197.1407 - val_loss: 2883.9673 - val_mae: 34.9311 - val_mse: 2883.9673\n",
            "Epoch 81/100\n",
            "53/53 [==============================] - 29s 540ms/step - loss: 213.9412 - mae: 10.5658 - mse: 213.9412 - val_loss: 2841.1921 - val_mae: 34.4512 - val_mse: 2841.1921\n",
            "Epoch 82/100\n",
            "53/53 [==============================] - 28s 535ms/step - loss: 204.0346 - mae: 10.5081 - mse: 204.0346 - val_loss: 3006.3201 - val_mae: 35.8055 - val_mse: 3006.3201\n",
            "Epoch 83/100\n",
            "53/53 [==============================] - 29s 542ms/step - loss: 180.8227 - mae: 10.0653 - mse: 180.8227 - val_loss: 3017.1494 - val_mae: 36.0903 - val_mse: 3017.1494\n",
            "Epoch 84/100\n",
            "53/53 [==============================] - 29s 543ms/step - loss: 160.0764 - mae: 9.2717 - mse: 160.0764 - val_loss: 2859.0774 - val_mae: 35.3649 - val_mse: 2859.0774\n",
            "Epoch 85/100\n",
            "53/53 [==============================] - 29s 547ms/step - loss: 171.2670 - mae: 9.8434 - mse: 171.2670 - val_loss: 2877.7927 - val_mae: 34.9618 - val_mse: 2877.7927\n",
            "Epoch 86/100\n",
            "53/53 [==============================] - 29s 545ms/step - loss: 233.8938 - mae: 11.4411 - mse: 233.8938 - val_loss: 3047.7671 - val_mae: 36.0550 - val_mse: 3047.7671\n",
            "Epoch 87/100\n",
            "53/53 [==============================] - 29s 540ms/step - loss: 155.5155 - mae: 9.4276 - mse: 155.5155 - val_loss: 2850.5403 - val_mae: 34.8009 - val_mse: 2850.5403\n",
            "Epoch 88/100\n",
            "53/53 [==============================] - 28s 539ms/step - loss: 178.6859 - mae: 10.1673 - mse: 178.6859 - val_loss: 2769.8936 - val_mae: 34.1072 - val_mse: 2769.8936\n",
            "Epoch 89/100\n",
            "53/53 [==============================] - 29s 554ms/step - loss: 134.3879 - mae: 8.7843 - mse: 134.3879 - val_loss: 3065.7866 - val_mae: 35.9714 - val_mse: 3065.7866\n",
            "Epoch 90/100\n",
            "53/53 [==============================] - 29s 555ms/step - loss: 130.2341 - mae: 8.6274 - mse: 130.2341 - val_loss: 3017.5969 - val_mae: 35.8405 - val_mse: 3017.5969\n",
            "Epoch 91/100\n",
            "53/53 [==============================] - 28s 525ms/step - loss: 119.6088 - mae: 8.2491 - mse: 119.6088 - val_loss: 3002.3542 - val_mae: 35.6510 - val_mse: 3002.3542\n",
            "Epoch 92/100\n",
            "53/53 [==============================] - 28s 533ms/step - loss: 136.6559 - mae: 8.7707 - mse: 136.6559 - val_loss: 2657.0215 - val_mae: 33.4963 - val_mse: 2657.0215\n",
            "Epoch 93/100\n",
            "53/53 [==============================] - 28s 533ms/step - loss: 146.2082 - mae: 9.0109 - mse: 146.2082 - val_loss: 2976.4714 - val_mae: 35.9461 - val_mse: 2976.4714\n",
            "Epoch 94/100\n",
            "53/53 [==============================] - 28s 537ms/step - loss: 128.4176 - mae: 8.6525 - mse: 128.4176 - val_loss: 2989.8174 - val_mae: 35.9739 - val_mse: 2989.8174\n",
            "Epoch 95/100\n",
            "53/53 [==============================] - 28s 538ms/step - loss: 198.9572 - mae: 10.5697 - mse: 198.9572 - val_loss: 2583.9260 - val_mae: 32.6250 - val_mse: 2583.9260\n",
            "Epoch 96/100\n",
            "53/53 [==============================] - 29s 539ms/step - loss: 143.2639 - mae: 9.0526 - mse: 143.2639 - val_loss: 3068.1692 - val_mae: 36.8926 - val_mse: 3068.1692\n",
            "Epoch 97/100\n",
            "53/53 [==============================] - 29s 548ms/step - loss: 112.8887 - mae: 8.2137 - mse: 112.8887 - val_loss: 2896.5044 - val_mae: 35.2009 - val_mse: 2896.5044\n",
            "Epoch 98/100\n",
            "53/53 [==============================] - 28s 539ms/step - loss: 126.8531 - mae: 8.7896 - mse: 126.8531 - val_loss: 3157.5786 - val_mae: 37.3483 - val_mse: 3157.5786\n",
            "Epoch 99/100\n",
            "53/53 [==============================] - 29s 541ms/step - loss: 138.7857 - mae: 9.1303 - mse: 138.7857 - val_loss: 2998.3660 - val_mae: 36.2328 - val_mse: 2998.3660\n",
            "Epoch 100/100\n",
            "53/53 [==============================] - 29s 550ms/step - loss: 118.9641 - mae: 8.4819 - mse: 118.9641 - val_loss: 2973.7974 - val_mae: 35.3328 - val_mse: 2973.7974\n"
          ]
        }
      ],
      "source": [
        "r=model_bi_gru.fit(\n",
        "    Xtrain,\n",
        "    Ytrain,\n",
        "    epochs=100,\n",
        "    validation_data=(Xtest,Ytest),\n",
        "    callbacks=[check_point_bi_gru]\n",
        ")"
      ]
    },
    {
      "cell_type": "markdown",
      "metadata": {
        "id": "uo4koH4XEkiv"
      },
      "source": [
        "Predictions"
      ]
    },
    {
      "cell_type": "code",
      "execution_count": 23,
      "metadata": {
        "id": "-vEh0mmyDqPC"
      },
      "outputs": [],
      "source": [
        "train_idx[:T+1]=False"
      ]
    },
    {
      "cell_type": "code",
      "execution_count": 24,
      "metadata": {
        "id": "OftAJjIQDqR5"
      },
      "outputs": [],
      "source": [
        "Ptrain_bi_lstm=model_bi_lstm.predict(Xtrain).flatten()\n",
        "Ptest_bi_lstm=model_bi_lstm.predict(Xtest).flatten()"
      ]
    },
    {
      "cell_type": "code",
      "execution_count": 25,
      "metadata": {
        "id": "LPvgcdw4DqU9"
      },
      "outputs": [],
      "source": [
        "Ptrain_bi_gru=model_bi_gru.predict(Xtrain).flatten()\n",
        "Ptest_bi_gru=model_bi_gru.predict(Xtest).flatten()"
      ]
    },
    {
      "cell_type": "code",
      "execution_count": 26,
      "metadata": {
        "id": "D1MjWqICDqX4"
      },
      "outputs": [],
      "source": [
        "df.loc[train_idx,'Diff Bi-LSTM train prediction']=Ptrain_bi_lstm\n",
        "df.loc[test_idx,'Diff bi-LSTM test prediction']=Ptest_bi_lstm"
      ]
    },
    {
      "cell_type": "code",
      "execution_count": 27,
      "metadata": {
        "id": "JGyHZQpeDqbP"
      },
      "outputs": [],
      "source": [
        "df.loc[train_idx,'Diff Bi-GRU train prediction']=Ptrain_bi_gru\n",
        "df.loc[test_idx,'Diff BiGRU test prediction']=Ptest_bi_gru"
      ]
    },
    {
      "cell_type": "code",
      "execution_count": 28,
      "metadata": {
        "id": "o41wY4YSDqdr"
      },
      "outputs": [],
      "source": [
        "df['Shift Prev Close']=df['Prev Close'].shift(1)\n",
        "prev=df['Shift Prev Close']"
      ]
    },
    {
      "cell_type": "code",
      "execution_count": 29,
      "metadata": {
        "id": "ieSjZEI4Dqgo"
      },
      "outputs": [],
      "source": [
        "last_train=train.iloc[-1]['Prev Close']"
      ]
    },
    {
      "cell_type": "code",
      "execution_count": 30,
      "metadata": {
        "id": "iXAmOWl-Dqjf"
      },
      "outputs": [],
      "source": [
        "df.loc[train_idx,'train_Bi_LSTM']=prev[train_idx]+Ptrain_bi_lstm\n",
        "df.loc[test_idx,'Prediction_Bi_LSTM']=prev[test_idx]+Ptest_bi_lstm"
      ]
    },
    {
      "cell_type": "code",
      "execution_count": 31,
      "metadata": {
        "id": "zPuzleJlDqma"
      },
      "outputs": [],
      "source": [
        "df.loc[train_idx,'train_Bi_GRU']=prev[train_idx]+Ptrain_bi_gru\n",
        "df.loc[test_idx,'Prediction_Bi_GRU']=prev[test_idx]+Ptest_bi_gru"
      ]
    },
    {
      "cell_type": "code",
      "execution_count": 32,
      "metadata": {
        "id": "lnfbHo3KDqpO",
        "colab": {
          "base_uri": "https://localhost:8080/",
          "height": 416
        },
        "outputId": "11a4bded-025d-4a5d-f650-cb11deaccb42"
      },
      "outputs": [
        {
          "output_type": "display_data",
          "data": {
            "text/plain": [
              "<Figure size 1080x720 with 1 Axes>"
            ],
            "image/png": "[encoded data removed]"
          },
          "metadata": {
            "needs_background": "light"
          }
        }
      ],
      "source": [
        "df[[ 'Prev Close','Prediction_Bi_LSTM','Prediction_Bi_GRU']].plot(figsize=(15,10));"
      ]
    },
    {
      "cell_type": "code",
      "execution_count": 33,
      "metadata": {
        "id": "riQ3YykBDqsG",
        "colab": {
          "base_uri": "https://localhost:8080/",
          "height": 422
        },
        "outputId": "c2235dbd-73d8-4d20-e97a-e58f694e2017"
      },
      "outputs": [
        {
          "output_type": "display_data",
          "data": {
            "text/plain": [
              "<Figure size 1080x720 with 1 Axes>"
            ],
            "image/png": "[encoded data removed]"
          },
          "metadata": {
            "needs_background": "light"
          }
        }
      ],
      "source": [
        "df[[ 'Prediction_Bi_LSTM','Prediction_Bi_GRU']].plot(figsize=(15,10));"
      ]
    },
    {
      "cell_type": "markdown",
      "metadata": {
        "id": "0o_3yUJvF-FW"
      },
      "source": [
        "Evaluation"
      ]
    },
    {
      "cell_type": "code",
      "execution_count": 34,
      "metadata": {
        "id": "vonBmF2b7t6q"
      },
      "outputs": [],
      "source": [
        "pred_bi_lstm=df['Prediction_Bi_LSTM']\n",
        "pred_bi_lstm.dropna(inplace=True)"
      ]
    },
    {
      "cell_type": "code",
      "execution_count": 35,
      "metadata": {
        "id": "sPUaq6UiGCRI",
        "colab": {
          "base_uri": "https://localhost:8080/"
        },
        "outputId": "232f26e2-d5bb-41cd-8219-4db8db4176ff"
      },
      "outputs": [
        {
          "output_type": "stream",
          "name": "stdout",
          "text": [
            "60.16643242647977\n"
          ]
        }
      ],
      "source": [
        "rmse=math.sqrt(mean_squared_error(test['Prev Close'],pred_bi_lstm))\n",
        "print(rmse)"
      ]
    },
    {
      "cell_type": "code",
      "execution_count": 36,
      "metadata": {
        "id": "kQMcHGVCGCUL",
        "colab": {
          "base_uri": "https://localhost:8080/"
        },
        "outputId": "f2eead25-5891-4dc2-c907-b096ff4b6a12"
      },
      "outputs": [
        {
          "output_type": "stream",
          "name": "stdout",
          "text": [
            "43.473338640069095\n"
          ]
        }
      ],
      "source": [
        "error=mean_absolute_error(test['Prev Close'],pred_bi_lstm)\n",
        "print(error)"
      ]
    },
    {
      "cell_type": "code",
      "execution_count": 37,
      "metadata": {
        "id": "lyLslWMAGCXT",
        "colab": {
          "base_uri": "https://localhost:8080/"
        },
        "outputId": "315db7c5-3684-44fb-ad57-43d434e38ac0"
      },
      "outputs": [
        {
          "output_type": "execute_result",
          "data": {
            "text/plain": [
              "0.9292907720228395"
            ]
          },
          "metadata": {},
          "execution_count": 37
        }
      ],
      "source": [
        "r2_score(test['Prev Close'],pred_bi_lstm)"
      ]
    },
    {
      "cell_type": "code",
      "execution_count": 38,
      "metadata": {
        "id": "wa7wnr9TGC2J"
      },
      "outputs": [],
      "source": [
        "pred_bi_gru=df['Prediction_Bi_GRU']\n",
        "pred_bi_gru.dropna(inplace=True)"
      ]
    },
    {
      "cell_type": "code",
      "execution_count": 39,
      "metadata": {
        "id": "EkKg0wGaGC-e",
        "colab": {
          "base_uri": "https://localhost:8080/"
        },
        "outputId": "600caf10-d8c3-4622-f13a-3c7c73fabd7b"
      },
      "outputs": [
        {
          "output_type": "stream",
          "name": "stdout",
          "text": [
            "54.53253875019945\n"
          ]
        }
      ],
      "source": [
        "rmse=math.sqrt(mean_squared_error(test['Prev Close'],pred_bi_gru))\n",
        "print(rmse)"
      ]
    },
    {
      "cell_type": "code",
      "execution_count": 40,
      "metadata": {
        "id": "BQL76rMvGDGT",
        "colab": {
          "base_uri": "https://localhost:8080/"
        },
        "outputId": "9853c85f-1ae8-421f-af97-c1d83de5266d"
      },
      "outputs": [
        {
          "output_type": "stream",
          "name": "stdout",
          "text": [
            "35.33277361802155\n"
          ]
        }
      ],
      "source": [
        "error=mean_absolute_error(test['Prev Close'],pred_bi_gru)\n",
        "print(error)"
      ]
    },
    {
      "cell_type": "code",
      "execution_count": 41,
      "metadata": {
        "id": "GMZqO2_yGDO_",
        "colab": {
          "base_uri": "https://localhost:8080/"
        },
        "outputId": "2a2fee87-6ed0-4219-8e5c-6269d86b91c7"
      },
      "outputs": [
        {
          "output_type": "execute_result",
          "data": {
            "text/plain": [
              "0.9419129919543149"
            ]
          },
          "metadata": {},
          "execution_count": 41
        }
      ],
      "source": [
        "r2_score(test['Prev Close'],pred_bi_gru)"
      ]
    },
    {
      "cell_type": "code",
      "execution_count": 41,
      "metadata": {
        "id": "PIN91mEuGizf"
      },
      "outputs": [],
      "source": []
    }
  ],
  "metadata": {
    "colab": {
      "collapsed_sections": [],
      "provenance": []
    },
    "kernelspec": {
      "display_name": "Python 3",
      "name": "python3"
    },
    "language_info": {
      "name": "python"
    }
  },
  "nbformat": 4,
  "nbformat_minor": 0
}