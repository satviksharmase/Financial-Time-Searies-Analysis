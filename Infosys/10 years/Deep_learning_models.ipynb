{
  "nbformat": 4,
  "nbformat_minor": 0,
  "metadata": {
    "colab": {
      "provenance": []
    },
    "kernelspec": {
      "name": "python3",
      "display_name": "Python 3"
    },
    "language_info": {
      "name": "python"
    }
  },
  "cells": [
    {
      "cell_type": "code",
      "execution_count": 61,
      "metadata": {
        "id": "rRzK__2FbGio"
      },
      "outputs": [],
      "source": [
        "import numpy as np\n",
        "import matplotlib.pyplot as plt\n",
        "import pandas as pd\n",
        "\n",
        "import tensorflow as tf\n",
        "from tensorflow.keras.layers import Dense, Input\n",
        "from tensorflow.keras.models import Model\n",
        "from tensorflow.keras.layers import LSTM\n",
        "from tensorflow.keras.layers import GRU\n",
        "from tensorflow.keras.layers import GlobalMaxPooling1D\n",
        "from tensorflow.keras.layers import Conv1D, MaxPooling1D\n",
        "from tensorflow.keras.callbacks import ModelCheckpoint\n",
        "\n",
        "import math\n",
        "\n",
        "from sklearn.metrics import r2_score\n",
        "from sklearn.metrics import mean_absolute_error\n",
        "from sklearn.metrics import mean_squared_error\n",
        "\n",
        "np.random.seed(123)\n",
        "tf.random.set_seed(123)"
      ]
    },
    {
      "cell_type": "code",
      "source": [
        "df=pd.read_csv('./INFY.csv',index_col='Date',parse_dates=True)"
      ],
      "metadata": {
        "id": "AE6wbl9LcLFx"
      },
      "execution_count": 62,
      "outputs": []
    },
    {
      "cell_type": "markdown",
      "source": [
        "Data Pre processing\n"
      ],
      "metadata": {
        "id": "L8XudG86eRhq"
      }
    },
    {
      "cell_type": "code",
      "source": [
        "df"
      ],
      "metadata": {
        "colab": {
          "base_uri": "https://localhost:8080/",
          "height": 710
        },
        "id": "FUFxX_tUcmfi",
        "outputId": "9e293f62-a124-4464-d3e3-09eb4d87eff6"
      },
      "execution_count": 63,
      "outputs": [
        {
          "output_type": "execute_result",
          "data": {
            "text/plain": [
              "                Symbol Series  Prev Close      Open      High       Low  \\\n",
              "Date                                                                      \n",
              "2000-01-03  INFOSYSTCH     EQ    14467.75  15625.00  15625.20  15625.00   \n",
              "2000-01-04  INFOSYSTCH     EQ    15625.20  16800.00  16875.25  16253.00   \n",
              "2000-01-05  INFOSYSTCH     EQ    16855.90  15701.00  16250.00  15507.45   \n",
              "2000-01-06  INFOSYSTCH     EQ    15507.45  15256.65  15300.00  14266.85   \n",
              "2000-01-07  INFOSYSTCH     EQ    14266.85  13125.50  13125.50  13125.50   \n",
              "...                ...    ...         ...       ...       ...       ...   \n",
              "2021-04-26        INFY     EQ     1333.80   1332.25   1351.30   1321.00   \n",
              "2021-04-27        INFY     EQ     1343.55   1346.00   1353.00   1340.15   \n",
              "2021-04-28        INFY     EQ     1348.50   1358.00   1359.50   1344.60   \n",
              "2021-04-29        INFY     EQ     1356.00   1368.00   1369.00   1351.40   \n",
              "2021-04-30        INFY     EQ     1356.35   1346.30   1373.90   1345.90   \n",
              "\n",
              "                Last     Close      VWAP   Volume      Turnover    Trades  \\\n",
              "Date                                                                        \n",
              "2000-01-03  15625.20  15625.20  15625.18     5137  8.026657e+12       NaN   \n",
              "2000-01-04  16875.25  16855.90  16646.38    56186  9.352937e+13       NaN   \n",
              "2000-01-05  15507.45  15507.45  15786.38   164605  2.598516e+14       NaN   \n",
              "2000-01-06  14266.85  14266.85  14462.82    81997  1.185908e+14       NaN   \n",
              "2000-01-07  13125.50  13125.50  13125.50     7589  9.960942e+12       NaN   \n",
              "...              ...       ...       ...      ...           ...       ...   \n",
              "2021-04-26   1345.00   1343.55   1343.19  7088606  9.521361e+14  130375.0   \n",
              "2021-04-27   1347.50   1348.50   1346.89  3636115  4.897445e+14  145974.0   \n",
              "2021-04-28   1355.80   1356.00   1353.45  4879234  6.603778e+14  137376.0   \n",
              "2021-04-29   1356.00   1356.35   1360.05  5412357  7.361090e+14  119277.0   \n",
              "2021-04-30   1348.60   1354.35   1361.16  8354677  1.137203e+15  131718.0   \n",
              "\n",
              "            Deliverable Volume  %Deliverble  \n",
              "Date                                         \n",
              "2000-01-03                 NaN          NaN  \n",
              "2000-01-04                 NaN          NaN  \n",
              "2000-01-05                 NaN          NaN  \n",
              "2000-01-06                 NaN          NaN  \n",
              "2000-01-07                 NaN          NaN  \n",
              "...                        ...          ...  \n",
              "2021-04-26           4218129.0       0.5951  \n",
              "2021-04-27           1871084.0       0.5146  \n",
              "2021-04-28           2857134.0       0.5856  \n",
              "2021-04-29           3130945.0       0.5785  \n",
              "2021-04-30           5408113.0       0.6473  \n",
              "\n",
              "[5306 rows x 14 columns]"
            ],
            "text/html": [
              "\n",
              "  <div id=\"df-0a77deb2-ea37-4fc3-9512-4148a9fbb4bf\">\n",
              "    <div class=\"colab-df-container\">\n",
              "      <div>\n",
              "<style scoped>\n",
              "    .dataframe tbody tr th:only-of-type {\n",
              "        vertical-align: middle;\n",
              "    }\n",
              "\n",
              "    .dataframe tbody tr th {\n",
              "        vertical-align: top;\n",
              "    }\n",
              "\n",
              "    .dataframe thead th {\n",
              "        text-align: right;\n",
              "    }\n",
              "</style>\n",
              "<table border=\"1\" class=\"dataframe\">\n",
              "  <thead>\n",
              "    <tr style=\"text-align: right;\">\n",
              "      <th></th>\n",
              "      <th>Symbol</th>\n",
              "      <th>Series</th>\n",
              "      <th>Prev Close</th>\n",
              "      <th>Open</th>\n",
              "      <th>High</th>\n",
              "      <th>Low</th>\n",
              "      <th>Last</th>\n",
              "      <th>Close</th>\n",
              "      <th>VWAP</th>\n",
              "      <th>Volume</th>\n",
              "      <th>Turnover</th>\n",
              "      <th>Trades</th>\n",
              "      <th>Deliverable Volume</th>\n",
              "      <th>%Deliverble</th>\n",
              "    </tr>\n",
              "    <tr>\n",
              "      <th>Date</th>\n",
              "      <th></th>\n",
              "      <th></th>\n",
              "      <th></th>\n",
              "      <th></th>\n",
              "      <th></th>\n",
              "      <th></th>\n",
              "      <th></th>\n",
              "      <th></th>\n",
              "      <th></th>\n",
              "      <th></th>\n",
              "      <th></th>\n",
              "      <th></th>\n",
              "      <th></th>\n",
              "      <th></th>\n",
              "    </tr>\n",
              "  </thead>\n",
              "  <tbody>\n",
              "    <tr>\n",
              "      <th>2000-01-03</th>\n",
              "      <td>INFOSYSTCH</td>\n",
              "      <td>EQ</td>\n",
              "      <td>14467.75</td>\n",
              "      <td>15625.00</td>\n",
              "      <td>15625.20</td>\n",
              "      <td>15625.00</td>\n",
              "      <td>15625.20</td>\n",
              "      <td>15625.20</td>\n",
              "      <td>15625.18</td>\n",
              "      <td>5137</td>\n",
              "      <td>8.026657e+12</td>\n",
              "      <td>NaN</td>\n",
              "      <td>NaN</td>\n",
              "      <td>NaN</td>\n",
              "    </tr>\n",
              "    <tr>\n",
              "      <th>2000-01-04</th>\n",
              "      <td>INFOSYSTCH</td>\n",
              "      <td>EQ</td>\n",
              "      <td>15625.20</td>\n",
              "      <td>16800.00</td>\n",
              "      <td>16875.25</td>\n",
              "      <td>16253.00</td>\n",
              "      <td>16875.25</td>\n",
              "      <td>16855.90</td>\n",
              "      <td>16646.38</td>\n",
              "      <td>56186</td>\n",
              "      <td>9.352937e+13</td>\n",
              "      <td>NaN</td>\n",
              "      <td>NaN</td>\n",
              "      <td>NaN</td>\n",
              "    </tr>\n",
              "    <tr>\n",
              "      <th>2000-01-05</th>\n",
              "      <td>INFOSYSTCH</td>\n",
              "      <td>EQ</td>\n",
              "      <td>16855.90</td>\n",
              "      <td>15701.00</td>\n",
              "      <td>16250.00</td>\n",
              "      <td>15507.45</td>\n",
              "      <td>15507.45</td>\n",
              "      <td>15507.45</td>\n",
              "      <td>15786.38</td>\n",
              "      <td>164605</td>\n",
              "      <td>2.598516e+14</td>\n",
              "      <td>NaN</td>\n",
              "      <td>NaN</td>\n",
              "      <td>NaN</td>\n",
              "    </tr>\n",
              "    <tr>\n",
              "      <th>2000-01-06</th>\n",
              "      <td>INFOSYSTCH</td>\n",
              "      <td>EQ</td>\n",
              "      <td>15507.45</td>\n",
              "      <td>15256.65</td>\n",
              "      <td>15300.00</td>\n",
              "      <td>14266.85</td>\n",
              "      <td>14266.85</td>\n",
              "      <td>14266.85</td>\n",
              "      <td>14462.82</td>\n",
              "      <td>81997</td>\n",
              "      <td>1.185908e+14</td>\n",
              "      <td>NaN</td>\n",
              "      <td>NaN</td>\n",
              "      <td>NaN</td>\n",
              "    </tr>\n",
              "    <tr>\n",
              "      <th>2000-01-07</th>\n",
              "      <td>INFOSYSTCH</td>\n",
              "      <td>EQ</td>\n",
              "      <td>14266.85</td>\n",
              "      <td>13125.50</td>\n",
              "      <td>13125.50</td>\n",
              "      <td>13125.50</td>\n",
              "      <td>13125.50</td>\n",
              "      <td>13125.50</td>\n",
              "      <td>13125.50</td>\n",
              "      <td>7589</td>\n",
              "      <td>9.960942e+12</td>\n",
              "      <td>NaN</td>\n",
              "      <td>NaN</td>\n",
              "      <td>NaN</td>\n",
              "    </tr>\n",
              "    <tr>\n",
              "      <th>...</th>\n",
              "      <td>...</td>\n",
              "      <td>...</td>\n",
              "      <td>...</td>\n",
              "      <td>...</td>\n",
              "      <td>...</td>\n",
              "      <td>...</td>\n",
              "      <td>...</td>\n",
              "      <td>...</td>\n",
              "      <td>...</td>\n",
              "      <td>...</td>\n",
              "      <td>...</td>\n",
              "      <td>...</td>\n",
              "      <td>...</td>\n",
              "      <td>...</td>\n",
              "    </tr>\n",
              "    <tr>\n",
              "      <th>2021-04-26</th>\n",
              "      <td>INFY</td>\n",
              "      <td>EQ</td>\n",
              "      <td>1333.80</td>\n",
              "      <td>1332.25</td>\n",
              "      <td>1351.30</td>\n",
              "      <td>1321.00</td>\n",
              "      <td>1345.00</td>\n",
              "      <td>1343.55</td>\n",
              "      <td>1343.19</td>\n",
              "      <td>7088606</td>\n",
              "      <td>9.521361e+14</td>\n",
              "      <td>130375.0</td>\n",
              "      <td>4218129.0</td>\n",
              "      <td>0.5951</td>\n",
              "    </tr>\n",
              "    <tr>\n",
              "      <th>2021-04-27</th>\n",
              "      <td>INFY</td>\n",
              "      <td>EQ</td>\n",
              "      <td>1343.55</td>\n",
              "      <td>1346.00</td>\n",
              "      <td>1353.00</td>\n",
              "      <td>1340.15</td>\n",
              "      <td>1347.50</td>\n",
              "      <td>1348.50</td>\n",
              "      <td>1346.89</td>\n",
              "      <td>3636115</td>\n",
              "      <td>4.897445e+14</td>\n",
              "      <td>145974.0</td>\n",
              "      <td>1871084.0</td>\n",
              "      <td>0.5146</td>\n",
              "    </tr>\n",
              "    <tr>\n",
              "      <th>2021-04-28</th>\n",
              "      <td>INFY</td>\n",
              "      <td>EQ</td>\n",
              "      <td>1348.50</td>\n",
              "      <td>1358.00</td>\n",
              "      <td>1359.50</td>\n",
              "      <td>1344.60</td>\n",
              "      <td>1355.80</td>\n",
              "      <td>1356.00</td>\n",
              "      <td>1353.45</td>\n",
              "      <td>4879234</td>\n",
              "      <td>6.603778e+14</td>\n",
              "      <td>137376.0</td>\n",
              "      <td>2857134.0</td>\n",
              "      <td>0.5856</td>\n",
              "    </tr>\n",
              "    <tr>\n",
              "      <th>2021-04-29</th>\n",
              "      <td>INFY</td>\n",
              "      <td>EQ</td>\n",
              "      <td>1356.00</td>\n",
              "      <td>1368.00</td>\n",
              "      <td>1369.00</td>\n",
              "      <td>1351.40</td>\n",
              "      <td>1356.00</td>\n",
              "      <td>1356.35</td>\n",
              "      <td>1360.05</td>\n",
              "      <td>5412357</td>\n",
              "      <td>7.361090e+14</td>\n",
              "      <td>119277.0</td>\n",
              "      <td>3130945.0</td>\n",
              "      <td>0.5785</td>\n",
              "    </tr>\n",
              "    <tr>\n",
              "      <th>2021-04-30</th>\n",
              "      <td>INFY</td>\n",
              "      <td>EQ</td>\n",
              "      <td>1356.35</td>\n",
              "      <td>1346.30</td>\n",
              "      <td>1373.90</td>\n",
              "      <td>1345.90</td>\n",
              "      <td>1348.60</td>\n",
              "      <td>1354.35</td>\n",
              "      <td>1361.16</td>\n",
              "      <td>8354677</td>\n",
              "      <td>1.137203e+15</td>\n",
              "      <td>131718.0</td>\n",
              "      <td>5408113.0</td>\n",
              "      <td>0.6473</td>\n",
              "    </tr>\n",
              "  </tbody>\n",
              "</table>\n",
              "<p>5306 rows × 14 columns</p>\n",
              "</div>\n",
              "      <button class=\"colab-df-convert\" onclick=\"convertToInteractive('df-0a77deb2-ea37-4fc3-9512-4148a9fbb4bf')\"\n",
              "              title=\"Convert this dataframe to an interactive table.\"\n",
              "              style=\"display:none;\">\n",
              "        \n",
              "  <svg xmlns=\"http://www.w3.org/2000/svg\" height=\"24px\"viewBox=\"0 0 24 24\"\n",
              "       width=\"24px\">\n",
              "    <path d=\"M0 0h24v24H0V0z\" fill=\"none\"/>\n",
              "    <path d=\"M18.56 5.44l.94 2.06.94-2.06 2.06-.94-2.06-.94-.94-2.06-.94 2.06-2.06.94zm-11 1L8.5 8.5l.94-2.06 2.06-.94-2.06-.94L8.5 2.5l-.94 2.06-2.06.94zm10 10l.94 2.06.94-2.06 2.06-.94-2.06-.94-.94-2.06-.94 2.06-2.06.94z\"/><path d=\"M17.41 7.96l-1.37-1.37c-.4-.4-.92-.59-1.43-.59-.52 0-1.04.2-1.43.59L10.3 9.45l-7.72 7.72c-.78.78-.78 2.05 0 2.83L4 21.41c.39.39.9.59 1.41.59.51 0 1.02-.2 1.41-.59l7.78-7.78 2.81-2.81c.8-.78.8-2.07 0-2.86zM5.41 20L4 18.59l7.72-7.72 1.47 1.35L5.41 20z\"/>\n",
              "  </svg>\n",
              "      </button>\n",
              "      \n",
              "  <style>\n",
              "    .colab-df-container {\n",
              "      display:flex;\n",
              "      flex-wrap:wrap;\n",
              "      gap: 12px;\n",
              "    }\n",
              "\n",
              "    .colab-df-convert {\n",
              "      background-color: #E8F0FE;\n",
              "      border: none;\n",
              "      border-radius: 50%;\n",
              "      cursor: pointer;\n",
              "      display: none;\n",
              "      fill: #1967D2;\n",
              "      height: 32px;\n",
              "      padding: 0 0 0 0;\n",
              "      width: 32px;\n",
              "    }\n",
              "\n",
              "    .colab-df-convert:hover {\n",
              "      background-color: #E2EBFA;\n",
              "      box-shadow: 0px 1px 2px rgba(60, 64, 67, 0.3), 0px 1px 3px 1px rgba(60, 64, 67, 0.15);\n",
              "      fill: #174EA6;\n",
              "    }\n",
              "\n",
              "    [theme=dark] .colab-df-convert {\n",
              "      background-color: #3B4455;\n",
              "      fill: #D2E3FC;\n",
              "    }\n",
              "\n",
              "    [theme=dark] .colab-df-convert:hover {\n",
              "      background-color: #434B5C;\n",
              "      box-shadow: 0px 1px 3px 1px rgba(0, 0, 0, 0.15);\n",
              "      filter: drop-shadow(0px 1px 2px rgba(0, 0, 0, 0.3));\n",
              "      fill: #FFFFFF;\n",
              "    }\n",
              "  </style>\n",
              "\n",
              "      <script>\n",
              "        const buttonEl =\n",
              "          document.querySelector('#df-0a77deb2-ea37-4fc3-9512-4148a9fbb4bf button.colab-df-convert');\n",
              "        buttonEl.style.display =\n",
              "          google.colab.kernel.accessAllowed ? 'block' : 'none';\n",
              "\n",
              "        async function convertToInteractive(key) {\n",
              "          const element = document.querySelector('#df-0a77deb2-ea37-4fc3-9512-4148a9fbb4bf');\n",
              "          const dataTable =\n",
              "            await google.colab.kernel.invokeFunction('convertToInteractive',\n",
              "                                                     [key], {});\n",
              "          if (!dataTable) return;\n",
              "\n",
              "          const docLinkHtml = 'Like what you see? Visit the ' +\n",
              "            '<a target=\"_blank\" href=https://colab.research.google.com/notebooks/data_table.ipynb>data table notebook</a>'\n",
              "            + ' to learn more about interactive tables.';\n",
              "          element.innerHTML = '';\n",
              "          dataTable['output_type'] = 'display_data';\n",
              "          await google.colab.output.renderOutput(dataTable, element);\n",
              "          const docLink = document.createElement('div');\n",
              "          docLink.innerHTML = docLinkHtml;\n",
              "          element.appendChild(docLink);\n",
              "        }\n",
              "      </script>\n",
              "    </div>\n",
              "  </div>\n",
              "  "
            ]
          },
          "metadata": {},
          "execution_count": 63
        }
      ]
    },
    {
      "cell_type": "code",
      "source": [
        "df['Date']=df.index"
      ],
      "metadata": {
        "id": "E7X-jyItcm8U"
      },
      "execution_count": 64,
      "outputs": []
    },
    {
      "cell_type": "code",
      "source": [
        "start_date='2011-01-01'\n",
        "end_date='2020-12-31'\n",
        "mask=(df['Date']>=start_date)&(df['Date']<=end_date)"
      ],
      "metadata": {
        "id": "A9eSrJ1Dcot3"
      },
      "execution_count": 65,
      "outputs": []
    },
    {
      "cell_type": "code",
      "source": [
        "df=df.loc[mask]"
      ],
      "metadata": {
        "id": "_Pfuk7zicqIx"
      },
      "execution_count": 66,
      "outputs": []
    },
    {
      "cell_type": "code",
      "source": [
        "df=df.loc[mask]"
      ],
      "metadata": {
        "id": "MsTtlYUncrcn"
      },
      "execution_count": 67,
      "outputs": []
    },
    {
      "cell_type": "code",
      "source": [
        "df=df.drop(columns=['Series','Symbol','Open','High','Low','Last','Close','VWAP','Volume','Turnover','Trades','Deliverable Volume','%Deliverble','Date'])"
      ],
      "metadata": {
        "id": "aV7QwBEDcvq2"
      },
      "execution_count": 68,
      "outputs": []
    },
    {
      "cell_type": "code",
      "source": [
        "Ntest=math.trunc(0.3*len(df))\n",
        "train=df.iloc[:-Ntest]\n",
        "test=df.iloc[-Ntest:]"
      ],
      "metadata": {
        "id": "cUuhMhL0c1qi"
      },
      "execution_count": 69,
      "outputs": []
    },
    {
      "cell_type": "code",
      "source": [
        "train_idx=df.index<=train.index[-1]\n",
        "test_idx=df.index>train.index[-1]"
      ],
      "metadata": {
        "id": "YFtIIrsqc3ch"
      },
      "execution_count": 70,
      "outputs": []
    },
    {
      "cell_type": "code",
      "source": [
        "df['Diff Prev Close']=df['Prev Close'].diff()"
      ],
      "metadata": {
        "id": "zh1z6dQDc6KA"
      },
      "execution_count": 71,
      "outputs": []
    },
    {
      "cell_type": "code",
      "source": [
        "series=df['Diff Prev Close'].dropna().to_numpy()\n",
        "\n",
        "T=50\n",
        "X=[]\n",
        "Y=[]\n",
        "for t in range(len(series)-T):\n",
        "  x=series[t:t+T]\n",
        "  X.append(x)\n",
        "  y=series[t+T]\n",
        "  Y.append(y)\n",
        "\n",
        "X=np.array(X).reshape(-1,T)\n",
        "Y=np.array(Y)\n",
        "N=len(X)\n",
        "print(\"X.shape\",X.shape,\"Y.shape\",Y.shape)"
      ],
      "metadata": {
        "colab": {
          "base_uri": "https://localhost:8080/"
        },
        "id": "GH9c1VIMdLvZ",
        "outputId": "ccee6a69-5b2e-498f-a46d-5f394a895a02"
      },
      "execution_count": 72,
      "outputs": [
        {
          "output_type": "stream",
          "name": "stdout",
          "text": [
            "X.shape (2427, 50) Y.shape (2427,)\n"
          ]
        }
      ]
    },
    {
      "cell_type": "code",
      "source": [
        "Xtrain,Ytrain=X[:-Ntest],Y[:-Ntest]\n",
        "Xtest,Ytest=X[-Ntest:],Y[-Ntest:]"
      ],
      "metadata": {
        "id": "AyyCdgD1dQeH"
      },
      "execution_count": 73,
      "outputs": []
    },
    {
      "cell_type": "markdown",
      "source": [
        "ANN"
      ],
      "metadata": {
        "id": "P4csTdPeeavE"
      }
    },
    {
      "cell_type": "code",
      "source": [
        "i=Input(shape=(T,))\n",
        "x=Dense(400,activation='relu')(i)\n",
        "x=Dense(100,activation='relu')(x)\n",
        "x=Dense(50,activation='relu')(x)\n",
        "x=Dense(1,activation='relu')(x)\n",
        "model_ann=Model(i,x)\n",
        "model_ann.summary()"
      ],
      "metadata": {
        "colab": {
          "base_uri": "https://localhost:8080/"
        },
        "id": "cEHrg-sQdSpS",
        "outputId": "34d85a9a-14b9-4d55-c1e9-72be17e99db0"
      },
      "execution_count": 74,
      "outputs": [
        {
          "output_type": "stream",
          "name": "stdout",
          "text": [
            "Model: \"model_4\"\n",
            "_________________________________________________________________\n",
            " Layer (type)                Output Shape              Param #   \n",
            "=================================================================\n",
            " input_5 (InputLayer)        [(None, 50)]              0         \n",
            "                                                                 \n",
            " dense_11 (Dense)            (None, 400)               20400     \n",
            "                                                                 \n",
            " dense_12 (Dense)            (None, 100)               40100     \n",
            "                                                                 \n",
            " dense_13 (Dense)            (None, 50)                5050      \n",
            "                                                                 \n",
            " dense_14 (Dense)            (None, 1)                 51        \n",
            "                                                                 \n",
            "=================================================================\n",
            "Total params: 65,601\n",
            "Trainable params: 65,601\n",
            "Non-trainable params: 0\n",
            "_________________________________________________________________\n"
          ]
        }
      ]
    },
    {
      "cell_type": "code",
      "source": [
        "model_ann.compile(\n",
        "    loss='mse',\n",
        "    optimizer='adamax',\n",
        "    metrics='mae'\n",
        ")"
      ],
      "metadata": {
        "id": "GSjK1FukdUVe"
      },
      "execution_count": 75,
      "outputs": []
    },
    {
      "cell_type": "code",
      "source": [
        "r=model_ann.fit(\n",
        "    Xtrain,\n",
        "    Ytrain,\n",
        "    epochs=100,\n",
        "    validation_data=(Xtest,Ytest)\n",
        ")"
      ],
      "metadata": {
        "colab": {
          "base_uri": "https://localhost:8080/"
        },
        "id": "bp97xaLkdXKe",
        "outputId": "b6b25002-7f4c-46d3-e60a-3d18a2bec351"
      },
      "execution_count": 76,
      "outputs": [
        {
          "output_type": "stream",
          "name": "stdout",
          "text": [
            "Epoch 1/100\n",
            "53/53 [==============================] - 1s 4ms/step - loss: 5285.3076 - mae: 26.4358 - val_loss: 912.2631 - val_mae: 12.1620\n",
            "Epoch 2/100\n",
            "53/53 [==============================] - 0s 2ms/step - loss: 5282.1230 - mae: 26.3871 - val_loss: 912.7852 - val_mae: 12.1768\n",
            "Epoch 3/100\n",
            "53/53 [==============================] - 0s 3ms/step - loss: 5281.7354 - mae: 26.3748 - val_loss: 912.2631 - val_mae: 12.1620\n",
            "Epoch 4/100\n",
            "53/53 [==============================] - 0s 2ms/step - loss: 5281.8184 - mae: 26.3773 - val_loss: 912.2631 - val_mae: 12.1620\n",
            "Epoch 5/100\n",
            "53/53 [==============================] - 0s 2ms/step - loss: 5281.7974 - mae: 26.3744 - val_loss: 912.2652 - val_mae: 12.1623\n",
            "Epoch 6/100\n",
            "53/53 [==============================] - 0s 3ms/step - loss: 5281.7964 - mae: 26.3737 - val_loss: 912.2655 - val_mae: 12.1623\n",
            "Epoch 7/100\n",
            "53/53 [==============================] - 0s 2ms/step - loss: 5281.7959 - mae: 26.3736 - val_loss: 912.2659 - val_mae: 12.1624\n",
            "Epoch 8/100\n",
            "53/53 [==============================] - 0s 3ms/step - loss: 5281.7974 - mae: 26.3736 - val_loss: 912.2657 - val_mae: 12.1623\n",
            "Epoch 9/100\n",
            "53/53 [==============================] - 0s 2ms/step - loss: 5281.7964 - mae: 26.3736 - val_loss: 912.2657 - val_mae: 12.1623\n",
            "Epoch 10/100\n",
            "53/53 [==============================] - 0s 2ms/step - loss: 5281.7959 - mae: 26.3736 - val_loss: 912.2657 - val_mae: 12.1623\n",
            "Epoch 11/100\n",
            "53/53 [==============================] - 0s 2ms/step - loss: 5281.7964 - mae: 26.3736 - val_loss: 912.2657 - val_mae: 12.1623\n",
            "Epoch 12/100\n",
            "53/53 [==============================] - 0s 2ms/step - loss: 5281.7949 - mae: 26.3736 - val_loss: 912.2657 - val_mae: 12.1623\n",
            "Epoch 13/100\n",
            "53/53 [==============================] - 0s 2ms/step - loss: 5281.7964 - mae: 26.3736 - val_loss: 912.2657 - val_mae: 12.1623\n",
            "Epoch 14/100\n",
            "53/53 [==============================] - 0s 2ms/step - loss: 5281.7964 - mae: 26.3736 - val_loss: 912.2657 - val_mae: 12.1623\n",
            "Epoch 15/100\n",
            "53/53 [==============================] - 0s 2ms/step - loss: 5281.7959 - mae: 26.3736 - val_loss: 912.2657 - val_mae: 12.1623\n",
            "Epoch 16/100\n",
            "53/53 [==============================] - 0s 2ms/step - loss: 5281.7964 - mae: 26.3736 - val_loss: 912.2657 - val_mae: 12.1623\n",
            "Epoch 17/100\n",
            "53/53 [==============================] - 0s 2ms/step - loss: 5281.7949 - mae: 26.3736 - val_loss: 912.2657 - val_mae: 12.1623\n",
            "Epoch 18/100\n",
            "53/53 [==============================] - 0s 2ms/step - loss: 5281.7969 - mae: 26.3736 - val_loss: 912.2657 - val_mae: 12.1623\n",
            "Epoch 19/100\n",
            "53/53 [==============================] - 0s 2ms/step - loss: 5281.7964 - mae: 26.3736 - val_loss: 912.2657 - val_mae: 12.1623\n",
            "Epoch 20/100\n",
            "53/53 [==============================] - 0s 3ms/step - loss: 5281.7964 - mae: 26.3736 - val_loss: 912.2657 - val_mae: 12.1623\n",
            "Epoch 21/100\n",
            "53/53 [==============================] - 0s 2ms/step - loss: 5281.7964 - mae: 26.3736 - val_loss: 912.2657 - val_mae: 12.1623\n",
            "Epoch 22/100\n",
            "53/53 [==============================] - 0s 2ms/step - loss: 5281.7949 - mae: 26.3736 - val_loss: 912.2657 - val_mae: 12.1623\n",
            "Epoch 23/100\n",
            "53/53 [==============================] - 0s 3ms/step - loss: 5281.7959 - mae: 26.3736 - val_loss: 912.2657 - val_mae: 12.1623\n",
            "Epoch 24/100\n",
            "53/53 [==============================] - 0s 2ms/step - loss: 5281.7959 - mae: 26.3736 - val_loss: 912.2657 - val_mae: 12.1623\n",
            "Epoch 25/100\n",
            "53/53 [==============================] - 0s 2ms/step - loss: 5281.7959 - mae: 26.3736 - val_loss: 912.2657 - val_mae: 12.1623\n",
            "Epoch 26/100\n",
            "53/53 [==============================] - 0s 2ms/step - loss: 5281.7949 - mae: 26.3736 - val_loss: 912.2657 - val_mae: 12.1623\n",
            "Epoch 27/100\n",
            "53/53 [==============================] - 0s 3ms/step - loss: 5281.7949 - mae: 26.3736 - val_loss: 912.2657 - val_mae: 12.1623\n",
            "Epoch 28/100\n",
            "53/53 [==============================] - 0s 3ms/step - loss: 5281.7969 - mae: 26.3736 - val_loss: 912.2657 - val_mae: 12.1623\n",
            "Epoch 29/100\n",
            "53/53 [==============================] - 0s 2ms/step - loss: 5281.7964 - mae: 26.3736 - val_loss: 912.2657 - val_mae: 12.1623\n",
            "Epoch 30/100\n",
            "53/53 [==============================] - 0s 2ms/step - loss: 5281.7964 - mae: 26.3736 - val_loss: 912.2657 - val_mae: 12.1623\n",
            "Epoch 31/100\n",
            "53/53 [==============================] - 0s 2ms/step - loss: 5281.7969 - mae: 26.3736 - val_loss: 912.2657 - val_mae: 12.1623\n",
            "Epoch 32/100\n",
            "53/53 [==============================] - 0s 2ms/step - loss: 5281.7959 - mae: 26.3736 - val_loss: 912.2657 - val_mae: 12.1623\n",
            "Epoch 33/100\n",
            "53/53 [==============================] - 0s 3ms/step - loss: 5281.7959 - mae: 26.3736 - val_loss: 912.2657 - val_mae: 12.1623\n",
            "Epoch 34/100\n",
            "53/53 [==============================] - 0s 2ms/step - loss: 5281.7974 - mae: 26.3736 - val_loss: 912.2657 - val_mae: 12.1623\n",
            "Epoch 35/100\n",
            "53/53 [==============================] - 0s 2ms/step - loss: 5281.7959 - mae: 26.3736 - val_loss: 912.2657 - val_mae: 12.1623\n",
            "Epoch 36/100\n",
            "53/53 [==============================] - 0s 2ms/step - loss: 5281.7964 - mae: 26.3736 - val_loss: 912.2657 - val_mae: 12.1623\n",
            "Epoch 37/100\n",
            "53/53 [==============================] - 0s 2ms/step - loss: 5281.7959 - mae: 26.3736 - val_loss: 912.2657 - val_mae: 12.1623\n",
            "Epoch 38/100\n",
            "53/53 [==============================] - 0s 2ms/step - loss: 5281.7964 - mae: 26.3736 - val_loss: 912.2657 - val_mae: 12.1623\n",
            "Epoch 39/100\n",
            "53/53 [==============================] - 0s 2ms/step - loss: 5281.7959 - mae: 26.3736 - val_loss: 912.2657 - val_mae: 12.1623\n",
            "Epoch 40/100\n",
            "53/53 [==============================] - 0s 2ms/step - loss: 5281.7964 - mae: 26.3736 - val_loss: 912.2657 - val_mae: 12.1623\n",
            "Epoch 41/100\n",
            "53/53 [==============================] - 0s 2ms/step - loss: 5281.7969 - mae: 26.3736 - val_loss: 912.2657 - val_mae: 12.1623\n",
            "Epoch 42/100\n",
            "53/53 [==============================] - 0s 3ms/step - loss: 5281.7959 - mae: 26.3736 - val_loss: 912.2657 - val_mae: 12.1623\n",
            "Epoch 43/100\n",
            "53/53 [==============================] - 0s 2ms/step - loss: 5281.7949 - mae: 26.3736 - val_loss: 912.2657 - val_mae: 12.1623\n",
            "Epoch 44/100\n",
            "53/53 [==============================] - 0s 3ms/step - loss: 5281.7959 - mae: 26.3736 - val_loss: 912.2657 - val_mae: 12.1623\n",
            "Epoch 45/100\n",
            "53/53 [==============================] - 0s 2ms/step - loss: 5281.7969 - mae: 26.3736 - val_loss: 912.2657 - val_mae: 12.1623\n",
            "Epoch 46/100\n",
            "53/53 [==============================] - 0s 2ms/step - loss: 5281.7949 - mae: 26.3736 - val_loss: 912.2657 - val_mae: 12.1623\n",
            "Epoch 47/100\n",
            "53/53 [==============================] - 0s 2ms/step - loss: 5281.7959 - mae: 26.3736 - val_loss: 912.2657 - val_mae: 12.1623\n",
            "Epoch 48/100\n",
            "53/53 [==============================] - 0s 2ms/step - loss: 5281.7964 - mae: 26.3736 - val_loss: 912.2657 - val_mae: 12.1623\n",
            "Epoch 49/100\n",
            "53/53 [==============================] - 0s 2ms/step - loss: 5281.7959 - mae: 26.3736 - val_loss: 912.2657 - val_mae: 12.1623\n",
            "Epoch 50/100\n",
            "53/53 [==============================] - 0s 2ms/step - loss: 5281.7949 - mae: 26.3736 - val_loss: 912.2657 - val_mae: 12.1623\n",
            "Epoch 51/100\n",
            "53/53 [==============================] - 0s 2ms/step - loss: 5281.7959 - mae: 26.3736 - val_loss: 912.2657 - val_mae: 12.1623\n",
            "Epoch 52/100\n",
            "53/53 [==============================] - 0s 2ms/step - loss: 5281.7964 - mae: 26.3736 - val_loss: 912.2657 - val_mae: 12.1623\n",
            "Epoch 53/100\n",
            "53/53 [==============================] - 0s 2ms/step - loss: 5281.7974 - mae: 26.3736 - val_loss: 912.2657 - val_mae: 12.1623\n",
            "Epoch 54/100\n",
            "53/53 [==============================] - 0s 2ms/step - loss: 5281.7969 - mae: 26.3736 - val_loss: 912.2657 - val_mae: 12.1623\n",
            "Epoch 55/100\n",
            "53/53 [==============================] - 0s 2ms/step - loss: 5281.7949 - mae: 26.3736 - val_loss: 912.2657 - val_mae: 12.1623\n",
            "Epoch 56/100\n",
            "53/53 [==============================] - 0s 2ms/step - loss: 5281.7944 - mae: 26.3736 - val_loss: 912.2657 - val_mae: 12.1623\n",
            "Epoch 57/100\n",
            "53/53 [==============================] - 0s 2ms/step - loss: 5281.7949 - mae: 26.3736 - val_loss: 912.2657 - val_mae: 12.1623\n",
            "Epoch 58/100\n",
            "53/53 [==============================] - 0s 3ms/step - loss: 5281.7959 - mae: 26.3736 - val_loss: 912.2657 - val_mae: 12.1623\n",
            "Epoch 59/100\n",
            "53/53 [==============================] - 0s 2ms/step - loss: 5281.7959 - mae: 26.3736 - val_loss: 912.2657 - val_mae: 12.1623\n",
            "Epoch 60/100\n",
            "53/53 [==============================] - 0s 2ms/step - loss: 5281.7964 - mae: 26.3736 - val_loss: 912.2657 - val_mae: 12.1623\n",
            "Epoch 61/100\n",
            "53/53 [==============================] - 0s 3ms/step - loss: 5281.7949 - mae: 26.3736 - val_loss: 912.2657 - val_mae: 12.1623\n",
            "Epoch 62/100\n",
            "53/53 [==============================] - 0s 2ms/step - loss: 5281.7969 - mae: 26.3736 - val_loss: 912.2657 - val_mae: 12.1623\n",
            "Epoch 63/100\n",
            "53/53 [==============================] - 0s 2ms/step - loss: 5281.7964 - mae: 26.3736 - val_loss: 912.2657 - val_mae: 12.1623\n",
            "Epoch 64/100\n",
            "53/53 [==============================] - 0s 2ms/step - loss: 5281.7959 - mae: 26.3736 - val_loss: 912.2657 - val_mae: 12.1623\n",
            "Epoch 65/100\n",
            "53/53 [==============================] - 0s 2ms/step - loss: 5281.7959 - mae: 26.3736 - val_loss: 912.2657 - val_mae: 12.1623\n",
            "Epoch 66/100\n",
            "53/53 [==============================] - 0s 2ms/step - loss: 5281.7959 - mae: 26.3736 - val_loss: 912.2653 - val_mae: 12.1623\n",
            "Epoch 67/100\n",
            "53/53 [==============================] - 0s 2ms/step - loss: 5281.7949 - mae: 26.3739 - val_loss: 912.2753 - val_mae: 12.1635\n",
            "Epoch 68/100\n",
            "53/53 [==============================] - 0s 2ms/step - loss: 5281.8184 - mae: 26.3773 - val_loss: 912.2631 - val_mae: 12.1620\n",
            "Epoch 69/100\n",
            "53/53 [==============================] - 0s 2ms/step - loss: 5282.0117 - mae: 26.3849 - val_loss: 912.2631 - val_mae: 12.1620\n",
            "Epoch 70/100\n",
            "53/53 [==============================] - 0s 2ms/step - loss: 5281.8101 - mae: 26.3766 - val_loss: 912.2698 - val_mae: 12.1629\n",
            "Epoch 71/100\n",
            "53/53 [==============================] - 0s 2ms/step - loss: 5281.8066 - mae: 26.3761 - val_loss: 912.2705 - val_mae: 12.1629\n",
            "Epoch 72/100\n",
            "53/53 [==============================] - 0s 2ms/step - loss: 5281.8032 - mae: 26.3756 - val_loss: 912.2646 - val_mae: 12.1622\n",
            "Epoch 73/100\n",
            "53/53 [==============================] - 0s 2ms/step - loss: 5281.8027 - mae: 26.3755 - val_loss: 912.2731 - val_mae: 12.1634\n",
            "Epoch 74/100\n",
            "53/53 [==============================] - 0s 2ms/step - loss: 5281.8022 - mae: 26.3757 - val_loss: 912.2637 - val_mae: 12.1621\n",
            "Epoch 75/100\n",
            "53/53 [==============================] - 0s 2ms/step - loss: 5281.8042 - mae: 26.3759 - val_loss: 912.2697 - val_mae: 12.1628\n",
            "Epoch 76/100\n",
            "53/53 [==============================] - 0s 2ms/step - loss: 5281.8164 - mae: 26.3771 - val_loss: 912.2632 - val_mae: 12.1620\n",
            "Epoch 77/100\n",
            "53/53 [==============================] - 0s 2ms/step - loss: 5281.8169 - mae: 26.3771 - val_loss: 912.2734 - val_mae: 12.1634\n",
            "Epoch 78/100\n",
            "53/53 [==============================] - 0s 2ms/step - loss: 5281.8232 - mae: 26.3774 - val_loss: 912.2631 - val_mae: 12.1620\n",
            "Epoch 79/100\n",
            "53/53 [==============================] - 0s 2ms/step - loss: 5281.8242 - mae: 26.3776 - val_loss: 912.2628 - val_mae: 12.1634\n",
            "Epoch 80/100\n",
            "53/53 [==============================] - 0s 2ms/step - loss: 5281.8306 - mae: 26.3781 - val_loss: 912.2646 - val_mae: 12.1622\n",
            "Epoch 81/100\n",
            "53/53 [==============================] - 0s 2ms/step - loss: 5281.8398 - mae: 26.3787 - val_loss: 912.2724 - val_mae: 12.1632\n",
            "Epoch 82/100\n",
            "53/53 [==============================] - 0s 2ms/step - loss: 5281.8384 - mae: 26.3786 - val_loss: 912.2631 - val_mae: 12.1620\n",
            "Epoch 83/100\n",
            "53/53 [==============================] - 0s 2ms/step - loss: 5281.8408 - mae: 26.3788 - val_loss: 912.2678 - val_mae: 12.1641\n",
            "Epoch 84/100\n",
            "53/53 [==============================] - 0s 2ms/step - loss: 5281.8076 - mae: 26.3783 - val_loss: 913.0714 - val_mae: 12.1813\n",
            "Epoch 85/100\n",
            "53/53 [==============================] - 0s 2ms/step - loss: 5287.4946 - mae: 26.4216 - val_loss: 912.2009 - val_mae: 12.1609\n",
            "Epoch 86/100\n",
            "53/53 [==============================] - 0s 2ms/step - loss: 5271.4785 - mae: 26.3032 - val_loss: 912.6068 - val_mae: 12.1900\n",
            "Epoch 87/100\n",
            "53/53 [==============================] - 0s 2ms/step - loss: 5252.1694 - mae: 26.1392 - val_loss: 913.1782 - val_mae: 12.2209\n",
            "Epoch 88/100\n",
            "53/53 [==============================] - 0s 2ms/step - loss: 5240.2969 - mae: 25.9532 - val_loss: 912.9854 - val_mae: 12.2102\n",
            "Epoch 89/100\n",
            "53/53 [==============================] - 0s 2ms/step - loss: 5228.6699 - mae: 25.7925 - val_loss: 913.5340 - val_mae: 12.2351\n",
            "Epoch 90/100\n",
            "53/53 [==============================] - 0s 2ms/step - loss: 5223.8960 - mae: 25.7175 - val_loss: 912.8846 - val_mae: 12.2177\n",
            "Epoch 91/100\n",
            "53/53 [==============================] - 0s 2ms/step - loss: 5216.5488 - mae: 25.6301 - val_loss: 913.4362 - val_mae: 12.2546\n",
            "Epoch 92/100\n",
            "53/53 [==============================] - 0s 2ms/step - loss: 5208.1133 - mae: 25.4493 - val_loss: 913.5607 - val_mae: 12.2642\n",
            "Epoch 93/100\n",
            "53/53 [==============================] - 0s 2ms/step - loss: 5201.9141 - mae: 25.3622 - val_loss: 913.4214 - val_mae: 12.2623\n",
            "Epoch 94/100\n",
            "53/53 [==============================] - 0s 2ms/step - loss: 5195.1353 - mae: 25.2905 - val_loss: 917.2614 - val_mae: 12.4038\n",
            "Epoch 95/100\n",
            "53/53 [==============================] - 0s 2ms/step - loss: 5184.3657 - mae: 25.2556 - val_loss: 915.4996 - val_mae: 12.3114\n",
            "Epoch 96/100\n",
            "53/53 [==============================] - 0s 2ms/step - loss: 5167.4873 - mae: 25.1077 - val_loss: 916.0383 - val_mae: 12.3453\n",
            "Epoch 97/100\n",
            "53/53 [==============================] - 0s 2ms/step - loss: 5156.5869 - mae: 24.9551 - val_loss: 917.0613 - val_mae: 12.4034\n",
            "Epoch 98/100\n",
            "53/53 [==============================] - 0s 2ms/step - loss: 5146.9814 - mae: 24.8572 - val_loss: 914.7589 - val_mae: 12.3355\n",
            "Epoch 99/100\n",
            "53/53 [==============================] - 0s 2ms/step - loss: 5138.1816 - mae: 24.7275 - val_loss: 913.0432 - val_mae: 12.2845\n",
            "Epoch 100/100\n",
            "53/53 [==============================] - 0s 2ms/step - loss: 5128.5552 - mae: 24.6257 - val_loss: 913.3074 - val_mae: 12.2785\n"
          ]
        }
      ]
    },
    {
      "cell_type": "markdown",
      "source": [
        "CNN"
      ],
      "metadata": {
        "id": "Uekkb3dMfVs7"
      }
    },
    {
      "cell_type": "code",
      "source": [
        "i=Input(shape=(T,1))\n",
        "x=Conv1D(25,3,activation='relu')(i)\n",
        "x=MaxPooling1D(2)(x)\n",
        "x=Conv1D(50,3,activation='relu')(x)\n",
        "x=GlobalMaxPooling1D()(x)\n",
        "x=Dense(1)(x)\n",
        "model_cnn=Model(i,x)\n",
        "model_cnn.summary()"
      ],
      "metadata": {
        "colab": {
          "base_uri": "https://localhost:8080/"
        },
        "id": "Lboz32TXfjLR",
        "outputId": "0566f407-5c7d-4907-8840-0a57b75bcd84"
      },
      "execution_count": 77,
      "outputs": [
        {
          "output_type": "stream",
          "name": "stdout",
          "text": [
            "Model: \"model_5\"\n",
            "_________________________________________________________________\n",
            " Layer (type)                Output Shape              Param #   \n",
            "=================================================================\n",
            " input_6 (InputLayer)        [(None, 50, 1)]           0         \n",
            "                                                                 \n",
            " conv1d_2 (Conv1D)           (None, 48, 25)            100       \n",
            "                                                                 \n",
            " max_pooling1d_1 (MaxPooling  (None, 24, 25)           0         \n",
            " 1D)                                                             \n",
            "                                                                 \n",
            " conv1d_3 (Conv1D)           (None, 22, 50)            3800      \n",
            "                                                                 \n",
            " global_max_pooling1d_3 (Glo  (None, 50)               0         \n",
            " balMaxPooling1D)                                                \n",
            "                                                                 \n",
            " dense_15 (Dense)            (None, 1)                 51        \n",
            "                                                                 \n",
            "=================================================================\n",
            "Total params: 3,951\n",
            "Trainable params: 3,951\n",
            "Non-trainable params: 0\n",
            "_________________________________________________________________\n"
          ]
        }
      ]
    },
    {
      "cell_type": "code",
      "source": [
        "model_cnn.compile(loss='mse',\n",
        "              optimizer='adamax',\n",
        "              metrics=['mae','mse'])"
      ],
      "metadata": {
        "id": "5OpT5ORafjVT"
      },
      "execution_count": 78,
      "outputs": []
    },
    {
      "cell_type": "code",
      "source": [
        "r=model_cnn.fit(\n",
        "    Xtrain,\n",
        "    Ytrain,\n",
        "    epochs=100,\n",
        "    validation_data=(Xtest,Ytest)\n",
        ")"
      ],
      "metadata": {
        "colab": {
          "base_uri": "https://localhost:8080/"
        },
        "id": "mZ9Q3O2vfjf2",
        "outputId": "e697f54c-15f9-4471-b1b9-ce9f9d1c1610"
      },
      "execution_count": 79,
      "outputs": [
        {
          "output_type": "stream",
          "name": "stdout",
          "text": [
            "Epoch 1/100\n",
            "53/53 [==============================] - 1s 7ms/step - loss: 5634.2700 - mae: 29.5656 - mse: 5634.2700 - val_loss: 941.6256 - val_mae: 12.7742 - val_mse: 941.6256\n",
            "Epoch 2/100\n",
            "53/53 [==============================] - 0s 4ms/step - loss: 5335.1631 - mae: 27.3984 - mse: 5335.1631 - val_loss: 930.3956 - val_mae: 12.5331 - val_mse: 930.3956\n",
            "Epoch 3/100\n",
            "53/53 [==============================] - 0s 4ms/step - loss: 5298.6343 - mae: 27.0944 - mse: 5298.6343 - val_loss: 928.8221 - val_mae: 12.5146 - val_mse: 928.8221\n",
            "Epoch 4/100\n",
            "53/53 [==============================] - 0s 4ms/step - loss: 5279.3623 - mae: 27.0643 - mse: 5279.3623 - val_loss: 931.4082 - val_mae: 12.5642 - val_mse: 931.4082\n",
            "Epoch 5/100\n",
            "53/53 [==============================] - 0s 4ms/step - loss: 5280.1699 - mae: 27.1002 - mse: 5280.1699 - val_loss: 922.7636 - val_mae: 12.3986 - val_mse: 922.7636\n",
            "Epoch 6/100\n",
            "53/53 [==============================] - 0s 4ms/step - loss: 5268.1382 - mae: 26.9317 - mse: 5268.1382 - val_loss: 926.2659 - val_mae: 12.4746 - val_mse: 926.2659\n",
            "Epoch 7/100\n",
            "53/53 [==============================] - 0s 4ms/step - loss: 5248.2222 - mae: 26.8610 - mse: 5248.2222 - val_loss: 924.6252 - val_mae: 12.4334 - val_mse: 924.6252\n",
            "Epoch 8/100\n",
            "53/53 [==============================] - 0s 4ms/step - loss: 5237.1240 - mae: 26.7955 - mse: 5237.1240 - val_loss: 926.7549 - val_mae: 12.4885 - val_mse: 926.7549\n",
            "Epoch 9/100\n",
            "53/53 [==============================] - 0s 4ms/step - loss: 5229.1782 - mae: 26.7609 - mse: 5229.1782 - val_loss: 920.5065 - val_mae: 12.3546 - val_mse: 920.5065\n",
            "Epoch 10/100\n",
            "53/53 [==============================] - 0s 4ms/step - loss: 5221.4131 - mae: 26.7524 - mse: 5221.4131 - val_loss: 925.3132 - val_mae: 12.4777 - val_mse: 925.3132\n",
            "Epoch 11/100\n",
            "53/53 [==============================] - 0s 4ms/step - loss: 5209.4580 - mae: 26.6627 - mse: 5209.4580 - val_loss: 921.5419 - val_mae: 12.4068 - val_mse: 921.5419\n",
            "Epoch 12/100\n",
            "53/53 [==============================] - 0s 5ms/step - loss: 5211.0483 - mae: 26.8793 - mse: 5211.0483 - val_loss: 919.7885 - val_mae: 12.3766 - val_mse: 919.7885\n",
            "Epoch 13/100\n",
            "53/53 [==============================] - 0s 4ms/step - loss: 5198.9307 - mae: 26.7579 - mse: 5198.9307 - val_loss: 928.3376 - val_mae: 12.5342 - val_mse: 928.3376\n",
            "Epoch 14/100\n",
            "53/53 [==============================] - 0s 4ms/step - loss: 5191.1787 - mae: 26.6231 - mse: 5191.1787 - val_loss: 918.8070 - val_mae: 12.3600 - val_mse: 918.8070\n",
            "Epoch 15/100\n",
            "53/53 [==============================] - 0s 4ms/step - loss: 5188.0625 - mae: 26.7398 - mse: 5188.0625 - val_loss: 925.6174 - val_mae: 12.5007 - val_mse: 925.6174\n",
            "Epoch 16/100\n",
            "53/53 [==============================] - 0s 5ms/step - loss: 5183.4639 - mae: 26.6397 - mse: 5183.4639 - val_loss: 923.0042 - val_mae: 12.4629 - val_mse: 923.0042\n",
            "Epoch 17/100\n",
            "53/53 [==============================] - 0s 4ms/step - loss: 5178.1255 - mae: 26.6950 - mse: 5178.1255 - val_loss: 920.6819 - val_mae: 12.3943 - val_mse: 920.6819\n",
            "Epoch 18/100\n",
            "53/53 [==============================] - 0s 4ms/step - loss: 5179.5132 - mae: 26.7078 - mse: 5179.5132 - val_loss: 925.4602 - val_mae: 12.5082 - val_mse: 925.4602\n",
            "Epoch 19/100\n",
            "53/53 [==============================] - 0s 4ms/step - loss: 5163.9497 - mae: 26.6666 - mse: 5163.9497 - val_loss: 922.4382 - val_mae: 12.4469 - val_mse: 922.4382\n",
            "Epoch 20/100\n",
            "53/53 [==============================] - 0s 3ms/step - loss: 5163.1631 - mae: 26.5426 - mse: 5163.1631 - val_loss: 921.4268 - val_mae: 12.3946 - val_mse: 921.4268\n",
            "Epoch 21/100\n",
            "53/53 [==============================] - 0s 4ms/step - loss: 5160.2739 - mae: 26.6911 - mse: 5160.2739 - val_loss: 920.9327 - val_mae: 12.4402 - val_mse: 920.9327\n",
            "Epoch 22/100\n",
            "53/53 [==============================] - 0s 4ms/step - loss: 5149.6118 - mae: 26.7104 - mse: 5149.6118 - val_loss: 921.2416 - val_mae: 12.4410 - val_mse: 921.2416\n",
            "Epoch 23/100\n",
            "53/53 [==============================] - 0s 5ms/step - loss: 5154.9390 - mae: 26.7245 - mse: 5154.9390 - val_loss: 915.8054 - val_mae: 12.3254 - val_mse: 915.8054\n",
            "Epoch 24/100\n",
            "53/53 [==============================] - 0s 4ms/step - loss: 5147.4531 - mae: 26.7581 - mse: 5147.4531 - val_loss: 931.2977 - val_mae: 12.6785 - val_mse: 931.2977\n",
            "Epoch 25/100\n",
            "53/53 [==============================] - 0s 5ms/step - loss: 5146.3379 - mae: 26.7345 - mse: 5146.3379 - val_loss: 915.0024 - val_mae: 12.3501 - val_mse: 915.0024\n",
            "Epoch 26/100\n",
            "53/53 [==============================] - 0s 4ms/step - loss: 5143.0088 - mae: 26.6909 - mse: 5143.0088 - val_loss: 919.8826 - val_mae: 12.4186 - val_mse: 919.8826\n",
            "Epoch 27/100\n",
            "53/53 [==============================] - 0s 5ms/step - loss: 5131.2793 - mae: 26.5403 - mse: 5131.2793 - val_loss: 919.7488 - val_mae: 12.4202 - val_mse: 919.7488\n",
            "Epoch 28/100\n",
            "53/53 [==============================] - 0s 4ms/step - loss: 5121.4277 - mae: 26.6000 - mse: 5121.4277 - val_loss: 939.4346 - val_mae: 12.8556 - val_mse: 939.4346\n",
            "Epoch 29/100\n",
            "53/53 [==============================] - 0s 5ms/step - loss: 5129.5474 - mae: 26.7006 - mse: 5129.5474 - val_loss: 916.1857 - val_mae: 12.3822 - val_mse: 916.1857\n",
            "Epoch 30/100\n",
            "53/53 [==============================] - 0s 5ms/step - loss: 5138.9922 - mae: 26.7955 - mse: 5138.9922 - val_loss: 914.4921 - val_mae: 12.4014 - val_mse: 914.4921\n",
            "Epoch 31/100\n",
            "53/53 [==============================] - 0s 4ms/step - loss: 5136.5742 - mae: 27.0251 - mse: 5136.5742 - val_loss: 923.9606 - val_mae: 12.5448 - val_mse: 923.9606\n",
            "Epoch 32/100\n",
            "53/53 [==============================] - 0s 5ms/step - loss: 5111.8726 - mae: 26.7384 - mse: 5111.8726 - val_loss: 914.2037 - val_mae: 12.3557 - val_mse: 914.2037\n",
            "Epoch 33/100\n",
            "53/53 [==============================] - 0s 4ms/step - loss: 5116.6343 - mae: 26.6091 - mse: 5116.6343 - val_loss: 915.6057 - val_mae: 12.4114 - val_mse: 915.6057\n",
            "Epoch 34/100\n",
            "53/53 [==============================] - 0s 5ms/step - loss: 5118.8687 - mae: 26.8578 - mse: 5118.8687 - val_loss: 919.9175 - val_mae: 12.4638 - val_mse: 919.9175\n",
            "Epoch 35/100\n",
            "53/53 [==============================] - 0s 4ms/step - loss: 5109.5273 - mae: 26.7020 - mse: 5109.5273 - val_loss: 914.3490 - val_mae: 12.3263 - val_mse: 914.3490\n",
            "Epoch 36/100\n",
            "53/53 [==============================] - 0s 4ms/step - loss: 5112.5942 - mae: 26.7297 - mse: 5112.5942 - val_loss: 914.2568 - val_mae: 12.3589 - val_mse: 914.2568\n",
            "Epoch 37/100\n",
            "53/53 [==============================] - 0s 4ms/step - loss: 5108.2939 - mae: 26.5627 - mse: 5108.2939 - val_loss: 914.1286 - val_mae: 12.3526 - val_mse: 914.1286\n",
            "Epoch 38/100\n",
            "53/53 [==============================] - 0s 5ms/step - loss: 5106.8267 - mae: 26.9008 - mse: 5106.8267 - val_loss: 917.1962 - val_mae: 12.4498 - val_mse: 917.1962\n",
            "Epoch 39/100\n",
            "53/53 [==============================] - 0s 4ms/step - loss: 5107.6738 - mae: 26.8945 - mse: 5107.6738 - val_loss: 928.9813 - val_mae: 12.6825 - val_mse: 928.9813\n",
            "Epoch 40/100\n",
            "53/53 [==============================] - 0s 5ms/step - loss: 5104.2617 - mae: 26.7446 - mse: 5104.2617 - val_loss: 912.0545 - val_mae: 12.3282 - val_mse: 912.0545\n",
            "Epoch 41/100\n",
            "53/53 [==============================] - 0s 5ms/step - loss: 5088.4316 - mae: 26.7113 - mse: 5088.4316 - val_loss: 918.7318 - val_mae: 12.4555 - val_mse: 918.7318\n",
            "Epoch 42/100\n",
            "53/53 [==============================] - 0s 4ms/step - loss: 5082.6099 - mae: 26.7490 - mse: 5082.6099 - val_loss: 928.5505 - val_mae: 12.6903 - val_mse: 928.5505\n",
            "Epoch 43/100\n",
            "53/53 [==============================] - 0s 5ms/step - loss: 5098.9673 - mae: 26.8827 - mse: 5098.9673 - val_loss: 913.3054 - val_mae: 12.3545 - val_mse: 913.3054\n",
            "Epoch 44/100\n",
            "53/53 [==============================] - 0s 5ms/step - loss: 5079.1987 - mae: 26.7378 - mse: 5079.1987 - val_loss: 915.7625 - val_mae: 12.3924 - val_mse: 915.7625\n",
            "Epoch 45/100\n",
            "53/53 [==============================] - 0s 4ms/step - loss: 5078.6562 - mae: 26.6041 - mse: 5078.6562 - val_loss: 917.2711 - val_mae: 12.4517 - val_mse: 917.2711\n",
            "Epoch 46/100\n",
            "53/53 [==============================] - 0s 5ms/step - loss: 5077.8423 - mae: 26.6583 - mse: 5077.8423 - val_loss: 922.6908 - val_mae: 12.5562 - val_mse: 922.6908\n",
            "Epoch 47/100\n",
            "53/53 [==============================] - 0s 5ms/step - loss: 5075.0352 - mae: 26.6496 - mse: 5075.0352 - val_loss: 916.9791 - val_mae: 12.4430 - val_mse: 916.9791\n",
            "Epoch 48/100\n",
            "53/53 [==============================] - 0s 4ms/step - loss: 5079.1899 - mae: 26.8041 - mse: 5079.1899 - val_loss: 918.6558 - val_mae: 12.4647 - val_mse: 918.6558\n",
            "Epoch 49/100\n",
            "53/53 [==============================] - 0s 4ms/step - loss: 5071.8052 - mae: 26.6688 - mse: 5071.8052 - val_loss: 918.5610 - val_mae: 12.4765 - val_mse: 918.5610\n",
            "Epoch 50/100\n",
            "53/53 [==============================] - 0s 5ms/step - loss: 5074.1929 - mae: 26.8027 - mse: 5074.1929 - val_loss: 920.8931 - val_mae: 12.5368 - val_mse: 920.8931\n",
            "Epoch 51/100\n",
            "53/53 [==============================] - 0s 4ms/step - loss: 5064.0679 - mae: 26.5301 - mse: 5064.0679 - val_loss: 916.8895 - val_mae: 12.4459 - val_mse: 916.8895\n",
            "Epoch 52/100\n",
            "53/53 [==============================] - 0s 5ms/step - loss: 5059.5708 - mae: 26.5496 - mse: 5059.5708 - val_loss: 914.2500 - val_mae: 12.3578 - val_mse: 914.2500\n",
            "Epoch 53/100\n",
            "53/53 [==============================] - 0s 4ms/step - loss: 5055.0137 - mae: 26.5423 - mse: 5055.0137 - val_loss: 915.1033 - val_mae: 12.4324 - val_mse: 915.1033\n",
            "Epoch 54/100\n",
            "53/53 [==============================] - 0s 5ms/step - loss: 5056.0576 - mae: 26.6370 - mse: 5056.0576 - val_loss: 913.8143 - val_mae: 12.3851 - val_mse: 913.8143\n",
            "Epoch 55/100\n",
            "53/53 [==============================] - 0s 4ms/step - loss: 5052.3843 - mae: 26.6330 - mse: 5052.3843 - val_loss: 911.1464 - val_mae: 12.3549 - val_mse: 911.1464\n",
            "Epoch 56/100\n",
            "53/53 [==============================] - 0s 4ms/step - loss: 5056.9268 - mae: 26.6820 - mse: 5056.9268 - val_loss: 911.9141 - val_mae: 12.3887 - val_mse: 911.9141\n",
            "Epoch 57/100\n",
            "53/53 [==============================] - 0s 5ms/step - loss: 5056.2754 - mae: 26.7209 - mse: 5056.2754 - val_loss: 913.0880 - val_mae: 12.4033 - val_mse: 913.0880\n",
            "Epoch 58/100\n",
            "53/53 [==============================] - 0s 5ms/step - loss: 5049.6255 - mae: 26.7543 - mse: 5049.6255 - val_loss: 919.4502 - val_mae: 12.5035 - val_mse: 919.4502\n",
            "Epoch 59/100\n",
            "53/53 [==============================] - 0s 5ms/step - loss: 5060.2363 - mae: 26.8509 - mse: 5060.2363 - val_loss: 914.6033 - val_mae: 12.4201 - val_mse: 914.6033\n",
            "Epoch 60/100\n",
            "53/53 [==============================] - 0s 4ms/step - loss: 5049.3076 - mae: 26.8236 - mse: 5049.3076 - val_loss: 929.3718 - val_mae: 12.7261 - val_mse: 929.3718\n",
            "Epoch 61/100\n",
            "53/53 [==============================] - 0s 4ms/step - loss: 5044.1211 - mae: 26.7644 - mse: 5044.1211 - val_loss: 914.0166 - val_mae: 12.3940 - val_mse: 914.0166\n",
            "Epoch 62/100\n",
            "53/53 [==============================] - 0s 4ms/step - loss: 5039.7148 - mae: 26.6857 - mse: 5039.7148 - val_loss: 912.2482 - val_mae: 12.3465 - val_mse: 912.2482\n",
            "Epoch 63/100\n",
            "53/53 [==============================] - 0s 4ms/step - loss: 5042.3042 - mae: 26.6192 - mse: 5042.3042 - val_loss: 913.3367 - val_mae: 12.3812 - val_mse: 913.3367\n",
            "Epoch 64/100\n",
            "53/53 [==============================] - 0s 4ms/step - loss: 5041.8481 - mae: 26.7015 - mse: 5041.8481 - val_loss: 911.0829 - val_mae: 12.3746 - val_mse: 911.0829\n",
            "Epoch 65/100\n",
            "53/53 [==============================] - 0s 4ms/step - loss: 5042.6182 - mae: 26.8345 - mse: 5042.6182 - val_loss: 921.3221 - val_mae: 12.5725 - val_mse: 921.3221\n",
            "Epoch 66/100\n",
            "53/53 [==============================] - 0s 5ms/step - loss: 5030.8906 - mae: 26.6467 - mse: 5030.8906 - val_loss: 926.6065 - val_mae: 12.7000 - val_mse: 926.6065\n",
            "Epoch 67/100\n",
            "53/53 [==============================] - 0s 5ms/step - loss: 5043.3179 - mae: 26.8151 - mse: 5043.3179 - val_loss: 943.5819 - val_mae: 13.0190 - val_mse: 943.5819\n",
            "Epoch 68/100\n",
            "53/53 [==============================] - 0s 4ms/step - loss: 5044.5942 - mae: 27.0847 - mse: 5044.5942 - val_loss: 924.2401 - val_mae: 12.6516 - val_mse: 924.2401\n",
            "Epoch 69/100\n",
            "53/53 [==============================] - 0s 4ms/step - loss: 5036.4370 - mae: 26.8616 - mse: 5036.4370 - val_loss: 912.0198 - val_mae: 12.4001 - val_mse: 912.0198\n",
            "Epoch 70/100\n",
            "53/53 [==============================] - 0s 5ms/step - loss: 5026.1436 - mae: 26.6428 - mse: 5026.1436 - val_loss: 910.1161 - val_mae: 12.3515 - val_mse: 910.1161\n",
            "Epoch 71/100\n",
            "53/53 [==============================] - 0s 4ms/step - loss: 5017.4375 - mae: 26.8102 - mse: 5017.4375 - val_loss: 915.1000 - val_mae: 12.4522 - val_mse: 915.1000\n",
            "Epoch 72/100\n",
            "53/53 [==============================] - 0s 4ms/step - loss: 5022.2446 - mae: 26.8694 - mse: 5022.2446 - val_loss: 919.0974 - val_mae: 12.5236 - val_mse: 919.0974\n",
            "Epoch 73/100\n",
            "53/53 [==============================] - 0s 5ms/step - loss: 5021.3706 - mae: 26.5687 - mse: 5021.3706 - val_loss: 911.2017 - val_mae: 12.3576 - val_mse: 911.2017\n",
            "Epoch 74/100\n",
            "53/53 [==============================] - 0s 4ms/step - loss: 5027.4727 - mae: 26.8403 - mse: 5027.4727 - val_loss: 913.8267 - val_mae: 12.4444 - val_mse: 913.8267\n",
            "Epoch 75/100\n",
            "53/53 [==============================] - 0s 4ms/step - loss: 5031.9346 - mae: 26.8432 - mse: 5031.9346 - val_loss: 911.2427 - val_mae: 12.3984 - val_mse: 911.2427\n",
            "Epoch 76/100\n",
            "53/53 [==============================] - 0s 4ms/step - loss: 5020.5220 - mae: 26.7459 - mse: 5020.5220 - val_loss: 910.1512 - val_mae: 12.3739 - val_mse: 910.1512\n",
            "Epoch 77/100\n",
            "53/53 [==============================] - 0s 4ms/step - loss: 5006.0049 - mae: 26.5731 - mse: 5006.0049 - val_loss: 914.2250 - val_mae: 12.4520 - val_mse: 914.2250\n",
            "Epoch 78/100\n",
            "53/53 [==============================] - 0s 5ms/step - loss: 5009.6538 - mae: 26.6606 - mse: 5009.6538 - val_loss: 917.4949 - val_mae: 12.5483 - val_mse: 917.4949\n",
            "Epoch 79/100\n",
            "53/53 [==============================] - 0s 5ms/step - loss: 5004.5830 - mae: 26.7746 - mse: 5004.5830 - val_loss: 927.5145 - val_mae: 12.7539 - val_mse: 927.5145\n",
            "Epoch 80/100\n",
            "53/53 [==============================] - 0s 4ms/step - loss: 5008.8013 - mae: 26.7726 - mse: 5008.8013 - val_loss: 915.4430 - val_mae: 12.4873 - val_mse: 915.4430\n",
            "Epoch 81/100\n",
            "53/53 [==============================] - 0s 4ms/step - loss: 5001.3130 - mae: 26.6426 - mse: 5001.3130 - val_loss: 911.1884 - val_mae: 12.4303 - val_mse: 911.1884\n",
            "Epoch 82/100\n",
            "53/53 [==============================] - 0s 4ms/step - loss: 5009.7393 - mae: 26.8573 - mse: 5009.7393 - val_loss: 911.4077 - val_mae: 12.4445 - val_mse: 911.4077\n",
            "Epoch 83/100\n",
            "53/53 [==============================] - 0s 3ms/step - loss: 4997.8306 - mae: 26.6995 - mse: 4997.8306 - val_loss: 909.5156 - val_mae: 12.3812 - val_mse: 909.5156\n",
            "Epoch 84/100\n",
            "53/53 [==============================] - 0s 4ms/step - loss: 5000.7314 - mae: 26.8594 - mse: 5000.7314 - val_loss: 913.9469 - val_mae: 12.4520 - val_mse: 913.9469\n",
            "Epoch 85/100\n",
            "53/53 [==============================] - 0s 5ms/step - loss: 4993.4604 - mae: 26.6240 - mse: 4993.4604 - val_loss: 924.3194 - val_mae: 12.6853 - val_mse: 924.3194\n",
            "Epoch 86/100\n",
            "53/53 [==============================] - 0s 4ms/step - loss: 5005.6870 - mae: 26.9887 - mse: 5005.6870 - val_loss: 911.4404 - val_mae: 12.4309 - val_mse: 911.4404\n",
            "Epoch 87/100\n",
            "53/53 [==============================] - 0s 5ms/step - loss: 4993.2324 - mae: 26.7381 - mse: 4993.2324 - val_loss: 917.8971 - val_mae: 12.5350 - val_mse: 917.8971\n",
            "Epoch 88/100\n",
            "53/53 [==============================] - 0s 4ms/step - loss: 4999.4336 - mae: 26.7352 - mse: 4999.4336 - val_loss: 911.8564 - val_mae: 12.4422 - val_mse: 911.8564\n",
            "Epoch 89/100\n",
            "53/53 [==============================] - 0s 5ms/step - loss: 4996.8291 - mae: 26.7753 - mse: 4996.8291 - val_loss: 920.4791 - val_mae: 12.6222 - val_mse: 920.4791\n",
            "Epoch 90/100\n",
            "53/53 [==============================] - 0s 4ms/step - loss: 4985.1860 - mae: 26.7397 - mse: 4985.1860 - val_loss: 918.8076 - val_mae: 12.5856 - val_mse: 918.8076\n",
            "Epoch 91/100\n",
            "53/53 [==============================] - 0s 5ms/step - loss: 4984.9238 - mae: 26.5982 - mse: 4984.9238 - val_loss: 909.8939 - val_mae: 12.3830 - val_mse: 909.8939\n",
            "Epoch 92/100\n",
            "53/53 [==============================] - 0s 4ms/step - loss: 4982.2202 - mae: 26.6992 - mse: 4982.2202 - val_loss: 914.2510 - val_mae: 12.4997 - val_mse: 914.2510\n",
            "Epoch 93/100\n",
            "53/53 [==============================] - 0s 4ms/step - loss: 4983.5649 - mae: 26.8553 - mse: 4983.5649 - val_loss: 914.6494 - val_mae: 12.4835 - val_mse: 914.6494\n",
            "Epoch 94/100\n",
            "53/53 [==============================] - 0s 5ms/step - loss: 4988.2632 - mae: 26.8710 - mse: 4988.2632 - val_loss: 915.2838 - val_mae: 12.4900 - val_mse: 915.2838\n",
            "Epoch 95/100\n",
            "53/53 [==============================] - 0s 5ms/step - loss: 4977.0088 - mae: 26.6524 - mse: 4977.0088 - val_loss: 915.5342 - val_mae: 12.5328 - val_mse: 915.5342\n",
            "Epoch 96/100\n",
            "53/53 [==============================] - 0s 4ms/step - loss: 4965.8369 - mae: 26.6662 - mse: 4965.8369 - val_loss: 915.2654 - val_mae: 12.5352 - val_mse: 915.2654\n",
            "Epoch 97/100\n",
            "53/53 [==============================] - 0s 4ms/step - loss: 4972.9956 - mae: 26.7341 - mse: 4972.9956 - val_loss: 917.1158 - val_mae: 12.5490 - val_mse: 917.1158\n",
            "Epoch 98/100\n",
            "53/53 [==============================] - 0s 4ms/step - loss: 4976.8257 - mae: 26.7988 - mse: 4976.8257 - val_loss: 910.7402 - val_mae: 12.4825 - val_mse: 910.7402\n",
            "Epoch 99/100\n",
            "53/53 [==============================] - 0s 4ms/step - loss: 4988.8457 - mae: 26.8858 - mse: 4988.8457 - val_loss: 910.7652 - val_mae: 12.4512 - val_mse: 910.7652\n",
            "Epoch 100/100\n",
            "53/53 [==============================] - 0s 5ms/step - loss: 4973.8701 - mae: 26.6864 - mse: 4973.8701 - val_loss: 911.7487 - val_mae: 12.4609 - val_mse: 911.7487\n"
          ]
        }
      ]
    },
    {
      "cell_type": "markdown",
      "source": [
        "LSTM"
      ],
      "metadata": {
        "id": "M-I1WeJ7gOl3"
      }
    },
    {
      "cell_type": "code",
      "source": [
        "i=Input(shape=(T,1))\n",
        "x=LSTM(200,return_sequences=True)(i)\n",
        "x=LSTM(200,return_sequences=True)(x)\n",
        "x=GlobalMaxPooling1D()(x)\n",
        "x=Dense(100)(x)\n",
        "x=Dense(50)(x)\n",
        "x=Dense(1)(x)\n",
        "model_lstm=Model(i,x)\n",
        "model_lstm.summary()"
      ],
      "metadata": {
        "colab": {
          "base_uri": "https://localhost:8080/"
        },
        "id": "zsJnKRlwhvmv",
        "outputId": "00e748f9-c4ff-479e-89ac-307d0162dbec"
      },
      "execution_count": 80,
      "outputs": [
        {
          "output_type": "stream",
          "name": "stdout",
          "text": [
            "Model: \"model_6\"\n",
            "_________________________________________________________________\n",
            " Layer (type)                Output Shape              Param #   \n",
            "=================================================================\n",
            " input_7 (InputLayer)        [(None, 50, 1)]           0         \n",
            "                                                                 \n",
            " lstm_2 (LSTM)               (None, 50, 200)           161600    \n",
            "                                                                 \n",
            " lstm_3 (LSTM)               (None, 50, 200)           320800    \n",
            "                                                                 \n",
            " global_max_pooling1d_4 (Glo  (None, 200)              0         \n",
            " balMaxPooling1D)                                                \n",
            "                                                                 \n",
            " dense_16 (Dense)            (None, 100)               20100     \n",
            "                                                                 \n",
            " dense_17 (Dense)            (None, 50)                5050      \n",
            "                                                                 \n",
            " dense_18 (Dense)            (None, 1)                 51        \n",
            "                                                                 \n",
            "=================================================================\n",
            "Total params: 507,601\n",
            "Trainable params: 507,601\n",
            "Non-trainable params: 0\n",
            "_________________________________________________________________\n"
          ]
        }
      ]
    },
    {
      "cell_type": "code",
      "source": [
        "check_point_lstm=ModelCheckpoint('best_model.h5',monitor='val_loss',save_best_only=True)"
      ],
      "metadata": {
        "id": "uN9QDfEohvs-"
      },
      "execution_count": 81,
      "outputs": []
    },
    {
      "cell_type": "code",
      "source": [
        "model_lstm.compile(loss='mse',\n",
        "              optimizer='adamax',\n",
        "              metrics=['mae','mse'])"
      ],
      "metadata": {
        "id": "MwYBTZ7Uhv4I"
      },
      "execution_count": 82,
      "outputs": []
    },
    {
      "cell_type": "code",
      "source": [
        "r=model_lstm.fit(\n",
        "    Xtrain,\n",
        "    Ytrain,\n",
        "    epochs=100,\n",
        "    validation_data=(Xtest,Ytest),\n",
        "    callbacks=[check_point_lstm]\n",
        ")"
      ],
      "metadata": {
        "colab": {
          "base_uri": "https://localhost:8080/"
        },
        "id": "hucIsLiBiOQ3",
        "outputId": "e52e7c82-b354-430f-d8b5-2675da0c9e08"
      },
      "execution_count": 83,
      "outputs": [
        {
          "output_type": "stream",
          "name": "stdout",
          "text": [
            "Epoch 1/100\n",
            "53/53 [==============================] - 13s 179ms/step - loss: 5284.8989 - mae: 26.4848 - mse: 5284.8989 - val_loss: 913.4033 - val_mae: 12.2518 - val_mse: 913.4033\n",
            "Epoch 2/100\n",
            "53/53 [==============================] - 9s 166ms/step - loss: 5279.1206 - mae: 26.4329 - mse: 5279.1206 - val_loss: 913.0868 - val_mae: 12.2257 - val_mse: 913.0868\n",
            "Epoch 3/100\n",
            "53/53 [==============================] - 9s 166ms/step - loss: 5277.9722 - mae: 26.4442 - mse: 5277.9722 - val_loss: 913.9274 - val_mae: 12.2582 - val_mse: 913.9274\n",
            "Epoch 4/100\n",
            "53/53 [==============================] - 9s 167ms/step - loss: 5274.0693 - mae: 26.4173 - mse: 5274.0693 - val_loss: 914.5589 - val_mae: 12.2618 - val_mse: 914.5589\n",
            "Epoch 5/100\n",
            "53/53 [==============================] - 9s 169ms/step - loss: 5270.2549 - mae: 26.4139 - mse: 5270.2549 - val_loss: 914.9254 - val_mae: 12.2219 - val_mse: 914.9254\n",
            "Epoch 6/100\n",
            "53/53 [==============================] - 9s 170ms/step - loss: 5265.1382 - mae: 26.4115 - mse: 5265.1382 - val_loss: 917.7557 - val_mae: 12.2992 - val_mse: 917.7557\n",
            "Epoch 7/100\n",
            "53/53 [==============================] - 9s 170ms/step - loss: 5255.3906 - mae: 26.4204 - mse: 5255.3906 - val_loss: 918.2657 - val_mae: 12.2363 - val_mse: 918.2657\n",
            "Epoch 8/100\n",
            "53/53 [==============================] - 9s 167ms/step - loss: 5246.3096 - mae: 26.4411 - mse: 5246.3096 - val_loss: 922.2327 - val_mae: 12.3040 - val_mse: 922.2327\n",
            "Epoch 9/100\n",
            "53/53 [==============================] - 9s 167ms/step - loss: 5239.4072 - mae: 26.4390 - mse: 5239.4072 - val_loss: 922.3895 - val_mae: 12.3145 - val_mse: 922.3895\n",
            "Epoch 10/100\n",
            "53/53 [==============================] - 9s 167ms/step - loss: 5226.4639 - mae: 26.5515 - mse: 5226.4639 - val_loss: 937.2281 - val_mae: 12.6205 - val_mse: 937.2281\n",
            "Epoch 11/100\n",
            "53/53 [==============================] - 9s 169ms/step - loss: 5219.8027 - mae: 26.6793 - mse: 5219.8027 - val_loss: 926.6214 - val_mae: 12.3972 - val_mse: 926.6214\n",
            "Epoch 12/100\n",
            "53/53 [==============================] - 9s 168ms/step - loss: 5213.4502 - mae: 26.7071 - mse: 5213.4502 - val_loss: 931.6446 - val_mae: 12.4904 - val_mse: 931.6446\n",
            "Epoch 13/100\n",
            "53/53 [==============================] - 9s 169ms/step - loss: 5198.4956 - mae: 26.5708 - mse: 5198.4956 - val_loss: 927.2540 - val_mae: 12.4127 - val_mse: 927.2540\n",
            "Epoch 14/100\n",
            "53/53 [==============================] - 9s 169ms/step - loss: 5180.5952 - mae: 26.5850 - mse: 5180.5952 - val_loss: 925.8272 - val_mae: 12.3899 - val_mse: 925.8272\n",
            "Epoch 15/100\n",
            "53/53 [==============================] - 9s 171ms/step - loss: 5177.3643 - mae: 26.7276 - mse: 5177.3643 - val_loss: 933.1463 - val_mae: 12.5427 - val_mse: 933.1463\n",
            "Epoch 16/100\n",
            "53/53 [==============================] - 9s 174ms/step - loss: 5165.0464 - mae: 26.7216 - mse: 5165.0464 - val_loss: 928.4570 - val_mae: 12.5488 - val_mse: 928.4570\n",
            "Epoch 17/100\n",
            "53/53 [==============================] - 10s 184ms/step - loss: 5143.0601 - mae: 26.6705 - mse: 5143.0601 - val_loss: 935.9330 - val_mae: 12.6088 - val_mse: 935.9330\n",
            "Epoch 18/100\n",
            "53/53 [==============================] - 9s 175ms/step - loss: 5137.5679 - mae: 26.6308 - mse: 5137.5679 - val_loss: 933.1956 - val_mae: 12.5973 - val_mse: 933.1956\n",
            "Epoch 19/100\n",
            "53/53 [==============================] - 9s 171ms/step - loss: 5111.9043 - mae: 26.8570 - mse: 5111.9043 - val_loss: 935.3387 - val_mae: 12.6742 - val_mse: 935.3387\n",
            "Epoch 20/100\n",
            "53/53 [==============================] - 9s 170ms/step - loss: 5115.9844 - mae: 26.8663 - mse: 5115.9844 - val_loss: 931.6706 - val_mae: 12.5417 - val_mse: 931.6706\n",
            "Epoch 21/100\n",
            "53/53 [==============================] - 9s 172ms/step - loss: 5092.4854 - mae: 26.9150 - mse: 5092.4854 - val_loss: 941.9351 - val_mae: 12.7309 - val_mse: 941.9351\n",
            "Epoch 22/100\n",
            "53/53 [==============================] - 9s 173ms/step - loss: 5082.9233 - mae: 26.8071 - mse: 5082.9233 - val_loss: 937.7538 - val_mae: 12.7120 - val_mse: 937.7538\n",
            "Epoch 23/100\n",
            "53/53 [==============================] - 9s 170ms/step - loss: 5073.0337 - mae: 26.8256 - mse: 5073.0337 - val_loss: 946.4313 - val_mae: 13.2800 - val_mse: 946.4313\n",
            "Epoch 24/100\n",
            "53/53 [==============================] - 9s 172ms/step - loss: 5051.7949 - mae: 26.9066 - mse: 5051.7949 - val_loss: 938.8794 - val_mae: 12.8035 - val_mse: 938.8794\n",
            "Epoch 25/100\n",
            "53/53 [==============================] - 9s 169ms/step - loss: 5045.0327 - mae: 26.7653 - mse: 5045.0327 - val_loss: 962.8323 - val_mae: 13.6900 - val_mse: 962.8323\n",
            "Epoch 26/100\n",
            "53/53 [==============================] - 9s 173ms/step - loss: 5020.8325 - mae: 26.9795 - mse: 5020.8325 - val_loss: 944.8767 - val_mae: 13.0955 - val_mse: 944.8767\n",
            "Epoch 27/100\n",
            "53/53 [==============================] - 9s 175ms/step - loss: 5035.2607 - mae: 26.5312 - mse: 5035.2607 - val_loss: 961.1132 - val_mae: 13.5528 - val_mse: 961.1132\n",
            "Epoch 28/100\n",
            "53/53 [==============================] - 9s 172ms/step - loss: 5027.3384 - mae: 27.1481 - mse: 5027.3384 - val_loss: 969.0790 - val_mae: 13.3561 - val_mse: 969.0790\n",
            "Epoch 29/100\n",
            "53/53 [==============================] - 9s 173ms/step - loss: 4991.9619 - mae: 26.6792 - mse: 4991.9619 - val_loss: 955.5196 - val_mae: 13.0752 - val_mse: 955.5196\n",
            "Epoch 30/100\n",
            "53/53 [==============================] - 9s 172ms/step - loss: 4969.0513 - mae: 26.9192 - mse: 4969.0513 - val_loss: 957.2440 - val_mae: 13.7255 - val_mse: 957.2440\n",
            "Epoch 31/100\n",
            "53/53 [==============================] - 9s 175ms/step - loss: 4967.5732 - mae: 27.0332 - mse: 4967.5732 - val_loss: 960.4502 - val_mae: 13.5676 - val_mse: 960.4502\n",
            "Epoch 32/100\n",
            "53/53 [==============================] - 9s 174ms/step - loss: 4945.9619 - mae: 27.2542 - mse: 4945.9619 - val_loss: 980.8134 - val_mae: 14.2782 - val_mse: 980.8134\n",
            "Epoch 33/100\n",
            "53/53 [==============================] - 9s 176ms/step - loss: 4947.6177 - mae: 26.7511 - mse: 4947.6177 - val_loss: 947.6276 - val_mae: 13.0244 - val_mse: 947.6276\n",
            "Epoch 34/100\n",
            "53/53 [==============================] - 9s 176ms/step - loss: 4965.4487 - mae: 26.8304 - mse: 4965.4487 - val_loss: 961.4769 - val_mae: 13.2964 - val_mse: 961.4769\n",
            "Epoch 35/100\n",
            "53/53 [==============================] - 9s 176ms/step - loss: 4900.3276 - mae: 26.4800 - mse: 4900.3276 - val_loss: 951.4526 - val_mae: 13.3654 - val_mse: 951.4526\n",
            "Epoch 36/100\n",
            "53/53 [==============================] - 9s 172ms/step - loss: 4887.2222 - mae: 27.0848 - mse: 4887.2222 - val_loss: 967.5873 - val_mae: 13.7239 - val_mse: 967.5873\n",
            "Epoch 37/100\n",
            "53/53 [==============================] - 9s 174ms/step - loss: 4839.7139 - mae: 26.5363 - mse: 4839.7139 - val_loss: 981.5729 - val_mae: 14.3184 - val_mse: 981.5729\n",
            "Epoch 38/100\n",
            "53/53 [==============================] - 9s 178ms/step - loss: 4876.8335 - mae: 27.1394 - mse: 4876.8335 - val_loss: 958.3174 - val_mae: 13.5660 - val_mse: 958.3174\n",
            "Epoch 39/100\n",
            "53/53 [==============================] - 9s 176ms/step - loss: 4887.4629 - mae: 26.6137 - mse: 4887.4629 - val_loss: 986.0801 - val_mae: 13.9116 - val_mse: 986.0801\n",
            "Epoch 40/100\n",
            "53/53 [==============================] - 9s 177ms/step - loss: 4799.2373 - mae: 27.0776 - mse: 4799.2373 - val_loss: 974.4365 - val_mae: 13.8477 - val_mse: 974.4365\n",
            "Epoch 41/100\n",
            "53/53 [==============================] - 9s 175ms/step - loss: 4810.5571 - mae: 26.6048 - mse: 4810.5571 - val_loss: 987.4402 - val_mae: 14.0669 - val_mse: 987.4402\n",
            "Epoch 42/100\n",
            "53/53 [==============================] - 9s 174ms/step - loss: 4786.3086 - mae: 27.2334 - mse: 4786.3086 - val_loss: 1050.5396 - val_mae: 15.4612 - val_mse: 1050.5396\n",
            "Epoch 43/100\n",
            "53/53 [==============================] - 9s 177ms/step - loss: 4802.3975 - mae: 27.0155 - mse: 4802.3975 - val_loss: 970.3534 - val_mae: 13.8506 - val_mse: 970.3534\n",
            "Epoch 44/100\n",
            "53/53 [==============================] - 9s 170ms/step - loss: 4711.6255 - mae: 26.8661 - mse: 4711.6255 - val_loss: 1017.0876 - val_mae: 14.9110 - val_mse: 1017.0876\n",
            "Epoch 45/100\n",
            "53/53 [==============================] - 9s 170ms/step - loss: 4675.6807 - mae: 26.6491 - mse: 4675.6807 - val_loss: 980.6655 - val_mae: 14.2192 - val_mse: 980.6655\n",
            "Epoch 46/100\n",
            "53/53 [==============================] - 9s 175ms/step - loss: 4663.8745 - mae: 26.9808 - mse: 4663.8745 - val_loss: 1038.8021 - val_mae: 15.8660 - val_mse: 1038.8021\n",
            "Epoch 47/100\n",
            "53/53 [==============================] - 9s 171ms/step - loss: 4637.7314 - mae: 26.8680 - mse: 4637.7314 - val_loss: 990.1721 - val_mae: 14.4228 - val_mse: 990.1721\n",
            "Epoch 48/100\n",
            "53/53 [==============================] - 9s 174ms/step - loss: 4749.5459 - mae: 26.7458 - mse: 4749.5459 - val_loss: 989.3098 - val_mae: 14.5571 - val_mse: 989.3098\n",
            "Epoch 49/100\n",
            "53/53 [==============================] - 9s 170ms/step - loss: 4615.9482 - mae: 26.6740 - mse: 4615.9482 - val_loss: 982.6002 - val_mae: 14.3771 - val_mse: 982.6002\n",
            "Epoch 50/100\n",
            "53/53 [==============================] - 9s 177ms/step - loss: 4538.1929 - mae: 26.4904 - mse: 4538.1929 - val_loss: 997.6816 - val_mae: 14.7203 - val_mse: 997.6816\n",
            "Epoch 51/100\n",
            "53/53 [==============================] - 9s 174ms/step - loss: 4533.0732 - mae: 26.5387 - mse: 4533.0732 - val_loss: 1016.2479 - val_mae: 15.3415 - val_mse: 1016.2479\n",
            "Epoch 52/100\n",
            "53/53 [==============================] - 9s 177ms/step - loss: 4564.2700 - mae: 26.3305 - mse: 4564.2700 - val_loss: 1040.0519 - val_mae: 15.6835 - val_mse: 1040.0519\n",
            "Epoch 53/100\n",
            "53/53 [==============================] - 9s 179ms/step - loss: 4522.8071 - mae: 26.9838 - mse: 4522.8071 - val_loss: 1009.8361 - val_mae: 15.0611 - val_mse: 1009.8361\n",
            "Epoch 54/100\n",
            "53/53 [==============================] - 9s 177ms/step - loss: 4501.1035 - mae: 26.7314 - mse: 4501.1035 - val_loss: 1025.4467 - val_mae: 15.7178 - val_mse: 1025.4467\n",
            "Epoch 55/100\n",
            "53/53 [==============================] - 9s 177ms/step - loss: 4434.6670 - mae: 26.5575 - mse: 4434.6670 - val_loss: 1101.2233 - val_mae: 17.4939 - val_mse: 1101.2233\n",
            "Epoch 56/100\n",
            "53/53 [==============================] - 9s 179ms/step - loss: 4343.7422 - mae: 26.1895 - mse: 4343.7422 - val_loss: 1038.0369 - val_mae: 15.6825 - val_mse: 1038.0369\n",
            "Epoch 57/100\n",
            "53/53 [==============================] - 9s 177ms/step - loss: 4310.3550 - mae: 26.3833 - mse: 4310.3550 - val_loss: 1062.8215 - val_mae: 16.3110 - val_mse: 1062.8215\n",
            "Epoch 58/100\n",
            "53/53 [==============================] - 9s 179ms/step - loss: 4264.2515 - mae: 26.0576 - mse: 4264.2515 - val_loss: 1082.4547 - val_mae: 16.9937 - val_mse: 1082.4547\n",
            "Epoch 59/100\n",
            "53/53 [==============================] - 9s 178ms/step - loss: 4271.0347 - mae: 25.9418 - mse: 4271.0347 - val_loss: 1090.2051 - val_mae: 16.8784 - val_mse: 1090.2051\n",
            "Epoch 60/100\n",
            "53/53 [==============================] - 10s 183ms/step - loss: 4421.6602 - mae: 26.7574 - mse: 4421.6602 - val_loss: 1065.7039 - val_mae: 16.1042 - val_mse: 1065.7039\n",
            "Epoch 61/100\n",
            "53/53 [==============================] - 9s 178ms/step - loss: 4262.6997 - mae: 26.7426 - mse: 4262.6997 - val_loss: 1092.9901 - val_mae: 16.9152 - val_mse: 1092.9901\n",
            "Epoch 62/100\n",
            "53/53 [==============================] - 9s 179ms/step - loss: 4083.9834 - mae: 25.3813 - mse: 4083.9834 - val_loss: 1115.4856 - val_mae: 17.3309 - val_mse: 1115.4856\n",
            "Epoch 63/100\n",
            "53/53 [==============================] - 9s 179ms/step - loss: 4073.8115 - mae: 25.4245 - mse: 4073.8115 - val_loss: 1125.2136 - val_mae: 17.6043 - val_mse: 1125.2136\n",
            "Epoch 64/100\n",
            "53/53 [==============================] - 9s 179ms/step - loss: 4045.3342 - mae: 25.5353 - mse: 4045.3342 - val_loss: 1193.9299 - val_mae: 18.9037 - val_mse: 1193.9299\n",
            "Epoch 65/100\n",
            "53/53 [==============================] - 9s 175ms/step - loss: 4013.9956 - mae: 26.5854 - mse: 4013.9956 - val_loss: 1222.5364 - val_mae: 19.5090 - val_mse: 1222.5364\n",
            "Epoch 66/100\n",
            "53/53 [==============================] - 9s 178ms/step - loss: 3897.3020 - mae: 25.3118 - mse: 3897.3020 - val_loss: 1086.3884 - val_mae: 16.6097 - val_mse: 1086.3884\n",
            "Epoch 67/100\n",
            "53/53 [==============================] - 9s 178ms/step - loss: 3877.5100 - mae: 25.3582 - mse: 3877.5100 - val_loss: 1122.9807 - val_mae: 17.2697 - val_mse: 1122.9807\n",
            "Epoch 68/100\n",
            "53/53 [==============================] - 10s 181ms/step - loss: 3705.7793 - mae: 24.8700 - mse: 3705.7793 - val_loss: 1134.2452 - val_mae: 17.4410 - val_mse: 1134.2452\n",
            "Epoch 69/100\n",
            "53/53 [==============================] - 9s 179ms/step - loss: 3615.0059 - mae: 24.7835 - mse: 3615.0059 - val_loss: 1145.6429 - val_mae: 17.9195 - val_mse: 1145.6429\n",
            "Epoch 70/100\n",
            "53/53 [==============================] - 10s 180ms/step - loss: 3797.2751 - mae: 25.0556 - mse: 3797.2751 - val_loss: 1152.9221 - val_mae: 17.8483 - val_mse: 1152.9221\n",
            "Epoch 71/100\n",
            "53/53 [==============================] - 9s 175ms/step - loss: 3930.9543 - mae: 27.1960 - mse: 3930.9543 - val_loss: 1190.6427 - val_mae: 18.8097 - val_mse: 1190.6427\n",
            "Epoch 72/100\n",
            "53/53 [==============================] - 9s 173ms/step - loss: 3670.1304 - mae: 25.5108 - mse: 3670.1304 - val_loss: 1173.7609 - val_mae: 18.3804 - val_mse: 1173.7609\n",
            "Epoch 73/100\n",
            "53/53 [==============================] - 9s 176ms/step - loss: 3559.8123 - mae: 24.8175 - mse: 3559.8123 - val_loss: 1185.4147 - val_mae: 18.7498 - val_mse: 1185.4147\n",
            "Epoch 74/100\n",
            "53/53 [==============================] - 9s 176ms/step - loss: 3486.3882 - mae: 24.6734 - mse: 3486.3882 - val_loss: 1171.9761 - val_mae: 18.2648 - val_mse: 1171.9761\n",
            "Epoch 75/100\n",
            "53/53 [==============================] - 9s 178ms/step - loss: 3410.4456 - mae: 24.3585 - mse: 3410.4456 - val_loss: 1197.2042 - val_mae: 18.6757 - val_mse: 1197.2042\n",
            "Epoch 76/100\n",
            "53/53 [==============================] - 10s 183ms/step - loss: 3330.1558 - mae: 24.0123 - mse: 3330.1558 - val_loss: 1227.9258 - val_mae: 19.0848 - val_mse: 1227.9258\n",
            "Epoch 77/100\n",
            "53/53 [==============================] - 10s 180ms/step - loss: 3276.1921 - mae: 23.9740 - mse: 3276.1921 - val_loss: 1279.8755 - val_mae: 19.8787 - val_mse: 1279.8755\n",
            "Epoch 78/100\n",
            "53/53 [==============================] - 9s 175ms/step - loss: 3208.0615 - mae: 24.2044 - mse: 3208.0615 - val_loss: 1305.0221 - val_mae: 20.4250 - val_mse: 1305.0221\n",
            "Epoch 79/100\n",
            "53/53 [==============================] - 9s 179ms/step - loss: 3145.0125 - mae: 23.8874 - mse: 3145.0125 - val_loss: 1450.0187 - val_mae: 22.5564 - val_mse: 1450.0187\n",
            "Epoch 80/100\n",
            "53/53 [==============================] - 9s 176ms/step - loss: 3015.0664 - mae: 23.6039 - mse: 3015.0664 - val_loss: 1301.6005 - val_mae: 20.0226 - val_mse: 1301.6005\n",
            "Epoch 81/100\n",
            "53/53 [==============================] - 9s 179ms/step - loss: 2912.5081 - mae: 23.0283 - mse: 2912.5081 - val_loss: 1356.2417 - val_mae: 21.1228 - val_mse: 1356.2417\n",
            "Epoch 82/100\n",
            "53/53 [==============================] - 9s 180ms/step - loss: 2820.1726 - mae: 22.9421 - mse: 2820.1726 - val_loss: 1336.2091 - val_mae: 20.5755 - val_mse: 1336.2091\n",
            "Epoch 83/100\n",
            "53/53 [==============================] - 9s 171ms/step - loss: 2755.4207 - mae: 22.9100 - mse: 2755.4207 - val_loss: 1339.6844 - val_mae: 20.6189 - val_mse: 1339.6844\n",
            "Epoch 84/100\n",
            "53/53 [==============================] - 9s 173ms/step - loss: 2697.7876 - mae: 23.0849 - mse: 2697.7876 - val_loss: 1349.6768 - val_mae: 20.7103 - val_mse: 1349.6768\n",
            "Epoch 85/100\n",
            "53/53 [==============================] - 9s 178ms/step - loss: 2623.5356 - mae: 22.5085 - mse: 2623.5356 - val_loss: 1464.3947 - val_mae: 22.0818 - val_mse: 1464.3947\n",
            "Epoch 86/100\n",
            "53/53 [==============================] - 9s 177ms/step - loss: 2559.9268 - mae: 22.6258 - mse: 2559.9268 - val_loss: 1367.6625 - val_mae: 20.9749 - val_mse: 1367.6625\n",
            "Epoch 87/100\n",
            "53/53 [==============================] - 10s 180ms/step - loss: 2615.4741 - mae: 22.7542 - mse: 2615.4741 - val_loss: 1453.0989 - val_mae: 21.9942 - val_mse: 1453.0989\n",
            "Epoch 88/100\n",
            "53/53 [==============================] - 9s 176ms/step - loss: 2487.4792 - mae: 22.8823 - mse: 2487.4792 - val_loss: 1632.7842 - val_mae: 24.8392 - val_mse: 1632.7842\n",
            "Epoch 89/100\n",
            "53/53 [==============================] - 9s 179ms/step - loss: 2309.3420 - mae: 22.1386 - mse: 2309.3420 - val_loss: 1512.7345 - val_mae: 22.6989 - val_mse: 1512.7345\n",
            "Epoch 90/100\n",
            "53/53 [==============================] - 9s 176ms/step - loss: 2192.1379 - mae: 21.4629 - mse: 2192.1379 - val_loss: 1567.5951 - val_mae: 23.5317 - val_mse: 1567.5951\n",
            "Epoch 91/100\n",
            "53/53 [==============================] - 9s 178ms/step - loss: 2117.1252 - mae: 21.3643 - mse: 2117.1252 - val_loss: 1537.6892 - val_mae: 23.0185 - val_mse: 1537.6892\n",
            "Epoch 92/100\n",
            "53/53 [==============================] - 9s 178ms/step - loss: 2072.2437 - mae: 21.2539 - mse: 2072.2437 - val_loss: 1564.8333 - val_mae: 23.8036 - val_mse: 1564.8333\n",
            "Epoch 93/100\n",
            "53/53 [==============================] - 9s 179ms/step - loss: 2031.9679 - mae: 21.6308 - mse: 2031.9679 - val_loss: 1556.5690 - val_mae: 23.3084 - val_mse: 1556.5690\n",
            "Epoch 94/100\n",
            "53/53 [==============================] - 9s 175ms/step - loss: 1972.6821 - mae: 21.5787 - mse: 1972.6821 - val_loss: 1556.3291 - val_mae: 23.3518 - val_mse: 1556.3291\n",
            "Epoch 95/100\n",
            "53/53 [==============================] - 9s 177ms/step - loss: 1939.5699 - mae: 21.5036 - mse: 1939.5699 - val_loss: 1727.8212 - val_mae: 25.5017 - val_mse: 1727.8212\n",
            "Epoch 96/100\n",
            "53/53 [==============================] - 9s 178ms/step - loss: 2672.4131 - mae: 23.6437 - mse: 2672.4131 - val_loss: 1578.2303 - val_mae: 24.1336 - val_mse: 1578.2303\n",
            "Epoch 97/100\n",
            "53/53 [==============================] - 9s 179ms/step - loss: 2516.0125 - mae: 23.8818 - mse: 2516.0125 - val_loss: 1596.4608 - val_mae: 24.1388 - val_mse: 1596.4608\n",
            "Epoch 98/100\n",
            "53/53 [==============================] - 9s 176ms/step - loss: 1961.1045 - mae: 20.8686 - mse: 1961.1045 - val_loss: 1588.8486 - val_mae: 24.0726 - val_mse: 1588.8486\n",
            "Epoch 99/100\n",
            "53/53 [==============================] - 9s 177ms/step - loss: 1741.9899 - mae: 19.7777 - mse: 1741.9899 - val_loss: 1675.9480 - val_mae: 25.0416 - val_mse: 1675.9480\n",
            "Epoch 100/100\n",
            "53/53 [==============================] - 9s 177ms/step - loss: 1608.8235 - mae: 19.1190 - mse: 1608.8235 - val_loss: 1666.1057 - val_mae: 24.8870 - val_mse: 1666.1057\n"
          ]
        }
      ]
    },
    {
      "cell_type": "markdown",
      "source": [
        "GRU"
      ],
      "metadata": {
        "id": "kHh0g_qPm_bm"
      }
    },
    {
      "cell_type": "code",
      "source": [
        "i=Input(shape=(T,1))\n",
        "x=GRU(200,return_sequences=True)(i)\n",
        "x=GRU(200,return_sequences=True)(x)\n",
        "x=GlobalMaxPooling1D()(x)\n",
        "x=Dense(100)(x)\n",
        "x=Dense(50)(x)\n",
        "x=Dense(1)(x)\n",
        "model_gru=Model(i,x)\n",
        "model_gru.summary"
      ],
      "metadata": {
        "colab": {
          "base_uri": "https://localhost:8080/"
        },
        "id": "H4llpd_HnCsP",
        "outputId": "ed0da1c5-195e-44e7-f02c-486d1e8b4449"
      },
      "execution_count": 84,
      "outputs": [
        {
          "output_type": "execute_result",
          "data": {
            "text/plain": [
              "<bound method Model.summary of <keras.engine.functional.Functional object at 0x7fe98d67bad0>>"
            ]
          },
          "metadata": {},
          "execution_count": 84
        }
      ]
    },
    {
      "cell_type": "code",
      "source": [
        "check_point_gru=ModelCheckpoint('best_model.h5',monitor='val_loss',save_best_only=True)"
      ],
      "metadata": {
        "id": "J4ilpuAHnCxN"
      },
      "execution_count": 85,
      "outputs": []
    },
    {
      "cell_type": "code",
      "source": [
        "model_gru.compile(loss='mse',\n",
        "              optimizer='adamax',\n",
        "              metrics=['mae','mse'])"
      ],
      "metadata": {
        "id": "KE1MOiZknC6g"
      },
      "execution_count": 86,
      "outputs": []
    },
    {
      "cell_type": "code",
      "source": [
        "r=model_gru.fit(\n",
        "    Xtrain,\n",
        "    Ytrain,\n",
        "    epochs=100,\n",
        "    validation_data=(Xtest,Ytest),\n",
        "    callbacks=[check_point_gru]\n",
        ")"
      ],
      "metadata": {
        "colab": {
          "base_uri": "https://localhost:8080/"
        },
        "id": "nfam1HSPnWSf",
        "outputId": "18fa470f-8589-4055-8caa-62739f5e9c20"
      },
      "execution_count": 87,
      "outputs": [
        {
          "output_type": "stream",
          "name": "stdout",
          "text": [
            "Epoch 1/100\n",
            "53/53 [==============================] - 12s 178ms/step - loss: 5294.4536 - mae: 26.5489 - mse: 5294.4536 - val_loss: 913.8152 - val_mae: 12.2808 - val_mse: 913.8152\n",
            "Epoch 2/100\n",
            "53/53 [==============================] - 8s 154ms/step - loss: 5279.4077 - mae: 26.4239 - mse: 5279.4077 - val_loss: 913.0096 - val_mae: 12.2291 - val_mse: 913.0096\n",
            "Epoch 3/100\n",
            "53/53 [==============================] - 8s 155ms/step - loss: 5277.2275 - mae: 26.4611 - mse: 5277.2275 - val_loss: 913.5630 - val_mae: 12.2548 - val_mse: 913.5630\n",
            "Epoch 4/100\n",
            "53/53 [==============================] - 8s 157ms/step - loss: 5272.1274 - mae: 26.3964 - mse: 5272.1274 - val_loss: 915.1064 - val_mae: 12.3124 - val_mse: 915.1064\n",
            "Epoch 5/100\n",
            "53/53 [==============================] - 8s 156ms/step - loss: 5268.6865 - mae: 26.4338 - mse: 5268.6865 - val_loss: 914.0067 - val_mae: 12.2548 - val_mse: 914.0067\n",
            "Epoch 6/100\n",
            "53/53 [==============================] - 8s 153ms/step - loss: 5264.1665 - mae: 26.4374 - mse: 5264.1665 - val_loss: 915.8635 - val_mae: 12.3147 - val_mse: 915.8635\n",
            "Epoch 7/100\n",
            "53/53 [==============================] - 8s 151ms/step - loss: 5254.0664 - mae: 26.4526 - mse: 5254.0664 - val_loss: 912.4784 - val_mae: 12.1528 - val_mse: 912.4784\n",
            "Epoch 8/100\n",
            "53/53 [==============================] - 8s 149ms/step - loss: 5249.3306 - mae: 26.4906 - mse: 5249.3306 - val_loss: 914.4350 - val_mae: 12.1999 - val_mse: 914.4350\n",
            "Epoch 9/100\n",
            "53/53 [==============================] - 8s 150ms/step - loss: 5238.9385 - mae: 26.4146 - mse: 5238.9385 - val_loss: 914.7905 - val_mae: 12.2517 - val_mse: 914.7905\n",
            "Epoch 10/100\n",
            "53/53 [==============================] - 8s 149ms/step - loss: 5230.3687 - mae: 26.5930 - mse: 5230.3687 - val_loss: 921.0107 - val_mae: 12.4147 - val_mse: 921.0107\n",
            "Epoch 11/100\n",
            "53/53 [==============================] - 8s 148ms/step - loss: 5217.2339 - mae: 26.6504 - mse: 5217.2339 - val_loss: 917.4477 - val_mae: 12.3299 - val_mse: 917.4477\n",
            "Epoch 12/100\n",
            "53/53 [==============================] - 8s 151ms/step - loss: 5211.8408 - mae: 26.7712 - mse: 5211.8408 - val_loss: 936.6613 - val_mae: 12.8459 - val_mse: 936.6613\n",
            "Epoch 13/100\n",
            "53/53 [==============================] - 8s 149ms/step - loss: 5198.6729 - mae: 26.6910 - mse: 5198.6729 - val_loss: 922.9873 - val_mae: 12.5325 - val_mse: 922.9873\n",
            "Epoch 14/100\n",
            "53/53 [==============================] - 8s 149ms/step - loss: 5184.6562 - mae: 26.7059 - mse: 5184.6562 - val_loss: 920.1145 - val_mae: 12.4232 - val_mse: 920.1145\n",
            "Epoch 15/100\n",
            "53/53 [==============================] - 8s 149ms/step - loss: 5175.9951 - mae: 26.8716 - mse: 5175.9951 - val_loss: 944.6709 - val_mae: 13.1538 - val_mse: 944.6709\n",
            "Epoch 16/100\n",
            "53/53 [==============================] - 8s 153ms/step - loss: 5168.2192 - mae: 26.9145 - mse: 5168.2192 - val_loss: 926.8810 - val_mae: 12.5990 - val_mse: 926.8810\n",
            "Epoch 17/100\n",
            "53/53 [==============================] - 8s 150ms/step - loss: 5152.7363 - mae: 26.9735 - mse: 5152.7363 - val_loss: 941.7071 - val_mae: 13.0352 - val_mse: 941.7071\n",
            "Epoch 18/100\n",
            "53/53 [==============================] - 8s 148ms/step - loss: 5146.9448 - mae: 26.9397 - mse: 5146.9448 - val_loss: 937.4141 - val_mae: 12.8818 - val_mse: 937.4141\n",
            "Epoch 19/100\n",
            "53/53 [==============================] - 8s 148ms/step - loss: 5126.0898 - mae: 27.0908 - mse: 5126.0898 - val_loss: 950.5737 - val_mae: 13.2597 - val_mse: 950.5737\n",
            "Epoch 20/100\n",
            "53/53 [==============================] - 8s 146ms/step - loss: 5127.4561 - mae: 27.0560 - mse: 5127.4561 - val_loss: 935.3229 - val_mae: 12.7836 - val_mse: 935.3229\n",
            "Epoch 21/100\n",
            "53/53 [==============================] - 8s 151ms/step - loss: 5101.5596 - mae: 27.2919 - mse: 5101.5596 - val_loss: 973.9907 - val_mae: 13.8453 - val_mse: 973.9907\n",
            "Epoch 22/100\n",
            "53/53 [==============================] - 8s 153ms/step - loss: 5098.9478 - mae: 27.1414 - mse: 5098.9478 - val_loss: 947.4795 - val_mae: 13.1305 - val_mse: 947.4795\n",
            "Epoch 23/100\n",
            "53/53 [==============================] - 8s 151ms/step - loss: 5078.0806 - mae: 27.0956 - mse: 5078.0806 - val_loss: 941.7952 - val_mae: 12.9822 - val_mse: 941.7952\n",
            "Epoch 24/100\n",
            "53/53 [==============================] - 8s 155ms/step - loss: 5080.7070 - mae: 27.3765 - mse: 5080.7070 - val_loss: 944.1831 - val_mae: 13.0176 - val_mse: 944.1831\n",
            "Epoch 25/100\n",
            "53/53 [==============================] - 8s 157ms/step - loss: 5073.0552 - mae: 27.1773 - mse: 5073.0552 - val_loss: 943.1580 - val_mae: 13.0364 - val_mse: 943.1580\n",
            "Epoch 26/100\n",
            "53/53 [==============================] - 8s 152ms/step - loss: 5044.0215 - mae: 27.2095 - mse: 5044.0215 - val_loss: 948.8785 - val_mae: 13.1760 - val_mse: 948.8785\n",
            "Epoch 27/100\n",
            "53/53 [==============================] - 8s 148ms/step - loss: 5035.8687 - mae: 27.0318 - mse: 5035.8687 - val_loss: 959.8896 - val_mae: 13.3939 - val_mse: 959.8896\n",
            "Epoch 28/100\n",
            "53/53 [==============================] - 8s 148ms/step - loss: 5030.4204 - mae: 27.2929 - mse: 5030.4204 - val_loss: 1012.5423 - val_mae: 14.7798 - val_mse: 1012.5423\n",
            "Epoch 29/100\n",
            "53/53 [==============================] - 8s 149ms/step - loss: 5007.9922 - mae: 27.1958 - mse: 5007.9922 - val_loss: 962.3312 - val_mae: 13.4960 - val_mse: 962.3312\n",
            "Epoch 30/100\n",
            "53/53 [==============================] - 8s 154ms/step - loss: 4995.1616 - mae: 27.1513 - mse: 4995.1616 - val_loss: 969.1895 - val_mae: 13.9011 - val_mse: 969.1895\n",
            "Epoch 31/100\n",
            "53/53 [==============================] - 8s 148ms/step - loss: 4980.5737 - mae: 27.4718 - mse: 4980.5737 - val_loss: 968.3015 - val_mae: 13.6392 - val_mse: 968.3015\n",
            "Epoch 32/100\n",
            "53/53 [==============================] - 8s 150ms/step - loss: 4958.6963 - mae: 27.6105 - mse: 4958.6963 - val_loss: 955.7631 - val_mae: 13.5951 - val_mse: 955.7631\n",
            "Epoch 33/100\n",
            "53/53 [==============================] - 8s 150ms/step - loss: 4953.6333 - mae: 27.2026 - mse: 4953.6333 - val_loss: 970.5205 - val_mae: 13.7233 - val_mse: 970.5205\n",
            "Epoch 34/100\n",
            "53/53 [==============================] - 8s 149ms/step - loss: 4935.6963 - mae: 27.5527 - mse: 4935.6963 - val_loss: 980.4610 - val_mae: 14.0003 - val_mse: 980.4610\n",
            "Epoch 35/100\n",
            "53/53 [==============================] - 8s 148ms/step - loss: 4912.7339 - mae: 26.9744 - mse: 4912.7339 - val_loss: 971.1649 - val_mae: 13.8822 - val_mse: 971.1649\n",
            "Epoch 36/100\n",
            "53/53 [==============================] - 8s 156ms/step - loss: 4931.8745 - mae: 27.7879 - mse: 4931.8745 - val_loss: 991.5525 - val_mae: 14.1801 - val_mse: 991.5525\n",
            "Epoch 37/100\n",
            "53/53 [==============================] - 8s 151ms/step - loss: 4875.3633 - mae: 27.1160 - mse: 4875.3633 - val_loss: 989.0732 - val_mae: 14.4361 - val_mse: 989.0732\n",
            "Epoch 38/100\n",
            "53/53 [==============================] - 8s 150ms/step - loss: 4889.5171 - mae: 27.6552 - mse: 4889.5171 - val_loss: 987.8474 - val_mae: 14.1404 - val_mse: 987.8474\n",
            "Epoch 39/100\n",
            "53/53 [==============================] - 8s 159ms/step - loss: 4836.8481 - mae: 27.0723 - mse: 4836.8481 - val_loss: 1036.1715 - val_mae: 15.1916 - val_mse: 1036.1715\n",
            "Epoch 40/100\n",
            "53/53 [==============================] - 9s 163ms/step - loss: 4806.4561 - mae: 27.2386 - mse: 4806.4561 - val_loss: 1000.0146 - val_mae: 14.3939 - val_mse: 1000.0146\n",
            "Epoch 41/100\n",
            "53/53 [==============================] - 8s 159ms/step - loss: 4773.9272 - mae: 27.0433 - mse: 4773.9272 - val_loss: 1017.3449 - val_mae: 14.6666 - val_mse: 1017.3449\n",
            "Epoch 42/100\n",
            "53/53 [==============================] - 8s 160ms/step - loss: 4744.0723 - mae: 27.4541 - mse: 4744.0723 - val_loss: 1115.3779 - val_mae: 17.0808 - val_mse: 1115.3779\n",
            "Epoch 43/100\n",
            "53/53 [==============================] - 8s 160ms/step - loss: 4785.8037 - mae: 27.5730 - mse: 4785.8037 - val_loss: 1040.1636 - val_mae: 15.0872 - val_mse: 1040.1636\n",
            "Epoch 44/100\n",
            "53/53 [==============================] - 8s 159ms/step - loss: 4719.3818 - mae: 27.2402 - mse: 4719.3818 - val_loss: 1018.4936 - val_mae: 14.8705 - val_mse: 1018.4936\n",
            "Epoch 45/100\n",
            "53/53 [==============================] - 8s 152ms/step - loss: 4681.8853 - mae: 26.9772 - mse: 4681.8853 - val_loss: 1038.4213 - val_mae: 15.1519 - val_mse: 1038.4213\n",
            "Epoch 46/100\n",
            "53/53 [==============================] - 8s 154ms/step - loss: 4643.4165 - mae: 27.2652 - mse: 4643.4165 - val_loss: 1026.9851 - val_mae: 15.2818 - val_mse: 1026.9851\n",
            "Epoch 47/100\n",
            "53/53 [==============================] - 8s 152ms/step - loss: 4636.9697 - mae: 27.3316 - mse: 4636.9697 - val_loss: 1031.5862 - val_mae: 15.2112 - val_mse: 1031.5862\n",
            "Epoch 48/100\n",
            "53/53 [==============================] - 8s 157ms/step - loss: 4572.3193 - mae: 27.0655 - mse: 4572.3193 - val_loss: 1043.1567 - val_mae: 15.4502 - val_mse: 1043.1567\n",
            "Epoch 49/100\n",
            "53/53 [==============================] - 8s 154ms/step - loss: 4565.0718 - mae: 27.1989 - mse: 4565.0718 - val_loss: 1060.0820 - val_mae: 15.5821 - val_mse: 1060.0820\n",
            "Epoch 50/100\n",
            "53/53 [==============================] - 8s 156ms/step - loss: 4495.8188 - mae: 27.1003 - mse: 4495.8188 - val_loss: 1114.1343 - val_mae: 16.7875 - val_mse: 1114.1343\n",
            "Epoch 51/100\n",
            "53/53 [==============================] - 8s 153ms/step - loss: 4533.8467 - mae: 27.2787 - mse: 4533.8467 - val_loss: 1121.3086 - val_mae: 16.8959 - val_mse: 1121.3086\n",
            "Epoch 52/100\n",
            "53/53 [==============================] - 8s 151ms/step - loss: 4471.0972 - mae: 27.0247 - mse: 4471.0972 - val_loss: 1055.4916 - val_mae: 15.7715 - val_mse: 1055.4916\n",
            "Epoch 53/100\n",
            "53/53 [==============================] - 8s 150ms/step - loss: 4405.0483 - mae: 27.3734 - mse: 4405.0483 - val_loss: 1130.2467 - val_mae: 17.2160 - val_mse: 1130.2467\n",
            "Epoch 54/100\n",
            "53/53 [==============================] - 8s 150ms/step - loss: 4364.5674 - mae: 27.0417 - mse: 4364.5674 - val_loss: 1091.3435 - val_mae: 16.4159 - val_mse: 1091.3435\n",
            "Epoch 55/100\n",
            "53/53 [==============================] - 8s 150ms/step - loss: 4313.7246 - mae: 26.9346 - mse: 4313.7246 - val_loss: 1124.9165 - val_mae: 17.3972 - val_mse: 1124.9165\n",
            "Epoch 56/100\n",
            "53/53 [==============================] - 8s 149ms/step - loss: 4255.8032 - mae: 26.6993 - mse: 4255.8032 - val_loss: 1152.5945 - val_mae: 17.2750 - val_mse: 1152.5945\n",
            "Epoch 57/100\n",
            "53/53 [==============================] - 8s 150ms/step - loss: 4209.2007 - mae: 26.8553 - mse: 4209.2007 - val_loss: 1173.7859 - val_mae: 17.8279 - val_mse: 1173.7859\n",
            "Epoch 58/100\n",
            "53/53 [==============================] - 8s 148ms/step - loss: 4157.7163 - mae: 26.5503 - mse: 4157.7163 - val_loss: 1136.2683 - val_mae: 17.1865 - val_mse: 1136.2683\n",
            "Epoch 59/100\n",
            "53/53 [==============================] - 8s 151ms/step - loss: 4148.1782 - mae: 26.6721 - mse: 4148.1782 - val_loss: 1189.8065 - val_mae: 17.9446 - val_mse: 1189.8065\n",
            "Epoch 60/100\n",
            "53/53 [==============================] - 8s 158ms/step - loss: 4096.9966 - mae: 26.8651 - mse: 4096.9966 - val_loss: 1193.1202 - val_mae: 18.0149 - val_mse: 1193.1202\n",
            "Epoch 61/100\n",
            "53/53 [==============================] - 8s 147ms/step - loss: 3987.9954 - mae: 26.6616 - mse: 3987.9954 - val_loss: 1180.0684 - val_mae: 17.6097 - val_mse: 1180.0684\n",
            "Epoch 62/100\n",
            "53/53 [==============================] - 8s 148ms/step - loss: 3932.7490 - mae: 26.8918 - mse: 3932.7490 - val_loss: 1195.2557 - val_mae: 18.3833 - val_mse: 1195.2557\n",
            "Epoch 63/100\n",
            "53/53 [==============================] - 8s 153ms/step - loss: 3885.7295 - mae: 26.5629 - mse: 3885.7295 - val_loss: 1232.5953 - val_mae: 19.0518 - val_mse: 1232.5953\n",
            "Epoch 64/100\n",
            "53/53 [==============================] - 8s 150ms/step - loss: 3789.4890 - mae: 26.0817 - mse: 3789.4890 - val_loss: 1247.6392 - val_mae: 19.0161 - val_mse: 1247.6392\n",
            "Epoch 65/100\n",
            "53/53 [==============================] - 8s 149ms/step - loss: 3760.1704 - mae: 26.9481 - mse: 3760.1704 - val_loss: 1202.6801 - val_mae: 18.3335 - val_mse: 1202.6801\n",
            "Epoch 66/100\n",
            "53/53 [==============================] - 8s 152ms/step - loss: 3666.2703 - mae: 25.9916 - mse: 3666.2703 - val_loss: 1260.3479 - val_mae: 18.8916 - val_mse: 1260.3479\n",
            "Epoch 67/100\n",
            "53/53 [==============================] - 8s 152ms/step - loss: 3660.9583 - mae: 26.6094 - mse: 3660.9583 - val_loss: 1223.4120 - val_mae: 18.6990 - val_mse: 1223.4120\n",
            "Epoch 68/100\n",
            "53/53 [==============================] - 8s 153ms/step - loss: 3580.0547 - mae: 26.4926 - mse: 3580.0547 - val_loss: 1254.8735 - val_mae: 18.9927 - val_mse: 1254.8735\n",
            "Epoch 69/100\n",
            "53/53 [==============================] - 8s 159ms/step - loss: 3454.8340 - mae: 26.0067 - mse: 3454.8340 - val_loss: 1245.7255 - val_mae: 18.8999 - val_mse: 1245.7255\n",
            "Epoch 70/100\n",
            "53/53 [==============================] - 8s 160ms/step - loss: 3392.7673 - mae: 25.6936 - mse: 3392.7673 - val_loss: 1320.4620 - val_mae: 19.7804 - val_mse: 1320.4620\n",
            "Epoch 71/100\n",
            "53/53 [==============================] - 8s 158ms/step - loss: 3360.6052 - mae: 26.1596 - mse: 3360.6052 - val_loss: 1305.8613 - val_mae: 19.6981 - val_mse: 1305.8613\n",
            "Epoch 72/100\n",
            "53/53 [==============================] - 8s 155ms/step - loss: 3229.8123 - mae: 25.9475 - mse: 3229.8123 - val_loss: 1282.7844 - val_mae: 19.4256 - val_mse: 1282.7844\n",
            "Epoch 73/100\n",
            "53/53 [==============================] - 8s 156ms/step - loss: 3164.5190 - mae: 25.5358 - mse: 3164.5190 - val_loss: 1303.1289 - val_mae: 19.8514 - val_mse: 1303.1289\n",
            "Epoch 74/100\n",
            "53/53 [==============================] - 8s 151ms/step - loss: 3109.8657 - mae: 25.5067 - mse: 3109.8657 - val_loss: 1348.5553 - val_mae: 20.4001 - val_mse: 1348.5553\n",
            "Epoch 75/100\n",
            "53/53 [==============================] - 8s 151ms/step - loss: 3097.0054 - mae: 26.1865 - mse: 3097.0054 - val_loss: 1332.0759 - val_mae: 20.1817 - val_mse: 1332.0759\n",
            "Epoch 76/100\n",
            "53/53 [==============================] - 8s 152ms/step - loss: 2984.5676 - mae: 25.4465 - mse: 2984.5676 - val_loss: 1354.4410 - val_mae: 20.5772 - val_mse: 1354.4410\n",
            "Epoch 77/100\n",
            "53/53 [==============================] - 8s 158ms/step - loss: 2892.1638 - mae: 25.0942 - mse: 2892.1638 - val_loss: 1371.2626 - val_mae: 20.3987 - val_mse: 1371.2626\n",
            "Epoch 78/100\n",
            "53/53 [==============================] - 8s 150ms/step - loss: 2902.2285 - mae: 26.0112 - mse: 2902.2285 - val_loss: 1598.7668 - val_mae: 24.4078 - val_mse: 1598.7668\n",
            "Epoch 79/100\n",
            "53/53 [==============================] - 8s 152ms/step - loss: 2782.9106 - mae: 24.8884 - mse: 2782.9106 - val_loss: 1376.7103 - val_mae: 20.5295 - val_mse: 1376.7103\n",
            "Epoch 80/100\n",
            "53/53 [==============================] - 8s 150ms/step - loss: 2731.4263 - mae: 25.2967 - mse: 2731.4263 - val_loss: 1406.6345 - val_mae: 20.9317 - val_mse: 1406.6345\n",
            "Epoch 81/100\n",
            "53/53 [==============================] - 8s 150ms/step - loss: 2608.8835 - mae: 24.3454 - mse: 2608.8835 - val_loss: 1401.6405 - val_mae: 20.9249 - val_mse: 1401.6405\n",
            "Epoch 82/100\n",
            "53/53 [==============================] - 8s 151ms/step - loss: 2554.6858 - mae: 24.7838 - mse: 2554.6858 - val_loss: 1538.0872 - val_mae: 22.8246 - val_mse: 1538.0872\n",
            "Epoch 83/100\n",
            "53/53 [==============================] - 8s 155ms/step - loss: 2473.4363 - mae: 24.3671 - mse: 2473.4363 - val_loss: 1534.7109 - val_mae: 22.6523 - val_mse: 1534.7109\n",
            "Epoch 84/100\n",
            "53/53 [==============================] - 8s 153ms/step - loss: 2441.4124 - mae: 25.0920 - mse: 2441.4124 - val_loss: 1477.4974 - val_mae: 21.9916 - val_mse: 1477.4974\n",
            "Epoch 85/100\n",
            "53/53 [==============================] - 8s 154ms/step - loss: 2345.9719 - mae: 24.0936 - mse: 2345.9719 - val_loss: 1509.2726 - val_mae: 22.0842 - val_mse: 1509.2726\n",
            "Epoch 86/100\n",
            "53/53 [==============================] - 8s 155ms/step - loss: 2282.8379 - mae: 24.0290 - mse: 2282.8379 - val_loss: 1563.5938 - val_mae: 22.7318 - val_mse: 1563.5938\n",
            "Epoch 87/100\n",
            "53/53 [==============================] - 8s 152ms/step - loss: 2210.0791 - mae: 23.9329 - mse: 2210.0791 - val_loss: 1555.3047 - val_mae: 22.5378 - val_mse: 1555.3047\n",
            "Epoch 88/100\n",
            "53/53 [==============================] - 8s 155ms/step - loss: 2148.6956 - mae: 23.7517 - mse: 2148.6956 - val_loss: 1586.3270 - val_mae: 22.9487 - val_mse: 1586.3270\n",
            "Epoch 89/100\n",
            "53/53 [==============================] - 8s 155ms/step - loss: 2188.9751 - mae: 24.9725 - mse: 2188.9751 - val_loss: 1627.2128 - val_mae: 23.6237 - val_mse: 1627.2128\n",
            "Epoch 90/100\n",
            "53/53 [==============================] - 8s 151ms/step - loss: 2051.4036 - mae: 23.7948 - mse: 2051.4036 - val_loss: 1559.8202 - val_mae: 22.7260 - val_mse: 1559.8202\n",
            "Epoch 91/100\n",
            "53/53 [==============================] - 8s 151ms/step - loss: 1995.9768 - mae: 23.9439 - mse: 1995.9768 - val_loss: 1561.2446 - val_mae: 22.7070 - val_mse: 1561.2446\n",
            "Epoch 92/100\n",
            "53/53 [==============================] - 8s 151ms/step - loss: 1907.6798 - mae: 23.2828 - mse: 1907.6798 - val_loss: 1654.2406 - val_mae: 23.7298 - val_mse: 1654.2406\n",
            "Epoch 93/100\n",
            "53/53 [==============================] - 8s 154ms/step - loss: 1815.1581 - mae: 22.6632 - mse: 1815.1581 - val_loss: 1691.9683 - val_mae: 24.4540 - val_mse: 1691.9683\n",
            "Epoch 94/100\n",
            "53/53 [==============================] - 8s 153ms/step - loss: 1805.7885 - mae: 23.3473 - mse: 1805.7885 - val_loss: 1634.0480 - val_mae: 23.5982 - val_mse: 1634.0480\n",
            "Epoch 95/100\n",
            "53/53 [==============================] - 8s 154ms/step - loss: 1733.0156 - mae: 22.5514 - mse: 1733.0156 - val_loss: 1765.1700 - val_mae: 24.8748 - val_mse: 1765.1700\n",
            "Epoch 96/100\n",
            "53/53 [==============================] - 8s 152ms/step - loss: 1669.3545 - mae: 22.4328 - mse: 1669.3545 - val_loss: 1800.3170 - val_mae: 25.9428 - val_mse: 1800.3170\n",
            "Epoch 97/100\n",
            "53/53 [==============================] - 8s 152ms/step - loss: 1616.6097 - mae: 22.4162 - mse: 1616.6097 - val_loss: 1679.2228 - val_mae: 24.2797 - val_mse: 1679.2228\n",
            "Epoch 98/100\n",
            "53/53 [==============================] - 8s 149ms/step - loss: 1599.4174 - mae: 22.7392 - mse: 1599.4174 - val_loss: 1834.3108 - val_mae: 26.1328 - val_mse: 1834.3108\n",
            "Epoch 99/100\n",
            "53/53 [==============================] - 8s 150ms/step - loss: 1530.2654 - mae: 22.3584 - mse: 1530.2654 - val_loss: 1704.7705 - val_mae: 24.3611 - val_mse: 1704.7705\n",
            "Epoch 100/100\n",
            "53/53 [==============================] - 8s 150ms/step - loss: 1485.4349 - mae: 22.3331 - mse: 1485.4349 - val_loss: 1879.7839 - val_mae: 26.3574 - val_mse: 1879.7839\n"
          ]
        }
      ]
    },
    {
      "cell_type": "markdown",
      "source": [
        "Predictions"
      ],
      "metadata": {
        "id": "hjVQsanxpHma"
      }
    },
    {
      "cell_type": "code",
      "source": [
        "train_idx[:T+1]=False"
      ],
      "metadata": {
        "id": "f1Llph9XdeVY"
      },
      "execution_count": 88,
      "outputs": []
    },
    {
      "cell_type": "code",
      "source": [
        "Ptrain_ann=model_ann.predict(Xtrain).flatten()\n",
        "Ptest_ann=model_ann.predict(Xtest).flatten()\n"
      ],
      "metadata": {
        "id": "96WR1e3Sdgle"
      },
      "execution_count": 89,
      "outputs": []
    },
    {
      "cell_type": "code",
      "source": [
        "Ptrain_cnn=model_cnn.predict(Xtrain).flatten()\n",
        "Ptest_cnn=model_cnn.predict(Xtest).flatten()"
      ],
      "metadata": {
        "id": "Pc5bF6Z_gUGI"
      },
      "execution_count": 90,
      "outputs": []
    },
    {
      "cell_type": "code",
      "source": [
        "Ptrain_lstm=model_lstm.predict(Xtrain).flatten()\n",
        "Ptest_lstm=model_lstm.predict(Xtest).flatten()"
      ],
      "metadata": {
        "id": "LWhMPuCvjAIS"
      },
      "execution_count": 91,
      "outputs": []
    },
    {
      "cell_type": "code",
      "source": [
        "Ptrain_gru=model_gru.predict(Xtrain).flatten()\n",
        "Ptest_gru=model_gru.predict(Xtest).flatten()"
      ],
      "metadata": {
        "id": "znvUQWrKnmIj"
      },
      "execution_count": 92,
      "outputs": []
    },
    {
      "cell_type": "code",
      "source": [
        "df.loc[train_idx,'Diff ANN train prediction']=Ptrain_ann\n",
        "df.loc[test_idx,'Diff ANN test prediction']=Ptest_ann"
      ],
      "metadata": {
        "id": "L7p_peucdjgP"
      },
      "execution_count": 93,
      "outputs": []
    },
    {
      "cell_type": "code",
      "source": [
        "df.loc[train_idx,'Diff CNN train prediction']=Ptrain_cnn\n",
        "df.loc[test_idx,'Diff CNN test prediction']=Ptest_cnn"
      ],
      "metadata": {
        "id": "YcnY5nc6gaG6"
      },
      "execution_count": 94,
      "outputs": []
    },
    {
      "cell_type": "code",
      "source": [
        "df.loc[train_idx,'Diff LSTM train prediction']=Ptrain_lstm\n",
        "df.loc[test_idx,'Diff LSTM test prediction']=Ptest_lstm"
      ],
      "metadata": {
        "id": "8p_92fO6jTpW"
      },
      "execution_count": 95,
      "outputs": []
    },
    {
      "cell_type": "code",
      "source": [
        "df.loc[train_idx,'Diff GRU train prediction']=Ptrain_gru\n",
        "df.loc[test_idx,'Diff GRU test prediction']=Ptest_gru"
      ],
      "metadata": {
        "id": "nmUC4sKpnsIl"
      },
      "execution_count": 96,
      "outputs": []
    },
    {
      "cell_type": "code",
      "source": [
        "df['Shift Prev Close']=df['Prev Close'].shift(1)\n",
        "prev=df['Shift Prev Close']"
      ],
      "metadata": {
        "id": "Ea7RmDuJdpgz"
      },
      "execution_count": 97,
      "outputs": []
    },
    {
      "cell_type": "code",
      "source": [
        "last_train=train.iloc[-1]['Prev Close']"
      ],
      "metadata": {
        "id": "hrhOEI3fduRI"
      },
      "execution_count": 98,
      "outputs": []
    },
    {
      "cell_type": "code",
      "source": [
        "df.loc[train_idx,'train_ANN']=prev[train_idx]+Ptrain_ann\n",
        "df.loc[test_idx,'Prediction_ANN']=prev[test_idx]+Ptest_ann"
      ],
      "metadata": {
        "id": "h0UpXNAXd0Uy"
      },
      "execution_count": 99,
      "outputs": []
    },
    {
      "cell_type": "code",
      "source": [
        "df.loc[train_idx,'train_CNN']=prev[train_idx]+Ptrain_cnn\n",
        "df.loc[test_idx,'Prediction_CNN']=prev[test_idx]+Ptest_cnn"
      ],
      "metadata": {
        "id": "EUYdfUqdg5Tu"
      },
      "execution_count": 100,
      "outputs": []
    },
    {
      "cell_type": "code",
      "source": [
        "df.loc[train_idx,'train_LSTM']=prev[train_idx]+Ptrain_lstm\n",
        "df.loc[test_idx,'Prediction_LSTM']=prev[test_idx]+Ptest_lstm"
      ],
      "metadata": {
        "id": "Na8TIloyjc_Z"
      },
      "execution_count": 101,
      "outputs": []
    },
    {
      "cell_type": "code",
      "source": [
        "df.loc[train_idx,'train_GRU']=prev[train_idx]+Ptrain_gru\n",
        "df.loc[test_idx,'Prediction_GRU']=prev[test_idx]+Ptest_gru"
      ],
      "metadata": {
        "id": "qSL8wEeqnzrM"
      },
      "execution_count": 102,
      "outputs": []
    },
    {
      "cell_type": "code",
      "source": [
        "df[[ 'Prev Close','Prediction_CNN','Prediction_ANN','Prediction_LSTM','Prediction_GRU']].plot(figsize=(15,10));"
      ],
      "metadata": {
        "colab": {
          "base_uri": "https://localhost:8080/",
          "height": 416
        },
        "id": "hItPmrHOd45G",
        "outputId": "2bf25110-3863-46b2-ac5f-ae24d432d3cb"
      },
      "execution_count": 103,
      "outputs": [
        {
          "output_type": "display_data",
          "data": {
            "text/plain": [
              "<Figure size 1080x720 with 1 Axes>"
            ],
            "image/png": "[encoded data removed]"
          },
          "metadata": {
            "needs_background": "light"
          }
        }
      ]
    },
    {
      "cell_type": "code",
      "source": [
        "df[[ 'Prediction_CNN','Prediction_ANN','Prediction_LSTM','Prediction_GRU']].plot(figsize=(15,10),\n",
        "    ylabel=(\"Previous Close\"));"
      ],
      "metadata": {
        "colab": {
          "base_uri": "https://localhost:8080/",
          "height": 416
        },
        "id": "8nDh9SzUd7Em",
        "outputId": "33ea210d-a317-4cda-ddcd-1afe3a64ebcb"
      },
      "execution_count": 104,
      "outputs": [
        {
          "output_type": "display_data",
          "data": {
            "text/plain": [
              "<Figure size 1080x720 with 1 Axes>"
            ],
            "image/png": "[encoded data removed]"
          },
          "metadata": {
            "needs_background": "light"
          }
        }
      ]
    },
    {
      "cell_type": "markdown",
      "source": [
        "Evaluation"
      ],
      "metadata": {
        "id": "rSXUYSDdpMP7"
      }
    },
    {
      "cell_type": "code",
      "source": [
        "pred_ann=df['Prediction_ANN']\n",
        "pred_ann.dropna(inplace=True)"
      ],
      "metadata": {
        "id": "NdOUWgEhoKjf"
      },
      "execution_count": 105,
      "outputs": []
    },
    {
      "cell_type": "code",
      "source": [
        "rmse=math.sqrt(mean_squared_error(test['Prev Close'],pred_ann))\n",
        "print(rmse)"
      ],
      "metadata": {
        "colab": {
          "base_uri": "https://localhost:8080/"
        },
        "id": "nsTCBQ6mpdH0",
        "outputId": "745d3f68-b67e-486f-e7dd-286e5df40a2c"
      },
      "execution_count": 106,
      "outputs": [
        {
          "output_type": "stream",
          "name": "stdout",
          "text": [
            "30.2209785632345\n"
          ]
        }
      ]
    },
    {
      "cell_type": "code",
      "source": [
        "error=mean_absolute_error(test['Prev Close'],pred_ann)\n",
        "print(error)"
      ],
      "metadata": {
        "colab": {
          "base_uri": "https://localhost:8080/"
        },
        "id": "iIAQHD7DpgVL",
        "outputId": "4a245650-2380-4237-d371-f29589d235cb"
      },
      "execution_count": 107,
      "outputs": [
        {
          "output_type": "stream",
          "name": "stdout",
          "text": [
            "12.278482685738503\n"
          ]
        }
      ]
    },
    {
      "cell_type": "code",
      "source": [
        "r2_score(test['Prev Close'],pred_ann)"
      ],
      "metadata": {
        "colab": {
          "base_uri": "https://localhost:8080/"
        },
        "id": "-0ZfJE4zplqz",
        "outputId": "8ed9b0bf-8b07-42a6-c48f-d4ce6e83d23e"
      },
      "execution_count": 108,
      "outputs": [
        {
          "output_type": "execute_result",
          "data": {
            "text/plain": [
              "0.9821604202395332"
            ]
          },
          "metadata": {},
          "execution_count": 108
        }
      ]
    },
    {
      "cell_type": "code",
      "source": [
        "pred_cnn=df['Prediction_CNN']\n",
        "pred_cnn.dropna(inplace=True)"
      ],
      "metadata": {
        "id": "NQ3y6NwzppdW"
      },
      "execution_count": 109,
      "outputs": []
    },
    {
      "cell_type": "code",
      "source": [
        "rmse=math.sqrt(mean_squared_error(test['Prev Close'],pred_cnn))\n",
        "print(rmse)"
      ],
      "metadata": {
        "colab": {
          "base_uri": "https://localhost:8080/"
        },
        "id": "2t7Fu7N-p9ql",
        "outputId": "07b07e64-edc4-4039-a93a-fac648a8ee14"
      },
      "execution_count": 110,
      "outputs": [
        {
          "output_type": "stream",
          "name": "stdout",
          "text": [
            "30.195175916573493\n"
          ]
        }
      ]
    },
    {
      "cell_type": "code",
      "source": [
        "error=mean_absolute_error(test['Prev Close'],pred_cnn)\n",
        "print(error)"
      ],
      "metadata": {
        "colab": {
          "base_uri": "https://localhost:8080/"
        },
        "id": "fCxfXZ3Cp92i",
        "outputId": "d50ebdfe-5661-4c50-fd30-e6179b0cefb6"
      },
      "execution_count": 111,
      "outputs": [
        {
          "output_type": "stream",
          "name": "stdout",
          "text": [
            "12.460926981777964\n"
          ]
        }
      ]
    },
    {
      "cell_type": "code",
      "source": [
        "r2_score(test['Prev Close'],pred_cnn)"
      ],
      "metadata": {
        "colab": {
          "base_uri": "https://localhost:8080/"
        },
        "id": "B1yNq5Vyp-Fv",
        "outputId": "2b38cb41-29ad-45c0-f6a7-fed59c4fb210"
      },
      "execution_count": 112,
      "outputs": [
        {
          "output_type": "execute_result",
          "data": {
            "text/plain": [
              "0.9821908700720375"
            ]
          },
          "metadata": {},
          "execution_count": 112
        }
      ]
    },
    {
      "cell_type": "code",
      "source": [
        "pred_lstm=df['Prediction_LSTM']\n",
        "pred_lstm.dropna(inplace=True)"
      ],
      "metadata": {
        "id": "2JHbSsrypzko"
      },
      "execution_count": 113,
      "outputs": []
    },
    {
      "cell_type": "code",
      "source": [
        "rmse=math.sqrt(mean_squared_error(test['Prev Close'],pred_lstm))\n",
        "print(rmse)"
      ],
      "metadata": {
        "colab": {
          "base_uri": "https://localhost:8080/"
        },
        "id": "UXSSQRxQp-35",
        "outputId": "a916f8f8-cd9a-41be-a674-74c018ca39f5"
      },
      "execution_count": 114,
      "outputs": [
        {
          "output_type": "stream",
          "name": "stdout",
          "text": [
            "40.81795851884317\n"
          ]
        }
      ]
    },
    {
      "cell_type": "code",
      "source": [
        "error=mean_absolute_error(test['Prev Close'],pred_lstm)\n",
        "print(error)"
      ],
      "metadata": {
        "colab": {
          "base_uri": "https://localhost:8080/"
        },
        "id": "h9VZ6Odxp-9o",
        "outputId": "ad846d09-98ff-42e3-c009-ce61058beefa"
      },
      "execution_count": 115,
      "outputs": [
        {
          "output_type": "stream",
          "name": "stdout",
          "text": [
            "24.886997511540194\n"
          ]
        }
      ]
    },
    {
      "cell_type": "code",
      "source": [
        "r2_score(test['Prev Close'],pred_lstm)"
      ],
      "metadata": {
        "colab": {
          "base_uri": "https://localhost:8080/"
        },
        "id": "X7FH8enup_D3",
        "outputId": "dd3f9df0-4af6-4c8a-b6d3-3ae53ebc192a"
      },
      "execution_count": 116,
      "outputs": [
        {
          "output_type": "execute_result",
          "data": {
            "text/plain": [
              "0.9674560597375661"
            ]
          },
          "metadata": {},
          "execution_count": 116
        }
      ]
    },
    {
      "cell_type": "code",
      "source": [
        "pred_gru=df['Prediction_GRU']\n",
        "pred_gru.dropna(inplace=True)"
      ],
      "metadata": {
        "id": "i3IdPEAWp4iD"
      },
      "execution_count": 117,
      "outputs": []
    },
    {
      "cell_type": "code",
      "source": [
        "rmse=math.sqrt(mean_squared_error(test['Prev Close'],pred_gru))\n",
        "print(rmse)"
      ],
      "metadata": {
        "colab": {
          "base_uri": "https://localhost:8080/"
        },
        "id": "XuZAIPTEp_iy",
        "outputId": "58ed4656-8db7-4209-f33e-16422b2b3c4e"
      },
      "execution_count": 118,
      "outputs": [
        {
          "output_type": "stream",
          "name": "stdout",
          "text": [
            "43.35648093638985\n"
          ]
        }
      ]
    },
    {
      "cell_type": "code",
      "source": [
        "error=mean_absolute_error(test['Prev Close'],pred_gru)\n",
        "print(error)"
      ],
      "metadata": {
        "colab": {
          "base_uri": "https://localhost:8080/"
        },
        "id": "eo7EZVIop_np",
        "outputId": "060bf68a-fac5-4b46-8517-02c000018ad7"
      },
      "execution_count": 119,
      "outputs": [
        {
          "output_type": "stream",
          "name": "stdout",
          "text": [
            "26.35736902669814\n"
          ]
        }
      ]
    },
    {
      "cell_type": "code",
      "source": [
        "r2_score(test['Prev Close'],pred_gru)"
      ],
      "metadata": {
        "colab": {
          "base_uri": "https://localhost:8080/"
        },
        "id": "AQIh6l51p_so",
        "outputId": "62ddd156-3373-40fb-a204-d215b2aa0b6f"
      },
      "execution_count": 120,
      "outputs": [
        {
          "output_type": "execute_result",
          "data": {
            "text/plain": [
              "0.9632822868843813"
            ]
          },
          "metadata": {},
          "execution_count": 120
        }
      ]
    },
    {
      "cell_type": "code",
      "source": [],
      "metadata": {
        "id": "gjfmkSgjqcjO"
      },
      "execution_count": 120,
      "outputs": []
    }
  ]
}