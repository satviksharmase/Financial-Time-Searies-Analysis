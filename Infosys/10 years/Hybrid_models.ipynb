{
  "nbformat": 4,
  "nbformat_minor": 0,
  "metadata": {
    "colab": {
      "provenance": []
    },
    "kernelspec": {
      "name": "python3",
      "display_name": "Python 3"
    },
    "language_info": {
      "name": "python"
    }
  },
  "cells": [
    {
      "cell_type": "code",
      "execution_count": 93,
      "metadata": {
        "id": "dpI-f41n9Ofc"
      },
      "outputs": [],
      "source": [
        "import pandas as pd\n",
        "import numpy as np\n",
        "import matplotlib.pyplot as plt\n",
        "\n",
        "import tensorflow as tf\n",
        "from tensorflow.keras.layers import Dense, Input, GlobalMaxPool1D, LSTM, GRU\n",
        "from tensorflow.keras.layers import Conv1D, MaxPooling1D\n",
        "from tensorflow.keras.models import Model\n",
        "from tensorflow.keras.callbacks import ModelCheckpoint\n",
        "\n",
        "import math\n",
        "\n",
        "from sklearn.metrics import r2_score\n",
        "from sklearn.metrics import mean_absolute_error\n",
        "from sklearn.metrics import mean_squared_error\n",
        "\n",
        "np.random.seed(123)\n",
        "tf.random.set_seed(123)"
      ]
    },
    {
      "cell_type": "code",
      "source": [
        "df=pd.read_csv('./INFY.csv',index_col='Date',parse_dates=True)"
      ],
      "metadata": {
        "id": "tRrBpF6O9Rch"
      },
      "execution_count": 94,
      "outputs": []
    },
    {
      "cell_type": "code",
      "source": [
        "df"
      ],
      "metadata": {
        "colab": {
          "base_uri": "https://localhost:8080/",
          "height": 710
        },
        "id": "ZHKVPajo9cUs",
        "outputId": "79e4110c-6b8d-4c69-8336-af0a4e6adad8"
      },
      "execution_count": 95,
      "outputs": [
        {
          "output_type": "execute_result",
          "data": {
            "text/plain": [
              "                Symbol Series  Prev Close      Open      High       Low  \\\n",
              "Date                                                                      \n",
              "2000-01-03  INFOSYSTCH     EQ    14467.75  15625.00  15625.20  15625.00   \n",
              "2000-01-04  INFOSYSTCH     EQ    15625.20  16800.00  16875.25  16253.00   \n",
              "2000-01-05  INFOSYSTCH     EQ    16855.90  15701.00  16250.00  15507.45   \n",
              "2000-01-06  INFOSYSTCH     EQ    15507.45  15256.65  15300.00  14266.85   \n",
              "2000-01-07  INFOSYSTCH     EQ    14266.85  13125.50  13125.50  13125.50   \n",
              "...                ...    ...         ...       ...       ...       ...   \n",
              "2021-04-26        INFY     EQ     1333.80   1332.25   1351.30   1321.00   \n",
              "2021-04-27        INFY     EQ     1343.55   1346.00   1353.00   1340.15   \n",
              "2021-04-28        INFY     EQ     1348.50   1358.00   1359.50   1344.60   \n",
              "2021-04-29        INFY     EQ     1356.00   1368.00   1369.00   1351.40   \n",
              "2021-04-30        INFY     EQ     1356.35   1346.30   1373.90   1345.90   \n",
              "\n",
              "                Last     Close      VWAP   Volume      Turnover    Trades  \\\n",
              "Date                                                                        \n",
              "2000-01-03  15625.20  15625.20  15625.18     5137  8.026657e+12       NaN   \n",
              "2000-01-04  16875.25  16855.90  16646.38    56186  9.352937e+13       NaN   \n",
              "2000-01-05  15507.45  15507.45  15786.38   164605  2.598516e+14       NaN   \n",
              "2000-01-06  14266.85  14266.85  14462.82    81997  1.185908e+14       NaN   \n",
              "2000-01-07  13125.50  13125.50  13125.50     7589  9.960942e+12       NaN   \n",
              "...              ...       ...       ...      ...           ...       ...   \n",
              "2021-04-26   1345.00   1343.55   1343.19  7088606  9.521361e+14  130375.0   \n",
              "2021-04-27   1347.50   1348.50   1346.89  3636115  4.897445e+14  145974.0   \n",
              "2021-04-28   1355.80   1356.00   1353.45  4879234  6.603778e+14  137376.0   \n",
              "2021-04-29   1356.00   1356.35   1360.05  5412357  7.361090e+14  119277.0   \n",
              "2021-04-30   1348.60   1354.35   1361.16  8354677  1.137203e+15  131718.0   \n",
              "\n",
              "            Deliverable Volume  %Deliverble  \n",
              "Date                                         \n",
              "2000-01-03                 NaN          NaN  \n",
              "2000-01-04                 NaN          NaN  \n",
              "2000-01-05                 NaN          NaN  \n",
              "2000-01-06                 NaN          NaN  \n",
              "2000-01-07                 NaN          NaN  \n",
              "...                        ...          ...  \n",
              "2021-04-26           4218129.0       0.5951  \n",
              "2021-04-27           1871084.0       0.5146  \n",
              "2021-04-28           2857134.0       0.5856  \n",
              "2021-04-29           3130945.0       0.5785  \n",
              "2021-04-30           5408113.0       0.6473  \n",
              "\n",
              "[5306 rows x 14 columns]"
            ],
            "text/html": [
              "\n",
              "  <div id=\"df-7d2accb2-1be5-4f83-ad71-09094721b06c\">\n",
              "    <div class=\"colab-df-container\">\n",
              "      <div>\n",
              "<style scoped>\n",
              "    .dataframe tbody tr th:only-of-type {\n",
              "        vertical-align: middle;\n",
              "    }\n",
              "\n",
              "    .dataframe tbody tr th {\n",
              "        vertical-align: top;\n",
              "    }\n",
              "\n",
              "    .dataframe thead th {\n",
              "        text-align: right;\n",
              "    }\n",
              "</style>\n",
              "<table border=\"1\" class=\"dataframe\">\n",
              "  <thead>\n",
              "    <tr style=\"text-align: right;\">\n",
              "      <th></th>\n",
              "      <th>Symbol</th>\n",
              "      <th>Series</th>\n",
              "      <th>Prev Close</th>\n",
              "      <th>Open</th>\n",
              "      <th>High</th>\n",
              "      <th>Low</th>\n",
              "      <th>Last</th>\n",
              "      <th>Close</th>\n",
              "      <th>VWAP</th>\n",
              "      <th>Volume</th>\n",
              "      <th>Turnover</th>\n",
              "      <th>Trades</th>\n",
              "      <th>Deliverable Volume</th>\n",
              "      <th>%Deliverble</th>\n",
              "    </tr>\n",
              "    <tr>\n",
              "      <th>Date</th>\n",
              "      <th></th>\n",
              "      <th></th>\n",
              "      <th></th>\n",
              "      <th></th>\n",
              "      <th></th>\n",
              "      <th></th>\n",
              "      <th></th>\n",
              "      <th></th>\n",
              "      <th></th>\n",
              "      <th></th>\n",
              "      <th></th>\n",
              "      <th></th>\n",
              "      <th></th>\n",
              "      <th></th>\n",
              "    </tr>\n",
              "  </thead>\n",
              "  <tbody>\n",
              "    <tr>\n",
              "      <th>2000-01-03</th>\n",
              "      <td>INFOSYSTCH</td>\n",
              "      <td>EQ</td>\n",
              "      <td>14467.75</td>\n",
              "      <td>15625.00</td>\n",
              "      <td>15625.20</td>\n",
              "      <td>15625.00</td>\n",
              "      <td>15625.20</td>\n",
              "      <td>15625.20</td>\n",
              "      <td>15625.18</td>\n",
              "      <td>5137</td>\n",
              "      <td>8.026657e+12</td>\n",
              "      <td>NaN</td>\n",
              "      <td>NaN</td>\n",
              "      <td>NaN</td>\n",
              "    </tr>\n",
              "    <tr>\n",
              "      <th>2000-01-04</th>\n",
              "      <td>INFOSYSTCH</td>\n",
              "      <td>EQ</td>\n",
              "      <td>15625.20</td>\n",
              "      <td>16800.00</td>\n",
              "      <td>16875.25</td>\n",
              "      <td>16253.00</td>\n",
              "      <td>16875.25</td>\n",
              "      <td>16855.90</td>\n",
              "      <td>16646.38</td>\n",
              "      <td>56186</td>\n",
              "      <td>9.352937e+13</td>\n",
              "      <td>NaN</td>\n",
              "      <td>NaN</td>\n",
              "      <td>NaN</td>\n",
              "    </tr>\n",
              "    <tr>\n",
              "      <th>2000-01-05</th>\n",
              "      <td>INFOSYSTCH</td>\n",
              "      <td>EQ</td>\n",
              "      <td>16855.90</td>\n",
              "      <td>15701.00</td>\n",
              "      <td>16250.00</td>\n",
              "      <td>15507.45</td>\n",
              "      <td>15507.45</td>\n",
              "      <td>15507.45</td>\n",
              "      <td>15786.38</td>\n",
              "      <td>164605</td>\n",
              "      <td>2.598516e+14</td>\n",
              "      <td>NaN</td>\n",
              "      <td>NaN</td>\n",
              "      <td>NaN</td>\n",
              "    </tr>\n",
              "    <tr>\n",
              "      <th>2000-01-06</th>\n",
              "      <td>INFOSYSTCH</td>\n",
              "      <td>EQ</td>\n",
              "      <td>15507.45</td>\n",
              "      <td>15256.65</td>\n",
              "      <td>15300.00</td>\n",
              "      <td>14266.85</td>\n",
              "      <td>14266.85</td>\n",
              "      <td>14266.85</td>\n",
              "      <td>14462.82</td>\n",
              "      <td>81997</td>\n",
              "      <td>1.185908e+14</td>\n",
              "      <td>NaN</td>\n",
              "      <td>NaN</td>\n",
              "      <td>NaN</td>\n",
              "    </tr>\n",
              "    <tr>\n",
              "      <th>2000-01-07</th>\n",
              "      <td>INFOSYSTCH</td>\n",
              "      <td>EQ</td>\n",
              "      <td>14266.85</td>\n",
              "      <td>13125.50</td>\n",
              "      <td>13125.50</td>\n",
              "      <td>13125.50</td>\n",
              "      <td>13125.50</td>\n",
              "      <td>13125.50</td>\n",
              "      <td>13125.50</td>\n",
              "      <td>7589</td>\n",
              "      <td>9.960942e+12</td>\n",
              "      <td>NaN</td>\n",
              "      <td>NaN</td>\n",
              "      <td>NaN</td>\n",
              "    </tr>\n",
              "    <tr>\n",
              "      <th>...</th>\n",
              "      <td>...</td>\n",
              "      <td>...</td>\n",
              "      <td>...</td>\n",
              "      <td>...</td>\n",
              "      <td>...</td>\n",
              "      <td>...</td>\n",
              "      <td>...</td>\n",
              "      <td>...</td>\n",
              "      <td>...</td>\n",
              "      <td>...</td>\n",
              "      <td>...</td>\n",
              "      <td>...</td>\n",
              "      <td>...</td>\n",
              "      <td>...</td>\n",
              "    </tr>\n",
              "    <tr>\n",
              "      <th>2021-04-26</th>\n",
              "      <td>INFY</td>\n",
              "      <td>EQ</td>\n",
              "      <td>1333.80</td>\n",
              "      <td>1332.25</td>\n",
              "      <td>1351.30</td>\n",
              "      <td>1321.00</td>\n",
              "      <td>1345.00</td>\n",
              "      <td>1343.55</td>\n",
              "      <td>1343.19</td>\n",
              "      <td>7088606</td>\n",
              "      <td>9.521361e+14</td>\n",
              "      <td>130375.0</td>\n",
              "      <td>4218129.0</td>\n",
              "      <td>0.5951</td>\n",
              "    </tr>\n",
              "    <tr>\n",
              "      <th>2021-04-27</th>\n",
              "      <td>INFY</td>\n",
              "      <td>EQ</td>\n",
              "      <td>1343.55</td>\n",
              "      <td>1346.00</td>\n",
              "      <td>1353.00</td>\n",
              "      <td>1340.15</td>\n",
              "      <td>1347.50</td>\n",
              "      <td>1348.50</td>\n",
              "      <td>1346.89</td>\n",
              "      <td>3636115</td>\n",
              "      <td>4.897445e+14</td>\n",
              "      <td>145974.0</td>\n",
              "      <td>1871084.0</td>\n",
              "      <td>0.5146</td>\n",
              "    </tr>\n",
              "    <tr>\n",
              "      <th>2021-04-28</th>\n",
              "      <td>INFY</td>\n",
              "      <td>EQ</td>\n",
              "      <td>1348.50</td>\n",
              "      <td>1358.00</td>\n",
              "      <td>1359.50</td>\n",
              "      <td>1344.60</td>\n",
              "      <td>1355.80</td>\n",
              "      <td>1356.00</td>\n",
              "      <td>1353.45</td>\n",
              "      <td>4879234</td>\n",
              "      <td>6.603778e+14</td>\n",
              "      <td>137376.0</td>\n",
              "      <td>2857134.0</td>\n",
              "      <td>0.5856</td>\n",
              "    </tr>\n",
              "    <tr>\n",
              "      <th>2021-04-29</th>\n",
              "      <td>INFY</td>\n",
              "      <td>EQ</td>\n",
              "      <td>1356.00</td>\n",
              "      <td>1368.00</td>\n",
              "      <td>1369.00</td>\n",
              "      <td>1351.40</td>\n",
              "      <td>1356.00</td>\n",
              "      <td>1356.35</td>\n",
              "      <td>1360.05</td>\n",
              "      <td>5412357</td>\n",
              "      <td>7.361090e+14</td>\n",
              "      <td>119277.0</td>\n",
              "      <td>3130945.0</td>\n",
              "      <td>0.5785</td>\n",
              "    </tr>\n",
              "    <tr>\n",
              "      <th>2021-04-30</th>\n",
              "      <td>INFY</td>\n",
              "      <td>EQ</td>\n",
              "      <td>1356.35</td>\n",
              "      <td>1346.30</td>\n",
              "      <td>1373.90</td>\n",
              "      <td>1345.90</td>\n",
              "      <td>1348.60</td>\n",
              "      <td>1354.35</td>\n",
              "      <td>1361.16</td>\n",
              "      <td>8354677</td>\n",
              "      <td>1.137203e+15</td>\n",
              "      <td>131718.0</td>\n",
              "      <td>5408113.0</td>\n",
              "      <td>0.6473</td>\n",
              "    </tr>\n",
              "  </tbody>\n",
              "</table>\n",
              "<p>5306 rows × 14 columns</p>\n",
              "</div>\n",
              "      <button class=\"colab-df-convert\" onclick=\"convertToInteractive('df-7d2accb2-1be5-4f83-ad71-09094721b06c')\"\n",
              "              title=\"Convert this dataframe to an interactive table.\"\n",
              "              style=\"display:none;\">\n",
              "        \n",
              "  <svg xmlns=\"http://www.w3.org/2000/svg\" height=\"24px\"viewBox=\"0 0 24 24\"\n",
              "       width=\"24px\">\n",
              "    <path d=\"M0 0h24v24H0V0z\" fill=\"none\"/>\n",
              "    <path d=\"M18.56 5.44l.94 2.06.94-2.06 2.06-.94-2.06-.94-.94-2.06-.94 2.06-2.06.94zm-11 1L8.5 8.5l.94-2.06 2.06-.94-2.06-.94L8.5 2.5l-.94 2.06-2.06.94zm10 10l.94 2.06.94-2.06 2.06-.94-2.06-.94-.94-2.06-.94 2.06-2.06.94z\"/><path d=\"M17.41 7.96l-1.37-1.37c-.4-.4-.92-.59-1.43-.59-.52 0-1.04.2-1.43.59L10.3 9.45l-7.72 7.72c-.78.78-.78 2.05 0 2.83L4 21.41c.39.39.9.59 1.41.59.51 0 1.02-.2 1.41-.59l7.78-7.78 2.81-2.81c.8-.78.8-2.07 0-2.86zM5.41 20L4 18.59l7.72-7.72 1.47 1.35L5.41 20z\"/>\n",
              "  </svg>\n",
              "      </button>\n",
              "      \n",
              "  <style>\n",
              "    .colab-df-container {\n",
              "      display:flex;\n",
              "      flex-wrap:wrap;\n",
              "      gap: 12px;\n",
              "    }\n",
              "\n",
              "    .colab-df-convert {\n",
              "      background-color: #E8F0FE;\n",
              "      border: none;\n",
              "      border-radius: 50%;\n",
              "      cursor: pointer;\n",
              "      display: none;\n",
              "      fill: #1967D2;\n",
              "      height: 32px;\n",
              "      padding: 0 0 0 0;\n",
              "      width: 32px;\n",
              "    }\n",
              "\n",
              "    .colab-df-convert:hover {\n",
              "      background-color: #E2EBFA;\n",
              "      box-shadow: 0px 1px 2px rgba(60, 64, 67, 0.3), 0px 1px 3px 1px rgba(60, 64, 67, 0.15);\n",
              "      fill: #174EA6;\n",
              "    }\n",
              "\n",
              "    [theme=dark] .colab-df-convert {\n",
              "      background-color: #3B4455;\n",
              "      fill: #D2E3FC;\n",
              "    }\n",
              "\n",
              "    [theme=dark] .colab-df-convert:hover {\n",
              "      background-color: #434B5C;\n",
              "      box-shadow: 0px 1px 3px 1px rgba(0, 0, 0, 0.15);\n",
              "      filter: drop-shadow(0px 1px 2px rgba(0, 0, 0, 0.3));\n",
              "      fill: #FFFFFF;\n",
              "    }\n",
              "  </style>\n",
              "\n",
              "      <script>\n",
              "        const buttonEl =\n",
              "          document.querySelector('#df-7d2accb2-1be5-4f83-ad71-09094721b06c button.colab-df-convert');\n",
              "        buttonEl.style.display =\n",
              "          google.colab.kernel.accessAllowed ? 'block' : 'none';\n",
              "\n",
              "        async function convertToInteractive(key) {\n",
              "          const element = document.querySelector('#df-7d2accb2-1be5-4f83-ad71-09094721b06c');\n",
              "          const dataTable =\n",
              "            await google.colab.kernel.invokeFunction('convertToInteractive',\n",
              "                                                     [key], {});\n",
              "          if (!dataTable) return;\n",
              "\n",
              "          const docLinkHtml = 'Like what you see? Visit the ' +\n",
              "            '<a target=\"_blank\" href=https://colab.research.google.com/notebooks/data_table.ipynb>data table notebook</a>'\n",
              "            + ' to learn more about interactive tables.';\n",
              "          element.innerHTML = '';\n",
              "          dataTable['output_type'] = 'display_data';\n",
              "          await google.colab.output.renderOutput(dataTable, element);\n",
              "          const docLink = document.createElement('div');\n",
              "          docLink.innerHTML = docLinkHtml;\n",
              "          element.appendChild(docLink);\n",
              "        }\n",
              "      </script>\n",
              "    </div>\n",
              "  </div>\n",
              "  "
            ]
          },
          "metadata": {},
          "execution_count": 95
        }
      ]
    },
    {
      "cell_type": "code",
      "source": [
        "df['Date']=df.index"
      ],
      "metadata": {
        "id": "9unXMmHP9dBl"
      },
      "execution_count": 96,
      "outputs": []
    },
    {
      "cell_type": "code",
      "source": [
        "start_date='2011-01-01'\n",
        "end_date='2020-12-31'\n",
        "mask=(df['Date']>=start_date)&(df['Date']<=end_date)"
      ],
      "metadata": {
        "id": "pmoAuKVz9dEq"
      },
      "execution_count": 97,
      "outputs": []
    },
    {
      "cell_type": "code",
      "source": [
        "df=df.loc[mask]"
      ],
      "metadata": {
        "id": "BuOLMt6t9dHp"
      },
      "execution_count": 98,
      "outputs": []
    },
    {
      "cell_type": "code",
      "source": [
        "df=df.drop(columns=['Series','Symbol','Open','High','Low','Last','Close','VWAP','Volume','Turnover','Trades','Deliverable Volume','%Deliverble','Date'])"
      ],
      "metadata": {
        "id": "5w_ZXVOL9dKu"
      },
      "execution_count": 99,
      "outputs": []
    },
    {
      "cell_type": "code",
      "source": [
        "Ntest=math.trunc(0.3*len(df))\n",
        "train=df.iloc[:-Ntest]\n",
        "test=df.iloc[-Ntest:]"
      ],
      "metadata": {
        "id": "Pd6Tf8ub9dNk"
      },
      "execution_count": 100,
      "outputs": []
    },
    {
      "cell_type": "code",
      "source": [
        "train_idx=df.index<=train.index[-1]\n",
        "test_idx=df.index>train.index[-1]"
      ],
      "metadata": {
        "id": "fFr5cqWk9dQ4"
      },
      "execution_count": 101,
      "outputs": []
    },
    {
      "cell_type": "code",
      "source": [
        "df['Diff Prev Close']=df['Prev Close'].diff()"
      ],
      "metadata": {
        "id": "bTleMRdL9dTP"
      },
      "execution_count": 102,
      "outputs": []
    },
    {
      "cell_type": "code",
      "source": [
        "series=df['Diff Prev Close'].dropna().to_numpy()\n",
        "\n",
        "T=50\n",
        "X=[]\n",
        "Y=[]\n",
        "for t in range(len(series)-T):\n",
        "  x=series[t:t+T]\n",
        "  X.append(x)\n",
        "  y=series[t+T]\n",
        "  Y.append(y)\n",
        "\n",
        "X=np.array(X).reshape(-1,T)\n",
        "Y=np.array(Y)\n",
        "N=len(X)\n",
        "print(\"X.shape\",X.shape,\"Y.shape\",Y.shape)"
      ],
      "metadata": {
        "colab": {
          "base_uri": "https://localhost:8080/"
        },
        "id": "-faJTkyl9dWV",
        "outputId": "a20bd625-8e70-4503-e852-7d58a007dc08"
      },
      "execution_count": 103,
      "outputs": [
        {
          "output_type": "stream",
          "name": "stdout",
          "text": [
            "X.shape (2427, 50) Y.shape (2427,)\n"
          ]
        }
      ]
    },
    {
      "cell_type": "code",
      "source": [
        "Xtrain,Ytrain=X[:-Ntest],Y[:-Ntest]\n",
        "Xtest,Ytest=X[-Ntest:],Y[-Ntest:]"
      ],
      "metadata": {
        "id": "blHqq_g-9dY_"
      },
      "execution_count": 104,
      "outputs": []
    },
    {
      "cell_type": "markdown",
      "source": [
        "LSTM+CNN"
      ],
      "metadata": {
        "id": "ir_desj398LI"
      }
    },
    {
      "cell_type": "code",
      "source": [
        "i=Input(shape=(T,1))\n",
        "x=LSTM(200,return_sequences=True)(i)\n",
        "x=LSTM(200,return_sequences=True)(x)\n",
        "x=Dense(100)(x)\n",
        "x=Dense(50)(x)\n",
        "x=Conv1D(25,3,activation='relu')(i)\n",
        "x=MaxPooling1D(2)(x)\n",
        "x=Conv1D(50,3,activation='relu')(x)\n",
        "x=GlobalMaxPool1D()(x)\n",
        "x=Dense(1)(x)\n",
        "model_lstm_cnn=Model(i,x)\n",
        "model_lstm_cnn.summary()"
      ],
      "metadata": {
        "colab": {
          "base_uri": "https://localhost:8080/"
        },
        "id": "vvKQKCrr96yo",
        "outputId": "8ac15721-4414-41f6-c454-5dbdd66e616a"
      },
      "execution_count": 105,
      "outputs": [
        {
          "output_type": "stream",
          "name": "stdout",
          "text": [
            "Model: \"model_5\"\n",
            "_________________________________________________________________\n",
            " Layer (type)                Output Shape              Param #   \n",
            "=================================================================\n",
            " input_6 (InputLayer)        [(None, 50, 1)]           0         \n",
            "                                                                 \n",
            " conv1d_4 (Conv1D)           (None, 48, 25)            100       \n",
            "                                                                 \n",
            " max_pooling1d_2 (MaxPooling  (None, 24, 25)           0         \n",
            " 1D)                                                             \n",
            "                                                                 \n",
            " conv1d_5 (Conv1D)           (None, 22, 50)            3800      \n",
            "                                                                 \n",
            " global_max_pooling1d_5 (Glo  (None, 50)               0         \n",
            " balMaxPooling1D)                                                \n",
            "                                                                 \n",
            " dense_23 (Dense)            (None, 1)                 51        \n",
            "                                                                 \n",
            "=================================================================\n",
            "Total params: 3,951\n",
            "Trainable params: 3,951\n",
            "Non-trainable params: 0\n",
            "_________________________________________________________________\n"
          ]
        }
      ]
    },
    {
      "cell_type": "code",
      "source": [
        "check_point_lstm_cnn=ModelCheckpoint('best_model.h5',monitor='val_loss',save_best_only=True)"
      ],
      "metadata": {
        "id": "nH-bqzYc967w"
      },
      "execution_count": 106,
      "outputs": []
    },
    {
      "cell_type": "code",
      "source": [
        "model_lstm_cnn.compile(loss='mse',\n",
        "              optimizer='adamax',\n",
        "              metrics=['mae','mse'])"
      ],
      "metadata": {
        "id": "pSNLhWam97B2"
      },
      "execution_count": 107,
      "outputs": []
    },
    {
      "cell_type": "code",
      "source": [
        "r=model_lstm_cnn.fit(\n",
        "    Xtrain,\n",
        "    Ytrain,\n",
        "    epochs=100,\n",
        "    validation_data=(Xtest,Ytest),\n",
        "    callbacks=[check_point_lstm_cnn]\n",
        ")"
      ],
      "metadata": {
        "colab": {
          "base_uri": "https://localhost:8080/"
        },
        "id": "YMfLEKjw97Hd",
        "outputId": "628cfb81-f753-4ed7-b21a-46b9c12221e3"
      },
      "execution_count": 108,
      "outputs": [
        {
          "output_type": "stream",
          "name": "stdout",
          "text": [
            "Epoch 1/100\n",
            "53/53 [==============================] - 1s 10ms/step - loss: 5450.8438 - mae: 27.9389 - mse: 5450.8438 - val_loss: 936.7037 - val_mae: 12.7126 - val_mse: 936.7037\n",
            "Epoch 2/100\n",
            "53/53 [==============================] - 0s 7ms/step - loss: 5364.4375 - mae: 27.2156 - mse: 5364.4375 - val_loss: 921.7069 - val_mae: 12.4795 - val_mse: 921.7069\n",
            "Epoch 3/100\n",
            "53/53 [==============================] - 0s 7ms/step - loss: 5327.5244 - mae: 27.0472 - mse: 5327.5244 - val_loss: 926.0096 - val_mae: 12.5215 - val_mse: 926.0096\n",
            "Epoch 4/100\n",
            "53/53 [==============================] - 0s 7ms/step - loss: 5315.8867 - mae: 27.0674 - mse: 5315.8867 - val_loss: 923.5245 - val_mae: 12.4570 - val_mse: 923.5245\n",
            "Epoch 5/100\n",
            "53/53 [==============================] - 0s 7ms/step - loss: 5304.2837 - mae: 27.0410 - mse: 5304.2837 - val_loss: 917.3461 - val_mae: 12.3705 - val_mse: 917.3461\n",
            "Epoch 6/100\n",
            "53/53 [==============================] - 0s 7ms/step - loss: 5284.5767 - mae: 26.8976 - mse: 5284.5767 - val_loss: 926.6719 - val_mae: 12.5195 - val_mse: 926.6719\n",
            "Epoch 7/100\n",
            "53/53 [==============================] - 0s 7ms/step - loss: 5274.2856 - mae: 26.8564 - mse: 5274.2856 - val_loss: 921.3422 - val_mae: 12.4036 - val_mse: 921.3422\n",
            "Epoch 8/100\n",
            "53/53 [==============================] - 0s 7ms/step - loss: 5254.0337 - mae: 26.7264 - mse: 5254.0337 - val_loss: 924.1335 - val_mae: 12.4574 - val_mse: 924.1335\n",
            "Epoch 9/100\n",
            "53/53 [==============================] - 0s 7ms/step - loss: 5243.9517 - mae: 26.6546 - mse: 5243.9517 - val_loss: 915.5910 - val_mae: 12.3015 - val_mse: 915.5910\n",
            "Epoch 10/100\n",
            "53/53 [==============================] - 0s 7ms/step - loss: 5243.2588 - mae: 26.7265 - mse: 5243.2588 - val_loss: 919.6068 - val_mae: 12.3827 - val_mse: 919.6068\n",
            "Epoch 11/100\n",
            "53/53 [==============================] - 0s 7ms/step - loss: 5225.9229 - mae: 26.5859 - mse: 5225.9229 - val_loss: 916.7189 - val_mae: 12.3655 - val_mse: 916.7189\n",
            "Epoch 12/100\n",
            "53/53 [==============================] - 0s 7ms/step - loss: 5226.4062 - mae: 26.7703 - mse: 5226.4062 - val_loss: 914.7938 - val_mae: 12.2914 - val_mse: 914.7938\n",
            "Epoch 13/100\n",
            "53/53 [==============================] - 0s 7ms/step - loss: 5215.1694 - mae: 26.6681 - mse: 5215.1694 - val_loss: 926.1078 - val_mae: 12.4991 - val_mse: 926.1078\n",
            "Epoch 14/100\n",
            "53/53 [==============================] - 0s 7ms/step - loss: 5202.8989 - mae: 26.5020 - mse: 5202.8989 - val_loss: 915.6567 - val_mae: 12.3303 - val_mse: 915.6567\n",
            "Epoch 15/100\n",
            "53/53 [==============================] - 0s 6ms/step - loss: 5202.4634 - mae: 26.6956 - mse: 5202.4634 - val_loss: 925.5195 - val_mae: 12.4980 - val_mse: 925.5195\n",
            "Epoch 16/100\n",
            "53/53 [==============================] - 0s 7ms/step - loss: 5193.4165 - mae: 26.4722 - mse: 5193.4165 - val_loss: 921.0332 - val_mae: 12.4224 - val_mse: 921.0332\n",
            "Epoch 17/100\n",
            "53/53 [==============================] - 0s 7ms/step - loss: 5187.4351 - mae: 26.5813 - mse: 5187.4351 - val_loss: 917.8730 - val_mae: 12.3433 - val_mse: 917.8730\n",
            "Epoch 18/100\n",
            "53/53 [==============================] - 0s 7ms/step - loss: 5191.6538 - mae: 26.5924 - mse: 5191.6538 - val_loss: 919.7702 - val_mae: 12.3831 - val_mse: 919.7702\n",
            "Epoch 19/100\n",
            "53/53 [==============================] - 0s 6ms/step - loss: 5173.1699 - mae: 26.5488 - mse: 5173.1699 - val_loss: 921.6103 - val_mae: 12.4282 - val_mse: 921.6103\n",
            "Epoch 20/100\n",
            "53/53 [==============================] - 0s 7ms/step - loss: 5173.1978 - mae: 26.4392 - mse: 5173.1978 - val_loss: 918.2498 - val_mae: 12.3256 - val_mse: 918.2498\n",
            "Epoch 21/100\n",
            "53/53 [==============================] - 0s 7ms/step - loss: 5171.4644 - mae: 26.5962 - mse: 5171.4644 - val_loss: 917.4169 - val_mae: 12.3581 - val_mse: 917.4169\n",
            "Epoch 22/100\n",
            "53/53 [==============================] - 0s 6ms/step - loss: 5161.4316 - mae: 26.5822 - mse: 5161.4316 - val_loss: 919.5382 - val_mae: 12.4118 - val_mse: 919.5382\n",
            "Epoch 23/100\n",
            "53/53 [==============================] - 0s 7ms/step - loss: 5163.7422 - mae: 26.5650 - mse: 5163.7422 - val_loss: 914.8281 - val_mae: 12.3302 - val_mse: 914.8281\n",
            "Epoch 24/100\n",
            "53/53 [==============================] - 0s 7ms/step - loss: 5161.1626 - mae: 26.5930 - mse: 5161.1626 - val_loss: 922.8173 - val_mae: 12.4917 - val_mse: 922.8173\n",
            "Epoch 25/100\n",
            "53/53 [==============================] - 0s 7ms/step - loss: 5159.8379 - mae: 26.6069 - mse: 5159.8379 - val_loss: 914.7502 - val_mae: 12.3249 - val_mse: 914.7502\n",
            "Epoch 26/100\n",
            "53/53 [==============================] - 0s 6ms/step - loss: 5154.8496 - mae: 26.5825 - mse: 5154.8496 - val_loss: 919.9477 - val_mae: 12.4248 - val_mse: 919.9477\n",
            "Epoch 27/100\n",
            "53/53 [==============================] - 0s 6ms/step - loss: 5144.8247 - mae: 26.4265 - mse: 5144.8247 - val_loss: 918.1212 - val_mae: 12.3879 - val_mse: 918.1212\n",
            "Epoch 28/100\n",
            "53/53 [==============================] - 0s 7ms/step - loss: 5137.3760 - mae: 26.4685 - mse: 5137.3760 - val_loss: 932.6237 - val_mae: 12.7140 - val_mse: 932.6237\n",
            "Epoch 29/100\n",
            "53/53 [==============================] - 0s 7ms/step - loss: 5145.0127 - mae: 26.5563 - mse: 5145.0127 - val_loss: 914.6889 - val_mae: 12.3169 - val_mse: 914.6889\n",
            "Epoch 30/100\n",
            "53/53 [==============================] - 0s 7ms/step - loss: 5153.8726 - mae: 26.6563 - mse: 5153.8726 - val_loss: 914.9651 - val_mae: 12.3619 - val_mse: 914.9651\n",
            "Epoch 31/100\n",
            "53/53 [==============================] - 0s 6ms/step - loss: 5144.8271 - mae: 26.7523 - mse: 5144.8271 - val_loss: 924.2142 - val_mae: 12.5287 - val_mse: 924.2142\n",
            "Epoch 32/100\n",
            "53/53 [==============================] - 0s 7ms/step - loss: 5133.2778 - mae: 26.6418 - mse: 5133.2778 - val_loss: 914.2351 - val_mae: 12.3376 - val_mse: 914.2351\n",
            "Epoch 33/100\n",
            "53/53 [==============================] - 0s 7ms/step - loss: 5134.3335 - mae: 26.4888 - mse: 5134.3335 - val_loss: 914.8514 - val_mae: 12.3684 - val_mse: 914.8514\n",
            "Epoch 34/100\n",
            "53/53 [==============================] - 0s 6ms/step - loss: 5141.6890 - mae: 26.7929 - mse: 5141.6890 - val_loss: 919.5600 - val_mae: 12.4355 - val_mse: 919.5600\n",
            "Epoch 35/100\n",
            "53/53 [==============================] - 0s 7ms/step - loss: 5127.8286 - mae: 26.5186 - mse: 5127.8286 - val_loss: 913.9281 - val_mae: 12.2930 - val_mse: 913.9281\n",
            "Epoch 36/100\n",
            "53/53 [==============================] - 0s 7ms/step - loss: 5132.1724 - mae: 26.6248 - mse: 5132.1724 - val_loss: 914.6999 - val_mae: 12.3550 - val_mse: 914.6999\n",
            "Epoch 37/100\n",
            "53/53 [==============================] - 0s 6ms/step - loss: 5129.7783 - mae: 26.4536 - mse: 5129.7783 - val_loss: 914.2831 - val_mae: 12.3333 - val_mse: 914.2831\n",
            "Epoch 38/100\n",
            "53/53 [==============================] - 0s 7ms/step - loss: 5128.1309 - mae: 26.7056 - mse: 5128.1309 - val_loss: 917.7831 - val_mae: 12.4178 - val_mse: 917.7831\n",
            "Epoch 39/100\n",
            "53/53 [==============================] - 0s 6ms/step - loss: 5127.7383 - mae: 26.7396 - mse: 5127.7383 - val_loss: 922.5319 - val_mae: 12.4977 - val_mse: 922.5319\n",
            "Epoch 40/100\n",
            "53/53 [==============================] - 0s 7ms/step - loss: 5127.8438 - mae: 26.6189 - mse: 5127.8438 - val_loss: 914.0494 - val_mae: 12.3378 - val_mse: 914.0494\n",
            "Epoch 41/100\n",
            "53/53 [==============================] - 0s 7ms/step - loss: 5112.6973 - mae: 26.5607 - mse: 5112.6978 - val_loss: 914.5156 - val_mae: 12.3432 - val_mse: 914.5156\n",
            "Epoch 42/100\n",
            "53/53 [==============================] - 0s 6ms/step - loss: 5109.8218 - mae: 26.6255 - mse: 5109.8218 - val_loss: 921.2929 - val_mae: 12.4849 - val_mse: 921.2929\n",
            "Epoch 43/100\n",
            "53/53 [==============================] - 0s 7ms/step - loss: 5122.7896 - mae: 26.8034 - mse: 5122.7896 - val_loss: 916.5712 - val_mae: 12.3879 - val_mse: 916.5712\n",
            "Epoch 44/100\n",
            "53/53 [==============================] - 0s 7ms/step - loss: 5106.0264 - mae: 26.6495 - mse: 5106.0264 - val_loss: 916.0861 - val_mae: 12.3833 - val_mse: 916.0861\n",
            "Epoch 45/100\n",
            "53/53 [==============================] - 0s 6ms/step - loss: 5103.4731 - mae: 26.4735 - mse: 5103.4731 - val_loss: 914.7885 - val_mae: 12.3602 - val_mse: 914.7885\n",
            "Epoch 46/100\n",
            "53/53 [==============================] - 0s 7ms/step - loss: 5104.0771 - mae: 26.5654 - mse: 5104.0771 - val_loss: 920.5840 - val_mae: 12.4562 - val_mse: 920.5840\n",
            "Epoch 47/100\n",
            "53/53 [==============================] - 0s 7ms/step - loss: 5099.8506 - mae: 26.5279 - mse: 5099.8506 - val_loss: 915.3779 - val_mae: 12.3697 - val_mse: 915.3779\n",
            "Epoch 48/100\n",
            "53/53 [==============================] - 0s 7ms/step - loss: 5098.8843 - mae: 26.6779 - mse: 5098.8843 - val_loss: 917.7592 - val_mae: 12.4025 - val_mse: 917.7592\n",
            "Epoch 49/100\n",
            "53/53 [==============================] - 0s 7ms/step - loss: 5099.6846 - mae: 26.5840 - mse: 5099.6846 - val_loss: 916.4885 - val_mae: 12.3942 - val_mse: 916.4885\n",
            "Epoch 50/100\n",
            "53/53 [==============================] - 0s 7ms/step - loss: 5098.4561 - mae: 26.6651 - mse: 5098.4561 - val_loss: 920.7985 - val_mae: 12.4938 - val_mse: 920.7985\n",
            "Epoch 51/100\n",
            "53/53 [==============================] - 0s 6ms/step - loss: 5086.5439 - mae: 26.4517 - mse: 5086.5439 - val_loss: 915.7410 - val_mae: 12.3773 - val_mse: 915.7410\n",
            "Epoch 52/100\n",
            "53/53 [==============================] - 0s 7ms/step - loss: 5084.9404 - mae: 26.4363 - mse: 5084.9404 - val_loss: 914.7039 - val_mae: 12.3415 - val_mse: 914.7039\n",
            "Epoch 53/100\n",
            "53/53 [==============================] - 0s 6ms/step - loss: 5079.1465 - mae: 26.4405 - mse: 5079.1465 - val_loss: 914.0516 - val_mae: 12.3679 - val_mse: 914.0516\n",
            "Epoch 54/100\n",
            "53/53 [==============================] - 0s 7ms/step - loss: 5078.6064 - mae: 26.5544 - mse: 5078.6064 - val_loss: 913.6328 - val_mae: 12.3449 - val_mse: 913.6328\n",
            "Epoch 55/100\n",
            "53/53 [==============================] - 0s 7ms/step - loss: 5073.7603 - mae: 26.5110 - mse: 5073.7603 - val_loss: 913.2883 - val_mae: 12.3520 - val_mse: 913.2883\n",
            "Epoch 56/100\n",
            "53/53 [==============================] - 0s 7ms/step - loss: 5080.9131 - mae: 26.5825 - mse: 5080.9131 - val_loss: 913.8071 - val_mae: 12.3808 - val_mse: 913.8071\n",
            "Epoch 57/100\n",
            "53/53 [==============================] - 0s 6ms/step - loss: 5072.8203 - mae: 26.5494 - mse: 5072.8203 - val_loss: 914.6183 - val_mae: 12.3909 - val_mse: 914.6183\n",
            "Epoch 58/100\n",
            "53/53 [==============================] - 0s 7ms/step - loss: 5070.3550 - mae: 26.6207 - mse: 5070.3550 - val_loss: 917.3752 - val_mae: 12.4106 - val_mse: 917.3752\n",
            "Epoch 59/100\n",
            "53/53 [==============================] - 0s 6ms/step - loss: 5076.0386 - mae: 26.6931 - mse: 5076.0386 - val_loss: 913.6459 - val_mae: 12.3644 - val_mse: 913.6459\n",
            "Epoch 60/100\n",
            "53/53 [==============================] - 0s 6ms/step - loss: 5069.2192 - mae: 26.6396 - mse: 5069.2192 - val_loss: 923.3940 - val_mae: 12.5452 - val_mse: 923.3940\n",
            "Epoch 61/100\n",
            "53/53 [==============================] - 0s 7ms/step - loss: 5067.1650 - mae: 26.7151 - mse: 5067.1650 - val_loss: 914.8211 - val_mae: 12.3711 - val_mse: 914.8211\n",
            "Epoch 62/100\n",
            "53/53 [==============================] - 0s 7ms/step - loss: 5059.4863 - mae: 26.5557 - mse: 5059.4863 - val_loss: 912.7026 - val_mae: 12.3299 - val_mse: 912.7026\n",
            "Epoch 63/100\n",
            "53/53 [==============================] - 0s 7ms/step - loss: 5060.3164 - mae: 26.5441 - mse: 5060.3164 - val_loss: 912.4929 - val_mae: 12.3189 - val_mse: 912.4929\n",
            "Epoch 64/100\n",
            "53/53 [==============================] - 0s 7ms/step - loss: 5060.3730 - mae: 26.5260 - mse: 5060.3730 - val_loss: 912.9946 - val_mae: 12.3486 - val_mse: 912.9946\n",
            "Epoch 65/100\n",
            "53/53 [==============================] - 0s 7ms/step - loss: 5059.1108 - mae: 26.6514 - mse: 5059.1108 - val_loss: 923.0674 - val_mae: 12.5628 - val_mse: 923.0674\n",
            "Epoch 66/100\n",
            "53/53 [==============================] - 0s 7ms/step - loss: 5048.4414 - mae: 26.4701 - mse: 5048.4414 - val_loss: 921.4439 - val_mae: 12.5309 - val_mse: 921.4439\n",
            "Epoch 67/100\n",
            "53/53 [==============================] - 0s 6ms/step - loss: 5057.3345 - mae: 26.6465 - mse: 5057.3345 - val_loss: 928.1414 - val_mae: 12.6809 - val_mse: 928.1414\n",
            "Epoch 68/100\n",
            "53/53 [==============================] - 0s 7ms/step - loss: 5060.8403 - mae: 26.8387 - mse: 5060.8403 - val_loss: 923.4340 - val_mae: 12.5804 - val_mse: 923.4340\n",
            "Epoch 69/100\n",
            "53/53 [==============================] - 0s 7ms/step - loss: 5051.4663 - mae: 26.6536 - mse: 5051.4663 - val_loss: 913.0309 - val_mae: 12.3730 - val_mse: 913.0309\n",
            "Epoch 70/100\n",
            "53/53 [==============================] - 0s 7ms/step - loss: 5049.3374 - mae: 26.5639 - mse: 5049.3374 - val_loss: 912.7248 - val_mae: 12.3459 - val_mse: 912.7248\n",
            "Epoch 71/100\n",
            "53/53 [==============================] - 0s 7ms/step - loss: 5035.1836 - mae: 26.6086 - mse: 5035.1836 - val_loss: 915.7488 - val_mae: 12.4133 - val_mse: 915.7488\n",
            "Epoch 72/100\n",
            "53/53 [==============================] - 0s 7ms/step - loss: 5037.3735 - mae: 26.6775 - mse: 5037.3735 - val_loss: 914.9308 - val_mae: 12.3934 - val_mse: 914.9308\n",
            "Epoch 73/100\n",
            "53/53 [==============================] - 0s 7ms/step - loss: 5035.7466 - mae: 26.4451 - mse: 5035.7466 - val_loss: 912.7940 - val_mae: 12.3576 - val_mse: 912.7940\n",
            "Epoch 74/100\n",
            "53/53 [==============================] - 0s 7ms/step - loss: 5048.1973 - mae: 26.7175 - mse: 5048.1973 - val_loss: 914.5331 - val_mae: 12.3995 - val_mse: 914.5331\n",
            "Epoch 75/100\n",
            "53/53 [==============================] - 0s 7ms/step - loss: 5046.9150 - mae: 26.6508 - mse: 5046.9150 - val_loss: 914.1799 - val_mae: 12.3859 - val_mse: 914.1799\n",
            "Epoch 76/100\n",
            "53/53 [==============================] - 0s 7ms/step - loss: 5035.5464 - mae: 26.4992 - mse: 5035.5464 - val_loss: 913.1488 - val_mae: 12.3685 - val_mse: 913.1488\n",
            "Epoch 77/100\n",
            "53/53 [==============================] - 0s 7ms/step - loss: 5025.4014 - mae: 26.4504 - mse: 5025.4014 - val_loss: 914.6668 - val_mae: 12.4031 - val_mse: 914.6668\n",
            "Epoch 78/100\n",
            "53/53 [==============================] - 0s 6ms/step - loss: 5023.9561 - mae: 26.4749 - mse: 5023.9561 - val_loss: 915.3656 - val_mae: 12.4344 - val_mse: 915.3656\n",
            "Epoch 79/100\n",
            "53/53 [==============================] - 0s 7ms/step - loss: 5021.4404 - mae: 26.5898 - mse: 5021.4404 - val_loss: 926.6604 - val_mae: 12.6801 - val_mse: 926.6604\n",
            "Epoch 80/100\n",
            "53/53 [==============================] - 0s 7ms/step - loss: 5029.2236 - mae: 26.6753 - mse: 5029.2236 - val_loss: 914.4543 - val_mae: 12.4156 - val_mse: 914.4543\n",
            "Epoch 81/100\n",
            "53/53 [==============================] - 0s 7ms/step - loss: 5017.1318 - mae: 26.4601 - mse: 5017.1318 - val_loss: 913.3395 - val_mae: 12.3749 - val_mse: 913.3395\n",
            "Epoch 82/100\n",
            "53/53 [==============================] - 0s 7ms/step - loss: 5022.9507 - mae: 26.5912 - mse: 5022.9507 - val_loss: 913.1556 - val_mae: 12.3757 - val_mse: 913.1556\n",
            "Epoch 83/100\n",
            "53/53 [==============================] - 0s 7ms/step - loss: 5009.8350 - mae: 26.4507 - mse: 5009.8350 - val_loss: 912.9898 - val_mae: 12.3789 - val_mse: 912.9898\n",
            "Epoch 84/100\n",
            "53/53 [==============================] - 0s 6ms/step - loss: 5017.9502 - mae: 26.6700 - mse: 5017.9502 - val_loss: 918.1781 - val_mae: 12.4867 - val_mse: 918.1781\n",
            "Epoch 85/100\n",
            "53/53 [==============================] - 0s 7ms/step - loss: 5007.8105 - mae: 26.4283 - mse: 5007.8105 - val_loss: 921.0946 - val_mae: 12.5483 - val_mse: 921.0946\n",
            "Epoch 86/100\n",
            "53/53 [==============================] - 0s 7ms/step - loss: 5018.7891 - mae: 26.6770 - mse: 5018.7891 - val_loss: 913.2713 - val_mae: 12.3919 - val_mse: 913.2713\n",
            "Epoch 87/100\n",
            "53/53 [==============================] - 0s 7ms/step - loss: 5011.8384 - mae: 26.5755 - mse: 5011.8384 - val_loss: 922.6938 - val_mae: 12.5935 - val_mse: 922.6938\n",
            "Epoch 88/100\n",
            "53/53 [==============================] - 0s 7ms/step - loss: 5007.2939 - mae: 26.4862 - mse: 5007.2939 - val_loss: 914.1302 - val_mae: 12.4082 - val_mse: 914.1302\n",
            "Epoch 89/100\n",
            "53/53 [==============================] - 0s 7ms/step - loss: 5010.9048 - mae: 26.6084 - mse: 5010.9048 - val_loss: 919.8192 - val_mae: 12.5265 - val_mse: 919.8192\n",
            "Epoch 90/100\n",
            "53/53 [==============================] - 0s 6ms/step - loss: 4999.1284 - mae: 26.5061 - mse: 4999.1284 - val_loss: 917.3336 - val_mae: 12.4825 - val_mse: 917.3336\n",
            "Epoch 91/100\n",
            "53/53 [==============================] - 0s 7ms/step - loss: 4999.2524 - mae: 26.4478 - mse: 4999.2524 - val_loss: 913.1464 - val_mae: 12.3805 - val_mse: 913.1464\n",
            "Epoch 92/100\n",
            "53/53 [==============================] - 0s 7ms/step - loss: 4997.8276 - mae: 26.4917 - mse: 4997.8276 - val_loss: 916.8603 - val_mae: 12.4748 - val_mse: 916.8603\n",
            "Epoch 93/100\n",
            "53/53 [==============================] - 0s 7ms/step - loss: 4996.7373 - mae: 26.6520 - mse: 4996.7373 - val_loss: 917.0183 - val_mae: 12.4700 - val_mse: 917.0183\n",
            "Epoch 94/100\n",
            "53/53 [==============================] - 0s 7ms/step - loss: 5001.6899 - mae: 26.6367 - mse: 5001.6899 - val_loss: 914.7732 - val_mae: 12.4355 - val_mse: 914.7732\n",
            "Epoch 95/100\n",
            "53/53 [==============================] - 0s 7ms/step - loss: 4994.1777 - mae: 26.4733 - mse: 4994.1777 - val_loss: 917.3912 - val_mae: 12.4737 - val_mse: 917.3912\n",
            "Epoch 96/100\n",
            "53/53 [==============================] - 0s 7ms/step - loss: 4984.5771 - mae: 26.4851 - mse: 4984.5771 - val_loss: 915.0943 - val_mae: 12.4695 - val_mse: 915.0943\n",
            "Epoch 97/100\n",
            "53/53 [==============================] - 0s 7ms/step - loss: 4984.8540 - mae: 26.5351 - mse: 4984.8540 - val_loss: 922.8526 - val_mae: 12.5931 - val_mse: 922.8526\n",
            "Epoch 98/100\n",
            "53/53 [==============================] - 0s 7ms/step - loss: 4995.2271 - mae: 26.6480 - mse: 4995.2271 - val_loss: 914.4000 - val_mae: 12.4593 - val_mse: 914.4000\n",
            "Epoch 99/100\n",
            "53/53 [==============================] - 0s 7ms/step - loss: 5012.2671 - mae: 26.7363 - mse: 5012.2671 - val_loss: 915.2545 - val_mae: 12.4414 - val_mse: 915.2545\n",
            "Epoch 100/100\n",
            "53/53 [==============================] - 0s 6ms/step - loss: 4987.7085 - mae: 26.5400 - mse: 4987.7085 - val_loss: 914.7444 - val_mae: 12.4427 - val_mse: 914.7444\n"
          ]
        }
      ]
    },
    {
      "cell_type": "markdown",
      "source": [
        "LSTM+GRU"
      ],
      "metadata": {
        "id": "5TW_EAhE-iWs"
      }
    },
    {
      "cell_type": "code",
      "source": [
        "i=Input(shape=(T,1))\n",
        "x=LSTM(200,return_sequences=True)(i)\n",
        "x=LSTM(200,return_sequences=True)(x)\n",
        "x=Dense(100)(x)\n",
        "x=Dense(50)(x)\n",
        "x=GRU(200,return_sequences=True)(x)\n",
        "x=GRU(200,return_sequences=True)(x)\n",
        "x=GlobalMaxPool1D()(x)\n",
        "x=Dense(100)(x)\n",
        "x=Dense(50)(x)\n",
        "x=Dense(1)(x)\n",
        "model_lstm_gru=Model(i,x)\n",
        "model_lstm_gru.summary()"
      ],
      "metadata": {
        "colab": {
          "base_uri": "https://localhost:8080/"
        },
        "id": "5MFW_hNA-UIb",
        "outputId": "2697d56a-772d-491b-8ba6-b6acc8711083"
      },
      "execution_count": 109,
      "outputs": [
        {
          "output_type": "stream",
          "name": "stdout",
          "text": [
            "Model: \"model_6\"\n",
            "_________________________________________________________________\n",
            " Layer (type)                Output Shape              Param #   \n",
            "=================================================================\n",
            " input_7 (InputLayer)        [(None, 50, 1)]           0         \n",
            "                                                                 \n",
            " lstm_12 (LSTM)              (None, 50, 200)           161600    \n",
            "                                                                 \n",
            " lstm_13 (LSTM)              (None, 50, 200)           320800    \n",
            "                                                                 \n",
            " dense_24 (Dense)            (None, 50, 100)           20100     \n",
            "                                                                 \n",
            " dense_25 (Dense)            (None, 50, 50)            5050      \n",
            "                                                                 \n",
            " gru_6 (GRU)                 (None, 50, 200)           151200    \n",
            "                                                                 \n",
            " gru_7 (GRU)                 (None, 50, 200)           241200    \n",
            "                                                                 \n",
            " global_max_pooling1d_6 (Glo  (None, 200)              0         \n",
            " balMaxPooling1D)                                                \n",
            "                                                                 \n",
            " dense_26 (Dense)            (None, 100)               20100     \n",
            "                                                                 \n",
            " dense_27 (Dense)            (None, 50)                5050      \n",
            "                                                                 \n",
            " dense_28 (Dense)            (None, 1)                 51        \n",
            "                                                                 \n",
            "=================================================================\n",
            "Total params: 925,151\n",
            "Trainable params: 925,151\n",
            "Non-trainable params: 0\n",
            "_________________________________________________________________\n"
          ]
        }
      ]
    },
    {
      "cell_type": "code",
      "source": [
        "check_point_lstm_gru=ModelCheckpoint('best_model.h5',monitor='val_loss',save_best_only=True)"
      ],
      "metadata": {
        "id": "bPn2IlMx-pP6"
      },
      "execution_count": 110,
      "outputs": []
    },
    {
      "cell_type": "code",
      "source": [
        "model_lstm_gru.compile(loss='mse',\n",
        "              optimizer='adamax',\n",
        "              metrics=['mae','mse'])"
      ],
      "metadata": {
        "id": "s2W9B-lL-5VS"
      },
      "execution_count": 111,
      "outputs": []
    },
    {
      "cell_type": "code",
      "source": [
        "r=model_lstm_gru.fit(\n",
        "    Xtrain,\n",
        "    Ytrain,\n",
        "    epochs=100,\n",
        "    validation_data=(Xtest,Ytest),\n",
        "    callbacks=[check_point_lstm_gru]\n",
        ")"
      ],
      "metadata": {
        "colab": {
          "base_uri": "https://localhost:8080/"
        },
        "id": "tSfqgZ2w-8KI",
        "outputId": "6392fcfc-f621-49d3-83d7-6a601890b150"
      },
      "execution_count": 112,
      "outputs": [
        {
          "output_type": "stream",
          "name": "stdout",
          "text": [
            "Epoch 1/100\n",
            "53/53 [==============================] - 38s 580ms/step - loss: 5284.1714 - mae: 26.4428 - mse: 5284.1714 - val_loss: 912.5319 - val_mae: 12.1836 - val_mse: 912.5319\n",
            "Epoch 2/100\n",
            "53/53 [==============================] - 29s 548ms/step - loss: 5282.6079 - mae: 26.4157 - mse: 5282.6079 - val_loss: 912.7703 - val_mae: 12.2053 - val_mse: 912.7703\n",
            "Epoch 3/100\n",
            "53/53 [==============================] - 29s 549ms/step - loss: 5282.1777 - mae: 26.4329 - mse: 5282.1777 - val_loss: 913.3981 - val_mae: 12.2438 - val_mse: 913.3981\n",
            "Epoch 4/100\n",
            "53/53 [==============================] - 29s 552ms/step - loss: 5280.0449 - mae: 26.4141 - mse: 5280.0449 - val_loss: 913.5186 - val_mae: 12.2492 - val_mse: 913.5186\n",
            "Epoch 5/100\n",
            "53/53 [==============================] - 29s 550ms/step - loss: 5279.2246 - mae: 26.4340 - mse: 5279.2246 - val_loss: 913.9757 - val_mae: 12.2713 - val_mse: 913.9757\n",
            "Epoch 6/100\n",
            "53/53 [==============================] - 29s 549ms/step - loss: 5278.2471 - mae: 26.4419 - mse: 5278.2471 - val_loss: 914.9186 - val_mae: 12.3063 - val_mse: 914.9186\n",
            "Epoch 7/100\n",
            "53/53 [==============================] - 29s 549ms/step - loss: 5273.3652 - mae: 26.4383 - mse: 5273.3652 - val_loss: 913.8524 - val_mae: 12.2177 - val_mse: 913.8524\n",
            "Epoch 8/100\n",
            "53/53 [==============================] - 29s 550ms/step - loss: 5266.5684 - mae: 26.4414 - mse: 5266.5684 - val_loss: 917.9019 - val_mae: 12.2229 - val_mse: 917.9019\n",
            "Epoch 9/100\n",
            "53/53 [==============================] - 29s 554ms/step - loss: 5259.1201 - mae: 26.4086 - mse: 5259.1201 - val_loss: 919.0411 - val_mae: 12.2578 - val_mse: 919.0411\n",
            "Epoch 10/100\n",
            "53/53 [==============================] - 29s 554ms/step - loss: 5255.0703 - mae: 26.4440 - mse: 5255.0703 - val_loss: 928.3065 - val_mae: 12.4136 - val_mse: 928.3065\n",
            "Epoch 11/100\n",
            "53/53 [==============================] - 29s 555ms/step - loss: 5236.2881 - mae: 26.5905 - mse: 5236.2881 - val_loss: 934.4435 - val_mae: 12.5307 - val_mse: 934.4435\n",
            "Epoch 12/100\n",
            "53/53 [==============================] - 29s 552ms/step - loss: 5235.0444 - mae: 26.6935 - mse: 5235.0444 - val_loss: 952.9644 - val_mae: 13.0000 - val_mse: 952.9644\n",
            "Epoch 13/100\n",
            "53/53 [==============================] - 29s 555ms/step - loss: 5219.3184 - mae: 26.5730 - mse: 5219.3184 - val_loss: 932.1899 - val_mae: 12.4583 - val_mse: 932.1899\n",
            "Epoch 14/100\n",
            "53/53 [==============================] - 29s 556ms/step - loss: 5210.4980 - mae: 26.6646 - mse: 5210.4980 - val_loss: 935.9148 - val_mae: 12.6488 - val_mse: 935.9148\n",
            "Epoch 15/100\n",
            "53/53 [==============================] - 30s 559ms/step - loss: 5201.2412 - mae: 26.8290 - mse: 5201.2412 - val_loss: 945.8850 - val_mae: 12.7656 - val_mse: 945.8850\n",
            "Epoch 16/100\n",
            "53/53 [==============================] - 29s 553ms/step - loss: 5203.3403 - mae: 26.6568 - mse: 5203.3403 - val_loss: 937.9658 - val_mae: 12.7458 - val_mse: 937.9658\n",
            "Epoch 17/100\n",
            "53/53 [==============================] - 29s 554ms/step - loss: 5182.6870 - mae: 26.9213 - mse: 5182.6870 - val_loss: 940.3815 - val_mae: 12.5876 - val_mse: 940.3815\n",
            "Epoch 18/100\n",
            "53/53 [==============================] - 29s 552ms/step - loss: 5185.7227 - mae: 26.8605 - mse: 5185.7227 - val_loss: 937.0409 - val_mae: 12.5506 - val_mse: 937.0409\n",
            "Epoch 19/100\n",
            "53/53 [==============================] - 29s 552ms/step - loss: 5169.4253 - mae: 26.9957 - mse: 5169.4253 - val_loss: 932.7404 - val_mae: 12.5249 - val_mse: 932.7404\n",
            "Epoch 20/100\n",
            "53/53 [==============================] - 29s 556ms/step - loss: 5164.7197 - mae: 26.8486 - mse: 5164.7197 - val_loss: 930.5350 - val_mae: 12.3938 - val_mse: 930.5350\n",
            "Epoch 21/100\n",
            "53/53 [==============================] - 30s 558ms/step - loss: 5145.4595 - mae: 27.0543 - mse: 5145.4595 - val_loss: 962.8925 - val_mae: 13.1119 - val_mse: 962.8925\n",
            "Epoch 22/100\n",
            "53/53 [==============================] - 29s 553ms/step - loss: 5134.0430 - mae: 27.0179 - mse: 5134.0430 - val_loss: 940.6775 - val_mae: 12.4872 - val_mse: 940.6775\n",
            "Epoch 23/100\n",
            "53/53 [==============================] - 29s 548ms/step - loss: 5128.6514 - mae: 26.9181 - mse: 5128.6514 - val_loss: 964.4525 - val_mae: 13.7570 - val_mse: 964.4525\n",
            "Epoch 24/100\n",
            "53/53 [==============================] - 29s 547ms/step - loss: 5112.8330 - mae: 27.0005 - mse: 5112.8330 - val_loss: 958.1503 - val_mae: 13.1771 - val_mse: 958.1503\n",
            "Epoch 25/100\n",
            "53/53 [==============================] - 29s 549ms/step - loss: 5123.5474 - mae: 26.9742 - mse: 5123.5474 - val_loss: 953.9717 - val_mae: 13.3294 - val_mse: 953.9717\n",
            "Epoch 26/100\n",
            "53/53 [==============================] - 29s 544ms/step - loss: 5110.5762 - mae: 27.3051 - mse: 5110.5762 - val_loss: 948.0038 - val_mae: 12.7036 - val_mse: 948.0038\n",
            "Epoch 27/100\n",
            "53/53 [==============================] - 29s 545ms/step - loss: 5129.6831 - mae: 26.5839 - mse: 5129.6831 - val_loss: 968.4015 - val_mae: 13.4380 - val_mse: 968.4015\n",
            "Epoch 28/100\n",
            "53/53 [==============================] - 29s 546ms/step - loss: 5100.6777 - mae: 27.3452 - mse: 5100.6777 - val_loss: 948.1550 - val_mae: 12.6559 - val_mse: 948.1550\n",
            "Epoch 29/100\n",
            "53/53 [==============================] - 29s 548ms/step - loss: 5069.7217 - mae: 26.9930 - mse: 5069.7217 - val_loss: 959.5883 - val_mae: 13.1314 - val_mse: 959.5883\n",
            "Epoch 30/100\n",
            "53/53 [==============================] - 29s 541ms/step - loss: 5067.0518 - mae: 27.2415 - mse: 5067.0518 - val_loss: 968.3795 - val_mae: 13.9176 - val_mse: 968.3795\n",
            "Epoch 31/100\n",
            "53/53 [==============================] - 29s 540ms/step - loss: 5088.9028 - mae: 27.0225 - mse: 5088.9028 - val_loss: 954.5169 - val_mae: 13.0041 - val_mse: 954.5169\n",
            "Epoch 32/100\n",
            "53/53 [==============================] - 29s 543ms/step - loss: 5088.4111 - mae: 27.5531 - mse: 5088.4111 - val_loss: 970.4442 - val_mae: 13.5877 - val_mse: 970.4442\n",
            "Epoch 33/100\n",
            "53/53 [==============================] - 29s 543ms/step - loss: 5042.0269 - mae: 27.0000 - mse: 5042.0269 - val_loss: 959.2153 - val_mae: 13.0698 - val_mse: 959.2153\n",
            "Epoch 34/100\n",
            "53/53 [==============================] - 29s 542ms/step - loss: 5062.5439 - mae: 26.9392 - mse: 5062.5439 - val_loss: 977.3506 - val_mae: 13.1685 - val_mse: 977.3506\n",
            "Epoch 35/100\n",
            "53/53 [==============================] - 28s 537ms/step - loss: 5068.1738 - mae: 26.9298 - mse: 5068.1738 - val_loss: 954.2469 - val_mae: 13.1277 - val_mse: 954.2469\n",
            "Epoch 36/100\n",
            "53/53 [==============================] - 29s 541ms/step - loss: 5026.0557 - mae: 27.5893 - mse: 5026.0557 - val_loss: 964.5295 - val_mae: 13.2663 - val_mse: 964.5295\n",
            "Epoch 37/100\n",
            "53/53 [==============================] - 28s 537ms/step - loss: 4985.7915 - mae: 26.7549 - mse: 4985.7915 - val_loss: 982.7387 - val_mae: 13.8619 - val_mse: 982.7387\n",
            "Epoch 38/100\n",
            "53/53 [==============================] - 28s 536ms/step - loss: 5024.4009 - mae: 27.1132 - mse: 5024.4009 - val_loss: 955.6807 - val_mae: 12.9217 - val_mse: 955.6807\n",
            "Epoch 39/100\n",
            "53/53 [==============================] - 28s 536ms/step - loss: 4962.1421 - mae: 26.8542 - mse: 4962.1421 - val_loss: 987.5327 - val_mae: 13.6273 - val_mse: 987.5327\n",
            "Epoch 40/100\n",
            "53/53 [==============================] - 28s 538ms/step - loss: 4959.1694 - mae: 27.1000 - mse: 4959.1694 - val_loss: 970.8142 - val_mae: 13.0890 - val_mse: 970.8142\n",
            "Epoch 41/100\n",
            "53/53 [==============================] - 28s 535ms/step - loss: 4940.2622 - mae: 26.8975 - mse: 4940.2622 - val_loss: 976.3505 - val_mae: 13.8193 - val_mse: 976.3505\n",
            "Epoch 42/100\n",
            "53/53 [==============================] - 28s 537ms/step - loss: 4976.1982 - mae: 27.0993 - mse: 4976.1982 - val_loss: 971.5285 - val_mae: 13.3399 - val_mse: 971.5285\n",
            "Epoch 43/100\n",
            "53/53 [==============================] - 28s 536ms/step - loss: 4960.3433 - mae: 27.1991 - mse: 4960.3433 - val_loss: 968.6902 - val_mae: 13.1690 - val_mse: 968.6902\n",
            "Epoch 44/100\n",
            "53/53 [==============================] - 28s 535ms/step - loss: 4956.0669 - mae: 27.5293 - mse: 4956.0669 - val_loss: 950.4512 - val_mae: 13.0328 - val_mse: 950.4512\n",
            "Epoch 45/100\n",
            "53/53 [==============================] - 28s 537ms/step - loss: 4933.2393 - mae: 26.6966 - mse: 4933.2393 - val_loss: 996.9339 - val_mae: 14.2670 - val_mse: 996.9339\n",
            "Epoch 46/100\n",
            "53/53 [==============================] - 28s 537ms/step - loss: 4857.5718 - mae: 26.9090 - mse: 4857.5718 - val_loss: 962.9517 - val_mae: 13.5680 - val_mse: 962.9517\n",
            "Epoch 47/100\n",
            "53/53 [==============================] - 28s 537ms/step - loss: 4841.0703 - mae: 26.8640 - mse: 4841.0703 - val_loss: 991.6104 - val_mae: 14.1449 - val_mse: 991.6104\n",
            "Epoch 48/100\n",
            "53/53 [==============================] - 28s 535ms/step - loss: 4893.2866 - mae: 27.1670 - mse: 4893.2866 - val_loss: 982.0765 - val_mae: 13.7355 - val_mse: 982.0765\n",
            "Epoch 49/100\n",
            "53/53 [==============================] - 28s 537ms/step - loss: 4977.7075 - mae: 27.7005 - mse: 4977.7075 - val_loss: 959.6005 - val_mae: 13.0525 - val_mse: 959.6005\n",
            "Epoch 50/100\n",
            "53/53 [==============================] - 28s 537ms/step - loss: 4811.9995 - mae: 26.7618 - mse: 4811.9995 - val_loss: 992.7902 - val_mae: 13.6703 - val_mse: 992.7902\n",
            "Epoch 51/100\n",
            "53/53 [==============================] - 28s 536ms/step - loss: 4852.4346 - mae: 27.3377 - mse: 4852.4346 - val_loss: 997.6862 - val_mae: 13.9374 - val_mse: 997.6862\n",
            "Epoch 52/100\n",
            "53/53 [==============================] - 28s 536ms/step - loss: 4787.5088 - mae: 26.8023 - mse: 4787.5088 - val_loss: 986.6067 - val_mae: 13.9039 - val_mse: 986.6067\n",
            "Epoch 53/100\n",
            "53/53 [==============================] - 28s 537ms/step - loss: 4738.0596 - mae: 27.0367 - mse: 4738.0596 - val_loss: 954.0142 - val_mae: 13.0914 - val_mse: 954.0142\n",
            "Epoch 54/100\n",
            "53/53 [==============================] - 28s 539ms/step - loss: 4673.5859 - mae: 26.4305 - mse: 4673.5859 - val_loss: 961.8552 - val_mae: 13.5183 - val_mse: 961.8552\n",
            "Epoch 55/100\n",
            "53/53 [==============================] - 29s 539ms/step - loss: 4658.1196 - mae: 26.6279 - mse: 4658.1196 - val_loss: 999.1967 - val_mae: 14.8362 - val_mse: 999.1967\n",
            "Epoch 56/100\n",
            "53/53 [==============================] - 28s 537ms/step - loss: 4602.1206 - mae: 26.4986 - mse: 4602.1206 - val_loss: 976.4889 - val_mae: 13.5980 - val_mse: 976.4889\n",
            "Epoch 57/100\n",
            "53/53 [==============================] - 28s 537ms/step - loss: 4570.8013 - mae: 26.3807 - mse: 4570.8013 - val_loss: 971.0228 - val_mae: 13.6619 - val_mse: 971.0228\n",
            "Epoch 58/100\n",
            "53/53 [==============================] - 29s 544ms/step - loss: 4551.6738 - mae: 26.2760 - mse: 4551.6738 - val_loss: 964.7755 - val_mae: 13.3688 - val_mse: 964.7755\n",
            "Epoch 59/100\n",
            "53/53 [==============================] - 29s 539ms/step - loss: 4728.2588 - mae: 26.8316 - mse: 4728.2588 - val_loss: 1010.6790 - val_mae: 14.7091 - val_mse: 1010.6790\n",
            "Epoch 60/100\n",
            "53/53 [==============================] - 29s 549ms/step - loss: 4631.7588 - mae: 27.0157 - mse: 4631.7588 - val_loss: 1016.0136 - val_mae: 14.5243 - val_mse: 1016.0136\n",
            "Epoch 61/100\n",
            "53/53 [==============================] - 29s 549ms/step - loss: 4565.3877 - mae: 26.7366 - mse: 4565.3877 - val_loss: 975.4971 - val_mae: 13.1802 - val_mse: 975.4971\n",
            "Epoch 62/100\n",
            "53/53 [==============================] - 29s 546ms/step - loss: 4464.6655 - mae: 26.4540 - mse: 4464.6655 - val_loss: 970.2255 - val_mae: 13.6933 - val_mse: 970.2255\n",
            "Epoch 63/100\n",
            "53/53 [==============================] - 29s 551ms/step - loss: 4374.6177 - mae: 26.2492 - mse: 4374.6177 - val_loss: 994.9024 - val_mae: 14.3112 - val_mse: 994.9024\n",
            "Epoch 64/100\n",
            "53/53 [==============================] - 29s 556ms/step - loss: 4410.0464 - mae: 26.0563 - mse: 4410.0464 - val_loss: 1004.2091 - val_mae: 14.7713 - val_mse: 1004.2091\n",
            "Epoch 65/100\n",
            "53/53 [==============================] - 29s 558ms/step - loss: 4520.7817 - mae: 27.5548 - mse: 4520.7817 - val_loss: 996.3802 - val_mae: 13.4896 - val_mse: 996.3802\n",
            "Epoch 66/100\n",
            "53/53 [==============================] - 29s 556ms/step - loss: 4323.2617 - mae: 26.5707 - mse: 4323.2617 - val_loss: 1005.4642 - val_mae: 13.9192 - val_mse: 1005.4642\n",
            "Epoch 67/100\n",
            "53/53 [==============================] - 29s 553ms/step - loss: 4232.6255 - mae: 25.9734 - mse: 4232.6255 - val_loss: 971.0338 - val_mae: 13.3474 - val_mse: 971.0338\n",
            "Epoch 68/100\n",
            "53/53 [==============================] - 29s 552ms/step - loss: 4166.2632 - mae: 26.0052 - mse: 4166.2632 - val_loss: 977.3096 - val_mae: 13.4492 - val_mse: 977.3096\n",
            "Epoch 69/100\n",
            "53/53 [==============================] - 29s 546ms/step - loss: 4103.7441 - mae: 26.1754 - mse: 4103.7441 - val_loss: 975.8265 - val_mae: 13.7120 - val_mse: 975.8265\n",
            "Epoch 70/100\n",
            "53/53 [==============================] - 29s 541ms/step - loss: 4070.6460 - mae: 25.6768 - mse: 4070.6460 - val_loss: 1017.2791 - val_mae: 14.1056 - val_mse: 1017.2791\n",
            "Epoch 71/100\n",
            "53/53 [==============================] - 29s 543ms/step - loss: 4046.4551 - mae: 26.4804 - mse: 4046.4551 - val_loss: 988.4764 - val_mae: 13.7334 - val_mse: 988.4764\n",
            "Epoch 72/100\n",
            "53/53 [==============================] - 29s 540ms/step - loss: 4231.2671 - mae: 26.9098 - mse: 4231.2671 - val_loss: 1009.1026 - val_mae: 13.5901 - val_mse: 1009.1026\n",
            "Epoch 73/100\n",
            "53/53 [==============================] - 29s 550ms/step - loss: 4142.9897 - mae: 25.9610 - mse: 4142.9897 - val_loss: 992.4188 - val_mae: 13.9222 - val_mse: 992.4188\n",
            "Epoch 74/100\n",
            "53/53 [==============================] - 29s 547ms/step - loss: 4201.0171 - mae: 27.5401 - mse: 4201.0171 - val_loss: 986.7703 - val_mae: 13.3304 - val_mse: 986.7703\n",
            "Epoch 75/100\n",
            "53/53 [==============================] - 29s 556ms/step - loss: 4036.7036 - mae: 26.1483 - mse: 4036.7036 - val_loss: 992.0917 - val_mae: 13.4499 - val_mse: 992.0917\n",
            "Epoch 76/100\n",
            "53/53 [==============================] - 30s 559ms/step - loss: 3830.9421 - mae: 25.5061 - mse: 3830.9421 - val_loss: 1010.7840 - val_mae: 13.8362 - val_mse: 1010.7840\n",
            "Epoch 77/100\n",
            "53/53 [==============================] - 29s 547ms/step - loss: 3873.1218 - mae: 25.6298 - mse: 3873.1218 - val_loss: 1025.5494 - val_mae: 14.7882 - val_mse: 1025.5494\n",
            "Epoch 78/100\n",
            "53/53 [==============================] - 29s 542ms/step - loss: 3965.1772 - mae: 26.8519 - mse: 3965.1772 - val_loss: 1001.0777 - val_mae: 13.9133 - val_mse: 1001.0777\n",
            "Epoch 79/100\n",
            "53/53 [==============================] - 29s 543ms/step - loss: 3658.5505 - mae: 25.4463 - mse: 3658.5505 - val_loss: 1025.1573 - val_mae: 14.3978 - val_mse: 1025.1573\n",
            "Epoch 80/100\n",
            "53/53 [==============================] - 29s 546ms/step - loss: 3556.5342 - mae: 25.3520 - mse: 3556.5342 - val_loss: 1011.7835 - val_mae: 13.9293 - val_mse: 1011.7835\n",
            "Epoch 81/100\n",
            "53/53 [==============================] - 29s 543ms/step - loss: 3494.0383 - mae: 25.1499 - mse: 3494.0383 - val_loss: 1011.5519 - val_mae: 14.0154 - val_mse: 1011.5519\n",
            "Epoch 82/100\n",
            "53/53 [==============================] - 29s 548ms/step - loss: 3362.4836 - mae: 25.0359 - mse: 3362.4836 - val_loss: 1092.1764 - val_mae: 15.2895 - val_mse: 1092.1764\n",
            "Epoch 83/100\n",
            "53/53 [==============================] - 29s 552ms/step - loss: 3289.1306 - mae: 24.8524 - mse: 3289.1306 - val_loss: 1063.2628 - val_mae: 14.9831 - val_mse: 1063.2628\n",
            "Epoch 84/100\n",
            "53/53 [==============================] - 29s 543ms/step - loss: 3201.9185 - mae: 24.8212 - mse: 3201.9185 - val_loss: 1020.2279 - val_mae: 14.1139 - val_mse: 1020.2279\n",
            "Epoch 85/100\n",
            "53/53 [==============================] - 29s 545ms/step - loss: 3136.6565 - mae: 24.7829 - mse: 3136.6565 - val_loss: 1043.6086 - val_mae: 14.5181 - val_mse: 1043.6086\n",
            "Epoch 86/100\n",
            "53/53 [==============================] - 29s 551ms/step - loss: 3038.7266 - mae: 24.6274 - mse: 3038.7266 - val_loss: 1022.2393 - val_mae: 14.2871 - val_mse: 1022.2393\n",
            "Epoch 87/100\n",
            "53/53 [==============================] - 29s 552ms/step - loss: 2963.1062 - mae: 24.5005 - mse: 2963.1062 - val_loss: 1006.1595 - val_mae: 14.1253 - val_mse: 1006.1595\n",
            "Epoch 88/100\n",
            "53/53 [==============================] - 29s 553ms/step - loss: 2851.9294 - mae: 24.3418 - mse: 2851.9294 - val_loss: 1134.4773 - val_mae: 16.3622 - val_mse: 1134.4773\n",
            "Epoch 89/100\n",
            "53/53 [==============================] - 28s 539ms/step - loss: 2818.0046 - mae: 24.4539 - mse: 2818.0046 - val_loss: 1167.7158 - val_mae: 16.1428 - val_mse: 1167.7158\n",
            "Epoch 90/100\n",
            "53/53 [==============================] - 29s 541ms/step - loss: 2741.7913 - mae: 24.8378 - mse: 2741.7913 - val_loss: 1057.3251 - val_mae: 14.7973 - val_mse: 1057.3251\n",
            "Epoch 91/100\n",
            "53/53 [==============================] - 29s 540ms/step - loss: 2800.7664 - mae: 25.2139 - mse: 2800.7664 - val_loss: 1160.3396 - val_mae: 15.9865 - val_mse: 1160.3396\n",
            "Epoch 92/100\n",
            "53/53 [==============================] - 29s 541ms/step - loss: 2737.0188 - mae: 25.4938 - mse: 2737.0188 - val_loss: 1017.3843 - val_mae: 14.3726 - val_mse: 1017.3843\n",
            "Epoch 93/100\n",
            "53/53 [==============================] - 28s 536ms/step - loss: 2612.5698 - mae: 24.6307 - mse: 2612.5698 - val_loss: 1064.9811 - val_mae: 14.7527 - val_mse: 1064.9811\n",
            "Epoch 94/100\n",
            "53/53 [==============================] - 28s 535ms/step - loss: 2476.2822 - mae: 24.5861 - mse: 2476.2822 - val_loss: 1075.2898 - val_mae: 15.5143 - val_mse: 1075.2898\n",
            "Epoch 95/100\n",
            "53/53 [==============================] - 29s 540ms/step - loss: 2385.3088 - mae: 24.1715 - mse: 2385.3088 - val_loss: 1073.4923 - val_mae: 15.3069 - val_mse: 1073.4923\n",
            "Epoch 96/100\n",
            "53/53 [==============================] - 29s 539ms/step - loss: 2457.6399 - mae: 24.9149 - mse: 2457.6399 - val_loss: 1010.6129 - val_mae: 14.0783 - val_mse: 1010.6129\n",
            "Epoch 97/100\n",
            "53/53 [==============================] - 28s 537ms/step - loss: 3578.7253 - mae: 25.7924 - mse: 3578.7253 - val_loss: 1105.4493 - val_mae: 16.8331 - val_mse: 1105.4493\n",
            "Epoch 98/100\n",
            "53/53 [==============================] - 28s 537ms/step - loss: 2528.6123 - mae: 24.9875 - mse: 2528.6123 - val_loss: 1060.7657 - val_mae: 15.0044 - val_mse: 1060.7657\n",
            "Epoch 99/100\n",
            "53/53 [==============================] - 29s 551ms/step - loss: 2413.6660 - mae: 24.5148 - mse: 2413.6660 - val_loss: 1014.8422 - val_mae: 14.4663 - val_mse: 1014.8422\n",
            "Epoch 100/100\n",
            "53/53 [==============================] - 29s 544ms/step - loss: 2168.4634 - mae: 23.7728 - mse: 2168.4634 - val_loss: 1074.1868 - val_mae: 15.1090 - val_mse: 1074.1868\n"
          ]
        }
      ]
    },
    {
      "cell_type": "markdown",
      "source": [
        "Predictions\n",
        "\n"
      ],
      "metadata": {
        "id": "ykyI87uZAFYU"
      }
    },
    {
      "cell_type": "code",
      "source": [
        "train_idx[:T+1]=False"
      ],
      "metadata": {
        "id": "k0XDQv2l-_2x"
      },
      "execution_count": 113,
      "outputs": []
    },
    {
      "cell_type": "code",
      "source": [
        "Ptrain_lstm_cnn=model_lstm_cnn.predict(Xtrain).flatten()\n",
        "Ptest_lstm_cnn=model_lstm_cnn.predict(Xtest).flatten()"
      ],
      "metadata": {
        "id": "wJ3J-Cvv_oLA"
      },
      "execution_count": 114,
      "outputs": []
    },
    {
      "cell_type": "code",
      "source": [
        "Ptrain_lstm_gru=model_lstm_gru.predict(Xtrain).flatten()\n",
        "Ptest_lstm_gru=model_lstm_gru.predict(Xtest).flatten()"
      ],
      "metadata": {
        "id": "r9GuOYr-_oRf"
      },
      "execution_count": 115,
      "outputs": []
    },
    {
      "cell_type": "code",
      "source": [
        "df.loc[train_idx,'Diff LSTM+CNN train prediction']=Ptrain_lstm_cnn\n",
        "df.loc[test_idx,'Diff LSTM+CNN test prediction']=Ptest_lstm_cnn"
      ],
      "metadata": {
        "id": "-ZvHYeDl_oYI"
      },
      "execution_count": null,
      "outputs": []
    },
    {
      "cell_type": "code",
      "source": [
        "df.loc[train_idx,'Diff LSTM+GRU train prediction']=Ptrain_lstm_gru\n",
        "df.loc[test_idx,'Diff LSTM+GRU test prediction']=Ptest_lstm_gru"
      ],
      "metadata": {
        "id": "h0xk_CKv_7mw"
      },
      "execution_count": 117,
      "outputs": []
    },
    {
      "cell_type": "code",
      "source": [
        "df['Shift Prev Close']=df['Prev Close'].shift(1)\n",
        "prev=df['Shift Prev Close']"
      ],
      "metadata": {
        "id": "-9ekKxJr_7pu"
      },
      "execution_count": 118,
      "outputs": []
    },
    {
      "cell_type": "code",
      "source": [
        "last_train=train.iloc[-1]['Prev Close']"
      ],
      "metadata": {
        "id": "Qd-4VnON_7tL"
      },
      "execution_count": 119,
      "outputs": []
    },
    {
      "cell_type": "code",
      "source": [
        "df.loc[train_idx,'train_LSTM_CNN']=prev[train_idx]+Ptrain_lstm_cnn\n",
        "df.loc[test_idx,'Prediction_LSTM_CNN']=prev[test_idx]+Ptest_lstm_cnn"
      ],
      "metadata": {
        "id": "wIUM_MvYALoR"
      },
      "execution_count": 120,
      "outputs": []
    },
    {
      "cell_type": "code",
      "source": [
        "df.loc[train_idx,'train_LSTM_GRU']=prev[train_idx]+Ptrain_lstm_gru\n",
        "df.loc[test_idx,'Prediction_LSTM_GRU']=prev[test_idx]+Ptest_lstm_gru"
      ],
      "metadata": {
        "id": "4dA6pDYTANWK"
      },
      "execution_count": 121,
      "outputs": []
    },
    {
      "cell_type": "code",
      "source": [
        "df[['Prev Close' ,'Prediction_LSTM_CNN','Prediction_LSTM_GRU']].plot(figsize=(15,10));"
      ],
      "metadata": {
        "colab": {
          "base_uri": "https://localhost:8080/",
          "height": 416
        },
        "id": "f8KVkcj8AaPm",
        "outputId": "9c975000-d11f-452e-bc2d-1dd9e412fb04"
      },
      "execution_count": 122,
      "outputs": [
        {
          "output_type": "display_data",
          "data": {
            "text/plain": [
              "<Figure size 1080x720 with 1 Axes>"
            ],
            "image/png": "[encoded data removed]"
          },
          "metadata": {
            "needs_background": "light"
          }
        }
      ]
    },
    {
      "cell_type": "code",
      "source": [
        "df[['Prediction_LSTM_CNN','Prediction_LSTM_GRU']].plot(figsize=(15,10));"
      ],
      "metadata": {
        "colab": {
          "base_uri": "https://localhost:8080/",
          "height": 422
        },
        "id": "ZYDW87n5Anf9",
        "outputId": "b835d191-ef78-4081-c810-778ee7e622de"
      },
      "execution_count": 123,
      "outputs": [
        {
          "output_type": "display_data",
          "data": {
            "text/plain": [
              "<Figure size 1080x720 with 1 Axes>"
            ],
            "image/png": "[encoded data removed]"
          },
          "metadata": {
            "needs_background": "light"
          }
        }
      ]
    },
    {
      "cell_type": "code",
      "source": [
        "pred_lstm_cnn=df['Prediction_LSTM_CNN']\n",
        "pred_lstm_cnn.dropna(inplace=True)"
      ],
      "metadata": {
        "id": "gj8xug0lAxWl"
      },
      "execution_count": 124,
      "outputs": []
    },
    {
      "cell_type": "code",
      "source": [
        "rmse=math.sqrt(mean_squared_error(test['Prev Close'],pred_lstm_cnn))\n",
        "print(rmse)"
      ],
      "metadata": {
        "colab": {
          "base_uri": "https://localhost:8080/"
        },
        "id": "rakkuhBuA-qw",
        "outputId": "1edd9c1f-e46c-4c92-f466-d79e6abbc0cc"
      },
      "execution_count": 125,
      "outputs": [
        {
          "output_type": "stream",
          "name": "stdout",
          "text": [
            "30.244741122602676\n"
          ]
        }
      ]
    },
    {
      "cell_type": "code",
      "source": [
        "error=mean_absolute_error(test['Prev Close'],pred_lstm_cnn)\n",
        "print(error)"
      ],
      "metadata": {
        "colab": {
          "base_uri": "https://localhost:8080/"
        },
        "id": "9wztKO3rBHqx",
        "outputId": "8e95e68c-d280-4f1a-ee0a-e859da585a5f"
      },
      "execution_count": 126,
      "outputs": [
        {
          "output_type": "stream",
          "name": "stdout",
          "text": [
            "12.442746770590503\n"
          ]
        }
      ]
    },
    {
      "cell_type": "code",
      "source": [
        "r2_score(test['Prev Close'],pred_lstm_cnn)"
      ],
      "metadata": {
        "colab": {
          "base_uri": "https://localhost:8080/"
        },
        "id": "OXbq8UpSBH9g",
        "outputId": "fb00cd2c-ef11-4086-9793-4681cfcad285"
      },
      "execution_count": 127,
      "outputs": [
        {
          "output_type": "execute_result",
          "data": {
            "text/plain": [
              "0.9821323549184373"
            ]
          },
          "metadata": {},
          "execution_count": 127
        }
      ]
    },
    {
      "cell_type": "code",
      "source": [
        "pred_lstm_gru=df['Prediction_LSTM_GRU']\n",
        "pred_lstm_gru.dropna(inplace=True)"
      ],
      "metadata": {
        "id": "kaOiSQKJBRUU"
      },
      "execution_count": 128,
      "outputs": []
    },
    {
      "cell_type": "code",
      "source": [
        "rmse=math.sqrt(mean_squared_error(test['Prev Close'],pred_lstm_cnn))\n",
        "print(rmse)"
      ],
      "metadata": {
        "colab": {
          "base_uri": "https://localhost:8080/"
        },
        "id": "7UBA8PW2BRex",
        "outputId": "53e6c042-c23b-48eb-90fc-a35b0632a764"
      },
      "execution_count": 129,
      "outputs": [
        {
          "output_type": "stream",
          "name": "stdout",
          "text": [
            "30.244741122602676\n"
          ]
        }
      ]
    },
    {
      "cell_type": "code",
      "source": [
        "error=mean_absolute_error(test['Prev Close'],pred_lstm_gru)\n",
        "print(error)"
      ],
      "metadata": {
        "colab": {
          "base_uri": "https://localhost:8080/"
        },
        "id": "9zf0Qkl4BRo1",
        "outputId": "13869c4e-430a-4aef-e053-e53998b1b259"
      },
      "execution_count": 130,
      "outputs": [
        {
          "output_type": "stream",
          "name": "stdout",
          "text": [
            "15.10899246517684\n"
          ]
        }
      ]
    },
    {
      "cell_type": "code",
      "source": [
        "r2_score(test['Prev Close'],pred_lstm_gru)"
      ],
      "metadata": {
        "colab": {
          "base_uri": "https://localhost:8080/"
        },
        "id": "2TgbreYrBRzp",
        "outputId": "6bc59a91-051c-4af1-d5be-deeb9203fd8d"
      },
      "execution_count": 131,
      "outputs": [
        {
          "output_type": "execute_result",
          "data": {
            "text/plain": [
              "0.9790179769436936"
            ]
          },
          "metadata": {},
          "execution_count": 131
        }
      ]
    },
    {
      "cell_type": "code",
      "source": [],
      "metadata": {
        "id": "E7qIDFyEBlEl"
      },
      "execution_count": 131,
      "outputs": []
    }
  ]
}