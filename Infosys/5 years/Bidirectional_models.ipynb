{
  "nbformat": 4,
  "nbformat_minor": 0,
  "metadata": {
    "colab": {
      "provenance": [],
      "collapsed_sections": []
    },
    "kernelspec": {
      "name": "python3",
      "display_name": "Python 3"
    },
    "language_info": {
      "name": "python"
    }
  },
  "cells": [
    {
      "cell_type": "code",
      "execution_count": 168,
      "metadata": {
        "id": "ZVEUR9Z46zJ7"
      },
      "outputs": [],
      "source": [
        "import pandas as pd\n",
        "import numpy as np\n",
        "import matplotlib.pyplot as plt\n",
        "\n",
        "import tensorflow as tf\n",
        "from tensorflow.keras.layers import Dense, Input, GlobalMaxPool1D, GRU,LSTM, Bidirectional\n",
        "from tensorflow.keras.models import Model\n",
        "from tensorflow.keras.callbacks import ModelCheckpoint\n",
        "\n",
        "import math\n",
        "\n",
        "from sklearn.metrics import r2_score\n",
        "from sklearn.metrics import mean_absolute_error\n",
        "from sklearn.metrics import mean_squared_error\n",
        "\n",
        "np.random.seed(123)\n",
        "tf.random.set_seed(123)"
      ]
    },
    {
      "cell_type": "code",
      "source": [
        "df=pd.read_csv('./INFY.csv',index_col='Date',parse_dates=True)"
      ],
      "metadata": {
        "id": "hGNJlPX-7FQ_"
      },
      "execution_count": 169,
      "outputs": []
    },
    {
      "cell_type": "code",
      "source": [
        "df"
      ],
      "metadata": {
        "colab": {
          "base_uri": "https://localhost:8080/",
          "height": 710
        },
        "id": "_fw_w6SY7PDd",
        "outputId": "efdaa519-dce0-470c-9921-a5f17124ab46"
      },
      "execution_count": 170,
      "outputs": [
        {
          "output_type": "execute_result",
          "data": {
            "text/plain": [
              "                Symbol Series  Prev Close      Open      High       Low  \\\n",
              "Date                                                                      \n",
              "2000-01-03  INFOSYSTCH     EQ    14467.75  15625.00  15625.20  15625.00   \n",
              "2000-01-04  INFOSYSTCH     EQ    15625.20  16800.00  16875.25  16253.00   \n",
              "2000-01-05  INFOSYSTCH     EQ    16855.90  15701.00  16250.00  15507.45   \n",
              "2000-01-06  INFOSYSTCH     EQ    15507.45  15256.65  15300.00  14266.85   \n",
              "2000-01-07  INFOSYSTCH     EQ    14266.85  13125.50  13125.50  13125.50   \n",
              "...                ...    ...         ...       ...       ...       ...   \n",
              "2021-04-26        INFY     EQ     1333.80   1332.25   1351.30   1321.00   \n",
              "2021-04-27        INFY     EQ     1343.55   1346.00   1353.00   1340.15   \n",
              "2021-04-28        INFY     EQ     1348.50   1358.00   1359.50   1344.60   \n",
              "2021-04-29        INFY     EQ     1356.00   1368.00   1369.00   1351.40   \n",
              "2021-04-30        INFY     EQ     1356.35   1346.30   1373.90   1345.90   \n",
              "\n",
              "                Last     Close      VWAP   Volume      Turnover    Trades  \\\n",
              "Date                                                                        \n",
              "2000-01-03  15625.20  15625.20  15625.18     5137  8.026657e+12       NaN   \n",
              "2000-01-04  16875.25  16855.90  16646.38    56186  9.352937e+13       NaN   \n",
              "2000-01-05  15507.45  15507.45  15786.38   164605  2.598516e+14       NaN   \n",
              "2000-01-06  14266.85  14266.85  14462.82    81997  1.185908e+14       NaN   \n",
              "2000-01-07  13125.50  13125.50  13125.50     7589  9.960942e+12       NaN   \n",
              "...              ...       ...       ...      ...           ...       ...   \n",
              "2021-04-26   1345.00   1343.55   1343.19  7088606  9.521361e+14  130375.0   \n",
              "2021-04-27   1347.50   1348.50   1346.89  3636115  4.897445e+14  145974.0   \n",
              "2021-04-28   1355.80   1356.00   1353.45  4879234  6.603778e+14  137376.0   \n",
              "2021-04-29   1356.00   1356.35   1360.05  5412357  7.361090e+14  119277.0   \n",
              "2021-04-30   1348.60   1354.35   1361.16  8354677  1.137203e+15  131718.0   \n",
              "\n",
              "            Deliverable Volume  %Deliverble  \n",
              "Date                                         \n",
              "2000-01-03                 NaN          NaN  \n",
              "2000-01-04                 NaN          NaN  \n",
              "2000-01-05                 NaN          NaN  \n",
              "2000-01-06                 NaN          NaN  \n",
              "2000-01-07                 NaN          NaN  \n",
              "...                        ...          ...  \n",
              "2021-04-26           4218129.0       0.5951  \n",
              "2021-04-27           1871084.0       0.5146  \n",
              "2021-04-28           2857134.0       0.5856  \n",
              "2021-04-29           3130945.0       0.5785  \n",
              "2021-04-30           5408113.0       0.6473  \n",
              "\n",
              "[5306 rows x 14 columns]"
            ],
            "text/html": [
              "\n",
              "  <div id=\"df-583ff1f8-80b5-4ab5-9be5-42b91c673cd3\">\n",
              "    <div class=\"colab-df-container\">\n",
              "      <div>\n",
              "<style scoped>\n",
              "    .dataframe tbody tr th:only-of-type {\n",
              "        vertical-align: middle;\n",
              "    }\n",
              "\n",
              "    .dataframe tbody tr th {\n",
              "        vertical-align: top;\n",
              "    }\n",
              "\n",
              "    .dataframe thead th {\n",
              "        text-align: right;\n",
              "    }\n",
              "</style>\n",
              "<table border=\"1\" class=\"dataframe\">\n",
              "  <thead>\n",
              "    <tr style=\"text-align: right;\">\n",
              "      <th></th>\n",
              "      <th>Symbol</th>\n",
              "      <th>Series</th>\n",
              "      <th>Prev Close</th>\n",
              "      <th>Open</th>\n",
              "      <th>High</th>\n",
              "      <th>Low</th>\n",
              "      <th>Last</th>\n",
              "      <th>Close</th>\n",
              "      <th>VWAP</th>\n",
              "      <th>Volume</th>\n",
              "      <th>Turnover</th>\n",
              "      <th>Trades</th>\n",
              "      <th>Deliverable Volume</th>\n",
              "      <th>%Deliverble</th>\n",
              "    </tr>\n",
              "    <tr>\n",
              "      <th>Date</th>\n",
              "      <th></th>\n",
              "      <th></th>\n",
              "      <th></th>\n",
              "      <th></th>\n",
              "      <th></th>\n",
              "      <th></th>\n",
              "      <th></th>\n",
              "      <th></th>\n",
              "      <th></th>\n",
              "      <th></th>\n",
              "      <th></th>\n",
              "      <th></th>\n",
              "      <th></th>\n",
              "      <th></th>\n",
              "    </tr>\n",
              "  </thead>\n",
              "  <tbody>\n",
              "    <tr>\n",
              "      <th>2000-01-03</th>\n",
              "      <td>INFOSYSTCH</td>\n",
              "      <td>EQ</td>\n",
              "      <td>14467.75</td>\n",
              "      <td>15625.00</td>\n",
              "      <td>15625.20</td>\n",
              "      <td>15625.00</td>\n",
              "      <td>15625.20</td>\n",
              "      <td>15625.20</td>\n",
              "      <td>15625.18</td>\n",
              "      <td>5137</td>\n",
              "      <td>8.026657e+12</td>\n",
              "      <td>NaN</td>\n",
              "      <td>NaN</td>\n",
              "      <td>NaN</td>\n",
              "    </tr>\n",
              "    <tr>\n",
              "      <th>2000-01-04</th>\n",
              "      <td>INFOSYSTCH</td>\n",
              "      <td>EQ</td>\n",
              "      <td>15625.20</td>\n",
              "      <td>16800.00</td>\n",
              "      <td>16875.25</td>\n",
              "      <td>16253.00</td>\n",
              "      <td>16875.25</td>\n",
              "      <td>16855.90</td>\n",
              "      <td>16646.38</td>\n",
              "      <td>56186</td>\n",
              "      <td>9.352937e+13</td>\n",
              "      <td>NaN</td>\n",
              "      <td>NaN</td>\n",
              "      <td>NaN</td>\n",
              "    </tr>\n",
              "    <tr>\n",
              "      <th>2000-01-05</th>\n",
              "      <td>INFOSYSTCH</td>\n",
              "      <td>EQ</td>\n",
              "      <td>16855.90</td>\n",
              "      <td>15701.00</td>\n",
              "      <td>16250.00</td>\n",
              "      <td>15507.45</td>\n",
              "      <td>15507.45</td>\n",
              "      <td>15507.45</td>\n",
              "      <td>15786.38</td>\n",
              "      <td>164605</td>\n",
              "      <td>2.598516e+14</td>\n",
              "      <td>NaN</td>\n",
              "      <td>NaN</td>\n",
              "      <td>NaN</td>\n",
              "    </tr>\n",
              "    <tr>\n",
              "      <th>2000-01-06</th>\n",
              "      <td>INFOSYSTCH</td>\n",
              "      <td>EQ</td>\n",
              "      <td>15507.45</td>\n",
              "      <td>15256.65</td>\n",
              "      <td>15300.00</td>\n",
              "      <td>14266.85</td>\n",
              "      <td>14266.85</td>\n",
              "      <td>14266.85</td>\n",
              "      <td>14462.82</td>\n",
              "      <td>81997</td>\n",
              "      <td>1.185908e+14</td>\n",
              "      <td>NaN</td>\n",
              "      <td>NaN</td>\n",
              "      <td>NaN</td>\n",
              "    </tr>\n",
              "    <tr>\n",
              "      <th>2000-01-07</th>\n",
              "      <td>INFOSYSTCH</td>\n",
              "      <td>EQ</td>\n",
              "      <td>14266.85</td>\n",
              "      <td>13125.50</td>\n",
              "      <td>13125.50</td>\n",
              "      <td>13125.50</td>\n",
              "      <td>13125.50</td>\n",
              "      <td>13125.50</td>\n",
              "      <td>13125.50</td>\n",
              "      <td>7589</td>\n",
              "      <td>9.960942e+12</td>\n",
              "      <td>NaN</td>\n",
              "      <td>NaN</td>\n",
              "      <td>NaN</td>\n",
              "    </tr>\n",
              "    <tr>\n",
              "      <th>...</th>\n",
              "      <td>...</td>\n",
              "      <td>...</td>\n",
              "      <td>...</td>\n",
              "      <td>...</td>\n",
              "      <td>...</td>\n",
              "      <td>...</td>\n",
              "      <td>...</td>\n",
              "      <td>...</td>\n",
              "      <td>...</td>\n",
              "      <td>...</td>\n",
              "      <td>...</td>\n",
              "      <td>...</td>\n",
              "      <td>...</td>\n",
              "      <td>...</td>\n",
              "    </tr>\n",
              "    <tr>\n",
              "      <th>2021-04-26</th>\n",
              "      <td>INFY</td>\n",
              "      <td>EQ</td>\n",
              "      <td>1333.80</td>\n",
              "      <td>1332.25</td>\n",
              "      <td>1351.30</td>\n",
              "      <td>1321.00</td>\n",
              "      <td>1345.00</td>\n",
              "      <td>1343.55</td>\n",
              "      <td>1343.19</td>\n",
              "      <td>7088606</td>\n",
              "      <td>9.521361e+14</td>\n",
              "      <td>130375.0</td>\n",
              "      <td>4218129.0</td>\n",
              "      <td>0.5951</td>\n",
              "    </tr>\n",
              "    <tr>\n",
              "      <th>2021-04-27</th>\n",
              "      <td>INFY</td>\n",
              "      <td>EQ</td>\n",
              "      <td>1343.55</td>\n",
              "      <td>1346.00</td>\n",
              "      <td>1353.00</td>\n",
              "      <td>1340.15</td>\n",
              "      <td>1347.50</td>\n",
              "      <td>1348.50</td>\n",
              "      <td>1346.89</td>\n",
              "      <td>3636115</td>\n",
              "      <td>4.897445e+14</td>\n",
              "      <td>145974.0</td>\n",
              "      <td>1871084.0</td>\n",
              "      <td>0.5146</td>\n",
              "    </tr>\n",
              "    <tr>\n",
              "      <th>2021-04-28</th>\n",
              "      <td>INFY</td>\n",
              "      <td>EQ</td>\n",
              "      <td>1348.50</td>\n",
              "      <td>1358.00</td>\n",
              "      <td>1359.50</td>\n",
              "      <td>1344.60</td>\n",
              "      <td>1355.80</td>\n",
              "      <td>1356.00</td>\n",
              "      <td>1353.45</td>\n",
              "      <td>4879234</td>\n",
              "      <td>6.603778e+14</td>\n",
              "      <td>137376.0</td>\n",
              "      <td>2857134.0</td>\n",
              "      <td>0.5856</td>\n",
              "    </tr>\n",
              "    <tr>\n",
              "      <th>2021-04-29</th>\n",
              "      <td>INFY</td>\n",
              "      <td>EQ</td>\n",
              "      <td>1356.00</td>\n",
              "      <td>1368.00</td>\n",
              "      <td>1369.00</td>\n",
              "      <td>1351.40</td>\n",
              "      <td>1356.00</td>\n",
              "      <td>1356.35</td>\n",
              "      <td>1360.05</td>\n",
              "      <td>5412357</td>\n",
              "      <td>7.361090e+14</td>\n",
              "      <td>119277.0</td>\n",
              "      <td>3130945.0</td>\n",
              "      <td>0.5785</td>\n",
              "    </tr>\n",
              "    <tr>\n",
              "      <th>2021-04-30</th>\n",
              "      <td>INFY</td>\n",
              "      <td>EQ</td>\n",
              "      <td>1356.35</td>\n",
              "      <td>1346.30</td>\n",
              "      <td>1373.90</td>\n",
              "      <td>1345.90</td>\n",
              "      <td>1348.60</td>\n",
              "      <td>1354.35</td>\n",
              "      <td>1361.16</td>\n",
              "      <td>8354677</td>\n",
              "      <td>1.137203e+15</td>\n",
              "      <td>131718.0</td>\n",
              "      <td>5408113.0</td>\n",
              "      <td>0.6473</td>\n",
              "    </tr>\n",
              "  </tbody>\n",
              "</table>\n",
              "<p>5306 rows × 14 columns</p>\n",
              "</div>\n",
              "      <button class=\"colab-df-convert\" onclick=\"convertToInteractive('df-583ff1f8-80b5-4ab5-9be5-42b91c673cd3')\"\n",
              "              title=\"Convert this dataframe to an interactive table.\"\n",
              "              style=\"display:none;\">\n",
              "        \n",
              "  <svg xmlns=\"http://www.w3.org/2000/svg\" height=\"24px\"viewBox=\"0 0 24 24\"\n",
              "       width=\"24px\">\n",
              "    <path d=\"M0 0h24v24H0V0z\" fill=\"none\"/>\n",
              "    <path d=\"M18.56 5.44l.94 2.06.94-2.06 2.06-.94-2.06-.94-.94-2.06-.94 2.06-2.06.94zm-11 1L8.5 8.5l.94-2.06 2.06-.94-2.06-.94L8.5 2.5l-.94 2.06-2.06.94zm10 10l.94 2.06.94-2.06 2.06-.94-2.06-.94-.94-2.06-.94 2.06-2.06.94z\"/><path d=\"M17.41 7.96l-1.37-1.37c-.4-.4-.92-.59-1.43-.59-.52 0-1.04.2-1.43.59L10.3 9.45l-7.72 7.72c-.78.78-.78 2.05 0 2.83L4 21.41c.39.39.9.59 1.41.59.51 0 1.02-.2 1.41-.59l7.78-7.78 2.81-2.81c.8-.78.8-2.07 0-2.86zM5.41 20L4 18.59l7.72-7.72 1.47 1.35L5.41 20z\"/>\n",
              "  </svg>\n",
              "      </button>\n",
              "      \n",
              "  <style>\n",
              "    .colab-df-container {\n",
              "      display:flex;\n",
              "      flex-wrap:wrap;\n",
              "      gap: 12px;\n",
              "    }\n",
              "\n",
              "    .colab-df-convert {\n",
              "      background-color: #E8F0FE;\n",
              "      border: none;\n",
              "      border-radius: 50%;\n",
              "      cursor: pointer;\n",
              "      display: none;\n",
              "      fill: #1967D2;\n",
              "      height: 32px;\n",
              "      padding: 0 0 0 0;\n",
              "      width: 32px;\n",
              "    }\n",
              "\n",
              "    .colab-df-convert:hover {\n",
              "      background-color: #E2EBFA;\n",
              "      box-shadow: 0px 1px 2px rgba(60, 64, 67, 0.3), 0px 1px 3px 1px rgba(60, 64, 67, 0.15);\n",
              "      fill: #174EA6;\n",
              "    }\n",
              "\n",
              "    [theme=dark] .colab-df-convert {\n",
              "      background-color: #3B4455;\n",
              "      fill: #D2E3FC;\n",
              "    }\n",
              "\n",
              "    [theme=dark] .colab-df-convert:hover {\n",
              "      background-color: #434B5C;\n",
              "      box-shadow: 0px 1px 3px 1px rgba(0, 0, 0, 0.15);\n",
              "      filter: drop-shadow(0px 1px 2px rgba(0, 0, 0, 0.3));\n",
              "      fill: #FFFFFF;\n",
              "    }\n",
              "  </style>\n",
              "\n",
              "      <script>\n",
              "        const buttonEl =\n",
              "          document.querySelector('#df-583ff1f8-80b5-4ab5-9be5-42b91c673cd3 button.colab-df-convert');\n",
              "        buttonEl.style.display =\n",
              "          google.colab.kernel.accessAllowed ? 'block' : 'none';\n",
              "\n",
              "        async function convertToInteractive(key) {\n",
              "          const element = document.querySelector('#df-583ff1f8-80b5-4ab5-9be5-42b91c673cd3');\n",
              "          const dataTable =\n",
              "            await google.colab.kernel.invokeFunction('convertToInteractive',\n",
              "                                                     [key], {});\n",
              "          if (!dataTable) return;\n",
              "\n",
              "          const docLinkHtml = 'Like what you see? Visit the ' +\n",
              "            '<a target=\"_blank\" href=https://colab.research.google.com/notebooks/data_table.ipynb>data table notebook</a>'\n",
              "            + ' to learn more about interactive tables.';\n",
              "          element.innerHTML = '';\n",
              "          dataTable['output_type'] = 'display_data';\n",
              "          await google.colab.output.renderOutput(dataTable, element);\n",
              "          const docLink = document.createElement('div');\n",
              "          docLink.innerHTML = docLinkHtml;\n",
              "          element.appendChild(docLink);\n",
              "        }\n",
              "      </script>\n",
              "    </div>\n",
              "  </div>\n",
              "  "
            ]
          },
          "metadata": {},
          "execution_count": 170
        }
      ]
    },
    {
      "cell_type": "code",
      "source": [
        "df['Date']=df.index"
      ],
      "metadata": {
        "id": "zwmfESni7gKn"
      },
      "execution_count": 171,
      "outputs": []
    },
    {
      "cell_type": "code",
      "source": [
        "start_date='2016-01-01'\n",
        "end_date='2020-12-31'\n",
        "mask=(df['Date']>=start_date)&(df['Date']<=end_date)"
      ],
      "metadata": {
        "id": "R6njdWuX7i6e"
      },
      "execution_count": 172,
      "outputs": []
    },
    {
      "cell_type": "code",
      "source": [
        "df=df.loc[mask]"
      ],
      "metadata": {
        "id": "1gvhNCc_7lCh"
      },
      "execution_count": 173,
      "outputs": []
    },
    {
      "cell_type": "code",
      "source": [
        "df=df.loc[mask]"
      ],
      "metadata": {
        "id": "H7T84rNE7lFn"
      },
      "execution_count": 174,
      "outputs": []
    },
    {
      "cell_type": "code",
      "source": [
        "df=df.drop(columns=['Series','Symbol','Open','High','Low','Last','Close','VWAP','Volume','Turnover','Trades','Deliverable Volume','%Deliverble','Date'])"
      ],
      "metadata": {
        "id": "KosKVO_j7lIn"
      },
      "execution_count": 175,
      "outputs": []
    },
    {
      "cell_type": "code",
      "source": [
        "Ntest=math.trunc(0.3*len(df))\n",
        "train=df.iloc[:-Ntest]\n",
        "test=df.iloc[-Ntest:]"
      ],
      "metadata": {
        "id": "7YW96kEv7lLh"
      },
      "execution_count": 176,
      "outputs": []
    },
    {
      "cell_type": "code",
      "source": [
        "train_idx=df.index<=train.index[-1]\n",
        "test_idx=df.index>train.index[-1]"
      ],
      "metadata": {
        "id": "NhwqMQ7r7lOX"
      },
      "execution_count": 177,
      "outputs": []
    },
    {
      "cell_type": "code",
      "source": [
        "df['Diff Prev Close']=df['Prev Close'].diff()"
      ],
      "metadata": {
        "id": "QtuPaMDJ7lQ_"
      },
      "execution_count": 178,
      "outputs": []
    },
    {
      "cell_type": "code",
      "source": [
        "series=df['Diff Prev Close'].dropna().to_numpy()\n",
        "\n",
        "T=50\n",
        "X=[]\n",
        "Y=[]\n",
        "for t in range(len(series)-T):\n",
        "  x=series[t:t+T]\n",
        "  X.append(x)\n",
        "  y=series[t+T]\n",
        "  Y.append(y)\n",
        "\n",
        "X=np.array(X).reshape(-1,T)\n",
        "Y=np.array(Y)\n",
        "N=len(X)\n",
        "print(\"X.shape\",X.shape,\"Y.shape\",Y.shape)"
      ],
      "metadata": {
        "colab": {
          "base_uri": "https://localhost:8080/"
        },
        "id": "WJeTN9cL7tkq",
        "outputId": "8758559b-d6bf-4c9c-9f55-02270858e2a6"
      },
      "execution_count": 179,
      "outputs": [
        {
          "output_type": "stream",
          "name": "stdout",
          "text": [
            "X.shape (1187, 50) Y.shape (1187,)\n"
          ]
        }
      ]
    },
    {
      "cell_type": "code",
      "source": [
        "Xtrain,Ytrain=X[:-Ntest],Y[:-Ntest]\n",
        "Xtest,Ytest=X[-Ntest:],Y[-Ntest:]"
      ],
      "metadata": {
        "id": "dE1vSivZ7tn-"
      },
      "execution_count": 180,
      "outputs": []
    },
    {
      "cell_type": "markdown",
      "source": [
        "Bi-LSTM"
      ],
      "metadata": {
        "id": "Y6SYTxcf8HrV"
      }
    },
    {
      "cell_type": "code",
      "source": [
        "i=Input(shape=(T,1))\n",
        "x=Bidirectional(LSTM(200,return_sequences=True))(i)\n",
        "x=Bidirectional(LSTM(200,return_sequences=True))(x)\n",
        "x=GlobalMaxPool1D()(x)\n",
        "x=Dense(100)(x)\n",
        "x=Dense(50)(x)\n",
        "x=Dense(1)(x)\n",
        "model_bi_lstm=Model(i,x)\n",
        "model_bi_lstm.summary()"
      ],
      "metadata": {
        "colab": {
          "base_uri": "https://localhost:8080/"
        },
        "id": "uk3JcnRf7trE",
        "outputId": "6713364f-e9ce-4f52-8606-0e02d157673e"
      },
      "execution_count": 181,
      "outputs": [
        {
          "output_type": "stream",
          "name": "stdout",
          "text": [
            "Model: \"model_10\"\n",
            "_________________________________________________________________\n",
            " Layer (type)                Output Shape              Param #   \n",
            "=================================================================\n",
            " input_11 (InputLayer)       [(None, 50, 1)]           0         \n",
            "                                                                 \n",
            " bidirectional_20 (Bidirecti  (None, 50, 400)          323200    \n",
            " onal)                                                           \n",
            "                                                                 \n",
            " bidirectional_21 (Bidirecti  (None, 50, 400)          961600    \n",
            " onal)                                                           \n",
            "                                                                 \n",
            " global_max_pooling1d_10 (Gl  (None, 400)              0         \n",
            " obalMaxPooling1D)                                               \n",
            "                                                                 \n",
            " dense_30 (Dense)            (None, 100)               40100     \n",
            "                                                                 \n",
            " dense_31 (Dense)            (None, 50)                5050      \n",
            "                                                                 \n",
            " dense_32 (Dense)            (None, 1)                 51        \n",
            "                                                                 \n",
            "=================================================================\n",
            "Total params: 1,330,001\n",
            "Trainable params: 1,330,001\n",
            "Non-trainable params: 0\n",
            "_________________________________________________________________\n"
          ]
        }
      ]
    },
    {
      "cell_type": "code",
      "source": [
        "check_point_bi_lstm=ModelCheckpoint('best_model.h5',monitor='val_loss',save_best_only=True)"
      ],
      "metadata": {
        "id": "9NtxtRQm7tuD"
      },
      "execution_count": 182,
      "outputs": []
    },
    {
      "cell_type": "code",
      "source": [
        "model_bi_lstm.compile(loss='mse',\n",
        "              optimizer='adamax',\n",
        "              metrics=['mae','mse'])"
      ],
      "metadata": {
        "id": "Tb0KBami7txT"
      },
      "execution_count": 183,
      "outputs": []
    },
    {
      "cell_type": "code",
      "source": [
        "r=model_bi_lstm.fit(\n",
        "    Xtrain,\n",
        "    Ytrain,\n",
        "    epochs=100,\n",
        "    validation_data=(Xtest,Ytest),\n",
        "    callbacks=[check_point_bi_lstm]\n",
        ")"
      ],
      "metadata": {
        "colab": {
          "base_uri": "https://localhost:8080/"
        },
        "id": "Dl_RedqY7t0c",
        "outputId": "3e73a5f7-91a4-42c7-8c2e-ddf158b82cd3"
      },
      "execution_count": 184,
      "outputs": [
        {
          "output_type": "stream",
          "name": "stdout",
          "text": [
            "Epoch 1/100\n",
            "26/26 [==============================] - 27s 759ms/step - loss: 801.5783 - mae: 11.2233 - mse: 801.5783 - val_loss: 331.8176 - val_mae: 12.2423 - val_mse: 331.8176\n",
            "Epoch 2/100\n",
            "26/26 [==============================] - 18s 677ms/step - loss: 798.9897 - mae: 11.1725 - mse: 798.9897 - val_loss: 333.0276 - val_mae: 12.2623 - val_mse: 333.0276\n",
            "Epoch 3/100\n",
            "26/26 [==============================] - 18s 694ms/step - loss: 796.9224 - mae: 11.1543 - mse: 796.9224 - val_loss: 333.9950 - val_mae: 12.2700 - val_mse: 333.9950\n",
            "Epoch 4/100\n",
            "26/26 [==============================] - 18s 698ms/step - loss: 796.2259 - mae: 11.1380 - mse: 796.2259 - val_loss: 335.4282 - val_mae: 12.3085 - val_mse: 335.4282\n",
            "Epoch 5/100\n",
            "26/26 [==============================] - 18s 684ms/step - loss: 795.3876 - mae: 11.1286 - mse: 795.3876 - val_loss: 334.8273 - val_mae: 12.2809 - val_mse: 334.8273\n",
            "Epoch 6/100\n",
            "26/26 [==============================] - 18s 677ms/step - loss: 795.0463 - mae: 11.1783 - mse: 795.0463 - val_loss: 335.9290 - val_mae: 12.2568 - val_mse: 335.9290\n",
            "Epoch 7/100\n",
            "26/26 [==============================] - 17s 673ms/step - loss: 792.7453 - mae: 11.1094 - mse: 792.7453 - val_loss: 335.3148 - val_mae: 12.2666 - val_mse: 335.3148\n",
            "Epoch 8/100\n",
            "26/26 [==============================] - 18s 677ms/step - loss: 789.2310 - mae: 11.0948 - mse: 789.2310 - val_loss: 340.5179 - val_mae: 12.3899 - val_mse: 340.5179\n",
            "Epoch 9/100\n",
            "26/26 [==============================] - 17s 672ms/step - loss: 786.7035 - mae: 11.0849 - mse: 786.7035 - val_loss: 351.3076 - val_mae: 12.6496 - val_mse: 351.3076\n",
            "Epoch 10/100\n",
            "26/26 [==============================] - 17s 671ms/step - loss: 785.0732 - mae: 11.0774 - mse: 785.0732 - val_loss: 350.4346 - val_mae: 12.6357 - val_mse: 350.4346\n",
            "Epoch 11/100\n",
            "26/26 [==============================] - 17s 669ms/step - loss: 778.1553 - mae: 11.0630 - mse: 778.1553 - val_loss: 343.7338 - val_mae: 12.3002 - val_mse: 343.7338\n",
            "Epoch 12/100\n",
            "26/26 [==============================] - 17s 669ms/step - loss: 775.1854 - mae: 10.9153 - mse: 775.1854 - val_loss: 355.7975 - val_mae: 12.7265 - val_mse: 355.7975\n",
            "Epoch 13/100\n",
            "26/26 [==============================] - 18s 680ms/step - loss: 768.4586 - mae: 10.9054 - mse: 768.4586 - val_loss: 371.3730 - val_mae: 13.0598 - val_mse: 371.3730\n",
            "Epoch 14/100\n",
            "26/26 [==============================] - 18s 678ms/step - loss: 759.7146 - mae: 10.9549 - mse: 759.7146 - val_loss: 356.7312 - val_mae: 12.6187 - val_mse: 356.7312\n",
            "Epoch 15/100\n",
            "26/26 [==============================] - 17s 675ms/step - loss: 750.8192 - mae: 10.9882 - mse: 750.8192 - val_loss: 362.4159 - val_mae: 12.7226 - val_mse: 362.4159\n",
            "Epoch 16/100\n",
            "26/26 [==============================] - 17s 673ms/step - loss: 742.4192 - mae: 10.7474 - mse: 742.4192 - val_loss: 375.1314 - val_mae: 13.1064 - val_mse: 375.1314\n",
            "Epoch 17/100\n",
            "26/26 [==============================] - 18s 693ms/step - loss: 739.8127 - mae: 10.7471 - mse: 739.8127 - val_loss: 387.8136 - val_mae: 13.4024 - val_mse: 387.8136\n",
            "Epoch 18/100\n",
            "26/26 [==============================] - 18s 690ms/step - loss: 723.4229 - mae: 10.7019 - mse: 723.4229 - val_loss: 406.2384 - val_mae: 13.9101 - val_mse: 406.2384\n",
            "Epoch 19/100\n",
            "26/26 [==============================] - 18s 691ms/step - loss: 719.1165 - mae: 10.8571 - mse: 719.1165 - val_loss: 402.8012 - val_mae: 13.7346 - val_mse: 402.8012\n",
            "Epoch 20/100\n",
            "26/26 [==============================] - 18s 686ms/step - loss: 705.2395 - mae: 10.7290 - mse: 705.2395 - val_loss: 419.3016 - val_mae: 14.0391 - val_mse: 419.3016\n",
            "Epoch 21/100\n",
            "26/26 [==============================] - 18s 686ms/step - loss: 697.4804 - mae: 10.6374 - mse: 697.4804 - val_loss: 422.8964 - val_mae: 14.1931 - val_mse: 422.8964\n",
            "Epoch 22/100\n",
            "26/26 [==============================] - 18s 683ms/step - loss: 705.9886 - mae: 10.9671 - mse: 705.9886 - val_loss: 449.2656 - val_mae: 14.7377 - val_mse: 449.2656\n",
            "Epoch 23/100\n",
            "26/26 [==============================] - 18s 684ms/step - loss: 682.7476 - mae: 10.5849 - mse: 682.7476 - val_loss: 440.5936 - val_mae: 14.5379 - val_mse: 440.5936\n",
            "Epoch 24/100\n",
            "26/26 [==============================] - 18s 677ms/step - loss: 663.6562 - mae: 10.5218 - mse: 663.6562 - val_loss: 469.7035 - val_mae: 15.1896 - val_mse: 469.7035\n",
            "Epoch 25/100\n",
            "26/26 [==============================] - 17s 675ms/step - loss: 653.4160 - mae: 10.4675 - mse: 653.4160 - val_loss: 479.9237 - val_mae: 15.4155 - val_mse: 479.9237\n",
            "Epoch 26/100\n",
            "26/26 [==============================] - 18s 692ms/step - loss: 645.5845 - mae: 10.7326 - mse: 645.5845 - val_loss: 491.4926 - val_mae: 15.6643 - val_mse: 491.4926\n",
            "Epoch 27/100\n",
            "26/26 [==============================] - 18s 683ms/step - loss: 633.1830 - mae: 10.2877 - mse: 633.1830 - val_loss: 539.3243 - val_mae: 16.4373 - val_mse: 539.3243\n",
            "Epoch 28/100\n",
            "26/26 [==============================] - 18s 679ms/step - loss: 617.5543 - mae: 10.2771 - mse: 617.5543 - val_loss: 542.8920 - val_mae: 16.5362 - val_mse: 542.8920\n",
            "Epoch 29/100\n",
            "26/26 [==============================] - 17s 670ms/step - loss: 615.6571 - mae: 10.1991 - mse: 615.6571 - val_loss: 562.4048 - val_mae: 17.0153 - val_mse: 562.4048\n",
            "Epoch 30/100\n",
            "26/26 [==============================] - 17s 675ms/step - loss: 599.5524 - mae: 10.0660 - mse: 599.5524 - val_loss: 597.8624 - val_mae: 17.6183 - val_mse: 597.8624\n",
            "Epoch 31/100\n",
            "26/26 [==============================] - 17s 668ms/step - loss: 578.5020 - mae: 9.8911 - mse: 578.5020 - val_loss: 684.7037 - val_mae: 18.7349 - val_mse: 684.7037\n",
            "Epoch 32/100\n",
            "26/26 [==============================] - 17s 672ms/step - loss: 562.4191 - mae: 10.0209 - mse: 562.4191 - val_loss: 666.1842 - val_mae: 18.7861 - val_mse: 666.1842\n",
            "Epoch 33/100\n",
            "26/26 [==============================] - 17s 670ms/step - loss: 571.9783 - mae: 9.6396 - mse: 571.9783 - val_loss: 692.0305 - val_mae: 19.0807 - val_mse: 692.0305\n",
            "Epoch 34/100\n",
            "26/26 [==============================] - 17s 667ms/step - loss: 548.1426 - mae: 9.7799 - mse: 548.1426 - val_loss: 810.8533 - val_mae: 20.8078 - val_mse: 810.8533\n",
            "Epoch 35/100\n",
            "26/26 [==============================] - 18s 681ms/step - loss: 529.6447 - mae: 9.6542 - mse: 529.6447 - val_loss: 803.1053 - val_mae: 20.5120 - val_mse: 803.1053\n",
            "Epoch 36/100\n",
            "26/26 [==============================] - 17s 673ms/step - loss: 517.8307 - mae: 9.5995 - mse: 517.8307 - val_loss: 811.7061 - val_mae: 20.4101 - val_mse: 811.7061\n",
            "Epoch 37/100\n",
            "26/26 [==============================] - 17s 667ms/step - loss: 501.2659 - mae: 9.4032 - mse: 501.2659 - val_loss: 858.8348 - val_mae: 21.2354 - val_mse: 858.8348\n",
            "Epoch 38/100\n",
            "26/26 [==============================] - 17s 659ms/step - loss: 496.2700 - mae: 9.5656 - mse: 496.2700 - val_loss: 830.4631 - val_mae: 21.0386 - val_mse: 830.4631\n",
            "Epoch 39/100\n",
            "26/26 [==============================] - 17s 655ms/step - loss: 489.3092 - mae: 9.6436 - mse: 489.3092 - val_loss: 885.8746 - val_mae: 21.6667 - val_mse: 885.8746\n",
            "Epoch 40/100\n",
            "26/26 [==============================] - 17s 655ms/step - loss: 482.3819 - mae: 9.2696 - mse: 482.3819 - val_loss: 975.6802 - val_mae: 23.0356 - val_mse: 975.6802\n",
            "Epoch 41/100\n",
            "26/26 [==============================] - 17s 669ms/step - loss: 454.0445 - mae: 9.0968 - mse: 454.0445 - val_loss: 946.0837 - val_mae: 22.2287 - val_mse: 946.0837\n",
            "Epoch 42/100\n",
            "26/26 [==============================] - 17s 654ms/step - loss: 461.9090 - mae: 8.9691 - mse: 461.9090 - val_loss: 1018.7952 - val_mae: 23.1183 - val_mse: 1018.7952\n",
            "Epoch 43/100\n",
            "26/26 [==============================] - 18s 678ms/step - loss: 472.8612 - mae: 8.9207 - mse: 472.8612 - val_loss: 1163.9359 - val_mae: 25.0649 - val_mse: 1163.9359\n",
            "Epoch 44/100\n",
            "26/26 [==============================] - 17s 672ms/step - loss: 444.8298 - mae: 9.4819 - mse: 444.8298 - val_loss: 1071.4647 - val_mae: 23.6445 - val_mse: 1071.4647\n",
            "Epoch 45/100\n",
            "26/26 [==============================] - 17s 661ms/step - loss: 399.2186 - mae: 8.6052 - mse: 399.2186 - val_loss: 1138.5461 - val_mae: 24.1468 - val_mse: 1138.5461\n",
            "Epoch 46/100\n",
            "26/26 [==============================] - 17s 662ms/step - loss: 378.9378 - mae: 8.4499 - mse: 378.9378 - val_loss: 1179.0055 - val_mae: 24.8421 - val_mse: 1179.0055\n",
            "Epoch 47/100\n",
            "26/26 [==============================] - 17s 661ms/step - loss: 361.9545 - mae: 8.1816 - mse: 361.9545 - val_loss: 1297.4961 - val_mae: 25.8619 - val_mse: 1297.4961\n",
            "Epoch 48/100\n",
            "26/26 [==============================] - 17s 654ms/step - loss: 362.5312 - mae: 8.2997 - mse: 362.5312 - val_loss: 1344.9675 - val_mae: 26.0904 - val_mse: 1344.9675\n",
            "Epoch 49/100\n",
            "26/26 [==============================] - 17s 667ms/step - loss: 335.6835 - mae: 8.2848 - mse: 335.6835 - val_loss: 1444.5895 - val_mae: 26.8256 - val_mse: 1444.5895\n",
            "Epoch 50/100\n",
            "26/26 [==============================] - 17s 668ms/step - loss: 312.1138 - mae: 7.9184 - mse: 312.1138 - val_loss: 1667.8376 - val_mae: 29.1275 - val_mse: 1667.8376\n",
            "Epoch 51/100\n",
            "26/26 [==============================] - 17s 661ms/step - loss: 316.8748 - mae: 8.1854 - mse: 316.8748 - val_loss: 1560.6702 - val_mae: 28.1592 - val_mse: 1560.6702\n",
            "Epoch 52/100\n",
            "26/26 [==============================] - 17s 667ms/step - loss: 281.3602 - mae: 8.0958 - mse: 281.3602 - val_loss: 1561.0541 - val_mae: 28.4660 - val_mse: 1561.0541\n",
            "Epoch 53/100\n",
            "26/26 [==============================] - 17s 666ms/step - loss: 265.1221 - mae: 7.9004 - mse: 265.1221 - val_loss: 1651.5819 - val_mae: 29.0574 - val_mse: 1651.5819\n",
            "Epoch 54/100\n",
            "26/26 [==============================] - 17s 665ms/step - loss: 221.4254 - mae: 7.2088 - mse: 221.4254 - val_loss: 1845.8417 - val_mae: 30.2477 - val_mse: 1845.8417\n",
            "Epoch 55/100\n",
            "26/26 [==============================] - 17s 662ms/step - loss: 211.1100 - mae: 7.2509 - mse: 211.1100 - val_loss: 1898.7719 - val_mae: 30.7849 - val_mse: 1898.7719\n",
            "Epoch 56/100\n",
            "26/26 [==============================] - 17s 674ms/step - loss: 235.6699 - mae: 7.0609 - mse: 235.6699 - val_loss: 1863.6041 - val_mae: 30.6848 - val_mse: 1863.6041\n",
            "Epoch 57/100\n",
            "26/26 [==============================] - 17s 673ms/step - loss: 233.1527 - mae: 7.6119 - mse: 233.1527 - val_loss: 2162.9807 - val_mae: 32.5721 - val_mse: 2162.9807\n",
            "Epoch 58/100\n",
            "26/26 [==============================] - 17s 671ms/step - loss: 184.8627 - mae: 7.4511 - mse: 184.8627 - val_loss: 2230.0881 - val_mae: 32.8423 - val_mse: 2230.0881\n",
            "Epoch 59/100\n",
            "26/26 [==============================] - 17s 674ms/step - loss: 189.5453 - mae: 7.0206 - mse: 189.5453 - val_loss: 2136.4453 - val_mae: 32.3678 - val_mse: 2136.4453\n",
            "Epoch 60/100\n",
            "26/26 [==============================] - 17s 665ms/step - loss: 155.9022 - mae: 6.6487 - mse: 155.9022 - val_loss: 2169.9768 - val_mae: 32.5319 - val_mse: 2169.9768\n",
            "Epoch 61/100\n",
            "26/26 [==============================] - 17s 670ms/step - loss: 126.5433 - mae: 6.2406 - mse: 126.5433 - val_loss: 2672.7258 - val_mae: 35.7793 - val_mse: 2672.7258\n",
            "Epoch 62/100\n",
            "26/26 [==============================] - 17s 675ms/step - loss: 125.5411 - mae: 6.8893 - mse: 125.5411 - val_loss: 2394.1558 - val_mae: 33.7890 - val_mse: 2394.1558\n",
            "Epoch 63/100\n",
            "26/26 [==============================] - 17s 673ms/step - loss: 130.0785 - mae: 6.1165 - mse: 130.0785 - val_loss: 2229.0105 - val_mae: 33.1961 - val_mse: 2229.0105\n",
            "Epoch 64/100\n",
            "26/26 [==============================] - 18s 681ms/step - loss: 110.8595 - mae: 6.5968 - mse: 110.8595 - val_loss: 2467.8267 - val_mae: 34.5440 - val_mse: 2467.8264\n",
            "Epoch 65/100\n",
            "26/26 [==============================] - 17s 675ms/step - loss: 81.3698 - mae: 5.8566 - mse: 81.3698 - val_loss: 2704.2471 - val_mae: 35.8916 - val_mse: 2704.2471\n",
            "Epoch 66/100\n",
            "26/26 [==============================] - 17s 674ms/step - loss: 71.3195 - mae: 5.7159 - mse: 71.3195 - val_loss: 2665.8315 - val_mae: 35.7899 - val_mse: 2665.8315\n",
            "Epoch 67/100\n",
            "26/26 [==============================] - 17s 675ms/step - loss: 66.9911 - mae: 5.5693 - mse: 66.9911 - val_loss: 2719.8623 - val_mae: 35.8826 - val_mse: 2719.8623\n",
            "Epoch 68/100\n",
            "26/26 [==============================] - 17s 666ms/step - loss: 53.5611 - mae: 5.2609 - mse: 53.5611 - val_loss: 2798.7192 - val_mae: 36.7261 - val_mse: 2798.7192\n",
            "Epoch 69/100\n",
            "26/26 [==============================] - 17s 660ms/step - loss: 48.1769 - mae: 5.1227 - mse: 48.1769 - val_loss: 2905.3333 - val_mae: 37.3193 - val_mse: 2905.3333\n",
            "Epoch 70/100\n",
            "26/26 [==============================] - 17s 668ms/step - loss: 49.0404 - mae: 5.2349 - mse: 49.0404 - val_loss: 2837.7688 - val_mae: 36.7809 - val_mse: 2837.7688\n",
            "Epoch 71/100\n",
            "26/26 [==============================] - 17s 665ms/step - loss: 51.8044 - mae: 5.4770 - mse: 51.8044 - val_loss: 2692.6160 - val_mae: 36.6840 - val_mse: 2692.6160\n",
            "Epoch 72/100\n",
            "26/26 [==============================] - 17s 666ms/step - loss: 43.1285 - mae: 5.0836 - mse: 43.1285 - val_loss: 2781.8289 - val_mae: 36.7484 - val_mse: 2781.8289\n",
            "Epoch 73/100\n",
            "26/26 [==============================] - 17s 668ms/step - loss: 45.2464 - mae: 5.1514 - mse: 45.2464 - val_loss: 2733.8867 - val_mae: 36.1257 - val_mse: 2733.8867\n",
            "Epoch 74/100\n",
            "26/26 [==============================] - 17s 656ms/step - loss: 41.2939 - mae: 5.0030 - mse: 41.2939 - val_loss: 2514.1272 - val_mae: 35.1942 - val_mse: 2514.1272\n",
            "Epoch 75/100\n",
            "26/26 [==============================] - 17s 660ms/step - loss: 45.1252 - mae: 5.2621 - mse: 45.1252 - val_loss: 3167.8296 - val_mae: 38.4708 - val_mse: 3167.8296\n",
            "Epoch 76/100\n",
            "26/26 [==============================] - 17s 665ms/step - loss: 37.2279 - mae: 4.7572 - mse: 37.2279 - val_loss: 2758.5928 - val_mae: 36.8030 - val_mse: 2758.5928\n",
            "Epoch 77/100\n",
            "26/26 [==============================] - 17s 663ms/step - loss: 32.8354 - mae: 4.4268 - mse: 32.8354 - val_loss: 2880.5674 - val_mae: 37.4680 - val_mse: 2880.5674\n",
            "Epoch 78/100\n",
            "26/26 [==============================] - 17s 654ms/step - loss: 30.1539 - mae: 4.2654 - mse: 30.1539 - val_loss: 2790.0913 - val_mae: 36.6754 - val_mse: 2790.0913\n",
            "Epoch 79/100\n",
            "26/26 [==============================] - 17s 656ms/step - loss: 25.5157 - mae: 3.8824 - mse: 25.5157 - val_loss: 2758.4209 - val_mae: 36.6232 - val_mse: 2758.4209\n",
            "Epoch 80/100\n",
            "26/26 [==============================] - 17s 673ms/step - loss: 25.6092 - mae: 3.9717 - mse: 25.6092 - val_loss: 2684.8855 - val_mae: 35.8943 - val_mse: 2684.8855\n",
            "Epoch 81/100\n",
            "26/26 [==============================] - 17s 676ms/step - loss: 22.7205 - mae: 3.7450 - mse: 22.7205 - val_loss: 2792.8726 - val_mae: 36.6322 - val_mse: 2792.8726\n",
            "Epoch 82/100\n",
            "26/26 [==============================] - 18s 684ms/step - loss: 20.0639 - mae: 3.3198 - mse: 20.0639 - val_loss: 2810.3086 - val_mae: 36.7971 - val_mse: 2810.3086\n",
            "Epoch 83/100\n",
            "26/26 [==============================] - 18s 687ms/step - loss: 17.9234 - mae: 3.2346 - mse: 17.9234 - val_loss: 2861.7058 - val_mae: 37.0673 - val_mse: 2861.7058\n",
            "Epoch 84/100\n",
            "26/26 [==============================] - 18s 684ms/step - loss: 18.9325 - mae: 3.2974 - mse: 18.9325 - val_loss: 2707.7715 - val_mae: 36.4127 - val_mse: 2707.7715\n",
            "Epoch 85/100\n",
            "26/26 [==============================] - 18s 689ms/step - loss: 18.4231 - mae: 3.2750 - mse: 18.4231 - val_loss: 2716.5193 - val_mae: 36.4731 - val_mse: 2716.5195\n",
            "Epoch 86/100\n",
            "26/26 [==============================] - 18s 687ms/step - loss: 20.5566 - mae: 3.4351 - mse: 20.5566 - val_loss: 2895.2246 - val_mae: 37.3614 - val_mse: 2895.2246\n",
            "Epoch 87/100\n",
            "26/26 [==============================] - 18s 676ms/step - loss: 18.7404 - mae: 3.2728 - mse: 18.7404 - val_loss: 2760.3562 - val_mae: 36.6454 - val_mse: 2760.3562\n",
            "Epoch 88/100\n",
            "26/26 [==============================] - 17s 674ms/step - loss: 17.7486 - mae: 3.2184 - mse: 17.7486 - val_loss: 2823.4763 - val_mae: 36.8176 - val_mse: 2823.4763\n",
            "Epoch 89/100\n",
            "26/26 [==============================] - 18s 684ms/step - loss: 24.2245 - mae: 3.7818 - mse: 24.2245 - val_loss: 2669.1145 - val_mae: 36.4689 - val_mse: 2669.1145\n",
            "Epoch 90/100\n",
            "26/26 [==============================] - 18s 687ms/step - loss: 33.0043 - mae: 4.5948 - mse: 33.0043 - val_loss: 2719.3413 - val_mae: 36.3104 - val_mse: 2719.3413\n",
            "Epoch 91/100\n",
            "26/26 [==============================] - 18s 680ms/step - loss: 27.1901 - mae: 4.0566 - mse: 27.1901 - val_loss: 2619.9937 - val_mae: 36.0960 - val_mse: 2619.9937\n",
            "Epoch 92/100\n",
            "26/26 [==============================] - 18s 677ms/step - loss: 28.2352 - mae: 4.1381 - mse: 28.2352 - val_loss: 2516.1992 - val_mae: 35.0424 - val_mse: 2516.1992\n",
            "Epoch 93/100\n",
            "26/26 [==============================] - 17s 674ms/step - loss: 31.4868 - mae: 4.3202 - mse: 31.4868 - val_loss: 2586.4927 - val_mae: 35.3523 - val_mse: 2586.4927\n",
            "Epoch 94/100\n",
            "26/26 [==============================] - 17s 674ms/step - loss: 27.6205 - mae: 4.1210 - mse: 27.6205 - val_loss: 2497.2102 - val_mae: 34.9818 - val_mse: 2497.2102\n",
            "Epoch 95/100\n",
            "26/26 [==============================] - 18s 682ms/step - loss: 29.3515 - mae: 4.1851 - mse: 29.3515 - val_loss: 2528.5906 - val_mae: 35.4190 - val_mse: 2528.5906\n",
            "Epoch 96/100\n",
            "26/26 [==============================] - 18s 679ms/step - loss: 32.7168 - mae: 4.4780 - mse: 32.7168 - val_loss: 2478.3452 - val_mae: 35.3680 - val_mse: 2478.3452\n",
            "Epoch 97/100\n",
            "26/26 [==============================] - 18s 682ms/step - loss: 27.2986 - mae: 3.9925 - mse: 27.2986 - val_loss: 2548.3301 - val_mae: 35.4058 - val_mse: 2548.3301\n",
            "Epoch 98/100\n",
            "26/26 [==============================] - 17s 673ms/step - loss: 29.7926 - mae: 4.2707 - mse: 29.7926 - val_loss: 2342.0420 - val_mae: 34.2600 - val_mse: 2342.0420\n",
            "Epoch 99/100\n",
            "26/26 [==============================] - 17s 672ms/step - loss: 29.7546 - mae: 4.3064 - mse: 29.7546 - val_loss: 2521.2019 - val_mae: 34.8567 - val_mse: 2521.2019\n",
            "Epoch 100/100\n",
            "26/26 [==============================] - 18s 675ms/step - loss: 23.7518 - mae: 3.7965 - mse: 23.7518 - val_loss: 2604.1992 - val_mae: 35.6370 - val_mse: 2604.1992\n"
          ]
        }
      ]
    },
    {
      "cell_type": "markdown",
      "source": [
        "Bi-directional GRU"
      ],
      "metadata": {
        "id": "8AVWuHEeDrUU"
      }
    },
    {
      "cell_type": "code",
      "source": [
        "i=Input(shape=(T,1))\n",
        "x=Bidirectional(GRU(200,return_sequences=True))(i)\n",
        "x=Bidirectional(GRU(200,return_sequences=True))(x)\n",
        "x=GlobalMaxPool1D()(x)\n",
        "x=Dense(100)(x)\n",
        "x=Dense(50)(x)\n",
        "x=Dense(1)(x)\n",
        "model_bi_gru=Model(i,x)\n",
        "model_bi_gru.summary()"
      ],
      "metadata": {
        "colab": {
          "base_uri": "https://localhost:8080/"
        },
        "id": "cUHtZz0A7t3k",
        "outputId": "3dd0d780-057d-4375-fff5-05d2cb639993"
      },
      "execution_count": 185,
      "outputs": [
        {
          "output_type": "stream",
          "name": "stdout",
          "text": [
            "Model: \"model_11\"\n",
            "_________________________________________________________________\n",
            " Layer (type)                Output Shape              Param #   \n",
            "=================================================================\n",
            " input_12 (InputLayer)       [(None, 50, 1)]           0         \n",
            "                                                                 \n",
            " bidirectional_22 (Bidirecti  (None, 50, 400)          243600    \n",
            " onal)                                                           \n",
            "                                                                 \n",
            " bidirectional_23 (Bidirecti  (None, 50, 400)          722400    \n",
            " onal)                                                           \n",
            "                                                                 \n",
            " global_max_pooling1d_11 (Gl  (None, 400)              0         \n",
            " obalMaxPooling1D)                                               \n",
            "                                                                 \n",
            " dense_33 (Dense)            (None, 100)               40100     \n",
            "                                                                 \n",
            " dense_34 (Dense)            (None, 50)                5050      \n",
            "                                                                 \n",
            " dense_35 (Dense)            (None, 1)                 51        \n",
            "                                                                 \n",
            "=================================================================\n",
            "Total params: 1,011,201\n",
            "Trainable params: 1,011,201\n",
            "Non-trainable params: 0\n",
            "_________________________________________________________________\n"
          ]
        }
      ]
    },
    {
      "cell_type": "code",
      "source": [
        "check_point_bi_gru=ModelCheckpoint('best_model.h5',monitor='val_loss',save_best_only=True)"
      ],
      "metadata": {
        "id": "31j89DK6DqGT"
      },
      "execution_count": 186,
      "outputs": []
    },
    {
      "cell_type": "code",
      "source": [
        "model_bi_gru.compile(loss='mse',\n",
        "              optimizer='adamax',\n",
        "              metrics=['mae','mse'])"
      ],
      "metadata": {
        "id": "e0_x1t5JDqJK"
      },
      "execution_count": 187,
      "outputs": []
    },
    {
      "cell_type": "code",
      "source": [
        "r=model_bi_gru.fit(\n",
        "    Xtrain,\n",
        "    Ytrain,\n",
        "    epochs=100,\n",
        "    validation_data=(Xtest,Ytest),\n",
        "    callbacks=[check_point_bi_gru]\n",
        ")"
      ],
      "metadata": {
        "colab": {
          "base_uri": "https://localhost:8080/"
        },
        "id": "fu63FFgDDqMS",
        "outputId": "258b4722-50b8-437e-f8ea-92d3932e938e"
      },
      "execution_count": 188,
      "outputs": [
        {
          "output_type": "stream",
          "name": "stdout",
          "text": [
            "Epoch 1/100\n",
            "26/26 [==============================] - 24s 625ms/step - loss: 803.6414 - mae: 11.2658 - mse: 803.6414 - val_loss: 331.3254 - val_mae: 12.2629 - val_mse: 331.3254\n",
            "Epoch 2/100\n",
            "26/26 [==============================] - 14s 558ms/step - loss: 799.6531 - mae: 11.1937 - mse: 799.6531 - val_loss: 332.3181 - val_mae: 12.2811 - val_mse: 332.3181\n",
            "Epoch 3/100\n",
            "26/26 [==============================] - 14s 558ms/step - loss: 796.5459 - mae: 11.1452 - mse: 796.5459 - val_loss: 333.2665 - val_mae: 12.2998 - val_mse: 333.2665\n",
            "Epoch 4/100\n",
            "26/26 [==============================] - 14s 557ms/step - loss: 796.1392 - mae: 11.1410 - mse: 796.1392 - val_loss: 335.8511 - val_mae: 12.3785 - val_mse: 335.8511\n",
            "Epoch 5/100\n",
            "26/26 [==============================] - 15s 559ms/step - loss: 795.3336 - mae: 11.1395 - mse: 795.3336 - val_loss: 334.7068 - val_mae: 12.3335 - val_mse: 334.7068\n",
            "Epoch 6/100\n",
            "26/26 [==============================] - 15s 571ms/step - loss: 795.7004 - mae: 11.2536 - mse: 795.7004 - val_loss: 332.1743 - val_mae: 12.2368 - val_mse: 332.1743\n",
            "Epoch 7/100\n",
            "26/26 [==============================] - 15s 570ms/step - loss: 792.5131 - mae: 11.1210 - mse: 792.5131 - val_loss: 334.4466 - val_mae: 12.3178 - val_mse: 334.4466\n",
            "Epoch 8/100\n",
            "26/26 [==============================] - 15s 564ms/step - loss: 790.5911 - mae: 11.1189 - mse: 790.5911 - val_loss: 336.4990 - val_mae: 12.3712 - val_mse: 336.4990\n",
            "Epoch 9/100\n",
            "26/26 [==============================] - 15s 571ms/step - loss: 788.3486 - mae: 11.1256 - mse: 788.3486 - val_loss: 341.3910 - val_mae: 12.5100 - val_mse: 341.3910\n",
            "Epoch 10/100\n",
            "26/26 [==============================] - 15s 567ms/step - loss: 786.8004 - mae: 11.1241 - mse: 786.8004 - val_loss: 346.6655 - val_mae: 12.6651 - val_mse: 346.6655\n",
            "Epoch 11/100\n",
            "26/26 [==============================] - 15s 564ms/step - loss: 781.9026 - mae: 11.1681 - mse: 781.9026 - val_loss: 330.5876 - val_mae: 12.0909 - val_mse: 330.5876\n",
            "Epoch 12/100\n",
            "26/26 [==============================] - 14s 559ms/step - loss: 778.7300 - mae: 11.0227 - mse: 778.7300 - val_loss: 350.0793 - val_mae: 12.7457 - val_mse: 350.0793\n",
            "Epoch 13/100\n",
            "26/26 [==============================] - 14s 560ms/step - loss: 776.5159 - mae: 11.0489 - mse: 776.5159 - val_loss: 350.1596 - val_mae: 12.6959 - val_mse: 350.1596\n",
            "Epoch 14/100\n",
            "26/26 [==============================] - 15s 561ms/step - loss: 768.4576 - mae: 11.1051 - mse: 768.4576 - val_loss: 336.4257 - val_mae: 12.2433 - val_mse: 336.4257\n",
            "Epoch 15/100\n",
            "26/26 [==============================] - 15s 560ms/step - loss: 763.5922 - mae: 11.1927 - mse: 763.5922 - val_loss: 335.6347 - val_mae: 12.2165 - val_mse: 335.6347\n",
            "Epoch 16/100\n",
            "26/26 [==============================] - 14s 559ms/step - loss: 755.2472 - mae: 11.0087 - mse: 755.2472 - val_loss: 352.7974 - val_mae: 12.7105 - val_mse: 352.7974\n",
            "Epoch 17/100\n",
            "26/26 [==============================] - 14s 556ms/step - loss: 747.7917 - mae: 10.9994 - mse: 747.7917 - val_loss: 381.2966 - val_mae: 13.5541 - val_mse: 381.2966\n",
            "Epoch 18/100\n",
            "26/26 [==============================] - 14s 561ms/step - loss: 739.0157 - mae: 10.8739 - mse: 739.0157 - val_loss: 390.5321 - val_mae: 13.8163 - val_mse: 390.5321\n",
            "Epoch 19/100\n",
            "26/26 [==============================] - 14s 555ms/step - loss: 732.2123 - mae: 10.9933 - mse: 732.2123 - val_loss: 378.5587 - val_mae: 13.4211 - val_mse: 378.5587\n",
            "Epoch 20/100\n",
            "26/26 [==============================] - 14s 560ms/step - loss: 719.4167 - mae: 10.9442 - mse: 719.4167 - val_loss: 374.0791 - val_mae: 13.3177 - val_mse: 374.0791\n",
            "Epoch 21/100\n",
            "26/26 [==============================] - 15s 565ms/step - loss: 714.7673 - mae: 10.8622 - mse: 714.7673 - val_loss: 373.4683 - val_mae: 13.4028 - val_mse: 373.4683\n",
            "Epoch 22/100\n",
            "26/26 [==============================] - 15s 564ms/step - loss: 720.5461 - mae: 11.1141 - mse: 720.5461 - val_loss: 467.4997 - val_mae: 15.7615 - val_mse: 467.4997\n",
            "Epoch 23/100\n",
            "26/26 [==============================] - 15s 587ms/step - loss: 701.3272 - mae: 10.9599 - mse: 701.3272 - val_loss: 411.3281 - val_mae: 14.3279 - val_mse: 411.3281\n",
            "Epoch 24/100\n",
            "26/26 [==============================] - 15s 571ms/step - loss: 685.0630 - mae: 10.8753 - mse: 685.0630 - val_loss: 425.4865 - val_mae: 14.6667 - val_mse: 425.4865\n",
            "Epoch 25/100\n",
            "26/26 [==============================] - 15s 568ms/step - loss: 674.2510 - mae: 10.8591 - mse: 674.2510 - val_loss: 415.5548 - val_mae: 14.4721 - val_mse: 415.5548\n",
            "Epoch 26/100\n",
            "26/26 [==============================] - 15s 572ms/step - loss: 665.8566 - mae: 10.8191 - mse: 665.8566 - val_loss: 477.3269 - val_mae: 15.9275 - val_mse: 477.3269\n",
            "Epoch 27/100\n",
            "26/26 [==============================] - 15s 571ms/step - loss: 646.6437 - mae: 10.6693 - mse: 646.6437 - val_loss: 475.1536 - val_mae: 15.8663 - val_mse: 475.1536\n",
            "Epoch 28/100\n",
            "26/26 [==============================] - 15s 573ms/step - loss: 639.2502 - mae: 10.6081 - mse: 639.2502 - val_loss: 515.1018 - val_mae: 16.7826 - val_mse: 515.1018\n",
            "Epoch 29/100\n",
            "26/26 [==============================] - 15s 570ms/step - loss: 627.9196 - mae: 10.5802 - mse: 627.9196 - val_loss: 509.7664 - val_mae: 16.4617 - val_mse: 509.7664\n",
            "Epoch 30/100\n",
            "26/26 [==============================] - 15s 574ms/step - loss: 619.6705 - mae: 10.5770 - mse: 619.6705 - val_loss: 527.1525 - val_mae: 16.9073 - val_mse: 527.1525\n",
            "Epoch 31/100\n",
            "26/26 [==============================] - 15s 569ms/step - loss: 603.3553 - mae: 10.4580 - mse: 603.3553 - val_loss: 556.0616 - val_mae: 17.4399 - val_mse: 556.0616\n",
            "Epoch 32/100\n",
            "26/26 [==============================] - 15s 571ms/step - loss: 588.0649 - mae: 10.4506 - mse: 588.0649 - val_loss: 578.5075 - val_mae: 17.8265 - val_mse: 578.5075\n",
            "Epoch 33/100\n",
            "26/26 [==============================] - 15s 570ms/step - loss: 579.3962 - mae: 10.2934 - mse: 579.3962 - val_loss: 579.7783 - val_mae: 17.6150 - val_mse: 579.7783\n",
            "Epoch 34/100\n",
            "26/26 [==============================] - 15s 572ms/step - loss: 567.5407 - mae: 10.3878 - mse: 567.5407 - val_loss: 694.7584 - val_mae: 19.8782 - val_mse: 694.7584\n",
            "Epoch 35/100\n",
            "26/26 [==============================] - 15s 569ms/step - loss: 549.6719 - mae: 10.3137 - mse: 549.6719 - val_loss: 626.1631 - val_mae: 18.4272 - val_mse: 626.1631\n",
            "Epoch 36/100\n",
            "26/26 [==============================] - 15s 570ms/step - loss: 545.2307 - mae: 10.6407 - mse: 545.2307 - val_loss: 723.6117 - val_mae: 20.1495 - val_mse: 723.6117\n",
            "Epoch 37/100\n",
            "26/26 [==============================] - 15s 565ms/step - loss: 535.1844 - mae: 10.5630 - mse: 535.1844 - val_loss: 743.4725 - val_mae: 20.0895 - val_mse: 743.4725\n",
            "Epoch 38/100\n",
            "26/26 [==============================] - 15s 569ms/step - loss: 514.5447 - mae: 10.3584 - mse: 514.5447 - val_loss: 616.4343 - val_mae: 18.0315 - val_mse: 616.4343\n",
            "Epoch 39/100\n",
            "26/26 [==============================] - 15s 564ms/step - loss: 503.7086 - mae: 10.1463 - mse: 503.7086 - val_loss: 754.8852 - val_mae: 20.1345 - val_mse: 754.8852\n",
            "Epoch 40/100\n",
            "26/26 [==============================] - 15s 561ms/step - loss: 484.6854 - mae: 9.9674 - mse: 484.6854 - val_loss: 741.4974 - val_mae: 19.8656 - val_mse: 741.4974\n",
            "Epoch 41/100\n",
            "26/26 [==============================] - 15s 567ms/step - loss: 465.1115 - mae: 9.9495 - mse: 465.1115 - val_loss: 696.6585 - val_mae: 19.2571 - val_mse: 696.6585\n",
            "Epoch 42/100\n",
            "26/26 [==============================] - 15s 567ms/step - loss: 456.4471 - mae: 10.1653 - mse: 456.4471 - val_loss: 876.0723 - val_mae: 21.5796 - val_mse: 876.0723\n",
            "Epoch 43/100\n",
            "26/26 [==============================] - 15s 561ms/step - loss: 444.9770 - mae: 10.0254 - mse: 444.9770 - val_loss: 877.9785 - val_mae: 21.6643 - val_mse: 877.9785\n",
            "Epoch 44/100\n",
            "26/26 [==============================] - 14s 559ms/step - loss: 421.4427 - mae: 10.0785 - mse: 421.4427 - val_loss: 819.8564 - val_mae: 20.8078 - val_mse: 819.8564\n",
            "Epoch 45/100\n",
            "26/26 [==============================] - 15s 563ms/step - loss: 399.5460 - mae: 9.6916 - mse: 399.5460 - val_loss: 946.0200 - val_mae: 22.5113 - val_mse: 946.0200\n",
            "Epoch 46/100\n",
            "26/26 [==============================] - 15s 560ms/step - loss: 387.9833 - mae: 9.9039 - mse: 387.9833 - val_loss: 858.6815 - val_mae: 21.1861 - val_mse: 858.6815\n",
            "Epoch 47/100\n",
            "26/26 [==============================] - 15s 562ms/step - loss: 362.1388 - mae: 9.5330 - mse: 362.1388 - val_loss: 963.8825 - val_mae: 22.6444 - val_mse: 963.8825\n",
            "Epoch 48/100\n",
            "26/26 [==============================] - 15s 567ms/step - loss: 345.4696 - mae: 9.5169 - mse: 345.4696 - val_loss: 1002.3364 - val_mae: 23.2182 - val_mse: 1002.3364\n",
            "Epoch 49/100\n",
            "26/26 [==============================] - 15s 573ms/step - loss: 330.6278 - mae: 9.6502 - mse: 330.6278 - val_loss: 1163.3235 - val_mae: 24.9325 - val_mse: 1163.3235\n",
            "Epoch 50/100\n",
            "26/26 [==============================] - 14s 558ms/step - loss: 320.4571 - mae: 9.8966 - mse: 320.4571 - val_loss: 1177.5945 - val_mae: 25.0644 - val_mse: 1177.5945\n",
            "Epoch 51/100\n",
            "26/26 [==============================] - 15s 564ms/step - loss: 310.7714 - mae: 9.6760 - mse: 310.7714 - val_loss: 1101.5753 - val_mae: 24.0242 - val_mse: 1101.5753\n",
            "Epoch 52/100\n",
            "26/26 [==============================] - 14s 559ms/step - loss: 292.8338 - mae: 9.6392 - mse: 292.8338 - val_loss: 890.6919 - val_mae: 21.4944 - val_mse: 890.6919\n",
            "Epoch 53/100\n",
            "26/26 [==============================] - 15s 567ms/step - loss: 258.3907 - mae: 8.8829 - mse: 258.3907 - val_loss: 935.5162 - val_mae: 22.0256 - val_mse: 935.5162\n",
            "Epoch 54/100\n",
            "26/26 [==============================] - 14s 559ms/step - loss: 238.6738 - mae: 8.8967 - mse: 238.6738 - val_loss: 1334.3380 - val_mae: 26.5459 - val_mse: 1334.3380\n",
            "Epoch 55/100\n",
            "26/26 [==============================] - 15s 563ms/step - loss: 229.6120 - mae: 8.8945 - mse: 229.6120 - val_loss: 1001.1459 - val_mae: 22.8302 - val_mse: 1001.1459\n",
            "Epoch 56/100\n",
            "26/26 [==============================] - 15s 562ms/step - loss: 213.2718 - mae: 8.7726 - mse: 213.2718 - val_loss: 1070.0490 - val_mae: 23.6352 - val_mse: 1070.0490\n",
            "Epoch 57/100\n",
            "26/26 [==============================] - 14s 557ms/step - loss: 218.6279 - mae: 9.3643 - mse: 218.6279 - val_loss: 1166.6166 - val_mae: 24.7007 - val_mse: 1166.6166\n",
            "Epoch 58/100\n",
            "26/26 [==============================] - 15s 569ms/step - loss: 180.1337 - mae: 8.4741 - mse: 180.1337 - val_loss: 1321.2467 - val_mae: 26.3904 - val_mse: 1321.2467\n",
            "Epoch 59/100\n",
            "26/26 [==============================] - 14s 555ms/step - loss: 177.3412 - mae: 8.5245 - mse: 177.3412 - val_loss: 1073.1505 - val_mae: 23.8717 - val_mse: 1073.1505\n",
            "Epoch 60/100\n",
            "26/26 [==============================] - 15s 565ms/step - loss: 166.4811 - mae: 8.4482 - mse: 166.4811 - val_loss: 1036.8690 - val_mae: 22.9935 - val_mse: 1036.8690\n",
            "Epoch 61/100\n",
            "26/26 [==============================] - 14s 557ms/step - loss: 129.6944 - mae: 7.4730 - mse: 129.6944 - val_loss: 1509.8862 - val_mae: 28.0890 - val_mse: 1509.8862\n",
            "Epoch 62/100\n",
            "26/26 [==============================] - 14s 559ms/step - loss: 129.8014 - mae: 7.9602 - mse: 129.8014 - val_loss: 1247.1005 - val_mae: 25.3571 - val_mse: 1247.1005\n",
            "Epoch 63/100\n",
            "26/26 [==============================] - 14s 553ms/step - loss: 110.6230 - mae: 7.4538 - mse: 110.6230 - val_loss: 1071.8936 - val_mae: 23.3871 - val_mse: 1071.8936\n",
            "Epoch 64/100\n",
            "26/26 [==============================] - 14s 558ms/step - loss: 104.7024 - mae: 7.5063 - mse: 104.7024 - val_loss: 1199.1483 - val_mae: 24.8056 - val_mse: 1199.1483\n",
            "Epoch 65/100\n",
            "26/26 [==============================] - 14s 555ms/step - loss: 89.5179 - mae: 7.0729 - mse: 89.5179 - val_loss: 1214.0608 - val_mae: 25.1470 - val_mse: 1214.0608\n",
            "Epoch 66/100\n",
            "26/26 [==============================] - 14s 556ms/step - loss: 89.8761 - mae: 7.1627 - mse: 89.8761 - val_loss: 1222.6606 - val_mae: 25.0869 - val_mse: 1222.6606\n",
            "Epoch 67/100\n",
            "26/26 [==============================] - 15s 562ms/step - loss: 83.5140 - mae: 7.0257 - mse: 83.5140 - val_loss: 1195.2537 - val_mae: 25.0623 - val_mse: 1195.2537\n",
            "Epoch 68/100\n",
            "26/26 [==============================] - 14s 557ms/step - loss: 72.5767 - mae: 6.5370 - mse: 72.5767 - val_loss: 1443.3197 - val_mae: 27.2476 - val_mse: 1443.3197\n",
            "Epoch 69/100\n",
            "26/26 [==============================] - 15s 568ms/step - loss: 77.6214 - mae: 6.8500 - mse: 77.6214 - val_loss: 1397.7360 - val_mae: 26.8845 - val_mse: 1397.7360\n",
            "Epoch 70/100\n",
            "26/26 [==============================] - 15s 582ms/step - loss: 62.7491 - mae: 6.1542 - mse: 62.7491 - val_loss: 1450.4855 - val_mae: 27.4103 - val_mse: 1450.4855\n",
            "Epoch 71/100\n",
            "26/26 [==============================] - 15s 569ms/step - loss: 80.7744 - mae: 7.0064 - mse: 80.7744 - val_loss: 1265.0283 - val_mae: 25.9448 - val_mse: 1265.0283\n",
            "Epoch 72/100\n",
            "26/26 [==============================] - 15s 571ms/step - loss: 60.4274 - mae: 6.1671 - mse: 60.4274 - val_loss: 1450.9926 - val_mae: 27.5638 - val_mse: 1450.9926\n",
            "Epoch 73/100\n",
            "26/26 [==============================] - 15s 571ms/step - loss: 52.0301 - mae: 5.7590 - mse: 52.0301 - val_loss: 1423.8359 - val_mae: 27.4671 - val_mse: 1423.8359\n",
            "Epoch 74/100\n",
            "26/26 [==============================] - 15s 573ms/step - loss: 48.8170 - mae: 5.5414 - mse: 48.8170 - val_loss: 1243.4020 - val_mae: 25.5428 - val_mse: 1243.4020\n",
            "Epoch 75/100\n",
            "26/26 [==============================] - 15s 564ms/step - loss: 55.2787 - mae: 5.9417 - mse: 55.2787 - val_loss: 1453.6272 - val_mae: 27.6257 - val_mse: 1453.6272\n",
            "Epoch 76/100\n",
            "26/26 [==============================] - 15s 564ms/step - loss: 44.8344 - mae: 5.3010 - mse: 44.8344 - val_loss: 1321.8984 - val_mae: 26.3833 - val_mse: 1321.8984\n",
            "Epoch 77/100\n",
            "26/26 [==============================] - 15s 568ms/step - loss: 45.8915 - mae: 5.3495 - mse: 45.8915 - val_loss: 1404.2823 - val_mae: 27.2436 - val_mse: 1404.2823\n",
            "Epoch 78/100\n",
            "26/26 [==============================] - 15s 564ms/step - loss: 42.9882 - mae: 5.2075 - mse: 42.9882 - val_loss: 1429.8450 - val_mae: 27.3100 - val_mse: 1429.8450\n",
            "Epoch 79/100\n",
            "26/26 [==============================] - 14s 556ms/step - loss: 41.2707 - mae: 5.1219 - mse: 41.2707 - val_loss: 1464.0452 - val_mae: 27.7188 - val_mse: 1464.0452\n",
            "Epoch 80/100\n",
            "26/26 [==============================] - 14s 557ms/step - loss: 41.7893 - mae: 5.0469 - mse: 41.7893 - val_loss: 1591.2738 - val_mae: 29.2430 - val_mse: 1591.2738\n",
            "Epoch 81/100\n",
            "26/26 [==============================] - 15s 562ms/step - loss: 41.4207 - mae: 5.0980 - mse: 41.4207 - val_loss: 1611.6050 - val_mae: 29.3699 - val_mse: 1611.6050\n",
            "Epoch 82/100\n",
            "26/26 [==============================] - 15s 562ms/step - loss: 39.3647 - mae: 4.9182 - mse: 39.3647 - val_loss: 1377.3326 - val_mae: 27.1285 - val_mse: 1377.3326\n",
            "Epoch 83/100\n",
            "26/26 [==============================] - 15s 564ms/step - loss: 35.9903 - mae: 4.6893 - mse: 35.9903 - val_loss: 1456.2100 - val_mae: 28.0786 - val_mse: 1456.2100\n",
            "Epoch 84/100\n",
            "26/26 [==============================] - 15s 563ms/step - loss: 34.0097 - mae: 4.5901 - mse: 34.0097 - val_loss: 1581.5262 - val_mae: 29.3905 - val_mse: 1581.5262\n",
            "Epoch 85/100\n",
            "26/26 [==============================] - 15s 563ms/step - loss: 32.1147 - mae: 4.4189 - mse: 32.1147 - val_loss: 1398.0077 - val_mae: 27.3346 - val_mse: 1398.0077\n",
            "Epoch 86/100\n",
            "26/26 [==============================] - 15s 563ms/step - loss: 31.2681 - mae: 4.3324 - mse: 31.2681 - val_loss: 1410.6909 - val_mae: 27.8025 - val_mse: 1410.6909\n",
            "Epoch 87/100\n",
            "26/26 [==============================] - 14s 552ms/step - loss: 27.9474 - mae: 4.1493 - mse: 27.9474 - val_loss: 1528.4294 - val_mae: 28.9152 - val_mse: 1528.4294\n",
            "Epoch 88/100\n",
            "26/26 [==============================] - 15s 563ms/step - loss: 26.3900 - mae: 4.0428 - mse: 26.3900 - val_loss: 1399.8461 - val_mae: 27.8531 - val_mse: 1399.8461\n",
            "Epoch 89/100\n",
            "26/26 [==============================] - 14s 556ms/step - loss: 26.6704 - mae: 4.0636 - mse: 26.6704 - val_loss: 1438.8386 - val_mae: 28.0996 - val_mse: 1438.8386\n",
            "Epoch 90/100\n",
            "26/26 [==============================] - 14s 555ms/step - loss: 24.6656 - mae: 3.8785 - mse: 24.6656 - val_loss: 1397.6627 - val_mae: 27.5192 - val_mse: 1397.6627\n",
            "Epoch 91/100\n",
            "26/26 [==============================] - 14s 558ms/step - loss: 27.2825 - mae: 4.1167 - mse: 27.2825 - val_loss: 1296.1173 - val_mae: 26.2344 - val_mse: 1296.1173\n",
            "Epoch 92/100\n",
            "26/26 [==============================] - 15s 574ms/step - loss: 26.2988 - mae: 4.0652 - mse: 26.2988 - val_loss: 1464.0568 - val_mae: 28.0498 - val_mse: 1464.0568\n",
            "Epoch 93/100\n",
            "26/26 [==============================] - 15s 574ms/step - loss: 29.4678 - mae: 4.3215 - mse: 29.4678 - val_loss: 1293.2145 - val_mae: 26.4874 - val_mse: 1293.2145\n",
            "Epoch 94/100\n",
            "26/26 [==============================] - 15s 574ms/step - loss: 30.6663 - mae: 4.3586 - mse: 30.6663 - val_loss: 1483.1356 - val_mae: 28.3922 - val_mse: 1483.1356\n",
            "Epoch 95/100\n",
            "26/26 [==============================] - 15s 569ms/step - loss: 25.3569 - mae: 4.0002 - mse: 25.3569 - val_loss: 1269.4275 - val_mae: 26.3928 - val_mse: 1269.4275\n",
            "Epoch 96/100\n",
            "26/26 [==============================] - 15s 566ms/step - loss: 35.1856 - mae: 4.7250 - mse: 35.1856 - val_loss: 1555.5803 - val_mae: 28.9029 - val_mse: 1555.5803\n",
            "Epoch 97/100\n",
            "26/26 [==============================] - 15s 562ms/step - loss: 23.4797 - mae: 3.8121 - mse: 23.4797 - val_loss: 1359.8120 - val_mae: 27.3164 - val_mse: 1359.8120\n",
            "Epoch 98/100\n",
            "26/26 [==============================] - 15s 562ms/step - loss: 36.5621 - mae: 4.7961 - mse: 36.5621 - val_loss: 1284.1886 - val_mae: 26.3182 - val_mse: 1284.1886\n",
            "Epoch 99/100\n",
            "26/26 [==============================] - 14s 560ms/step - loss: 27.7365 - mae: 4.1719 - mse: 27.7365 - val_loss: 1293.4493 - val_mae: 26.5445 - val_mse: 1293.4493\n",
            "Epoch 100/100\n",
            "26/26 [==============================] - 14s 558ms/step - loss: 18.0646 - mae: 3.3401 - mse: 18.0646 - val_loss: 1443.4611 - val_mae: 28.1260 - val_mse: 1443.4611\n"
          ]
        }
      ]
    },
    {
      "cell_type": "markdown",
      "source": [
        "Predictions"
      ],
      "metadata": {
        "id": "uo4koH4XEkiv"
      }
    },
    {
      "cell_type": "code",
      "source": [
        "train_idx[:T+1]=False"
      ],
      "metadata": {
        "id": "-vEh0mmyDqPC"
      },
      "execution_count": 189,
      "outputs": []
    },
    {
      "cell_type": "code",
      "source": [
        "Ptrain_bi_lstm=model_bi_lstm.predict(Xtrain).flatten()\n",
        "Ptest_bi_lstm=model_bi_lstm.predict(Xtest).flatten()"
      ],
      "metadata": {
        "id": "OftAJjIQDqR5"
      },
      "execution_count": 190,
      "outputs": []
    },
    {
      "cell_type": "code",
      "source": [
        "Ptrain_bi_gru=model_bi_gru.predict(Xtrain).flatten()\n",
        "Ptest_bi_gru=model_bi_gru.predict(Xtest).flatten()"
      ],
      "metadata": {
        "id": "LPvgcdw4DqU9"
      },
      "execution_count": 191,
      "outputs": []
    },
    {
      "cell_type": "code",
      "source": [
        "df.loc[train_idx,'Diff Bi-LSTM train prediction']=Ptrain_bi_lstm\n",
        "df.loc[test_idx,'Diff bi-LSTM test prediction']=Ptest_bi_lstm"
      ],
      "metadata": {
        "id": "D1MjWqICDqX4"
      },
      "execution_count": 192,
      "outputs": []
    },
    {
      "cell_type": "code",
      "source": [
        "df.loc[train_idx,'Diff Bi-GRU train prediction']=Ptrain_bi_gru\n",
        "df.loc[test_idx,'Diff BiGRU test prediction']=Ptest_bi_gru"
      ],
      "metadata": {
        "id": "JGyHZQpeDqbP"
      },
      "execution_count": 193,
      "outputs": []
    },
    {
      "cell_type": "code",
      "source": [
        "df['Shift Prev Close']=df['Prev Close'].shift(1)\n",
        "prev=df['Shift Prev Close']"
      ],
      "metadata": {
        "id": "o41wY4YSDqdr"
      },
      "execution_count": 194,
      "outputs": []
    },
    {
      "cell_type": "code",
      "source": [
        "last_train=train.iloc[-1]['Prev Close']"
      ],
      "metadata": {
        "id": "ieSjZEI4Dqgo"
      },
      "execution_count": 195,
      "outputs": []
    },
    {
      "cell_type": "code",
      "source": [
        "df.loc[train_idx,'train_Bi_LSTM']=prev[train_idx]+Ptrain_bi_lstm\n",
        "df.loc[test_idx,'Prediction_Bi_LSTM']=prev[test_idx]+Ptest_bi_lstm"
      ],
      "metadata": {
        "id": "iXAmOWl-Dqjf"
      },
      "execution_count": 196,
      "outputs": []
    },
    {
      "cell_type": "code",
      "source": [
        "df.loc[train_idx,'train_Bi_GRU']=prev[train_idx]+Ptrain_bi_gru\n",
        "df.loc[test_idx,'Prediction_Bi_GRU']=prev[test_idx]+Ptest_bi_gru"
      ],
      "metadata": {
        "id": "zPuzleJlDqma"
      },
      "execution_count": 197,
      "outputs": []
    },
    {
      "cell_type": "code",
      "source": [
        "df[[ 'Prev Close','Prediction_Bi_LSTM','Prediction_Bi_GRU']].plot(figsize=(15,10));"
      ],
      "metadata": {
        "colab": {
          "base_uri": "https://localhost:8080/",
          "height": 416
        },
        "id": "lnfbHo3KDqpO",
        "outputId": "124a0d29-d767-44b3-f2d2-e181f9590a93"
      },
      "execution_count": 198,
      "outputs": [
        {
          "output_type": "display_data",
          "data": {
            "text/plain": [
              "<Figure size 1080x720 with 1 Axes>"
            ],
            "image/png": "[encoded data removed]"
          },
          "metadata": {
            "needs_background": "light"
          }
        }
      ]
    },
    {
      "cell_type": "code",
      "source": [
        "df[[ 'Prediction_Bi_LSTM','Prediction_Bi_GRU']].plot(figsize=(15,10));"
      ],
      "metadata": {
        "colab": {
          "base_uri": "https://localhost:8080/",
          "height": 422
        },
        "id": "riQ3YykBDqsG",
        "outputId": "d81908d3-d5b2-4e9e-9b2f-0927b3ac9010"
      },
      "execution_count": 199,
      "outputs": [
        {
          "output_type": "display_data",
          "data": {
            "text/plain": [
              "<Figure size 1080x720 with 1 Axes>"
            ],
            "image/png": "[encoded data removed]"
          },
          "metadata": {
            "needs_background": "light"
          }
        }
      ]
    },
    {
      "cell_type": "markdown",
      "source": [
        "Evaluation"
      ],
      "metadata": {
        "id": "0o_3yUJvF-FW"
      }
    },
    {
      "cell_type": "code",
      "source": [
        "pred_bi_lstm=df['Prediction_Bi_LSTM']\n",
        "pred_bi_lstm.dropna(inplace=True)"
      ],
      "metadata": {
        "id": "vonBmF2b7t6q"
      },
      "execution_count": 200,
      "outputs": []
    },
    {
      "cell_type": "code",
      "source": [
        "rmse=math.sqrt(mean_squared_error(test['Prev Close'],pred_bi_lstm))\n",
        "print(rmse)"
      ],
      "metadata": {
        "colab": {
          "base_uri": "https://localhost:8080/"
        },
        "id": "sPUaq6UiGCRI",
        "outputId": "2cd474fe-5420-4c4a-fd52-42afcd69917a"
      },
      "execution_count": 201,
      "outputs": [
        {
          "output_type": "stream",
          "name": "stdout",
          "text": [
            "51.0313549408321\n"
          ]
        }
      ]
    },
    {
      "cell_type": "code",
      "source": [
        "error=mean_absolute_error(test['Prev Close'],pred_bi_lstm)\n",
        "print(error)"
      ],
      "metadata": {
        "colab": {
          "base_uri": "https://localhost:8080/"
        },
        "id": "kQMcHGVCGCUL",
        "outputId": "af9d456c-f652-48f5-a3d5-4bd72721067d"
      },
      "execution_count": 202,
      "outputs": [
        {
          "output_type": "stream",
          "name": "stdout",
          "text": [
            "35.6370186401265\n"
          ]
        }
      ]
    },
    {
      "cell_type": "code",
      "source": [
        "r2_score(test['Prev Close'],pred_bi_lstm)"
      ],
      "metadata": {
        "colab": {
          "base_uri": "https://localhost:8080/"
        },
        "id": "lyLslWMAGCXT",
        "outputId": "541b27cf-6d2d-492f-c9a8-41e67fc22c60"
      },
      "execution_count": 203,
      "outputs": [
        {
          "output_type": "execute_result",
          "data": {
            "text/plain": [
              "0.9051275256563913"
            ]
          },
          "metadata": {},
          "execution_count": 203
        }
      ]
    },
    {
      "cell_type": "code",
      "source": [
        "pred_bi_gru=df['Prediction_Bi_GRU']\n",
        "pred_bi_gru.dropna(inplace=True)"
      ],
      "metadata": {
        "id": "wa7wnr9TGC2J"
      },
      "execution_count": 204,
      "outputs": []
    },
    {
      "cell_type": "code",
      "source": [
        "rmse=math.sqrt(mean_squared_error(test['Prev Close'],pred_bi_gru))\n",
        "print(rmse)"
      ],
      "metadata": {
        "colab": {
          "base_uri": "https://localhost:8080/"
        },
        "id": "EkKg0wGaGC-e",
        "outputId": "580c5d34-302e-47c8-a05b-aae292844bba"
      },
      "execution_count": 205,
      "outputs": [
        {
          "output_type": "stream",
          "name": "stdout",
          "text": [
            "37.99290873072304\n"
          ]
        }
      ]
    },
    {
      "cell_type": "code",
      "source": [
        "error=mean_absolute_error(test['Prev Close'],pred_bi_gru)\n",
        "print(error)"
      ],
      "metadata": {
        "colab": {
          "base_uri": "https://localhost:8080/"
        },
        "id": "BQL76rMvGDGT",
        "outputId": "2a00ed92-6dca-4217-8ee4-537375ebddef"
      },
      "execution_count": 206,
      "outputs": [
        {
          "output_type": "stream",
          "name": "stdout",
          "text": [
            "28.126039695563016\n"
          ]
        }
      ]
    },
    {
      "cell_type": "code",
      "source": [
        "r2_score(test['Prev Close'],pred_bi_gru)"
      ],
      "metadata": {
        "colab": {
          "base_uri": "https://localhost:8080/"
        },
        "id": "GMZqO2_yGDO_",
        "outputId": "5f7547ad-2a28-4f9a-923e-6a48a3a614b8"
      },
      "execution_count": 207,
      "outputs": [
        {
          "output_type": "execute_result",
          "data": {
            "text/plain": [
              "0.9474138813323139"
            ]
          },
          "metadata": {},
          "execution_count": 207
        }
      ]
    },
    {
      "cell_type": "code",
      "source": [],
      "metadata": {
        "id": "PIN91mEuGizf"
      },
      "execution_count": 207,
      "outputs": []
    }
  ]
}