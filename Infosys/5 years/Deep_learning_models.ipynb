{
  "nbformat": 4,
  "nbformat_minor": 0,
  "metadata": {
    "colab": {
      "provenance": []
    },
    "kernelspec": {
      "name": "python3",
      "display_name": "Python 3"
    },
    "language_info": {
      "name": "python"
    }
  },
  "cells": [
    {
      "cell_type": "code",
      "execution_count": 1,
      "metadata": {
        "id": "rRzK__2FbGio"
      },
      "outputs": [],
      "source": [
        "import numpy as np\n",
        "import matplotlib.pyplot as plt\n",
        "import pandas as pd\n",
        "\n",
        "import tensorflow as tf\n",
        "from tensorflow.keras.layers import Dense, Input\n",
        "from tensorflow.keras.models import Model\n",
        "from tensorflow.keras.layers import LSTM\n",
        "from tensorflow.keras.layers import GRU\n",
        "from tensorflow.keras.layers import GlobalMaxPooling1D\n",
        "from tensorflow.keras.layers import Conv1D, MaxPooling1D\n",
        "from tensorflow.keras.callbacks import ModelCheckpoint\n",
        "\n",
        "import math\n",
        "\n",
        "from sklearn.metrics import r2_score\n",
        "from sklearn.metrics import mean_absolute_error\n",
        "from sklearn.metrics import mean_squared_error\n",
        "\n",
        "np.random.seed(123)\n",
        "tf.random.set_seed(123)"
      ]
    },
    {
      "cell_type": "code",
      "source": [
        "df=pd.read_csv('./INFY.csv',index_col='Date',parse_dates=True)"
      ],
      "metadata": {
        "id": "AE6wbl9LcLFx"
      },
      "execution_count": 2,
      "outputs": []
    },
    {
      "cell_type": "markdown",
      "source": [
        "Data Pre processing\n"
      ],
      "metadata": {
        "id": "L8XudG86eRhq"
      }
    },
    {
      "cell_type": "code",
      "source": [
        "df"
      ],
      "metadata": {
        "colab": {
          "base_uri": "https://localhost:8080/",
          "height": 710
        },
        "id": "FUFxX_tUcmfi",
        "outputId": "076e9c93-fa57-49d2-cbe2-92ab17c96d15"
      },
      "execution_count": 3,
      "outputs": [
        {
          "output_type": "execute_result",
          "data": {
            "text/plain": [
              "                Symbol Series  Prev Close      Open      High       Low  \\\n",
              "Date                                                                      \n",
              "2000-01-03  INFOSYSTCH     EQ    14467.75  15625.00  15625.20  15625.00   \n",
              "2000-01-04  INFOSYSTCH     EQ    15625.20  16800.00  16875.25  16253.00   \n",
              "2000-01-05  INFOSYSTCH     EQ    16855.90  15701.00  16250.00  15507.45   \n",
              "2000-01-06  INFOSYSTCH     EQ    15507.45  15256.65  15300.00  14266.85   \n",
              "2000-01-07  INFOSYSTCH     EQ    14266.85  13125.50  13125.50  13125.50   \n",
              "...                ...    ...         ...       ...       ...       ...   \n",
              "2021-04-26        INFY     EQ     1333.80   1332.25   1351.30   1321.00   \n",
              "2021-04-27        INFY     EQ     1343.55   1346.00   1353.00   1340.15   \n",
              "2021-04-28        INFY     EQ     1348.50   1358.00   1359.50   1344.60   \n",
              "2021-04-29        INFY     EQ     1356.00   1368.00   1369.00   1351.40   \n",
              "2021-04-30        INFY     EQ     1356.35   1346.30   1373.90   1345.90   \n",
              "\n",
              "                Last     Close      VWAP   Volume      Turnover    Trades  \\\n",
              "Date                                                                        \n",
              "2000-01-03  15625.20  15625.20  15625.18     5137  8.026657e+12       NaN   \n",
              "2000-01-04  16875.25  16855.90  16646.38    56186  9.352937e+13       NaN   \n",
              "2000-01-05  15507.45  15507.45  15786.38   164605  2.598516e+14       NaN   \n",
              "2000-01-06  14266.85  14266.85  14462.82    81997  1.185908e+14       NaN   \n",
              "2000-01-07  13125.50  13125.50  13125.50     7589  9.960942e+12       NaN   \n",
              "...              ...       ...       ...      ...           ...       ...   \n",
              "2021-04-26   1345.00   1343.55   1343.19  7088606  9.521361e+14  130375.0   \n",
              "2021-04-27   1347.50   1348.50   1346.89  3636115  4.897445e+14  145974.0   \n",
              "2021-04-28   1355.80   1356.00   1353.45  4879234  6.603778e+14  137376.0   \n",
              "2021-04-29   1356.00   1356.35   1360.05  5412357  7.361090e+14  119277.0   \n",
              "2021-04-30   1348.60   1354.35   1361.16  8354677  1.137203e+15  131718.0   \n",
              "\n",
              "            Deliverable Volume  %Deliverble  \n",
              "Date                                         \n",
              "2000-01-03                 NaN          NaN  \n",
              "2000-01-04                 NaN          NaN  \n",
              "2000-01-05                 NaN          NaN  \n",
              "2000-01-06                 NaN          NaN  \n",
              "2000-01-07                 NaN          NaN  \n",
              "...                        ...          ...  \n",
              "2021-04-26           4218129.0       0.5951  \n",
              "2021-04-27           1871084.0       0.5146  \n",
              "2021-04-28           2857134.0       0.5856  \n",
              "2021-04-29           3130945.0       0.5785  \n",
              "2021-04-30           5408113.0       0.6473  \n",
              "\n",
              "[5306 rows x 14 columns]"
            ],
            "text/html": [
              "\n",
              "  <div id=\"df-e0c6ac6c-6904-4ce9-8931-a6e72e2f161c\">\n",
              "    <div class=\"colab-df-container\">\n",
              "      <div>\n",
              "<style scoped>\n",
              "    .dataframe tbody tr th:only-of-type {\n",
              "        vertical-align: middle;\n",
              "    }\n",
              "\n",
              "    .dataframe tbody tr th {\n",
              "        vertical-align: top;\n",
              "    }\n",
              "\n",
              "    .dataframe thead th {\n",
              "        text-align: right;\n",
              "    }\n",
              "</style>\n",
              "<table border=\"1\" class=\"dataframe\">\n",
              "  <thead>\n",
              "    <tr style=\"text-align: right;\">\n",
              "      <th></th>\n",
              "      <th>Symbol</th>\n",
              "      <th>Series</th>\n",
              "      <th>Prev Close</th>\n",
              "      <th>Open</th>\n",
              "      <th>High</th>\n",
              "      <th>Low</th>\n",
              "      <th>Last</th>\n",
              "      <th>Close</th>\n",
              "      <th>VWAP</th>\n",
              "      <th>Volume</th>\n",
              "      <th>Turnover</th>\n",
              "      <th>Trades</th>\n",
              "      <th>Deliverable Volume</th>\n",
              "      <th>%Deliverble</th>\n",
              "    </tr>\n",
              "    <tr>\n",
              "      <th>Date</th>\n",
              "      <th></th>\n",
              "      <th></th>\n",
              "      <th></th>\n",
              "      <th></th>\n",
              "      <th></th>\n",
              "      <th></th>\n",
              "      <th></th>\n",
              "      <th></th>\n",
              "      <th></th>\n",
              "      <th></th>\n",
              "      <th></th>\n",
              "      <th></th>\n",
              "      <th></th>\n",
              "      <th></th>\n",
              "    </tr>\n",
              "  </thead>\n",
              "  <tbody>\n",
              "    <tr>\n",
              "      <th>2000-01-03</th>\n",
              "      <td>INFOSYSTCH</td>\n",
              "      <td>EQ</td>\n",
              "      <td>14467.75</td>\n",
              "      <td>15625.00</td>\n",
              "      <td>15625.20</td>\n",
              "      <td>15625.00</td>\n",
              "      <td>15625.20</td>\n",
              "      <td>15625.20</td>\n",
              "      <td>15625.18</td>\n",
              "      <td>5137</td>\n",
              "      <td>8.026657e+12</td>\n",
              "      <td>NaN</td>\n",
              "      <td>NaN</td>\n",
              "      <td>NaN</td>\n",
              "    </tr>\n",
              "    <tr>\n",
              "      <th>2000-01-04</th>\n",
              "      <td>INFOSYSTCH</td>\n",
              "      <td>EQ</td>\n",
              "      <td>15625.20</td>\n",
              "      <td>16800.00</td>\n",
              "      <td>16875.25</td>\n",
              "      <td>16253.00</td>\n",
              "      <td>16875.25</td>\n",
              "      <td>16855.90</td>\n",
              "      <td>16646.38</td>\n",
              "      <td>56186</td>\n",
              "      <td>9.352937e+13</td>\n",
              "      <td>NaN</td>\n",
              "      <td>NaN</td>\n",
              "      <td>NaN</td>\n",
              "    </tr>\n",
              "    <tr>\n",
              "      <th>2000-01-05</th>\n",
              "      <td>INFOSYSTCH</td>\n",
              "      <td>EQ</td>\n",
              "      <td>16855.90</td>\n",
              "      <td>15701.00</td>\n",
              "      <td>16250.00</td>\n",
              "      <td>15507.45</td>\n",
              "      <td>15507.45</td>\n",
              "      <td>15507.45</td>\n",
              "      <td>15786.38</td>\n",
              "      <td>164605</td>\n",
              "      <td>2.598516e+14</td>\n",
              "      <td>NaN</td>\n",
              "      <td>NaN</td>\n",
              "      <td>NaN</td>\n",
              "    </tr>\n",
              "    <tr>\n",
              "      <th>2000-01-06</th>\n",
              "      <td>INFOSYSTCH</td>\n",
              "      <td>EQ</td>\n",
              "      <td>15507.45</td>\n",
              "      <td>15256.65</td>\n",
              "      <td>15300.00</td>\n",
              "      <td>14266.85</td>\n",
              "      <td>14266.85</td>\n",
              "      <td>14266.85</td>\n",
              "      <td>14462.82</td>\n",
              "      <td>81997</td>\n",
              "      <td>1.185908e+14</td>\n",
              "      <td>NaN</td>\n",
              "      <td>NaN</td>\n",
              "      <td>NaN</td>\n",
              "    </tr>\n",
              "    <tr>\n",
              "      <th>2000-01-07</th>\n",
              "      <td>INFOSYSTCH</td>\n",
              "      <td>EQ</td>\n",
              "      <td>14266.85</td>\n",
              "      <td>13125.50</td>\n",
              "      <td>13125.50</td>\n",
              "      <td>13125.50</td>\n",
              "      <td>13125.50</td>\n",
              "      <td>13125.50</td>\n",
              "      <td>13125.50</td>\n",
              "      <td>7589</td>\n",
              "      <td>9.960942e+12</td>\n",
              "      <td>NaN</td>\n",
              "      <td>NaN</td>\n",
              "      <td>NaN</td>\n",
              "    </tr>\n",
              "    <tr>\n",
              "      <th>...</th>\n",
              "      <td>...</td>\n",
              "      <td>...</td>\n",
              "      <td>...</td>\n",
              "      <td>...</td>\n",
              "      <td>...</td>\n",
              "      <td>...</td>\n",
              "      <td>...</td>\n",
              "      <td>...</td>\n",
              "      <td>...</td>\n",
              "      <td>...</td>\n",
              "      <td>...</td>\n",
              "      <td>...</td>\n",
              "      <td>...</td>\n",
              "      <td>...</td>\n",
              "    </tr>\n",
              "    <tr>\n",
              "      <th>2021-04-26</th>\n",
              "      <td>INFY</td>\n",
              "      <td>EQ</td>\n",
              "      <td>1333.80</td>\n",
              "      <td>1332.25</td>\n",
              "      <td>1351.30</td>\n",
              "      <td>1321.00</td>\n",
              "      <td>1345.00</td>\n",
              "      <td>1343.55</td>\n",
              "      <td>1343.19</td>\n",
              "      <td>7088606</td>\n",
              "      <td>9.521361e+14</td>\n",
              "      <td>130375.0</td>\n",
              "      <td>4218129.0</td>\n",
              "      <td>0.5951</td>\n",
              "    </tr>\n",
              "    <tr>\n",
              "      <th>2021-04-27</th>\n",
              "      <td>INFY</td>\n",
              "      <td>EQ</td>\n",
              "      <td>1343.55</td>\n",
              "      <td>1346.00</td>\n",
              "      <td>1353.00</td>\n",
              "      <td>1340.15</td>\n",
              "      <td>1347.50</td>\n",
              "      <td>1348.50</td>\n",
              "      <td>1346.89</td>\n",
              "      <td>3636115</td>\n",
              "      <td>4.897445e+14</td>\n",
              "      <td>145974.0</td>\n",
              "      <td>1871084.0</td>\n",
              "      <td>0.5146</td>\n",
              "    </tr>\n",
              "    <tr>\n",
              "      <th>2021-04-28</th>\n",
              "      <td>INFY</td>\n",
              "      <td>EQ</td>\n",
              "      <td>1348.50</td>\n",
              "      <td>1358.00</td>\n",
              "      <td>1359.50</td>\n",
              "      <td>1344.60</td>\n",
              "      <td>1355.80</td>\n",
              "      <td>1356.00</td>\n",
              "      <td>1353.45</td>\n",
              "      <td>4879234</td>\n",
              "      <td>6.603778e+14</td>\n",
              "      <td>137376.0</td>\n",
              "      <td>2857134.0</td>\n",
              "      <td>0.5856</td>\n",
              "    </tr>\n",
              "    <tr>\n",
              "      <th>2021-04-29</th>\n",
              "      <td>INFY</td>\n",
              "      <td>EQ</td>\n",
              "      <td>1356.00</td>\n",
              "      <td>1368.00</td>\n",
              "      <td>1369.00</td>\n",
              "      <td>1351.40</td>\n",
              "      <td>1356.00</td>\n",
              "      <td>1356.35</td>\n",
              "      <td>1360.05</td>\n",
              "      <td>5412357</td>\n",
              "      <td>7.361090e+14</td>\n",
              "      <td>119277.0</td>\n",
              "      <td>3130945.0</td>\n",
              "      <td>0.5785</td>\n",
              "    </tr>\n",
              "    <tr>\n",
              "      <th>2021-04-30</th>\n",
              "      <td>INFY</td>\n",
              "      <td>EQ</td>\n",
              "      <td>1356.35</td>\n",
              "      <td>1346.30</td>\n",
              "      <td>1373.90</td>\n",
              "      <td>1345.90</td>\n",
              "      <td>1348.60</td>\n",
              "      <td>1354.35</td>\n",
              "      <td>1361.16</td>\n",
              "      <td>8354677</td>\n",
              "      <td>1.137203e+15</td>\n",
              "      <td>131718.0</td>\n",
              "      <td>5408113.0</td>\n",
              "      <td>0.6473</td>\n",
              "    </tr>\n",
              "  </tbody>\n",
              "</table>\n",
              "<p>5306 rows × 14 columns</p>\n",
              "</div>\n",
              "      <button class=\"colab-df-convert\" onclick=\"convertToInteractive('df-e0c6ac6c-6904-4ce9-8931-a6e72e2f161c')\"\n",
              "              title=\"Convert this dataframe to an interactive table.\"\n",
              "              style=\"display:none;\">\n",
              "        \n",
              "  <svg xmlns=\"http://www.w3.org/2000/svg\" height=\"24px\"viewBox=\"0 0 24 24\"\n",
              "       width=\"24px\">\n",
              "    <path d=\"M0 0h24v24H0V0z\" fill=\"none\"/>\n",
              "    <path d=\"M18.56 5.44l.94 2.06.94-2.06 2.06-.94-2.06-.94-.94-2.06-.94 2.06-2.06.94zm-11 1L8.5 8.5l.94-2.06 2.06-.94-2.06-.94L8.5 2.5l-.94 2.06-2.06.94zm10 10l.94 2.06.94-2.06 2.06-.94-2.06-.94-.94-2.06-.94 2.06-2.06.94z\"/><path d=\"M17.41 7.96l-1.37-1.37c-.4-.4-.92-.59-1.43-.59-.52 0-1.04.2-1.43.59L10.3 9.45l-7.72 7.72c-.78.78-.78 2.05 0 2.83L4 21.41c.39.39.9.59 1.41.59.51 0 1.02-.2 1.41-.59l7.78-7.78 2.81-2.81c.8-.78.8-2.07 0-2.86zM5.41 20L4 18.59l7.72-7.72 1.47 1.35L5.41 20z\"/>\n",
              "  </svg>\n",
              "      </button>\n",
              "      \n",
              "  <style>\n",
              "    .colab-df-container {\n",
              "      display:flex;\n",
              "      flex-wrap:wrap;\n",
              "      gap: 12px;\n",
              "    }\n",
              "\n",
              "    .colab-df-convert {\n",
              "      background-color: #E8F0FE;\n",
              "      border: none;\n",
              "      border-radius: 50%;\n",
              "      cursor: pointer;\n",
              "      display: none;\n",
              "      fill: #1967D2;\n",
              "      height: 32px;\n",
              "      padding: 0 0 0 0;\n",
              "      width: 32px;\n",
              "    }\n",
              "\n",
              "    .colab-df-convert:hover {\n",
              "      background-color: #E2EBFA;\n",
              "      box-shadow: 0px 1px 2px rgba(60, 64, 67, 0.3), 0px 1px 3px 1px rgba(60, 64, 67, 0.15);\n",
              "      fill: #174EA6;\n",
              "    }\n",
              "\n",
              "    [theme=dark] .colab-df-convert {\n",
              "      background-color: #3B4455;\n",
              "      fill: #D2E3FC;\n",
              "    }\n",
              "\n",
              "    [theme=dark] .colab-df-convert:hover {\n",
              "      background-color: #434B5C;\n",
              "      box-shadow: 0px 1px 3px 1px rgba(0, 0, 0, 0.15);\n",
              "      filter: drop-shadow(0px 1px 2px rgba(0, 0, 0, 0.3));\n",
              "      fill: #FFFFFF;\n",
              "    }\n",
              "  </style>\n",
              "\n",
              "      <script>\n",
              "        const buttonEl =\n",
              "          document.querySelector('#df-e0c6ac6c-6904-4ce9-8931-a6e72e2f161c button.colab-df-convert');\n",
              "        buttonEl.style.display =\n",
              "          google.colab.kernel.accessAllowed ? 'block' : 'none';\n",
              "\n",
              "        async function convertToInteractive(key) {\n",
              "          const element = document.querySelector('#df-e0c6ac6c-6904-4ce9-8931-a6e72e2f161c');\n",
              "          const dataTable =\n",
              "            await google.colab.kernel.invokeFunction('convertToInteractive',\n",
              "                                                     [key], {});\n",
              "          if (!dataTable) return;\n",
              "\n",
              "          const docLinkHtml = 'Like what you see? Visit the ' +\n",
              "            '<a target=\"_blank\" href=https://colab.research.google.com/notebooks/data_table.ipynb>data table notebook</a>'\n",
              "            + ' to learn more about interactive tables.';\n",
              "          element.innerHTML = '';\n",
              "          dataTable['output_type'] = 'display_data';\n",
              "          await google.colab.output.renderOutput(dataTable, element);\n",
              "          const docLink = document.createElement('div');\n",
              "          docLink.innerHTML = docLinkHtml;\n",
              "          element.appendChild(docLink);\n",
              "        }\n",
              "      </script>\n",
              "    </div>\n",
              "  </div>\n",
              "  "
            ]
          },
          "metadata": {},
          "execution_count": 3
        }
      ]
    },
    {
      "cell_type": "code",
      "source": [
        "df['Date']=df.index"
      ],
      "metadata": {
        "id": "E7X-jyItcm8U"
      },
      "execution_count": 4,
      "outputs": []
    },
    {
      "cell_type": "code",
      "source": [
        "start_date='2016-01-01'\n",
        "end_date='2020-12-31'\n",
        "mask=(df['Date']>=start_date)&(df['Date']<=end_date)"
      ],
      "metadata": {
        "id": "A9eSrJ1Dcot3"
      },
      "execution_count": 5,
      "outputs": []
    },
    {
      "cell_type": "code",
      "source": [
        "df=df.loc[mask]"
      ],
      "metadata": {
        "id": "_Pfuk7zicqIx"
      },
      "execution_count": 6,
      "outputs": []
    },
    {
      "cell_type": "code",
      "source": [
        "df=df.loc[mask]"
      ],
      "metadata": {
        "id": "MsTtlYUncrcn"
      },
      "execution_count": 7,
      "outputs": []
    },
    {
      "cell_type": "code",
      "source": [
        "df=df.drop(columns=['Series','Symbol','Open','High','Low','Last','Close','VWAP','Volume','Turnover','Trades','Deliverable Volume','%Deliverble','Date'])"
      ],
      "metadata": {
        "id": "aV7QwBEDcvq2"
      },
      "execution_count": 8,
      "outputs": []
    },
    {
      "cell_type": "code",
      "source": [
        "Ntest=math.trunc(0.3*len(df))\n",
        "train=df.iloc[:-Ntest]\n",
        "test=df.iloc[-Ntest:]"
      ],
      "metadata": {
        "id": "cUuhMhL0c1qi"
      },
      "execution_count": 9,
      "outputs": []
    },
    {
      "cell_type": "code",
      "source": [
        "train_idx=df.index<=train.index[-1]\n",
        "test_idx=df.index>train.index[-1]"
      ],
      "metadata": {
        "id": "YFtIIrsqc3ch"
      },
      "execution_count": 10,
      "outputs": []
    },
    {
      "cell_type": "code",
      "source": [
        "df['Diff Prev Close']=df['Prev Close'].diff()"
      ],
      "metadata": {
        "id": "zh1z6dQDc6KA"
      },
      "execution_count": 11,
      "outputs": []
    },
    {
      "cell_type": "code",
      "source": [
        "series=df['Diff Prev Close'].dropna().to_numpy()\n",
        "\n",
        "T=50\n",
        "X=[]\n",
        "Y=[]\n",
        "for t in range(len(series)-T):\n",
        "  x=series[t:t+T]\n",
        "  X.append(x)\n",
        "  y=series[t+T]\n",
        "  Y.append(y)\n",
        "\n",
        "X=np.array(X).reshape(-1,T)\n",
        "Y=np.array(Y)\n",
        "N=len(X)\n",
        "print(\"X.shape\",X.shape,\"Y.shape\",Y.shape)"
      ],
      "metadata": {
        "colab": {
          "base_uri": "https://localhost:8080/"
        },
        "id": "GH9c1VIMdLvZ",
        "outputId": "d6cbfc9c-94cd-464d-bd47-6cf663314d3b"
      },
      "execution_count": 12,
      "outputs": [
        {
          "output_type": "stream",
          "name": "stdout",
          "text": [
            "X.shape (1187, 50) Y.shape (1187,)\n"
          ]
        }
      ]
    },
    {
      "cell_type": "code",
      "source": [
        "Xtrain,Ytrain=X[:-Ntest],Y[:-Ntest]\n",
        "Xtest,Ytest=X[-Ntest:],Y[-Ntest:]"
      ],
      "metadata": {
        "id": "AyyCdgD1dQeH"
      },
      "execution_count": 13,
      "outputs": []
    },
    {
      "cell_type": "markdown",
      "source": [
        "ANN"
      ],
      "metadata": {
        "id": "P4csTdPeeavE"
      }
    },
    {
      "cell_type": "code",
      "source": [
        "i=Input(shape=(T,))\n",
        "x=Dense(400,activation='relu')(i)\n",
        "x=Dense(100,activation='relu')(x)\n",
        "x=Dense(50,activation='relu')(x)\n",
        "x=Dense(1,activation='relu')(x)\n",
        "model_ann=Model(i,x)\n",
        "model_ann.summary()"
      ],
      "metadata": {
        "colab": {
          "base_uri": "https://localhost:8080/"
        },
        "id": "cEHrg-sQdSpS",
        "outputId": "b2db4f01-8278-4362-9dc6-1fc3bed141c6"
      },
      "execution_count": 14,
      "outputs": [
        {
          "output_type": "stream",
          "name": "stdout",
          "text": [
            "Model: \"model\"\n",
            "_________________________________________________________________\n",
            " Layer (type)                Output Shape              Param #   \n",
            "=================================================================\n",
            " input_1 (InputLayer)        [(None, 50)]              0         \n",
            "                                                                 \n",
            " dense (Dense)               (None, 400)               20400     \n",
            "                                                                 \n",
            " dense_1 (Dense)             (None, 100)               40100     \n",
            "                                                                 \n",
            " dense_2 (Dense)             (None, 50)                5050      \n",
            "                                                                 \n",
            " dense_3 (Dense)             (None, 1)                 51        \n",
            "                                                                 \n",
            "=================================================================\n",
            "Total params: 65,601\n",
            "Trainable params: 65,601\n",
            "Non-trainable params: 0\n",
            "_________________________________________________________________\n"
          ]
        }
      ]
    },
    {
      "cell_type": "code",
      "source": [
        "model_ann.compile(\n",
        "    loss='mse',\n",
        "    optimizer='adamax',\n",
        "    metrics='mae'\n",
        ")"
      ],
      "metadata": {
        "id": "GSjK1FukdUVe"
      },
      "execution_count": 15,
      "outputs": []
    },
    {
      "cell_type": "code",
      "source": [
        "r=model_ann.fit(\n",
        "    Xtrain,\n",
        "    Ytrain,\n",
        "    epochs=100,\n",
        "    validation_data=(Xtest,Ytest)\n",
        ")"
      ],
      "metadata": {
        "colab": {
          "base_uri": "https://localhost:8080/"
        },
        "id": "bp97xaLkdXKe",
        "outputId": "fddd0ba6-3892-4731-fb2d-d760430eee5b"
      },
      "execution_count": 16,
      "outputs": [
        {
          "output_type": "stream",
          "name": "stdout",
          "text": [
            "Epoch 1/100\n",
            "26/26 [==============================] - 1s 8ms/step - loss: 802.4185 - mae: 11.2086 - val_loss: 331.7534 - val_mae: 12.2733\n",
            "Epoch 2/100\n",
            "26/26 [==============================] - 0s 3ms/step - loss: 798.9891 - mae: 11.1403 - val_loss: 331.7534 - val_mae: 12.2733\n",
            "Epoch 3/100\n",
            "26/26 [==============================] - 0s 3ms/step - loss: 798.8724 - mae: 11.1375 - val_loss: 331.7534 - val_mae: 12.2733\n",
            "Epoch 4/100\n",
            "26/26 [==============================] - 0s 3ms/step - loss: 798.5438 - mae: 11.1273 - val_loss: 331.7534 - val_mae: 12.2733\n",
            "Epoch 5/100\n",
            "26/26 [==============================] - 0s 3ms/step - loss: 798.3169 - mae: 11.1178 - val_loss: 331.7534 - val_mae: 12.2733\n",
            "Epoch 6/100\n",
            "26/26 [==============================] - 0s 3ms/step - loss: 798.1255 - mae: 11.1057 - val_loss: 331.7534 - val_mae: 12.2733\n",
            "Epoch 7/100\n",
            "26/26 [==============================] - 0s 3ms/step - loss: 797.9466 - mae: 11.0920 - val_loss: 331.7534 - val_mae: 12.2733\n",
            "Epoch 8/100\n",
            "26/26 [==============================] - 0s 3ms/step - loss: 797.8432 - mae: 11.0814 - val_loss: 331.7530 - val_mae: 12.2725\n",
            "Epoch 9/100\n",
            "26/26 [==============================] - 0s 3ms/step - loss: 797.7163 - mae: 11.0732 - val_loss: 331.7531 - val_mae: 12.2727\n",
            "Epoch 10/100\n",
            "26/26 [==============================] - 0s 3ms/step - loss: 797.6369 - mae: 11.0655 - val_loss: 331.7531 - val_mae: 12.2727\n",
            "Epoch 11/100\n",
            "26/26 [==============================] - 0s 3ms/step - loss: 797.5902 - mae: 11.0594 - val_loss: 331.7532 - val_mae: 12.2731\n",
            "Epoch 12/100\n",
            "26/26 [==============================] - 0s 3ms/step - loss: 797.5503 - mae: 11.0545 - val_loss: 331.7541 - val_mae: 12.2741\n",
            "Epoch 13/100\n",
            "26/26 [==============================] - 0s 3ms/step - loss: 797.5259 - mae: 11.0503 - val_loss: 331.7237 - val_mae: 12.2734\n",
            "Epoch 14/100\n",
            "26/26 [==============================] - 0s 3ms/step - loss: 797.4888 - mae: 11.0456 - val_loss: 331.7248 - val_mae: 12.2735\n",
            "Epoch 15/100\n",
            "26/26 [==============================] - 0s 4ms/step - loss: 797.4787 - mae: 11.0433 - val_loss: 331.6340 - val_mae: 12.2733\n",
            "Epoch 16/100\n",
            "26/26 [==============================] - 0s 3ms/step - loss: 797.5129 - mae: 11.0435 - val_loss: 331.4193 - val_mae: 12.2721\n",
            "Epoch 17/100\n",
            "26/26 [==============================] - 0s 2ms/step - loss: 798.4022 - mae: 11.0644 - val_loss: 331.7532 - val_mae: 12.2728\n",
            "Epoch 18/100\n",
            "26/26 [==============================] - 0s 3ms/step - loss: 797.2842 - mae: 11.0403 - val_loss: 331.7534 - val_mae: 12.2734\n",
            "Epoch 19/100\n",
            "26/26 [==============================] - 0s 3ms/step - loss: 797.1649 - mae: 11.0321 - val_loss: 331.6572 - val_mae: 12.2731\n",
            "Epoch 20/100\n",
            "26/26 [==============================] - 0s 3ms/step - loss: 797.1160 - mae: 11.0275 - val_loss: 331.6864 - val_mae: 12.2735\n",
            "Epoch 21/100\n",
            "26/26 [==============================] - 0s 3ms/step - loss: 797.0602 - mae: 11.0240 - val_loss: 331.6425 - val_mae: 12.2737\n",
            "Epoch 22/100\n",
            "26/26 [==============================] - 0s 3ms/step - loss: 797.0435 - mae: 11.0222 - val_loss: 331.5681 - val_mae: 12.2737\n",
            "Epoch 23/100\n",
            "26/26 [==============================] - 0s 3ms/step - loss: 797.0012 - mae: 11.0181 - val_loss: 331.6435 - val_mae: 12.2745\n",
            "Epoch 24/100\n",
            "26/26 [==============================] - 0s 2ms/step - loss: 796.9836 - mae: 11.0161 - val_loss: 331.5692 - val_mae: 12.2744\n",
            "Epoch 25/100\n",
            "26/26 [==============================] - 0s 2ms/step - loss: 796.9664 - mae: 11.0138 - val_loss: 331.6017 - val_mae: 12.2748\n",
            "Epoch 26/100\n",
            "26/26 [==============================] - 0s 2ms/step - loss: 796.9637 - mae: 11.0123 - val_loss: 331.6863 - val_mae: 12.2752\n",
            "Epoch 27/100\n",
            "26/26 [==============================] - 0s 3ms/step - loss: 796.9448 - mae: 11.0099 - val_loss: 331.6636 - val_mae: 12.2762\n",
            "Epoch 28/100\n",
            "26/26 [==============================] - 0s 3ms/step - loss: 796.9406 - mae: 11.0097 - val_loss: 331.6964 - val_mae: 12.2751\n",
            "Epoch 29/100\n",
            "26/26 [==============================] - 0s 3ms/step - loss: 796.9346 - mae: 11.0080 - val_loss: 331.6991 - val_mae: 12.2750\n",
            "Epoch 30/100\n",
            "26/26 [==============================] - 0s 3ms/step - loss: 796.9297 - mae: 11.0064 - val_loss: 331.6950 - val_mae: 12.2754\n",
            "Epoch 31/100\n",
            "26/26 [==============================] - 0s 2ms/step - loss: 796.9264 - mae: 11.0056 - val_loss: 331.6954 - val_mae: 12.2756\n",
            "Epoch 32/100\n",
            "26/26 [==============================] - 0s 3ms/step - loss: 796.9243 - mae: 11.0051 - val_loss: 331.6991 - val_mae: 12.2758\n",
            "Epoch 33/100\n",
            "26/26 [==============================] - 0s 2ms/step - loss: 796.9224 - mae: 11.0041 - val_loss: 331.7060 - val_mae: 12.2758\n",
            "Epoch 34/100\n",
            "26/26 [==============================] - 0s 3ms/step - loss: 796.9218 - mae: 11.0039 - val_loss: 331.7081 - val_mae: 12.2760\n",
            "Epoch 35/100\n",
            "26/26 [==============================] - 0s 3ms/step - loss: 796.9203 - mae: 11.0032 - val_loss: 331.7092 - val_mae: 12.2761\n",
            "Epoch 36/100\n",
            "26/26 [==============================] - 0s 3ms/step - loss: 796.9197 - mae: 11.0028 - val_loss: 331.7127 - val_mae: 12.2762\n",
            "Epoch 37/100\n",
            "26/26 [==============================] - 0s 3ms/step - loss: 796.9194 - mae: 11.0024 - val_loss: 331.7134 - val_mae: 12.2763\n",
            "Epoch 38/100\n",
            "26/26 [==============================] - 0s 2ms/step - loss: 796.9189 - mae: 11.0020 - val_loss: 331.7162 - val_mae: 12.2763\n",
            "Epoch 39/100\n",
            "26/26 [==============================] - 0s 3ms/step - loss: 796.9188 - mae: 11.0017 - val_loss: 331.7167 - val_mae: 12.2763\n",
            "Epoch 40/100\n",
            "26/26 [==============================] - 0s 3ms/step - loss: 796.9186 - mae: 11.0014 - val_loss: 331.7187 - val_mae: 12.2763\n",
            "Epoch 41/100\n",
            "26/26 [==============================] - 0s 3ms/step - loss: 796.9185 - mae: 11.0013 - val_loss: 331.7189 - val_mae: 12.2764\n",
            "Epoch 42/100\n",
            "26/26 [==============================] - 0s 3ms/step - loss: 796.9185 - mae: 11.0011 - val_loss: 331.7204 - val_mae: 12.2764\n",
            "Epoch 43/100\n",
            "26/26 [==============================] - 0s 4ms/step - loss: 796.9183 - mae: 11.0010 - val_loss: 331.7211 - val_mae: 12.2765\n",
            "Epoch 44/100\n",
            "26/26 [==============================] - 0s 2ms/step - loss: 796.9183 - mae: 11.0008 - val_loss: 331.7223 - val_mae: 12.2765\n",
            "Epoch 45/100\n",
            "26/26 [==============================] - 0s 3ms/step - loss: 796.9183 - mae: 11.0007 - val_loss: 331.7229 - val_mae: 12.2765\n",
            "Epoch 46/100\n",
            "26/26 [==============================] - 0s 2ms/step - loss: 796.9183 - mae: 11.0006 - val_loss: 331.7230 - val_mae: 12.2765\n",
            "Epoch 47/100\n",
            "26/26 [==============================] - 0s 2ms/step - loss: 796.9182 - mae: 11.0006 - val_loss: 331.7237 - val_mae: 12.2765\n",
            "Epoch 48/100\n",
            "26/26 [==============================] - 0s 3ms/step - loss: 796.9182 - mae: 11.0005 - val_loss: 331.7239 - val_mae: 12.2765\n",
            "Epoch 49/100\n",
            "26/26 [==============================] - 0s 2ms/step - loss: 796.9183 - mae: 11.0005 - val_loss: 331.7245 - val_mae: 12.2765\n",
            "Epoch 50/100\n",
            "26/26 [==============================] - 0s 3ms/step - loss: 796.9183 - mae: 11.0004 - val_loss: 331.7247 - val_mae: 12.2765\n",
            "Epoch 51/100\n",
            "26/26 [==============================] - 0s 3ms/step - loss: 796.9182 - mae: 11.0004 - val_loss: 331.7247 - val_mae: 12.2765\n",
            "Epoch 52/100\n",
            "26/26 [==============================] - 0s 3ms/step - loss: 796.9182 - mae: 11.0004 - val_loss: 331.7248 - val_mae: 12.2765\n",
            "Epoch 53/100\n",
            "26/26 [==============================] - 0s 3ms/step - loss: 796.9183 - mae: 11.0004 - val_loss: 331.7248 - val_mae: 12.2765\n",
            "Epoch 54/100\n",
            "26/26 [==============================] - 0s 3ms/step - loss: 796.9182 - mae: 11.0004 - val_loss: 331.7250 - val_mae: 12.2765\n",
            "Epoch 55/100\n",
            "26/26 [==============================] - 0s 3ms/step - loss: 796.9183 - mae: 11.0003 - val_loss: 331.7251 - val_mae: 12.2765\n",
            "Epoch 56/100\n",
            "26/26 [==============================] - 0s 3ms/step - loss: 796.9182 - mae: 11.0003 - val_loss: 331.7251 - val_mae: 12.2765\n",
            "Epoch 57/100\n",
            "26/26 [==============================] - 0s 2ms/step - loss: 796.9182 - mae: 11.0003 - val_loss: 331.7252 - val_mae: 12.2765\n",
            "Epoch 58/100\n",
            "26/26 [==============================] - 0s 3ms/step - loss: 796.9183 - mae: 11.0003 - val_loss: 331.7252 - val_mae: 12.2765\n",
            "Epoch 59/100\n",
            "26/26 [==============================] - 0s 3ms/step - loss: 796.9183 - mae: 11.0003 - val_loss: 331.7252 - val_mae: 12.2766\n",
            "Epoch 60/100\n",
            "26/26 [==============================] - 0s 3ms/step - loss: 796.9182 - mae: 11.0003 - val_loss: 331.7252 - val_mae: 12.2766\n",
            "Epoch 61/100\n",
            "26/26 [==============================] - 0s 3ms/step - loss: 796.9183 - mae: 11.0003 - val_loss: 331.7252 - val_mae: 12.2766\n",
            "Epoch 62/100\n",
            "26/26 [==============================] - 0s 3ms/step - loss: 796.9182 - mae: 11.0003 - val_loss: 331.7253 - val_mae: 12.2766\n",
            "Epoch 63/100\n",
            "26/26 [==============================] - 0s 3ms/step - loss: 796.9182 - mae: 11.0003 - val_loss: 331.7253 - val_mae: 12.2766\n",
            "Epoch 64/100\n",
            "26/26 [==============================] - 0s 2ms/step - loss: 796.9183 - mae: 11.0003 - val_loss: 331.7253 - val_mae: 12.2766\n",
            "Epoch 65/100\n",
            "26/26 [==============================] - 0s 3ms/step - loss: 796.9182 - mae: 11.0003 - val_loss: 331.7253 - val_mae: 12.2766\n",
            "Epoch 66/100\n",
            "26/26 [==============================] - 0s 2ms/step - loss: 796.9183 - mae: 11.0003 - val_loss: 331.7253 - val_mae: 12.2766\n",
            "Epoch 67/100\n",
            "26/26 [==============================] - 0s 3ms/step - loss: 796.9183 - mae: 11.0003 - val_loss: 331.7253 - val_mae: 12.2766\n",
            "Epoch 68/100\n",
            "26/26 [==============================] - 0s 2ms/step - loss: 796.9183 - mae: 11.0003 - val_loss: 331.7253 - val_mae: 12.2766\n",
            "Epoch 69/100\n",
            "26/26 [==============================] - 0s 3ms/step - loss: 796.9182 - mae: 11.0003 - val_loss: 331.7253 - val_mae: 12.2766\n",
            "Epoch 70/100\n",
            "26/26 [==============================] - 0s 3ms/step - loss: 796.9180 - mae: 11.0003 - val_loss: 331.7253 - val_mae: 12.2766\n",
            "Epoch 71/100\n",
            "26/26 [==============================] - 0s 2ms/step - loss: 796.9182 - mae: 11.0003 - val_loss: 331.7253 - val_mae: 12.2766\n",
            "Epoch 72/100\n",
            "26/26 [==============================] - 0s 2ms/step - loss: 796.9182 - mae: 11.0003 - val_loss: 331.7253 - val_mae: 12.2766\n",
            "Epoch 73/100\n",
            "26/26 [==============================] - 0s 3ms/step - loss: 796.9182 - mae: 11.0003 - val_loss: 331.7253 - val_mae: 12.2766\n",
            "Epoch 74/100\n",
            "26/26 [==============================] - 0s 3ms/step - loss: 796.9183 - mae: 11.0003 - val_loss: 331.7253 - val_mae: 12.2766\n",
            "Epoch 75/100\n",
            "26/26 [==============================] - 0s 3ms/step - loss: 796.9183 - mae: 11.0003 - val_loss: 331.7253 - val_mae: 12.2766\n",
            "Epoch 76/100\n",
            "26/26 [==============================] - 0s 3ms/step - loss: 796.9183 - mae: 11.0003 - val_loss: 331.7253 - val_mae: 12.2766\n",
            "Epoch 77/100\n",
            "26/26 [==============================] - 0s 3ms/step - loss: 796.9183 - mae: 11.0003 - val_loss: 331.7253 - val_mae: 12.2766\n",
            "Epoch 78/100\n",
            "26/26 [==============================] - 0s 3ms/step - loss: 796.9183 - mae: 11.0003 - val_loss: 331.7253 - val_mae: 12.2766\n",
            "Epoch 79/100\n",
            "26/26 [==============================] - 0s 3ms/step - loss: 796.9182 - mae: 11.0003 - val_loss: 331.7253 - val_mae: 12.2766\n",
            "Epoch 80/100\n",
            "26/26 [==============================] - 0s 3ms/step - loss: 796.9182 - mae: 11.0003 - val_loss: 331.7253 - val_mae: 12.2766\n",
            "Epoch 81/100\n",
            "26/26 [==============================] - 0s 3ms/step - loss: 796.9183 - mae: 11.0003 - val_loss: 331.7253 - val_mae: 12.2766\n",
            "Epoch 82/100\n",
            "26/26 [==============================] - 0s 3ms/step - loss: 796.9183 - mae: 11.0003 - val_loss: 331.7253 - val_mae: 12.2766\n",
            "Epoch 83/100\n",
            "26/26 [==============================] - 0s 3ms/step - loss: 796.9182 - mae: 11.0003 - val_loss: 331.7253 - val_mae: 12.2766\n",
            "Epoch 84/100\n",
            "26/26 [==============================] - 0s 3ms/step - loss: 796.9182 - mae: 11.0003 - val_loss: 331.7253 - val_mae: 12.2766\n",
            "Epoch 85/100\n",
            "26/26 [==============================] - 0s 2ms/step - loss: 796.9182 - mae: 11.0003 - val_loss: 331.7253 - val_mae: 12.2766\n",
            "Epoch 86/100\n",
            "26/26 [==============================] - 0s 2ms/step - loss: 796.9182 - mae: 11.0003 - val_loss: 331.7253 - val_mae: 12.2766\n",
            "Epoch 87/100\n",
            "26/26 [==============================] - 0s 3ms/step - loss: 796.9182 - mae: 11.0003 - val_loss: 331.7253 - val_mae: 12.2766\n",
            "Epoch 88/100\n",
            "26/26 [==============================] - 0s 3ms/step - loss: 796.9183 - mae: 11.0003 - val_loss: 331.7253 - val_mae: 12.2766\n",
            "Epoch 89/100\n",
            "26/26 [==============================] - 0s 2ms/step - loss: 796.9183 - mae: 11.0003 - val_loss: 331.7253 - val_mae: 12.2766\n",
            "Epoch 90/100\n",
            "26/26 [==============================] - 0s 2ms/step - loss: 796.9182 - mae: 11.0003 - val_loss: 331.7253 - val_mae: 12.2766\n",
            "Epoch 91/100\n",
            "26/26 [==============================] - 0s 2ms/step - loss: 796.9183 - mae: 11.0003 - val_loss: 331.7253 - val_mae: 12.2766\n",
            "Epoch 92/100\n",
            "26/26 [==============================] - 0s 3ms/step - loss: 796.9183 - mae: 11.0003 - val_loss: 331.7253 - val_mae: 12.2766\n",
            "Epoch 93/100\n",
            "26/26 [==============================] - 0s 3ms/step - loss: 796.9182 - mae: 11.0003 - val_loss: 331.7253 - val_mae: 12.2766\n",
            "Epoch 94/100\n",
            "26/26 [==============================] - 0s 3ms/step - loss: 796.9182 - mae: 11.0003 - val_loss: 331.7253 - val_mae: 12.2766\n",
            "Epoch 95/100\n",
            "26/26 [==============================] - 0s 3ms/step - loss: 796.9183 - mae: 11.0003 - val_loss: 331.7253 - val_mae: 12.2766\n",
            "Epoch 96/100\n",
            "26/26 [==============================] - 0s 3ms/step - loss: 796.9182 - mae: 11.0003 - val_loss: 331.7253 - val_mae: 12.2766\n",
            "Epoch 97/100\n",
            "26/26 [==============================] - 0s 2ms/step - loss: 796.9183 - mae: 11.0003 - val_loss: 331.7253 - val_mae: 12.2766\n",
            "Epoch 98/100\n",
            "26/26 [==============================] - 0s 3ms/step - loss: 796.9182 - mae: 11.0003 - val_loss: 331.7253 - val_mae: 12.2766\n",
            "Epoch 99/100\n",
            "26/26 [==============================] - 0s 3ms/step - loss: 796.9185 - mae: 11.0003 - val_loss: 331.7253 - val_mae: 12.2766\n",
            "Epoch 100/100\n",
            "26/26 [==============================] - 0s 3ms/step - loss: 796.9182 - mae: 11.0003 - val_loss: 331.7253 - val_mae: 12.2766\n"
          ]
        }
      ]
    },
    {
      "cell_type": "markdown",
      "source": [
        "CNN"
      ],
      "metadata": {
        "id": "Uekkb3dMfVs7"
      }
    },
    {
      "cell_type": "code",
      "source": [
        "i=Input(shape=(T,1))\n",
        "x=Conv1D(25,3,activation='relu')(i)\n",
        "x=MaxPooling1D(2)(x)\n",
        "x=Conv1D(50,3,activation='relu')(x)\n",
        "x=GlobalMaxPooling1D()(x)\n",
        "x=Dense(1)(x)\n",
        "model_cnn=Model(i,x)\n",
        "model_cnn.summary()"
      ],
      "metadata": {
        "colab": {
          "base_uri": "https://localhost:8080/"
        },
        "id": "Lboz32TXfjLR",
        "outputId": "680d8af1-ae97-4abb-903c-2becc51a35b4"
      },
      "execution_count": 17,
      "outputs": [
        {
          "output_type": "stream",
          "name": "stdout",
          "text": [
            "Model: \"model_1\"\n",
            "_________________________________________________________________\n",
            " Layer (type)                Output Shape              Param #   \n",
            "=================================================================\n",
            " input_2 (InputLayer)        [(None, 50, 1)]           0         \n",
            "                                                                 \n",
            " conv1d (Conv1D)             (None, 48, 25)            100       \n",
            "                                                                 \n",
            " max_pooling1d (MaxPooling1D  (None, 24, 25)           0         \n",
            " )                                                               \n",
            "                                                                 \n",
            " conv1d_1 (Conv1D)           (None, 22, 50)            3800      \n",
            "                                                                 \n",
            " global_max_pooling1d (Globa  (None, 50)               0         \n",
            " lMaxPooling1D)                                                  \n",
            "                                                                 \n",
            " dense_4 (Dense)             (None, 1)                 51        \n",
            "                                                                 \n",
            "=================================================================\n",
            "Total params: 3,951\n",
            "Trainable params: 3,951\n",
            "Non-trainable params: 0\n",
            "_________________________________________________________________\n"
          ]
        }
      ]
    },
    {
      "cell_type": "code",
      "source": [
        "model_cnn.compile(loss='mse',\n",
        "              optimizer='adamax',\n",
        "              metrics=['mae','mse'])"
      ],
      "metadata": {
        "id": "5OpT5ORafjVT"
      },
      "execution_count": 18,
      "outputs": []
    },
    {
      "cell_type": "code",
      "source": [
        "r=model_cnn.fit(\n",
        "    Xtrain,\n",
        "    Ytrain,\n",
        "    epochs=100,\n",
        "    validation_data=(Xtest,Ytest)\n",
        ")"
      ],
      "metadata": {
        "colab": {
          "base_uri": "https://localhost:8080/"
        },
        "id": "mZ9Q3O2vfjf2",
        "outputId": "cf63d79c-fd6d-46ae-94a0-35b1729af229"
      },
      "execution_count": 19,
      "outputs": [
        {
          "output_type": "stream",
          "name": "stdout",
          "text": [
            "Epoch 1/100\n",
            "26/26 [==============================] - 1s 9ms/step - loss: 896.4323 - mae: 12.8732 - mse: 896.4323 - val_loss: 342.5221 - val_mae: 12.5512 - val_mse: 342.5221\n",
            "Epoch 2/100\n",
            "26/26 [==============================] - 0s 4ms/step - loss: 814.1520 - mae: 11.4610 - mse: 814.1520 - val_loss: 345.2335 - val_mae: 12.6542 - val_mse: 345.2335\n",
            "Epoch 3/100\n",
            "26/26 [==============================] - 0s 4ms/step - loss: 807.8840 - mae: 11.3676 - mse: 807.8840 - val_loss: 344.2815 - val_mae: 12.6386 - val_mse: 344.2815\n",
            "Epoch 4/100\n",
            "26/26 [==============================] - 0s 4ms/step - loss: 805.2867 - mae: 11.3517 - mse: 805.2867 - val_loss: 343.4961 - val_mae: 12.6153 - val_mse: 343.4961\n",
            "Epoch 5/100\n",
            "26/26 [==============================] - 0s 5ms/step - loss: 802.1783 - mae: 11.2902 - mse: 802.1783 - val_loss: 343.6241 - val_mae: 12.6264 - val_mse: 343.6241\n",
            "Epoch 6/100\n",
            "26/26 [==============================] - 0s 5ms/step - loss: 801.5491 - mae: 11.3056 - mse: 801.5491 - val_loss: 345.0850 - val_mae: 12.6656 - val_mse: 345.0850\n",
            "Epoch 7/100\n",
            "26/26 [==============================] - 0s 4ms/step - loss: 798.0931 - mae: 11.2465 - mse: 798.0931 - val_loss: 343.1889 - val_mae: 12.6110 - val_mse: 343.1889\n",
            "Epoch 8/100\n",
            "26/26 [==============================] - 0s 4ms/step - loss: 796.2843 - mae: 11.2358 - mse: 796.2843 - val_loss: 343.3308 - val_mae: 12.6226 - val_mse: 343.3308\n",
            "Epoch 9/100\n",
            "26/26 [==============================] - 0s 4ms/step - loss: 795.1999 - mae: 11.2208 - mse: 795.1999 - val_loss: 343.5135 - val_mae: 12.6221 - val_mse: 343.5135\n",
            "Epoch 10/100\n",
            "26/26 [==============================] - 0s 4ms/step - loss: 794.1881 - mae: 11.2345 - mse: 794.1881 - val_loss: 345.1230 - val_mae: 12.6775 - val_mse: 345.1230\n",
            "Epoch 11/100\n",
            "26/26 [==============================] - 0s 5ms/step - loss: 792.2004 - mae: 11.2060 - mse: 792.2004 - val_loss: 341.7167 - val_mae: 12.5569 - val_mse: 341.7167\n",
            "Epoch 12/100\n",
            "26/26 [==============================] - 0s 4ms/step - loss: 791.2550 - mae: 11.1635 - mse: 791.2550 - val_loss: 341.9115 - val_mae: 12.5726 - val_mse: 341.9115\n",
            "Epoch 13/100\n",
            "26/26 [==============================] - 0s 4ms/step - loss: 790.1284 - mae: 11.1572 - mse: 790.1284 - val_loss: 342.5085 - val_mae: 12.5922 - val_mse: 342.5085\n",
            "Epoch 14/100\n",
            "26/26 [==============================] - 0s 4ms/step - loss: 789.0840 - mae: 11.1797 - mse: 789.0840 - val_loss: 341.0997 - val_mae: 12.5392 - val_mse: 341.0997\n",
            "Epoch 15/100\n",
            "26/26 [==============================] - 0s 4ms/step - loss: 788.2369 - mae: 11.1614 - mse: 788.2369 - val_loss: 341.4549 - val_mae: 12.5464 - val_mse: 341.4549\n",
            "Epoch 16/100\n",
            "26/26 [==============================] - 0s 4ms/step - loss: 786.7397 - mae: 11.1496 - mse: 786.7397 - val_loss: 343.1570 - val_mae: 12.6057 - val_mse: 343.1570\n",
            "Epoch 17/100\n",
            "26/26 [==============================] - 0s 4ms/step - loss: 786.5603 - mae: 11.1497 - mse: 786.5603 - val_loss: 345.9465 - val_mae: 12.6904 - val_mse: 345.9465\n",
            "Epoch 18/100\n",
            "26/26 [==============================] - 0s 4ms/step - loss: 788.5237 - mae: 11.2279 - mse: 788.5237 - val_loss: 346.4215 - val_mae: 12.7067 - val_mse: 346.4215\n",
            "Epoch 19/100\n",
            "26/26 [==============================] - 0s 4ms/step - loss: 785.8039 - mae: 11.1441 - mse: 785.8039 - val_loss: 343.4285 - val_mae: 12.6102 - val_mse: 343.4285\n",
            "Epoch 20/100\n",
            "26/26 [==============================] - 0s 4ms/step - loss: 783.0610 - mae: 11.0893 - mse: 783.0610 - val_loss: 343.8499 - val_mae: 12.6146 - val_mse: 343.8499\n",
            "Epoch 21/100\n",
            "26/26 [==============================] - 0s 4ms/step - loss: 782.7857 - mae: 11.1115 - mse: 782.7857 - val_loss: 341.5959 - val_mae: 12.5543 - val_mse: 341.5959\n",
            "Epoch 22/100\n",
            "26/26 [==============================] - 0s 5ms/step - loss: 783.0673 - mae: 11.1048 - mse: 783.0673 - val_loss: 347.7799 - val_mae: 12.7355 - val_mse: 347.7799\n",
            "Epoch 23/100\n",
            "26/26 [==============================] - 0s 6ms/step - loss: 782.8705 - mae: 11.1209 - mse: 782.8705 - val_loss: 342.2617 - val_mae: 12.5678 - val_mse: 342.2617\n",
            "Epoch 24/100\n",
            "26/26 [==============================] - 0s 4ms/step - loss: 780.3994 - mae: 11.0665 - mse: 780.3994 - val_loss: 344.7811 - val_mae: 12.6454 - val_mse: 344.7811\n",
            "Epoch 25/100\n",
            "26/26 [==============================] - 0s 4ms/step - loss: 781.0344 - mae: 11.1024 - mse: 781.0344 - val_loss: 343.1446 - val_mae: 12.5976 - val_mse: 343.1446\n",
            "Epoch 26/100\n",
            "26/26 [==============================] - 0s 4ms/step - loss: 779.5874 - mae: 11.0610 - mse: 779.5874 - val_loss: 343.2254 - val_mae: 12.5946 - val_mse: 343.2254\n",
            "Epoch 27/100\n",
            "26/26 [==============================] - 0s 4ms/step - loss: 779.7247 - mae: 11.1113 - mse: 779.7247 - val_loss: 345.4965 - val_mae: 12.6666 - val_mse: 345.4965\n",
            "Epoch 28/100\n",
            "26/26 [==============================] - 0s 4ms/step - loss: 779.9861 - mae: 11.1787 - mse: 779.9861 - val_loss: 341.5807 - val_mae: 12.5515 - val_mse: 341.5807\n",
            "Epoch 29/100\n",
            "26/26 [==============================] - 0s 4ms/step - loss: 777.7261 - mae: 11.0625 - mse: 777.7261 - val_loss: 347.0381 - val_mae: 12.7092 - val_mse: 347.0381\n",
            "Epoch 30/100\n",
            "26/26 [==============================] - 0s 4ms/step - loss: 777.1524 - mae: 11.0710 - mse: 777.1524 - val_loss: 342.4014 - val_mae: 12.5703 - val_mse: 342.4014\n",
            "Epoch 31/100\n",
            "26/26 [==============================] - 0s 4ms/step - loss: 776.3329 - mae: 11.0380 - mse: 776.3329 - val_loss: 346.3311 - val_mae: 12.6805 - val_mse: 346.3311\n",
            "Epoch 32/100\n",
            "26/26 [==============================] - 0s 4ms/step - loss: 777.0106 - mae: 11.1135 - mse: 777.0106 - val_loss: 343.2200 - val_mae: 12.5855 - val_mse: 343.2200\n",
            "Epoch 33/100\n",
            "26/26 [==============================] - 0s 4ms/step - loss: 776.0291 - mae: 11.0967 - mse: 776.0291 - val_loss: 344.0721 - val_mae: 12.6139 - val_mse: 344.0721\n",
            "Epoch 34/100\n",
            "26/26 [==============================] - 0s 5ms/step - loss: 774.3247 - mae: 11.0180 - mse: 774.3247 - val_loss: 346.2073 - val_mae: 12.6810 - val_mse: 346.2073\n",
            "Epoch 35/100\n",
            "26/26 [==============================] - 0s 4ms/step - loss: 774.5396 - mae: 11.0501 - mse: 774.5396 - val_loss: 342.8036 - val_mae: 12.5775 - val_mse: 342.8036\n",
            "Epoch 36/100\n",
            "26/26 [==============================] - 0s 4ms/step - loss: 773.6150 - mae: 11.0289 - mse: 773.6150 - val_loss: 345.6143 - val_mae: 12.6524 - val_mse: 345.6143\n",
            "Epoch 37/100\n",
            "26/26 [==============================] - 0s 4ms/step - loss: 772.9641 - mae: 11.0797 - mse: 772.9641 - val_loss: 344.6530 - val_mae: 12.6177 - val_mse: 344.6530\n",
            "Epoch 38/100\n",
            "26/26 [==============================] - 0s 4ms/step - loss: 773.6852 - mae: 11.0675 - mse: 773.6852 - val_loss: 344.8188 - val_mae: 12.6304 - val_mse: 344.8188\n",
            "Epoch 39/100\n",
            "26/26 [==============================] - 0s 4ms/step - loss: 772.6341 - mae: 11.0716 - mse: 772.6341 - val_loss: 347.6754 - val_mae: 12.7074 - val_mse: 347.6754\n",
            "Epoch 40/100\n",
            "26/26 [==============================] - 0s 4ms/step - loss: 772.3651 - mae: 11.0573 - mse: 772.3651 - val_loss: 348.3487 - val_mae: 12.7369 - val_mse: 348.3487\n",
            "Epoch 41/100\n",
            "26/26 [==============================] - 0s 4ms/step - loss: 773.5352 - mae: 11.0878 - mse: 773.5352 - val_loss: 348.8201 - val_mae: 12.7432 - val_mse: 348.8201\n",
            "Epoch 42/100\n",
            "26/26 [==============================] - 0s 5ms/step - loss: 770.4219 - mae: 11.0785 - mse: 770.4219 - val_loss: 345.1290 - val_mae: 12.6259 - val_mse: 345.1290\n",
            "Epoch 43/100\n",
            "26/26 [==============================] - 0s 4ms/step - loss: 770.1349 - mae: 11.0446 - mse: 770.1349 - val_loss: 349.6059 - val_mae: 12.7749 - val_mse: 349.6059\n",
            "Epoch 44/100\n",
            "26/26 [==============================] - 0s 4ms/step - loss: 776.1398 - mae: 11.2205 - mse: 776.1398 - val_loss: 349.7152 - val_mae: 12.7586 - val_mse: 349.7152\n",
            "Epoch 45/100\n",
            "26/26 [==============================] - 0s 4ms/step - loss: 769.6663 - mae: 11.0814 - mse: 769.6663 - val_loss: 348.8091 - val_mae: 12.7320 - val_mse: 348.8091\n",
            "Epoch 46/100\n",
            "26/26 [==============================] - 0s 4ms/step - loss: 770.6743 - mae: 11.0979 - mse: 770.6743 - val_loss: 351.9453 - val_mae: 12.8215 - val_mse: 351.9453\n",
            "Epoch 47/100\n",
            "26/26 [==============================] - 0s 4ms/step - loss: 769.6932 - mae: 11.1076 - mse: 769.6932 - val_loss: 347.0976 - val_mae: 12.6806 - val_mse: 347.0976\n",
            "Epoch 48/100\n",
            "26/26 [==============================] - 0s 4ms/step - loss: 771.5478 - mae: 11.1413 - mse: 771.5478 - val_loss: 344.1231 - val_mae: 12.6044 - val_mse: 344.1231\n",
            "Epoch 49/100\n",
            "26/26 [==============================] - 0s 5ms/step - loss: 767.5154 - mae: 11.0580 - mse: 767.5154 - val_loss: 348.3897 - val_mae: 12.7141 - val_mse: 348.3897\n",
            "Epoch 50/100\n",
            "26/26 [==============================] - 0s 4ms/step - loss: 767.6319 - mae: 11.0622 - mse: 767.6319 - val_loss: 341.5375 - val_mae: 12.5293 - val_mse: 341.5375\n",
            "Epoch 51/100\n",
            "26/26 [==============================] - 0s 4ms/step - loss: 770.4843 - mae: 11.1992 - mse: 770.4843 - val_loss: 345.8841 - val_mae: 12.6495 - val_mse: 345.8841\n",
            "Epoch 52/100\n",
            "26/26 [==============================] - 0s 4ms/step - loss: 770.2019 - mae: 11.1080 - mse: 770.2019 - val_loss: 344.6188 - val_mae: 12.6007 - val_mse: 344.6188\n",
            "Epoch 53/100\n",
            "26/26 [==============================] - 0s 5ms/step - loss: 767.4434 - mae: 11.0969 - mse: 767.4434 - val_loss: 347.4854 - val_mae: 12.6879 - val_mse: 347.4854\n",
            "Epoch 54/100\n",
            "26/26 [==============================] - 0s 4ms/step - loss: 766.5705 - mae: 11.1005 - mse: 766.5705 - val_loss: 350.0325 - val_mae: 12.7581 - val_mse: 350.0325\n",
            "Epoch 55/100\n",
            "26/26 [==============================] - 0s 4ms/step - loss: 764.7263 - mae: 10.9956 - mse: 764.7263 - val_loss: 352.8535 - val_mae: 12.8329 - val_mse: 352.8535\n",
            "Epoch 56/100\n",
            "26/26 [==============================] - 0s 4ms/step - loss: 764.8134 - mae: 11.0189 - mse: 764.8134 - val_loss: 347.6077 - val_mae: 12.6953 - val_mse: 347.6077\n",
            "Epoch 57/100\n",
            "26/26 [==============================] - 0s 5ms/step - loss: 769.4120 - mae: 11.2034 - mse: 769.4120 - val_loss: 344.0557 - val_mae: 12.5768 - val_mse: 344.0557\n",
            "Epoch 58/100\n",
            "26/26 [==============================] - 0s 6ms/step - loss: 766.3697 - mae: 11.0992 - mse: 766.3697 - val_loss: 346.8818 - val_mae: 12.6673 - val_mse: 346.8818\n",
            "Epoch 59/100\n",
            "26/26 [==============================] - 0s 4ms/step - loss: 766.5464 - mae: 11.1359 - mse: 766.5464 - val_loss: 349.6616 - val_mae: 12.7525 - val_mse: 349.6616\n",
            "Epoch 60/100\n",
            "26/26 [==============================] - 0s 4ms/step - loss: 767.6683 - mae: 11.1822 - mse: 767.6683 - val_loss: 353.2163 - val_mae: 12.8539 - val_mse: 353.2163\n",
            "Epoch 61/100\n",
            "26/26 [==============================] - 0s 4ms/step - loss: 765.2472 - mae: 11.0779 - mse: 765.2472 - val_loss: 349.4686 - val_mae: 12.7464 - val_mse: 349.4686\n",
            "Epoch 62/100\n",
            "26/26 [==============================] - 0s 4ms/step - loss: 765.5796 - mae: 11.1548 - mse: 765.5796 - val_loss: 352.4637 - val_mae: 12.8288 - val_mse: 352.4637\n",
            "Epoch 63/100\n",
            "26/26 [==============================] - 0s 4ms/step - loss: 762.3958 - mae: 11.0550 - mse: 762.3958 - val_loss: 350.4441 - val_mae: 12.7565 - val_mse: 350.4441\n",
            "Epoch 64/100\n",
            "26/26 [==============================] - 0s 5ms/step - loss: 762.7605 - mae: 11.0534 - mse: 762.7605 - val_loss: 347.4440 - val_mae: 12.6814 - val_mse: 347.4440\n",
            "Epoch 65/100\n",
            "26/26 [==============================] - 0s 4ms/step - loss: 764.1595 - mae: 11.1532 - mse: 764.1595 - val_loss: 354.0133 - val_mae: 12.8973 - val_mse: 354.0133\n",
            "Epoch 66/100\n",
            "26/26 [==============================] - 0s 4ms/step - loss: 762.3964 - mae: 11.0901 - mse: 762.3964 - val_loss: 352.2296 - val_mae: 12.8132 - val_mse: 352.2296\n",
            "Epoch 67/100\n",
            "26/26 [==============================] - 0s 4ms/step - loss: 761.2297 - mae: 11.0488 - mse: 761.2297 - val_loss: 349.4443 - val_mae: 12.7299 - val_mse: 349.4443\n",
            "Epoch 68/100\n",
            "26/26 [==============================] - 0s 4ms/step - loss: 760.0803 - mae: 11.0383 - mse: 760.0803 - val_loss: 352.4822 - val_mae: 12.8163 - val_mse: 352.4822\n",
            "Epoch 69/100\n",
            "26/26 [==============================] - 0s 4ms/step - loss: 759.6943 - mae: 11.0784 - mse: 759.6943 - val_loss: 349.7348 - val_mae: 12.7462 - val_mse: 349.7348\n",
            "Epoch 70/100\n",
            "26/26 [==============================] - 0s 4ms/step - loss: 758.5266 - mae: 11.0030 - mse: 758.5266 - val_loss: 353.3315 - val_mae: 12.8488 - val_mse: 353.3315\n",
            "Epoch 71/100\n",
            "26/26 [==============================] - 0s 5ms/step - loss: 759.5303 - mae: 11.0909 - mse: 759.5303 - val_loss: 349.3533 - val_mae: 12.7229 - val_mse: 349.3533\n",
            "Epoch 72/100\n",
            "26/26 [==============================] - 0s 4ms/step - loss: 756.6575 - mae: 11.0346 - mse: 756.6575 - val_loss: 354.2208 - val_mae: 12.8871 - val_mse: 354.2208\n",
            "Epoch 73/100\n",
            "26/26 [==============================] - 0s 4ms/step - loss: 759.9885 - mae: 11.1220 - mse: 759.9885 - val_loss: 355.2451 - val_mae: 12.9164 - val_mse: 355.2451\n",
            "Epoch 74/100\n",
            "26/26 [==============================] - 0s 5ms/step - loss: 760.1530 - mae: 11.0814 - mse: 760.1530 - val_loss: 352.6831 - val_mae: 12.8175 - val_mse: 352.6831\n",
            "Epoch 75/100\n",
            "26/26 [==============================] - 0s 4ms/step - loss: 758.3740 - mae: 11.0846 - mse: 758.3740 - val_loss: 354.9406 - val_mae: 12.8919 - val_mse: 354.9406\n",
            "Epoch 76/100\n",
            "26/26 [==============================] - 0s 4ms/step - loss: 757.3042 - mae: 11.0339 - mse: 757.3042 - val_loss: 353.4845 - val_mae: 12.8452 - val_mse: 353.4845\n",
            "Epoch 77/100\n",
            "26/26 [==============================] - 0s 4ms/step - loss: 755.5414 - mae: 11.0190 - mse: 755.5414 - val_loss: 350.1565 - val_mae: 12.7535 - val_mse: 350.1565\n",
            "Epoch 78/100\n",
            "26/26 [==============================] - 0s 4ms/step - loss: 756.5076 - mae: 11.0767 - mse: 756.5076 - val_loss: 353.9057 - val_mae: 12.8598 - val_mse: 353.9057\n",
            "Epoch 79/100\n",
            "26/26 [==============================] - 0s 4ms/step - loss: 755.7061 - mae: 11.0212 - mse: 755.7061 - val_loss: 355.8403 - val_mae: 12.9192 - val_mse: 355.8403\n",
            "Epoch 80/100\n",
            "26/26 [==============================] - 0s 4ms/step - loss: 755.4271 - mae: 11.0446 - mse: 755.4271 - val_loss: 361.2244 - val_mae: 13.1032 - val_mse: 361.2244\n",
            "Epoch 81/100\n",
            "26/26 [==============================] - 0s 4ms/step - loss: 758.4883 - mae: 11.1524 - mse: 758.4883 - val_loss: 350.1840 - val_mae: 12.7475 - val_mse: 350.1840\n",
            "Epoch 82/100\n",
            "26/26 [==============================] - 0s 4ms/step - loss: 756.7265 - mae: 11.0742 - mse: 756.7265 - val_loss: 350.0939 - val_mae: 12.7444 - val_mse: 350.0939\n",
            "Epoch 83/100\n",
            "26/26 [==============================] - 0s 5ms/step - loss: 756.7979 - mae: 11.1140 - mse: 756.7979 - val_loss: 350.1700 - val_mae: 12.7602 - val_mse: 350.1700\n",
            "Epoch 84/100\n",
            "26/26 [==============================] - 0s 4ms/step - loss: 756.2653 - mae: 11.1127 - mse: 756.2653 - val_loss: 355.3382 - val_mae: 12.9000 - val_mse: 355.3382\n",
            "Epoch 85/100\n",
            "26/26 [==============================] - 0s 5ms/step - loss: 755.3013 - mae: 11.0820 - mse: 755.3013 - val_loss: 355.3411 - val_mae: 12.9058 - val_mse: 355.3411\n",
            "Epoch 86/100\n",
            "26/26 [==============================] - 0s 4ms/step - loss: 753.6367 - mae: 11.0155 - mse: 753.6367 - val_loss: 351.1026 - val_mae: 12.7840 - val_mse: 351.1026\n",
            "Epoch 87/100\n",
            "26/26 [==============================] - 0s 4ms/step - loss: 754.0724 - mae: 11.0766 - mse: 754.0724 - val_loss: 354.4153 - val_mae: 12.8874 - val_mse: 354.4153\n",
            "Epoch 88/100\n",
            "26/26 [==============================] - 0s 4ms/step - loss: 754.4765 - mae: 11.1223 - mse: 754.4765 - val_loss: 351.6348 - val_mae: 12.7957 - val_mse: 351.6348\n",
            "Epoch 89/100\n",
            "26/26 [==============================] - 0s 4ms/step - loss: 757.2927 - mae: 11.2262 - mse: 757.2927 - val_loss: 350.0871 - val_mae: 12.7494 - val_mse: 350.0871\n",
            "Epoch 90/100\n",
            "26/26 [==============================] - 0s 4ms/step - loss: 751.2603 - mae: 11.0658 - mse: 751.2603 - val_loss: 354.9669 - val_mae: 12.9008 - val_mse: 354.9669\n",
            "Epoch 91/100\n",
            "26/26 [==============================] - 0s 4ms/step - loss: 750.9208 - mae: 11.0131 - mse: 750.9208 - val_loss: 355.7626 - val_mae: 12.9152 - val_mse: 355.7626\n",
            "Epoch 92/100\n",
            "26/26 [==============================] - 0s 4ms/step - loss: 750.3026 - mae: 10.9959 - mse: 750.3026 - val_loss: 355.6873 - val_mae: 12.9226 - val_mse: 355.6873\n",
            "Epoch 93/100\n",
            "26/26 [==============================] - 0s 4ms/step - loss: 751.8041 - mae: 11.0437 - mse: 751.8041 - val_loss: 355.4427 - val_mae: 12.9120 - val_mse: 355.4427\n",
            "Epoch 94/100\n",
            "26/26 [==============================] - 0s 4ms/step - loss: 749.8383 - mae: 10.9916 - mse: 749.8383 - val_loss: 358.6584 - val_mae: 13.0095 - val_mse: 358.6584\n",
            "Epoch 95/100\n",
            "26/26 [==============================] - 0s 4ms/step - loss: 751.1071 - mae: 11.0757 - mse: 751.1071 - val_loss: 353.6485 - val_mae: 12.8611 - val_mse: 353.6485\n",
            "Epoch 96/100\n",
            "26/26 [==============================] - 0s 4ms/step - loss: 751.9357 - mae: 11.0770 - mse: 751.9357 - val_loss: 358.0763 - val_mae: 12.9989 - val_mse: 358.0763\n",
            "Epoch 97/100\n",
            "26/26 [==============================] - 0s 4ms/step - loss: 750.7239 - mae: 11.1005 - mse: 750.7239 - val_loss: 356.0123 - val_mae: 12.9428 - val_mse: 356.0123\n",
            "Epoch 98/100\n",
            "26/26 [==============================] - 0s 5ms/step - loss: 749.5400 - mae: 11.0194 - mse: 749.5400 - val_loss: 356.8922 - val_mae: 12.9670 - val_mse: 356.8922\n",
            "Epoch 99/100\n",
            "26/26 [==============================] - 0s 4ms/step - loss: 748.3077 - mae: 11.0137 - mse: 748.3077 - val_loss: 357.1303 - val_mae: 12.9729 - val_mse: 357.1303\n",
            "Epoch 100/100\n",
            "26/26 [==============================] - 0s 4ms/step - loss: 748.4281 - mae: 11.0310 - mse: 748.4281 - val_loss: 354.6559 - val_mae: 12.9085 - val_mse: 354.6559\n"
          ]
        }
      ]
    },
    {
      "cell_type": "markdown",
      "source": [
        "LSTM"
      ],
      "metadata": {
        "id": "M-I1WeJ7gOl3"
      }
    },
    {
      "cell_type": "code",
      "source": [
        "i=Input(shape=(T,1))\n",
        "x=LSTM(200,return_sequences=True)(i)\n",
        "x=LSTM(200,return_sequences=True)(x)\n",
        "x=GlobalMaxPooling1D()(x)\n",
        "x=Dense(100)(x)\n",
        "x=Dense(50)(x)\n",
        "x=Dense(1)(x)\n",
        "model_lstm=Model(i,x)\n",
        "model_lstm.summary()"
      ],
      "metadata": {
        "colab": {
          "base_uri": "https://localhost:8080/"
        },
        "id": "zsJnKRlwhvmv",
        "outputId": "f91b92ad-74cc-4d4d-b4a8-85b1bd4565d6"
      },
      "execution_count": 20,
      "outputs": [
        {
          "output_type": "stream",
          "name": "stdout",
          "text": [
            "Model: \"model_2\"\n",
            "_________________________________________________________________\n",
            " Layer (type)                Output Shape              Param #   \n",
            "=================================================================\n",
            " input_3 (InputLayer)        [(None, 50, 1)]           0         \n",
            "                                                                 \n",
            " lstm (LSTM)                 (None, 50, 200)           161600    \n",
            "                                                                 \n",
            " lstm_1 (LSTM)               (None, 50, 200)           320800    \n",
            "                                                                 \n",
            " global_max_pooling1d_1 (Glo  (None, 200)              0         \n",
            " balMaxPooling1D)                                                \n",
            "                                                                 \n",
            " dense_5 (Dense)             (None, 100)               20100     \n",
            "                                                                 \n",
            " dense_6 (Dense)             (None, 50)                5050      \n",
            "                                                                 \n",
            " dense_7 (Dense)             (None, 1)                 51        \n",
            "                                                                 \n",
            "=================================================================\n",
            "Total params: 507,601\n",
            "Trainable params: 507,601\n",
            "Non-trainable params: 0\n",
            "_________________________________________________________________\n"
          ]
        }
      ]
    },
    {
      "cell_type": "code",
      "source": [
        "check_point_lstm=ModelCheckpoint('best_model.h5',monitor='val_loss',save_best_only=True)"
      ],
      "metadata": {
        "id": "uN9QDfEohvs-"
      },
      "execution_count": 21,
      "outputs": []
    },
    {
      "cell_type": "code",
      "source": [
        "model_lstm.compile(loss='mse',\n",
        "              optimizer='adamax',\n",
        "              metrics=['mae','mse'])"
      ],
      "metadata": {
        "id": "MwYBTZ7Uhv4I"
      },
      "execution_count": 22,
      "outputs": []
    },
    {
      "cell_type": "code",
      "source": [
        "r=model_lstm.fit(\n",
        "    Xtrain,\n",
        "    Ytrain,\n",
        "    epochs=100,\n",
        "    validation_data=(Xtest,Ytest),\n",
        "    callbacks=[check_point_lstm]\n",
        ")"
      ],
      "metadata": {
        "colab": {
          "base_uri": "https://localhost:8080/"
        },
        "id": "hucIsLiBiOQ3",
        "outputId": "d4b18b98-b60a-4ebd-c80e-15be7b614c61"
      },
      "execution_count": 23,
      "outputs": [
        {
          "output_type": "stream",
          "name": "stdout",
          "text": [
            "Epoch 1/100\n",
            "26/26 [==============================] - 8s 194ms/step - loss: 800.2259 - mae: 11.1638 - mse: 800.2259 - val_loss: 332.7559 - val_mae: 12.2961 - val_mse: 332.7559\n",
            "Epoch 2/100\n",
            "26/26 [==============================] - 4s 168ms/step - loss: 798.8430 - mae: 11.1559 - mse: 798.8430 - val_loss: 332.4846 - val_mae: 12.2733 - val_mse: 332.4846\n",
            "Epoch 3/100\n",
            "26/26 [==============================] - 4s 168ms/step - loss: 798.0463 - mae: 11.1480 - mse: 798.0463 - val_loss: 332.3647 - val_mae: 12.2567 - val_mse: 332.3647\n",
            "Epoch 4/100\n",
            "26/26 [==============================] - 4s 166ms/step - loss: 797.7756 - mae: 11.1397 - mse: 797.7756 - val_loss: 333.2822 - val_mae: 12.2793 - val_mse: 333.2822\n",
            "Epoch 5/100\n",
            "26/26 [==============================] - 4s 165ms/step - loss: 797.3199 - mae: 11.1374 - mse: 797.3199 - val_loss: 332.6855 - val_mae: 12.2566 - val_mse: 332.6855\n",
            "Epoch 6/100\n",
            "26/26 [==============================] - 4s 165ms/step - loss: 797.1695 - mae: 11.1592 - mse: 797.1695 - val_loss: 333.7005 - val_mae: 12.2538 - val_mse: 333.7005\n",
            "Epoch 7/100\n",
            "26/26 [==============================] - 4s 166ms/step - loss: 796.1774 - mae: 11.1367 - mse: 796.1774 - val_loss: 332.9265 - val_mae: 12.2411 - val_mse: 332.9265\n",
            "Epoch 8/100\n",
            "26/26 [==============================] - 4s 166ms/step - loss: 794.9708 - mae: 11.1305 - mse: 794.9708 - val_loss: 334.0197 - val_mae: 12.2611 - val_mse: 334.0197\n",
            "Epoch 9/100\n",
            "26/26 [==============================] - 4s 166ms/step - loss: 793.7704 - mae: 11.1392 - mse: 793.7704 - val_loss: 336.6966 - val_mae: 12.3237 - val_mse: 336.6965\n",
            "Epoch 10/100\n",
            "26/26 [==============================] - 4s 165ms/step - loss: 793.3937 - mae: 11.1273 - mse: 793.3937 - val_loss: 336.7518 - val_mae: 12.3191 - val_mse: 336.7518\n",
            "Epoch 11/100\n",
            "26/26 [==============================] - 4s 166ms/step - loss: 791.0765 - mae: 11.1546 - mse: 791.0765 - val_loss: 334.6560 - val_mae: 12.2181 - val_mse: 334.6560\n",
            "Epoch 12/100\n",
            "26/26 [==============================] - 4s 167ms/step - loss: 790.8840 - mae: 11.0736 - mse: 790.8840 - val_loss: 336.1930 - val_mae: 12.2868 - val_mse: 336.1930\n",
            "Epoch 13/100\n",
            "26/26 [==============================] - 4s 165ms/step - loss: 787.6874 - mae: 11.0707 - mse: 787.6874 - val_loss: 335.6957 - val_mae: 12.2403 - val_mse: 335.6957\n",
            "Epoch 14/100\n",
            "26/26 [==============================] - 4s 167ms/step - loss: 785.0936 - mae: 11.1071 - mse: 785.0936 - val_loss: 336.0527 - val_mae: 12.2306 - val_mse: 336.0527\n",
            "Epoch 15/100\n",
            "26/26 [==============================] - 4s 167ms/step - loss: 782.7256 - mae: 11.1080 - mse: 782.7256 - val_loss: 338.5164 - val_mae: 12.2829 - val_mse: 338.5164\n",
            "Epoch 16/100\n",
            "26/26 [==============================] - 4s 166ms/step - loss: 779.4194 - mae: 11.0842 - mse: 779.4194 - val_loss: 340.9629 - val_mae: 12.3277 - val_mse: 340.9629\n",
            "Epoch 17/100\n",
            "26/26 [==============================] - 4s 166ms/step - loss: 777.0753 - mae: 11.0416 - mse: 777.0753 - val_loss: 346.6150 - val_mae: 12.5393 - val_mse: 346.6150\n",
            "Epoch 18/100\n",
            "26/26 [==============================] - 4s 169ms/step - loss: 773.9165 - mae: 11.0536 - mse: 773.9165 - val_loss: 344.5851 - val_mae: 12.4401 - val_mse: 344.5851\n",
            "Epoch 19/100\n",
            "26/26 [==============================] - 4s 165ms/step - loss: 770.0291 - mae: 11.0841 - mse: 770.0291 - val_loss: 349.7379 - val_mae: 12.5779 - val_mse: 349.7379\n",
            "Epoch 20/100\n",
            "26/26 [==============================] - 4s 167ms/step - loss: 765.4808 - mae: 11.0391 - mse: 765.4808 - val_loss: 350.8179 - val_mae: 12.5827 - val_mse: 350.8179\n",
            "Epoch 21/100\n",
            "26/26 [==============================] - 4s 165ms/step - loss: 763.8293 - mae: 10.9847 - mse: 763.8293 - val_loss: 348.4498 - val_mae: 12.5532 - val_mse: 348.4498\n",
            "Epoch 22/100\n",
            "26/26 [==============================] - 4s 166ms/step - loss: 763.9844 - mae: 11.0921 - mse: 763.9844 - val_loss: 367.0882 - val_mae: 12.9385 - val_mse: 367.0882\n",
            "Epoch 23/100\n",
            "26/26 [==============================] - 4s 166ms/step - loss: 758.6672 - mae: 11.0679 - mse: 758.6672 - val_loss: 360.4677 - val_mae: 12.8579 - val_mse: 360.4677\n",
            "Epoch 24/100\n",
            "26/26 [==============================] - 4s 165ms/step - loss: 754.5186 - mae: 11.0289 - mse: 754.5186 - val_loss: 366.6497 - val_mae: 12.9714 - val_mse: 366.6497\n",
            "Epoch 25/100\n",
            "26/26 [==============================] - 4s 163ms/step - loss: 749.5054 - mae: 11.0364 - mse: 749.5054 - val_loss: 366.5587 - val_mae: 13.0056 - val_mse: 366.5587\n",
            "Epoch 26/100\n",
            "26/26 [==============================] - 4s 169ms/step - loss: 746.1906 - mae: 11.1377 - mse: 746.1906 - val_loss: 373.4233 - val_mae: 13.1188 - val_mse: 373.4233\n",
            "Epoch 27/100\n",
            "26/26 [==============================] - 4s 167ms/step - loss: 740.7567 - mae: 11.0832 - mse: 740.7567 - val_loss: 371.6106 - val_mae: 13.1526 - val_mse: 371.6106\n",
            "Epoch 28/100\n",
            "26/26 [==============================] - 4s 168ms/step - loss: 737.6802 - mae: 11.0320 - mse: 737.6802 - val_loss: 372.2827 - val_mae: 13.1198 - val_mse: 372.2827\n",
            "Epoch 29/100\n",
            "26/26 [==============================] - 4s 167ms/step - loss: 735.8512 - mae: 11.0172 - mse: 735.8512 - val_loss: 379.9215 - val_mae: 13.3642 - val_mse: 379.9215\n",
            "Epoch 30/100\n",
            "26/26 [==============================] - 4s 167ms/step - loss: 729.2404 - mae: 10.9497 - mse: 729.2404 - val_loss: 389.4571 - val_mae: 13.5773 - val_mse: 389.4571\n",
            "Epoch 31/100\n",
            "26/26 [==============================] - 4s 166ms/step - loss: 726.3469 - mae: 11.0236 - mse: 726.3469 - val_loss: 397.7892 - val_mae: 13.7757 - val_mse: 397.7892\n",
            "Epoch 32/100\n",
            "26/26 [==============================] - 4s 168ms/step - loss: 721.5389 - mae: 11.0075 - mse: 721.5389 - val_loss: 400.0315 - val_mae: 13.9041 - val_mse: 400.0315\n",
            "Epoch 33/100\n",
            "26/26 [==============================] - 4s 167ms/step - loss: 717.1188 - mae: 10.9416 - mse: 717.1188 - val_loss: 401.0016 - val_mae: 13.8998 - val_mse: 401.0016\n",
            "Epoch 34/100\n",
            "26/26 [==============================] - 4s 165ms/step - loss: 710.8618 - mae: 10.9352 - mse: 710.8618 - val_loss: 407.9409 - val_mae: 14.0546 - val_mse: 407.9409\n",
            "Epoch 35/100\n",
            "26/26 [==============================] - 4s 165ms/step - loss: 706.5495 - mae: 11.0024 - mse: 706.5495 - val_loss: 414.1472 - val_mae: 14.0883 - val_mse: 414.1472\n",
            "Epoch 36/100\n",
            "26/26 [==============================] - 4s 167ms/step - loss: 710.8117 - mae: 11.2230 - mse: 710.8117 - val_loss: 429.7470 - val_mae: 14.5447 - val_mse: 429.7470\n",
            "Epoch 37/100\n",
            "26/26 [==============================] - 4s 164ms/step - loss: 702.0567 - mae: 10.8689 - mse: 702.0567 - val_loss: 427.6380 - val_mae: 14.5116 - val_mse: 427.6380\n",
            "Epoch 38/100\n",
            "26/26 [==============================] - 4s 167ms/step - loss: 696.8231 - mae: 10.9054 - mse: 696.8231 - val_loss: 458.0007 - val_mae: 15.1858 - val_mse: 458.0007\n",
            "Epoch 39/100\n",
            "26/26 [==============================] - 4s 168ms/step - loss: 690.3401 - mae: 10.8300 - mse: 690.3401 - val_loss: 443.3153 - val_mae: 14.7691 - val_mse: 443.3153\n",
            "Epoch 40/100\n",
            "26/26 [==============================] - 4s 170ms/step - loss: 683.0252 - mae: 10.6302 - mse: 683.0252 - val_loss: 438.2391 - val_mae: 14.6929 - val_mse: 438.2391\n",
            "Epoch 41/100\n",
            "26/26 [==============================] - 4s 172ms/step - loss: 677.5353 - mae: 10.6871 - mse: 677.5353 - val_loss: 449.7145 - val_mae: 14.9091 - val_mse: 449.7145\n",
            "Epoch 42/100\n",
            "26/26 [==============================] - 4s 170ms/step - loss: 680.1721 - mae: 10.7479 - mse: 680.1721 - val_loss: 451.5458 - val_mae: 15.0482 - val_mse: 451.5458\n",
            "Epoch 43/100\n",
            "26/26 [==============================] - 4s 167ms/step - loss: 682.1603 - mae: 10.6812 - mse: 682.1603 - val_loss: 492.7681 - val_mae: 15.8953 - val_mse: 492.7681\n",
            "Epoch 44/100\n",
            "26/26 [==============================] - 4s 166ms/step - loss: 669.0742 - mae: 10.6792 - mse: 669.0742 - val_loss: 469.4421 - val_mae: 15.2770 - val_mse: 469.4421\n",
            "Epoch 45/100\n",
            "26/26 [==============================] - 4s 168ms/step - loss: 661.3852 - mae: 10.5579 - mse: 661.3852 - val_loss: 505.5699 - val_mae: 16.0431 - val_mse: 505.5699\n",
            "Epoch 46/100\n",
            "26/26 [==============================] - 4s 166ms/step - loss: 661.5309 - mae: 10.7085 - mse: 661.5309 - val_loss: 474.0046 - val_mae: 15.3659 - val_mse: 474.0046\n",
            "Epoch 47/100\n",
            "26/26 [==============================] - 4s 167ms/step - loss: 653.7115 - mae: 10.5385 - mse: 653.7115 - val_loss: 480.3837 - val_mae: 15.5719 - val_mse: 480.3837\n",
            "Epoch 48/100\n",
            "26/26 [==============================] - 4s 166ms/step - loss: 653.3401 - mae: 10.6088 - mse: 653.3401 - val_loss: 501.1345 - val_mae: 15.8145 - val_mse: 501.1345\n",
            "Epoch 49/100\n",
            "26/26 [==============================] - 4s 169ms/step - loss: 644.0760 - mae: 10.5261 - mse: 644.0760 - val_loss: 480.6183 - val_mae: 15.6584 - val_mse: 480.6183\n",
            "Epoch 50/100\n",
            "26/26 [==============================] - 4s 169ms/step - loss: 646.6307 - mae: 10.5284 - mse: 646.6307 - val_loss: 527.5367 - val_mae: 16.4973 - val_mse: 527.5367\n",
            "Epoch 51/100\n",
            "26/26 [==============================] - 4s 168ms/step - loss: 647.9164 - mae: 10.6056 - mse: 647.9164 - val_loss: 519.2171 - val_mae: 16.3693 - val_mse: 519.2171\n",
            "Epoch 52/100\n",
            "26/26 [==============================] - 4s 170ms/step - loss: 636.2803 - mae: 10.5641 - mse: 636.2803 - val_loss: 533.3975 - val_mae: 16.4565 - val_mse: 533.3975\n",
            "Epoch 53/100\n",
            "26/26 [==============================] - 4s 169ms/step - loss: 629.1228 - mae: 10.3251 - mse: 629.1228 - val_loss: 554.8732 - val_mae: 16.8423 - val_mse: 554.8732\n",
            "Epoch 54/100\n",
            "26/26 [==============================] - 4s 170ms/step - loss: 624.4448 - mae: 10.3710 - mse: 624.4448 - val_loss: 540.3036 - val_mae: 16.5925 - val_mse: 540.3036\n",
            "Epoch 55/100\n",
            "26/26 [==============================] - 4s 170ms/step - loss: 642.8993 - mae: 10.2872 - mse: 642.8993 - val_loss: 520.9965 - val_mae: 16.5567 - val_mse: 520.9965\n",
            "Epoch 56/100\n",
            "26/26 [==============================] - 4s 167ms/step - loss: 640.3851 - mae: 10.4489 - mse: 640.3851 - val_loss: 584.1435 - val_mae: 17.4177 - val_mse: 584.1435\n",
            "Epoch 57/100\n",
            "26/26 [==============================] - 4s 165ms/step - loss: 622.7268 - mae: 10.4997 - mse: 622.7268 - val_loss: 587.3084 - val_mae: 17.6092 - val_mse: 587.3084\n",
            "Epoch 58/100\n",
            "26/26 [==============================] - 4s 167ms/step - loss: 612.2734 - mae: 10.2683 - mse: 612.2734 - val_loss: 583.8412 - val_mae: 17.3766 - val_mse: 583.8412\n",
            "Epoch 59/100\n",
            "26/26 [==============================] - 4s 168ms/step - loss: 614.1921 - mae: 10.1228 - mse: 614.1921 - val_loss: 575.3444 - val_mae: 17.2989 - val_mse: 575.3444\n",
            "Epoch 60/100\n",
            "26/26 [==============================] - 4s 166ms/step - loss: 601.0891 - mae: 10.0607 - mse: 601.0891 - val_loss: 597.2275 - val_mae: 17.7262 - val_mse: 597.2275\n",
            "Epoch 61/100\n",
            "26/26 [==============================] - 4s 167ms/step - loss: 608.5035 - mae: 10.1272 - mse: 608.5035 - val_loss: 627.5301 - val_mae: 18.1433 - val_mse: 627.5301\n",
            "Epoch 62/100\n",
            "26/26 [==============================] - 4s 165ms/step - loss: 592.2949 - mae: 10.0980 - mse: 592.2949 - val_loss: 599.6578 - val_mae: 17.7122 - val_mse: 599.6578\n",
            "Epoch 63/100\n",
            "26/26 [==============================] - 4s 167ms/step - loss: 593.6871 - mae: 10.0031 - mse: 593.6871 - val_loss: 658.2301 - val_mae: 18.7547 - val_mse: 658.2301\n",
            "Epoch 64/100\n",
            "26/26 [==============================] - 4s 166ms/step - loss: 594.2177 - mae: 10.1482 - mse: 594.2177 - val_loss: 621.7187 - val_mae: 18.2459 - val_mse: 621.7187\n",
            "Epoch 65/100\n",
            "26/26 [==============================] - 4s 170ms/step - loss: 591.8320 - mae: 10.1599 - mse: 591.8320 - val_loss: 701.0087 - val_mae: 19.4133 - val_mse: 701.0087\n",
            "Epoch 66/100\n",
            "26/26 [==============================] - 4s 168ms/step - loss: 626.9870 - mae: 10.4986 - mse: 626.9870 - val_loss: 628.6237 - val_mae: 18.2697 - val_mse: 628.6237\n",
            "Epoch 67/100\n",
            "26/26 [==============================] - 4s 166ms/step - loss: 581.4798 - mae: 10.2837 - mse: 581.4798 - val_loss: 652.3985 - val_mae: 18.7367 - val_mse: 652.3985\n",
            "Epoch 68/100\n",
            "26/26 [==============================] - 4s 166ms/step - loss: 622.4743 - mae: 10.0275 - mse: 622.4743 - val_loss: 647.9066 - val_mae: 18.5564 - val_mse: 647.9066\n",
            "Epoch 69/100\n",
            "26/26 [==============================] - 4s 166ms/step - loss: 576.4437 - mae: 10.0962 - mse: 576.4437 - val_loss: 690.8619 - val_mae: 19.1461 - val_mse: 690.8619\n",
            "Epoch 70/100\n",
            "26/26 [==============================] - 4s 168ms/step - loss: 569.7339 - mae: 9.6057 - mse: 569.7339 - val_loss: 728.5687 - val_mae: 19.6549 - val_mse: 728.5687\n",
            "Epoch 71/100\n",
            "26/26 [==============================] - 4s 167ms/step - loss: 553.7808 - mae: 9.7075 - mse: 553.7808 - val_loss: 681.5987 - val_mae: 19.1323 - val_mse: 681.5987\n",
            "Epoch 72/100\n",
            "26/26 [==============================] - 4s 168ms/step - loss: 580.1701 - mae: 9.6213 - mse: 580.1701 - val_loss: 690.1396 - val_mae: 19.1875 - val_mse: 690.1396\n",
            "Epoch 73/100\n",
            "26/26 [==============================] - 4s 166ms/step - loss: 633.8876 - mae: 10.3560 - mse: 633.8876 - val_loss: 753.6476 - val_mae: 20.2640 - val_mse: 753.6476\n",
            "Epoch 74/100\n",
            "26/26 [==============================] - 4s 168ms/step - loss: 564.6533 - mae: 9.8827 - mse: 564.6533 - val_loss: 733.4478 - val_mae: 19.8370 - val_mse: 733.4478\n",
            "Epoch 75/100\n",
            "26/26 [==============================] - 4s 168ms/step - loss: 544.1324 - mae: 9.5837 - mse: 544.1324 - val_loss: 717.1020 - val_mae: 19.6338 - val_mse: 717.1020\n",
            "Epoch 76/100\n",
            "26/26 [==============================] - 4s 169ms/step - loss: 553.8915 - mae: 9.4557 - mse: 553.8915 - val_loss: 749.4820 - val_mae: 20.0348 - val_mse: 749.4820\n",
            "Epoch 77/100\n",
            "26/26 [==============================] - 4s 166ms/step - loss: 533.3233 - mae: 9.5222 - mse: 533.3233 - val_loss: 743.2571 - val_mae: 20.1583 - val_mse: 743.2571\n",
            "Epoch 78/100\n",
            "26/26 [==============================] - 4s 166ms/step - loss: 552.9935 - mae: 9.3915 - mse: 552.9935 - val_loss: 814.3312 - val_mae: 21.0081 - val_mse: 814.3312\n",
            "Epoch 79/100\n",
            "26/26 [==============================] - 4s 167ms/step - loss: 522.4867 - mae: 9.2510 - mse: 522.4867 - val_loss: 755.6837 - val_mae: 20.3256 - val_mse: 755.6837\n",
            "Epoch 80/100\n",
            "26/26 [==============================] - 4s 166ms/step - loss: 514.7811 - mae: 9.1912 - mse: 514.7811 - val_loss: 788.2608 - val_mae: 20.7359 - val_mse: 788.2608\n",
            "Epoch 81/100\n",
            "26/26 [==============================] - 4s 164ms/step - loss: 506.4377 - mae: 9.1983 - mse: 506.4377 - val_loss: 815.4432 - val_mae: 21.1850 - val_mse: 815.4432\n",
            "Epoch 82/100\n",
            "26/26 [==============================] - 4s 167ms/step - loss: 496.5703 - mae: 9.3131 - mse: 496.5703 - val_loss: 764.2828 - val_mae: 20.6404 - val_mse: 764.2828\n",
            "Epoch 83/100\n",
            "26/26 [==============================] - 4s 165ms/step - loss: 575.3348 - mae: 9.3852 - mse: 575.3348 - val_loss: 773.7608 - val_mae: 20.5623 - val_mse: 773.7608\n",
            "Epoch 84/100\n",
            "26/26 [==============================] - 4s 167ms/step - loss: 633.4526 - mae: 10.4116 - mse: 633.4526 - val_loss: 848.2894 - val_mae: 21.6232 - val_mse: 848.2894\n",
            "Epoch 85/100\n",
            "26/26 [==============================] - 4s 166ms/step - loss: 587.4764 - mae: 9.8762 - mse: 587.4764 - val_loss: 881.2352 - val_mae: 21.8727 - val_mse: 881.2352\n",
            "Epoch 86/100\n",
            "26/26 [==============================] - 4s 167ms/step - loss: 566.5435 - mae: 9.4497 - mse: 566.5435 - val_loss: 825.3865 - val_mae: 21.1404 - val_mse: 825.3865\n",
            "Epoch 87/100\n",
            "26/26 [==============================] - 4s 170ms/step - loss: 519.2249 - mae: 9.2799 - mse: 519.2249 - val_loss: 841.5625 - val_mae: 21.5157 - val_mse: 841.5625\n",
            "Epoch 88/100\n",
            "26/26 [==============================] - 4s 166ms/step - loss: 503.9909 - mae: 8.9868 - mse: 503.9909 - val_loss: 813.3743 - val_mae: 21.1527 - val_mse: 813.3743\n",
            "Epoch 89/100\n",
            "26/26 [==============================] - 4s 166ms/step - loss: 506.0379 - mae: 9.2326 - mse: 506.0379 - val_loss: 891.5551 - val_mae: 22.1776 - val_mse: 891.5551\n",
            "Epoch 90/100\n",
            "26/26 [==============================] - 4s 170ms/step - loss: 466.0006 - mae: 9.0474 - mse: 466.0006 - val_loss: 826.7251 - val_mae: 21.1781 - val_mse: 826.7251\n",
            "Epoch 91/100\n",
            "26/26 [==============================] - 4s 169ms/step - loss: 449.1028 - mae: 8.8547 - mse: 449.1028 - val_loss: 845.6058 - val_mae: 21.5088 - val_mse: 845.6058\n",
            "Epoch 92/100\n",
            "26/26 [==============================] - 4s 170ms/step - loss: 439.9686 - mae: 8.6139 - mse: 439.9686 - val_loss: 857.6278 - val_mae: 21.6162 - val_mse: 857.6278\n",
            "Epoch 93/100\n",
            "26/26 [==============================] - 4s 172ms/step - loss: 429.2198 - mae: 8.5998 - mse: 429.2198 - val_loss: 899.2441 - val_mae: 22.2040 - val_mse: 899.2441\n",
            "Epoch 94/100\n",
            "26/26 [==============================] - 4s 167ms/step - loss: 419.4500 - mae: 8.4388 - mse: 419.4500 - val_loss: 918.3633 - val_mae: 22.4027 - val_mse: 918.3633\n",
            "Epoch 95/100\n",
            "26/26 [==============================] - 4s 166ms/step - loss: 411.6321 - mae: 8.4253 - mse: 411.6321 - val_loss: 942.0492 - val_mae: 22.8470 - val_mse: 942.0492\n",
            "Epoch 96/100\n",
            "26/26 [==============================] - 4s 167ms/step - loss: 409.1683 - mae: 8.5527 - mse: 409.1683 - val_loss: 922.5203 - val_mae: 22.6119 - val_mse: 922.5203\n",
            "Epoch 97/100\n",
            "26/26 [==============================] - 5s 174ms/step - loss: 401.5614 - mae: 8.4040 - mse: 401.5614 - val_loss: 980.8828 - val_mae: 23.3553 - val_mse: 980.8828\n",
            "Epoch 98/100\n",
            "26/26 [==============================] - 4s 173ms/step - loss: 389.5423 - mae: 8.3524 - mse: 389.5423 - val_loss: 973.6283 - val_mae: 23.3156 - val_mse: 973.6283\n",
            "Epoch 99/100\n",
            "26/26 [==============================] - 5s 175ms/step - loss: 387.9949 - mae: 8.3217 - mse: 387.9949 - val_loss: 1020.5789 - val_mae: 23.7569 - val_mse: 1020.5789\n",
            "Epoch 100/100\n",
            "26/26 [==============================] - 4s 171ms/step - loss: 375.7098 - mae: 8.2133 - mse: 375.7098 - val_loss: 1028.6365 - val_mae: 23.8176 - val_mse: 1028.6365\n"
          ]
        }
      ]
    },
    {
      "cell_type": "markdown",
      "source": [
        "GRU"
      ],
      "metadata": {
        "id": "kHh0g_qPm_bm"
      }
    },
    {
      "cell_type": "code",
      "source": [
        "i=Input(shape=(T,1))\n",
        "x=GRU(200,return_sequences=True)(i)\n",
        "x=GRU(200,return_sequences=True)(x)\n",
        "x=GlobalMaxPooling1D()(x)\n",
        "x=Dense(100)(x)\n",
        "x=Dense(50)(x)\n",
        "x=Dense(1)(x)\n",
        "model_gru=Model(i,x)\n",
        "model_gru.summary"
      ],
      "metadata": {
        "colab": {
          "base_uri": "https://localhost:8080/"
        },
        "id": "H4llpd_HnCsP",
        "outputId": "eea73976-fe63-4613-cd6e-76b004abc389"
      },
      "execution_count": 24,
      "outputs": [
        {
          "output_type": "execute_result",
          "data": {
            "text/plain": [
              "<bound method Model.summary of <keras.engine.functional.Functional object at 0x7fe98b954ad0>>"
            ]
          },
          "metadata": {},
          "execution_count": 24
        }
      ]
    },
    {
      "cell_type": "code",
      "source": [
        "check_point_gru=ModelCheckpoint('best_model.h5',monitor='val_loss',save_best_only=True)"
      ],
      "metadata": {
        "id": "J4ilpuAHnCxN"
      },
      "execution_count": 25,
      "outputs": []
    },
    {
      "cell_type": "code",
      "source": [
        "model_gru.compile(loss='mse',\n",
        "              optimizer='adamax',\n",
        "              metrics=['mae','mse'])"
      ],
      "metadata": {
        "id": "KE1MOiZknC6g"
      },
      "execution_count": 26,
      "outputs": []
    },
    {
      "cell_type": "code",
      "source": [
        "r=model_gru.fit(\n",
        "    Xtrain,\n",
        "    Ytrain,\n",
        "    epochs=100,\n",
        "    validation_data=(Xtest,Ytest),\n",
        "    callbacks=[check_point_gru]\n",
        ")"
      ],
      "metadata": {
        "colab": {
          "base_uri": "https://localhost:8080/"
        },
        "id": "nfam1HSPnWSf",
        "outputId": "29752151-8247-4385-d36c-2b7014999b4d"
      },
      "execution_count": 27,
      "outputs": [
        {
          "output_type": "stream",
          "name": "stdout",
          "text": [
            "Epoch 1/100\n",
            "26/26 [==============================] - 7s 171ms/step - loss: 802.2381 - mae: 11.2118 - mse: 802.2381 - val_loss: 331.7118 - val_mae: 12.2797 - val_mse: 331.7118\n",
            "Epoch 2/100\n",
            "26/26 [==============================] - 4s 148ms/step - loss: 799.6040 - mae: 11.1877 - mse: 799.6040 - val_loss: 331.9314 - val_mae: 12.2689 - val_mse: 331.9314\n",
            "Epoch 3/100\n",
            "26/26 [==============================] - 4s 144ms/step - loss: 797.1287 - mae: 11.1588 - mse: 797.1287 - val_loss: 332.4437 - val_mae: 12.2707 - val_mse: 332.4437\n",
            "Epoch 4/100\n",
            "26/26 [==============================] - 4s 147ms/step - loss: 796.8750 - mae: 11.1512 - mse: 796.8750 - val_loss: 334.7195 - val_mae: 12.3454 - val_mse: 334.7195\n",
            "Epoch 5/100\n",
            "26/26 [==============================] - 4s 152ms/step - loss: 796.4236 - mae: 11.1526 - mse: 796.4236 - val_loss: 333.1686 - val_mae: 12.2850 - val_mse: 333.1686\n",
            "Epoch 6/100\n",
            "26/26 [==============================] - 4s 154ms/step - loss: 796.8217 - mae: 11.2464 - mse: 796.8217 - val_loss: 332.6009 - val_mae: 12.2526 - val_mse: 332.6009\n",
            "Epoch 7/100\n",
            "26/26 [==============================] - 4s 149ms/step - loss: 794.7820 - mae: 11.1513 - mse: 794.7820 - val_loss: 332.8695 - val_mae: 12.2653 - val_mse: 332.8695\n",
            "Epoch 8/100\n",
            "26/26 [==============================] - 4s 145ms/step - loss: 793.4909 - mae: 11.1528 - mse: 793.4909 - val_loss: 334.7244 - val_mae: 12.3164 - val_mse: 334.7244\n",
            "Epoch 9/100\n",
            "26/26 [==============================] - 4s 149ms/step - loss: 792.3227 - mae: 11.1759 - mse: 792.3227 - val_loss: 337.1326 - val_mae: 12.3954 - val_mse: 337.1326\n",
            "Epoch 10/100\n",
            "26/26 [==============================] - 4s 151ms/step - loss: 792.3611 - mae: 11.1770 - mse: 792.3611 - val_loss: 338.7495 - val_mae: 12.4451 - val_mse: 338.7495\n",
            "Epoch 11/100\n",
            "26/26 [==============================] - 4s 146ms/step - loss: 790.1517 - mae: 11.2302 - mse: 790.1517 - val_loss: 330.8943 - val_mae: 12.1499 - val_mse: 330.8943\n",
            "Epoch 12/100\n",
            "26/26 [==============================] - 4s 150ms/step - loss: 789.4263 - mae: 11.1226 - mse: 789.4263 - val_loss: 339.5429 - val_mae: 12.4527 - val_mse: 339.5429\n",
            "Epoch 13/100\n",
            "26/26 [==============================] - 4s 147ms/step - loss: 789.3666 - mae: 11.1639 - mse: 789.3666 - val_loss: 334.6246 - val_mae: 12.2700 - val_mse: 334.6246\n",
            "Epoch 14/100\n",
            "26/26 [==============================] - 4s 146ms/step - loss: 785.1257 - mae: 11.1908 - mse: 785.1257 - val_loss: 333.1187 - val_mae: 12.2006 - val_mse: 333.1187\n",
            "Epoch 15/100\n",
            "26/26 [==============================] - 4s 150ms/step - loss: 783.7933 - mae: 11.2053 - mse: 783.7933 - val_loss: 332.5616 - val_mae: 12.1816 - val_mse: 332.5616\n",
            "Epoch 16/100\n",
            "26/26 [==============================] - 4s 149ms/step - loss: 779.9916 - mae: 11.1428 - mse: 779.9916 - val_loss: 341.8436 - val_mae: 12.4935 - val_mse: 341.8436\n",
            "Epoch 17/100\n",
            "26/26 [==============================] - 4s 145ms/step - loss: 778.6440 - mae: 11.1500 - mse: 778.6440 - val_loss: 344.4267 - val_mae: 12.5850 - val_mse: 344.4267\n",
            "Epoch 18/100\n",
            "26/26 [==============================] - 4s 152ms/step - loss: 777.1287 - mae: 11.1385 - mse: 777.1287 - val_loss: 339.5732 - val_mae: 12.4119 - val_mse: 339.5732\n",
            "Epoch 19/100\n",
            "26/26 [==============================] - 4s 148ms/step - loss: 771.7251 - mae: 11.1386 - mse: 771.7251 - val_loss: 341.8047 - val_mae: 12.4609 - val_mse: 341.8047\n",
            "Epoch 20/100\n",
            "26/26 [==============================] - 4s 146ms/step - loss: 768.6246 - mae: 11.1319 - mse: 768.6246 - val_loss: 346.0784 - val_mae: 12.6206 - val_mse: 346.0784\n",
            "Epoch 21/100\n",
            "26/26 [==============================] - 4s 150ms/step - loss: 765.9006 - mae: 11.1192 - mse: 765.9006 - val_loss: 342.6365 - val_mae: 12.5240 - val_mse: 342.6365\n",
            "Epoch 22/100\n",
            "26/26 [==============================] - 4s 147ms/step - loss: 767.0663 - mae: 11.1637 - mse: 767.0663 - val_loss: 358.4317 - val_mae: 13.0473 - val_mse: 358.4317\n",
            "Epoch 23/100\n",
            "26/26 [==============================] - 4s 148ms/step - loss: 763.6806 - mae: 11.1276 - mse: 763.6806 - val_loss: 348.0728 - val_mae: 12.7093 - val_mse: 348.0728\n",
            "Epoch 24/100\n",
            "26/26 [==============================] - 4s 150ms/step - loss: 755.8843 - mae: 11.0751 - mse: 755.8843 - val_loss: 350.9544 - val_mae: 12.8052 - val_mse: 350.9544\n",
            "Epoch 25/100\n",
            "26/26 [==============================] - 4s 151ms/step - loss: 752.7542 - mae: 11.0817 - mse: 752.7542 - val_loss: 349.6876 - val_mae: 12.7686 - val_mse: 349.6876\n",
            "Epoch 26/100\n",
            "26/26 [==============================] - 4s 149ms/step - loss: 751.0682 - mae: 11.1877 - mse: 751.0682 - val_loss: 356.5524 - val_mae: 13.0052 - val_mse: 356.5524\n",
            "Epoch 27/100\n",
            "26/26 [==============================] - 4s 149ms/step - loss: 743.3413 - mae: 11.1037 - mse: 743.3413 - val_loss: 349.1727 - val_mae: 12.7467 - val_mse: 349.1727\n",
            "Epoch 28/100\n",
            "26/26 [==============================] - 4s 148ms/step - loss: 741.6119 - mae: 11.0618 - mse: 741.6119 - val_loss: 351.2587 - val_mae: 12.8429 - val_mse: 351.2587\n",
            "Epoch 29/100\n",
            "26/26 [==============================] - 4s 148ms/step - loss: 738.4260 - mae: 11.0099 - mse: 738.4260 - val_loss: 356.5311 - val_mae: 12.9995 - val_mse: 356.5311\n",
            "Epoch 30/100\n",
            "26/26 [==============================] - 4s 148ms/step - loss: 735.3611 - mae: 11.0311 - mse: 735.3611 - val_loss: 362.8765 - val_mae: 13.1665 - val_mse: 362.8765\n",
            "Epoch 31/100\n",
            "26/26 [==============================] - 4s 147ms/step - loss: 729.9371 - mae: 11.0674 - mse: 729.9371 - val_loss: 366.4527 - val_mae: 13.2946 - val_mse: 366.4527\n",
            "Epoch 32/100\n",
            "26/26 [==============================] - 4s 147ms/step - loss: 724.2113 - mae: 11.0430 - mse: 724.2113 - val_loss: 366.8602 - val_mae: 13.3809 - val_mse: 366.8602\n",
            "Epoch 33/100\n",
            "26/26 [==============================] - 4s 147ms/step - loss: 721.2454 - mae: 10.9832 - mse: 721.2454 - val_loss: 362.2053 - val_mae: 13.1721 - val_mse: 362.2053\n",
            "Epoch 34/100\n",
            "26/26 [==============================] - 4s 145ms/step - loss: 714.9672 - mae: 10.9577 - mse: 714.9672 - val_loss: 388.0342 - val_mae: 13.9589 - val_mse: 388.0342\n",
            "Epoch 35/100\n",
            "26/26 [==============================] - 4s 145ms/step - loss: 720.1683 - mae: 11.2396 - mse: 720.1683 - val_loss: 391.5661 - val_mae: 14.0579 - val_mse: 391.5661\n",
            "Epoch 36/100\n",
            "26/26 [==============================] - 4s 148ms/step - loss: 717.4592 - mae: 11.1985 - mse: 717.4592 - val_loss: 382.7534 - val_mae: 13.7778 - val_mse: 382.7534\n",
            "Epoch 37/100\n",
            "26/26 [==============================] - 4s 143ms/step - loss: 706.5775 - mae: 11.0302 - mse: 706.5775 - val_loss: 374.3871 - val_mae: 13.5383 - val_mse: 374.3871\n",
            "Epoch 38/100\n",
            "26/26 [==============================] - 4s 143ms/step - loss: 703.0253 - mae: 11.0223 - mse: 703.0253 - val_loss: 404.0627 - val_mae: 14.4234 - val_mse: 404.0627\n",
            "Epoch 39/100\n",
            "26/26 [==============================] - 4s 144ms/step - loss: 698.7131 - mae: 11.0233 - mse: 698.7131 - val_loss: 382.2305 - val_mae: 13.7747 - val_mse: 382.2305\n",
            "Epoch 40/100\n",
            "26/26 [==============================] - 4s 145ms/step - loss: 697.2630 - mae: 10.9206 - mse: 697.2630 - val_loss: 386.3039 - val_mae: 13.9246 - val_mse: 386.3039\n",
            "Epoch 41/100\n",
            "26/26 [==============================] - 4s 145ms/step - loss: 692.4893 - mae: 11.0450 - mse: 692.4893 - val_loss: 386.2752 - val_mae: 13.8802 - val_mse: 386.2752\n",
            "Epoch 42/100\n",
            "26/26 [==============================] - 4s 145ms/step - loss: 687.0701 - mae: 10.9935 - mse: 687.0701 - val_loss: 377.5826 - val_mae: 13.6152 - val_mse: 377.5826\n",
            "Epoch 43/100\n",
            "26/26 [==============================] - 4s 145ms/step - loss: 699.3375 - mae: 10.9608 - mse: 699.3375 - val_loss: 417.0144 - val_mae: 14.7946 - val_mse: 417.0144\n",
            "Epoch 44/100\n",
            "26/26 [==============================] - 4s 145ms/step - loss: 686.3068 - mae: 11.0724 - mse: 686.3068 - val_loss: 405.3405 - val_mae: 14.4188 - val_mse: 405.3405\n",
            "Epoch 45/100\n",
            "26/26 [==============================] - 4s 147ms/step - loss: 676.5866 - mae: 10.9969 - mse: 676.5866 - val_loss: 419.7593 - val_mae: 14.7578 - val_mse: 419.7593\n",
            "Epoch 46/100\n",
            "26/26 [==============================] - 4s 148ms/step - loss: 675.7125 - mae: 11.0419 - mse: 675.7125 - val_loss: 399.7534 - val_mae: 14.2165 - val_mse: 399.7534\n",
            "Epoch 47/100\n",
            "26/26 [==============================] - 4s 148ms/step - loss: 668.2857 - mae: 10.8971 - mse: 668.2857 - val_loss: 396.4435 - val_mae: 14.0848 - val_mse: 396.4435\n",
            "Epoch 48/100\n",
            "26/26 [==============================] - 4s 147ms/step - loss: 669.7426 - mae: 11.0298 - mse: 669.7426 - val_loss: 417.9051 - val_mae: 14.6869 - val_mse: 417.9051\n",
            "Epoch 49/100\n",
            "26/26 [==============================] - 4s 148ms/step - loss: 665.8149 - mae: 10.9961 - mse: 665.8149 - val_loss: 405.6109 - val_mae: 14.3608 - val_mse: 405.6109\n",
            "Epoch 50/100\n",
            "26/26 [==============================] - 4s 147ms/step - loss: 657.3653 - mae: 10.9242 - mse: 657.3653 - val_loss: 421.9773 - val_mae: 14.7716 - val_mse: 421.9773\n",
            "Epoch 51/100\n",
            "26/26 [==============================] - 4s 148ms/step - loss: 659.0710 - mae: 10.8650 - mse: 659.0710 - val_loss: 420.4312 - val_mae: 14.7832 - val_mse: 420.4312\n",
            "Epoch 52/100\n",
            "26/26 [==============================] - 4s 149ms/step - loss: 656.6705 - mae: 11.0419 - mse: 656.6705 - val_loss: 425.9994 - val_mae: 14.8626 - val_mse: 425.9994\n",
            "Epoch 53/100\n",
            "26/26 [==============================] - 4s 148ms/step - loss: 651.5770 - mae: 10.9333 - mse: 651.5770 - val_loss: 422.6933 - val_mae: 14.7564 - val_mse: 422.6933\n",
            "Epoch 54/100\n",
            "26/26 [==============================] - 4s 147ms/step - loss: 661.6647 - mae: 11.0004 - mse: 661.6647 - val_loss: 425.0160 - val_mae: 14.8085 - val_mse: 425.0160\n",
            "Epoch 55/100\n",
            "26/26 [==============================] - 4s 148ms/step - loss: 646.4070 - mae: 10.7634 - mse: 646.4070 - val_loss: 426.1681 - val_mae: 14.8235 - val_mse: 426.1681\n",
            "Epoch 56/100\n",
            "26/26 [==============================] - 4s 146ms/step - loss: 648.6368 - mae: 10.9496 - mse: 648.6368 - val_loss: 477.1928 - val_mae: 15.9655 - val_mse: 477.1928\n",
            "Epoch 57/100\n",
            "26/26 [==============================] - 4s 144ms/step - loss: 643.8964 - mae: 11.0181 - mse: 643.8964 - val_loss: 469.0776 - val_mae: 15.7760 - val_mse: 469.0776\n",
            "Epoch 58/100\n",
            "26/26 [==============================] - 4s 146ms/step - loss: 635.9397 - mae: 10.8553 - mse: 635.9397 - val_loss: 455.6371 - val_mae: 15.4230 - val_mse: 455.6371\n",
            "Epoch 59/100\n",
            "26/26 [==============================] - 4s 146ms/step - loss: 640.4075 - mae: 10.8076 - mse: 640.4075 - val_loss: 464.2445 - val_mae: 15.6495 - val_mse: 464.2445\n",
            "Epoch 60/100\n",
            "26/26 [==============================] - 4s 145ms/step - loss: 635.0874 - mae: 10.8524 - mse: 635.0874 - val_loss: 451.9321 - val_mae: 15.3655 - val_mse: 451.9321\n",
            "Epoch 61/100\n",
            "26/26 [==============================] - 4s 145ms/step - loss: 634.7684 - mae: 10.7927 - mse: 634.7684 - val_loss: 481.4353 - val_mae: 16.0255 - val_mse: 481.4353\n",
            "Epoch 62/100\n",
            "26/26 [==============================] - 4s 145ms/step - loss: 628.8515 - mae: 10.8727 - mse: 628.8515 - val_loss: 465.6199 - val_mae: 15.6476 - val_mse: 465.6199\n",
            "Epoch 63/100\n",
            "26/26 [==============================] - 4s 146ms/step - loss: 631.2719 - mae: 10.9108 - mse: 631.2719 - val_loss: 490.5697 - val_mae: 16.1809 - val_mse: 490.5697\n",
            "Epoch 64/100\n",
            "26/26 [==============================] - 4s 145ms/step - loss: 640.8046 - mae: 10.8216 - mse: 640.8046 - val_loss: 472.1227 - val_mae: 15.7923 - val_mse: 472.1227\n",
            "Epoch 65/100\n",
            "26/26 [==============================] - 4s 145ms/step - loss: 630.4174 - mae: 10.9045 - mse: 630.4174 - val_loss: 524.8292 - val_mae: 16.9652 - val_mse: 524.8292\n",
            "Epoch 66/100\n",
            "26/26 [==============================] - 4s 143ms/step - loss: 620.7926 - mae: 10.8872 - mse: 620.7926 - val_loss: 450.4762 - val_mae: 15.3577 - val_mse: 450.4762\n",
            "Epoch 67/100\n",
            "26/26 [==============================] - 4s 146ms/step - loss: 631.0211 - mae: 10.9777 - mse: 631.0211 - val_loss: 496.7028 - val_mae: 16.2928 - val_mse: 496.7028\n",
            "Epoch 68/100\n",
            "26/26 [==============================] - 4s 144ms/step - loss: 614.6115 - mae: 10.7924 - mse: 614.6115 - val_loss: 485.8732 - val_mae: 16.1376 - val_mse: 485.8732\n",
            "Epoch 69/100\n",
            "26/26 [==============================] - 4s 147ms/step - loss: 611.7429 - mae: 10.7411 - mse: 611.7429 - val_loss: 513.3188 - val_mae: 16.6087 - val_mse: 513.3188\n",
            "Epoch 70/100\n",
            "26/26 [==============================] - 4s 145ms/step - loss: 605.3066 - mae: 10.6086 - mse: 605.3066 - val_loss: 499.5991 - val_mae: 16.3446 - val_mse: 499.5991\n",
            "Epoch 71/100\n",
            "26/26 [==============================] - 4s 146ms/step - loss: 609.5693 - mae: 10.8865 - mse: 609.5693 - val_loss: 513.9821 - val_mae: 16.5849 - val_mse: 513.9821\n",
            "Epoch 72/100\n",
            "26/26 [==============================] - 4s 147ms/step - loss: 619.8185 - mae: 10.8342 - mse: 619.8185 - val_loss: 527.8785 - val_mae: 16.9529 - val_mse: 527.8785\n",
            "Epoch 73/100\n",
            "26/26 [==============================] - 4s 146ms/step - loss: 610.3493 - mae: 10.8096 - mse: 610.3493 - val_loss: 555.1171 - val_mae: 17.4876 - val_mse: 555.1171\n",
            "Epoch 74/100\n",
            "26/26 [==============================] - 4s 145ms/step - loss: 608.0845 - mae: 10.7091 - mse: 608.0845 - val_loss: 521.5224 - val_mae: 16.7944 - val_mse: 521.5224\n",
            "Epoch 75/100\n",
            "26/26 [==============================] - 4s 148ms/step - loss: 598.7462 - mae: 10.5126 - mse: 598.7462 - val_loss: 506.3505 - val_mae: 16.3926 - val_mse: 506.3505\n",
            "Epoch 76/100\n",
            "26/26 [==============================] - 4s 147ms/step - loss: 604.9381 - mae: 10.6338 - mse: 604.9381 - val_loss: 527.7745 - val_mae: 16.8747 - val_mse: 527.7745\n",
            "Epoch 77/100\n",
            "26/26 [==============================] - 4s 147ms/step - loss: 595.0266 - mae: 10.6034 - mse: 595.0266 - val_loss: 556.6282 - val_mae: 17.4784 - val_mse: 556.6282\n",
            "Epoch 78/100\n",
            "26/26 [==============================] - 4s 148ms/step - loss: 599.2410 - mae: 10.5433 - mse: 599.2410 - val_loss: 525.9518 - val_mae: 16.8671 - val_mse: 525.9518\n",
            "Epoch 79/100\n",
            "26/26 [==============================] - 4s 148ms/step - loss: 592.8404 - mae: 10.5779 - mse: 592.8404 - val_loss: 550.8509 - val_mae: 17.2766 - val_mse: 550.8509\n",
            "Epoch 80/100\n",
            "26/26 [==============================] - 4s 147ms/step - loss: 589.6290 - mae: 10.4564 - mse: 589.6290 - val_loss: 537.7429 - val_mae: 17.0225 - val_mse: 537.7429\n",
            "Epoch 81/100\n",
            "26/26 [==============================] - 4s 147ms/step - loss: 590.6420 - mae: 10.6375 - mse: 590.6420 - val_loss: 539.6569 - val_mae: 17.0408 - val_mse: 539.6569\n",
            "Epoch 82/100\n",
            "26/26 [==============================] - 4s 149ms/step - loss: 592.5115 - mae: 10.6528 - mse: 592.5115 - val_loss: 539.5558 - val_mae: 16.9968 - val_mse: 539.5558\n",
            "Epoch 83/100\n",
            "26/26 [==============================] - 4s 147ms/step - loss: 598.9757 - mae: 10.6364 - mse: 598.9757 - val_loss: 557.3788 - val_mae: 17.3824 - val_mse: 557.3788\n",
            "Epoch 84/100\n",
            "26/26 [==============================] - 4s 149ms/step - loss: 593.7043 - mae: 10.6357 - mse: 593.7043 - val_loss: 584.2925 - val_mae: 17.8939 - val_mse: 584.2925\n",
            "Epoch 85/100\n",
            "26/26 [==============================] - 4s 144ms/step - loss: 589.4789 - mae: 10.6488 - mse: 589.4789 - val_loss: 591.1679 - val_mae: 17.9967 - val_mse: 591.1679\n",
            "Epoch 86/100\n",
            "26/26 [==============================] - 4s 148ms/step - loss: 590.4284 - mae: 10.4016 - mse: 590.4284 - val_loss: 557.9700 - val_mae: 17.4037 - val_mse: 557.9700\n",
            "Epoch 87/100\n",
            "26/26 [==============================] - 4s 149ms/step - loss: 580.9310 - mae: 10.5027 - mse: 580.9310 - val_loss: 559.9341 - val_mae: 17.3264 - val_mse: 559.9341\n",
            "Epoch 88/100\n",
            "26/26 [==============================] - 4s 146ms/step - loss: 577.1496 - mae: 10.4366 - mse: 577.1496 - val_loss: 570.6033 - val_mae: 17.6221 - val_mse: 570.6033\n",
            "Epoch 89/100\n",
            "26/26 [==============================] - 4s 148ms/step - loss: 584.0235 - mae: 10.5121 - mse: 584.0235 - val_loss: 630.3455 - val_mae: 18.7056 - val_mse: 630.3455\n",
            "Epoch 90/100\n",
            "26/26 [==============================] - 4s 151ms/step - loss: 568.7950 - mae: 10.2928 - mse: 568.7950 - val_loss: 560.7371 - val_mae: 17.2978 - val_mse: 560.7371\n",
            "Epoch 91/100\n",
            "26/26 [==============================] - 4s 153ms/step - loss: 577.8655 - mae: 10.5183 - mse: 577.8655 - val_loss: 589.3495 - val_mae: 17.9466 - val_mse: 589.3495\n",
            "Epoch 92/100\n",
            "26/26 [==============================] - 4s 151ms/step - loss: 578.1604 - mae: 10.4243 - mse: 578.1604 - val_loss: 631.2781 - val_mae: 18.6386 - val_mse: 631.2781\n",
            "Epoch 93/100\n",
            "26/26 [==============================] - 4s 152ms/step - loss: 581.6122 - mae: 10.6418 - mse: 581.6122 - val_loss: 563.8992 - val_mae: 17.3861 - val_mse: 563.8992\n",
            "Epoch 94/100\n",
            "26/26 [==============================] - 4s 153ms/step - loss: 566.7634 - mae: 10.2986 - mse: 566.7634 - val_loss: 584.8887 - val_mae: 17.7727 - val_mse: 584.8887\n",
            "Epoch 95/100\n",
            "26/26 [==============================] - 4s 152ms/step - loss: 576.4035 - mae: 10.5179 - mse: 576.4035 - val_loss: 608.8318 - val_mae: 18.2843 - val_mse: 608.8318\n",
            "Epoch 96/100\n",
            "26/26 [==============================] - 4s 149ms/step - loss: 624.7417 - mae: 10.4236 - mse: 624.7417 - val_loss: 521.9521 - val_mae: 16.6727 - val_mse: 521.9521\n",
            "Epoch 97/100\n",
            "26/26 [==============================] - 4s 144ms/step - loss: 571.7000 - mae: 10.3265 - mse: 571.7000 - val_loss: 599.6854 - val_mae: 18.1599 - val_mse: 599.6854\n",
            "Epoch 98/100\n",
            "26/26 [==============================] - 4s 146ms/step - loss: 566.6450 - mae: 10.2867 - mse: 566.6450 - val_loss: 581.3149 - val_mae: 17.7108 - val_mse: 581.3149\n",
            "Epoch 99/100\n",
            "26/26 [==============================] - 4s 146ms/step - loss: 564.4622 - mae: 10.4668 - mse: 564.4622 - val_loss: 612.6310 - val_mae: 18.3878 - val_mse: 612.6310\n",
            "Epoch 100/100\n",
            "26/26 [==============================] - 4s 145ms/step - loss: 558.0467 - mae: 10.0942 - mse: 558.0467 - val_loss: 587.4302 - val_mae: 17.8456 - val_mse: 587.4302\n"
          ]
        }
      ]
    },
    {
      "cell_type": "markdown",
      "source": [
        "Predictions"
      ],
      "metadata": {
        "id": "hjVQsanxpHma"
      }
    },
    {
      "cell_type": "code",
      "source": [
        "train_idx[:T+1]=False"
      ],
      "metadata": {
        "id": "f1Llph9XdeVY"
      },
      "execution_count": 28,
      "outputs": []
    },
    {
      "cell_type": "code",
      "source": [
        "Ptrain_ann=model_ann.predict(Xtrain).flatten()\n",
        "Ptest_ann=model_ann.predict(Xtest).flatten()\n"
      ],
      "metadata": {
        "id": "96WR1e3Sdgle"
      },
      "execution_count": 29,
      "outputs": []
    },
    {
      "cell_type": "code",
      "source": [
        "Ptrain_cnn=model_cnn.predict(Xtrain).flatten()\n",
        "Ptest_cnn=model_cnn.predict(Xtest).flatten()"
      ],
      "metadata": {
        "id": "Pc5bF6Z_gUGI"
      },
      "execution_count": 30,
      "outputs": []
    },
    {
      "cell_type": "code",
      "source": [
        "Ptrain_lstm=model_lstm.predict(Xtrain).flatten()\n",
        "Ptest_lstm=model_lstm.predict(Xtest).flatten()"
      ],
      "metadata": {
        "id": "LWhMPuCvjAIS"
      },
      "execution_count": 31,
      "outputs": []
    },
    {
      "cell_type": "code",
      "source": [
        "Ptrain_gru=model_gru.predict(Xtrain).flatten()\n",
        "Ptest_gru=model_gru.predict(Xtest).flatten()"
      ],
      "metadata": {
        "id": "znvUQWrKnmIj"
      },
      "execution_count": 32,
      "outputs": []
    },
    {
      "cell_type": "code",
      "source": [
        "df.loc[train_idx,'Diff ANN train prediction']=Ptrain_ann\n",
        "df.loc[test_idx,'Diff ANN test prediction']=Ptest_ann"
      ],
      "metadata": {
        "id": "L7p_peucdjgP"
      },
      "execution_count": 33,
      "outputs": []
    },
    {
      "cell_type": "code",
      "source": [
        "df.loc[train_idx,'Diff CNN train prediction']=Ptrain_cnn\n",
        "df.loc[test_idx,'Diff CNN test prediction']=Ptest_cnn"
      ],
      "metadata": {
        "id": "YcnY5nc6gaG6"
      },
      "execution_count": 34,
      "outputs": []
    },
    {
      "cell_type": "code",
      "source": [
        "df.loc[train_idx,'Diff LSTM train prediction']=Ptrain_lstm\n",
        "df.loc[test_idx,'Diff LSTM test prediction']=Ptest_lstm"
      ],
      "metadata": {
        "id": "8p_92fO6jTpW"
      },
      "execution_count": 35,
      "outputs": []
    },
    {
      "cell_type": "code",
      "source": [
        "df.loc[train_idx,'Diff GRU train prediction']=Ptrain_gru\n",
        "df.loc[test_idx,'Diff GRU test prediction']=Ptest_gru"
      ],
      "metadata": {
        "id": "nmUC4sKpnsIl"
      },
      "execution_count": 36,
      "outputs": []
    },
    {
      "cell_type": "code",
      "source": [
        "df['Shift Prev Close']=df['Prev Close'].shift(1)\n",
        "prev=df['Shift Prev Close']"
      ],
      "metadata": {
        "id": "Ea7RmDuJdpgz"
      },
      "execution_count": 37,
      "outputs": []
    },
    {
      "cell_type": "code",
      "source": [
        "last_train=train.iloc[-1]['Prev Close']"
      ],
      "metadata": {
        "id": "hrhOEI3fduRI"
      },
      "execution_count": 38,
      "outputs": []
    },
    {
      "cell_type": "code",
      "source": [
        "df.loc[train_idx,'train_ANN']=prev[train_idx]+Ptrain_ann\n",
        "df.loc[test_idx,'Prediction_ANN']=prev[test_idx]+Ptest_ann"
      ],
      "metadata": {
        "id": "h0UpXNAXd0Uy"
      },
      "execution_count": 39,
      "outputs": []
    },
    {
      "cell_type": "code",
      "source": [
        "df.loc[train_idx,'train_CNN']=prev[train_idx]+Ptrain_cnn\n",
        "df.loc[test_idx,'Prediction_CNN']=prev[test_idx]+Ptest_cnn"
      ],
      "metadata": {
        "id": "EUYdfUqdg5Tu"
      },
      "execution_count": 40,
      "outputs": []
    },
    {
      "cell_type": "code",
      "source": [
        "df.loc[train_idx,'train_LSTM']=prev[train_idx]+Ptrain_lstm\n",
        "df.loc[test_idx,'Prediction_LSTM']=prev[test_idx]+Ptest_lstm"
      ],
      "metadata": {
        "id": "Na8TIloyjc_Z"
      },
      "execution_count": 41,
      "outputs": []
    },
    {
      "cell_type": "code",
      "source": [
        "df.loc[train_idx,'train_GRU']=prev[train_idx]+Ptrain_gru\n",
        "df.loc[test_idx,'Prediction_GRU']=prev[test_idx]+Ptest_gru"
      ],
      "metadata": {
        "id": "qSL8wEeqnzrM"
      },
      "execution_count": 42,
      "outputs": []
    },
    {
      "cell_type": "code",
      "source": [
        "df[[ 'Prev Close','Prediction_CNN','Prediction_ANN','Prediction_LSTM','Prediction_GRU']].plot(figsize=(15,10));"
      ],
      "metadata": {
        "colab": {
          "base_uri": "https://localhost:8080/",
          "height": 417
        },
        "id": "hItPmrHOd45G",
        "outputId": "1720550e-44dc-41ab-a3e2-5e4f738adb00"
      },
      "execution_count": 43,
      "outputs": [
        {
          "output_type": "display_data",
          "data": {
            "text/plain": [
              "<Figure size 1080x720 with 1 Axes>"
            ],
            "image/png": "[encoded data removed]"
          },
          "metadata": {
            "needs_background": "light"
          }
        }
      ]
    },
    {
      "cell_type": "code",
      "source": [
        "df[[ 'Prediction_CNN','Prediction_ANN','Prediction_LSTM','Prediction_GRU']].plot(figsize=(15,10),\n",
        "    ylabel=(\"Previous Close\"));"
      ],
      "metadata": {
        "colab": {
          "base_uri": "https://localhost:8080/",
          "height": 416
        },
        "id": "8nDh9SzUd7Em",
        "outputId": "dead6041-fd1a-4793-e9d6-4d9568140093"
      },
      "execution_count": 44,
      "outputs": [
        {
          "output_type": "display_data",
          "data": {
            "text/plain": [
              "<Figure size 1080x720 with 1 Axes>"
            ],
            "image/png": "[encoded data removed]"
          },
          "metadata": {
            "needs_background": "light"
          }
        }
      ]
    },
    {
      "cell_type": "markdown",
      "source": [
        "Evaluation"
      ],
      "metadata": {
        "id": "rSXUYSDdpMP7"
      }
    },
    {
      "cell_type": "code",
      "source": [
        "pred_ann=df['Prediction_ANN']\n",
        "pred_ann.dropna(inplace=True)"
      ],
      "metadata": {
        "id": "NdOUWgEhoKjf"
      },
      "execution_count": 45,
      "outputs": []
    },
    {
      "cell_type": "code",
      "source": [
        "rmse=math.sqrt(mean_squared_error(test['Prev Close'],pred_ann))\n",
        "print(rmse)"
      ],
      "metadata": {
        "colab": {
          "base_uri": "https://localhost:8080/"
        },
        "id": "nsTCBQ6mpdH0",
        "outputId": "61ab7d7d-015a-4cc4-b473-9b30dfd6c315"
      },
      "execution_count": 46,
      "outputs": [
        {
          "output_type": "stream",
          "name": "stdout",
          "text": [
            "18.21332651837978\n"
          ]
        }
      ]
    },
    {
      "cell_type": "code",
      "source": [
        "error=mean_absolute_error(test['Prev Close'],pred_ann)\n",
        "print(error)"
      ],
      "metadata": {
        "colab": {
          "base_uri": "https://localhost:8080/"
        },
        "id": "iIAQHD7DpgVL",
        "outputId": "58605a2a-a11b-4985-f845-2decbda5bb5b"
      },
      "execution_count": 47,
      "outputs": [
        {
          "output_type": "stream",
          "name": "stdout",
          "text": [
            "12.276550735280194\n"
          ]
        }
      ]
    },
    {
      "cell_type": "code",
      "source": [
        "r2_score(test['Prev Close'],pred_ann)"
      ],
      "metadata": {
        "colab": {
          "base_uri": "https://localhost:8080/"
        },
        "id": "-0ZfJE4zplqz",
        "outputId": "8d43e95f-c22b-4c6e-f68d-549cc30315d7"
      },
      "execution_count": 48,
      "outputs": [
        {
          "output_type": "execute_result",
          "data": {
            "text/plain": [
              "0.9879150578626138"
            ]
          },
          "metadata": {},
          "execution_count": 48
        }
      ]
    },
    {
      "cell_type": "code",
      "source": [
        "pred_cnn=df['Prediction_CNN']\n",
        "pred_cnn.dropna(inplace=True)"
      ],
      "metadata": {
        "id": "NQ3y6NwzppdW"
      },
      "execution_count": 49,
      "outputs": []
    },
    {
      "cell_type": "code",
      "source": [
        "rmse=math.sqrt(mean_squared_error(test['Prev Close'],pred_cnn))\n",
        "print(rmse)"
      ],
      "metadata": {
        "colab": {
          "base_uri": "https://localhost:8080/"
        },
        "id": "2t7Fu7N-p9ql",
        "outputId": "09c97282-a07b-4f54-aa4f-616fa52c7783"
      },
      "execution_count": 50,
      "outputs": [
        {
          "output_type": "stream",
          "name": "stdout",
          "text": [
            "18.83230997965712\n"
          ]
        }
      ]
    },
    {
      "cell_type": "code",
      "source": [
        "error=mean_absolute_error(test['Prev Close'],pred_cnn)\n",
        "print(error)"
      ],
      "metadata": {
        "colab": {
          "base_uri": "https://localhost:8080/"
        },
        "id": "fCxfXZ3Cp92i",
        "outputId": "e196baeb-c542-4045-f1b1-2ae77719b334"
      },
      "execution_count": 51,
      "outputs": [
        {
          "output_type": "stream",
          "name": "stdout",
          "text": [
            "12.908532749122445\n"
          ]
        }
      ]
    },
    {
      "cell_type": "code",
      "source": [
        "r2_score(test['Prev Close'],pred_cnn)"
      ],
      "metadata": {
        "colab": {
          "base_uri": "https://localhost:8080/"
        },
        "id": "B1yNq5Vyp-Fv",
        "outputId": "6ec4342e-80dc-4992-bbab-130c5f8e67b2"
      },
      "execution_count": 52,
      "outputs": [
        {
          "output_type": "execute_result",
          "data": {
            "text/plain": [
              "0.9870796815921326"
            ]
          },
          "metadata": {},
          "execution_count": 52
        }
      ]
    },
    {
      "cell_type": "code",
      "source": [
        "pred_lstm=df['Prediction_LSTM']\n",
        "pred_lstm.dropna(inplace=True)"
      ],
      "metadata": {
        "id": "2JHbSsrypzko"
      },
      "execution_count": 53,
      "outputs": []
    },
    {
      "cell_type": "code",
      "source": [
        "rmse=math.sqrt(mean_squared_error(test['Prev Close'],pred_lstm))\n",
        "print(rmse)"
      ],
      "metadata": {
        "colab": {
          "base_uri": "https://localhost:8080/"
        },
        "id": "UXSSQRxQp-35",
        "outputId": "e18cb279-45e0-4799-b767-2232104f00ec"
      },
      "execution_count": 54,
      "outputs": [
        {
          "output_type": "stream",
          "name": "stdout",
          "text": [
            "32.07236427529232\n"
          ]
        }
      ]
    },
    {
      "cell_type": "code",
      "source": [
        "error=mean_absolute_error(test['Prev Close'],pred_lstm)\n",
        "print(error)"
      ],
      "metadata": {
        "colab": {
          "base_uri": "https://localhost:8080/"
        },
        "id": "h9VZ6Odxp-9o",
        "outputId": "7bc04e2b-da1d-4ae0-da0f-3e4ffe43030e"
      },
      "execution_count": 55,
      "outputs": [
        {
          "output_type": "stream",
          "name": "stdout",
          "text": [
            "23.817605300544887\n"
          ]
        }
      ]
    },
    {
      "cell_type": "code",
      "source": [
        "r2_score(test['Prev Close'],pred_lstm)"
      ],
      "metadata": {
        "colab": {
          "base_uri": "https://localhost:8080/"
        },
        "id": "X7FH8enup_D3",
        "outputId": "9ef716ab-c8d2-4ffb-9567-adfa0a226b73"
      },
      "execution_count": 56,
      "outputs": [
        {
          "output_type": "execute_result",
          "data": {
            "text/plain": [
              "0.9625261787954109"
            ]
          },
          "metadata": {},
          "execution_count": 56
        }
      ]
    },
    {
      "cell_type": "code",
      "source": [
        "pred_gru=df['Prediction_GRU']\n",
        "pred_gru.dropna(inplace=True)"
      ],
      "metadata": {
        "id": "i3IdPEAWp4iD"
      },
      "execution_count": 57,
      "outputs": []
    },
    {
      "cell_type": "code",
      "source": [
        "rmse=math.sqrt(mean_squared_error(test['Prev Close'],pred_gru))\n",
        "print(rmse)"
      ],
      "metadata": {
        "colab": {
          "base_uri": "https://localhost:8080/"
        },
        "id": "XuZAIPTEp_iy",
        "outputId": "f07efc6d-fd8e-4764-ece0-d8ecda56d885"
      },
      "execution_count": 58,
      "outputs": [
        {
          "output_type": "stream",
          "name": "stdout",
          "text": [
            "24.236958295428362\n"
          ]
        }
      ]
    },
    {
      "cell_type": "code",
      "source": [
        "error=mean_absolute_error(test['Prev Close'],pred_gru)\n",
        "print(error)"
      ],
      "metadata": {
        "colab": {
          "base_uri": "https://localhost:8080/"
        },
        "id": "eo7EZVIop_np",
        "outputId": "8746954e-db8c-433e-b40c-4ddd669c4c74"
      },
      "execution_count": 59,
      "outputs": [
        {
          "output_type": "stream",
          "name": "stdout",
          "text": [
            "17.84556283142689\n"
          ]
        }
      ]
    },
    {
      "cell_type": "code",
      "source": [
        "r2_score(test['Prev Close'],pred_gru)"
      ],
      "metadata": {
        "colab": {
          "base_uri": "https://localhost:8080/"
        },
        "id": "AQIh6l51p_so",
        "outputId": "925598d3-1f10-41d2-902a-3aadb8c79893"
      },
      "execution_count": 60,
      "outputs": [
        {
          "output_type": "execute_result",
          "data": {
            "text/plain": [
              "0.9785995818348481"
            ]
          },
          "metadata": {},
          "execution_count": 60
        }
      ]
    },
    {
      "cell_type": "code",
      "source": [],
      "metadata": {
        "id": "gjfmkSgjqcjO"
      },
      "execution_count": 60,
      "outputs": []
    }
  ]
}