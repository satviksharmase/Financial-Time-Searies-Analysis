{
  "nbformat": 4,
  "nbformat_minor": 0,
  "metadata": {
    "colab": {
      "provenance": []
    },
    "kernelspec": {
      "name": "python3",
      "display_name": "Python 3"
    },
    "language_info": {
      "name": "python"
    }
  },
  "cells": [
    {
      "cell_type": "code",
      "execution_count": 54,
      "metadata": {
        "id": "dpI-f41n9Ofc"
      },
      "outputs": [],
      "source": [
        "import pandas as pd\n",
        "import numpy as np\n",
        "import matplotlib.pyplot as plt\n",
        "\n",
        "import tensorflow as tf\n",
        "from tensorflow.keras.layers import Dense, Input, GlobalMaxPool1D, LSTM, GRU\n",
        "from tensorflow.keras.layers import Conv1D, MaxPooling1D\n",
        "from tensorflow.keras.models import Model\n",
        "from tensorflow.keras.callbacks import ModelCheckpoint\n",
        "\n",
        "import math\n",
        "\n",
        "from sklearn.metrics import r2_score\n",
        "from sklearn.metrics import mean_absolute_error\n",
        "from sklearn.metrics import mean_squared_error\n",
        "\n",
        "np.random.seed(123)\n",
        "tf.random.set_seed(123)"
      ]
    },
    {
      "cell_type": "code",
      "source": [
        "df=pd.read_csv('./INFY.csv',index_col='Date',parse_dates=True)"
      ],
      "metadata": {
        "id": "tRrBpF6O9Rch"
      },
      "execution_count": 55,
      "outputs": []
    },
    {
      "cell_type": "code",
      "source": [
        "df"
      ],
      "metadata": {
        "colab": {
          "base_uri": "https://localhost:8080/",
          "height": 710
        },
        "id": "ZHKVPajo9cUs",
        "outputId": "af5d8e4d-4e7a-4ee6-ee48-1e5d76b99d60"
      },
      "execution_count": 56,
      "outputs": [
        {
          "output_type": "execute_result",
          "data": {
            "text/plain": [
              "                Symbol Series  Prev Close      Open      High       Low  \\\n",
              "Date                                                                      \n",
              "2000-01-03  INFOSYSTCH     EQ    14467.75  15625.00  15625.20  15625.00   \n",
              "2000-01-04  INFOSYSTCH     EQ    15625.20  16800.00  16875.25  16253.00   \n",
              "2000-01-05  INFOSYSTCH     EQ    16855.90  15701.00  16250.00  15507.45   \n",
              "2000-01-06  INFOSYSTCH     EQ    15507.45  15256.65  15300.00  14266.85   \n",
              "2000-01-07  INFOSYSTCH     EQ    14266.85  13125.50  13125.50  13125.50   \n",
              "...                ...    ...         ...       ...       ...       ...   \n",
              "2021-04-26        INFY     EQ     1333.80   1332.25   1351.30   1321.00   \n",
              "2021-04-27        INFY     EQ     1343.55   1346.00   1353.00   1340.15   \n",
              "2021-04-28        INFY     EQ     1348.50   1358.00   1359.50   1344.60   \n",
              "2021-04-29        INFY     EQ     1356.00   1368.00   1369.00   1351.40   \n",
              "2021-04-30        INFY     EQ     1356.35   1346.30   1373.90   1345.90   \n",
              "\n",
              "                Last     Close      VWAP   Volume      Turnover    Trades  \\\n",
              "Date                                                                        \n",
              "2000-01-03  15625.20  15625.20  15625.18     5137  8.026657e+12       NaN   \n",
              "2000-01-04  16875.25  16855.90  16646.38    56186  9.352937e+13       NaN   \n",
              "2000-01-05  15507.45  15507.45  15786.38   164605  2.598516e+14       NaN   \n",
              "2000-01-06  14266.85  14266.85  14462.82    81997  1.185908e+14       NaN   \n",
              "2000-01-07  13125.50  13125.50  13125.50     7589  9.960942e+12       NaN   \n",
              "...              ...       ...       ...      ...           ...       ...   \n",
              "2021-04-26   1345.00   1343.55   1343.19  7088606  9.521361e+14  130375.0   \n",
              "2021-04-27   1347.50   1348.50   1346.89  3636115  4.897445e+14  145974.0   \n",
              "2021-04-28   1355.80   1356.00   1353.45  4879234  6.603778e+14  137376.0   \n",
              "2021-04-29   1356.00   1356.35   1360.05  5412357  7.361090e+14  119277.0   \n",
              "2021-04-30   1348.60   1354.35   1361.16  8354677  1.137203e+15  131718.0   \n",
              "\n",
              "            Deliverable Volume  %Deliverble  \n",
              "Date                                         \n",
              "2000-01-03                 NaN          NaN  \n",
              "2000-01-04                 NaN          NaN  \n",
              "2000-01-05                 NaN          NaN  \n",
              "2000-01-06                 NaN          NaN  \n",
              "2000-01-07                 NaN          NaN  \n",
              "...                        ...          ...  \n",
              "2021-04-26           4218129.0       0.5951  \n",
              "2021-04-27           1871084.0       0.5146  \n",
              "2021-04-28           2857134.0       0.5856  \n",
              "2021-04-29           3130945.0       0.5785  \n",
              "2021-04-30           5408113.0       0.6473  \n",
              "\n",
              "[5306 rows x 14 columns]"
            ],
            "text/html": [
              "\n",
              "  <div id=\"df-591f2c60-390e-464c-a759-8e5a8b2cb609\">\n",
              "    <div class=\"colab-df-container\">\n",
              "      <div>\n",
              "<style scoped>\n",
              "    .dataframe tbody tr th:only-of-type {\n",
              "        vertical-align: middle;\n",
              "    }\n",
              "\n",
              "    .dataframe tbody tr th {\n",
              "        vertical-align: top;\n",
              "    }\n",
              "\n",
              "    .dataframe thead th {\n",
              "        text-align: right;\n",
              "    }\n",
              "</style>\n",
              "<table border=\"1\" class=\"dataframe\">\n",
              "  <thead>\n",
              "    <tr style=\"text-align: right;\">\n",
              "      <th></th>\n",
              "      <th>Symbol</th>\n",
              "      <th>Series</th>\n",
              "      <th>Prev Close</th>\n",
              "      <th>Open</th>\n",
              "      <th>High</th>\n",
              "      <th>Low</th>\n",
              "      <th>Last</th>\n",
              "      <th>Close</th>\n",
              "      <th>VWAP</th>\n",
              "      <th>Volume</th>\n",
              "      <th>Turnover</th>\n",
              "      <th>Trades</th>\n",
              "      <th>Deliverable Volume</th>\n",
              "      <th>%Deliverble</th>\n",
              "    </tr>\n",
              "    <tr>\n",
              "      <th>Date</th>\n",
              "      <th></th>\n",
              "      <th></th>\n",
              "      <th></th>\n",
              "      <th></th>\n",
              "      <th></th>\n",
              "      <th></th>\n",
              "      <th></th>\n",
              "      <th></th>\n",
              "      <th></th>\n",
              "      <th></th>\n",
              "      <th></th>\n",
              "      <th></th>\n",
              "      <th></th>\n",
              "      <th></th>\n",
              "    </tr>\n",
              "  </thead>\n",
              "  <tbody>\n",
              "    <tr>\n",
              "      <th>2000-01-03</th>\n",
              "      <td>INFOSYSTCH</td>\n",
              "      <td>EQ</td>\n",
              "      <td>14467.75</td>\n",
              "      <td>15625.00</td>\n",
              "      <td>15625.20</td>\n",
              "      <td>15625.00</td>\n",
              "      <td>15625.20</td>\n",
              "      <td>15625.20</td>\n",
              "      <td>15625.18</td>\n",
              "      <td>5137</td>\n",
              "      <td>8.026657e+12</td>\n",
              "      <td>NaN</td>\n",
              "      <td>NaN</td>\n",
              "      <td>NaN</td>\n",
              "    </tr>\n",
              "    <tr>\n",
              "      <th>2000-01-04</th>\n",
              "      <td>INFOSYSTCH</td>\n",
              "      <td>EQ</td>\n",
              "      <td>15625.20</td>\n",
              "      <td>16800.00</td>\n",
              "      <td>16875.25</td>\n",
              "      <td>16253.00</td>\n",
              "      <td>16875.25</td>\n",
              "      <td>16855.90</td>\n",
              "      <td>16646.38</td>\n",
              "      <td>56186</td>\n",
              "      <td>9.352937e+13</td>\n",
              "      <td>NaN</td>\n",
              "      <td>NaN</td>\n",
              "      <td>NaN</td>\n",
              "    </tr>\n",
              "    <tr>\n",
              "      <th>2000-01-05</th>\n",
              "      <td>INFOSYSTCH</td>\n",
              "      <td>EQ</td>\n",
              "      <td>16855.90</td>\n",
              "      <td>15701.00</td>\n",
              "      <td>16250.00</td>\n",
              "      <td>15507.45</td>\n",
              "      <td>15507.45</td>\n",
              "      <td>15507.45</td>\n",
              "      <td>15786.38</td>\n",
              "      <td>164605</td>\n",
              "      <td>2.598516e+14</td>\n",
              "      <td>NaN</td>\n",
              "      <td>NaN</td>\n",
              "      <td>NaN</td>\n",
              "    </tr>\n",
              "    <tr>\n",
              "      <th>2000-01-06</th>\n",
              "      <td>INFOSYSTCH</td>\n",
              "      <td>EQ</td>\n",
              "      <td>15507.45</td>\n",
              "      <td>15256.65</td>\n",
              "      <td>15300.00</td>\n",
              "      <td>14266.85</td>\n",
              "      <td>14266.85</td>\n",
              "      <td>14266.85</td>\n",
              "      <td>14462.82</td>\n",
              "      <td>81997</td>\n",
              "      <td>1.185908e+14</td>\n",
              "      <td>NaN</td>\n",
              "      <td>NaN</td>\n",
              "      <td>NaN</td>\n",
              "    </tr>\n",
              "    <tr>\n",
              "      <th>2000-01-07</th>\n",
              "      <td>INFOSYSTCH</td>\n",
              "      <td>EQ</td>\n",
              "      <td>14266.85</td>\n",
              "      <td>13125.50</td>\n",
              "      <td>13125.50</td>\n",
              "      <td>13125.50</td>\n",
              "      <td>13125.50</td>\n",
              "      <td>13125.50</td>\n",
              "      <td>13125.50</td>\n",
              "      <td>7589</td>\n",
              "      <td>9.960942e+12</td>\n",
              "      <td>NaN</td>\n",
              "      <td>NaN</td>\n",
              "      <td>NaN</td>\n",
              "    </tr>\n",
              "    <tr>\n",
              "      <th>...</th>\n",
              "      <td>...</td>\n",
              "      <td>...</td>\n",
              "      <td>...</td>\n",
              "      <td>...</td>\n",
              "      <td>...</td>\n",
              "      <td>...</td>\n",
              "      <td>...</td>\n",
              "      <td>...</td>\n",
              "      <td>...</td>\n",
              "      <td>...</td>\n",
              "      <td>...</td>\n",
              "      <td>...</td>\n",
              "      <td>...</td>\n",
              "      <td>...</td>\n",
              "    </tr>\n",
              "    <tr>\n",
              "      <th>2021-04-26</th>\n",
              "      <td>INFY</td>\n",
              "      <td>EQ</td>\n",
              "      <td>1333.80</td>\n",
              "      <td>1332.25</td>\n",
              "      <td>1351.30</td>\n",
              "      <td>1321.00</td>\n",
              "      <td>1345.00</td>\n",
              "      <td>1343.55</td>\n",
              "      <td>1343.19</td>\n",
              "      <td>7088606</td>\n",
              "      <td>9.521361e+14</td>\n",
              "      <td>130375.0</td>\n",
              "      <td>4218129.0</td>\n",
              "      <td>0.5951</td>\n",
              "    </tr>\n",
              "    <tr>\n",
              "      <th>2021-04-27</th>\n",
              "      <td>INFY</td>\n",
              "      <td>EQ</td>\n",
              "      <td>1343.55</td>\n",
              "      <td>1346.00</td>\n",
              "      <td>1353.00</td>\n",
              "      <td>1340.15</td>\n",
              "      <td>1347.50</td>\n",
              "      <td>1348.50</td>\n",
              "      <td>1346.89</td>\n",
              "      <td>3636115</td>\n",
              "      <td>4.897445e+14</td>\n",
              "      <td>145974.0</td>\n",
              "      <td>1871084.0</td>\n",
              "      <td>0.5146</td>\n",
              "    </tr>\n",
              "    <tr>\n",
              "      <th>2021-04-28</th>\n",
              "      <td>INFY</td>\n",
              "      <td>EQ</td>\n",
              "      <td>1348.50</td>\n",
              "      <td>1358.00</td>\n",
              "      <td>1359.50</td>\n",
              "      <td>1344.60</td>\n",
              "      <td>1355.80</td>\n",
              "      <td>1356.00</td>\n",
              "      <td>1353.45</td>\n",
              "      <td>4879234</td>\n",
              "      <td>6.603778e+14</td>\n",
              "      <td>137376.0</td>\n",
              "      <td>2857134.0</td>\n",
              "      <td>0.5856</td>\n",
              "    </tr>\n",
              "    <tr>\n",
              "      <th>2021-04-29</th>\n",
              "      <td>INFY</td>\n",
              "      <td>EQ</td>\n",
              "      <td>1356.00</td>\n",
              "      <td>1368.00</td>\n",
              "      <td>1369.00</td>\n",
              "      <td>1351.40</td>\n",
              "      <td>1356.00</td>\n",
              "      <td>1356.35</td>\n",
              "      <td>1360.05</td>\n",
              "      <td>5412357</td>\n",
              "      <td>7.361090e+14</td>\n",
              "      <td>119277.0</td>\n",
              "      <td>3130945.0</td>\n",
              "      <td>0.5785</td>\n",
              "    </tr>\n",
              "    <tr>\n",
              "      <th>2021-04-30</th>\n",
              "      <td>INFY</td>\n",
              "      <td>EQ</td>\n",
              "      <td>1356.35</td>\n",
              "      <td>1346.30</td>\n",
              "      <td>1373.90</td>\n",
              "      <td>1345.90</td>\n",
              "      <td>1348.60</td>\n",
              "      <td>1354.35</td>\n",
              "      <td>1361.16</td>\n",
              "      <td>8354677</td>\n",
              "      <td>1.137203e+15</td>\n",
              "      <td>131718.0</td>\n",
              "      <td>5408113.0</td>\n",
              "      <td>0.6473</td>\n",
              "    </tr>\n",
              "  </tbody>\n",
              "</table>\n",
              "<p>5306 rows × 14 columns</p>\n",
              "</div>\n",
              "      <button class=\"colab-df-convert\" onclick=\"convertToInteractive('df-591f2c60-390e-464c-a759-8e5a8b2cb609')\"\n",
              "              title=\"Convert this dataframe to an interactive table.\"\n",
              "              style=\"display:none;\">\n",
              "        \n",
              "  <svg xmlns=\"http://www.w3.org/2000/svg\" height=\"24px\"viewBox=\"0 0 24 24\"\n",
              "       width=\"24px\">\n",
              "    <path d=\"M0 0h24v24H0V0z\" fill=\"none\"/>\n",
              "    <path d=\"M18.56 5.44l.94 2.06.94-2.06 2.06-.94-2.06-.94-.94-2.06-.94 2.06-2.06.94zm-11 1L8.5 8.5l.94-2.06 2.06-.94-2.06-.94L8.5 2.5l-.94 2.06-2.06.94zm10 10l.94 2.06.94-2.06 2.06-.94-2.06-.94-.94-2.06-.94 2.06-2.06.94z\"/><path d=\"M17.41 7.96l-1.37-1.37c-.4-.4-.92-.59-1.43-.59-.52 0-1.04.2-1.43.59L10.3 9.45l-7.72 7.72c-.78.78-.78 2.05 0 2.83L4 21.41c.39.39.9.59 1.41.59.51 0 1.02-.2 1.41-.59l7.78-7.78 2.81-2.81c.8-.78.8-2.07 0-2.86zM5.41 20L4 18.59l7.72-7.72 1.47 1.35L5.41 20z\"/>\n",
              "  </svg>\n",
              "      </button>\n",
              "      \n",
              "  <style>\n",
              "    .colab-df-container {\n",
              "      display:flex;\n",
              "      flex-wrap:wrap;\n",
              "      gap: 12px;\n",
              "    }\n",
              "\n",
              "    .colab-df-convert {\n",
              "      background-color: #E8F0FE;\n",
              "      border: none;\n",
              "      border-radius: 50%;\n",
              "      cursor: pointer;\n",
              "      display: none;\n",
              "      fill: #1967D2;\n",
              "      height: 32px;\n",
              "      padding: 0 0 0 0;\n",
              "      width: 32px;\n",
              "    }\n",
              "\n",
              "    .colab-df-convert:hover {\n",
              "      background-color: #E2EBFA;\n",
              "      box-shadow: 0px 1px 2px rgba(60, 64, 67, 0.3), 0px 1px 3px 1px rgba(60, 64, 67, 0.15);\n",
              "      fill: #174EA6;\n",
              "    }\n",
              "\n",
              "    [theme=dark] .colab-df-convert {\n",
              "      background-color: #3B4455;\n",
              "      fill: #D2E3FC;\n",
              "    }\n",
              "\n",
              "    [theme=dark] .colab-df-convert:hover {\n",
              "      background-color: #434B5C;\n",
              "      box-shadow: 0px 1px 3px 1px rgba(0, 0, 0, 0.15);\n",
              "      filter: drop-shadow(0px 1px 2px rgba(0, 0, 0, 0.3));\n",
              "      fill: #FFFFFF;\n",
              "    }\n",
              "  </style>\n",
              "\n",
              "      <script>\n",
              "        const buttonEl =\n",
              "          document.querySelector('#df-591f2c60-390e-464c-a759-8e5a8b2cb609 button.colab-df-convert');\n",
              "        buttonEl.style.display =\n",
              "          google.colab.kernel.accessAllowed ? 'block' : 'none';\n",
              "\n",
              "        async function convertToInteractive(key) {\n",
              "          const element = document.querySelector('#df-591f2c60-390e-464c-a759-8e5a8b2cb609');\n",
              "          const dataTable =\n",
              "            await google.colab.kernel.invokeFunction('convertToInteractive',\n",
              "                                                     [key], {});\n",
              "          if (!dataTable) return;\n",
              "\n",
              "          const docLinkHtml = 'Like what you see? Visit the ' +\n",
              "            '<a target=\"_blank\" href=https://colab.research.google.com/notebooks/data_table.ipynb>data table notebook</a>'\n",
              "            + ' to learn more about interactive tables.';\n",
              "          element.innerHTML = '';\n",
              "          dataTable['output_type'] = 'display_data';\n",
              "          await google.colab.output.renderOutput(dataTable, element);\n",
              "          const docLink = document.createElement('div');\n",
              "          docLink.innerHTML = docLinkHtml;\n",
              "          element.appendChild(docLink);\n",
              "        }\n",
              "      </script>\n",
              "    </div>\n",
              "  </div>\n",
              "  "
            ]
          },
          "metadata": {},
          "execution_count": 56
        }
      ]
    },
    {
      "cell_type": "code",
      "source": [
        "df['Date']=df.index"
      ],
      "metadata": {
        "id": "9unXMmHP9dBl"
      },
      "execution_count": 57,
      "outputs": []
    },
    {
      "cell_type": "code",
      "source": [
        "start_date='2016-01-01'\n",
        "end_date='2020-12-31'\n",
        "mask=(df['Date']>=start_date)&(df['Date']<=end_date)"
      ],
      "metadata": {
        "id": "pmoAuKVz9dEq"
      },
      "execution_count": 58,
      "outputs": []
    },
    {
      "cell_type": "code",
      "source": [
        "df=df.loc[mask]"
      ],
      "metadata": {
        "id": "BuOLMt6t9dHp"
      },
      "execution_count": 59,
      "outputs": []
    },
    {
      "cell_type": "code",
      "source": [
        "df=df.drop(columns=['Series','Symbol','Open','High','Low','Last','Close','VWAP','Volume','Turnover','Trades','Deliverable Volume','%Deliverble','Date'])"
      ],
      "metadata": {
        "id": "5w_ZXVOL9dKu"
      },
      "execution_count": 60,
      "outputs": []
    },
    {
      "cell_type": "code",
      "source": [
        "Ntest=math.trunc(0.3*len(df))\n",
        "train=df.iloc[:-Ntest]\n",
        "test=df.iloc[-Ntest:]"
      ],
      "metadata": {
        "id": "Pd6Tf8ub9dNk"
      },
      "execution_count": 61,
      "outputs": []
    },
    {
      "cell_type": "code",
      "source": [
        "train_idx=df.index<=train.index[-1]\n",
        "test_idx=df.index>train.index[-1]"
      ],
      "metadata": {
        "id": "fFr5cqWk9dQ4"
      },
      "execution_count": 62,
      "outputs": []
    },
    {
      "cell_type": "code",
      "source": [
        "df['Diff Prev Close']=df['Prev Close'].diff()"
      ],
      "metadata": {
        "id": "bTleMRdL9dTP"
      },
      "execution_count": 63,
      "outputs": []
    },
    {
      "cell_type": "code",
      "source": [
        "series=df['Diff Prev Close'].dropna().to_numpy()\n",
        "\n",
        "T=50\n",
        "X=[]\n",
        "Y=[]\n",
        "for t in range(len(series)-T):\n",
        "  x=series[t:t+T]\n",
        "  X.append(x)\n",
        "  y=series[t+T]\n",
        "  Y.append(y)\n",
        "\n",
        "X=np.array(X).reshape(-1,T)\n",
        "Y=np.array(Y)\n",
        "N=len(X)\n",
        "print(\"X.shape\",X.shape,\"Y.shape\",Y.shape)"
      ],
      "metadata": {
        "colab": {
          "base_uri": "https://localhost:8080/"
        },
        "id": "-faJTkyl9dWV",
        "outputId": "8b676a2e-d402-4571-e8fc-a5cf8a194cc8"
      },
      "execution_count": 64,
      "outputs": [
        {
          "output_type": "stream",
          "name": "stdout",
          "text": [
            "X.shape (1187, 50) Y.shape (1187,)\n"
          ]
        }
      ]
    },
    {
      "cell_type": "code",
      "source": [
        "Xtrain,Ytrain=X[:-Ntest],Y[:-Ntest]\n",
        "Xtest,Ytest=X[-Ntest:],Y[-Ntest:]"
      ],
      "metadata": {
        "id": "blHqq_g-9dY_"
      },
      "execution_count": 65,
      "outputs": []
    },
    {
      "cell_type": "markdown",
      "source": [
        "LSTM+CNN"
      ],
      "metadata": {
        "id": "ir_desj398LI"
      }
    },
    {
      "cell_type": "code",
      "source": [
        "i=Input(shape=(T,1))\n",
        "x=LSTM(200,return_sequences=True)(i)\n",
        "x=LSTM(200,return_sequences=True)(x)\n",
        "x=Dense(100)(x)\n",
        "x=Dense(50)(x)\n",
        "x=Conv1D(25,3,activation='relu')(i)\n",
        "x=MaxPooling1D(2)(x)\n",
        "x=Conv1D(50,3,activation='relu')(x)\n",
        "x=GlobalMaxPool1D()(x)\n",
        "x=Dense(1)(x)\n",
        "model_lstm_cnn=Model(i,x)\n",
        "model_lstm_cnn.summary()"
      ],
      "metadata": {
        "colab": {
          "base_uri": "https://localhost:8080/"
        },
        "id": "vvKQKCrr96yo",
        "outputId": "59b5563e-b320-47a4-bb2a-e15e52fdedcd"
      },
      "execution_count": 66,
      "outputs": [
        {
          "output_type": "stream",
          "name": "stdout",
          "text": [
            "Model: \"model_3\"\n",
            "_________________________________________________________________\n",
            " Layer (type)                Output Shape              Param #   \n",
            "=================================================================\n",
            " input_4 (InputLayer)        [(None, 50, 1)]           0         \n",
            "                                                                 \n",
            " conv1d_2 (Conv1D)           (None, 48, 25)            100       \n",
            "                                                                 \n",
            " max_pooling1d_1 (MaxPooling  (None, 24, 25)           0         \n",
            " 1D)                                                             \n",
            "                                                                 \n",
            " conv1d_3 (Conv1D)           (None, 22, 50)            3800      \n",
            "                                                                 \n",
            " global_max_pooling1d_3 (Glo  (None, 50)               0         \n",
            " balMaxPooling1D)                                                \n",
            "                                                                 \n",
            " dense_15 (Dense)            (None, 1)                 51        \n",
            "                                                                 \n",
            "=================================================================\n",
            "Total params: 3,951\n",
            "Trainable params: 3,951\n",
            "Non-trainable params: 0\n",
            "_________________________________________________________________\n"
          ]
        }
      ]
    },
    {
      "cell_type": "code",
      "source": [
        "check_point_lstm_cnn=ModelCheckpoint('best_model.h5',monitor='val_loss',save_best_only=True)"
      ],
      "metadata": {
        "id": "nH-bqzYc967w"
      },
      "execution_count": 67,
      "outputs": []
    },
    {
      "cell_type": "code",
      "source": [
        "model_lstm_cnn.compile(loss='mse',\n",
        "              optimizer='adamax',\n",
        "              metrics=['mae','mse'])"
      ],
      "metadata": {
        "id": "pSNLhWam97B2"
      },
      "execution_count": 68,
      "outputs": []
    },
    {
      "cell_type": "code",
      "source": [
        "r=model_lstm_cnn.fit(\n",
        "    Xtrain,\n",
        "    Ytrain,\n",
        "    epochs=100,\n",
        "    validation_data=(Xtest,Ytest),\n",
        "    callbacks=[check_point_lstm_cnn]\n",
        ")"
      ],
      "metadata": {
        "colab": {
          "base_uri": "https://localhost:8080/"
        },
        "id": "YMfLEKjw97Hd",
        "outputId": "35a69eb3-6e27-401b-f0bd-e46f3782c669"
      },
      "execution_count": 69,
      "outputs": [
        {
          "output_type": "stream",
          "name": "stdout",
          "text": [
            "Epoch 1/100\n",
            "26/26 [==============================] - 1s 15ms/step - loss: 844.5764 - mae: 11.8897 - mse: 844.5764 - val_loss: 334.3073 - val_mae: 12.4022 - val_mse: 334.3073\n",
            "Epoch 2/100\n",
            "26/26 [==============================] - 0s 8ms/step - loss: 811.5859 - mae: 11.4673 - mse: 811.5859 - val_loss: 333.1085 - val_mae: 12.3499 - val_mse: 333.1085\n",
            "Epoch 3/100\n",
            "26/26 [==============================] - 0s 7ms/step - loss: 807.7812 - mae: 11.3835 - mse: 807.7812 - val_loss: 335.3872 - val_mae: 12.4130 - val_mse: 335.3872\n",
            "Epoch 4/100\n",
            "26/26 [==============================] - 0s 7ms/step - loss: 804.9677 - mae: 11.3642 - mse: 804.9677 - val_loss: 335.2559 - val_mae: 12.4010 - val_mse: 335.2559\n",
            "Epoch 5/100\n",
            "26/26 [==============================] - 0s 8ms/step - loss: 802.0715 - mae: 11.3020 - mse: 802.0715 - val_loss: 335.8058 - val_mae: 12.4250 - val_mse: 335.8058\n",
            "Epoch 6/100\n",
            "26/26 [==============================] - 0s 8ms/step - loss: 801.0995 - mae: 11.3433 - mse: 801.0995 - val_loss: 336.5551 - val_mae: 12.4322 - val_mse: 336.5551\n",
            "Epoch 7/100\n",
            "26/26 [==============================] - 0s 8ms/step - loss: 797.9477 - mae: 11.2522 - mse: 797.9477 - val_loss: 336.1198 - val_mae: 12.4284 - val_mse: 336.1198\n",
            "Epoch 8/100\n",
            "26/26 [==============================] - 0s 9ms/step - loss: 797.2656 - mae: 11.2772 - mse: 797.2656 - val_loss: 335.7491 - val_mae: 12.4232 - val_mse: 335.7491\n",
            "Epoch 9/100\n",
            "26/26 [==============================] - 0s 9ms/step - loss: 795.5591 - mae: 11.2414 - mse: 795.5591 - val_loss: 336.0482 - val_mae: 12.4263 - val_mse: 336.0482\n",
            "Epoch 10/100\n",
            "26/26 [==============================] - 0s 7ms/step - loss: 794.7806 - mae: 11.2506 - mse: 794.7806 - val_loss: 338.3566 - val_mae: 12.4942 - val_mse: 338.3566\n",
            "Epoch 11/100\n",
            "26/26 [==============================] - 0s 8ms/step - loss: 793.2486 - mae: 11.2346 - mse: 793.2486 - val_loss: 336.0348 - val_mae: 12.4220 - val_mse: 336.0348\n",
            "Epoch 12/100\n",
            "26/26 [==============================] - 0s 7ms/step - loss: 793.8121 - mae: 11.2240 - mse: 793.8121 - val_loss: 335.4583 - val_mae: 12.4251 - val_mse: 335.4583\n",
            "Epoch 13/100\n",
            "26/26 [==============================] - 0s 8ms/step - loss: 792.5565 - mae: 11.2340 - mse: 792.5565 - val_loss: 337.1776 - val_mae: 12.4742 - val_mse: 337.1776\n",
            "Epoch 14/100\n",
            "26/26 [==============================] - 0s 7ms/step - loss: 791.3745 - mae: 11.2477 - mse: 791.3745 - val_loss: 335.7607 - val_mae: 12.4340 - val_mse: 335.7607\n",
            "Epoch 15/100\n",
            "26/26 [==============================] - 0s 7ms/step - loss: 789.5340 - mae: 11.2071 - mse: 789.5340 - val_loss: 334.3061 - val_mae: 12.3906 - val_mse: 334.3061\n",
            "Epoch 16/100\n",
            "26/26 [==============================] - 0s 7ms/step - loss: 788.5130 - mae: 11.2035 - mse: 788.5130 - val_loss: 335.7402 - val_mae: 12.4442 - val_mse: 335.7402\n",
            "Epoch 17/100\n",
            "26/26 [==============================] - 0s 9ms/step - loss: 788.4423 - mae: 11.2236 - mse: 788.4423 - val_loss: 340.3596 - val_mae: 12.5737 - val_mse: 340.3596\n",
            "Epoch 18/100\n",
            "26/26 [==============================] - 0s 7ms/step - loss: 793.0847 - mae: 11.3635 - mse: 793.0847 - val_loss: 341.4438 - val_mae: 12.6209 - val_mse: 341.4438\n",
            "Epoch 19/100\n",
            "26/26 [==============================] - 0s 8ms/step - loss: 790.3477 - mae: 11.2441 - mse: 790.3477 - val_loss: 335.8505 - val_mae: 12.4540 - val_mse: 335.8505\n",
            "Epoch 20/100\n",
            "26/26 [==============================] - 0s 7ms/step - loss: 785.5962 - mae: 11.1653 - mse: 785.5962 - val_loss: 335.9574 - val_mae: 12.4503 - val_mse: 335.9574\n",
            "Epoch 21/100\n",
            "26/26 [==============================] - 0s 7ms/step - loss: 785.7572 - mae: 11.1866 - mse: 785.7572 - val_loss: 334.6306 - val_mae: 12.4280 - val_mse: 334.6306\n",
            "Epoch 22/100\n",
            "26/26 [==============================] - 0s 7ms/step - loss: 785.5650 - mae: 11.1456 - mse: 785.5650 - val_loss: 339.9004 - val_mae: 12.5681 - val_mse: 339.9004\n",
            "Epoch 23/100\n",
            "26/26 [==============================] - 0s 8ms/step - loss: 785.5900 - mae: 11.1691 - mse: 785.5900 - val_loss: 335.2212 - val_mae: 12.4401 - val_mse: 335.2212\n",
            "Epoch 24/100\n",
            "26/26 [==============================] - 0s 8ms/step - loss: 782.5325 - mae: 11.1198 - mse: 782.5325 - val_loss: 337.2151 - val_mae: 12.4996 - val_mse: 337.2151\n",
            "Epoch 25/100\n",
            "26/26 [==============================] - 0s 7ms/step - loss: 783.0049 - mae: 11.1301 - mse: 783.0049 - val_loss: 335.0291 - val_mae: 12.4386 - val_mse: 335.0291\n",
            "Epoch 26/100\n",
            "26/26 [==============================] - 0s 9ms/step - loss: 781.7851 - mae: 11.1128 - mse: 781.7851 - val_loss: 335.5647 - val_mae: 12.4479 - val_mse: 335.5647\n",
            "Epoch 27/100\n",
            "26/26 [==============================] - 0s 7ms/step - loss: 781.8185 - mae: 11.1591 - mse: 781.8185 - val_loss: 335.9081 - val_mae: 12.4671 - val_mse: 335.9081\n",
            "Epoch 28/100\n",
            "26/26 [==============================] - 0s 6ms/step - loss: 781.8284 - mae: 11.2035 - mse: 781.8284 - val_loss: 333.8258 - val_mae: 12.4056 - val_mse: 333.8258\n",
            "Epoch 29/100\n",
            "26/26 [==============================] - 0s 7ms/step - loss: 779.6081 - mae: 11.0923 - mse: 779.6081 - val_loss: 337.4888 - val_mae: 12.5185 - val_mse: 337.4888\n",
            "Epoch 30/100\n",
            "26/26 [==============================] - 0s 7ms/step - loss: 779.7765 - mae: 11.1400 - mse: 779.7765 - val_loss: 334.5741 - val_mae: 12.4349 - val_mse: 334.5741\n",
            "Epoch 31/100\n",
            "26/26 [==============================] - 0s 8ms/step - loss: 778.4839 - mae: 11.0904 - mse: 778.4839 - val_loss: 336.0739 - val_mae: 12.4765 - val_mse: 336.0739\n",
            "Epoch 32/100\n",
            "26/26 [==============================] - 0s 7ms/step - loss: 778.6255 - mae: 11.1420 - mse: 778.6255 - val_loss: 334.4253 - val_mae: 12.4173 - val_mse: 334.4253\n",
            "Epoch 33/100\n",
            "26/26 [==============================] - 0s 8ms/step - loss: 778.2808 - mae: 11.1475 - mse: 778.2808 - val_loss: 335.0635 - val_mae: 12.4499 - val_mse: 335.0635\n",
            "Epoch 34/100\n",
            "26/26 [==============================] - 0s 8ms/step - loss: 776.6283 - mae: 11.0721 - mse: 776.6283 - val_loss: 336.7316 - val_mae: 12.5044 - val_mse: 336.7316\n",
            "Epoch 35/100\n",
            "26/26 [==============================] - 0s 9ms/step - loss: 777.2673 - mae: 11.1024 - mse: 777.2673 - val_loss: 334.5260 - val_mae: 12.4324 - val_mse: 334.5260\n",
            "Epoch 36/100\n",
            "26/26 [==============================] - 0s 7ms/step - loss: 775.7596 - mae: 11.0806 - mse: 775.7596 - val_loss: 335.1584 - val_mae: 12.4478 - val_mse: 335.1584\n",
            "Epoch 37/100\n",
            "26/26 [==============================] - 0s 7ms/step - loss: 775.3407 - mae: 11.1252 - mse: 775.3407 - val_loss: 335.4543 - val_mae: 12.4446 - val_mse: 335.4543\n",
            "Epoch 38/100\n",
            "26/26 [==============================] - 0s 8ms/step - loss: 777.2154 - mae: 11.1725 - mse: 777.2154 - val_loss: 334.7480 - val_mae: 12.4348 - val_mse: 334.7480\n",
            "Epoch 39/100\n",
            "26/26 [==============================] - 0s 7ms/step - loss: 774.8820 - mae: 11.1078 - mse: 774.8820 - val_loss: 336.7559 - val_mae: 12.4950 - val_mse: 336.7559\n",
            "Epoch 40/100\n",
            "26/26 [==============================] - 0s 9ms/step - loss: 774.9747 - mae: 11.1023 - mse: 774.9747 - val_loss: 337.9755 - val_mae: 12.5458 - val_mse: 337.9755\n",
            "Epoch 41/100\n",
            "26/26 [==============================] - 0s 7ms/step - loss: 775.9650 - mae: 11.1447 - mse: 775.9650 - val_loss: 337.5341 - val_mae: 12.5276 - val_mse: 337.5341\n",
            "Epoch 42/100\n",
            "26/26 [==============================] - 0s 8ms/step - loss: 772.3676 - mae: 11.1027 - mse: 772.3676 - val_loss: 334.8929 - val_mae: 12.4294 - val_mse: 334.8929\n",
            "Epoch 43/100\n",
            "26/26 [==============================] - 0s 8ms/step - loss: 772.0781 - mae: 11.0870 - mse: 772.0781 - val_loss: 337.9911 - val_mae: 12.5486 - val_mse: 337.9911\n",
            "Epoch 44/100\n",
            "26/26 [==============================] - 0s 7ms/step - loss: 778.0549 - mae: 11.2469 - mse: 778.0549 - val_loss: 338.2012 - val_mae: 12.5414 - val_mse: 338.2012\n",
            "Epoch 45/100\n",
            "26/26 [==============================] - 0s 7ms/step - loss: 772.0875 - mae: 11.0938 - mse: 772.0875 - val_loss: 336.7520 - val_mae: 12.4932 - val_mse: 336.7520\n",
            "Epoch 46/100\n",
            "26/26 [==============================] - 0s 7ms/step - loss: 772.3254 - mae: 11.1062 - mse: 772.3254 - val_loss: 339.0953 - val_mae: 12.5696 - val_mse: 339.0953\n",
            "Epoch 47/100\n",
            "26/26 [==============================] - 0s 7ms/step - loss: 771.9487 - mae: 11.1390 - mse: 771.9487 - val_loss: 337.0157 - val_mae: 12.4970 - val_mse: 337.0157\n",
            "Epoch 48/100\n",
            "26/26 [==============================] - 0s 7ms/step - loss: 772.2350 - mae: 11.1211 - mse: 772.2350 - val_loss: 334.4712 - val_mae: 12.4260 - val_mse: 334.4712\n",
            "Epoch 49/100\n",
            "26/26 [==============================] - 0s 7ms/step - loss: 769.4369 - mae: 11.0876 - mse: 769.4369 - val_loss: 336.9157 - val_mae: 12.4922 - val_mse: 336.9157\n",
            "Epoch 50/100\n",
            "26/26 [==============================] - 0s 8ms/step - loss: 769.7583 - mae: 11.0835 - mse: 769.7583 - val_loss: 333.7265 - val_mae: 12.4069 - val_mse: 333.7265\n",
            "Epoch 51/100\n",
            "26/26 [==============================] - 0s 8ms/step - loss: 773.5541 - mae: 11.2510 - mse: 773.5541 - val_loss: 336.3462 - val_mae: 12.4788 - val_mse: 336.3462\n",
            "Epoch 52/100\n",
            "26/26 [==============================] - 0s 7ms/step - loss: 771.0682 - mae: 11.1021 - mse: 771.0682 - val_loss: 335.1620 - val_mae: 12.4403 - val_mse: 335.1620\n",
            "Epoch 53/100\n",
            "26/26 [==============================] - 0s 9ms/step - loss: 768.7836 - mae: 11.1080 - mse: 768.7836 - val_loss: 336.2178 - val_mae: 12.4743 - val_mse: 336.2178\n",
            "Epoch 54/100\n",
            "26/26 [==============================] - 0s 8ms/step - loss: 767.8868 - mae: 11.0841 - mse: 767.8868 - val_loss: 338.2679 - val_mae: 12.5349 - val_mse: 338.2679\n",
            "Epoch 55/100\n",
            "26/26 [==============================] - 0s 8ms/step - loss: 766.9029 - mae: 11.0396 - mse: 766.9029 - val_loss: 338.8909 - val_mae: 12.5523 - val_mse: 338.8909\n",
            "Epoch 56/100\n",
            "26/26 [==============================] - 0s 8ms/step - loss: 766.6571 - mae: 11.0385 - mse: 766.6571 - val_loss: 335.6277 - val_mae: 12.4660 - val_mse: 335.6277\n",
            "Epoch 57/100\n",
            "26/26 [==============================] - 0s 8ms/step - loss: 771.3804 - mae: 11.2199 - mse: 771.3804 - val_loss: 334.4177 - val_mae: 12.4295 - val_mse: 334.4177\n",
            "Epoch 58/100\n",
            "26/26 [==============================] - 0s 7ms/step - loss: 768.5760 - mae: 11.1188 - mse: 768.5760 - val_loss: 336.4507 - val_mae: 12.4823 - val_mse: 336.4507\n",
            "Epoch 59/100\n",
            "26/26 [==============================] - 0s 6ms/step - loss: 767.8746 - mae: 11.1376 - mse: 767.8746 - val_loss: 338.0572 - val_mae: 12.5438 - val_mse: 338.0572\n",
            "Epoch 60/100\n",
            "26/26 [==============================] - 0s 7ms/step - loss: 767.4435 - mae: 11.1328 - mse: 767.4435 - val_loss: 338.0274 - val_mae: 12.5355 - val_mse: 338.0274\n",
            "Epoch 61/100\n",
            "26/26 [==============================] - 0s 8ms/step - loss: 765.2707 - mae: 11.0677 - mse: 765.2707 - val_loss: 336.3429 - val_mae: 12.4895 - val_mse: 336.3429\n",
            "Epoch 62/100\n",
            "26/26 [==============================] - 0s 8ms/step - loss: 765.3588 - mae: 11.1090 - mse: 765.3588 - val_loss: 338.3929 - val_mae: 12.5467 - val_mse: 338.3929\n",
            "Epoch 63/100\n",
            "26/26 [==============================] - 0s 8ms/step - loss: 763.3114 - mae: 11.0403 - mse: 763.3114 - val_loss: 337.9426 - val_mae: 12.5131 - val_mse: 337.9426\n",
            "Epoch 64/100\n",
            "26/26 [==============================] - 0s 7ms/step - loss: 763.9343 - mae: 11.0652 - mse: 763.9343 - val_loss: 336.2747 - val_mae: 12.4757 - val_mse: 336.2747\n",
            "Epoch 65/100\n",
            "26/26 [==============================] - 0s 7ms/step - loss: 764.6390 - mae: 11.1332 - mse: 764.6390 - val_loss: 338.6173 - val_mae: 12.5623 - val_mse: 338.6173\n",
            "Epoch 66/100\n",
            "26/26 [==============================] - 0s 7ms/step - loss: 763.2845 - mae: 11.0758 - mse: 763.2845 - val_loss: 338.3638 - val_mae: 12.5308 - val_mse: 338.3638\n",
            "Epoch 67/100\n",
            "26/26 [==============================] - 0s 7ms/step - loss: 762.4196 - mae: 11.0440 - mse: 762.4196 - val_loss: 337.5446 - val_mae: 12.5111 - val_mse: 337.5446\n",
            "Epoch 68/100\n",
            "26/26 [==============================] - 0s 8ms/step - loss: 761.5122 - mae: 11.0443 - mse: 761.5122 - val_loss: 339.3669 - val_mae: 12.5596 - val_mse: 339.3669\n",
            "Epoch 69/100\n",
            "26/26 [==============================] - 0s 7ms/step - loss: 760.6458 - mae: 11.0828 - mse: 760.6458 - val_loss: 337.4824 - val_mae: 12.5118 - val_mse: 337.4824\n",
            "Epoch 70/100\n",
            "26/26 [==============================] - 0s 9ms/step - loss: 759.6570 - mae: 11.0155 - mse: 759.6570 - val_loss: 339.1121 - val_mae: 12.5588 - val_mse: 339.1121\n",
            "Epoch 71/100\n",
            "26/26 [==============================] - 0s 7ms/step - loss: 760.6276 - mae: 11.0959 - mse: 760.6276 - val_loss: 337.2807 - val_mae: 12.4942 - val_mse: 337.2807\n",
            "Epoch 72/100\n",
            "26/26 [==============================] - 0s 8ms/step - loss: 757.9895 - mae: 11.0111 - mse: 757.9895 - val_loss: 340.2525 - val_mae: 12.6008 - val_mse: 340.2525\n",
            "Epoch 73/100\n",
            "26/26 [==============================] - 0s 7ms/step - loss: 762.8441 - mae: 11.1218 - mse: 762.8441 - val_loss: 338.8090 - val_mae: 12.5522 - val_mse: 338.8090\n",
            "Epoch 74/100\n",
            "26/26 [==============================] - 0s 7ms/step - loss: 760.9631 - mae: 11.0922 - mse: 760.9631 - val_loss: 338.1558 - val_mae: 12.5198 - val_mse: 338.1558\n",
            "Epoch 75/100\n",
            "26/26 [==============================] - 0s 7ms/step - loss: 758.9882 - mae: 11.0720 - mse: 758.9882 - val_loss: 339.7885 - val_mae: 12.5638 - val_mse: 339.7885\n",
            "Epoch 76/100\n",
            "26/26 [==============================] - 0s 8ms/step - loss: 757.9429 - mae: 11.0357 - mse: 757.9429 - val_loss: 340.0626 - val_mae: 12.5699 - val_mse: 340.0626\n",
            "Epoch 77/100\n",
            "26/26 [==============================] - 0s 8ms/step - loss: 756.7073 - mae: 11.0294 - mse: 756.7073 - val_loss: 337.9628 - val_mae: 12.5111 - val_mse: 337.9628\n",
            "Epoch 78/100\n",
            "26/26 [==============================] - 0s 7ms/step - loss: 757.3727 - mae: 11.0691 - mse: 757.3727 - val_loss: 339.3531 - val_mae: 12.5487 - val_mse: 339.3531\n",
            "Epoch 79/100\n",
            "26/26 [==============================] - 0s 7ms/step - loss: 756.2396 - mae: 10.9973 - mse: 756.2396 - val_loss: 341.3421 - val_mae: 12.6124 - val_mse: 341.3421\n",
            "Epoch 80/100\n",
            "26/26 [==============================] - 0s 7ms/step - loss: 757.5523 - mae: 11.1198 - mse: 757.5523 - val_loss: 343.4823 - val_mae: 12.6922 - val_mse: 343.4823\n",
            "Epoch 81/100\n",
            "26/26 [==============================] - 0s 7ms/step - loss: 758.7198 - mae: 11.1599 - mse: 758.7198 - val_loss: 338.0076 - val_mae: 12.5111 - val_mse: 338.0076\n",
            "Epoch 82/100\n",
            "26/26 [==============================] - 0s 7ms/step - loss: 757.5988 - mae: 11.0594 - mse: 757.5988 - val_loss: 338.4652 - val_mae: 12.5341 - val_mse: 338.4652\n",
            "Epoch 83/100\n",
            "26/26 [==============================] - 0s 8ms/step - loss: 757.1033 - mae: 11.1127 - mse: 757.1033 - val_loss: 338.2896 - val_mae: 12.5217 - val_mse: 338.2896\n",
            "Epoch 84/100\n",
            "26/26 [==============================] - 0s 7ms/step - loss: 755.7788 - mae: 11.0782 - mse: 755.7788 - val_loss: 339.9097 - val_mae: 12.5583 - val_mse: 339.9097\n",
            "Epoch 85/100\n",
            "26/26 [==============================] - 0s 7ms/step - loss: 755.8923 - mae: 11.0641 - mse: 755.8923 - val_loss: 340.6310 - val_mae: 12.5779 - val_mse: 340.6310\n",
            "Epoch 86/100\n",
            "26/26 [==============================] - 0s 9ms/step - loss: 754.4130 - mae: 11.0409 - mse: 754.4130 - val_loss: 338.2038 - val_mae: 12.5107 - val_mse: 338.2038\n",
            "Epoch 87/100\n",
            "26/26 [==============================] - 0s 8ms/step - loss: 753.5751 - mae: 11.0406 - mse: 753.5751 - val_loss: 339.9579 - val_mae: 12.5531 - val_mse: 339.9579\n",
            "Epoch 88/100\n",
            "26/26 [==============================] - 0s 7ms/step - loss: 753.8820 - mae: 11.0616 - mse: 753.8820 - val_loss: 338.8713 - val_mae: 12.5202 - val_mse: 338.8713\n",
            "Epoch 89/100\n",
            "26/26 [==============================] - 0s 7ms/step - loss: 756.7950 - mae: 11.1800 - mse: 756.7950 - val_loss: 338.3670 - val_mae: 12.5180 - val_mse: 338.3670\n",
            "Epoch 90/100\n",
            "26/26 [==============================] - 0s 8ms/step - loss: 751.9696 - mae: 11.0776 - mse: 751.9696 - val_loss: 341.2468 - val_mae: 12.5859 - val_mse: 341.2468\n",
            "Epoch 91/100\n",
            "26/26 [==============================] - 0s 9ms/step - loss: 751.1039 - mae: 11.0218 - mse: 751.1039 - val_loss: 341.2927 - val_mae: 12.5881 - val_mse: 341.2927\n",
            "Epoch 92/100\n",
            "26/26 [==============================] - 0s 8ms/step - loss: 750.8380 - mae: 11.0316 - mse: 750.8380 - val_loss: 340.0310 - val_mae: 12.5568 - val_mse: 340.0310\n",
            "Epoch 93/100\n",
            "26/26 [==============================] - 0s 8ms/step - loss: 750.8591 - mae: 11.0330 - mse: 750.8591 - val_loss: 340.5145 - val_mae: 12.5673 - val_mse: 340.5145\n",
            "Epoch 94/100\n",
            "26/26 [==============================] - 0s 8ms/step - loss: 749.7620 - mae: 11.0092 - mse: 749.7620 - val_loss: 342.3656 - val_mae: 12.6229 - val_mse: 342.3656\n",
            "Epoch 95/100\n",
            "26/26 [==============================] - 0s 7ms/step - loss: 750.8963 - mae: 11.0734 - mse: 750.8963 - val_loss: 339.9590 - val_mae: 12.5489 - val_mse: 339.9590\n",
            "Epoch 96/100\n",
            "26/26 [==============================] - 0s 8ms/step - loss: 751.0083 - mae: 11.0543 - mse: 751.0083 - val_loss: 341.1373 - val_mae: 12.5852 - val_mse: 341.1373\n",
            "Epoch 97/100\n",
            "26/26 [==============================] - 0s 8ms/step - loss: 749.5596 - mae: 11.0627 - mse: 749.5596 - val_loss: 340.0698 - val_mae: 12.5552 - val_mse: 340.0698\n",
            "Epoch 98/100\n",
            "26/26 [==============================] - 0s 8ms/step - loss: 748.7491 - mae: 11.0023 - mse: 748.7491 - val_loss: 341.3305 - val_mae: 12.5891 - val_mse: 341.3305\n",
            "Epoch 99/100\n",
            "26/26 [==============================] - 0s 8ms/step - loss: 747.8939 - mae: 11.0014 - mse: 747.8939 - val_loss: 341.3725 - val_mae: 12.5793 - val_mse: 341.3725\n",
            "Epoch 100/100\n",
            "26/26 [==============================] - 0s 9ms/step - loss: 748.1963 - mae: 11.0272 - mse: 748.1963 - val_loss: 340.0956 - val_mae: 12.5537 - val_mse: 340.0956\n"
          ]
        }
      ]
    },
    {
      "cell_type": "markdown",
      "source": [
        "LSTM+GRU"
      ],
      "metadata": {
        "id": "5TW_EAhE-iWs"
      }
    },
    {
      "cell_type": "code",
      "source": [
        "i=Input(shape=(T,1))\n",
        "x=LSTM(200,return_sequences=True)(i)\n",
        "x=LSTM(200,return_sequences=True)(x)\n",
        "x=Dense(100)(x)\n",
        "x=Dense(50)(x)\n",
        "x=GRU(200,return_sequences=True)(x)\n",
        "x=GRU(200,return_sequences=True)(x)\n",
        "x=GlobalMaxPool1D()(x)\n",
        "x=Dense(100)(x)\n",
        "x=Dense(50)(x)\n",
        "x=Dense(1)(x)\n",
        "model_lstm_gru=Model(i,x)\n",
        "model_lstm_gru.summary()"
      ],
      "metadata": {
        "colab": {
          "base_uri": "https://localhost:8080/"
        },
        "id": "5MFW_hNA-UIb",
        "outputId": "7aa96b02-79c3-49ab-b6be-2f5d9d8b6eb8"
      },
      "execution_count": 70,
      "outputs": [
        {
          "output_type": "stream",
          "name": "stdout",
          "text": [
            "Model: \"model_4\"\n",
            "_________________________________________________________________\n",
            " Layer (type)                Output Shape              Param #   \n",
            "=================================================================\n",
            " input_5 (InputLayer)        [(None, 50, 1)]           0         \n",
            "                                                                 \n",
            " lstm_8 (LSTM)               (None, 50, 200)           161600    \n",
            "                                                                 \n",
            " lstm_9 (LSTM)               (None, 50, 200)           320800    \n",
            "                                                                 \n",
            " dense_16 (Dense)            (None, 50, 100)           20100     \n",
            "                                                                 \n",
            " dense_17 (Dense)            (None, 50, 50)            5050      \n",
            "                                                                 \n",
            " gru_4 (GRU)                 (None, 50, 200)           151200    \n",
            "                                                                 \n",
            " gru_5 (GRU)                 (None, 50, 200)           241200    \n",
            "                                                                 \n",
            " global_max_pooling1d_4 (Glo  (None, 200)              0         \n",
            " balMaxPooling1D)                                                \n",
            "                                                                 \n",
            " dense_18 (Dense)            (None, 100)               20100     \n",
            "                                                                 \n",
            " dense_19 (Dense)            (None, 50)                5050      \n",
            "                                                                 \n",
            " dense_20 (Dense)            (None, 1)                 51        \n",
            "                                                                 \n",
            "=================================================================\n",
            "Total params: 925,151\n",
            "Trainable params: 925,151\n",
            "Non-trainable params: 0\n",
            "_________________________________________________________________\n"
          ]
        }
      ]
    },
    {
      "cell_type": "code",
      "source": [
        "check_point_lstm_gru=ModelCheckpoint('best_model.h5',monitor='val_loss',save_best_only=True)"
      ],
      "metadata": {
        "id": "bPn2IlMx-pP6"
      },
      "execution_count": 71,
      "outputs": []
    },
    {
      "cell_type": "code",
      "source": [
        "model_lstm_gru.compile(loss='mse',\n",
        "              optimizer='adamax',\n",
        "              metrics=['mae','mse'])"
      ],
      "metadata": {
        "id": "s2W9B-lL-5VS"
      },
      "execution_count": 72,
      "outputs": []
    },
    {
      "cell_type": "code",
      "source": [
        "r=model_lstm_gru.fit(\n",
        "    Xtrain,\n",
        "    Ytrain,\n",
        "    epochs=100,\n",
        "    validation_data=(Xtest,Ytest),\n",
        "    callbacks=[check_point_lstm_gru]\n",
        ")"
      ],
      "metadata": {
        "colab": {
          "base_uri": "https://localhost:8080/"
        },
        "id": "tSfqgZ2w-8KI",
        "outputId": "db04a872-045d-4b31-ef70-54b1c80e38f3"
      },
      "execution_count": 73,
      "outputs": [
        {
          "output_type": "stream",
          "name": "stdout",
          "text": [
            "Epoch 1/100\n",
            "26/26 [==============================] - 24s 614ms/step - loss: 799.4514 - mae: 11.1590 - mse: 799.4514 - val_loss: 332.1073 - val_mae: 12.2564 - val_mse: 332.1073\n",
            "Epoch 2/100\n",
            "26/26 [==============================] - 14s 551ms/step - loss: 799.3150 - mae: 11.1712 - mse: 799.3150 - val_loss: 332.5235 - val_mae: 12.2628 - val_mse: 332.5235\n",
            "Epoch 3/100\n",
            "26/26 [==============================] - 14s 548ms/step - loss: 798.3296 - mae: 11.1527 - mse: 798.3296 - val_loss: 332.6658 - val_mae: 12.2611 - val_mse: 332.6658\n",
            "Epoch 4/100\n",
            "26/26 [==============================] - 14s 549ms/step - loss: 798.2589 - mae: 11.1439 - mse: 798.2589 - val_loss: 333.8315 - val_mae: 12.2928 - val_mse: 333.8315\n",
            "Epoch 5/100\n",
            "26/26 [==============================] - 14s 547ms/step - loss: 797.8931 - mae: 11.1409 - mse: 797.8931 - val_loss: 332.8279 - val_mae: 12.2619 - val_mse: 332.8279\n",
            "Epoch 6/100\n",
            "26/26 [==============================] - 14s 545ms/step - loss: 797.9725 - mae: 11.1910 - mse: 797.9725 - val_loss: 333.1169 - val_mae: 12.2385 - val_mse: 333.1169\n",
            "Epoch 7/100\n",
            "26/26 [==============================] - 14s 547ms/step - loss: 797.2092 - mae: 11.1359 - mse: 797.2092 - val_loss: 333.2228 - val_mae: 12.2620 - val_mse: 333.2228\n",
            "Epoch 8/100\n",
            "26/26 [==============================] - 14s 551ms/step - loss: 795.8041 - mae: 11.1398 - mse: 795.8041 - val_loss: 334.9196 - val_mae: 12.2974 - val_mse: 334.9196\n",
            "Epoch 9/100\n",
            "26/26 [==============================] - 14s 546ms/step - loss: 794.8509 - mae: 11.1762 - mse: 794.8509 - val_loss: 340.4510 - val_mae: 12.4456 - val_mse: 340.4510\n",
            "Epoch 10/100\n",
            "26/26 [==============================] - 14s 549ms/step - loss: 796.2332 - mae: 11.1815 - mse: 796.2332 - val_loss: 338.0847 - val_mae: 12.3638 - val_mse: 338.0847\n",
            "Epoch 11/100\n",
            "26/26 [==============================] - 14s 550ms/step - loss: 793.3983 - mae: 11.2236 - mse: 793.3983 - val_loss: 333.2481 - val_mae: 12.1860 - val_mse: 333.2481\n",
            "Epoch 12/100\n",
            "26/26 [==============================] - 14s 549ms/step - loss: 794.6541 - mae: 11.1351 - mse: 794.6541 - val_loss: 336.2784 - val_mae: 12.2819 - val_mse: 336.2784\n",
            "Epoch 13/100\n",
            "26/26 [==============================] - 14s 552ms/step - loss: 791.2876 - mae: 11.1452 - mse: 791.2876 - val_loss: 336.6390 - val_mae: 12.2573 - val_mse: 336.6390\n",
            "Epoch 14/100\n",
            "26/26 [==============================] - 14s 548ms/step - loss: 790.5427 - mae: 11.2601 - mse: 790.5427 - val_loss: 335.6097 - val_mae: 12.2262 - val_mse: 335.6097\n",
            "Epoch 15/100\n",
            "26/26 [==============================] - 14s 554ms/step - loss: 788.5876 - mae: 11.2350 - mse: 788.5876 - val_loss: 335.8704 - val_mae: 12.2097 - val_mse: 335.8704\n",
            "Epoch 16/100\n",
            "26/26 [==============================] - 14s 558ms/step - loss: 786.0391 - mae: 11.1672 - mse: 786.0391 - val_loss: 337.2469 - val_mae: 12.2511 - val_mse: 337.2469\n",
            "Epoch 17/100\n",
            "26/26 [==============================] - 14s 550ms/step - loss: 785.4293 - mae: 11.1161 - mse: 785.4293 - val_loss: 341.7808 - val_mae: 12.3828 - val_mse: 341.7808\n",
            "Epoch 18/100\n",
            "26/26 [==============================] - 14s 546ms/step - loss: 782.4174 - mae: 11.1602 - mse: 782.4174 - val_loss: 339.4373 - val_mae: 12.2602 - val_mse: 339.4373\n",
            "Epoch 19/100\n",
            "26/26 [==============================] - 14s 546ms/step - loss: 778.0252 - mae: 11.1881 - mse: 778.0252 - val_loss: 342.7123 - val_mae: 12.3337 - val_mse: 342.7123\n",
            "Epoch 20/100\n",
            "26/26 [==============================] - 14s 551ms/step - loss: 774.6932 - mae: 11.1047 - mse: 774.6932 - val_loss: 341.8448 - val_mae: 12.3484 - val_mse: 341.8448\n",
            "Epoch 21/100\n",
            "26/26 [==============================] - 14s 544ms/step - loss: 772.5552 - mae: 11.1421 - mse: 772.5552 - val_loss: 339.9550 - val_mae: 12.3067 - val_mse: 339.9550\n",
            "Epoch 22/100\n",
            "26/26 [==============================] - 14s 548ms/step - loss: 775.8411 - mae: 11.2382 - mse: 775.8411 - val_loss: 351.0370 - val_mae: 12.6787 - val_mse: 351.0370\n",
            "Epoch 23/100\n",
            "26/26 [==============================] - 14s 549ms/step - loss: 784.3636 - mae: 11.1037 - mse: 784.3636 - val_loss: 341.0764 - val_mae: 12.3278 - val_mse: 341.0764\n",
            "Epoch 24/100\n",
            "26/26 [==============================] - 14s 546ms/step - loss: 765.0300 - mae: 11.0768 - mse: 765.0300 - val_loss: 348.7653 - val_mae: 12.4972 - val_mse: 348.7653\n",
            "Epoch 25/100\n",
            "26/26 [==============================] - 14s 552ms/step - loss: 760.5518 - mae: 11.0692 - mse: 760.5518 - val_loss: 349.7738 - val_mae: 12.5046 - val_mse: 349.7738\n",
            "Epoch 26/100\n",
            "26/26 [==============================] - 14s 556ms/step - loss: 758.0232 - mae: 11.1609 - mse: 758.0232 - val_loss: 353.9353 - val_mae: 12.6448 - val_mse: 353.9353\n",
            "Epoch 27/100\n",
            "26/26 [==============================] - 14s 555ms/step - loss: 753.7878 - mae: 11.1392 - mse: 753.7878 - val_loss: 352.9573 - val_mae: 12.5755 - val_mse: 352.9573\n",
            "Epoch 28/100\n",
            "26/26 [==============================] - 14s 547ms/step - loss: 751.8244 - mae: 11.1363 - mse: 751.8244 - val_loss: 349.0186 - val_mae: 12.5308 - val_mse: 349.0186\n",
            "Epoch 29/100\n",
            "26/26 [==============================] - 14s 546ms/step - loss: 750.9778 - mae: 11.1475 - mse: 750.9778 - val_loss: 359.7182 - val_mae: 12.7541 - val_mse: 359.7182\n",
            "Epoch 30/100\n",
            "26/26 [==============================] - 14s 545ms/step - loss: 746.8877 - mae: 11.0908 - mse: 746.8877 - val_loss: 362.2603 - val_mae: 12.7516 - val_mse: 362.2603\n",
            "Epoch 31/100\n",
            "26/26 [==============================] - 14s 546ms/step - loss: 741.7026 - mae: 11.1010 - mse: 741.7026 - val_loss: 369.6926 - val_mae: 12.9776 - val_mse: 369.6926\n",
            "Epoch 32/100\n",
            "26/26 [==============================] - 14s 549ms/step - loss: 739.5483 - mae: 11.1182 - mse: 739.5483 - val_loss: 362.6707 - val_mae: 12.7959 - val_mse: 362.6707\n",
            "Epoch 33/100\n",
            "26/26 [==============================] - 14s 545ms/step - loss: 742.5805 - mae: 11.1120 - mse: 742.5805 - val_loss: 374.3601 - val_mae: 13.1407 - val_mse: 374.3601\n",
            "Epoch 34/100\n",
            "26/26 [==============================] - 14s 545ms/step - loss: 732.0895 - mae: 11.1396 - mse: 732.0895 - val_loss: 382.6871 - val_mae: 13.2500 - val_mse: 382.6871\n",
            "Epoch 35/100\n",
            "26/26 [==============================] - 14s 553ms/step - loss: 729.5295 - mae: 11.1841 - mse: 729.5295 - val_loss: 382.1947 - val_mae: 13.2289 - val_mse: 382.1947\n",
            "Epoch 36/100\n",
            "26/26 [==============================] - 14s 550ms/step - loss: 729.3080 - mae: 11.2988 - mse: 729.3080 - val_loss: 388.4517 - val_mae: 13.3557 - val_mse: 388.4517\n",
            "Epoch 37/100\n",
            "26/26 [==============================] - 14s 554ms/step - loss: 721.2880 - mae: 11.1133 - mse: 721.2880 - val_loss: 384.9847 - val_mae: 13.2763 - val_mse: 384.9847\n",
            "Epoch 38/100\n",
            "26/26 [==============================] - 14s 549ms/step - loss: 729.0429 - mae: 11.1427 - mse: 729.0429 - val_loss: 390.0342 - val_mae: 13.5038 - val_mse: 390.0342\n",
            "Epoch 39/100\n",
            "26/26 [==============================] - 14s 548ms/step - loss: 722.3706 - mae: 11.1886 - mse: 722.3706 - val_loss: 383.9257 - val_mae: 13.2802 - val_mse: 383.9257\n",
            "Epoch 40/100\n",
            "26/26 [==============================] - 15s 568ms/step - loss: 715.0439 - mae: 11.0438 - mse: 715.0439 - val_loss: 383.4819 - val_mae: 13.1984 - val_mse: 383.4819\n",
            "Epoch 41/100\n",
            "26/26 [==============================] - 14s 546ms/step - loss: 712.8465 - mae: 11.1958 - mse: 712.8465 - val_loss: 391.8681 - val_mae: 13.4181 - val_mse: 391.8681\n",
            "Epoch 42/100\n",
            "26/26 [==============================] - 14s 542ms/step - loss: 708.7798 - mae: 11.1008 - mse: 708.7798 - val_loss: 388.4870 - val_mae: 13.3254 - val_mse: 388.4870\n",
            "Epoch 43/100\n",
            "26/26 [==============================] - 14s 551ms/step - loss: 707.3585 - mae: 11.0353 - mse: 707.3585 - val_loss: 401.7996 - val_mae: 13.7590 - val_mse: 401.7996\n",
            "Epoch 44/100\n",
            "26/26 [==============================] - 14s 543ms/step - loss: 703.5181 - mae: 11.0765 - mse: 703.5181 - val_loss: 407.8670 - val_mae: 13.7282 - val_mse: 407.8670\n",
            "Epoch 45/100\n",
            "26/26 [==============================] - 14s 552ms/step - loss: 696.5212 - mae: 11.0214 - mse: 696.5212 - val_loss: 415.3202 - val_mae: 13.9936 - val_mse: 415.3202\n",
            "Epoch 46/100\n",
            "26/26 [==============================] - 14s 551ms/step - loss: 696.4822 - mae: 11.0970 - mse: 696.4822 - val_loss: 405.5799 - val_mae: 13.7439 - val_mse: 405.5799\n",
            "Epoch 47/100\n",
            "26/26 [==============================] - 14s 547ms/step - loss: 689.3314 - mae: 10.9636 - mse: 689.3314 - val_loss: 407.0338 - val_mae: 13.7613 - val_mse: 407.0338\n",
            "Epoch 48/100\n",
            "26/26 [==============================] - 14s 557ms/step - loss: 686.6088 - mae: 11.0294 - mse: 686.6088 - val_loss: 406.4175 - val_mae: 13.7200 - val_mse: 406.4175\n",
            "Epoch 49/100\n",
            "26/26 [==============================] - 14s 554ms/step - loss: 692.3248 - mae: 11.1473 - mse: 692.3248 - val_loss: 410.0127 - val_mae: 13.9310 - val_mse: 410.0127\n",
            "Epoch 50/100\n",
            "26/26 [==============================] - 14s 554ms/step - loss: 684.9587 - mae: 11.1355 - mse: 684.9587 - val_loss: 426.5452 - val_mae: 14.2860 - val_mse: 426.5452\n",
            "Epoch 51/100\n",
            "26/26 [==============================] - 14s 557ms/step - loss: 679.9346 - mae: 10.9911 - mse: 679.9346 - val_loss: 430.0400 - val_mae: 14.3090 - val_mse: 430.0400\n",
            "Epoch 52/100\n",
            "26/26 [==============================] - 14s 557ms/step - loss: 677.6749 - mae: 11.0726 - mse: 677.6749 - val_loss: 436.5925 - val_mae: 14.4514 - val_mse: 436.5925\n",
            "Epoch 53/100\n",
            "26/26 [==============================] - 14s 555ms/step - loss: 672.0300 - mae: 10.9752 - mse: 672.0300 - val_loss: 436.4014 - val_mae: 14.3841 - val_mse: 436.4014\n",
            "Epoch 54/100\n",
            "26/26 [==============================] - 14s 561ms/step - loss: 670.1295 - mae: 11.0793 - mse: 670.1295 - val_loss: 429.8479 - val_mae: 14.2478 - val_mse: 429.8479\n",
            "Epoch 55/100\n",
            "26/26 [==============================] - 14s 555ms/step - loss: 660.6475 - mae: 10.8509 - mse: 660.6475 - val_loss: 429.3243 - val_mae: 14.2443 - val_mse: 429.3243\n",
            "Epoch 56/100\n",
            "26/26 [==============================] - 15s 562ms/step - loss: 665.0210 - mae: 10.9867 - mse: 665.0210 - val_loss: 440.6987 - val_mae: 14.5190 - val_mse: 440.6987\n",
            "Epoch 57/100\n",
            "26/26 [==============================] - 14s 559ms/step - loss: 664.1286 - mae: 11.2186 - mse: 664.1286 - val_loss: 450.4221 - val_mae: 14.7439 - val_mse: 450.4221\n",
            "Epoch 58/100\n",
            "26/26 [==============================] - 15s 566ms/step - loss: 654.5248 - mae: 10.9565 - mse: 654.5248 - val_loss: 448.9137 - val_mae: 14.6713 - val_mse: 448.9137\n",
            "Epoch 59/100\n",
            "26/26 [==============================] - 14s 560ms/step - loss: 654.4227 - mae: 10.8663 - mse: 654.4227 - val_loss: 447.1907 - val_mae: 14.5302 - val_mse: 447.1907\n",
            "Epoch 60/100\n",
            "26/26 [==============================] - 15s 570ms/step - loss: 648.4285 - mae: 10.9052 - mse: 648.4285 - val_loss: 448.2372 - val_mae: 14.6094 - val_mse: 448.2372\n",
            "Epoch 61/100\n",
            "26/26 [==============================] - 15s 563ms/step - loss: 647.1189 - mae: 10.8787 - mse: 647.1189 - val_loss: 459.4771 - val_mae: 14.8222 - val_mse: 459.4771\n",
            "Epoch 62/100\n",
            "26/26 [==============================] - 15s 576ms/step - loss: 638.4615 - mae: 10.8384 - mse: 638.4615 - val_loss: 461.3325 - val_mae: 14.9266 - val_mse: 461.3325\n",
            "Epoch 63/100\n",
            "26/26 [==============================] - 15s 588ms/step - loss: 643.1106 - mae: 11.0036 - mse: 643.1106 - val_loss: 469.8204 - val_mae: 15.1089 - val_mse: 469.8204\n",
            "Epoch 64/100\n",
            "26/26 [==============================] - 15s 577ms/step - loss: 631.9952 - mae: 10.8875 - mse: 631.9952 - val_loss: 459.2273 - val_mae: 14.8750 - val_mse: 459.2273\n",
            "Epoch 65/100\n",
            "26/26 [==============================] - 15s 570ms/step - loss: 628.7943 - mae: 10.7734 - mse: 628.7943 - val_loss: 495.0698 - val_mae: 15.8378 - val_mse: 495.0698\n",
            "Epoch 66/100\n",
            "26/26 [==============================] - 14s 557ms/step - loss: 627.3196 - mae: 10.9275 - mse: 627.3196 - val_loss: 454.5954 - val_mae: 14.7556 - val_mse: 454.5954\n",
            "Epoch 67/100\n",
            "26/26 [==============================] - 15s 565ms/step - loss: 642.8906 - mae: 11.2748 - mse: 642.8906 - val_loss: 480.5652 - val_mae: 15.2507 - val_mse: 480.5652\n",
            "Epoch 68/100\n",
            "26/26 [==============================] - 15s 564ms/step - loss: 622.2735 - mae: 10.8282 - mse: 622.2735 - val_loss: 471.8795 - val_mae: 15.0989 - val_mse: 471.8795\n",
            "Epoch 69/100\n",
            "26/26 [==============================] - 15s 565ms/step - loss: 618.7512 - mae: 10.8368 - mse: 618.7512 - val_loss: 490.8354 - val_mae: 15.4914 - val_mse: 490.8354\n",
            "Epoch 70/100\n",
            "26/26 [==============================] - 15s 573ms/step - loss: 612.8721 - mae: 10.6438 - mse: 612.8721 - val_loss: 490.8750 - val_mae: 15.6590 - val_mse: 490.8750\n",
            "Epoch 71/100\n",
            "26/26 [==============================] - 15s 568ms/step - loss: 613.9777 - mae: 10.8544 - mse: 613.9777 - val_loss: 499.7111 - val_mae: 15.6120 - val_mse: 499.7111\n",
            "Epoch 72/100\n",
            "26/26 [==============================] - 15s 572ms/step - loss: 619.4739 - mae: 10.8074 - mse: 619.4739 - val_loss: 499.3002 - val_mae: 15.9110 - val_mse: 499.3002\n",
            "Epoch 73/100\n",
            "26/26 [==============================] - 15s 577ms/step - loss: 632.8878 - mae: 10.8806 - mse: 632.8878 - val_loss: 542.2305 - val_mae: 16.8898 - val_mse: 542.2305\n",
            "Epoch 74/100\n",
            "26/26 [==============================] - 15s 586ms/step - loss: 617.7482 - mae: 10.8911 - mse: 617.7482 - val_loss: 535.3771 - val_mae: 16.3587 - val_mse: 535.3771\n",
            "Epoch 75/100\n",
            "26/26 [==============================] - 15s 589ms/step - loss: 604.6147 - mae: 10.7946 - mse: 604.6147 - val_loss: 499.5401 - val_mae: 15.5784 - val_mse: 499.5401\n",
            "Epoch 76/100\n",
            "26/26 [==============================] - 15s 593ms/step - loss: 601.0328 - mae: 10.5337 - mse: 601.0328 - val_loss: 526.0058 - val_mae: 16.1978 - val_mse: 526.0058\n",
            "Epoch 77/100\n",
            "26/26 [==============================] - 15s 580ms/step - loss: 601.6179 - mae: 10.6042 - mse: 601.6179 - val_loss: 502.8454 - val_mae: 15.7853 - val_mse: 502.8454\n",
            "Epoch 78/100\n",
            "26/26 [==============================] - 15s 575ms/step - loss: 598.1189 - mae: 10.6323 - mse: 598.1189 - val_loss: 526.9246 - val_mae: 16.2571 - val_mse: 526.9246\n",
            "Epoch 79/100\n",
            "26/26 [==============================] - 15s 572ms/step - loss: 590.5275 - mae: 10.4852 - mse: 590.5275 - val_loss: 518.0828 - val_mae: 16.1246 - val_mse: 518.0828\n",
            "Epoch 80/100\n",
            "26/26 [==============================] - 15s 586ms/step - loss: 588.1973 - mae: 10.4484 - mse: 588.1973 - val_loss: 561.9111 - val_mae: 17.0688 - val_mse: 561.9111\n",
            "Epoch 81/100\n",
            "26/26 [==============================] - 15s 573ms/step - loss: 596.2043 - mae: 10.8553 - mse: 596.2043 - val_loss: 537.3901 - val_mae: 16.4214 - val_mse: 537.3901\n",
            "Epoch 82/100\n",
            "26/26 [==============================] - 14s 559ms/step - loss: 588.9844 - mae: 10.5139 - mse: 588.9844 - val_loss: 542.0947 - val_mae: 16.6402 - val_mse: 542.0947\n",
            "Epoch 83/100\n",
            "26/26 [==============================] - 15s 564ms/step - loss: 598.1679 - mae: 10.5116 - mse: 598.1679 - val_loss: 503.2284 - val_mae: 15.9574 - val_mse: 503.2284\n",
            "Epoch 84/100\n",
            "26/26 [==============================] - 15s 566ms/step - loss: 591.5786 - mae: 10.4769 - mse: 591.5786 - val_loss: 575.9164 - val_mae: 17.2000 - val_mse: 575.9164\n",
            "Epoch 85/100\n",
            "26/26 [==============================] - 15s 567ms/step - loss: 582.8775 - mae: 10.4417 - mse: 582.8775 - val_loss: 595.3542 - val_mae: 17.5215 - val_mse: 595.3542\n",
            "Epoch 86/100\n",
            "26/26 [==============================] - 15s 561ms/step - loss: 590.7593 - mae: 10.4579 - mse: 590.7593 - val_loss: 553.4337 - val_mae: 16.8314 - val_mse: 553.4337\n",
            "Epoch 87/100\n",
            "26/26 [==============================] - 15s 566ms/step - loss: 575.2810 - mae: 10.2844 - mse: 575.2810 - val_loss: 567.2173 - val_mae: 17.0359 - val_mse: 567.2173\n",
            "Epoch 88/100\n",
            "26/26 [==============================] - 14s 556ms/step - loss: 578.4977 - mae: 10.3155 - mse: 578.4977 - val_loss: 600.0829 - val_mae: 17.8426 - val_mse: 600.0829\n",
            "Epoch 89/100\n",
            "26/26 [==============================] - 14s 553ms/step - loss: 586.0079 - mae: 10.3595 - mse: 586.0079 - val_loss: 611.3776 - val_mae: 17.8897 - val_mse: 611.3776\n",
            "Epoch 90/100\n",
            "26/26 [==============================] - 14s 553ms/step - loss: 577.8353 - mae: 10.4653 - mse: 577.8353 - val_loss: 545.7639 - val_mae: 16.9384 - val_mse: 545.7639\n",
            "Epoch 91/100\n",
            "26/26 [==============================] - 14s 554ms/step - loss: 578.9737 - mae: 10.4658 - mse: 578.9737 - val_loss: 563.4810 - val_mae: 17.0230 - val_mse: 563.4810\n",
            "Epoch 92/100\n",
            "26/26 [==============================] - 14s 554ms/step - loss: 580.7440 - mae: 10.3376 - mse: 580.7440 - val_loss: 630.1318 - val_mae: 18.0837 - val_mse: 630.1318\n",
            "Epoch 93/100\n",
            "26/26 [==============================] - 15s 561ms/step - loss: 574.4071 - mae: 10.2337 - mse: 574.4071 - val_loss: 605.8161 - val_mae: 17.7376 - val_mse: 605.8161\n",
            "Epoch 94/100\n",
            "26/26 [==============================] - 14s 559ms/step - loss: 565.5231 - mae: 10.0165 - mse: 565.5231 - val_loss: 630.5560 - val_mae: 18.2007 - val_mse: 630.5560\n",
            "Epoch 95/100\n",
            "26/26 [==============================] - 14s 560ms/step - loss: 567.9966 - mae: 10.0976 - mse: 567.9966 - val_loss: 605.3486 - val_mae: 17.6870 - val_mse: 605.3486\n",
            "Epoch 96/100\n",
            "26/26 [==============================] - 14s 549ms/step - loss: 572.9484 - mae: 10.0024 - mse: 572.9484 - val_loss: 579.0021 - val_mae: 17.2890 - val_mse: 579.0021\n",
            "Epoch 97/100\n",
            "26/26 [==============================] - 14s 556ms/step - loss: 567.6969 - mae: 10.0917 - mse: 567.6969 - val_loss: 571.8036 - val_mae: 17.0028 - val_mse: 571.8036\n",
            "Epoch 98/100\n",
            "26/26 [==============================] - 14s 554ms/step - loss: 575.3136 - mae: 10.2580 - mse: 575.3136 - val_loss: 570.4017 - val_mae: 16.8828 - val_mse: 570.4017\n",
            "Epoch 99/100\n",
            "26/26 [==============================] - 15s 561ms/step - loss: 563.9006 - mae: 10.0385 - mse: 563.9006 - val_loss: 586.6213 - val_mae: 17.3120 - val_mse: 586.6213\n",
            "Epoch 100/100\n",
            "26/26 [==============================] - 15s 560ms/step - loss: 564.7791 - mae: 9.9627 - mse: 564.7791 - val_loss: 580.4663 - val_mae: 17.2748 - val_mse: 580.4663\n"
          ]
        }
      ]
    },
    {
      "cell_type": "markdown",
      "source": [
        "Predictions\n",
        "\n"
      ],
      "metadata": {
        "id": "ykyI87uZAFYU"
      }
    },
    {
      "cell_type": "code",
      "source": [
        "train_idx[:T+1]=False"
      ],
      "metadata": {
        "id": "k0XDQv2l-_2x"
      },
      "execution_count": 74,
      "outputs": []
    },
    {
      "cell_type": "code",
      "source": [
        "Ptrain_lstm_cnn=model_lstm_cnn.predict(Xtrain).flatten()\n",
        "Ptest_lstm_cnn=model_lstm_cnn.predict(Xtest).flatten()"
      ],
      "metadata": {
        "id": "wJ3J-Cvv_oLA"
      },
      "execution_count": 75,
      "outputs": []
    },
    {
      "cell_type": "code",
      "source": [
        "Ptrain_lstm_gru=model_lstm_gru.predict(Xtrain).flatten()\n",
        "Ptest_lstm_gru=model_lstm_gru.predict(Xtest).flatten()"
      ],
      "metadata": {
        "id": "r9GuOYr-_oRf"
      },
      "execution_count": 76,
      "outputs": []
    },
    {
      "cell_type": "code",
      "source": [
        "df.loc[train_idx,'Diff LSTM+CNN train prediction']=Ptrain_lstm_cnn\n",
        "df.loc[test_idx,'Diff LSTM+CNN test prediction']=Ptest_lstm_cnn"
      ],
      "metadata": {
        "id": "-ZvHYeDl_oYI"
      },
      "execution_count": 77,
      "outputs": []
    },
    {
      "cell_type": "code",
      "source": [
        "df.loc[train_idx,'Diff LSTM+GRU train prediction']=Ptrain_lstm_gru\n",
        "df.loc[test_idx,'Diff LSTM+GRU test prediction']=Ptest_lstm_gru"
      ],
      "metadata": {
        "id": "h0xk_CKv_7mw"
      },
      "execution_count": 78,
      "outputs": []
    },
    {
      "cell_type": "code",
      "source": [
        "df['Shift Prev Close']=df['Prev Close'].shift(1)\n",
        "prev=df['Shift Prev Close']"
      ],
      "metadata": {
        "id": "-9ekKxJr_7pu"
      },
      "execution_count": 79,
      "outputs": []
    },
    {
      "cell_type": "code",
      "source": [
        "last_train=train.iloc[-1]['Prev Close']"
      ],
      "metadata": {
        "id": "Qd-4VnON_7tL"
      },
      "execution_count": 80,
      "outputs": []
    },
    {
      "cell_type": "code",
      "source": [
        "df.loc[train_idx,'train_LSTM_CNN']=prev[train_idx]+Ptrain_lstm_cnn\n",
        "df.loc[test_idx,'Prediction_LSTM_CNN']=prev[test_idx]+Ptest_lstm_cnn"
      ],
      "metadata": {
        "id": "wIUM_MvYALoR"
      },
      "execution_count": 81,
      "outputs": []
    },
    {
      "cell_type": "code",
      "source": [
        "df.loc[train_idx,'train_LSTM_GRU']=prev[train_idx]+Ptrain_lstm_gru\n",
        "df.loc[test_idx,'Prediction_LSTM_GRU']=prev[test_idx]+Ptest_lstm_gru"
      ],
      "metadata": {
        "id": "4dA6pDYTANWK"
      },
      "execution_count": 82,
      "outputs": []
    },
    {
      "cell_type": "code",
      "source": [
        "df[['Prev Close' ,'Prediction_LSTM_CNN','Prediction_LSTM_GRU']].plot(figsize=(15,10));"
      ],
      "metadata": {
        "colab": {
          "base_uri": "https://localhost:8080/",
          "height": 416
        },
        "id": "f8KVkcj8AaPm",
        "outputId": "36c5ae99-9e75-44a7-b605-bd17ce74bb1d"
      },
      "execution_count": 83,
      "outputs": [
        {
          "output_type": "display_data",
          "data": {
            "text/plain": [
              "<Figure size 1080x720 with 1 Axes>"
            ],
            "image/png": "[encoded data removed]"
          },
          "metadata": {
            "needs_background": "light"
          }
        }
      ]
    },
    {
      "cell_type": "code",
      "source": [
        "df[['Prediction_LSTM_CNN','Prediction_LSTM_GRU']].plot(figsize=(15,10));"
      ],
      "metadata": {
        "colab": {
          "base_uri": "https://localhost:8080/",
          "height": 422
        },
        "id": "ZYDW87n5Anf9",
        "outputId": "5d4b1484-8953-492d-f4d6-c6c9939a3f82"
      },
      "execution_count": 84,
      "outputs": [
        {
          "output_type": "display_data",
          "data": {
            "text/plain": [
              "<Figure size 1080x720 with 1 Axes>"
            ],
            "image/png": "[encoded data removed]"
          },
          "metadata": {
            "needs_background": "light"
          }
        }
      ]
    },
    {
      "cell_type": "code",
      "source": [
        "pred_lstm_cnn=df['Prediction_LSTM_CNN']\n",
        "pred_lstm_cnn.dropna(inplace=True)"
      ],
      "metadata": {
        "id": "gj8xug0lAxWl"
      },
      "execution_count": 85,
      "outputs": []
    },
    {
      "cell_type": "code",
      "source": [
        "rmse=math.sqrt(mean_squared_error(test['Prev Close'],pred_lstm_cnn))\n",
        "print(rmse)"
      ],
      "metadata": {
        "colab": {
          "base_uri": "https://localhost:8080/"
        },
        "id": "rakkuhBuA-qw",
        "outputId": "dcc594d8-f866-4cc2-fef1-1ca95e4decdd"
      },
      "execution_count": 86,
      "outputs": [
        {
          "output_type": "stream",
          "name": "stdout",
          "text": [
            "18.44168190841707\n"
          ]
        }
      ]
    },
    {
      "cell_type": "code",
      "source": [
        "error=mean_absolute_error(test['Prev Close'],pred_lstm_cnn)\n",
        "print(error)"
      ],
      "metadata": {
        "colab": {
          "base_uri": "https://localhost:8080/"
        },
        "id": "9wztKO3rBHqx",
        "outputId": "34b48dfd-aba4-4379-8c99-a4898584b0eb"
      },
      "execution_count": 87,
      "outputs": [
        {
          "output_type": "stream",
          "name": "stdout",
          "text": [
            "12.553676348737868\n"
          ]
        }
      ]
    },
    {
      "cell_type": "code",
      "source": [
        "r2_score(test['Prev Close'],pred_lstm_cnn)"
      ],
      "metadata": {
        "colab": {
          "base_uri": "https://localhost:8080/"
        },
        "id": "OXbq8UpSBH9g",
        "outputId": "3c7dbd4b-55a8-47be-e8f7-04a2886944b1"
      },
      "execution_count": 88,
      "outputs": [
        {
          "output_type": "execute_result",
          "data": {
            "text/plain": [
              "0.9876101205144849"
            ]
          },
          "metadata": {},
          "execution_count": 88
        }
      ]
    },
    {
      "cell_type": "code",
      "source": [
        "pred_lstm_gru=df['Prediction_LSTM_GRU']\n",
        "pred_lstm_gru.dropna(inplace=True)"
      ],
      "metadata": {
        "id": "kaOiSQKJBRUU"
      },
      "execution_count": 89,
      "outputs": []
    },
    {
      "cell_type": "code",
      "source": [
        "rmse=math.sqrt(mean_squared_error(test['Prev Close'],pred_lstm_cnn))\n",
        "print(rmse)"
      ],
      "metadata": {
        "colab": {
          "base_uri": "https://localhost:8080/"
        },
        "id": "7UBA8PW2BRex",
        "outputId": "0ee72507-16f7-4763-d207-82c95e94b125"
      },
      "execution_count": 90,
      "outputs": [
        {
          "output_type": "stream",
          "name": "stdout",
          "text": [
            "18.44168190841707\n"
          ]
        }
      ]
    },
    {
      "cell_type": "code",
      "source": [
        "error=mean_absolute_error(test['Prev Close'],pred_lstm_gru)\n",
        "print(error)"
      ],
      "metadata": {
        "colab": {
          "base_uri": "https://localhost:8080/"
        },
        "id": "9zf0Qkl4BRo1",
        "outputId": "1166c03a-1d8e-499c-ad9f-0fbdf5843aaf"
      },
      "execution_count": 91,
      "outputs": [
        {
          "output_type": "stream",
          "name": "stdout",
          "text": [
            "17.274777906777643\n"
          ]
        }
      ]
    },
    {
      "cell_type": "code",
      "source": [
        "r2_score(test['Prev Close'],pred_lstm_gru)"
      ],
      "metadata": {
        "colab": {
          "base_uri": "https://localhost:8080/"
        },
        "id": "2TgbreYrBRzp",
        "outputId": "2b8ec250-c8bf-4767-a3e9-0edfaa020b53"
      },
      "execution_count": 92,
      "outputs": [
        {
          "output_type": "execute_result",
          "data": {
            "text/plain": [
              "0.9788532773415018"
            ]
          },
          "metadata": {},
          "execution_count": 92
        }
      ]
    },
    {
      "cell_type": "code",
      "source": [],
      "metadata": {
        "id": "E7qIDFyEBlEl"
      },
      "execution_count": 92,
      "outputs": []
    }
  ]
}